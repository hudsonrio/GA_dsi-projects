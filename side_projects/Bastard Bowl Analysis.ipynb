{
 "cells": [
  {
   "cell_type": "code",
   "execution_count": 27,
   "metadata": {
    "collapsed": false
   },
   "outputs": [
    {
     "data": {
      "text/html": [
       "<div>\n",
       "<table border=\"1\" class=\"dataframe\">\n",
       "  <thead>\n",
       "    <tr style=\"text-align: right;\">\n",
       "      <th></th>\n",
       "      <th>Timestamp</th>\n",
       "      <th>NBA</th>\n",
       "      <th>*jon killed by*</th>\n",
       "      <th>*ramsay killed by*</th>\n",
       "      <th>*pick any three*</th>\n",
       "      <th>who scores most?</th>\n",
       "      <th>What's ur name?</th>\n",
       "    </tr>\n",
       "  </thead>\n",
       "  <tbody>\n",
       "    <tr>\n",
       "      <th>0</th>\n",
       "      <td>6/19/2016 20:07:37</td>\n",
       "      <td>Cavs (+4.5)</td>\n",
       "      <td>no one</td>\n",
       "      <td>Littlefinger</td>\n",
       "      <td>Littlefinger shows up, Rickon gets killed, Dav...</td>\n",
       "      <td>kevin love</td>\n",
       "      <td>Abby</td>\n",
       "    </tr>\n",
       "    <tr>\n",
       "      <th>1</th>\n",
       "      <td>6/19/2016 20:13:52</td>\n",
       "      <td>Cavs (+4.5)</td>\n",
       "      <td>Jaime</td>\n",
       "      <td>His dogs</td>\n",
       "      <td>sansa kills Littlefinger, A dragon kills someo...</td>\n",
       "      <td>kevin love</td>\n",
       "      <td>Lebo</td>\n",
       "    </tr>\n",
       "    <tr>\n",
       "      <th>2</th>\n",
       "      <td>6/19/2016 20:15:22</td>\n",
       "      <td>Cavs (+4.5)</td>\n",
       "      <td>no one</td>\n",
       "      <td>Giant</td>\n",
       "      <td>Littlefinger shows up, Bran visits the battle ...</td>\n",
       "      <td>richard jefferson</td>\n",
       "      <td>Ashdaddy</td>\n",
       "    </tr>\n",
       "    <tr>\n",
       "      <th>3</th>\n",
       "      <td>6/19/2016 20:17:02</td>\n",
       "      <td>Warriors(-4.5)</td>\n",
       "      <td>no one</td>\n",
       "      <td>Brienne</td>\n",
       "      <td>Jamie saves the stark army, A dragon kills som...</td>\n",
       "      <td>leandro barbosa + anderson varejao</td>\n",
       "      <td>Nathan</td>\n",
       "    </tr>\n",
       "    <tr>\n",
       "      <th>4</th>\n",
       "      <td>6/19/2016 20:18:21</td>\n",
       "      <td>Cavs (+4.5)</td>\n",
       "      <td>no one</td>\n",
       "      <td>Sansa</td>\n",
       "      <td>Brienne dies, A dragon kills someone, We find ...</td>\n",
       "      <td>kevin love</td>\n",
       "      <td>Paulie</td>\n",
       "    </tr>\n",
       "  </tbody>\n",
       "</table>\n",
       "</div>"
      ],
      "text/plain": [
       "            Timestamp             NBA *jon killed by* *ramsay killed by*  \\\n",
       "0  6/19/2016 20:07:37     Cavs (+4.5)          no one       Littlefinger   \n",
       "1  6/19/2016 20:13:52     Cavs (+4.5)           Jaime           His dogs   \n",
       "2  6/19/2016 20:15:22     Cavs (+4.5)          no one              Giant   \n",
       "3  6/19/2016 20:17:02  Warriors(-4.5)          no one            Brienne   \n",
       "4  6/19/2016 20:18:21     Cavs (+4.5)          no one              Sansa   \n",
       "\n",
       "                                    *pick any three*  \\\n",
       "0  Littlefinger shows up, Rickon gets killed, Dav...   \n",
       "1  sansa kills Littlefinger, A dragon kills someo...   \n",
       "2  Littlefinger shows up, Bran visits the battle ...   \n",
       "3  Jamie saves the stark army, A dragon kills som...   \n",
       "4  Brienne dies, A dragon kills someone, We find ...   \n",
       "\n",
       "                     who scores most? What's ur name?  \n",
       "0                          kevin love            Abby  \n",
       "1                          kevin love            Lebo  \n",
       "2                   richard jefferson        Ashdaddy  \n",
       "3  leandro barbosa + anderson varejao          Nathan  \n",
       "4                          kevin love          Paulie  "
      ]
     },
     "execution_count": 27,
     "metadata": {},
     "output_type": "execute_result"
    }
   ],
   "source": [
    "import pandas as pd\n",
    "import numpy as np\n",
    "import matplotlib.pyplot as plt\n",
    "import collections\n",
    "import seaborn as sns\n",
    "import os \n",
    "import random\n",
    "\n",
    "%matplotlib inline\n",
    "\n",
    "os.getcwd()\n",
    "dat = pd.read_csv(\"/Users/HudsonCavanagh/dsi-projects/side_projects/bastard_bowl-analysis.csv\")\n",
    "bb = pd.DataFrame(dat)\n",
    "bb.head()"
   ]
  },
  {
   "cell_type": "code",
   "execution_count": 33,
   "metadata": {
    "collapsed": false
   },
   "outputs": [],
   "source": [
    "solutions = {'NBA':'Cavs (+4.5)', '*jon killed by*': 'no one', '*ramsay killed by*': 'His dogs', 'who scores most?':'harrison barnes'}\n",
    "any_three = {'True': ['Littlefinger shows up', 'The giant dies', 'The giant kills more than 10 people', 'Rickon gets killed','Davos finds out what happened to Shireen', 'A dragon kills someone','The other two dragons show up','Reference to wildfire'],\n",
    "             'False': ['A walker shows up', 'Jamie saves the stark army', 'Brienne dies', 'sansa kills Littlefinger', 'Ramsay feeds someone to the dogs', 'And kills himself', 'The hound joins the fight', 'arya joins the fight ', 'Sam Tarley makes an appearance', 'Littlefinger turns on Sansa', \"We find out Varys' secret mission\", 'A Direwolf appears', 'Bran visits the past', 'Bran visits the future', 'Bran visits the battle itself', 'Tormund dies', 'Brienne dies', 'Lady Mormont does something badass', 'Lady Mormont dies', 'Jorah shows up']}"
   ]
  },
  {
   "cell_type": "code",
   "execution_count": 30,
   "metadata": {
    "collapsed": false
   },
   "outputs": [
    {
     "ename": "IndexError",
     "evalue": "too many indices for array",
     "output_type": "error",
     "traceback": [
      "\u001b[0;31m---------------------------------------------------------------------------\u001b[0m",
      "\u001b[0;31mIndexError\u001b[0m                                Traceback (most recent call last)",
      "\u001b[0;32m<ipython-input-30-369a1d7b3a47>\u001b[0m in \u001b[0;36m<module>\u001b[0;34m()\u001b[0m\n\u001b[1;32m     12\u001b[0m \u001b[0;34m\u001b[0m\u001b[0m\n\u001b[1;32m     13\u001b[0m \u001b[0;34m\u001b[0m\u001b[0m\n\u001b[0;32m---> 14\u001b[0;31m \u001b[0mtruther2\u001b[0m\u001b[0;34m(\u001b[0m\u001b[0mbb\u001b[0m\u001b[0;34m)\u001b[0m\u001b[0;34m\u001b[0m\u001b[0m\n\u001b[0m",
      "\u001b[0;32m<ipython-input-30-369a1d7b3a47>\u001b[0m in \u001b[0;36mtruther2\u001b[0;34m(list)\u001b[0m\n\u001b[1;32m      3\u001b[0m     \u001b[0;32mfor\u001b[0m \u001b[0mi\u001b[0m \u001b[0;32min\u001b[0m \u001b[0mbb\u001b[0m\u001b[0;34m[\u001b[0m\u001b[0;34m\"What's ur name?\"\u001b[0m\u001b[0;34m]\u001b[0m\u001b[0;34m.\u001b[0m\u001b[0munique\u001b[0m\u001b[0;34m(\u001b[0m\u001b[0;34m)\u001b[0m\u001b[0;34m:\u001b[0m\u001b[0;34m\u001b[0m\u001b[0m\n\u001b[1;32m      4\u001b[0m         \u001b[0mscores\u001b[0m \u001b[0;34m=\u001b[0m \u001b[0mcollections\u001b[0m\u001b[0;34m.\u001b[0m\u001b[0mCounter\u001b[0m\u001b[0;34m(\u001b[0m\u001b[0;34m)\u001b[0m\u001b[0;34m\u001b[0m\u001b[0m\n\u001b[0;32m----> 5\u001b[0;31m         \u001b[0;32mfor\u001b[0m \u001b[0mh\u001b[0m \u001b[0;32min\u001b[0m \u001b[0mbb\u001b[0m\u001b[0;34m.\u001b[0m\u001b[0mcolumns\u001b[0m\u001b[0;34m[\u001b[0m\u001b[0;36m1\u001b[0m\u001b[0;34m:\u001b[0m\u001b[0;36m3\u001b[0m\u001b[0;34m,\u001b[0m\u001b[0;36m4\u001b[0m\u001b[0;34m]\u001b[0m\u001b[0;34m:\u001b[0m\u001b[0;31m#iloc[:,0]\u001b[0m\u001b[0;34m\u001b[0m\u001b[0m\n\u001b[0m\u001b[1;32m      6\u001b[0m             \u001b[0;32mif\u001b[0m \u001b[0mbb\u001b[0m\u001b[0;34m[\u001b[0m\u001b[0;34m'h'\u001b[0m\u001b[0;34m]\u001b[0m \u001b[0;34m==\u001b[0m \u001b[0msolutions\u001b[0m\u001b[0;34m[\u001b[0m\u001b[0;34m'h'\u001b[0m\u001b[0;34m]\u001b[0m\u001b[0;34m:\u001b[0m\u001b[0;34m\u001b[0m\u001b[0m\n\u001b[1;32m      7\u001b[0m                 \u001b[0mscores\u001b[0m \u001b[0;34m+=\u001b[0m \u001b[0;36m1\u001b[0m \u001b[0;31m#excludes any_three for now\u001b[0m\u001b[0;34m\u001b[0m\u001b[0m\n",
      "\u001b[0;32m/Users/HudsonCavanagh/anaconda/lib/python2.7/site-packages/pandas/core/index.pyc\u001b[0m in \u001b[0;36m__getitem__\u001b[0;34m(self, key)\u001b[0m\n\u001b[1;32m   1158\u001b[0m \u001b[0;34m\u001b[0m\u001b[0m\n\u001b[1;32m   1159\u001b[0m         \u001b[0mkey\u001b[0m \u001b[0;34m=\u001b[0m \u001b[0m_values_from_object\u001b[0m\u001b[0;34m(\u001b[0m\u001b[0mkey\u001b[0m\u001b[0;34m)\u001b[0m\u001b[0;34m\u001b[0m\u001b[0m\n\u001b[0;32m-> 1160\u001b[0;31m         \u001b[0mresult\u001b[0m \u001b[0;34m=\u001b[0m \u001b[0mgetitem\u001b[0m\u001b[0;34m(\u001b[0m\u001b[0mkey\u001b[0m\u001b[0;34m)\u001b[0m\u001b[0;34m\u001b[0m\u001b[0m\n\u001b[0m\u001b[1;32m   1161\u001b[0m         \u001b[0;32mif\u001b[0m \u001b[0;32mnot\u001b[0m \u001b[0mnp\u001b[0m\u001b[0;34m.\u001b[0m\u001b[0misscalar\u001b[0m\u001b[0;34m(\u001b[0m\u001b[0mresult\u001b[0m\u001b[0;34m)\u001b[0m\u001b[0;34m:\u001b[0m\u001b[0;34m\u001b[0m\u001b[0m\n\u001b[1;32m   1162\u001b[0m             \u001b[0;32mreturn\u001b[0m \u001b[0mpromote\u001b[0m\u001b[0;34m(\u001b[0m\u001b[0mresult\u001b[0m\u001b[0;34m)\u001b[0m\u001b[0;34m\u001b[0m\u001b[0m\n",
      "\u001b[0;31mIndexError\u001b[0m: too many indices for array"
     ]
    }
   ],
   "source": [
    "def truther2(list):\n",
    "    wins = [] #zip names and scores later\n",
    "    for i in bb[\"What's ur name?\"].unique():\n",
    "        scores = collections.Counter()\n",
    "        for h in bb.columns[1:3,4]:#iloc[:,0]\n",
    "            if bb['h'] == solutions['h']:\n",
    "                scores += 1 #excludes any_three for now\n",
    "        if bb[\"*pick any three*\"] in any_three[\"True\"]:\n",
    "            scores += 1\n",
    "        wins.append(bb[\"What's ur name?\"], scores)\n",
    "    print(wins)\n",
    "\n",
    "\n",
    "truther2(bb)"
   ]
  },
  {
   "cell_type": "code",
   "execution_count": 37,
   "metadata": {
    "collapsed": false
   },
   "outputs": [
    {
     "name": "stdout",
     "output_type": "stream",
     "text": [
      "(<class 'pandas.core.series.Series'>, <type 'str'>)\n"
     ]
    }
   ],
   "source": [
    "print(type(bb['NBA']), type(solutions['NBA']))"
   ]
  },
  {
   "cell_type": "code",
   "execution_count": 53,
   "metadata": {
    "collapsed": false
   },
   "outputs": [
    {
     "data": {
      "image/png": "[encoded data removed]",
      "text/plain": [
       "<matplotlib.figure.Figure at 0x11a0a4150>"
      ]
     },
     "metadata": {},
     "output_type": "display_data"
    }
   ],
   "source": [
    "def truther(list):\n",
    "    wins = [] #append names and scores later\n",
    "    for r, h in enumerate(bb[\"What's ur name?\"]):\n",
    "        score = []\n",
    "        if str(bb['NBA'][r]) == solutions['NBA']:\n",
    "            score.append(1) \n",
    "        if str(bb['*jon killed by*'][r]) == solutions['*jon killed by*']:\n",
    "            score.append(1) \n",
    "        if str(bb['*ramsay killed by*'][r]) == solutions['*ramsay killed by*']:\n",
    "            score.append(1) \n",
    "        if str(bb['who scores most?'][r]) == solutions['who scores most?']:\n",
    "            score.append(1)  \n",
    "        for i in str(bb[\"*pick any three*\"][r]):\n",
    "            if i in any_three[\"True\"]:\n",
    "                score.append(1)\n",
    "        wins.append([h, np.sum(score)])\n",
    "        win = pd.DataFrame(wins)\n",
    "    #print(win)\n",
    "    sns.barplot(x = win[0], y = win[1], data = win, palette=\"GnBu_d\")\n",
    "    \n",
    "    \n",
    "\n",
    "truther(bb)"
   ]
  },
  {
   "cell_type": "code",
   "execution_count": null,
   "metadata": {
    "collapsed": true
   },
   "outputs": [],
   "source": []
  }
 ],
 "metadata": {
  "kernelspec": {
   "display_name": "Python 2",
   "language": "python",
   "name": "python2"
  },
  "language_info": {
   "codemirror_mode": {
    "name": "ipython",
    "version": 2
   },
   "file_extension": ".py",
   "mimetype": "text/x-python",
   "name": "python",
   "nbconvert_exporter": "python",
   "pygments_lexer": "ipython2",
   "version": "2.7.11"
  }
 },
 "nbformat": 4,
 "nbformat_minor": 0
}
