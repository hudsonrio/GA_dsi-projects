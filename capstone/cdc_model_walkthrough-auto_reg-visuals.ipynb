{
 "cells": [
  {
   "cell_type": "code",
   "execution_count": null,
   "metadata": {
    "collapsed": true
   },
   "outputs": [],
   "source": []
  },
  {
   "cell_type": "code",
   "execution_count": 1,
   "metadata": {
    "collapsed": false
   },
   "outputs": [
    {
     "data": {
      "text/plain": [
       "'/Users/HudsonCavanagh/GA_dsi-projects/capstone'"
      ]
     },
     "execution_count": 1,
     "metadata": {},
     "output_type": "execute_result"
    }
   ],
   "source": [
    "import pandas as pd\n",
    "import numpy as np\n",
    "import sklearn\n",
    "import seaborn as sns\n",
    "import psycopg2 as psy\n",
    "import os \n",
    "import matplotlib.pyplot as plt\n",
    "import numpy as np\n",
    "import math\n",
    "from sklearn.decomposition import PCA \n",
    "from sklearn.cluster import KMeans\n",
    "from sklearn import metrics\n",
    "from matplotlib import *\n",
    "import sys\n",
    "from matplotlib import offsetbox\n",
    "from sklearn import (manifold, datasets, decomposition, ensemble,\n",
    "                     discriminant_analysis, random_projection)\n",
    "from sklearn import metrics\n",
    "from sklearn.cross_validation import cross_val_score, StratifiedKFold\n",
    "from sklearn.tree import DecisionTreeRegressor\n",
    "from sklearn.ensemble import RandomForestRegressor, ExtraTreesRegressor, BaggingRegressor\n",
    "\n",
    "%matplotlib inline\n",
    "\n",
    "os.getcwd()"
   ]
  },
  {
   "cell_type": "markdown",
   "metadata": {},
   "source": [
    "### In an ideal world, would need to go through this dataset and fix counties that have been renamed/ combined etc...\n",
    "\n",
    "https://www.census.gov/geo/reference/county-changes.html"
   ]
  },
  {
   "cell_type": "code",
   "execution_count": 2,
   "metadata": {
    "collapsed": false,
    "scrolled": true
   },
   "outputs": [
    {
     "data": {
      "text/html": [
       "<div>\n",
       "<table border=\"1\" class=\"dataframe\">\n",
       "  <thead>\n",
       "    <tr style=\"text-align: right;\">\n",
       "      <th></th>\n",
       "      <th>County</th>\n",
       "      <th>County Code</th>\n",
       "      <th>Ten-Year Age Groups</th>\n",
       "      <th>Ten-Year Age Groups Code</th>\n",
       "      <th>Gender</th>\n",
       "      <th>Gender Code</th>\n",
       "      <th>Race</th>\n",
       "      <th>Race Code</th>\n",
       "      <th>Hispanic Origin</th>\n",
       "      <th>Hispanic Origin Code</th>\n",
       "      <th>...</th>\n",
       "      <th>year</th>\n",
       "      <th>pct_total_deaths</th>\n",
       "      <th>deaths</th>\n",
       "      <th>population</th>\n",
       "      <th>crude_100k</th>\n",
       "      <th>county_id</th>\n",
       "      <th>state</th>\n",
       "      <th>county_code</th>\n",
       "      <th>CTYNAME</th>\n",
       "      <th>pop_merge_ind</th>\n",
       "    </tr>\n",
       "  </thead>\n",
       "  <tbody>\n",
       "    <tr>\n",
       "      <th>0</th>\n",
       "      <td>Jefferson County, AL</td>\n",
       "      <td>1073.0</td>\n",
       "      <td>15-24 years</td>\n",
       "      <td>15-24</td>\n",
       "      <td>Male</td>\n",
       "      <td>M</td>\n",
       "      <td>White</td>\n",
       "      <td>2106-3</td>\n",
       "      <td>Not Hispanic or Latino</td>\n",
       "      <td>2186-2</td>\n",
       "      <td>...</td>\n",
       "      <td>2014</td>\n",
       "      <td>0.027</td>\n",
       "      <td>11.0</td>\n",
       "      <td>19306.0</td>\n",
       "      <td>56.977106</td>\n",
       "      <td>1073</td>\n",
       "      <td>AL</td>\n",
       "      <td>1073</td>\n",
       "      <td>Jefferson County</td>\n",
       "      <td>Jefferson County_2014</td>\n",
       "    </tr>\n",
       "    <tr>\n",
       "      <th>1</th>\n",
       "      <td>Jefferson County, AL</td>\n",
       "      <td>1073.0</td>\n",
       "      <td>25-34 years</td>\n",
       "      <td>25-34</td>\n",
       "      <td>Female</td>\n",
       "      <td>F</td>\n",
       "      <td>White</td>\n",
       "      <td>2106-3</td>\n",
       "      <td>Not Hispanic or Latino</td>\n",
       "      <td>2186-2</td>\n",
       "      <td>...</td>\n",
       "      <td>2014</td>\n",
       "      <td>0.039</td>\n",
       "      <td>16.0</td>\n",
       "      <td>23590.0</td>\n",
       "      <td>67.825350</td>\n",
       "      <td>1073</td>\n",
       "      <td>AL</td>\n",
       "      <td>1073</td>\n",
       "      <td>Jefferson County</td>\n",
       "      <td>Jefferson County_2014</td>\n",
       "    </tr>\n",
       "    <tr>\n",
       "      <th>2</th>\n",
       "      <td>Jefferson County, AL</td>\n",
       "      <td>1073.0</td>\n",
       "      <td>25-34 years</td>\n",
       "      <td>25-34</td>\n",
       "      <td>Male</td>\n",
       "      <td>M</td>\n",
       "      <td>White</td>\n",
       "      <td>2106-3</td>\n",
       "      <td>Not Hispanic or Latino</td>\n",
       "      <td>2186-2</td>\n",
       "      <td>...</td>\n",
       "      <td>2014</td>\n",
       "      <td>0.065</td>\n",
       "      <td>27.0</td>\n",
       "      <td>22917.0</td>\n",
       "      <td>117.816468</td>\n",
       "      <td>1073</td>\n",
       "      <td>AL</td>\n",
       "      <td>1073</td>\n",
       "      <td>Jefferson County</td>\n",
       "      <td>Jefferson County_2014</td>\n",
       "    </tr>\n",
       "    <tr>\n",
       "      <th>3</th>\n",
       "      <td>Jefferson County, AL</td>\n",
       "      <td>1073.0</td>\n",
       "      <td>35-44 years</td>\n",
       "      <td>35-44</td>\n",
       "      <td>Female</td>\n",
       "      <td>F</td>\n",
       "      <td>White</td>\n",
       "      <td>2106-3</td>\n",
       "      <td>Not Hispanic or Latino</td>\n",
       "      <td>2186-2</td>\n",
       "      <td>...</td>\n",
       "      <td>2014</td>\n",
       "      <td>0.053</td>\n",
       "      <td>22.0</td>\n",
       "      <td>20774.0</td>\n",
       "      <td>105.901608</td>\n",
       "      <td>1073</td>\n",
       "      <td>AL</td>\n",
       "      <td>1073</td>\n",
       "      <td>Jefferson County</td>\n",
       "      <td>Jefferson County_2014</td>\n",
       "    </tr>\n",
       "    <tr>\n",
       "      <th>4</th>\n",
       "      <td>Jefferson County, AL</td>\n",
       "      <td>1073.0</td>\n",
       "      <td>35-44 years</td>\n",
       "      <td>35-44</td>\n",
       "      <td>Male</td>\n",
       "      <td>M</td>\n",
       "      <td>White</td>\n",
       "      <td>2106-3</td>\n",
       "      <td>Not Hispanic or Latino</td>\n",
       "      <td>2186-2</td>\n",
       "      <td>...</td>\n",
       "      <td>2014</td>\n",
       "      <td>0.063</td>\n",
       "      <td>26.0</td>\n",
       "      <td>21104.0</td>\n",
       "      <td>123.199393</td>\n",
       "      <td>1073</td>\n",
       "      <td>AL</td>\n",
       "      <td>1073</td>\n",
       "      <td>Jefferson County</td>\n",
       "      <td>Jefferson County_2014</td>\n",
       "    </tr>\n",
       "    <tr>\n",
       "      <th>5</th>\n",
       "      <td>Jefferson County, AL</td>\n",
       "      <td>1073.0</td>\n",
       "      <td>45-54 years</td>\n",
       "      <td>45-54</td>\n",
       "      <td>Female</td>\n",
       "      <td>F</td>\n",
       "      <td>White</td>\n",
       "      <td>2106-3</td>\n",
       "      <td>Not Hispanic or Latino</td>\n",
       "      <td>2186-2</td>\n",
       "      <td>...</td>\n",
       "      <td>2014</td>\n",
       "      <td>0.046</td>\n",
       "      <td>19.0</td>\n",
       "      <td>23482.0</td>\n",
       "      <td>80.913040</td>\n",
       "      <td>1073</td>\n",
       "      <td>AL</td>\n",
       "      <td>1073</td>\n",
       "      <td>Jefferson County</td>\n",
       "      <td>Jefferson County_2014</td>\n",
       "    </tr>\n",
       "    <tr>\n",
       "      <th>6</th>\n",
       "      <td>Jefferson County, AL</td>\n",
       "      <td>1073.0</td>\n",
       "      <td>45-54 years</td>\n",
       "      <td>45-54</td>\n",
       "      <td>Male</td>\n",
       "      <td>M</td>\n",
       "      <td>White</td>\n",
       "      <td>2106-3</td>\n",
       "      <td>Not Hispanic or Latino</td>\n",
       "      <td>2186-2</td>\n",
       "      <td>...</td>\n",
       "      <td>2014</td>\n",
       "      <td>0.078</td>\n",
       "      <td>32.0</td>\n",
       "      <td>22839.0</td>\n",
       "      <td>140.111213</td>\n",
       "      <td>1073</td>\n",
       "      <td>AL</td>\n",
       "      <td>1073</td>\n",
       "      <td>Jefferson County</td>\n",
       "      <td>Jefferson County_2014</td>\n",
       "    </tr>\n",
       "    <tr>\n",
       "      <th>7</th>\n",
       "      <td>Jefferson County, AL</td>\n",
       "      <td>1073.0</td>\n",
       "      <td>55-64 years</td>\n",
       "      <td>55-64</td>\n",
       "      <td>Female</td>\n",
       "      <td>F</td>\n",
       "      <td>White</td>\n",
       "      <td>2106-3</td>\n",
       "      <td>Not Hispanic or Latino</td>\n",
       "      <td>2186-2</td>\n",
       "      <td>...</td>\n",
       "      <td>2014</td>\n",
       "      <td>0.029</td>\n",
       "      <td>12.0</td>\n",
       "      <td>25098.0</td>\n",
       "      <td>47.812575</td>\n",
       "      <td>1073</td>\n",
       "      <td>AL</td>\n",
       "      <td>1073</td>\n",
       "      <td>Jefferson County</td>\n",
       "      <td>Jefferson County_2014</td>\n",
       "    </tr>\n",
       "    <tr>\n",
       "      <th>8</th>\n",
       "      <td>Jefferson County, AL</td>\n",
       "      <td>1073.0</td>\n",
       "      <td>55-64 years</td>\n",
       "      <td>55-64</td>\n",
       "      <td>Male</td>\n",
       "      <td>M</td>\n",
       "      <td>Black or African American</td>\n",
       "      <td>2054-5</td>\n",
       "      <td>Not Hispanic or Latino</td>\n",
       "      <td>2186-2</td>\n",
       "      <td>...</td>\n",
       "      <td>2014</td>\n",
       "      <td>0.024</td>\n",
       "      <td>10.0</td>\n",
       "      <td>15872.0</td>\n",
       "      <td>63.004032</td>\n",
       "      <td>1073</td>\n",
       "      <td>AL</td>\n",
       "      <td>1073</td>\n",
       "      <td>Jefferson County</td>\n",
       "      <td>Jefferson County_2014</td>\n",
       "    </tr>\n",
       "    <tr>\n",
       "      <th>9</th>\n",
       "      <td>Jefferson County, AL</td>\n",
       "      <td>1073.0</td>\n",
       "      <td>55-64 years</td>\n",
       "      <td>55-64</td>\n",
       "      <td>Male</td>\n",
       "      <td>M</td>\n",
       "      <td>White</td>\n",
       "      <td>2106-3</td>\n",
       "      <td>Not Hispanic or Latino</td>\n",
       "      <td>2186-2</td>\n",
       "      <td>...</td>\n",
       "      <td>2014</td>\n",
       "      <td>0.080</td>\n",
       "      <td>33.0</td>\n",
       "      <td>23237.0</td>\n",
       "      <td>142.014890</td>\n",
       "      <td>1073</td>\n",
       "      <td>AL</td>\n",
       "      <td>1073</td>\n",
       "      <td>Jefferson County</td>\n",
       "      <td>Jefferson County_2014</td>\n",
       "    </tr>\n",
       "    <tr>\n",
       "      <th>10</th>\n",
       "      <td>Madison County, AL</td>\n",
       "      <td>1089.0</td>\n",
       "      <td>35-44 years</td>\n",
       "      <td>35-44</td>\n",
       "      <td>Male</td>\n",
       "      <td>M</td>\n",
       "      <td>White</td>\n",
       "      <td>2106-3</td>\n",
       "      <td>Not Hispanic or Latino</td>\n",
       "      <td>2186-2</td>\n",
       "      <td>...</td>\n",
       "      <td>2014</td>\n",
       "      <td>0.024</td>\n",
       "      <td>10.0</td>\n",
       "      <td>13907.0</td>\n",
       "      <td>71.906234</td>\n",
       "      <td>1089</td>\n",
       "      <td>AL</td>\n",
       "      <td>1089</td>\n",
       "      <td>Madison County</td>\n",
       "      <td>Madison County_2014</td>\n",
       "    </tr>\n",
       "    <tr>\n",
       "      <th>11</th>\n",
       "      <td>Mobile County, AL</td>\n",
       "      <td>1097.0</td>\n",
       "      <td>35-44 years</td>\n",
       "      <td>35-44</td>\n",
       "      <td>Male</td>\n",
       "      <td>M</td>\n",
       "      <td>White</td>\n",
       "      <td>2106-3</td>\n",
       "      <td>Not Hispanic or Latino</td>\n",
       "      <td>2186-2</td>\n",
       "      <td>...</td>\n",
       "      <td>2014</td>\n",
       "      <td>0.027</td>\n",
       "      <td>11.0</td>\n",
       "      <td>14645.0</td>\n",
       "      <td>75.110959</td>\n",
       "      <td>1097</td>\n",
       "      <td>AL</td>\n",
       "      <td>1097</td>\n",
       "      <td>Mobile County</td>\n",
       "      <td>Mobile County_2014</td>\n",
       "    </tr>\n",
       "  </tbody>\n",
       "</table>\n",
       "<p>12 rows × 24 columns</p>\n",
       "</div>"
      ],
      "text/plain": [
       "                  County  County Code Ten-Year Age Groups  \\\n",
       "0   Jefferson County, AL       1073.0         15-24 years   \n",
       "1   Jefferson County, AL       1073.0         25-34 years   \n",
       "2   Jefferson County, AL       1073.0         25-34 years   \n",
       "3   Jefferson County, AL       1073.0         35-44 years   \n",
       "4   Jefferson County, AL       1073.0         35-44 years   \n",
       "5   Jefferson County, AL       1073.0         45-54 years   \n",
       "6   Jefferson County, AL       1073.0         45-54 years   \n",
       "7   Jefferson County, AL       1073.0         55-64 years   \n",
       "8   Jefferson County, AL       1073.0         55-64 years   \n",
       "9   Jefferson County, AL       1073.0         55-64 years   \n",
       "10    Madison County, AL       1089.0         35-44 years   \n",
       "11     Mobile County, AL       1097.0         35-44 years   \n",
       "\n",
       "   Ten-Year Age Groups Code  Gender Gender Code                       Race  \\\n",
       "0                     15-24    Male           M                      White   \n",
       "1                     25-34  Female           F                      White   \n",
       "2                     25-34    Male           M                      White   \n",
       "3                     35-44  Female           F                      White   \n",
       "4                     35-44    Male           M                      White   \n",
       "5                     45-54  Female           F                      White   \n",
       "6                     45-54    Male           M                      White   \n",
       "7                     55-64  Female           F                      White   \n",
       "8                     55-64    Male           M  Black or African American   \n",
       "9                     55-64    Male           M                      White   \n",
       "10                    35-44    Male           M                      White   \n",
       "11                    35-44    Male           M                      White   \n",
       "\n",
       "   Race Code         Hispanic Origin Hispanic Origin Code  \\\n",
       "0     2106-3  Not Hispanic or Latino               2186-2   \n",
       "1     2106-3  Not Hispanic or Latino               2186-2   \n",
       "2     2106-3  Not Hispanic or Latino               2186-2   \n",
       "3     2106-3  Not Hispanic or Latino               2186-2   \n",
       "4     2106-3  Not Hispanic or Latino               2186-2   \n",
       "5     2106-3  Not Hispanic or Latino               2186-2   \n",
       "6     2106-3  Not Hispanic or Latino               2186-2   \n",
       "7     2106-3  Not Hispanic or Latino               2186-2   \n",
       "8     2054-5  Not Hispanic or Latino               2186-2   \n",
       "9     2106-3  Not Hispanic or Latino               2186-2   \n",
       "10    2106-3  Not Hispanic or Latino               2186-2   \n",
       "11    2106-3  Not Hispanic or Latino               2186-2   \n",
       "\n",
       "            ...            year  pct_total_deaths deaths population  \\\n",
       "0           ...            2014             0.027   11.0    19306.0   \n",
       "1           ...            2014             0.039   16.0    23590.0   \n",
       "2           ...            2014             0.065   27.0    22917.0   \n",
       "3           ...            2014             0.053   22.0    20774.0   \n",
       "4           ...            2014             0.063   26.0    21104.0   \n",
       "5           ...            2014             0.046   19.0    23482.0   \n",
       "6           ...            2014             0.078   32.0    22839.0   \n",
       "7           ...            2014             0.029   12.0    25098.0   \n",
       "8           ...            2014             0.024   10.0    15872.0   \n",
       "9           ...            2014             0.080   33.0    23237.0   \n",
       "10          ...            2014             0.024   10.0    13907.0   \n",
       "11          ...            2014             0.027   11.0    14645.0   \n",
       "\n",
       "    crude_100k  county_id  state  county_code           CTYNAME  \\\n",
       "0    56.977106       1073     AL         1073  Jefferson County   \n",
       "1    67.825350       1073     AL         1073  Jefferson County   \n",
       "2   117.816468       1073     AL         1073  Jefferson County   \n",
       "3   105.901608       1073     AL         1073  Jefferson County   \n",
       "4   123.199393       1073     AL         1073  Jefferson County   \n",
       "5    80.913040       1073     AL         1073  Jefferson County   \n",
       "6   140.111213       1073     AL         1073  Jefferson County   \n",
       "7    47.812575       1073     AL         1073  Jefferson County   \n",
       "8    63.004032       1073     AL         1073  Jefferson County   \n",
       "9   142.014890       1073     AL         1073  Jefferson County   \n",
       "10   71.906234       1089     AL         1089    Madison County   \n",
       "11   75.110959       1097     AL         1097     Mobile County   \n",
       "\n",
       "            pop_merge_ind  \n",
       "0   Jefferson County_2014  \n",
       "1   Jefferson County_2014  \n",
       "2   Jefferson County_2014  \n",
       "3   Jefferson County_2014  \n",
       "4   Jefferson County_2014  \n",
       "5   Jefferson County_2014  \n",
       "6   Jefferson County_2014  \n",
       "7   Jefferson County_2014  \n",
       "8   Jefferson County_2014  \n",
       "9   Jefferson County_2014  \n",
       "10    Madison County_2014  \n",
       "11     Mobile County_2014  \n",
       "\n",
       "[12 rows x 24 columns]"
      ]
     },
     "execution_count": 2,
     "metadata": {},
     "output_type": "execute_result"
    }
   ],
   "source": [
    "unemp_03_14 = pd.read_csv('/Users/HudsonCavanagh/Documents/csv_out_duplicate/unemp_tot_03_14.csv')\n",
    "unemp_03_14 = unemp_03_14.iloc[:,1:]\n",
    "\n",
    "pov_county_year_03_14 = pd.read_csv('/Users/HudsonCavanagh/Documents/csv_out_duplicate/pov_county_year_03_14.csv')\n",
    "pov_county_year_03_14 = pov_county_year_03_14.iloc[:,1:]\n",
    "\n",
    "cdc_03_14 = pd.read_csv('/Users/HudsonCavanagh/Documents/csv_out_duplicate/cdc_03_14.csv')\n",
    "cdc_03_14 = cdc_03_14.iloc[:,2:]\n",
    "cdc_03_14.head(12)"
   ]
  },
  {
   "cell_type": "code",
   "execution_count": 3,
   "metadata": {
    "collapsed": false
   },
   "outputs": [],
   "source": [
    "#adding up Jefferson County to see if its what I expect it to be\n",
    "# 19306.0 + 23590.0 + 22917.0 + 20774.0 + 21104.0 + 23482.0 + 22839.0 + 25098.0 + 15872.0 + 23237.0 # = 218219.0\n",
    "#this is only 1/3rd of what I expected"
   ]
  },
  {
   "cell_type": "code",
   "execution_count": 4,
   "metadata": {
    "collapsed": false
   },
   "outputs": [
    {
     "data": {
      "text/html": [
       "<div>\n",
       "<table border=\"1\" class=\"dataframe\">\n",
       "  <thead>\n",
       "    <tr style=\"text-align: right;\">\n",
       "      <th></th>\n",
       "      <th>year</th>\n",
       "      <th>county_code</th>\n",
       "      <th>nan</th>\n",
       "      <th>working_pop</th>\n",
       "      <th>employed_pop</th>\n",
       "      <th>unemployed_pop</th>\n",
       "      <th>unemp_perc</th>\n",
       "    </tr>\n",
       "  </thead>\n",
       "  <tbody>\n",
       "    <tr>\n",
       "      <th>0</th>\n",
       "      <td>2003</td>\n",
       "      <td>1001</td>\n",
       "      <td>NaN</td>\n",
       "      <td>22604.0</td>\n",
       "      <td>21462.0</td>\n",
       "      <td>1142.0</td>\n",
       "      <td>5.1</td>\n",
       "    </tr>\n",
       "    <tr>\n",
       "      <th>1</th>\n",
       "      <td>2003</td>\n",
       "      <td>1003</td>\n",
       "      <td>NaN</td>\n",
       "      <td>72299.0</td>\n",
       "      <td>68702.0</td>\n",
       "      <td>3597.0</td>\n",
       "      <td>5.0</td>\n",
       "    </tr>\n",
       "    <tr>\n",
       "      <th>2</th>\n",
       "      <td>2003</td>\n",
       "      <td>1005</td>\n",
       "      <td>NaN</td>\n",
       "      <td>10977.0</td>\n",
       "      <td>10196.0</td>\n",
       "      <td>781.0</td>\n",
       "      <td>7.1</td>\n",
       "    </tr>\n",
       "    <tr>\n",
       "      <th>3</th>\n",
       "      <td>2003</td>\n",
       "      <td>1007</td>\n",
       "      <td>NaN</td>\n",
       "      <td>8836.0</td>\n",
       "      <td>8309.0</td>\n",
       "      <td>527.0</td>\n",
       "      <td>6.0</td>\n",
       "    </tr>\n",
       "    <tr>\n",
       "      <th>4</th>\n",
       "      <td>2003</td>\n",
       "      <td>1009</td>\n",
       "      <td>NaN</td>\n",
       "      <td>25900.0</td>\n",
       "      <td>24702.0</td>\n",
       "      <td>1198.0</td>\n",
       "      <td>4.6</td>\n",
       "    </tr>\n",
       "  </tbody>\n",
       "</table>\n",
       "</div>"
      ],
      "text/plain": [
       "   year  county_code  nan  working_pop  employed_pop  unemployed_pop  \\\n",
       "0  2003         1001  NaN      22604.0       21462.0          1142.0   \n",
       "1  2003         1003  NaN      72299.0       68702.0          3597.0   \n",
       "2  2003         1005  NaN      10977.0       10196.0           781.0   \n",
       "3  2003         1007  NaN       8836.0        8309.0           527.0   \n",
       "4  2003         1009  NaN      25900.0       24702.0          1198.0   \n",
       "\n",
       "   unemp_perc  \n",
       "0         5.1  \n",
       "1         5.0  \n",
       "2         7.1  \n",
       "3         6.0  \n",
       "4         4.6  "
      ]
     },
     "execution_count": 4,
     "metadata": {},
     "output_type": "execute_result"
    }
   ],
   "source": [
    "unemp_03_14.head()"
   ]
  },
  {
   "cell_type": "code",
   "execution_count": 5,
   "metadata": {
    "collapsed": false,
    "scrolled": true
   },
   "outputs": [
    {
     "name": "stderr",
     "output_type": "stream",
     "text": [
      "/Users/HudsonCavanagh/anaconda/lib/python2.7/site-packages/IPython/core/interactiveshell.py:2902: DtypeWarning: Columns (1) have mixed types. Specify dtype option on import or set low_memory=False.\n",
      "  interactivity=interactivity, compiler=compiler, result=result)\n"
     ]
    }
   ],
   "source": [
    "pop_03 = pd.read_csv('/Users/HudsonCavanagh/Documents/csv_out_duplicate/pop_03_output.csv')\n",
    "pop_04 =pd.read_csv('/Users/HudsonCavanagh/Documents/csv_out_duplicate/pop_04_output.csv')\n",
    "pop_05 = pd.read_csv('/Users/HudsonCavanagh/Documents/csv_out_duplicate/pop_05_output.csv')\n",
    "pop_06 = pd.read_csv('/Users/HudsonCavanagh/Documents/csv_out_duplicate/pop_06_output.csv')\n",
    "pop_07 = pd.read_csv('/Users/HudsonCavanagh/Documents/csv_out_duplicate/pop_07_output.csv')\n",
    "pop_08 = pd.read_csv('/Users/HudsonCavanagh/Documents/csv_out_duplicate/pop_08_output.csv')\n",
    "pop_09 = pd.read_csv('/Users/HudsonCavanagh/Documents/csv_out_duplicate/pop_09_output.csv')\n",
    "pop_10_14 = pd.read_csv('/Users/HudsonCavanagh/Documents/csv_out_duplicate/pop_10_15_output.csv')\n",
    "\n",
    "\n",
    "pop_10_14 = pop_10_14.loc[:,['year', 'county_code', 'pop_sub_15', 'pop_15-34', 'pop_35-54', 'pop_55+','pop_black','pop_white','pop_hisp','pop_asian', 'pop_male', 'population', 'TOT_POP']]\n",
    "# pop_10_14.describe() "
   ]
  },
  {
   "cell_type": "code",
   "execution_count": 6,
   "metadata": {
    "collapsed": false
   },
   "outputs": [
    {
     "data": {
      "text/plain": [
       "25136"
      ]
     },
     "execution_count": 6,
     "metadata": {},
     "output_type": "execute_result"
    }
   ],
   "source": [
    "pop_10_14.head() # checked code 01005, Barbour county, listed is 2x actual\n",
    "len(pop_10_14)"
   ]
  },
  {
   "cell_type": "code",
   "execution_count": 7,
   "metadata": {
    "collapsed": false
   },
   "outputs": [
    {
     "data": {
      "text/plain": [
       "47137"
      ]
     },
     "execution_count": 7,
     "metadata": {},
     "output_type": "execute_result"
    }
   ],
   "source": [
    "\n",
    "\n",
    "pop_03_14 = pd.concat([pop_03, pop_04, pop_05, pop_06, pop_07, pop_08, pop_09, pop_10_14], axis=0) #this works 1) need to make floats 2) need more data\n",
    "# pop_03_14.head(25) #25136 with axis =1\n",
    "len(pop_03_14) #looks correct, moving on\n"
   ]
  },
  {
   "cell_type": "code",
   "execution_count": 8,
   "metadata": {
    "collapsed": false
   },
   "outputs": [
    {
     "data": {
      "text/plain": [
       "2009                 3143\n",
       "2008                 3143\n",
       "2007                 3143\n",
       "2006                 3143\n",
       "2005                 3143\n",
       "2004                 3143\n",
       "2003                 3143\n",
       "2010_census          3142\n",
       "2010_pop_est_base    3142\n",
       "2015                 3142\n",
       "2014                 3142\n",
       "2013                 3142\n",
       "2012                 3142\n",
       "2011                 3142\n",
       "2010                 3142\n",
       "Name: year, dtype: int64"
      ]
     },
     "execution_count": 8,
     "metadata": {},
     "output_type": "execute_result"
    }
   ],
   "source": [
    "def pop_year_clean(year):\n",
    "    year = str(year)\n",
    "    year = year.replace(\" \", \"\")\n",
    "    try:\n",
    "        year = int(year)\n",
    "    except:\n",
    "        year = year\n",
    "    return year\n",
    "\n",
    "pop_03_14['year'] = pop_03_14['year'].apply(lambda x: pop_year_clean(x)) #noticed 2013 was split into 2 groups\n",
    "pop_03_14['year'].value_counts()\n",
    "# len(pop_03_14)\n",
    "# pop_03_15.isnull().sum()"
   ]
  },
  {
   "cell_type": "code",
   "execution_count": 9,
   "metadata": {
    "collapsed": false
   },
   "outputs": [
    {
     "data": {
      "text/plain": [
       "2013    3195\n",
       "2014    3194\n",
       "2012    3194\n",
       "2011    3194\n",
       "2010    3194\n",
       "2009    3193\n",
       "2008    3192\n",
       "2006    3192\n",
       "2005    3192\n",
       "2007    3191\n",
       "2004    3191\n",
       "2003    3191\n",
       "Name: year, dtype: int64"
      ]
     },
     "execution_count": 9,
     "metadata": {},
     "output_type": "execute_result"
    }
   ],
   "source": [
    "pov_county_year_03_14['year'].value_counts()"
   ]
  },
  {
   "cell_type": "code",
   "execution_count": null,
   "metadata": {
    "collapsed": false
   },
   "outputs": [],
   "source": []
  },
  {
   "cell_type": "code",
   "execution_count": null,
   "metadata": {
    "collapsed": false
   },
   "outputs": [],
   "source": []
  },
  {
   "cell_type": "markdown",
   "metadata": {
    "collapsed": false
   },
   "source": [
    "### Issue with Population information\n",
    "\n",
    "None of the population figures are around the order of magnitude I expected, which I believe owes to the previous groupby being summed, rather than averaged (which would have made more sense at the county level). Nonetheless, each column is consistent, so instead of proportional demographics, going to use ratio of demographics\n",
    "\n",
    "-May be that in the calculations, should have been multiplying by 'POP_TOT'>\n",
    "pop_03_14['pop_white'][pop_03_14['year']==2009].sum()  equals 54 billion ....\n"
   ]
  },
  {
   "cell_type": "code",
   "execution_count": 10,
   "metadata": {
    "collapsed": false
   },
   "outputs": [],
   "source": [
    "### Making ratios of existing columns\n",
    "\n",
    "pop_03_14['pop_total_age'] = pop_03_14['pop_sub_15'] + pop_03_14['pop_15-34'] + pop_03_14['pop_35-54'] + pop_03_14['pop_55+']\n",
    "pop_03_14['pop_sub_15_prop'] = pop_03_14['pop_sub_15']/pop_03_14['pop_total_age']\n",
    "pop_03_14['pop_15-34_prop'] = pop_03_14['pop_sub_15']/pop_03_14['pop_total_age']\n",
    "pop_03_14['pop_35-54_prop'] = pop_03_14['pop_sub_15']/pop_03_14['pop_total_age']\n",
    "pop_03_14['pop_55+_prop'] = pop_03_14['pop_sub_15']/pop_03_14['pop_total_age']\n",
    "pop_03_14['pop_big_3_races'] = pop_03_14['pop_black'] + pop_03_14['pop_white'] + pop_03_14['pop_asian']\n",
    "pop_03_14['pop_asian_prop'] = pop_03_14['pop_asian']/pop_03_14['pop_big_3_races']\n",
    "pop_03_14['pop_white_prop'] = pop_03_14['pop_white']/pop_03_14['pop_big_3_races']\n",
    "pop_03_14['pop_black_prop'] = pop_03_14['pop_black']/pop_03_14['pop_big_3_races']\n",
    "# pop_03_14['pop_hisp_prop'] = pop_03_14['pop_hisp']/pop_03_14['pop_big_3_races'] #don't have good relative comparison \n",
    "#excluded hispanic b/c does not pas eye-test\n",
    "pop_03_14['pop_male_prop'] = pop_03_14['pop_male'] / pop_03_14['pop_total_age']\n"
   ]
  },
  {
   "cell_type": "markdown",
   "metadata": {
    "collapsed": false
   },
   "source": []
  },
  {
   "cell_type": "markdown",
   "metadata": {
    "collapsed": false
   },
   "source": [
    "## Merging Fentanyl and Naxolone data here\n",
    "\n",
    "2013-2014 baseline:\n",
    "downloaded pdf\n",
    "\n",
    "2009-2013 trends\n",
    "\n",
    "http://www.deadiversion.usdoj.gov/nflis/spec_rpt_opioids_2014.pdf\n",
    "\n",
    "2003-2008 trends\n",
    "\n",
    "http://www.ncbi.nlm.nih.gov/core/lw/2.0/html/tileshop_pmc/tileshop_pmc_inline.html?title=Click%20on%20image%20to%20zoom&p=PMC3&id=3659213_OpenMed-06-e41-g001.jpg"
   ]
  },
  {
   "cell_type": "code",
   "execution_count": 11,
   "metadata": {
    "collapsed": false
   },
   "outputs": [
    {
     "data": {
      "text/html": [
       "<div>\n",
       "<table border=\"1\" class=\"dataframe\">\n",
       "  <thead>\n",
       "    <tr style=\"text-align: right;\">\n",
       "      <th></th>\n",
       "      <th>year</th>\n",
       "      <th>national_opiate_seizures</th>\n",
       "      <th>national_fentanyl_seizures</th>\n",
       "    </tr>\n",
       "  </thead>\n",
       "  <tbody>\n",
       "    <tr>\n",
       "      <th>0</th>\n",
       "      <td>2003</td>\n",
       "      <td>187161.7159</td>\n",
       "      <td>467.239068</td>\n",
       "    </tr>\n",
       "    <tr>\n",
       "      <th>1</th>\n",
       "      <td>2004</td>\n",
       "      <td>195197.9065</td>\n",
       "      <td>487.300982</td>\n",
       "    </tr>\n",
       "    <tr>\n",
       "      <th>2</th>\n",
       "      <td>2005</td>\n",
       "      <td>205937.3319</td>\n",
       "      <td>514.111375</td>\n",
       "    </tr>\n",
       "    <tr>\n",
       "      <th>3</th>\n",
       "      <td>2006</td>\n",
       "      <td>216956.5005</td>\n",
       "      <td>541.620131</td>\n",
       "    </tr>\n",
       "    <tr>\n",
       "      <th>4</th>\n",
       "      <td>2007</td>\n",
       "      <td>229255.5545</td>\n",
       "      <td>572.324052</td>\n",
       "    </tr>\n",
       "  </tbody>\n",
       "</table>\n",
       "</div>"
      ],
      "text/plain": [
       "   year  national_opiate_seizures  national_fentanyl_seizures\n",
       "0  2003               187161.7159                  467.239068\n",
       "1  2004               195197.9065                  487.300982\n",
       "2  2005               205937.3319                  514.111375\n",
       "3  2006               216956.5005                  541.620131\n",
       "4  2007               229255.5545                  572.324052"
      ]
     },
     "execution_count": 11,
     "metadata": {},
     "output_type": "execute_result"
    }
   ],
   "source": [
    "\n",
    "fent_13_14 = pd.read_csv('/Users/HudsonCavanagh/Dropbox/Capstone/non_cdc_data/drug_seizures_year.csv')\n",
    "fent_13_14 = fent_13_14.iloc[:,1:]\n",
    "fent_13_14.columns = ['year', 'national_opiate_seizures', 'national_fentanyl_seizures']\n",
    "#should i join this with the year before? don't want to leak information\n",
    "fent_13_14.head()\n"
   ]
  },
  {
   "cell_type": "code",
   "execution_count": 12,
   "metadata": {
    "collapsed": false
   },
   "outputs": [
    {
     "data": {
      "text/html": [
       "<div>\n",
       "<table border=\"1\" class=\"dataframe\">\n",
       "  <thead>\n",
       "    <tr style=\"text-align: right;\">\n",
       "      <th></th>\n",
       "      <th>year</th>\n",
       "      <th>state</th>\n",
       "      <th>naxo_crim</th>\n",
       "      <th>naxo_civ</th>\n",
       "      <th>naxo_third</th>\n",
       "    </tr>\n",
       "  </thead>\n",
       "  <tbody>\n",
       "    <tr>\n",
       "      <th>0</th>\n",
       "      <td>2003</td>\n",
       "      <td>AK</td>\n",
       "      <td>0</td>\n",
       "      <td>0</td>\n",
       "      <td>0</td>\n",
       "    </tr>\n",
       "    <tr>\n",
       "      <th>1</th>\n",
       "      <td>2003</td>\n",
       "      <td>AL</td>\n",
       "      <td>0</td>\n",
       "      <td>0</td>\n",
       "      <td>0</td>\n",
       "    </tr>\n",
       "    <tr>\n",
       "      <th>2</th>\n",
       "      <td>2003</td>\n",
       "      <td>AR</td>\n",
       "      <td>0</td>\n",
       "      <td>0</td>\n",
       "      <td>0</td>\n",
       "    </tr>\n",
       "    <tr>\n",
       "      <th>3</th>\n",
       "      <td>2003</td>\n",
       "      <td>AZ</td>\n",
       "      <td>0</td>\n",
       "      <td>0</td>\n",
       "      <td>0</td>\n",
       "    </tr>\n",
       "    <tr>\n",
       "      <th>4</th>\n",
       "      <td>2003</td>\n",
       "      <td>CA</td>\n",
       "      <td>0</td>\n",
       "      <td>0</td>\n",
       "      <td>0</td>\n",
       "    </tr>\n",
       "  </tbody>\n",
       "</table>\n",
       "</div>"
      ],
      "text/plain": [
       "   year state  naxo_crim  naxo_civ  naxo_third\n",
       "0  2003    AK          0         0           0\n",
       "1  2003    AL          0         0           0\n",
       "2  2003    AR          0         0           0\n",
       "3  2003    AZ          0         0           0\n",
       "4  2003    CA          0         0           0"
      ]
     },
     "execution_count": 12,
     "metadata": {},
     "output_type": "execute_result"
    }
   ],
   "source": [
    "naxo = pd.read_csv('/Users/HudsonCavanagh/Dropbox/Capstone/non_cdc_data/naxo_years_clean.csv')\n",
    "naxo.columns = ['year', 'state', 'naxo_crim', 'naxo_civ', 'naxo_third']\n",
    "naxo.head()"
   ]
  },
  {
   "cell_type": "code",
   "execution_count": null,
   "metadata": {
    "collapsed": false
   },
   "outputs": [],
   "source": []
  },
  {
   "cell_type": "code",
   "execution_count": 13,
   "metadata": {
    "collapsed": false
   },
   "outputs": [],
   "source": [
    "#grouping cdc data\n",
    "\n",
    "deaths_pop = cdc_03_14.groupby(by=['year', 'county_code']).sum()\n",
    "\n",
    "#calculating target\n",
    "\n",
    "deaths_pop['death_per_head'] = deaths_pop['deaths'] / deaths_pop['population']\n",
    "deaths_pop.reset_index(inplace=1)\n",
    "\n",
    "#merging population\n",
    "deaths_pop = pd.merge(deaths_pop, pop_03_14, how='left', left_on=['year', 'county_code'], right_on=['year', 'county_code'])\n",
    "deaths_pop['population'] = deaths_pop['population_x']\n",
    "\n",
    "#merging poverty\n",
    "\n",
    "deaths_pop = pd.merge(deaths_pop, pov_county_year_03_14, how='left', left_on=['year','county_code'], right_on=['year','county_code'])\n",
    "\n",
    "\n",
    "#merging unemployment\n",
    "\n",
    "deaths_pop = pd.merge(deaths_pop, unemp_03_14, how='left', left_on=['year', 'county_code'], right_on=['year', 'county_code'])\n",
    "\n",
    "# merging fentanyl\n",
    "\n",
    "deaths_pop = pd.merge(deaths_pop, fent_13_14, how='left', left_on=['year'], right_on=['year'])\n",
    "\n",
    "\n"
   ]
  },
  {
   "cell_type": "code",
   "execution_count": 14,
   "metadata": {
    "collapsed": false
   },
   "outputs": [
    {
     "data": {
      "text/html": [
       "<div>\n",
       "<table border=\"1\" class=\"dataframe\">\n",
       "  <thead>\n",
       "    <tr style=\"text-align: right;\">\n",
       "      <th></th>\n",
       "      <th>year</th>\n",
       "      <th>county_code</th>\n",
       "      <th>County Code</th>\n",
       "      <th>Deaths</th>\n",
       "      <th>Population</th>\n",
       "      <th>pct_total_deaths</th>\n",
       "      <th>deaths</th>\n",
       "      <th>population_x</th>\n",
       "      <th>crude_100k</th>\n",
       "      <th>county_id</th>\n",
       "      <th>...</th>\n",
       "      <th>pov_youth_count_0-17</th>\n",
       "      <th>pov_youth_rate_0-17</th>\n",
       "      <th>med_hh_income</th>\n",
       "      <th>nan</th>\n",
       "      <th>working_pop</th>\n",
       "      <th>employed_pop</th>\n",
       "      <th>unemployed_pop</th>\n",
       "      <th>unemp_perc</th>\n",
       "      <th>national_opiate_seizures</th>\n",
       "      <th>national_fentanyl_seizures</th>\n",
       "    </tr>\n",
       "  </thead>\n",
       "  <tbody>\n",
       "    <tr>\n",
       "      <th>0</th>\n",
       "      <td>2003</td>\n",
       "      <td>1073</td>\n",
       "      <td>2146.0</td>\n",
       "      <td>26.0</td>\n",
       "      <td>54422.0</td>\n",
       "      <td>0.054</td>\n",
       "      <td>26.0</td>\n",
       "      <td>54422.0</td>\n",
       "      <td>95.427762</td>\n",
       "      <td>2146</td>\n",
       "      <td>...</td>\n",
       "      <td>31787.0</td>\n",
       "      <td>20.1</td>\n",
       "      <td>38305.0</td>\n",
       "      <td>NaN</td>\n",
       "      <td>321042.0</td>\n",
       "      <td>303282.0</td>\n",
       "      <td>17760.0</td>\n",
       "      <td>5.5</td>\n",
       "      <td>187161.7159</td>\n",
       "      <td>467.239068</td>\n",
       "    </tr>\n",
       "    <tr>\n",
       "      <th>1</th>\n",
       "      <td>2003</td>\n",
       "      <td>2020</td>\n",
       "      <td>4040.0</td>\n",
       "      <td>24.0</td>\n",
       "      <td>34160.0</td>\n",
       "      <td>0.049</td>\n",
       "      <td>24.0</td>\n",
       "      <td>34160.0</td>\n",
       "      <td>139.969440</td>\n",
       "      <td>4040</td>\n",
       "      <td>...</td>\n",
       "      <td>7998.0</td>\n",
       "      <td>10.4</td>\n",
       "      <td>55197.0</td>\n",
       "      <td>NaN</td>\n",
       "      <td>145428.0</td>\n",
       "      <td>136227.0</td>\n",
       "      <td>9201.0</td>\n",
       "      <td>6.3</td>\n",
       "      <td>187161.7159</td>\n",
       "      <td>467.239068</td>\n",
       "    </tr>\n",
       "    <tr>\n",
       "      <th>2</th>\n",
       "      <td>2003</td>\n",
       "      <td>4013</td>\n",
       "      <td>72234.0</td>\n",
       "      <td>591.0</td>\n",
       "      <td>1783462.0</td>\n",
       "      <td>1.212</td>\n",
       "      <td>591.0</td>\n",
       "      <td>1783462.0</td>\n",
       "      <td>715.153184</td>\n",
       "      <td>72234</td>\n",
       "      <td>...</td>\n",
       "      <td>177188.0</td>\n",
       "      <td>18.4</td>\n",
       "      <td>46376.0</td>\n",
       "      <td>NaN</td>\n",
       "      <td>1749197.0</td>\n",
       "      <td>1658323.0</td>\n",
       "      <td>90874.0</td>\n",
       "      <td>5.2</td>\n",
       "      <td>187161.7159</td>\n",
       "      <td>467.239068</td>\n",
       "    </tr>\n",
       "    <tr>\n",
       "      <th>3</th>\n",
       "      <td>2003</td>\n",
       "      <td>4019</td>\n",
       "      <td>36171.0</td>\n",
       "      <td>149.0</td>\n",
       "      <td>285630.0</td>\n",
       "      <td>0.308</td>\n",
       "      <td>149.0</td>\n",
       "      <td>285630.0</td>\n",
       "      <td>513.516478</td>\n",
       "      <td>36171</td>\n",
       "      <td>...</td>\n",
       "      <td>48407.0</td>\n",
       "      <td>21.7</td>\n",
       "      <td>37540.0</td>\n",
       "      <td>NaN</td>\n",
       "      <td>429349.0</td>\n",
       "      <td>406481.0</td>\n",
       "      <td>22868.0</td>\n",
       "      <td>5.3</td>\n",
       "      <td>187161.7159</td>\n",
       "      <td>467.239068</td>\n",
       "    </tr>\n",
       "    <tr>\n",
       "      <th>4</th>\n",
       "      <td>2003</td>\n",
       "      <td>4025</td>\n",
       "      <td>4025.0</td>\n",
       "      <td>10.0</td>\n",
       "      <td>11831.0</td>\n",
       "      <td>0.020</td>\n",
       "      <td>10.0</td>\n",
       "      <td>11831.0</td>\n",
       "      <td>84.523709</td>\n",
       "      <td>4025</td>\n",
       "      <td>...</td>\n",
       "      <td>7613.0</td>\n",
       "      <td>19.6</td>\n",
       "      <td>35303.0</td>\n",
       "      <td>NaN</td>\n",
       "      <td>85008.0</td>\n",
       "      <td>80664.0</td>\n",
       "      <td>4344.0</td>\n",
       "      <td>5.1</td>\n",
       "      <td>187161.7159</td>\n",
       "      <td>467.239068</td>\n",
       "    </tr>\n",
       "  </tbody>\n",
       "</table>\n",
       "<p>5 rows × 56 columns</p>\n",
       "</div>"
      ],
      "text/plain": [
       "   year  county_code  County Code  Deaths  Population  pct_total_deaths  \\\n",
       "0  2003         1073       2146.0    26.0     54422.0             0.054   \n",
       "1  2003         2020       4040.0    24.0     34160.0             0.049   \n",
       "2  2003         4013      72234.0   591.0   1783462.0             1.212   \n",
       "3  2003         4019      36171.0   149.0    285630.0             0.308   \n",
       "4  2003         4025       4025.0    10.0     11831.0             0.020   \n",
       "\n",
       "   deaths  population_x  crude_100k  county_id             ...              \\\n",
       "0    26.0       54422.0   95.427762       2146             ...               \n",
       "1    24.0       34160.0  139.969440       4040             ...               \n",
       "2   591.0     1783462.0  715.153184      72234             ...               \n",
       "3   149.0      285630.0  513.516478      36171             ...               \n",
       "4    10.0       11831.0   84.523709       4025             ...               \n",
       "\n",
       "   pov_youth_count_0-17  pov_youth_rate_0-17  med_hh_income  nan  working_pop  \\\n",
       "0               31787.0                 20.1        38305.0  NaN     321042.0   \n",
       "1                7998.0                 10.4        55197.0  NaN     145428.0   \n",
       "2              177188.0                 18.4        46376.0  NaN    1749197.0   \n",
       "3               48407.0                 21.7        37540.0  NaN     429349.0   \n",
       "4                7613.0                 19.6        35303.0  NaN      85008.0   \n",
       "\n",
       "   employed_pop  unemployed_pop  unemp_perc  national_opiate_seizures  \\\n",
       "0      303282.0         17760.0         5.5               187161.7159   \n",
       "1      136227.0          9201.0         6.3               187161.7159   \n",
       "2     1658323.0         90874.0         5.2               187161.7159   \n",
       "3      406481.0         22868.0         5.3               187161.7159   \n",
       "4       80664.0          4344.0         5.1               187161.7159   \n",
       "\n",
       "   national_fentanyl_seizures  \n",
       "0                  467.239068  \n",
       "1                  467.239068  \n",
       "2                  467.239068  \n",
       "3                  467.239068  \n",
       "4                  467.239068  \n",
       "\n",
       "[5 rows x 56 columns]"
      ]
     },
     "execution_count": 14,
     "metadata": {},
     "output_type": "execute_result"
    }
   ],
   "source": [
    "deaths_pop.head()#for testing\n"
   ]
  },
  {
   "cell_type": "code",
   "execution_count": null,
   "metadata": {
    "collapsed": false
   },
   "outputs": [],
   "source": []
  },
  {
   "cell_type": "markdown",
   "metadata": {},
   "source": [
    "### Merge Population, Population Growth Below\n",
    "\n",
    "https://www.census.gov/popest/data/counties/totals/2015/files/CO-EST2015-alldata.csv\n",
    "https://www.census.gov/popest/research/eval-estimates/CO-EST2010-ALLDATA.csv\n",
    "https://www.census.gov/popest/data/counties/totals/2012/files/CO-EST2012-alldata.pdf -- summary of cols"
   ]
  },
  {
   "cell_type": "code",
   "execution_count": 15,
   "metadata": {
    "collapsed": false
   },
   "outputs": [
    {
     "name": "stderr",
     "output_type": "stream",
     "text": [
      "/Users/HudsonCavanagh/anaconda/lib/python2.7/site-packages/ipykernel/__main__.py:43: SettingWithCopyWarning: \n",
      "A value is trying to be set on a copy of a slice from a DataFrame.\n",
      "Try using .loc[row_indexer,col_indexer] = value instead\n",
      "\n",
      "See the caveats in the documentation: http://pandas.pydata.org/pandas-docs/stable/indexing.html#indexing-view-versus-copy\n",
      "/Users/HudsonCavanagh/anaconda/lib/python2.7/site-packages/ipykernel/__main__.py:44: SettingWithCopyWarning: \n",
      "A value is trying to be set on a copy of a slice from a DataFrame.\n",
      "Try using .loc[row_indexer,col_indexer] = value instead\n",
      "\n",
      "See the caveats in the documentation: http://pandas.pydata.org/pandas-docs/stable/indexing.html#indexing-view-versus-copy\n",
      "/Users/HudsonCavanagh/anaconda/lib/python2.7/site-packages/ipykernel/__main__.py:45: SettingWithCopyWarning: \n",
      "A value is trying to be set on a copy of a slice from a DataFrame.\n",
      "Try using .loc[row_indexer,col_indexer] = value instead\n",
      "\n",
      "See the caveats in the documentation: http://pandas.pydata.org/pandas-docs/stable/indexing.html#indexing-view-versus-copy\n",
      "/Users/HudsonCavanagh/anaconda/lib/python2.7/site-packages/ipykernel/__main__.py:46: SettingWithCopyWarning: \n",
      "A value is trying to be set on a copy of a slice from a DataFrame.\n",
      "Try using .loc[row_indexer,col_indexer] = value instead\n",
      "\n",
      "See the caveats in the documentation: http://pandas.pydata.org/pandas-docs/stable/indexing.html#indexing-view-versus-copy\n",
      "/Users/HudsonCavanagh/anaconda/lib/python2.7/site-packages/ipykernel/__main__.py:47: SettingWithCopyWarning: \n",
      "A value is trying to be set on a copy of a slice from a DataFrame.\n",
      "Try using .loc[row_indexer,col_indexer] = value instead\n",
      "\n",
      "See the caveats in the documentation: http://pandas.pydata.org/pandas-docs/stable/indexing.html#indexing-view-versus-copy\n"
     ]
    }
   ],
   "source": [
    "def state_fix(code):\n",
    "    code = str(code)\n",
    "    if len(code) == 1:\n",
    "        code = \"0\" + code\n",
    "    return code\n",
    "\n",
    "def county_fix(code):\n",
    "    code = str(code)\n",
    "    if len(code) == 1:\n",
    "        code = \"00\" + code\n",
    "    elif len(code) ==2:\n",
    "        code = \"0\" + code\n",
    "    return code\n",
    "\n",
    "def col_includer(year, col):\n",
    "    if year in col:\n",
    "        return col\n",
    "    else:\n",
    "        return 0\n",
    "\n",
    "def growth_convert(df, year):\n",
    "    final_cols = []\n",
    "    df_cols = df.columns\n",
    "    last_year = str(year - 1)\n",
    "    year = str(year)\n",
    "    df_cols_this = df_cols.map(lambda x: col_includer(year, x))\n",
    "    df_cols_last = df_cols.map(lambda x: col_includer(last_year, x))\n",
    "    \n",
    "    #cleaning this year col\n",
    "    df_cols_this = pd.DataFrame(df_cols_this)\n",
    "    df_cols_this = df_cols_this[df_cols_this[0]!=0]\n",
    "    final_cols.append(df_cols_this.iloc[0,0])\n",
    "    #pulling last year's columns\n",
    "    df_cols_last = pd.DataFrame(df_cols_last)\n",
    "    df_cols_last = df_cols_last[df_cols_last[0]!=0]\n",
    "    final_cols.append(df_cols_last.iloc[1,0])\n",
    "    final_cols.append(df_cols_last.iloc[12,0])\n",
    "    final_cols.append(df_cols_last.iloc[13,0])\n",
    "    final_cols.append(df_cols_last.iloc[14,0])\n",
    "    final_cols.append('STATE')\n",
    "    final_cols.append('COUNTY')\n",
    "    df = df[final_cols]\n",
    "    df['STATE'] = df['STATE'].apply(lambda x: state_fix(x))\n",
    "    df['COUNTY'] = df['COUNTY'].apply(lambda x: county_fix(x))\n",
    "    df['string_county_code'] = df['STATE'] + df['COUNTY']\n",
    "    df['county_code'] = df['string_county_code'].apply(lambda x: int(x))\n",
    "    df['year'] = int(year)\n",
    "    df.columns = ['population_est', 'net_pop_change_raw','natural_pop_growth_rate', 'intl_migrate_rate', 'dom_migrate_rate', 'state_num', 'county_num', 'string_county_code', 'county_code', 'year']\n",
    "    return df\n",
    "\n",
    "pop_grow_10_14 = pd.read_csv('/Users/HudsonCavanagh/Dropbox/Capstone/non_cdc_data/pop_dense_10_14.csv') #need to find where this file actually is\n",
    "pop_grow_00_10 = pd.read_csv('/Users/HudsonCavanagh/Dropbox/Capstone/non_cdc_data/pop_grow_00_10.csv') #need to find where this file actually is\n",
    "\n",
    "\n",
    "#for 2011, need to do it in 2 parts\n",
    "#first get 2011 pop estimate\n",
    "\n",
    "pop_grow_11 = pop_grow_10_14\n",
    "pop_grow_11['STATE'] = pop_grow_11['STATE'].apply(lambda x: state_fix(x))\n",
    "pop_grow_11['COUNTY'] = pop_grow_11['COUNTY'].apply(lambda x: county_fix(x))\n",
    "pop_grow_11['string_county_code'] = pop_grow_11['STATE'] + pop_grow_11['COUNTY']\n",
    "pop_grow_11['county_code'] = pop_grow_11['string_county_code'].apply(lambda x: int(x))\n",
    "pop_grow_11['year'] = 2011\n",
    "pop_grow_11 = pop_grow_11[['POPESTIMATE2011', 'county_code', 'year']]\n",
    "pop_grow_11.columns = ['population_est', 'county_code', 'year']\n",
    "\n",
    "#second, get pop change in 2010\n",
    "pop_grow_2010 = pop_grow_00_10\n",
    "pop_grow_2010['year'] = 2011\n",
    "pop_grow_2010['STATE'] = pop_grow_2010['STATE'].apply(lambda x: state_fix(x))\n",
    "pop_grow_2010['COUNTY'] = pop_grow_2010['COUNTY'].apply(lambda x: county_fix(x))\n",
    "pop_grow_2010['string_county_code'] = pop_grow_2010['STATE'] + pop_grow_2010['COUNTY']\n",
    "pop_grow_2010['county_code'] = pop_grow_2010['string_county_code'].apply(lambda x: int(x))\n",
    "pop_grow_2010 = pop_grow_2010[['year', 'county_code', 'NPOPCHG_2010','RNATURALINC2010','RINTERNATIONALMIG2010','RDOMESTICMIG2010']]\n",
    "pop_grow_2010.columns = ['year', 'county_code', 'net_pop_change_raw', 'natural_pop_growth_rate', 'intl_migrate_rate', 'dom_migrate_rate']\n",
    "\n",
    "#and merge\n",
    "pop_grow_11 = pd.merge(pop_grow_11, pop_grow_2010, how='left', left_on=['year', 'county_code'], right_on=['year', 'county_code'])\n",
    "\n",
    "#apply function to each year other than 2011 on two .csvs\n",
    "growth_03 = growth_convert(pop_grow_00_10, 2003)\n",
    "growth_04 = growth_convert(pop_grow_00_10, 2004)\n",
    "growth_05 = growth_convert(pop_grow_00_10, 2005)\n",
    "growth_06 = growth_convert(pop_grow_00_10, 2006)\n",
    "growth_07 = growth_convert(pop_grow_00_10, 2007)\n",
    "growth_08 = growth_convert(pop_grow_00_10, 2008)\n",
    "growth_09 = growth_convert(pop_grow_00_10, 2009)\n",
    "growth_10 = growth_convert(pop_grow_00_10, 2010)\n",
    "# growth_11 = growth_convert(pop_grow_00_14, 2011) ## note this requires merging the two csvs because spans the difference\n",
    "growth_12 = growth_convert(pop_grow_10_14, 2012)\n",
    "growth_13 = growth_convert(pop_grow_10_14, 2013)\n",
    "growth_14 = growth_convert(pop_grow_10_14, 2014)\n",
    "#merge all population growth features\n",
    "grow_03_14 = pd.concat([growth_03, growth_04, growth_05, growth_06, growth_07, growth_08, growth_09, growth_10, pop_grow_11, growth_12, growth_13, growth_14], axis=0)\n",
    "#merge pop features to deaths_pop\n",
    "deaths_pop = pd.merge(deaths_pop, grow_03_14, how='left', left_on=['year', 'county_code'], right_on=['year', 'county_code'])\n",
    "\n"
   ]
  },
  {
   "cell_type": "markdown",
   "metadata": {},
   "source": [
    "## Re-merging deaths to make sure no errors above\n",
    "\n"
   ]
  },
  {
   "cell_type": "code",
   "execution_count": 16,
   "metadata": {
    "collapsed": false
   },
   "outputs": [],
   "source": [
    "deaths_simple = pd.read_csv('/Users/HudsonCavanagh/Dropbox/Capstone/cdc_data/deaths_simple.csv', delimiter='\\t', encoding='utf-8')\n",
    "#put last years alcohol\n",
    "deaths_simple = deaths_simple.applymap(lambda x: str(x).replace(\",\", \"\"))\n",
    "\n",
    "deaths_simple = deaths_simple[['County Code', 'Year', 'Deaths', 'Population', 'Crude Rate', 'Age Adjusted Rate']]\n",
    "\n",
    "deaths_simple.columns = ['county_code', 'year', 'deaths_raw', 'cdc_population', 'death_rate_100k_cdc','death_rate_age_adjusted_cdc']\n",
    "\n",
    "\n",
    "def yearify(year):\n",
    "    year = float(year)\n",
    "    try:\n",
    "        return int(year)\n",
    "    except:  \n",
    "        return year\n",
    "    \n",
    "def interator(example):\n",
    "    try:\n",
    "        example = str(example).split('.')[0]\n",
    "        return int(example)\n",
    "    except:\n",
    "        return example\n",
    "    \n",
    "def death_clean(death):\n",
    "    try:\n",
    "        return float(death)\n",
    "    except:\n",
    "        return np.nan\n",
    "\n",
    "\n",
    "deaths_simple['year'] = deaths_simple['year'].apply(lambda x: yearify(x))\n",
    "deaths_simple['county_code'] = deaths_simple['county_code'].apply(lambda x: yearify(x))\n",
    "deaths_simple['deaths_raw'] = deaths_simple['deaths_raw'].apply(lambda x: death_clean(x))\n",
    "deaths_simple['cdc_population'] = deaths_simple['cdc_population'].apply(lambda x: death_clean(x))\n",
    "deaths_simple['death_rate_100k_cdc'] = deaths_simple['death_rate_100k_cdc'].apply(lambda x: death_clean(x))\n",
    "\n",
    "\n",
    "\n"
   ]
  },
  {
   "cell_type": "markdown",
   "metadata": {},
   "source": [
    "### Adding alcohol related deaths FROM PRIOR YEAR as feature"
   ]
  },
  {
   "cell_type": "code",
   "execution_count": 17,
   "metadata": {
    "collapsed": true
   },
   "outputs": [],
   "source": [
    "#adding alcohol deaths as feature\n",
    "\n",
    "\n",
    "# alcohol_deaths_simple = pd.read_csv('/Users/HudsonCavanagh/Dropbox/Capstone/cdc_data/alcohol_deaths_simple.csv', delimiter='\\t', encoding='utf-8')\n",
    "\n",
    "# alcohol_deaths_simple = alcohol_deaths_simple.applymap(lambda x: str(x).replace(\",\", \"\"))\n",
    "\n",
    "# alcohol_deaths_simple = alcohol_deaths_simple[['County Code', 'Year', 'Deaths', 'Crude Rate', 'Age Adjusted Rate']]\n",
    "\n",
    "# alcohol_deaths_simple.columns = ['county_code', 'year', 'alc_deaths_raw_prior_yr', 'alc_death_rate_100k_cdc_prior_yr','alc_death_rate_age_adjusted_cdc_prior_yr']\n",
    "# alcohol_deaths_simple['year'] = alcohol_deaths_simple['year'].apply(lambda x: yearify(x))\n",
    "# alcohol_deaths_simple['year'] = alcohol_deaths_simple['year'] - 1 ### NOTE -- MERGING THIS FEATURE ONE YEAR DELAYED\n",
    "# alcohol_deaths_simple['year'] = alcohol_deaths_simple['year'].apply(lambda x: interator(x))\n",
    "\n",
    "# alcohol_deaths_simple['county_code'] = alcohol_deaths_simple['county_code'].apply(lambda x: interator(x))\n",
    "# alcohol_deaths_simple['alc_deaths_raw_prior_yr'] = alcohol_deaths_simple['alc_deaths_raw_prior_yr'].apply(lambda x: death_clean(x))\n",
    "# alcohol_deaths_simple['alc_death_rate_100k_cdc_prior_yr'] = alcohol_deaths_simple['alc_death_rate_100k_cdc_prior_yr'].apply(lambda x: death_clean(x))\n",
    "# alcohol_deaths_simple['alc_death_rate_age_adjusted_cdc_prior_yr'] = alcohol_deaths_simple['alc_death_rate_age_adjusted_cdc_prior_yr'].apply(lambda x: death_clean(x))\n",
    "\n",
    "\n"
   ]
  },
  {
   "cell_type": "code",
   "execution_count": 18,
   "metadata": {
    "collapsed": false
   },
   "outputs": [],
   "source": [
    "deaths_pop = pd.merge(deaths_pop, deaths_simple, how='left', left_on=['year', 'county_code'], right_on=['year', 'county_code'])\n",
    "# deaths_pop = pd.merge(deaths_pop, alcohol_deaths_simple, how='left', left_on=['year', 'county_code'], right_on=['year', 'county_code'])\n",
    "#removed the above feature because would have forced me to drop ~ 344 rows\n",
    "\n",
    "\n",
    "\n",
    "\n",
    "deaths_pop.dropna(axis=0, subset=['working_pop', 'employed_pop', 'deaths_raw', 'population_est'], inplace=1)\n",
    "\n",
    "\n",
    "# deaths_pop.isnull().sum()\n"
   ]
  },
  {
   "cell_type": "code",
   "execution_count": 19,
   "metadata": {
    "collapsed": false
   },
   "outputs": [
    {
     "name": "stdout",
     "output_type": "stream",
     "text": [
      "(296604.0, 297418.0)\n"
     ]
    }
   ],
   "source": [
    "print(sum(deaths_pop['deaths']), sum(deaths_pop['deaths_raw'])) #close but they depart"
   ]
  },
  {
   "cell_type": "code",
   "execution_count": 20,
   "metadata": {
    "collapsed": false
   },
   "outputs": [],
   "source": [
    "# # #calculations that required merge\n",
    "deaths_pop['drug_death_rate_100k_cdc']  = deaths_pop['deaths_raw']/(deaths_pop['cdc_population']/100000)\n",
    "deaths_pop['drug_death_rate_100k']  = deaths_pop['deaths_raw']/(deaths_pop['population_est']/100000) #accepting this as target\n",
    "deaths_pop['perc_pop_employed'] = deaths_pop['employed_pop']/deaths_pop['population_est']\n",
    "deaths_pop['unemp_rate'] = 1 - (deaths_pop['employed_pop']/deaths_pop['working_pop']) #this is good\n",
    "deaths_pop['perc_pop_working'] = deaths_pop['working_pop']/deaths_pop['population_est']\n",
    "deaths_pop['pov_rate'] = deaths_pop['pov_count_tot']/ deaths_pop['population_est']\n",
    "deaths_pop['pov_rate_youth'] = deaths_pop['pov_youth_count_0-17']/ deaths_pop['population_est']\n",
    "deaths_pop['pop_change_rate'] = deaths_pop['net_pop_change_raw'] / deaths_pop['population_est']\n",
    "deaths_pop['constant'] = 1.0\n",
    "\n",
    "deaths_pop.drop(1391, inplace=1)#noticed this is an outliar in plot below Coconino, AZ  pop listed as 1196.0\n",
    "# deaths_pop[deaths_pop['county_code']==4005] "
   ]
  },
  {
   "cell_type": "code",
   "execution_count": 21,
   "metadata": {
    "collapsed": true
   },
   "outputs": [],
   "source": [
    "deaths_pop['drug_death_rate_100k_diff_cdc_pop'] = deaths_pop['drug_death_rate_100k_cdc'] - deaths_pop['drug_death_rate_100k']"
   ]
  },
  {
   "cell_type": "code",
   "execution_count": 22,
   "metadata": {
    "collapsed": false
   },
   "outputs": [
    {
     "data": {
      "text/plain": [
       "<matplotlib.axes._subplots.AxesSubplot at 0x11b175a90>"
      ]
     },
     "execution_count": 22,
     "metadata": {},
     "output_type": "execute_result"
    },
    {
     "data": {
      "image/png": "[encoded data removed]",
      "text/plain": [
       "<matplotlib.figure.Figure at 0x11be28d90>"
      ]
     },
     "metadata": {},
     "output_type": "display_data"
    }
   ],
   "source": [
    "sns.distplot(deaths_pop['drug_death_rate_100k_diff_cdc_pop']) #basically even, no obvious bias"
   ]
  },
  {
   "cell_type": "code",
   "execution_count": 23,
   "metadata": {
    "collapsed": false
   },
   "outputs": [
    {
     "data": {
      "text/plain": [
       "<matplotlib.axes._subplots.AxesSubplot at 0x11be28cd0>"
      ]
     },
     "execution_count": 23,
     "metadata": {},
     "output_type": "execute_result"
    },
    {
     "data": {
      "image/png": "[encoded data removed]",
      "text/plain": [
       "<matplotlib.figure.Figure at 0x11aedaa50>"
      ]
     },
     "metadata": {},
     "output_type": "display_data"
    }
   ],
   "source": [
    "sns.distplot(deaths_pop['drug_death_rate_100k']) #basically even, no obvious bias"
   ]
  },
  {
   "cell_type": "markdown",
   "metadata": {},
   "source": [
    "### Readding county names and state identities"
   ]
  },
  {
   "cell_type": "code",
   "execution_count": 24,
   "metadata": {
    "collapsed": false
   },
   "outputs": [],
   "source": [
    "\n",
    "def state_extract(county):\n",
    "    county = str(county)\n",
    "    try:\n",
    "        county = county.split(\",\")[1]\n",
    "        county = county.replace(\" \", \"\")\n",
    "        return county\n",
    "    except: \n",
    "        if len(county) == 2:\n",
    "            return county\n",
    "        else:\n",
    "            return \"ERROR\"\n",
    "        \n",
    "\n",
    "name_codes = cdc_03_14.loc[:,['county_code', 'County']] #grabbing this \n",
    "name_codes['county_code'] = name_codes['county_code'].apply(lambda x: int(x))\n",
    "name_codes.index=name_codes['county_code']\n",
    "name_codes = name_codes.iloc[:,1:]\n",
    "name_codes = name_codes.to_dict()\n",
    "name_codes = name_codes['County']\n",
    "\n",
    "\n",
    "deaths_pop['county_name'] = deaths_pop['county_code'].apply(lambda x: name_codes[x])\n",
    "deaths_pop['state'] = deaths_pop['county_name'].apply(lambda x: state_extract(x))\n",
    "state_dums = pd.get_dummies(deaths_pop['state'])\n",
    "state_feats = state_dums.columns\n",
    "\n",
    "deaths_pop = pd.concat([deaths_pop,state_dums], axis = 1)\n",
    "\n",
    "\n",
    "\n",
    "#merging naxolone policies\n",
    "\n",
    "deaths_pop = pd.merge(deaths_pop, naxo, how='left', left_on=['year', 'state'], right_on=['year', 'state'])\n",
    "\n",
    "# type(state_dums['AL'][2]) -- float\n",
    "\n",
    "deaths_pop.dropna(axis=0, subset=['working_pop', 'employed_pop'], inplace=1)\n",
    "# len(deaths_pop[deaths_pop['year']==2011])\n",
    "\n",
    "# len(deaths_pop) #3104\n",
    "# deaths_pop.isnull().sum()\n",
    "deaths_pop.isnull().sum() # null issues are all with the population dataset\n"
   ]
  },
  {
   "cell_type": "code",
   "execution_count": null,
   "metadata": {
    "collapsed": false
   },
   "outputs": [],
   "source": [
    "deaths_pop.describe()"
   ]
  },
  {
   "cell_type": "code",
   "execution_count": null,
   "metadata": {
    "collapsed": false
   },
   "outputs": [],
   "source": [
    "deaths_pop['drug_death_rate_100k']\n",
    "deaths_pop['drug_death_rate_100k'].describe() #new target variable"
   ]
  },
  {
   "cell_type": "code",
   "execution_count": null,
   "metadata": {
    "collapsed": false
   },
   "outputs": [],
   "source": [
    "sns.distplot(deaths_pop['drug_death_rate_100k'])"
   ]
  },
  {
   "cell_type": "code",
   "execution_count": null,
   "metadata": {
    "collapsed": false
   },
   "outputs": [],
   "source": [
    "hardest_hit = deaths_pop[['drug_death_rate_100k', 'year', 'county_name', 'deaths', 'population_est']].sort('drug_death_rate_100k')\n",
    "# hardest_hit = sorted(deaths_pop[['death_rate_100k', 'year', 'county_name']][:-25], reverse=True)\n",
    "# hardest_hit['year'].mean()\n",
    "hardest_hit.tail(50)"
   ]
  },
  {
   "cell_type": "code",
   "execution_count": null,
   "metadata": {
    "collapsed": false
   },
   "outputs": [],
   "source": [
    "hardest_hit[hardest_hit['county_name']=='Rio Arriba County, NM'] #population is definitely wrong"
   ]
  },
  {
   "cell_type": "code",
   "execution_count": null,
   "metadata": {
    "collapsed": false
   },
   "outputs": [],
   "source": [
    "\n",
    "# hardest_hit['population'].head(50)"
   ]
  },
  {
   "cell_type": "markdown",
   "metadata": {
    "collapsed": false
   },
   "source": [
    "## Based on the prominence of \"population\" in the predictions (of a rate), going to remove the outliar populations with exceptionally low populations\n",
    "\n",
    "y and X will be limited features\n",
    "\n",
    "y_full and X_full will be full datatset"
   ]
  },
  {
   "cell_type": "code",
   "execution_count": null,
   "metadata": {
    "collapsed": false
   },
   "outputs": [],
   "source": [
    "print(deaths_pop['drug_death_rate_100k'][deaths_pop['population_est']<10000].mean(),\n",
    "deaths_pop['drug_death_rate_100k'][deaths_pop['population_est']<5000].mean(),\n",
    "deaths_pop['drug_death_rate_100k'][deaths_pop['population_est']<3000].mean()) \n",
    "\n",
    "# at 3k, dropping 14 samples\n",
    "# at 5k 47 samples\n",
    "# at 10k, 214 samples\n",
    "\n",
    "\n",
    "#outliars are definitely in this range -- starting with "
   ]
  },
  {
   "cell_type": "code",
   "execution_count": null,
   "metadata": {
    "collapsed": false
   },
   "outputs": [],
   "source": [
    "print(len(deaths_pop[deaths_pop['population_est']<10000]), len(deaths_pop))"
   ]
  },
  {
   "cell_type": "code",
   "execution_count": null,
   "metadata": {
    "collapsed": false
   },
   "outputs": [],
   "source": [
    "state_feats"
   ]
  },
  {
   "cell_type": "code",
   "execution_count": null,
   "metadata": {
    "collapsed": false
   },
   "outputs": [],
   "source": [
    "from sklearn.preprocessing import StandardScaler\n",
    "#saving this so can re-run the analysis later with full features\n",
    "deaths_pop_lim = deaths_pop[deaths_pop['population_est']>10000] # playing with this line to see how it effects model\n",
    "deaths_pop_lim = deaths_pop_lim[deaths_pop_lim['population_est']<4000000]\n",
    "\n",
    "deaths_pop.head()"
   ]
  },
  {
   "cell_type": "code",
   "execution_count": null,
   "metadata": {
    "collapsed": false
   },
   "outputs": [],
   "source": [
    "def floater(df):\n",
    "    for col in df:\n",
    "        try:\n",
    "            col = col.apply(lambda x: float(x))\n",
    "        except:\n",
    "            continue\n",
    "    return df\n",
    "                \n",
    "\n",
    "    \n",
    "deaths_pop = floater(deaths_pop)\n",
    "deaths_pop.head()"
   ]
  },
  {
   "cell_type": "code",
   "execution_count": null,
   "metadata": {
    "collapsed": false
   },
   "outputs": [],
   "source": [
    "\n",
    "deaths_pop['year'].apply(lambda x: str(x))\n",
    "year_dums = pd.get_dummies(deaths_pop['year'])\n",
    "deaths_pop = pd.concat([deaths_pop,year_dums], axis = 1) #not using these anymore in features\n"
   ]
  },
  {
   "cell_type": "code",
   "execution_count": null,
   "metadata": {
    "collapsed": false
   },
   "outputs": [],
   "source": [
    "deaths_pop.describe()\n",
    "\n"
   ]
  },
  {
   "cell_type": "code",
   "execution_count": null,
   "metadata": {
    "collapsed": false
   },
   "outputs": [],
   "source": [
    "## Adding auto-regressive features\n",
    "\n",
    "#\n",
    "deaths_pop = deaths_pop.sort_values(by=['county_code', 'year'])\n",
    "deaths_pop['prior_year_death_rate_100k'] = deaths_pop['drug_death_rate_100k'].shift(1)\n",
    "deaths_pop['pre_prior_year_death_rate_100k'] = deaths_pop['drug_death_rate_100k'].shift(2)\n",
    "deaths_pop['prior_year_death_growth_rate'] = (deaths_pop['prior_year_death_rate_100k'] - deaths_pop['pre_prior_year_death_rate_100k'])/deaths_pop['pre_prior_year_death_rate_100k']\n",
    "deaths_pop['three_back_year_death_rate_100k'] = deaths_pop['drug_death_rate_100k'].shift(3)\n",
    "deaths_pop['two_year_period_death_growth_rate'] = (deaths_pop['prior_year_death_rate_100k'] - deaths_pop['three_back_year_death_rate_100k'])/ deaths_pop['three_back_year_death_rate_100k']\n",
    "deaths_pop['two_three_year_death_growth_rate'] = (deaths_pop['pre_prior_year_death_rate_100k']-deaths_pop['three_back_year_death_rate_100k'])/ deaths_pop['three_back_year_death_rate_100k']\n",
    "deaths_pop['years_since_14'] = 2014 - deaths_pop['year']\n",
    "\n",
    "\n",
    "# deaths_pop[deaths_pop['prior_year_death_rate_100k'].isnull()==True]\n",
    "deaths_pop.drop(886, inplace=1)\n",
    "deaths_pop = deaths_pop.sort_index() #to undo sorting\n",
    "death_df = deaths_pop  ## going to clean death_df below\n",
    "from collections import defaultdict\n",
    "\n",
    "\n",
    "death_df['count_county_code'] = np.nan\n",
    "death_df.reset_index(inplace=1)\n",
    "\n",
    "def dict_applier(df):\n",
    "    dict_ex = defaultdict(lambda: 0)\n",
    "    for i in range(len(df)):\n",
    "        dict_ex[df['county_code'][i]] +=1\n",
    "        df['count_county_code'][i] = dict_ex[df['county_code'][i]]\n",
    "    return df\n",
    "\n",
    "        \n",
    "death_df = dict_applier(death_df)\n",
    "\n",
    "\n",
    "# len(death_df[death_df['count_county_code']>4]) #1723\n",
    "deaths_pop = death_df[death_df['count_county_code']>=4]\n",
    "\n",
    "\n"
   ]
  },
  {
   "cell_type": "code",
   "execution_count": null,
   "metadata": {
    "collapsed": false
   },
   "outputs": [],
   "source": [
    "len(death_df[death_df['count_county_code']>=4])"
   ]
  },
  {
   "cell_type": "code",
   "execution_count": null,
   "metadata": {
    "collapsed": false
   },
   "outputs": [],
   "source": []
  },
  {
   "cell_type": "code",
   "execution_count": null,
   "metadata": {
    "collapsed": false
   },
   "outputs": [],
   "source": []
  },
  {
   "cell_type": "code",
   "execution_count": null,
   "metadata": {
    "collapsed": false
   },
   "outputs": [],
   "source": []
  },
  {
   "cell_type": "markdown",
   "metadata": {},
   "source": [
    "### Implementing Model Below\n",
    "\n",
    "####"
   ]
  },
  {
   "cell_type": "code",
   "execution_count": null,
   "metadata": {
    "collapsed": false
   },
   "outputs": [],
   "source": [
    "median_drug_rate = np.median(deaths_pop['drug_death_rate_100k'])\n",
    "avg_drug_rate = np.mean(deaths_pop['drug_death_rate_100k'])\n",
    "\n",
    "y = deaths_pop['drug_death_rate_100k']\n",
    "\n",
    "# v1 features = deaths_pop[['year','pop_sub_15_prop','pop_15-34_prop','pop_35-54_prop','pop_55+_prop','pop_asian_prop', 'pop_white_prop','pop_black_prop','pop_hisp_prop','population','med_hh_income', 'unemp_rate', 'perc_pop_working', 'pov_rate', 'pov_rate_youth', 'constant', 'AK', 'AL', 'AR', 'AZ', 'CA', 'CO','CT', 'DC', 'DE', 'FL', 'GA', 'HI', 'IA', 'ID', 'IL', 'IN', 'KS', 'KY', 'LA', 'MA', 'MD', 'ME','MI', 'MN', 'MO', 'MS', 'MT', 'NC', 'NE', 'NH','NJ', 'NM', 'NV', 'NY', 'OH', 'OK', 'OR', 'PA', 'RI','SC','SD', 'TN', 'TX', 'UT', 'VA', 'WA', 'WI', 'WV', 'WY']]\n",
    "# v2 features, removed hisp, years, population below = deaths_pop[['pop_sub_15_prop','pop_15-34_prop','pop_35-54_prop','pop_55+_prop','pop_asian_prop', 'pop_white_prop','pop_black_prop','pop_hisp_prop','population','med_hh_income', 'unemp_rate', 'perc_pop_working', 'pov_rate', 'pov_rate_youth', 'constant', 'AK', 'AL', 'AR', 'AZ', 'CA', 'CO','CT', 'DC', 'DE', 'FL', 'GA', 'HI', 'IA', 'ID', 'IL', 'IN', 'KS', 'KY', 'LA', 'MA', 'MD', 'ME','MI', 'MN', 'MO', 'MS', 'MT', 'NC', 'NE', 'NH','NJ', 'NM', 'NV', 'NY', 'OH', 'OK', 'OR', 'PA', 'RI','SC','SD', 'TN', 'TX', 'UT', 'VA', 'WA', 'WI', 'WV', 'WY', 2003, 2004, 2005, 2006, 2007, 2008, 2009, 2010, 2011, 2012, 2013, 2014]]\n",
    "\n",
    "#when including population density, make sure to exclude outliars, esp Alaska\n",
    "\n",
    "\n",
    "features = deaths_pop[['prior_year_death_rate_100k', 'pre_prior_year_death_rate_100k', 'prior_year_death_growth_rate','three_back_year_death_rate_100k', 'two_year_period_death_growth_rate', 'two_three_year_death_growth_rate', 'national_fentanyl_seizures', 'naxo_crim', 'naxo_civ', 'naxo_third', 'pop_sub_15_prop','pop_15-34_prop','pop_35-54_prop','pop_55+_prop','pop_asian_prop', 'pop_white_prop','pop_black_prop','med_hh_income', 'unemp_rate', 'perc_pop_working', 'pov_rate', 'pov_rate_youth', 'population_est', 'pop_change_rate','natural_pop_growth_rate', 'intl_migrate_rate', 'dom_migrate_rate', 'constant', 'AK', 'AL', 'AR', 'AZ', 'CA', 'CO','CT', 'DC', 'DE', 'FL', 'GA', 'HI', 'IA', 'ID', 'IL', 'IN', 'KS', 'KY', 'LA', 'MA', 'MD', 'ME','MI', 'MN', 'MO', 'MS', 'MT', 'NC', 'NE', 'NH','NJ', 'NM', 'NV', 'NY', 'OH', 'OK', 'OR', 'PA', 'RI','SC','SD', 'TN', 'TX', 'UT', 'VA', 'WA', 'WI', 'WV', 'WY']]\n",
    "\n",
    "\n",
    "#8/25 added autoregressive features!!!\n",
    "\n",
    "# '2003', '2004', '2005', '2006', '2007', '2008', '2009', '2010', '2011', '2012', '2013', '2014'\n",
    "features.to_csv('/Users/HudsonCavanagh/Dropbox/Capstone/csv_output/full_features_cdc_states_v6.csv')\n"
   ]
  },
  {
   "cell_type": "code",
   "execution_count": null,
   "metadata": {
    "collapsed": false
   },
   "outputs": [],
   "source": [
    "avg_drug_rate"
   ]
  },
  {
   "cell_type": "code",
   "execution_count": null,
   "metadata": {
    "collapsed": true
   },
   "outputs": [],
   "source": [
    "X = StandardScaler().fit_transform(features)\n",
    "X = pd.DataFrame(X, columns=features.columns)\n",
    "\n",
    "#PCA for later plots & model testing\n",
    "\n",
    "pca_2 = PCA(n_components=2)\n",
    "pca_3 = PCA(n_components=3)\n",
    "pca_4 = PCA(n_components=4)\n",
    "xPC_2 = pca_2.fit_transform(X)\n",
    "xPC_3 = pca_3.fit_transform(X)\n",
    "xPC_4 = pca_4.fit_transform(X)"
   ]
  },
  {
   "cell_type": "code",
   "execution_count": null,
   "metadata": {
    "collapsed": false
   },
   "outputs": [],
   "source": [
    "death_df.head()"
   ]
  },
  {
   "cell_type": "code",
   "execution_count": null,
   "metadata": {
    "collapsed": false
   },
   "outputs": [],
   "source": [
    "death_df"
   ]
  },
  {
   "cell_type": "markdown",
   "metadata": {},
   "source": [
    "## Implementing Tree Models, partially for feature importance"
   ]
  },
  {
   "cell_type": "code",
   "execution_count": null,
   "metadata": {
    "collapsed": false
   },
   "outputs": [],
   "source": [
    "from sklearn.linear_model import LogisticRegression\n",
    "from sklearn.cross_validation import train_test_split, cross_val_score\n",
    "from sklearn.cross_validation import StratifiedKFold, permutation_test_score\n",
    "from sklearn.tree import DecisionTreeRegressor\n",
    "\n",
    "stratk = StratifiedKFold(y, n_folds=10, shuffle=True, random_state=66)\n",
    "\n",
    "\n",
    "dt_simple = DecisionTreeRegressor(min_samples_leaf=4, min_samples_split=6, max_depth=6)\n",
    "dt_simple.fit(X,y)\n",
    "s_dt = cross_val_score(dt_simple, X, y, cv=stratk, n_jobs=-1)\n",
    "\n",
    "print(\"Decision Tree\", s_dt.mean())\n"
   ]
  },
  {
   "cell_type": "code",
   "execution_count": null,
   "metadata": {
    "collapsed": true
   },
   "outputs": [],
   "source": []
  },
  {
   "cell_type": "markdown",
   "metadata": {},
   "source": []
  },
  {
   "cell_type": "code",
   "execution_count": null,
   "metadata": {
    "collapsed": false
   },
   "outputs": [],
   "source": [
    "\n"
   ]
  },
  {
   "cell_type": "code",
   "execution_count": null,
   "metadata": {
    "collapsed": false
   },
   "outputs": [],
   "source": []
  },
  {
   "cell_type": "code",
   "execution_count": null,
   "metadata": {
    "collapsed": true
   },
   "outputs": [],
   "source": []
  },
  {
   "cell_type": "code",
   "execution_count": null,
   "metadata": {
    "collapsed": false
   },
   "outputs": [],
   "source": [
    "from sklearn.ensemble import RandomForestRegressor, ExtraTreesRegressor, BaggingRegressor\n",
    "import seaborn as sns\n",
    "\n",
    "rf = RandomForestRegressor()\n",
    "rf_cv = RandomForestRegressor()\n",
    "\n",
    "X_train, X_test, y_train, y_test = train_test_split(X, y, test_size=0.33, random_state=50)\n",
    "rf.fit(X_train, y_train)\n",
    "ypred_rf = rf.predict(X_test)\n",
    "s_rf_cv = cross_val_score(rf_cv, X, y, cv=stratk, n_jobs=-1)\n",
    "    \n",
    "s_rf_cv.mean()\n",
    "\n",
    "#real progress with the random forest -- lets see how it compares to bagging  (~.90)\n",
    "#.755 with no population, pop growth features"
   ]
  },
  {
   "cell_type": "code",
   "execution_count": null,
   "metadata": {
    "collapsed": true
   },
   "outputs": [],
   "source": []
  },
  {
   "cell_type": "code",
   "execution_count": null,
   "metadata": {
    "collapsed": false
   },
   "outputs": [],
   "source": [
    "#BAGGING NOT WORKING\n",
    "\n",
    "# bc_cv = BaggingRegressor(n_estimators=100)\n",
    "\n",
    "# #X_scale = X_train     X_dums = Xd_train\n",
    "# # bc.fit(X_train,y_train)\n",
    "# s_bc = cross_val_score(bc_cv, X, y, cv=stratk, n_jobs=-1, scoring='f1')\n",
    "# s_bc.mean()\n",
    "\n",
    "# print(\"{} Score:\\t{:0.3} ± {:0.3}\".format(\"Bagging Trees\", s_bc.mean(), s_bc.std()))\n"
   ]
  },
  {
   "cell_type": "code",
   "execution_count": null,
   "metadata": {
    "collapsed": true
   },
   "outputs": [],
   "source": [
    "# gs_rf = GridSearchCV(rf, {'min_samples_split': split_vals, 'max_depth': depths, 'max_features': max_feats}, cv=15)\n",
    "# s_gs_rf_cv = cross_val_score(gs_rf, X, y, cv=stratk, n_jobs=-1)\n",
    "# s_gs_rf_cv.mean()"
   ]
  },
  {
   "cell_type": "markdown",
   "metadata": {},
   "source": [
    "## Looking at Feature Importance"
   ]
  },
  {
   "cell_type": "code",
   "execution_count": null,
   "metadata": {
    "collapsed": false
   },
   "outputs": [],
   "source": [
    "rel_feature_import = sorted(zip(rf.feature_importances_, features.columns), reverse=True)\n",
    "rel_feature_import = pd.DataFrame(rel_feature_import)\n",
    "rel_feature_import #pop was .74 before outliar removal"
   ]
  },
  {
   "cell_type": "code",
   "execution_count": null,
   "metadata": {
    "collapsed": false
   },
   "outputs": [],
   "source": [
    "#because population at the top, let's graph how it relates to mortality rate\n",
    "\n",
    "sns.regplot(x='population_est', y='drug_death_rate_100k', data=deaths_pop) #some serious outliar action\n",
    "#appears all the outliars are at very low populations"
   ]
  },
  {
   "cell_type": "code",
   "execution_count": null,
   "metadata": {
    "collapsed": false
   },
   "outputs": [],
   "source": [
    "sns.distplot(deaths_pop['population_est'])"
   ]
  },
  {
   "cell_type": "code",
   "execution_count": null,
   "metadata": {
    "collapsed": false
   },
   "outputs": [],
   "source": [
    "\n"
   ]
  },
  {
   "cell_type": "markdown",
   "metadata": {},
   "source": [
    "Turns out, low population counties have dramatically higher mortality than larger population areas, (smaller than a million compared to bigger than a million)"
   ]
  },
  {
   "cell_type": "code",
   "execution_count": null,
   "metadata": {
    "collapsed": false
   },
   "outputs": [],
   "source": [
    "# print(deaths_pop['death_rate_100k'][deaths_pop['population']<100000].mean(), \n",
    "# deaths_pop['death_rate_100k'][deaths_pop['population']<10000].mean()) #these are dramatic outliars, lets take them out\n",
    "#re-running this model with limited dataset\n",
    "#less than 100k pop has higher mean than less than a million, less than 10k has highest likelihood"
   ]
  },
  {
   "cell_type": "code",
   "execution_count": null,
   "metadata": {
    "collapsed": false
   },
   "outputs": [],
   "source": [
    "# deaths_pop['county_code'][deaths_pop['population']<1000000].value_counts()\n",
    "# deaths_pop[deaths_pop['county_code']==26025] #2009 seems to have an error - looks like deaths and pop for 2008 & 2009 pooled\n",
    "# deaths_pop[deaths_pop['county_code']==53015] #no issues\n",
    "# deaths_pop[deaths_pop['county_code']==47093] #no issues\n",
    "# deaths_pop[deaths_pop['county_code']==41005] #no issues\n",
    "\n",
    "#lead by Calhoun County, Michigan (26025) but looks like issues with 2009"
   ]
  },
  {
   "cell_type": "markdown",
   "metadata": {},
   "source": [
    "s_rf_cv.mean()"
   ]
  },
  {
   "cell_type": "code",
   "execution_count": null,
   "metadata": {
    "collapsed": false
   },
   "outputs": [],
   "source": [
    "sns.regplot(ypred_rf, y_test)"
   ]
  },
  {
   "cell_type": "markdown",
   "metadata": {},
   "source": [
    "## Implementing Kaggle-Darling XG Boost "
   ]
  },
  {
   "cell_type": "code",
   "execution_count": null,
   "metadata": {
    "collapsed": false
   },
   "outputs": [],
   "source": [
    "import xgboost\n",
    "\n",
    "# fit model no training data\n",
    "xg_model = xgboost.XGBRegressor()\n",
    "xg_model_cv = xgboost.XGBRegressor()\n",
    "xg_model.fit(X_train, y_train)\n",
    "\n",
    "s_xg_cv = cross_val_score(xg_model_cv, X, y, cv=stratk, n_jobs=-1)\n",
    "\n",
    "# make predictions for test data\n",
    "y_pred_xg = xg_model.predict(X_test)\n",
    "s_xg_cv.mean()"
   ]
  },
  {
   "cell_type": "code",
   "execution_count": null,
   "metadata": {
    "collapsed": false
   },
   "outputs": [],
   "source": [
    "sns.regplot(y_pred_xg, y_test)"
   ]
  },
  {
   "cell_type": "markdown",
   "metadata": {},
   "source": [
    "### Implementing GradientBoosting Regressor to see if this is diff from XG Boost"
   ]
  },
  {
   "cell_type": "code",
   "execution_count": null,
   "metadata": {
    "collapsed": false
   },
   "outputs": [],
   "source": [
    "from sklearn.ensemble import GradientBoostingRegressor\n",
    "\n",
    "gb_tree = GradientBoostingRegressor(n_estimators=1000)\n",
    "gb_tree_cv = GradientBoostingRegressor(n_estimators=1000, max_depth=10)\n",
    "\n",
    "gb_tree.fit(X_train, y_train)\n",
    "ypred_gbtree = gb_tree.predict(X_test)\n",
    "\n",
    "\n",
    "s_gb_tree_cv = cross_val_score(gb_tree_cv, X, y, cv=stratk, n_jobs=-1)\n",
    "s_gb_tree_cv.mean()\n",
    "\n"
   ]
  },
  {
   "cell_type": "code",
   "execution_count": null,
   "metadata": {
    "collapsed": false
   },
   "outputs": [],
   "source": [
    "sns.regplot(ypred_gbtree, y_test, color=\"orange\")\n",
    "plt.xlabel('Predicted Mortality Rate (Gradient Boosted)')\n",
    "plt.ylabel('Actual Mortality Rate')\n",
    "plt.show()"
   ]
  },
  {
   "cell_type": "code",
   "execution_count": null,
   "metadata": {
    "collapsed": true
   },
   "outputs": [],
   "source": [
    "### Quick visualization t-SNE \n",
    "### Also want to do some classification with DB Scan"
   ]
  },
  {
   "cell_type": "code",
   "execution_count": null,
   "metadata": {
    "collapsed": false
   },
   "outputs": [],
   "source": [
    "import datetime\n",
    "from tsne import bh_sne\n",
    "# tsne = manifold.TSNE(n_components=2, init='pca', random_state=0)\n",
    "# t0 = datetime.time()\n",
    "# X_tsne = tsne.fit_transform(features)\n",
    "\n",
    "\n",
    "X_2d = bh_sne(X)\n",
    "plt.style.use('fivethirtyeight')\n",
    "plt.figure(figsize=(30, 10))\n",
    "plt.scatter(X_2d[:,0],X_2d[:,1])\n",
    "plt.title('t-SNE')\n",
    "plt.xlabel('')\n",
    "plt.ylabel('')\n",
    "\n",
    "\n",
    "plt.show()"
   ]
  },
  {
   "cell_type": "markdown",
   "metadata": {},
   "source": [
    "## Training a bunch more models to see if any improvements "
   ]
  },
  {
   "cell_type": "code",
   "execution_count": null,
   "metadata": {
    "collapsed": false
   },
   "outputs": [],
   "source": [
    "# ada_tree_scale = AdaBoostClassifier(n_estimators=100)\n",
    "# gb_tree_scale = GradientBoostingClassifier(n_estimators=100)\n",
    "# ada_rand_forest_scale = AdaBoostClassifier(RandomForestClassifier(class_weight='balanced', n_estimators=1000), n_estimators=100)\n",
    "# # gb_rand_forest_scale = GradientBoostingClassifier(RandomForestClassifier(class_weight='balanced', n_estimators=1000), n_estimators=100)\n",
    "# bc_rand_forest_scale = BaggingClassifier(RandomForestClassifier(class_weight='balanced', n_estimators=100), n_estimators=100) #.973  - .98 after\n",
    "# bc_knn = BaggingClassifier(KNeighborsClassifier(), n_estimators=1000) #.973  - .98 after\n"
   ]
  },
  {
   "cell_type": "markdown",
   "metadata": {},
   "source": [
    "## Exploring Outcomes"
   ]
  },
  {
   "cell_type": "code",
   "execution_count": null,
   "metadata": {
    "collapsed": false
   },
   "outputs": [],
   "source": [
    "# deaths_pop[['county_name', 'year', 'deaths']][deaths_pop['drug_death_rate_100k']>200][deaths_pop['population']>10000]"
   ]
  },
  {
   "cell_type": "code",
   "execution_count": null,
   "metadata": {
    "collapsed": false
   },
   "outputs": [],
   "source": []
  },
  {
   "cell_type": "markdown",
   "metadata": {},
   "source": [
    "## Summarizing info from the above\n",
    "\n",
    "a rate of 200 means that in any given year, 0.2% of the population (or 1 in every 500 people) died in any given year from a drug-related cause. Such a rate occured only once prior to 2010 and 12 times since then. \n",
    "\n",
    "-- deep issues in the appalacia area\n"
   ]
  },
  {
   "cell_type": "markdown",
   "metadata": {},
   "source": [
    "### Moving into clustering/ unsupervised methods & visualization"
   ]
  },
  {
   "cell_type": "code",
   "execution_count": null,
   "metadata": {
    "collapsed": false
   },
   "outputs": [],
   "source": [
    "from sklearn.cluster import DBSCAN, KMeans\n",
    "from sklearn.metrics import silhouette_score\n",
    "\n",
    "\n",
    "db1 = DBSCAN(eps = 4, min_samples = 15).fit(X)  \n",
    "db1labels = db1.labels_  \n",
    "core_samples = db1.core_sample_indices_\n",
    "\n",
    "print(\"Silhouette Coefficient: %0.3f\" \n",
    "      % silhouette_score(X, db1labels), len(set(db1labels)), db1labels.mean())"
   ]
  },
  {
   "cell_type": "code",
   "execution_count": null,
   "metadata": {
    "collapsed": false
   },
   "outputs": [],
   "source": [
    "db2 = DBSCAN(eps = 10, min_samples = 15).fit(X)  \n",
    "db2labels = db2.labels_  \n",
    "core_samples = db2.core_sample_indices_\n",
    "\n",
    "# db2labels \n",
    "print(\"Silhouette Coefficient: %0.3f\" \n",
    "      % silhouette_score(X, db1labels), len(set(db2labels)), db2labels.mean())"
   ]
  },
  {
   "cell_type": "code",
   "execution_count": null,
   "metadata": {
    "collapsed": false
   },
   "outputs": [],
   "source": [
    "# df_pca_2['cluster'] = pd.Series(clusters_pca.labels_)\n",
    "plt.style.use('fivethirtyeight')\n",
    "xPC_2 = pd.DataFrame(xPC_2, columns=['pc1', 'pc2'])\n",
    "xPC_2.head()"
   ]
  },
  {
   "cell_type": "code",
   "execution_count": null,
   "metadata": {
    "collapsed": false
   },
   "outputs": [],
   "source": [
    "plt.style.use('fivethirtyeight')\n",
    "xPC_2 = pd.DataFrame(xPC_2, columns=['pc1', 'pc2'])\n",
    "xPC_2.head()\n",
    "\n",
    "graph = xPC_2.plot(kind='scatter', x='pc1', y='pc2', figsize=(16,8))\n",
    "\n",
    "for i, county in enumerate(deaths_pop['county_name']):\n",
    "    graph.annotate(county, (xPC_2.iloc[i,0], xPC_2.iloc[i,1]))"
   ]
  },
  {
   "cell_type": "markdown",
   "metadata": {},
   "source": [
    "### Implementing Classification Model"
   ]
  },
  {
   "cell_type": "code",
   "execution_count": null,
   "metadata": {
    "collapsed": false,
    "scrolled": true
   },
   "outputs": [],
   "source": [
    "median_drug_rate"
   ]
  },
  {
   "cell_type": "code",
   "execution_count": null,
   "metadata": {
    "collapsed": false
   },
   "outputs": [],
   "source": [
    "y_bin = y.apply(lambda x: 1 if x > median_drug_rate else 0)"
   ]
  },
  {
   "cell_type": "code",
   "execution_count": null,
   "metadata": {
    "collapsed": false
   },
   "outputs": [],
   "source": [
    "from sklearn.ensemble import RandomForestClassifier, ExtraTreesClassifier, BaggingClassifier\n",
    "\n",
    "rf_c_cv = RandomForestClassifier()\n",
    "\n",
    "\n",
    "s_rf_cv = cross_val_score(rf_c_cv, X, y_bin, cv=stratk, n_jobs=-1)\n",
    "    \n",
    "s_rf_cv.mean()"
   ]
  },
  {
   "cell_type": "code",
   "execution_count": null,
   "metadata": {
    "collapsed": false
   },
   "outputs": [],
   "source": [
    "xg_class_model_cv = xgboost.XGBClassifier()\n",
    "\n",
    "s_xg_cv = cross_val_score(xg_class_model_cv, X, y_bin, cv=stratk, n_jobs=-1)\n",
    "\n",
    "s_xg_cv.mean()"
   ]
  },
  {
   "cell_type": "code",
   "execution_count": null,
   "metadata": {
    "collapsed": true
   },
   "outputs": [],
   "source": []
  },
  {
   "cell_type": "markdown",
   "metadata": {},
   "source": [
    "## Next Steps\n",
    "\n",
    "#### Need to go back to summary statistics extracted and make sure trends found here agree to those findings\n",
    "#### Need to explore why population figures are so distorted\n",
    "- go through from beginning and just follow that column\n",
    "#### Look for further features to add:\n",
    "- population density\n",
    "- policy features\n",
    "- "
   ]
  },
  {
   "cell_type": "code",
   "execution_count": null,
   "metadata": {
    "collapsed": false
   },
   "outputs": [],
   "source": []
  },
  {
   "cell_type": "code",
   "execution_count": null,
   "metadata": {
    "collapsed": false
   },
   "outputs": [],
   "source": [
    "state_change = pd.pivot_table(deaths_pop, values=['drug_death_rate_100k'], index=['state', 'year'], aggfunc='mean')\n",
    "state_average = pd.pivot_table(deaths_pop, values=['drug_death_rate_100k'], index=['state'], aggfunc='mean')\n",
    "\n",
    "year_average = pd.pivot_table(deaths_pop, values=['drug_death_rate_100k'], index=['year'], aggfunc='mean')\n",
    "# death_rate_pivot =pd.pivot_table(cdc_99_14, values=['crude_100k'], index=['County','year'], aggfunc='mean', fill_value=None, margins=False, dropna=True, margins_name='All')\n",
    "state_average.reset_index(inplace=1)\n",
    "\n",
    "sns.barplot(data = state_average, y='drug_death_rate_100k', x='state')\n",
    "# state_average['delta'] = state_average['delta']"
   ]
  },
  {
   "cell_type": "code",
   "execution_count": null,
   "metadata": {
    "collapsed": false
   },
   "outputs": [],
   "source": [
    "year_average.reset_index(inplace=1)\n",
    "sns.regplot(data = year_average, y='drug_death_rate_100k', x='year')\n"
   ]
  },
  {
   "cell_type": "code",
   "execution_count": null,
   "metadata": {
    "collapsed": false
   },
   "outputs": [],
   "source": [
    "ypred_gbtree = pd.DataFrame(ypred_gbtree)\n",
    "y_test = pd.DataFrame(y_test)\n",
    "pred_act_diff = y_test.merge(deaths_pop, how='left', left_index=1, right_index=1)\n",
    "pred_act_diff['death_rate_actual_ytest'] = pred_act_diff['drug_death_rate_100k_x']\n",
    "pred_act_diff = pred_act_diff.merge(ypred_gbtree, how='left', left_index=1, right_index=1)\n",
    "pred_act_diff['death_rate_pred_gb'] = pred_act_diff[0]\n",
    "pred_act_diff = pred_act_diff[pred_act_diff['death_rate_pred_gb'].isnull()==False]\n",
    "# deaths_pop = pd.merge(deaths_pop, pop_03_14, how='left', left_on=['year', 'county_code'], right_on=['year', 'county_code'])\n",
    "# pred_act_diff['predicted_gb'] = pred_act_diff[0]\n",
    "# pred_act_diff['residual'] = pred_act_diff['death_rate_100k'] - pred_act_diff['predicted_gb']\n",
    "pred_act_diff['residual'] = pred_act_diff['death_rate_pred_gb'] - pred_act_diff['death_rate_actual_ytest']\n",
    "\n",
    "#note positive means that actual > predicted\n",
    "pred_act_diff[['residual', 'death_rate_pred_gb', 'death_rate_actual_ytest', 'county_name', 'year']]\n"
   ]
  },
  {
   "cell_type": "code",
   "execution_count": null,
   "metadata": {
    "collapsed": false
   },
   "outputs": [],
   "source": [
    "predict_eval = pred_act_diff[['residual', 'death_rate_pred_gb', 'death_rate_actual_ytest', 'county_name', 'year']].sort('residual')\n",
    "predict_eval.head(5)"
   ]
  },
  {
   "cell_type": "code",
   "execution_count": null,
   "metadata": {
    "collapsed": false
   },
   "outputs": [],
   "source": [
    "predict_eval.tail(5)\n",
    "\n",
    "#the counties that appear here"
   ]
  },
  {
   "cell_type": "markdown",
   "metadata": {},
   "source": [
    "# Proceeding to predict 2014"
   ]
  },
  {
   "cell_type": "code",
   "execution_count": null,
   "metadata": {
    "collapsed": false
   },
   "outputs": [],
   "source": [
    "input_2013 = deaths_pop[deaths_pop['year']<2014]\n",
    "input_2013.reset_index(inplace=1) # added this 8/23 to alleviate nans below\n",
    "test_2014 = deaths_pop[deaths_pop['year']==2014]\n",
    "test_2014.reset_index(inplace=1) # added this 8/23 to alleviate nans below\n",
    "\n",
    "#creating regression training\n",
    "y_03_13 = input_2013['drug_death_rate_100k']\n",
    "\n",
    "#regression target\n",
    "y_14 = test_2014['drug_death_rate_100k']\n",
    "\n",
    "#creating classification (bigger/ smaller) train & target\n",
    "y_delta_bin_03_13 = (input_2013['drug_death_rate_100k']-input_2013['prior_year_death_rate_100k']).apply(lambda x: 1 if x >= 0 else 0) #one means increase\n",
    "y_delta_bin_14 = (test_2014['drug_death_rate_100k']-test_2014['prior_year_death_rate_100k']).apply(lambda x: 1 if x >= 0 else 0) #one means increase\n",
    "\n",
    "#creating regression train & target for drug rate growth\n",
    "y_delta_grow_03_13 = ((input_2013['drug_death_rate_100k']-input_2013['prior_year_death_rate_100k'])/input_2013['prior_year_death_rate_100k']) \n",
    "y_delta_grow_14 = ((test_2014['drug_death_rate_100k']-test_2014['prior_year_death_rate_100k'])/test_2014['prior_year_death_rate_100k']) \n",
    "\n",
    "\n",
    "#8/22 added prior year death rate as feature \n",
    ", \n",
    "features_03_13 = input_2013[['prior_year_death_rate_100k','pre_prior_year_death_rate_100k', 'prior_year_death_growth_rate','three_back_year_death_rate_100k', 'two_year_period_death_growth_rate', 'two_three_year_death_growth_rate', 'national_fentanyl_seizures','naxo_crim', 'naxo_civ', 'naxo_third', 'pop_sub_15_prop','pop_15-34_prop','pop_35-54_prop','pop_55+_prop','pop_asian_prop', 'pop_white_prop','pop_black_prop','med_hh_income', 'unemp_rate', 'perc_pop_working', 'pov_rate', 'pov_rate_youth', 'population_est', 'pop_change_rate','natural_pop_growth_rate', 'intl_migrate_rate', 'dom_migrate_rate', 'constant', 'AK', 'AL', 'AR', 'AZ', 'CA', 'CO','CT', 'DC', 'DE', 'FL', 'GA', 'HI', 'IA', 'ID', 'IL', 'IN', 'KS', 'KY', 'LA', 'MA', 'MD', 'ME','MI', 'MN', 'MO', 'MS', 'MT', 'NC', 'NE', 'NH','NJ', 'NM', 'NV', 'NY', 'OH', 'OK', 'OR', 'PA', 'RI','SC','SD', 'TN', 'TX', 'UT', 'VA', 'WA', 'WI', 'WV', 'WY']]\n",
    "features_14 = test_2014[['prior_year_death_rate_100k','pre_prior_year_death_rate_100k', 'prior_year_death_growth_rate','three_back_year_death_rate_100k', 'two_year_period_death_growth_rate', 'two_three_year_death_growth_rate','national_fentanyl_seizures','naxo_crim', 'naxo_civ', 'naxo_third', 'pop_sub_15_prop','pop_15-34_prop','pop_35-54_prop','pop_55+_prop','pop_asian_prop', 'pop_white_prop','pop_black_prop','med_hh_income', 'unemp_rate', 'perc_pop_working', 'pov_rate', 'pov_rate_youth', 'population_est', 'pop_change_rate','natural_pop_growth_rate', 'intl_migrate_rate', 'dom_migrate_rate', 'constant', 'AK', 'AL', 'AR', 'AZ', 'CA', 'CO','CT', 'DC', 'DE', 'FL', 'GA', 'HI', 'IA', 'ID', 'IL', 'IN', 'KS', 'KY', 'LA', 'MA', 'MD', 'ME','MI', 'MN', 'MO', 'MS', 'MT', 'NC', 'NE', 'NH','NJ', 'NM', 'NV', 'NY', 'OH', 'OK', 'OR', 'PA', 'RI','SC','SD', 'TN', 'TX', 'UT', 'VA', 'WA', 'WI', 'WV', 'WY']]\n",
    "X_03_13 = StandardScaler().fit_transform(features_03_13)\n",
    "X_03_13 = pd.DataFrame(X_03_13, columns=features_03_13.columns)\n",
    "\n",
    "X_14 = StandardScaler().fit_transform(features_14)\n",
    "X_14 = pd.DataFrame(X_14, columns=features_14.columns)\n",
    "\n",
    "gb_14 = GradientBoostingRegressor(n_estimators=1000, max_depth=10)\n",
    "\n",
    "gb_14.fit(X_03_13, y_03_13)\n",
    "ypred_14 = gb_14.predict(X_14)\n",
    "\n",
    "\n",
    "from sklearn.metrics import r2_score\n",
    "r2_score(y_14, ypred_14)\n",
    "\n",
    "#.6075 before fent feature"
   ]
  },
  {
   "cell_type": "code",
   "execution_count": null,
   "metadata": {
    "collapsed": false
   },
   "outputs": [],
   "source": [
    "ax = sns.regplot(y_14, ypred_14)\n",
    "ax.set_ylabel('Predicted Mortality Rate (2014)')\n",
    "ax.set_title('Observed Mortality Rate (2014)')"
   ]
  },
  {
   "cell_type": "code",
   "execution_count": null,
   "metadata": {
    "collapsed": false
   },
   "outputs": [],
   "source": [
    "ypred_14 = pd.DataFrame(ypred_14)\n",
    "eval_preds = pd.merge(test_2014, ypred_14, left_index=1, right_index=1)\n",
    "eval_preds['model_prediction']= eval_preds[0]\n",
    "rio = eval_preds[['model_prediction', 'drug_death_rate_100k', 'prior_year_death_rate_100k', 'pre_prior_year_death_rate_100k', 'three_back_year_death_rate_100k']][eval_preds['county_code']==35039].round(2)\n",
    "rio.columns = ['2014 Prediction', '2014 Observed', '2013 Observed', '2012 Observed', '2011 Observed']\n",
    "rio.index = ['Rio Arriba, New Mexico']\n",
    "rio"
   ]
  },
  {
   "cell_type": "code",
   "execution_count": null,
   "metadata": {
    "collapsed": false
   },
   "outputs": [],
   "source": [
    "# ax2=sns.regplot(ypred_gbtree, y_test, color=\"orange\")\n",
    "# ax2.xlabel('Predicted Mortality Rate (Gradient Boosted)')\n",
    "# ax2.ylabel('Actual Mortality Rate')\n"
   ]
  },
  {
   "cell_type": "code",
   "execution_count": null,
   "metadata": {
    "collapsed": false
   },
   "outputs": [],
   "source": [
    "logreg_basic = LogisticRegression(solver='liblinear')\n",
    "logreg_basic.fit(X_03_13, y_delta_bin_03_13)\n",
    "y_bin_preds_log = logreg_basic.predict(X_14)\n",
    "\n",
    "logreg_basic.coef_[0]\n",
    "\n",
    "# X_03_13_ = pd.merge(X_03_13_mod, state_features_train, how='left', left_index=1, right_index=1)\n",
    "\n",
    "coefs_variables = pd.DataFrame(zip(logreg_basic.coef_[0], X_03_13.columns))\n",
    "coefs_variables.columns = ['coef', 'feature']\n",
    "coefs_variables['abs_coef'] = abs(coefs_variables['coef'])\n",
    "coefs_variables = coefs_variables.sort_values(by='abs_coef', ascending=0)\n",
    "coefs_variables"
   ]
  },
  {
   "cell_type": "code",
   "execution_count": null,
   "metadata": {
    "collapsed": false
   },
   "outputs": [],
   "source": [
    "coefs_variables.head(40)"
   ]
  },
  {
   "cell_type": "code",
   "execution_count": null,
   "metadata": {
    "collapsed": false
   },
   "outputs": [],
   "source": [
    "from sklearn.linear_model import LogisticRegression\n",
    "from sklearn.grid_search import GridSearchCV\n",
    "\n",
    "logreg = LogisticRegression(solver='liblinear')\n",
    "C_vals = [0.01, 0.1, .25, 0.5, 0.75, 1.0, 2.5, 5.0, 10.0]\n",
    "penalties = ['l1','l2']\n",
    "\n",
    "gs = GridSearchCV(logreg, {'penalty': penalties, 'C': C_vals}, verbose=False, cv=15)\n",
    "gs.fit(X_03_13, y_delta_bin_03_13)\n",
    "y_bin_preds_gs_logis = gs.predict(X_14)\n",
    "\n",
    "# gs.best_params"
   ]
  },
  {
   "cell_type": "code",
   "execution_count": null,
   "metadata": {
    "collapsed": false
   },
   "outputs": [],
   "source": [
    "from sklearn.metrics import classification_report, confusion_matrix, accuracy_score\n",
    "\n",
    "lr_basic_cm = confusion_matrix(y_delta_bin_14, y_bin_preds_gs_logis)\n",
    "lr_basic_cm_df = pd.DataFrame(lr_basic_cm)\n",
    "print(lr_basic_cm_df)"
   ]
  },
  {
   "cell_type": "code",
   "execution_count": null,
   "metadata": {
    "collapsed": false
   },
   "outputs": [],
   "source": []
  },
  {
   "cell_type": "code",
   "execution_count": null,
   "metadata": {
    "collapsed": false
   },
   "outputs": [],
   "source": []
  },
  {
   "cell_type": "code",
   "execution_count": null,
   "metadata": {
    "collapsed": false
   },
   "outputs": [],
   "source": []
  },
  {
   "cell_type": "code",
   "execution_count": null,
   "metadata": {
    "collapsed": false
   },
   "outputs": [],
   "source": []
  },
  {
   "cell_type": "code",
   "execution_count": null,
   "metadata": {
    "collapsed": false
   },
   "outputs": [],
   "source": []
  },
  {
   "cell_type": "code",
   "execution_count": null,
   "metadata": {
    "collapsed": false
   },
   "outputs": [],
   "source": [
    "# np.corr(pred_act_diff_14['death_rate_pred_14'],pred_act_diff_14['death_rate_100k_observed'])"
   ]
  },
  {
   "cell_type": "code",
   "execution_count": null,
   "metadata": {
    "collapsed": false
   },
   "outputs": [],
   "source": []
  },
  {
   "cell_type": "code",
   "execution_count": null,
   "metadata": {
    "collapsed": false
   },
   "outputs": [],
   "source": []
  },
  {
   "cell_type": "code",
   "execution_count": null,
   "metadata": {
    "collapsed": false
   },
   "outputs": [],
   "source": []
  },
  {
   "cell_type": "code",
   "execution_count": null,
   "metadata": {
    "collapsed": false
   },
   "outputs": [],
   "source": [
    "median_drug_rate"
   ]
  },
  {
   "cell_type": "markdown",
   "metadata": {
    "collapsed": false
   },
   "source": [
    "## How accurately can we classify communities as compared to the median rate?"
   ]
  },
  {
   "cell_type": "code",
   "execution_count": null,
   "metadata": {
    "collapsed": false
   },
   "outputs": [],
   "source": [
    "from sklearn.metrics import classification_report, confusion_matrix, accuracy_score\n",
    "from sklearn.feature_selection import SelectFromModel\n",
    "\n",
    "y_bin_03_13 = y_03_13.apply(lambda x: 1 if x > median_drug_rate else 0)\n",
    "y_bin_14_obs = y_14.apply(lambda x: 1 if x > median_drug_rate else 0)\n",
    "\n",
    "\n",
    "xg_class_model_14 = xgboost.XGBClassifier()\n",
    "xg_class_model_14.fit(X_03_13, y_bin_03_13)\n",
    "y_class_14 = xg_class_model_14.predict(X_14)\n",
    "\n",
    "xg_14_cm = confusion_matrix(y_bin_14_obs, y_class_14, labels=xg_class_model_14.classes_)\n",
    "# xg_14_cm = pd.DataFrame(xg_14_cm, columns=xg_class_model_14.classes_, index=xg_class_model_14.classes_) \n",
    "\n",
    "\n",
    "feat_import_XG_class_14 = pd.Series(zip(X_03_13, xg_class_model_14.feature_importances_))\n",
    "\n",
    "feat_import_XG_class_14\n",
    "\n",
    "#Using tree-based feature importance to reduce my features -- predicting against median\n",
    "\n",
    "xg_class_model_14_select = SelectFromModel(xg_class_model_14, prefit=True)\n",
    "X_03_13_new = xg_class_model_14_select.transform(X_03_13)\n",
    "X_14_new = xg_class_model_14_select.transform(X_14)\n",
    "\n",
    "\n",
    "xg_class_model_14_mod = xgboost.XGBClassifier()\n",
    "xg_class_model_14_mod.fit(X_03_13_new, y_bin_03_13)\n",
    "y_class_xg_14_mod = xg_class_model_14_mod.predict(X_14_new)\n",
    "xg_14_mod_cm = confusion_matrix(y_class_xg_14_mod, y_bin_14_obs, labels=xg_class_model_14.classes_)\n",
    "\n",
    "\n",
    "print('f1:', sklearn.metrics.f1_score(y_bin_14_obs,y_class_xg_14_mod),\n",
    "'accuracy:', accuracy_score(y_bin_14_obs,y_class_xg_14_mod))"
   ]
  },
  {
   "cell_type": "code",
   "execution_count": null,
   "metadata": {
    "collapsed": true
   },
   "outputs": [],
   "source": []
  },
  {
   "cell_type": "code",
   "execution_count": null,
   "metadata": {
    "collapsed": false
   },
   "outputs": [],
   "source": [
    "import matplotlib.patheffects as path_effects\n",
    "\n",
    "def plot_confusion_matrix(cm, title='Confusion matrix', labels=['Decreasing','Increasing'], cmap=plt.cm.Blues):\n",
    "   \n",
    "   plt.figure(figsize=(7,7))\n",
    "   plt.imshow(cm, interpolation='nearest', cmap=cmap)\n",
    "   \n",
    "   tick_marks = np.arange(2)\n",
    "   plt.xticks(tick_marks, labels)\n",
    "   plt.yticks(tick_marks, labels)\n",
    "       \n",
    "   plt.title(title)\n",
    "   plt.ylabel('True label')\n",
    "   plt.xlabel('Predicted label')\n",
    "   plt.colorbar()\n",
    "   plt.tight_layout()\n",
    "   \n",
    "   width, height = cm.shape\n",
    "   \n",
    "   for x in xrange(width):\n",
    "       for y in xrange(height):\n",
    "           plt.annotate(str(cm[x][y]), xy=(y, x), \n",
    "                       horizontalalignment='center',\n",
    "                       verticalalignment='center',\n",
    "                       color = 'white',\n",
    "                       fontsize=18).set_path_effects([path_effects.Stroke(linewidth=1, foreground='black'),\n",
    "                                                      path_effects.Normal()]) #The last line here adds a text outline\n",
    "        \n",
    "plot_confusion_matrix(xg_14_mod_cm)\n",
    "\n"
   ]
  },
  {
   "cell_type": "code",
   "execution_count": null,
   "metadata": {
    "collapsed": false
   },
   "outputs": [],
   "source": [
    "print('f1:', sklearn.metrics.f1_score(y_bin_14_obs,y_class_14),\n",
    "'accuracy:', accuracy_score(y_bin_14_obs,y_class_14))\n",
    "\n",
    "#predicting against the median"
   ]
  },
  {
   "cell_type": "code",
   "execution_count": null,
   "metadata": {
    "collapsed": false
   },
   "outputs": [],
   "source": [
    "y_delta_bin_03_13"
   ]
  },
  {
   "cell_type": "markdown",
   "metadata": {},
   "source": [
    "### How accurately can we predict the directional movement of communities in 2014, e.g. can our model predict which communties were going to get worse in 2014? "
   ]
  },
  {
   "cell_type": "code",
   "execution_count": null,
   "metadata": {
    "collapsed": false
   },
   "outputs": [],
   "source": [
    "pd.Series(y_delta_bin_14).value_counts()"
   ]
  },
  {
   "cell_type": "code",
   "execution_count": null,
   "metadata": {
    "collapsed": false
   },
   "outputs": [],
   "source": []
  },
  {
   "cell_type": "code",
   "execution_count": null,
   "metadata": {
    "collapsed": false
   },
   "outputs": [],
   "source": []
  },
  {
   "cell_type": "code",
   "execution_count": null,
   "metadata": {
    "collapsed": false
   },
   "outputs": [],
   "source": [
    "xg_delta_model_14 = xgboost.XGBClassifier()\n",
    "xg_delta_model_14.fit(X_03_13, y_delta_bin_03_13)\n",
    "y_delta_14_pred = xg_delta_model_14.predict(X_14)\n",
    "\n",
    "xg_delta_14_cm = confusion_matrix(y_delta_bin_14, y_delta_14_pred)\n",
    "# xg_14_cm = pd.DataFrame(xg_14_cm, columns=xg_class_model_14.classes_, index=xg_class_model_14.classes_) \n",
    "plot_confusion_matrix(xg_delta_14_cm)\n"
   ]
  },
  {
   "cell_type": "code",
   "execution_count": null,
   "metadata": {
    "collapsed": false
   },
   "outputs": [],
   "source": [
    "pd.Series(y_delta_14_pred).value_counts()"
   ]
  },
  {
   "cell_type": "code",
   "execution_count": null,
   "metadata": {
    "collapsed": false
   },
   "outputs": [],
   "source": [
    "# cm = confusion_matrix(y_test, y_pred)\n",
    "# np.set_printoptions(precision=2)\n",
    "# print('Confusion matrix, without normalization')\n",
    "# print(cm)\n",
    "# plt.figure()\n",
    "# plot_confusion_matrix(cm)\n",
    "\n",
    "# # Normalize the confusion matrix by row (i.e by the number of samples\n",
    "# # in each class)\n",
    "# cm_normalized = cm.astype('float') / cm.sum(axis=1)[:, np.newaxis]\n",
    "# print('Normalized confusion matrix')\n",
    "# print(cm_normalized)\n",
    "# plt.figure()\n",
    "# plot_confusion_matrix(cm_normalized, title='Normalized confusion matrix')"
   ]
  },
  {
   "cell_type": "code",
   "execution_count": null,
   "metadata": {
    "collapsed": false
   },
   "outputs": [],
   "source": [
    "# y_delta_bin_14_inv = y_delta_bin_14.apply(lambda x: 0 if x==1 else 1)\n",
    "# xg_delta_14_inv_cm = confusion_matrix(y_delta_14_pred, y_delta_bin_14_inv)\n",
    "# plot_confusion_matrix(xg_delta_14_inv_cm)"
   ]
  },
  {
   "cell_type": "code",
   "execution_count": null,
   "metadata": {
    "collapsed": false
   },
   "outputs": [],
   "source": [
    "print('f1:', sklearn.metrics.f1_score(y_delta_bin_14, y_delta_14_pred),\n",
    "'accuracy:', accuracy_score(y_delta_bin_14, y_delta_14_pred))\n",
    "\n",
    "#marginally better than random guessing!!!"
   ]
  },
  {
   "cell_type": "code",
   "execution_count": null,
   "metadata": {
    "collapsed": false
   },
   "outputs": [],
   "source": [
    "xg_delta_model_14_select = SelectFromModel(xg_delta_model_14, prefit=True)\n",
    "X_03_13_new_delta = xg_delta_model_14_select.transform(X_03_13)\n",
    "X_14_new_delta = xg_delta_model_14_select.transform(X_14)\n",
    "\n",
    "\n",
    "xg_delta_model_14_mod = xgboost.XGBClassifier()\n",
    "xg_delta_model_14_mod.fit(X_03_13_new_delta, y_delta_bin_03_13)\n",
    "y_delta_xg_14_mod = xg_delta_model_14_mod.predict(X_14_new_delta)\n",
    "xg_14_mod_cm = confusion_matrix(y_delta_bin_14, y_class_xg_14_mod, labels=xg_class_model_14.classes_)\n",
    "\n",
    "\n",
    "print('f1:', sklearn.metrics.f1_score(y_delta_bin_14,y_class_xg_14_mod),\n",
    "'accuracy:', accuracy_score(y_delta_bin_14,y_class_xg_14_mod))"
   ]
  },
  {
   "cell_type": "code",
   "execution_count": null,
   "metadata": {
    "collapsed": false
   },
   "outputs": [],
   "source": [
    "len(y_delta_bin_14)\n",
    "\n",
    "naive_guesses = y_delta_bin_14.apply(lambda x: 1)\n",
    "print('f1:', sklearn.metrics.f1_score(y_delta_bin_14, naive_guesses),\n",
    "'accuracy:', accuracy_score(y_delta_bin_14, naive_guesses))\n",
    "\n",
    "\n",
    "#this shows my model truely cannot beat guessing \"worse\" every time"
   ]
  },
  {
   "cell_type": "code",
   "execution_count": null,
   "metadata": {
    "collapsed": false
   },
   "outputs": [],
   "source": [
    "print(\"model auc score:\", sklearn.metrics.roc_auc_score(y_delta_bin_14, y_delta_14_pred),\n",
    "      \"naive auc score:\", sklearn.metrics.roc_auc_score(y_delta_bin_14, naive_guesses))"
   ]
  },
  {
   "cell_type": "markdown",
   "metadata": {},
   "source": [
    "## Model defeated naive guessing! Horray!\n",
    "\n",
    "- return and plot AUC curve, set threshold"
   ]
  },
  {
   "cell_type": "code",
   "execution_count": null,
   "metadata": {
    "collapsed": true
   },
   "outputs": [],
   "source": [
    "naive_guesses2 = naive_guesses.apply(lambda x: 0 if x==1 else 1)"
   ]
  },
  {
   "cell_type": "code",
   "execution_count": null,
   "metadata": {
    "collapsed": false
   },
   "outputs": [],
   "source": [
    "xg_bin_delta_14_cm = confusion_matrix(y_delta_bin_14, naive_guesses)\n",
    "\n",
    "plot_confusion_matrix(xg_bin_delta_14_cm)"
   ]
  },
  {
   "cell_type": "code",
   "execution_count": null,
   "metadata": {
    "collapsed": false
   },
   "outputs": [],
   "source": [
    "ax3 = sns.regplot(deaths_pop['drug_death_rate_100k'], deaths_pop['population_est'])\n",
    "\n",
    "ax3.set_ylabel('Observed Mortality Rate')\n",
    "ax3.set_xlabel('Size of Population')\n",
    "ax3.set_title('Population and Mortality Rates')"
   ]
  },
  {
   "cell_type": "code",
   "execution_count": null,
   "metadata": {
    "collapsed": false
   },
   "outputs": [],
   "source": [
    "ax4 = sns.regplot(deaths_pop['prior_year_death_rate_100k'], deaths_pop['drug_death_rate_100k'])\n",
    "\n",
    "ax4.set_ylabel('Current Year Mortality Rate')\n",
    "ax4.set_xlabel('Previous Year Mortality Rate')\n",
    "ax4.set_title('Fluctuation in Mortality Over Time')\n",
    "\n",
    "\n",
    "# 'prior_year_death_rate_100k','pre_prior_year_death_rate_100k'"
   ]
  },
  {
   "cell_type": "code",
   "execution_count": null,
   "metadata": {
    "collapsed": false
   },
   "outputs": [],
   "source": [
    "from sklearn import naive_bayes\n",
    "from sklearn.naive_bayes import GaussianNB\n",
    "\n",
    "\n",
    "gnb = GaussianNB()\n",
    "gnb.fit(X_03_13, y_delta_bin_03_13)\n",
    "nb_ypreds_14 = gnb.predict(X_14)\n",
    "\n",
    "print('f1:', sklearn.metrics.f1_score(y_delta_bin_14, nb_ypreds_14),\n",
    "'accuracy:', accuracy_score(y_delta_bin_14, nb_ypreds_14))"
   ]
  },
  {
   "cell_type": "code",
   "execution_count": null,
   "metadata": {
    "collapsed": true
   },
   "outputs": [],
   "source": []
  },
  {
   "cell_type": "code",
   "execution_count": null,
   "metadata": {
    "collapsed": false
   },
   "outputs": [],
   "source": [
    "y_delta_bin_14.mean() #nope, baseline is .64, meaning the model does worse than simply guessing every county will get worse..."
   ]
  },
  {
   "cell_type": "code",
   "execution_count": null,
   "metadata": {
    "collapsed": false
   },
   "outputs": [],
   "source": [
    "# y_delta_grow_03_13 \n",
    "# y_delta_grow_14 \n",
    "from sklearn.metrics import r2_score\n",
    "\n",
    "gb_delta_14 = GradientBoostingRegressor(n_estimators=1000)\n",
    "\n",
    "gb_delta_14.fit(X_03_13, y_delta_grow_03_13)\n",
    "gb_delta_14_ypred = gb_delta_14.predict(X_14)\n",
    "\n",
    "sns.regplot(y_delta_grow_14, gb_delta_14_ypred)\n",
    "\n",
    "\n",
    "r2_score(y_delta_grow_14, gb_delta_14_ypred)\n"
   ]
  },
  {
   "cell_type": "code",
   "execution_count": null,
   "metadata": {
    "collapsed": false
   },
   "outputs": [],
   "source": [
    "y_delta_grow_14.describe()"
   ]
  },
  {
   "cell_type": "code",
   "execution_count": null,
   "metadata": {
    "collapsed": true
   },
   "outputs": [],
   "source": []
  },
  {
   "cell_type": "code",
   "execution_count": null,
   "metadata": {
    "collapsed": false
   },
   "outputs": [],
   "source": [
    "print(y_delta_grow_14.mean(), gb_delta_14_ypred.mean())"
   ]
  },
  {
   "cell_type": "code",
   "execution_count": null,
   "metadata": {
    "collapsed": false
   },
   "outputs": [],
   "source": [
    "gb_delta_model_14_select = SelectFromModel(gb_delta_14, prefit=True)\n",
    "X_03_13_new_delta_gb = gb_delta_model_14_select.transform(X_03_13)\n",
    "X_14_new_delta_gb = gb_delta_model_14_select.transform(X_14)\n",
    "\n",
    "#lets try this with both the features from X_03_13_new_delta_gb and X_03_13_new_delta (same for test)\n",
    "\n",
    "\n",
    "gb_delta_model_14_mod = xgboost.XGBClassifier()\n",
    "gb_delta_model_14_mod.fit(X_03_13_new_delta_gb, y_delta_bin_03_13)\n",
    "y_delta_gb_14_mod = gb_delta_model_14_mod.predict(X_14_new_delta_gb)\n",
    "# gb_14_mod_cm = confusion_matrix(y_delta_grow_14, y_delta_gb_14_mod, labels=xg_class_model_14.classes_)\n",
    "\n",
    "r2_score(y_delta_grow_14, y_delta_gb_14_mod)\n"
   ]
  },
  {
   "cell_type": "code",
   "execution_count": null,
   "metadata": {
    "collapsed": false
   },
   "outputs": [],
   "source": [
    "gb_delta_model_14_xg_feats = xgboost.XGBClassifier()\n",
    "gb_delta_model_14_xg_feats.fit(X_03_13_new_delta, y_delta_bin_03_13)\n",
    "y_delta_gb_14_xg_feats = gb_delta_model_14_xg_feats.predict(X_14_new_delta)\n",
    "# gb_14_mod_cm = confusion_matrix(y_delta_grow_14, y_delta_gb_14_mod, labels=xg_class_model_14.classes_)\n",
    "\n",
    "r2_score(y_delta_grow_14, y_delta_gb_14_xg_feats)\n"
   ]
  },
  {
   "cell_type": "code",
   "execution_count": null,
   "metadata": {
    "collapsed": false
   },
   "outputs": [],
   "source": [
    "sklearn.metrics.f1_score(y_delta_gb_14_xg_feats, y_delta_bin_14)\n"
   ]
  },
  {
   "cell_type": "code",
   "execution_count": null,
   "metadata": {
    "collapsed": false
   },
   "outputs": [],
   "source": [
    "# r2_score(y_delta_gb_14_mod, y_delta_grow_14)\n",
    "\n",
    "\n",
    "print('f1:', sklearn.metrics.f1_score(y_delta_bin_14, y_delta_gb_14_mod),\n",
    "'accuracy:', accuracy_score(y_delta_bin_14, y_delta_gb_14_mod))"
   ]
  },
  {
   "cell_type": "markdown",
   "metadata": {},
   "source": [
    "## Unscaling prior_year_death_rate to see what happens"
   ]
  },
  {
   "cell_type": "code",
   "execution_count": null,
   "metadata": {
    "collapsed": false
   },
   "outputs": [],
   "source": [
    "# features_03_13_mod = input_2013[['pop_sub_15_prop','pop_15-34_prop','pop_35-54_prop','pop_55+_prop','pop_asian_prop', 'pop_white_prop','pop_black_prop','med_hh_income', 'unemp_rate', 'perc_pop_working', 'pov_rate', 'pov_rate_youth', 'population_est', 'pop_change_rate','natural_pop_growth_rate', 'intl_migrate_rate', 'dom_migrate_rate', 'constant']]\n",
    "# features_03_13_mod.isnull().sum()\n",
    "# state_features_train = input_2013[['AK', 'AL', 'AR', 'AZ', 'CA', 'CO','CT', 'DC', 'DE', 'FL', 'GA', 'HI', 'IA', 'ID', 'IL', 'IN', 'KS', 'KY', 'LA', 'MA', 'MD', 'ME','MI', 'MN', 'MO', 'MS', 'MT', 'NC', 'NE', 'NH','NJ', 'NM', 'NV', 'NY', 'OH', 'OK', 'OR', 'PA', 'RI','SC','SD', 'TN', 'TX', 'UT', 'VA', 'WA', 'WI', 'WV', 'WY']]\n",
    "# state_features_train.isnull().sum()\n",
    "# state_features_test = test_2014[['AK', 'AL', 'AR', 'AZ', 'CA', 'CO','CT', 'DC', 'DE', 'FL', 'GA', 'HI', 'IA', 'ID', 'IL', 'IN', 'KS', 'KY', 'LA', 'MA', 'MD', 'ME','MI', 'MN', 'MO', 'MS', 'MT', 'NC', 'NE', 'NH','NJ', 'NM', 'NV', 'NY', 'OH', 'OK', 'OR', 'PA', 'RI','SC','SD', 'TN', 'TX', 'UT', 'VA', 'WA', 'WI', 'WV', 'WY']]\n",
    "# state_features_test.isnull().sum()\n",
    "# features_14_mod = test_2014[['pop_sub_15_prop','pop_15-34_prop','pop_35-54_prop','pop_55+_prop','pop_asian_prop', 'pop_white_prop','pop_black_prop','med_hh_income', 'unemp_rate', 'perc_pop_working', 'pov_rate', 'pov_rate_youth', 'population_est', 'pop_change_rate','natural_pop_growth_rate', 'intl_migrate_rate', 'dom_migrate_rate', 'constant']]\n",
    "# features_14_mod.isnull().sum()\n",
    "# prior_year_train = pd.DataFrame(input_2013['prior_year_death_rate_100k'])\n",
    "# prior_year_train.isnull().sum()\n",
    "# prior_year_test = pd.DataFrame(test_2014['prior_year_death_rate_100k'])\n",
    "# prior_year_test.isnull().sum()"
   ]
  },
  {
   "cell_type": "code",
   "execution_count": null,
   "metadata": {
    "collapsed": false
   },
   "outputs": [],
   "source": [
    "features_03_13_mod = input_2013[['prior_year_death_rate_100k','pre_prior_year_death_rate_100k', 'prior_year_death_growth_rate','three_back_year_death_rate_100k', 'two_year_period_death_growth_rate', 'two_three_year_death_growth_rate','pop_sub_15_prop','pop_15-34_prop','pop_35-54_prop','pop_55+_prop','pop_asian_prop', 'pop_white_prop','pop_black_prop','med_hh_income', 'unemp_rate', 'perc_pop_working', 'pov_rate', 'pov_rate_youth', 'population_est', 'pop_change_rate','natural_pop_growth_rate', 'intl_migrate_rate', 'dom_migrate_rate', 'constant']]\n",
    "\n",
    "state_features_train = input_2013[['AK', 'AL', 'AR', 'AZ', 'CA', 'CO','CT', 'DC', 'DE', 'FL', 'GA', 'HI', 'IA', 'ID', 'IL', 'IN', 'KS', 'KY', 'LA', 'MA', 'MD', 'ME','MI', 'MN', 'MO', 'MS', 'MT', 'NC', 'NE', 'NH','NJ', 'NM', 'NV', 'NY', 'OH', 'OK', 'OR', 'PA', 'RI','SC','SD', 'TN', 'TX', 'UT', 'VA', 'WA', 'WI', 'WV', 'WY']]\n",
    "state_features_test = test_2014[['AK', 'AL', 'AR', 'AZ', 'CA', 'CO','CT', 'DC', 'DE', 'FL', 'GA', 'HI', 'IA', 'ID', 'IL', 'IN', 'KS', 'KY', 'LA', 'MA', 'MD', 'ME','MI', 'MN', 'MO', 'MS', 'MT', 'NC', 'NE', 'NH','NJ', 'NM', 'NV', 'NY', 'OH', 'OK', 'OR', 'PA', 'RI','SC','SD', 'TN', 'TX', 'UT', 'VA', 'WA', 'WI', 'WV', 'WY']]\n",
    "\n",
    "\n",
    "features_14_mod = test_2014[['prior_year_death_rate_100k','pre_prior_year_death_rate_100k', 'prior_year_death_growth_rate','three_back_year_death_rate_100k', 'two_year_period_death_growth_rate', 'two_three_year_death_growth_rate', 'pop_sub_15_prop','pop_15-34_prop','pop_35-54_prop','pop_55+_prop','pop_asian_prop', 'pop_white_prop','pop_black_prop','med_hh_income', 'unemp_rate', 'perc_pop_working', 'pov_rate', 'pov_rate_youth', 'population_est', 'pop_change_rate','natural_pop_growth_rate', 'intl_migrate_rate', 'dom_migrate_rate', 'constant']]\n",
    "\n",
    "X_03_13_mod = StandardScaler().fit_transform(features_03_13_mod)\n",
    "X_03_13_mod = pd.DataFrame(X_03_13_mod, columns=features_03_13_mod.columns)\n",
    "\n",
    "print(X_03_13_mod.isnull().sum().sum())\n",
    "\n",
    "X_14_mod = StandardScaler().fit_transform(features_14_mod)\n",
    "X_14_mod = pd.DataFrame(X_14_mod, columns=features_14_mod.columns)\n",
    "\n",
    "\n",
    "X_03_13_mod = pd.merge(X_03_13_mod, state_features_train, how='left', left_index=1, right_index=1)\n",
    "print(X_03_13_mod.isnull().sum().sum())\n",
    "\n",
    "X_14_mod = pd.merge(X_14_mod, state_features_test, how='left', left_index=1, right_index=1)\n"
   ]
  },
  {
   "cell_type": "code",
   "execution_count": null,
   "metadata": {
    "collapsed": false
   },
   "outputs": [],
   "source": [
    "\n",
    "gb_delta_14_mod = GradientBoostingRegressor(n_estimators=10000, learning_rate=.02)\n",
    "\n",
    "\n",
    "gb_delta_14_mod.fit(X_03_13_mod, y_delta_grow_03_13) # works\n",
    "gb_delta_14_ypred_mod = gb_delta_14.predict(X_14_mod)\n",
    "\n",
    "# sns.regplot(y_delta_grow_14, gb_delta_14_ypred_mod)\n",
    "\n",
    "r2_score(gb_delta_14_ypred_mod, y_delta_grow_14)"
   ]
  },
  {
   "cell_type": "code",
   "execution_count": null,
   "metadata": {
    "collapsed": false
   },
   "outputs": [],
   "source": [
    "gb_delta_14_ypred = pd.DataFrame(gb_delta_14_ypred)\n",
    "\n",
    "worst_off_2014 = pd.merge(test_2014, gb_delta_14_ypred, how='left', left_index=1, right_index=1)\n",
    "worst_off_2014.head()"
   ]
  },
  {
   "cell_type": "code",
   "execution_count": null,
   "metadata": {
    "collapsed": false
   },
   "outputs": [],
   "source": [
    "# this code work, yielded:\n",
    "# {'max_depth': 2,\n",
    "#  'max_features': 'auto',\n",
    "#  'min_samples_leaf': 5,\n",
    "#  'min_samples_split': 5}    \n",
    "\n",
    "\n",
    "# max_feature_list = ['auto']\n",
    "# param_test = {'max_depth':[2,5], 'max_features':max_feature_list, 'min_samples_split':[2,5], 'min_samples_leaf':[2,5]}\n",
    "\n",
    "# gb_delta_14_reg = GradientBoostingRegressor(n_estimators=100, learning_rate=.1)\n",
    "# gb_delta_14_class = GradientBoostingClassifier(n_estimators=10000, learning_rate=.02)\n",
    "\n",
    "# gs_delta_14_reg = GridSearchCV(gb_delta_14_reg, param_test, verbose=False, cv=15)\n",
    "# gs_delta_14_reg.fit(X_03_13_mod, y_delta_grow_03_13)\n",
    "# y_delta_14_gs_preds = gs_delta_14_reg.predict(X_14_mod)\n",
    "\n",
    "\n",
    "# gs_delta_14_reg.best_params_"
   ]
  },
  {
   "cell_type": "code",
   "execution_count": null,
   "metadata": {
    "collapsed": false
   },
   "outputs": [],
   "source": [
    "from sklearn.grid_search import GridSearchCV\n",
    "from sklearn.ensemble import GradientBoostingClassifier\n",
    "\n",
    "\n",
    "max_feature_list = ['auto', 'sqrt']\n",
    "param_test = {'max_depth':range(3,15,2), 'max_features':max_feature_list, 'min_samples_split':range(3,15), 'min_samples_leaf':range(2,8)}\n",
    "\n",
    "gb_delta_14_reg = GradientBoostingRegressor(n_estimators=1000, learning_rate=.05)\n",
    "gb_delta_14_class = GradientBoostingClassifier(n_estimators=1000, learning_rate=.05)\n",
    "\n",
    "gs_delta_14_reg = GridSearchCV(gb_delta_14_reg, param_test, verbose=False, cv=15)\n",
    "gs_delta_14_reg.fit(X_03_13_mod, y_delta_grow_03_13)\n",
    "y_delta_14_gs_preds = gs_delta_14_reg.predict(X_14_mod)\n",
    "\n",
    "\n",
    "gs_delta_14_reg.best_params_\n",
    "# loss : {‘ls’, ‘lad’, ‘huber’}\n",
    "# learning_rate : float, optional (default=0.1)\n",
    "# n_estimators int (default=100)\n",
    "# max_depth : integer, optional (default=3)\n",
    "# min_samples_split : integer, optional (default=2)\n",
    "# max_features = \"auto\" or \"sqrt\""
   ]
  },
  {
   "cell_type": "code",
   "execution_count": null,
   "metadata": {
    "collapsed": false
   },
   "outputs": [],
   "source": [
    "# 'subsample':range(.7,1.1,.1) -- include\n",
    "# https://www.analyticsvidhya.com/blog/2016/02/complete-guide-parameter-tuning-gradient-boosting-gbm-python/\n",
    "# https://www.analyticsvidhya.com/blog/2016/03/complete-guide-parameter-tuning-xgboost-with-codes-python/\n",
    "#https://www.datarobot.com/blog/gradient-boosted-regression-trees/\n",
    "# param_test5 = {'subsample':[0.6,0.7,0.75,0.8,0.85,0.9]}\n",
    "# gsearch5 = GridSearchCV(estimator = GradientBoostingClassifier(learning_rate=0.1, n_estimators=60,max_depth=9, \n",
    "#                             min_samples_split=1200, min_samples_leaf=60, subsample=0.8, random_state=10, max_features=7),\n",
    "#                        param_grid = param_test5, scoring='roc_auc',n_jobs=4,iid=False, cv=5)\n",
    "# gsearch5.fit(train[predictors],train[target])"
   ]
  },
  {
   "cell_type": "code",
   "execution_count": null,
   "metadata": {
    "collapsed": false
   },
   "outputs": [],
   "source": []
  },
  {
   "cell_type": "code",
   "execution_count": null,
   "metadata": {
    "collapsed": false
   },
   "outputs": [],
   "source": []
  },
  {
   "cell_type": "code",
   "execution_count": null,
   "metadata": {
    "collapsed": false
   },
   "outputs": [],
   "source": []
  },
  {
   "cell_type": "code",
   "execution_count": null,
   "metadata": {
    "collapsed": true
   },
   "outputs": [],
   "source": []
  },
  {
   "cell_type": "code",
   "execution_count": null,
   "metadata": {
    "collapsed": true
   },
   "outputs": [],
   "source": []
  }
 ],
 "metadata": {
  "kernelspec": {
   "display_name": "Python 2 New",
   "language": "python",
   "name": "stats_mods_py"
  },
  "language_info": {
   "codemirror_mode": {
    "name": "ipython",
    "version": 2
   },
   "file_extension": ".py",
   "mimetype": "text/x-python",
   "name": "python",
   "nbconvert_exporter": "python",
   "pygments_lexer": "ipython2",
   "version": "2.7.12"
  }
 },
 "nbformat": 4,
 "nbformat_minor": 0
}
