{
 "cells": [
  {
   "cell_type": "code",
   "execution_count": 1,
   "metadata": {
    "collapsed": false
   },
   "outputs": [
    {
     "data": {
      "text/plain": [
       "'/Users/HudsonCavanagh/GA_dsi-projects/capstone'"
      ]
     },
     "execution_count": 1,
     "metadata": {},
     "output_type": "execute_result"
    }
   ],
   "source": [
    "import pandas as pd\n",
    "import numpy as np\n",
    "import sklearn\n",
    "import seaborn as sns\n",
    "import psycopg2 as psy\n",
    "import os \n",
    "import matplotlib.pyplot as plt\n",
    "import numpy as np\n",
    "import math\n",
    "from sklearn.decomposition import PCA \n",
    "from sklearn.cluster import KMeans\n",
    "from sklearn import metrics\n",
    "from matplotlib import *\n",
    "import sys\n",
    "from matplotlib import offsetbox\n",
    "from sklearn import (manifold, datasets, decomposition, ensemble,\n",
    "                     discriminant_analysis, random_projection)\n",
    "from sklearn import metrics\n",
    "from sklearn.cross_validation import cross_val_score, StratifiedKFold\n",
    "from sklearn.tree import DecisionTreeRegressor\n",
    "from sklearn.ensemble import RandomForestRegressor, ExtraTreesRegressor, BaggingRegressor\n",
    "\n",
    "%matplotlib inline\n",
    "\n",
    "os.getcwd()"
   ]
  },
  {
   "cell_type": "code",
   "execution_count": 2,
   "metadata": {
    "collapsed": false
   },
   "outputs": [
    {
     "data": {
      "text/html": [
       "<div>\n",
       "<table border=\"1\" class=\"dataframe\">\n",
       "  <thead>\n",
       "    <tr style=\"text-align: right;\">\n",
       "      <th></th>\n",
       "      <th>County</th>\n",
       "      <th>County Code</th>\n",
       "      <th>Ten-Year Age Groups</th>\n",
       "      <th>Ten-Year Age Groups Code</th>\n",
       "      <th>Gender</th>\n",
       "      <th>Gender Code</th>\n",
       "      <th>Race</th>\n",
       "      <th>Race Code</th>\n",
       "      <th>Hispanic Origin</th>\n",
       "      <th>Hispanic Origin Code</th>\n",
       "      <th>...</th>\n",
       "      <th>year</th>\n",
       "      <th>pct_total_deaths</th>\n",
       "      <th>deaths</th>\n",
       "      <th>population</th>\n",
       "      <th>crude_100k</th>\n",
       "      <th>county_id</th>\n",
       "      <th>state</th>\n",
       "      <th>county_code</th>\n",
       "      <th>CTYNAME</th>\n",
       "      <th>pop_merge_ind</th>\n",
       "    </tr>\n",
       "  </thead>\n",
       "  <tbody>\n",
       "    <tr>\n",
       "      <th>0</th>\n",
       "      <td>Jefferson County, AL</td>\n",
       "      <td>1073.0</td>\n",
       "      <td>15-24 years</td>\n",
       "      <td>15-24</td>\n",
       "      <td>Male</td>\n",
       "      <td>M</td>\n",
       "      <td>White</td>\n",
       "      <td>2106-3</td>\n",
       "      <td>Not Hispanic or Latino</td>\n",
       "      <td>2186-2</td>\n",
       "      <td>...</td>\n",
       "      <td>2014</td>\n",
       "      <td>0.027</td>\n",
       "      <td>11.0</td>\n",
       "      <td>19306.0</td>\n",
       "      <td>56.977106</td>\n",
       "      <td>1073</td>\n",
       "      <td>AL</td>\n",
       "      <td>1073</td>\n",
       "      <td>Jefferson County</td>\n",
       "      <td>Jefferson County_2014</td>\n",
       "    </tr>\n",
       "    <tr>\n",
       "      <th>1</th>\n",
       "      <td>Jefferson County, AL</td>\n",
       "      <td>1073.0</td>\n",
       "      <td>25-34 years</td>\n",
       "      <td>25-34</td>\n",
       "      <td>Female</td>\n",
       "      <td>F</td>\n",
       "      <td>White</td>\n",
       "      <td>2106-3</td>\n",
       "      <td>Not Hispanic or Latino</td>\n",
       "      <td>2186-2</td>\n",
       "      <td>...</td>\n",
       "      <td>2014</td>\n",
       "      <td>0.039</td>\n",
       "      <td>16.0</td>\n",
       "      <td>23590.0</td>\n",
       "      <td>67.825350</td>\n",
       "      <td>1073</td>\n",
       "      <td>AL</td>\n",
       "      <td>1073</td>\n",
       "      <td>Jefferson County</td>\n",
       "      <td>Jefferson County_2014</td>\n",
       "    </tr>\n",
       "    <tr>\n",
       "      <th>2</th>\n",
       "      <td>Jefferson County, AL</td>\n",
       "      <td>1073.0</td>\n",
       "      <td>25-34 years</td>\n",
       "      <td>25-34</td>\n",
       "      <td>Male</td>\n",
       "      <td>M</td>\n",
       "      <td>White</td>\n",
       "      <td>2106-3</td>\n",
       "      <td>Not Hispanic or Latino</td>\n",
       "      <td>2186-2</td>\n",
       "      <td>...</td>\n",
       "      <td>2014</td>\n",
       "      <td>0.065</td>\n",
       "      <td>27.0</td>\n",
       "      <td>22917.0</td>\n",
       "      <td>117.816468</td>\n",
       "      <td>1073</td>\n",
       "      <td>AL</td>\n",
       "      <td>1073</td>\n",
       "      <td>Jefferson County</td>\n",
       "      <td>Jefferson County_2014</td>\n",
       "    </tr>\n",
       "    <tr>\n",
       "      <th>3</th>\n",
       "      <td>Jefferson County, AL</td>\n",
       "      <td>1073.0</td>\n",
       "      <td>35-44 years</td>\n",
       "      <td>35-44</td>\n",
       "      <td>Female</td>\n",
       "      <td>F</td>\n",
       "      <td>White</td>\n",
       "      <td>2106-3</td>\n",
       "      <td>Not Hispanic or Latino</td>\n",
       "      <td>2186-2</td>\n",
       "      <td>...</td>\n",
       "      <td>2014</td>\n",
       "      <td>0.053</td>\n",
       "      <td>22.0</td>\n",
       "      <td>20774.0</td>\n",
       "      <td>105.901608</td>\n",
       "      <td>1073</td>\n",
       "      <td>AL</td>\n",
       "      <td>1073</td>\n",
       "      <td>Jefferson County</td>\n",
       "      <td>Jefferson County_2014</td>\n",
       "    </tr>\n",
       "    <tr>\n",
       "      <th>4</th>\n",
       "      <td>Jefferson County, AL</td>\n",
       "      <td>1073.0</td>\n",
       "      <td>35-44 years</td>\n",
       "      <td>35-44</td>\n",
       "      <td>Male</td>\n",
       "      <td>M</td>\n",
       "      <td>White</td>\n",
       "      <td>2106-3</td>\n",
       "      <td>Not Hispanic or Latino</td>\n",
       "      <td>2186-2</td>\n",
       "      <td>...</td>\n",
       "      <td>2014</td>\n",
       "      <td>0.063</td>\n",
       "      <td>26.0</td>\n",
       "      <td>21104.0</td>\n",
       "      <td>123.199393</td>\n",
       "      <td>1073</td>\n",
       "      <td>AL</td>\n",
       "      <td>1073</td>\n",
       "      <td>Jefferson County</td>\n",
       "      <td>Jefferson County_2014</td>\n",
       "    </tr>\n",
       "    <tr>\n",
       "      <th>5</th>\n",
       "      <td>Jefferson County, AL</td>\n",
       "      <td>1073.0</td>\n",
       "      <td>45-54 years</td>\n",
       "      <td>45-54</td>\n",
       "      <td>Female</td>\n",
       "      <td>F</td>\n",
       "      <td>White</td>\n",
       "      <td>2106-3</td>\n",
       "      <td>Not Hispanic or Latino</td>\n",
       "      <td>2186-2</td>\n",
       "      <td>...</td>\n",
       "      <td>2014</td>\n",
       "      <td>0.046</td>\n",
       "      <td>19.0</td>\n",
       "      <td>23482.0</td>\n",
       "      <td>80.913040</td>\n",
       "      <td>1073</td>\n",
       "      <td>AL</td>\n",
       "      <td>1073</td>\n",
       "      <td>Jefferson County</td>\n",
       "      <td>Jefferson County_2014</td>\n",
       "    </tr>\n",
       "    <tr>\n",
       "      <th>6</th>\n",
       "      <td>Jefferson County, AL</td>\n",
       "      <td>1073.0</td>\n",
       "      <td>45-54 years</td>\n",
       "      <td>45-54</td>\n",
       "      <td>Male</td>\n",
       "      <td>M</td>\n",
       "      <td>White</td>\n",
       "      <td>2106-3</td>\n",
       "      <td>Not Hispanic or Latino</td>\n",
       "      <td>2186-2</td>\n",
       "      <td>...</td>\n",
       "      <td>2014</td>\n",
       "      <td>0.078</td>\n",
       "      <td>32.0</td>\n",
       "      <td>22839.0</td>\n",
       "      <td>140.111213</td>\n",
       "      <td>1073</td>\n",
       "      <td>AL</td>\n",
       "      <td>1073</td>\n",
       "      <td>Jefferson County</td>\n",
       "      <td>Jefferson County_2014</td>\n",
       "    </tr>\n",
       "    <tr>\n",
       "      <th>7</th>\n",
       "      <td>Jefferson County, AL</td>\n",
       "      <td>1073.0</td>\n",
       "      <td>55-64 years</td>\n",
       "      <td>55-64</td>\n",
       "      <td>Female</td>\n",
       "      <td>F</td>\n",
       "      <td>White</td>\n",
       "      <td>2106-3</td>\n",
       "      <td>Not Hispanic or Latino</td>\n",
       "      <td>2186-2</td>\n",
       "      <td>...</td>\n",
       "      <td>2014</td>\n",
       "      <td>0.029</td>\n",
       "      <td>12.0</td>\n",
       "      <td>25098.0</td>\n",
       "      <td>47.812575</td>\n",
       "      <td>1073</td>\n",
       "      <td>AL</td>\n",
       "      <td>1073</td>\n",
       "      <td>Jefferson County</td>\n",
       "      <td>Jefferson County_2014</td>\n",
       "    </tr>\n",
       "    <tr>\n",
       "      <th>8</th>\n",
       "      <td>Jefferson County, AL</td>\n",
       "      <td>1073.0</td>\n",
       "      <td>55-64 years</td>\n",
       "      <td>55-64</td>\n",
       "      <td>Male</td>\n",
       "      <td>M</td>\n",
       "      <td>Black or African American</td>\n",
       "      <td>2054-5</td>\n",
       "      <td>Not Hispanic or Latino</td>\n",
       "      <td>2186-2</td>\n",
       "      <td>...</td>\n",
       "      <td>2014</td>\n",
       "      <td>0.024</td>\n",
       "      <td>10.0</td>\n",
       "      <td>15872.0</td>\n",
       "      <td>63.004032</td>\n",
       "      <td>1073</td>\n",
       "      <td>AL</td>\n",
       "      <td>1073</td>\n",
       "      <td>Jefferson County</td>\n",
       "      <td>Jefferson County_2014</td>\n",
       "    </tr>\n",
       "    <tr>\n",
       "      <th>9</th>\n",
       "      <td>Jefferson County, AL</td>\n",
       "      <td>1073.0</td>\n",
       "      <td>55-64 years</td>\n",
       "      <td>55-64</td>\n",
       "      <td>Male</td>\n",
       "      <td>M</td>\n",
       "      <td>White</td>\n",
       "      <td>2106-3</td>\n",
       "      <td>Not Hispanic or Latino</td>\n",
       "      <td>2186-2</td>\n",
       "      <td>...</td>\n",
       "      <td>2014</td>\n",
       "      <td>0.080</td>\n",
       "      <td>33.0</td>\n",
       "      <td>23237.0</td>\n",
       "      <td>142.014890</td>\n",
       "      <td>1073</td>\n",
       "      <td>AL</td>\n",
       "      <td>1073</td>\n",
       "      <td>Jefferson County</td>\n",
       "      <td>Jefferson County_2014</td>\n",
       "    </tr>\n",
       "    <tr>\n",
       "      <th>10</th>\n",
       "      <td>Madison County, AL</td>\n",
       "      <td>1089.0</td>\n",
       "      <td>35-44 years</td>\n",
       "      <td>35-44</td>\n",
       "      <td>Male</td>\n",
       "      <td>M</td>\n",
       "      <td>White</td>\n",
       "      <td>2106-3</td>\n",
       "      <td>Not Hispanic or Latino</td>\n",
       "      <td>2186-2</td>\n",
       "      <td>...</td>\n",
       "      <td>2014</td>\n",
       "      <td>0.024</td>\n",
       "      <td>10.0</td>\n",
       "      <td>13907.0</td>\n",
       "      <td>71.906234</td>\n",
       "      <td>1089</td>\n",
       "      <td>AL</td>\n",
       "      <td>1089</td>\n",
       "      <td>Madison County</td>\n",
       "      <td>Madison County_2014</td>\n",
       "    </tr>\n",
       "    <tr>\n",
       "      <th>11</th>\n",
       "      <td>Mobile County, AL</td>\n",
       "      <td>1097.0</td>\n",
       "      <td>35-44 years</td>\n",
       "      <td>35-44</td>\n",
       "      <td>Male</td>\n",
       "      <td>M</td>\n",
       "      <td>White</td>\n",
       "      <td>2106-3</td>\n",
       "      <td>Not Hispanic or Latino</td>\n",
       "      <td>2186-2</td>\n",
       "      <td>...</td>\n",
       "      <td>2014</td>\n",
       "      <td>0.027</td>\n",
       "      <td>11.0</td>\n",
       "      <td>14645.0</td>\n",
       "      <td>75.110959</td>\n",
       "      <td>1097</td>\n",
       "      <td>AL</td>\n",
       "      <td>1097</td>\n",
       "      <td>Mobile County</td>\n",
       "      <td>Mobile County_2014</td>\n",
       "    </tr>\n",
       "  </tbody>\n",
       "</table>\n",
       "<p>12 rows × 24 columns</p>\n",
       "</div>"
      ],
      "text/plain": [
       "                  County  County Code Ten-Year Age Groups  \\\n",
       "0   Jefferson County, AL       1073.0         15-24 years   \n",
       "1   Jefferson County, AL       1073.0         25-34 years   \n",
       "2   Jefferson County, AL       1073.0         25-34 years   \n",
       "3   Jefferson County, AL       1073.0         35-44 years   \n",
       "4   Jefferson County, AL       1073.0         35-44 years   \n",
       "5   Jefferson County, AL       1073.0         45-54 years   \n",
       "6   Jefferson County, AL       1073.0         45-54 years   \n",
       "7   Jefferson County, AL       1073.0         55-64 years   \n",
       "8   Jefferson County, AL       1073.0         55-64 years   \n",
       "9   Jefferson County, AL       1073.0         55-64 years   \n",
       "10    Madison County, AL       1089.0         35-44 years   \n",
       "11     Mobile County, AL       1097.0         35-44 years   \n",
       "\n",
       "   Ten-Year Age Groups Code  Gender Gender Code                       Race  \\\n",
       "0                     15-24    Male           M                      White   \n",
       "1                     25-34  Female           F                      White   \n",
       "2                     25-34    Male           M                      White   \n",
       "3                     35-44  Female           F                      White   \n",
       "4                     35-44    Male           M                      White   \n",
       "5                     45-54  Female           F                      White   \n",
       "6                     45-54    Male           M                      White   \n",
       "7                     55-64  Female           F                      White   \n",
       "8                     55-64    Male           M  Black or African American   \n",
       "9                     55-64    Male           M                      White   \n",
       "10                    35-44    Male           M                      White   \n",
       "11                    35-44    Male           M                      White   \n",
       "\n",
       "   Race Code         Hispanic Origin Hispanic Origin Code  \\\n",
       "0     2106-3  Not Hispanic or Latino               2186-2   \n",
       "1     2106-3  Not Hispanic or Latino               2186-2   \n",
       "2     2106-3  Not Hispanic or Latino               2186-2   \n",
       "3     2106-3  Not Hispanic or Latino               2186-2   \n",
       "4     2106-3  Not Hispanic or Latino               2186-2   \n",
       "5     2106-3  Not Hispanic or Latino               2186-2   \n",
       "6     2106-3  Not Hispanic or Latino               2186-2   \n",
       "7     2106-3  Not Hispanic or Latino               2186-2   \n",
       "8     2054-5  Not Hispanic or Latino               2186-2   \n",
       "9     2106-3  Not Hispanic or Latino               2186-2   \n",
       "10    2106-3  Not Hispanic or Latino               2186-2   \n",
       "11    2106-3  Not Hispanic or Latino               2186-2   \n",
       "\n",
       "            ...            year  pct_total_deaths deaths population  \\\n",
       "0           ...            2014             0.027   11.0    19306.0   \n",
       "1           ...            2014             0.039   16.0    23590.0   \n",
       "2           ...            2014             0.065   27.0    22917.0   \n",
       "3           ...            2014             0.053   22.0    20774.0   \n",
       "4           ...            2014             0.063   26.0    21104.0   \n",
       "5           ...            2014             0.046   19.0    23482.0   \n",
       "6           ...            2014             0.078   32.0    22839.0   \n",
       "7           ...            2014             0.029   12.0    25098.0   \n",
       "8           ...            2014             0.024   10.0    15872.0   \n",
       "9           ...            2014             0.080   33.0    23237.0   \n",
       "10          ...            2014             0.024   10.0    13907.0   \n",
       "11          ...            2014             0.027   11.0    14645.0   \n",
       "\n",
       "    crude_100k  county_id  state  county_code           CTYNAME  \\\n",
       "0    56.977106       1073     AL         1073  Jefferson County   \n",
       "1    67.825350       1073     AL         1073  Jefferson County   \n",
       "2   117.816468       1073     AL         1073  Jefferson County   \n",
       "3   105.901608       1073     AL         1073  Jefferson County   \n",
       "4   123.199393       1073     AL         1073  Jefferson County   \n",
       "5    80.913040       1073     AL         1073  Jefferson County   \n",
       "6   140.111213       1073     AL         1073  Jefferson County   \n",
       "7    47.812575       1073     AL         1073  Jefferson County   \n",
       "8    63.004032       1073     AL         1073  Jefferson County   \n",
       "9   142.014890       1073     AL         1073  Jefferson County   \n",
       "10   71.906234       1089     AL         1089    Madison County   \n",
       "11   75.110959       1097     AL         1097     Mobile County   \n",
       "\n",
       "            pop_merge_ind  \n",
       "0   Jefferson County_2014  \n",
       "1   Jefferson County_2014  \n",
       "2   Jefferson County_2014  \n",
       "3   Jefferson County_2014  \n",
       "4   Jefferson County_2014  \n",
       "5   Jefferson County_2014  \n",
       "6   Jefferson County_2014  \n",
       "7   Jefferson County_2014  \n",
       "8   Jefferson County_2014  \n",
       "9   Jefferson County_2014  \n",
       "10    Madison County_2014  \n",
       "11     Mobile County_2014  \n",
       "\n",
       "[12 rows x 24 columns]"
      ]
     },
     "execution_count": 2,
     "metadata": {},
     "output_type": "execute_result"
    }
   ],
   "source": [
    "unemp_03_14 = pd.read_csv('/Users/HudsonCavanagh/Documents/csv_out_duplicate/unemp_tot_03_14.csv')\n",
    "unemp_03_14 = unemp_03_14.iloc[:,1:]\n",
    "\n",
    "pov_county_year_03_14 = pd.read_csv('/Users/HudsonCavanagh/Documents/csv_out_duplicate/pov_county_year_03_14.csv')\n",
    "pov_county_year_03_14 = pov_county_year_03_14.iloc[:,1:]\n",
    "\n",
    "cdc_03_14 = pd.read_csv('/Users/HudsonCavanagh/Documents/csv_out_duplicate/cdc_03_14.csv')\n",
    "cdc_03_14 = cdc_03_14.iloc[:,2:]\n",
    "cdc_03_14.head(12)"
   ]
  },
  {
   "cell_type": "code",
   "execution_count": 3,
   "metadata": {
    "collapsed": false
   },
   "outputs": [],
   "source": [
    "#adding up Jefferson County to see if its what I expect it to be\n",
    "# 19306.0 + 23590.0 + 22917.0 + 20774.0 + 21104.0 + 23482.0 + 22839.0 + 25098.0 + 15872.0 + 23237.0"
   ]
  },
  {
   "cell_type": "code",
   "execution_count": 4,
   "metadata": {
    "collapsed": false
   },
   "outputs": [
    {
     "data": {
      "text/html": [
       "<div>\n",
       "<table border=\"1\" class=\"dataframe\">\n",
       "  <thead>\n",
       "    <tr style=\"text-align: right;\">\n",
       "      <th></th>\n",
       "      <th>year</th>\n",
       "      <th>county_code</th>\n",
       "      <th>nan</th>\n",
       "      <th>working_pop</th>\n",
       "      <th>employed_pop</th>\n",
       "      <th>unemployed_pop</th>\n",
       "      <th>unemp_perc</th>\n",
       "    </tr>\n",
       "  </thead>\n",
       "  <tbody>\n",
       "    <tr>\n",
       "      <th>0</th>\n",
       "      <td>2003</td>\n",
       "      <td>1001</td>\n",
       "      <td>NaN</td>\n",
       "      <td>22604.0</td>\n",
       "      <td>21462.0</td>\n",
       "      <td>1142.0</td>\n",
       "      <td>5.1</td>\n",
       "    </tr>\n",
       "    <tr>\n",
       "      <th>1</th>\n",
       "      <td>2003</td>\n",
       "      <td>1003</td>\n",
       "      <td>NaN</td>\n",
       "      <td>72299.0</td>\n",
       "      <td>68702.0</td>\n",
       "      <td>3597.0</td>\n",
       "      <td>5.0</td>\n",
       "    </tr>\n",
       "    <tr>\n",
       "      <th>2</th>\n",
       "      <td>2003</td>\n",
       "      <td>1005</td>\n",
       "      <td>NaN</td>\n",
       "      <td>10977.0</td>\n",
       "      <td>10196.0</td>\n",
       "      <td>781.0</td>\n",
       "      <td>7.1</td>\n",
       "    </tr>\n",
       "    <tr>\n",
       "      <th>3</th>\n",
       "      <td>2003</td>\n",
       "      <td>1007</td>\n",
       "      <td>NaN</td>\n",
       "      <td>8836.0</td>\n",
       "      <td>8309.0</td>\n",
       "      <td>527.0</td>\n",
       "      <td>6.0</td>\n",
       "    </tr>\n",
       "    <tr>\n",
       "      <th>4</th>\n",
       "      <td>2003</td>\n",
       "      <td>1009</td>\n",
       "      <td>NaN</td>\n",
       "      <td>25900.0</td>\n",
       "      <td>24702.0</td>\n",
       "      <td>1198.0</td>\n",
       "      <td>4.6</td>\n",
       "    </tr>\n",
       "  </tbody>\n",
       "</table>\n",
       "</div>"
      ],
      "text/plain": [
       "   year  county_code  nan  working_pop  employed_pop  unemployed_pop  \\\n",
       "0  2003         1001  NaN      22604.0       21462.0          1142.0   \n",
       "1  2003         1003  NaN      72299.0       68702.0          3597.0   \n",
       "2  2003         1005  NaN      10977.0       10196.0           781.0   \n",
       "3  2003         1007  NaN       8836.0        8309.0           527.0   \n",
       "4  2003         1009  NaN      25900.0       24702.0          1198.0   \n",
       "\n",
       "   unemp_perc  \n",
       "0         5.1  \n",
       "1         5.0  \n",
       "2         7.1  \n",
       "3         6.0  \n",
       "4         4.6  "
      ]
     },
     "execution_count": 4,
     "metadata": {},
     "output_type": "execute_result"
    }
   ],
   "source": [
    "unemp_03_14.head()"
   ]
  },
  {
   "cell_type": "code",
   "execution_count": 5,
   "metadata": {
    "collapsed": false,
    "scrolled": true
   },
   "outputs": [
    {
     "name": "stderr",
     "output_type": "stream",
     "text": [
      "/Users/HudsonCavanagh/anaconda/lib/python2.7/site-packages/IPython/core/interactiveshell.py:2902: DtypeWarning: Columns (1) have mixed types. Specify dtype option on import or set low_memory=False.\n",
      "  interactivity=interactivity, compiler=compiler, result=result)\n"
     ]
    }
   ],
   "source": [
    "pop_03 = pd.read_csv('/Users/HudsonCavanagh/Documents/csv_out_duplicate/pop_03_output.csv')\n",
    "pop_04 =pd.read_csv('/Users/HudsonCavanagh/Documents/csv_out_duplicate/pop_04_output.csv')\n",
    "pop_05 = pd.read_csv('/Users/HudsonCavanagh/Documents/csv_out_duplicate/pop_05_output.csv')\n",
    "pop_06 = pd.read_csv('/Users/HudsonCavanagh/Documents/csv_out_duplicate/pop_06_output.csv')\n",
    "pop_07 = pd.read_csv('/Users/HudsonCavanagh/Documents/csv_out_duplicate/pop_07_output.csv')\n",
    "pop_08 = pd.read_csv('/Users/HudsonCavanagh/Documents/csv_out_duplicate/pop_08_output.csv')\n",
    "pop_09 = pd.read_csv('/Users/HudsonCavanagh/Documents/csv_out_duplicate/pop_09_output.csv')\n",
    "pop_10_14 = pd.read_csv('/Users/HudsonCavanagh/Documents/csv_out_duplicate/pop_10_15_output.csv')\n",
    "\n",
    "\n",
    "pop_10_14 = pop_10_14.loc[:,['year', 'county_code', 'pop_sub_15', 'pop_15-34', 'pop_35-54', 'pop_55+','pop_black','pop_white','pop_hisp','pop_asian', 'pop_male', 'population', 'TOT_POP']]\n",
    "# pop_10_14.describe() "
   ]
  },
  {
   "cell_type": "code",
   "execution_count": 6,
   "metadata": {
    "collapsed": false
   },
   "outputs": [
    {
     "data": {
      "text/html": [
       "<div>\n",
       "<table border=\"1\" class=\"dataframe\">\n",
       "  <thead>\n",
       "    <tr style=\"text-align: right;\">\n",
       "      <th></th>\n",
       "      <th>year</th>\n",
       "      <th>county_code</th>\n",
       "      <th>pop_sub_15</th>\n",
       "      <th>pop_15-34</th>\n",
       "      <th>pop_35-54</th>\n",
       "      <th>pop_55+</th>\n",
       "      <th>pop_black</th>\n",
       "      <th>pop_white</th>\n",
       "      <th>pop_hisp</th>\n",
       "      <th>pop_asian</th>\n",
       "      <th>pop_male</th>\n",
       "      <th>population</th>\n",
       "      <th>TOT_POP</th>\n",
       "    </tr>\n",
       "  </thead>\n",
       "  <tbody>\n",
       "    <tr>\n",
       "      <th>0</th>\n",
       "      <td>2010</td>\n",
       "      <td>1001</td>\n",
       "      <td>11824</td>\n",
       "      <td>13864</td>\n",
       "      <td>16471</td>\n",
       "      <td>12501</td>\n",
       "      <td>20286</td>\n",
       "      <td>86614</td>\n",
       "      <td>2616</td>\n",
       "      <td>990</td>\n",
       "      <td>NaN</td>\n",
       "      <td>NaN</td>\n",
       "      <td>109320</td>\n",
       "    </tr>\n",
       "    <tr>\n",
       "      <th>1</th>\n",
       "      <td>2010</td>\n",
       "      <td>1003</td>\n",
       "      <td>34792</td>\n",
       "      <td>42297</td>\n",
       "      <td>50530</td>\n",
       "      <td>55574</td>\n",
       "      <td>36630</td>\n",
       "      <td>320982</td>\n",
       "      <td>16174</td>\n",
       "      <td>2754</td>\n",
       "      <td>NaN</td>\n",
       "      <td>NaN</td>\n",
       "      <td>366386</td>\n",
       "    </tr>\n",
       "    <tr>\n",
       "      <th>2</th>\n",
       "      <td>2010</td>\n",
       "      <td>1005</td>\n",
       "      <td>4909</td>\n",
       "      <td>7316</td>\n",
       "      <td>7586</td>\n",
       "      <td>7530</td>\n",
       "      <td>26074</td>\n",
       "      <td>27820</td>\n",
       "      <td>2716</td>\n",
       "      <td>240</td>\n",
       "      <td>NaN</td>\n",
       "      <td>NaN</td>\n",
       "      <td>54682</td>\n",
       "    </tr>\n",
       "    <tr>\n",
       "      <th>3</th>\n",
       "      <td>2010</td>\n",
       "      <td>1007</td>\n",
       "      <td>4192</td>\n",
       "      <td>6245</td>\n",
       "      <td>6751</td>\n",
       "      <td>5673</td>\n",
       "      <td>10256</td>\n",
       "      <td>35036</td>\n",
       "      <td>824</td>\n",
       "      <td>38</td>\n",
       "      <td>NaN</td>\n",
       "      <td>NaN</td>\n",
       "      <td>45722</td>\n",
       "    </tr>\n",
       "    <tr>\n",
       "      <th>4</th>\n",
       "      <td>2010</td>\n",
       "      <td>1009</td>\n",
       "      <td>11557</td>\n",
       "      <td>14033</td>\n",
       "      <td>15963</td>\n",
       "      <td>15820</td>\n",
       "      <td>2030</td>\n",
       "      <td>110792</td>\n",
       "      <td>9338</td>\n",
       "      <td>262</td>\n",
       "      <td>NaN</td>\n",
       "      <td>NaN</td>\n",
       "      <td>114746</td>\n",
       "    </tr>\n",
       "  </tbody>\n",
       "</table>\n",
       "</div>"
      ],
      "text/plain": [
       "   year  county_code  pop_sub_15  pop_15-34  pop_35-54  pop_55+  pop_black  \\\n",
       "0  2010         1001       11824      13864      16471    12501      20286   \n",
       "1  2010         1003       34792      42297      50530    55574      36630   \n",
       "2  2010         1005        4909       7316       7586     7530      26074   \n",
       "3  2010         1007        4192       6245       6751     5673      10256   \n",
       "4  2010         1009       11557      14033      15963    15820       2030   \n",
       "\n",
       "   pop_white  pop_hisp  pop_asian  pop_male  population  TOT_POP  \n",
       "0      86614      2616        990       NaN         NaN   109320  \n",
       "1     320982     16174       2754       NaN         NaN   366386  \n",
       "2      27820      2716        240       NaN         NaN    54682  \n",
       "3      35036       824         38       NaN         NaN    45722  \n",
       "4     110792      9338        262       NaN         NaN   114746  "
      ]
     },
     "execution_count": 6,
     "metadata": {},
     "output_type": "execute_result"
    }
   ],
   "source": [
    "pop_10_14.head() # checked code 01005, Barbour county, listed is 2x actual\n",
    "# pop_03.head()"
   ]
  },
  {
   "cell_type": "code",
   "execution_count": 7,
   "metadata": {
    "collapsed": false
   },
   "outputs": [
    {
     "data": {
      "text/html": [
       "<div>\n",
       "<table border=\"1\" class=\"dataframe\">\n",
       "  <thead>\n",
       "    <tr style=\"text-align: right;\">\n",
       "      <th></th>\n",
       "      <th>AGEGRP</th>\n",
       "      <th>ORIGIN</th>\n",
       "      <th>RACE</th>\n",
       "      <th>SEX</th>\n",
       "      <th>TOT_POP</th>\n",
       "      <th>Unnamed: 0</th>\n",
       "      <th>age_group</th>\n",
       "      <th>county_code</th>\n",
       "      <th>hisp</th>\n",
       "      <th>pop_15-34</th>\n",
       "      <th>...</th>\n",
       "      <th>pop_hisp</th>\n",
       "      <th>pop_male</th>\n",
       "      <th>pop_sub_15</th>\n",
       "      <th>pop_white</th>\n",
       "      <th>population</th>\n",
       "      <th>population_age_sex</th>\n",
       "      <th>population_race_hisp</th>\n",
       "      <th>race</th>\n",
       "      <th>sex</th>\n",
       "      <th>year</th>\n",
       "    </tr>\n",
       "  </thead>\n",
       "  <tbody>\n",
       "    <tr>\n",
       "      <th>0</th>\n",
       "      <td>32319.0</td>\n",
       "      <td>3591.0</td>\n",
       "      <td>10773.0</td>\n",
       "      <td>3591.0</td>\n",
       "      <td>NaN</td>\n",
       "      <td>0.0</td>\n",
       "      <td>32319.0</td>\n",
       "      <td>1001</td>\n",
       "      <td>3591.0</td>\n",
       "      <td>1501038.0</td>\n",
       "      <td>...</td>\n",
       "      <td>10489824.0</td>\n",
       "      <td>2867760.0</td>\n",
       "      <td>1372644.0</td>\n",
       "      <td>8599248.0</td>\n",
       "      <td>NaN</td>\n",
       "      <td>11793600.0</td>\n",
       "      <td>21340800.0</td>\n",
       "      <td>10773.0</td>\n",
       "      <td>3591.0</td>\n",
       "      <td>2003</td>\n",
       "    </tr>\n",
       "    <tr>\n",
       "      <th>1</th>\n",
       "      <td>32319.0</td>\n",
       "      <td>3591.0</td>\n",
       "      <td>10773.0</td>\n",
       "      <td>3591.0</td>\n",
       "      <td>NaN</td>\n",
       "      <td>1.0</td>\n",
       "      <td>32319.0</td>\n",
       "      <td>1003</td>\n",
       "      <td>3591.0</td>\n",
       "      <td>4468590.0</td>\n",
       "      <td>...</td>\n",
       "      <td>33712080.0</td>\n",
       "      <td>9349452.0</td>\n",
       "      <td>3701502.0</td>\n",
       "      <td>30329928.0</td>\n",
       "      <td>NaN</td>\n",
       "      <td>38180268.0</td>\n",
       "      <td>69088104.0</td>\n",
       "      <td>10773.0</td>\n",
       "      <td>3591.0</td>\n",
       "      <td>2003</td>\n",
       "    </tr>\n",
       "    <tr>\n",
       "      <th>2</th>\n",
       "      <td>32319.0</td>\n",
       "      <td>3591.0</td>\n",
       "      <td>10773.0</td>\n",
       "      <td>3591.0</td>\n",
       "      <td>NaN</td>\n",
       "      <td>2.0</td>\n",
       "      <td>32319.0</td>\n",
       "      <td>1005</td>\n",
       "      <td>3591.0</td>\n",
       "      <td>1006992.0</td>\n",
       "      <td>...</td>\n",
       "      <td>6342048.0</td>\n",
       "      <td>1892646.0</td>\n",
       "      <td>707742.0</td>\n",
       "      <td>3356160.0</td>\n",
       "      <td>NaN</td>\n",
       "      <td>7205688.0</td>\n",
       "      <td>13038864.0</td>\n",
       "      <td>10773.0</td>\n",
       "      <td>3591.0</td>\n",
       "      <td>2003</td>\n",
       "    </tr>\n",
       "    <tr>\n",
       "      <th>3</th>\n",
       "      <td>32319.0</td>\n",
       "      <td>3591.0</td>\n",
       "      <td>10773.0</td>\n",
       "      <td>3591.0</td>\n",
       "      <td>NaN</td>\n",
       "      <td>3.0</td>\n",
       "      <td>32319.0</td>\n",
       "      <td>1007</td>\n",
       "      <td>3591.0</td>\n",
       "      <td>749700.0</td>\n",
       "      <td>...</td>\n",
       "      <td>4811940.0</td>\n",
       "      <td>1394190.0</td>\n",
       "      <td>558306.0</td>\n",
       "      <td>3765876.0</td>\n",
       "      <td>NaN</td>\n",
       "      <td>5392548.0</td>\n",
       "      <td>9757944.0</td>\n",
       "      <td>10773.0</td>\n",
       "      <td>3591.0</td>\n",
       "      <td>2003</td>\n",
       "    </tr>\n",
       "    <tr>\n",
       "      <th>4</th>\n",
       "      <td>32319.0</td>\n",
       "      <td>3591.0</td>\n",
       "      <td>10773.0</td>\n",
       "      <td>3591.0</td>\n",
       "      <td>NaN</td>\n",
       "      <td>4.0</td>\n",
       "      <td>32319.0</td>\n",
       "      <td>1009</td>\n",
       "      <td>3591.0</td>\n",
       "      <td>1739682.0</td>\n",
       "      <td>...</td>\n",
       "      <td>11465664.0</td>\n",
       "      <td>3352608.0</td>\n",
       "      <td>1423044.0</td>\n",
       "      <td>11804244.0</td>\n",
       "      <td>NaN</td>\n",
       "      <td>13471164.0</td>\n",
       "      <td>24376392.0</td>\n",
       "      <td>10773.0</td>\n",
       "      <td>3591.0</td>\n",
       "      <td>2003</td>\n",
       "    </tr>\n",
       "  </tbody>\n",
       "</table>\n",
       "<p>5 rows × 24 columns</p>\n",
       "</div>"
      ],
      "text/plain": [
       "    AGEGRP  ORIGIN     RACE     SEX  TOT_POP  Unnamed: 0  age_group  \\\n",
       "0  32319.0  3591.0  10773.0  3591.0      NaN         0.0    32319.0   \n",
       "1  32319.0  3591.0  10773.0  3591.0      NaN         1.0    32319.0   \n",
       "2  32319.0  3591.0  10773.0  3591.0      NaN         2.0    32319.0   \n",
       "3  32319.0  3591.0  10773.0  3591.0      NaN         3.0    32319.0   \n",
       "4  32319.0  3591.0  10773.0  3591.0      NaN         4.0    32319.0   \n",
       "\n",
       "   county_code    hisp  pop_15-34  ...     pop_hisp   pop_male  pop_sub_15  \\\n",
       "0         1001  3591.0  1501038.0  ...   10489824.0  2867760.0   1372644.0   \n",
       "1         1003  3591.0  4468590.0  ...   33712080.0  9349452.0   3701502.0   \n",
       "2         1005  3591.0  1006992.0  ...    6342048.0  1892646.0    707742.0   \n",
       "3         1007  3591.0   749700.0  ...    4811940.0  1394190.0    558306.0   \n",
       "4         1009  3591.0  1739682.0  ...   11465664.0  3352608.0   1423044.0   \n",
       "\n",
       "    pop_white  population  population_age_sex  population_race_hisp     race  \\\n",
       "0   8599248.0         NaN          11793600.0            21340800.0  10773.0   \n",
       "1  30329928.0         NaN          38180268.0            69088104.0  10773.0   \n",
       "2   3356160.0         NaN           7205688.0            13038864.0  10773.0   \n",
       "3   3765876.0         NaN           5392548.0             9757944.0  10773.0   \n",
       "4  11804244.0         NaN          13471164.0            24376392.0  10773.0   \n",
       "\n",
       "      sex  year  \n",
       "0  3591.0  2003  \n",
       "1  3591.0  2003  \n",
       "2  3591.0  2003  \n",
       "3  3591.0  2003  \n",
       "4  3591.0  2003  \n",
       "\n",
       "[5 rows x 24 columns]"
      ]
     },
     "execution_count": 7,
     "metadata": {},
     "output_type": "execute_result"
    }
   ],
   "source": [
    "\n",
    "\n",
    "pop_03_14 = pd.concat([pop_03, pop_04, pop_05, pop_06, pop_07, pop_08, pop_09, pop_10_14], axis=0) #this works 1) need to make floats 2) need more data\n",
    "# pop_03_14.head(25) #25136 with axis =1\n",
    "# pop_03_14 = pop_03_14.loc[:,['year', 'county_code', 'pop_sub_15', 'pop_15-34', 'pop_35-54', 'pop_55+','pop_black','pop_white','pop_hisp','pop_asian', 'pop_male', 'population', 'TOT_POP']]\n",
    "pop_03_14.head()\n"
   ]
  },
  {
   "cell_type": "code",
   "execution_count": 8,
   "metadata": {
    "collapsed": false
   },
   "outputs": [
    {
     "data": {
      "text/plain": [
       "2009                 3143\n",
       "2008                 3143\n",
       "2007                 3143\n",
       "2006                 3143\n",
       "2005                 3143\n",
       "2004                 3143\n",
       "2003                 3143\n",
       "2010_census          3142\n",
       "2010_pop_est_base    3142\n",
       "2015                 3142\n",
       "2014                 3142\n",
       "2013                 3142\n",
       "2012                 3142\n",
       "2011                 3142\n",
       "2010                 3142\n",
       "Name: year, dtype: int64"
      ]
     },
     "execution_count": 8,
     "metadata": {},
     "output_type": "execute_result"
    }
   ],
   "source": [
    "def pop_year_clean(year):\n",
    "    year = str(year)\n",
    "    year = year.replace(\" \", \"\")\n",
    "    try:\n",
    "        year = int(year)\n",
    "    except:\n",
    "        year = year\n",
    "    return year\n",
    "\n",
    "pop_03_14['year'] = pop_03_14['year'].apply(lambda x: pop_year_clean(x)) #noticed 2013 was split into 2 groups\n",
    "pop_03_14['year'].value_counts()\n",
    "# len(pop_03_14)\n",
    "# pop_03_15.isnull().sum()"
   ]
  },
  {
   "cell_type": "code",
   "execution_count": 9,
   "metadata": {
    "collapsed": false
   },
   "outputs": [
    {
     "data": {
      "text/plain": [
       "2013    3195\n",
       "2014    3194\n",
       "2012    3194\n",
       "2011    3194\n",
       "2010    3194\n",
       "2009    3193\n",
       "2008    3192\n",
       "2006    3192\n",
       "2005    3192\n",
       "2007    3191\n",
       "2004    3191\n",
       "2003    3191\n",
       "Name: year, dtype: int64"
      ]
     },
     "execution_count": 9,
     "metadata": {},
     "output_type": "execute_result"
    }
   ],
   "source": [
    "pov_county_year_03_14['year'].value_counts()"
   ]
  },
  {
   "cell_type": "code",
   "execution_count": null,
   "metadata": {
    "collapsed": false
   },
   "outputs": [],
   "source": []
  },
  {
   "cell_type": "code",
   "execution_count": null,
   "metadata": {
    "collapsed": false
   },
   "outputs": [],
   "source": []
  },
  {
   "cell_type": "markdown",
   "metadata": {
    "collapsed": false
   },
   "source": [
    "### Issue with Population information\n",
    "\n",
    "None of the population figures are around the order of magnitude I expected, which I believe owes to the previous groupby being summed, rather than averaged (which would have made more sense at the county level). Nonetheless, each column is consistent, so instead of proportional demographics, going to use ratio of demographics\n",
    "\n",
    "-May be that in the calculations, should have been multiplying by 'POP_TOT'>\n",
    "pop_03_14['pop_white'][pop_03_14['year']==2009].sum()  equals 54 billion ....\n"
   ]
  },
  {
   "cell_type": "code",
   "execution_count": 10,
   "metadata": {
    "collapsed": false
   },
   "outputs": [],
   "source": [
    "### Making ratios of existing columns\n",
    "\n",
    "pop_03_14['pop_total_age'] = pop_03_14['pop_sub_15'] + pop_03_14['pop_15-34'] + pop_03_14['pop_35-54'] + pop_03_14['pop_55+']\n",
    "pop_03_14['pop_sub_15_prop'] = pop_03_14['pop_sub_15']/pop_03_14['pop_total_age']\n",
    "pop_03_14['pop_15-34_prop'] = pop_03_14['pop_sub_15']/pop_03_14['pop_total_age']\n",
    "pop_03_14['pop_35-54_prop'] = pop_03_14['pop_sub_15']/pop_03_14['pop_total_age']\n",
    "pop_03_14['pop_55+_prop'] = pop_03_14['pop_sub_15']/pop_03_14['pop_total_age']\n",
    "pop_03_14['pop_big_3_races'] = pop_03_14['pop_black'] + pop_03_14['pop_white'] + pop_03_14['pop_asian']\n",
    "pop_03_14['pop_asian_prop'] = pop_03_14['pop_asian']/pop_03_14['pop_big_3_races']\n",
    "pop_03_14['pop_white_prop'] = pop_03_14['pop_white']/pop_03_14['pop_big_3_races']\n",
    "pop_03_14['pop_black_prop'] = pop_03_14['pop_black']/pop_03_14['pop_big_3_races']\n",
    "pop_03_14['pop_hisp_prop'] = pop_03_14['pop_hisp']/pop_03_14['pop_big_3_races']\n",
    "pop_03_14['pop_male_prop'] = pop_03_14['pop_male'] / pop_03_14['pop_total_age']\n"
   ]
  },
  {
   "cell_type": "code",
   "execution_count": 11,
   "metadata": {
    "collapsed": false
   },
   "outputs": [],
   "source": [
    "# a_codes = set(cdc_03_14['county_code'])\n",
    "# b_codes = set(pop_03_14['county_code'])\n",
    "\n",
    "# a_in_b = []\n",
    "# for a in a_codes:\n",
    "#     if a in b_codes:\n",
    "#         a_in_b.append(a)\n",
    "        \n",
    "# b_in_a = []\n",
    "# for b in b_codes:\n",
    "#     if b in a_codes:\n",
    "#         b_in_a.append(b)\n",
    "\n",
    "# print(len(a_in_b), len(b_in_a))\n",
    "\n",
    "\n",
    "####################### Matches - same county_codes"
   ]
  },
  {
   "cell_type": "code",
   "execution_count": null,
   "metadata": {
    "collapsed": false
   },
   "outputs": [],
   "source": []
  },
  {
   "cell_type": "code",
   "execution_count": 12,
   "metadata": {
    "collapsed": false
   },
   "outputs": [],
   "source": [
    "#grouping cdc data\n",
    "\n",
    "deaths_pop = cdc_03_14.groupby(by=['year', 'county_code']).sum()\n",
    "\n",
    "#calculating target\n",
    "\n",
    "deaths_pop['death_per_head'] = deaths_pop['deaths'] / deaths_pop['population']\n",
    "deaths_pop.reset_index(inplace=1)\n",
    "\n",
    "#merging population\n",
    "deaths_pop = pd.merge(deaths_pop, pop_03_14, how='left', left_on=['year', 'county_code'], right_on=['year', 'county_code'])\n",
    "deaths_pop['population'] = deaths_pop['population_x']\n",
    "\n",
    "#merging poverty\n",
    "\n",
    "deaths_pop = pd.merge(deaths_pop, pov_county_year_03_14, how='left', left_on=['year','county_code'], right_on=['year','county_code'])\n",
    "\n",
    "\n",
    "#merging unemployment\n",
    "\n",
    "deaths_pop = pd.merge(deaths_pop, unemp_03_14, how='left', left_on=['year', 'county_code'], right_on=['year', 'county_code'])"
   ]
  },
  {
   "cell_type": "code",
   "execution_count": 13,
   "metadata": {
    "collapsed": false
   },
   "outputs": [
    {
     "data": {
      "text/html": [
       "<div>\n",
       "<table border=\"1\" class=\"dataframe\">\n",
       "  <thead>\n",
       "    <tr style=\"text-align: right;\">\n",
       "      <th></th>\n",
       "      <th>year</th>\n",
       "      <th>county_code</th>\n",
       "      <th>County Code</th>\n",
       "      <th>Deaths</th>\n",
       "      <th>Population</th>\n",
       "      <th>pct_total_deaths</th>\n",
       "      <th>deaths</th>\n",
       "      <th>population_x</th>\n",
       "      <th>crude_100k</th>\n",
       "      <th>county_id</th>\n",
       "      <th>...</th>\n",
       "      <th>working_pop</th>\n",
       "      <th>employed_pop</th>\n",
       "      <th>unemployed_pop</th>\n",
       "      <th>unemp_perc</th>\n",
       "      <th>perc_pop_employed</th>\n",
       "      <th>unemp_rate</th>\n",
       "      <th>perc_pop_working</th>\n",
       "      <th>pov_rate</th>\n",
       "      <th>pov_rate_youth</th>\n",
       "      <th>constant</th>\n",
       "    </tr>\n",
       "  </thead>\n",
       "  <tbody>\n",
       "  </tbody>\n",
       "</table>\n",
       "<p>0 rows × 61 columns</p>\n",
       "</div>"
      ],
      "text/plain": [
       "Empty DataFrame\n",
       "Columns: [year, county_code, County Code, Deaths, Population, pct_total_deaths, deaths, population_x, crude_100k, county_id, death_per_head, AGEGRP, ORIGIN, RACE, SEX, TOT_POP, Unnamed: 0, age_group, hisp, pop_15-34, pop_35-54, pop_55+, pop_asian, pop_black, pop_hisp, pop_male, pop_sub_15, pop_white, population_y, population_age_sex, population_race_hisp, race, sex, pop_total_age, pop_sub_15_prop, pop_15-34_prop, pop_35-54_prop, pop_55+_prop, pop_big_3_races, pop_asian_prop, pop_white_prop, pop_black_prop, pop_hisp_prop, pop_male_prop, population, pov_count_tot, pov_rate_tot, pov_youth_count_0-17, pov_youth_rate_0-17, med_hh_income, nan, working_pop, employed_pop, unemployed_pop, unemp_perc, perc_pop_employed, unemp_rate, perc_pop_working, pov_rate, pov_rate_youth, constant]\n",
       "Index: []\n",
       "\n",
       "[0 rows x 61 columns]"
      ]
     },
     "execution_count": 13,
     "metadata": {},
     "output_type": "execute_result"
    }
   ],
   "source": [
    "# # #calculations that required merge\n",
    "\n",
    "deaths_pop['perc_pop_employed'] = deaths_pop['employed_pop']/deaths_pop['population']\n",
    "deaths_pop['unemp_rate'] = 1 - (deaths_pop['employed_pop']/deaths_pop['working_pop']) #this is good\n",
    "deaths_pop['perc_pop_working'] = deaths_pop['working_pop']/deaths_pop['population']\n",
    "deaths_pop['pov_rate'] = deaths_pop['pov_count_tot']/ deaths_pop['population']\n",
    "deaths_pop['pov_rate_youth'] = deaths_pop['pov_youth_count_0-17']/ deaths_pop['population']\n",
    "deaths_pop['constant'] = 1.0\n",
    "\n",
    "deaths_pop.drop(1391, inplace=1)#noticed this is an outliar in plot below Coconino, AZ  pop listed as 1196.0\n",
    "\n",
    "deaths_pop[deaths_pop['county_code']==4005] "
   ]
  },
  {
   "cell_type": "markdown",
   "metadata": {},
   "source": [
    "### Readding county names and state identities"
   ]
  },
  {
   "cell_type": "code",
   "execution_count": 14,
   "metadata": {
    "collapsed": false
   },
   "outputs": [],
   "source": [
    "\n",
    "def state_extract(county):\n",
    "    county = str(county)\n",
    "    try:\n",
    "        county = county.split(\",\")[1]\n",
    "        county = county.replace(\" \", \"\")\n",
    "        return county\n",
    "    except: \n",
    "        if len(county) == 2:\n",
    "            return county\n",
    "        else:\n",
    "            return \"ERROR\"\n",
    "        \n",
    "\n",
    "name_codes = cdc_03_14.loc[:,['county_code', 'County']] #grabbing this \n",
    "name_codes['county_code'] = name_codes['county_code'].apply(lambda x: int(x))\n",
    "name_codes.index=name_codes['county_code']\n",
    "name_codes = name_codes.iloc[:,1:]\n",
    "name_codes = name_codes.to_dict()\n",
    "name_codes = name_codes['County']\n",
    "name_codes.items()\n",
    "\n",
    "deaths_pop['county_name'] = deaths_pop['county_code'].apply(lambda x: name_codes[x])\n",
    "deaths_pop['state'] = deaths_pop['county_name'].apply(lambda x: state_extract(x))\n",
    "state_dums = pd.get_dummies(deaths_pop['state'])\n",
    "state_feats = state_dums.columns\n",
    "\n",
    "deaths_pop = pd.concat([deaths_pop,state_dums], axis = 1)\n",
    "# type(state_dums['AL'][2]) -- float"
   ]
  },
  {
   "cell_type": "code",
   "execution_count": 15,
   "metadata": {
    "collapsed": false
   },
   "outputs": [
    {
     "data": {
      "text/html": [
       "<div>\n",
       "<table border=\"1\" class=\"dataframe\">\n",
       "  <thead>\n",
       "    <tr style=\"text-align: right;\">\n",
       "      <th></th>\n",
       "      <th>year</th>\n",
       "      <th>county_code</th>\n",
       "      <th>County Code</th>\n",
       "      <th>Deaths</th>\n",
       "      <th>Population</th>\n",
       "      <th>pct_total_deaths</th>\n",
       "      <th>deaths</th>\n",
       "      <th>population_x</th>\n",
       "      <th>crude_100k</th>\n",
       "      <th>county_id</th>\n",
       "      <th>...</th>\n",
       "      <th>SC</th>\n",
       "      <th>SD</th>\n",
       "      <th>TN</th>\n",
       "      <th>TX</th>\n",
       "      <th>UT</th>\n",
       "      <th>VA</th>\n",
       "      <th>WA</th>\n",
       "      <th>WI</th>\n",
       "      <th>WV</th>\n",
       "      <th>WY</th>\n",
       "    </tr>\n",
       "  </thead>\n",
       "  <tbody>\n",
       "    <tr>\n",
       "      <th>0</th>\n",
       "      <td>2003</td>\n",
       "      <td>1073</td>\n",
       "      <td>2146.0</td>\n",
       "      <td>26.0</td>\n",
       "      <td>54422.0</td>\n",
       "      <td>0.054</td>\n",
       "      <td>26.0</td>\n",
       "      <td>54422.0</td>\n",
       "      <td>95.427762</td>\n",
       "      <td>2146</td>\n",
       "      <td>...</td>\n",
       "      <td>0.0</td>\n",
       "      <td>0.0</td>\n",
       "      <td>0.0</td>\n",
       "      <td>0.0</td>\n",
       "      <td>0.0</td>\n",
       "      <td>0.0</td>\n",
       "      <td>0.0</td>\n",
       "      <td>0.0</td>\n",
       "      <td>0.0</td>\n",
       "      <td>0.0</td>\n",
       "    </tr>\n",
       "    <tr>\n",
       "      <th>1</th>\n",
       "      <td>2003</td>\n",
       "      <td>2020</td>\n",
       "      <td>4040.0</td>\n",
       "      <td>24.0</td>\n",
       "      <td>34160.0</td>\n",
       "      <td>0.049</td>\n",
       "      <td>24.0</td>\n",
       "      <td>34160.0</td>\n",
       "      <td>139.969440</td>\n",
       "      <td>4040</td>\n",
       "      <td>...</td>\n",
       "      <td>0.0</td>\n",
       "      <td>0.0</td>\n",
       "      <td>0.0</td>\n",
       "      <td>0.0</td>\n",
       "      <td>0.0</td>\n",
       "      <td>0.0</td>\n",
       "      <td>0.0</td>\n",
       "      <td>0.0</td>\n",
       "      <td>0.0</td>\n",
       "      <td>0.0</td>\n",
       "    </tr>\n",
       "    <tr>\n",
       "      <th>2</th>\n",
       "      <td>2003</td>\n",
       "      <td>4013</td>\n",
       "      <td>72234.0</td>\n",
       "      <td>591.0</td>\n",
       "      <td>1783462.0</td>\n",
       "      <td>1.212</td>\n",
       "      <td>591.0</td>\n",
       "      <td>1783462.0</td>\n",
       "      <td>715.153184</td>\n",
       "      <td>72234</td>\n",
       "      <td>...</td>\n",
       "      <td>0.0</td>\n",
       "      <td>0.0</td>\n",
       "      <td>0.0</td>\n",
       "      <td>0.0</td>\n",
       "      <td>0.0</td>\n",
       "      <td>0.0</td>\n",
       "      <td>0.0</td>\n",
       "      <td>0.0</td>\n",
       "      <td>0.0</td>\n",
       "      <td>0.0</td>\n",
       "    </tr>\n",
       "    <tr>\n",
       "      <th>3</th>\n",
       "      <td>2003</td>\n",
       "      <td>4019</td>\n",
       "      <td>36171.0</td>\n",
       "      <td>149.0</td>\n",
       "      <td>285630.0</td>\n",
       "      <td>0.308</td>\n",
       "      <td>149.0</td>\n",
       "      <td>285630.0</td>\n",
       "      <td>513.516478</td>\n",
       "      <td>36171</td>\n",
       "      <td>...</td>\n",
       "      <td>0.0</td>\n",
       "      <td>0.0</td>\n",
       "      <td>0.0</td>\n",
       "      <td>0.0</td>\n",
       "      <td>0.0</td>\n",
       "      <td>0.0</td>\n",
       "      <td>0.0</td>\n",
       "      <td>0.0</td>\n",
       "      <td>0.0</td>\n",
       "      <td>0.0</td>\n",
       "    </tr>\n",
       "    <tr>\n",
       "      <th>4</th>\n",
       "      <td>2003</td>\n",
       "      <td>4025</td>\n",
       "      <td>4025.0</td>\n",
       "      <td>10.0</td>\n",
       "      <td>11831.0</td>\n",
       "      <td>0.020</td>\n",
       "      <td>10.0</td>\n",
       "      <td>11831.0</td>\n",
       "      <td>84.523709</td>\n",
       "      <td>4025</td>\n",
       "      <td>...</td>\n",
       "      <td>0.0</td>\n",
       "      <td>0.0</td>\n",
       "      <td>0.0</td>\n",
       "      <td>0.0</td>\n",
       "      <td>0.0</td>\n",
       "      <td>0.0</td>\n",
       "      <td>0.0</td>\n",
       "      <td>0.0</td>\n",
       "      <td>0.0</td>\n",
       "      <td>0.0</td>\n",
       "    </tr>\n",
       "  </tbody>\n",
       "</table>\n",
       "<p>5 rows × 112 columns</p>\n",
       "</div>"
      ],
      "text/plain": [
       "   year  county_code  County Code  Deaths  Population  pct_total_deaths  \\\n",
       "0  2003         1073       2146.0    26.0     54422.0             0.054   \n",
       "1  2003         2020       4040.0    24.0     34160.0             0.049   \n",
       "2  2003         4013      72234.0   591.0   1783462.0             1.212   \n",
       "3  2003         4019      36171.0   149.0    285630.0             0.308   \n",
       "4  2003         4025       4025.0    10.0     11831.0             0.020   \n",
       "\n",
       "   deaths  population_x  crude_100k  county_id ...    SC   SD   TN   TX   UT  \\\n",
       "0    26.0       54422.0   95.427762       2146 ...   0.0  0.0  0.0  0.0  0.0   \n",
       "1    24.0       34160.0  139.969440       4040 ...   0.0  0.0  0.0  0.0  0.0   \n",
       "2   591.0     1783462.0  715.153184      72234 ...   0.0  0.0  0.0  0.0  0.0   \n",
       "3   149.0      285630.0  513.516478      36171 ...   0.0  0.0  0.0  0.0  0.0   \n",
       "4    10.0       11831.0   84.523709       4025 ...   0.0  0.0  0.0  0.0  0.0   \n",
       "\n",
       "    VA   WA   WI   WV   WY  \n",
       "0  0.0  0.0  0.0  0.0  0.0  \n",
       "1  0.0  0.0  0.0  0.0  0.0  \n",
       "2  0.0  0.0  0.0  0.0  0.0  \n",
       "3  0.0  0.0  0.0  0.0  0.0  \n",
       "4  0.0  0.0  0.0  0.0  0.0  \n",
       "\n",
       "[5 rows x 112 columns]"
      ]
     },
     "execution_count": 15,
     "metadata": {},
     "output_type": "execute_result"
    }
   ],
   "source": [
    "deaths_pop.head()"
   ]
  },
  {
   "cell_type": "code",
   "execution_count": 16,
   "metadata": {
    "collapsed": false
   },
   "outputs": [
    {
     "data": {
      "text/plain": [
       "0"
      ]
     },
     "execution_count": 16,
     "metadata": {},
     "output_type": "execute_result"
    }
   ],
   "source": [
    "state_dums.isnull().sum().sum()"
   ]
  },
  {
   "cell_type": "code",
   "execution_count": 17,
   "metadata": {
    "collapsed": false
   },
   "outputs": [
    {
     "data": {
      "text/plain": [
       "year                     0\n",
       "county_code              0\n",
       "County Code              0\n",
       "Deaths                   0\n",
       "Population               0\n",
       "pct_total_deaths         0\n",
       "deaths                   0\n",
       "population_x             0\n",
       "crude_100k               0\n",
       "county_id                0\n",
       "death_per_head           0\n",
       "AGEGRP                1474\n",
       "ORIGIN                1474\n",
       "RACE                  1474\n",
       "SEX                   1474\n",
       "TOT_POP               1629\n",
       "Unnamed: 0            1474\n",
       "age_group             1474\n",
       "hisp                  1474\n",
       "pop_15-34                0\n",
       "pop_35-54                0\n",
       "pop_55+                  0\n",
       "pop_asian                0\n",
       "pop_black                0\n",
       "pop_hisp                 0\n",
       "pop_male              1474\n",
       "pop_sub_15               0\n",
       "pop_white                0\n",
       "population_y          3103\n",
       "population_age_sex    1474\n",
       "                      ... \n",
       "MA                       0\n",
       "MD                       0\n",
       "ME                       0\n",
       "MI                       0\n",
       "MN                       0\n",
       "MO                       0\n",
       "MS                       0\n",
       "MT                       0\n",
       "NC                       0\n",
       "NE                       0\n",
       "NH                       0\n",
       "NJ                       0\n",
       "NM                       0\n",
       "NV                       0\n",
       "NY                       0\n",
       "OH                       0\n",
       "OK                       0\n",
       "OR                       0\n",
       "PA                       0\n",
       "RI                       0\n",
       "SC                       0\n",
       "SD                       0\n",
       "TN                       0\n",
       "TX                       0\n",
       "UT                       0\n",
       "VA                       0\n",
       "WA                       0\n",
       "WI                       0\n",
       "WV                       0\n",
       "WY                       0\n",
       "dtype: int64"
      ]
     },
     "execution_count": 17,
     "metadata": {},
     "output_type": "execute_result"
    }
   ],
   "source": [
    "\n",
    "deaths_pop.dropna(axis=0, subset=['working_pop', 'employed_pop'], inplace=1)\n",
    "# len(deaths_pop[deaths_pop['year']==2011])\n",
    "\n",
    "# len(deaths_pop) #3104\n",
    "# deaths_pop.isnull().sum()\n",
    "deaths_pop.isnull().sum() # null issues are all with the population dataset\n"
   ]
  },
  {
   "cell_type": "code",
   "execution_count": 18,
   "metadata": {
    "collapsed": false
   },
   "outputs": [
    {
     "name": "stderr",
     "output_type": "stream",
     "text": [
      "/Users/HudsonCavanagh/anaconda/lib/python2.7/site-packages/numpy/lib/function_base.py:3834: RuntimeWarning: Invalid value encountered in percentile\n",
      "  RuntimeWarning)\n"
     ]
    },
    {
     "data": {
      "text/html": [
       "<div>\n",
       "<table border=\"1\" class=\"dataframe\">\n",
       "  <thead>\n",
       "    <tr style=\"text-align: right;\">\n",
       "      <th></th>\n",
       "      <th>year</th>\n",
       "      <th>county_code</th>\n",
       "      <th>County Code</th>\n",
       "      <th>Deaths</th>\n",
       "      <th>Population</th>\n",
       "      <th>pct_total_deaths</th>\n",
       "      <th>deaths</th>\n",
       "      <th>population_x</th>\n",
       "      <th>crude_100k</th>\n",
       "      <th>county_id</th>\n",
       "      <th>...</th>\n",
       "      <th>SC</th>\n",
       "      <th>SD</th>\n",
       "      <th>TN</th>\n",
       "      <th>TX</th>\n",
       "      <th>UT</th>\n",
       "      <th>VA</th>\n",
       "      <th>WA</th>\n",
       "      <th>WI</th>\n",
       "      <th>WV</th>\n",
       "      <th>WY</th>\n",
       "    </tr>\n",
       "  </thead>\n",
       "  <tbody>\n",
       "    <tr>\n",
       "      <th>count</th>\n",
       "      <td>3103.000000</td>\n",
       "      <td>3103.000000</td>\n",
       "      <td>3.103000e+03</td>\n",
       "      <td>3103.000000</td>\n",
       "      <td>3.103000e+03</td>\n",
       "      <td>3103.000000</td>\n",
       "      <td>3103.000000</td>\n",
       "      <td>3.103000e+03</td>\n",
       "      <td>3103.000000</td>\n",
       "      <td>3.103000e+03</td>\n",
       "      <td>...</td>\n",
       "      <td>3103.000000</td>\n",
       "      <td>3103.000000</td>\n",
       "      <td>3103.000000</td>\n",
       "      <td>3103.000000</td>\n",
       "      <td>3103.000000</td>\n",
       "      <td>3103.000000</td>\n",
       "      <td>3103.000000</td>\n",
       "      <td>3103.000000</td>\n",
       "      <td>3103.000000</td>\n",
       "      <td>3103.000000</td>\n",
       "    </tr>\n",
       "    <tr>\n",
       "      <th>mean</th>\n",
       "      <td>2008.953916</td>\n",
       "      <td>27196.322269</td>\n",
       "      <td>1.179666e+05</td>\n",
       "      <td>95.648405</td>\n",
       "      <td>1.899550e+05</td>\n",
       "      <td>0.164367</td>\n",
       "      <td>95.648405</td>\n",
       "      <td>1.899550e+05</td>\n",
       "      <td>309.133249</td>\n",
       "      <td>1.179666e+05</td>\n",
       "      <td>...</td>\n",
       "      <td>0.022881</td>\n",
       "      <td>0.000322</td>\n",
       "      <td>0.019014</td>\n",
       "      <td>0.047374</td>\n",
       "      <td>0.012246</td>\n",
       "      <td>0.008701</td>\n",
       "      <td>0.030616</td>\n",
       "      <td>0.014502</td>\n",
       "      <td>0.008701</td>\n",
       "      <td>0.000322</td>\n",
       "    </tr>\n",
       "    <tr>\n",
       "      <th>std</th>\n",
       "      <td>3.439746</td>\n",
       "      <td>15617.166602</td>\n",
       "      <td>1.383307e+05</td>\n",
       "      <td>157.232371</td>\n",
       "      <td>4.280490e+05</td>\n",
       "      <td>0.276684</td>\n",
       "      <td>157.232371</td>\n",
       "      <td>4.280490e+05</td>\n",
       "      <td>282.642096</td>\n",
       "      <td>1.383307e+05</td>\n",
       "      <td>...</td>\n",
       "      <td>0.149548</td>\n",
       "      <td>0.017952</td>\n",
       "      <td>0.136596</td>\n",
       "      <td>0.212471</td>\n",
       "      <td>0.110001</td>\n",
       "      <td>0.092889</td>\n",
       "      <td>0.172301</td>\n",
       "      <td>0.119568</td>\n",
       "      <td>0.092889</td>\n",
       "      <td>0.017952</td>\n",
       "    </tr>\n",
       "    <tr>\n",
       "      <th>min</th>\n",
       "      <td>2003.000000</td>\n",
       "      <td>1003.000000</td>\n",
       "      <td>1.003000e+03</td>\n",
       "      <td>10.000000</td>\n",
       "      <td>1.562000e+03</td>\n",
       "      <td>0.014000</td>\n",
       "      <td>10.000000</td>\n",
       "      <td>1.562000e+03</td>\n",
       "      <td>17.323217</td>\n",
       "      <td>1.003000e+03</td>\n",
       "      <td>...</td>\n",
       "      <td>0.000000</td>\n",
       "      <td>0.000000</td>\n",
       "      <td>0.000000</td>\n",
       "      <td>0.000000</td>\n",
       "      <td>0.000000</td>\n",
       "      <td>0.000000</td>\n",
       "      <td>0.000000</td>\n",
       "      <td>0.000000</td>\n",
       "      <td>0.000000</td>\n",
       "      <td>0.000000</td>\n",
       "    </tr>\n",
       "    <tr>\n",
       "      <th>25%</th>\n",
       "      <td>2006.000000</td>\n",
       "      <td>12083.000000</td>\n",
       "      <td>3.440200e+04</td>\n",
       "      <td>15.000000</td>\n",
       "      <td>2.188650e+04</td>\n",
       "      <td>0.029000</td>\n",
       "      <td>15.000000</td>\n",
       "      <td>2.188650e+04</td>\n",
       "      <td>112.227389</td>\n",
       "      <td>3.440200e+04</td>\n",
       "      <td>...</td>\n",
       "      <td>0.000000</td>\n",
       "      <td>0.000000</td>\n",
       "      <td>0.000000</td>\n",
       "      <td>0.000000</td>\n",
       "      <td>0.000000</td>\n",
       "      <td>0.000000</td>\n",
       "      <td>0.000000</td>\n",
       "      <td>0.000000</td>\n",
       "      <td>0.000000</td>\n",
       "      <td>0.000000</td>\n",
       "    </tr>\n",
       "    <tr>\n",
       "      <th>50%</th>\n",
       "      <td>2009.000000</td>\n",
       "      <td>26163.000000</td>\n",
       "      <td>6.803400e+04</td>\n",
       "      <td>43.000000</td>\n",
       "      <td>7.262300e+04</td>\n",
       "      <td>0.072000</td>\n",
       "      <td>43.000000</td>\n",
       "      <td>7.262300e+04</td>\n",
       "      <td>215.381154</td>\n",
       "      <td>6.803400e+04</td>\n",
       "      <td>...</td>\n",
       "      <td>0.000000</td>\n",
       "      <td>0.000000</td>\n",
       "      <td>0.000000</td>\n",
       "      <td>0.000000</td>\n",
       "      <td>0.000000</td>\n",
       "      <td>0.000000</td>\n",
       "      <td>0.000000</td>\n",
       "      <td>0.000000</td>\n",
       "      <td>0.000000</td>\n",
       "      <td>0.000000</td>\n",
       "    </tr>\n",
       "    <tr>\n",
       "      <th>75%</th>\n",
       "      <td>2012.000000</td>\n",
       "      <td>41005.000000</td>\n",
       "      <td>1.450170e+05</td>\n",
       "      <td>114.000000</td>\n",
       "      <td>1.969130e+05</td>\n",
       "      <td>0.192000</td>\n",
       "      <td>114.000000</td>\n",
       "      <td>1.969130e+05</td>\n",
       "      <td>412.728139</td>\n",
       "      <td>1.450170e+05</td>\n",
       "      <td>...</td>\n",
       "      <td>0.000000</td>\n",
       "      <td>0.000000</td>\n",
       "      <td>0.000000</td>\n",
       "      <td>0.000000</td>\n",
       "      <td>0.000000</td>\n",
       "      <td>0.000000</td>\n",
       "      <td>0.000000</td>\n",
       "      <td>0.000000</td>\n",
       "      <td>0.000000</td>\n",
       "      <td>0.000000</td>\n",
       "    </tr>\n",
       "    <tr>\n",
       "      <th>max</th>\n",
       "      <td>2014.000000</td>\n",
       "      <td>56021.000000</td>\n",
       "      <td>1.060422e+06</td>\n",
       "      <td>1812.000000</td>\n",
       "      <td>5.645514e+06</td>\n",
       "      <td>4.154000</td>\n",
       "      <td>1812.000000</td>\n",
       "      <td>5.645514e+06</td>\n",
       "      <td>2566.462631</td>\n",
       "      <td>1.060422e+06</td>\n",
       "      <td>...</td>\n",
       "      <td>1.000000</td>\n",
       "      <td>1.000000</td>\n",
       "      <td>1.000000</td>\n",
       "      <td>1.000000</td>\n",
       "      <td>1.000000</td>\n",
       "      <td>1.000000</td>\n",
       "      <td>1.000000</td>\n",
       "      <td>1.000000</td>\n",
       "      <td>1.000000</td>\n",
       "      <td>1.000000</td>\n",
       "    </tr>\n",
       "  </tbody>\n",
       "</table>\n",
       "<p>8 rows × 110 columns</p>\n",
       "</div>"
      ],
      "text/plain": [
       "              year   county_code   County Code       Deaths    Population  \\\n",
       "count  3103.000000   3103.000000  3.103000e+03  3103.000000  3.103000e+03   \n",
       "mean   2008.953916  27196.322269  1.179666e+05    95.648405  1.899550e+05   \n",
       "std       3.439746  15617.166602  1.383307e+05   157.232371  4.280490e+05   \n",
       "min    2003.000000   1003.000000  1.003000e+03    10.000000  1.562000e+03   \n",
       "25%    2006.000000  12083.000000  3.440200e+04    15.000000  2.188650e+04   \n",
       "50%    2009.000000  26163.000000  6.803400e+04    43.000000  7.262300e+04   \n",
       "75%    2012.000000  41005.000000  1.450170e+05   114.000000  1.969130e+05   \n",
       "max    2014.000000  56021.000000  1.060422e+06  1812.000000  5.645514e+06   \n",
       "\n",
       "       pct_total_deaths       deaths  population_x   crude_100k     county_id  \\\n",
       "count       3103.000000  3103.000000  3.103000e+03  3103.000000  3.103000e+03   \n",
       "mean           0.164367    95.648405  1.899550e+05   309.133249  1.179666e+05   \n",
       "std            0.276684   157.232371  4.280490e+05   282.642096  1.383307e+05   \n",
       "min            0.014000    10.000000  1.562000e+03    17.323217  1.003000e+03   \n",
       "25%            0.029000    15.000000  2.188650e+04   112.227389  3.440200e+04   \n",
       "50%            0.072000    43.000000  7.262300e+04   215.381154  6.803400e+04   \n",
       "75%            0.192000   114.000000  1.969130e+05   412.728139  1.450170e+05   \n",
       "max            4.154000  1812.000000  5.645514e+06  2566.462631  1.060422e+06   \n",
       "\n",
       "          ...                SC           SD           TN           TX  \\\n",
       "count     ...       3103.000000  3103.000000  3103.000000  3103.000000   \n",
       "mean      ...          0.022881     0.000322     0.019014     0.047374   \n",
       "std       ...          0.149548     0.017952     0.136596     0.212471   \n",
       "min       ...          0.000000     0.000000     0.000000     0.000000   \n",
       "25%       ...          0.000000     0.000000     0.000000     0.000000   \n",
       "50%       ...          0.000000     0.000000     0.000000     0.000000   \n",
       "75%       ...          0.000000     0.000000     0.000000     0.000000   \n",
       "max       ...          1.000000     1.000000     1.000000     1.000000   \n",
       "\n",
       "                UT           VA           WA           WI           WV  \\\n",
       "count  3103.000000  3103.000000  3103.000000  3103.000000  3103.000000   \n",
       "mean      0.012246     0.008701     0.030616     0.014502     0.008701   \n",
       "std       0.110001     0.092889     0.172301     0.119568     0.092889   \n",
       "min       0.000000     0.000000     0.000000     0.000000     0.000000   \n",
       "25%       0.000000     0.000000     0.000000     0.000000     0.000000   \n",
       "50%       0.000000     0.000000     0.000000     0.000000     0.000000   \n",
       "75%       0.000000     0.000000     0.000000     0.000000     0.000000   \n",
       "max       1.000000     1.000000     1.000000     1.000000     1.000000   \n",
       "\n",
       "                WY  \n",
       "count  3103.000000  \n",
       "mean      0.000322  \n",
       "std       0.017952  \n",
       "min       0.000000  \n",
       "25%       0.000000  \n",
       "50%       0.000000  \n",
       "75%       0.000000  \n",
       "max       1.000000  \n",
       "\n",
       "[8 rows x 110 columns]"
      ]
     },
     "execution_count": 18,
     "metadata": {},
     "output_type": "execute_result"
    }
   ],
   "source": [
    "deaths_pop.describe()"
   ]
  },
  {
   "cell_type": "code",
   "execution_count": null,
   "metadata": {
    "collapsed": false
   },
   "outputs": [],
   "source": []
  },
  {
   "cell_type": "code",
   "execution_count": 19,
   "metadata": {
    "collapsed": false
   },
   "outputs": [
    {
     "data": {
      "text/plain": [
       "count    3103.000000\n",
       "mean      309.133249\n",
       "std       282.642096\n",
       "min        17.323217\n",
       "25%       112.227389\n",
       "50%       215.381154\n",
       "75%       412.728139\n",
       "max      2566.462631\n",
       "Name: crude_100k, dtype: float64"
      ]
     },
     "execution_count": 19,
     "metadata": {},
     "output_type": "execute_result"
    }
   ],
   "source": [
    "deaths_pop['crude_100k'].describe() #too high"
   ]
  },
  {
   "cell_type": "code",
   "execution_count": 20,
   "metadata": {
    "collapsed": false
   },
   "outputs": [
    {
     "data": {
      "text/plain": [
       "<matplotlib.axes._subplots.AxesSubplot at 0x11c014950>"
      ]
     },
     "execution_count": 20,
     "metadata": {},
     "output_type": "execute_result"
    },
    {
     "data": {
      "image/png": "[encoded data removed]",
      "text/plain": [
       "<matplotlib.figure.Figure at 0x11cadfd90>"
      ]
     },
     "metadata": {},
     "output_type": "display_data"
    }
   ],
   "source": [
    "sns.distplot(deaths_pop['crude_100k']) #because this is a rate that was summed in the groupby previously, this needs to be recomputed"
   ]
  },
  {
   "cell_type": "code",
   "execution_count": 21,
   "metadata": {
    "collapsed": false
   },
   "outputs": [
    {
     "data": {
      "text/plain": [
       "count    3103.000000\n",
       "mean       77.136584\n",
       "std        53.281455\n",
       "min        17.323217\n",
       "25%        49.077350\n",
       "50%        65.386828\n",
       "75%        88.757335\n",
       "max       731.570062\n",
       "Name: death_rate_100k, dtype: float64"
      ]
     },
     "execution_count": 21,
     "metadata": {},
     "output_type": "execute_result"
    }
   ],
   "source": [
    "deaths_pop['death_rate_100k'] = deaths_pop['deaths'] / (deaths_pop['population']/100000)\n",
    "deaths_pop['death_rate_100k'].describe() #new target variable"
   ]
  },
  {
   "cell_type": "code",
   "execution_count": 22,
   "metadata": {
    "collapsed": false
   },
   "outputs": [
    {
     "data": {
      "text/plain": [
       "<matplotlib.axes._subplots.AxesSubplot at 0x11b725bd0>"
      ]
     },
     "execution_count": 22,
     "metadata": {},
     "output_type": "execute_result"
    },
    {
     "data": {
      "image/png": "[encoded data removed]",
      "text/plain": [
       "<matplotlib.figure.Figure at 0x11ae05650>"
      ]
     },
     "metadata": {},
     "output_type": "display_data"
    }
   ],
   "source": [
    "sns.distplot(deaths_pop['death_rate_100k'])"
   ]
  },
  {
   "cell_type": "code",
   "execution_count": null,
   "metadata": {
    "collapsed": false
   },
   "outputs": [],
   "source": []
  },
  {
   "cell_type": "markdown",
   "metadata": {
    "collapsed": false
   },
   "source": [
    "## Based on the prominence of \"population\" in the predictions (of a rate), going to remove the outliar populations with exceptionally low populations\n",
    "\n",
    "y and X will be limited features\n",
    "\n",
    "y_full and X_full will be full datatset"
   ]
  },
  {
   "cell_type": "code",
   "execution_count": 23,
   "metadata": {
    "collapsed": false
   },
   "outputs": [
    {
     "name": "stdout",
     "output_type": "stream",
     "text": [
      "(200.3427894419803, 359.96216731304736, 463.21332975628826)\n"
     ]
    }
   ],
   "source": [
    "print(deaths_pop['death_rate_100k'][deaths_pop['population']<10000].mean(),\n",
    "deaths_pop['death_rate_100k'][deaths_pop['population']<5000].mean(),\n",
    "deaths_pop['death_rate_100k'][deaths_pop['population']<3000].mean()) \n",
    "\n",
    "# at 3k, dropping 14 samples\n",
    "# at 5k 47 samples\n",
    "# at 10k, 214 samples\n",
    "\n",
    "\n",
    "#outliars are definitely in this range -- starting with "
   ]
  },
  {
   "cell_type": "code",
   "execution_count": 24,
   "metadata": {
    "collapsed": false
   },
   "outputs": [
    {
     "name": "stdout",
     "output_type": "stream",
     "text": [
      "(213, 3103)\n"
     ]
    }
   ],
   "source": [
    "print(len(deaths_pop[deaths_pop['population']<10000]), len(deaths_pop))"
   ]
  },
  {
   "cell_type": "code",
   "execution_count": 25,
   "metadata": {
    "collapsed": false
   },
   "outputs": [
    {
     "data": {
      "text/plain": [
       "Index([u'AK', u'AL', u'AR', u'AZ', u'CA', u'CO', u'CT', u'DC', u'DE', u'FL',\n",
       "       u'GA', u'HI', u'IA', u'ID', u'IL', u'IN', u'KS', u'KY', u'LA', u'MA',\n",
       "       u'MD', u'ME', u'MI', u'MN', u'MO', u'MS', u'MT', u'NC', u'NE', u'NH',\n",
       "       u'NJ', u'NM', u'NV', u'NY', u'OH', u'OK', u'OR', u'PA', u'RI', u'SC',\n",
       "       u'SD', u'TN', u'TX', u'UT', u'VA', u'WA', u'WI', u'WV', u'WY'],\n",
       "      dtype='object')"
      ]
     },
     "execution_count": 25,
     "metadata": {},
     "output_type": "execute_result"
    }
   ],
   "source": [
    "state_feats"
   ]
  },
  {
   "cell_type": "code",
   "execution_count": 26,
   "metadata": {
    "collapsed": false
   },
   "outputs": [
    {
     "data": {
      "text/html": [
       "<div>\n",
       "<table border=\"1\" class=\"dataframe\">\n",
       "  <thead>\n",
       "    <tr style=\"text-align: right;\">\n",
       "      <th></th>\n",
       "      <th>year</th>\n",
       "      <th>county_code</th>\n",
       "      <th>County Code</th>\n",
       "      <th>Deaths</th>\n",
       "      <th>Population</th>\n",
       "      <th>pct_total_deaths</th>\n",
       "      <th>deaths</th>\n",
       "      <th>population_x</th>\n",
       "      <th>crude_100k</th>\n",
       "      <th>county_id</th>\n",
       "      <th>...</th>\n",
       "      <th>SD</th>\n",
       "      <th>TN</th>\n",
       "      <th>TX</th>\n",
       "      <th>UT</th>\n",
       "      <th>VA</th>\n",
       "      <th>WA</th>\n",
       "      <th>WI</th>\n",
       "      <th>WV</th>\n",
       "      <th>WY</th>\n",
       "      <th>death_rate_100k</th>\n",
       "    </tr>\n",
       "  </thead>\n",
       "  <tbody>\n",
       "    <tr>\n",
       "      <th>0</th>\n",
       "      <td>2003</td>\n",
       "      <td>1073</td>\n",
       "      <td>2146.0</td>\n",
       "      <td>26.0</td>\n",
       "      <td>54422.0</td>\n",
       "      <td>0.054</td>\n",
       "      <td>26.0</td>\n",
       "      <td>54422.0</td>\n",
       "      <td>95.427762</td>\n",
       "      <td>2146</td>\n",
       "      <td>...</td>\n",
       "      <td>0.0</td>\n",
       "      <td>0.0</td>\n",
       "      <td>0.0</td>\n",
       "      <td>0.0</td>\n",
       "      <td>0.0</td>\n",
       "      <td>0.0</td>\n",
       "      <td>0.0</td>\n",
       "      <td>0.0</td>\n",
       "      <td>0.0</td>\n",
       "      <td>47.774797</td>\n",
       "    </tr>\n",
       "    <tr>\n",
       "      <th>1</th>\n",
       "      <td>2003</td>\n",
       "      <td>2020</td>\n",
       "      <td>4040.0</td>\n",
       "      <td>24.0</td>\n",
       "      <td>34160.0</td>\n",
       "      <td>0.049</td>\n",
       "      <td>24.0</td>\n",
       "      <td>34160.0</td>\n",
       "      <td>139.969440</td>\n",
       "      <td>4040</td>\n",
       "      <td>...</td>\n",
       "      <td>0.0</td>\n",
       "      <td>0.0</td>\n",
       "      <td>0.0</td>\n",
       "      <td>0.0</td>\n",
       "      <td>0.0</td>\n",
       "      <td>0.0</td>\n",
       "      <td>0.0</td>\n",
       "      <td>0.0</td>\n",
       "      <td>0.0</td>\n",
       "      <td>70.257611</td>\n",
       "    </tr>\n",
       "    <tr>\n",
       "      <th>2</th>\n",
       "      <td>2003</td>\n",
       "      <td>4013</td>\n",
       "      <td>72234.0</td>\n",
       "      <td>591.0</td>\n",
       "      <td>1783462.0</td>\n",
       "      <td>1.212</td>\n",
       "      <td>591.0</td>\n",
       "      <td>1783462.0</td>\n",
       "      <td>715.153184</td>\n",
       "      <td>72234</td>\n",
       "      <td>...</td>\n",
       "      <td>0.0</td>\n",
       "      <td>0.0</td>\n",
       "      <td>0.0</td>\n",
       "      <td>0.0</td>\n",
       "      <td>0.0</td>\n",
       "      <td>0.0</td>\n",
       "      <td>0.0</td>\n",
       "      <td>0.0</td>\n",
       "      <td>0.0</td>\n",
       "      <td>33.137796</td>\n",
       "    </tr>\n",
       "    <tr>\n",
       "      <th>3</th>\n",
       "      <td>2003</td>\n",
       "      <td>4019</td>\n",
       "      <td>36171.0</td>\n",
       "      <td>149.0</td>\n",
       "      <td>285630.0</td>\n",
       "      <td>0.308</td>\n",
       "      <td>149.0</td>\n",
       "      <td>285630.0</td>\n",
       "      <td>513.516478</td>\n",
       "      <td>36171</td>\n",
       "      <td>...</td>\n",
       "      <td>0.0</td>\n",
       "      <td>0.0</td>\n",
       "      <td>0.0</td>\n",
       "      <td>0.0</td>\n",
       "      <td>0.0</td>\n",
       "      <td>0.0</td>\n",
       "      <td>0.0</td>\n",
       "      <td>0.0</td>\n",
       "      <td>0.0</td>\n",
       "      <td>52.165389</td>\n",
       "    </tr>\n",
       "    <tr>\n",
       "      <th>4</th>\n",
       "      <td>2003</td>\n",
       "      <td>4025</td>\n",
       "      <td>4025.0</td>\n",
       "      <td>10.0</td>\n",
       "      <td>11831.0</td>\n",
       "      <td>0.020</td>\n",
       "      <td>10.0</td>\n",
       "      <td>11831.0</td>\n",
       "      <td>84.523709</td>\n",
       "      <td>4025</td>\n",
       "      <td>...</td>\n",
       "      <td>0.0</td>\n",
       "      <td>0.0</td>\n",
       "      <td>0.0</td>\n",
       "      <td>0.0</td>\n",
       "      <td>0.0</td>\n",
       "      <td>0.0</td>\n",
       "      <td>0.0</td>\n",
       "      <td>0.0</td>\n",
       "      <td>0.0</td>\n",
       "      <td>84.523709</td>\n",
       "    </tr>\n",
       "  </tbody>\n",
       "</table>\n",
       "<p>5 rows × 113 columns</p>\n",
       "</div>"
      ],
      "text/plain": [
       "   year  county_code  County Code  Deaths  Population  pct_total_deaths  \\\n",
       "0  2003         1073       2146.0    26.0     54422.0             0.054   \n",
       "1  2003         2020       4040.0    24.0     34160.0             0.049   \n",
       "2  2003         4013      72234.0   591.0   1783462.0             1.212   \n",
       "3  2003         4019      36171.0   149.0    285630.0             0.308   \n",
       "4  2003         4025       4025.0    10.0     11831.0             0.020   \n",
       "\n",
       "   deaths  population_x  crude_100k  county_id       ...          SD   TN  \\\n",
       "0    26.0       54422.0   95.427762       2146       ...         0.0  0.0   \n",
       "1    24.0       34160.0  139.969440       4040       ...         0.0  0.0   \n",
       "2   591.0     1783462.0  715.153184      72234       ...         0.0  0.0   \n",
       "3   149.0      285630.0  513.516478      36171       ...         0.0  0.0   \n",
       "4    10.0       11831.0   84.523709       4025       ...         0.0  0.0   \n",
       "\n",
       "    TX   UT   VA   WA   WI   WV   WY  death_rate_100k  \n",
       "0  0.0  0.0  0.0  0.0  0.0  0.0  0.0        47.774797  \n",
       "1  0.0  0.0  0.0  0.0  0.0  0.0  0.0        70.257611  \n",
       "2  0.0  0.0  0.0  0.0  0.0  0.0  0.0        33.137796  \n",
       "3  0.0  0.0  0.0  0.0  0.0  0.0  0.0        52.165389  \n",
       "4  0.0  0.0  0.0  0.0  0.0  0.0  0.0        84.523709  \n",
       "\n",
       "[5 rows x 113 columns]"
      ]
     },
     "execution_count": 26,
     "metadata": {},
     "output_type": "execute_result"
    }
   ],
   "source": [
    "from sklearn.preprocessing import StandardScaler\n",
    "#saving this so can re-run the analysis later with full features\n",
    "deaths_pop_lim = deaths_pop[deaths_pop['population']>10000] # playing with this line to see how it effects model\n",
    "deaths_pop_lim = deaths_pop_lim[deaths_pop_lim['population']<4000000]\n",
    "\n",
    "deaths_pop.head()"
   ]
  },
  {
   "cell_type": "code",
   "execution_count": 27,
   "metadata": {
    "collapsed": false
   },
   "outputs": [
    {
     "data": {
      "text/html": [
       "<div>\n",
       "<table border=\"1\" class=\"dataframe\">\n",
       "  <thead>\n",
       "    <tr style=\"text-align: right;\">\n",
       "      <th></th>\n",
       "      <th>year</th>\n",
       "      <th>county_code</th>\n",
       "      <th>County Code</th>\n",
       "      <th>Deaths</th>\n",
       "      <th>Population</th>\n",
       "      <th>pct_total_deaths</th>\n",
       "      <th>deaths</th>\n",
       "      <th>population_x</th>\n",
       "      <th>crude_100k</th>\n",
       "      <th>county_id</th>\n",
       "      <th>...</th>\n",
       "      <th>SD</th>\n",
       "      <th>TN</th>\n",
       "      <th>TX</th>\n",
       "      <th>UT</th>\n",
       "      <th>VA</th>\n",
       "      <th>WA</th>\n",
       "      <th>WI</th>\n",
       "      <th>WV</th>\n",
       "      <th>WY</th>\n",
       "      <th>death_rate_100k</th>\n",
       "    </tr>\n",
       "  </thead>\n",
       "  <tbody>\n",
       "    <tr>\n",
       "      <th>0</th>\n",
       "      <td>2003</td>\n",
       "      <td>1073</td>\n",
       "      <td>2146.0</td>\n",
       "      <td>26.0</td>\n",
       "      <td>54422.0</td>\n",
       "      <td>0.054</td>\n",
       "      <td>26.0</td>\n",
       "      <td>54422.0</td>\n",
       "      <td>95.427762</td>\n",
       "      <td>2146</td>\n",
       "      <td>...</td>\n",
       "      <td>0.0</td>\n",
       "      <td>0.0</td>\n",
       "      <td>0.0</td>\n",
       "      <td>0.0</td>\n",
       "      <td>0.0</td>\n",
       "      <td>0.0</td>\n",
       "      <td>0.0</td>\n",
       "      <td>0.0</td>\n",
       "      <td>0.0</td>\n",
       "      <td>47.774797</td>\n",
       "    </tr>\n",
       "    <tr>\n",
       "      <th>1</th>\n",
       "      <td>2003</td>\n",
       "      <td>2020</td>\n",
       "      <td>4040.0</td>\n",
       "      <td>24.0</td>\n",
       "      <td>34160.0</td>\n",
       "      <td>0.049</td>\n",
       "      <td>24.0</td>\n",
       "      <td>34160.0</td>\n",
       "      <td>139.969440</td>\n",
       "      <td>4040</td>\n",
       "      <td>...</td>\n",
       "      <td>0.0</td>\n",
       "      <td>0.0</td>\n",
       "      <td>0.0</td>\n",
       "      <td>0.0</td>\n",
       "      <td>0.0</td>\n",
       "      <td>0.0</td>\n",
       "      <td>0.0</td>\n",
       "      <td>0.0</td>\n",
       "      <td>0.0</td>\n",
       "      <td>70.257611</td>\n",
       "    </tr>\n",
       "    <tr>\n",
       "      <th>2</th>\n",
       "      <td>2003</td>\n",
       "      <td>4013</td>\n",
       "      <td>72234.0</td>\n",
       "      <td>591.0</td>\n",
       "      <td>1783462.0</td>\n",
       "      <td>1.212</td>\n",
       "      <td>591.0</td>\n",
       "      <td>1783462.0</td>\n",
       "      <td>715.153184</td>\n",
       "      <td>72234</td>\n",
       "      <td>...</td>\n",
       "      <td>0.0</td>\n",
       "      <td>0.0</td>\n",
       "      <td>0.0</td>\n",
       "      <td>0.0</td>\n",
       "      <td>0.0</td>\n",
       "      <td>0.0</td>\n",
       "      <td>0.0</td>\n",
       "      <td>0.0</td>\n",
       "      <td>0.0</td>\n",
       "      <td>33.137796</td>\n",
       "    </tr>\n",
       "    <tr>\n",
       "      <th>3</th>\n",
       "      <td>2003</td>\n",
       "      <td>4019</td>\n",
       "      <td>36171.0</td>\n",
       "      <td>149.0</td>\n",
       "      <td>285630.0</td>\n",
       "      <td>0.308</td>\n",
       "      <td>149.0</td>\n",
       "      <td>285630.0</td>\n",
       "      <td>513.516478</td>\n",
       "      <td>36171</td>\n",
       "      <td>...</td>\n",
       "      <td>0.0</td>\n",
       "      <td>0.0</td>\n",
       "      <td>0.0</td>\n",
       "      <td>0.0</td>\n",
       "      <td>0.0</td>\n",
       "      <td>0.0</td>\n",
       "      <td>0.0</td>\n",
       "      <td>0.0</td>\n",
       "      <td>0.0</td>\n",
       "      <td>52.165389</td>\n",
       "    </tr>\n",
       "    <tr>\n",
       "      <th>4</th>\n",
       "      <td>2003</td>\n",
       "      <td>4025</td>\n",
       "      <td>4025.0</td>\n",
       "      <td>10.0</td>\n",
       "      <td>11831.0</td>\n",
       "      <td>0.020</td>\n",
       "      <td>10.0</td>\n",
       "      <td>11831.0</td>\n",
       "      <td>84.523709</td>\n",
       "      <td>4025</td>\n",
       "      <td>...</td>\n",
       "      <td>0.0</td>\n",
       "      <td>0.0</td>\n",
       "      <td>0.0</td>\n",
       "      <td>0.0</td>\n",
       "      <td>0.0</td>\n",
       "      <td>0.0</td>\n",
       "      <td>0.0</td>\n",
       "      <td>0.0</td>\n",
       "      <td>0.0</td>\n",
       "      <td>84.523709</td>\n",
       "    </tr>\n",
       "  </tbody>\n",
       "</table>\n",
       "<p>5 rows × 113 columns</p>\n",
       "</div>"
      ],
      "text/plain": [
       "   year  county_code  County Code  Deaths  Population  pct_total_deaths  \\\n",
       "0  2003         1073       2146.0    26.0     54422.0             0.054   \n",
       "1  2003         2020       4040.0    24.0     34160.0             0.049   \n",
       "2  2003         4013      72234.0   591.0   1783462.0             1.212   \n",
       "3  2003         4019      36171.0   149.0    285630.0             0.308   \n",
       "4  2003         4025       4025.0    10.0     11831.0             0.020   \n",
       "\n",
       "   deaths  population_x  crude_100k  county_id       ...          SD   TN  \\\n",
       "0    26.0       54422.0   95.427762       2146       ...         0.0  0.0   \n",
       "1    24.0       34160.0  139.969440       4040       ...         0.0  0.0   \n",
       "2   591.0     1783462.0  715.153184      72234       ...         0.0  0.0   \n",
       "3   149.0      285630.0  513.516478      36171       ...         0.0  0.0   \n",
       "4    10.0       11831.0   84.523709       4025       ...         0.0  0.0   \n",
       "\n",
       "    TX   UT   VA   WA   WI   WV   WY  death_rate_100k  \n",
       "0  0.0  0.0  0.0  0.0  0.0  0.0  0.0        47.774797  \n",
       "1  0.0  0.0  0.0  0.0  0.0  0.0  0.0        70.257611  \n",
       "2  0.0  0.0  0.0  0.0  0.0  0.0  0.0        33.137796  \n",
       "3  0.0  0.0  0.0  0.0  0.0  0.0  0.0        52.165389  \n",
       "4  0.0  0.0  0.0  0.0  0.0  0.0  0.0        84.523709  \n",
       "\n",
       "[5 rows x 113 columns]"
      ]
     },
     "execution_count": 27,
     "metadata": {},
     "output_type": "execute_result"
    }
   ],
   "source": [
    "def floater(df):\n",
    "    for col in df:\n",
    "        try:\n",
    "            col = col.apply(lambda x: float(x))\n",
    "        except:\n",
    "            continue\n",
    "    return df\n",
    "                            \n",
    "deaths_pop = floater(deaths_pop)\n",
    "deaths_pop.head()\n",
    "                \n",
    "# features = deaths_pop.iloc[:,['year','pop_sub_15_prop','pop_15-34_prop','pop_35-54_prop','pop_55+_prop','pop_asian_prop', 'pop_white_prop','pop_black_prop','pop_hisp_prop','population','med_hh_income', 'unemp_rate', 'perc_pop_working', 'pov_rate', 'pov_rate_youth', 'constant', 'AK', 'AL', 'AR', 'AZ', 'CA', 'CO','CT', 'DC', 'DE', 'FL', 'GA', 'HI', 'IA', 'ID', 'IL', 'IN', 'KS', 'KY', 'LA', 'MA', 'MD', 'ME','MI', 'MN', 'MO', 'MS', 'MT', 'NC', 'NE', 'NH','NJ', 'NM', 'NV', 'NY', 'OH', 'OK', 'OR', 'PA', 'RI','SC','SD', 'TN', 'TX', 'T', 'VA', 'WA', 'WI', 'WV', 'WY']]\n",
    "# #no male features  \n",
    "# features.isnull().sum()\n"
   ]
  },
  {
   "cell_type": "code",
   "execution_count": 28,
   "metadata": {
    "collapsed": false
   },
   "outputs": [
    {
     "data": {
      "text/plain": [
       "0       1.0\n",
       "1       1.0\n",
       "2       1.0\n",
       "3       1.0\n",
       "4       1.0\n",
       "5       1.0\n",
       "6       1.0\n",
       "7       1.0\n",
       "8       1.0\n",
       "9       1.0\n",
       "10      1.0\n",
       "11      1.0\n",
       "12      1.0\n",
       "13      1.0\n",
       "14      1.0\n",
       "15      1.0\n",
       "16      1.0\n",
       "17      1.0\n",
       "18      1.0\n",
       "19      1.0\n",
       "20      1.0\n",
       "21      1.0\n",
       "22      1.0\n",
       "23      1.0\n",
       "24      1.0\n",
       "25      1.0\n",
       "26      1.0\n",
       "27      1.0\n",
       "28      1.0\n",
       "29      1.0\n",
       "       ... \n",
       "3078    0.0\n",
       "3079    0.0\n",
       "3080    0.0\n",
       "3081    0.0\n",
       "3082    0.0\n",
       "3083    0.0\n",
       "3084    0.0\n",
       "3085    0.0\n",
       "3086    0.0\n",
       "3087    0.0\n",
       "3088    0.0\n",
       "3089    0.0\n",
       "3090    0.0\n",
       "3091    0.0\n",
       "3092    0.0\n",
       "3093    0.0\n",
       "3094    0.0\n",
       "3095    0.0\n",
       "3096    0.0\n",
       "3097    0.0\n",
       "3098    0.0\n",
       "3099    0.0\n",
       "3100    0.0\n",
       "3101    0.0\n",
       "3102    0.0\n",
       "3103    0.0\n",
       "3104    0.0\n",
       "3105    0.0\n",
       "3106    0.0\n",
       "3107    0.0\n",
       "Name: 2003, dtype: float64"
      ]
     },
     "execution_count": 28,
     "metadata": {},
     "output_type": "execute_result"
    }
   ],
   "source": [
    "#should also make dummies for year - not sure why can't \n",
    "\n",
    "deaths_pop['year'].apply(lambda x: str(x))\n",
    "year_dums = pd.get_dummies(deaths_pop['year'])\n",
    "deaths_pop = pd.concat([deaths_pop,year_dums], axis = 1)\n",
    "deaths_pop[2003]"
   ]
  },
  {
   "cell_type": "code",
   "execution_count": 29,
   "metadata": {
    "collapsed": false
   },
   "outputs": [
    {
     "data": {
      "text/html": [
       "<div>\n",
       "<table border=\"1\" class=\"dataframe\">\n",
       "  <thead>\n",
       "    <tr style=\"text-align: right;\">\n",
       "      <th></th>\n",
       "      <th>year</th>\n",
       "      <th>county_code</th>\n",
       "      <th>County Code</th>\n",
       "      <th>Deaths</th>\n",
       "      <th>Population</th>\n",
       "      <th>pct_total_deaths</th>\n",
       "      <th>deaths</th>\n",
       "      <th>population_x</th>\n",
       "      <th>crude_100k</th>\n",
       "      <th>county_id</th>\n",
       "      <th>...</th>\n",
       "      <th>2005</th>\n",
       "      <th>2006</th>\n",
       "      <th>2007</th>\n",
       "      <th>2008</th>\n",
       "      <th>2009</th>\n",
       "      <th>2010</th>\n",
       "      <th>2011</th>\n",
       "      <th>2012</th>\n",
       "      <th>2013</th>\n",
       "      <th>2014</th>\n",
       "    </tr>\n",
       "  </thead>\n",
       "  <tbody>\n",
       "    <tr>\n",
       "      <th>count</th>\n",
       "      <td>3103.000000</td>\n",
       "      <td>3103.000000</td>\n",
       "      <td>3.103000e+03</td>\n",
       "      <td>3103.000000</td>\n",
       "      <td>3.103000e+03</td>\n",
       "      <td>3103.000000</td>\n",
       "      <td>3103.000000</td>\n",
       "      <td>3.103000e+03</td>\n",
       "      <td>3103.000000</td>\n",
       "      <td>3.103000e+03</td>\n",
       "      <td>...</td>\n",
       "      <td>3103.000000</td>\n",
       "      <td>3103.000000</td>\n",
       "      <td>3103.000000</td>\n",
       "      <td>3103.000000</td>\n",
       "      <td>3103.000000</td>\n",
       "      <td>3103.000000</td>\n",
       "      <td>3103.000000</td>\n",
       "      <td>3103.000000</td>\n",
       "      <td>3103.000000</td>\n",
       "      <td>3103.000000</td>\n",
       "    </tr>\n",
       "    <tr>\n",
       "      <th>mean</th>\n",
       "      <td>2008.953916</td>\n",
       "      <td>27196.322269</td>\n",
       "      <td>1.179666e+05</td>\n",
       "      <td>95.648405</td>\n",
       "      <td>1.899550e+05</td>\n",
       "      <td>0.164367</td>\n",
       "      <td>95.648405</td>\n",
       "      <td>1.899550e+05</td>\n",
       "      <td>309.133249</td>\n",
       "      <td>1.179666e+05</td>\n",
       "      <td>...</td>\n",
       "      <td>0.069932</td>\n",
       "      <td>0.077989</td>\n",
       "      <td>0.081534</td>\n",
       "      <td>0.079923</td>\n",
       "      <td>0.079278</td>\n",
       "      <td>0.089591</td>\n",
       "      <td>0.091524</td>\n",
       "      <td>0.094102</td>\n",
       "      <td>0.094102</td>\n",
       "      <td>0.105704</td>\n",
       "    </tr>\n",
       "    <tr>\n",
       "      <th>std</th>\n",
       "      <td>3.439746</td>\n",
       "      <td>15617.166602</td>\n",
       "      <td>1.383307e+05</td>\n",
       "      <td>157.232371</td>\n",
       "      <td>4.280490e+05</td>\n",
       "      <td>0.276684</td>\n",
       "      <td>157.232371</td>\n",
       "      <td>4.280490e+05</td>\n",
       "      <td>282.642096</td>\n",
       "      <td>1.383307e+05</td>\n",
       "      <td>...</td>\n",
       "      <td>0.255074</td>\n",
       "      <td>0.268198</td>\n",
       "      <td>0.273698</td>\n",
       "      <td>0.271217</td>\n",
       "      <td>0.270216</td>\n",
       "      <td>0.285641</td>\n",
       "      <td>0.288400</td>\n",
       "      <td>0.292018</td>\n",
       "      <td>0.292018</td>\n",
       "      <td>0.307508</td>\n",
       "    </tr>\n",
       "    <tr>\n",
       "      <th>min</th>\n",
       "      <td>2003.000000</td>\n",
       "      <td>1003.000000</td>\n",
       "      <td>1.003000e+03</td>\n",
       "      <td>10.000000</td>\n",
       "      <td>1.562000e+03</td>\n",
       "      <td>0.014000</td>\n",
       "      <td>10.000000</td>\n",
       "      <td>1.562000e+03</td>\n",
       "      <td>17.323217</td>\n",
       "      <td>1.003000e+03</td>\n",
       "      <td>...</td>\n",
       "      <td>0.000000</td>\n",
       "      <td>0.000000</td>\n",
       "      <td>0.000000</td>\n",
       "      <td>0.000000</td>\n",
       "      <td>0.000000</td>\n",
       "      <td>0.000000</td>\n",
       "      <td>0.000000</td>\n",
       "      <td>0.000000</td>\n",
       "      <td>0.000000</td>\n",
       "      <td>0.000000</td>\n",
       "    </tr>\n",
       "    <tr>\n",
       "      <th>25%</th>\n",
       "      <td>2006.000000</td>\n",
       "      <td>12083.000000</td>\n",
       "      <td>3.440200e+04</td>\n",
       "      <td>15.000000</td>\n",
       "      <td>2.188650e+04</td>\n",
       "      <td>0.029000</td>\n",
       "      <td>15.000000</td>\n",
       "      <td>2.188650e+04</td>\n",
       "      <td>112.227389</td>\n",
       "      <td>3.440200e+04</td>\n",
       "      <td>...</td>\n",
       "      <td>0.000000</td>\n",
       "      <td>0.000000</td>\n",
       "      <td>0.000000</td>\n",
       "      <td>0.000000</td>\n",
       "      <td>0.000000</td>\n",
       "      <td>0.000000</td>\n",
       "      <td>0.000000</td>\n",
       "      <td>0.000000</td>\n",
       "      <td>0.000000</td>\n",
       "      <td>0.000000</td>\n",
       "    </tr>\n",
       "    <tr>\n",
       "      <th>50%</th>\n",
       "      <td>2009.000000</td>\n",
       "      <td>26163.000000</td>\n",
       "      <td>6.803400e+04</td>\n",
       "      <td>43.000000</td>\n",
       "      <td>7.262300e+04</td>\n",
       "      <td>0.072000</td>\n",
       "      <td>43.000000</td>\n",
       "      <td>7.262300e+04</td>\n",
       "      <td>215.381154</td>\n",
       "      <td>6.803400e+04</td>\n",
       "      <td>...</td>\n",
       "      <td>0.000000</td>\n",
       "      <td>0.000000</td>\n",
       "      <td>0.000000</td>\n",
       "      <td>0.000000</td>\n",
       "      <td>0.000000</td>\n",
       "      <td>0.000000</td>\n",
       "      <td>0.000000</td>\n",
       "      <td>0.000000</td>\n",
       "      <td>0.000000</td>\n",
       "      <td>0.000000</td>\n",
       "    </tr>\n",
       "    <tr>\n",
       "      <th>75%</th>\n",
       "      <td>2012.000000</td>\n",
       "      <td>41005.000000</td>\n",
       "      <td>1.450170e+05</td>\n",
       "      <td>114.000000</td>\n",
       "      <td>1.969130e+05</td>\n",
       "      <td>0.192000</td>\n",
       "      <td>114.000000</td>\n",
       "      <td>1.969130e+05</td>\n",
       "      <td>412.728139</td>\n",
       "      <td>1.450170e+05</td>\n",
       "      <td>...</td>\n",
       "      <td>0.000000</td>\n",
       "      <td>0.000000</td>\n",
       "      <td>0.000000</td>\n",
       "      <td>0.000000</td>\n",
       "      <td>0.000000</td>\n",
       "      <td>0.000000</td>\n",
       "      <td>0.000000</td>\n",
       "      <td>0.000000</td>\n",
       "      <td>0.000000</td>\n",
       "      <td>0.000000</td>\n",
       "    </tr>\n",
       "    <tr>\n",
       "      <th>max</th>\n",
       "      <td>2014.000000</td>\n",
       "      <td>56021.000000</td>\n",
       "      <td>1.060422e+06</td>\n",
       "      <td>1812.000000</td>\n",
       "      <td>5.645514e+06</td>\n",
       "      <td>4.154000</td>\n",
       "      <td>1812.000000</td>\n",
       "      <td>5.645514e+06</td>\n",
       "      <td>2566.462631</td>\n",
       "      <td>1.060422e+06</td>\n",
       "      <td>...</td>\n",
       "      <td>1.000000</td>\n",
       "      <td>1.000000</td>\n",
       "      <td>1.000000</td>\n",
       "      <td>1.000000</td>\n",
       "      <td>1.000000</td>\n",
       "      <td>1.000000</td>\n",
       "      <td>1.000000</td>\n",
       "      <td>1.000000</td>\n",
       "      <td>1.000000</td>\n",
       "      <td>1.000000</td>\n",
       "    </tr>\n",
       "  </tbody>\n",
       "</table>\n",
       "<p>8 rows × 123 columns</p>\n",
       "</div>"
      ],
      "text/plain": [
       "              year   county_code   County Code       Deaths    Population  \\\n",
       "count  3103.000000   3103.000000  3.103000e+03  3103.000000  3.103000e+03   \n",
       "mean   2008.953916  27196.322269  1.179666e+05    95.648405  1.899550e+05   \n",
       "std       3.439746  15617.166602  1.383307e+05   157.232371  4.280490e+05   \n",
       "min    2003.000000   1003.000000  1.003000e+03    10.000000  1.562000e+03   \n",
       "25%    2006.000000  12083.000000  3.440200e+04    15.000000  2.188650e+04   \n",
       "50%    2009.000000  26163.000000  6.803400e+04    43.000000  7.262300e+04   \n",
       "75%    2012.000000  41005.000000  1.450170e+05   114.000000  1.969130e+05   \n",
       "max    2014.000000  56021.000000  1.060422e+06  1812.000000  5.645514e+06   \n",
       "\n",
       "       pct_total_deaths       deaths  population_x   crude_100k     county_id  \\\n",
       "count       3103.000000  3103.000000  3.103000e+03  3103.000000  3.103000e+03   \n",
       "mean           0.164367    95.648405  1.899550e+05   309.133249  1.179666e+05   \n",
       "std            0.276684   157.232371  4.280490e+05   282.642096  1.383307e+05   \n",
       "min            0.014000    10.000000  1.562000e+03    17.323217  1.003000e+03   \n",
       "25%            0.029000    15.000000  2.188650e+04   112.227389  3.440200e+04   \n",
       "50%            0.072000    43.000000  7.262300e+04   215.381154  6.803400e+04   \n",
       "75%            0.192000   114.000000  1.969130e+05   412.728139  1.450170e+05   \n",
       "max            4.154000  1812.000000  5.645514e+06  2566.462631  1.060422e+06   \n",
       "\n",
       "          ...              2005         2006         2007         2008  \\\n",
       "count     ...       3103.000000  3103.000000  3103.000000  3103.000000   \n",
       "mean      ...          0.069932     0.077989     0.081534     0.079923   \n",
       "std       ...          0.255074     0.268198     0.273698     0.271217   \n",
       "min       ...          0.000000     0.000000     0.000000     0.000000   \n",
       "25%       ...          0.000000     0.000000     0.000000     0.000000   \n",
       "50%       ...          0.000000     0.000000     0.000000     0.000000   \n",
       "75%       ...          0.000000     0.000000     0.000000     0.000000   \n",
       "max       ...          1.000000     1.000000     1.000000     1.000000   \n",
       "\n",
       "              2009         2010         2011         2012         2013  \\\n",
       "count  3103.000000  3103.000000  3103.000000  3103.000000  3103.000000   \n",
       "mean      0.079278     0.089591     0.091524     0.094102     0.094102   \n",
       "std       0.270216     0.285641     0.288400     0.292018     0.292018   \n",
       "min       0.000000     0.000000     0.000000     0.000000     0.000000   \n",
       "25%       0.000000     0.000000     0.000000     0.000000     0.000000   \n",
       "50%       0.000000     0.000000     0.000000     0.000000     0.000000   \n",
       "75%       0.000000     0.000000     0.000000     0.000000     0.000000   \n",
       "max       1.000000     1.000000     1.000000     1.000000     1.000000   \n",
       "\n",
       "              2014  \n",
       "count  3103.000000  \n",
       "mean      0.105704  \n",
       "std       0.307508  \n",
       "min       0.000000  \n",
       "25%       0.000000  \n",
       "50%       0.000000  \n",
       "75%       0.000000  \n",
       "max       1.000000  \n",
       "\n",
       "[8 rows x 123 columns]"
      ]
     },
     "execution_count": 29,
     "metadata": {},
     "output_type": "execute_result"
    }
   ],
   "source": [
    "deaths_pop.describe()"
   ]
  },
  {
   "cell_type": "code",
   "execution_count": 30,
   "metadata": {
    "collapsed": false
   },
   "outputs": [],
   "source": [
    "median_drug_rate = np.median(deaths_pop['death_rate_100k'])\n",
    "y = deaths_pop['death_rate_100k']\n",
    "# features = deaths_pop[['year','pop_sub_15_prop','pop_15-34_prop','pop_35-54_prop','pop_55+_prop','pop_asian_prop', 'pop_white_prop','pop_black_prop','pop_hisp_prop','population','med_hh_income', 'unemp_rate', 'perc_pop_working', 'pov_rate', 'pov_rate_youth', 'constant', 'AK', 'AL', 'AR', 'AZ', 'CA', 'CO','CT', 'DC', 'DE', 'FL', 'GA', 'HI', 'IA', 'ID', 'IL', 'IN', 'KS', 'KY', 'LA', 'MA', 'MD', 'ME','MI', 'MN', 'MO', 'MS', 'MT', 'NC', 'NE', 'NH','NJ', 'NM', 'NV', 'NY', 'OH', 'OK', 'OR', 'PA', 'RI','SC','SD', 'TN', 'TX', 'UT', 'VA', 'WA', 'WI', 'WV', 'WY']]\n",
    "features = deaths_pop[['pop_sub_15_prop','pop_15-34_prop','pop_35-54_prop','pop_55+_prop','pop_asian_prop', 'pop_white_prop','pop_black_prop','pop_hisp_prop','population','med_hh_income', 'unemp_rate', 'perc_pop_working', 'pov_rate', 'pov_rate_youth', 'constant', 'AK', 'AL', 'AR', 'AZ', 'CA', 'CO','CT', 'DC', 'DE', 'FL', 'GA', 'HI', 'IA', 'ID', 'IL', 'IN', 'KS', 'KY', 'LA', 'MA', 'MD', 'ME','MI', 'MN', 'MO', 'MS', 'MT', 'NC', 'NE', 'NH','NJ', 'NM', 'NV', 'NY', 'OH', 'OK', 'OR', 'PA', 'RI','SC','SD', 'TN', 'TX', 'UT', 'VA', 'WA', 'WI', 'WV', 'WY', 2003, 2004, 2005, 2006, 2007, 2008, 2009, 2010, 2011, 2012, 2013, 2014]]\n",
    "\n",
    "# '2003', '2004', '2005', '2006', '2007', '2008', '2009', '2010', '2011', '2012', '2013', '2014'\n",
    "features.to_csv('full_features_cdc_states_years.csv')\n"
   ]
  },
  {
   "cell_type": "code",
   "execution_count": 31,
   "metadata": {
    "collapsed": true
   },
   "outputs": [],
   "source": [
    "X = StandardScaler().fit_transform(features)\n",
    "X = pd.DataFrame(X, columns=features.columns)\n",
    "\n",
    "#PCA for later plots & model testing\n",
    "\n",
    "pca_2 = PCA(n_components=2)\n",
    "pca_3 = PCA(n_components=3)\n",
    "pca_4 = PCA(n_components=4)\n",
    "xPC_2 = pca_2.fit_transform(X)\n",
    "xPC_3 = pca_3.fit_transform(X)\n",
    "xPC_4 = pca_4.fit_transform(X)"
   ]
  },
  {
   "cell_type": "markdown",
   "metadata": {},
   "source": [
    "## Implementing Tree Models, partially for feature importance"
   ]
  },
  {
   "cell_type": "code",
   "execution_count": 32,
   "metadata": {
    "collapsed": false
   },
   "outputs": [
    {
     "name": "stderr",
     "output_type": "stream",
     "text": [
      "/Users/HudsonCavanagh/anaconda/lib/python2.7/site-packages/sklearn/cross_validation.py:516: Warning: The least populated class in y has only 1 members, which is too few. The minimum number of labels for any class cannot be less than n_folds=10.\n",
      "  % (min_labels, self.n_folds)), Warning)\n"
     ]
    },
    {
     "name": "stdout",
     "output_type": "stream",
     "text": [
      "('Decision Tree', 0.81523000084618835)\n"
     ]
    }
   ],
   "source": [
    "from sklearn.linear_model import LogisticRegression\n",
    "from sklearn.cross_validation import train_test_split, cross_val_score\n",
    "from sklearn.cross_validation import StratifiedKFold, permutation_test_score\n",
    "from sklearn.tree import DecisionTreeRegressor\n",
    "\n",
    "stratk = StratifiedKFold(y, n_folds=10, shuffle=True, random_state=66)\n",
    "\n",
    "\n",
    "dt_simple = DecisionTreeRegressor(min_samples_leaf=4, min_samples_split=6, max_depth=6)\n",
    "dt_simple.fit(X,y)\n",
    "s_dt = cross_val_score(dt_simple, X, y, cv=stratk, n_jobs=-1)\n",
    "\n",
    "print(\"Decision Tree\", s_dt.mean())\n"
   ]
  },
  {
   "cell_type": "code",
   "execution_count": null,
   "metadata": {
    "collapsed": true
   },
   "outputs": [],
   "source": []
  },
  {
   "cell_type": "markdown",
   "metadata": {},
   "source": [
    " ## Can't currently get gridsearchcv to work\n",
    " \n",
    " moving on for now - i think its related to my kernel"
   ]
  },
  {
   "cell_type": "code",
   "execution_count": 33,
   "metadata": {
    "collapsed": false
   },
   "outputs": [],
   "source": [
    "# from sklearn.grid_search import GridSearchCV\n",
    "\n",
    "# split_vals = [2,3,4,5,6,7,8,9]\n",
    "# depths = [3,4,5,6,7,8,9,10]\n",
    "# max_feats = [3,4,5,6,7,8,10,12,14,20]\n",
    "\n",
    "# dt = DecisionTreeRegressor()\n",
    "\n",
    "\n",
    "# gs_dt = GridSearchCV(dt, {'min_samples_split': split_vals, 'max_depth': depths, 'max_features': max_feats}, cv=15)\n",
    "# gs_dt.fit(X, y)\n",
    "# s_gb_tree_cv = cross_val_score(gs_dt, X, y, cv=stratk, n_jobs=-1, scoring='f1')\n",
    "\n",
    "# print(s_gb_tree_cv.mean(),\n",
    "# gs_dt.best_params_)\n",
    "\n"
   ]
  },
  {
   "cell_type": "code",
   "execution_count": null,
   "metadata": {
    "collapsed": false
   },
   "outputs": [],
   "source": []
  },
  {
   "cell_type": "code",
   "execution_count": null,
   "metadata": {
    "collapsed": true
   },
   "outputs": [],
   "source": []
  },
  {
   "cell_type": "code",
   "execution_count": 34,
   "metadata": {
    "collapsed": false
   },
   "outputs": [
    {
     "data": {
      "text/plain": [
       "0.90878614265360935"
      ]
     },
     "execution_count": 34,
     "metadata": {},
     "output_type": "execute_result"
    }
   ],
   "source": [
    "from sklearn.ensemble import RandomForestRegressor, ExtraTreesRegressor, BaggingRegressor\n",
    "import seaborn as sns\n",
    "\n",
    "rf = RandomForestRegressor()\n",
    "rf_cv = RandomForestRegressor()\n",
    "\n",
    "X_train, X_test, y_train, y_test = train_test_split(X, y, test_size=0.33, random_state=50)\n",
    "rf.fit(X_train, y_train)\n",
    "ypred_rf = rf.predict(X_test)\n",
    "s_rf_cv = cross_val_score(rf_cv, X, y, cv=stratk, n_jobs=-1)\n",
    "    \n",
    "s_rf_cv.mean()\n",
    "\n",
    "#real progress with the random forest -- lets see how it compares to bagging  (~.90)"
   ]
  },
  {
   "cell_type": "code",
   "execution_count": null,
   "metadata": {
    "collapsed": true
   },
   "outputs": [],
   "source": []
  },
  {
   "cell_type": "code",
   "execution_count": 35,
   "metadata": {
    "collapsed": false
   },
   "outputs": [],
   "source": [
    "#BAGGING NOT WORKING\n",
    "\n",
    "# bc_cv = BaggingRegressor(n_estimators=100)\n",
    "\n",
    "# #X_scale = X_train     X_dums = Xd_train\n",
    "# # bc.fit(X_train,y_train)\n",
    "# s_bc = cross_val_score(bc_cv, X, y, cv=stratk, n_jobs=-1, scoring='f1')\n",
    "# s_bc.mean()\n",
    "\n",
    "# print(\"{} Score:\\t{:0.3} ± {:0.3}\".format(\"Bagging Trees\", s_bc.mean(), s_bc.std()))\n"
   ]
  },
  {
   "cell_type": "code",
   "execution_count": 36,
   "metadata": {
    "collapsed": true
   },
   "outputs": [],
   "source": [
    "# gs_rf = GridSearchCV(rf, {'min_samples_split': split_vals, 'max_depth': depths, 'max_features': max_feats}, cv=15)\n",
    "# s_gs_rf_cv = cross_val_score(gs_rf, X, y, cv=stratk, n_jobs=-1)\n",
    "# s_gs_rf_cv.mean()"
   ]
  },
  {
   "cell_type": "markdown",
   "metadata": {},
   "source": [
    "## Looking at Feature Importance"
   ]
  },
  {
   "cell_type": "code",
   "execution_count": 37,
   "metadata": {
    "collapsed": false
   },
   "outputs": [
    {
     "data": {
      "text/html": [
       "<div>\n",
       "<table border=\"1\" class=\"dataframe\">\n",
       "  <thead>\n",
       "    <tr style=\"text-align: right;\">\n",
       "      <th></th>\n",
       "      <th>0</th>\n",
       "      <th>1</th>\n",
       "    </tr>\n",
       "  </thead>\n",
       "  <tbody>\n",
       "    <tr>\n",
       "      <th>0</th>\n",
       "      <td>0.765733</td>\n",
       "      <td>population</td>\n",
       "    </tr>\n",
       "    <tr>\n",
       "      <th>1</th>\n",
       "      <td>0.078044</td>\n",
       "      <td>perc_pop_working</td>\n",
       "    </tr>\n",
       "    <tr>\n",
       "      <th>2</th>\n",
       "      <td>0.038189</td>\n",
       "      <td>med_hh_income</td>\n",
       "    </tr>\n",
       "    <tr>\n",
       "      <th>3</th>\n",
       "      <td>0.019598</td>\n",
       "      <td>pop_hisp_prop</td>\n",
       "    </tr>\n",
       "    <tr>\n",
       "      <th>4</th>\n",
       "      <td>0.011713</td>\n",
       "      <td>pop_black_prop</td>\n",
       "    </tr>\n",
       "    <tr>\n",
       "      <th>5</th>\n",
       "      <td>0.010478</td>\n",
       "      <td>pop_asian_prop</td>\n",
       "    </tr>\n",
       "    <tr>\n",
       "      <th>6</th>\n",
       "      <td>0.010375</td>\n",
       "      <td>unemp_rate</td>\n",
       "    </tr>\n",
       "    <tr>\n",
       "      <th>7</th>\n",
       "      <td>0.008883</td>\n",
       "      <td>pov_rate_youth</td>\n",
       "    </tr>\n",
       "    <tr>\n",
       "      <th>8</th>\n",
       "      <td>0.008807</td>\n",
       "      <td>pop_white_prop</td>\n",
       "    </tr>\n",
       "    <tr>\n",
       "      <th>9</th>\n",
       "      <td>0.006454</td>\n",
       "      <td>pov_rate</td>\n",
       "    </tr>\n",
       "    <tr>\n",
       "      <th>10</th>\n",
       "      <td>0.005951</td>\n",
       "      <td>pop_sub_15_prop</td>\n",
       "    </tr>\n",
       "    <tr>\n",
       "      <th>11</th>\n",
       "      <td>0.004970</td>\n",
       "      <td>pop_15-34_prop</td>\n",
       "    </tr>\n",
       "    <tr>\n",
       "      <th>12</th>\n",
       "      <td>0.004176</td>\n",
       "      <td>pop_55+_prop</td>\n",
       "    </tr>\n",
       "    <tr>\n",
       "      <th>13</th>\n",
       "      <td>0.003256</td>\n",
       "      <td>TX</td>\n",
       "    </tr>\n",
       "    <tr>\n",
       "      <th>14</th>\n",
       "      <td>0.003160</td>\n",
       "      <td>pop_35-54_prop</td>\n",
       "    </tr>\n",
       "    <tr>\n",
       "      <th>15</th>\n",
       "      <td>0.003011</td>\n",
       "      <td>WV</td>\n",
       "    </tr>\n",
       "    <tr>\n",
       "      <th>16</th>\n",
       "      <td>0.002259</td>\n",
       "      <td>CA</td>\n",
       "    </tr>\n",
       "    <tr>\n",
       "      <th>17</th>\n",
       "      <td>0.001371</td>\n",
       "      <td>NY</td>\n",
       "    </tr>\n",
       "    <tr>\n",
       "      <th>18</th>\n",
       "      <td>0.001305</td>\n",
       "      <td>OH</td>\n",
       "    </tr>\n",
       "    <tr>\n",
       "      <th>19</th>\n",
       "      <td>0.001093</td>\n",
       "      <td>2014</td>\n",
       "    </tr>\n",
       "    <tr>\n",
       "      <th>20</th>\n",
       "      <td>0.000814</td>\n",
       "      <td>CO</td>\n",
       "    </tr>\n",
       "    <tr>\n",
       "      <th>21</th>\n",
       "      <td>0.000636</td>\n",
       "      <td>2010</td>\n",
       "    </tr>\n",
       "    <tr>\n",
       "      <th>22</th>\n",
       "      <td>0.000568</td>\n",
       "      <td>DC</td>\n",
       "    </tr>\n",
       "    <tr>\n",
       "      <th>23</th>\n",
       "      <td>0.000554</td>\n",
       "      <td>FL</td>\n",
       "    </tr>\n",
       "    <tr>\n",
       "      <th>24</th>\n",
       "      <td>0.000532</td>\n",
       "      <td>NC</td>\n",
       "    </tr>\n",
       "    <tr>\n",
       "      <th>25</th>\n",
       "      <td>0.000532</td>\n",
       "      <td>2005</td>\n",
       "    </tr>\n",
       "    <tr>\n",
       "      <th>26</th>\n",
       "      <td>0.000516</td>\n",
       "      <td>2003</td>\n",
       "    </tr>\n",
       "    <tr>\n",
       "      <th>27</th>\n",
       "      <td>0.000449</td>\n",
       "      <td>PA</td>\n",
       "    </tr>\n",
       "    <tr>\n",
       "      <th>28</th>\n",
       "      <td>0.000418</td>\n",
       "      <td>KY</td>\n",
       "    </tr>\n",
       "    <tr>\n",
       "      <th>29</th>\n",
       "      <td>0.000409</td>\n",
       "      <td>NJ</td>\n",
       "    </tr>\n",
       "    <tr>\n",
       "      <th>...</th>\n",
       "      <td>...</td>\n",
       "      <td>...</td>\n",
       "    </tr>\n",
       "    <tr>\n",
       "      <th>46</th>\n",
       "      <td>0.000150</td>\n",
       "      <td>2004</td>\n",
       "    </tr>\n",
       "    <tr>\n",
       "      <th>47</th>\n",
       "      <td>0.000126</td>\n",
       "      <td>VA</td>\n",
       "    </tr>\n",
       "    <tr>\n",
       "      <th>48</th>\n",
       "      <td>0.000116</td>\n",
       "      <td>WA</td>\n",
       "    </tr>\n",
       "    <tr>\n",
       "      <th>49</th>\n",
       "      <td>0.000105</td>\n",
       "      <td>ID</td>\n",
       "    </tr>\n",
       "    <tr>\n",
       "      <th>50</th>\n",
       "      <td>0.000100</td>\n",
       "      <td>IN</td>\n",
       "    </tr>\n",
       "    <tr>\n",
       "      <th>51</th>\n",
       "      <td>0.000095</td>\n",
       "      <td>MI</td>\n",
       "    </tr>\n",
       "    <tr>\n",
       "      <th>52</th>\n",
       "      <td>0.000086</td>\n",
       "      <td>MN</td>\n",
       "    </tr>\n",
       "    <tr>\n",
       "      <th>53</th>\n",
       "      <td>0.000084</td>\n",
       "      <td>MA</td>\n",
       "    </tr>\n",
       "    <tr>\n",
       "      <th>54</th>\n",
       "      <td>0.000081</td>\n",
       "      <td>OK</td>\n",
       "    </tr>\n",
       "    <tr>\n",
       "      <th>55</th>\n",
       "      <td>0.000080</td>\n",
       "      <td>IL</td>\n",
       "    </tr>\n",
       "    <tr>\n",
       "      <th>56</th>\n",
       "      <td>0.000064</td>\n",
       "      <td>AK</td>\n",
       "    </tr>\n",
       "    <tr>\n",
       "      <th>57</th>\n",
       "      <td>0.000042</td>\n",
       "      <td>MS</td>\n",
       "    </tr>\n",
       "    <tr>\n",
       "      <th>58</th>\n",
       "      <td>0.000038</td>\n",
       "      <td>DE</td>\n",
       "    </tr>\n",
       "    <tr>\n",
       "      <th>59</th>\n",
       "      <td>0.000034</td>\n",
       "      <td>MD</td>\n",
       "    </tr>\n",
       "    <tr>\n",
       "      <th>60</th>\n",
       "      <td>0.000033</td>\n",
       "      <td>WI</td>\n",
       "    </tr>\n",
       "    <tr>\n",
       "      <th>61</th>\n",
       "      <td>0.000029</td>\n",
       "      <td>KS</td>\n",
       "    </tr>\n",
       "    <tr>\n",
       "      <th>62</th>\n",
       "      <td>0.000023</td>\n",
       "      <td>GA</td>\n",
       "    </tr>\n",
       "    <tr>\n",
       "      <th>63</th>\n",
       "      <td>0.000023</td>\n",
       "      <td>RI</td>\n",
       "    </tr>\n",
       "    <tr>\n",
       "      <th>64</th>\n",
       "      <td>0.000016</td>\n",
       "      <td>TN</td>\n",
       "    </tr>\n",
       "    <tr>\n",
       "      <th>65</th>\n",
       "      <td>0.000015</td>\n",
       "      <td>NE</td>\n",
       "    </tr>\n",
       "    <tr>\n",
       "      <th>66</th>\n",
       "      <td>0.000012</td>\n",
       "      <td>AR</td>\n",
       "    </tr>\n",
       "    <tr>\n",
       "      <th>67</th>\n",
       "      <td>0.000009</td>\n",
       "      <td>AL</td>\n",
       "    </tr>\n",
       "    <tr>\n",
       "      <th>68</th>\n",
       "      <td>0.000007</td>\n",
       "      <td>UT</td>\n",
       "    </tr>\n",
       "    <tr>\n",
       "      <th>69</th>\n",
       "      <td>0.000005</td>\n",
       "      <td>IA</td>\n",
       "    </tr>\n",
       "    <tr>\n",
       "      <th>70</th>\n",
       "      <td>0.000005</td>\n",
       "      <td>ME</td>\n",
       "    </tr>\n",
       "    <tr>\n",
       "      <th>71</th>\n",
       "      <td>0.000002</td>\n",
       "      <td>HI</td>\n",
       "    </tr>\n",
       "    <tr>\n",
       "      <th>72</th>\n",
       "      <td>0.000000</td>\n",
       "      <td>constant</td>\n",
       "    </tr>\n",
       "    <tr>\n",
       "      <th>73</th>\n",
       "      <td>0.000000</td>\n",
       "      <td>WY</td>\n",
       "    </tr>\n",
       "    <tr>\n",
       "      <th>74</th>\n",
       "      <td>0.000000</td>\n",
       "      <td>SD</td>\n",
       "    </tr>\n",
       "    <tr>\n",
       "      <th>75</th>\n",
       "      <td>0.000000</td>\n",
       "      <td>MT</td>\n",
       "    </tr>\n",
       "  </tbody>\n",
       "</table>\n",
       "<p>76 rows × 2 columns</p>\n",
       "</div>"
      ],
      "text/plain": [
       "           0                 1\n",
       "0   0.765733        population\n",
       "1   0.078044  perc_pop_working\n",
       "2   0.038189     med_hh_income\n",
       "3   0.019598     pop_hisp_prop\n",
       "4   0.011713    pop_black_prop\n",
       "5   0.010478    pop_asian_prop\n",
       "6   0.010375        unemp_rate\n",
       "7   0.008883    pov_rate_youth\n",
       "8   0.008807    pop_white_prop\n",
       "9   0.006454          pov_rate\n",
       "10  0.005951   pop_sub_15_prop\n",
       "11  0.004970    pop_15-34_prop\n",
       "12  0.004176      pop_55+_prop\n",
       "13  0.003256                TX\n",
       "14  0.003160    pop_35-54_prop\n",
       "15  0.003011                WV\n",
       "16  0.002259                CA\n",
       "17  0.001371                NY\n",
       "18  0.001305                OH\n",
       "19  0.001093              2014\n",
       "20  0.000814                CO\n",
       "21  0.000636              2010\n",
       "22  0.000568                DC\n",
       "23  0.000554                FL\n",
       "24  0.000532                NC\n",
       "25  0.000532              2005\n",
       "26  0.000516              2003\n",
       "27  0.000449                PA\n",
       "28  0.000418                KY\n",
       "29  0.000409                NJ\n",
       "..       ...               ...\n",
       "46  0.000150              2004\n",
       "47  0.000126                VA\n",
       "48  0.000116                WA\n",
       "49  0.000105                ID\n",
       "50  0.000100                IN\n",
       "51  0.000095                MI\n",
       "52  0.000086                MN\n",
       "53  0.000084                MA\n",
       "54  0.000081                OK\n",
       "55  0.000080                IL\n",
       "56  0.000064                AK\n",
       "57  0.000042                MS\n",
       "58  0.000038                DE\n",
       "59  0.000034                MD\n",
       "60  0.000033                WI\n",
       "61  0.000029                KS\n",
       "62  0.000023                GA\n",
       "63  0.000023                RI\n",
       "64  0.000016                TN\n",
       "65  0.000015                NE\n",
       "66  0.000012                AR\n",
       "67  0.000009                AL\n",
       "68  0.000007                UT\n",
       "69  0.000005                IA\n",
       "70  0.000005                ME\n",
       "71  0.000002                HI\n",
       "72  0.000000          constant\n",
       "73  0.000000                WY\n",
       "74  0.000000                SD\n",
       "75  0.000000                MT\n",
       "\n",
       "[76 rows x 2 columns]"
      ]
     },
     "execution_count": 37,
     "metadata": {},
     "output_type": "execute_result"
    }
   ],
   "source": [
    "rel_feature_import = sorted(zip(rf.feature_importances_, features.columns), reverse=True)\n",
    "rel_feature_import = pd.DataFrame(rel_feature_import)\n",
    "rel_feature_import #pop was .74 before outliar removal"
   ]
  },
  {
   "cell_type": "code",
   "execution_count": 38,
   "metadata": {
    "collapsed": false
   },
   "outputs": [
    {
     "data": {
      "text/plain": [
       "<matplotlib.axes._subplots.AxesSubplot at 0x11d354190>"
      ]
     },
     "execution_count": 38,
     "metadata": {},
     "output_type": "execute_result"
    },
    {
     "data": {
      "image/png": "[encoded data removed]",
      "text/plain": [
       "<matplotlib.figure.Figure at 0x11b941090>"
      ]
     },
     "metadata": {},
     "output_type": "display_data"
    }
   ],
   "source": [
    "#because population at the top, let's graph how it relates to mortality rate\n",
    "\n",
    "sns.regplot(x='population', y='death_rate_100k', data=deaths_pop) #some serious outliar action\n",
    "#appears all the outliars are at very low populations"
   ]
  },
  {
   "cell_type": "code",
   "execution_count": 39,
   "metadata": {
    "collapsed": false
   },
   "outputs": [
    {
     "data": {
      "text/plain": [
       "<matplotlib.axes._subplots.AxesSubplot at 0x11b915590>"
      ]
     },
     "execution_count": 39,
     "metadata": {},
     "output_type": "execute_result"
    },
    {
     "data": {
      "image/png": "[encoded data removed]",
      "text/plain": [
       "<matplotlib.figure.Figure at 0x11b7b29d0>"
      ]
     },
     "metadata": {},
     "output_type": "display_data"
    }
   ],
   "source": [
    "sns.distplot(deaths_pop['population'])"
   ]
  },
  {
   "cell_type": "code",
   "execution_count": 40,
   "metadata": {
    "collapsed": false
   },
   "outputs": [
    {
     "name": "stdout",
     "output_type": "stream",
     "text": [
      "(78.09140320671388, 37.50505005220931)\n"
     ]
    }
   ],
   "source": [
    "print(deaths_pop['death_rate_100k'][deaths_pop['population']<1000000].mean(), \n",
    "deaths_pop['death_rate_100k'][deaths_pop['population']>1000000].mean())\n",
    "\n"
   ]
  },
  {
   "cell_type": "markdown",
   "metadata": {},
   "source": [
    "Turns out, low population counties have dramatically higher mortality than larger population areas, (smaller than a million compared to bigger than a million)"
   ]
  },
  {
   "cell_type": "code",
   "execution_count": 41,
   "metadata": {
    "collapsed": false
   },
   "outputs": [
    {
     "name": "stdout",
     "output_type": "stream",
     "text": [
      "(93.02664662500416, 200.3427894419803)\n"
     ]
    }
   ],
   "source": [
    "print(deaths_pop['death_rate_100k'][deaths_pop['population']<100000].mean(), \n",
    "deaths_pop['death_rate_100k'][deaths_pop['population']<10000].mean()) #these are dramatic outliars, lets take them out\n",
    "#re-running this model with limited dataset\n",
    "#less than 100k pop has higher mean than less than a million, less than 10k has highest likelihood"
   ]
  },
  {
   "cell_type": "code",
   "execution_count": 42,
   "metadata": {
    "collapsed": false
   },
   "outputs": [],
   "source": [
    "# deaths_pop['county_code'][deaths_pop['population']<1000000].value_counts()\n",
    "# deaths_pop[deaths_pop['county_code']==26025] #2009 seems to have an error - looks like deaths and pop for 2008 & 2009 pooled\n",
    "# deaths_pop[deaths_pop['county_code']==53015] #no issues\n",
    "# deaths_pop[deaths_pop['county_code']==47093] #no issues\n",
    "# deaths_pop[deaths_pop['county_code']==41005] #no issues\n",
    "\n",
    "#lead by Calhoun County, Michigan (26025) but looks like issues with 2009"
   ]
  },
  {
   "cell_type": "markdown",
   "metadata": {},
   "source": [
    "s_rf_cv.mean()"
   ]
  },
  {
   "cell_type": "code",
   "execution_count": 43,
   "metadata": {
    "collapsed": false
   },
   "outputs": [
    {
     "data": {
      "text/plain": [
       "<matplotlib.axes._subplots.AxesSubplot at 0x11fe1c2d0>"
      ]
     },
     "execution_count": 43,
     "metadata": {},
     "output_type": "execute_result"
    },
    {
     "data": {
      "image/png": "[encoded data removed]",
      "text/plain": [
       "<matplotlib.figure.Figure at 0x11fe26b50>"
      ]
     },
     "metadata": {},
     "output_type": "display_data"
    }
   ],
   "source": [
    "sns.regplot(ypred_rf, y_test)"
   ]
  },
  {
   "cell_type": "markdown",
   "metadata": {},
   "source": [
    "## Implementing Kaggle-Darling XG Boost "
   ]
  },
  {
   "cell_type": "code",
   "execution_count": 44,
   "metadata": {
    "collapsed": false
   },
   "outputs": [
    {
     "data": {
      "text/plain": [
       "0.89302975206669311"
      ]
     },
     "execution_count": 44,
     "metadata": {},
     "output_type": "execute_result"
    }
   ],
   "source": [
    "import xgboost\n",
    "\n",
    "# fit model no training data\n",
    "xg_model = xgboost.XGBRegressor()\n",
    "xg_model_cv = xgboost.XGBRegressor()\n",
    "xg_model.fit(X_train, y_train)\n",
    "\n",
    "s_xg_cv = cross_val_score(xg_model_cv, X, y, cv=stratk, n_jobs=-1)\n",
    "\n",
    "# make predictions for test data\n",
    "y_pred_xg = xg_model.predict(X_test)\n",
    "s_xg_cv.mean()"
   ]
  },
  {
   "cell_type": "code",
   "execution_count": 45,
   "metadata": {
    "collapsed": false
   },
   "outputs": [
    {
     "data": {
      "text/plain": [
       "<matplotlib.axes._subplots.AxesSubplot at 0x11febec50>"
      ]
     },
     "execution_count": 45,
     "metadata": {},
     "output_type": "execute_result"
    },
    {
     "data": {
      "image/png": "[encoded data removed]",
      "text/plain": [
       "<matplotlib.figure.Figure at 0x11fd79050>"
      ]
     },
     "metadata": {},
     "output_type": "display_data"
    }
   ],
   "source": [
    "sns.regplot(y_pred_xg, y_test)"
   ]
  },
  {
   "cell_type": "markdown",
   "metadata": {},
   "source": [
    "### Implementing GradientBoosting Regressor to see if this is diff from XG Boost"
   ]
  },
  {
   "cell_type": "code",
   "execution_count": 46,
   "metadata": {
    "collapsed": false
   },
   "outputs": [
    {
     "data": {
      "text/plain": [
       "0.88207559773562738"
      ]
     },
     "execution_count": 46,
     "metadata": {},
     "output_type": "execute_result"
    }
   ],
   "source": [
    "from sklearn.ensemble import GradientBoostingRegressor\n",
    "\n",
    "gb_tree = GradientBoostingRegressor(n_estimators=1000)\n",
    "gb_tree_cv = GradientBoostingRegressor(n_estimators=1000, max_depth=10, max_features=10)\n",
    "\n",
    "gb_tree.fit(X_train, y_train)\n",
    "ypred_gbtree = gb_tree.predict(X_test)\n",
    "\n",
    "s_gb_tree_cv = cross_val_score(gb_tree_cv, X, y, cv=stratk, n_jobs=-1)\n",
    "s_gb_tree_cv.mean()\n",
    "\n"
   ]
  },
  {
   "cell_type": "code",
   "execution_count": 47,
   "metadata": {
    "collapsed": false
   },
   "outputs": [
    {
     "data": {
      "image/png": "[encoded data removed]",
      "text/plain": [
       "<matplotlib.figure.Figure at 0x11d360290>"
      ]
     },
     "metadata": {},
     "output_type": "display_data"
    }
   ],
   "source": [
    "sns.regplot(ypred_gbtree, y_test, color=\"orange\")\n",
    "plt.xlabel('Predicted Mortality Rate (Gradient Boosted)')\n",
    "plt.ylabel('Actual Mortality Rate')\n",
    "plt.show()"
   ]
  },
  {
   "cell_type": "code",
   "execution_count": 48,
   "metadata": {
    "collapsed": true
   },
   "outputs": [],
   "source": [
    "### Quick visualization t-SNE \n",
    "### Also want to do some classification with DB Scan"
   ]
  },
  {
   "cell_type": "code",
   "execution_count": 49,
   "metadata": {
    "collapsed": false
   },
   "outputs": [
    {
     "data": {
      "image/png": "[encoded data removed]",
      "text/plain": [
       "<matplotlib.figure.Figure at 0x11fd79950>"
      ]
     },
     "metadata": {},
     "output_type": "display_data"
    }
   ],
   "source": [
    "import datetime\n",
    "from tsne import bh_sne\n",
    "# tsne = manifold.TSNE(n_components=2, init='pca', random_state=0)\n",
    "# t0 = datetime.time()\n",
    "# X_tsne = tsne.fit_transform(features)\n",
    "\n",
    "\n",
    "X_2d = bh_sne(X)\n",
    "plt.style.use('fivethirtyeight')\n",
    "plt.figure(figsize=(30, 10))\n",
    "plt.scatter(X_2d[:,0],X_2d[:,1])\n",
    "plt.title('t-SNE')\n",
    "plt.xlabel('')\n",
    "plt.ylabel('')\n",
    "\n",
    "\n",
    "plt.show()"
   ]
  },
  {
   "cell_type": "markdown",
   "metadata": {},
   "source": [
    "## Training a bunch more models to see if any improvements "
   ]
  },
  {
   "cell_type": "code",
   "execution_count": 50,
   "metadata": {
    "collapsed": false
   },
   "outputs": [],
   "source": [
    "# ada_tree_scale = AdaBoostClassifier(n_estimators=100)\n",
    "# gb_tree_scale = GradientBoostingClassifier(n_estimators=100)\n",
    "# ada_rand_forest_scale = AdaBoostClassifier(RandomForestClassifier(class_weight='balanced', n_estimators=1000), n_estimators=100)\n",
    "# # gb_rand_forest_scale = GradientBoostingClassifier(RandomForestClassifier(class_weight='balanced', n_estimators=1000), n_estimators=100)\n",
    "# bc_rand_forest_scale = BaggingClassifier(RandomForestClassifier(class_weight='balanced', n_estimators=100), n_estimators=100) #.973  - .98 after\n",
    "# bc_knn = BaggingClassifier(KNeighborsClassifier(), n_estimators=1000) #.973  - .98 after\n"
   ]
  },
  {
   "cell_type": "markdown",
   "metadata": {},
   "source": [
    "## Exploring Outcomes"
   ]
  },
  {
   "cell_type": "code",
   "execution_count": 51,
   "metadata": {
    "collapsed": false
   },
   "outputs": [
    {
     "name": "stderr",
     "output_type": "stream",
     "text": [
      "/Users/HudsonCavanagh/anaconda/lib/python2.7/site-packages/ipykernel/__main__.py:1: UserWarning: Boolean Series key will be reindexed to match DataFrame index.\n",
      "  if __name__ == '__main__':\n"
     ]
    },
    {
     "data": {
      "text/html": [
       "<div>\n",
       "<table border=\"1\" class=\"dataframe\">\n",
       "  <thead>\n",
       "    <tr style=\"text-align: right;\">\n",
       "      <th></th>\n",
       "      <th>county_name</th>\n",
       "      <th>year</th>\n",
       "    </tr>\n",
       "  </thead>\n",
       "  <tbody>\n",
       "    <tr>\n",
       "      <th>9</th>\n",
       "      <td>Humboldt County, CA</td>\n",
       "      <td>2003</td>\n",
       "    </tr>\n",
       "    <tr>\n",
       "      <th>1652</th>\n",
       "      <td>Lake County, CA</td>\n",
       "      <td>2010</td>\n",
       "    </tr>\n",
       "    <tr>\n",
       "      <th>1705</th>\n",
       "      <td>Monroe County, FL</td>\n",
       "      <td>2010</td>\n",
       "    </tr>\n",
       "    <tr>\n",
       "      <th>1741</th>\n",
       "      <td>Pike County, KY</td>\n",
       "      <td>2010</td>\n",
       "    </tr>\n",
       "    <tr>\n",
       "      <th>2086</th>\n",
       "      <td>Santa Fe County, NM</td>\n",
       "      <td>2011</td>\n",
       "    </tr>\n",
       "    <tr>\n",
       "      <th>2188</th>\n",
       "      <td>Cabell County, WV</td>\n",
       "      <td>2011</td>\n",
       "    </tr>\n",
       "    <tr>\n",
       "      <th>2191</th>\n",
       "      <td>Raleigh County, WV</td>\n",
       "      <td>2011</td>\n",
       "    </tr>\n",
       "    <tr>\n",
       "      <th>2299</th>\n",
       "      <td>Campbell County, KY</td>\n",
       "      <td>2012</td>\n",
       "    </tr>\n",
       "    <tr>\n",
       "      <th>2482</th>\n",
       "      <td>Raleigh County, WV</td>\n",
       "      <td>2012</td>\n",
       "    </tr>\n",
       "    <tr>\n",
       "      <th>2591</th>\n",
       "      <td>Campbell County, KY</td>\n",
       "      <td>2013</td>\n",
       "    </tr>\n",
       "    <tr>\n",
       "      <th>2774</th>\n",
       "      <td>Raleigh County, WV</td>\n",
       "      <td>2013</td>\n",
       "    </tr>\n",
       "    <tr>\n",
       "      <th>2898</th>\n",
       "      <td>Campbell County, KY</td>\n",
       "      <td>2014</td>\n",
       "    </tr>\n",
       "    <tr>\n",
       "      <th>3098</th>\n",
       "      <td>Cabell County, WV</td>\n",
       "      <td>2014</td>\n",
       "    </tr>\n",
       "  </tbody>\n",
       "</table>\n",
       "</div>"
      ],
      "text/plain": [
       "              county_name  year\n",
       "9     Humboldt County, CA  2003\n",
       "1652      Lake County, CA  2010\n",
       "1705    Monroe County, FL  2010\n",
       "1741      Pike County, KY  2010\n",
       "2086  Santa Fe County, NM  2011\n",
       "2188    Cabell County, WV  2011\n",
       "2191   Raleigh County, WV  2011\n",
       "2299  Campbell County, KY  2012\n",
       "2482   Raleigh County, WV  2012\n",
       "2591  Campbell County, KY  2013\n",
       "2774   Raleigh County, WV  2013\n",
       "2898  Campbell County, KY  2014\n",
       "3098    Cabell County, WV  2014"
      ]
     },
     "execution_count": 51,
     "metadata": {},
     "output_type": "execute_result"
    }
   ],
   "source": [
    "deaths_pop[['county_name', 'year']][deaths_pop['death_rate_100k']>200][deaths_pop['population']>10000]"
   ]
  },
  {
   "cell_type": "code",
   "execution_count": null,
   "metadata": {
    "collapsed": false
   },
   "outputs": [],
   "source": []
  },
  {
   "cell_type": "markdown",
   "metadata": {},
   "source": [
    "## Summarizing info from the above\n",
    "\n",
    "a rate of 200 means that in any given year, 0.2% of the population (or 1 in every 500 people) died in any given year from a drug-related cause. Such a rate occured only once prior to 2010 and 12 times since then. \n",
    "\n",
    "-- deep issues in the appalacia area\n"
   ]
  },
  {
   "cell_type": "markdown",
   "metadata": {},
   "source": [
    "### Moving into clustering/ unsupervised methods & visualization"
   ]
  },
  {
   "cell_type": "code",
   "execution_count": 52,
   "metadata": {
    "collapsed": false
   },
   "outputs": [
    {
     "name": "stdout",
     "output_type": "stream",
     "text": [
      "('Silhouette Coefficient: -0.143', 31, 2.177247824685788)\n"
     ]
    }
   ],
   "source": [
    "from sklearn.cluster import DBSCAN, KMeans\n",
    "from sklearn.metrics import silhouette_score\n",
    "\n",
    "\n",
    "db1 = DBSCAN(eps = 4, min_samples = 15).fit(X)  \n",
    "db1labels = db1.labels_  \n",
    "core_samples = db1.core_sample_indices_\n",
    "\n",
    "print(\"Silhouette Coefficient: %0.3f\" \n",
    "      % silhouette_score(X, db1labels), len(set(db1labels)), db1labels.mean())"
   ]
  },
  {
   "cell_type": "code",
   "execution_count": 53,
   "metadata": {
    "collapsed": false
   },
   "outputs": [
    {
     "name": "stdout",
     "output_type": "stream",
     "text": [
      "('Silhouette Coefficient: -0.143', 37, 9.3399935546245576)\n"
     ]
    }
   ],
   "source": [
    "db2 = DBSCAN(eps = 7, min_samples = 8).fit(X)  \n",
    "db2labels = db2.labels_  \n",
    "core_samples = db2.core_sample_indices_\n",
    "\n",
    "# db2labels \n",
    "print(\"Silhouette Coefficient: %0.3f\" \n",
    "      % silhouette_score(X, db1labels), len(set(db2labels)), db2labels.mean())"
   ]
  },
  {
   "cell_type": "code",
   "execution_count": 54,
   "metadata": {
    "collapsed": false
   },
   "outputs": [
    {
     "data": {
      "text/html": [
       "<div>\n",
       "<table border=\"1\" class=\"dataframe\">\n",
       "  <thead>\n",
       "    <tr style=\"text-align: right;\">\n",
       "      <th></th>\n",
       "      <th>pc1</th>\n",
       "      <th>pc2</th>\n",
       "    </tr>\n",
       "  </thead>\n",
       "  <tbody>\n",
       "    <tr>\n",
       "      <th>0</th>\n",
       "      <td>-1.032321</td>\n",
       "      <td>1.547519</td>\n",
       "    </tr>\n",
       "    <tr>\n",
       "      <th>1</th>\n",
       "      <td>-3.035499</td>\n",
       "      <td>-1.909669</td>\n",
       "    </tr>\n",
       "    <tr>\n",
       "      <th>2</th>\n",
       "      <td>-2.198038</td>\n",
       "      <td>-2.746797</td>\n",
       "    </tr>\n",
       "    <tr>\n",
       "      <th>3</th>\n",
       "      <td>-0.358709</td>\n",
       "      <td>-1.210396</td>\n",
       "    </tr>\n",
       "    <tr>\n",
       "      <th>4</th>\n",
       "      <td>1.146518</td>\n",
       "      <td>0.967598</td>\n",
       "    </tr>\n",
       "  </tbody>\n",
       "</table>\n",
       "</div>"
      ],
      "text/plain": [
       "        pc1       pc2\n",
       "0 -1.032321  1.547519\n",
       "1 -3.035499 -1.909669\n",
       "2 -2.198038 -2.746797\n",
       "3 -0.358709 -1.210396\n",
       "4  1.146518  0.967598"
      ]
     },
     "execution_count": 54,
     "metadata": {},
     "output_type": "execute_result"
    }
   ],
   "source": [
    "# df_pca_2['cluster'] = pd.Series(clusters_pca.labels_)\n",
    "plt.style.use('fivethirtyeight')\n",
    "xPC_2 = pd.DataFrame(xPC_2, columns=['pc1', 'pc2'])\n",
    "xPC_2.head()"
   ]
  },
  {
   "cell_type": "code",
   "execution_count": 55,
   "metadata": {
    "collapsed": false
   },
   "outputs": [
    {
     "data": {
      "image/png": "[encoded data removed]",
      "text/plain": [
       "<matplotlib.figure.Figure at 0x1295bd890>"
      ]
     },
     "metadata": {},
     "output_type": "display_data"
    }
   ],
   "source": [
    "graph = xPC_2.plot(kind='scatter', x='pc1', y='pc2', figsize=(16,8))\n",
    "\n",
    "for i, county in enumerate(deaths_pop['county_name']):\n",
    "    graph.annotate(county, (xPC_2.iloc[i,0], xPC_2.iloc[i,1]))"
   ]
  },
  {
   "cell_type": "markdown",
   "metadata": {},
   "source": [
    "### Implementing Classification Model"
   ]
  },
  {
   "cell_type": "code",
   "execution_count": 57,
   "metadata": {
    "collapsed": false
   },
   "outputs": [
    {
     "data": {
      "text/plain": [
       "65.386828477271536"
      ]
     },
     "execution_count": 57,
     "metadata": {},
     "output_type": "execute_result"
    }
   ],
   "source": [
    "median_drug_rate"
   ]
  },
  {
   "cell_type": "code",
   "execution_count": 59,
   "metadata": {
    "collapsed": false
   },
   "outputs": [],
   "source": [
    "y_bin = y.apply(lambda x: 1 if x > median_drug_rate else 0)"
   ]
  },
  {
   "cell_type": "code",
   "execution_count": 60,
   "metadata": {
    "collapsed": false
   },
   "outputs": [
    {
     "data": {
      "text/plain": [
       "0.86680604824141183"
      ]
     },
     "execution_count": 60,
     "metadata": {},
     "output_type": "execute_result"
    }
   ],
   "source": [
    "from sklearn.ensemble import RandomForestClassifier, ExtraTreesClassifier, BaggingClassifier\n",
    "\n",
    "rf_c_cv = RandomForestClassifier()\n",
    "\n",
    "\n",
    "s_rf_cv = cross_val_score(rf_c_cv, X, y_bin, cv=stratk, n_jobs=-1)\n",
    "    \n",
    "s_rf_cv.mean()"
   ]
  },
  {
   "cell_type": "code",
   "execution_count": 62,
   "metadata": {
    "collapsed": false
   },
   "outputs": [
    {
     "data": {
      "text/plain": [
       "0.88150995687461431"
      ]
     },
     "execution_count": 62,
     "metadata": {},
     "output_type": "execute_result"
    }
   ],
   "source": [
    "xg_class_model_cv = xgboost.XGBClassifier()\n",
    "\n",
    "s_xg_cv = cross_val_score(xg_class_model_cv, X, y_bin, cv=stratk, n_jobs=-1)\n",
    "\n",
    "s_xg_cv.mean()"
   ]
  },
  {
   "cell_type": "markdown",
   "metadata": {},
   "source": [
    "## Next Steps\n",
    "\n",
    "#### Need to go back to summary statistics extracted and make sure trends found here agree to those findings\n",
    "#### Need to explore why population figures are so distorted\n",
    "- go through from beginning and just follow that column\n",
    "#### Look for further features to add:\n",
    "- population density\n",
    "- policy features\n",
    "- "
   ]
  }
 ],
 "metadata": {
  "kernelspec": {
   "display_name": "Python 2 New",
   "language": "python",
   "name": "stats_mods_py"
  },
  "language_info": {
   "codemirror_mode": {
    "name": "ipython",
    "version": 2
   },
   "file_extension": ".py",
   "mimetype": "text/x-python",
   "name": "python",
   "nbconvert_exporter": "python",
   "pygments_lexer": "ipython2",
   "version": "2.7.12"
  }
 },
 "nbformat": 4,
 "nbformat_minor": 0
}
