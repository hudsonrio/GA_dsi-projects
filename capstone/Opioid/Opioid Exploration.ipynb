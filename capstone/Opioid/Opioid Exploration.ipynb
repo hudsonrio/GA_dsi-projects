{
 "cells": [
  {
   "cell_type": "code",
   "execution_count": 1,
   "metadata": {
    "collapsed": false
   },
   "outputs": [
    {
     "data": {
      "text/plain": [
       "'/Users/HudsonCavanagh/GA_dsi-projects/capstone/Opioid'"
      ]
     },
     "execution_count": 1,
     "metadata": {},
     "output_type": "execute_result"
    }
   ],
   "source": [
    "import pandas as pd\n",
    "import numpy as np\n",
    "import sklearn\n",
    "import pandas as pd \n",
    "import numpy as np\n",
    "import sklearn\n",
    "import psycopg2 as psy\n",
    "import os \n",
    "import matplotlib.pyplot as plt\n",
    "import numpy as np\n",
    "import math\n",
    "from sklearn.preprocessing import StandardScaler\n",
    "from sklearn.decomposition import PCA \n",
    "from sklearn.cluster import KMeans\n",
    "from sklearn import metrics\n",
    "from matplotlib import *\n",
    "import sys\n",
    "from matplotlib import offsetbox\n",
    "from sklearn import (manifold, datasets, decomposition, ensemble,\n",
    "                     discriminant_analysis, random_projection)\n",
    "from sklearn import metrics\n",
    "from sklearn.cross_validation import cross_val_score, StratifiedKFold\n",
    "from sklearn.tree import DecisionTreeClassifier\n",
    "from sklearn.ensemble import RandomForestRegressor, ExtraTreesRegressor, BaggingRegressor\n",
    "\n",
    "%matplotlib inline\n",
    "\n",
    "os.getcwd()"
   ]
  },
  {
   "cell_type": "markdown",
   "metadata": {},
   "source": [
    "## Drug Related Poisoning Deaths, 2013-2014\n"
   ]
  },
  {
   "cell_type": "code",
   "execution_count": 2,
   "metadata": {
    "collapsed": false
   },
   "outputs": [
    {
     "name": "stdout",
     "output_type": "stream",
     "text": [
      "   State  2014Rate 2014Number     2014Range  2013Rate 2013Number  \\\n",
      "0     ND       6.3         43   2.8 to 11.0       2.8         20   \n",
      "1     NE       7.2        125   2.8 to 11.0       6.5        117   \n",
      "2     SD       7.8         63   2.8 to 11.0       6.9         55   \n",
      "3     IA       8.8        264   2.8 to 11.0       9.3        275   \n",
      "4     TX       9.7      2,601   2.8 to 11.0       9.3      2,446   \n",
      "5     MN       9.6        517   2.8 to 11.0       9.6        523   \n",
      "6     VA      11.7        980  11.1 to 13.5      10.2        854   \n",
      "7     MS      11.6        336  11.1 to 13.5      10.8        316   \n",
      "8     GA      11.9      1,206  11.1 to 13.5      10.8      1,098   \n",
      "9     HI      10.9        157   2.8 to 11.0      11.0        158   \n",
      "10    CA      11.1      4,521  11.1 to 13.5      11.1      4,452   \n",
      "11    AR      12.6        356  11.1 to 13.5      11.1        319   \n",
      "12    NY      11.3      2,300  11.1 to 13.5      11.3      2,309   \n",
      "13    OR      12.8        522  11.1 to 13.5      11.3        455   \n",
      "14    KS      11.7        332  11.1 to 13.5      12.0        331   \n",
      "15    IL      13.1      1,705  11.1 to 13.5      12.1      1,579   \n",
      "16    FL      13.2      2,634  11.1 to 13.5      12.6      2,474   \n",
      "17    AL      15.2        723  13.6 to 16.0      12.7        598   \n",
      "18    NC      13.8      1,358  13.6 to 16.0      12.9      1,259   \n",
      "19    SC      14.4        701  13.6 to 16.0      13.0        620   \n",
      "20    ME      16.8        216  16.1 to 18.5      13.2        174   \n",
      "21    WA      13.3        979  11.1 to 13.5      13.4        969   \n",
      "22    ID      13.7        212  13.6 to 16.0      13.4        207   \n",
      "23    AK      16.8        124  16.1 to 18.5      14.4        105   \n",
      "24    MT      12.4        125  11.1 to 13.5      14.5        137   \n",
      "25    NJ      14.0      1,253  13.6 to 16.0      14.5      1,294   \n",
      "26    MD      17.4      1,070  16.1 to 18.5      14.6        892   \n",
      "27    DC      14.2         96  13.6 to 16.0      15.0        102   \n",
      "28    WI      15.1        853  13.6 to 16.0      15.0        856   \n",
      "29    VT      13.9         83  13.6 to 16.0      15.1         93   \n",
      "30    NH      26.2        334  21.0 to 35.5      15.1        203   \n",
      "31    CO      16.3        899  16.1 to 18.5      15.5        846   \n",
      "32    MI      18.0      1,762  16.1 to 18.5      15.9      1,553   \n",
      "33    CT      17.6        623  16.1 to 18.5      16.0        582   \n",
      "34    MA      19.0      1,289  18.6 to 21.0      16.0      1,081   \n",
      "35    IN      18.2      1,172  16.1 to 18.5      16.6      1,064   \n",
      "36    WY      19.4        109  18.6 to 21.0      17.2         98   \n",
      "37    MO      18.2      1,067  16.1 to 18.5      17.5      1,025   \n",
      "38    LA      16.9        777  16.1 to 18.5      17.8        809   \n",
      "39    TN      19.5      1,269  18.6 to 21.0      18.1      1,187   \n",
      "40    AZ      18.2      1,211  16.1 to 18.5      18.7      1,222   \n",
      "41    DE      20.9        189  18.6 to 21.0      18.7        166   \n",
      "42    PA      21.9      2,732  21.0 to 35.5      19.4      2,426   \n",
      "43    OK      20.3        777  18.6 to 21.0      20.6        790   \n",
      "44    OH      24.6      2,744  21.0 to 35.5      20.8      2,347   \n",
      "45    NV      18.4        545  16.1 to 18.5      21.1        614   \n",
      "46    UT      22.4        603  21.0 to 35.5      22.1        594   \n",
      "47    RI      23.4        247  21.0 to 35.5      22.4        241   \n",
      "48    NM      27.3        547  21.0 to 35.5      22.6        458   \n",
      "49    KY      24.7      1,077  21.0 to 35.5      23.7      1,019   \n",
      "50    WV      35.5        627  21.0 to 35.5      32.2        570   \n",
      "\n",
      "       2013Range  Change      Significant  \n",
      "0    2.8 to 11.0   125.0     Significant   \n",
      "1    2.8 to 11.0    10.8  Not Significant  \n",
      "2    2.8 to 11.0    13.0  Not Significant  \n",
      "3    2.8 to 11.0    -5.4  Not Significant  \n",
      "4    2.8 to 11.0     4.3  Not Significant  \n",
      "5    2.8 to 11.0     0.0  Not Significant  \n",
      "6    2.8 to 11.0    14.7     Significant   \n",
      "7    2.8 to 11.0     7.4  Not Significant  \n",
      "8    2.8 to 11.0    10.2     Significant   \n",
      "9    2.8 to 11.0    -0.9  Not Significant  \n",
      "10  11.1 to 13.5     0.0  Not Significant  \n",
      "11  11.1 to 13.5    13.5  Not Significant  \n",
      "12  11.1 to 13.5     0.0  Not Significant  \n",
      "13  11.1 to 13.5    13.3  Not Significant  \n",
      "14  11.1 to 13.5    -2.5  Not Significant  \n",
      "15  11.1 to 13.5     8.3     Significant   \n",
      "16  11.1 to 13.5     4.8  Not Significant  \n",
      "17  11.1 to 13.5    19.7     Significant   \n",
      "18  11.1 to 13.5     7.0  Not Significant  \n",
      "19  11.1 to 13.5    10.8  Not Significant  \n",
      "20  11.1 to 13.5    27.3     Significant   \n",
      "21  11.1 to 13.5    -0.7  Not Significant  \n",
      "22  11.1 to 13.5     2.2  Not Significant  \n",
      "23  13.6 to 16.0    16.7  Not Significant  \n",
      "24  13.6 to 16.0   -14.5  Not Significant  \n",
      "25  13.6 to 16.0    -3.4  Not Significant  \n",
      "26  13.6 to 16.0    19.2     Significant   \n",
      "27  13.6 to 16.0    -5.3  Not Significant  \n",
      "28  13.6 to 16.0     0.7  Not Significant  \n",
      "29  13.6 to 16.0    -7.9  Not Significant  \n",
      "30  13.6 to 16.0    73.5     Significant   \n",
      "31  13.6 to 16.0     5.2  Not Significant  \n",
      "32  13.6 to 16.0    13.2     Significant   \n",
      "33  13.6 to 16.0    10.0  Not Significant  \n",
      "34  13.6 to 16.0    18.8     Significant   \n",
      "35  16.1 to 18.5     9.6     Significant   \n",
      "36  16.1 to 18.5    12.8  Not Significant  \n",
      "37  16.1 to 18.5     4.0  Not Significant  \n",
      "38  16.1 to 18.5    -5.1  Not Significant  \n",
      "39  16.1 to 18.5     7.7  Not Significant  \n",
      "40  18.6 to 21.0    -2.7  Not Significant  \n",
      "41  18.6 to 21.0    11.8  Not Significant  \n",
      "42  18.6 to 21.0    12.9     Significant   \n",
      "43  18.6 to 21.0    -1.5  Not Significant  \n",
      "44  18.6 to 21.0    18.3     Significant   \n",
      "45  21.0 to 35.5   -12.8  Not Significant  \n",
      "46  21.0 to 35.5     1.4  Not Significant  \n",
      "47  21.0 to 35.5     4.5  Not Significant  \n",
      "48  21.0 to 35.5    20.8     Significant   \n",
      "49  21.0 to 35.5     4.2  Not Significant  \n",
      "50  21.0 to 35.5    10.2  Not Significant  \n"
     ]
    }
   ],
   "source": [
    "mortal = pd.read_csv('drug_poisoning_deaths_by_state-_us_2013_2014-v7.csv')\n",
    "print(mortal)"
   ]
  },
  {
   "cell_type": "code",
   "execution_count": 3,
   "metadata": {
    "collapsed": false
   },
   "outputs": [],
   "source": [
    "# type(mortal['2014Number'][1]) #str\n",
    "# type(mortal['2014Rate'][1]) # float\n",
    "mortal['2013Number'] = mortal['2013Number'].apply(lambda x: float(x.replace(\",\", \"\")))\n",
    "mortal['2014Number'] = mortal['2014Number'].apply(lambda x: float(x.replace(\",\", \"\")))\n",
    "# type(mortal['2014Number'][1])\n"
   ]
  },
  {
   "cell_type": "code",
   "execution_count": 4,
   "metadata": {
    "collapsed": false
   },
   "outputs": [],
   "source": [
    "mortal['growth_13-14'] =(mortal['2014Number']-mortal['2013Number'])/(mortal['2013Number'])\n",
    "mortal['growth_13-14_abs'] =mortal['2014Number']-mortal['2013Number']"
   ]
  },
  {
   "cell_type": "code",
   "execution_count": 5,
   "metadata": {
    "collapsed": false
   },
   "outputs": [
    {
     "data": {
      "text/plain": [
       "<matplotlib.axes._subplots.AxesSubplot at 0x11a6e0890>"
      ]
     },
     "execution_count": 5,
     "metadata": {},
     "output_type": "execute_result"
    },
    {
     "data": {
      "image/png": "[encoded data removed]",
      "text/plain": [
       "<matplotlib.figure.Figure at 0x11a6e00d0>"
      ]
     },
     "metadata": {},
     "output_type": "display_data"
    }
   ],
   "source": [
    "import seaborn as sns\n",
    "sns.distplot(mortal['growth_13-14'])"
   ]
  },
  {
   "cell_type": "code",
   "execution_count": 6,
   "metadata": {
    "collapsed": false
   },
   "outputs": [
    {
     "data": {
      "text/html": [
       "<div>\n",
       "<table border=\"1\" class=\"dataframe\">\n",
       "  <thead>\n",
       "    <tr style=\"text-align: right;\">\n",
       "      <th></th>\n",
       "      <th>State</th>\n",
       "      <th>2014Rate</th>\n",
       "      <th>2014Number</th>\n",
       "      <th>2014Range</th>\n",
       "      <th>2013Rate</th>\n",
       "      <th>2013Number</th>\n",
       "      <th>2013Range</th>\n",
       "      <th>Change</th>\n",
       "      <th>Significant</th>\n",
       "      <th>growth_13-14</th>\n",
       "      <th>growth_13-14_abs</th>\n",
       "    </tr>\n",
       "  </thead>\n",
       "  <tbody>\n",
       "    <tr>\n",
       "      <th>0</th>\n",
       "      <td>ND</td>\n",
       "      <td>6.3</td>\n",
       "      <td>43.0</td>\n",
       "      <td>2.8 to 11.0</td>\n",
       "      <td>2.8</td>\n",
       "      <td>20.0</td>\n",
       "      <td>2.8 to 11.0</td>\n",
       "      <td>125.0</td>\n",
       "      <td>Significant</td>\n",
       "      <td>1.150000</td>\n",
       "      <td>23.0</td>\n",
       "    </tr>\n",
       "    <tr>\n",
       "      <th>17</th>\n",
       "      <td>AL</td>\n",
       "      <td>15.2</td>\n",
       "      <td>723.0</td>\n",
       "      <td>13.6 to 16.0</td>\n",
       "      <td>12.7</td>\n",
       "      <td>598.0</td>\n",
       "      <td>11.1 to 13.5</td>\n",
       "      <td>19.7</td>\n",
       "      <td>Significant</td>\n",
       "      <td>0.209030</td>\n",
       "      <td>125.0</td>\n",
       "    </tr>\n",
       "    <tr>\n",
       "      <th>20</th>\n",
       "      <td>ME</td>\n",
       "      <td>16.8</td>\n",
       "      <td>216.0</td>\n",
       "      <td>16.1 to 18.5</td>\n",
       "      <td>13.2</td>\n",
       "      <td>174.0</td>\n",
       "      <td>11.1 to 13.5</td>\n",
       "      <td>27.3</td>\n",
       "      <td>Significant</td>\n",
       "      <td>0.241379</td>\n",
       "      <td>42.0</td>\n",
       "    </tr>\n",
       "    <tr>\n",
       "      <th>30</th>\n",
       "      <td>NH</td>\n",
       "      <td>26.2</td>\n",
       "      <td>334.0</td>\n",
       "      <td>21.0 to 35.5</td>\n",
       "      <td>15.1</td>\n",
       "      <td>203.0</td>\n",
       "      <td>13.6 to 16.0</td>\n",
       "      <td>73.5</td>\n",
       "      <td>Significant</td>\n",
       "      <td>0.645320</td>\n",
       "      <td>131.0</td>\n",
       "    </tr>\n",
       "  </tbody>\n",
       "</table>\n",
       "</div>"
      ],
      "text/plain": [
       "   State  2014Rate  2014Number     2014Range  2013Rate  2013Number  \\\n",
       "0     ND       6.3        43.0   2.8 to 11.0       2.8        20.0   \n",
       "17    AL      15.2       723.0  13.6 to 16.0      12.7       598.0   \n",
       "20    ME      16.8       216.0  16.1 to 18.5      13.2       174.0   \n",
       "30    NH      26.2       334.0  21.0 to 35.5      15.1       203.0   \n",
       "\n",
       "       2013Range  Change   Significant  growth_13-14  growth_13-14_abs  \n",
       "0    2.8 to 11.0   125.0  Significant       1.150000              23.0  \n",
       "17  11.1 to 13.5    19.7  Significant       0.209030             125.0  \n",
       "20  11.1 to 13.5    27.3  Significant       0.241379              42.0  \n",
       "30  13.6 to 16.0    73.5  Significant       0.645320             131.0  "
      ]
     },
     "execution_count": 6,
     "metadata": {},
     "output_type": "execute_result"
    }
   ],
   "source": [
    "mortal[mortal['growth_13-14']>.2] "
   ]
  },
  {
   "cell_type": "markdown",
   "metadata": {},
   "source": [
    "4 states saw growth above 20% of alcohol related poisenings in this one timeframe"
   ]
  },
  {
   "cell_type": "code",
   "execution_count": 7,
   "metadata": {
    "collapsed": false
   },
   "outputs": [
    {
     "data": {
      "text/plain": [
       "0.09732178949409859"
      ]
     },
     "execution_count": 7,
     "metadata": {},
     "output_type": "execute_result"
    }
   ],
   "source": [
    "avg_poisening_growth = mortal['growth_13-14'].mean()\n",
    "avg_poisening_growth #control for population?"
   ]
  },
  {
   "cell_type": "code",
   "execution_count": 8,
   "metadata": {
    "collapsed": false
   },
   "outputs": [
    {
     "data": {
      "text/plain": [
       "3073.0"
      ]
     },
     "execution_count": 8,
     "metadata": {},
     "output_type": "execute_result"
    }
   ],
   "source": [
    "poison_growth = mortal['growth_13-14_abs'].sum()\n",
    "poison_growth"
   ]
  },
  {
   "cell_type": "markdown",
   "metadata": {},
   "source": [
    "## Substance-related ER Visits\n",
    "\n",
    "\"Rate of emergency department visits with a principal diagnosis of  substance abuse ONLY, per 100,000 population, United States, 2007-2011\""
   ]
  },
  {
   "cell_type": "code",
   "execution_count": 9,
   "metadata": {
    "collapsed": false
   },
   "outputs": [
    {
     "data": {
      "text/html": [
       "<div>\n",
       "<table border=\"1\" class=\"dataframe\">\n",
       "  <thead>\n",
       "    <tr style=\"text-align: right;\">\n",
       "      <th>Unnamed: 0</th>\n",
       "      <th>Total</th>\n",
       "      <th>0-17</th>\n",
       "      <th>18-44</th>\n",
       "      <th>45-64</th>\n",
       "      <th>65-84</th>\n",
       "      <th>85 and over</th>\n",
       "      <th>Male</th>\n",
       "      <th>Female</th>\n",
       "      <th>First quartile (lowest income)</th>\n",
       "      <th>Second quartile</th>\n",
       "      <th>...</th>\n",
       "      <th>Large central metropolitan</th>\n",
       "      <th>Large fringe metropolitan</th>\n",
       "      <th>Medium metropolitan</th>\n",
       "      <th>Small metropolitan</th>\n",
       "      <th>Micropolitan</th>\n",
       "      <th>Noncore</th>\n",
       "      <th>Northeast</th>\n",
       "      <th>Midwest</th>\n",
       "      <th>South</th>\n",
       "      <th>West</th>\n",
       "    </tr>\n",
       "  </thead>\n",
       "  <tbody>\n",
       "    <tr>\n",
       "      <th>2011</th>\n",
       "      <td>540.0</td>\n",
       "      <td>88.6</td>\n",
       "      <td>785.5</td>\n",
       "      <td>798.1</td>\n",
       "      <td>205.3</td>\n",
       "      <td>98.2</td>\n",
       "      <td>743.2</td>\n",
       "      <td>342.0</td>\n",
       "      <td>662.8</td>\n",
       "      <td>515.2</td>\n",
       "      <td>...</td>\n",
       "      <td>657.2</td>\n",
       "      <td>473.9</td>\n",
       "      <td>592.7</td>\n",
       "      <td>462.6</td>\n",
       "      <td>419.4</td>\n",
       "      <td>384.7</td>\n",
       "      <td>1,022.7</td>\n",
       "      <td>490.4</td>\n",
       "      <td>393.8</td>\n",
       "      <td>449.8</td>\n",
       "    </tr>\n",
       "    <tr>\n",
       "      <th>2010</th>\n",
       "      <td>510.2</td>\n",
       "      <td>87.3</td>\n",
       "      <td>734.7</td>\n",
       "      <td>754.6</td>\n",
       "      <td>197.4</td>\n",
       "      <td>102.8</td>\n",
       "      <td>704.3</td>\n",
       "      <td>321.4</td>\n",
       "      <td>692.4</td>\n",
       "      <td>499</td>\n",
       "      <td>...</td>\n",
       "      <td>627.1</td>\n",
       "      <td>454.7</td>\n",
       "      <td>524.5</td>\n",
       "      <td>454</td>\n",
       "      <td>398.1</td>\n",
       "      <td>392.3</td>\n",
       "      <td>990.9</td>\n",
       "      <td>424.3</td>\n",
       "      <td>385</td>\n",
       "      <td>421.4</td>\n",
       "    </tr>\n",
       "    <tr>\n",
       "      <th>2009</th>\n",
       "      <td>487.5</td>\n",
       "      <td>87.1</td>\n",
       "      <td>697.1</td>\n",
       "      <td>715.8</td>\n",
       "      <td>199.3</td>\n",
       "      <td>107</td>\n",
       "      <td>674.7</td>\n",
       "      <td>305.5</td>\n",
       "      <td>627.4</td>\n",
       "      <td>514.8</td>\n",
       "      <td>...</td>\n",
       "      <td>599.2</td>\n",
       "      <td>430.6</td>\n",
       "      <td>494.1</td>\n",
       "      <td>442.7</td>\n",
       "      <td>384.9</td>\n",
       "      <td>392.4</td>\n",
       "      <td>867.4</td>\n",
       "      <td>454.8</td>\n",
       "      <td>388.7</td>\n",
       "      <td>383.7</td>\n",
       "    </tr>\n",
       "    <tr>\n",
       "      <th>2008</th>\n",
       "      <td>457.7</td>\n",
       "      <td>91.9</td>\n",
       "      <td>661.3</td>\n",
       "      <td>648.6</td>\n",
       "      <td>188.4</td>\n",
       "      <td>120.1</td>\n",
       "      <td>628.7</td>\n",
       "      <td>291.6</td>\n",
       "      <td>586.3</td>\n",
       "      <td>477.9</td>\n",
       "      <td>...</td>\n",
       "      <td>514.3</td>\n",
       "      <td>422.4</td>\n",
       "      <td>490.5</td>\n",
       "      <td>448.7</td>\n",
       "      <td>378.3</td>\n",
       "      <td>368</td>\n",
       "      <td>788.9</td>\n",
       "      <td>407.2</td>\n",
       "      <td>377.9</td>\n",
       "      <td>374.7</td>\n",
       "    </tr>\n",
       "    <tr>\n",
       "      <th>2007</th>\n",
       "      <td>437.7</td>\n",
       "      <td>94.6</td>\n",
       "      <td>635.2</td>\n",
       "      <td>611.9</td>\n",
       "      <td>177.9</td>\n",
       "      <td>115.5</td>\n",
       "      <td>602.4</td>\n",
       "      <td>277.7</td>\n",
       "      <td>558.4</td>\n",
       "      <td>419.3</td>\n",
       "      <td>...</td>\n",
       "      <td>477.1</td>\n",
       "      <td>448.2</td>\n",
       "      <td>443.4</td>\n",
       "      <td>405.1</td>\n",
       "      <td>369.7</td>\n",
       "      <td>355.4</td>\n",
       "      <td>748.4</td>\n",
       "      <td>383.7</td>\n",
       "      <td>371</td>\n",
       "      <td>349.5</td>\n",
       "    </tr>\n",
       "  </tbody>\n",
       "</table>\n",
       "<p>5 rows × 22 columns</p>\n",
       "</div>"
      ],
      "text/plain": [
       "Unnamed: 0  Total  0-17  18-44  45-64  65-84 85 and over   Male Female  \\\n",
       "2011        540.0  88.6  785.5  798.1  205.3        98.2  743.2  342.0   \n",
       "2010        510.2  87.3  734.7  754.6  197.4       102.8  704.3  321.4   \n",
       "2009        487.5  87.1  697.1  715.8  199.3         107  674.7  305.5   \n",
       "2008        457.7  91.9  661.3  648.6  188.4       120.1  628.7  291.6   \n",
       "2007        437.7  94.6  635.2  611.9  177.9       115.5  602.4  277.7   \n",
       "\n",
       "Unnamed: 0 First quartile (lowest income) Second quartile  ...    \\\n",
       "2011                                662.8           515.2  ...     \n",
       "2010                                692.4             499  ...     \n",
       "2009                                627.4           514.8  ...     \n",
       "2008                                586.3           477.9  ...     \n",
       "2007                                558.4           419.3  ...     \n",
       "\n",
       "Unnamed: 0 Large central metropolitan Large fringe metropolitan  \\\n",
       "2011                            657.2                     473.9   \n",
       "2010                            627.1                     454.7   \n",
       "2009                            599.2                     430.6   \n",
       "2008                            514.3                     422.4   \n",
       "2007                            477.1                     448.2   \n",
       "\n",
       "Unnamed: 0 Medium metropolitan Small metropolitan Micropolitan Noncore  \\\n",
       "2011                     592.7              462.6        419.4   384.7   \n",
       "2010                     524.5                454        398.1   392.3   \n",
       "2009                     494.1              442.7        384.9   392.4   \n",
       "2008                     490.5              448.7        378.3     368   \n",
       "2007                     443.4              405.1        369.7   355.4   \n",
       "\n",
       "Unnamed: 0 Northeast Midwest  South   West  \n",
       "2011         1,022.7   490.4  393.8  449.8  \n",
       "2010           990.9   424.3    385  421.4  \n",
       "2009           867.4   454.8  388.7  383.7  \n",
       "2008           788.9   407.2  377.9  374.7  \n",
       "2007           748.4   383.7    371  349.5  \n",
       "\n",
       "[5 rows x 22 columns]"
      ]
     },
     "execution_count": 9,
     "metadata": {},
     "output_type": "execute_result"
    }
   ],
   "source": [
    "er = pd.read_csv('NHQR/cleaned_sub_er.csv')\n",
    "er = er.set_index('Unnamed: 0')\n",
    "er= er.T\n",
    "er = er.iloc[:,:-1]\n",
    "er.head()"
   ]
  },
  {
   "cell_type": "code",
   "execution_count": 10,
   "metadata": {
    "collapsed": false
   },
   "outputs": [
    {
     "data": {
      "text/plain": [
       "Index([u'Total', u'0-17', u'18-44', u'45-64', u'65-84', u'85 and over',\n",
       "       u'Male', u'Female', u'First quartile (lowest income)',\n",
       "       u'Second quartile', u'Third quartile',\n",
       "       u'Fourth quartile (highest income)', u'Large central metropolitan',\n",
       "       u'Large fringe metropolitan', u'Medium metropolitan',\n",
       "       u'Small metropolitan', u'Micropolitan', u'Noncore', u'Northeast',\n",
       "       u'Midwest', u'South', u'West'],\n",
       "      dtype='object', name=u'Unnamed: 0')"
      ]
     },
     "execution_count": 10,
     "metadata": {},
     "output_type": "execute_result"
    }
   ],
   "source": [
    "er.columns"
   ]
  },
  {
   "cell_type": "code",
   "execution_count": null,
   "metadata": {
    "collapsed": false
   },
   "outputs": [],
   "source": []
  },
  {
   "cell_type": "code",
   "execution_count": 11,
   "metadata": {
    "collapsed": false
   },
   "outputs": [
    {
     "data": {
      "text/html": [
       "<div>\n",
       "<table border=\"1\" class=\"dataframe\">\n",
       "  <thead>\n",
       "    <tr style=\"text-align: right;\">\n",
       "      <th>Unnamed: 0</th>\n",
       "      <th>Total</th>\n",
       "      <th>0-17</th>\n",
       "      <th>18-44</th>\n",
       "      <th>45-64</th>\n",
       "      <th>65-84</th>\n",
       "      <th>85 and over</th>\n",
       "      <th>Male</th>\n",
       "      <th>Female</th>\n",
       "      <th>First quartile (lowest income)</th>\n",
       "      <th>Second quartile</th>\n",
       "      <th>...</th>\n",
       "      <th>Large fringe metropolitan</th>\n",
       "      <th>Medium metropolitan</th>\n",
       "      <th>Small metropolitan</th>\n",
       "      <th>Micropolitan</th>\n",
       "      <th>Noncore</th>\n",
       "      <th>Northeast</th>\n",
       "      <th>Midwest</th>\n",
       "      <th>South</th>\n",
       "      <th>West</th>\n",
       "      <th>year</th>\n",
       "    </tr>\n",
       "  </thead>\n",
       "  <tbody>\n",
       "    <tr>\n",
       "      <th>2007</th>\n",
       "      <td>437.7</td>\n",
       "      <td>94.6</td>\n",
       "      <td>635.2</td>\n",
       "      <td>611.9</td>\n",
       "      <td>177.9</td>\n",
       "      <td>115.5</td>\n",
       "      <td>602.4</td>\n",
       "      <td>277.7</td>\n",
       "      <td>558.4</td>\n",
       "      <td>419.3</td>\n",
       "      <td>...</td>\n",
       "      <td>448.2</td>\n",
       "      <td>443.4</td>\n",
       "      <td>405.1</td>\n",
       "      <td>369.7</td>\n",
       "      <td>355.4</td>\n",
       "      <td>748.4</td>\n",
       "      <td>383.7</td>\n",
       "      <td>371.0</td>\n",
       "      <td>349.5</td>\n",
       "      <td>2007</td>\n",
       "    </tr>\n",
       "    <tr>\n",
       "      <th>2008</th>\n",
       "      <td>457.7</td>\n",
       "      <td>91.9</td>\n",
       "      <td>661.3</td>\n",
       "      <td>648.6</td>\n",
       "      <td>188.4</td>\n",
       "      <td>120.1</td>\n",
       "      <td>628.7</td>\n",
       "      <td>291.6</td>\n",
       "      <td>586.3</td>\n",
       "      <td>477.9</td>\n",
       "      <td>...</td>\n",
       "      <td>422.4</td>\n",
       "      <td>490.5</td>\n",
       "      <td>448.7</td>\n",
       "      <td>378.3</td>\n",
       "      <td>368.0</td>\n",
       "      <td>788.9</td>\n",
       "      <td>407.2</td>\n",
       "      <td>377.9</td>\n",
       "      <td>374.7</td>\n",
       "      <td>2008</td>\n",
       "    </tr>\n",
       "    <tr>\n",
       "      <th>2009</th>\n",
       "      <td>487.5</td>\n",
       "      <td>87.1</td>\n",
       "      <td>697.1</td>\n",
       "      <td>715.8</td>\n",
       "      <td>199.3</td>\n",
       "      <td>107.0</td>\n",
       "      <td>674.7</td>\n",
       "      <td>305.5</td>\n",
       "      <td>627.4</td>\n",
       "      <td>514.8</td>\n",
       "      <td>...</td>\n",
       "      <td>430.6</td>\n",
       "      <td>494.1</td>\n",
       "      <td>442.7</td>\n",
       "      <td>384.9</td>\n",
       "      <td>392.4</td>\n",
       "      <td>867.4</td>\n",
       "      <td>454.8</td>\n",
       "      <td>388.7</td>\n",
       "      <td>383.7</td>\n",
       "      <td>2009</td>\n",
       "    </tr>\n",
       "    <tr>\n",
       "      <th>2010</th>\n",
       "      <td>510.2</td>\n",
       "      <td>87.3</td>\n",
       "      <td>734.7</td>\n",
       "      <td>754.6</td>\n",
       "      <td>197.4</td>\n",
       "      <td>102.8</td>\n",
       "      <td>704.3</td>\n",
       "      <td>321.4</td>\n",
       "      <td>692.4</td>\n",
       "      <td>499.0</td>\n",
       "      <td>...</td>\n",
       "      <td>454.7</td>\n",
       "      <td>524.5</td>\n",
       "      <td>454.0</td>\n",
       "      <td>398.1</td>\n",
       "      <td>392.3</td>\n",
       "      <td>990.9</td>\n",
       "      <td>424.3</td>\n",
       "      <td>385.0</td>\n",
       "      <td>421.4</td>\n",
       "      <td>2010</td>\n",
       "    </tr>\n",
       "    <tr>\n",
       "      <th>2011</th>\n",
       "      <td>540.0</td>\n",
       "      <td>88.6</td>\n",
       "      <td>785.5</td>\n",
       "      <td>798.1</td>\n",
       "      <td>205.3</td>\n",
       "      <td>98.2</td>\n",
       "      <td>743.2</td>\n",
       "      <td>342.0</td>\n",
       "      <td>662.8</td>\n",
       "      <td>515.2</td>\n",
       "      <td>...</td>\n",
       "      <td>473.9</td>\n",
       "      <td>592.7</td>\n",
       "      <td>462.6</td>\n",
       "      <td>419.4</td>\n",
       "      <td>384.7</td>\n",
       "      <td>1022.7</td>\n",
       "      <td>490.4</td>\n",
       "      <td>393.8</td>\n",
       "      <td>449.8</td>\n",
       "      <td>2011</td>\n",
       "    </tr>\n",
       "  </tbody>\n",
       "</table>\n",
       "<p>5 rows × 23 columns</p>\n",
       "</div>"
      ],
      "text/plain": [
       "Unnamed: 0  Total  0-17  18-44  45-64  65-84  85 and over   Male  Female  \\\n",
       "2007        437.7  94.6  635.2  611.9  177.9        115.5  602.4   277.7   \n",
       "2008        457.7  91.9  661.3  648.6  188.4        120.1  628.7   291.6   \n",
       "2009        487.5  87.1  697.1  715.8  199.3        107.0  674.7   305.5   \n",
       "2010        510.2  87.3  734.7  754.6  197.4        102.8  704.3   321.4   \n",
       "2011        540.0  88.6  785.5  798.1  205.3         98.2  743.2   342.0   \n",
       "\n",
       "Unnamed: 0  First quartile (lowest income)  Second quartile  ...   \\\n",
       "2007                                 558.4            419.3  ...    \n",
       "2008                                 586.3            477.9  ...    \n",
       "2009                                 627.4            514.8  ...    \n",
       "2010                                 692.4            499.0  ...    \n",
       "2011                                 662.8            515.2  ...    \n",
       "\n",
       "Unnamed: 0  Large fringe metropolitan  Medium metropolitan  \\\n",
       "2007                            448.2                443.4   \n",
       "2008                            422.4                490.5   \n",
       "2009                            430.6                494.1   \n",
       "2010                            454.7                524.5   \n",
       "2011                            473.9                592.7   \n",
       "\n",
       "Unnamed: 0  Small metropolitan  Micropolitan  Noncore  Northeast  Midwest  \\\n",
       "2007                     405.1         369.7    355.4      748.4    383.7   \n",
       "2008                     448.7         378.3    368.0      788.9    407.2   \n",
       "2009                     442.7         384.9    392.4      867.4    454.8   \n",
       "2010                     454.0         398.1    392.3      990.9    424.3   \n",
       "2011                     462.6         419.4    384.7     1022.7    490.4   \n",
       "\n",
       "Unnamed: 0  South   West  year  \n",
       "2007        371.0  349.5  2007  \n",
       "2008        377.9  374.7  2008  \n",
       "2009        388.7  383.7  2009  \n",
       "2010        385.0  421.4  2010  \n",
       "2011        393.8  449.8  2011  \n",
       "\n",
       "[5 rows x 23 columns]"
      ]
     },
     "execution_count": 11,
     "metadata": {},
     "output_type": "execute_result"
    }
   ],
   "source": [
    "def er_clean(val):\n",
    "    val = str(val)\n",
    "    val = val.replace(\",\", \"\")\n",
    "    return float(val)\n",
    "\n",
    "\n",
    "er = er.applymap(er_clean)\n",
    "er['year']=er.index\n",
    "er['year'] = er['year'].apply(lambda x: int(x))\n",
    "er = er.sort_values(by='year')\n",
    "er.head()"
   ]
  },
  {
   "cell_type": "code",
   "execution_count": 12,
   "metadata": {
    "collapsed": false
   },
   "outputs": [
    {
     "data": {
      "text/plain": [
       "<matplotlib.text.Text at 0x11d360ad0>"
      ]
     },
     "execution_count": 12,
     "metadata": {},
     "output_type": "execute_result"
    },
    {
     "data": {
      "image/png": "[encoded data removed]",
      "text/plain": [
       "<matplotlib.figure.Figure at 0x11d1cdfd0>"
      ]
     },
     "metadata": {},
     "output_type": "display_data"
    }
   ],
   "source": [
    "sns.regplot(data=er, x='year', y='Male', color='blue')\n",
    "sns.regplot(data=er, x='year', y='Female', color='red')\n",
    "\n",
    "plt.title(\"Change in Substance-Related ER Visits Over Time\")\n"
   ]
  },
  {
   "cell_type": "code",
   "execution_count": 13,
   "metadata": {
    "collapsed": false
   },
   "outputs": [
    {
     "data": {
      "text/plain": [
       "<matplotlib.axes._subplots.AxesSubplot at 0x11d3e1490>"
      ]
     },
     "execution_count": 13,
     "metadata": {},
     "output_type": "execute_result"
    },
    {
     "data": {
      "image/png": "[encoded data removed]",
      "text/plain": [
       "<matplotlib.figure.Figure at 0x11d1cda90>"
      ]
     },
     "metadata": {},
     "output_type": "display_data"
    }
   ],
   "source": [
    "er['econ_diff'] = er['First quartile (lowest income)']- er['Fourth quartile (highest income)']\n",
    "\n",
    "sns.regplot(data=er, x='year', y='First quartile (lowest income)', color='red')\n",
    "sns.regplot(data=er, x='year', y='Second quartile', color='blue')\n",
    "sns.regplot(data=er, x='year', y='Third quartile', color='yellow')\n",
    "sns.regplot(data=er, x='year', y='Fourth quartile (highest income)', color='green')\n",
    "sns.regplot(data=er, x='year', y='econ_diff', color='orange') #no departure, just upward trend among all classes"
   ]
  },
  {
   "cell_type": "code",
   "execution_count": 14,
   "metadata": {
    "collapsed": false
   },
   "outputs": [
    {
     "data": {
      "text/plain": [
       "<matplotlib.axes._subplots.AxesSubplot at 0x11d3f8c50>"
      ]
     },
     "execution_count": 14,
     "metadata": {},
     "output_type": "execute_result"
    },
    {
     "data": {
      "image/png": "[encoded data removed]",
      "text/plain": [
       "<matplotlib.figure.Figure at 0x11d3425d0>"
      ]
     },
     "metadata": {},
     "output_type": "display_data"
    }
   ],
   "source": [
    "sns.regplot(data=er, x='year', y='Midwest', color='orange')\n",
    "sns.regplot(data=er, x='year', y='South', color='green')\n",
    "sns.regplot(data=er, x='year', y='West', color='blue')\n",
    "sns.regplot(data=er, x='year', y='Northeast', color='red') #Northeast stands out in a major way on this plot\n"
   ]
  },
  {
   "cell_type": "code",
   "execution_count": 15,
   "metadata": {
    "collapsed": false
   },
   "outputs": [
    {
     "data": {
      "text/plain": [
       "<matplotlib.text.Text at 0x11e8875d0>"
      ]
     },
     "execution_count": 15,
     "metadata": {},
     "output_type": "execute_result"
    },
    {
     "data": {
      "image/png": "[encoded data removed]",
      "text/plain": [
       "<matplotlib.figure.Figure at 0x11e21ea10>"
      ]
     },
     "metadata": {},
     "output_type": "display_data"
    }
   ],
   "source": [
    "# sns.regplot(data=er, x='year', y='First quartile (lowest income)')\n",
    "\n",
    "plt.scatter(er['year'], er['0-17'], c='red')\n",
    "plt.scatter(er['year'], er['18-44'], c='blue')\n",
    "plt.scatter(er['year'], er['45-64'], c='green')\n",
    "plt.scatter(er['year'], er['65-84'], c='purple')\n",
    "plt.scatter(er['year'], er['85 and over'], c='orange')\n",
    "\n",
    "\n",
    "\n",
    "plt.title(\"Change in Substance-Related ER Visits Over Time\")\n",
    "\n"
   ]
  },
  {
   "cell_type": "code",
   "execution_count": 16,
   "metadata": {
    "collapsed": false
   },
   "outputs": [
    {
     "data": {
      "text/plain": [
       "<matplotlib.axes._subplots.AxesSubplot at 0x11e868d90>"
      ]
     },
     "execution_count": 16,
     "metadata": {},
     "output_type": "execute_result"
    },
    {
     "data": {
      "image/png": "[encoded data removed]",
      "text/plain": [
       "<matplotlib.figure.Figure at 0x11e90a1d0>"
      ]
     },
     "metadata": {},
     "output_type": "display_data"
    }
   ],
   "source": [
    "\n",
    "sns.regplot(data=er, x='year', y='Large central metropolitan', color='red')\n",
    "sns.regplot(data=er, x='year', y='Large fringe metropolitan', color='blue')\n",
    "sns.regplot(data=er, x='year', y='Medium metropolitan', color='yellow')\n",
    "sns.regplot(data=er, x='year', y='Small metropolitan', color='green')\n",
    "sns.regplot(data=er, x='year', y='Micropolitan', color='orange') #no departure, just upward trend among all classes\n",
    "sns.regplot(data=er, x='year', y='Noncore', color='purple')\n",
    "\n"
   ]
  },
  {
   "cell_type": "code",
   "execution_count": 17,
   "metadata": {
    "collapsed": false
   },
   "outputs": [
    {
     "data": {
      "text/html": [
       "<div>\n",
       "<table border=\"1\" class=\"dataframe\">\n",
       "  <thead>\n",
       "    <tr style=\"text-align: right;\">\n",
       "      <th>Unnamed: 0</th>\n",
       "      <th>Total</th>\n",
       "      <th>0-17</th>\n",
       "      <th>18-44</th>\n",
       "      <th>45-64</th>\n",
       "      <th>65-84</th>\n",
       "      <th>85 and over</th>\n",
       "      <th>Male</th>\n",
       "      <th>Female</th>\n",
       "      <th>First quartile (lowest income)</th>\n",
       "      <th>Second quartile</th>\n",
       "      <th>...</th>\n",
       "      <th>Medium metropolitan</th>\n",
       "      <th>Small metropolitan</th>\n",
       "      <th>Micropolitan</th>\n",
       "      <th>Noncore</th>\n",
       "      <th>Northeast</th>\n",
       "      <th>Midwest</th>\n",
       "      <th>South</th>\n",
       "      <th>West</th>\n",
       "      <th>year</th>\n",
       "      <th>econ_diff</th>\n",
       "    </tr>\n",
       "  </thead>\n",
       "  <tbody>\n",
       "    <tr>\n",
       "      <th>2007</th>\n",
       "      <td>437.7</td>\n",
       "      <td>94.6</td>\n",
       "      <td>635.2</td>\n",
       "      <td>611.9</td>\n",
       "      <td>177.9</td>\n",
       "      <td>115.5</td>\n",
       "      <td>602.4</td>\n",
       "      <td>277.7</td>\n",
       "      <td>558.4</td>\n",
       "      <td>419.3</td>\n",
       "      <td>...</td>\n",
       "      <td>443.4</td>\n",
       "      <td>405.1</td>\n",
       "      <td>369.7</td>\n",
       "      <td>355.4</td>\n",
       "      <td>748.4</td>\n",
       "      <td>383.7</td>\n",
       "      <td>371.0</td>\n",
       "      <td>349.5</td>\n",
       "      <td>2007</td>\n",
       "      <td>186.0</td>\n",
       "    </tr>\n",
       "    <tr>\n",
       "      <th>2008</th>\n",
       "      <td>457.7</td>\n",
       "      <td>91.9</td>\n",
       "      <td>661.3</td>\n",
       "      <td>648.6</td>\n",
       "      <td>188.4</td>\n",
       "      <td>120.1</td>\n",
       "      <td>628.7</td>\n",
       "      <td>291.6</td>\n",
       "      <td>586.3</td>\n",
       "      <td>477.9</td>\n",
       "      <td>...</td>\n",
       "      <td>490.5</td>\n",
       "      <td>448.7</td>\n",
       "      <td>378.3</td>\n",
       "      <td>368.0</td>\n",
       "      <td>788.9</td>\n",
       "      <td>407.2</td>\n",
       "      <td>377.9</td>\n",
       "      <td>374.7</td>\n",
       "      <td>2008</td>\n",
       "      <td>209.8</td>\n",
       "    </tr>\n",
       "    <tr>\n",
       "      <th>2009</th>\n",
       "      <td>487.5</td>\n",
       "      <td>87.1</td>\n",
       "      <td>697.1</td>\n",
       "      <td>715.8</td>\n",
       "      <td>199.3</td>\n",
       "      <td>107.0</td>\n",
       "      <td>674.7</td>\n",
       "      <td>305.5</td>\n",
       "      <td>627.4</td>\n",
       "      <td>514.8</td>\n",
       "      <td>...</td>\n",
       "      <td>494.1</td>\n",
       "      <td>442.7</td>\n",
       "      <td>384.9</td>\n",
       "      <td>392.4</td>\n",
       "      <td>867.4</td>\n",
       "      <td>454.8</td>\n",
       "      <td>388.7</td>\n",
       "      <td>383.7</td>\n",
       "      <td>2009</td>\n",
       "      <td>243.1</td>\n",
       "    </tr>\n",
       "    <tr>\n",
       "      <th>2010</th>\n",
       "      <td>510.2</td>\n",
       "      <td>87.3</td>\n",
       "      <td>734.7</td>\n",
       "      <td>754.6</td>\n",
       "      <td>197.4</td>\n",
       "      <td>102.8</td>\n",
       "      <td>704.3</td>\n",
       "      <td>321.4</td>\n",
       "      <td>692.4</td>\n",
       "      <td>499.0</td>\n",
       "      <td>...</td>\n",
       "      <td>524.5</td>\n",
       "      <td>454.0</td>\n",
       "      <td>398.1</td>\n",
       "      <td>392.3</td>\n",
       "      <td>990.9</td>\n",
       "      <td>424.3</td>\n",
       "      <td>385.0</td>\n",
       "      <td>421.4</td>\n",
       "      <td>2010</td>\n",
       "      <td>275.7</td>\n",
       "    </tr>\n",
       "    <tr>\n",
       "      <th>2011</th>\n",
       "      <td>540.0</td>\n",
       "      <td>88.6</td>\n",
       "      <td>785.5</td>\n",
       "      <td>798.1</td>\n",
       "      <td>205.3</td>\n",
       "      <td>98.2</td>\n",
       "      <td>743.2</td>\n",
       "      <td>342.0</td>\n",
       "      <td>662.8</td>\n",
       "      <td>515.2</td>\n",
       "      <td>...</td>\n",
       "      <td>592.7</td>\n",
       "      <td>462.6</td>\n",
       "      <td>419.4</td>\n",
       "      <td>384.7</td>\n",
       "      <td>1022.7</td>\n",
       "      <td>490.4</td>\n",
       "      <td>393.8</td>\n",
       "      <td>449.8</td>\n",
       "      <td>2011</td>\n",
       "      <td>184.5</td>\n",
       "    </tr>\n",
       "  </tbody>\n",
       "</table>\n",
       "<p>5 rows × 24 columns</p>\n",
       "</div>"
      ],
      "text/plain": [
       "Unnamed: 0  Total  0-17  18-44  45-64  65-84  85 and over   Male  Female  \\\n",
       "2007        437.7  94.6  635.2  611.9  177.9        115.5  602.4   277.7   \n",
       "2008        457.7  91.9  661.3  648.6  188.4        120.1  628.7   291.6   \n",
       "2009        487.5  87.1  697.1  715.8  199.3        107.0  674.7   305.5   \n",
       "2010        510.2  87.3  734.7  754.6  197.4        102.8  704.3   321.4   \n",
       "2011        540.0  88.6  785.5  798.1  205.3         98.2  743.2   342.0   \n",
       "\n",
       "Unnamed: 0  First quartile (lowest income)  Second quartile    ...      \\\n",
       "2007                                 558.4            419.3    ...       \n",
       "2008                                 586.3            477.9    ...       \n",
       "2009                                 627.4            514.8    ...       \n",
       "2010                                 692.4            499.0    ...       \n",
       "2011                                 662.8            515.2    ...       \n",
       "\n",
       "Unnamed: 0  Medium metropolitan  Small metropolitan  Micropolitan  Noncore  \\\n",
       "2007                      443.4               405.1         369.7    355.4   \n",
       "2008                      490.5               448.7         378.3    368.0   \n",
       "2009                      494.1               442.7         384.9    392.4   \n",
       "2010                      524.5               454.0         398.1    392.3   \n",
       "2011                      592.7               462.6         419.4    384.7   \n",
       "\n",
       "Unnamed: 0  Northeast  Midwest  South   West  year  econ_diff  \n",
       "2007            748.4    383.7  371.0  349.5  2007      186.0  \n",
       "2008            788.9    407.2  377.9  374.7  2008      209.8  \n",
       "2009            867.4    454.8  388.7  383.7  2009      243.1  \n",
       "2010            990.9    424.3  385.0  421.4  2010      275.7  \n",
       "2011           1022.7    490.4  393.8  449.8  2011      184.5  \n",
       "\n",
       "[5 rows x 24 columns]"
      ]
     },
     "execution_count": 17,
     "metadata": {},
     "output_type": "execute_result"
    }
   ],
   "source": [
    "er.head()"
   ]
  },
  {
   "cell_type": "code",
   "execution_count": 18,
   "metadata": {
    "collapsed": false
   },
   "outputs": [
    {
     "data": {
      "text/html": [
       "<div>\n",
       "<table border=\"1\" class=\"dataframe\">\n",
       "  <thead>\n",
       "    <tr style=\"text-align: right;\">\n",
       "      <th></th>\n",
       "      <th>Notes</th>\n",
       "      <th>County</th>\n",
       "      <th>County Code</th>\n",
       "      <th>Deaths</th>\n",
       "      <th>Population</th>\n",
       "      <th>Crude Rate</th>\n",
       "      <th>Crude Rate Lower 95% Confidence Interval</th>\n",
       "      <th>Crude Rate Upper 95% Confidence Interval</th>\n",
       "    </tr>\n",
       "  </thead>\n",
       "  <tbody>\n",
       "    <tr>\n",
       "      <th>0</th>\n",
       "      <td>NaN</td>\n",
       "      <td>Autauga County, AL</td>\n",
       "      <td>1001.0</td>\n",
       "      <td>6850.0</td>\n",
       "      <td>809412.0</td>\n",
       "      <td>846.29336</td>\n",
       "      <td>826.25179</td>\n",
       "      <td>866.33493</td>\n",
       "    </tr>\n",
       "    <tr>\n",
       "      <th>1</th>\n",
       "      <td>NaN</td>\n",
       "      <td>Baldwin County, AL</td>\n",
       "      <td>1003.0</td>\n",
       "      <td>26226.0</td>\n",
       "      <td>2691941.0</td>\n",
       "      <td>974.24126</td>\n",
       "      <td>962.45010</td>\n",
       "      <td>986.03242</td>\n",
       "    </tr>\n",
       "    <tr>\n",
       "      <th>2</th>\n",
       "      <td>NaN</td>\n",
       "      <td>Barbour County, AL</td>\n",
       "      <td>1005.0</td>\n",
       "      <td>4646.0</td>\n",
       "      <td>447151.0</td>\n",
       "      <td>1039.02261</td>\n",
       "      <td>1009.14530</td>\n",
       "      <td>1068.89992</td>\n",
       "    </tr>\n",
       "    <tr>\n",
       "      <th>3</th>\n",
       "      <td>NaN</td>\n",
       "      <td>Bibb County, AL</td>\n",
       "      <td>1007.0</td>\n",
       "      <td>3612.0</td>\n",
       "      <td>352254.0</td>\n",
       "      <td>1025.39645</td>\n",
       "      <td>991.95585</td>\n",
       "      <td>1058.83704</td>\n",
       "    </tr>\n",
       "    <tr>\n",
       "      <th>4</th>\n",
       "      <td>NaN</td>\n",
       "      <td>Blount County, AL</td>\n",
       "      <td>1009.0</td>\n",
       "      <td>8602.0</td>\n",
       "      <td>882399.0</td>\n",
       "      <td>974.84245</td>\n",
       "      <td>954.24133</td>\n",
       "      <td>995.44356</td>\n",
       "    </tr>\n",
       "  </tbody>\n",
       "</table>\n",
       "</div>"
      ],
      "text/plain": [
       "  Notes              County  County Code   Deaths  Population  Crude Rate  \\\n",
       "0   NaN  Autauga County, AL       1001.0   6850.0    809412.0   846.29336   \n",
       "1   NaN  Baldwin County, AL       1003.0  26226.0   2691941.0   974.24126   \n",
       "2   NaN  Barbour County, AL       1005.0   4646.0    447151.0  1039.02261   \n",
       "3   NaN     Bibb County, AL       1007.0   3612.0    352254.0  1025.39645   \n",
       "4   NaN   Blount County, AL       1009.0   8602.0    882399.0   974.84245   \n",
       "\n",
       "   Crude Rate Lower 95% Confidence Interval  \\\n",
       "0                                 826.25179   \n",
       "1                                 962.45010   \n",
       "2                                1009.14530   \n",
       "3                                 991.95585   \n",
       "4                                 954.24133   \n",
       "\n",
       "   Crude Rate Upper 95% Confidence Interval  \n",
       "0                                 866.33493  \n",
       "1                                 986.03242  \n",
       "2                                1068.89992  \n",
       "3                                1058.83704  \n",
       "4                                 995.44356  "
      ]
     },
     "execution_count": 18,
     "metadata": {},
     "output_type": "execute_result"
    }
   ],
   "source": [
    "#http://wonder.cdc.gov/ucd-icd10.html pulled from CDC wonder\n",
    "#http://wonder.cdc.gov/controller/datarequest/D76 - may be more ways to slice this file, this gets drug-related deaths\n",
    "\n",
    "death = pd.read_csv('Underlying Cause of Death, 1999-2014.txt', delimiter=\"\\t\")\n",
    "death.head()"
   ]
  },
  {
   "cell_type": "code",
   "execution_count": 19,
   "metadata": {
    "collapsed": false
   },
   "outputs": [
    {
     "data": {
      "text/plain": [
       "8602.0"
      ]
     },
     "execution_count": 19,
     "metadata": {},
     "output_type": "execute_result"
    }
   ],
   "source": [
    "8602.0\t"
   ]
  },
  {
   "cell_type": "code",
   "execution_count": 20,
   "metadata": {
    "collapsed": false
   },
   "outputs": [
    {
     "data": {
      "text/plain": [
       "Index([u'Notes', u'County', u'County Code', u'Deaths', u'Population',\n",
       "       u'Crude Rate', u'Crude Rate Lower 95% Confidence Interval',\n",
       "       u'Crude Rate Upper 95% Confidence Interval'],\n",
       "      dtype='object')"
      ]
     },
     "execution_count": 20,
     "metadata": {},
     "output_type": "execute_result"
    }
   ],
   "source": [
    "death.iloc[:,3:] = death.iloc[:,3:].apply(lambda x: x.replace(\" \",\"\"))\n",
    "# death.iloc[:,3:] = death.iloc[:,3:].apply(lambda x: float(x))\n",
    "# death.head() # can clean this up same way as other\n",
    "\n",
    "death.columns"
   ]
  },
  {
   "cell_type": "code",
   "execution_count": 21,
   "metadata": {
    "collapsed": false
   },
   "outputs": [
    {
     "data": {
      "text/plain": [
       "3259"
      ]
     },
     "execution_count": 21,
     "metadata": {},
     "output_type": "execute_result"
    }
   ],
   "source": [
    "len(set(death['County Code'])) #there are about 3,000 counties in America, so this seems to have every state"
   ]
  },
  {
   "cell_type": "code",
   "execution_count": 22,
   "metadata": {
    "collapsed": false
   },
   "outputs": [
    {
     "data": {
      "text/plain": [
       "TX       254\n",
       "GA       159\n",
       "VA       135\n",
       "KY       120\n",
       "MO       115\n",
       "error    113\n",
       "KS       105\n",
       "IL       102\n",
       "NC       100\n",
       "IA        99\n",
       "TN        95\n",
       "NE        93\n",
       "IN        92\n",
       "OH        88\n",
       "MN        87\n",
       "MI        83\n",
       "MS        82\n",
       "OK        77\n",
       "AR        75\n",
       "WI        72\n",
       "PA        67\n",
       "FL        67\n",
       "AL        67\n",
       "SD        66\n",
       "CO        64\n",
       "LA        64\n",
       "NY        62\n",
       "CA        58\n",
       "MT        56\n",
       "WV        55\n",
       "ND        53\n",
       "SC        46\n",
       "ID        44\n",
       "WA        39\n",
       "OR        36\n",
       "NM        33\n",
       "AK        31\n",
       "UT        29\n",
       "MD        24\n",
       "WY        23\n",
       "NJ        21\n",
       "NV        17\n",
       "ME        16\n",
       "AZ        15\n",
       "MA        14\n",
       "VT        14\n",
       "NH        10\n",
       "CT         8\n",
       "RI         5\n",
       "HI         5\n",
       "DE         3\n",
       "DC         1\n",
       "Name: State, dtype: int64"
      ]
     },
     "execution_count": 22,
     "metadata": {},
     "output_type": "execute_result"
    }
   ],
   "source": [
    "def state_extract(county):\n",
    "    x = str(county)\n",
    "    try:\n",
    "        return x.split(\", \")[1]\n",
    "    except:\n",
    "        return 'error'\n",
    "        \n",
    "\n",
    "death['State'] = death['County'].apply(state_extract)\n",
    "# death['']\n",
    "\n",
    "death['State'].value_counts()"
   ]
  },
  {
   "cell_type": "code",
   "execution_count": null,
   "metadata": {
    "collapsed": false
   },
   "outputs": [],
   "source": []
  },
  {
   "cell_type": "markdown",
   "metadata": {},
   "source": [
    "## Medicare Claims by State\n",
    "\n",
    "https://www.cms.gov/Research-Statistics-Data-and-Systems/Statistics-Trends-and-Reports/Medicare-Provider-Charge-Data/OpioidMap.html\n",
    "\n",
    "- really good source for relative states\n",
    "Part_D_Opioid_Geographic_Data -- folder\n",
    "\n"
   ]
  },
  {
   "cell_type": "markdown",
   "metadata": {},
   "source": [
    "## Price Purity data from table 2, 2013 Heroin Domestic Monitor Program.pdf"
   ]
  },
  {
   "cell_type": "code",
   "execution_count": 23,
   "metadata": {
    "collapsed": false
   },
   "outputs": [
    {
     "data": {
      "text/html": [
       "<div>\n",
       "<table border=\"1\" class=\"dataframe\">\n",
       "  <thead>\n",
       "    <tr style=\"text-align: right;\">\n",
       "      <th></th>\n",
       "      <th>Heroin soUrces</th>\n",
       "      <th>2009</th>\n",
       "      <th>2010</th>\n",
       "      <th>2011</th>\n",
       "      <th>2012</th>\n",
       "      <th>2013</th>\n",
       "    </tr>\n",
       "  </thead>\n",
       "  <tbody>\n",
       "    <tr>\n",
       "      <th>0</th>\n",
       "      <td>souTh aMeriCa saMPles</td>\n",
       "      <td>341</td>\n",
       "      <td>346</td>\n",
       "      <td>323</td>\n",
       "      <td>375</td>\n",
       "      <td>334</td>\n",
       "    </tr>\n",
       "    <tr>\n",
       "      <th>1</th>\n",
       "      <td>souTh aMeriCa PerCenT Pure</td>\n",
       "      <td>33.6%</td>\n",
       "      <td>25.9%</td>\n",
       "      <td>31.1%</td>\n",
       "      <td>35.3%</td>\n",
       "      <td>35.1%</td>\n",
       "    </tr>\n",
       "    <tr>\n",
       "      <th>2</th>\n",
       "      <td>souTh aMeriCa PriCe Per MilligraM Pure</td>\n",
       "      <td>$1.28</td>\n",
       "      <td>$1.75</td>\n",
       "      <td>$1.18</td>\n",
       "      <td>$1.15</td>\n",
       "      <td>$1.04</td>\n",
       "    </tr>\n",
       "    <tr>\n",
       "      <th>3</th>\n",
       "      <td>MexiCo saMPles</td>\n",
       "      <td>322</td>\n",
       "      <td>309</td>\n",
       "      <td>296</td>\n",
       "      <td>339</td>\n",
       "      <td>293</td>\n",
       "    </tr>\n",
       "    <tr>\n",
       "      <th>4</th>\n",
       "      <td>MexiCo PerCenT Pure</td>\n",
       "      <td>24.7%</td>\n",
       "      <td>14.7%</td>\n",
       "      <td>16.8%</td>\n",
       "      <td>17.6%</td>\n",
       "      <td>16.9%</td>\n",
       "    </tr>\n",
       "    <tr>\n",
       "      <th>5</th>\n",
       "      <td>MexiCo PriCe Per MilligraM Pure</td>\n",
       "      <td>$1.11</td>\n",
       "      <td>$2.00</td>\n",
       "      <td>$1.35</td>\n",
       "      <td>$1.40</td>\n",
       "      <td>$1.12</td>\n",
       "    </tr>\n",
       "    <tr>\n",
       "      <th>6</th>\n",
       "      <td>allegeD MexiCo whiTe saMPles</td>\n",
       "      <td>N/A</td>\n",
       "      <td>N/A</td>\n",
       "      <td>N/A</td>\n",
       "      <td>N/A</td>\n",
       "      <td>64</td>\n",
       "    </tr>\n",
       "    <tr>\n",
       "      <th>7</th>\n",
       "      <td>allegeD MexiCo whiTe PerCenT Pure</td>\n",
       "      <td>N/A</td>\n",
       "      <td>N/A</td>\n",
       "      <td>N/A</td>\n",
       "      <td>N/A</td>\n",
       "      <td>35.5</td>\n",
       "    </tr>\n",
       "    <tr>\n",
       "      <th>8</th>\n",
       "      <td>allegeD MexiCo whiTe PriCe Per MilligraM Pure</td>\n",
       "      <td>N/A</td>\n",
       "      <td>N/A</td>\n",
       "      <td>N/A</td>\n",
       "      <td>N/A</td>\n",
       "      <td>$1.21</td>\n",
       "    </tr>\n",
       "    <tr>\n",
       "      <th>9</th>\n",
       "      <td>souThwesT asia saMPles</td>\n",
       "      <td>31</td>\n",
       "      <td>39</td>\n",
       "      <td>23</td>\n",
       "      <td>12</td>\n",
       "      <td>8</td>\n",
       "    </tr>\n",
       "    <tr>\n",
       "      <th>10</th>\n",
       "      <td>souThwesT asia PerCenT Pure</td>\n",
       "      <td>15.8%</td>\n",
       "      <td>20.9%</td>\n",
       "      <td>12.3%</td>\n",
       "      <td>18.6%</td>\n",
       "      <td>23%</td>\n",
       "    </tr>\n",
       "    <tr>\n",
       "      <th>11</th>\n",
       "      <td>souThwesT asia PriCe Per MilligraM Pure</td>\n",
       "      <td>$1.94</td>\n",
       "      <td>$1.21</td>\n",
       "      <td>$1.66</td>\n",
       "      <td>$1.10</td>\n",
       "      <td>$1.23</td>\n",
       "    </tr>\n",
       "  </tbody>\n",
       "</table>\n",
       "</div>"
      ],
      "text/plain": [
       "                                   Heroin soUrces    2009   2010   2011  \\\n",
       "0                           souTh aMeriCa saMPles     341    346    323   \n",
       "1                      souTh aMeriCa PerCenT Pure   33.6%  25.9%  31.1%   \n",
       "2          souTh aMeriCa PriCe Per MilligraM Pure   $1.28  $1.75  $1.18   \n",
       "3                                  MexiCo saMPles     322    309    296   \n",
       "4                             MexiCo PerCenT Pure   24.7%  14.7%  16.8%   \n",
       "5                 MexiCo PriCe Per MilligraM Pure   $1.11  $2.00  $1.35   \n",
       "6                    allegeD MexiCo whiTe saMPles    N/A    N/A    N/A    \n",
       "7               allegeD MexiCo whiTe PerCenT Pure    N/A    N/A    N/A    \n",
       "8   allegeD MexiCo whiTe PriCe Per MilligraM Pure    N/A    N/A    N/A    \n",
       "9                          souThwesT asia saMPles      31     39     23   \n",
       "10                    souThwesT asia PerCenT Pure   15.8%  20.9%  12.3%   \n",
       "11        souThwesT asia PriCe Per MilligraM Pure   $1.94  $1.21  $1.66   \n",
       "\n",
       "     2012   2013  \n",
       "0     375    334  \n",
       "1   35.3%  35.1%  \n",
       "2   $1.15  $1.04  \n",
       "3     339    293  \n",
       "4   17.6%  16.9%  \n",
       "5   $1.40  $1.12  \n",
       "6    N/A      64  \n",
       "7    N/A    35.5  \n",
       "8    N/A   $1.21  \n",
       "9      12      8  \n",
       "10  18.6%    23%  \n",
       "11  $1.10  $1.23  "
      ]
     },
     "execution_count": 23,
     "metadata": {},
     "output_type": "execute_result"
    }
   ],
   "source": [
    "price_purity = pd.read_csv('drug_purityprice-09-14.csv')\n",
    "price_purity=price_purity.iloc[:12, :6]\n",
    "price_purity.head(15)"
   ]
  },
  {
   "cell_type": "markdown",
   "metadata": {
    "collapsed": true
   },
   "source": [
    "National use data from Behavioral Health Trends in the United States.pdf"
   ]
  },
  {
   "cell_type": "code",
   "execution_count": 24,
   "metadata": {
    "collapsed": false
   },
   "outputs": [
    {
     "data": {
      "text/html": [
       "<div>\n",
       "<table border=\"1\" class=\"dataframe\">\n",
       "  <thead>\n",
       "    <tr style=\"text-align: right;\">\n",
       "      <th></th>\n",
       "      <th>year</th>\n",
       "      <th>Total</th>\n",
       "      <th>Age_12-17</th>\n",
       "      <th>Age_18-25</th>\n",
       "      <th>Age_26+</th>\n",
       "    </tr>\n",
       "  </thead>\n",
       "  <tbody>\n",
       "    <tr>\n",
       "      <th>0</th>\n",
       "      <td>2002</td>\n",
       "      <td>0.2</td>\n",
       "      <td>0.2</td>\n",
       "      <td>0.4</td>\n",
       "      <td>0.1</td>\n",
       "    </tr>\n",
       "    <tr>\n",
       "      <th>1</th>\n",
       "      <td>2003</td>\n",
       "      <td>0.1</td>\n",
       "      <td>0.1</td>\n",
       "      <td>0.3</td>\n",
       "      <td>0.1</td>\n",
       "    </tr>\n",
       "    <tr>\n",
       "      <th>2</th>\n",
       "      <td>2004</td>\n",
       "      <td>0.2</td>\n",
       "      <td>0.2</td>\n",
       "      <td>0.4</td>\n",
       "      <td>0.1</td>\n",
       "    </tr>\n",
       "    <tr>\n",
       "      <th>3</th>\n",
       "      <td>2005</td>\n",
       "      <td>0.2</td>\n",
       "      <td>0.1</td>\n",
       "      <td>0.5</td>\n",
       "      <td>0.1</td>\n",
       "    </tr>\n",
       "    <tr>\n",
       "      <th>4</th>\n",
       "      <td>2006</td>\n",
       "      <td>0.2</td>\n",
       "      <td>0.1</td>\n",
       "      <td>0.4</td>\n",
       "      <td>0.2</td>\n",
       "    </tr>\n",
       "  </tbody>\n",
       "</table>\n",
       "</div>"
      ],
      "text/plain": [
       "   year  Total  Age_12-17  Age_18-25  Age_26+\n",
       "0  2002    0.2        0.2        0.4      0.1\n",
       "1  2003    0.1        0.1        0.3      0.1\n",
       "2  2004    0.2        0.2        0.4      0.1\n",
       "3  2005    0.2        0.1        0.5      0.1\n",
       "4  2006    0.2        0.1        0.4      0.2"
      ]
     },
     "execution_count": 24,
     "metadata": {},
     "output_type": "execute_result"
    }
   ],
   "source": [
    "use_age = pd.read_csv('heroin_behavior_use_data_table5a.csv')\n",
    "\n",
    "use_age= use_age.iloc[0:4,1:]\n",
    "use_age = use_age.T\n",
    "use_age.reset_index(inplace=1)\n",
    "use_age.columns = ['year', 'Total', 'Age_12-17', 'Age_18-25', 'Age_26+']\n",
    "\n",
    "use_age.head()"
   ]
  },
  {
   "cell_type": "code",
   "execution_count": 25,
   "metadata": {
    "collapsed": false
   },
   "outputs": [],
   "source": [
    "use_age = use_age.applymap(er_clean)"
   ]
  },
  {
   "cell_type": "code",
   "execution_count": 26,
   "metadata": {
    "collapsed": false
   },
   "outputs": [
    {
     "data": {
      "text/plain": [
       "<matplotlib.axes._subplots.AxesSubplot at 0x11f537810>"
      ]
     },
     "execution_count": 26,
     "metadata": {},
     "output_type": "execute_result"
    },
    {
     "data": {
      "image/png": "[encoded data removed]",
      "text/plain": [
       "<matplotlib.figure.Figure at 0x11f537110>"
      ]
     },
     "metadata": {},
     "output_type": "display_data"
    }
   ],
   "source": [
    "import seaborn as sns\n",
    "\n",
    "sns.regplot(data=use_age, x='year', y='Total', color='red')\n",
    "sns.regplot(data=use_age, x='year', y='Age_12-17', color='blue')\n",
    "sns.regplot(data=use_age, x='year', y='Age_18-25', color='yellow')\n",
    "sns.regplot(data=use_age, x='year', y='Age_26+', color='green')\n"
   ]
  },
  {
   "cell_type": "code",
   "execution_count": 27,
   "metadata": {
    "collapsed": false
   },
   "outputs": [],
   "source": [
    "\n",
    "# plt.scatter(use_age['year'], use_age['Total'], c='red')\n",
    "# plt.scatter(use_age['year'], use_age['Age_12-17'], c='blue')\n",
    "# plt.scatter(use_age['year'], use_age['Age_18-25'], c='green')\n",
    "# plt.scatter(use_age['year'], use_age['Age_26+'], c='purple')"
   ]
  },
  {
   "cell_type": "markdown",
   "metadata": {},
   "source": [
    "##### More potential data sources:\n",
    "http://pdxscholar.library.pdx.edu/cgi/viewcontent.cgi?article=1020&context=sysc_fac"
   ]
  },
  {
   "cell_type": "markdown",
   "metadata": {},
   "source": [
    " ## Washington State Data: \n",
    " http://adai.uw.edu/pubs/infobriefs/ADAI-IB-2015-01.pdf\n",
    " \n",
    " http://adai.uw.edu/wastate/wastate.htm"
   ]
  },
  {
   "cell_type": "code",
   "execution_count": 28,
   "metadata": {
    "collapsed": false
   },
   "outputs": [
    {
     "data": {
      "text/html": [
       "<div>\n",
       "<table border=\"1\" class=\"dataframe\">\n",
       "  <thead>\n",
       "    <tr style=\"text-align: right;\">\n",
       "      <th></th>\n",
       "      <th>0</th>\n",
       "      <th>1</th>\n",
       "      <th>2</th>\n",
       "      <th>3</th>\n",
       "      <th>4</th>\n",
       "      <th>5</th>\n",
       "      <th>6</th>\n",
       "    </tr>\n",
       "  </thead>\n",
       "  <tbody>\n",
       "    <tr>\n",
       "      <th>index</th>\n",
       "      <td>Asotin 30.6 112.8 268.8% 8.4 10.9 30.5% 24.1 1...</td>\n",
       "      <td>Unnamed: 1</td>\n",
       "      <td>Unnamed: 2</td>\n",
       "      <td>Unnamed: 3</td>\n",
       "      <td>Unnamed: 4</td>\n",
       "      <td>Unnamed: 5</td>\n",
       "      <td>Unnamed: 6</td>\n",
       "    </tr>\n",
       "    <tr>\n",
       "      <th>0</th>\n",
       "      <td>Benton 26.3 50.3 91.0% 4.3 7.6 75.5% 11.8 49.9...</td>\n",
       "      <td>NaN</td>\n",
       "      <td>NaN</td>\n",
       "      <td>NaN</td>\n",
       "      <td>NaN</td>\n",
       "      <td>NaN</td>\n",
       "      <td>NaN</td>\n",
       "    </tr>\n",
       "    <tr>\n",
       "      <th>1</th>\n",
       "      <td>Chelan 42.4 66.6 57.1% 8.9 9.7 9.9% 24.6 61.5 ...</td>\n",
       "      <td>NaN</td>\n",
       "      <td>NaN</td>\n",
       "      <td>NaN</td>\n",
       "      <td>NaN</td>\n",
       "      <td>NaN</td>\n",
       "      <td>NaN</td>\n",
       "    </tr>\n",
       "    <tr>\n",
       "      <th>2</th>\n",
       "      <td>Clallam 53.0 301.4 468.5% 12.6 14.7 16.7% 20.7...</td>\n",
       "      <td>NaN</td>\n",
       "      <td>NaN</td>\n",
       "      <td>NaN</td>\n",
       "      <td>NaN</td>\n",
       "      <td>NaN</td>\n",
       "      <td>NaN</td>\n",
       "    </tr>\n",
       "    <tr>\n",
       "      <th>3</th>\n",
       "      <td>Clark 48.5 167.8 246.1% 5.0 7.9 57.9% 13.3 64....</td>\n",
       "      <td>NaN</td>\n",
       "      <td>NaN</td>\n",
       "      <td>NaN</td>\n",
       "      <td>NaN</td>\n",
       "      <td>NaN</td>\n",
       "      <td>NaN</td>\n",
       "    </tr>\n",
       "    <tr>\n",
       "      <th>4</th>\n",
       "      <td>Columbia 75.0 8.1 16.3 100.8%</td>\n",
       "      <td>NaN</td>\n",
       "      <td>NaN</td>\n",
       "      <td>NaN</td>\n",
       "      <td>NaN</td>\n",
       "      <td>NaN</td>\n",
       "      <td>NaN</td>\n",
       "    </tr>\n",
       "    <tr>\n",
       "      <th>5</th>\n",
       "      <td>Cowlitz 117.3 250.1 113.2% 10.3 17.9 73.9% 81....</td>\n",
       "      <td>NaN</td>\n",
       "      <td>NaN</td>\n",
       "      <td>NaN</td>\n",
       "      <td>NaN</td>\n",
       "      <td>NaN</td>\n",
       "      <td>NaN</td>\n",
       "    </tr>\n",
       "    <tr>\n",
       "      <th>6</th>\n",
       "      <td>Douglas 9.0 50.0 457.9% 5.2 9.9 91.0% 6.0 24.0...</td>\n",
       "      <td>NaN</td>\n",
       "      <td>NaN</td>\n",
       "      <td>NaN</td>\n",
       "      <td>NaN</td>\n",
       "      <td>NaN</td>\n",
       "      <td>NaN</td>\n",
       "    </tr>\n",
       "    <tr>\n",
       "      <th>7</th>\n",
       "      <td>Ferry 36.1 160.0 343.0% 0.0 0.0 78.6</td>\n",
       "      <td>NaN</td>\n",
       "      <td>NaN</td>\n",
       "      <td>NaN</td>\n",
       "      <td>NaN</td>\n",
       "      <td>NaN</td>\n",
       "      <td>NaN</td>\n",
       "    </tr>\n",
       "    <tr>\n",
       "      <th>8</th>\n",
       "      <td>Franklin 24.1 20.6 -14.6% 2.0 8.4 16.5 95.9%</td>\n",
       "      <td>NaN</td>\n",
       "      <td>NaN</td>\n",
       "      <td>NaN</td>\n",
       "      <td>NaN</td>\n",
       "      <td>NaN</td>\n",
       "      <td>NaN</td>\n",
       "    </tr>\n",
       "    <tr>\n",
       "      <th>9</th>\n",
       "      <td>Garfield 104.6 0.0 14.2 29.6 108.5%</td>\n",
       "      <td>NaN</td>\n",
       "      <td>NaN</td>\n",
       "      <td>NaN</td>\n",
       "      <td>NaN</td>\n",
       "      <td>NaN</td>\n",
       "      <td>NaN</td>\n",
       "    </tr>\n",
       "    <tr>\n",
       "      <th>10</th>\n",
       "      <td>Grant 15.4 26.6 72.4% 9.9 4.9 -50.7% 24.0 49.8...</td>\n",
       "      <td>NaN</td>\n",
       "      <td>NaN</td>\n",
       "      <td>NaN</td>\n",
       "      <td>NaN</td>\n",
       "      <td>NaN</td>\n",
       "      <td>NaN</td>\n",
       "    </tr>\n",
       "    <tr>\n",
       "      <th>11</th>\n",
       "      <td>Grays Harbor 88.6 260.7 194.1% 9.4 8.6 -8.2% 5...</td>\n",
       "      <td>NaN</td>\n",
       "      <td>NaN</td>\n",
       "      <td>NaN</td>\n",
       "      <td>NaN</td>\n",
       "      <td>NaN</td>\n",
       "      <td>NaN</td>\n",
       "    </tr>\n",
       "    <tr>\n",
       "      <th>12</th>\n",
       "      <td>Island 11.3 70.6 525.4% 5.4 9.6 77.4% 6.3 21.4...</td>\n",
       "      <td>NaN</td>\n",
       "      <td>NaN</td>\n",
       "      <td>NaN</td>\n",
       "      <td>NaN</td>\n",
       "      <td>NaN</td>\n",
       "      <td>NaN</td>\n",
       "    </tr>\n",
       "    <tr>\n",
       "      <th>13</th>\n",
       "      <td>Jefferson 29.2 89.3 206.1% 8.8 11.1 26.6% 14.6...</td>\n",
       "      <td>NaN</td>\n",
       "      <td>NaN</td>\n",
       "      <td>NaN</td>\n",
       "      <td>NaN</td>\n",
       "      <td>NaN</td>\n",
       "      <td>NaN</td>\n",
       "    </tr>\n",
       "  </tbody>\n",
       "</table>\n",
       "</div>"
      ],
      "text/plain": [
       "                                                       0           1  \\\n",
       "index  Asotin 30.6 112.8 268.8% 8.4 10.9 30.5% 24.1 1...  Unnamed: 1   \n",
       "0      Benton 26.3 50.3 91.0% 4.3 7.6 75.5% 11.8 49.9...         NaN   \n",
       "1      Chelan 42.4 66.6 57.1% 8.9 9.7 9.9% 24.6 61.5 ...         NaN   \n",
       "2      Clallam 53.0 301.4 468.5% 12.6 14.7 16.7% 20.7...         NaN   \n",
       "3      Clark 48.5 167.8 246.1% 5.0 7.9 57.9% 13.3 64....         NaN   \n",
       "4                          Columbia 75.0 8.1 16.3 100.8%         NaN   \n",
       "5      Cowlitz 117.3 250.1 113.2% 10.3 17.9 73.9% 81....         NaN   \n",
       "6      Douglas 9.0 50.0 457.9% 5.2 9.9 91.0% 6.0 24.0...         NaN   \n",
       "7                   Ferry 36.1 160.0 343.0% 0.0 0.0 78.6         NaN   \n",
       "8           Franklin 24.1 20.6 -14.6% 2.0 8.4 16.5 95.9%         NaN   \n",
       "9                    Garfield 104.6 0.0 14.2 29.6 108.5%         NaN   \n",
       "10     Grant 15.4 26.6 72.4% 9.9 4.9 -50.7% 24.0 49.8...         NaN   \n",
       "11     Grays Harbor 88.6 260.7 194.1% 9.4 8.6 -8.2% 5...         NaN   \n",
       "12     Island 11.3 70.6 525.4% 5.4 9.6 77.4% 6.3 21.4...         NaN   \n",
       "13     Jefferson 29.2 89.3 206.1% 8.8 11.1 26.6% 14.6...         NaN   \n",
       "\n",
       "                2           3           4           5           6  \n",
       "index  Unnamed: 2  Unnamed: 3  Unnamed: 4  Unnamed: 5  Unnamed: 6  \n",
       "0             NaN         NaN         NaN         NaN         NaN  \n",
       "1             NaN         NaN         NaN         NaN         NaN  \n",
       "2             NaN         NaN         NaN         NaN         NaN  \n",
       "3             NaN         NaN         NaN         NaN         NaN  \n",
       "4             NaN         NaN         NaN         NaN         NaN  \n",
       "5             NaN         NaN         NaN         NaN         NaN  \n",
       "6             NaN         NaN         NaN         NaN         NaN  \n",
       "7             NaN         NaN         NaN         NaN         NaN  \n",
       "8             NaN         NaN         NaN         NaN         NaN  \n",
       "9             NaN         NaN         NaN         NaN         NaN  \n",
       "10            NaN         NaN         NaN         NaN         NaN  \n",
       "11            NaN         NaN         NaN         NaN         NaN  \n",
       "12            NaN         NaN         NaN         NaN         NaN  \n",
       "13            NaN         NaN         NaN         NaN         NaN  "
      ]
     },
     "execution_count": 28,
     "metadata": {},
     "output_type": "execute_result"
    }
   ],
   "source": [
    "wash = pd.read_csv('wa_county_opioid.csv') #http://adai.uw.edu/pubs/infobriefs/ADAI-IB-2015-01.pdf\n",
    "wash = wash.T\n",
    "wash.reset_index(inplace=True)\n",
    "wash = wash.T\n",
    "wash.head(15)"
   ]
  },
  {
   "cell_type": "code",
   "execution_count": 29,
   "metadata": {
    "collapsed": false
   },
   "outputs": [
    {
     "data": {
      "text/plain": [
       "38"
      ]
     },
     "execution_count": 29,
     "metadata": {},
     "output_type": "execute_result"
    }
   ],
   "source": [
    "def wash_clean(value, index):\n",
    "    try:\n",
    "        return value.split(\" \")[index]\n",
    "    except:\n",
    "        return 'error'\n",
    "\n",
    "\n",
    "wash[0]\n",
    "wash['county'] = wash[0].apply(lambda x: x.split(\" \")[0])\n",
    "wash['public_tx_100k_02-04'] = wash[0].apply(lambda x: x.split(\" \")[1])\n",
    "wash['public_tx_100k_11-13'] = wash[0].apply(lambda x: x.split(\" \")[2])\n",
    "wash['0204-1113_tx_perc_change'] = wash[0].apply(lambda x: x.split(\" \")[3])\n",
    "wash['op_death_100k_02-04'] = wash[0].apply(lambda x: x.split(\" \")[4])\n",
    "wash['op_death_100k_11-13'] = wash[0].apply(lambda x: wash_clean(x, 5))\n",
    "wash['0204-1113_death_perc_change'] = wash[0].apply(lambda x: wash_clean(x, 6))\n",
    "wash['lab_100k_02-04'] = wash[0].apply(lambda x: wash_clean(x, 7))\n",
    "wash['lab_100k_11-13'] = wash[0].apply(lambda x: wash_clean(x, 8))\n",
    "wash['0204-1113_lab_perc_change'] = wash[0].apply(lambda x: wash_clean(x, 9))\n",
    "\n",
    "\n",
    "# wash.head(21)\n",
    "len(wash)\n",
    "\n"
   ]
  },
  {
   "cell_type": "code",
   "execution_count": 30,
   "metadata": {
    "collapsed": false
   },
   "outputs": [
    {
     "ename": "ValueError",
     "evalue": "labels ['op_death_100k_11-13'] not contained in axis",
     "output_type": "error",
     "traceback": [
      "\u001b[0;31m---------------------------------------------------------------------------\u001b[0m",
      "\u001b[0;31mValueError\u001b[0m                                Traceback (most recent call last)",
      "\u001b[0;32m<ipython-input-30-053b925018cc>\u001b[0m in \u001b[0;36m<module>\u001b[0;34m()\u001b[0m\n\u001b[1;32m      2\u001b[0m     \u001b[0;32mfor\u001b[0m \u001b[0mo\u001b[0m \u001b[0;32min\u001b[0m \u001b[0mwash\u001b[0m\u001b[0;34m[\u001b[0m\u001b[0mi\u001b[0m\u001b[0;34m]\u001b[0m\u001b[0;34m:\u001b[0m\u001b[0;34m\u001b[0m\u001b[0m\n\u001b[1;32m      3\u001b[0m         \u001b[0;32mif\u001b[0m \u001b[0mo\u001b[0m \u001b[0;34m==\u001b[0m \u001b[0;34m'error'\u001b[0m\u001b[0;34m:\u001b[0m\u001b[0;34m\u001b[0m\u001b[0m\n\u001b[0;32m----> 4\u001b[0;31m             \u001b[0mwash\u001b[0m \u001b[0;34m=\u001b[0m \u001b[0mwash\u001b[0m\u001b[0;34m.\u001b[0m\u001b[0mdrop\u001b[0m\u001b[0;34m(\u001b[0m\u001b[0mi\u001b[0m\u001b[0;34m,\u001b[0m \u001b[0maxis\u001b[0m\u001b[0;34m=\u001b[0m\u001b[0;36m0\u001b[0m\u001b[0;34m)\u001b[0m\u001b[0;34m\u001b[0m\u001b[0m\n\u001b[0m\u001b[1;32m      5\u001b[0m         \u001b[0;32melse\u001b[0m\u001b[0;34m:\u001b[0m\u001b[0;34m\u001b[0m\u001b[0m\n\u001b[1;32m      6\u001b[0m             \u001b[0;32mcontinue\u001b[0m\u001b[0;34m\u001b[0m\u001b[0m\n",
      "\u001b[0;32m/Users/HudsonCavanagh/anaconda/lib/python2.7/site-packages/pandas/core/generic.pyc\u001b[0m in \u001b[0;36mdrop\u001b[0;34m(self, labels, axis, level, inplace, errors)\u001b[0m\n\u001b[1;32m   1875\u001b[0m                 \u001b[0mnew_axis\u001b[0m \u001b[0;34m=\u001b[0m \u001b[0maxis\u001b[0m\u001b[0;34m.\u001b[0m\u001b[0mdrop\u001b[0m\u001b[0;34m(\u001b[0m\u001b[0mlabels\u001b[0m\u001b[0;34m,\u001b[0m \u001b[0mlevel\u001b[0m\u001b[0;34m=\u001b[0m\u001b[0mlevel\u001b[0m\u001b[0;34m,\u001b[0m \u001b[0merrors\u001b[0m\u001b[0;34m=\u001b[0m\u001b[0merrors\u001b[0m\u001b[0;34m)\u001b[0m\u001b[0;34m\u001b[0m\u001b[0m\n\u001b[1;32m   1876\u001b[0m             \u001b[0;32melse\u001b[0m\u001b[0;34m:\u001b[0m\u001b[0;34m\u001b[0m\u001b[0m\n\u001b[0;32m-> 1877\u001b[0;31m                 \u001b[0mnew_axis\u001b[0m \u001b[0;34m=\u001b[0m \u001b[0maxis\u001b[0m\u001b[0;34m.\u001b[0m\u001b[0mdrop\u001b[0m\u001b[0;34m(\u001b[0m\u001b[0mlabels\u001b[0m\u001b[0;34m,\u001b[0m \u001b[0merrors\u001b[0m\u001b[0;34m=\u001b[0m\u001b[0merrors\u001b[0m\u001b[0;34m)\u001b[0m\u001b[0;34m\u001b[0m\u001b[0m\n\u001b[0m\u001b[1;32m   1878\u001b[0m             \u001b[0mdropped\u001b[0m \u001b[0;34m=\u001b[0m \u001b[0mself\u001b[0m\u001b[0;34m.\u001b[0m\u001b[0mreindex\u001b[0m\u001b[0;34m(\u001b[0m\u001b[0;34m**\u001b[0m\u001b[0;34m{\u001b[0m\u001b[0maxis_name\u001b[0m\u001b[0;34m:\u001b[0m \u001b[0mnew_axis\u001b[0m\u001b[0;34m}\u001b[0m\u001b[0;34m)\u001b[0m\u001b[0;34m\u001b[0m\u001b[0m\n\u001b[1;32m   1879\u001b[0m             \u001b[0;32mtry\u001b[0m\u001b[0;34m:\u001b[0m\u001b[0;34m\u001b[0m\u001b[0m\n",
      "\u001b[0;32m/Users/HudsonCavanagh/anaconda/lib/python2.7/site-packages/pandas/indexes/base.pyc\u001b[0m in \u001b[0;36mdrop\u001b[0;34m(self, labels, errors)\u001b[0m\n\u001b[1;32m   3049\u001b[0m             \u001b[0;32mif\u001b[0m \u001b[0merrors\u001b[0m \u001b[0;34m!=\u001b[0m \u001b[0;34m'ignore'\u001b[0m\u001b[0;34m:\u001b[0m\u001b[0;34m\u001b[0m\u001b[0m\n\u001b[1;32m   3050\u001b[0m                 raise ValueError('labels %s not contained in axis' %\n\u001b[0;32m-> 3051\u001b[0;31m                                  labels[mask])\n\u001b[0m\u001b[1;32m   3052\u001b[0m             \u001b[0mindexer\u001b[0m \u001b[0;34m=\u001b[0m \u001b[0mindexer\u001b[0m\u001b[0;34m[\u001b[0m\u001b[0;34m~\u001b[0m\u001b[0mmask\u001b[0m\u001b[0;34m]\u001b[0m\u001b[0;34m\u001b[0m\u001b[0m\n\u001b[1;32m   3053\u001b[0m         \u001b[0;32mreturn\u001b[0m \u001b[0mself\u001b[0m\u001b[0;34m.\u001b[0m\u001b[0mdelete\u001b[0m\u001b[0;34m(\u001b[0m\u001b[0mindexer\u001b[0m\u001b[0;34m)\u001b[0m\u001b[0;34m\u001b[0m\u001b[0m\n",
      "\u001b[0;31mValueError\u001b[0m: labels ['op_death_100k_11-13'] not contained in axis"
     ]
    }
   ],
   "source": [
    "for i in wash:\n",
    "    for o in wash[i]:\n",
    "        if o == 'error':\n",
    "            wash = wash.drop(i, axis=0)\n",
    "        else:\n",
    "            continue\n",
    "#need to drop any row that contains error - check stackoverflow\n",
    "wash"
   ]
  },
  {
   "cell_type": "code",
   "execution_count": null,
   "metadata": {
    "collapsed": false
   },
   "outputs": [],
   "source": [
    "wash"
   ]
  },
  {
   "cell_type": "markdown",
   "metadata": {},
   "source": [
    "## Massachusetts County data: (really good data with .xls)\n",
    "\n",
    "http://www.mass.gov/eohhs/gov/departments/dph/stop-addiction/current-statistics.html\n",
    "\n"
   ]
  },
  {
   "cell_type": "code",
   "execution_count": null,
   "metadata": {
    "collapsed": false
   },
   "outputs": [],
   "source": [
    "mass_op15 = pd.read_csv('/Users/HudsonCavanagh/GA_dsi-projects/capstone/Opioid/mass_county_opioid_2015.csv') \n",
    "#this is reports for Q1-3, 2015 all merged together in the csv\n",
    "mass_op15.head()"
   ]
  },
  {
   "cell_type": "markdown",
   "metadata": {},
   "source": [
    "here need to copy & paste 2013, 2014 data (need to pull from pdfs here:\n",
    "http://www.mass.gov/eohhs/docs/dph/quality/drugcontrol/county-level-pmp/pmp-county-data-2014.pdf\n",
    "                                           \n",
    "then pull 2000-2014 data\n",
    "http://www.mass.gov/eohhs/docs/dph/quality/drugcontrol/county-level-pmp/data-brief-apr-2015-overdose-county.pdf                "
   ]
  },
  {
   "cell_type": "markdown",
   "metadata": {},
   "source": [
    "## Maine has pretty good data:\n",
    "\n",
    "http://www.maine.gov/dhhs/samhs/osa/data/cesn/Heroin_Opioids_and_Other_Drugs_in_Maine_SEOW_Report.pdf\n",
    "\n"
   ]
  },
  {
   "cell_type": "markdown",
   "metadata": {},
   "source": [
    "## Ohio also has good data here\n",
    "\n",
    "http://www.healthy.ohio.gov/-/media/HealthyOhio/ASSETS/Files/injury-prevention/CountyDrugData2013.ashx?la=en\n",
    "http://www.healthy.ohio.gov/-/media/HealthyOhio/ASSETS/Files/injury-prevention/Ohio-PDO-EpiAid-Trip-Report_Final-Draft_3_18_2016.ashx?la=en --- Table 1, and page 11 (fentanyl)"
   ]
  },
  {
   "cell_type": "code",
   "execution_count": null,
   "metadata": {
    "collapsed": false
   },
   "outputs": [],
   "source": [
    "ohio_op_county = pd.read_csv('/Users/HudsonCavanagh/GA_dsi-projects/capstone/Opioid/ohio_opioid_02-2013.csv')\n",
    "ohio_op_county"
   ]
  },
  {
   "cell_type": "markdown",
   "metadata": {
    "collapsed": true
   },
   "source": [
    "## New York State County Data Cleaning (lots of data, easy enough to import/ clean)\n",
    "\n",
    "\n",
    "http://www.health.ny.gov/diseases/aids/general/opioid_overdose_prevention/docs/annual_report2015.pdf\n",
    "http://www.health.ny.gov/diseases/aids/general/opioid_overdose_prevention/docs/annual_report2015.pdf\n"
   ]
  },
  {
   "cell_type": "code",
   "execution_count": null,
   "metadata": {
    "collapsed": false
   },
   "outputs": [],
   "source": [
    "#^^lots more data to pull from these document for NY, including ER etc...\n",
    "\n",
    "nys_demo = pd.read_csv('/Users/HudsonCavanagh/GA_dsi-projects/capstone/Opioid/nys_demo_od_data.csv')\n",
    "nys_demo.head()\n",
    "#for by gender, and cause there are two sets of columns, "
   ]
  },
  {
   "cell_type": "code",
   "execution_count": null,
   "metadata": {
    "collapsed": false
   },
   "outputs": [],
   "source": [
    "os.getcwd()\n",
    "heroin_od_deaths_nys = pd.read_csv('/Users/HudsonCavanagh/GA_dsi-projects/capstone/Opioid/heroin_od_deaths_nys.csv')\n",
    "heroin_od_deaths_nys\n"
   ]
  },
  {
   "cell_type": "code",
   "execution_count": null,
   "metadata": {
    "collapsed": false
   },
   "outputs": [],
   "source": []
  },
  {
   "cell_type": "markdown",
   "metadata": {
    "collapsed": true
   },
   "source": [
    "## CDC Wonder Data - Drug Related Mortality\n",
    "\n"
   ]
  },
  {
   "cell_type": "code",
   "execution_count": 45,
   "metadata": {
    "collapsed": false
   },
   "outputs": [
    {
     "data": {
      "text/plain": [
       "15"
      ]
     },
     "execution_count": 45,
     "metadata": {},
     "output_type": "execute_result"
    }
   ],
   "source": [
    "# cdc_99_03 = pd.read_csv('/Users/HudsonCavanagh/GA_dsi-projects/capstone/Opioid/CDC_Wonder/Underlying Cause of Death, 1999-2003.csv')\n",
    "# cdc_04_09 = pd.read_csv('/Users/HudsonCavanagh/GA_dsi-projects/capstone/Opioid/CDC_Wonder/Underlying Cause of Death 2004-2009.csv')\n",
    "\n",
    "\n",
    "\n",
    "cdc_1999 = pd.read_csv('/Users/HudsonCavanagh/GA_dsi-projects/capstone/Opioid/cdc_data/cdc_1999.csv', delimiter='\\t', encoding='utf-8')\n",
    "cdc_2000 = pd.read_csv('/Users/HudsonCavanagh/GA_dsi-projects/capstone/Opioid/cdc_data/cdc_2000.csv', delimiter='\\t', encoding='utf-8')\n",
    "cdc_2001 = pd.read_csv('/Users/HudsonCavanagh/GA_dsi-projects/capstone/Opioid/cdc_data/cdc_2001.csv', delimiter='\\t', encoding='utf-8')\n",
    "cdc_2002 = pd.read_csv('/Users/HudsonCavanagh/GA_dsi-projects/capstone/Opioid/cdc_data/cdc_2002.csv', delimiter='\\t', encoding='utf-8')\n",
    "cdc_2003 = pd.read_csv('/Users/HudsonCavanagh/GA_dsi-projects/capstone/Opioid/cdc_data/cdc_2003.csv', delimiter='\\t', encoding='utf-8')\n",
    "cdc_2004 = pd.read_csv('/Users/HudsonCavanagh/GA_dsi-projects/capstone/Opioid/cdc_data/cdc_2004.csv', delimiter='\\t', encoding='utf-8')\n",
    "cdc_2005 = pd.read_csv('/Users/HudsonCavanagh/GA_dsi-projects/capstone/Opioid/cdc_data/cdc_2005.csv', delimiter='\\t', encoding='utf-8')\n",
    "cdc_2006 = pd.read_csv('/Users/HudsonCavanagh/GA_dsi-projects/capstone/Opioid/cdc_data/cdc_2006.csv', delimiter='\\t', encoding='utf-8')\n",
    "cdc_2007 = pd.read_csv('/Users/HudsonCavanagh/GA_dsi-projects/capstone/Opioid/cdc_data/cdc_2007.csv', delimiter='\\t', encoding='utf-8')\n",
    "cdc_2008 = pd.read_csv('/Users/HudsonCavanagh/GA_dsi-projects/capstone/Opioid/cdc_data/cdc_2008.csv', delimiter='\\t', encoding='utf-8')\n",
    "cdc_2009 = pd.read_csv('/Users/HudsonCavanagh/GA_dsi-projects/capstone/Opioid/cdc_data/cdc_2009.csv', delimiter='\\t', encoding='utf-8')\n",
    "cdc_2010 = pd.read_csv('/Users/HudsonCavanagh/GA_dsi-projects/capstone/Opioid/cdc_data/cdc_2010.csv', delimiter='\\t', encoding='utf-8')\n",
    "cdc_2011 = pd.read_csv('/Users/HudsonCavanagh/GA_dsi-projects/capstone/Opioid/cdc_data/cdc_2011.csv', delimiter='\\t', encoding='utf-8')\n",
    "cdc_2012 = pd.read_csv('/Users/HudsonCavanagh/GA_dsi-projects/capstone/Opioid/cdc_data/cdc_2012.csv', delimiter='\\t', encoding='utf-8')\n",
    "cdc_2013 = pd.read_csv('/Users/HudsonCavanagh/GA_dsi-projects/capstone/Opioid/cdc_data/cdc_2013.csv', delimiter='\\t', encoding='utf-8')\n",
    "cdc_2014_a = pd.read_csv('/Users/HudsonCavanagh/GA_dsi-projects/capstone/Opioid/cdc_data/cdc_2014_a-mississip.csv', delimiter='\\t', encoding='utf-8')\n",
    "cdc_2014_b = pd.read_csv('/Users/HudsonCavanagh/GA_dsi-projects/capstone/Opioid/cdc_data/cdc_2014_missouri-z.csv', delimiter='\\t', encoding='utf-8')\n",
    "\n",
    "cdc_2014_a = cdc_2014_a[cdc_2014_a['Deaths'].isnull() == False]\n",
    "cdc_2014_b = cdc_2014_b[cdc_2014_b['Deaths'].isnull() == False]\n",
    "\n",
    "\n",
    "cols_cdc =['Notes','County','County Code','Ten-Year Age Groups',\n",
    "    'Ten-Year Age Groups Code','Gender','Gender Code', 'Race',\n",
    "       'Race Code', 'Hispanic Origin', 'Hispanic Origin Code', 'Deaths',\n",
    "       'Population', 'Crude Rate', '% of Total Deaths']\n",
    "\n",
    "\n",
    "cdc_2014_a.columns = cols_cdc\n",
    "cdc_2014_b.columns = cols_cdc\n",
    "\n",
    "\n",
    "\n",
    "cdc_2014 = pd.concat([cdc_2014_a, cdc_2014_b], axis=0)\n",
    "\n",
    "# print(len(cdc_2014_b.columns), len(cdc_2014_a.columns), len(cdc_2014.columns))\n",
    "# print((cdc_2014_b.columns), cdc_2014_a.columns)\n",
    "\n",
    "\n",
    "len(cdc_2014.columns)"
   ]
  },
  {
   "cell_type": "code",
   "execution_count": 49,
   "metadata": {
    "collapsed": true
   },
   "outputs": [],
   "source": [
    "def pct_clean(string):\n",
    "    string = str(string)\n",
    "    x = string.replace(\"%\", \"\")\n",
    "    return float(x)\n",
    "\n",
    "cdc_years = (cdc_2014, cdc_2013, cdc_2012, cdc_2011, cdc_2010, cdc_2009, cdc_2008, cdc_2007, cdc_2006, cdc_2005, cdc_2004, cdc_2003, cdc_2002, cdc_2001, cdc_2000, cdc_1999)\n",
    "\n",
    "\n",
    "for ex_df1 in cdc_years:\n",
    "    ex_df1['pct_total_deaths'] = ex_df1['% of Total Deaths'].apply(lambda x: pct_clean(x))\n",
    "\n",
    "for ex_df2 in cdc_years:\n",
    "    ex_df2['Deaths'] = ex_df2['Deaths'].apply(lambda x: int(x))\n",
    "\n",
    "for ex_df3 in cdc_years:\n",
    "    ex_df3['Population'] = ex_df3['Population'].apply(lambda x: int(x))\n",
    "\n",
    "for ex_df4 in cdc_years:\n",
    "    ex_df4['Crude Rate'] = ex_df4['Population'].apply(lambda x: int(x))\n",
    "\n",
    "# cdc_2010['pct_total_deaths'] = cdc_2010['% of Total Deaths'].apply(lambda x: pct_clean(x))\n"
   ]
  },
  {
   "cell_type": "code",
   "execution_count": 50,
   "metadata": {
    "collapsed": false
   },
   "outputs": [
    {
     "data": {
      "text/plain": [
       "Index([                   u'Notes',                   u'County',\n",
       "                    u'County Code',      u'Ten-Year Age Groups',\n",
       "       u'Ten-Year Age Groups Code',                   u'Gender',\n",
       "                    u'Gender Code',                     u'Race',\n",
       "                      u'Race Code',          u'Hispanic Origin',\n",
       "           u'Hispanic Origin Code',                   u'Deaths',\n",
       "                     u'Population',               u'Crude Rate',\n",
       "              u'% of Total Deaths',                     u'Year',\n",
       "               u'pct_total_deaths'],\n",
       "      dtype='object')"
      ]
     },
     "execution_count": 50,
     "metadata": {},
     "output_type": "execute_result"
    }
   ],
   "source": [
    "\n",
    "\n",
    "\n",
    "years = [2014,2013,2012,2011,2010,2009,2008,2007,2006,2005,2004,2003,2002,2001,2000,1999]\n",
    "\n",
    "for ind, ex_df in enumerate([cdc_2014, cdc_2013, cdc_2012, cdc_2011, cdc_2010, cdc_2009, cdc_2008, cdc_2007, cdc_2006, cdc_2005, cdc_2004, cdc_2003, cdc_2002, cdc_2001, cdc_2000, cdc_1999]):\n",
    "    ex_df['Year'] = years[ind]\n",
    "\n",
    "\n",
    "\n",
    "cdc_2000 = cdc_2000[cdc_2000['Deaths'].isnull() == False]\n",
    "cdc_2001 = cdc_2001[cdc_2001['Deaths'].isnull() == False]\n",
    "cdc_2002 = cdc_2002[cdc_2002['Deaths'].isnull() == False]\n",
    "cdc_2003 = cdc_2003[cdc_2003['Deaths'].isnull() == False]\n",
    "cdc_2004 = cdc_2004[cdc_2004['Deaths'].isnull() == False]\n",
    "cdc_2005 = cdc_2005[cdc_2005['Deaths'].isnull() == False]\n",
    "cdc_2006 = cdc_2006[cdc_2006['Deaths'].isnull() == False]\n",
    "cdc_2007 = cdc_2007[cdc_2007['Deaths'].isnull() == False]\n",
    "cdc_2008 = cdc_2008[cdc_2008['Deaths'].isnull() == False]\n",
    "cdc_2009 = cdc_2009[cdc_2009['Deaths'].isnull() == False]\n",
    "cdc_2010 = cdc_2010[cdc_2010['Deaths'].isnull() == False]\n",
    "cdc_2011 = cdc_2011[cdc_2011['Deaths'].isnull() == False]\n",
    "cdc_2012 = cdc_2012[cdc_2012['Deaths'].isnull() == False]\n",
    "cdc_2013 = cdc_2013[cdc_2013['Deaths'].isnull() == False]\n",
    "\n",
    "\n",
    "\n",
    "cdc_99_14 = pd.concat([cdc_2014, cdc_2013, cdc_2012, cdc_2011, cdc_2010, cdc_2009, cdc_2008, cdc_2007, cdc_2006, cdc_2005, cdc_2004, cdc_2003, cdc_2002, cdc_2001, cdc_2000, cdc_1999], axis=0)\n",
    "# cdc_99_03 = pd.read_csv('/Users/HudsonCavanagh/GA_dsi-projects/capstone/Opioid/CDC_Wonder/Underlying Cause of Death, 1999-2003.csv', delimiter='\"\\t\"')\n",
    "cdc_99_14.columns"
   ]
  },
  {
   "cell_type": "code",
   "execution_count": 56,
   "metadata": {
    "collapsed": false
   },
   "outputs": [
    {
     "data": {
      "text/plain": [
       "Index([                  u'County',              u'County Code',\n",
       "            u'Ten-Year Age Groups', u'Ten-Year Age Groups Code',\n",
       "                         u'Gender',              u'Gender Code',\n",
       "                           u'Race',                u'Race Code',\n",
       "                u'Hispanic Origin',     u'Hispanic Origin Code',\n",
       "                         u'Deaths',               u'Population',\n",
       "                     u'Crude Rate',        u'% of Total Deaths',\n",
       "                           u'Year',         u'pct_total_deaths'],\n",
       "      dtype='object')"
      ]
     },
     "execution_count": 56,
     "metadata": {},
     "output_type": "execute_result"
    }
   ],
   "source": [
    "cdc_99_14 = cdc_99_14.iloc[:,1:]\n",
    "cdc_99_14.columns"
   ]
  },
  {
   "cell_type": "code",
   "execution_count": null,
   "metadata": {
    "collapsed": false
   },
   "outputs": [],
   "source": [
    "cdc_99_14['pct_total_deaths'].isnull().sum() #85 nulls                                  \n"
   ]
  },
  {
   "cell_type": "code",
   "execution_count": 55,
   "metadata": {
    "collapsed": false
   },
   "outputs": [
    {
     "data": {
      "text/plain": [
       "85"
      ]
     },
     "execution_count": 55,
     "metadata": {},
     "output_type": "execute_result"
    }
   ],
   "source": [
    "import seaborn as sns\n",
    "\n",
    "\n",
    "\n",
    "\n",
    "\n",
    "\n",
    "# cdc_2010.isnull().sum()                         \n",
    "                                       "
   ]
  },
  {
   "cell_type": "code",
   "execution_count": null,
   "metadata": {
    "collapsed": false
   },
   "outputs": [],
   "source": [
    "#duplicate this for each file\n",
    "\n"
   ]
  },
  {
   "cell_type": "code",
   "execution_count": null,
   "metadata": {
    "collapsed": false
   },
   "outputs": [],
   "source": []
  },
  {
   "cell_type": "code",
   "execution_count": null,
   "metadata": {
    "collapsed": true
   },
   "outputs": [],
   "source": []
  },
  {
   "cell_type": "code",
   "execution_count": null,
   "metadata": {
    "collapsed": true
   },
   "outputs": [],
   "source": []
  },
  {
   "cell_type": "code",
   "execution_count": null,
   "metadata": {
    "collapsed": true
   },
   "outputs": [],
   "source": []
  },
  {
   "cell_type": "code",
   "execution_count": null,
   "metadata": {
    "collapsed": true
   },
   "outputs": [],
   "source": []
  }
 ],
 "metadata": {
  "kernelspec": {
   "display_name": "Python 2",
   "language": "python",
   "name": "python2"
  },
  "language_info": {
   "codemirror_mode": {
    "name": "ipython",
    "version": 2
   },
   "file_extension": ".py",
   "mimetype": "text/x-python",
   "name": "python",
   "nbconvert_exporter": "python",
   "pygments_lexer": "ipython2",
   "version": "2.7.12"
  }
 },
 "nbformat": 4,
 "nbformat_minor": 0
}
