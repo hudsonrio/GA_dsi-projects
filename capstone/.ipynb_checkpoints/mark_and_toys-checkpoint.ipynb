{
 "cells": [
  {
   "cell_type": "code",
   "execution_count": 51,
   "metadata": {
    "collapsed": false
   },
   "outputs": [
    {
     "name": "stdout",
     "output_type": "stream",
     "text": [
      "[1, 12, 5, 111, 200, 1000, 10]\n",
      "[1, 12, 5, 200, 1000, 10]\n"
     ]
    },
    {
     "data": {
      "text/plain": [
       "[1, 12, 5, 200, 10]"
      ]
     },
     "execution_count": 51,
     "metadata": {},
     "output_type": "execute_result"
    }
   ],
   "source": [
    "K = 50.0\n",
    "\n",
    "\n",
    "toys = [1,12,5,111,200,1000,10]\n",
    "\n",
    "def toy_picker(toys, K):\n",
    "    K = float(K)\n",
    "    count = 0\n",
    "    for index, value in enumerate(toys):\n",
    "        if value > K:\n",
    "            print(toys)\n",
    "            del toys[index]\n",
    "            \n",
    "    \n",
    "    return toys\n",
    "\n",
    "toy_picker(toys, K)"
   ]
  },
  {
   "cell_type": "code",
   "execution_count": 31,
   "metadata": {
    "collapsed": false
   },
   "outputs": [
    {
     "data": {
      "text/plain": [
       "[1, 12, 5, 200, 10]"
      ]
     },
     "execution_count": 31,
     "metadata": {},
     "output_type": "execute_result"
    }
   ],
   "source": [
    "toys"
   ]
  },
  {
   "cell_type": "code",
   "execution_count": 58,
   "metadata": {
    "collapsed": false
   },
   "outputs": [
    {
     "name": "stdout",
     "output_type": "stream",
     "text": [
      "('appending:', 1)\n",
      "('appending:', 12)\n",
      "('appending:', 5)\n",
      "('appending:', 10)\n",
      "('appending:', 21)\n",
      "('buying a toy for:', 1)\n",
      "('cash remaining:', 49.0)\n",
      "('number toys purchased:', 1)\n",
      "('buying a toy for:', 5)\n",
      "('cash remaining:', 44.0)\n",
      "('number toys purchased:', 2)\n",
      "('buying a toy for:', 10)\n",
      "('cash remaining:', 34.0)\n",
      "('number toys purchased:', 3)\n",
      "('buying a toy for:', 12)\n",
      "('cash remaining:', 22.0)\n",
      "('number toys purchased:', 4)\n",
      "('buying a toy for:', 21)\n",
      "('cash remaining:', 1.0)\n",
      "('number toys purchased:', 5)\n"
     ]
    },
    {
     "data": {
      "text/plain": [
       "5"
      ]
     },
     "execution_count": 58,
     "metadata": {},
     "output_type": "execute_result"
    }
   ],
   "source": [
    "K = 50.0\n",
    "\n",
    "# toys = [1, 12, 5, 111, 200, 1000, 10, 13, 25, 300, 45]\n",
    "toy_list = [1,12,5,111,200,1000,10, 21]\n",
    "\n",
    "def toy_picker(input_list, K):\n",
    "    toys = []\n",
    "    K = float(K)\n",
    "    count = 0\n",
    "    for index, value in enumerate(input_list):\n",
    "        if value < K:\n",
    "            toys.append(value)\n",
    "            print(\"appending:\", value)\n",
    "    toys = sorted(toys)\n",
    "    for toy in toys:\n",
    "        if K > 0:\n",
    "            print(\"buying a toy for:\", toy)\n",
    "            K = K - toy\n",
    "            print(\"cash remaining:\", K)\n",
    "            count = count + 1\n",
    "            print(\"number toys purchased:\", count)\n",
    "    return count\n",
    "\n",
    "toy_picker(toy_list, K)"
   ]
  },
  {
   "cell_type": "code",
   "execution_count": 44,
   "metadata": {
    "collapsed": false
   },
   "outputs": [
    {
     "name": "stdout",
     "output_type": "stream",
     "text": [
      "toys\n"
     ]
    },
    {
     "ename": "ValueError",
     "evalue": "invalid literal for int() with base 10: 'toys'",
     "output_type": "error",
     "traceback": [
      "\u001b[0;31m---------------------------------------------------------------------------\u001b[0m",
      "\u001b[0;31mValueError\u001b[0m                                Traceback (most recent call last)",
      "\u001b[0;32m<ipython-input-44-30dbc1250729>\u001b[0m in \u001b[0;36m<module>\u001b[0;34m()\u001b[0m\n\u001b[1;32m     10\u001b[0m \u001b[0;34m\u001b[0m\u001b[0m\n\u001b[1;32m     11\u001b[0m \u001b[0;32mif\u001b[0m \u001b[0m__name__\u001b[0m \u001b[0;34m==\u001b[0m \u001b[0;34m'__main__'\u001b[0m\u001b[0;34m:\u001b[0m\u001b[0;34m\u001b[0m\u001b[0m\n\u001b[0;32m---> 12\u001b[0;31m     \u001b[0mn\u001b[0m\u001b[0;34m,\u001b[0m \u001b[0mk\u001b[0m \u001b[0;34m=\u001b[0m \u001b[0mmap\u001b[0m\u001b[0;34m(\u001b[0m\u001b[0mint\u001b[0m\u001b[0;34m,\u001b[0m \u001b[0mraw_input\u001b[0m\u001b[0;34m(\u001b[0m\u001b[0;34m)\u001b[0m\u001b[0;34m.\u001b[0m\u001b[0msplit\u001b[0m\u001b[0;34m(\u001b[0m\u001b[0;34m)\u001b[0m\u001b[0;34m)\u001b[0m\u001b[0;34m\u001b[0m\u001b[0m\n\u001b[0m\u001b[1;32m     13\u001b[0m     \u001b[0mprices\u001b[0m \u001b[0;34m=\u001b[0m \u001b[0mmap\u001b[0m\u001b[0;34m(\u001b[0m\u001b[0mint\u001b[0m\u001b[0;34m,\u001b[0m \u001b[0mraw_input\u001b[0m\u001b[0;34m(\u001b[0m\u001b[0;34m)\u001b[0m\u001b[0;34m.\u001b[0m\u001b[0msplit\u001b[0m\u001b[0;34m(\u001b[0m\u001b[0;34m)\u001b[0m\u001b[0;34m)\u001b[0m\u001b[0;34m\u001b[0m\u001b[0m\n\u001b[1;32m     14\u001b[0m     \u001b[0;32mprint\u001b[0m \u001b[0mmax_toys\u001b[0m\u001b[0;34m(\u001b[0m\u001b[0mprices\u001b[0m\u001b[0;34m,\u001b[0m \u001b[0mk\u001b[0m\u001b[0;34m)\u001b[0m\u001b[0;34m\u001b[0m\u001b[0m\n",
      "\u001b[0;31mValueError\u001b[0m: invalid literal for int() with base 10: 'toys'"
     ]
    }
   ],
   "source": [
    "def max_toys(prices, rupees):\n",
    "    answer = 0\n",
    "    prices.sort(key = lambda x: int(x))\n",
    "    sum = 0\n",
    "    for x in prices:\n",
    "        if sum + int(x) <= int(rupees):\n",
    "            sum += int(x)\n",
    "            answer += 1\n",
    "    return answer\n",
    "\n",
    "if __name__ == '__main__':\n",
    "    n, k = map(int, raw_input().split())\n",
    "    prices = map(int, raw_input().split())\n",
    "    print max_toys(prices, k)\n",
    "    \n",
    "max_toys(toys, K)"
   ]
  },
  {
   "cell_type": "code",
   "execution_count": null,
   "metadata": {
    "collapsed": true
   },
   "outputs": [],
   "source": []
  }
 ],
 "metadata": {
  "kernelspec": {
   "display_name": "Python 2 New",
   "language": "python",
   "name": "stats_mods_py"
  },
  "language_info": {
   "codemirror_mode": {
    "name": "ipython",
    "version": 2
   },
   "file_extension": ".py",
   "mimetype": "text/x-python",
   "name": "python",
   "nbconvert_exporter": "python",
   "pygments_lexer": "ipython2",
   "version": "2.7.12"
  }
 },
 "nbformat": 4,
 "nbformat_minor": 0
}
