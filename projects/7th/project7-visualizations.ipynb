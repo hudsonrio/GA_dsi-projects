{
 "cells": [
  {
   "cell_type": "markdown",
   "metadata": {
    "focus": true,
    "id": "d21ca30e-294e-4146-8e4f-a5c331f7a36e"
   },
   "source": [
    "# Project 7 \n",
    "\n",
    "In this project, you will implement the the clustering techniques that you've learned this week. \n",
    "\n",
    "#### Step 1: Load the python libraries that you will need for this project "
   ]
  },
  {
   "cell_type": "code",
   "execution_count": 1,
   "metadata": {
    "collapsed": false,
    "focus": false,
    "id": "78c3bb3f-f513-437b-94f8-bc363b6e7a8b"
   },
   "outputs": [
    {
     "data": {
      "text/plain": [
       "'/Users/HudsonCavanagh/GA_dsi-projects/projects/7th'"
      ]
     },
     "execution_count": 1,
     "metadata": {},
     "output_type": "execute_result"
    }
   ],
   "source": [
    "import pandas as pd \n",
    "import matplotlib as plt\n",
    "import numpy as np\n",
    "import sklearn\n",
    "import psycopg2 as psy\n",
    "import os \n",
    "import matplotlib.pyplot as plt\n",
    "import numpy as np\n",
    "import math\n",
    "from sklearn.preprocessing import StandardScaler\n",
    "from sklearn.decomposition import PCA \n",
    "from sklearn.cluster import KMeans\n",
    "from sklearn import metrics\n",
    "from matplotlib import *\n",
    "import sys\n",
    "from pylab import *\n",
    "from matplotlib import offsetbox\n",
    "from sklearn import (manifold, datasets, decomposition, ensemble,\n",
    "                     discriminant_analysis, random_projection)\n",
    "from sklearn import metrics\n",
    "from sklearn.cross_validation import cross_val_score, StratifiedKFold\n",
    "from sklearn.tree import DecisionTreeClassifier\n",
    "from sklearn.ensemble import RandomForestRegressor, ExtraTreesRegressor, BaggingRegressor\n",
    "\n",
    "%matplotlib inline\n",
    "\n",
    "os.getcwd()"
   ]
  },
  {
   "cell_type": "code",
   "execution_count": null,
   "metadata": {
    "collapsed": false
   },
   "outputs": [],
   "source": []
  },
  {
   "cell_type": "markdown",
   "metadata": {
    "focus": false,
    "id": "2c6f52ae-e694-463c-87d8-1974726c2e7a"
   },
   "source": [
    "#### Step 2: Examine your data "
   ]
  },
  {
   "cell_type": "code",
   "execution_count": 2,
   "metadata": {
    "collapsed": false,
    "focus": false,
    "id": "0f64db5a-e176-46a1-a10b-8c7db09437bc"
   },
   "outputs": [
    {
     "data": {
      "text/html": [
       "<div>\n",
       "<table border=\"1\" class=\"dataframe\">\n",
       "  <thead>\n",
       "    <tr style=\"text-align: right;\">\n",
       "      <th></th>\n",
       "      <th>Key</th>\n",
       "      <th>LocID</th>\n",
       "      <th>AP_NAME</th>\n",
       "      <th>ALIAS</th>\n",
       "      <th>Facility Type</th>\n",
       "      <th>FAA REGION</th>\n",
       "      <th>COUNTY</th>\n",
       "      <th>CITY</th>\n",
       "      <th>STATE</th>\n",
       "      <th>AP Type</th>\n",
       "      <th>Latitude</th>\n",
       "      <th>Longitude</th>\n",
       "      <th>Boundary Data Available</th>\n",
       "    </tr>\n",
       "  </thead>\n",
       "  <tbody>\n",
       "    <tr>\n",
       "      <th>0</th>\n",
       "      <td>3443.0</td>\n",
       "      <td>STX</td>\n",
       "      <td>HENRY E ROHLSEN</td>\n",
       "      <td>Henry E Rohlsen Int'l Airport</td>\n",
       "      <td>Airport</td>\n",
       "      <td>ASO</td>\n",
       "      <td>-VIRGIN ISLANDS-</td>\n",
       "      <td>CHRISTIANSTED</td>\n",
       "      <td>VI</td>\n",
       "      <td>Public Use</td>\n",
       "      <td>17.701556</td>\n",
       "      <td>-64.801722</td>\n",
       "      <td>Yes</td>\n",
       "    </tr>\n",
       "    <tr>\n",
       "      <th>1</th>\n",
       "      <td>5088.0</td>\n",
       "      <td>X64</td>\n",
       "      <td>PATILLAS</td>\n",
       "      <td>NaN</td>\n",
       "      <td>Airport</td>\n",
       "      <td>ASO</td>\n",
       "      <td>#NAME?</td>\n",
       "      <td>PATILLAS</td>\n",
       "      <td>PR</td>\n",
       "      <td>Public Use</td>\n",
       "      <td>17.982189</td>\n",
       "      <td>-66.019330</td>\n",
       "      <td>No</td>\n",
       "    </tr>\n",
       "    <tr>\n",
       "      <th>2</th>\n",
       "      <td>2886.0</td>\n",
       "      <td>PSE</td>\n",
       "      <td>MERCEDITA</td>\n",
       "      <td>Aeropuerto Mercedita</td>\n",
       "      <td>Airport</td>\n",
       "      <td>ASO</td>\n",
       "      <td>#NAME?</td>\n",
       "      <td>PONCE</td>\n",
       "      <td>PR</td>\n",
       "      <td>Public Use</td>\n",
       "      <td>18.008306</td>\n",
       "      <td>-66.563028</td>\n",
       "      <td>Yes</td>\n",
       "    </tr>\n",
       "    <tr>\n",
       "      <th>3</th>\n",
       "      <td>2879.0</td>\n",
       "      <td>VQS</td>\n",
       "      <td>ANTONIO RIVERA RODRIGUEZ</td>\n",
       "      <td>Aeropuerto Antonio Rivera Rodr�guez</td>\n",
       "      <td>Airport</td>\n",
       "      <td>ASO</td>\n",
       "      <td>#NAME?</td>\n",
       "      <td>ISLA DE VIEQUES</td>\n",
       "      <td>PR</td>\n",
       "      <td>Public Use</td>\n",
       "      <td>18.134811</td>\n",
       "      <td>-65.493617</td>\n",
       "      <td>Yes</td>\n",
       "    </tr>\n",
       "    <tr>\n",
       "      <th>4</th>\n",
       "      <td>2883.0</td>\n",
       "      <td>X63</td>\n",
       "      <td>HUMACAO</td>\n",
       "      <td>Aeropuerto Regional De Humacao</td>\n",
       "      <td>Airport</td>\n",
       "      <td>ASO</td>\n",
       "      <td>#NAME?</td>\n",
       "      <td>HUMACAO</td>\n",
       "      <td>PR</td>\n",
       "      <td>Public Use</td>\n",
       "      <td>18.138017</td>\n",
       "      <td>-65.800718</td>\n",
       "      <td>Yes</td>\n",
       "    </tr>\n",
       "  </tbody>\n",
       "</table>\n",
       "</div>"
      ],
      "text/plain": [
       "      Key LocID                   AP_NAME  \\\n",
       "0  3443.0   STX           HENRY E ROHLSEN   \n",
       "1  5088.0   X64                  PATILLAS   \n",
       "2  2886.0   PSE                 MERCEDITA   \n",
       "3  2879.0   VQS  ANTONIO RIVERA RODRIGUEZ   \n",
       "4  2883.0   X63                   HUMACAO   \n",
       "\n",
       "                                 ALIAS Facility Type FAA REGION  \\\n",
       "0        Henry E Rohlsen Int'l Airport       Airport        ASO   \n",
       "1                                  NaN       Airport        ASO   \n",
       "2                 Aeropuerto Mercedita       Airport        ASO   \n",
       "3  Aeropuerto Antonio Rivera Rodr�guez       Airport        ASO   \n",
       "4       Aeropuerto Regional De Humacao       Airport        ASO   \n",
       "\n",
       "             COUNTY             CITY STATE     AP Type   Latitude  Longitude  \\\n",
       "0  -VIRGIN ISLANDS-    CHRISTIANSTED    VI  Public Use  17.701556 -64.801722   \n",
       "1            #NAME?         PATILLAS    PR  Public Use  17.982189 -66.019330   \n",
       "2            #NAME?            PONCE    PR  Public Use  18.008306 -66.563028   \n",
       "3            #NAME?  ISLA DE VIEQUES    PR  Public Use  18.134811 -65.493617   \n",
       "4            #NAME?          HUMACAO    PR  Public Use  18.138017 -65.800718   \n",
       "\n",
       "  Boundary Data Available  \n",
       "0                     Yes  \n",
       "1                      No  \n",
       "2                     Yes  \n",
       "3                     Yes  \n",
       "4                     Yes  "
      ]
     },
     "execution_count": 2,
     "metadata": {},
     "output_type": "execute_result"
    }
   ],
   "source": [
    "airports = pd.read_csv('/Users/HudsonCavanagh/Documents/airports.csv')\n",
    "ops = pd.read_csv('/Users/HudsonCavanagh/Documents/Airport_operations.csv')\n",
    "cancelations = pd.read_csv('/Users/HudsonCavanagh/Documents/airport_cancellations.csv')\n",
    "\n",
    "airports.head()"
   ]
  },
  {
   "cell_type": "code",
   "execution_count": 3,
   "metadata": {
    "collapsed": false
   },
   "outputs": [
    {
     "data": {
      "text/plain": [
       "Public Use                4876\n",
       "Federalized/Commercial     288\n",
       "Name: AP Type, dtype: int64"
      ]
     },
     "execution_count": 3,
     "metadata": {},
     "output_type": "execute_result"
    }
   ],
   "source": [
    "airports['AP Type'].value_counts() # way more public use than federal/ commercial (95%)"
   ]
  },
  {
   "cell_type": "code",
   "execution_count": 4,
   "metadata": {
    "collapsed": false
   },
   "outputs": [
    {
     "name": "stdout",
     "output_type": "stream",
     "text": [
      "(841, 805)\n"
     ]
    }
   ],
   "source": [
    "print(len(ops), len(cancelations))"
   ]
  },
  {
   "cell_type": "code",
   "execution_count": 5,
   "metadata": {
    "collapsed": false
   },
   "outputs": [
    {
     "data": {
      "text/plain": [
       "0      ABQ2004\n",
       "1      ABQ2005\n",
       "2      ABQ2006\n",
       "3      ABQ2007\n",
       "4      ABQ2008\n",
       "5      ABQ2009\n",
       "6      ABQ2010\n",
       "7      ABQ2011\n",
       "8      ABQ2012\n",
       "9      ABQ2013\n",
       "10     ABQ2014\n",
       "11     ANC2004\n",
       "12     ANC2005\n",
       "13     ANC2006\n",
       "14     ANC2007\n",
       "15     ANC2008\n",
       "16     ANC2009\n",
       "17     ANC2010\n",
       "18     ANC2011\n",
       "19     ANC2012\n",
       "20     ANC2013\n",
       "21     ANC2014\n",
       "22     ATL2004\n",
       "23     ATL2005\n",
       "24     ATL2006\n",
       "25     ATL2007\n",
       "26     ATL2008\n",
       "27     ATL2009\n",
       "28     ATL2010\n",
       "29     ATL2011\n",
       "        ...   \n",
       "811    TPA2007\n",
       "812    TPA2008\n",
       "813    TPA2009\n",
       "814    TPA2010\n",
       "815    TPA2011\n",
       "816    TPA2012\n",
       "817    TPA2013\n",
       "818    TPA2014\n",
       "819    TUS2004\n",
       "820    TUS2005\n",
       "821    TUS2006\n",
       "822    TUS2007\n",
       "823    TUS2008\n",
       "824    TUS2009\n",
       "825    TUS2010\n",
       "826    TUS2011\n",
       "827    TUS2012\n",
       "828    TUS2013\n",
       "829    TUS2014\n",
       "830    VNY2004\n",
       "831    VNY2005\n",
       "832    VNY2006\n",
       "833    VNY2007\n",
       "834    VNY2008\n",
       "835    VNY2009\n",
       "836    VNY2010\n",
       "837    VNY2011\n",
       "838    VNY2012\n",
       "839    VNY2013\n",
       "840    VNY2014\n",
       "Name: airport_year, dtype: object"
      ]
     },
     "execution_count": 5,
     "metadata": {},
     "output_type": "execute_result"
    }
   ],
   "source": [
    "ops['str_year'] = ops['year'].apply(lambda x: str(int(x)))\n",
    "ops['airport_year'] = ops['airport'] + ops['str_year']\n",
    "ops['airport_year']\n"
   ]
  },
  {
   "cell_type": "code",
   "execution_count": 6,
   "metadata": {
    "collapsed": false
   },
   "outputs": [
    {
     "data": {
      "text/plain": [
       "0      ABQ2004\n",
       "1      ABQ2005\n",
       "2      ABQ2006\n",
       "3      ABQ2007\n",
       "4      ABQ2008\n",
       "5      ABQ2009\n",
       "6      ABQ2010\n",
       "7      ABQ2011\n",
       "8      ABQ2012\n",
       "9      ABQ2013\n",
       "10     ABQ2014\n",
       "11     ANC2004\n",
       "12     ANC2005\n",
       "13     ANC2006\n",
       "14     ANC2007\n",
       "15     ANC2008\n",
       "16     ANC2009\n",
       "17     ANC2010\n",
       "18     ANC2011\n",
       "19     ANC2012\n",
       "20     ANC2013\n",
       "21     ANC2014\n",
       "22     ATL2004\n",
       "23     ATL2005\n",
       "24     ATL2006\n",
       "25     ATL2007\n",
       "26     ATL2008\n",
       "27     ATL2009\n",
       "28     ATL2010\n",
       "29     ATL2011\n",
       "        ...   \n",
       "775    SWF2007\n",
       "776    SWF2008\n",
       "777    SWF2009\n",
       "778    SWF2010\n",
       "779    SWF2011\n",
       "780    SWF2012\n",
       "781    SWF2013\n",
       "782    SWF2014\n",
       "783    TPA2004\n",
       "784    TPA2005\n",
       "785    TPA2006\n",
       "786    TPA2007\n",
       "787    TPA2008\n",
       "788    TPA2009\n",
       "789    TPA2010\n",
       "790    TPA2011\n",
       "791    TPA2012\n",
       "792    TPA2013\n",
       "793    TPA2014\n",
       "794    TUS2004\n",
       "795    TUS2005\n",
       "796    TUS2006\n",
       "797    TUS2007\n",
       "798    TUS2008\n",
       "799    TUS2009\n",
       "800    TUS2010\n",
       "801    TUS2011\n",
       "802    TUS2012\n",
       "803    TUS2013\n",
       "804    TUS2014\n",
       "Name: airport_year, dtype: object"
      ]
     },
     "execution_count": 6,
     "metadata": {},
     "output_type": "execute_result"
    }
   ],
   "source": [
    "cancelations\n",
    "\n",
    "cancelations['str_year'] = cancelations['Year'].apply(lambda x: str(int(x)))\n",
    "cancelations['airport_year'] = cancelations['Airport'] + cancelations['str_year']\n",
    "cancelations['airport_year']"
   ]
  },
  {
   "cell_type": "code",
   "execution_count": 7,
   "metadata": {
    "collapsed": false
   },
   "outputs": [
    {
     "data": {
      "text/html": [
       "<div>\n",
       "<table border=\"1\" class=\"dataframe\">\n",
       "  <thead>\n",
       "    <tr style=\"text-align: right;\">\n",
       "      <th></th>\n",
       "      <th>airport</th>\n",
       "      <th>year</th>\n",
       "      <th>departures for metric computation</th>\n",
       "      <th>arrivals for metric computation</th>\n",
       "      <th>percent on-time gate departures</th>\n",
       "      <th>percent on-time airport departures</th>\n",
       "      <th>percent on-time gate arrivals</th>\n",
       "      <th>average_gate_departure_delay</th>\n",
       "      <th>average_taxi_out_time</th>\n",
       "      <th>average taxi out delay</th>\n",
       "      <th>average airport departure delay</th>\n",
       "      <th>average airborne delay</th>\n",
       "      <th>average taxi in delay</th>\n",
       "      <th>average block delay</th>\n",
       "      <th>average gate arrival delay</th>\n",
       "      <th>str_year</th>\n",
       "      <th>airport_year</th>\n",
       "    </tr>\n",
       "  </thead>\n",
       "  <tbody>\n",
       "    <tr>\n",
       "      <th>0</th>\n",
       "      <td>ABQ</td>\n",
       "      <td>2004</td>\n",
       "      <td>53971</td>\n",
       "      <td>53818</td>\n",
       "      <td>0.8030</td>\n",
       "      <td>0.7809</td>\n",
       "      <td>0.7921</td>\n",
       "      <td>10.38</td>\n",
       "      <td>9.89</td>\n",
       "      <td>2.43</td>\n",
       "      <td>12.10</td>\n",
       "      <td>2.46</td>\n",
       "      <td>0.83</td>\n",
       "      <td>2.55</td>\n",
       "      <td>10.87</td>\n",
       "      <td>2004</td>\n",
       "      <td>ABQ2004</td>\n",
       "    </tr>\n",
       "    <tr>\n",
       "      <th>1</th>\n",
       "      <td>ABQ</td>\n",
       "      <td>2005</td>\n",
       "      <td>51829</td>\n",
       "      <td>51877</td>\n",
       "      <td>0.8140</td>\n",
       "      <td>0.7922</td>\n",
       "      <td>0.8001</td>\n",
       "      <td>9.60</td>\n",
       "      <td>9.79</td>\n",
       "      <td>2.29</td>\n",
       "      <td>11.20</td>\n",
       "      <td>2.26</td>\n",
       "      <td>0.89</td>\n",
       "      <td>2.34</td>\n",
       "      <td>10.24</td>\n",
       "      <td>2005</td>\n",
       "      <td>ABQ2005</td>\n",
       "    </tr>\n",
       "    <tr>\n",
       "      <th>2</th>\n",
       "      <td>ABQ</td>\n",
       "      <td>2006</td>\n",
       "      <td>49682</td>\n",
       "      <td>51199</td>\n",
       "      <td>0.7983</td>\n",
       "      <td>0.7756</td>\n",
       "      <td>0.7746</td>\n",
       "      <td>10.84</td>\n",
       "      <td>9.89</td>\n",
       "      <td>2.16</td>\n",
       "      <td>12.33</td>\n",
       "      <td>2.12</td>\n",
       "      <td>0.84</td>\n",
       "      <td>2.66</td>\n",
       "      <td>11.82</td>\n",
       "      <td>2006</td>\n",
       "      <td>ABQ2006</td>\n",
       "    </tr>\n",
       "    <tr>\n",
       "      <th>3</th>\n",
       "      <td>ABQ</td>\n",
       "      <td>2007</td>\n",
       "      <td>53255</td>\n",
       "      <td>53611</td>\n",
       "      <td>0.8005</td>\n",
       "      <td>0.7704</td>\n",
       "      <td>0.7647</td>\n",
       "      <td>11.29</td>\n",
       "      <td>10.34</td>\n",
       "      <td>2.40</td>\n",
       "      <td>12.95</td>\n",
       "      <td>2.19</td>\n",
       "      <td>1.29</td>\n",
       "      <td>3.06</td>\n",
       "      <td>12.71</td>\n",
       "      <td>2007</td>\n",
       "      <td>ABQ2007</td>\n",
       "    </tr>\n",
       "    <tr>\n",
       "      <th>4</th>\n",
       "      <td>ABQ</td>\n",
       "      <td>2008</td>\n",
       "      <td>49589</td>\n",
       "      <td>49512</td>\n",
       "      <td>0.8103</td>\n",
       "      <td>0.7844</td>\n",
       "      <td>0.7875</td>\n",
       "      <td>10.79</td>\n",
       "      <td>10.41</td>\n",
       "      <td>2.41</td>\n",
       "      <td>12.32</td>\n",
       "      <td>1.82</td>\n",
       "      <td>1.03</td>\n",
       "      <td>2.79</td>\n",
       "      <td>11.48</td>\n",
       "      <td>2008</td>\n",
       "      <td>ABQ2008</td>\n",
       "    </tr>\n",
       "  </tbody>\n",
       "</table>\n",
       "</div>"
      ],
      "text/plain": [
       "  airport  year  departures for metric computation  \\\n",
       "0     ABQ  2004                              53971   \n",
       "1     ABQ  2005                              51829   \n",
       "2     ABQ  2006                              49682   \n",
       "3     ABQ  2007                              53255   \n",
       "4     ABQ  2008                              49589   \n",
       "\n",
       "   arrivals for metric computation  percent on-time gate departures  \\\n",
       "0                            53818                           0.8030   \n",
       "1                            51877                           0.8140   \n",
       "2                            51199                           0.7983   \n",
       "3                            53611                           0.8005   \n",
       "4                            49512                           0.8103   \n",
       "\n",
       "   percent on-time airport departures  percent on-time gate arrivals  \\\n",
       "0                              0.7809                         0.7921   \n",
       "1                              0.7922                         0.8001   \n",
       "2                              0.7756                         0.7746   \n",
       "3                              0.7704                         0.7647   \n",
       "4                              0.7844                         0.7875   \n",
       "\n",
       "   average_gate_departure_delay  average_taxi_out_time  \\\n",
       "0                         10.38                   9.89   \n",
       "1                          9.60                   9.79   \n",
       "2                         10.84                   9.89   \n",
       "3                         11.29                  10.34   \n",
       "4                         10.79                  10.41   \n",
       "\n",
       "   average taxi out delay  average airport departure delay  \\\n",
       "0                    2.43                            12.10   \n",
       "1                    2.29                            11.20   \n",
       "2                    2.16                            12.33   \n",
       "3                    2.40                            12.95   \n",
       "4                    2.41                            12.32   \n",
       "\n",
       "   average airborne delay  average taxi in delay  average block delay  \\\n",
       "0                    2.46                   0.83                 2.55   \n",
       "1                    2.26                   0.89                 2.34   \n",
       "2                    2.12                   0.84                 2.66   \n",
       "3                    2.19                   1.29                 3.06   \n",
       "4                    1.82                   1.03                 2.79   \n",
       "\n",
       "   average gate arrival delay str_year airport_year  \n",
       "0                       10.87     2004      ABQ2004  \n",
       "1                       10.24     2005      ABQ2005  \n",
       "2                       11.82     2006      ABQ2006  \n",
       "3                       12.71     2007      ABQ2007  \n",
       "4                       11.48     2008      ABQ2008  "
      ]
     },
     "execution_count": 7,
     "metadata": {},
     "output_type": "execute_result"
    }
   ],
   "source": [
    "ops.head()"
   ]
  },
  {
   "cell_type": "code",
   "execution_count": 8,
   "metadata": {
    "collapsed": false
   },
   "outputs": [],
   "source": [
    "df = pd.merge(ops, cancelations, how='left', on='airport_year')\n",
    "df = pd.merge(df, airports,how='left', left_on='airport', right_on='LocID')\n",
    "df.head()\n",
    "\n",
    "df.drop(['str_year_x', 'str_year_y', 'Airport', 'Year', 'airport_year'], axis=1, inplace=1)\n",
    "\n",
    "num_port = {}\n",
    "for i,v in enumerate(set(df['airport'])):\n",
    "    num_port[v] = i\n",
    "\n",
    "df['airport_num'] = df['airport'].apply(lambda x: num_port[x])\n",
    "# df['airport_num'].value_counts() #58 and 73 don't have 11\n",
    "# df[df['airport_num']==58] #no 2004-2007 data for these airports. \n",
    "# df[df['airport_num']==73]"
   ]
  },
  {
   "cell_type": "code",
   "execution_count": 9,
   "metadata": {
    "collapsed": false
   },
   "outputs": [
    {
     "data": {
      "text/html": [
       "<div>\n",
       "<table border=\"1\" class=\"dataframe\">\n",
       "  <thead>\n",
       "    <tr style=\"text-align: right;\">\n",
       "      <th></th>\n",
       "      <th>airport</th>\n",
       "      <th>year</th>\n",
       "      <th>departures for metric computation</th>\n",
       "      <th>arrivals for metric computation</th>\n",
       "      <th>percent on-time gate departures</th>\n",
       "      <th>percent on-time airport departures</th>\n",
       "      <th>percent on-time gate arrivals</th>\n",
       "      <th>average_gate_departure_delay</th>\n",
       "      <th>average_taxi_out_time</th>\n",
       "      <th>average taxi out delay</th>\n",
       "      <th>...</th>\n",
       "      <th>Facility Type</th>\n",
       "      <th>FAA REGION</th>\n",
       "      <th>COUNTY</th>\n",
       "      <th>CITY</th>\n",
       "      <th>STATE</th>\n",
       "      <th>AP Type</th>\n",
       "      <th>Latitude</th>\n",
       "      <th>Longitude</th>\n",
       "      <th>Boundary Data Available</th>\n",
       "      <th>airport_num</th>\n",
       "    </tr>\n",
       "  </thead>\n",
       "  <tbody>\n",
       "    <tr>\n",
       "      <th>0</th>\n",
       "      <td>ABQ</td>\n",
       "      <td>2004</td>\n",
       "      <td>53971</td>\n",
       "      <td>53818</td>\n",
       "      <td>0.8030</td>\n",
       "      <td>0.7809</td>\n",
       "      <td>0.7921</td>\n",
       "      <td>10.38</td>\n",
       "      <td>9.89</td>\n",
       "      <td>2.43</td>\n",
       "      <td>...</td>\n",
       "      <td>Airport</td>\n",
       "      <td>ASW</td>\n",
       "      <td>BERNALILLO</td>\n",
       "      <td>ALBUQUERQUE</td>\n",
       "      <td>NM</td>\n",
       "      <td>Federalized/Commercial</td>\n",
       "      <td>35.040194</td>\n",
       "      <td>-106.609194</td>\n",
       "      <td>Yes</td>\n",
       "      <td>44</td>\n",
       "    </tr>\n",
       "    <tr>\n",
       "      <th>1</th>\n",
       "      <td>ABQ</td>\n",
       "      <td>2005</td>\n",
       "      <td>51829</td>\n",
       "      <td>51877</td>\n",
       "      <td>0.8140</td>\n",
       "      <td>0.7922</td>\n",
       "      <td>0.8001</td>\n",
       "      <td>9.60</td>\n",
       "      <td>9.79</td>\n",
       "      <td>2.29</td>\n",
       "      <td>...</td>\n",
       "      <td>Airport</td>\n",
       "      <td>ASW</td>\n",
       "      <td>BERNALILLO</td>\n",
       "      <td>ALBUQUERQUE</td>\n",
       "      <td>NM</td>\n",
       "      <td>Federalized/Commercial</td>\n",
       "      <td>35.040194</td>\n",
       "      <td>-106.609194</td>\n",
       "      <td>Yes</td>\n",
       "      <td>44</td>\n",
       "    </tr>\n",
       "    <tr>\n",
       "      <th>2</th>\n",
       "      <td>ABQ</td>\n",
       "      <td>2006</td>\n",
       "      <td>49682</td>\n",
       "      <td>51199</td>\n",
       "      <td>0.7983</td>\n",
       "      <td>0.7756</td>\n",
       "      <td>0.7746</td>\n",
       "      <td>10.84</td>\n",
       "      <td>9.89</td>\n",
       "      <td>2.16</td>\n",
       "      <td>...</td>\n",
       "      <td>Airport</td>\n",
       "      <td>ASW</td>\n",
       "      <td>BERNALILLO</td>\n",
       "      <td>ALBUQUERQUE</td>\n",
       "      <td>NM</td>\n",
       "      <td>Federalized/Commercial</td>\n",
       "      <td>35.040194</td>\n",
       "      <td>-106.609194</td>\n",
       "      <td>Yes</td>\n",
       "      <td>44</td>\n",
       "    </tr>\n",
       "    <tr>\n",
       "      <th>3</th>\n",
       "      <td>ABQ</td>\n",
       "      <td>2007</td>\n",
       "      <td>53255</td>\n",
       "      <td>53611</td>\n",
       "      <td>0.8005</td>\n",
       "      <td>0.7704</td>\n",
       "      <td>0.7647</td>\n",
       "      <td>11.29</td>\n",
       "      <td>10.34</td>\n",
       "      <td>2.40</td>\n",
       "      <td>...</td>\n",
       "      <td>Airport</td>\n",
       "      <td>ASW</td>\n",
       "      <td>BERNALILLO</td>\n",
       "      <td>ALBUQUERQUE</td>\n",
       "      <td>NM</td>\n",
       "      <td>Federalized/Commercial</td>\n",
       "      <td>35.040194</td>\n",
       "      <td>-106.609194</td>\n",
       "      <td>Yes</td>\n",
       "      <td>44</td>\n",
       "    </tr>\n",
       "    <tr>\n",
       "      <th>4</th>\n",
       "      <td>ABQ</td>\n",
       "      <td>2008</td>\n",
       "      <td>49589</td>\n",
       "      <td>49512</td>\n",
       "      <td>0.8103</td>\n",
       "      <td>0.7844</td>\n",
       "      <td>0.7875</td>\n",
       "      <td>10.79</td>\n",
       "      <td>10.41</td>\n",
       "      <td>2.41</td>\n",
       "      <td>...</td>\n",
       "      <td>Airport</td>\n",
       "      <td>ASW</td>\n",
       "      <td>BERNALILLO</td>\n",
       "      <td>ALBUQUERQUE</td>\n",
       "      <td>NM</td>\n",
       "      <td>Federalized/Commercial</td>\n",
       "      <td>35.040194</td>\n",
       "      <td>-106.609194</td>\n",
       "      <td>Yes</td>\n",
       "      <td>44</td>\n",
       "    </tr>\n",
       "  </tbody>\n",
       "</table>\n",
       "<p>5 rows × 33 columns</p>\n",
       "</div>"
      ],
      "text/plain": [
       "  airport  year  departures for metric computation  \\\n",
       "0     ABQ  2004                              53971   \n",
       "1     ABQ  2005                              51829   \n",
       "2     ABQ  2006                              49682   \n",
       "3     ABQ  2007                              53255   \n",
       "4     ABQ  2008                              49589   \n",
       "\n",
       "   arrivals for metric computation  percent on-time gate departures  \\\n",
       "0                            53818                           0.8030   \n",
       "1                            51877                           0.8140   \n",
       "2                            51199                           0.7983   \n",
       "3                            53611                           0.8005   \n",
       "4                            49512                           0.8103   \n",
       "\n",
       "   percent on-time airport departures  percent on-time gate arrivals  \\\n",
       "0                              0.7809                         0.7921   \n",
       "1                              0.7922                         0.8001   \n",
       "2                              0.7756                         0.7746   \n",
       "3                              0.7704                         0.7647   \n",
       "4                              0.7844                         0.7875   \n",
       "\n",
       "   average_gate_departure_delay  average_taxi_out_time  \\\n",
       "0                         10.38                   9.89   \n",
       "1                          9.60                   9.79   \n",
       "2                         10.84                   9.89   \n",
       "3                         11.29                  10.34   \n",
       "4                         10.79                  10.41   \n",
       "\n",
       "   average taxi out delay     ...       Facility Type  FAA REGION      COUNTY  \\\n",
       "0                    2.43     ...             Airport         ASW  BERNALILLO   \n",
       "1                    2.29     ...             Airport         ASW  BERNALILLO   \n",
       "2                    2.16     ...             Airport         ASW  BERNALILLO   \n",
       "3                    2.40     ...             Airport         ASW  BERNALILLO   \n",
       "4                    2.41     ...             Airport         ASW  BERNALILLO   \n",
       "\n",
       "          CITY  STATE                 AP Type   Latitude   Longitude  \\\n",
       "0  ALBUQUERQUE     NM  Federalized/Commercial  35.040194 -106.609194   \n",
       "1  ALBUQUERQUE     NM  Federalized/Commercial  35.040194 -106.609194   \n",
       "2  ALBUQUERQUE     NM  Federalized/Commercial  35.040194 -106.609194   \n",
       "3  ALBUQUERQUE     NM  Federalized/Commercial  35.040194 -106.609194   \n",
       "4  ALBUQUERQUE     NM  Federalized/Commercial  35.040194 -106.609194   \n",
       "\n",
       "   Boundary Data Available  airport_num  \n",
       "0                      Yes           44  \n",
       "1                      Yes           44  \n",
       "2                      Yes           44  \n",
       "3                      Yes           44  \n",
       "4                      Yes           44  \n",
       "\n",
       "[5 rows x 33 columns]"
      ]
     },
     "execution_count": 9,
     "metadata": {},
     "output_type": "execute_result"
    }
   ],
   "source": [
    "df.head()"
   ]
  },
  {
   "cell_type": "code",
   "execution_count": null,
   "metadata": {
    "collapsed": false
   },
   "outputs": [],
   "source": []
  },
  {
   "cell_type": "code",
   "execution_count": 10,
   "metadata": {
    "collapsed": false
   },
   "outputs": [
    {
     "data": {
      "text/plain": [
       "airport                                0\n",
       "year                                   0\n",
       "departures for metric computation      0\n",
       "arrivals for metric computation        0\n",
       "percent on-time gate departures        0\n",
       "percent on-time airport departures     0\n",
       "percent on-time gate arrivals          0\n",
       "average_gate_departure_delay           0\n",
       "average_taxi_out_time                  0\n",
       "average taxi out delay                 0\n",
       "average airport departure delay        0\n",
       "average airborne delay                 0\n",
       "average taxi in delay                  0\n",
       "average block delay                    0\n",
       "average gate arrival delay             0\n",
       "Departure Cancellations               42\n",
       "Arrival Cancellations                 42\n",
       "Departure Diversions                  42\n",
       "Arrival Diversions                    42\n",
       "Key                                    0\n",
       "LocID                                  0\n",
       "AP_NAME                                0\n",
       "ALIAS                                  0\n",
       "Facility Type                          0\n",
       "FAA REGION                             0\n",
       "COUNTY                                 0\n",
       "CITY                                   0\n",
       "STATE                                  0\n",
       "AP Type                                0\n",
       "Latitude                               0\n",
       "Longitude                              0\n",
       "Boundary Data Available                0\n",
       "airport_num                            0\n",
       "dtype: int64"
      ]
     },
     "execution_count": 10,
     "metadata": {},
     "output_type": "execute_result"
    }
   ],
   "source": [
    "df.isnull().sum() #last 4 from cancelations have nulls"
   ]
  },
  {
   "cell_type": "code",
   "execution_count": 11,
   "metadata": {
    "collapsed": false
   },
   "outputs": [
    {
     "data": {
      "text/plain": [
       "799"
      ]
     },
     "execution_count": 11,
     "metadata": {},
     "output_type": "execute_result"
    }
   ],
   "source": [
    "# df[df.isnull().any(axis=1)] #prints the nan rows\n",
    "df['airport'][df.isnull().any(axis=1)].unique() #prints the names of the airports I'm dropping\n",
    "#gary near chicago in IN, ventura california, rockford in chicago, TEB in NJ, VNY in LA, CA. Doesn't seem like I'm losing a ton by dropping these\n",
    "\n",
    "df.dropna(axis=0, how='any', inplace=1)\n",
    "len(df)"
   ]
  },
  {
   "cell_type": "code",
   "execution_count": 12,
   "metadata": {
    "collapsed": false
   },
   "outputs": [
    {
     "data": {
      "text/plain": [
       "<matplotlib.axes._subplots.AxesSubplot at 0x11b16a690>"
      ]
     },
     "execution_count": 12,
     "metadata": {},
     "output_type": "execute_result"
    },
    {
     "data": {
      "image/png": "[encoded data removed]",
      "text/plain": [
       "<matplotlib.figure.Figure at 0x11b157ed0>"
      ]
     },
     "metadata": {},
     "output_type": "display_data"
    }
   ],
   "source": [
    "import seaborn as sns\n",
    "\n",
    "df['diff_gate_airport_departures'] = df['percent on-time gate departures'] - df['percent on-time airport departures']\n",
    "df['diff_gate_airport_departures']\n",
    "\n",
    "sns.distplot(df['percent on-time gate departures'], color=\"blue\")\n",
    "sns.distplot(df['percent on-time airport departures'], color=\"green\")\n",
    "sns.distplot(df['percent on-time gate arrivals'], color=\"red\")\n",
    "sns.distplot(df['diff_gate_airport_departures'], color=\"purple\")\n"
   ]
  },
  {
   "cell_type": "code",
   "execution_count": 13,
   "metadata": {
    "collapsed": false
   },
   "outputs": [],
   "source": [
    "# df['Departure Cancellations'].value_counts()"
   ]
  },
  {
   "cell_type": "markdown",
   "metadata": {
    "focus": false,
    "id": "3690c265-ac0f-484d-ac79-f42da341e4cd"
   },
   "source": [
    "### Intro: Write a problem statement / aim for this project"
   ]
  },
  {
   "cell_type": "markdown",
   "metadata": {
    "focus": false,
    "id": "58297e17-aa21-4d1d-a46b-a36a4b92aac7"
   },
   "source": []
  },
  {
   "cell_type": "markdown",
   "metadata": {
    "focus": false,
    "id": "a3cccc0e-8531-4dfe-bb23-8c632aa7404e"
   },
   "source": [
    "### Part 1: Create a PostgreSQL database "
   ]
  },
  {
   "cell_type": "markdown",
   "metadata": {
    "focus": false,
    "id": "b51ca850-aa85-43e1-b7cd-627af62f5fe8"
   },
   "source": [
    "#### 1. Let's create a database where we can house our airport data"
   ]
  },
  {
   "cell_type": "code",
   "execution_count": 14,
   "metadata": {
    "collapsed": false,
    "focus": false,
    "id": "5d1b5e84-b49a-4bad-b961-abcb8e6f2751"
   },
   "outputs": [],
   "source": [
    "# #Will return to this later in week\n",
    "# from sqlalchemy import create_engine\n",
    "# from sqlalchemy.engine.url import URL\n",
    "# import psycopg2\n",
    "\n",
    "\n",
    "# %load_ext sql\n",
    "\n",
    "# df1 = df\n",
    "\n",
    "# df1.columns = [c.lower().replace(' ','') for c in df1.columns] #postgres doesn't like capitals or spaces\n",
    "\n",
    "# engine = create_engine('postgresql://localhost:5432')\n",
    "# df1.to_sql('airport_ops', engine)"
   ]
  },
  {
   "cell_type": "markdown",
   "metadata": {
    "focus": false,
    "id": "b40e2d2b-5535-42c6-94d6-083b3e428b14"
   },
   "source": [
    "Load our csv files into tables"
   ]
  },
  {
   "cell_type": "code",
   "execution_count": null,
   "metadata": {
    "collapsed": true,
    "focus": false,
    "id": "5cb41423-7467-4005-964c-9b423c3af977"
   },
   "outputs": [],
   "source": []
  },
  {
   "cell_type": "markdown",
   "metadata": {
    "focus": false,
    "id": "a0ca5023-4860-4d86-ae40-218d120ece17"
   },
   "source": [
    "Join airport_cancellations.csv and airports.csv into one table"
   ]
  },
  {
   "cell_type": "code",
   "execution_count": 15,
   "metadata": {
    "collapsed": true,
    "focus": false,
    "id": "0192b97c-b99f-498b-b64b-f857451b5218"
   },
   "outputs": [],
   "source": [
    "#done above"
   ]
  },
  {
   "cell_type": "markdown",
   "metadata": {
    "focus": false,
    "id": "a5fa5f85-1cd6-4ab6-b936-93e9c951e1b7"
   },
   "source": [
    "Query the database for our intial data"
   ]
  },
  {
   "cell_type": "code",
   "execution_count": 16,
   "metadata": {
    "collapsed": false,
    "focus": false,
    "id": "385da01a-0b74-47bc-9757-447e46fa194a"
   },
   "outputs": [
    {
     "name": "stderr",
     "output_type": "stream",
     "text": [
      "ERROR: Cell magic `%%sql` not found.\n"
     ]
    }
   ],
   "source": [
    "%%sql postgresql://localhost:5432/\n",
    "        \n",
    "SELECT * FROM airport_ops;"
   ]
  },
  {
   "cell_type": "markdown",
   "metadata": {
    "focus": false,
    "id": "0b511b59-41ea-478f-bf2d-7e392dc9edaa"
   },
   "source": [
    "#### 1.2 What are the risks and assumptions of our data? "
   ]
  },
  {
   "cell_type": "markdown",
   "metadata": {
    "focus": false,
    "id": "0936ff6a-6919-4436-9fc1-d6ef90d5ba9e"
   },
   "source": []
  },
  {
   "cell_type": "markdown",
   "metadata": {
    "focus": false,
    "id": "e97b4707-0f0e-4f6a-90ab-fbb634c2305d"
   },
   "source": [
    "### Part 2: Exploratory Data Analysis"
   ]
  },
  {
   "cell_type": "markdown",
   "metadata": {
    "focus": false,
    "id": "6be9cf88-1b92-4360-b424-a495d5e2d4ba"
   },
   "source": [
    "#### 2.1 Plot and Describe the Data"
   ]
  },
  {
   "cell_type": "code",
   "execution_count": 17,
   "metadata": {
    "collapsed": false
   },
   "outputs": [
    {
     "data": {
      "text/plain": [
       "Index([u'airport', u'year', u'departures for metric computation',\n",
       "       u'arrivals for metric computation', u'percent on-time gate departures',\n",
       "       u'percent on-time airport departures', u'percent on-time gate arrivals',\n",
       "       u'average_gate_departure_delay', u'average_taxi_out_time',\n",
       "       u'average taxi out delay', u'average airport departure delay',\n",
       "       u'average airborne delay', u'average taxi in delay',\n",
       "       u'average block delay', u'average gate arrival delay',\n",
       "       u'Departure Cancellations', u'Arrival Cancellations',\n",
       "       u'Departure Diversions', u'Arrival Diversions', u'Key', u'LocID',\n",
       "       u'AP_NAME', u'ALIAS', u'Facility Type', u'FAA REGION', u'COUNTY',\n",
       "       u'CITY', u'STATE', u'AP Type', u'Latitude', u'Longitude',\n",
       "       u'Boundary Data Available', u'airport_num',\n",
       "       u'diff_gate_airport_departures'],\n",
       "      dtype='object')"
      ]
     },
     "execution_count": 17,
     "metadata": {},
     "output_type": "execute_result"
    }
   ],
   "source": [
    "df.columns"
   ]
  },
  {
   "cell_type": "code",
   "execution_count": 18,
   "metadata": {
    "collapsed": false
   },
   "outputs": [],
   "source": [
    "# df.describe().columns#\n",
    "\n",
    "\n",
    "# orig_index(['year', 'departures for metric computation',\n",
    "#        'arrivals for metric computation', 'percent on-time gate departures',\n",
    "#        'percent on-time airport departures', 'percent on-time gate arrivals',\n",
    "#        'average_gate_departure_delay', 'average_taxi_out_time',\n",
    "#        'average taxi out delay', 'average airport departure delay',\n",
    "#        'average airborne delay', 'average taxi in delay',\n",
    "#        'average block delay', 'average gate arrival delay',\n",
    "#        'Departure Cancellations', 'Arrival Cancellations',\n",
    "#        'Departure Diversions', 'Arrival Diversions', 'Key', 'Latitude',\n",
    "#        'Longitude', 'airport_num', 'diff_gate_airport_departures'],\n",
    "#       dtype='object')"
   ]
  },
  {
   "cell_type": "code",
   "execution_count": 19,
   "metadata": {
    "collapsed": false
   },
   "outputs": [],
   "source": [
    "decade_agg_ap = pd.pivot_table(df, index='airport')\n",
    "grouped_years = pd.pivot_table(df, index='year')"
   ]
  },
  {
   "cell_type": "code",
   "execution_count": 20,
   "metadata": {
    "collapsed": false,
    "focus": false,
    "id": "41ff90a9-0d50-4a8e-97c4-fe429fffc1f7"
   },
   "outputs": [],
   "source": [
    "import seaborn as sns\n",
    "\n",
    "# sns.pairplot(decade_agg_ap.describe().iloc[:,10:-1])"
   ]
  },
  {
   "cell_type": "code",
   "execution_count": 21,
   "metadata": {
    "collapsed": false
   },
   "outputs": [],
   "source": [
    "# sns.pairplot(grouped_years.describe().iloc[:,10:-1])"
   ]
  },
  {
   "cell_type": "code",
   "execution_count": 22,
   "metadata": {
    "collapsed": false
   },
   "outputs": [
    {
     "data": {
      "text/plain": [
       "<seaborn.axisgrid.PairGrid at 0x11d4fc850>"
      ]
     },
     "execution_count": 22,
     "metadata": {},
     "output_type": "execute_result"
    },
    {
     "data": {
      "image/png": "[encoded data removed]",
      "text/plain": [
       "<matplotlib.figure.Figure at 0x11d591b50>"
      ]
     },
     "metadata": {},
     "output_type": "display_data"
    }
   ],
   "source": [
    "sns.pairplot(df.describe().iloc[:,4:12])"
   ]
  },
  {
   "cell_type": "markdown",
   "metadata": {
    "focus": false,
    "id": "3d12188d-3aa9-4d47-a0e8-b5d6e8f071de"
   },
   "source": [
    "#### Are there any unique values? "
   ]
  },
  {
   "cell_type": "code",
   "execution_count": 23,
   "metadata": {
    "collapsed": false,
    "focus": false,
    "id": "d76cfc84-4d16-4f6f-aca8-3dc77d3b8f5c"
   },
   "outputs": [
    {
     "data": {
      "text/html": [
       "<div>\n",
       "<table border=\"1\" class=\"dataframe\">\n",
       "  <thead>\n",
       "    <tr style=\"text-align: right;\">\n",
       "      <th></th>\n",
       "      <th>Arrival Cancellations</th>\n",
       "      <th>Arrival Diversions</th>\n",
       "      <th>Departure Cancellations</th>\n",
       "      <th>Departure Diversions</th>\n",
       "      <th>Key</th>\n",
       "      <th>Latitude</th>\n",
       "      <th>Longitude</th>\n",
       "      <th>airport_num</th>\n",
       "      <th>arrivals for metric computation</th>\n",
       "      <th>average airborne delay</th>\n",
       "      <th>...</th>\n",
       "      <th>average taxi in delay</th>\n",
       "      <th>average taxi out delay</th>\n",
       "      <th>average_gate_departure_delay</th>\n",
       "      <th>average_taxi_out_time</th>\n",
       "      <th>departures for metric computation</th>\n",
       "      <th>diff_gate_airport_departures</th>\n",
       "      <th>percent on-time airport departures</th>\n",
       "      <th>percent on-time gate arrivals</th>\n",
       "      <th>percent on-time gate departures</th>\n",
       "      <th>Year</th>\n",
       "    </tr>\n",
       "    <tr>\n",
       "      <th>year</th>\n",
       "      <th></th>\n",
       "      <th></th>\n",
       "      <th></th>\n",
       "      <th></th>\n",
       "      <th></th>\n",
       "      <th></th>\n",
       "      <th></th>\n",
       "      <th></th>\n",
       "      <th></th>\n",
       "      <th></th>\n",
       "      <th></th>\n",
       "      <th></th>\n",
       "      <th></th>\n",
       "      <th></th>\n",
       "      <th></th>\n",
       "      <th></th>\n",
       "      <th></th>\n",
       "      <th></th>\n",
       "      <th></th>\n",
       "      <th></th>\n",
       "      <th></th>\n",
       "    </tr>\n",
       "  </thead>\n",
       "  <tbody>\n",
       "    <tr>\n",
       "      <th>2004</th>\n",
       "      <td>1487.070423</td>\n",
       "      <td>160.887324</td>\n",
       "      <td>1439.000000</td>\n",
       "      <td>160.676056</td>\n",
       "      <td>1735.281690</td>\n",
       "      <td>36.396961</td>\n",
       "      <td>-94.574346</td>\n",
       "      <td>37.633803</td>\n",
       "      <td>118353.070423</td>\n",
       "      <td>3.390986</td>\n",
       "      <td>...</td>\n",
       "      <td>1.253803</td>\n",
       "      <td>4.015915</td>\n",
       "      <td>11.955493</td>\n",
       "      <td>13.886197</td>\n",
       "      <td>118986.211268</td>\n",
       "      <td>0.053428</td>\n",
       "      <td>0.733166</td>\n",
       "      <td>0.768585</td>\n",
       "      <td>0.786594</td>\n",
       "      <td>2004</td>\n",
       "    </tr>\n",
       "    <tr>\n",
       "      <th>2005</th>\n",
       "      <td>1546.422535</td>\n",
       "      <td>164.169014</td>\n",
       "      <td>1501.323944</td>\n",
       "      <td>166.140845</td>\n",
       "      <td>1735.281690</td>\n",
       "      <td>36.396961</td>\n",
       "      <td>-94.574346</td>\n",
       "      <td>37.633803</td>\n",
       "      <td>126686.000000</td>\n",
       "      <td>3.322394</td>\n",
       "      <td>...</td>\n",
       "      <td>1.516197</td>\n",
       "      <td>4.023662</td>\n",
       "      <td>12.728732</td>\n",
       "      <td>13.810563</td>\n",
       "      <td>127418.563380</td>\n",
       "      <td>0.053628</td>\n",
       "      <td>0.718992</td>\n",
       "      <td>0.758573</td>\n",
       "      <td>0.772620</td>\n",
       "      <td>2005</td>\n",
       "    </tr>\n",
       "    <tr>\n",
       "      <th>2006</th>\n",
       "      <td>1384.486111</td>\n",
       "      <td>193.097222</td>\n",
       "      <td>1344.069444</td>\n",
       "      <td>186.819444</td>\n",
       "      <td>1727.361111</td>\n",
       "      <td>36.477495</td>\n",
       "      <td>-94.498275</td>\n",
       "      <td>37.777778</td>\n",
       "      <td>121796.638889</td>\n",
       "      <td>3.242500</td>\n",
       "      <td>...</td>\n",
       "      <td>1.458333</td>\n",
       "      <td>4.166389</td>\n",
       "      <td>13.125833</td>\n",
       "      <td>14.144444</td>\n",
       "      <td>122675.000000</td>\n",
       "      <td>0.057726</td>\n",
       "      <td>0.710628</td>\n",
       "      <td>0.748257</td>\n",
       "      <td>0.768354</td>\n",
       "      <td>2006</td>\n",
       "    </tr>\n",
       "    <tr>\n",
       "      <th>2007</th>\n",
       "      <td>1781.567568</td>\n",
       "      <td>196.918919</td>\n",
       "      <td>1732.513514</td>\n",
       "      <td>190.891892</td>\n",
       "      <td>1697.729730</td>\n",
       "      <td>36.471686</td>\n",
       "      <td>-95.161801</td>\n",
       "      <td>38.527027</td>\n",
       "      <td>120772.243243</td>\n",
       "      <td>3.346486</td>\n",
       "      <td>...</td>\n",
       "      <td>1.657838</td>\n",
       "      <td>4.469730</td>\n",
       "      <td>14.282297</td>\n",
       "      <td>14.573108</td>\n",
       "      <td>121056.864865</td>\n",
       "      <td>0.066832</td>\n",
       "      <td>0.691212</td>\n",
       "      <td>0.731392</td>\n",
       "      <td>0.758045</td>\n",
       "      <td>2007</td>\n",
       "    </tr>\n",
       "    <tr>\n",
       "      <th>2008</th>\n",
       "      <td>1542.216216</td>\n",
       "      <td>195.851351</td>\n",
       "      <td>1495.324324</td>\n",
       "      <td>196.594595</td>\n",
       "      <td>1697.729730</td>\n",
       "      <td>36.471686</td>\n",
       "      <td>-95.161801</td>\n",
       "      <td>38.527027</td>\n",
       "      <td>115291.175676</td>\n",
       "      <td>3.144595</td>\n",
       "      <td>...</td>\n",
       "      <td>1.461216</td>\n",
       "      <td>4.015270</td>\n",
       "      <td>13.453243</td>\n",
       "      <td>14.359730</td>\n",
       "      <td>115622.216216</td>\n",
       "      <td>0.057545</td>\n",
       "      <td>0.719423</td>\n",
       "      <td>0.755453</td>\n",
       "      <td>0.776968</td>\n",
       "      <td>2008</td>\n",
       "    </tr>\n",
       "    <tr>\n",
       "      <th>2009</th>\n",
       "      <td>1011.739726</td>\n",
       "      <td>170.835616</td>\n",
       "      <td>969.205479</td>\n",
       "      <td>180.054795</td>\n",
       "      <td>1705.027397</td>\n",
       "      <td>36.393279</td>\n",
       "      <td>-95.244877</td>\n",
       "      <td>38.397260</td>\n",
       "      <td>108056.849315</td>\n",
       "      <td>2.884658</td>\n",
       "      <td>...</td>\n",
       "      <td>1.379452</td>\n",
       "      <td>3.606301</td>\n",
       "      <td>11.664384</td>\n",
       "      <td>13.968767</td>\n",
       "      <td>108484.246575</td>\n",
       "      <td>0.051338</td>\n",
       "      <td>0.751647</td>\n",
       "      <td>0.789962</td>\n",
       "      <td>0.802985</td>\n",
       "      <td>2009</td>\n",
       "    </tr>\n",
       "    <tr>\n",
       "      <th>2010</th>\n",
       "      <td>1292.123288</td>\n",
       "      <td>170.287671</td>\n",
       "      <td>1247.931507</td>\n",
       "      <td>179.849315</td>\n",
       "      <td>1705.027397</td>\n",
       "      <td>36.393279</td>\n",
       "      <td>-95.244877</td>\n",
       "      <td>38.397260</td>\n",
       "      <td>107772.767123</td>\n",
       "      <td>2.734384</td>\n",
       "      <td>...</td>\n",
       "      <td>1.407260</td>\n",
       "      <td>3.393562</td>\n",
       "      <td>12.170685</td>\n",
       "      <td>13.668767</td>\n",
       "      <td>108230.835616</td>\n",
       "      <td>0.049179</td>\n",
       "      <td>0.742793</td>\n",
       "      <td>0.784225</td>\n",
       "      <td>0.791973</td>\n",
       "      <td>2010</td>\n",
       "    </tr>\n",
       "    <tr>\n",
       "      <th>2011</th>\n",
       "      <td>1328.150685</td>\n",
       "      <td>161.342466</td>\n",
       "      <td>1293.068493</td>\n",
       "      <td>171.013699</td>\n",
       "      <td>1712.534247</td>\n",
       "      <td>36.502794</td>\n",
       "      <td>-94.832411</td>\n",
       "      <td>38.479452</td>\n",
       "      <td>107818.452055</td>\n",
       "      <td>2.580137</td>\n",
       "      <td>...</td>\n",
       "      <td>1.291918</td>\n",
       "      <td>3.153836</td>\n",
       "      <td>12.714658</td>\n",
       "      <td>13.477397</td>\n",
       "      <td>108212.575342</td>\n",
       "      <td>0.043723</td>\n",
       "      <td>0.743247</td>\n",
       "      <td>0.780868</td>\n",
       "      <td>0.786970</td>\n",
       "      <td>2011</td>\n",
       "    </tr>\n",
       "    <tr>\n",
       "      <th>2012</th>\n",
       "      <td>906.575342</td>\n",
       "      <td>137.575342</td>\n",
       "      <td>878.356164</td>\n",
       "      <td>147.904110</td>\n",
       "      <td>1712.534247</td>\n",
       "      <td>36.502794</td>\n",
       "      <td>-94.832411</td>\n",
       "      <td>38.479452</td>\n",
       "      <td>106035.589041</td>\n",
       "      <td>2.242877</td>\n",
       "      <td>...</td>\n",
       "      <td>1.325068</td>\n",
       "      <td>3.009315</td>\n",
       "      <td>11.884932</td>\n",
       "      <td>13.302877</td>\n",
       "      <td>106332.890411</td>\n",
       "      <td>0.041678</td>\n",
       "      <td>0.756963</td>\n",
       "      <td>0.797562</td>\n",
       "      <td>0.798641</td>\n",
       "      <td>2012</td>\n",
       "    </tr>\n",
       "    <tr>\n",
       "      <th>2013</th>\n",
       "      <td>1059.931507</td>\n",
       "      <td>157.479452</td>\n",
       "      <td>1021.369863</td>\n",
       "      <td>164.698630</td>\n",
       "      <td>1712.534247</td>\n",
       "      <td>36.502794</td>\n",
       "      <td>-94.832411</td>\n",
       "      <td>38.479452</td>\n",
       "      <td>105086.273973</td>\n",
       "      <td>2.218767</td>\n",
       "      <td>...</td>\n",
       "      <td>1.382740</td>\n",
       "      <td>3.463699</td>\n",
       "      <td>13.333425</td>\n",
       "      <td>13.752192</td>\n",
       "      <td>105445.739726</td>\n",
       "      <td>0.050770</td>\n",
       "      <td>0.721893</td>\n",
       "      <td>0.767186</td>\n",
       "      <td>0.772663</td>\n",
       "      <td>2013</td>\n",
       "    </tr>\n",
       "    <tr>\n",
       "      <th>2014</th>\n",
       "      <td>1413.902778</td>\n",
       "      <td>163.458333</td>\n",
       "      <td>1372.652778</td>\n",
       "      <td>171.111111</td>\n",
       "      <td>1720.138889</td>\n",
       "      <td>36.423730</td>\n",
       "      <td>-94.912067</td>\n",
       "      <td>38.347222</td>\n",
       "      <td>105779.638889</td>\n",
       "      <td>2.539722</td>\n",
       "      <td>...</td>\n",
       "      <td>1.416944</td>\n",
       "      <td>3.201667</td>\n",
       "      <td>14.446806</td>\n",
       "      <td>13.640556</td>\n",
       "      <td>106147.680556</td>\n",
       "      <td>0.047785</td>\n",
       "      <td>0.706613</td>\n",
       "      <td>0.753465</td>\n",
       "      <td>0.754397</td>\n",
       "      <td>2014</td>\n",
       "    </tr>\n",
       "  </tbody>\n",
       "</table>\n",
       "<p>11 rows × 23 columns</p>\n",
       "</div>"
      ],
      "text/plain": [
       "      Arrival Cancellations  Arrival Diversions  Departure Cancellations  \\\n",
       "year                                                                       \n",
       "2004            1487.070423          160.887324              1439.000000   \n",
       "2005            1546.422535          164.169014              1501.323944   \n",
       "2006            1384.486111          193.097222              1344.069444   \n",
       "2007            1781.567568          196.918919              1732.513514   \n",
       "2008            1542.216216          195.851351              1495.324324   \n",
       "2009            1011.739726          170.835616               969.205479   \n",
       "2010            1292.123288          170.287671              1247.931507   \n",
       "2011            1328.150685          161.342466              1293.068493   \n",
       "2012             906.575342          137.575342               878.356164   \n",
       "2013            1059.931507          157.479452              1021.369863   \n",
       "2014            1413.902778          163.458333              1372.652778   \n",
       "\n",
       "      Departure Diversions          Key   Latitude  Longitude  airport_num  \\\n",
       "year                                                                         \n",
       "2004            160.676056  1735.281690  36.396961 -94.574346    37.633803   \n",
       "2005            166.140845  1735.281690  36.396961 -94.574346    37.633803   \n",
       "2006            186.819444  1727.361111  36.477495 -94.498275    37.777778   \n",
       "2007            190.891892  1697.729730  36.471686 -95.161801    38.527027   \n",
       "2008            196.594595  1697.729730  36.471686 -95.161801    38.527027   \n",
       "2009            180.054795  1705.027397  36.393279 -95.244877    38.397260   \n",
       "2010            179.849315  1705.027397  36.393279 -95.244877    38.397260   \n",
       "2011            171.013699  1712.534247  36.502794 -94.832411    38.479452   \n",
       "2012            147.904110  1712.534247  36.502794 -94.832411    38.479452   \n",
       "2013            164.698630  1712.534247  36.502794 -94.832411    38.479452   \n",
       "2014            171.111111  1720.138889  36.423730 -94.912067    38.347222   \n",
       "\n",
       "      arrivals for metric computation  average airborne delay  ...   \\\n",
       "year                                                           ...    \n",
       "2004                    118353.070423                3.390986  ...    \n",
       "2005                    126686.000000                3.322394  ...    \n",
       "2006                    121796.638889                3.242500  ...    \n",
       "2007                    120772.243243                3.346486  ...    \n",
       "2008                    115291.175676                3.144595  ...    \n",
       "2009                    108056.849315                2.884658  ...    \n",
       "2010                    107772.767123                2.734384  ...    \n",
       "2011                    107818.452055                2.580137  ...    \n",
       "2012                    106035.589041                2.242877  ...    \n",
       "2013                    105086.273973                2.218767  ...    \n",
       "2014                    105779.638889                2.539722  ...    \n",
       "\n",
       "      average taxi in delay  average taxi out delay  \\\n",
       "year                                                  \n",
       "2004               1.253803                4.015915   \n",
       "2005               1.516197                4.023662   \n",
       "2006               1.458333                4.166389   \n",
       "2007               1.657838                4.469730   \n",
       "2008               1.461216                4.015270   \n",
       "2009               1.379452                3.606301   \n",
       "2010               1.407260                3.393562   \n",
       "2011               1.291918                3.153836   \n",
       "2012               1.325068                3.009315   \n",
       "2013               1.382740                3.463699   \n",
       "2014               1.416944                3.201667   \n",
       "\n",
       "      average_gate_departure_delay  average_taxi_out_time  \\\n",
       "year                                                        \n",
       "2004                     11.955493              13.886197   \n",
       "2005                     12.728732              13.810563   \n",
       "2006                     13.125833              14.144444   \n",
       "2007                     14.282297              14.573108   \n",
       "2008                     13.453243              14.359730   \n",
       "2009                     11.664384              13.968767   \n",
       "2010                     12.170685              13.668767   \n",
       "2011                     12.714658              13.477397   \n",
       "2012                     11.884932              13.302877   \n",
       "2013                     13.333425              13.752192   \n",
       "2014                     14.446806              13.640556   \n",
       "\n",
       "      departures for metric computation  diff_gate_airport_departures  \\\n",
       "year                                                                    \n",
       "2004                      118986.211268                      0.053428   \n",
       "2005                      127418.563380                      0.053628   \n",
       "2006                      122675.000000                      0.057726   \n",
       "2007                      121056.864865                      0.066832   \n",
       "2008                      115622.216216                      0.057545   \n",
       "2009                      108484.246575                      0.051338   \n",
       "2010                      108230.835616                      0.049179   \n",
       "2011                      108212.575342                      0.043723   \n",
       "2012                      106332.890411                      0.041678   \n",
       "2013                      105445.739726                      0.050770   \n",
       "2014                      106147.680556                      0.047785   \n",
       "\n",
       "      percent on-time airport departures  percent on-time gate arrivals  \\\n",
       "year                                                                      \n",
       "2004                            0.733166                       0.768585   \n",
       "2005                            0.718992                       0.758573   \n",
       "2006                            0.710628                       0.748257   \n",
       "2007                            0.691212                       0.731392   \n",
       "2008                            0.719423                       0.755453   \n",
       "2009                            0.751647                       0.789962   \n",
       "2010                            0.742793                       0.784225   \n",
       "2011                            0.743247                       0.780868   \n",
       "2012                            0.756963                       0.797562   \n",
       "2013                            0.721893                       0.767186   \n",
       "2014                            0.706613                       0.753465   \n",
       "\n",
       "      percent on-time gate departures  Year  \n",
       "year                                         \n",
       "2004                         0.786594  2004  \n",
       "2005                         0.772620  2005  \n",
       "2006                         0.768354  2006  \n",
       "2007                         0.758045  2007  \n",
       "2008                         0.776968  2008  \n",
       "2009                         0.802985  2009  \n",
       "2010                         0.791973  2010  \n",
       "2011                         0.786970  2011  \n",
       "2012                         0.798641  2012  \n",
       "2013                         0.772663  2013  \n",
       "2014                         0.754397  2014  \n",
       "\n",
       "[11 rows x 23 columns]"
      ]
     },
     "execution_count": 23,
     "metadata": {},
     "output_type": "execute_result"
    }
   ],
   "source": [
    "grouped_years['Year'] = grouped_years.index\n",
    "grouped_years"
   ]
  },
  {
   "cell_type": "markdown",
   "metadata": {
    "focus": false,
    "id": "e2ddc27c-94d6-4ab1-95ef-1093bb2726b0"
   },
   "source": [
    "### Part 3: Data Mining"
   ]
  },
  {
   "cell_type": "markdown",
   "metadata": {
    "focus": false,
    "id": "a746fd8c-fdb0-45c3-9e17-ad4c89360055"
   },
   "source": [
    "#### 3.1 Create Dummy Variables"
   ]
  },
  {
   "cell_type": "code",
   "execution_count": 24,
   "metadata": {
    "collapsed": true,
    "focus": false,
    "id": "eae97f78-3695-4777-91c5-f282dfd26e96"
   },
   "outputs": [],
   "source": [
    "#Goal analysis:\n",
    "#1: df - airport-years, find patterns\n",
    "#2: decade_agg_ap - by airport over entire decade\n",
    "#3: grouped_years - by year to see trends over time\n"
   ]
  },
  {
   "cell_type": "markdown",
   "metadata": {
    "focus": false,
    "id": "c9b12f39-5410-42d7-aff9-859c0b2ccb70"
   },
   "source": [
    "#### 3.2 Format and Clean the Data"
   ]
  },
  {
   "cell_type": "code",
   "execution_count": null,
   "metadata": {
    "collapsed": true,
    "focus": false,
    "id": "c2f083d5-edf1-4380-a245-13c77315daa7"
   },
   "outputs": [],
   "source": []
  },
  {
   "cell_type": "markdown",
   "metadata": {
    "focus": false,
    "id": "27db8e3b-27d2-4420-bbab-1ddbba3dc3e5"
   },
   "source": [
    "### Part 4: Define the Data"
   ]
  },
  {
   "cell_type": "markdown",
   "metadata": {
    "focus": false,
    "id": "9bcb3ba6-8c35-470c-a821-47d7ba6a32f2"
   },
   "source": [
    "#### 4.1 Confirm that the dataset has a normal distribution. How can you tell? "
   ]
  },
  {
   "cell_type": "code",
   "execution_count": 25,
   "metadata": {
    "collapsed": false,
    "focus": false,
    "id": "9c365cbd-7b6d-46bf-b4e4-b0e2e7bd5ff6"
   },
   "outputs": [
    {
     "data": {
      "text/plain": [
       "<matplotlib.axes._subplots.AxesSubplot at 0x125912650>"
      ]
     },
     "execution_count": 25,
     "metadata": {},
     "output_type": "execute_result"
    },
    {
     "data": {
      "image/png": "[encoded data removed]",
      "text/plain": [
       "<matplotlib.figure.Figure at 0x123e08990>"
      ]
     },
     "metadata": {},
     "output_type": "display_data"
    }
   ],
   "source": [
    "sns.distplot(df['percent on-time gate arrivals'], color='blue')\n",
    "sns.distplot(df.iloc[:,4], color= 'orange')"
   ]
  },
  {
   "cell_type": "code",
   "execution_count": 26,
   "metadata": {
    "collapsed": false
   },
   "outputs": [],
   "source": [
    "# sns.distplot(df.iloc[:,4])"
   ]
  },
  {
   "cell_type": "code",
   "execution_count": 27,
   "metadata": {
    "collapsed": false
   },
   "outputs": [
    {
     "data": {
      "text/plain": [
       "<matplotlib.axes._subplots.AxesSubplot at 0x1232e5c10>"
      ]
     },
     "execution_count": 27,
     "metadata": {},
     "output_type": "execute_result"
    },
    {
     "data": {
      "image/png": "[encoded data removed]",
      "text/plain": [
       "<matplotlib.figure.Figure at 0x125b28510>"
      ]
     },
     "metadata": {},
     "output_type": "display_data"
    }
   ],
   "source": [
    "# sns.distplot(df.iloc[:,7], color='red')\n",
    "sns.distplot(df.iloc[:,8], color='green')"
   ]
  },
  {
   "cell_type": "code",
   "execution_count": 28,
   "metadata": {
    "collapsed": false
   },
   "outputs": [
    {
     "data": {
      "text/plain": [
       "<matplotlib.axes._subplots.AxesSubplot at 0x124af5e10>"
      ]
     },
     "execution_count": 28,
     "metadata": {},
     "output_type": "execute_result"
    },
    {
     "data": {
      "image/png": "[encoded data removed]",
      "text/plain": [
       "<matplotlib.figure.Figure at 0x125edc6d0>"
      ]
     },
     "metadata": {},
     "output_type": "display_data"
    }
   ],
   "source": [
    "sns.distplot(df.iloc[:,8])"
   ]
  },
  {
   "cell_type": "markdown",
   "metadata": {
    "focus": false,
    "id": "17457da4-1175-4348-b10a-99f41f7a24dd"
   },
   "source": [
    "#### 4.2 Find correlations in the data"
   ]
  },
  {
   "cell_type": "code",
   "execution_count": 29,
   "metadata": {
    "collapsed": false,
    "focus": false,
    "id": "78003f34-c0d8-40f6-bafe-e0892df3f1ca"
   },
   "outputs": [],
   "source": [
    "# variables for analysis:\n",
    "#1: df - airport-years, find patterns\n",
    "#2: decade_agg_ap - by airport over entire decade\n",
    "#3: grouped_years"
   ]
  },
  {
   "cell_type": "code",
   "execution_count": 30,
   "metadata": {
    "collapsed": false
   },
   "outputs": [
    {
     "data": {
      "text/plain": [
       "<matplotlib.axes._subplots.AxesSubplot at 0x1262180d0>"
      ]
     },
     "execution_count": 30,
     "metadata": {},
     "output_type": "execute_result"
    },
    {
     "data": {
      "image/png": "[encoded data removed]",
      "text/plain": [
       "<matplotlib.figure.Figure at 0x126222850>"
      ]
     },
     "metadata": {},
     "output_type": "display_data"
    }
   ],
   "source": [
    "sns.distplot(decade_agg_ap['percent on-time gate arrivals'])"
   ]
  },
  {
   "cell_type": "code",
   "execution_count": 36,
   "metadata": {
    "collapsed": false
   },
   "outputs": [
    {
     "data": {
      "text/plain": [
       "<matplotlib.axes._subplots.AxesSubplot at 0x12622a790>"
      ]
     },
     "execution_count": 36,
     "metadata": {},
     "output_type": "execute_result"
    },
    {
     "data": {
      "image/png": "[encoded data removed]",
      "text/plain": [
       "<matplotlib.figure.Figure at 0x1216e5590>"
      ]
     },
     "metadata": {},
     "output_type": "display_data"
    }
   ],
   "source": [
    "sns.regplot(grouped_years['Year'], grouped_years['percent on-time gate arrivals'], color='darkgreen')\n",
    "#slightly positive trend in terms of ontime gate arrivals"
   ]
  },
  {
   "cell_type": "code",
   "execution_count": 37,
   "metadata": {
    "collapsed": false
   },
   "outputs": [
    {
     "data": {
      "text/plain": [
       "<matplotlib.axes._subplots.AxesSubplot at 0x127b05c50>"
      ]
     },
     "execution_count": 37,
     "metadata": {},
     "output_type": "execute_result"
    },
    {
     "data": {
      "image/png": "[encoded data removed]",
      "text/plain": [
       "<matplotlib.figure.Figure at 0x127c5d710>"
      ]
     },
     "metadata": {},
     "output_type": "display_data"
    }
   ],
   "source": [
    "sns.regplot(grouped_years['Year'], grouped_years.iloc[:,8])\n",
    "#slight decrease in aavg. arrival delay"
   ]
  },
  {
   "cell_type": "code",
   "execution_count": 38,
   "metadata": {
    "collapsed": false
   },
   "outputs": [
    {
     "data": {
      "text/plain": [
       "<matplotlib.axes._subplots.AxesSubplot at 0x127c23ed0>"
      ]
     },
     "execution_count": 38,
     "metadata": {},
     "output_type": "execute_result"
    },
    {
     "data": {
      "image/png": "[encoded data removed]",
      "text/plain": [
       "<matplotlib.figure.Figure at 0x127daead0>"
      ]
     },
     "metadata": {},
     "output_type": "display_data"
    }
   ],
   "source": [
    "sns.regplot(grouped_years['Year'], grouped_years.iloc[:,11])\n",
    "#slight decrease in aavg. arrival delay"
   ]
  },
  {
   "cell_type": "code",
   "execution_count": null,
   "metadata": {
    "collapsed": false
   },
   "outputs": [],
   "source": []
  },
  {
   "cell_type": "code",
   "execution_count": 39,
   "metadata": {
    "collapsed": false
   },
   "outputs": [
    {
     "data": {
      "image/png": "[encoded data removed]",
      "text/plain": [
       "<matplotlib.figure.Figure at 0x127c4d190>"
      ]
     },
     "metadata": {},
     "output_type": "display_data"
    }
   ],
   "source": [
    "import matplotlib as plt\n",
    "\n",
    "decade_agg_ap['airport'] = decade_agg_ap.index\n",
    "# decade_agg_ap\n",
    "plt.style.use('fivethirtyeight')\n",
    "\n",
    "# fig, ax = plt.subplots(figsize=(16,16))\n",
    "decade_agg_ap.sort_values(by=['percent on-time gate departures'],axis=0, inplace=1)\n",
    "\n",
    "\n",
    "# sns.barplot(decade_agg_ap['percent on-time gate arrivals'],decade_agg_ap['airport'], hue=decade_agg_ap['Arrival Cancellations'])\n",
    "sns.barplot(decade_agg_ap['percent on-time gate departures'],decade_agg_ap['airport'],)\n",
    "fig = plt.pyplot.gcf()\n",
    "fig.set_size_inches(20, 16)\n",
    "fig.savefig('test2png.png', dpi=100)"
   ]
  },
  {
   "cell_type": "code",
   "execution_count": 40,
   "metadata": {
    "collapsed": false
   },
   "outputs": [
    {
     "data": {
      "text/html": [
       "<div>\n",
       "<table border=\"1\" class=\"dataframe\">\n",
       "  <thead>\n",
       "    <tr style=\"text-align: right;\">\n",
       "      <th></th>\n",
       "      <th>Arrival Cancellations</th>\n",
       "      <th>Arrival Diversions</th>\n",
       "      <th>Departure Cancellations</th>\n",
       "      <th>Departure Diversions</th>\n",
       "      <th>Key</th>\n",
       "      <th>Latitude</th>\n",
       "      <th>Longitude</th>\n",
       "      <th>airport_num</th>\n",
       "      <th>arrivals for metric computation</th>\n",
       "      <th>average airborne delay</th>\n",
       "      <th>...</th>\n",
       "      <th>average taxi out delay</th>\n",
       "      <th>average_gate_departure_delay</th>\n",
       "      <th>average_taxi_out_time</th>\n",
       "      <th>departures for metric computation</th>\n",
       "      <th>diff_gate_airport_departures</th>\n",
       "      <th>percent on-time airport departures</th>\n",
       "      <th>percent on-time gate arrivals</th>\n",
       "      <th>percent on-time gate departures</th>\n",
       "      <th>year</th>\n",
       "      <th>airport</th>\n",
       "    </tr>\n",
       "    <tr>\n",
       "      <th>airport</th>\n",
       "      <th></th>\n",
       "      <th></th>\n",
       "      <th></th>\n",
       "      <th></th>\n",
       "      <th></th>\n",
       "      <th></th>\n",
       "      <th></th>\n",
       "      <th></th>\n",
       "      <th></th>\n",
       "      <th></th>\n",
       "      <th></th>\n",
       "      <th></th>\n",
       "      <th></th>\n",
       "      <th></th>\n",
       "      <th></th>\n",
       "      <th></th>\n",
       "      <th></th>\n",
       "      <th></th>\n",
       "      <th></th>\n",
       "      <th></th>\n",
       "      <th></th>\n",
       "    </tr>\n",
       "  </thead>\n",
       "  <tbody>\n",
       "    <tr>\n",
       "      <th>HPN</th>\n",
       "      <td>284.454545</td>\n",
       "      <td>76.090909</td>\n",
       "      <td>331.454545</td>\n",
       "      <td>27.454545</td>\n",
       "      <td>2502.0</td>\n",
       "      <td>41.066944</td>\n",
       "      <td>-73.707556</td>\n",
       "      <td>47.0</td>\n",
       "      <td>31924.090909</td>\n",
       "      <td>3.964545</td>\n",
       "      <td>...</td>\n",
       "      <td>3.388182</td>\n",
       "      <td>21.885455</td>\n",
       "      <td>13.815455</td>\n",
       "      <td>31627.272727</td>\n",
       "      <td>0.042545</td>\n",
       "      <td>0.540991</td>\n",
       "      <td>0.583164</td>\n",
       "      <td>0.583536</td>\n",
       "      <td>2009.0</td>\n",
       "      <td>HPN</td>\n",
       "    </tr>\n",
       "    <tr>\n",
       "      <th>SDF</th>\n",
       "      <td>284.000000</td>\n",
       "      <td>27.000000</td>\n",
       "      <td>323.181818</td>\n",
       "      <td>46.727273</td>\n",
       "      <td>1437.0</td>\n",
       "      <td>38.174086</td>\n",
       "      <td>-85.736499</td>\n",
       "      <td>67.0</td>\n",
       "      <td>68087.181818</td>\n",
       "      <td>3.060000</td>\n",
       "      <td>...</td>\n",
       "      <td>2.612727</td>\n",
       "      <td>14.926364</td>\n",
       "      <td>12.387273</td>\n",
       "      <td>68559.181818</td>\n",
       "      <td>0.042436</td>\n",
       "      <td>0.655100</td>\n",
       "      <td>0.720500</td>\n",
       "      <td>0.697536</td>\n",
       "      <td>2009.0</td>\n",
       "      <td>SDF</td>\n",
       "    </tr>\n",
       "    <tr>\n",
       "      <th>PBI</th>\n",
       "      <td>304.272727</td>\n",
       "      <td>45.272727</td>\n",
       "      <td>322.090909</td>\n",
       "      <td>90.909091</td>\n",
       "      <td>843.0</td>\n",
       "      <td>26.683167</td>\n",
       "      <td>-80.095583</td>\n",
       "      <td>53.0</td>\n",
       "      <td>39139.090909</td>\n",
       "      <td>2.418182</td>\n",
       "      <td>...</td>\n",
       "      <td>2.568182</td>\n",
       "      <td>16.015455</td>\n",
       "      <td>12.881818</td>\n",
       "      <td>40257.818182</td>\n",
       "      <td>0.028973</td>\n",
       "      <td>0.671573</td>\n",
       "      <td>0.678582</td>\n",
       "      <td>0.700545</td>\n",
       "      <td>2009.0</td>\n",
       "      <td>PBI</td>\n",
       "    </tr>\n",
       "    <tr>\n",
       "      <th>HOU</th>\n",
       "      <td>967.000000</td>\n",
       "      <td>184.818182</td>\n",
       "      <td>975.000000</td>\n",
       "      <td>116.909091</td>\n",
       "      <td>3341.0</td>\n",
       "      <td>29.645419</td>\n",
       "      <td>-95.278889</td>\n",
       "      <td>46.0</td>\n",
       "      <td>63293.454545</td>\n",
       "      <td>3.277273</td>\n",
       "      <td>...</td>\n",
       "      <td>2.119091</td>\n",
       "      <td>15.410000</td>\n",
       "      <td>9.195455</td>\n",
       "      <td>63264.363636</td>\n",
       "      <td>0.024145</td>\n",
       "      <td>0.680509</td>\n",
       "      <td>0.759064</td>\n",
       "      <td>0.704655</td>\n",
       "      <td>2009.0</td>\n",
       "      <td>HOU</td>\n",
       "    </tr>\n",
       "    <tr>\n",
       "      <th>MDW</th>\n",
       "      <td>1115.000000</td>\n",
       "      <td>362.363636</td>\n",
       "      <td>1148.000000</td>\n",
       "      <td>171.909091</td>\n",
       "      <td>1163.0</td>\n",
       "      <td>41.785972</td>\n",
       "      <td>-87.752417</td>\n",
       "      <td>65.0</td>\n",
       "      <td>108581.545455</td>\n",
       "      <td>3.883636</td>\n",
       "      <td>...</td>\n",
       "      <td>3.616364</td>\n",
       "      <td>15.556364</td>\n",
       "      <td>11.877273</td>\n",
       "      <td>108642.000000</td>\n",
       "      <td>0.053700</td>\n",
       "      <td>0.655382</td>\n",
       "      <td>0.770682</td>\n",
       "      <td>0.709082</td>\n",
       "      <td>2009.0</td>\n",
       "      <td>MDW</td>\n",
       "    </tr>\n",
       "  </tbody>\n",
       "</table>\n",
       "<p>5 rows × 24 columns</p>\n",
       "</div>"
      ],
      "text/plain": [
       "         Arrival Cancellations  Arrival Diversions  Departure Cancellations  \\\n",
       "airport                                                                       \n",
       "HPN                 284.454545           76.090909               331.454545   \n",
       "SDF                 284.000000           27.000000               323.181818   \n",
       "PBI                 304.272727           45.272727               322.090909   \n",
       "HOU                 967.000000          184.818182               975.000000   \n",
       "MDW                1115.000000          362.363636              1148.000000   \n",
       "\n",
       "         Departure Diversions     Key   Latitude  Longitude  airport_num  \\\n",
       "airport                                                                    \n",
       "HPN                 27.454545  2502.0  41.066944 -73.707556         47.0   \n",
       "SDF                 46.727273  1437.0  38.174086 -85.736499         67.0   \n",
       "PBI                 90.909091   843.0  26.683167 -80.095583         53.0   \n",
       "HOU                116.909091  3341.0  29.645419 -95.278889         46.0   \n",
       "MDW                171.909091  1163.0  41.785972 -87.752417         65.0   \n",
       "\n",
       "         arrivals for metric computation  average airborne delay   ...     \\\n",
       "airport                                                            ...      \n",
       "HPN                         31924.090909                3.964545   ...      \n",
       "SDF                         68087.181818                3.060000   ...      \n",
       "PBI                         39139.090909                2.418182   ...      \n",
       "HOU                         63293.454545                3.277273   ...      \n",
       "MDW                        108581.545455                3.883636   ...      \n",
       "\n",
       "         average taxi out delay  average_gate_departure_delay  \\\n",
       "airport                                                         \n",
       "HPN                    3.388182                     21.885455   \n",
       "SDF                    2.612727                     14.926364   \n",
       "PBI                    2.568182                     16.015455   \n",
       "HOU                    2.119091                     15.410000   \n",
       "MDW                    3.616364                     15.556364   \n",
       "\n",
       "         average_taxi_out_time  departures for metric computation  \\\n",
       "airport                                                             \n",
       "HPN                  13.815455                       31627.272727   \n",
       "SDF                  12.387273                       68559.181818   \n",
       "PBI                  12.881818                       40257.818182   \n",
       "HOU                   9.195455                       63264.363636   \n",
       "MDW                  11.877273                      108642.000000   \n",
       "\n",
       "         diff_gate_airport_departures  percent on-time airport departures  \\\n",
       "airport                                                                     \n",
       "HPN                          0.042545                            0.540991   \n",
       "SDF                          0.042436                            0.655100   \n",
       "PBI                          0.028973                            0.671573   \n",
       "HOU                          0.024145                            0.680509   \n",
       "MDW                          0.053700                            0.655382   \n",
       "\n",
       "         percent on-time gate arrivals  percent on-time gate departures  \\\n",
       "airport                                                                   \n",
       "HPN                           0.583164                         0.583536   \n",
       "SDF                           0.720500                         0.697536   \n",
       "PBI                           0.678582                         0.700545   \n",
       "HOU                           0.759064                         0.704655   \n",
       "MDW                           0.770682                         0.709082   \n",
       "\n",
       "           year  airport  \n",
       "airport                   \n",
       "HPN      2009.0      HPN  \n",
       "SDF      2009.0      SDF  \n",
       "PBI      2009.0      PBI  \n",
       "HOU      2009.0      HOU  \n",
       "MDW      2009.0      MDW  \n",
       "\n",
       "[5 rows x 24 columns]"
      ]
     },
     "execution_count": 40,
     "metadata": {},
     "output_type": "execute_result"
    }
   ],
   "source": [
    "decade_agg_ap.head()"
   ]
  },
  {
   "cell_type": "code",
   "execution_count": 41,
   "metadata": {
    "collapsed": false
   },
   "outputs": [
    {
     "data": {
      "text/html": [
       "<div>\n",
       "<table border=\"1\" class=\"dataframe\">\n",
       "  <thead>\n",
       "    <tr style=\"text-align: right;\">\n",
       "      <th></th>\n",
       "      <th>Arrival Cancellations</th>\n",
       "      <th>Arrival Diversions</th>\n",
       "      <th>Departure Cancellations</th>\n",
       "      <th>Departure Diversions</th>\n",
       "      <th>Key</th>\n",
       "      <th>Latitude</th>\n",
       "      <th>Longitude</th>\n",
       "      <th>airport_num</th>\n",
       "      <th>arrivals for metric computation</th>\n",
       "      <th>average airborne delay</th>\n",
       "      <th>...</th>\n",
       "      <th>average taxi out delay</th>\n",
       "      <th>average_gate_departure_delay</th>\n",
       "      <th>average_taxi_out_time</th>\n",
       "      <th>departures for metric computation</th>\n",
       "      <th>diff_gate_airport_departures</th>\n",
       "      <th>percent on-time airport departures</th>\n",
       "      <th>percent on-time gate arrivals</th>\n",
       "      <th>percent on-time gate departures</th>\n",
       "      <th>year</th>\n",
       "      <th>airport</th>\n",
       "    </tr>\n",
       "    <tr>\n",
       "      <th>airport</th>\n",
       "      <th></th>\n",
       "      <th></th>\n",
       "      <th></th>\n",
       "      <th></th>\n",
       "      <th></th>\n",
       "      <th></th>\n",
       "      <th></th>\n",
       "      <th></th>\n",
       "      <th></th>\n",
       "      <th></th>\n",
       "      <th></th>\n",
       "      <th></th>\n",
       "      <th></th>\n",
       "      <th></th>\n",
       "      <th></th>\n",
       "      <th></th>\n",
       "      <th></th>\n",
       "      <th></th>\n",
       "      <th></th>\n",
       "      <th></th>\n",
       "      <th></th>\n",
       "    </tr>\n",
       "  </thead>\n",
       "  <tbody>\n",
       "    <tr>\n",
       "      <th>DCA</th>\n",
       "      <td>2349.909091</td>\n",
       "      <td>211.000000</td>\n",
       "      <td>2468.363636</td>\n",
       "      <td>164.363636</td>\n",
       "      <td>769.0</td>\n",
       "      <td>38.851916</td>\n",
       "      <td>-77.037699</td>\n",
       "      <td>23.0</td>\n",
       "      <td>137316.363636</td>\n",
       "      <td>3.709091</td>\n",
       "      <td>...</td>\n",
       "      <td>4.722727</td>\n",
       "      <td>12.090909</td>\n",
       "      <td>15.682727</td>\n",
       "      <td>137145.181818</td>\n",
       "      <td>0.070718</td>\n",
       "      <td>0.737127</td>\n",
       "      <td>0.812000</td>\n",
       "      <td>0.807845</td>\n",
       "      <td>2009.0</td>\n",
       "      <td>DCA</td>\n",
       "    </tr>\n",
       "    <tr>\n",
       "      <th>TPA</th>\n",
       "      <td>583.090909</td>\n",
       "      <td>138.727273</td>\n",
       "      <td>638.272727</td>\n",
       "      <td>176.636364</td>\n",
       "      <td>864.0</td>\n",
       "      <td>27.975472</td>\n",
       "      <td>-82.533250</td>\n",
       "      <td>71.0</td>\n",
       "      <td>92243.000000</td>\n",
       "      <td>1.890000</td>\n",
       "      <td>...</td>\n",
       "      <td>2.635455</td>\n",
       "      <td>11.470909</td>\n",
       "      <td>12.034545</td>\n",
       "      <td>92314.636364</td>\n",
       "      <td>0.027400</td>\n",
       "      <td>0.780527</td>\n",
       "      <td>0.782609</td>\n",
       "      <td>0.807927</td>\n",
       "      <td>2009.0</td>\n",
       "      <td>TPA</td>\n",
       "    </tr>\n",
       "    <tr>\n",
       "      <th>CVG</th>\n",
       "      <td>2300.181818</td>\n",
       "      <td>136.454545</td>\n",
       "      <td>1922.000000</td>\n",
       "      <td>179.272727</td>\n",
       "      <td>1418.0</td>\n",
       "      <td>39.048837</td>\n",
       "      <td>-84.667822</td>\n",
       "      <td>13.0</td>\n",
       "      <td>128746.727273</td>\n",
       "      <td>3.117273</td>\n",
       "      <td>...</td>\n",
       "      <td>3.467273</td>\n",
       "      <td>11.438182</td>\n",
       "      <td>14.961818</td>\n",
       "      <td>128916.636364</td>\n",
       "      <td>0.050618</td>\n",
       "      <td>0.757318</td>\n",
       "      <td>0.813627</td>\n",
       "      <td>0.807936</td>\n",
       "      <td>2009.0</td>\n",
       "      <td>CVG</td>\n",
       "    </tr>\n",
       "    <tr>\n",
       "      <th>RSW</th>\n",
       "      <td>229.181818</td>\n",
       "      <td>57.181818</td>\n",
       "      <td>257.272727</td>\n",
       "      <td>73.272727</td>\n",
       "      <td>857.0</td>\n",
       "      <td>26.536167</td>\n",
       "      <td>-81.755167</td>\n",
       "      <td>75.0</td>\n",
       "      <td>34532.727273</td>\n",
       "      <td>2.260909</td>\n",
       "      <td>...</td>\n",
       "      <td>2.365455</td>\n",
       "      <td>11.667273</td>\n",
       "      <td>12.425455</td>\n",
       "      <td>34521.545455</td>\n",
       "      <td>0.024255</td>\n",
       "      <td>0.787027</td>\n",
       "      <td>0.765136</td>\n",
       "      <td>0.811282</td>\n",
       "      <td>2009.0</td>\n",
       "      <td>RSW</td>\n",
       "    </tr>\n",
       "    <tr>\n",
       "      <th>SAN</th>\n",
       "      <td>865.181818</td>\n",
       "      <td>233.363636</td>\n",
       "      <td>1008.363636</td>\n",
       "      <td>155.909091</td>\n",
       "      <td>650.0</td>\n",
       "      <td>32.733556</td>\n",
       "      <td>-117.189667</td>\n",
       "      <td>18.0</td>\n",
       "      <td>94611.909091</td>\n",
       "      <td>2.381818</td>\n",
       "      <td>...</td>\n",
       "      <td>3.529091</td>\n",
       "      <td>10.310000</td>\n",
       "      <td>13.279091</td>\n",
       "      <td>94522.181818</td>\n",
       "      <td>0.040682</td>\n",
       "      <td>0.774464</td>\n",
       "      <td>0.785136</td>\n",
       "      <td>0.815145</td>\n",
       "      <td>2009.0</td>\n",
       "      <td>SAN</td>\n",
       "    </tr>\n",
       "    <tr>\n",
       "      <th>CLE</th>\n",
       "      <td>1060.090909</td>\n",
       "      <td>102.454545</td>\n",
       "      <td>1063.000000</td>\n",
       "      <td>143.272727</td>\n",
       "      <td>2527.0</td>\n",
       "      <td>41.409417</td>\n",
       "      <td>-81.854694</td>\n",
       "      <td>27.0</td>\n",
       "      <td>99315.090909</td>\n",
       "      <td>3.125455</td>\n",
       "      <td>...</td>\n",
       "      <td>3.721818</td>\n",
       "      <td>11.634545</td>\n",
       "      <td>14.329091</td>\n",
       "      <td>99621.454545</td>\n",
       "      <td>0.050345</td>\n",
       "      <td>0.766745</td>\n",
       "      <td>0.788145</td>\n",
       "      <td>0.817091</td>\n",
       "      <td>2009.0</td>\n",
       "      <td>CLE</td>\n",
       "    </tr>\n",
       "    <tr>\n",
       "      <th>SMF</th>\n",
       "      <td>449.750000</td>\n",
       "      <td>40.125000</td>\n",
       "      <td>489.250000</td>\n",
       "      <td>83.250000</td>\n",
       "      <td>644.0</td>\n",
       "      <td>38.695444</td>\n",
       "      <td>-121.590778</td>\n",
       "      <td>58.0</td>\n",
       "      <td>53313.375000</td>\n",
       "      <td>1.990000</td>\n",
       "      <td>...</td>\n",
       "      <td>2.022500</td>\n",
       "      <td>10.212500</td>\n",
       "      <td>10.361250</td>\n",
       "      <td>53184.875000</td>\n",
       "      <td>0.021512</td>\n",
       "      <td>0.798175</td>\n",
       "      <td>0.793025</td>\n",
       "      <td>0.819688</td>\n",
       "      <td>2010.5</td>\n",
       "      <td>SMF</td>\n",
       "    </tr>\n",
       "    <tr>\n",
       "      <th>TUS</th>\n",
       "      <td>143.090909</td>\n",
       "      <td>28.090909</td>\n",
       "      <td>168.818182</td>\n",
       "      <td>50.090909</td>\n",
       "      <td>474.0</td>\n",
       "      <td>32.116083</td>\n",
       "      <td>-110.941028</td>\n",
       "      <td>2.0</td>\n",
       "      <td>24825.545455</td>\n",
       "      <td>1.890000</td>\n",
       "      <td>...</td>\n",
       "      <td>2.370000</td>\n",
       "      <td>10.241818</td>\n",
       "      <td>10.786364</td>\n",
       "      <td>24757.181818</td>\n",
       "      <td>0.024036</td>\n",
       "      <td>0.797364</td>\n",
       "      <td>0.761673</td>\n",
       "      <td>0.821400</td>\n",
       "      <td>2009.0</td>\n",
       "      <td>TUS</td>\n",
       "    </tr>\n",
       "    <tr>\n",
       "      <th>PDX</th>\n",
       "      <td>454.090909</td>\n",
       "      <td>65.545455</td>\n",
       "      <td>441.818182</td>\n",
       "      <td>102.181818</td>\n",
       "      <td>2775.0</td>\n",
       "      <td>45.588709</td>\n",
       "      <td>-122.596869</td>\n",
       "      <td>38.0</td>\n",
       "      <td>101588.000000</td>\n",
       "      <td>2.282727</td>\n",
       "      <td>...</td>\n",
       "      <td>2.007273</td>\n",
       "      <td>9.434545</td>\n",
       "      <td>11.001818</td>\n",
       "      <td>101724.727273</td>\n",
       "      <td>0.019609</td>\n",
       "      <td>0.808109</td>\n",
       "      <td>0.814727</td>\n",
       "      <td>0.827718</td>\n",
       "      <td>2009.0</td>\n",
       "      <td>PDX</td>\n",
       "    </tr>\n",
       "    <tr>\n",
       "      <th>SEA</th>\n",
       "      <td>824.181818</td>\n",
       "      <td>155.454545</td>\n",
       "      <td>770.636364</td>\n",
       "      <td>235.909091</td>\n",
       "      <td>3520.0</td>\n",
       "      <td>47.449889</td>\n",
       "      <td>-122.311778</td>\n",
       "      <td>24.0</td>\n",
       "      <td>161423.181818</td>\n",
       "      <td>3.350909</td>\n",
       "      <td>...</td>\n",
       "      <td>3.176364</td>\n",
       "      <td>9.290000</td>\n",
       "      <td>14.515455</td>\n",
       "      <td>161461.272727</td>\n",
       "      <td>0.040255</td>\n",
       "      <td>0.796391</td>\n",
       "      <td>0.810909</td>\n",
       "      <td>0.836645</td>\n",
       "      <td>2009.0</td>\n",
       "      <td>SEA</td>\n",
       "    </tr>\n",
       "    <tr>\n",
       "      <th>SLC</th>\n",
       "      <td>1324.090909</td>\n",
       "      <td>145.909091</td>\n",
       "      <td>993.363636</td>\n",
       "      <td>351.818182</td>\n",
       "      <td>3377.0</td>\n",
       "      <td>40.788388</td>\n",
       "      <td>-111.977773</td>\n",
       "      <td>55.0</td>\n",
       "      <td>151255.818182</td>\n",
       "      <td>3.167273</td>\n",
       "      <td>...</td>\n",
       "      <td>5.184545</td>\n",
       "      <td>8.915455</td>\n",
       "      <td>17.539091</td>\n",
       "      <td>155351.181818</td>\n",
       "      <td>0.080145</td>\n",
       "      <td>0.757336</td>\n",
       "      <td>0.825409</td>\n",
       "      <td>0.837482</td>\n",
       "      <td>2009.0</td>\n",
       "      <td>SLC</td>\n",
       "    </tr>\n",
       "    <tr>\n",
       "      <th>LGB</th>\n",
       "      <td>94.545455</td>\n",
       "      <td>51.545455</td>\n",
       "      <td>100.818182</td>\n",
       "      <td>26.727273</td>\n",
       "      <td>582.0</td>\n",
       "      <td>33.817754</td>\n",
       "      <td>-118.151733</td>\n",
       "      <td>62.0</td>\n",
       "      <td>15139.636364</td>\n",
       "      <td>2.146364</td>\n",
       "      <td>...</td>\n",
       "      <td>2.405455</td>\n",
       "      <td>9.276364</td>\n",
       "      <td>13.370000</td>\n",
       "      <td>14980.545455</td>\n",
       "      <td>0.020491</td>\n",
       "      <td>0.821027</td>\n",
       "      <td>0.807164</td>\n",
       "      <td>0.841518</td>\n",
       "      <td>2009.0</td>\n",
       "      <td>LGB</td>\n",
       "    </tr>\n",
       "    <tr>\n",
       "      <th>OXR</th>\n",
       "      <td>24.571429</td>\n",
       "      <td>0.142857</td>\n",
       "      <td>29.285714</td>\n",
       "      <td>0.571429</td>\n",
       "      <td>617.0</td>\n",
       "      <td>34.200806</td>\n",
       "      <td>-119.207222</td>\n",
       "      <td>42.0</td>\n",
       "      <td>1696.142857</td>\n",
       "      <td>1.507143</td>\n",
       "      <td>...</td>\n",
       "      <td>2.041429</td>\n",
       "      <td>6.238571</td>\n",
       "      <td>9.072857</td>\n",
       "      <td>1734.857143</td>\n",
       "      <td>0.016429</td>\n",
       "      <td>0.855229</td>\n",
       "      <td>0.833457</td>\n",
       "      <td>0.871657</td>\n",
       "      <td>2007.0</td>\n",
       "      <td>OXR</td>\n",
       "    </tr>\n",
       "    <tr>\n",
       "      <th>HNL</th>\n",
       "      <td>305.909091</td>\n",
       "      <td>57.727273</td>\n",
       "      <td>308.636364</td>\n",
       "      <td>46.272727</td>\n",
       "      <td>975.0</td>\n",
       "      <td>21.318681</td>\n",
       "      <td>-157.922429</td>\n",
       "      <td>8.0</td>\n",
       "      <td>92935.545455</td>\n",
       "      <td>2.183636</td>\n",
       "      <td>...</td>\n",
       "      <td>1.842727</td>\n",
       "      <td>8.035455</td>\n",
       "      <td>12.859091</td>\n",
       "      <td>91753.363636</td>\n",
       "      <td>0.016536</td>\n",
       "      <td>0.859873</td>\n",
       "      <td>0.849836</td>\n",
       "      <td>0.876409</td>\n",
       "      <td>2009.0</td>\n",
       "      <td>HNL</td>\n",
       "    </tr>\n",
       "    <tr>\n",
       "      <th>OGG</th>\n",
       "      <td>125.818182</td>\n",
       "      <td>24.636364</td>\n",
       "      <td>156.090909</td>\n",
       "      <td>26.272727</td>\n",
       "      <td>976.0</td>\n",
       "      <td>20.898650</td>\n",
       "      <td>-156.430458</td>\n",
       "      <td>74.0</td>\n",
       "      <td>29570.363636</td>\n",
       "      <td>2.122727</td>\n",
       "      <td>...</td>\n",
       "      <td>1.236364</td>\n",
       "      <td>7.066364</td>\n",
       "      <td>8.190000</td>\n",
       "      <td>30094.454545</td>\n",
       "      <td>0.007073</td>\n",
       "      <td>0.881027</td>\n",
       "      <td>0.864709</td>\n",
       "      <td>0.888100</td>\n",
       "      <td>2009.0</td>\n",
       "      <td>OGG</td>\n",
       "    </tr>\n",
       "  </tbody>\n",
       "</table>\n",
       "<p>15 rows × 24 columns</p>\n",
       "</div>"
      ],
      "text/plain": [
       "         Arrival Cancellations  Arrival Diversions  Departure Cancellations  \\\n",
       "airport                                                                       \n",
       "DCA                2349.909091          211.000000              2468.363636   \n",
       "TPA                 583.090909          138.727273               638.272727   \n",
       "CVG                2300.181818          136.454545              1922.000000   \n",
       "RSW                 229.181818           57.181818               257.272727   \n",
       "SAN                 865.181818          233.363636              1008.363636   \n",
       "CLE                1060.090909          102.454545              1063.000000   \n",
       "SMF                 449.750000           40.125000               489.250000   \n",
       "TUS                 143.090909           28.090909               168.818182   \n",
       "PDX                 454.090909           65.545455               441.818182   \n",
       "SEA                 824.181818          155.454545               770.636364   \n",
       "SLC                1324.090909          145.909091               993.363636   \n",
       "LGB                  94.545455           51.545455               100.818182   \n",
       "OXR                  24.571429            0.142857                29.285714   \n",
       "HNL                 305.909091           57.727273               308.636364   \n",
       "OGG                 125.818182           24.636364               156.090909   \n",
       "\n",
       "         Departure Diversions     Key   Latitude   Longitude  airport_num  \\\n",
       "airport                                                                     \n",
       "DCA                164.363636   769.0  38.851916  -77.037699         23.0   \n",
       "TPA                176.636364   864.0  27.975472  -82.533250         71.0   \n",
       "CVG                179.272727  1418.0  39.048837  -84.667822         13.0   \n",
       "RSW                 73.272727   857.0  26.536167  -81.755167         75.0   \n",
       "SAN                155.909091   650.0  32.733556 -117.189667         18.0   \n",
       "CLE                143.272727  2527.0  41.409417  -81.854694         27.0   \n",
       "SMF                 83.250000   644.0  38.695444 -121.590778         58.0   \n",
       "TUS                 50.090909   474.0  32.116083 -110.941028          2.0   \n",
       "PDX                102.181818  2775.0  45.588709 -122.596869         38.0   \n",
       "SEA                235.909091  3520.0  47.449889 -122.311778         24.0   \n",
       "SLC                351.818182  3377.0  40.788388 -111.977773         55.0   \n",
       "LGB                 26.727273   582.0  33.817754 -118.151733         62.0   \n",
       "OXR                  0.571429   617.0  34.200806 -119.207222         42.0   \n",
       "HNL                 46.272727   975.0  21.318681 -157.922429          8.0   \n",
       "OGG                 26.272727   976.0  20.898650 -156.430458         74.0   \n",
       "\n",
       "         arrivals for metric computation  average airborne delay   ...     \\\n",
       "airport                                                            ...      \n",
       "DCA                        137316.363636                3.709091   ...      \n",
       "TPA                         92243.000000                1.890000   ...      \n",
       "CVG                        128746.727273                3.117273   ...      \n",
       "RSW                         34532.727273                2.260909   ...      \n",
       "SAN                         94611.909091                2.381818   ...      \n",
       "CLE                         99315.090909                3.125455   ...      \n",
       "SMF                         53313.375000                1.990000   ...      \n",
       "TUS                         24825.545455                1.890000   ...      \n",
       "PDX                        101588.000000                2.282727   ...      \n",
       "SEA                        161423.181818                3.350909   ...      \n",
       "SLC                        151255.818182                3.167273   ...      \n",
       "LGB                         15139.636364                2.146364   ...      \n",
       "OXR                          1696.142857                1.507143   ...      \n",
       "HNL                         92935.545455                2.183636   ...      \n",
       "OGG                         29570.363636                2.122727   ...      \n",
       "\n",
       "         average taxi out delay  average_gate_departure_delay  \\\n",
       "airport                                                         \n",
       "DCA                    4.722727                     12.090909   \n",
       "TPA                    2.635455                     11.470909   \n",
       "CVG                    3.467273                     11.438182   \n",
       "RSW                    2.365455                     11.667273   \n",
       "SAN                    3.529091                     10.310000   \n",
       "CLE                    3.721818                     11.634545   \n",
       "SMF                    2.022500                     10.212500   \n",
       "TUS                    2.370000                     10.241818   \n",
       "PDX                    2.007273                      9.434545   \n",
       "SEA                    3.176364                      9.290000   \n",
       "SLC                    5.184545                      8.915455   \n",
       "LGB                    2.405455                      9.276364   \n",
       "OXR                    2.041429                      6.238571   \n",
       "HNL                    1.842727                      8.035455   \n",
       "OGG                    1.236364                      7.066364   \n",
       "\n",
       "         average_taxi_out_time  departures for metric computation  \\\n",
       "airport                                                             \n",
       "DCA                  15.682727                      137145.181818   \n",
       "TPA                  12.034545                       92314.636364   \n",
       "CVG                  14.961818                      128916.636364   \n",
       "RSW                  12.425455                       34521.545455   \n",
       "SAN                  13.279091                       94522.181818   \n",
       "CLE                  14.329091                       99621.454545   \n",
       "SMF                  10.361250                       53184.875000   \n",
       "TUS                  10.786364                       24757.181818   \n",
       "PDX                  11.001818                      101724.727273   \n",
       "SEA                  14.515455                      161461.272727   \n",
       "SLC                  17.539091                      155351.181818   \n",
       "LGB                  13.370000                       14980.545455   \n",
       "OXR                   9.072857                        1734.857143   \n",
       "HNL                  12.859091                       91753.363636   \n",
       "OGG                   8.190000                       30094.454545   \n",
       "\n",
       "         diff_gate_airport_departures  percent on-time airport departures  \\\n",
       "airport                                                                     \n",
       "DCA                          0.070718                            0.737127   \n",
       "TPA                          0.027400                            0.780527   \n",
       "CVG                          0.050618                            0.757318   \n",
       "RSW                          0.024255                            0.787027   \n",
       "SAN                          0.040682                            0.774464   \n",
       "CLE                          0.050345                            0.766745   \n",
       "SMF                          0.021512                            0.798175   \n",
       "TUS                          0.024036                            0.797364   \n",
       "PDX                          0.019609                            0.808109   \n",
       "SEA                          0.040255                            0.796391   \n",
       "SLC                          0.080145                            0.757336   \n",
       "LGB                          0.020491                            0.821027   \n",
       "OXR                          0.016429                            0.855229   \n",
       "HNL                          0.016536                            0.859873   \n",
       "OGG                          0.007073                            0.881027   \n",
       "\n",
       "         percent on-time gate arrivals  percent on-time gate departures  \\\n",
       "airport                                                                   \n",
       "DCA                           0.812000                         0.807845   \n",
       "TPA                           0.782609                         0.807927   \n",
       "CVG                           0.813627                         0.807936   \n",
       "RSW                           0.765136                         0.811282   \n",
       "SAN                           0.785136                         0.815145   \n",
       "CLE                           0.788145                         0.817091   \n",
       "SMF                           0.793025                         0.819688   \n",
       "TUS                           0.761673                         0.821400   \n",
       "PDX                           0.814727                         0.827718   \n",
       "SEA                           0.810909                         0.836645   \n",
       "SLC                           0.825409                         0.837482   \n",
       "LGB                           0.807164                         0.841518   \n",
       "OXR                           0.833457                         0.871657   \n",
       "HNL                           0.849836                         0.876409   \n",
       "OGG                           0.864709                         0.888100   \n",
       "\n",
       "           year  airport  \n",
       "airport                   \n",
       "DCA      2009.0      DCA  \n",
       "TPA      2009.0      TPA  \n",
       "CVG      2009.0      CVG  \n",
       "RSW      2009.0      RSW  \n",
       "SAN      2009.0      SAN  \n",
       "CLE      2009.0      CLE  \n",
       "SMF      2010.5      SMF  \n",
       "TUS      2009.0      TUS  \n",
       "PDX      2009.0      PDX  \n",
       "SEA      2009.0      SEA  \n",
       "SLC      2009.0      SLC  \n",
       "LGB      2009.0      LGB  \n",
       "OXR      2007.0      OXR  \n",
       "HNL      2009.0      HNL  \n",
       "OGG      2009.0      OGG  \n",
       "\n",
       "[15 rows x 24 columns]"
      ]
     },
     "execution_count": 41,
     "metadata": {},
     "output_type": "execute_result"
    }
   ],
   "source": [
    "decade_agg_ap_short = decade_agg_ap[-15:] #df['20130102':'20130104']\n",
    "decade_agg_ap_short.head(25)\n"
   ]
  },
  {
   "cell_type": "code",
   "execution_count": 42,
   "metadata": {
    "collapsed": false
   },
   "outputs": [
    {
     "name": "stderr",
     "output_type": "stream",
     "text": [
      "/Users/HudsonCavanagh/anaconda/lib/python2.7/site-packages/ipykernel/__main__.py:8: SettingWithCopyWarning: \n",
      "A value is trying to be set on a copy of a slice from a DataFrame\n",
      "\n",
      "See the caveats in the documentation: http://pandas.pydata.org/pandas-docs/stable/indexing.html#indexing-view-versus-copy\n"
     ]
    },
    {
     "data": {
      "image/png": "[encoded data removed]",
      "text/plain": [
       "<matplotlib.figure.Figure at 0x1285bf290>"
      ]
     },
     "metadata": {},
     "output_type": "display_data"
    }
   ],
   "source": [
    "import matplotlib as plt\n",
    "\n",
    "decade_agg_ap['airport'] = decade_agg_ap.index\n",
    "# decade_agg_ap\n",
    "plt.style.use('fivethirtyeight')\n",
    "\n",
    "# fig, ax = plt.subplots(figsize=(16,16))\n",
    "decade_agg_ap_short.sort_values(by=['percent on-time gate departures'],axis=0, inplace=1)\n",
    "\n",
    "\n",
    "# sns.barplot(decade_agg_ap['percent on-time gate arrivals'],decade_agg_ap['airport'], hue=decade_agg_ap['Arrival Cancellations'])\n",
    "sns.barplot(decade_agg_ap_short['percent on-time gate departures'],decade_agg_ap_short['airport'],)\n",
    "fig = plt.pyplot.gcf()\n",
    "fig.set_size_inches(10, 8)\n",
    "fig.savefig('test2png.png', dpi=100)"
   ]
  },
  {
   "cell_type": "code",
   "execution_count": 59,
   "metadata": {
    "collapsed": false
   },
   "outputs": [
    {
     "data": {
      "image/png": "[encoded data removed]",
      "text/plain": [
       "<matplotlib.figure.Figure at 0x12ba4fa90>"
      ]
     },
     "metadata": {},
     "output_type": "display_data"
    }
   ],
   "source": [
    "# sns.barplot(decade_agg_ap['percent on-time gate arrivals'],decade_agg_ap['airport'], hue=decade_agg_ap['Arrival Cancellations'])\n",
    "sns.set_context(\"notebook\", font_scale=1.5, rc={\"lines.linewidth\": 3})\n",
    "\n",
    "ax = sns.barplot(data=decade_agg_ap_short, y='percent on-time airport departures', x='airport',hue='average_gate_departure_delay', palette='plasma')\n",
    "ax.legend_.remove()\n",
    "sns.axes_style()\n",
    "\n",
    "fig = plt.pyplot.gcf()\n",
    "fig.set_size_inches(10, 8)\n",
    "# ax.legend_.remove()\n",
    "\n",
    "# plt.xlim([0.7,1.0])\n",
    "fig.savefig('most_delayed.png', dpi=100)\n"
   ]
  },
  {
   "cell_type": "code",
   "execution_count": 62,
   "metadata": {
    "collapsed": false
   },
   "outputs": [
    {
     "data": {
      "text/plain": [
       "<matplotlib.text.Text at 0x129fd7090>"
      ]
     },
     "execution_count": 62,
     "metadata": {},
     "output_type": "execute_result"
    },
    {
     "data": {
      "image/png": "[encoded data removed]",
      "text/plain": [
       "<matplotlib.figure.Figure at 0x12c5d6710>"
      ]
     },
     "metadata": {},
     "output_type": "display_data"
    }
   ],
   "source": [
    "import matplotlib.pyplot as plt\n",
    "# sns.regplot(data=decade_agg_ap_short, x='Latitude', y='Longitude')\n",
    "\n",
    "plt.scatter(decade_agg_ap_short['Latitude'],decade_agg_ap_short['Longitude'])\n",
    "plt.title(\"\")"
   ]
  },
  {
   "cell_type": "markdown",
   "metadata": {},
   "source": [
    "create buckets for departures (or use previously counted values)"
   ]
  },
  {
   "cell_type": "code",
   "execution_count": 61,
   "metadata": {
    "collapsed": false
   },
   "outputs": [
    {
     "data": {
      "image/png": "[encoded data removed]",
      "text/plain": [
       "<matplotlib.figure.Figure at 0x12af4ec10>"
      ]
     },
     "metadata": {},
     "output_type": "display_data"
    }
   ],
   "source": [
    "# sns.barplot(decade_agg_ap['percent on-time gate arrivals'],decade_agg_ap['airport'], hue=decade_agg_ap['Arrival Cancellations'])\n",
    "sns.barplot(data=decade_agg_ap_short, y='percent on-time gate departures', x='airport', hue='percent on-time gate arrivals', palette='plasma')\n",
    "fig = plt.pyplot.gcf()\n",
    "fig.set_size_inches(16, 12)\n",
    "# plt.xlim([0.7,1.0])\n",
    "fig.savefig('most_delayed.png', dpi=100)\n"
   ]
  },
  {
   "cell_type": "markdown",
   "metadata": {
    "focus": false,
    "id": "886b49bf-d7fa-41b0-b94c-740345580d88"
   },
   "source": [
    "#### 4.3 What is the value of understanding correlations before PCA? "
   ]
  },
  {
   "cell_type": "markdown",
   "metadata": {
    "focus": false,
    "id": "192df272-c2b1-46da-bcfa-c2b02d7445a8"
   },
   "source": [
    "Answer: When reducing the dimensionality of the underlying dataset, we lose relative feature importance and, therefore, interpretability. Additionally, although it is a matter of preference and is specific to the methodology of a given context, by including variables that are highly correlated with one another, we may be over-emphasizing the dimension of the shared \"underlying factor\" that is influencing multiple features (in contrast, this may also provide precision, depending on the context of the problem.  "
   ]
  },
  {
   "cell_type": "markdown",
   "metadata": {
    "focus": false,
    "id": "904cda18-4a60-4b05-8502-139beb44c1f0"
   },
   "source": [
    "#### 4.4 Validate your findings using statistical analysis"
   ]
  },
  {
   "cell_type": "code",
   "execution_count": null,
   "metadata": {
    "collapsed": false,
    "focus": false,
    "id": "d2f5bd48-a2c8-4511-b3c6-fcb4889db4a7"
   },
   "outputs": [],
   "source": [
    "df.head()"
   ]
  },
  {
   "cell_type": "code",
   "execution_count": null,
   "metadata": {
    "collapsed": true
   },
   "outputs": [],
   "source": [
    "df['delay_score'] = ((1-df['percent on-time airport departures'])-(1-df['percent on-time gate arrivals']))*(df['average airport departure delay']-df['average gate arrival delay'])"
   ]
  },
  {
   "cell_type": "code",
   "execution_count": null,
   "metadata": {
    "collapsed": false
   },
   "outputs": [],
   "source": [
    "print(np.median(df['delay_score']),(df['delay_score'].mean()))"
   ]
  },
  {
   "cell_type": "code",
   "execution_count": null,
   "metadata": {
    "collapsed": true
   },
   "outputs": [],
   "source": [
    "df['net_lateness'] = ((1-df['percent on-time airport departures'])-(1-df['percent on-time gate arrivals']))"
   ]
  },
  {
   "cell_type": "code",
   "execution_count": null,
   "metadata": {
    "collapsed": false
   },
   "outputs": [],
   "source": [
    "df['net_lateness_percent'] = ((1-df['percent on-time airport departures'])-(1-df['percent on-time gate arrivals']))"
   ]
  },
  {
   "cell_type": "code",
   "execution_count": null,
   "metadata": {
    "collapsed": true
   },
   "outputs": [],
   "source": [
    "df['avg_delay_late_control'] = (df['average airport departure delay']+df['average airborne delay']+df['average taxi out delay']-df['average gate arrival delay'])"
   ]
  },
  {
   "cell_type": "code",
   "execution_count": null,
   "metadata": {
    "collapsed": false
   },
   "outputs": [],
   "source": [
    "'average airport departure delay', 'average block delay', 'average airborne delay'"
   ]
  },
  {
   "cell_type": "code",
   "execution_count": null,
   "metadata": {
    "collapsed": true
   },
   "outputs": [],
   "source": [
    "df['net_cancelations']= df['Departure Cancellations'] - df['Arrival Cancellations']\n",
    "df['net_diversions']= df['Departure Diversions'] - df['Arrival Diversions']"
   ]
  },
  {
   "cell_type": "code",
   "execution_count": null,
   "metadata": {
    "collapsed": false
   },
   "outputs": [],
   "source": [
    "sns.regplot(data=df, x='avg_delay_late_control', y='net_lateness')"
   ]
  },
  {
   "cell_type": "code",
   "execution_count": null,
   "metadata": {
    "collapsed": false
   },
   "outputs": [],
   "source": [
    "sns.distplot(df['delay_score'])\n"
   ]
  },
  {
   "cell_type": "code",
   "execution_count": null,
   "metadata": {
    "collapsed": false
   },
   "outputs": [],
   "source": [
    "df[df['percent on-time gate arrivals']<.60]"
   ]
  },
  {
   "cell_type": "code",
   "execution_count": null,
   "metadata": {
    "collapsed": false
   },
   "outputs": [],
   "source": [
    "df[df['delay_score']>1.75]"
   ]
  },
  {
   "cell_type": "code",
   "execution_count": null,
   "metadata": {
    "collapsed": false
   },
   "outputs": [],
   "source": [
    "sns.distplot(df['avg_delay_late_control'], color='purple')"
   ]
  },
  {
   "cell_type": "code",
   "execution_count": null,
   "metadata": {
    "collapsed": false
   },
   "outputs": [],
   "source": [
    "sns.distplot(df['net_cancelations'], color='darkred')\n",
    "\n"
   ]
  },
  {
   "cell_type": "code",
   "execution_count": null,
   "metadata": {
    "collapsed": false
   },
   "outputs": [],
   "source": [
    "sns.distplot(df['net_lateness'], color='green')\n",
    "\n"
   ]
  },
  {
   "cell_type": "markdown",
   "metadata": {},
   "source": [
    "Based on the above plot (where the more positive, the better performance) it appears that delays"
   ]
  },
  {
   "cell_type": "markdown",
   "metadata": {
    "focus": false,
    "id": "87689b59-fda0-4a07-a9d3-95936deaf8ee"
   },
   "source": [
    "#### 4.5 How can you improve your overall analysis? "
   ]
  },
  {
   "cell_type": "markdown",
   "metadata": {
    "focus": false,
    "id": "000bc40d-e033-4621-82a4-e09717947fb3"
   },
   "source": [
    "Answer: "
   ]
  },
  {
   "cell_type": "markdown",
   "metadata": {
    "focus": false,
    "id": "cea5d879-f180-448a-bd50-b30b2b7d6d28"
   },
   "source": [
    "### Part 5: Perform a PCA"
   ]
  },
  {
   "cell_type": "markdown",
   "metadata": {
    "focus": false,
    "id": "27c1212c-3490-45ff-a6da-501075f3eee5"
   },
   "source": [
    "#### 5.1 Conduct the PCA"
   ]
  },
  {
   "cell_type": "code",
   "execution_count": 44,
   "metadata": {
    "collapsed": false,
    "focus": false,
    "id": "a8e7ac46-ba4f-47a8-99f8-b67a7f7e108e"
   },
   "outputs": [
    {
     "ename": "KeyError",
     "evalue": "'delay_score'",
     "output_type": "error",
     "traceback": [
      "\u001b[0;31m---------------------------------------------------------------------------\u001b[0m",
      "\u001b[0;31mKeyError\u001b[0m                                  Traceback (most recent call last)",
      "\u001b[0;32m<ipython-input-44-adeb81465f19>\u001b[0m in \u001b[0;36m<module>\u001b[0;34m()\u001b[0m\n\u001b[0;32m----> 1\u001b[0;31m \u001b[0mdf\u001b[0m\u001b[0;34m[\u001b[0m\u001b[0;34m'delay_score'\u001b[0m\u001b[0;34m]\u001b[0m\u001b[0;34m\u001b[0m\u001b[0m\n\u001b[0m\u001b[1;32m      2\u001b[0m \u001b[0;34m\u001b[0m\u001b[0m\n\u001b[1;32m      3\u001b[0m \u001b[0mdf\u001b[0m\u001b[0;34m[\u001b[0m\u001b[0;34m'samples'\u001b[0m\u001b[0;34m]\u001b[0m \u001b[0;34m=\u001b[0m \u001b[0;34m(\u001b[0m\u001b[0;34m(\u001b[0m\u001b[0mdf\u001b[0m\u001b[0;34m[\u001b[0m\u001b[0;34m'departures for metric computation'\u001b[0m\u001b[0;34m]\u001b[0m \u001b[0;34m+\u001b[0m \u001b[0mdf\u001b[0m\u001b[0;34m[\u001b[0m\u001b[0;34m'arrivals for metric computation'\u001b[0m\u001b[0;34m]\u001b[0m\u001b[0;34m)\u001b[0m\u001b[0;34m/\u001b[0m\u001b[0;36m2\u001b[0m\u001b[0;34m)\u001b[0m\u001b[0;34m\u001b[0m\u001b[0m\n\u001b[1;32m      4\u001b[0m \u001b[0msns\u001b[0m\u001b[0;34m.\u001b[0m\u001b[0mdistplot\u001b[0m\u001b[0;34m(\u001b[0m\u001b[0mdf\u001b[0m\u001b[0;34m[\u001b[0m\u001b[0;34m'samples'\u001b[0m\u001b[0;34m]\u001b[0m\u001b[0;34m)\u001b[0m\u001b[0;34m\u001b[0m\u001b[0m\n",
      "\u001b[0;32m/Users/HudsonCavanagh/anaconda/lib/python2.7/site-packages/pandas/core/frame.pyc\u001b[0m in \u001b[0;36m__getitem__\u001b[0;34m(self, key)\u001b[0m\n\u001b[1;32m   1995\u001b[0m             \u001b[0;32mreturn\u001b[0m \u001b[0mself\u001b[0m\u001b[0;34m.\u001b[0m\u001b[0m_getitem_multilevel\u001b[0m\u001b[0;34m(\u001b[0m\u001b[0mkey\u001b[0m\u001b[0;34m)\u001b[0m\u001b[0;34m\u001b[0m\u001b[0m\n\u001b[1;32m   1996\u001b[0m         \u001b[0;32melse\u001b[0m\u001b[0;34m:\u001b[0m\u001b[0;34m\u001b[0m\u001b[0m\n\u001b[0;32m-> 1997\u001b[0;31m             \u001b[0;32mreturn\u001b[0m \u001b[0mself\u001b[0m\u001b[0;34m.\u001b[0m\u001b[0m_getitem_column\u001b[0m\u001b[0;34m(\u001b[0m\u001b[0mkey\u001b[0m\u001b[0;34m)\u001b[0m\u001b[0;34m\u001b[0m\u001b[0m\n\u001b[0m\u001b[1;32m   1998\u001b[0m \u001b[0;34m\u001b[0m\u001b[0m\n\u001b[1;32m   1999\u001b[0m     \u001b[0;32mdef\u001b[0m \u001b[0m_getitem_column\u001b[0m\u001b[0;34m(\u001b[0m\u001b[0mself\u001b[0m\u001b[0;34m,\u001b[0m \u001b[0mkey\u001b[0m\u001b[0;34m)\u001b[0m\u001b[0;34m:\u001b[0m\u001b[0;34m\u001b[0m\u001b[0m\n",
      "\u001b[0;32m/Users/HudsonCavanagh/anaconda/lib/python2.7/site-packages/pandas/core/frame.pyc\u001b[0m in \u001b[0;36m_getitem_column\u001b[0;34m(self, key)\u001b[0m\n\u001b[1;32m   2002\u001b[0m         \u001b[0;31m# get column\u001b[0m\u001b[0;34m\u001b[0m\u001b[0;34m\u001b[0m\u001b[0m\n\u001b[1;32m   2003\u001b[0m         \u001b[0;32mif\u001b[0m \u001b[0mself\u001b[0m\u001b[0;34m.\u001b[0m\u001b[0mcolumns\u001b[0m\u001b[0;34m.\u001b[0m\u001b[0mis_unique\u001b[0m\u001b[0;34m:\u001b[0m\u001b[0;34m\u001b[0m\u001b[0m\n\u001b[0;32m-> 2004\u001b[0;31m             \u001b[0;32mreturn\u001b[0m \u001b[0mself\u001b[0m\u001b[0;34m.\u001b[0m\u001b[0m_get_item_cache\u001b[0m\u001b[0;34m(\u001b[0m\u001b[0mkey\u001b[0m\u001b[0;34m)\u001b[0m\u001b[0;34m\u001b[0m\u001b[0m\n\u001b[0m\u001b[1;32m   2005\u001b[0m \u001b[0;34m\u001b[0m\u001b[0m\n\u001b[1;32m   2006\u001b[0m         \u001b[0;31m# duplicate columns & possible reduce dimensionality\u001b[0m\u001b[0;34m\u001b[0m\u001b[0;34m\u001b[0m\u001b[0m\n",
      "\u001b[0;32m/Users/HudsonCavanagh/anaconda/lib/python2.7/site-packages/pandas/core/generic.pyc\u001b[0m in \u001b[0;36m_get_item_cache\u001b[0;34m(self, item)\u001b[0m\n\u001b[1;32m   1348\u001b[0m         \u001b[0mres\u001b[0m \u001b[0;34m=\u001b[0m \u001b[0mcache\u001b[0m\u001b[0;34m.\u001b[0m\u001b[0mget\u001b[0m\u001b[0;34m(\u001b[0m\u001b[0mitem\u001b[0m\u001b[0;34m)\u001b[0m\u001b[0;34m\u001b[0m\u001b[0m\n\u001b[1;32m   1349\u001b[0m         \u001b[0;32mif\u001b[0m \u001b[0mres\u001b[0m \u001b[0;32mis\u001b[0m \u001b[0mNone\u001b[0m\u001b[0;34m:\u001b[0m\u001b[0;34m\u001b[0m\u001b[0m\n\u001b[0;32m-> 1350\u001b[0;31m             \u001b[0mvalues\u001b[0m \u001b[0;34m=\u001b[0m \u001b[0mself\u001b[0m\u001b[0;34m.\u001b[0m\u001b[0m_data\u001b[0m\u001b[0;34m.\u001b[0m\u001b[0mget\u001b[0m\u001b[0;34m(\u001b[0m\u001b[0mitem\u001b[0m\u001b[0;34m)\u001b[0m\u001b[0;34m\u001b[0m\u001b[0m\n\u001b[0m\u001b[1;32m   1351\u001b[0m             \u001b[0mres\u001b[0m \u001b[0;34m=\u001b[0m \u001b[0mself\u001b[0m\u001b[0;34m.\u001b[0m\u001b[0m_box_item_values\u001b[0m\u001b[0;34m(\u001b[0m\u001b[0mitem\u001b[0m\u001b[0;34m,\u001b[0m \u001b[0mvalues\u001b[0m\u001b[0;34m)\u001b[0m\u001b[0;34m\u001b[0m\u001b[0m\n\u001b[1;32m   1352\u001b[0m             \u001b[0mcache\u001b[0m\u001b[0;34m[\u001b[0m\u001b[0mitem\u001b[0m\u001b[0;34m]\u001b[0m \u001b[0;34m=\u001b[0m \u001b[0mres\u001b[0m\u001b[0;34m\u001b[0m\u001b[0m\n",
      "\u001b[0;32m/Users/HudsonCavanagh/anaconda/lib/python2.7/site-packages/pandas/core/internals.pyc\u001b[0m in \u001b[0;36mget\u001b[0;34m(self, item, fastpath)\u001b[0m\n\u001b[1;32m   3288\u001b[0m \u001b[0;34m\u001b[0m\u001b[0m\n\u001b[1;32m   3289\u001b[0m             \u001b[0;32mif\u001b[0m \u001b[0;32mnot\u001b[0m \u001b[0misnull\u001b[0m\u001b[0;34m(\u001b[0m\u001b[0mitem\u001b[0m\u001b[0;34m)\u001b[0m\u001b[0;34m:\u001b[0m\u001b[0;34m\u001b[0m\u001b[0m\n\u001b[0;32m-> 3290\u001b[0;31m                 \u001b[0mloc\u001b[0m \u001b[0;34m=\u001b[0m \u001b[0mself\u001b[0m\u001b[0;34m.\u001b[0m\u001b[0mitems\u001b[0m\u001b[0;34m.\u001b[0m\u001b[0mget_loc\u001b[0m\u001b[0;34m(\u001b[0m\u001b[0mitem\u001b[0m\u001b[0;34m)\u001b[0m\u001b[0;34m\u001b[0m\u001b[0m\n\u001b[0m\u001b[1;32m   3291\u001b[0m             \u001b[0;32melse\u001b[0m\u001b[0;34m:\u001b[0m\u001b[0;34m\u001b[0m\u001b[0m\n\u001b[1;32m   3292\u001b[0m                 \u001b[0mindexer\u001b[0m \u001b[0;34m=\u001b[0m \u001b[0mnp\u001b[0m\u001b[0;34m.\u001b[0m\u001b[0marange\u001b[0m\u001b[0;34m(\u001b[0m\u001b[0mlen\u001b[0m\u001b[0;34m(\u001b[0m\u001b[0mself\u001b[0m\u001b[0;34m.\u001b[0m\u001b[0mitems\u001b[0m\u001b[0;34m)\u001b[0m\u001b[0;34m)\u001b[0m\u001b[0;34m[\u001b[0m\u001b[0misnull\u001b[0m\u001b[0;34m(\u001b[0m\u001b[0mself\u001b[0m\u001b[0;34m.\u001b[0m\u001b[0mitems\u001b[0m\u001b[0;34m)\u001b[0m\u001b[0;34m]\u001b[0m\u001b[0;34m\u001b[0m\u001b[0m\n",
      "\u001b[0;32m/Users/HudsonCavanagh/anaconda/lib/python2.7/site-packages/pandas/indexes/base.pyc\u001b[0m in \u001b[0;36mget_loc\u001b[0;34m(self, key, method, tolerance)\u001b[0m\n\u001b[1;32m   1945\u001b[0m                 \u001b[0;32mreturn\u001b[0m \u001b[0mself\u001b[0m\u001b[0;34m.\u001b[0m\u001b[0m_engine\u001b[0m\u001b[0;34m.\u001b[0m\u001b[0mget_loc\u001b[0m\u001b[0;34m(\u001b[0m\u001b[0mkey\u001b[0m\u001b[0;34m)\u001b[0m\u001b[0;34m\u001b[0m\u001b[0m\n\u001b[1;32m   1946\u001b[0m             \u001b[0;32mexcept\u001b[0m \u001b[0mKeyError\u001b[0m\u001b[0;34m:\u001b[0m\u001b[0;34m\u001b[0m\u001b[0m\n\u001b[0;32m-> 1947\u001b[0;31m                 \u001b[0;32mreturn\u001b[0m \u001b[0mself\u001b[0m\u001b[0;34m.\u001b[0m\u001b[0m_engine\u001b[0m\u001b[0;34m.\u001b[0m\u001b[0mget_loc\u001b[0m\u001b[0;34m(\u001b[0m\u001b[0mself\u001b[0m\u001b[0;34m.\u001b[0m\u001b[0m_maybe_cast_indexer\u001b[0m\u001b[0;34m(\u001b[0m\u001b[0mkey\u001b[0m\u001b[0;34m)\u001b[0m\u001b[0;34m)\u001b[0m\u001b[0;34m\u001b[0m\u001b[0m\n\u001b[0m\u001b[1;32m   1948\u001b[0m \u001b[0;34m\u001b[0m\u001b[0m\n\u001b[1;32m   1949\u001b[0m         \u001b[0mindexer\u001b[0m \u001b[0;34m=\u001b[0m \u001b[0mself\u001b[0m\u001b[0;34m.\u001b[0m\u001b[0mget_indexer\u001b[0m\u001b[0;34m(\u001b[0m\u001b[0;34m[\u001b[0m\u001b[0mkey\u001b[0m\u001b[0;34m]\u001b[0m\u001b[0;34m,\u001b[0m \u001b[0mmethod\u001b[0m\u001b[0;34m=\u001b[0m\u001b[0mmethod\u001b[0m\u001b[0;34m,\u001b[0m \u001b[0mtolerance\u001b[0m\u001b[0;34m=\u001b[0m\u001b[0mtolerance\u001b[0m\u001b[0;34m)\u001b[0m\u001b[0;34m\u001b[0m\u001b[0m\n",
      "\u001b[0;32mpandas/index.pyx\u001b[0m in \u001b[0;36mpandas.index.IndexEngine.get_loc (pandas/index.c:4154)\u001b[0;34m()\u001b[0m\n",
      "\u001b[0;32mpandas/index.pyx\u001b[0m in \u001b[0;36mpandas.index.IndexEngine.get_loc (pandas/index.c:4018)\u001b[0;34m()\u001b[0m\n",
      "\u001b[0;32mpandas/hashtable.pyx\u001b[0m in \u001b[0;36mpandas.hashtable.PyObjectHashTable.get_item (pandas/hashtable.c:12368)\u001b[0;34m()\u001b[0m\n",
      "\u001b[0;32mpandas/hashtable.pyx\u001b[0m in \u001b[0;36mpandas.hashtable.PyObjectHashTable.get_item (pandas/hashtable.c:12322)\u001b[0;34m()\u001b[0m\n",
      "\u001b[0;31mKeyError\u001b[0m: 'delay_score'"
     ]
    }
   ],
   "source": [
    "df['delay_score']\n",
    "\n",
    "df['samples'] = ((df['departures for metric computation'] + df['arrivals for metric computation'])/2)\n",
    "sns.distplot(df['samples'])"
   ]
  },
  {
   "cell_type": "code",
   "execution_count": 45,
   "metadata": {
    "collapsed": false
   },
   "outputs": [
    {
     "ename": "KeyError",
     "evalue": "'samples'",
     "output_type": "error",
     "traceback": [
      "\u001b[0;31m---------------------------------------------------------------------------\u001b[0m",
      "\u001b[0;31mKeyError\u001b[0m                                  Traceback (most recent call last)",
      "\u001b[0;32m<ipython-input-45-9dccff8fdf10>\u001b[0m in \u001b[0;36m<module>\u001b[0;34m()\u001b[0m\n\u001b[0;32m----> 1\u001b[0;31m \u001b[0mdf\u001b[0m\u001b[0;34m[\u001b[0m\u001b[0mdf\u001b[0m\u001b[0;34m[\u001b[0m\u001b[0;34m'samples'\u001b[0m\u001b[0;34m]\u001b[0m\u001b[0;34m>\u001b[0m\u001b[0;36m100\u001b[0m\u001b[0;34m]\u001b[0m \u001b[0;31m# all these super low samples are commercial, let's leave them in and hope we differentiate\u001b[0m\u001b[0;34m\u001b[0m\u001b[0m\n\u001b[0m\u001b[1;32m      2\u001b[0m \u001b[0;31m#also, its clear that AP type is really important - let's make dummies for those\u001b[0m\u001b[0;34m\u001b[0m\u001b[0;34m\u001b[0m\u001b[0m\n",
      "\u001b[0;32m/Users/HudsonCavanagh/anaconda/lib/python2.7/site-packages/pandas/core/frame.pyc\u001b[0m in \u001b[0;36m__getitem__\u001b[0;34m(self, key)\u001b[0m\n\u001b[1;32m   1995\u001b[0m             \u001b[0;32mreturn\u001b[0m \u001b[0mself\u001b[0m\u001b[0;34m.\u001b[0m\u001b[0m_getitem_multilevel\u001b[0m\u001b[0;34m(\u001b[0m\u001b[0mkey\u001b[0m\u001b[0;34m)\u001b[0m\u001b[0;34m\u001b[0m\u001b[0m\n\u001b[1;32m   1996\u001b[0m         \u001b[0;32melse\u001b[0m\u001b[0;34m:\u001b[0m\u001b[0;34m\u001b[0m\u001b[0m\n\u001b[0;32m-> 1997\u001b[0;31m             \u001b[0;32mreturn\u001b[0m \u001b[0mself\u001b[0m\u001b[0;34m.\u001b[0m\u001b[0m_getitem_column\u001b[0m\u001b[0;34m(\u001b[0m\u001b[0mkey\u001b[0m\u001b[0;34m)\u001b[0m\u001b[0;34m\u001b[0m\u001b[0m\n\u001b[0m\u001b[1;32m   1998\u001b[0m \u001b[0;34m\u001b[0m\u001b[0m\n\u001b[1;32m   1999\u001b[0m     \u001b[0;32mdef\u001b[0m \u001b[0m_getitem_column\u001b[0m\u001b[0;34m(\u001b[0m\u001b[0mself\u001b[0m\u001b[0;34m,\u001b[0m \u001b[0mkey\u001b[0m\u001b[0;34m)\u001b[0m\u001b[0;34m:\u001b[0m\u001b[0;34m\u001b[0m\u001b[0m\n",
      "\u001b[0;32m/Users/HudsonCavanagh/anaconda/lib/python2.7/site-packages/pandas/core/frame.pyc\u001b[0m in \u001b[0;36m_getitem_column\u001b[0;34m(self, key)\u001b[0m\n\u001b[1;32m   2002\u001b[0m         \u001b[0;31m# get column\u001b[0m\u001b[0;34m\u001b[0m\u001b[0;34m\u001b[0m\u001b[0m\n\u001b[1;32m   2003\u001b[0m         \u001b[0;32mif\u001b[0m \u001b[0mself\u001b[0m\u001b[0;34m.\u001b[0m\u001b[0mcolumns\u001b[0m\u001b[0;34m.\u001b[0m\u001b[0mis_unique\u001b[0m\u001b[0;34m:\u001b[0m\u001b[0;34m\u001b[0m\u001b[0m\n\u001b[0;32m-> 2004\u001b[0;31m             \u001b[0;32mreturn\u001b[0m \u001b[0mself\u001b[0m\u001b[0;34m.\u001b[0m\u001b[0m_get_item_cache\u001b[0m\u001b[0;34m(\u001b[0m\u001b[0mkey\u001b[0m\u001b[0;34m)\u001b[0m\u001b[0;34m\u001b[0m\u001b[0m\n\u001b[0m\u001b[1;32m   2005\u001b[0m \u001b[0;34m\u001b[0m\u001b[0m\n\u001b[1;32m   2006\u001b[0m         \u001b[0;31m# duplicate columns & possible reduce dimensionality\u001b[0m\u001b[0;34m\u001b[0m\u001b[0;34m\u001b[0m\u001b[0m\n",
      "\u001b[0;32m/Users/HudsonCavanagh/anaconda/lib/python2.7/site-packages/pandas/core/generic.pyc\u001b[0m in \u001b[0;36m_get_item_cache\u001b[0;34m(self, item)\u001b[0m\n\u001b[1;32m   1348\u001b[0m         \u001b[0mres\u001b[0m \u001b[0;34m=\u001b[0m \u001b[0mcache\u001b[0m\u001b[0;34m.\u001b[0m\u001b[0mget\u001b[0m\u001b[0;34m(\u001b[0m\u001b[0mitem\u001b[0m\u001b[0;34m)\u001b[0m\u001b[0;34m\u001b[0m\u001b[0m\n\u001b[1;32m   1349\u001b[0m         \u001b[0;32mif\u001b[0m \u001b[0mres\u001b[0m \u001b[0;32mis\u001b[0m \u001b[0mNone\u001b[0m\u001b[0;34m:\u001b[0m\u001b[0;34m\u001b[0m\u001b[0m\n\u001b[0;32m-> 1350\u001b[0;31m             \u001b[0mvalues\u001b[0m \u001b[0;34m=\u001b[0m \u001b[0mself\u001b[0m\u001b[0;34m.\u001b[0m\u001b[0m_data\u001b[0m\u001b[0;34m.\u001b[0m\u001b[0mget\u001b[0m\u001b[0;34m(\u001b[0m\u001b[0mitem\u001b[0m\u001b[0;34m)\u001b[0m\u001b[0;34m\u001b[0m\u001b[0m\n\u001b[0m\u001b[1;32m   1351\u001b[0m             \u001b[0mres\u001b[0m \u001b[0;34m=\u001b[0m \u001b[0mself\u001b[0m\u001b[0;34m.\u001b[0m\u001b[0m_box_item_values\u001b[0m\u001b[0;34m(\u001b[0m\u001b[0mitem\u001b[0m\u001b[0;34m,\u001b[0m \u001b[0mvalues\u001b[0m\u001b[0;34m)\u001b[0m\u001b[0;34m\u001b[0m\u001b[0m\n\u001b[1;32m   1352\u001b[0m             \u001b[0mcache\u001b[0m\u001b[0;34m[\u001b[0m\u001b[0mitem\u001b[0m\u001b[0;34m]\u001b[0m \u001b[0;34m=\u001b[0m \u001b[0mres\u001b[0m\u001b[0;34m\u001b[0m\u001b[0m\n",
      "\u001b[0;32m/Users/HudsonCavanagh/anaconda/lib/python2.7/site-packages/pandas/core/internals.pyc\u001b[0m in \u001b[0;36mget\u001b[0;34m(self, item, fastpath)\u001b[0m\n\u001b[1;32m   3288\u001b[0m \u001b[0;34m\u001b[0m\u001b[0m\n\u001b[1;32m   3289\u001b[0m             \u001b[0;32mif\u001b[0m \u001b[0;32mnot\u001b[0m \u001b[0misnull\u001b[0m\u001b[0;34m(\u001b[0m\u001b[0mitem\u001b[0m\u001b[0;34m)\u001b[0m\u001b[0;34m:\u001b[0m\u001b[0;34m\u001b[0m\u001b[0m\n\u001b[0;32m-> 3290\u001b[0;31m                 \u001b[0mloc\u001b[0m \u001b[0;34m=\u001b[0m \u001b[0mself\u001b[0m\u001b[0;34m.\u001b[0m\u001b[0mitems\u001b[0m\u001b[0;34m.\u001b[0m\u001b[0mget_loc\u001b[0m\u001b[0;34m(\u001b[0m\u001b[0mitem\u001b[0m\u001b[0;34m)\u001b[0m\u001b[0;34m\u001b[0m\u001b[0m\n\u001b[0m\u001b[1;32m   3291\u001b[0m             \u001b[0;32melse\u001b[0m\u001b[0;34m:\u001b[0m\u001b[0;34m\u001b[0m\u001b[0m\n\u001b[1;32m   3292\u001b[0m                 \u001b[0mindexer\u001b[0m \u001b[0;34m=\u001b[0m \u001b[0mnp\u001b[0m\u001b[0;34m.\u001b[0m\u001b[0marange\u001b[0m\u001b[0;34m(\u001b[0m\u001b[0mlen\u001b[0m\u001b[0;34m(\u001b[0m\u001b[0mself\u001b[0m\u001b[0;34m.\u001b[0m\u001b[0mitems\u001b[0m\u001b[0;34m)\u001b[0m\u001b[0;34m)\u001b[0m\u001b[0;34m[\u001b[0m\u001b[0misnull\u001b[0m\u001b[0;34m(\u001b[0m\u001b[0mself\u001b[0m\u001b[0;34m.\u001b[0m\u001b[0mitems\u001b[0m\u001b[0;34m)\u001b[0m\u001b[0;34m]\u001b[0m\u001b[0;34m\u001b[0m\u001b[0m\n",
      "\u001b[0;32m/Users/HudsonCavanagh/anaconda/lib/python2.7/site-packages/pandas/indexes/base.pyc\u001b[0m in \u001b[0;36mget_loc\u001b[0;34m(self, key, method, tolerance)\u001b[0m\n\u001b[1;32m   1945\u001b[0m                 \u001b[0;32mreturn\u001b[0m \u001b[0mself\u001b[0m\u001b[0;34m.\u001b[0m\u001b[0m_engine\u001b[0m\u001b[0;34m.\u001b[0m\u001b[0mget_loc\u001b[0m\u001b[0;34m(\u001b[0m\u001b[0mkey\u001b[0m\u001b[0;34m)\u001b[0m\u001b[0;34m\u001b[0m\u001b[0m\n\u001b[1;32m   1946\u001b[0m             \u001b[0;32mexcept\u001b[0m \u001b[0mKeyError\u001b[0m\u001b[0;34m:\u001b[0m\u001b[0;34m\u001b[0m\u001b[0m\n\u001b[0;32m-> 1947\u001b[0;31m                 \u001b[0;32mreturn\u001b[0m \u001b[0mself\u001b[0m\u001b[0;34m.\u001b[0m\u001b[0m_engine\u001b[0m\u001b[0;34m.\u001b[0m\u001b[0mget_loc\u001b[0m\u001b[0;34m(\u001b[0m\u001b[0mself\u001b[0m\u001b[0;34m.\u001b[0m\u001b[0m_maybe_cast_indexer\u001b[0m\u001b[0;34m(\u001b[0m\u001b[0mkey\u001b[0m\u001b[0;34m)\u001b[0m\u001b[0;34m)\u001b[0m\u001b[0;34m\u001b[0m\u001b[0m\n\u001b[0m\u001b[1;32m   1948\u001b[0m \u001b[0;34m\u001b[0m\u001b[0m\n\u001b[1;32m   1949\u001b[0m         \u001b[0mindexer\u001b[0m \u001b[0;34m=\u001b[0m \u001b[0mself\u001b[0m\u001b[0;34m.\u001b[0m\u001b[0mget_indexer\u001b[0m\u001b[0;34m(\u001b[0m\u001b[0;34m[\u001b[0m\u001b[0mkey\u001b[0m\u001b[0;34m]\u001b[0m\u001b[0;34m,\u001b[0m \u001b[0mmethod\u001b[0m\u001b[0;34m=\u001b[0m\u001b[0mmethod\u001b[0m\u001b[0;34m,\u001b[0m \u001b[0mtolerance\u001b[0m\u001b[0;34m=\u001b[0m\u001b[0mtolerance\u001b[0m\u001b[0;34m)\u001b[0m\u001b[0;34m\u001b[0m\u001b[0m\n",
      "\u001b[0;32mpandas/index.pyx\u001b[0m in \u001b[0;36mpandas.index.IndexEngine.get_loc (pandas/index.c:4154)\u001b[0;34m()\u001b[0m\n",
      "\u001b[0;32mpandas/index.pyx\u001b[0m in \u001b[0;36mpandas.index.IndexEngine.get_loc (pandas/index.c:4018)\u001b[0;34m()\u001b[0m\n",
      "\u001b[0;32mpandas/hashtable.pyx\u001b[0m in \u001b[0;36mpandas.hashtable.PyObjectHashTable.get_item (pandas/hashtable.c:12368)\u001b[0;34m()\u001b[0m\n",
      "\u001b[0;32mpandas/hashtable.pyx\u001b[0m in \u001b[0;36mpandas.hashtable.PyObjectHashTable.get_item (pandas/hashtable.c:12322)\u001b[0;34m()\u001b[0m\n",
      "\u001b[0;31mKeyError\u001b[0m: 'samples'"
     ]
    }
   ],
   "source": [
    "df[df['samples']>100] # all these super low samples are commercial, let's leave them in and hope we differentiate\n",
    "#also, its clear that AP type is really important - let's make dummies for those"
   ]
  },
  {
   "cell_type": "code",
   "execution_count": 46,
   "metadata": {
    "collapsed": false
   },
   "outputs": [
    {
     "data": {
      "text/plain": [
       "Federalized/Commercial    748\n",
       "Public Use                 51\n",
       "Name: AP Type, dtype: int64"
      ]
     },
     "execution_count": 46,
     "metadata": {},
     "output_type": "execute_result"
    }
   ],
   "source": [
    "df['AP Type'].value_counts() #definitely worth including, values for all 799 rows\n"
   ]
  },
  {
   "cell_type": "code",
   "execution_count": 47,
   "metadata": {
    "collapsed": false
   },
   "outputs": [
    {
     "ename": "KeyError",
     "evalue": "'samples'",
     "output_type": "error",
     "traceback": [
      "\u001b[0;31m---------------------------------------------------------------------------\u001b[0m",
      "\u001b[0;31mKeyError\u001b[0m                                  Traceback (most recent call last)",
      "\u001b[0;32m<ipython-input-47-34a1c096409b>\u001b[0m in \u001b[0;36m<module>\u001b[0;34m()\u001b[0m\n\u001b[0;32m----> 1\u001b[0;31m \u001b[0mlen\u001b[0m\u001b[0;34m(\u001b[0m\u001b[0mdf\u001b[0m\u001b[0;34m[\u001b[0m\u001b[0mdf\u001b[0m\u001b[0;34m[\u001b[0m\u001b[0;34m'samples'\u001b[0m\u001b[0;34m]\u001b[0m\u001b[0;34m>\u001b[0m\u001b[0;36m100\u001b[0m\u001b[0;34m]\u001b[0m\u001b[0;34m)\u001b[0m\u001b[0;34m\u001b[0m\u001b[0m\n\u001b[0m",
      "\u001b[0;32m/Users/HudsonCavanagh/anaconda/lib/python2.7/site-packages/pandas/core/frame.pyc\u001b[0m in \u001b[0;36m__getitem__\u001b[0;34m(self, key)\u001b[0m\n\u001b[1;32m   1995\u001b[0m             \u001b[0;32mreturn\u001b[0m \u001b[0mself\u001b[0m\u001b[0;34m.\u001b[0m\u001b[0m_getitem_multilevel\u001b[0m\u001b[0;34m(\u001b[0m\u001b[0mkey\u001b[0m\u001b[0;34m)\u001b[0m\u001b[0;34m\u001b[0m\u001b[0m\n\u001b[1;32m   1996\u001b[0m         \u001b[0;32melse\u001b[0m\u001b[0;34m:\u001b[0m\u001b[0;34m\u001b[0m\u001b[0m\n\u001b[0;32m-> 1997\u001b[0;31m             \u001b[0;32mreturn\u001b[0m \u001b[0mself\u001b[0m\u001b[0;34m.\u001b[0m\u001b[0m_getitem_column\u001b[0m\u001b[0;34m(\u001b[0m\u001b[0mkey\u001b[0m\u001b[0;34m)\u001b[0m\u001b[0;34m\u001b[0m\u001b[0m\n\u001b[0m\u001b[1;32m   1998\u001b[0m \u001b[0;34m\u001b[0m\u001b[0m\n\u001b[1;32m   1999\u001b[0m     \u001b[0;32mdef\u001b[0m \u001b[0m_getitem_column\u001b[0m\u001b[0;34m(\u001b[0m\u001b[0mself\u001b[0m\u001b[0;34m,\u001b[0m \u001b[0mkey\u001b[0m\u001b[0;34m)\u001b[0m\u001b[0;34m:\u001b[0m\u001b[0;34m\u001b[0m\u001b[0m\n",
      "\u001b[0;32m/Users/HudsonCavanagh/anaconda/lib/python2.7/site-packages/pandas/core/frame.pyc\u001b[0m in \u001b[0;36m_getitem_column\u001b[0;34m(self, key)\u001b[0m\n\u001b[1;32m   2002\u001b[0m         \u001b[0;31m# get column\u001b[0m\u001b[0;34m\u001b[0m\u001b[0;34m\u001b[0m\u001b[0m\n\u001b[1;32m   2003\u001b[0m         \u001b[0;32mif\u001b[0m \u001b[0mself\u001b[0m\u001b[0;34m.\u001b[0m\u001b[0mcolumns\u001b[0m\u001b[0;34m.\u001b[0m\u001b[0mis_unique\u001b[0m\u001b[0;34m:\u001b[0m\u001b[0;34m\u001b[0m\u001b[0m\n\u001b[0;32m-> 2004\u001b[0;31m             \u001b[0;32mreturn\u001b[0m \u001b[0mself\u001b[0m\u001b[0;34m.\u001b[0m\u001b[0m_get_item_cache\u001b[0m\u001b[0;34m(\u001b[0m\u001b[0mkey\u001b[0m\u001b[0;34m)\u001b[0m\u001b[0;34m\u001b[0m\u001b[0m\n\u001b[0m\u001b[1;32m   2005\u001b[0m \u001b[0;34m\u001b[0m\u001b[0m\n\u001b[1;32m   2006\u001b[0m         \u001b[0;31m# duplicate columns & possible reduce dimensionality\u001b[0m\u001b[0;34m\u001b[0m\u001b[0;34m\u001b[0m\u001b[0m\n",
      "\u001b[0;32m/Users/HudsonCavanagh/anaconda/lib/python2.7/site-packages/pandas/core/generic.pyc\u001b[0m in \u001b[0;36m_get_item_cache\u001b[0;34m(self, item)\u001b[0m\n\u001b[1;32m   1348\u001b[0m         \u001b[0mres\u001b[0m \u001b[0;34m=\u001b[0m \u001b[0mcache\u001b[0m\u001b[0;34m.\u001b[0m\u001b[0mget\u001b[0m\u001b[0;34m(\u001b[0m\u001b[0mitem\u001b[0m\u001b[0;34m)\u001b[0m\u001b[0;34m\u001b[0m\u001b[0m\n\u001b[1;32m   1349\u001b[0m         \u001b[0;32mif\u001b[0m \u001b[0mres\u001b[0m \u001b[0;32mis\u001b[0m \u001b[0mNone\u001b[0m\u001b[0;34m:\u001b[0m\u001b[0;34m\u001b[0m\u001b[0m\n\u001b[0;32m-> 1350\u001b[0;31m             \u001b[0mvalues\u001b[0m \u001b[0;34m=\u001b[0m \u001b[0mself\u001b[0m\u001b[0;34m.\u001b[0m\u001b[0m_data\u001b[0m\u001b[0;34m.\u001b[0m\u001b[0mget\u001b[0m\u001b[0;34m(\u001b[0m\u001b[0mitem\u001b[0m\u001b[0;34m)\u001b[0m\u001b[0;34m\u001b[0m\u001b[0m\n\u001b[0m\u001b[1;32m   1351\u001b[0m             \u001b[0mres\u001b[0m \u001b[0;34m=\u001b[0m \u001b[0mself\u001b[0m\u001b[0;34m.\u001b[0m\u001b[0m_box_item_values\u001b[0m\u001b[0;34m(\u001b[0m\u001b[0mitem\u001b[0m\u001b[0;34m,\u001b[0m \u001b[0mvalues\u001b[0m\u001b[0;34m)\u001b[0m\u001b[0;34m\u001b[0m\u001b[0m\n\u001b[1;32m   1352\u001b[0m             \u001b[0mcache\u001b[0m\u001b[0;34m[\u001b[0m\u001b[0mitem\u001b[0m\u001b[0;34m]\u001b[0m \u001b[0;34m=\u001b[0m \u001b[0mres\u001b[0m\u001b[0;34m\u001b[0m\u001b[0m\n",
      "\u001b[0;32m/Users/HudsonCavanagh/anaconda/lib/python2.7/site-packages/pandas/core/internals.pyc\u001b[0m in \u001b[0;36mget\u001b[0;34m(self, item, fastpath)\u001b[0m\n\u001b[1;32m   3288\u001b[0m \u001b[0;34m\u001b[0m\u001b[0m\n\u001b[1;32m   3289\u001b[0m             \u001b[0;32mif\u001b[0m \u001b[0;32mnot\u001b[0m \u001b[0misnull\u001b[0m\u001b[0;34m(\u001b[0m\u001b[0mitem\u001b[0m\u001b[0;34m)\u001b[0m\u001b[0;34m:\u001b[0m\u001b[0;34m\u001b[0m\u001b[0m\n\u001b[0;32m-> 3290\u001b[0;31m                 \u001b[0mloc\u001b[0m \u001b[0;34m=\u001b[0m \u001b[0mself\u001b[0m\u001b[0;34m.\u001b[0m\u001b[0mitems\u001b[0m\u001b[0;34m.\u001b[0m\u001b[0mget_loc\u001b[0m\u001b[0;34m(\u001b[0m\u001b[0mitem\u001b[0m\u001b[0;34m)\u001b[0m\u001b[0;34m\u001b[0m\u001b[0m\n\u001b[0m\u001b[1;32m   3291\u001b[0m             \u001b[0;32melse\u001b[0m\u001b[0;34m:\u001b[0m\u001b[0;34m\u001b[0m\u001b[0m\n\u001b[1;32m   3292\u001b[0m                 \u001b[0mindexer\u001b[0m \u001b[0;34m=\u001b[0m \u001b[0mnp\u001b[0m\u001b[0;34m.\u001b[0m\u001b[0marange\u001b[0m\u001b[0;34m(\u001b[0m\u001b[0mlen\u001b[0m\u001b[0;34m(\u001b[0m\u001b[0mself\u001b[0m\u001b[0;34m.\u001b[0m\u001b[0mitems\u001b[0m\u001b[0;34m)\u001b[0m\u001b[0;34m)\u001b[0m\u001b[0;34m[\u001b[0m\u001b[0misnull\u001b[0m\u001b[0;34m(\u001b[0m\u001b[0mself\u001b[0m\u001b[0;34m.\u001b[0m\u001b[0mitems\u001b[0m\u001b[0;34m)\u001b[0m\u001b[0;34m]\u001b[0m\u001b[0;34m\u001b[0m\u001b[0m\n",
      "\u001b[0;32m/Users/HudsonCavanagh/anaconda/lib/python2.7/site-packages/pandas/indexes/base.pyc\u001b[0m in \u001b[0;36mget_loc\u001b[0;34m(self, key, method, tolerance)\u001b[0m\n\u001b[1;32m   1945\u001b[0m                 \u001b[0;32mreturn\u001b[0m \u001b[0mself\u001b[0m\u001b[0;34m.\u001b[0m\u001b[0m_engine\u001b[0m\u001b[0;34m.\u001b[0m\u001b[0mget_loc\u001b[0m\u001b[0;34m(\u001b[0m\u001b[0mkey\u001b[0m\u001b[0;34m)\u001b[0m\u001b[0;34m\u001b[0m\u001b[0m\n\u001b[1;32m   1946\u001b[0m             \u001b[0;32mexcept\u001b[0m \u001b[0mKeyError\u001b[0m\u001b[0;34m:\u001b[0m\u001b[0;34m\u001b[0m\u001b[0m\n\u001b[0;32m-> 1947\u001b[0;31m                 \u001b[0;32mreturn\u001b[0m \u001b[0mself\u001b[0m\u001b[0;34m.\u001b[0m\u001b[0m_engine\u001b[0m\u001b[0;34m.\u001b[0m\u001b[0mget_loc\u001b[0m\u001b[0;34m(\u001b[0m\u001b[0mself\u001b[0m\u001b[0;34m.\u001b[0m\u001b[0m_maybe_cast_indexer\u001b[0m\u001b[0;34m(\u001b[0m\u001b[0mkey\u001b[0m\u001b[0;34m)\u001b[0m\u001b[0;34m)\u001b[0m\u001b[0;34m\u001b[0m\u001b[0m\n\u001b[0m\u001b[1;32m   1948\u001b[0m \u001b[0;34m\u001b[0m\u001b[0m\n\u001b[1;32m   1949\u001b[0m         \u001b[0mindexer\u001b[0m \u001b[0;34m=\u001b[0m \u001b[0mself\u001b[0m\u001b[0;34m.\u001b[0m\u001b[0mget_indexer\u001b[0m\u001b[0;34m(\u001b[0m\u001b[0;34m[\u001b[0m\u001b[0mkey\u001b[0m\u001b[0;34m]\u001b[0m\u001b[0;34m,\u001b[0m \u001b[0mmethod\u001b[0m\u001b[0;34m=\u001b[0m\u001b[0mmethod\u001b[0m\u001b[0;34m,\u001b[0m \u001b[0mtolerance\u001b[0m\u001b[0;34m=\u001b[0m\u001b[0mtolerance\u001b[0m\u001b[0;34m)\u001b[0m\u001b[0;34m\u001b[0m\u001b[0m\n",
      "\u001b[0;32mpandas/index.pyx\u001b[0m in \u001b[0;36mpandas.index.IndexEngine.get_loc (pandas/index.c:4154)\u001b[0;34m()\u001b[0m\n",
      "\u001b[0;32mpandas/index.pyx\u001b[0m in \u001b[0;36mpandas.index.IndexEngine.get_loc (pandas/index.c:4018)\u001b[0;34m()\u001b[0m\n",
      "\u001b[0;32mpandas/hashtable.pyx\u001b[0m in \u001b[0;36mpandas.hashtable.PyObjectHashTable.get_item (pandas/hashtable.c:12368)\u001b[0;34m()\u001b[0m\n",
      "\u001b[0;32mpandas/hashtable.pyx\u001b[0m in \u001b[0;36mpandas.hashtable.PyObjectHashTable.get_item (pandas/hashtable.c:12322)\u001b[0;34m()\u001b[0m\n",
      "\u001b[0;31mKeyError\u001b[0m: 'samples'"
     ]
    }
   ],
   "source": [
    "len(df[df['samples']>100])"
   ]
  },
  {
   "cell_type": "code",
   "execution_count": 48,
   "metadata": {
    "collapsed": true
   },
   "outputs": [],
   "source": [
    "\n",
    "ap_type_dums = pd.get_dummies(df['AP Type'])\n",
    "df = pd.concat([df,ap_type_dums], axis = 1)\n",
    "\n",
    "# ['samples', 'Public Use', 'Ferderalized/Commercial']"
   ]
  },
  {
   "cell_type": "code",
   "execution_count": 49,
   "metadata": {
    "collapsed": false
   },
   "outputs": [
    {
     "data": {
      "text/html": [
       "<div>\n",
       "<table border=\"1\" class=\"dataframe\">\n",
       "  <thead>\n",
       "    <tr style=\"text-align: right;\">\n",
       "      <th></th>\n",
       "      <th>Federalized/Commercial</th>\n",
       "      <th>Public Use</th>\n",
       "    </tr>\n",
       "  </thead>\n",
       "  <tbody>\n",
       "    <tr>\n",
       "      <th>0</th>\n",
       "      <td>1.0</td>\n",
       "      <td>0.0</td>\n",
       "    </tr>\n",
       "    <tr>\n",
       "      <th>1</th>\n",
       "      <td>1.0</td>\n",
       "      <td>0.0</td>\n",
       "    </tr>\n",
       "    <tr>\n",
       "      <th>2</th>\n",
       "      <td>1.0</td>\n",
       "      <td>0.0</td>\n",
       "    </tr>\n",
       "    <tr>\n",
       "      <th>3</th>\n",
       "      <td>1.0</td>\n",
       "      <td>0.0</td>\n",
       "    </tr>\n",
       "    <tr>\n",
       "      <th>4</th>\n",
       "      <td>1.0</td>\n",
       "      <td>0.0</td>\n",
       "    </tr>\n",
       "    <tr>\n",
       "      <th>5</th>\n",
       "      <td>1.0</td>\n",
       "      <td>0.0</td>\n",
       "    </tr>\n",
       "    <tr>\n",
       "      <th>6</th>\n",
       "      <td>1.0</td>\n",
       "      <td>0.0</td>\n",
       "    </tr>\n",
       "    <tr>\n",
       "      <th>7</th>\n",
       "      <td>1.0</td>\n",
       "      <td>0.0</td>\n",
       "    </tr>\n",
       "    <tr>\n",
       "      <th>8</th>\n",
       "      <td>1.0</td>\n",
       "      <td>0.0</td>\n",
       "    </tr>\n",
       "    <tr>\n",
       "      <th>9</th>\n",
       "      <td>1.0</td>\n",
       "      <td>0.0</td>\n",
       "    </tr>\n",
       "    <tr>\n",
       "      <th>10</th>\n",
       "      <td>1.0</td>\n",
       "      <td>0.0</td>\n",
       "    </tr>\n",
       "    <tr>\n",
       "      <th>11</th>\n",
       "      <td>1.0</td>\n",
       "      <td>0.0</td>\n",
       "    </tr>\n",
       "    <tr>\n",
       "      <th>12</th>\n",
       "      <td>1.0</td>\n",
       "      <td>0.0</td>\n",
       "    </tr>\n",
       "    <tr>\n",
       "      <th>13</th>\n",
       "      <td>1.0</td>\n",
       "      <td>0.0</td>\n",
       "    </tr>\n",
       "    <tr>\n",
       "      <th>14</th>\n",
       "      <td>1.0</td>\n",
       "      <td>0.0</td>\n",
       "    </tr>\n",
       "    <tr>\n",
       "      <th>15</th>\n",
       "      <td>1.0</td>\n",
       "      <td>0.0</td>\n",
       "    </tr>\n",
       "    <tr>\n",
       "      <th>16</th>\n",
       "      <td>1.0</td>\n",
       "      <td>0.0</td>\n",
       "    </tr>\n",
       "    <tr>\n",
       "      <th>17</th>\n",
       "      <td>1.0</td>\n",
       "      <td>0.0</td>\n",
       "    </tr>\n",
       "    <tr>\n",
       "      <th>18</th>\n",
       "      <td>1.0</td>\n",
       "      <td>0.0</td>\n",
       "    </tr>\n",
       "    <tr>\n",
       "      <th>19</th>\n",
       "      <td>1.0</td>\n",
       "      <td>0.0</td>\n",
       "    </tr>\n",
       "    <tr>\n",
       "      <th>20</th>\n",
       "      <td>1.0</td>\n",
       "      <td>0.0</td>\n",
       "    </tr>\n",
       "    <tr>\n",
       "      <th>21</th>\n",
       "      <td>1.0</td>\n",
       "      <td>0.0</td>\n",
       "    </tr>\n",
       "    <tr>\n",
       "      <th>22</th>\n",
       "      <td>1.0</td>\n",
       "      <td>0.0</td>\n",
       "    </tr>\n",
       "    <tr>\n",
       "      <th>23</th>\n",
       "      <td>1.0</td>\n",
       "      <td>0.0</td>\n",
       "    </tr>\n",
       "    <tr>\n",
       "      <th>24</th>\n",
       "      <td>1.0</td>\n",
       "      <td>0.0</td>\n",
       "    </tr>\n",
       "    <tr>\n",
       "      <th>25</th>\n",
       "      <td>1.0</td>\n",
       "      <td>0.0</td>\n",
       "    </tr>\n",
       "    <tr>\n",
       "      <th>26</th>\n",
       "      <td>1.0</td>\n",
       "      <td>0.0</td>\n",
       "    </tr>\n",
       "    <tr>\n",
       "      <th>27</th>\n",
       "      <td>1.0</td>\n",
       "      <td>0.0</td>\n",
       "    </tr>\n",
       "    <tr>\n",
       "      <th>28</th>\n",
       "      <td>1.0</td>\n",
       "      <td>0.0</td>\n",
       "    </tr>\n",
       "    <tr>\n",
       "      <th>29</th>\n",
       "      <td>1.0</td>\n",
       "      <td>0.0</td>\n",
       "    </tr>\n",
       "    <tr>\n",
       "      <th>...</th>\n",
       "      <td>...</td>\n",
       "      <td>...</td>\n",
       "    </tr>\n",
       "    <tr>\n",
       "      <th>789</th>\n",
       "      <td>1.0</td>\n",
       "      <td>0.0</td>\n",
       "    </tr>\n",
       "    <tr>\n",
       "      <th>790</th>\n",
       "      <td>1.0</td>\n",
       "      <td>0.0</td>\n",
       "    </tr>\n",
       "    <tr>\n",
       "      <th>791</th>\n",
       "      <td>1.0</td>\n",
       "      <td>0.0</td>\n",
       "    </tr>\n",
       "    <tr>\n",
       "      <th>792</th>\n",
       "      <td>1.0</td>\n",
       "      <td>0.0</td>\n",
       "    </tr>\n",
       "    <tr>\n",
       "      <th>793</th>\n",
       "      <td>1.0</td>\n",
       "      <td>0.0</td>\n",
       "    </tr>\n",
       "    <tr>\n",
       "      <th>794</th>\n",
       "      <td>1.0</td>\n",
       "      <td>0.0</td>\n",
       "    </tr>\n",
       "    <tr>\n",
       "      <th>795</th>\n",
       "      <td>1.0</td>\n",
       "      <td>0.0</td>\n",
       "    </tr>\n",
       "    <tr>\n",
       "      <th>796</th>\n",
       "      <td>1.0</td>\n",
       "      <td>0.0</td>\n",
       "    </tr>\n",
       "    <tr>\n",
       "      <th>808</th>\n",
       "      <td>1.0</td>\n",
       "      <td>0.0</td>\n",
       "    </tr>\n",
       "    <tr>\n",
       "      <th>809</th>\n",
       "      <td>1.0</td>\n",
       "      <td>0.0</td>\n",
       "    </tr>\n",
       "    <tr>\n",
       "      <th>810</th>\n",
       "      <td>1.0</td>\n",
       "      <td>0.0</td>\n",
       "    </tr>\n",
       "    <tr>\n",
       "      <th>811</th>\n",
       "      <td>1.0</td>\n",
       "      <td>0.0</td>\n",
       "    </tr>\n",
       "    <tr>\n",
       "      <th>812</th>\n",
       "      <td>1.0</td>\n",
       "      <td>0.0</td>\n",
       "    </tr>\n",
       "    <tr>\n",
       "      <th>813</th>\n",
       "      <td>1.0</td>\n",
       "      <td>0.0</td>\n",
       "    </tr>\n",
       "    <tr>\n",
       "      <th>814</th>\n",
       "      <td>1.0</td>\n",
       "      <td>0.0</td>\n",
       "    </tr>\n",
       "    <tr>\n",
       "      <th>815</th>\n",
       "      <td>1.0</td>\n",
       "      <td>0.0</td>\n",
       "    </tr>\n",
       "    <tr>\n",
       "      <th>816</th>\n",
       "      <td>1.0</td>\n",
       "      <td>0.0</td>\n",
       "    </tr>\n",
       "    <tr>\n",
       "      <th>817</th>\n",
       "      <td>1.0</td>\n",
       "      <td>0.0</td>\n",
       "    </tr>\n",
       "    <tr>\n",
       "      <th>818</th>\n",
       "      <td>1.0</td>\n",
       "      <td>0.0</td>\n",
       "    </tr>\n",
       "    <tr>\n",
       "      <th>819</th>\n",
       "      <td>1.0</td>\n",
       "      <td>0.0</td>\n",
       "    </tr>\n",
       "    <tr>\n",
       "      <th>820</th>\n",
       "      <td>1.0</td>\n",
       "      <td>0.0</td>\n",
       "    </tr>\n",
       "    <tr>\n",
       "      <th>821</th>\n",
       "      <td>1.0</td>\n",
       "      <td>0.0</td>\n",
       "    </tr>\n",
       "    <tr>\n",
       "      <th>822</th>\n",
       "      <td>1.0</td>\n",
       "      <td>0.0</td>\n",
       "    </tr>\n",
       "    <tr>\n",
       "      <th>823</th>\n",
       "      <td>1.0</td>\n",
       "      <td>0.0</td>\n",
       "    </tr>\n",
       "    <tr>\n",
       "      <th>824</th>\n",
       "      <td>1.0</td>\n",
       "      <td>0.0</td>\n",
       "    </tr>\n",
       "    <tr>\n",
       "      <th>825</th>\n",
       "      <td>1.0</td>\n",
       "      <td>0.0</td>\n",
       "    </tr>\n",
       "    <tr>\n",
       "      <th>826</th>\n",
       "      <td>1.0</td>\n",
       "      <td>0.0</td>\n",
       "    </tr>\n",
       "    <tr>\n",
       "      <th>827</th>\n",
       "      <td>1.0</td>\n",
       "      <td>0.0</td>\n",
       "    </tr>\n",
       "    <tr>\n",
       "      <th>828</th>\n",
       "      <td>1.0</td>\n",
       "      <td>0.0</td>\n",
       "    </tr>\n",
       "    <tr>\n",
       "      <th>829</th>\n",
       "      <td>1.0</td>\n",
       "      <td>0.0</td>\n",
       "    </tr>\n",
       "  </tbody>\n",
       "</table>\n",
       "<p>799 rows × 2 columns</p>\n",
       "</div>"
      ],
      "text/plain": [
       "     Federalized/Commercial  Public Use\n",
       "0                       1.0         0.0\n",
       "1                       1.0         0.0\n",
       "2                       1.0         0.0\n",
       "3                       1.0         0.0\n",
       "4                       1.0         0.0\n",
       "5                       1.0         0.0\n",
       "6                       1.0         0.0\n",
       "7                       1.0         0.0\n",
       "8                       1.0         0.0\n",
       "9                       1.0         0.0\n",
       "10                      1.0         0.0\n",
       "11                      1.0         0.0\n",
       "12                      1.0         0.0\n",
       "13                      1.0         0.0\n",
       "14                      1.0         0.0\n",
       "15                      1.0         0.0\n",
       "16                      1.0         0.0\n",
       "17                      1.0         0.0\n",
       "18                      1.0         0.0\n",
       "19                      1.0         0.0\n",
       "20                      1.0         0.0\n",
       "21                      1.0         0.0\n",
       "22                      1.0         0.0\n",
       "23                      1.0         0.0\n",
       "24                      1.0         0.0\n",
       "25                      1.0         0.0\n",
       "26                      1.0         0.0\n",
       "27                      1.0         0.0\n",
       "28                      1.0         0.0\n",
       "29                      1.0         0.0\n",
       "..                      ...         ...\n",
       "789                     1.0         0.0\n",
       "790                     1.0         0.0\n",
       "791                     1.0         0.0\n",
       "792                     1.0         0.0\n",
       "793                     1.0         0.0\n",
       "794                     1.0         0.0\n",
       "795                     1.0         0.0\n",
       "796                     1.0         0.0\n",
       "808                     1.0         0.0\n",
       "809                     1.0         0.0\n",
       "810                     1.0         0.0\n",
       "811                     1.0         0.0\n",
       "812                     1.0         0.0\n",
       "813                     1.0         0.0\n",
       "814                     1.0         0.0\n",
       "815                     1.0         0.0\n",
       "816                     1.0         0.0\n",
       "817                     1.0         0.0\n",
       "818                     1.0         0.0\n",
       "819                     1.0         0.0\n",
       "820                     1.0         0.0\n",
       "821                     1.0         0.0\n",
       "822                     1.0         0.0\n",
       "823                     1.0         0.0\n",
       "824                     1.0         0.0\n",
       "825                     1.0         0.0\n",
       "826                     1.0         0.0\n",
       "827                     1.0         0.0\n",
       "828                     1.0         0.0\n",
       "829                     1.0         0.0\n",
       "\n",
       "[799 rows x 2 columns]"
      ]
     },
     "execution_count": 49,
     "metadata": {},
     "output_type": "execute_result"
    }
   ],
   "source": [
    "ap_type_dums"
   ]
  },
  {
   "cell_type": "code",
   "execution_count": null,
   "metadata": {
    "collapsed": false,
    "scrolled": true
   },
   "outputs": [],
   "source": []
  },
  {
   "cell_type": "code",
   "execution_count": 50,
   "metadata": {
    "collapsed": false,
    "focus": false,
    "id": "98fd6a42-89e0-4621-a70d-1e2c8c4bb975"
   },
   "outputs": [
    {
     "ename": "ValueError",
     "evalue": "Input contains NaN, infinity or a value too large for dtype('float64').",
     "output_type": "error",
     "traceback": [
      "\u001b[0;31m---------------------------------------------------------------------------\u001b[0m",
      "\u001b[0;31mValueError\u001b[0m                                Traceback (most recent call last)",
      "\u001b[0;32m<ipython-input-50-d8a263e43f7b>\u001b[0m in \u001b[0;36m<module>\u001b[0;34m()\u001b[0m\n\u001b[1;32m      5\u001b[0m \u001b[0munscaled_x\u001b[0m \u001b[0;34m=\u001b[0m \u001b[0mdf\u001b[0m\u001b[0;34m.\u001b[0m\u001b[0mloc\u001b[0m\u001b[0;34m[\u001b[0m\u001b[0;34m:\u001b[0m\u001b[0;34m,\u001b[0m\u001b[0;34m[\u001b[0m\u001b[0;34m'year'\u001b[0m\u001b[0;34m,\u001b[0m\u001b[0;34m'percent on-time gate departures'\u001b[0m\u001b[0;34m,\u001b[0m\u001b[0;34m'percent on-time airport departures'\u001b[0m\u001b[0;34m,\u001b[0m \u001b[0;34m'percent on-time gate arrivals'\u001b[0m\u001b[0;34m,\u001b[0m\u001b[0;34m'average_gate_departure_delay'\u001b[0m\u001b[0;34m,\u001b[0m \u001b[0;34m'average_taxi_out_time'\u001b[0m\u001b[0;34m,\u001b[0m\u001b[0;34m'average taxi out delay'\u001b[0m\u001b[0;34m,\u001b[0m \u001b[0;34m'average airport departure delay'\u001b[0m\u001b[0;34m,\u001b[0m\u001b[0;34m'average airborne delay'\u001b[0m\u001b[0;34m,\u001b[0m \u001b[0;34m'average taxi in delay'\u001b[0m\u001b[0;34m,\u001b[0m\u001b[0;34m'average block delay'\u001b[0m\u001b[0;34m,\u001b[0m \u001b[0;34m'average gate arrival delay'\u001b[0m\u001b[0;34m,\u001b[0m \u001b[0;34m'Latitude'\u001b[0m\u001b[0;34m,\u001b[0m\u001b[0;34m'Longitude'\u001b[0m\u001b[0;34m,\u001b[0m \u001b[0;34m'net_cancelations'\u001b[0m\u001b[0;34m,\u001b[0m \u001b[0;34m'net_diversions'\u001b[0m\u001b[0;34m,\u001b[0m\u001b[0;34m'samples'\u001b[0m\u001b[0;34m,\u001b[0m \u001b[0;34m'Public Use'\u001b[0m\u001b[0;34m,\u001b[0m \u001b[0;34m'Federalized/Commercial'\u001b[0m\u001b[0;34m]\u001b[0m\u001b[0;34m]\u001b[0m\u001b[0;34m\u001b[0m\u001b[0m\n\u001b[1;32m      6\u001b[0m \u001b[0;34m\u001b[0m\u001b[0m\n\u001b[0;32m----> 7\u001b[0;31m \u001b[0mX_orig\u001b[0m \u001b[0;34m=\u001b[0m \u001b[0mpreprocessing\u001b[0m\u001b[0;34m.\u001b[0m\u001b[0mStandardScaler\u001b[0m\u001b[0;34m(\u001b[0m\u001b[0;34m)\u001b[0m\u001b[0;34m.\u001b[0m\u001b[0mfit_transform\u001b[0m\u001b[0;34m(\u001b[0m\u001b[0munscaled_x\u001b[0m\u001b[0;34m)\u001b[0m\u001b[0;34m\u001b[0m\u001b[0m\n\u001b[0m\u001b[1;32m      8\u001b[0m \u001b[0mX_orig\u001b[0m \u001b[0;34m=\u001b[0m \u001b[0mpd\u001b[0m\u001b[0;34m.\u001b[0m\u001b[0mDataFrame\u001b[0m\u001b[0;34m(\u001b[0m\u001b[0mX_orig\u001b[0m\u001b[0;34m,\u001b[0m \u001b[0mcolumns\u001b[0m\u001b[0;34m=\u001b[0m\u001b[0munscaled_x\u001b[0m\u001b[0;34m.\u001b[0m\u001b[0mcolumns\u001b[0m\u001b[0;34m)\u001b[0m\u001b[0;34m\u001b[0m\u001b[0m\n\u001b[1;32m      9\u001b[0m \u001b[0;34m\u001b[0m\u001b[0m\n",
      "\u001b[0;32m/Users/HudsonCavanagh/anaconda/lib/python2.7/site-packages/sklearn/base.pyc\u001b[0m in \u001b[0;36mfit_transform\u001b[0;34m(self, X, y, **fit_params)\u001b[0m\n\u001b[1;32m    453\u001b[0m         \u001b[0;32mif\u001b[0m \u001b[0my\u001b[0m \u001b[0;32mis\u001b[0m \u001b[0mNone\u001b[0m\u001b[0;34m:\u001b[0m\u001b[0;34m\u001b[0m\u001b[0m\n\u001b[1;32m    454\u001b[0m             \u001b[0;31m# fit method of arity 1 (unsupervised transformation)\u001b[0m\u001b[0;34m\u001b[0m\u001b[0;34m\u001b[0m\u001b[0m\n\u001b[0;32m--> 455\u001b[0;31m             \u001b[0;32mreturn\u001b[0m \u001b[0mself\u001b[0m\u001b[0;34m.\u001b[0m\u001b[0mfit\u001b[0m\u001b[0;34m(\u001b[0m\u001b[0mX\u001b[0m\u001b[0;34m,\u001b[0m \u001b[0;34m**\u001b[0m\u001b[0mfit_params\u001b[0m\u001b[0;34m)\u001b[0m\u001b[0;34m.\u001b[0m\u001b[0mtransform\u001b[0m\u001b[0;34m(\u001b[0m\u001b[0mX\u001b[0m\u001b[0;34m)\u001b[0m\u001b[0;34m\u001b[0m\u001b[0m\n\u001b[0m\u001b[1;32m    456\u001b[0m         \u001b[0;32melse\u001b[0m\u001b[0;34m:\u001b[0m\u001b[0;34m\u001b[0m\u001b[0m\n\u001b[1;32m    457\u001b[0m             \u001b[0;31m# fit method of arity 2 (supervised transformation)\u001b[0m\u001b[0;34m\u001b[0m\u001b[0;34m\u001b[0m\u001b[0m\n",
      "\u001b[0;32m/Users/HudsonCavanagh/anaconda/lib/python2.7/site-packages/sklearn/preprocessing/data.pyc\u001b[0m in \u001b[0;36mfit\u001b[0;34m(self, X, y)\u001b[0m\n\u001b[1;32m    555\u001b[0m         \u001b[0;31m# Reset internal state before fitting\u001b[0m\u001b[0;34m\u001b[0m\u001b[0;34m\u001b[0m\u001b[0m\n\u001b[1;32m    556\u001b[0m         \u001b[0mself\u001b[0m\u001b[0;34m.\u001b[0m\u001b[0m_reset\u001b[0m\u001b[0;34m(\u001b[0m\u001b[0;34m)\u001b[0m\u001b[0;34m\u001b[0m\u001b[0m\n\u001b[0;32m--> 557\u001b[0;31m         \u001b[0;32mreturn\u001b[0m \u001b[0mself\u001b[0m\u001b[0;34m.\u001b[0m\u001b[0mpartial_fit\u001b[0m\u001b[0;34m(\u001b[0m\u001b[0mX\u001b[0m\u001b[0;34m,\u001b[0m \u001b[0my\u001b[0m\u001b[0;34m)\u001b[0m\u001b[0;34m\u001b[0m\u001b[0m\n\u001b[0m\u001b[1;32m    558\u001b[0m \u001b[0;34m\u001b[0m\u001b[0m\n\u001b[1;32m    559\u001b[0m     \u001b[0;32mdef\u001b[0m \u001b[0mpartial_fit\u001b[0m\u001b[0;34m(\u001b[0m\u001b[0mself\u001b[0m\u001b[0;34m,\u001b[0m \u001b[0mX\u001b[0m\u001b[0;34m,\u001b[0m \u001b[0my\u001b[0m\u001b[0;34m=\u001b[0m\u001b[0mNone\u001b[0m\u001b[0;34m)\u001b[0m\u001b[0;34m:\u001b[0m\u001b[0;34m\u001b[0m\u001b[0m\n",
      "\u001b[0;32m/Users/HudsonCavanagh/anaconda/lib/python2.7/site-packages/sklearn/preprocessing/data.pyc\u001b[0m in \u001b[0;36mpartial_fit\u001b[0;34m(self, X, y)\u001b[0m\n\u001b[1;32m    578\u001b[0m         X = check_array(X, accept_sparse=('csr', 'csc'), copy=self.copy,\n\u001b[1;32m    579\u001b[0m                         \u001b[0mensure_2d\u001b[0m\u001b[0;34m=\u001b[0m\u001b[0mFalse\u001b[0m\u001b[0;34m,\u001b[0m \u001b[0mwarn_on_dtype\u001b[0m\u001b[0;34m=\u001b[0m\u001b[0mTrue\u001b[0m\u001b[0;34m,\u001b[0m\u001b[0;34m\u001b[0m\u001b[0m\n\u001b[0;32m--> 580\u001b[0;31m                         estimator=self, dtype=FLOAT_DTYPES)\n\u001b[0m\u001b[1;32m    581\u001b[0m \u001b[0;34m\u001b[0m\u001b[0m\n\u001b[1;32m    582\u001b[0m         \u001b[0;32mif\u001b[0m \u001b[0mX\u001b[0m\u001b[0;34m.\u001b[0m\u001b[0mndim\u001b[0m \u001b[0;34m==\u001b[0m \u001b[0;36m1\u001b[0m\u001b[0;34m:\u001b[0m\u001b[0;34m\u001b[0m\u001b[0m\n",
      "\u001b[0;32m/Users/HudsonCavanagh/anaconda/lib/python2.7/site-packages/sklearn/utils/validation.pyc\u001b[0m in \u001b[0;36mcheck_array\u001b[0;34m(array, accept_sparse, dtype, order, copy, force_all_finite, ensure_2d, allow_nd, ensure_min_samples, ensure_min_features, warn_on_dtype, estimator)\u001b[0m\n\u001b[1;32m    396\u001b[0m                              % (array.ndim, estimator_name))\n\u001b[1;32m    397\u001b[0m         \u001b[0;32mif\u001b[0m \u001b[0mforce_all_finite\u001b[0m\u001b[0;34m:\u001b[0m\u001b[0;34m\u001b[0m\u001b[0m\n\u001b[0;32m--> 398\u001b[0;31m             \u001b[0m_assert_all_finite\u001b[0m\u001b[0;34m(\u001b[0m\u001b[0marray\u001b[0m\u001b[0;34m)\u001b[0m\u001b[0;34m\u001b[0m\u001b[0m\n\u001b[0m\u001b[1;32m    399\u001b[0m \u001b[0;34m\u001b[0m\u001b[0m\n\u001b[1;32m    400\u001b[0m     \u001b[0mshape_repr\u001b[0m \u001b[0;34m=\u001b[0m \u001b[0m_shape_repr\u001b[0m\u001b[0;34m(\u001b[0m\u001b[0marray\u001b[0m\u001b[0;34m.\u001b[0m\u001b[0mshape\u001b[0m\u001b[0;34m)\u001b[0m\u001b[0;34m\u001b[0m\u001b[0m\n",
      "\u001b[0;32m/Users/HudsonCavanagh/anaconda/lib/python2.7/site-packages/sklearn/utils/validation.pyc\u001b[0m in \u001b[0;36m_assert_all_finite\u001b[0;34m(X)\u001b[0m\n\u001b[1;32m     52\u001b[0m             and not np.isfinite(X).all()):\n\u001b[1;32m     53\u001b[0m         raise ValueError(\"Input contains NaN, infinity\"\n\u001b[0;32m---> 54\u001b[0;31m                          \" or a value too large for %r.\" % X.dtype)\n\u001b[0m\u001b[1;32m     55\u001b[0m \u001b[0;34m\u001b[0m\u001b[0m\n\u001b[1;32m     56\u001b[0m \u001b[0;34m\u001b[0m\u001b[0m\n",
      "\u001b[0;31mValueError\u001b[0m: Input contains NaN, infinity or a value too large for dtype('float64')."
     ]
    }
   ],
   "source": [
    "from sklearn import preprocessing\n",
    "\n",
    "\n",
    "\n",
    "unscaled_x = df.loc[:,['year','percent on-time gate departures','percent on-time airport departures', 'percent on-time gate arrivals','average_gate_departure_delay', 'average_taxi_out_time','average taxi out delay', 'average airport departure delay','average airborne delay', 'average taxi in delay','average block delay', 'average gate arrival delay', 'Latitude','Longitude', 'net_cancelations', 'net_diversions','samples', 'Public Use', 'Federalized/Commercial']]\n",
    "\n",
    "X_orig = preprocessing.StandardScaler().fit_transform(unscaled_x)\n",
    "X_orig = pd.DataFrame(X_orig, columns=unscaled_x.columns)\n",
    "\n",
    "y = df['airport_num']\n",
    "y_temp = df['delay_score']\n",
    "\n"
   ]
  },
  {
   "cell_type": "code",
   "execution_count": 51,
   "metadata": {
    "collapsed": false
   },
   "outputs": [
    {
     "ename": "NameError",
     "evalue": "name 'y_temp' is not defined",
     "output_type": "error",
     "traceback": [
      "\u001b[0;31m---------------------------------------------------------------------------\u001b[0m",
      "\u001b[0;31mNameError\u001b[0m                                 Traceback (most recent call last)",
      "\u001b[0;32m<ipython-input-51-be4519d9bf72>\u001b[0m in \u001b[0;36m<module>\u001b[0;34m()\u001b[0m\n\u001b[1;32m      1\u001b[0m \u001b[0mrfc_cv\u001b[0m \u001b[0;34m=\u001b[0m \u001b[0mRandomForestRegressor\u001b[0m\u001b[0;34m(\u001b[0m\u001b[0mn_estimators\u001b[0m\u001b[0;34m=\u001b[0m\u001b[0;36m1000\u001b[0m\u001b[0;34m)\u001b[0m \u001b[0;31m#\u001b[0m\u001b[0;34m\u001b[0m\u001b[0m\n\u001b[0;32m----> 2\u001b[0;31m \u001b[0mstratk\u001b[0m \u001b[0;34m=\u001b[0m \u001b[0mStratifiedKFold\u001b[0m\u001b[0;34m(\u001b[0m\u001b[0my_temp\u001b[0m\u001b[0;34m,\u001b[0m \u001b[0mn_folds\u001b[0m\u001b[0;34m=\u001b[0m\u001b[0;36m10\u001b[0m\u001b[0;34m,\u001b[0m \u001b[0mshuffle\u001b[0m\u001b[0;34m=\u001b[0m\u001b[0mTrue\u001b[0m\u001b[0;34m,\u001b[0m \u001b[0mrandom_state\u001b[0m\u001b[0;34m=\u001b[0m\u001b[0;36m66\u001b[0m\u001b[0;34m)\u001b[0m\u001b[0;34m\u001b[0m\u001b[0m\n\u001b[0m\u001b[1;32m      3\u001b[0m \u001b[0;34m\u001b[0m\u001b[0m\n\u001b[1;32m      4\u001b[0m \u001b[0mrfc_cv\u001b[0m\u001b[0;34m.\u001b[0m\u001b[0mfit\u001b[0m\u001b[0;34m(\u001b[0m\u001b[0mX_orig\u001b[0m\u001b[0;34m,\u001b[0m \u001b[0my_temp\u001b[0m\u001b[0;34m)\u001b[0m\u001b[0;34m\u001b[0m\u001b[0m\n\u001b[1;32m      5\u001b[0m \u001b[0ms_rfc\u001b[0m \u001b[0;34m=\u001b[0m \u001b[0mcross_val_score\u001b[0m\u001b[0;34m(\u001b[0m\u001b[0mrfc_cv\u001b[0m\u001b[0;34m,\u001b[0m \u001b[0mX_orig\u001b[0m\u001b[0;34m,\u001b[0m \u001b[0my_temp\u001b[0m\u001b[0;34m,\u001b[0m \u001b[0mcv\u001b[0m\u001b[0;34m=\u001b[0m\u001b[0mstratk\u001b[0m\u001b[0;34m,\u001b[0m \u001b[0mn_jobs\u001b[0m\u001b[0;34m=\u001b[0m\u001b[0;34m-\u001b[0m\u001b[0;36m1\u001b[0m\u001b[0;34m)\u001b[0m\u001b[0;34m.\u001b[0m\u001b[0mmean\u001b[0m\u001b[0;34m(\u001b[0m\u001b[0;34m)\u001b[0m\u001b[0;34m\u001b[0m\u001b[0m\n",
      "\u001b[0;31mNameError\u001b[0m: name 'y_temp' is not defined"
     ]
    }
   ],
   "source": [
    "rfc_cv = RandomForestRegressor(n_estimators=1000) #\n",
    "stratk = StratifiedKFold(y_temp, n_folds=10, shuffle=True, random_state=66)\n",
    "\n",
    "rfc_cv.fit(X_orig, y_temp)\n",
    "s_rfc = cross_val_score(rfc_cv, X_orig, y_temp, cv=stratk, n_jobs=-1).mean()\n",
    "s_rfc\n",
    "\n"
   ]
  },
  {
   "cell_type": "code",
   "execution_count": null,
   "metadata": {
    "collapsed": false
   },
   "outputs": [],
   "source": []
  },
  {
   "cell_type": "code",
   "execution_count": 52,
   "metadata": {
    "collapsed": false
   },
   "outputs": [
    {
     "ename": "NotFittedError",
     "evalue": "Estimator not fitted, call `fit` before `feature_importances_`.",
     "output_type": "error",
     "traceback": [
      "\u001b[0;31m---------------------------------------------------------------------------\u001b[0m",
      "\u001b[0;31mNotFittedError\u001b[0m                            Traceback (most recent call last)",
      "\u001b[0;32m<ipython-input-52-0f45b524d28d>\u001b[0m in \u001b[0;36m<module>\u001b[0;34m()\u001b[0m\n\u001b[0;32m----> 1\u001b[0;31m feature_importances_rfc = pd.DataFrame(rfc_cv.feature_importances_,\n\u001b[0m\u001b[1;32m      2\u001b[0m                                    \u001b[0mindex\u001b[0m \u001b[0;34m=\u001b[0m \u001b[0mX_orig\u001b[0m\u001b[0;34m.\u001b[0m\u001b[0mcolumns\u001b[0m\u001b[0;34m,\u001b[0m\u001b[0;34m\u001b[0m\u001b[0m\n\u001b[1;32m      3\u001b[0m                                     \u001b[0mcolumns\u001b[0m\u001b[0;34m=\u001b[0m\u001b[0;34m[\u001b[0m\u001b[0;34m'importance'\u001b[0m\u001b[0;34m]\u001b[0m\u001b[0;34m)\u001b[0m\u001b[0;34m.\u001b[0m\u001b[0msort_values\u001b[0m\u001b[0;34m(\u001b[0m\u001b[0;34m'importance'\u001b[0m\u001b[0;34m,\u001b[0m\u001b[0;34m\u001b[0m\u001b[0m\n\u001b[1;32m      4\u001b[0m                                                                         ascending=False)\n\u001b[1;32m      5\u001b[0m \u001b[0mfeature_importances_rfc\u001b[0m\u001b[0;34m.\u001b[0m\u001b[0mhead\u001b[0m\u001b[0;34m(\u001b[0m\u001b[0;36m35\u001b[0m\u001b[0;34m)\u001b[0m\u001b[0;34m\u001b[0m\u001b[0m\n",
      "\u001b[0;32m/Users/HudsonCavanagh/anaconda/lib/python2.7/site-packages/sklearn/ensemble/forest.pyc\u001b[0m in \u001b[0;36mfeature_importances_\u001b[0;34m(self)\u001b[0m\n\u001b[1;32m    329\u001b[0m         \"\"\"\n\u001b[1;32m    330\u001b[0m         \u001b[0;32mif\u001b[0m \u001b[0mself\u001b[0m\u001b[0;34m.\u001b[0m\u001b[0mestimators_\u001b[0m \u001b[0;32mis\u001b[0m \u001b[0mNone\u001b[0m \u001b[0;32mor\u001b[0m \u001b[0mlen\u001b[0m\u001b[0;34m(\u001b[0m\u001b[0mself\u001b[0m\u001b[0;34m.\u001b[0m\u001b[0mestimators_\u001b[0m\u001b[0;34m)\u001b[0m \u001b[0;34m==\u001b[0m \u001b[0;36m0\u001b[0m\u001b[0;34m:\u001b[0m\u001b[0;34m\u001b[0m\u001b[0m\n\u001b[0;32m--> 331\u001b[0;31m             raise NotFittedError(\"Estimator not fitted, \"\n\u001b[0m\u001b[1;32m    332\u001b[0m                                  \"call `fit` before `feature_importances_`.\")\n\u001b[1;32m    333\u001b[0m \u001b[0;34m\u001b[0m\u001b[0m\n",
      "\u001b[0;31mNotFittedError\u001b[0m: Estimator not fitted, call `fit` before `feature_importances_`."
     ]
    }
   ],
   "source": [
    "feature_importances_rfc = pd.DataFrame(rfc_cv.feature_importances_,\n",
    "                                   index = X_orig.columns,\n",
    "                                    columns=['importance']).sort_values('importance',\n",
    "                                                                        ascending=False)\n",
    "feature_importances_rfc.head(35)"
   ]
  },
  {
   "cell_type": "code",
   "execution_count": 53,
   "metadata": {
    "collapsed": false
   },
   "outputs": [
    {
     "ename": "ValueError",
     "evalue": "Input contains NaN, infinity or a value too large for dtype('float64').",
     "output_type": "error",
     "traceback": [
      "\u001b[0;31m---------------------------------------------------------------------------\u001b[0m",
      "\u001b[0;31mValueError\u001b[0m                                Traceback (most recent call last)",
      "\u001b[0;32m<ipython-input-53-a548fda37104>\u001b[0m in \u001b[0;36m<module>\u001b[0;34m()\u001b[0m\n\u001b[1;32m      5\u001b[0m \u001b[0;34m\u001b[0m\u001b[0m\n\u001b[1;32m      6\u001b[0m \u001b[0mfeatures\u001b[0m \u001b[0;34m=\u001b[0m \u001b[0mdf\u001b[0m\u001b[0;34m.\u001b[0m\u001b[0mloc\u001b[0m\u001b[0;34m[\u001b[0m\u001b[0;34m:\u001b[0m\u001b[0;34m,\u001b[0m\u001b[0;34m[\u001b[0m\u001b[0;34m'year'\u001b[0m\u001b[0;34m,\u001b[0m\u001b[0;34m'avg_delay_late_control'\u001b[0m\u001b[0;34m,\u001b[0m \u001b[0;34m'net_lateness_percent'\u001b[0m\u001b[0;34m,\u001b[0m \u001b[0;34m'Latitude'\u001b[0m\u001b[0;34m,\u001b[0m\u001b[0;34m'Longitude'\u001b[0m\u001b[0;34m,\u001b[0m \u001b[0;34m'net_cancelations'\u001b[0m\u001b[0;34m,\u001b[0m \u001b[0;34m'net_diversions'\u001b[0m\u001b[0;34m,\u001b[0m\u001b[0;34m'samples'\u001b[0m\u001b[0;34m]\u001b[0m\u001b[0;34m]\u001b[0m\u001b[0;34m\u001b[0m\u001b[0m\n\u001b[0;32m----> 7\u001b[0;31m \u001b[0mX\u001b[0m \u001b[0;34m=\u001b[0m \u001b[0mpreprocessing\u001b[0m\u001b[0;34m.\u001b[0m\u001b[0mStandardScaler\u001b[0m\u001b[0;34m(\u001b[0m\u001b[0;34m)\u001b[0m\u001b[0;34m.\u001b[0m\u001b[0mfit_transform\u001b[0m\u001b[0;34m(\u001b[0m\u001b[0mfeatures\u001b[0m\u001b[0;34m)\u001b[0m\u001b[0;34m\u001b[0m\u001b[0m\n\u001b[0m\u001b[1;32m      8\u001b[0m \u001b[0mX\u001b[0m \u001b[0;34m=\u001b[0m \u001b[0mpd\u001b[0m\u001b[0;34m.\u001b[0m\u001b[0mDataFrame\u001b[0m\u001b[0;34m(\u001b[0m\u001b[0mX\u001b[0m\u001b[0;34m,\u001b[0m \u001b[0mcolumns\u001b[0m\u001b[0;34m=\u001b[0m\u001b[0mfeatures\u001b[0m\u001b[0;34m.\u001b[0m\u001b[0mcolumns\u001b[0m\u001b[0;34m)\u001b[0m\u001b[0;34m\u001b[0m\u001b[0m\n",
      "\u001b[0;32m/Users/HudsonCavanagh/anaconda/lib/python2.7/site-packages/sklearn/base.pyc\u001b[0m in \u001b[0;36mfit_transform\u001b[0;34m(self, X, y, **fit_params)\u001b[0m\n\u001b[1;32m    453\u001b[0m         \u001b[0;32mif\u001b[0m \u001b[0my\u001b[0m \u001b[0;32mis\u001b[0m \u001b[0mNone\u001b[0m\u001b[0;34m:\u001b[0m\u001b[0;34m\u001b[0m\u001b[0m\n\u001b[1;32m    454\u001b[0m             \u001b[0;31m# fit method of arity 1 (unsupervised transformation)\u001b[0m\u001b[0;34m\u001b[0m\u001b[0;34m\u001b[0m\u001b[0m\n\u001b[0;32m--> 455\u001b[0;31m             \u001b[0;32mreturn\u001b[0m \u001b[0mself\u001b[0m\u001b[0;34m.\u001b[0m\u001b[0mfit\u001b[0m\u001b[0;34m(\u001b[0m\u001b[0mX\u001b[0m\u001b[0;34m,\u001b[0m \u001b[0;34m**\u001b[0m\u001b[0mfit_params\u001b[0m\u001b[0;34m)\u001b[0m\u001b[0;34m.\u001b[0m\u001b[0mtransform\u001b[0m\u001b[0;34m(\u001b[0m\u001b[0mX\u001b[0m\u001b[0;34m)\u001b[0m\u001b[0;34m\u001b[0m\u001b[0m\n\u001b[0m\u001b[1;32m    456\u001b[0m         \u001b[0;32melse\u001b[0m\u001b[0;34m:\u001b[0m\u001b[0;34m\u001b[0m\u001b[0m\n\u001b[1;32m    457\u001b[0m             \u001b[0;31m# fit method of arity 2 (supervised transformation)\u001b[0m\u001b[0;34m\u001b[0m\u001b[0;34m\u001b[0m\u001b[0m\n",
      "\u001b[0;32m/Users/HudsonCavanagh/anaconda/lib/python2.7/site-packages/sklearn/preprocessing/data.pyc\u001b[0m in \u001b[0;36mfit\u001b[0;34m(self, X, y)\u001b[0m\n\u001b[1;32m    555\u001b[0m         \u001b[0;31m# Reset internal state before fitting\u001b[0m\u001b[0;34m\u001b[0m\u001b[0;34m\u001b[0m\u001b[0m\n\u001b[1;32m    556\u001b[0m         \u001b[0mself\u001b[0m\u001b[0;34m.\u001b[0m\u001b[0m_reset\u001b[0m\u001b[0;34m(\u001b[0m\u001b[0;34m)\u001b[0m\u001b[0;34m\u001b[0m\u001b[0m\n\u001b[0;32m--> 557\u001b[0;31m         \u001b[0;32mreturn\u001b[0m \u001b[0mself\u001b[0m\u001b[0;34m.\u001b[0m\u001b[0mpartial_fit\u001b[0m\u001b[0;34m(\u001b[0m\u001b[0mX\u001b[0m\u001b[0;34m,\u001b[0m \u001b[0my\u001b[0m\u001b[0;34m)\u001b[0m\u001b[0;34m\u001b[0m\u001b[0m\n\u001b[0m\u001b[1;32m    558\u001b[0m \u001b[0;34m\u001b[0m\u001b[0m\n\u001b[1;32m    559\u001b[0m     \u001b[0;32mdef\u001b[0m \u001b[0mpartial_fit\u001b[0m\u001b[0;34m(\u001b[0m\u001b[0mself\u001b[0m\u001b[0;34m,\u001b[0m \u001b[0mX\u001b[0m\u001b[0;34m,\u001b[0m \u001b[0my\u001b[0m\u001b[0;34m=\u001b[0m\u001b[0mNone\u001b[0m\u001b[0;34m)\u001b[0m\u001b[0;34m:\u001b[0m\u001b[0;34m\u001b[0m\u001b[0m\n",
      "\u001b[0;32m/Users/HudsonCavanagh/anaconda/lib/python2.7/site-packages/sklearn/preprocessing/data.pyc\u001b[0m in \u001b[0;36mpartial_fit\u001b[0;34m(self, X, y)\u001b[0m\n\u001b[1;32m    578\u001b[0m         X = check_array(X, accept_sparse=('csr', 'csc'), copy=self.copy,\n\u001b[1;32m    579\u001b[0m                         \u001b[0mensure_2d\u001b[0m\u001b[0;34m=\u001b[0m\u001b[0mFalse\u001b[0m\u001b[0;34m,\u001b[0m \u001b[0mwarn_on_dtype\u001b[0m\u001b[0;34m=\u001b[0m\u001b[0mTrue\u001b[0m\u001b[0;34m,\u001b[0m\u001b[0;34m\u001b[0m\u001b[0m\n\u001b[0;32m--> 580\u001b[0;31m                         estimator=self, dtype=FLOAT_DTYPES)\n\u001b[0m\u001b[1;32m    581\u001b[0m \u001b[0;34m\u001b[0m\u001b[0m\n\u001b[1;32m    582\u001b[0m         \u001b[0;32mif\u001b[0m \u001b[0mX\u001b[0m\u001b[0;34m.\u001b[0m\u001b[0mndim\u001b[0m \u001b[0;34m==\u001b[0m \u001b[0;36m1\u001b[0m\u001b[0;34m:\u001b[0m\u001b[0;34m\u001b[0m\u001b[0m\n",
      "\u001b[0;32m/Users/HudsonCavanagh/anaconda/lib/python2.7/site-packages/sklearn/utils/validation.pyc\u001b[0m in \u001b[0;36mcheck_array\u001b[0;34m(array, accept_sparse, dtype, order, copy, force_all_finite, ensure_2d, allow_nd, ensure_min_samples, ensure_min_features, warn_on_dtype, estimator)\u001b[0m\n\u001b[1;32m    396\u001b[0m                              % (array.ndim, estimator_name))\n\u001b[1;32m    397\u001b[0m         \u001b[0;32mif\u001b[0m \u001b[0mforce_all_finite\u001b[0m\u001b[0;34m:\u001b[0m\u001b[0;34m\u001b[0m\u001b[0m\n\u001b[0;32m--> 398\u001b[0;31m             \u001b[0m_assert_all_finite\u001b[0m\u001b[0;34m(\u001b[0m\u001b[0marray\u001b[0m\u001b[0;34m)\u001b[0m\u001b[0;34m\u001b[0m\u001b[0m\n\u001b[0m\u001b[1;32m    399\u001b[0m \u001b[0;34m\u001b[0m\u001b[0m\n\u001b[1;32m    400\u001b[0m     \u001b[0mshape_repr\u001b[0m \u001b[0;34m=\u001b[0m \u001b[0m_shape_repr\u001b[0m\u001b[0;34m(\u001b[0m\u001b[0marray\u001b[0m\u001b[0;34m.\u001b[0m\u001b[0mshape\u001b[0m\u001b[0;34m)\u001b[0m\u001b[0;34m\u001b[0m\u001b[0m\n",
      "\u001b[0;32m/Users/HudsonCavanagh/anaconda/lib/python2.7/site-packages/sklearn/utils/validation.pyc\u001b[0m in \u001b[0;36m_assert_all_finite\u001b[0;34m(X)\u001b[0m\n\u001b[1;32m     52\u001b[0m             and not np.isfinite(X).all()):\n\u001b[1;32m     53\u001b[0m         raise ValueError(\"Input contains NaN, infinity\"\n\u001b[0;32m---> 54\u001b[0;31m                          \" or a value too large for %r.\" % X.dtype)\n\u001b[0m\u001b[1;32m     55\u001b[0m \u001b[0;34m\u001b[0m\u001b[0m\n\u001b[1;32m     56\u001b[0m \u001b[0;34m\u001b[0m\u001b[0m\n",
      "\u001b[0;31mValueError\u001b[0m: Input contains NaN, infinity or a value too large for dtype('float64')."
     ]
    }
   ],
   "source": [
    "#because federal v. public airports are not predictive at all on the amount of lateness, seems like I should focus my analysis on non-public airports\n",
    "#Looking online, I was unable to find a clear difference between 2 groups, so dropping as features (airports seem to be divided in other ways online)\n",
    "\n",
    "# removed: 'Public Use', 'Federalized/Commercial'\n",
    "\n",
    "features = df.loc[:,['year','avg_delay_late_control', 'net_lateness_percent', 'Latitude','Longitude', 'net_cancelations', 'net_diversions','samples']]\n",
    "X = preprocessing.StandardScaler().fit_transform(features)\n",
    "X = pd.DataFrame(X, columns=features.columns)"
   ]
  },
  {
   "cell_type": "code",
   "execution_count": 54,
   "metadata": {
    "collapsed": false
   },
   "outputs": [
    {
     "ename": "NameError",
     "evalue": "name 'X' is not defined",
     "output_type": "error",
     "traceback": [
      "\u001b[0;31m---------------------------------------------------------------------------\u001b[0m",
      "\u001b[0;31mNameError\u001b[0m                                 Traceback (most recent call last)",
      "\u001b[0;32m<ipython-input-54-26afe27b801e>\u001b[0m in \u001b[0;36m<module>\u001b[0;34m()\u001b[0m\n\u001b[1;32m      2\u001b[0m \u001b[0;34m\u001b[0m\u001b[0m\n\u001b[1;32m      3\u001b[0m \u001b[0mpca_2\u001b[0m \u001b[0;34m=\u001b[0m \u001b[0mPCA\u001b[0m\u001b[0;34m(\u001b[0m\u001b[0mn_components\u001b[0m\u001b[0;34m=\u001b[0m\u001b[0;36m2\u001b[0m\u001b[0;34m)\u001b[0m\u001b[0;34m\u001b[0m\u001b[0m\n\u001b[0;32m----> 4\u001b[0;31m \u001b[0mxPC_2\u001b[0m \u001b[0;34m=\u001b[0m \u001b[0mpca_2\u001b[0m\u001b[0;34m.\u001b[0m\u001b[0mfit_transform\u001b[0m\u001b[0;34m(\u001b[0m\u001b[0mX\u001b[0m\u001b[0;34m)\u001b[0m \u001b[0;31m# Use the eigenvectors to transform xStand onto new axes\u001b[0m\u001b[0;34m\u001b[0m\u001b[0m\n\u001b[0m\u001b[1;32m      5\u001b[0m \u001b[0;32mprint\u001b[0m \u001b[0mpca_2\u001b[0m\u001b[0;34m.\u001b[0m\u001b[0mfit\u001b[0m\u001b[0;34m(\u001b[0m\u001b[0mX\u001b[0m\u001b[0;34m)\u001b[0m\u001b[0;34m.\u001b[0m\u001b[0mcomponents_\u001b[0m\u001b[0;31m# eigenvectors\u001b[0m\u001b[0;34m\u001b[0m\u001b[0m\n\u001b[1;32m      6\u001b[0m \u001b[0;34m\u001b[0m\u001b[0m\n",
      "\u001b[0;31mNameError\u001b[0m: name 'X' is not defined"
     ]
    }
   ],
   "source": [
    "from sklearn.decomposition import PCA\n",
    "\n",
    "pca_2 = PCA(n_components=2)\n",
    "xPC_2 = pca_2.fit_transform(X) # Use the eigenvectors to transform xStand onto new axes\n",
    "print pca_2.fit(X).components_# eigenvectors\n",
    "\n"
   ]
  },
  {
   "cell_type": "code",
   "execution_count": 55,
   "metadata": {
    "collapsed": false
   },
   "outputs": [
    {
     "ename": "NameError",
     "evalue": "name 'X' is not defined",
     "output_type": "error",
     "traceback": [
      "\u001b[0;31m---------------------------------------------------------------------------\u001b[0m",
      "\u001b[0;31mNameError\u001b[0m                                 Traceback (most recent call last)",
      "\u001b[0;32m<ipython-input-55-063ebbd1fa97>\u001b[0m in \u001b[0;36m<module>\u001b[0;34m()\u001b[0m\n\u001b[1;32m      2\u001b[0m \u001b[0;34m\u001b[0m\u001b[0m\n\u001b[1;32m      3\u001b[0m \u001b[0mpca_3\u001b[0m \u001b[0;34m=\u001b[0m \u001b[0mPCA\u001b[0m\u001b[0;34m(\u001b[0m\u001b[0mn_components\u001b[0m\u001b[0;34m=\u001b[0m\u001b[0;36m3\u001b[0m\u001b[0;34m)\u001b[0m\u001b[0;34m\u001b[0m\u001b[0m\n\u001b[0;32m----> 4\u001b[0;31m \u001b[0mxPC_3\u001b[0m \u001b[0;34m=\u001b[0m \u001b[0mpca_3\u001b[0m\u001b[0;34m.\u001b[0m\u001b[0mfit_transform\u001b[0m\u001b[0;34m(\u001b[0m\u001b[0mX\u001b[0m\u001b[0;34m)\u001b[0m \u001b[0;31m# Use the eigenvectors to transform xStand onto new axes\u001b[0m\u001b[0;34m\u001b[0m\u001b[0m\n\u001b[0m\u001b[1;32m      5\u001b[0m \u001b[0;32mprint\u001b[0m \u001b[0mpca_3\u001b[0m\u001b[0;34m.\u001b[0m\u001b[0mfit\u001b[0m\u001b[0;34m(\u001b[0m\u001b[0mX\u001b[0m\u001b[0;34m)\u001b[0m\u001b[0;34m.\u001b[0m\u001b[0mcomponents_\u001b[0m\u001b[0;31m# eigenvectors\u001b[0m\u001b[0;34m\u001b[0m\u001b[0m\n",
      "\u001b[0;31mNameError\u001b[0m: name 'X' is not defined"
     ]
    }
   ],
   "source": [
    "from sklearn.decomposition import PCA\n",
    "\n",
    "pca_3 = PCA(n_components=3)\n",
    "xPC_3 = pca_3.fit_transform(X) # Use the eigenvectors to transform xStand onto new axes\n",
    "print pca_3.fit(X).components_# eigenvectors\n"
   ]
  },
  {
   "cell_type": "code",
   "execution_count": 56,
   "metadata": {
    "collapsed": false
   },
   "outputs": [
    {
     "ename": "NameError",
     "evalue": "name 'xPC_2' is not defined",
     "output_type": "error",
     "traceback": [
      "\u001b[0;31m---------------------------------------------------------------------------\u001b[0m",
      "\u001b[0;31mNameError\u001b[0m                                 Traceback (most recent call last)",
      "\u001b[0;32m<ipython-input-56-fd281c8ee7e7>\u001b[0m in \u001b[0;36m<module>\u001b[0;34m()\u001b[0m\n\u001b[0;32m----> 1\u001b[0;31m \u001b[0mdf_pca_2\u001b[0m \u001b[0;34m=\u001b[0m \u001b[0mpd\u001b[0m\u001b[0;34m.\u001b[0m\u001b[0mDataFrame\u001b[0m\u001b[0;34m(\u001b[0m\u001b[0mxPC_2\u001b[0m\u001b[0;34m,\u001b[0m \u001b[0mcolumns\u001b[0m\u001b[0;34m=\u001b[0m\u001b[0;34m[\u001b[0m\u001b[0;34m'PC1'\u001b[0m\u001b[0;34m,\u001b[0m\u001b[0;34m'PC2'\u001b[0m\u001b[0;34m]\u001b[0m\u001b[0;34m)\u001b[0m\u001b[0;34m\u001b[0m\u001b[0m\n\u001b[0m\u001b[1;32m      2\u001b[0m \u001b[0;31m# len(df_pca_2) #799, as expected\u001b[0m\u001b[0;34m\u001b[0m\u001b[0;34m\u001b[0m\u001b[0m\n\u001b[1;32m      3\u001b[0m \u001b[0mdf_pca_labeled_full\u001b[0m \u001b[0;34m=\u001b[0m \u001b[0mpd\u001b[0m\u001b[0;34m.\u001b[0m\u001b[0mmerge\u001b[0m\u001b[0;34m(\u001b[0m\u001b[0mdf_pca_2\u001b[0m\u001b[0;34m,\u001b[0m \u001b[0mdf\u001b[0m\u001b[0;34m,\u001b[0m \u001b[0mleft_index\u001b[0m\u001b[0;34m=\u001b[0m\u001b[0;36m1\u001b[0m\u001b[0;34m,\u001b[0m \u001b[0mright_index\u001b[0m\u001b[0;34m=\u001b[0m\u001b[0;36m1\u001b[0m\u001b[0;34m)\u001b[0m\u001b[0;34m\u001b[0m\u001b[0m\n\u001b[1;32m      4\u001b[0m \u001b[0mdf_pca_labeled\u001b[0m \u001b[0;34m=\u001b[0m \u001b[0mdf_pca_labeled_full\u001b[0m\u001b[0;34m.\u001b[0m\u001b[0miloc\u001b[0m\u001b[0;34m[\u001b[0m\u001b[0;34m:\u001b[0m\u001b[0;34m,\u001b[0m\u001b[0;34m:\u001b[0m\u001b[0;36m3\u001b[0m\u001b[0;34m]\u001b[0m\u001b[0;34m\u001b[0m\u001b[0m\n\u001b[1;32m      5\u001b[0m \u001b[0mdf_pca_labeled\u001b[0m\u001b[0;34m.\u001b[0m\u001b[0mhead\u001b[0m\u001b[0;34m(\u001b[0m\u001b[0;34m)\u001b[0m\u001b[0;34m\u001b[0m\u001b[0m\n",
      "\u001b[0;31mNameError\u001b[0m: name 'xPC_2' is not defined"
     ]
    }
   ],
   "source": [
    "df_pca_2 = pd.DataFrame(xPC_2, columns=['PC1','PC2'])\n",
    "# len(df_pca_2) #799, as expected\n",
    "df_pca_labeled_full = pd.merge(df_pca_2, df, left_index=1, right_index=1)\n",
    "df_pca_labeled = df_pca_labeled_full.iloc[:,:3]\n",
    "df_pca_labeled.head()"
   ]
  },
  {
   "cell_type": "code",
   "execution_count": null,
   "metadata": {
    "collapsed": false
   },
   "outputs": [],
   "source": [
    "df_pca_3 = pd.DataFrame(xPC_3, columns=['PC1','PC2', 'PC3']) #for use in analysis\n",
    "df_pca3_labeled_full = pd.merge(df_pca_3, df, left_index=1, right_index=1)\n",
    "df_pca3_labeled = df_pca3_labeled_full.iloc[:,:4]\n",
    "df_pca_3.head() "
   ]
  },
  {
   "cell_type": "code",
   "execution_count": null,
   "metadata": {
    "collapsed": false
   },
   "outputs": [],
   "source": [
    "df_pca3_labeled.head() #for visualizations later"
   ]
  },
  {
   "cell_type": "code",
   "execution_count": null,
   "metadata": {
    "collapsed": false
   },
   "outputs": [],
   "source": [
    "# sns.regplot(data=df_pca_2,x='PC1', y='PC2')\n",
    "# plt.style.use('fivethirtyeight')"
   ]
  },
  {
   "cell_type": "code",
   "execution_count": null,
   "metadata": {
    "collapsed": false
   },
   "outputs": [],
   "source": [
    "\n"
   ]
  },
  {
   "cell_type": "code",
   "execution_count": null,
   "metadata": {
    "collapsed": false
   },
   "outputs": [],
   "source": [
    "kmeans = KMeans(n_clusters=5)\n",
    "clusters = kmeans.fit(X)\n",
    "labels = kmeans.labels_\n",
    "centroids = kmeans.cluster_centers_\n",
    "metrics.silhouette_score(X, labels, metric='euclidean')\n"
   ]
  },
  {
   "cell_type": "code",
   "execution_count": null,
   "metadata": {
    "collapsed": false
   },
   "outputs": [],
   "source": [
    "kmeans3 = KMeans(n_clusters=3)\n",
    "clusters3 = kmeans3.fit(X)\n",
    "labels3 = kmeans3.labels_\n",
    "centroids3 = kmeans3.cluster_centers_\n",
    "metrics.silhouette_score(X, labels3, metric='euclidean')"
   ]
  },
  {
   "cell_type": "code",
   "execution_count": null,
   "metadata": {
    "collapsed": false
   },
   "outputs": [],
   "source": [
    "kmeans10 = KMeans(n_clusters=10)\n",
    "clusters10 = kmeans10.fit(X)\n",
    "labels10 = kmeans10.labels_\n",
    "centroids10 = kmeans10.cluster_centers_\n",
    "metrics.silhouette_score(X, labels10, metric='euclidean')"
   ]
  },
  {
   "cell_type": "code",
   "execution_count": null,
   "metadata": {
    "collapsed": false
   },
   "outputs": [],
   "source": [
    "#now assessing PCA results\n",
    "\n",
    "kmeans3pca = KMeans(n_clusters=4)\n",
    "clusters3pca = kmeans3pca.fit(df_pca_2)\n",
    "labels3pca = kmeans3pca.labels_\n",
    "centroids3pca = kmeans3pca.cluster_centers_\n",
    "metrics.silhouette_score(df_pca_2, labels3pca, metric='euclidean')"
   ]
  },
  {
   "cell_type": "code",
   "execution_count": null,
   "metadata": {
    "collapsed": false
   },
   "outputs": [],
   "source": [
    "kmeans4 = KMeans(n_clusters=4)\n",
    "clusters4 = kmeans4.fit(df_pca_2)\n",
    "labels4 = kmeans4.labels_\n",
    "centroids4 = kmeans4.cluster_centers_\n",
    "metrics.silhouette_score(df_pca_2, labels4, metric='euclidean')"
   ]
  },
  {
   "cell_type": "code",
   "execution_count": null,
   "metadata": {
    "collapsed": false
   },
   "outputs": [],
   "source": [
    "kmeans_pca = KMeans(n_clusters=5)\n",
    "clusters_pca = kmeans_pca.fit(df_pca_2)\n",
    "labels_pca = kmeans_pca.labels_\n",
    "centroids_pca = kmeans_pca.cluster_centers_\n",
    "metrics.silhouette_score(df_pca_2, labels_pca, metric='euclidean')"
   ]
  },
  {
   "cell_type": "code",
   "execution_count": null,
   "metadata": {
    "collapsed": false
   },
   "outputs": [],
   "source": [
    "kmeans6 = KMeans(n_clusters=6)\n",
    "clusters6 = kmeans6.fit(df_pca_2)\n",
    "labels6 = kmeans6.labels_\n",
    "centroids6 = kmeans6.cluster_centers_\n",
    "metrics.silhouette_score(df_pca_2, labels6, metric='euclidean')"
   ]
  },
  {
   "cell_type": "code",
   "execution_count": null,
   "metadata": {
    "collapsed": false
   },
   "outputs": [],
   "source": [
    "df_pca_2['cluster'] = pd.Series(clusters_pca.labels_)\n",
    "plt.style.use('fivethirtyeight')\n",
    "\n",
    "graph = df_pca_2.plot(kind='scatter', x='PC2', y='PC1', figsize=(16,8))\n",
    "\n",
    "for i, airport in enumerate(df_pca_labeled['airport']):\n",
    "    graph.annotate(airport, (df_pca_2.iloc[i].PC2, df_pca_2.iloc[i].PC1))\n"
   ]
  },
  {
   "cell_type": "code",
   "execution_count": null,
   "metadata": {
    "collapsed": false
   },
   "outputs": [],
   "source": []
  },
  {
   "cell_type": "markdown",
   "metadata": {},
   "source": [
    "Stopping Point: Future Analysis\n",
    "\n",
    "Next, I will implement:\n",
    "\n",
    "heirarchical clustering\n",
    "random forest classification (with feature importance to inform other analysis)\n",
    "t-SNE (to see if more obvious clusters emerge)\n",
    "\n",
    "Then, next goal is to determine number of clusters -- especially if unclear above (using the full dataset). I will do 2 methods and compare them:\n",
    "\n",
    "DBscan (grid-search optimized w/ silouette score)\n",
    "\n",
    "Once I have determined my number of clusters, I will perform the following on both PCA and full(scaled) features:\n",
    "\n",
    "Finally, try to visualize best clusters with best siluette\n"
   ]
  },
  {
   "cell_type": "markdown",
   "metadata": {},
   "source": [
    "### Part 6: Additional Analysis\n",
    "Include any other models you'd like to run here. These can include regressions, classifications, or clusters. "
   ]
  },
  {
   "cell_type": "code",
   "execution_count": null,
   "metadata": {
    "collapsed": false
   },
   "outputs": [],
   "source": [
    "#heirarchical\n",
    "\n",
    "from sklearn import cluster, metrics\n",
    "from sklearn.ensemble import ExtraTreesClassifier\n",
    "from sklearn.neighbors import KNeighborsClassifier\n",
    "from scipy.cluster.hierarchy import dendrogram, linkage, cophenet, fcluster\n",
    "from scipy.spatial.distance import pdist\n",
    "\n",
    "Z = linkage(X, 'ward')\n",
    "c, coph_dists = cophenet(Z, pdist(X))\n",
    "c"
   ]
  },
  {
   "cell_type": "code",
   "execution_count": null,
   "metadata": {
    "collapsed": false
   },
   "outputs": [],
   "source": [
    "\n",
    "import matplotlib.pyplot as plt\n",
    "import matplotlib\n",
    "matplotlib.style.use('fivethirtyeight') \n",
    "%matplotlib inline\n",
    "\n",
    "plt.title('Dendrogram')\n",
    "plt.xlabel('Index Numbers')\n",
    "plt.ylabel('Distance')\n",
    "dendrogram(\n",
    "    Z,\n",
    "    leaf_rotation=90,  \n",
    "    leaf_font_size=8,\n",
    "    truncate_mode='lastp')\n",
    "plt.figure(figsize=(15, 10))\n",
    "plt.show()"
   ]
  },
  {
   "cell_type": "code",
   "execution_count": null,
   "metadata": {
    "collapsed": true
   },
   "outputs": [],
   "source": [
    "#looks like 3 clusters will be reasonable given the above visualization. What does t-SNE think?\n",
    "#this confirms the Kmeans silouettes scores"
   ]
  },
  {
   "cell_type": "code",
   "execution_count": null,
   "metadata": {
    "collapsed": true
   },
   "outputs": [],
   "source": [
    "#edited plit imbedding\n",
    "\n",
    "def plot_embedding(X, title=None):\n",
    "    x_min, x_max = np.min(X, 0), np.max(X, 0)\n",
    "    X = (X - x_min) / (x_max - x_min)\n",
    "\n",
    "    fig = plt.figure(figsize=(15,8))\n",
    "    ax = plt.subplot(111)\n",
    "    for i in range(X.shape[0]):\n",
    "        plt.text(X[i, 0], X[i, 1], str(df_pca_labeled['airport'][i]),\n",
    "                 color=plt.cm.Set1(y[i] / 10.),\n",
    "                 fontdict={'weight': 'bold', 'size': 9})\n",
    "\n",
    "    if hasattr(offsetbox, 'AnnotationBbox'):\n",
    "        # only print thumbnails with matplotlib > 1.0\n",
    "        shown_images = np.array([[1., 1.]])  # just something big\n",
    "        for i in range(df_pca_labeled['airport'].shape[0]):\n",
    "            dist = np.sum((X[i] - shown_images) ** 2, 1)\n",
    "            if np.min(dist) < 4e-3:\n",
    "                # don't show points that are too close\n",
    "                continue\n",
    "            shown_images = np.r_[shown_images, [X[i]]]\n",
    "            imagebox = offsetbox.AnnotationBbox(\n",
    "                offsetbox.OffsetImage(df_pca_labeled['airport'][i], cmap=plt.cm.gray_r),\n",
    "                X[i])\n",
    "            ax.add_artist(imagebox)\n",
    "    plt.xticks([]), plt.yticks([])\n",
    "    if title is not None:\n",
    "        plt.title(title)"
   ]
  },
  {
   "cell_type": "code",
   "execution_count": null,
   "metadata": {
    "collapsed": false
   },
   "outputs": [],
   "source": [
    "def scatter_basic(x):\n",
    "    # We choose a color palette with seaborn.\n",
    "    palette = sns.color_palette(\"GnBu_d\")\n",
    "\n",
    "    # We create a scatter plot.\n",
    "    plt.style.use('fivethirtyeight')\n",
    "    f = plt.figure(figsize=(8, 8))\n",
    "    ax = plt.subplot(aspect='equal')\n",
    "    sc = ax.scatter(x[:,0], x[:,1], lw=0, s=40)\n",
    "    plt.xlim(-25, 25)\n",
    "    plt.ylim(-25, 25)\n",
    "    ax.axis('off')\n",
    "    ax.axis('tight')\n",
    "    plt.show()\n",
    "\n",
    "\n",
    "    return f, ax, sc\n",
    "\n"
   ]
  },
  {
   "cell_type": "code",
   "execution_count": null,
   "metadata": {
    "collapsed": true
   },
   "outputs": [],
   "source": [
    "# original version of plot_embedding\n",
    "# def plot_embedding(X, title=None):\n",
    "#     x_min, x_max = np.min(X, 0), np.max(X, 0)\n",
    "#     X = (X - x_min) / (x_max - x_min)\n",
    "\n",
    "#     fig = plt.figure(figsize=(15,8))\n",
    "#     ax = plt.subplot(111)\n",
    "#     for i in range(X.shape[0]):\n",
    "#         plt.text(X[i, 0], X[i, 1], str(df['airport_num'][i]),\n",
    "#                  color=plt.cm.Set1(y[i] / 10.),\n",
    "#                  fontdict={'weight': 'bold', 'size': 9})\n",
    "\n",
    "#     if hasattr(offsetbox, 'AnnotationBbox'):\n",
    "#         # only print thumbnails with matplotlib > 1.0\n",
    "#         shown_images = np.array([[1., 1.]])  # just something big\n",
    "#         for i in range(df['airport_num'].shape[0]):\n",
    "#             dist = np.sum((X[i] - shown_images) ** 2, 1)\n",
    "#             if np.min(dist) < 4e-3:\n",
    "#                 # don't show points that are too close\n",
    "#                 continue\n",
    "#             shown_images = np.r_[shown_images, [X[i]]]\n",
    "#             imagebox = offsetbox.AnnotationBbox(\n",
    "#                 offsetbox.OffsetImage(df['airport_num'][i], cmap=plt.cm.gray_r),\n",
    "#                 X[i])\n",
    "#             ax.add_artist(imagebox)\n",
    "#     plt.xticks([]), plt.yticks([])\n",
    "#     if title is not None:\n",
    "#         plt.title(title)"
   ]
  },
  {
   "cell_type": "code",
   "execution_count": null,
   "metadata": {
    "collapsed": false
   },
   "outputs": [],
   "source": [
    "# t-SNE \n",
    "from time import time\n",
    "from scipy.cluster import hierarchy\n",
    "\n",
    "\n",
    "print(\"Computing t-SNE embedding\")\n",
    "tsne = manifold.TSNE(n_components=2, init='pca', random_state=5)\n",
    "X_tsne = tsne.fit_transform(X)\n",
    "\n",
    "\n",
    "scatter_basic(X_tsne)\n",
    "\n",
    "#this plot seems to support more than three groupings"
   ]
  },
  {
   "cell_type": "code",
   "execution_count": null,
   "metadata": {
    "collapsed": false
   },
   "outputs": [],
   "source": [
    "\n",
    "\n",
    "X.iloc[220:244,:]"
   ]
  },
  {
   "cell_type": "code",
   "execution_count": null,
   "metadata": {
    "collapsed": true
   },
   "outputs": [],
   "source": [
    "#t-SNE resources for troubleshooting visualization errors: https://indico.io/blog/visualizing-with-t-sne/\n",
    "#https://gist.github.com/lukemetz/be6123c7ee3b366e333a"
   ]
  },
  {
   "cell_type": "code",
   "execution_count": null,
   "metadata": {
    "collapsed": false
   },
   "outputs": [],
   "source": []
  },
  {
   "cell_type": "code",
   "execution_count": null,
   "metadata": {
    "collapsed": false
   },
   "outputs": [],
   "source": []
  },
  {
   "cell_type": "code",
   "execution_count": null,
   "metadata": {
    "collapsed": false
   },
   "outputs": [],
   "source": []
  },
  {
   "cell_type": "code",
   "execution_count": null,
   "metadata": {
    "collapsed": false
   },
   "outputs": [],
   "source": [
    "from tsne import bh_sne\n",
    "X_2d = bh_sne(X)\n",
    "plt.style.use('fivethirtyeight')\n",
    "plt.figure(figsize=(30, 10))\n",
    "plt.scatter(X_2d[:,0],X_2d[:,1])\n",
    "plt.title('t-SNE')\n",
    "plt.xlabel('')\n",
    "plt.ylabel('')\n",
    "# plt.plot(X_2d)\n",
    "# plt.show()"
   ]
  },
  {
   "cell_type": "code",
   "execution_count": null,
   "metadata": {
    "collapsed": false
   },
   "outputs": [],
   "source": [
    "X_2d[1,1]"
   ]
  },
  {
   "cell_type": "code",
   "execution_count": null,
   "metadata": {
    "collapsed": false
   },
   "outputs": [],
   "source": [
    "X_2d = bh_sne(X)\n",
    "plt.style.use('fivethirtyeight')\n",
    "plt.figure(figsize=(30, 10))\n",
    "plt.scatter(X_2d[:,0],X_2d[:,1])\n",
    "plt.title('t-SNE')\n",
    "plt.xlabel('')\n",
    "plt.ylabel('')\n",
    "\n",
    "for i, airport in enumerate(df_pca_labeled['airport']):\n",
    "    graph.annotate(airport, (X_2d[i,1], X_2d[i,0]))"
   ]
  },
  {
   "cell_type": "code",
   "execution_count": null,
   "metadata": {
    "collapsed": false
   },
   "outputs": [],
   "source": [
    "# Isomap \n",
    "n_neighbors = 4\n",
    "plt.style.use('fivethirtyeight')\n",
    "g_iso = manifold.Isomap(n_neighbors, n_components=2).fit_transform(g)\n",
    "plt.style.use('fivethirtyeight')\n",
    "plt.figure(figsize=(20, 10))\n",
    "plt.scatter(g_iso[:,0],g_iso[:,1])\n",
    "plt.title('Isomap')\n",
    "plt.xlabel('')\n",
    "plt.ylabel('')\n",
    "# scatter_basic(X_iso)"
   ]
  },
  {
   "cell_type": "code",
   "execution_count": null,
   "metadata": {
    "collapsed": false
   },
   "outputs": [],
   "source": [
    "# Isomap \n",
    "n_neighbors = 4\n",
    "plt.style.use('fivethirtyeight')\n",
    "X_iso = manifold.Isomap(n_neighbors, n_components=2).fit_transform(X)\n",
    "plt.style.use('fivethirtyeight')\n",
    "plt.figure(figsize=(20, 10))\n",
    "plt.scatter(X_iso[:,0],X_iso[:,1])\n",
    "plt.title('Isomap')\n",
    "plt.xlabel('')\n",
    "plt.ylabel('')\n",
    "# scatter_basic(X_iso)"
   ]
  },
  {
   "cell_type": "code",
   "execution_count": null,
   "metadata": {
    "collapsed": false
   },
   "outputs": [],
   "source": [
    "from tsne import bh_sne\n",
    "g_2d = bh_sne(g)\n",
    "plt.style.use('fivethirtyeight')\n",
    "plt.figure(figsize=(30, 10))\n",
    "plt.scatter(g_2d[:,0],g_2d[:,1])\n",
    "plt.title('t-SNE')\n",
    "plt.xlabel('')\n",
    "plt.ylabel('')\n",
    "# plt.plot(X_2d)\n",
    "# plt.show()"
   ]
  },
  {
   "cell_type": "code",
   "execution_count": null,
   "metadata": {
    "collapsed": false
   },
   "outputs": [],
   "source": [
    "plt.style.use('fivethirtyeight')\n",
    "plt.figure(figsize=(30, 20))\n",
    "plt.scatter(X_2d[:,0],X_2d[:,1])\n",
    "plt.title('t-SNE')\n",
    "plt.xlabel('')\n",
    "plt.ylabel('')\n",
    "plt.xlim([-25,25])\n",
    "plt.ylim([-25,25]) #4 clusters here?\n"
   ]
  },
  {
   "cell_type": "code",
   "execution_count": null,
   "metadata": {
    "collapsed": false
   },
   "outputs": [],
   "source": []
  },
  {
   "cell_type": "code",
   "execution_count": null,
   "metadata": {
    "collapsed": false
   },
   "outputs": [],
   "source": [
    "from sklearn.cluster import DBSCAN, KMeans\n",
    "\n",
    "db1 = DBSCAN(eps = 1, min_samples = 5).fit(X)  \n",
    "db1labels = db1.labels_  \n",
    "core_samples = db1.core_sample_indices_\n",
    "\n",
    "db1labels #too many\n"
   ]
  },
  {
   "cell_type": "code",
   "execution_count": null,
   "metadata": {
    "collapsed": false
   },
   "outputs": [],
   "source": [
    "from sklearn.metrics import silhouette_score\n",
    "\n",
    "print(\"Silhouette Coefficient: %0.3f\" #what does negative mean???\n",
    "      % silhouette_score(X, db1labels))"
   ]
  },
  {
   "cell_type": "code",
   "execution_count": null,
   "metadata": {
    "collapsed": false
   },
   "outputs": [],
   "source": [
    "\n"
   ]
  },
  {
   "cell_type": "code",
   "execution_count": null,
   "metadata": {
    "collapsed": false
   },
   "outputs": [],
   "source": [
    "db2 = DBSCAN(eps = 3, min_samples = 10).fit(X)  #\n",
    "db2labels = db2.labels_  \n",
    "core_samples = db2.core_sample_indices_\n",
    "\n",
    "\n",
    "print(\"Silhouette Coefficient: %0.3f\" #this is returning all zeros (which yields a killer silhouette...)\n",
    "      % silhouette_score(X, db2labels))"
   ]
  },
  {
   "cell_type": "code",
   "execution_count": null,
   "metadata": {
    "collapsed": false
   },
   "outputs": [],
   "source": [
    "set(db2labels) #too few"
   ]
  },
  {
   "cell_type": "code",
   "execution_count": null,
   "metadata": {
    "collapsed": false
   },
   "outputs": [],
   "source": [
    "db3 = DBSCAN(eps = 1, min_samples = 10).fit(xPC_2)  #\n",
    "db3labels = db3.labels_  \n",
    "core_samples = db3.core_sample_indices_\n",
    "\n",
    "\n",
    "print(\"Silhouette Coefficient: %0.3f\" #progress!\n",
    "      % silhouette_score(X, db3labels))"
   ]
  },
  {
   "cell_type": "code",
   "execution_count": null,
   "metadata": {
    "collapsed": false
   },
   "outputs": [],
   "source": [
    "db4 = DBSCAN(eps = .75, min_samples = 5).fit(xPC_3)  #\n",
    "db4labels = db4.labels_  \n",
    "core_samples = db4.core_sample_indices_\n",
    "\n",
    "\n",
    "print(\"Silhouette Coefficient: %0.3f\" #this is returning all zeros (which yields a killer silhouette...)\n",
    "      % silhouette_score(X, db4labels))"
   ]
  },
  {
   "cell_type": "code",
   "execution_count": null,
   "metadata": {
    "collapsed": false
   },
   "outputs": [],
   "source": [
    "set(db4labels) # 5 clusters here"
   ]
  },
  {
   "cell_type": "code",
   "execution_count": null,
   "metadata": {
    "collapsed": false
   },
   "outputs": [],
   "source": [
    "set(db3labels) #4 clusters as well\n"
   ]
  },
  {
   "cell_type": "code",
   "execution_count": null,
   "metadata": {
    "collapsed": false
   },
   "outputs": [],
   "source": [
    "rfc = RandomForestRegressor(n_estimators=1000) #\n",
    "stratk = StratifiedKFold(y_temp, n_folds=10, shuffle=True, random_state=66)\n",
    "\n",
    "rfc.fit(X, db4labels)\n",
    "s_rfc = cross_val_score(rfc, X, db4labels, cv=stratk, n_jobs=-1).mean()\n",
    "\n",
    "feature_importance_rfc = pd.DataFrame(rfc.feature_importances_,\n",
    "                                   index = features.columns,\n",
    "                                    columns=['importance']).sort_values('importance',\n",
    "                                                                        ascending=False)\n",
    "feature_importance_rfc.head(35) #first time running this, i kepy federalized and public use categories in, and they dominated the clustering, so i removed them\n",
    "\n"
   ]
  },
  {
   "cell_type": "code",
   "execution_count": null,
   "metadata": {
    "collapsed": false
   },
   "outputs": [],
   "source": [
    "X.head()"
   ]
  },
  {
   "cell_type": "code",
   "execution_count": null,
   "metadata": {
    "collapsed": false
   },
   "outputs": [],
   "source": [
    "g = X.drop('Longitude', 1)\n",
    "g = g.drop('Latitude', 1)\n",
    "\n",
    "\n",
    "db6 = DBSCAN(eps = .75, min_samples = 7).fit(g)  #\n",
    "db6labels = db6.labels_  \n",
    "core_samples = db6.core_sample_indices_\n",
    "\n",
    "g.head()\n",
    "rfc_g = RandomForestRegressor(n_estimators=1000) #\n",
    "\n",
    "rfc_g.fit(g, db4labels)\n",
    "s_rfc_g = cross_val_score(rfc_g, g, db6labels, cv=stratk, n_jobs=-1).mean()\n",
    "\n",
    "feature_importance_rfc_g = pd.DataFrame(rfc_g.feature_importances_,\n",
    "                                   index = g.columns,\n",
    "                                    columns=['importance']).sort_values('importance',\n",
    "                                                                        ascending=False)\n",
    "feature_importance_rfc_g.head(35) #first time running this, i kepy federalized and public use categories in, and they dominated the clustering, so i removed them\n",
    "\n"
   ]
  },
  {
   "cell_type": "code",
   "execution_count": null,
   "metadata": {
    "collapsed": false
   },
   "outputs": [],
   "source": [
    "print(\"Silhouette Coefficient: %0.3f\" #this is returning all zeros (which yields a killer silhouette...)\n",
    "      % silhouette_score(g, db6labels))"
   ]
  },
  {
   "cell_type": "code",
   "execution_count": null,
   "metadata": {
    "collapsed": false
   },
   "outputs": [],
   "source": [
    "db6labels.head(150)"
   ]
  },
  {
   "cell_type": "code",
   "execution_count": null,
   "metadata": {
    "collapsed": false
   },
   "outputs": [],
   "source": [
    "df[149:150]"
   ]
  },
  {
   "cell_type": "code",
   "execution_count": null,
   "metadata": {
    "collapsed": false
   },
   "outputs": [],
   "source": [
    "df[133:138]"
   ]
  },
  {
   "cell_type": "code",
   "execution_count": null,
   "metadata": {
    "collapsed": false
   },
   "outputs": [],
   "source": [
    "df[df['airport']=='TUS']"
   ]
  },
  {
   "cell_type": "code",
   "execution_count": null,
   "metadata": {
    "collapsed": false
   },
   "outputs": [],
   "source": [
    "db6labels[363:372] #atl"
   ]
  },
  {
   "cell_type": "code",
   "execution_count": null,
   "metadata": {
    "collapsed": false
   },
   "outputs": [],
   "source": [
    "db6labels[341:351] #jfk"
   ]
  },
  {
   "cell_type": "code",
   "execution_count": null,
   "metadata": {
    "collapsed": false
   },
   "outputs": [],
   "source": [
    "from sklearn.grid_search import GridSearchCV\n",
    "\n",
    "eps_vals = [0.1, 0.3, 0.5, 0.75, .9, 1.25, 1.5, 2, 3]\n",
    "min_samples = [3,5,6,7,8,9,10,11,12, 15]\n",
    "\n",
    "gs = GridSearchCV(db3, {'eps': eps_vals, 'min_samples': min_samples}, verbose=False, cv=stratk)\n",
    "# dbgs2labels = gs.labels_\n",
    "gs.fit(xPC_3, score=silhouette_score(X, gs.labels_))\n",
    "gs.best_params_"
   ]
  },
  {
   "cell_type": "code",
   "execution_count": null,
   "metadata": {
    "collapsed": false
   },
   "outputs": [],
   "source": [
    "plt.style.use('fivethirtyeight')\n",
    "plt.figure(figsize=(30, 20))\n",
    "plt.scatter(X_2d[:,0],X_2d[:,1])\n",
    "plt.title('t-SNE')\n",
    "plt.xlabel('')\n",
    "plt.ylabel('')\n",
    "plt.xlim([-25,25])\n",
    "plt.ylim([-25,25]) #4 clusters here?\n",
    "\n",
    "\n",
    "for i, label in enumerate(db4labels['airport']):\n",
    "    graph.annotate(label, (X_2d.iloc[i,0],X_2d.iloc[i,1]))"
   ]
  },
  {
   "cell_type": "code",
   "execution_count": null,
   "metadata": {
    "collapsed": false
   },
   "outputs": [],
   "source": [
    "print(len(X_2d), len(db4labels))"
   ]
  },
  {
   "cell_type": "code",
   "execution_count": null,
   "metadata": {
    "collapsed": false
   },
   "outputs": [],
   "source": [
    "X_2d = pd.DataFrame(X_2d)\n",
    "db6labels = pd.DataFrame(db6labels)\n",
    "\n",
    "\n",
    "plotdf = X_2d.merge(db6labels, how='left', left_index=1, right_index=1)\n",
    "# plotdf = pd.merge(X_2d, db4labels, how='left', left_index=1, right_index=1)\n",
    "\n",
    "plotdf.columns = ['x1', 'x2', 'label']\n",
    "\n",
    "plt.figure(figsize=(30, 20))\n",
    "sns.lmplot('x1','x2', data=plotdf, hue='label', legend=1, fit_reg=0)\n",
    "plt.title('t-SNE')            \n"
   ]
  },
  {
   "cell_type": "code",
   "execution_count": null,
   "metadata": {
    "collapsed": false
   },
   "outputs": [],
   "source": [
    "labels_pca\n",
    "\n",
    "labels_pca = pd.DataFrame(labels_pca)\n",
    "\n",
    "\n",
    "plotdf2 = X_2d.merge(labels_pca, how='left', left_index=1, right_index=1)\n",
    "# plotdf = pd.merge(X_2d, db4labels, how='left', left_index=1, right_index=1)\n",
    "\n",
    "plotdf2.columns = ['x1', 'x2', 'label']\n",
    "\n",
    "plt.figure(figsize=(30, 20))\n",
    "sns.lmplot('x1','x2', data=plotdf2, hue='label', legend=1, fit_reg=0)\n",
    "plt.title('t-SNE')   "
   ]
  },
  {
   "cell_type": "code",
   "execution_count": null,
   "metadata": {
    "collapsed": true
   },
   "outputs": [],
   "source": [
    "#tree/ random forest model predicting df['percent on-time airport departures'] and extract feature importance"
   ]
  },
  {
   "cell_type": "markdown",
   "metadata": {
    "focus": false,
    "id": "023d9120-1eb3-4f20-b083-5a8fa1605f06"
   },
   "source": [
    "### Part 7: Write an analysis plan of your findings "
   ]
  },
  {
   "cell_type": "markdown",
   "metadata": {
    "focus": false,
    "id": "dc0ce0b7-c246-4d76-a01d-88fa0d37fe95"
   },
   "source": [
    "Create a writeup on the interpretation of findings including an executive summary with conclusions and next steps. Put it on your blog, and include the link here."
   ]
  },
  {
   "cell_type": "markdown",
   "metadata": {
    "focus": false,
    "id": "140af42e-0757-400e-ae39-0410a54d2581"
   },
   "source": []
  },
  {
   "cell_type": "markdown",
   "metadata": {},
   "source": [
    "Which operational features are most correlated with delays?"
   ]
  },
  {
   "cell_type": "markdown",
   "metadata": {},
   "source": [
    " "
   ]
  },
  {
   "cell_type": "markdown",
   "metadata": {},
   "source": [
    "What should the airport's next steps be?"
   ]
  },
  {
   "cell_type": "markdown",
   "metadata": {},
   "source": [
    " "
   ]
  },
  {
   "cell_type": "markdown",
   "metadata": {
    "focus": false,
    "id": "8e08640c-4901-4724-9805-32c518521b2f"
   },
   "source": [
    "### Bonus: Copy your Database to AWS "
   ]
  },
  {
   "cell_type": "markdown",
   "metadata": {
    "focus": false,
    "id": "bf5d7088-46cd-4c47-9fcc-c1fd200cd164"
   },
   "source": [
    "Make sure to properly document all of the features of your dataset"
   ]
  },
  {
   "cell_type": "code",
   "execution_count": null,
   "metadata": {
    "collapsed": true,
    "focus": false,
    "id": "d181acff-8a70-40e9-8e39-fdc2b95550a2"
   },
   "outputs": [],
   "source": []
  },
  {
   "cell_type": "markdown",
   "metadata": {
    "focus": false,
    "id": "63387c7b-3c90-4732-808c-298225e1c0fb"
   },
   "source": [
    "### Bonus: Create a 3-Dimensional Plot of your new dataset with PCA applied"
   ]
  },
  {
   "cell_type": "code",
   "execution_count": null,
   "metadata": {
    "collapsed": true,
    "focus": false,
    "id": "b6fece51-aa23-4572-8d1d-c9c83701899d"
   },
   "outputs": [],
   "source": []
  }
 ],
 "metadata": {
  "kernelspec": {
   "display_name": "Python 2",
   "language": "python",
   "name": "python2"
  },
  "language_info": {
   "codemirror_mode": {
    "name": "ipython",
    "version": 2
   },
   "file_extension": ".py",
   "mimetype": "text/x-python",
   "name": "python",
   "nbconvert_exporter": "python",
   "pygments_lexer": "ipython2",
   "version": "2.7.12"
  }
 },
 "nbformat": 4,
 "nbformat_minor": 0
}
