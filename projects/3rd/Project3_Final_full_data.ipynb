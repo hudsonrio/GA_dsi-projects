{
 "cells": [
  {
   "cell_type": "markdown",
   "metadata": {},
   "source": [
    "# Getting started\n",
    "\n",
    "Once you've chosen your scenario, download the data from [the Iowa website](https://data.iowa.gov/Economy/Iowa-Liquor-Sales/m3tr-qhgy) in csv format. Start by loading the data with pandas. You may need to parse the date columns appropriately."
   ]
  },
  {
   "cell_type": "code",
   "execution_count": 1,
   "metadata": {
    "collapsed": false,
    "scrolled": true
   },
   "outputs": [
    {
     "name": "stderr",
     "output_type": "stream",
     "text": [
      "/Users/HudsonCavanagh/anaconda/lib/python2.7/site-packages/IPython/core/interactiveshell.py:2902: DtypeWarning: Columns (3) have mixed types. Specify dtype option on import or set low_memory=False.\n",
      "  interactivity=interactivity, compiler=compiler, result=result)\n"
     ]
    }
   ],
   "source": [
    "import pandas as pd\n",
    "import numpy as np\n",
    "import sklearn\n",
    "from sklearn import datasets\n",
    "from sklearn import linear_model\n",
    "import os\n",
    "\n",
    "from sklearn.cross_validation import train_test_split\n",
    "from sklearn.cross_validation import cross_val_score\n",
    "from sklearn.cross_validation import cross_val_predict\n",
    "\n",
    "from sklearn.metrics import mean_squared_error, mean_absolute_error, r2_score\n",
    "\n",
    "import matplotlib.pyplot as plt\n",
    "%matplotlib inline\n",
    "\n",
    "\n",
    "iowa_data = pd.read_csv('/Users/HudsonCavanagh/Documents/Iowa_Liquor_Sales_reduced.csv') \n",
    "\n",
    "ia = pd.DataFrame(iowa_data) \n",
    "ia.dropna(how='any', axis=0, inplace=True)\n",
    "ia['Date'] = pd.to_datetime(ia['Date'], infer_datetime_format=True)\n",
    "\n",
    "iowa_zip_data = pd.read_csv('/Users/HudsonCavanagh/dsi-projects/projects/3rd - IA Liquor/iowa_zip_pop.csv')\n",
    "ia_zip_pop = pd.DataFrame(iowa_zip_data) \n",
    "ia_zip_pop.dropna(how='any', axis=0, inplace=True)\n"
   ]
  },
  {
   "cell_type": "code",
   "execution_count": 2,
   "metadata": {
    "collapsed": false
   },
   "outputs": [],
   "source": [
    "#clean IA ZIP POP HERE\n",
    "\n",
    "ia_zip_pop = ia_zip_pop.iloc[:,(2,10)]\n",
    "column_iazip = ['zip', 'pop_dense_heads_sqm']\n",
    "ia_zip_pop.columns = column_iazip\n",
    "ia_zip_pop['zip'] = ia_zip_pop['zip'].apply(lambda x: str(x))\n",
    "ia_zip_pop['pop_dense_heads_sqm'] = ia_zip_pop['pop_dense_heads_sqm'].apply(lambda x: float(x)) "
   ]
  },
  {
   "cell_type": "code",
   "execution_count": 3,
   "metadata": {
    "collapsed": false
   },
   "outputs": [
    {
     "data": {
      "text/plain": [
       "2692602"
      ]
     },
     "execution_count": 3,
     "metadata": {},
     "output_type": "execute_result"
    }
   ],
   "source": [
    "#rename columns in main dataframe\n",
    "\n",
    "ia.rename(columns={'Date': 'date', 'Store Number': 'store_num', 'City': 'city', 'Zip Code': 'zip', 'County Number': 'county_num', 'County': 'county_name', 'Category': 'cat', 'Category Name': 'cat_name'}, inplace=True)\n",
    "ia.rename(columns={'Vendor Number': 'vend_id', 'Item Number': 'item_id', 'Item Description': 'item', 'Bottle Volume (ml)': 'vol_per_bottle_ml', 'State Bottle Cost': 'bottle_cost', 'State Bottle Retail': 'retail_unit_rev', 'Bottles Sold': 'bottles_sold'}, inplace=True)\n",
    "ia.rename(columns={'Sale (Dollars)': 'trans_revenue', 'Volume Sold (Liters)': 'vol_sold_liters'}, inplace=True)\n",
    "ia = ia.iloc[:,0:17]\n",
    "\n",
    "len(ia['store_num'])"
   ]
  },
  {
   "cell_type": "code",
   "execution_count": 4,
   "metadata": {
    "collapsed": false,
    "scrolled": true
   },
   "outputs": [],
   "source": [
    "#CONVERT DATATYPES, prepare g with index zip\n",
    "\n",
    "# ia['date'].value_counts  #dtype time 64\n",
    "# ia['store_num'].value_counts  #int, should be string\n",
    "ia['store_num'] = ia['store_num'].apply(lambda x: str(x))\n",
    "# ia['city'].value_counts #object, ok\n",
    "# ia['zip'].value_counts #object, ok\n",
    "# ia['county_num'].value_counts #float, should be object\n",
    "ia['county_num'] = ia['county_num'].apply(lambda x: str(x))\n",
    "# ia['county_name'].value_counts #object, ok\n",
    "# ia['cat'].value_counts #int, should be obj\n",
    "                                          \n",
    "ia['cat'] = ia['cat'].apply(lambda x: str(x))\n",
    "                                          \n",
    "                                 \n",
    "# ia['cat_name'].value_counts #str\n",
    "ia['vend_id'] = ia['vend_id'].apply(lambda x: str(x))\n",
    "ia['item_id'] = ia['item_id'].apply(lambda x: str(x))\n",
    "# ia['item'].value_counts #str\n",
    "ia['liters_per_bottle'] = (ia['vol_per_bottle_ml'].apply(lambda x: float(x)/1000))\n",
    "ia['bottles_sold'] = (ia['bottles_sold'].apply(lambda x: float(x)))\n",
    "\n",
    "##THIS DATA CLEAN, JUST NEED TO CONVERT DOLLAR COLUMNS\n",
    "\n",
    "ia['bottle_cost'] = ia['bottle_cost'].apply(lambda x: x.strip('$'))\n",
    "ia['bottle_cost'] = ia['bottle_cost'].apply(lambda x: float(x))\n",
    "\n",
    "ia['retail_unit_rev'] = ia['retail_unit_rev'].apply(lambda x: x.strip('$'))\n",
    "ia['retail_unit_rev'] = ia['retail_unit_rev'].apply(lambda x: float(x))\n",
    "\n",
    "ia['trans_revenue'] = ia['trans_revenue'].apply(lambda x: x.strip('$'))\n",
    "ia['trans_revenue'] = ia['trans_revenue'].apply(lambda x: float(x))\n",
    "\n",
    "\n",
    "gg = ia.set_index('zip')\n",
    "ia_zipindex_pop = ia_zip_pop.set_index('zip')\n",
    "\n",
    "\n",
    "#MAJOR MERGE/ PROBLEM POINT:\n",
    "g = pd.merge(gg, ia_zipindex_pop, how='left', sort=False, left_index=True, right_index=True)\n",
    "#returns duplicate indices with meaningful data\n",
    "g = g.dropna(axis=0, how='any')"
   ]
  },
  {
   "cell_type": "code",
   "execution_count": 5,
   "metadata": {
    "collapsed": false
   },
   "outputs": [
    {
     "data": {
      "text/html": [
       "<div>\n",
       "<table border=\"1\" class=\"dataframe\">\n",
       "  <thead>\n",
       "    <tr style=\"text-align: right;\">\n",
       "      <th></th>\n",
       "      <th>date</th>\n",
       "      <th>store_num</th>\n",
       "      <th>city</th>\n",
       "      <th>county_num</th>\n",
       "      <th>county_name</th>\n",
       "      <th>cat</th>\n",
       "      <th>cat_name</th>\n",
       "      <th>vend_id</th>\n",
       "      <th>item_id</th>\n",
       "      <th>item</th>\n",
       "      <th>vol_per_bottle_ml</th>\n",
       "      <th>bottle_cost</th>\n",
       "      <th>retail_unit_rev</th>\n",
       "      <th>bottles_sold</th>\n",
       "      <th>trans_revenue</th>\n",
       "      <th>vol_sold_liters</th>\n",
       "      <th>liters_per_bottle</th>\n",
       "      <th>pop_dense_heads_sqm</th>\n",
       "    </tr>\n",
       "    <tr>\n",
       "      <th>zip</th>\n",
       "      <th></th>\n",
       "      <th></th>\n",
       "      <th></th>\n",
       "      <th></th>\n",
       "      <th></th>\n",
       "      <th></th>\n",
       "      <th></th>\n",
       "      <th></th>\n",
       "      <th></th>\n",
       "      <th></th>\n",
       "      <th></th>\n",
       "      <th></th>\n",
       "      <th></th>\n",
       "      <th></th>\n",
       "      <th></th>\n",
       "      <th></th>\n",
       "      <th></th>\n",
       "      <th></th>\n",
       "    </tr>\n",
       "  </thead>\n",
       "  <tbody>\n",
       "    <tr>\n",
       "      <th>50002</th>\n",
       "      <td>2016-03-28</td>\n",
       "      <td>4417</td>\n",
       "      <td>ADAIR</td>\n",
       "      <td>1.0</td>\n",
       "      <td>Adair</td>\n",
       "      <td>1031080.0</td>\n",
       "      <td>VODKA 80 PROOF</td>\n",
       "      <td>434</td>\n",
       "      <td>36308</td>\n",
       "      <td>Hawkeye Vodka</td>\n",
       "      <td>1750</td>\n",
       "      <td>7.17</td>\n",
       "      <td>10.76</td>\n",
       "      <td>12</td>\n",
       "      <td>129.12</td>\n",
       "      <td>21</td>\n",
       "      <td>1.750</td>\n",
       "      <td>12</td>\n",
       "    </tr>\n",
       "    <tr>\n",
       "      <th>50002</th>\n",
       "      <td>2016-03-28</td>\n",
       "      <td>4417</td>\n",
       "      <td>ADAIR</td>\n",
       "      <td>1.0</td>\n",
       "      <td>Adair</td>\n",
       "      <td>1012100.0</td>\n",
       "      <td>CANADIAN WHISKIES</td>\n",
       "      <td>115</td>\n",
       "      <td>11774</td>\n",
       "      <td>Black Velvet</td>\n",
       "      <td>375</td>\n",
       "      <td>3.07</td>\n",
       "      <td>4.61</td>\n",
       "      <td>24</td>\n",
       "      <td>110.64</td>\n",
       "      <td>9</td>\n",
       "      <td>0.375</td>\n",
       "      <td>12</td>\n",
       "    </tr>\n",
       "    <tr>\n",
       "      <th>50002</th>\n",
       "      <td>2016-03-28</td>\n",
       "      <td>4417</td>\n",
       "      <td>ADAIR</td>\n",
       "      <td>1.0</td>\n",
       "      <td>Adair</td>\n",
       "      <td>1062310.0</td>\n",
       "      <td>SPICED RUM</td>\n",
       "      <td>260</td>\n",
       "      <td>43334</td>\n",
       "      <td>Captain Morgan Spiced Rum</td>\n",
       "      <td>375</td>\n",
       "      <td>5.00</td>\n",
       "      <td>7.50</td>\n",
       "      <td>24</td>\n",
       "      <td>180.00</td>\n",
       "      <td>9</td>\n",
       "      <td>0.375</td>\n",
       "      <td>12</td>\n",
       "    </tr>\n",
       "    <tr>\n",
       "      <th>50002</th>\n",
       "      <td>2016-03-28</td>\n",
       "      <td>4417</td>\n",
       "      <td>ADAIR</td>\n",
       "      <td>1.0</td>\n",
       "      <td>Adair</td>\n",
       "      <td>1081600.0</td>\n",
       "      <td>WHISKEY LIQUEUR</td>\n",
       "      <td>421</td>\n",
       "      <td>64858</td>\n",
       "      <td>Fireball Cinnamon Whiskey Mini Dispenser</td>\n",
       "      <td>3000</td>\n",
       "      <td>29.72</td>\n",
       "      <td>44.58</td>\n",
       "      <td>1</td>\n",
       "      <td>44.58</td>\n",
       "      <td>3</td>\n",
       "      <td>3.000</td>\n",
       "      <td>12</td>\n",
       "    </tr>\n",
       "    <tr>\n",
       "      <th>50002</th>\n",
       "      <td>2016-03-28</td>\n",
       "      <td>4417</td>\n",
       "      <td>ADAIR</td>\n",
       "      <td>1.0</td>\n",
       "      <td>Adair</td>\n",
       "      <td>1062310.0</td>\n",
       "      <td>SPICED RUM</td>\n",
       "      <td>260</td>\n",
       "      <td>43331</td>\n",
       "      <td>Captain Morgan Spiced Rum Mini</td>\n",
       "      <td>500</td>\n",
       "      <td>4.80</td>\n",
       "      <td>7.20</td>\n",
       "      <td>12</td>\n",
       "      <td>86.40</td>\n",
       "      <td>6</td>\n",
       "      <td>0.500</td>\n",
       "      <td>12</td>\n",
       "    </tr>\n",
       "  </tbody>\n",
       "</table>\n",
       "</div>"
      ],
      "text/plain": [
       "            date store_num   city county_num county_name        cat  \\\n",
       "zip                                                                   \n",
       "50002 2016-03-28      4417  ADAIR        1.0       Adair  1031080.0   \n",
       "50002 2016-03-28      4417  ADAIR        1.0       Adair  1012100.0   \n",
       "50002 2016-03-28      4417  ADAIR        1.0       Adair  1062310.0   \n",
       "50002 2016-03-28      4417  ADAIR        1.0       Adair  1081600.0   \n",
       "50002 2016-03-28      4417  ADAIR        1.0       Adair  1062310.0   \n",
       "\n",
       "                cat_name vend_id item_id  \\\n",
       "zip                                        \n",
       "50002     VODKA 80 PROOF     434   36308   \n",
       "50002  CANADIAN WHISKIES     115   11774   \n",
       "50002         SPICED RUM     260   43334   \n",
       "50002    WHISKEY LIQUEUR     421   64858   \n",
       "50002         SPICED RUM     260   43331   \n",
       "\n",
       "                                           item  vol_per_bottle_ml  \\\n",
       "zip                                                                  \n",
       "50002                             Hawkeye Vodka               1750   \n",
       "50002                              Black Velvet                375   \n",
       "50002                 Captain Morgan Spiced Rum                375   \n",
       "50002  Fireball Cinnamon Whiskey Mini Dispenser               3000   \n",
       "50002            Captain Morgan Spiced Rum Mini                500   \n",
       "\n",
       "       bottle_cost  retail_unit_rev  bottles_sold  trans_revenue  \\\n",
       "zip                                                                \n",
       "50002         7.17            10.76            12         129.12   \n",
       "50002         3.07             4.61            24         110.64   \n",
       "50002         5.00             7.50            24         180.00   \n",
       "50002        29.72            44.58             1          44.58   \n",
       "50002         4.80             7.20            12          86.40   \n",
       "\n",
       "       vol_sold_liters  liters_per_bottle  pop_dense_heads_sqm  \n",
       "zip                                                             \n",
       "50002               21              1.750                   12  \n",
       "50002                9              0.375                   12  \n",
       "50002                9              0.375                   12  \n",
       "50002                3              3.000                   12  \n",
       "50002                6              0.500                   12  "
      ]
     },
     "execution_count": 5,
     "metadata": {},
     "output_type": "execute_result"
    }
   ],
   "source": [
    "g.head()"
   ]
  },
  {
   "cell_type": "code",
   "execution_count": null,
   "metadata": {
    "collapsed": false
   },
   "outputs": [],
   "source": []
  },
  {
   "cell_type": "code",
   "execution_count": null,
   "metadata": {
    "collapsed": false
   },
   "outputs": [],
   "source": []
  },
  {
   "cell_type": "code",
   "execution_count": 6,
   "metadata": {
    "collapsed": false
   },
   "outputs": [
    {
     "data": {
      "text/html": [
       "<div>\n",
       "<table border=\"1\" class=\"dataframe\">\n",
       "  <thead>\n",
       "    <tr style=\"text-align: right;\">\n",
       "      <th></th>\n",
       "      <th>avg_trans_size</th>\n",
       "      <th>avg_vol_sold_L</th>\n",
       "      <th>avg_profit</th>\n",
       "      <th>pop_dense_heads_sqm</th>\n",
       "      <th>avg_vol_per_bottle_sold_L</th>\n",
       "      <th>constant</th>\n",
       "    </tr>\n",
       "    <tr>\n",
       "      <th>zip</th>\n",
       "      <th></th>\n",
       "      <th></th>\n",
       "      <th></th>\n",
       "      <th></th>\n",
       "      <th></th>\n",
       "      <th></th>\n",
       "    </tr>\n",
       "  </thead>\n",
       "  <tbody>\n",
       "    <tr>\n",
       "      <th>50002</th>\n",
       "      <td>12.573976</td>\n",
       "      <td>8.848193</td>\n",
       "      <td>4.201205</td>\n",
       "      <td>12</td>\n",
       "      <td>0.853313</td>\n",
       "      <td>1</td>\n",
       "    </tr>\n",
       "    <tr>\n",
       "      <th>50003</th>\n",
       "      <td>12.216981</td>\n",
       "      <td>10.163037</td>\n",
       "      <td>4.085481</td>\n",
       "      <td>50</td>\n",
       "      <td>0.897870</td>\n",
       "      <td>1</td>\n",
       "    </tr>\n",
       "    <tr>\n",
       "      <th>50006</th>\n",
       "      <td>16.376591</td>\n",
       "      <td>7.495341</td>\n",
       "      <td>5.473674</td>\n",
       "      <td>16</td>\n",
       "      <td>1.169129</td>\n",
       "      <td>1</td>\n",
       "    </tr>\n",
       "    <tr>\n",
       "      <th>50009</th>\n",
       "      <td>13.925966</td>\n",
       "      <td>8.566834</td>\n",
       "      <td>4.654621</td>\n",
       "      <td>407</td>\n",
       "      <td>0.925034</td>\n",
       "      <td>1</td>\n",
       "    </tr>\n",
       "    <tr>\n",
       "      <th>50014</th>\n",
       "      <td>16.347626</td>\n",
       "      <td>6.859242</td>\n",
       "      <td>5.456440</td>\n",
       "      <td>580</td>\n",
       "      <td>0.930570</td>\n",
       "      <td>1</td>\n",
       "    </tr>\n",
       "    <tr>\n",
       "      <th>50020</th>\n",
       "      <td>13.167672</td>\n",
       "      <td>5.569180</td>\n",
       "      <td>4.399213</td>\n",
       "      <td>16</td>\n",
       "      <td>1.028934</td>\n",
       "      <td>1</td>\n",
       "    </tr>\n",
       "    <tr>\n",
       "      <th>50021</th>\n",
       "      <td>15.062639</td>\n",
       "      <td>9.643691</td>\n",
       "      <td>5.034984</td>\n",
       "      <td>715</td>\n",
       "      <td>0.987718</td>\n",
       "      <td>1</td>\n",
       "    </tr>\n",
       "  </tbody>\n",
       "</table>\n",
       "</div>"
      ],
      "text/plain": [
       "       avg_trans_size  avg_vol_sold_L  avg_profit  pop_dense_heads_sqm  \\\n",
       "zip                                                                      \n",
       "50002       12.573976        8.848193    4.201205                   12   \n",
       "50003       12.216981       10.163037    4.085481                   50   \n",
       "50006       16.376591        7.495341    5.473674                   16   \n",
       "50009       13.925966        8.566834    4.654621                  407   \n",
       "50014       16.347626        6.859242    5.456440                  580   \n",
       "50020       13.167672        5.569180    4.399213                   16   \n",
       "50021       15.062639        9.643691    5.034984                  715   \n",
       "\n",
       "       avg_vol_per_bottle_sold_L  constant  \n",
       "zip                                         \n",
       "50002                   0.853313         1  \n",
       "50003                   0.897870         1  \n",
       "50006                   1.169129         1  \n",
       "50009                   0.925034         1  \n",
       "50014                   0.930570         1  \n",
       "50020                   1.028934         1  \n",
       "50021                   0.987718         1  "
      ]
     },
     "execution_count": 6,
     "metadata": {},
     "output_type": "execute_result"
    }
   ],
   "source": [
    "#Prepare X & divide data by time\n",
    "\n",
    "\n",
    "g['year'] = g.date.dt.year\n",
    "g['quarters'] = g.date.dt.quarter\n",
    "\n",
    "\n",
    "g_2015 = g[g.year == 2015]\n",
    "q1 = g_2015[g_2015.quarters == 1]\n",
    "q2 = g_2015[g_2015.quarters == 2]\n",
    "q3 = g_2015[g_2015.quarters == 3]\n",
    "q4 = g_2015[g_2015.quarters == 4]\n",
    "q234 = g_2015[g_2015.quarters == [2 or 3 or 4]]\n",
    "q5 = g[g.year == 2016]\n",
    "\n",
    "q5\n",
    "q1_X = q1.drop('trans_revenue', 1)\n",
    "q1_X['constant'] = 1\n",
    "\n",
    "\n",
    "\n",
    "#COULD ADD BACK CAT, VEND categoricals\n",
    "\n",
    "q1_X = q1_X.groupby(q1_X.index).mean()\n",
    "q1_X['avg_trans_size'] = q1_X['retail_unit_rev']\n",
    "q1_X['avg_vol_sold_L'] = q1_X['vol_sold_liters']\n",
    "q1_X['avg_bottles_sold'] = q1_X['bottles_sold'] #NOT using this in model (removed below) b/c same as above\n",
    "q1_X['avg_profit'] = q1_X['avg_trans_size'] - q1_X['bottle_cost']\n",
    "q1_X['avg_vol_per_bottle_sold_L'] = q1_X['vol_per_bottle_ml']/1000\n",
    "q1_X = q1_X[['avg_trans_size','avg_vol_sold_L','avg_profit','pop_dense_heads_sqm','avg_vol_per_bottle_sold_L', 'constant']]\n",
    "\n",
    "q1_X.head(7)"
   ]
  },
  {
   "cell_type": "code",
   "execution_count": 7,
   "metadata": {
    "collapsed": false
   },
   "outputs": [
    {
     "data": {
      "text/html": [
       "<div>\n",
       "<table border=\"1\" class=\"dataframe\">\n",
       "  <thead>\n",
       "    <tr style=\"text-align: right;\">\n",
       "      <th></th>\n",
       "      <th>trans_revenue</th>\n",
       "    </tr>\n",
       "    <tr>\n",
       "      <th>zip</th>\n",
       "      <th></th>\n",
       "    </tr>\n",
       "  </thead>\n",
       "  <tbody>\n",
       "    <tr>\n",
       "      <th>50002</th>\n",
       "      <td>128.998824</td>\n",
       "    </tr>\n",
       "    <tr>\n",
       "      <th>50003</th>\n",
       "      <td>149.538400</td>\n",
       "    </tr>\n",
       "    <tr>\n",
       "      <th>50006</th>\n",
       "      <td>107.817917</td>\n",
       "    </tr>\n",
       "    <tr>\n",
       "      <th>50009</th>\n",
       "      <td>135.382452</td>\n",
       "    </tr>\n",
       "    <tr>\n",
       "      <th>50014</th>\n",
       "      <td>105.060944</td>\n",
       "    </tr>\n",
       "  </tbody>\n",
       "</table>\n",
       "</div>"
      ],
      "text/plain": [
       "       trans_revenue\n",
       "zip                 \n",
       "50002     128.998824\n",
       "50003     149.538400\n",
       "50006     107.817917\n",
       "50009     135.382452\n",
       "50014     105.060944"
      ]
     },
     "execution_count": 7,
     "metadata": {},
     "output_type": "execute_result"
    }
   ],
   "source": [
    "#prepare Y\n",
    "q234_y = q234['trans_revenue']   \n",
    "\n",
    "q234_Y = pd.DataFrame(q234_y)\n",
    "q234_Y = q234_Y.groupby(q234_Y.index).mean()\n",
    "\n",
    "q234_Y.head()"
   ]
  },
  {
   "cell_type": "code",
   "execution_count": 8,
   "metadata": {
    "collapsed": false
   },
   "outputs": [
    {
     "name": "stdout",
     "output_type": "stream",
     "text": [
      "['50135', '52347']\n"
     ]
    }
   ],
   "source": [
    "\n",
    "#THIS FUNCTION CHECKS WHAT IS IN CONFLICT; OPPOSITE VERSION BELOW\n",
    "\n",
    "x_list = []\n",
    "y_list = []\n",
    "conflict = []\n",
    "\n",
    "for i in q234_Y.index:\n",
    "    y_list.append(i)\n",
    "    \n",
    "for j in q1_X.index:\n",
    "    x_list.append(j)\n",
    "    \n",
    "for h in y_list:\n",
    "    if h not in x_list:\n",
    "        conflict.append(h)\n",
    "\n",
    "print(conflict)\n",
    "\n",
    "\n",
    "#['50061', '50135', '51038', '52347'] -- conflicting zips with 10% dataset\n",
    "# ['50135', '52347'] --  conflicting zips with full dataset\n"
   ]
  },
  {
   "cell_type": "code",
   "execution_count": 9,
   "metadata": {
    "collapsed": false
   },
   "outputs": [
    {
     "name": "stdout",
     "output_type": "stream",
     "text": [
      "['51535']\n"
     ]
    }
   ],
   "source": [
    "x_list = []\n",
    "y_list = []\n",
    "conflict = []\n",
    "\n",
    "for i in q234_Y.index:\n",
    "    y_list.append(i)\n",
    "    \n",
    "for j in q1_X.index:\n",
    "    x_list.append(j)\n",
    "    \n",
    "for h in x_list:\n",
    "    if h not in y_list:\n",
    "        conflict.append(h)\n",
    "\n",
    "print(conflict)\n",
    "#['51535']  --  conflicting zips with full dataset"
   ]
  },
  {
   "cell_type": "code",
   "execution_count": 10,
   "metadata": {
    "collapsed": false
   },
   "outputs": [],
   "source": [
    "#these values picked up by the functions above; scrubbing out\n",
    "q234_Y = q234_Y.drop('50135')\n",
    "\n",
    "q234_Y = q234_Y.drop('52347')\n",
    "q1_X = q1_X.drop('51535')\n"
   ]
  },
  {
   "cell_type": "code",
   "execution_count": 11,
   "metadata": {
    "collapsed": false
   },
   "outputs": [
    {
     "name": "stdout",
     "output_type": "stream",
     "text": [
      "       X Shape  Y Shape\n",
      "Train (239, 6) (239, 1)\n",
      "Test  (119, 6) (119, 1)\n"
     ]
    }
   ],
   "source": [
    "X_train, X_test, y_train, y_test = train_test_split(q1_X, q234_Y, test_size=.33)\n",
    "# X_train, X_test, y_train, y_test = train_test_split(q1_X_trim, q234_Y, test_size=.33) #with trim\n",
    "\n",
    "\n",
    "print \"       X Shape  Y Shape\"\n",
    "print \"Train\", X_train.shape, y_train.shape\n",
    "print \"Test \", X_test.shape, y_test.shape\n"
   ]
  },
  {
   "cell_type": "markdown",
   "metadata": {},
   "source": [
    "# Explore the data\n",
    "\n",
    "Perform some exploratory statistical analysis and make some plots, such as histograms of transaction totals, bottles sold, etc."
   ]
  },
  {
   "cell_type": "code",
   "execution_count": 12,
   "metadata": {
    "collapsed": false
   },
   "outputs": [
    {
     "data": {
      "text/plain": [
       "<matplotlib.axes._subplots.AxesSubplot at 0x11b2ff650>"
      ]
     },
     "execution_count": 12,
     "metadata": {},
     "output_type": "execute_result"
    },
    {
     "data": {
      "image/png": "[encoded data removed]",
      "text/plain": [
       "<matplotlib.figure.Figure at 0x11b2f2e10>"
      ]
     },
     "metadata": {},
     "output_type": "display_data"
    }
   ],
   "source": [
    "import seaborn as sns\n",
    "import numpy as np\n",
    "\n",
    "sns.distplot(ia_zipindex_pop['pop_dense_heads_sqm'])\n",
    "\n",
    "#Deeply rural. By including this variable, I may decrease the noise in my model from store closings etc...\n",
    "#logically, in dense places new businesses will rise to meet demand"
   ]
  },
  {
   "cell_type": "code",
   "execution_count": 13,
   "metadata": {
    "collapsed": false
   },
   "outputs": [
    {
     "ename": "AttributeError",
     "evalue": "Unknown property figsize",
     "output_type": "error",
     "traceback": [
      "\u001b[0;31m---------------------------------------------------------------------------\u001b[0m",
      "\u001b[0;31mAttributeError\u001b[0m                            Traceback (most recent call last)",
      "\u001b[0;32m<ipython-input-13-fdd35c5c72fa>\u001b[0m in \u001b[0;36m<module>\u001b[0;34m()\u001b[0m\n\u001b[1;32m      1\u001b[0m \u001b[0;34m\u001b[0m\u001b[0m\n\u001b[1;32m      2\u001b[0m \u001b[0msns\u001b[0m\u001b[0;34m.\u001b[0m\u001b[0mset_style\u001b[0m\u001b[0;34m(\u001b[0m\u001b[0;34m\"whitegrid\"\u001b[0m\u001b[0;34m,\u001b[0m \u001b[0;34m{\u001b[0m\u001b[0;34m\"legend.numpoints\"\u001b[0m\u001b[0;34m:\u001b[0m \u001b[0;36m1\u001b[0m\u001b[0;34m}\u001b[0m\u001b[0;34m)\u001b[0m\u001b[0;34m\u001b[0m\u001b[0m\n\u001b[0;32m----> 3\u001b[0;31m \u001b[0msns\u001b[0m\u001b[0;34m.\u001b[0m\u001b[0mbarplot\u001b[0m\u001b[0;34m(\u001b[0m\u001b[0mia\u001b[0m\u001b[0;34m.\u001b[0m\u001b[0mtrans_revenue\u001b[0m\u001b[0;34m,\u001b[0m \u001b[0mia\u001b[0m\u001b[0;34m[\u001b[0m\u001b[0;34m\"zip\"\u001b[0m\u001b[0;34m]\u001b[0m\u001b[0;34m,\u001b[0m \u001b[0morient\u001b[0m\u001b[0;34m=\u001b[0m\u001b[0;34m'h'\u001b[0m\u001b[0;34m,\u001b[0m \u001b[0mfigsize\u001b[0m\u001b[0;34m=\u001b[0m\u001b[0;34m(\u001b[0m\u001b[0;36m20\u001b[0m\u001b[0;34m,\u001b[0m\u001b[0;36m16\u001b[0m\u001b[0;34m)\u001b[0m\u001b[0;34m)\u001b[0m \u001b[0;31m#increase size\u001b[0m\u001b[0;34m\u001b[0m\u001b[0m\n\u001b[0m\u001b[1;32m      4\u001b[0m \u001b[0;34m\u001b[0m\u001b[0m\n\u001b[1;32m      5\u001b[0m \u001b[0;31m# x=None, y=None, hue=None, data=None, order=None, hue_order=None, estimator=<function mean>, ci=95, n_boot=1000, units=None, orient=None, color=None, palette=None, saturation=0.75, errcolor='.26', errwidth=None,\u001b[0m\u001b[0;34m\u001b[0m\u001b[0;34m\u001b[0m\u001b[0m\n",
      "\u001b[0;32m/Users/HudsonCavanagh/anaconda/lib/python2.7/site-packages/seaborn/categorical.pyc\u001b[0m in \u001b[0;36mbarplot\u001b[0;34m(x, y, hue, data, order, hue_order, estimator, ci, n_boot, units, orient, color, palette, saturation, errcolor, ax, **kwargs)\u001b[0m\n\u001b[1;32m   2856\u001b[0m         \u001b[0max\u001b[0m \u001b[0;34m=\u001b[0m \u001b[0mplt\u001b[0m\u001b[0;34m.\u001b[0m\u001b[0mgca\u001b[0m\u001b[0;34m(\u001b[0m\u001b[0;34m)\u001b[0m\u001b[0;34m\u001b[0m\u001b[0m\n\u001b[1;32m   2857\u001b[0m \u001b[0;34m\u001b[0m\u001b[0m\n\u001b[0;32m-> 2858\u001b[0;31m     \u001b[0mplotter\u001b[0m\u001b[0;34m.\u001b[0m\u001b[0mplot\u001b[0m\u001b[0;34m(\u001b[0m\u001b[0max\u001b[0m\u001b[0;34m,\u001b[0m \u001b[0mkwargs\u001b[0m\u001b[0;34m)\u001b[0m\u001b[0;34m\u001b[0m\u001b[0m\n\u001b[0m\u001b[1;32m   2859\u001b[0m     \u001b[0;32mreturn\u001b[0m \u001b[0max\u001b[0m\u001b[0;34m\u001b[0m\u001b[0m\n\u001b[1;32m   2860\u001b[0m \u001b[0;34m\u001b[0m\u001b[0m\n",
      "\u001b[0;32m/Users/HudsonCavanagh/anaconda/lib/python2.7/site-packages/seaborn/categorical.pyc\u001b[0m in \u001b[0;36mplot\u001b[0;34m(self, ax, bar_kws)\u001b[0m\n\u001b[1;32m   1559\u001b[0m     \u001b[0;32mdef\u001b[0m \u001b[0mplot\u001b[0m\u001b[0;34m(\u001b[0m\u001b[0mself\u001b[0m\u001b[0;34m,\u001b[0m \u001b[0max\u001b[0m\u001b[0;34m,\u001b[0m \u001b[0mbar_kws\u001b[0m\u001b[0;34m)\u001b[0m\u001b[0;34m:\u001b[0m\u001b[0;34m\u001b[0m\u001b[0m\n\u001b[1;32m   1560\u001b[0m         \u001b[0;34m\"\"\"Make the plot.\"\"\"\u001b[0m\u001b[0;34m\u001b[0m\u001b[0m\n\u001b[0;32m-> 1561\u001b[0;31m         \u001b[0mself\u001b[0m\u001b[0;34m.\u001b[0m\u001b[0mdraw_bars\u001b[0m\u001b[0;34m(\u001b[0m\u001b[0max\u001b[0m\u001b[0;34m,\u001b[0m \u001b[0mbar_kws\u001b[0m\u001b[0;34m)\u001b[0m\u001b[0;34m\u001b[0m\u001b[0m\n\u001b[0m\u001b[1;32m   1562\u001b[0m         \u001b[0mself\u001b[0m\u001b[0;34m.\u001b[0m\u001b[0mannotate_axes\u001b[0m\u001b[0;34m(\u001b[0m\u001b[0max\u001b[0m\u001b[0;34m)\u001b[0m\u001b[0;34m\u001b[0m\u001b[0m\n\u001b[1;32m   1563\u001b[0m         \u001b[0;32mif\u001b[0m \u001b[0mself\u001b[0m\u001b[0;34m.\u001b[0m\u001b[0morient\u001b[0m \u001b[0;34m==\u001b[0m \u001b[0;34m\"h\"\u001b[0m\u001b[0;34m:\u001b[0m\u001b[0;34m\u001b[0m\u001b[0m\n",
      "\u001b[0;32m/Users/HudsonCavanagh/anaconda/lib/python2.7/site-packages/seaborn/categorical.pyc\u001b[0m in \u001b[0;36mdraw_bars\u001b[0;34m(self, ax, kws)\u001b[0m\n\u001b[1;32m   1535\u001b[0m             \u001b[0;31m# Draw the bars\u001b[0m\u001b[0;34m\u001b[0m\u001b[0;34m\u001b[0m\u001b[0m\n\u001b[1;32m   1536\u001b[0m             barfunc(barpos, self.statistic, self.width,\n\u001b[0;32m-> 1537\u001b[0;31m                     color=self.colors, align=\"center\", **kws)\n\u001b[0m\u001b[1;32m   1538\u001b[0m \u001b[0;34m\u001b[0m\u001b[0m\n\u001b[1;32m   1539\u001b[0m             \u001b[0;31m# Draw the confidence intervals\u001b[0m\u001b[0;34m\u001b[0m\u001b[0;34m\u001b[0m\u001b[0m\n",
      "\u001b[0;32m/Users/HudsonCavanagh/anaconda/lib/python2.7/site-packages/matplotlib/axes/_axes.pyc\u001b[0m in \u001b[0;36mbarh\u001b[0;34m(self, bottom, width, height, left, **kwargs)\u001b[0m\n\u001b[1;32m   2287\u001b[0m \u001b[0;34m\u001b[0m\u001b[0m\n\u001b[1;32m   2288\u001b[0m         patches = self.bar(left=left, height=height, width=width,\n\u001b[0;32m-> 2289\u001b[0;31m                            bottom=bottom, orientation='horizontal', **kwargs)\n\u001b[0m\u001b[1;32m   2290\u001b[0m         \u001b[0;32mreturn\u001b[0m \u001b[0mpatches\u001b[0m\u001b[0;34m\u001b[0m\u001b[0m\n\u001b[1;32m   2291\u001b[0m \u001b[0;34m\u001b[0m\u001b[0m\n",
      "\u001b[0;32m/Users/HudsonCavanagh/anaconda/lib/python2.7/site-packages/matplotlib/__init__.pyc\u001b[0m in \u001b[0;36minner\u001b[0;34m(ax, *args, **kwargs)\u001b[0m\n\u001b[1;32m   1810\u001b[0m                     warnings.warn(msg % (label_namer, func.__name__),\n\u001b[1;32m   1811\u001b[0m                                   RuntimeWarning, stacklevel=2)\n\u001b[0;32m-> 1812\u001b[0;31m             \u001b[0;32mreturn\u001b[0m \u001b[0mfunc\u001b[0m\u001b[0;34m(\u001b[0m\u001b[0max\u001b[0m\u001b[0;34m,\u001b[0m \u001b[0;34m*\u001b[0m\u001b[0margs\u001b[0m\u001b[0;34m,\u001b[0m \u001b[0;34m**\u001b[0m\u001b[0mkwargs\u001b[0m\u001b[0;34m)\u001b[0m\u001b[0;34m\u001b[0m\u001b[0m\n\u001b[0m\u001b[1;32m   1813\u001b[0m         \u001b[0mpre_doc\u001b[0m \u001b[0;34m=\u001b[0m \u001b[0minner\u001b[0m\u001b[0;34m.\u001b[0m\u001b[0m__doc__\u001b[0m\u001b[0;34m\u001b[0m\u001b[0m\n\u001b[1;32m   1814\u001b[0m         \u001b[0;32mif\u001b[0m \u001b[0mpre_doc\u001b[0m \u001b[0;32mis\u001b[0m \u001b[0mNone\u001b[0m\u001b[0;34m:\u001b[0m\u001b[0;34m\u001b[0m\u001b[0m\n",
      "\u001b[0;32m/Users/HudsonCavanagh/anaconda/lib/python2.7/site-packages/matplotlib/axes/_axes.pyc\u001b[0m in \u001b[0;36mbar\u001b[0;34m(self, left, height, width, bottom, **kwargs)\u001b[0m\n\u001b[1;32m   2129\u001b[0m                 \u001b[0mlabel\u001b[0m\u001b[0;34m=\u001b[0m\u001b[0;34m'_nolegend_'\u001b[0m\u001b[0;34m\u001b[0m\u001b[0m\n\u001b[1;32m   2130\u001b[0m                 )\n\u001b[0;32m-> 2131\u001b[0;31m             \u001b[0mr\u001b[0m\u001b[0;34m.\u001b[0m\u001b[0mupdate\u001b[0m\u001b[0;34m(\u001b[0m\u001b[0mkwargs\u001b[0m\u001b[0;34m)\u001b[0m\u001b[0;34m\u001b[0m\u001b[0m\n\u001b[0m\u001b[1;32m   2132\u001b[0m             \u001b[0mr\u001b[0m\u001b[0;34m.\u001b[0m\u001b[0mget_path\u001b[0m\u001b[0;34m(\u001b[0m\u001b[0;34m)\u001b[0m\u001b[0;34m.\u001b[0m\u001b[0m_interpolation_steps\u001b[0m \u001b[0;34m=\u001b[0m \u001b[0;36m100\u001b[0m\u001b[0;34m\u001b[0m\u001b[0m\n\u001b[1;32m   2133\u001b[0m             \u001b[0;31m#print r.get_label(), label, 'label' in kwargs\u001b[0m\u001b[0;34m\u001b[0m\u001b[0;34m\u001b[0m\u001b[0m\n",
      "\u001b[0;32m/Users/HudsonCavanagh/anaconda/lib/python2.7/site-packages/matplotlib/artist.pyc\u001b[0m in \u001b[0;36mupdate\u001b[0;34m(self, props)\u001b[0m\n\u001b[1;32m    854\u001b[0m                 \u001b[0mfunc\u001b[0m \u001b[0;34m=\u001b[0m \u001b[0mgetattr\u001b[0m\u001b[0;34m(\u001b[0m\u001b[0mself\u001b[0m\u001b[0;34m,\u001b[0m \u001b[0;34m'set_'\u001b[0m \u001b[0;34m+\u001b[0m \u001b[0mk\u001b[0m\u001b[0;34m,\u001b[0m \u001b[0mNone\u001b[0m\u001b[0;34m)\u001b[0m\u001b[0;34m\u001b[0m\u001b[0m\n\u001b[1;32m    855\u001b[0m                 \u001b[0;32mif\u001b[0m \u001b[0mfunc\u001b[0m \u001b[0;32mis\u001b[0m \u001b[0mNone\u001b[0m \u001b[0;32mor\u001b[0m \u001b[0;32mnot\u001b[0m \u001b[0msix\u001b[0m\u001b[0;34m.\u001b[0m\u001b[0mcallable\u001b[0m\u001b[0;34m(\u001b[0m\u001b[0mfunc\u001b[0m\u001b[0;34m)\u001b[0m\u001b[0;34m:\u001b[0m\u001b[0;34m\u001b[0m\u001b[0m\n\u001b[0;32m--> 856\u001b[0;31m                     \u001b[0;32mraise\u001b[0m \u001b[0mAttributeError\u001b[0m\u001b[0;34m(\u001b[0m\u001b[0;34m'Unknown property %s'\u001b[0m \u001b[0;34m%\u001b[0m \u001b[0mk\u001b[0m\u001b[0;34m)\u001b[0m\u001b[0;34m\u001b[0m\u001b[0m\n\u001b[0m\u001b[1;32m    857\u001b[0m                 \u001b[0mfunc\u001b[0m\u001b[0;34m(\u001b[0m\u001b[0mv\u001b[0m\u001b[0;34m)\u001b[0m\u001b[0;34m\u001b[0m\u001b[0m\n\u001b[1;32m    858\u001b[0m             \u001b[0mchanged\u001b[0m \u001b[0;34m=\u001b[0m \u001b[0mTrue\u001b[0m\u001b[0;34m\u001b[0m\u001b[0m\n",
      "\u001b[0;31mAttributeError\u001b[0m: Unknown property figsize"
     ]
    },
    {
     "data": {
      "image/png": "[encoded data removed]",
      "text/plain": [
       "<matplotlib.figure.Figure at 0x11be03e90>"
      ]
     },
     "metadata": {},
     "output_type": "display_data"
    }
   ],
   "source": [
    "\n",
    "sns.set_style(\"whitegrid\", {\"legend.numpoints\": 1})\n",
    "sns.barplot(ia.trans_revenue, ia[\"zip\"], orient='h', figsize=(20,16)) #increase size\n",
    "\n",
    "# x=None, y=None, hue=None, data=None, order=None, hue_order=None, estimator=<function mean>, ci=95, n_boot=1000, units=None, orient=None, color=None, palette=None, saturation=0.75, errcolor='.26', errwidth=None,\n",
    "\n",
    "\n",
    "\n",
    "#It appears margins are normally distributed; likely weaker margins make locations likely to close, therefore this \n",
    "#may be a meaningful predictor at the zipcode level"
   ]
  },
  {
   "cell_type": "code",
   "execution_count": null,
   "metadata": {
    "collapsed": false
   },
   "outputs": [],
   "source": [
    "sns.distplot(g['avg_trans_size'])\n",
    "#relatively normal distribution of average revenue per transaction; this is very likely to be a good predictor logically"
   ]
  },
  {
   "cell_type": "code",
   "execution_count": null,
   "metadata": {
    "collapsed": false
   },
   "outputs": [],
   "source": [
    "sns.distplot(q1_X['avg_vol_sold_L'])\n",
    "\n",
    "#the right skew shows that some stores in the dataset are in a slightly different business: beverage wholesale\n",
    "#stores averaging 50L per tranaction are selling B2B; should probably be cleaned out as outliars (i didn't...yet)"
   ]
  },
  {
   "cell_type": "code",
   "execution_count": null,
   "metadata": {
    "collapsed": false
   },
   "outputs": [],
   "source": [
    "sns_transsize_volsold = sns.jointplot(q1_X['avg_trans_size'],q1_X['avg_vol_sold_L'])\n",
    "sns_transsize_volsold.savefig(\"sns_transsize_volsold.png\")\n",
    "\n",
    "\n",
    "#fascinating that these are NOT correlated, suggesting they should both make the model\n"
   ]
  },
  {
   "cell_type": "code",
   "execution_count": null,
   "metadata": {
    "collapsed": false
   },
   "outputs": [],
   "source": [
    "sns.jointplot(q1_X['avg_trans_size'],q1_X['pop_dense_heads_sqm'])"
   ]
  },
  {
   "cell_type": "code",
   "execution_count": null,
   "metadata": {
    "collapsed": false
   },
   "outputs": [],
   "source": [
    "sns_pop_profit= sns.jointplot(q1_X['avg_profit'],q1_X['pop_dense_heads_sqm'])\n",
    "sns_pop_profit.savefig(\"sns_pop_profit.png\")\n",
    "\n",
    "#nothing seems to be correlated with pop_dense"
   ]
  },
  {
   "cell_type": "code",
   "execution_count": null,
   "metadata": {
    "collapsed": false
   },
   "outputs": [],
   "source": [
    "sns_profit_vol = sns.jointplot(q1_X['avg_profit'],q1_X['avg_vol_per_bottle_sold_L'])\n",
    "sns_profit_vol.savefig(\"sns_profit_vol.png\")\n",
    "\n",
    "\n",
    "\n",
    "#really interesting: these are strongly correlated, suggesting that profit is largely driven by your ability to\n",
    "#upsell, that is, get somebody to buy a bigger bottle. Would be interesting to conduct analysis\n",
    "#of how much of profits are driven by volume sold and by degree of quality per good sold"
   ]
  },
  {
   "cell_type": "code",
   "execution_count": null,
   "metadata": {
    "collapsed": false
   },
   "outputs": [],
   "source": [
    "import matplotlib\n",
    "matplotlib.use('Agg')\n",
    "import matplotlib.pyplot as plt\n",
    "matplotlib.style.use('ggplot')\n",
    "import seaborn as sns\n",
    "sns.set()\n",
    "\n",
    "sns_plot = sns.pairplot(q1_X, hue='avg_profit', size=5)\n",
    "# sns.axes_style()\n",
    "sns.set_style(\"darkgrid\", {\"legend.numpoints\": 0})\n",
    "sns_plot.savefig(\"pair_plots_rainbow.png\")"
   ]
  },
  {
   "cell_type": "code",
   "execution_count": null,
   "metadata": {
    "collapsed": false
   },
   "outputs": [],
   "source": [
    "import matplotlib\n",
    "matplotlib.use('Agg')\n",
    "import matplotlib.pyplot as plt\n",
    "matplotlib.style.use('ggplot')\n",
    "import seaborn as sns\n",
    "\n",
    "sns_plot_dense = sns.pairplot(q1_X, hue='pop_dense_heads_sqm', size=5)\n",
    "\n",
    "sns_plot_dense.savefig(\"pair_plots_rainbow.png\")"
   ]
  },
  {
   "cell_type": "code",
   "execution_count": null,
   "metadata": {
    "collapsed": true
   },
   "outputs": [],
   "source": []
  },
  {
   "cell_type": "markdown",
   "metadata": {},
   "source": [
    "## Record your findings\n",
    "\n",
    "Be sure to write out anything observations from your exploratory analysis."
   ]
  },
  {
   "cell_type": "markdown",
   "metadata": {},
   "source": [
    "# Mine the data\n",
    "Now you are ready to compute the variables you will use for your regression from the data. For example, you may want to\n",
    "compute total sales per store from Jan to March of 2015, mean price per bottle, etc. Refer to the readme for more ideas appropriate to your scenario.\n",
    "\n",
    "Pandas is your friend for this task. Take a look at the operations [here](http://pandas.pydata.org/pandas-docs/stable/groupby.html) for ideas on how to make the best use of pandas and feel free to search for blog and Stack Overflow posts to help you group data by certain variables and compute sums, means, etc. You may find it useful to create a new data frame to house this summary data."
   ]
  },
  {
   "cell_type": "code",
   "execution_count": null,
   "metadata": {
    "collapsed": false,
    "scrolled": true
   },
   "outputs": [],
   "source": [
    "#see above"
   ]
  },
  {
   "cell_type": "code",
   "execution_count": null,
   "metadata": {
    "collapsed": false
   },
   "outputs": [],
   "source": []
  },
  {
   "cell_type": "markdown",
   "metadata": {},
   "source": [
    "# Refine the data\n",
    "Look for any statistical relationships, correlations, or other relevant properties of the dataset."
   ]
  },
  {
   "cell_type": "code",
   "execution_count": null,
   "metadata": {
    "collapsed": false
   },
   "outputs": [],
   "source": [
    "#see above"
   ]
  },
  {
   "cell_type": "markdown",
   "metadata": {},
   "source": [
    "# Build your models\n",
    "\n",
    "Using scikit-learn or statsmodels, build the necessary models for your scenario. Evaluate model fit."
   ]
  },
  {
   "cell_type": "code",
   "execution_count": null,
   "metadata": {
    "collapsed": false
   },
   "outputs": [],
   "source": [
    "#RIDGE NORMALIZED\n",
    "\n",
    "from sklearn.metrics import mean_squared_error, mean_absolute_error\n",
    "\n",
    "rcv = linear_model.RidgeCV(alphas=\n",
    "                           (.001, .001, .01, .1, .5, 1, 5, 10),\n",
    "                           store_cv_values=True)\n",
    "rcv_model = rcv.fit(X_train, y_train)\n",
    "rcv_predicted = rcv_model.predict(X_test)\n",
    "rcv_r2 =  r2_score(y_true=y_test, y_pred=rcv_predicted)\n",
    "rcv_r2\n",
    "\n",
    "plt.scatter(y_test, rcv_predicted) #compare the hold-out observed y values to the predictions (made with model from test data)\n",
    "plt.xlabel(\"True Values\")\n",
    "plt.ylabel(\"Predictions\")\n",
    "\n",
    "print \"Score:\", rcv_model.score(X_test, y_test)\n",
    "print \"RMSE:\", mean_squared_error(y_test, rcv_predicted)\n",
    "print \"MAE:\", mean_absolute_error(y_test, rcv_predicted)\n",
    "\n"
   ]
  },
  {
   "cell_type": "code",
   "execution_count": null,
   "metadata": {
    "collapsed": false
   },
   "outputs": [],
   "source": [
    "rcv_model.cv_values_.mean()\n",
    "\n",
    " #this returns optimal alpha for dataset\n",
    "\n",
    "print(cross_val_score(rcv_model, X_test, y_test, n_jobs=1, cv=5), \n",
    "\"mean:\", cross_val_score(rcv_model, X_test, y_test, n_jobs=1, cv=5).mean()) #multiple jobs\n"
   ]
  },
  {
   "cell_type": "code",
   "execution_count": null,
   "metadata": {
    "collapsed": false
   },
   "outputs": [],
   "source": [
    "a_rcv = rcv_model.alpha_\n",
    "a_rcv\n"
   ]
  },
  {
   "cell_type": "markdown",
   "metadata": {},
   "source": [
    "##Results of Ridge CV regression\n",
    "\n",
    "When constructing my model, I decided to begin with a Ridge CV model as I was prioritizing the relative weight of my variables - rather than eliminating them entirely with Lasso, as I only have 5-6 input variables. I noted a marked increase in my R^2 when using my full dataset; however, I have tried to keep my model as simple as possible and therefore am not prioritizing an R2 value near .9. I will continue to run an OLS and Lasso regressions as well to see if this model can be optimized. "
   ]
  },
  {
   "cell_type": "code",
   "execution_count": null,
   "metadata": {
    "collapsed": false
   },
   "outputs": [],
   "source": [
    "\n",
    "\n",
    "\n",
    "# LINEAR Reg\n",
    "\n",
    "\n",
    "from sklearn import linear_model\n",
    "\n",
    "\n",
    "lm = linear_model.LinearRegression()\n",
    "\n",
    "\n",
    "model = lm.fit(X_train, y_train)\n",
    "lmpredictions = lm.predict(X_test)\n",
    "\n",
    "lm_r2 = r2_score(y_true=y_test, y_pred=predictions)\n",
    "lm_mse = sklearn.metrics.mean_squared_error(y_test, lmpredictions)\n",
    "heads = X_train.columns\n",
    "coefs = zip(lm.coef_, heads)\n",
    "print(lm_r2)\n",
    "\n",
    "\n",
    "final_preds = cross_val_predict(lm, X_test, y_test, cv=10)\n",
    "#Downside to increasing folds: \n",
    "plt.scatter(y_test, lmpredictions)\n",
    "r2_lm = r2_score(y_test, lmpredictions)\n",
    "lm_score = cross_val_score(lm, X_test, y_test, cv=10)\n",
    "\n",
    "plt.scatter(predictions, y_test, s=30, c='r', marker='+', zorder=10)\n",
    "plt.xlabel(\"Predicted Values\")\n",
    "plt.ylabel(\"Actual Values\")\n",
    "plt.show()\n",
    "\n",
    "print(\"Cross-Predicted R^2:\", r2_lm, \"Mean squared error:\", lm_mse)\n",
    "print(\"Cross-validated scores mean:\", lm_score.mean())\n",
    "\n",
    "# Plot the model\n",
    "\n",
    "\n",
    "print(\"MSE:\", mean_squared_error(y_test, lmpredictions))\n",
    "print \"RMSE:\", mean_squared_error(y_test, lmpredictions)\n",
    "print \"MAE:\", mean_absolute_error(y_test, lmpredictions)\n"
   ]
  },
  {
   "cell_type": "code",
   "execution_count": null,
   "metadata": {
    "collapsed": false
   },
   "outputs": [],
   "source": [
    "#standardized lasso model\n",
    "\n",
    "lcv = linear_model.LassoCV()\n",
    "lcv_model = lcv.fit(X_train, y_train)\n",
    "y_lasso_predicted = lcv_model.predict(X_test)\n",
    "lcv_r2 =  r2_score(y_true=y_test, y_pred=y_predicted)\n",
    "lcv_r2\n",
    "\n",
    "plt.scatter(y_test, y_lasso_predicted) #compare the hold-out observed y values to the predictions (made with model from test data)\n",
    "plt.xlabel(\"True Values\")\n",
    "plt.ylabel(\"Lasso Predictions\")\n",
    "\n",
    "print(\"R2 Score:\", lcv_model.score(X_test, y_test))\n",
    "\n",
    "print(\"Optimal Alpha:\",lcv_model.alpha_, #this returns optimal alpha for dataset\n",
    "\"Model Coefficients:\", abs(lcv_model.coef_))\n",
    "\n",
    "print \"RMSE:\", mean_squared_error(y_test, y_lasso_predicted)\n",
    "print \"MAE:\", mean_absolute_error(y_test, y_lasso_predicted)\n",
    "\n",
    "# final_predicts = ia.predict(modelname, X)"
   ]
  },
  {
   "cell_type": "code",
   "execution_count": null,
   "metadata": {
    "collapsed": true
   },
   "outputs": [],
   "source": []
  },
  {
   "cell_type": "code",
   "execution_count": null,
   "metadata": {
    "collapsed": false
   },
   "outputs": [],
   "source": [
    "# sample code for cross_validated output\n",
    "#Normal Lasso Regression with cross validation at end to see if anything different from LassoCV\n",
    "\n",
    "lasso = sklearn.linear_model.Lasso()\n",
    "lasso_model = lasso.fit(X_train, y_train)\n",
    "lasso_pred = lasso.predict(X_test)\n",
    "lasso_norm_r2 =  r2_score(y_true=y_test, y_pred=lasso_pred)\n",
    "print(\"R sq for Lasso Reg is:\", lasso_norm_r2)\n",
    "\n",
    "plt.scatter(y_test, lasso_pred) #compare the hold-out observed y values to the predictions (made with model from test data)\n",
    "plt.xlabel(\"True Values\")\n",
    "plt.ylabel(\"Lasso Predictions\")\n",
    "\n",
    "\n",
    "print(\"cross validated r^2:\", np.mean(cross_val_score(lasso_model, X_test, y_test, scoring='r2', cv=5)))\n",
    "print(\"r^2 w/o cross-validation\", (lasso_model.score(X_test,y_test)))\n",
    "print(\"cross validated MSE (sign flipped):\", -np.mean(cross_val_score(lasso_model, X_test, y_test, scoring='mean_squared_error', cv=5)))\n",
    "print \"RMSE:\", mean_squared_error(y_test, lasso_pred)\n",
    "print \"MAE:\", mean_absolute_error(y_test, lasso_pred)\n",
    "# mse\n",
    "# bar\n",
    "# bias"
   ]
  },
  {
   "cell_type": "code",
   "execution_count": null,
   "metadata": {
    "collapsed": false
   },
   "outputs": [],
   "source": [
    "#RIDGE NORMALIZED\n",
    "\n",
    "from sklearn.metrics import mean_squared_error, mean_absolute_error\n",
    "\n",
    "ridge = sklearn.linear_model.Ridge(alpha=1)\n",
    "ridge_model = ridge.fit(X_train, y_train)\n",
    "y_predicted_ridge = ridge.predict(X_test)\n",
    "ridge_r2 =  r2_score(y_true=y_test, y_pred=y_predicted_ridge)\n",
    "ridge_r2\n",
    "\n",
    "plt.scatter(y_test, y_predicted_ridge) #compare the hold-out observed y values to the predictions (made with model from test data)\n",
    "plt.xlabel(\"True Values\")\n",
    "plt.ylabel(\"Predictions\")\n",
    "\n",
    "print \"Score:\", rcv_model.score(X_test, y_test)\n",
    "print \"RMSE:\", mean_squared_error(y_test, y_predicted_ridge)\n",
    "print \"MAE:\", mean_absolute_error(y_test, y_predicted_ridge)\n"
   ]
  },
  {
   "cell_type": "markdown",
   "metadata": {},
   "source": [
    "## Plot your results\n",
    "\n",
    "Again make sure that you record any valuable information. For example, in the tax scenario, did you find the sales from the first three months of the year to be a good predictor of the total sales for the year? Plot the predictions versus the true values and discuss the successes and limitations of your models"
   ]
  },
  {
   "cell_type": "code",
   "execution_count": null,
   "metadata": {
    "collapsed": true
   },
   "outputs": [],
   "source": [
    "#See above"
   ]
  },
  {
   "cell_type": "markdown",
   "metadata": {},
   "source": [
    "# Present the Results\n",
    "\n",
    "Present your conclusions and results. If you have more than one interesting model feel free to include more than one along with a discussion. Use your work in this notebook to prepare your write-up."
   ]
  },
  {
   "cell_type": "markdown",
   "metadata": {
    "collapsed": true
   },
   "source": [
    "Based on the analysis above, the two models that appeared to be the best fit for the data were the RidgeCV model and the linear regression model, which each had comparable R^2 and MAE scores (~.75, ~12.8) which were superior to the other models. This was actually in accordance with my intutition: the Lasso models seem to have pushed terms that were, in some regard, significant to zero (as seen by significantly higher MAE and RMSE). \n",
    "\n",
    "Based on this conclusion, I  have run one final RidgeCV regression below using the full dataset in order to train my model on both the test and training data in order to optimize my predictions. "
   ]
  },
  {
   "cell_type": "code",
   "execution_count": null,
   "metadata": {
    "collapsed": false
   },
   "outputs": [],
   "source": [
    "q5_X = q5.drop('trans_revenue', 1)\n",
    "q5_X['constant'] = 1\n",
    "\n",
    "\n",
    "\n",
    "#COULD ADD BACK CAT, VEND categoricals\n",
    "\n",
    "q5_X = q5_X.groupby(q5_X.index).mean()\n",
    "q5_X['avg_trans_size'] = q5_X['retail_unit_rev']\n",
    "q5_X['avg_vol_sold_L'] = q5_X['vol_sold_liters']\n",
    "q5_X['avg_bottles_sold'] = q5_X['bottles_sold'] #NOT using this in model (removed below) b/c same as above\n",
    "q5_X['avg_profit'] = q5_X['avg_trans_size'] - q5_X['bottle_cost']\n",
    "q5_X['avg_vol_per_bottle_sold_L'] = q5_X['vol_per_bottle_ml']/1000\n",
    "q5_X = q5_X[['avg_trans_size','avg_vol_sold_L','avg_profit','pop_dense_heads_sqm','avg_vol_per_bottle_sold_L', 'constant']]\n",
    "\n",
    "q5_X.head(20)"
   ]
  },
  {
   "cell_type": "code",
   "execution_count": null,
   "metadata": {
    "collapsed": false
   },
   "outputs": [],
   "source": [
    "#RIDGE NORMALIZED\n",
    "\n",
    "from sklearn.metrics import mean_squared_error, mean_absolute_error\n",
    "\n",
    "rcv_fin = linear_model.RidgeCV(alphas=\n",
    "                           (.001, .001, .01, .1, .5, 1, 5, 10),\n",
    "                           store_cv_values=True)\n",
    "rcv_fin_model = rcv_fin.fit(q1_X, q234_Y)\n",
    "final_predicted = rcv_fin_model.predict(q5_X) \n",
    "final_projections = pd.DataFrame(final_predicted)\n",
    "final_zips = pd.DataFrame(q5_X.index)\n",
    "final_projections['zip'] = final_zips\n",
    "final_projections.columns = ['revenue', 'zip']\n",
    "\n",
    "# np.savetxt(\"hudson_zip_alc_sales_proj.csv\", final_projections, delimiter=\",\")\n",
    "\n",
    "final_projections.to_csv(\"hudson_zip_alc_sales_proj_zip.csv\", encoding='utf-8')\n",
    "\n"
   ]
  },
  {
   "cell_type": "code",
   "execution_count": null,
   "metadata": {
    "collapsed": false
   },
   "outputs": [],
   "source": [
    "snsQ24_2016=sns.barplot(x=final_projections['zip'], y=final_projections['revenue'], data=final_projections, palette='cubehelix')\n",
    "snsQ24_2016.savefig(\"Q24_2016.png\")"
   ]
  },
  {
   "cell_type": "code",
   "execution_count": null,
   "metadata": {
    "collapsed": false
   },
   "outputs": [],
   "source": [
    "final_projections.head()"
   ]
  },
  {
   "cell_type": "code",
   "execution_count": null,
   "metadata": {
    "collapsed": false
   },
   "outputs": [],
   "source": [
    "total_sales1 = np.sum(q1['trans_revenue'])\n",
    "total_sales2 = np.sum(q2['trans_revenue'])\n",
    "total_sales3 = np.sum(q3['trans_revenue'])\n",
    "total_sales4 = np.sum(q4['trans_revenue'])\n",
    "total_sales5 = np.sum(q5['trans_revenue'])\n",
    "total_sales = total_sales1+total_sales2+total_sales3+total_sales4\n",
    "total_sales\n",
    "print(total_sales5-total_sales1/(total_sales1))"
   ]
  },
  {
   "cell_type": "code",
   "execution_count": null,
   "metadata": {
    "collapsed": true
   },
   "outputs": [],
   "source": []
  }
 ],
 "metadata": {
  "kernelspec": {
   "display_name": "Python 2",
   "language": "python",
   "name": "python2"
  },
  "language_info": {
   "codemirror_mode": {
    "name": "ipython",
    "version": 2
   },
   "file_extension": ".py",
   "mimetype": "text/x-python",
   "name": "python",
   "nbconvert_exporter": "python",
   "pygments_lexer": "ipython2",
   "version": "2.7.11"
  }
 },
 "nbformat": 4,
 "nbformat_minor": 0
}
