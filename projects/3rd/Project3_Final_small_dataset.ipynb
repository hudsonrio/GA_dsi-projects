{
 "cells": [
  {
   "cell_type": "markdown",
   "metadata": {},
   "source": [
    "# Getting started\n",
    "\n",
    "Once you've chosen your scenario, download the data from [the Iowa website](https://data.iowa.gov/Economy/Iowa-Liquor-Sales/m3tr-qhgy) in csv format. Start by loading the data with pandas. You may need to parse the date columns appropriately."
   ]
  },
  {
   "cell_type": "code",
   "execution_count": 1,
   "metadata": {
    "collapsed": false,
    "scrolled": true
   },
   "outputs": [],
   "source": [
    "import pandas as pd\n",
    "import numpy as np\n",
    "import sklearn\n",
    "from sklearn import datasets\n",
    "from sklearn import linear_model\n",
    "import os\n",
    "\n",
    "from sklearn.cross_validation import train_test_split\n",
    "from sklearn.cross_validation import cross_val_score\n",
    "from sklearn.cross_validation import cross_val_predict\n",
    "\n",
    "from sklearn.metrics import mean_squared_error, mean_absolute_error, r2_score\n",
    "\n",
    "import matplotlib.pyplot as plt\n",
    "%matplotlib inline\n",
    "\n",
    "\n",
    "# iowa_data = pd.read_csv('/Users/HudsonCavanagh/Documents/Iowa_Liquor_Sales.csv') -- this is where need to update with full dataset (eventually)\n",
    "iowa_data = pd.read_csv('/Users/HudsonCavanagh/Documents/Iowa_Liquor_sales_sample_10pct.csv')\n",
    "ia = pd.DataFrame(iowa_data) \n",
    "ia.dropna(how='any', axis=0, inplace=True)\n",
    "ia['Date'] = pd.to_datetime(ia['Date'], infer_datetime_format=True)\n",
    "\n",
    "iowa_zip_data = pd.read_csv('/Users/HudsonCavanagh/dsi-projects/projects/3rd - IA Liquor/iowa_zip_pop.csv')\n",
    "ia_zip_pop = pd.DataFrame(iowa_zip_data) \n",
    "ia_zip_pop.dropna(how='any', axis=0, inplace=True)\n",
    "\n",
    "\n",
    "# works = []\n",
    "# issues = []\n",
    "    \n",
    "# for val in g.index:\n",
    "#     if '-' in val:\n",
    "#         issues.append(val)\n",
    "#     elif str(int(val)) == val:\n",
    "#         works.append(val)\n",
    "#     else:\n",
    "#         issues.append(val)"
   ]
  },
  {
   "cell_type": "code",
   "execution_count": 2,
   "metadata": {
    "collapsed": false
   },
   "outputs": [],
   "source": [
    "#clean IA ZIP POP HERE\n",
    "\n",
    "# ia_zip_pop = ia_zip_pop.loc['Reportdata link 1', 'Reportdata number 2', 'Reportdata link 2', 'Reportdata number 4']\n",
    "##ORIGINAL VERSION:\n",
    "# ia_zip_pop = ia_zip_pop.iloc[:,(2,4,5,8)]\n",
    "# column_iazip = ['zip', 'lat_long', 'city', 'pop_dense_heads_sqm']\n",
    "\n",
    "#REVISED FOR MERGING\n",
    "\n",
    "\n",
    "ia_zip_pop = ia_zip_pop.iloc[:,(2,10)]\n",
    "column_iazip = ['zip', 'pop_dense_heads_sqm']\n",
    "ia_zip_pop.columns = column_iazip\n",
    "# ia_zip_pop.dropna(inplace=True)\n",
    "ia_zip_pop['zip'] = ia_zip_pop['zip'].apply(lambda x: str(x))\n",
    "ia_zip_pop['pop_dense_heads_sqm'] = ia_zip_pop['pop_dense_heads_sqm'].apply(lambda x: float(x)) \n",
    "#could not get the above to read commas in numbers over 1k with float or int, did conversion in google sheets"
   ]
  },
  {
   "cell_type": "code",
   "execution_count": 3,
   "metadata": {
    "collapsed": false
   },
   "outputs": [
    {
     "data": {
      "text/plain": [
       "269258"
      ]
     },
     "execution_count": 3,
     "metadata": {},
     "output_type": "execute_result"
    }
   ],
   "source": [
    "#rename columns in main dataframe\n",
    "\n",
    "ia.rename(columns={'Date': 'date', 'Store Number': 'store_num', 'City': 'city', 'Zip Code': 'zip', 'County Number': 'county_num', 'County': 'county_name', 'Category': 'cat', 'Category Name': 'cat_name'}, inplace=True)\n",
    "ia.rename(columns={'Vendor Number': 'vend_id', 'Item Number': 'item_id', 'Item Description': 'item', 'Bottle Volume (ml)': 'vol_per_bottle_ml', 'State Bottle Cost': 'bottle_cost', 'State Bottle Retail': 'retail_unit_rev', 'Bottles Sold': 'bottles_sold'}, inplace=True)\n",
    "ia.rename(columns={'Sale (Dollars)': 'trans_revenue', 'Volume Sold (Liters)': 'vol_sold_liters'}, inplace=True)\n",
    "ia = ia.iloc[:,0:17]\n",
    "\n",
    "len(ia['store_num'])"
   ]
  },
  {
   "cell_type": "code",
   "execution_count": 4,
   "metadata": {
    "collapsed": false,
    "scrolled": true
   },
   "outputs": [],
   "source": [
    "#CONVERT DATATYPES, prepare g with index zip\n",
    "\n",
    "# ia['date'].value_counts  #dtype time 64\n",
    "# ia['store_num'].value_counts  #int, should be string\n",
    "ia['store_num'] = ia['store_num'].apply(lambda x: str(x))\n",
    "# ia['city'].value_counts #object, ok\n",
    "# ia['zip'].value_counts #object, ok\n",
    "# ia['county_num'].value_counts #float, should be object\n",
    "ia['county_num'] = ia['county_num'].apply(lambda x: str(x))\n",
    "# ia['county_name'].value_counts #object, ok\n",
    "# ia['cat'].value_counts #int, should be obj\n",
    "                                          \n",
    "ia['cat'] = ia['cat'].apply(lambda x: str(x))\n",
    "                                          \n",
    "                                 \n",
    "# ia['cat_name'].value_counts #str\n",
    "ia['vend_id'] = ia['vend_id'].apply(lambda x: str(x))\n",
    "ia['item_id'] = ia['item_id'].apply(lambda x: str(x))\n",
    "# ia['item'].value_counts #str\n",
    "ia['liters_per_bottle'] = (ia['vol_per_bottle_ml'].apply(lambda x: float(x)/1000))\n",
    "ia['bottles_sold'] = (ia['bottles_sold'].apply(lambda x: float(x)))\n",
    "\n",
    "##THIS DATA CLEAN, JUST NEED TO CONVERT DOLLAR COLUMNS\n",
    "\n",
    "ia['bottle_cost'] = ia['bottle_cost'].apply(lambda x: x.strip('$'))\n",
    "ia['bottle_cost'] = ia['bottle_cost'].apply(lambda x: float(x))\n",
    "\n",
    "ia['retail_unit_rev'] = ia['retail_unit_rev'].apply(lambda x: x.strip('$'))\n",
    "ia['retail_unit_rev'] = ia['retail_unit_rev'].apply(lambda x: float(x))\n",
    "\n",
    "ia['trans_revenue'] = ia['trans_revenue'].apply(lambda x: x.strip('$'))\n",
    "ia['trans_revenue'] = ia['trans_revenue'].apply(lambda x: float(x))\n",
    "\n",
    "\n",
    "gg = ia.set_index('zip')\n",
    "ia_zipindex_pop = ia_zip_pop.set_index('zip')\n",
    "\n",
    "g = pd.merge(gg, ia_zipindex_pop, how='left', sort=False, left_index=True, right_index=True)#returns duplicate indices with meaningful data\n",
    "g = g.dropna(axis=0, how='any')\n",
    "\n",
    "\n",
    "# g = g.groupby(g.index).mean() #this needs to occur after split by dates b/c it drops dates\n",
    "\n",
    "\n"
   ]
  },
  {
   "cell_type": "code",
   "execution_count": 5,
   "metadata": {
    "collapsed": false
   },
   "outputs": [
    {
     "data": {
      "text/html": [
       "<div>\n",
       "<table border=\"1\" class=\"dataframe\">\n",
       "  <thead>\n",
       "    <tr style=\"text-align: right;\">\n",
       "      <th></th>\n",
       "      <th>date</th>\n",
       "      <th>store_num</th>\n",
       "      <th>city</th>\n",
       "      <th>county_num</th>\n",
       "      <th>county_name</th>\n",
       "      <th>cat</th>\n",
       "      <th>cat_name</th>\n",
       "      <th>vend_id</th>\n",
       "      <th>item_id</th>\n",
       "      <th>item</th>\n",
       "      <th>vol_per_bottle_ml</th>\n",
       "      <th>bottle_cost</th>\n",
       "      <th>retail_unit_rev</th>\n",
       "      <th>bottles_sold</th>\n",
       "      <th>trans_revenue</th>\n",
       "      <th>vol_sold_liters</th>\n",
       "      <th>liters_per_bottle</th>\n",
       "      <th>pop_dense_heads_sqm</th>\n",
       "    </tr>\n",
       "    <tr>\n",
       "      <th>zip</th>\n",
       "      <th></th>\n",
       "      <th></th>\n",
       "      <th></th>\n",
       "      <th></th>\n",
       "      <th></th>\n",
       "      <th></th>\n",
       "      <th></th>\n",
       "      <th></th>\n",
       "      <th></th>\n",
       "      <th></th>\n",
       "      <th></th>\n",
       "      <th></th>\n",
       "      <th></th>\n",
       "      <th></th>\n",
       "      <th></th>\n",
       "      <th></th>\n",
       "      <th></th>\n",
       "      <th></th>\n",
       "    </tr>\n",
       "  </thead>\n",
       "  <tbody>\n",
       "    <tr>\n",
       "      <th>50002</th>\n",
       "      <td>2015-07-06</td>\n",
       "      <td>4417</td>\n",
       "      <td>ADAIR</td>\n",
       "      <td>1.0</td>\n",
       "      <td>Adair</td>\n",
       "      <td>1031080.0</td>\n",
       "      <td>VODKA 80 PROOF</td>\n",
       "      <td>260</td>\n",
       "      <td>38008</td>\n",
       "      <td>Smirnoff Vodka 80 Prf Pet</td>\n",
       "      <td>1750</td>\n",
       "      <td>14.75</td>\n",
       "      <td>22.13</td>\n",
       "      <td>6</td>\n",
       "      <td>132.78</td>\n",
       "      <td>10.5</td>\n",
       "      <td>1.750</td>\n",
       "      <td>12</td>\n",
       "    </tr>\n",
       "    <tr>\n",
       "      <th>50002</th>\n",
       "      <td>2015-01-26</td>\n",
       "      <td>4753</td>\n",
       "      <td>ADAIR</td>\n",
       "      <td>1.0</td>\n",
       "      <td>Adair</td>\n",
       "      <td>1031080.0</td>\n",
       "      <td>VODKA 80 PROOF</td>\n",
       "      <td>300</td>\n",
       "      <td>36904</td>\n",
       "      <td>Mccormick Vodka Pet</td>\n",
       "      <td>375</td>\n",
       "      <td>1.80</td>\n",
       "      <td>2.70</td>\n",
       "      <td>24</td>\n",
       "      <td>64.80</td>\n",
       "      <td>9.0</td>\n",
       "      <td>0.375</td>\n",
       "      <td>12</td>\n",
       "    </tr>\n",
       "    <tr>\n",
       "      <th>50002</th>\n",
       "      <td>2015-03-23</td>\n",
       "      <td>4417</td>\n",
       "      <td>ADAIR</td>\n",
       "      <td>1.0</td>\n",
       "      <td>Adair</td>\n",
       "      <td>1012100.0</td>\n",
       "      <td>CANADIAN WHISKIES</td>\n",
       "      <td>115</td>\n",
       "      <td>11776</td>\n",
       "      <td>Black Velvet</td>\n",
       "      <td>750</td>\n",
       "      <td>5.23</td>\n",
       "      <td>7.85</td>\n",
       "      <td>12</td>\n",
       "      <td>94.20</td>\n",
       "      <td>9.0</td>\n",
       "      <td>0.750</td>\n",
       "      <td>12</td>\n",
       "    </tr>\n",
       "    <tr>\n",
       "      <th>50002</th>\n",
       "      <td>2015-05-18</td>\n",
       "      <td>4417</td>\n",
       "      <td>ADAIR</td>\n",
       "      <td>1.0</td>\n",
       "      <td>Adair</td>\n",
       "      <td>1031080.0</td>\n",
       "      <td>VODKA 80 PROOF</td>\n",
       "      <td>260</td>\n",
       "      <td>37994</td>\n",
       "      <td>Smirnoff Vodka 80 Prf</td>\n",
       "      <td>375</td>\n",
       "      <td>4.75</td>\n",
       "      <td>7.13</td>\n",
       "      <td>24</td>\n",
       "      <td>171.12</td>\n",
       "      <td>9.0</td>\n",
       "      <td>0.375</td>\n",
       "      <td>12</td>\n",
       "    </tr>\n",
       "    <tr>\n",
       "      <th>50002</th>\n",
       "      <td>2015-01-26</td>\n",
       "      <td>4753</td>\n",
       "      <td>ADAIR</td>\n",
       "      <td>1.0</td>\n",
       "      <td>Adair</td>\n",
       "      <td>1062310.0</td>\n",
       "      <td>SPICED RUM</td>\n",
       "      <td>260</td>\n",
       "      <td>43334</td>\n",
       "      <td>Captain Morgan Spiced Rum</td>\n",
       "      <td>375</td>\n",
       "      <td>5.00</td>\n",
       "      <td>7.50</td>\n",
       "      <td>24</td>\n",
       "      <td>180.00</td>\n",
       "      <td>9.0</td>\n",
       "      <td>0.375</td>\n",
       "      <td>12</td>\n",
       "    </tr>\n",
       "  </tbody>\n",
       "</table>\n",
       "</div>"
      ],
      "text/plain": [
       "            date store_num   city county_num county_name        cat  \\\n",
       "zip                                                                   \n",
       "50002 2015-07-06      4417  ADAIR        1.0       Adair  1031080.0   \n",
       "50002 2015-01-26      4753  ADAIR        1.0       Adair  1031080.0   \n",
       "50002 2015-03-23      4417  ADAIR        1.0       Adair  1012100.0   \n",
       "50002 2015-05-18      4417  ADAIR        1.0       Adair  1031080.0   \n",
       "50002 2015-01-26      4753  ADAIR        1.0       Adair  1062310.0   \n",
       "\n",
       "                cat_name vend_id item_id                       item  \\\n",
       "zip                                                                   \n",
       "50002     VODKA 80 PROOF     260   38008  Smirnoff Vodka 80 Prf Pet   \n",
       "50002     VODKA 80 PROOF     300   36904        Mccormick Vodka Pet   \n",
       "50002  CANADIAN WHISKIES     115   11776               Black Velvet   \n",
       "50002     VODKA 80 PROOF     260   37994      Smirnoff Vodka 80 Prf   \n",
       "50002         SPICED RUM     260   43334  Captain Morgan Spiced Rum   \n",
       "\n",
       "       vol_per_bottle_ml  bottle_cost  retail_unit_rev  bottles_sold  \\\n",
       "zip                                                                    \n",
       "50002               1750        14.75            22.13             6   \n",
       "50002                375         1.80             2.70            24   \n",
       "50002                750         5.23             7.85            12   \n",
       "50002                375         4.75             7.13            24   \n",
       "50002                375         5.00             7.50            24   \n",
       "\n",
       "       trans_revenue  vol_sold_liters  liters_per_bottle  pop_dense_heads_sqm  \n",
       "zip                                                                            \n",
       "50002         132.78             10.5              1.750                   12  \n",
       "50002          64.80              9.0              0.375                   12  \n",
       "50002          94.20              9.0              0.750                   12  \n",
       "50002         171.12              9.0              0.375                   12  \n",
       "50002         180.00              9.0              0.375                   12  "
      ]
     },
     "execution_count": 5,
     "metadata": {},
     "output_type": "execute_result"
    }
   ],
   "source": [
    "g.head()"
   ]
  },
  {
   "cell_type": "code",
   "execution_count": 5,
   "metadata": {
    "collapsed": false
   },
   "outputs": [],
   "source": [
    "#WORKING SPLITTING CELL\n",
    "\n",
    "\n",
    "\n",
    "g['year'] = g.date.dt.year\n",
    "g['quarters'] = g.date.dt.quarter\n",
    "\n",
    "\n",
    "g_2015 = g[g.year == 2015]\n",
    "q1 = g_2015[g_2015.quarters == 1]\n",
    "q2 = g_2015[g_2015.quarters == 2]\n",
    "q3 = g_2015[g_2015.quarters == 3]\n",
    "q4 = g_2015[g_2015.quarters == 4]\n",
    "q234 = g_2015[g_2015.quarters == [2 or 3 or 4]]\n",
    "q5 = g[g.year == 2016]\n",
    "\n",
    "\n",
    "q1_X = q1.drop('trans_revenue', 1)\n",
    "q1_X['constant'] = 1\n",
    "\n",
    "\n",
    "\n",
    "#COULD ADD BACK CAT, VEND categoricals\n",
    "\n",
    "q1_X = q1_X.groupby(q1_X.index).mean()\n",
    "q1_X['avg_trans_size'] = q1_X['retail_unit_rev']\n",
    "q1_X['avg_vol_sold_L'] = q1_X['vol_sold_liters']\n",
    "q1_X['avg_bottles_sold'] = q1_X['bottles_sold'] #NOT using this in model (removed below) b/c same as above\n",
    "q1_X['avg_profit'] = q1_X['avg_trans_size'] - q1_X['bottle_cost']\n",
    "q1_X['avg_vol_per_bottle_sold_L'] = q1_X['vol_per_bottle_ml']/1000\n"
   ]
  },
  {
   "cell_type": "code",
   "execution_count": 6,
   "metadata": {
    "collapsed": false
   },
   "outputs": [
    {
     "data": {
      "text/html": [
       "<div>\n",
       "<table border=\"1\" class=\"dataframe\">\n",
       "  <thead>\n",
       "    <tr style=\"text-align: right;\">\n",
       "      <th></th>\n",
       "      <th>vol_per_bottle_ml</th>\n",
       "      <th>bottle_cost</th>\n",
       "      <th>retail_unit_rev</th>\n",
       "      <th>bottles_sold</th>\n",
       "      <th>vol_sold_liters</th>\n",
       "      <th>liters_per_bottle</th>\n",
       "      <th>pop_dense_heads_sqm</th>\n",
       "      <th>year</th>\n",
       "      <th>quarters</th>\n",
       "      <th>constant</th>\n",
       "      <th>avg_trans_size</th>\n",
       "      <th>avg_vol_sold_L</th>\n",
       "      <th>avg_bottles_sold</th>\n",
       "      <th>avg_profit</th>\n",
       "    </tr>\n",
       "    <tr>\n",
       "      <th>zip</th>\n",
       "      <th></th>\n",
       "      <th></th>\n",
       "      <th></th>\n",
       "      <th></th>\n",
       "      <th></th>\n",
       "      <th></th>\n",
       "      <th></th>\n",
       "      <th></th>\n",
       "      <th></th>\n",
       "      <th></th>\n",
       "      <th></th>\n",
       "      <th></th>\n",
       "      <th></th>\n",
       "      <th></th>\n",
       "    </tr>\n",
       "  </thead>\n",
       "  <tbody>\n",
       "    <tr>\n",
       "      <th>50002</th>\n",
       "      <td>493.181818</td>\n",
       "      <td>4.748182</td>\n",
       "      <td>7.123636</td>\n",
       "      <td>20.545455</td>\n",
       "      <td>8.509091</td>\n",
       "      <td>0.493182</td>\n",
       "      <td>12</td>\n",
       "      <td>2015</td>\n",
       "      <td>1</td>\n",
       "      <td>1</td>\n",
       "      <td>7.123636</td>\n",
       "      <td>8.509091</td>\n",
       "      <td>20.545455</td>\n",
       "      <td>2.375455</td>\n",
       "    </tr>\n",
       "    <tr>\n",
       "      <th>50003</th>\n",
       "      <td>864.333333</td>\n",
       "      <td>7.870933</td>\n",
       "      <td>11.811867</td>\n",
       "      <td>12.026667</td>\n",
       "      <td>11.067600</td>\n",
       "      <td>0.864333</td>\n",
       "      <td>50</td>\n",
       "      <td>2015</td>\n",
       "      <td>1</td>\n",
       "      <td>1</td>\n",
       "      <td>11.811867</td>\n",
       "      <td>11.067600</td>\n",
       "      <td>12.026667</td>\n",
       "      <td>3.940933</td>\n",
       "    </tr>\n",
       "    <tr>\n",
       "      <th>50006</th>\n",
       "      <td>1144.230769</td>\n",
       "      <td>11.144231</td>\n",
       "      <td>16.751923</td>\n",
       "      <td>5.692308</td>\n",
       "      <td>6.773846</td>\n",
       "      <td>1.144231</td>\n",
       "      <td>16</td>\n",
       "      <td>2015</td>\n",
       "      <td>1</td>\n",
       "      <td>1</td>\n",
       "      <td>16.751923</td>\n",
       "      <td>6.773846</td>\n",
       "      <td>5.692308</td>\n",
       "      <td>5.607692</td>\n",
       "    </tr>\n",
       "    <tr>\n",
       "      <th>50009</th>\n",
       "      <td>882.113821</td>\n",
       "      <td>9.357940</td>\n",
       "      <td>14.054959</td>\n",
       "      <td>8.970190</td>\n",
       "      <td>8.092846</td>\n",
       "      <td>0.882114</td>\n",
       "      <td>407</td>\n",
       "      <td>2015</td>\n",
       "      <td>1</td>\n",
       "      <td>1</td>\n",
       "      <td>14.054959</td>\n",
       "      <td>8.092846</td>\n",
       "      <td>8.970190</td>\n",
       "      <td>4.697019</td>\n",
       "    </tr>\n",
       "    <tr>\n",
       "      <th>50014</th>\n",
       "      <td>971.698113</td>\n",
       "      <td>11.619906</td>\n",
       "      <td>17.445094</td>\n",
       "      <td>8.330189</td>\n",
       "      <td>8.003585</td>\n",
       "      <td>0.971698</td>\n",
       "      <td>580</td>\n",
       "      <td>2015</td>\n",
       "      <td>1</td>\n",
       "      <td>1</td>\n",
       "      <td>17.445094</td>\n",
       "      <td>8.003585</td>\n",
       "      <td>8.330189</td>\n",
       "      <td>5.825189</td>\n",
       "    </tr>\n",
       "  </tbody>\n",
       "</table>\n",
       "</div>"
      ],
      "text/plain": [
       "       vol_per_bottle_ml  bottle_cost  retail_unit_rev  bottles_sold  \\\n",
       "zip                                                                    \n",
       "50002         493.181818     4.748182         7.123636     20.545455   \n",
       "50003         864.333333     7.870933        11.811867     12.026667   \n",
       "50006        1144.230769    11.144231        16.751923      5.692308   \n",
       "50009         882.113821     9.357940        14.054959      8.970190   \n",
       "50014         971.698113    11.619906        17.445094      8.330189   \n",
       "\n",
       "       vol_sold_liters  liters_per_bottle  pop_dense_heads_sqm  year  \\\n",
       "zip                                                                    \n",
       "50002         8.509091           0.493182                   12  2015   \n",
       "50003        11.067600           0.864333                   50  2015   \n",
       "50006         6.773846           1.144231                   16  2015   \n",
       "50009         8.092846           0.882114                  407  2015   \n",
       "50014         8.003585           0.971698                  580  2015   \n",
       "\n",
       "       quarters  constant  avg_trans_size  avg_vol_sold_L  avg_bottles_sold  \\\n",
       "zip                                                                           \n",
       "50002         1         1        7.123636        8.509091         20.545455   \n",
       "50003         1         1       11.811867       11.067600         12.026667   \n",
       "50006         1         1       16.751923        6.773846          5.692308   \n",
       "50009         1         1       14.054959        8.092846          8.970190   \n",
       "50014         1         1       17.445094        8.003585          8.330189   \n",
       "\n",
       "       avg_profit  \n",
       "zip                \n",
       "50002    2.375455  \n",
       "50003    3.940933  \n",
       "50006    5.607692  \n",
       "50009    4.697019  \n",
       "50014    5.825189  "
      ]
     },
     "execution_count": 6,
     "metadata": {},
     "output_type": "execute_result"
    }
   ],
   "source": [
    "q1_X.head()"
   ]
  },
  {
   "cell_type": "code",
   "execution_count": 6,
   "metadata": {
    "collapsed": false
   },
   "outputs": [
    {
     "data": {
      "text/html": [
       "<div>\n",
       "<table border=\"1\" class=\"dataframe\">\n",
       "  <thead>\n",
       "    <tr style=\"text-align: right;\">\n",
       "      <th></th>\n",
       "      <th>trans_revenue</th>\n",
       "    </tr>\n",
       "    <tr>\n",
       "      <th>zip</th>\n",
       "      <th></th>\n",
       "    </tr>\n",
       "  </thead>\n",
       "  <tbody>\n",
       "    <tr>\n",
       "      <th>50002</th>\n",
       "      <td>130.457143</td>\n",
       "    </tr>\n",
       "    <tr>\n",
       "      <th>50003</th>\n",
       "      <td>117.737500</td>\n",
       "    </tr>\n",
       "    <tr>\n",
       "      <th>50006</th>\n",
       "      <td>110.122647</td>\n",
       "    </tr>\n",
       "    <tr>\n",
       "      <th>50009</th>\n",
       "      <td>135.874933</td>\n",
       "    </tr>\n",
       "    <tr>\n",
       "      <th>50014</th>\n",
       "      <td>109.768118</td>\n",
       "    </tr>\n",
       "  </tbody>\n",
       "</table>\n",
       "</div>"
      ],
      "text/plain": [
       "       trans_revenue\n",
       "zip                 \n",
       "50002     130.457143\n",
       "50003     117.737500\n",
       "50006     110.122647\n",
       "50009     135.874933\n",
       "50014     109.768118"
      ]
     },
     "execution_count": 6,
     "metadata": {},
     "output_type": "execute_result"
    }
   ],
   "source": [
    "q1_X = q1_X[['avg_trans_size','avg_vol_sold_L','avg_profit','pop_dense_heads_sqm','avg_vol_per_bottle_sold_L', 'constant']]\n",
    "\n",
    "\n",
    "\n",
    "q234_y = q234['trans_revenue']   \n",
    "\n",
    "q234_Y = pd.DataFrame(q234_y)\n",
    "q234_Y = q234_Y.groupby(q234_Y.index).mean()\n",
    "\n",
    "# q1_X_trim = pd.merge(q1_X, q234_Y, how='left', left_index=1, right_index=1)\n",
    "\n",
    "q234_Y.head()"
   ]
  },
  {
   "cell_type": "code",
   "execution_count": 7,
   "metadata": {
    "collapsed": false
   },
   "outputs": [],
   "source": [
    "# print(len(q1_X), len(q234_Y)) #shows that q1_X has (357 indices, compared to 360 for y)\n",
    "#THIS FUNCTION CHECKS WHAT IS IN CONFLICT; OPPOSITE VERSION BELOW\n",
    "# x_list = []\n",
    "# y_list = []\n",
    "# conflict = []\n",
    "\n",
    "# for i in q234_Y.index:\n",
    "#     y_list.append(i)\n",
    "    \n",
    "# for j in q1_X.index:\n",
    "#     x_list.append(j)\n",
    "    \n",
    "# for h in y_list:\n",
    "#     if h not in x_list:\n",
    "#         conflict.append(h)\n",
    "\n",
    "# print(conflict)\n",
    "\n",
    "\n",
    "#['50061', '50135', '51038', '52347'] -- conflicting zips with y val, no x val\n",
    "\n"
   ]
  },
  {
   "cell_type": "code",
   "execution_count": 7,
   "metadata": {
    "collapsed": false
   },
   "outputs": [
    {
     "name": "stdout",
     "output_type": "stream",
     "text": [
      "['51535']\n"
     ]
    }
   ],
   "source": [
    "x_list = []\n",
    "y_list = []\n",
    "conflict = []\n",
    "\n",
    "for i in q234_Y.index:\n",
    "    y_list.append(i)\n",
    "    \n",
    "for j in q1_X.index:\n",
    "    x_list.append(j)\n",
    "    \n",
    "for h in x_list:\n",
    "    if h not in y_list:\n",
    "        conflict.append(h)\n",
    "\n",
    "print(conflict)\n",
    "#['51535']"
   ]
  },
  {
   "cell_type": "code",
   "execution_count": 8,
   "metadata": {
    "collapsed": false
   },
   "outputs": [],
   "source": [
    "# q1_X.loc['50061'] #error\n",
    "# q234_Y.loc['50061'] #drop\n",
    "# q234_Y.loc['50135'] #drop\n",
    "# q234_Y.loc['51038'] #drop\n",
    "# q234_Y.loc['52347'] #drop\n",
    "# q234_Y = q234_Y.drop(q234_Y[['50061', '50135', '51038', '52347']]) #couldn't get this to work, dropping individuals\n",
    "\n",
    "\n",
    "q234_Y = q234_Y.drop('50061')\n",
    "q234_Y = q234_Y.drop('50135')\n",
    "q234_Y = q234_Y.drop('51038')\n",
    "q234_Y = q234_Y.drop('52347')\n",
    "q1_X = q1_X.drop('51535')\n"
   ]
  },
  {
   "cell_type": "code",
   "execution_count": 9,
   "metadata": {
    "collapsed": false
   },
   "outputs": [
    {
     "name": "stdout",
     "output_type": "stream",
     "text": [
      "       X Shape  Y Shape\n",
      "Train (238, 6) (238, 1)\n",
      "Test  (118, 6) (118, 1)\n"
     ]
    }
   ],
   "source": [
    "X_train, X_test, y_train, y_test = train_test_split(q1_X, q234_Y, test_size=.33)\n",
    "# X_train, X_test, y_train, y_test = train_test_split(q1_X_trim, q234_Y, test_size=.33) #with trim\n",
    "\n",
    "\n",
    "print \"       X Shape  Y Shape\"\n",
    "print \"Train\", X_train.shape, y_train.shape\n",
    "print \"Test \", X_test.shape, y_test.shape\n"
   ]
  },
  {
   "cell_type": "code",
   "execution_count": 10,
   "metadata": {
    "collapsed": false
   },
   "outputs": [
    {
     "name": "stdout",
     "output_type": "stream",
     "text": [
      "(356, 356)\n"
     ]
    }
   ],
   "source": [
    "print(len(q1_X), len(q234_Y))"
   ]
  },
  {
   "cell_type": "markdown",
   "metadata": {},
   "source": [
    "# Explore the data\n",
    "\n",
    "Perform some exploratory statistical analysis and make some plots, such as histograms of transaction totals, bottles sold, etc."
   ]
  },
  {
   "cell_type": "code",
   "execution_count": null,
   "metadata": {
    "collapsed": false
   },
   "outputs": [],
   "source": []
  },
  {
   "cell_type": "code",
   "execution_count": null,
   "metadata": {
    "collapsed": false
   },
   "outputs": [],
   "source": []
  },
  {
   "cell_type": "code",
   "execution_count": null,
   "metadata": {
    "collapsed": false
   },
   "outputs": [],
   "source": []
  },
  {
   "cell_type": "code",
   "execution_count": null,
   "metadata": {
    "collapsed": true
   },
   "outputs": [],
   "source": []
  },
  {
   "cell_type": "code",
   "execution_count": null,
   "metadata": {
    "collapsed": true
   },
   "outputs": [],
   "source": []
  },
  {
   "cell_type": "markdown",
   "metadata": {},
   "source": [
    "## Record your findings\n",
    "\n",
    "Be sure to write out anything observations from your exploratory analysis."
   ]
  },
  {
   "cell_type": "markdown",
   "metadata": {},
   "source": [
    "# Mine the data\n",
    "Now you are ready to compute the variables you will use for your regression from the data. For example, you may want to\n",
    "compute total sales per store from Jan to March of 2015, mean price per bottle, etc. Refer to the readme for more ideas appropriate to your scenario.\n",
    "\n",
    "Pandas is your friend for this task. Take a look at the operations [here](http://pandas.pydata.org/pandas-docs/stable/groupby.html) for ideas on how to make the best use of pandas and feel free to search for blog and Stack Overflow posts to help you group data by certain variables and compute sums, means, etc. You may find it useful to create a new data frame to house this summary data."
   ]
  },
  {
   "cell_type": "code",
   "execution_count": null,
   "metadata": {
    "collapsed": false,
    "scrolled": true
   },
   "outputs": [],
   "source": []
  },
  {
   "cell_type": "code",
   "execution_count": null,
   "metadata": {
    "collapsed": false
   },
   "outputs": [],
   "source": []
  },
  {
   "cell_type": "markdown",
   "metadata": {},
   "source": [
    "# Refine the data\n",
    "Look for any statistical relationships, correlations, or other relevant properties of the dataset."
   ]
  },
  {
   "cell_type": "code",
   "execution_count": 14,
   "metadata": {
    "collapsed": false
   },
   "outputs": [
    {
     "data": {
      "text/plain": [
       "<seaborn.axisgrid.JointGrid at 0x128d90c50>"
      ]
     },
     "execution_count": 14,
     "metadata": {},
     "output_type": "execute_result"
    },
    {
     "data": {
      "image/png": "[encoded data removed]",
      "text/plain": [
       "<matplotlib.figure.Figure at 0x1221d6c90>"
      ]
     },
     "metadata": {},
     "output_type": "display_data"
    }
   ],
   "source": [
    "# MAKE TONS OF PLOTS, seaborn\n",
    "import seaborn as sns\n",
    "\n",
    "# sns.JointGrid(\"pop_dense\", \"vol_sold_L\", data=q1)\n",
    "# sns.JointGrid(\"pop_dense\", \"profit\", data=q1)\n",
    "# sns.JointGrid(\"pop_dense\", \"profit_margin\", data=q1)\n",
    "# sns.JointGrid(\"pop_dense\", \"vol_sold_L\", data=q1)\n",
    "\n",
    "\n",
    "#can do some more using this data:\n",
    "# q1 q234"
   ]
  },
  {
   "cell_type": "markdown",
   "metadata": {},
   "source": [
    "# Build your models\n",
    "\n",
    "Using scikit-learn or statsmodels, build the necessary models for your scenario. Evaluate model fit."
   ]
  },
  {
   "cell_type": "code",
   "execution_count": 11,
   "metadata": {
    "collapsed": false
   },
   "outputs": [
    {
     "name": "stdout",
     "output_type": "stream",
     "text": [
      "Score: 0.330612216682\n"
     ]
    },
    {
     "data": {
      "image/png": "[encoded data removed]",
      "text/plain": [
       "<matplotlib.figure.Figure at 0x10395ee10>"
      ]
     },
     "metadata": {},
     "output_type": "display_data"
    }
   ],
   "source": [
    "rcv = linear_model.RidgeCV(alphas=\n",
    "                           (.001, .001, .01, .1, .5, 1, 5, 10),\n",
    "                           store_cv_values=True)\n",
    "rcv_model = rcv.fit(X_train, y_train)\n",
    "y_predicted = rcv_model.predict(X_test)\n",
    "rcv_r2 =  r2_score(y_true=y_test, y_pred=y_predicted)\n",
    "rcv_r2\n",
    "\n",
    "plt.scatter(y_test, y_predicted) #compare the hold-out observed y values to the predictions (made with model from test data)\n",
    "plt.xlabel(\"True Values\")\n",
    "plt.ylabel(\"Predictions\")\n",
    "\n",
    "print \"Score:\", rcv_model.score(X_test, y_test)\n",
    "\n"
   ]
  },
  {
   "cell_type": "code",
   "execution_count": 12,
   "metadata": {
    "collapsed": false
   },
   "outputs": [
    {
     "name": "stdout",
     "output_type": "stream",
     "text": [
      "(array([ 0.21496673,  0.23490464,  0.27356415,  0.20041132,  0.51667084]), 'mean:', 0.28810353688593626)\n"
     ]
    }
   ],
   "source": [
    "rcv_model.cv_values_.mean()\n",
    "\n",
    "a_rcv = rcv_model.alpha_ #this returns optimal alpha for dataset\n",
    "\n",
    "print(cross_val_score(rcv_model, q1_X, q234_Y, n_jobs=1, cv=5), \n",
    "\"mean:\", cross_val_score(rcv_model, q1_X, q234_Y, n_jobs=1, cv=5).mean()) #multiple jobs\n"
   ]
  },
  {
   "cell_type": "code",
   "execution_count": null,
   "metadata": {
    "collapsed": true
   },
   "outputs": [],
   "source": [
    "# from sklearn import linear_model\n",
    "\n",
    "\n",
    "# lm = linear_model.LinearRegression()\n",
    "\n",
    "# X = \n",
    "# y = \n",
    "\n",
    "# model = lm.fit(X, y)\n",
    "# predictions = lm.predict(X)\n"
   ]
  },
  {
   "cell_type": "code",
   "execution_count": null,
   "metadata": {
    "collapsed": true
   },
   "outputs": [],
   "source": [
    "# # How is it performing? Plot the model's predictions against actual values\n",
    "# # s = s: size in points, c = color, zorder = layer order\n",
    "\n",
    "# plt.figure(figsize=(16,8))\n",
    "# plt.scatter(predictions, y, s=30, c='r', marker='+', zorder=10)\n",
    "# plt.xlabel(\"Predicted Values\")\n",
    "# plt.ylabel(\"Actual Values\")\n",
    "# plt.show()\n",
    "# print \"MSE:\", mean_squared_error(y, predictions)\n",
    "\n",
    "# "
   ]
  },
  {
   "cell_type": "code",
   "execution_count": null,
   "metadata": {
    "collapsed": true
   },
   "outputs": [],
   "source": [
    "cross_val_score(lr, X, y, n_jobs=1, cv=5).mean() #multiple jobs"
   ]
  },
  {
   "cell_type": "code",
   "execution_count": null,
   "metadata": {
    "collapsed": true
   },
   "outputs": [],
   "source": [
    "#plot the residuals\n",
    "\n",
    "plt.figure(figsize=(16,8))\n",
    "plt.scatter(y, y - predictions, c = 'b', marker = '+') # Look directly at the residuals\n",
    "plt.axhline(0, color='r') #from http://localhost:8888/notebooks/week03/W3%20L1.3_scikit-modeling.ipynb"
   ]
  },
  {
   "cell_type": "code",
   "execution_count": null,
   "metadata": {
    "collapsed": true
   },
   "outputs": [],
   "source": [
    "#OLS\n",
    "\n",
    "# Note the difference in argument order\n",
    "OLSmodel = sm.OLS(y, X).fit()\n",
    "predictions = model.predict(X)\n",
    "\n",
    "# Plot the model\n",
    "plt.scatter(predictions, y, s=30, c='r', marker='+', zorder=10)\n",
    "plt.xlabel(\"Predicted Values\")\n",
    "plt.ylabel(\"Actual Values\")\n",
    "plt.show()\n",
    "print \"MSE:\", mean_squared_error(y, predictions)\n",
    "\n",
    "cross_val_score(lr, X, y, n_jobs=1, cv=5).mean() #multiple jobs\n"
   ]
  },
  {
   "cell_type": "code",
   "execution_count": null,
   "metadata": {
    "collapsed": true
   },
   "outputs": [],
   "source": [
    "print(OLSmodel.summary())"
   ]
  },
  {
   "cell_type": "code",
   "execution_count": null,
   "metadata": {
    "collapsed": true
   },
   "outputs": [],
   "source": [
    "#standardized Ridge Model\n",
    "\n"
   ]
  },
  {
   "cell_type": "code",
   "execution_count": 21,
   "metadata": {
    "collapsed": false
   },
   "outputs": [
    {
     "name": "stdout",
     "output_type": "stream",
     "text": [
      "Score: 0.129447762604\n",
      "(7.38140372119544, array([ 0.        ,  5.98582104,  0.        ,  0.01733129,  0.        ]))\n"
     ]
    },
    {
     "name": "stderr",
     "output_type": "stream",
     "text": [
      "/Users/HudsonCavanagh/anaconda/lib/python2.7/site-packages/sklearn/linear_model/coordinate_descent.py:1051: DataConversionWarning: A column-vector y was passed when a 1d array was expected. Please change the shape of y to (n_samples, ), for example using ravel().\n",
      "  y = column_or_1d(y, warn=True)\n"
     ]
    },
    {
     "ename": "AttributeError",
     "evalue": "'DataFrame' object has no attribute 'predict'",
     "output_type": "error",
     "traceback": [
      "\u001b[0;31m---------------------------------------------------------------------------\u001b[0m",
      "\u001b[0;31mAttributeError\u001b[0m                            Traceback (most recent call last)",
      "\u001b[0;32m<ipython-input-21-ba9bdf0590f5>\u001b[0m in \u001b[0;36m<module>\u001b[0;34m()\u001b[0m\n\u001b[1;32m     16\u001b[0m abs(lcv_model.coef_))\n\u001b[1;32m     17\u001b[0m \u001b[0;34m\u001b[0m\u001b[0m\n\u001b[0;32m---> 18\u001b[0;31m \u001b[0mfinal_predicts\u001b[0m \u001b[0;34m=\u001b[0m \u001b[0mia\u001b[0m\u001b[0;34m.\u001b[0m\u001b[0mpredict\u001b[0m\u001b[0;34m(\u001b[0m\u001b[0mmodelname\u001b[0m\u001b[0;34m,\u001b[0m \u001b[0mX\u001b[0m\u001b[0;34m)\u001b[0m\u001b[0;34m\u001b[0m\u001b[0m\n\u001b[0m",
      "\u001b[0;32m/Users/HudsonCavanagh/anaconda/lib/python2.7/site-packages/pandas/core/generic.pyc\u001b[0m in \u001b[0;36m__getattr__\u001b[0;34m(self, name)\u001b[0m\n\u001b[1;32m   2358\u001b[0m                 \u001b[0;32mreturn\u001b[0m \u001b[0mself\u001b[0m\u001b[0;34m[\u001b[0m\u001b[0mname\u001b[0m\u001b[0;34m]\u001b[0m\u001b[0;34m\u001b[0m\u001b[0m\n\u001b[1;32m   2359\u001b[0m             raise AttributeError(\"'%s' object has no attribute '%s'\" %\n\u001b[0;32m-> 2360\u001b[0;31m                                  (type(self).__name__, name))\n\u001b[0m\u001b[1;32m   2361\u001b[0m \u001b[0;34m\u001b[0m\u001b[0m\n\u001b[1;32m   2362\u001b[0m     \u001b[0;32mdef\u001b[0m \u001b[0m__setattr__\u001b[0m\u001b[0;34m(\u001b[0m\u001b[0mself\u001b[0m\u001b[0;34m,\u001b[0m \u001b[0mname\u001b[0m\u001b[0;34m,\u001b[0m \u001b[0mvalue\u001b[0m\u001b[0;34m)\u001b[0m\u001b[0;34m:\u001b[0m\u001b[0;34m\u001b[0m\u001b[0m\n",
      "\u001b[0;31mAttributeError\u001b[0m: 'DataFrame' object has no attribute 'predict'"
     ]
    },
    {
     "data": {
      "image/png": "[encoded data removed]",
      "text/plain": [
       "<matplotlib.figure.Figure at 0x122558dd0>"
      ]
     },
     "metadata": {},
     "output_type": "display_data"
    }
   ],
   "source": [
    "#standardized lasso model\n",
    "\n",
    "lcv = linear_model.LassoCV()\n",
    "lcv_model = lcv.fit(X_train, y_train)\n",
    "y_lasso_predicted = lcv_model.predict(X_test)\n",
    "lcv_r2 =  r2_score(y_true=y_test, y_pred=y_predicted)\n",
    "lcv_r2\n",
    "\n",
    "plt.scatter(y_test, y_lasso_predicted) #compare the hold-out observed y values to the predictions (made with model from test data)\n",
    "plt.xlabel(\"True Values\")\n",
    "plt.ylabel(\"Lasso Predictions\")\n",
    "\n",
    "print \"Score:\", lcv_model.score(X_test, y_test)\n",
    "\n",
    "print(lcv_model.alpha_, #this returns optimal alpha for dataset\n",
    "abs(lcv_model.coef_))\n",
    "\n",
    "# final_predicts = ia.predict(modelname, X)"
   ]
  },
  {
   "cell_type": "code",
   "execution_count": null,
   "metadata": {
    "collapsed": true
   },
   "outputs": [],
   "source": [
    "#iterate through r2 or mse a bunch\n",
    "\n",
    "for i in range(1000):\n",
    "    cross_val_list = []\n",
    "    n = cross_val_score(lasso, X, y, n_jobs=1, cv=5, scoring='r2').mean()\n",
    "    cross_val_list.append(n)\n",
    "print(np.mean(cross_val_list))\n",
    "\n",
    "\n",
    "# cross_val_score(lr, X, y, n_jobs=1, cv=5,\n",
    "#                 scoring='mean_squared_error').mean()"
   ]
  },
  {
   "cell_type": "code",
   "execution_count": 22,
   "metadata": {
    "collapsed": false
   },
   "outputs": [
    {
     "name": "stderr",
     "output_type": "stream",
     "text": [
      "/Users/HudsonCavanagh/anaconda/lib/python2.7/site-packages/sklearn/linear_model/coordinate_descent.py:1051: DataConversionWarning: A column-vector y was passed when a 1d array was expected. Please change the shape of y to (n_samples, ), for example using ravel().\n",
      "  y = column_or_1d(y, warn=True)\n",
      "/Users/HudsonCavanagh/anaconda/lib/python2.7/site-packages/sklearn/linear_model/coordinate_descent.py:1051: DataConversionWarning: A column-vector y was passed when a 1d array was expected. Please change the shape of y to (n_samples, ), for example using ravel().\n",
      "  y = column_or_1d(y, warn=True)\n",
      "/Users/HudsonCavanagh/anaconda/lib/python2.7/site-packages/sklearn/linear_model/coordinate_descent.py:1051: DataConversionWarning: A column-vector y was passed when a 1d array was expected. Please change the shape of y to (n_samples, ), for example using ravel().\n",
      "  y = column_or_1d(y, warn=True)\n",
      "/Users/HudsonCavanagh/anaconda/lib/python2.7/site-packages/sklearn/linear_model/coordinate_descent.py:1051: DataConversionWarning: A column-vector y was passed when a 1d array was expected. Please change the shape of y to (n_samples, ), for example using ravel().\n",
      "  y = column_or_1d(y, warn=True)\n"
     ]
    },
    {
     "name": "stdout",
     "output_type": "stream",
     "text": [
      "('R sq for Lasso Reg is:', 0.26385748680956544)\n",
      "('cross validated r^2:', 0.16049592505725241)"
     ]
    },
    {
     "name": "stderr",
     "output_type": "stream",
     "text": [
      "/Users/HudsonCavanagh/anaconda/lib/python2.7/site-packages/sklearn/linear_model/coordinate_descent.py:1051: DataConversionWarning: A column-vector y was passed when a 1d array was expected. Please change the shape of y to (n_samples, ), for example using ravel().\n",
      "  y = column_or_1d(y, warn=True)\n",
      "/Users/HudsonCavanagh/anaconda/lib/python2.7/site-packages/sklearn/linear_model/coordinate_descent.py:1051: DataConversionWarning: A column-vector y was passed when a 1d array was expected. Please change the shape of y to (n_samples, ), for example using ravel().\n",
      "  y = column_or_1d(y, warn=True)\n",
      "/Users/HudsonCavanagh/anaconda/lib/python2.7/site-packages/sklearn/linear_model/coordinate_descent.py:1051: DataConversionWarning: A column-vector y was passed when a 1d array was expected. Please change the shape of y to (n_samples, ), for example using ravel().\n",
      "  y = column_or_1d(y, warn=True)\n",
      "/Users/HudsonCavanagh/anaconda/lib/python2.7/site-packages/sklearn/linear_model/coordinate_descent.py:1051: DataConversionWarning: A column-vector y was passed when a 1d array was expected. Please change the shape of y to (n_samples, ), for example using ravel().\n",
      "  y = column_or_1d(y, warn=True)\n"
     ]
    },
    {
     "name": "stdout",
     "output_type": "stream",
     "text": [
      "\n",
      "('r^2 w/o cross-validation', 0.26385748680956544)\n",
      "('cross validated MSE (sign flipped):', 1628.1155526679199)\n",
      "('MSE w/o cross-validation', 0.26385748680956544)\n"
     ]
    },
    {
     "name": "stderr",
     "output_type": "stream",
     "text": [
      "/Users/HudsonCavanagh/anaconda/lib/python2.7/site-packages/sklearn/linear_model/coordinate_descent.py:1051: DataConversionWarning: A column-vector y was passed when a 1d array was expected. Please change the shape of y to (n_samples, ), for example using ravel().\n",
      "  y = column_or_1d(y, warn=True)\n",
      "/Users/HudsonCavanagh/anaconda/lib/python2.7/site-packages/sklearn/linear_model/coordinate_descent.py:1051: DataConversionWarning: A column-vector y was passed when a 1d array was expected. Please change the shape of y to (n_samples, ), for example using ravel().\n",
      "  y = column_or_1d(y, warn=True)\n",
      "/Users/HudsonCavanagh/anaconda/lib/python2.7/site-packages/sklearn/linear_model/coordinate_descent.py:1051: DataConversionWarning: A column-vector y was passed when a 1d array was expected. Please change the shape of y to (n_samples, ), for example using ravel().\n",
      "  y = column_or_1d(y, warn=True)\n"
     ]
    }
   ],
   "source": [
    "# sample code for cross_validated output\n",
    "\n",
    "\n",
    "X_train, X_test, y_train, y_test = train_test_split(q1_X, q234_Y, test_size=.4)\n",
    "\n",
    "lcv_model = lcv.fit(X_train, y_train)\n",
    "lcv_pred = lcv.predict(X_test)\n",
    "lasso_r2 =  r2_score(y_true=y_test, y_pred=lcv_pred)\n",
    "print(\"R sq for Lasso Reg is:\", lasso_r2)\n",
    "\n",
    "print(\"cross validated r^2:\", np.mean(cross_val_score(lcv_model, X_test, y_test, scoring='r2', cv=5)))\n",
    "print(\"r^2 w/o cross-validation\", (lcv_model.score(X_test,y_test)))\n",
    "print(\"cross validated MSE (sign flipped):\", -np.mean(cross_val_score(lcv_model, X_test, y_test, scoring='mean_squared_error', cv=5)))\n",
    "print(\"MSE w/o cross-validation\", (lcv_model.score(X_test,y_test)))\n",
    "\n",
    "# mse\n",
    "# bar\n",
    "# bias"
   ]
  },
  {
   "cell_type": "code",
   "execution_count": 23,
   "metadata": {
    "collapsed": false
   },
   "outputs": [
    {
     "name": "stdout",
     "output_type": "stream",
     "text": [
      "RMSE:"
     ]
    },
    {
     "ename": "NameError",
     "evalue": "name 'ys' is not defined",
     "output_type": "error",
     "traceback": [
      "\u001b[0;31m---------------------------------------------------------------------------\u001b[0m",
      "\u001b[0;31mNameError\u001b[0m                                 Traceback (most recent call last)",
      "\u001b[0;32m<ipython-input-23-d4db11921eec>\u001b[0m in \u001b[0;36m<module>\u001b[0;34m()\u001b[0m\n\u001b[1;32m      2\u001b[0m \u001b[0;34m\u001b[0m\u001b[0m\n\u001b[1;32m      3\u001b[0m \u001b[0;32mfrom\u001b[0m \u001b[0msklearn\u001b[0m\u001b[0;34m.\u001b[0m\u001b[0mmetrics\u001b[0m \u001b[0;32mimport\u001b[0m \u001b[0mmean_squared_error\u001b[0m\u001b[0;34m,\u001b[0m \u001b[0mmean_absolute_error\u001b[0m\u001b[0;34m\u001b[0m\u001b[0m\n\u001b[0;32m----> 4\u001b[0;31m \u001b[0;32mprint\u001b[0m \u001b[0;34m\"RMSE:\"\u001b[0m\u001b[0;34m,\u001b[0m \u001b[0mmean_squared_error\u001b[0m\u001b[0;34m(\u001b[0m\u001b[0mys\u001b[0m\u001b[0;34m,\u001b[0m \u001b[0mpredictions\u001b[0m\u001b[0;34m)\u001b[0m\u001b[0;34m\u001b[0m\u001b[0m\n\u001b[0m\u001b[1;32m      5\u001b[0m \u001b[0;32mprint\u001b[0m \u001b[0;34m\"MAE:\"\u001b[0m\u001b[0;34m,\u001b[0m \u001b[0mmean_absolute_error\u001b[0m\u001b[0;34m(\u001b[0m\u001b[0mys\u001b[0m\u001b[0;34m,\u001b[0m \u001b[0mpredictions\u001b[0m\u001b[0;34m)\u001b[0m\u001b[0;34m\u001b[0m\u001b[0m\n",
      "\u001b[0;31mNameError\u001b[0m: name 'ys' is not defined"
     ]
    }
   ],
   "source": [
    "###LOSS FUNCTIONS\n",
    "\n",
    "from sklearn.metrics import mean_squared_error, mean_absolute_error\n",
    "print \"RMSE:\", mean_squared_error(ys, predictions)\n",
    "print \"MAE:\", mean_absolute_error(ys, predictions)"
   ]
  },
  {
   "cell_type": "code",
   "execution_count": null,
   "metadata": {
    "collapsed": true
   },
   "outputs": [],
   "source": [
    "#QUANT REG\n",
    "\n",
    "df = pd.DataFrame(np.array([xs, ys]).transpose(), columns=[\"x\", \"y\"])\n",
    "df.columns = [\"x\", \"y\"]\n",
    "mod = smf.quantreg('y ~ x', df)\n",
    "res = mod.fit(q=.5)\n",
    "print(res.summary())\n",
    "\n",
    "\n"
   ]
  },
  {
   "cell_type": "code",
   "execution_count": null,
   "metadata": {
    "collapsed": true
   },
   "outputs": [],
   "source": [
    "#HELPFUL FUNCTIONS\n",
    "\n",
    "# Gradient Descent/ Optimizing Functions:\n",
    "    \n",
    "    \n",
    "def mean_squared_error(y_true, x, beta0, beta1):\n",
    "    y_pred = beta0 + x * beta1\n",
    "    mean_sq_err = np.mean((y_true - y_pred)**2)\n",
    "    return mean_sq_err\n",
    "\n",
    "def gradient_update(y, x, beta0, beta1, step_size):\n",
    "    \n",
    "    beta0_gradient = 0\n",
    "    beta1_gradient = 0\n",
    "    \n",
    "    N = float(len(y))\n",
    "    \n",
    "    for i in range(len(y)):\n",
    "        \n",
    "        # add to the beta0 gradient for each x,y using the partial derivative with respect to beta0\n",
    "        beta0_gradient += (2./N * -1 * (y[i] - (beta0 + beta1*x[i])))\n",
    "        \n",
    "        # add to the beta1 gradient for each x,y using the partial derivative with respect to beta1\n",
    "        beta1_gradient += (2./N * -1 * x[i] * (y[i] - (beta0 + beta1*x[i])))\n",
    "        \n",
    "    # update beta0 and beta1:\n",
    "    beta0 = beta0 - (step_size * beta0_gradient) #subtracting because we want to move in the opposite direction of the gradient\n",
    "    #this is because we want to minimize function\n",
    "    beta1 = beta1 - (step_size * beta1_gradient)\n",
    "    \n",
    "    return [beta0, beta1]\n",
    "\n",
    "\n",
    "\n",
    "def gradient_descent_iterator(y, x, beta0, beta1, step_size=.0001, iterations=500):\n",
    "    \n",
    "    mean_squared_errors = []\n",
    "    mean_squared_errors.append(mean_squared_error(y, x, beta0, beta1))\n",
    "    \n",
    "    beta0s = [beta0]\n",
    "    beta1s = [beta1]\n",
    "    \n",
    "    for i in range(iterations):\n",
    "        [beta0, beta1] = gradient_update(y, x, beta0, beta1, step_size)\n",
    "        mean_squared_errors.append(mean_squared_error(y, x, beta0, beta1))\n",
    "        beta0s.append(beta0)\n",
    "        beta1s.append(beta1)\n",
    "        \n",
    "    return [mean_squared_errors, beta0s, beta1s]\n",
    "\n",
    "\n",
    "\n",
    "# format for runnning the above 3 functions:\n",
    "    \n",
    "x = np.random.random_sample(100)*100\n",
    "y = x + np.random.normal(np.random.normal(0,15), 30, size=100) + 100\n",
    "\n",
    "plt.figure(figsize=(10,8))\n",
    "\n",
    "plt.scatter(x, y, s=70, c='steelblue')\n",
    "\n",
    "plt.show()\n",
    "\n",
    "\n",
    "\n",
    "### Plotting functions from earlier (nonessential)\n",
    "\n",
    "\n",
    "\n",
    "def plot_regression(x, y, model):\n",
    "    plt.figure(figsize=(10,8))\n",
    "    axes = plt.gca()\n",
    "    \n",
    "    intercept = model.params[0]\n",
    "    slope = model.params[1]\n",
    "\n",
    "    for x_, y_ in zip(x, y):    \n",
    "        plt.plot((x_, x_), (y_, x_*slope + intercept),\n",
    "                 'k-', ls='dashed', lw=1)\n",
    "        \n",
    "    plt.scatter(x, y, s=70, c='steelblue')\n",
    "    \n",
    "    x_points = np.linspace(axes.get_xlim()[0], axes.get_xlim()[1], 100)\n",
    "    \n",
    "    regline_x = x_points\n",
    "    regline_y = x_points*slope + intercept\n",
    "\n",
    "    plt.plot(regline_x, regline_y, c='darkred', lw=3.5)\n",
    "\n",
    "    plt.show()\n",
    "    \n",
    "    \n",
    "def plot_leastsq_loss(model):\n",
    "    plt.figure(figsize=(10,8))\n",
    "    \n",
    "    resids = model.resid\n",
    "    \n",
    "    resid_lim = np.max([abs(np.min(resids)), abs(np.max(resids))]) + 1\n",
    "    \n",
    "    resid_points = np.linspace(-1*resid_lim, resid_lim, 200)\n",
    "    \n",
    "    for r in resids:\n",
    "        plt.plot((r, r), (0, r**2), 'k-', ls='dashed', lw=2)\n",
    "        \n",
    "    plt.plot(resid_points, resid_points**2, c='gold', alpha=0.7)\n",
    "    \n",
    "\n",
    "def plot_residuals_ladloss(model):\n",
    "    \n",
    "    resids = model.resid\n",
    "    \n",
    "    resid_lim = np.max([abs(np.min(resids)), abs(np.max(resids))]) + 1\n",
    "    \n",
    "    resid_points = np.linspace(-1*resid_lim, resid_lim, 200)\n",
    "    \n",
    "    plt.figure(figsize=(10,8))\n",
    "    \n",
    "    for r in resids:\n",
    "        \n",
    "        plt.plot((r, r), (0, abs(r)), 'k-', ls='dashed', lw=1)\n",
    "        \n",
    "    plt.plot(resid_points, np.abs(resid_points), c='gold', alpha=0.7)\n",
    "    \n",
    "    \n",
    "    \n",
    "    \n",
    "    \n",
    "##REMINDER OF NEXT STEPS:\n",
    "#from http://localhost:8888/notebooks/week03/loss-functions-regression-metrics-practice.ipynb\n",
    "# 4: Choose a continuous response variable and predictor variable from the dataset\n",
    "# 5: Choose a small subset of the predictor and response variables you chose\n",
    "# 6. Build a least squares regression model predicting your response from your predictors\n",
    "# plot_regression(x, y, model)\n",
    "# 7. Plot the least squares regression\n",
    "# 8. Build a least absolute deviation quantreg model on the same sample\n",
    "# Plot the LAD regression\n",
    "\n",
    "# 10. Calculate the RMSE and the MAE between you response and predicted response\n",
    "\n"
   ]
  },
  {
   "cell_type": "code",
   "execution_count": null,
   "metadata": {
    "collapsed": true
   },
   "outputs": [],
   "source": [
    "# FUll run-through of gradient descent iteration (redundant with some code above):\n",
    "    \n",
    "def func(x):    #this needs to be modified to whatever the specific function is\n",
    "    if x <= 1:\n",
    "        return 2 * x * x\n",
    "    return 2\n",
    "\n",
    "def gradient(x): #this needs to be the derivative of the func\n",
    "    if x <= 1:\n",
    "        return 4 * x\n",
    "    return 0\n",
    "\n",
    "def gradient_descent(x, l=0.1):\n",
    "    vector = np.array(x)\n",
    "    return vector - l * np.array(gradient(x))\n",
    "\n",
    "\n",
    "def iterate(x0, n=10):\n",
    "    xs = [x0]\n",
    "    ys = [func(x0)]\n",
    "    for i in range(n):\n",
    "        x = gradient_descent(xs[-1], l=0.1)\n",
    "        xs.append(x)\n",
    "        ys.append(func(x))\n",
    "    return xs, ys    \n",
    "\n",
    "\n",
    "xs = np.arange(-2, 3, 0.1)\n",
    "ys = map(func, xs)\n",
    "\n",
    "plt.figure(figsize=(10,8))\n",
    "plt.plot(xs, ys, alpha=0.5, ls='dashed')\n",
    "\n",
    "# Start gradient descent at x = -1.5\n",
    "xs2, ys2 = iterate(-1.5, n=100)\n",
    "plt.scatter(xs2, ys2, c='r', s=100)\n",
    "\n",
    "# Start gradient descent at x = 2; where does it go?\n",
    "xs2, ys2 = iterate(2, n=100)\n",
    "plt.scatter(xs2, ys2, c='y', s=300)"
   ]
  },
  {
   "cell_type": "markdown",
   "metadata": {},
   "source": [
    "## Plot your results\n",
    "\n",
    "Again make sure that you record any valuable information. For example, in the tax scenario, did you find the sales from the first three months of the year to be a good predictor of the total sales for the year? Plot the predictions versus the true values and discuss the successes and limitations of your models"
   ]
  },
  {
   "cell_type": "code",
   "execution_count": null,
   "metadata": {
    "collapsed": true
   },
   "outputs": [],
   "source": [
    "# Plot the data and the best fit line\n",
    "## The data\n",
    "plt.scatter(X, y)\n",
    "## The line / model\n",
    "plt.plot(X, predictions)\n",
    "\n",
    "plt.show()\n",
    "print \"r^2:\", model.score(X, y)\n",
    "print \"RMSE:\", mean_squared_error(ys, predictions)\n",
    "print \"MAE:\", mean_absolute_error(ys, predictions)\n",
    "print \"Coefficients:\", model.coef_, model.intercept_"
   ]
  },
  {
   "cell_type": "markdown",
   "metadata": {},
   "source": [
    "# Present the Results\n",
    "\n",
    "Present your conclusions and results. If you have more than one interesting model feel free to include more than one along with a discussion. Use your work in this notebook to prepare your write-up."
   ]
  },
  {
   "cell_type": "code",
   "execution_count": null,
   "metadata": {
    "collapsed": true
   },
   "outputs": [],
   "source": []
  }
 ],
 "metadata": {
  "kernelspec": {
   "display_name": "Python 2",
   "language": "python",
   "name": "python2"
  },
  "language_info": {
   "codemirror_mode": {
    "name": "ipython",
    "version": 2
   },
   "file_extension": ".py",
   "mimetype": "text/x-python",
   "name": "python",
   "nbconvert_exporter": "python",
   "pygments_lexer": "ipython2",
   "version": "2.7.11"
  }
 },
 "nbformat": 4,
 "nbformat_minor": 0
}
