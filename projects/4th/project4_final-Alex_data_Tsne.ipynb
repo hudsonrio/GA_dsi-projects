{
 "cells": [
  {
   "cell_type": "markdown",
   "metadata": {
    "focus": false,
    "id": "69b9a648-bcc7-490d-9f9b-ea244d156bd6"
   },
   "source": [
    "# Web Scraping for Indeed.com & Predicting Salaries"
   ]
  },
  {
   "cell_type": "markdown",
   "metadata": {
    "focus": false,
    "id": "34681254-c802-462f-829d-8894d0772d08"
   },
   "source": [
    "In this project, we will practice two major skills: collecting data by scraping a website and then building a binary predictor with Logistic Regression.\n",
    "\n",
    "We are going to collect salary information on data science jobs in a variety of markets. Then using the location, title and summary of the job we will attempt to predict the salary of the job. For job posting sites, this would be extraordinarily useful. While most listings DO NOT come with salary information (as you will see in this exercise), being to able extrapolate or predict the expected salaries from other listings can help guide negotiations.\n",
    "\n",
    "Normally, we could use regression for this task; however, we will convert this problem into classification and use Logistic Regression.\n",
    "\n",
    "- Question: Why would we want this to be a classification problem?\n",
    "- Answer: While more precision may be better, there is a fair amount of natural variance in job salaries - predicting a range be may be useful.\n",
    "\n",
    "Therefore, the first part of the assignment will be focused on scraping Indeed.com. In the second, we'll focus on using listings with salary information to build a model and predict additional salaries."
   ]
  },
  {
   "cell_type": "markdown",
   "metadata": {
    "focus": false,
    "id": "a948d79c-5527-4c0d-ab23-f5d43ce72056"
   },
   "source": [
    "### Scraping job listings from Indeed.com"
   ]
  },
  {
   "cell_type": "markdown",
   "metadata": {
    "focus": true,
    "id": "7203e0c9-e437-4802-a6ad-7dc464f94436"
   },
   "source": [
    "We will be scraping job listings from Indeed.com using BeautifulSoup. Luckily, Indeed.com is a simple text page where we can easily find relevant entries.\n",
    "\n",
    "First, look at the source of an Indeed.com page: (http://www.indeed.com/jobs?q=data+scientist+%2420%2C000&l=New+York&start=10\")\n",
    "\n",
    "Notice, each job listing is underneath a `div` tag with a class name of `result`. We can use BeautifulSoup to extract those. "
   ]
  },
  {
   "cell_type": "markdown",
   "metadata": {
    "focus": false,
    "id": "9732c901-ae26-4160-8376-42e22dd327df"
   },
   "source": [
    "#### Setup a request (using `requests`) to the URL below. Use BeautifulSoup to parse the page and extract all results (HINT: Look for div tags with class name result)"
   ]
  },
  {
   "cell_type": "code",
   "execution_count": null,
   "metadata": {
    "collapsed": false,
    "focus": false,
    "id": "e915023e-6b0d-4982-af2a-b1e0355f4927"
   },
   "outputs": [],
   "source": []
  },
  {
   "cell_type": "code",
   "execution_count": 1,
   "metadata": {
    "collapsed": true,
    "focus": false,
    "id": "2efefc73-064a-482d-b3b5-ddf5508cb4ec"
   },
   "outputs": [],
   "source": [
    "import requests\n",
    "import bs4\n",
    "from bs4 import BeautifulSoup\n",
    "from __future__ import division, print_function\n",
    "\n",
    "import requests\n",
    "from bs4 import BeautifulSoup\n",
    "from selenium import webdriver\n",
    "\n",
    "import pandas as pd\n",
    "import numpy as np\n",
    "\n",
    "from IPython.core.display import HTML, Image"
   ]
  },
  {
   "cell_type": "code",
   "execution_count": null,
   "metadata": {
    "collapsed": false,
    "focus": false,
    "id": "2c6752c4-7704-4c94-8bc0-6f13d2d0d570"
   },
   "outputs": [],
   "source": []
  },
  {
   "cell_type": "code",
   "execution_count": null,
   "metadata": {
    "collapsed": false
   },
   "outputs": [],
   "source": []
  },
  {
   "cell_type": "code",
   "execution_count": null,
   "metadata": {
    "collapsed": false
   },
   "outputs": [],
   "source": []
  },
  {
   "cell_type": "code",
   "execution_count": null,
   "metadata": {
    "collapsed": false
   },
   "outputs": [],
   "source": []
  },
  {
   "cell_type": "markdown",
   "metadata": {
    "focus": false,
    "id": "f1eddb90-4ba8-483c-a229-77e93aa53119"
   },
   "source": [
    "### Write 4 functions to extract each item: location, company, job, and salary.\n",
    "\n",
    "example: \n",
    "```python\n",
    "def extract_location_from_result(result):\n",
    "    return result.find ...\n",
    "```\n",
    "\n",
    "\n",
    "- Make sure these functions are robust and can handle cases where the data/field may not be available.\n",
    "- Test the functions on the results above\n",
    "- Include any other features you may want to use later (e.g. summary, #of reviews...)"
   ]
  },
  {
   "cell_type": "code",
   "execution_count": null,
   "metadata": {
    "collapsed": false,
    "focus": false,
    "id": "a1af53c9-9090-494f-b82e-cadb60a54909"
   },
   "outputs": [],
   "source": []
  },
  {
   "cell_type": "markdown",
   "metadata": {
    "focus": false,
    "id": "34070e89-9521-4b45-90c8-57a6599aac68"
   },
   "source": [
    "Now, to scale up our scraping, we need to accumulate more results. We can do this by examining the URL above.\n",
    "\n",
    "- \"http://www.indeed.com/jobs?q=data+scientist+%2420%2C000&l=New+York&start=10\"\n",
    "\n",
    "There are two query parameters here we can alter to collect more results, the `l=New+York` and the `start=10`. The first controls the location of the results (so we can try a different city). The second controls where in the results to start and gives 10 results (thus, we can keep incrementing by 10 to go further in the list)."
   ]
  },
  {
   "cell_type": "markdown",
   "metadata": {
    "focus": false,
    "id": "e8beed7c-3e42-40c0-810f-5f67f8f885a0"
   },
   "source": [
    "### Complete the following code to collect results from multiple cities and starting points. \n",
    "- Indeed.com only has salary information for an estimated 20% of job postings. You may want to add other cities to the list below to gather more data. \n",
    "- Remember to convert your salary to U.S. Dollars to match the other cities if the currency is different"
   ]
  },
  {
   "cell_type": "code",
   "execution_count": null,
   "metadata": {
    "collapsed": false,
    "focus": false,
    "id": "04b0f9af-540e-402f-8292-81748707c676"
   },
   "outputs": [],
   "source": []
  },
  {
   "cell_type": "code",
   "execution_count": 2,
   "metadata": {
    "collapsed": true
   },
   "outputs": [],
   "source": [
    "results = pd.read_csv('/Users/HudsonCavanagh/Documents/indeed-scraped-job-postings.csv')\n",
    "results = pd.DataFrame(results)"
   ]
  },
  {
   "cell_type": "markdown",
   "metadata": {
    "focus": false,
    "id": "20339c09-5032-4e27-91be-286e9b46cd13"
   },
   "source": [
    "#### Use the functions you wrote above to parse out the 4 fields - location, title, company and salary. Create a dataframe from the results with those 4 columns."
   ]
  },
  {
   "cell_type": "code",
   "execution_count": null,
   "metadata": {
    "collapsed": false,
    "focus": false,
    "id": "6e259594-1c52-436b-ab9e-527e071941c1"
   },
   "outputs": [],
   "source": [
    "\n"
   ]
  },
  {
   "cell_type": "markdown",
   "metadata": {
    "focus": false,
    "id": "ff98ce64-78a7-441f-a675-63464e32c834"
   },
   "source": [
    "Lastly, we need to clean up salary data. \n",
    "1. Some of the salaries are not yearly but hourly, these will be useful to us for now 2. The salaries are given as text and usually with ranges.\n",
    "\n",
    "#### Filter out the salaries that are not yearly (filter those that refer to hour)"
   ]
  },
  {
   "cell_type": "code",
   "execution_count": 3,
   "metadata": {
    "collapsed": false,
    "focus": false,
    "id": "58533e57-f86b-494a-b841-e7b59c6229c6"
   },
   "outputs": [
    {
     "data": {
      "text/html": [
       "<div>\n",
       "<table border=\"1\" class=\"dataframe\">\n",
       "  <thead>\n",
       "    <tr style=\"text-align: right;\">\n",
       "      <th></th>\n",
       "      <th>city</th>\n",
       "      <th>company</th>\n",
       "      <th>salary</th>\n",
       "      <th>summary</th>\n",
       "      <th>title</th>\n",
       "      <th>parsed_salary</th>\n",
       "    </tr>\n",
       "  </thead>\n",
       "  <tbody>\n",
       "    <tr>\n",
       "      <th>0</th>\n",
       "      <td>San+Francisco</td>\n",
       "      <td>MarkMonitor</td>\n",
       "      <td>$180,000 a year</td>\n",
       "      <td>Data skills (SQL, Hive, Pig). Applying machine...</td>\n",
       "      <td>Data Scientist</td>\n",
       "      <td>180000</td>\n",
       "    </tr>\n",
       "    <tr>\n",
       "      <th>1</th>\n",
       "      <td>San+Francisco</td>\n",
       "      <td>Workbridge Associates</td>\n",
       "      <td>$130,000 - $180,000 a year</td>\n",
       "      <td>3+ years of industry experience in a data scie...</td>\n",
       "      <td>Senior Data Scientist</td>\n",
       "      <td>155000</td>\n",
       "    </tr>\n",
       "    <tr>\n",
       "      <th>2</th>\n",
       "      <td>San+Francisco</td>\n",
       "      <td>Mines.io</td>\n",
       "      <td>$80,000 - $120,000 a year</td>\n",
       "      <td>We are looking for a data scientist/developer ...</td>\n",
       "      <td>Full-Stack Data Scientist</td>\n",
       "      <td>100000</td>\n",
       "    </tr>\n",
       "    <tr>\n",
       "      <th>3</th>\n",
       "      <td>San+Francisco</td>\n",
       "      <td>Workbridge Associates</td>\n",
       "      <td>$150,000 - $180,000 a year</td>\n",
       "      <td>In this position you will share programming an...</td>\n",
       "      <td>Data Scientist</td>\n",
       "      <td>165000</td>\n",
       "    </tr>\n",
       "    <tr>\n",
       "      <th>4</th>\n",
       "      <td>San+Francisco</td>\n",
       "      <td>Smith Hanley Associates</td>\n",
       "      <td>$140,000 a year</td>\n",
       "      <td>This person will recruit, build and lead a tea...</td>\n",
       "      <td>Data Scientist</td>\n",
       "      <td>140000</td>\n",
       "    </tr>\n",
       "    <tr>\n",
       "      <th>5</th>\n",
       "      <td>San+Francisco</td>\n",
       "      <td>HSF Consulting</td>\n",
       "      <td>$300,000 a year</td>\n",
       "      <td>Teams included Data Services(including data en...</td>\n",
       "      <td>VP of Data Services</td>\n",
       "      <td>300000</td>\n",
       "    </tr>\n",
       "    <tr>\n",
       "      <th>6</th>\n",
       "      <td>San+Francisco</td>\n",
       "      <td>All-In Analytics</td>\n",
       "      <td>$100,000 - $150,000 a year</td>\n",
       "      <td>Fraud Data Scientist. Seeking someone with ski...</td>\n",
       "      <td>Fraud Data Scientist</td>\n",
       "      <td>125000</td>\n",
       "    </tr>\n",
       "    <tr>\n",
       "      <th>7</th>\n",
       "      <td>San+Francisco</td>\n",
       "      <td>Brilent</td>\n",
       "      <td>$130,000 a year</td>\n",
       "      <td>Perform large-scale data analysis, find intere...</td>\n",
       "      <td>Senior Data Scientist</td>\n",
       "      <td>130000</td>\n",
       "    </tr>\n",
       "    <tr>\n",
       "      <th>8</th>\n",
       "      <td>San+Francisco</td>\n",
       "      <td>HSF Consulting</td>\n",
       "      <td>$160,000 a year</td>\n",
       "      <td>More data- they simply have more data than the...</td>\n",
       "      <td>Senior Data Scientist</td>\n",
       "      <td>160000</td>\n",
       "    </tr>\n",
       "    <tr>\n",
       "      <th>9</th>\n",
       "      <td>San+Francisco</td>\n",
       "      <td>All-In Analytics</td>\n",
       "      <td>$100,000 - $150,000 a year</td>\n",
       "      <td>Fraud Data Scientist. Seeking someone with ski...</td>\n",
       "      <td>Fraud Data Scientist</td>\n",
       "      <td>125000</td>\n",
       "    </tr>\n",
       "  </tbody>\n",
       "</table>\n",
       "</div>"
      ],
      "text/plain": [
       "            city                  company                      salary  \\\n",
       "0  San+Francisco              MarkMonitor             $180,000 a year   \n",
       "1  San+Francisco    Workbridge Associates  $130,000 - $180,000 a year   \n",
       "2  San+Francisco                 Mines.io   $80,000 - $120,000 a year   \n",
       "3  San+Francisco    Workbridge Associates  $150,000 - $180,000 a year   \n",
       "4  San+Francisco  Smith Hanley Associates             $140,000 a year   \n",
       "5  San+Francisco           HSF Consulting             $300,000 a year   \n",
       "6  San+Francisco         All-In Analytics  $100,000 - $150,000 a year   \n",
       "7  San+Francisco                  Brilent             $130,000 a year   \n",
       "8  San+Francisco           HSF Consulting             $160,000 a year   \n",
       "9  San+Francisco         All-In Analytics  $100,000 - $150,000 a year   \n",
       "\n",
       "                                             summary  \\\n",
       "0  Data skills (SQL, Hive, Pig). Applying machine...   \n",
       "1  3+ years of industry experience in a data scie...   \n",
       "2  We are looking for a data scientist/developer ...   \n",
       "3  In this position you will share programming an...   \n",
       "4  This person will recruit, build and lead a tea...   \n",
       "5  Teams included Data Services(including data en...   \n",
       "6  Fraud Data Scientist. Seeking someone with ski...   \n",
       "7  Perform large-scale data analysis, find intere...   \n",
       "8  More data- they simply have more data than the...   \n",
       "9  Fraud Data Scientist. Seeking someone with ski...   \n",
       "\n",
       "                       title  parsed_salary  \n",
       "0             Data Scientist         180000  \n",
       "1      Senior Data Scientist         155000  \n",
       "2  Full-Stack Data Scientist         100000  \n",
       "3             Data Scientist         165000  \n",
       "4             Data Scientist         140000  \n",
       "5        VP of Data Services         300000  \n",
       "6       Fraud Data Scientist         125000  \n",
       "7      Senior Data Scientist         130000  \n",
       "8      Senior Data Scientist         160000  \n",
       "9       Fraud Data Scientist         125000  "
      ]
     },
     "execution_count": 3,
     "metadata": {},
     "output_type": "execute_result"
    }
   ],
   "source": [
    "import numpy as np\n",
    "            \n",
    "# results['annual_salary'] = results['salary']\n",
    "\n",
    "# results_nan = results.replace({None:np.NaN})\n",
    "# results = pd.DataFrame(results_nan)\n",
    "# results = results.drop_duplicates(inplace=1)\n",
    "results.head(10)\n",
    "            "
   ]
  },
  {
   "cell_type": "code",
   "execution_count": null,
   "metadata": {
    "collapsed": false
   },
   "outputs": [],
   "source": []
  },
  {
   "cell_type": "code",
   "execution_count": 4,
   "metadata": {
    "collapsed": false
   },
   "outputs": [],
   "source": [
    "def salary_clean(string):\n",
    "    if type(string) == float:\n",
    "        return np.NaN\n",
    "    elif string == np.NaN:\n",
    "        return np.NaN\n",
    "    else:\n",
    "        try:\n",
    "            return((string.split(\"<nobr>\")[1]).split(\"</nobr>\")[0])\n",
    "        except (TypeError, IndexError): \n",
    "            return np.NaN\n",
    "\n"
   ]
  },
  {
   "cell_type": "code",
   "execution_count": 5,
   "metadata": {
    "collapsed": false
   },
   "outputs": [],
   "source": [
    "# print(results['salary'].isnull().value_counts()) #only 62 salaries in here it appears\n"
   ]
  },
  {
   "cell_type": "markdown",
   "metadata": {
    "focus": false,
    "id": "7d4bc860-b214-4f75-9cd0-b234830b1ec2"
   },
   "source": [
    "#### Write a function that takes a salary string and converts it to a number, averaging a salary range if necessary"
   ]
  },
  {
   "cell_type": "code",
   "execution_count": 6,
   "metadata": {
    "collapsed": false
   },
   "outputs": [],
   "source": [
    "import re\n",
    "import string \n",
    "\n",
    "def salarizer(salary):  \n",
    "    '''remove all non-numeric characters from salary strings for non-null vals '''\n",
    "    if pd.isnull(salary) == False:\n",
    "        salary = salary.translate(None, \"$|anmonthhurye,dwk \")\n",
    "        return(salary) \n",
    "    else:\n",
    "        return np.NaN\n",
    "\n",
    "    \n",
    "\n",
    "\n",
    "def salary_average(salary): \n",
    "    '''if a salary range, take the average, otherwise return the number'''\n",
    "    float_sal_list = []\n",
    "    try:\n",
    "        salary_str = str(salary)\n",
    "        sal_list = str.split(salary_str, \"-\")\n",
    "        for item in sal_list:\n",
    "            try:\n",
    "                float_sal_list.append(float(item))\n",
    "            except ValueError:\n",
    "                return salary\n",
    "        if len(float_sal_list) > 1:\n",
    "            avg_sal = sum(float_sal_list)/float(len(float_sal_list))\n",
    "            return(avg_sal)\n",
    "        else:\n",
    "            return float(salary)\n",
    "    except IndexError:\n",
    "        return np.NaN\n",
    "    "
   ]
  },
  {
   "cell_type": "code",
   "execution_count": null,
   "metadata": {
    "collapsed": false
   },
   "outputs": [],
   "source": []
  },
  {
   "cell_type": "code",
   "execution_count": null,
   "metadata": {
    "collapsed": false
   },
   "outputs": [],
   "source": [
    "\n"
   ]
  },
  {
   "cell_type": "code",
   "execution_count": null,
   "metadata": {
    "collapsed": false
   },
   "outputs": [],
   "source": []
  },
  {
   "cell_type": "code",
   "execution_count": 7,
   "metadata": {
    "collapsed": false
   },
   "outputs": [],
   "source": [
    "results['hourly_salary'] = results['parsed_salary'].apply(lambda x: x if float(x) < 200 else np.nan)\n",
    "results['monthly_salary'] = results['parsed_salary'].apply(lambda x: x if float(x) < 10000 else np.nan)\n",
    "results['annual_salary'] = results['parsed_salary'].apply(lambda x: x if float(x) > 10000 else np.nan)\n",
    "\n",
    "\n",
    "\n",
    "# #categorize hourly, monthly, salaries ---- this is far and away the most time-intensive part of the script\n",
    "###REWROTE THIS FUNCTION BELOW ABOVE FOR PERFORMANCE REASONS\n",
    "\n",
    "# results['monthly_salary'] = np.NaN\n",
    "# results['annual_salary'] = np.NaN\n",
    "\n",
    "# for where, number in enumerate(results['salary']):\n",
    "#     if number < 200: #max of hourly is less\n",
    "#         results['hourly_salary'][where] = number\n",
    "#     elif number <= 10000: #max of monthly is less than this \n",
    "#         results['monthly_salary'][where] = number\n",
    "#     else:\n",
    "#         results['annual_salary'][where] = number\n"
   ]
  },
  {
   "cell_type": "markdown",
   "metadata": {
    "collapsed": false,
    "focus": false,
    "id": "43e71edd-210e-42b1-9336-70a931f048af"
   },
   "source": [
    "### Save your results as a CSV"
   ]
  },
  {
   "cell_type": "code",
   "execution_count": 8,
   "metadata": {
    "collapsed": false,
    "focus": false,
    "id": "783fd153-28ac-47ab-bfca-27e7c1de95b4"
   },
   "outputs": [],
   "source": [
    "#remove duplicates! Addition of Oakland, Berkeley, SF etc... will lead to dupes\n",
    "\n"
   ]
  },
  {
   "cell_type": "code",
   "execution_count": null,
   "metadata": {
    "collapsed": false
   },
   "outputs": [],
   "source": []
  },
  {
   "cell_type": "code",
   "execution_count": null,
   "metadata": {
    "collapsed": false
   },
   "outputs": [],
   "source": []
  },
  {
   "cell_type": "code",
   "execution_count": null,
   "metadata": {
    "collapsed": false
   },
   "outputs": [],
   "source": []
  },
  {
   "cell_type": "code",
   "execution_count": 9,
   "metadata": {
    "collapsed": false
   },
   "outputs": [
    {
     "data": {
      "text/html": [
       "<div>\n",
       "<table border=\"1\" class=\"dataframe\">\n",
       "  <thead>\n",
       "    <tr style=\"text-align: right;\">\n",
       "      <th></th>\n",
       "      <th>city</th>\n",
       "      <th>company</th>\n",
       "      <th>salary</th>\n",
       "      <th>summary</th>\n",
       "      <th>title</th>\n",
       "      <th>parsed_salary</th>\n",
       "      <th>hourly_salary</th>\n",
       "      <th>monthly_salary</th>\n",
       "      <th>annual_salary</th>\n",
       "    </tr>\n",
       "  </thead>\n",
       "  <tbody>\n",
       "    <tr>\n",
       "      <th>0</th>\n",
       "      <td>San+Francisco</td>\n",
       "      <td>MarkMonitor</td>\n",
       "      <td>$180,000 a year</td>\n",
       "      <td>Data skills (SQL, Hive, Pig). Applying machine...</td>\n",
       "      <td>Data Scientist</td>\n",
       "      <td>180000</td>\n",
       "      <td>NaN</td>\n",
       "      <td>NaN</td>\n",
       "      <td>180000</td>\n",
       "    </tr>\n",
       "    <tr>\n",
       "      <th>1</th>\n",
       "      <td>San+Francisco</td>\n",
       "      <td>Workbridge Associates</td>\n",
       "      <td>$130,000 - $180,000 a year</td>\n",
       "      <td>3+ years of industry experience in a data scie...</td>\n",
       "      <td>Senior Data Scientist</td>\n",
       "      <td>155000</td>\n",
       "      <td>NaN</td>\n",
       "      <td>NaN</td>\n",
       "      <td>155000</td>\n",
       "    </tr>\n",
       "    <tr>\n",
       "      <th>2</th>\n",
       "      <td>San+Francisco</td>\n",
       "      <td>Mines.io</td>\n",
       "      <td>$80,000 - $120,000 a year</td>\n",
       "      <td>We are looking for a data scientist/developer ...</td>\n",
       "      <td>Full-Stack Data Scientist</td>\n",
       "      <td>100000</td>\n",
       "      <td>NaN</td>\n",
       "      <td>NaN</td>\n",
       "      <td>100000</td>\n",
       "    </tr>\n",
       "    <tr>\n",
       "      <th>3</th>\n",
       "      <td>San+Francisco</td>\n",
       "      <td>Workbridge Associates</td>\n",
       "      <td>$150,000 - $180,000 a year</td>\n",
       "      <td>In this position you will share programming an...</td>\n",
       "      <td>Data Scientist</td>\n",
       "      <td>165000</td>\n",
       "      <td>NaN</td>\n",
       "      <td>NaN</td>\n",
       "      <td>165000</td>\n",
       "    </tr>\n",
       "    <tr>\n",
       "      <th>4</th>\n",
       "      <td>San+Francisco</td>\n",
       "      <td>Smith Hanley Associates</td>\n",
       "      <td>$140,000 a year</td>\n",
       "      <td>This person will recruit, build and lead a tea...</td>\n",
       "      <td>Data Scientist</td>\n",
       "      <td>140000</td>\n",
       "      <td>NaN</td>\n",
       "      <td>NaN</td>\n",
       "      <td>140000</td>\n",
       "    </tr>\n",
       "  </tbody>\n",
       "</table>\n",
       "</div>"
      ],
      "text/plain": [
       "            city                  company                      salary  \\\n",
       "0  San+Francisco              MarkMonitor             $180,000 a year   \n",
       "1  San+Francisco    Workbridge Associates  $130,000 - $180,000 a year   \n",
       "2  San+Francisco                 Mines.io   $80,000 - $120,000 a year   \n",
       "3  San+Francisco    Workbridge Associates  $150,000 - $180,000 a year   \n",
       "4  San+Francisco  Smith Hanley Associates             $140,000 a year   \n",
       "\n",
       "                                             summary  \\\n",
       "0  Data skills (SQL, Hive, Pig). Applying machine...   \n",
       "1  3+ years of industry experience in a data scie...   \n",
       "2  We are looking for a data scientist/developer ...   \n",
       "3  In this position you will share programming an...   \n",
       "4  This person will recruit, build and lead a tea...   \n",
       "\n",
       "                       title  parsed_salary  hourly_salary  monthly_salary  \\\n",
       "0             Data Scientist         180000            NaN             NaN   \n",
       "1      Senior Data Scientist         155000            NaN             NaN   \n",
       "2  Full-Stack Data Scientist         100000            NaN             NaN   \n",
       "3             Data Scientist         165000            NaN             NaN   \n",
       "4             Data Scientist         140000            NaN             NaN   \n",
       "\n",
       "   annual_salary  \n",
       "0         180000  \n",
       "1         155000  \n",
       "2         100000  \n",
       "3         165000  \n",
       "4         140000  "
      ]
     },
     "execution_count": 9,
     "metadata": {},
     "output_type": "execute_result"
    }
   ],
   "source": [
    "import pandas as pd\n",
    "import numpy as np\n",
    "\n",
    "\n",
    "indeeder = results\n",
    "indeeder.head()"
   ]
  },
  {
   "cell_type": "code",
   "execution_count": 10,
   "metadata": {
    "collapsed": false
   },
   "outputs": [
    {
     "data": {
      "text/html": [
       "<div>\n",
       "<table border=\"1\" class=\"dataframe\">\n",
       "  <thead>\n",
       "    <tr style=\"text-align: right;\">\n",
       "      <th></th>\n",
       "      <th>parsed_salary</th>\n",
       "      <th>hourly_salary</th>\n",
       "      <th>monthly_salary</th>\n",
       "      <th>annual_salary</th>\n",
       "    </tr>\n",
       "  </thead>\n",
       "  <tbody>\n",
       "    <tr>\n",
       "      <th>count</th>\n",
       "      <td>4789.000000</td>\n",
       "      <td>0</td>\n",
       "      <td>2352.000000</td>\n",
       "      <td>2437.00000</td>\n",
       "    </tr>\n",
       "    <tr>\n",
       "      <th>mean</th>\n",
       "      <td>66183.785550</td>\n",
       "      <td>NaN</td>\n",
       "      <td>5762.720026</td>\n",
       "      <td>124497.42778</td>\n",
       "    </tr>\n",
       "    <tr>\n",
       "      <th>std</th>\n",
       "      <td>64348.141986</td>\n",
       "      <td>NaN</td>\n",
       "      <td>2140.181881</td>\n",
       "      <td>34748.64662</td>\n",
       "    </tr>\n",
       "    <tr>\n",
       "      <th>min</th>\n",
       "      <td>2333.000000</td>\n",
       "      <td>NaN</td>\n",
       "      <td>2333.000000</td>\n",
       "      <td>35000.00000</td>\n",
       "    </tr>\n",
       "    <tr>\n",
       "      <th>25%</th>\n",
       "      <td>5950.000000</td>\n",
       "      <td>NaN</td>\n",
       "      <td>3210.000000</td>\n",
       "      <td>85000.00000</td>\n",
       "    </tr>\n",
       "    <tr>\n",
       "      <th>50%</th>\n",
       "      <td>74550.000000</td>\n",
       "      <td>NaN</td>\n",
       "      <td>5950.000000</td>\n",
       "      <td>130000.00000</td>\n",
       "    </tr>\n",
       "    <tr>\n",
       "      <th>75%</th>\n",
       "      <td>130000.000000</td>\n",
       "      <td>NaN</td>\n",
       "      <td>8541.500000</td>\n",
       "      <td>150000.00000</td>\n",
       "    </tr>\n",
       "    <tr>\n",
       "      <th>max</th>\n",
       "      <td>300000.000000</td>\n",
       "      <td>NaN</td>\n",
       "      <td>8541.500000</td>\n",
       "      <td>300000.00000</td>\n",
       "    </tr>\n",
       "  </tbody>\n",
       "</table>\n",
       "</div>"
      ],
      "text/plain": [
       "       parsed_salary  hourly_salary  monthly_salary  annual_salary\n",
       "count    4789.000000              0     2352.000000     2437.00000\n",
       "mean    66183.785550            NaN     5762.720026   124497.42778\n",
       "std     64348.141986            NaN     2140.181881    34748.64662\n",
       "min      2333.000000            NaN     2333.000000    35000.00000\n",
       "25%      5950.000000            NaN     3210.000000    85000.00000\n",
       "50%     74550.000000            NaN     5950.000000   130000.00000\n",
       "75%    130000.000000            NaN     8541.500000   150000.00000\n",
       "max    300000.000000            NaN     8541.500000   300000.00000"
      ]
     },
     "execution_count": 10,
     "metadata": {},
     "output_type": "execute_result"
    }
   ],
   "source": [
    "indeeder.describe()"
   ]
  },
  {
   "cell_type": "markdown",
   "metadata": {},
   "source": [
    "### Beginning Analysis Phase of Project"
   ]
  },
  {
   "cell_type": "code",
   "execution_count": null,
   "metadata": {
    "collapsed": false
   },
   "outputs": [],
   "source": []
  },
  {
   "cell_type": "code",
   "execution_count": 11,
   "metadata": {
    "collapsed": false
   },
   "outputs": [],
   "source": [
    "# annual_avg_sal = np.mean(indeed['annual_salary']) #not working, typeerror but can't figure it out\n",
    "\n",
    "def meaner(series):\n",
    "    '''finds the mean amidst nans'''\n",
    "    mean_list = []\n",
    "    for example in series:\n",
    "        if example != np.NaN:\n",
    "            try:\n",
    "                mean_list.append(float(example))\n",
    "            except (TypeError, ValueError):\n",
    "                continue\n",
    "        else:\n",
    "            continue\n",
    "    return(np.nanmean(mean_list))"
   ]
  },
  {
   "cell_type": "code",
   "execution_count": 12,
   "metadata": {
    "collapsed": false
   },
   "outputs": [
    {
     "name": "stdout",
     "output_type": "stream",
     "text": [
      "all data: nan annual: 124497.42778\n"
     ]
    },
    {
     "name": "stderr",
     "output_type": "stream",
     "text": [
      "/Users/HudsonCavanagh/anaconda/lib/python2.7/site-packages/numpy/lib/nanfunctions.py:675: RuntimeWarning: Mean of empty slice\n",
      "  warnings.warn(\"Mean of empty slice\", RuntimeWarning)\n"
     ]
    }
   ],
   "source": [
    "avg_pay = meaner(indeeder['salary'])\n",
    "\n",
    "avg_annual_salary = float(meaner(indeeder['annual_salary']))\n",
    "\n",
    "print(\"all data:\", avg_pay,\"annual:\", avg_annual_salary)\n",
    "#all data: 17248.0764706 annual: 107525.268987\n",
    "#conclusion is: only use annual pay salaries, or avg_annual_salary"
   ]
  },
  {
   "cell_type": "code",
   "execution_count": 13,
   "metadata": {
    "collapsed": false
   },
   "outputs": [],
   "source": [
    "# indeeder['above_average_salary'] = indeeder['annual_salary'].apply(lambda x: 1 if x > avg_annual_salary else continue)\n",
    "# indeeder['above_average_salary'] = indeeder['annual_salary'].apply(lambda x: 0 if x < avg_annual_salary else continue)\n",
    "\n",
    "def checker(value):\n",
    "    avg_annual_salary = float(meaner(indeeder['annual_salary']))\n",
    "    try:\n",
    "        if value > avg_annual_salary:\n",
    "            return 1\n",
    "        elif value < avg_annual_salary:\n",
    "            return 0\n",
    "    except ValueError:\n",
    "        return 'error'\n",
    "\n",
    "indeeder['above_average_salary'] = indeeder['annual_salary'].to_frame().applymap(checker)"
   ]
  },
  {
   "cell_type": "code",
   "execution_count": 14,
   "metadata": {
    "collapsed": false
   },
   "outputs": [
    {
     "data": {
      "text/plain": [
       "0.6327451784981535"
      ]
     },
     "execution_count": 14,
     "metadata": {},
     "output_type": "execute_result"
    }
   ],
   "source": [
    "indeeder['above_average_salary'].mean()"
   ]
  },
  {
   "cell_type": "code",
   "execution_count": null,
   "metadata": {
    "collapsed": false
   },
   "outputs": [],
   "source": []
  },
  {
   "cell_type": "code",
   "execution_count": null,
   "metadata": {
    "collapsed": true
   },
   "outputs": [],
   "source": []
  },
  {
   "cell_type": "code",
   "execution_count": null,
   "metadata": {
    "collapsed": false
   },
   "outputs": [],
   "source": []
  },
  {
   "cell_type": "code",
   "execution_count": 15,
   "metadata": {
    "collapsed": false
   },
   "outputs": [
    {
     "data": {
      "text/html": [
       "<div>\n",
       "<table border=\"1\" class=\"dataframe\">\n",
       "  <thead>\n",
       "    <tr style=\"text-align: right;\">\n",
       "      <th></th>\n",
       "      <th>index</th>\n",
       "      <th>city</th>\n",
       "      <th>company</th>\n",
       "      <th>salary</th>\n",
       "      <th>summary</th>\n",
       "      <th>title</th>\n",
       "      <th>parsed_salary</th>\n",
       "      <th>hourly_salary</th>\n",
       "      <th>monthly_salary</th>\n",
       "      <th>annual_salary</th>\n",
       "      <th>above_average_salary</th>\n",
       "      <th>highval_count</th>\n",
       "      <th>midval_count</th>\n",
       "      <th>lowval_count</th>\n",
       "      <th>senior_count</th>\n",
       "      <th>constant</th>\n",
       "      <th>description</th>\n",
       "    </tr>\n",
       "  </thead>\n",
       "  <tbody>\n",
       "    <tr>\n",
       "      <th>0</th>\n",
       "      <td>0</td>\n",
       "      <td>San+Francisco</td>\n",
       "      <td>MarkMonitor</td>\n",
       "      <td>$180,000 a year</td>\n",
       "      <td>Data skills (SQL, Hive, Pig). Applying machine...</td>\n",
       "      <td>Data Scientist</td>\n",
       "      <td>180000</td>\n",
       "      <td>NaN</td>\n",
       "      <td>NaN</td>\n",
       "      <td>180000</td>\n",
       "      <td>1</td>\n",
       "      <td>4</td>\n",
       "      <td>1</td>\n",
       "      <td>1</td>\n",
       "      <td>1</td>\n",
       "      <td>1</td>\n",
       "      <td>Data skills (SQL, Hive, Pig). Applying machine...</td>\n",
       "    </tr>\n",
       "    <tr>\n",
       "      <th>1</th>\n",
       "      <td>1</td>\n",
       "      <td>San+Francisco</td>\n",
       "      <td>Workbridge Associates</td>\n",
       "      <td>$130,000 - $180,000 a year</td>\n",
       "      <td>3+ years of industry experience in a data scie...</td>\n",
       "      <td>Senior Data Scientist</td>\n",
       "      <td>155000</td>\n",
       "      <td>NaN</td>\n",
       "      <td>NaN</td>\n",
       "      <td>155000</td>\n",
       "      <td>1</td>\n",
       "      <td>8</td>\n",
       "      <td>1</td>\n",
       "      <td>3</td>\n",
       "      <td>5</td>\n",
       "      <td>1</td>\n",
       "      <td>3+ years of industry experience in a data scie...</td>\n",
       "    </tr>\n",
       "    <tr>\n",
       "      <th>2</th>\n",
       "      <td>2</td>\n",
       "      <td>San+Francisco</td>\n",
       "      <td>Mines.io</td>\n",
       "      <td>$80,000 - $120,000 a year</td>\n",
       "      <td>We are looking for a data scientist/developer ...</td>\n",
       "      <td>Full-Stack Data Scientist</td>\n",
       "      <td>100000</td>\n",
       "      <td>NaN</td>\n",
       "      <td>NaN</td>\n",
       "      <td>100000</td>\n",
       "      <td>0</td>\n",
       "      <td>4</td>\n",
       "      <td>3</td>\n",
       "      <td>2</td>\n",
       "      <td>2</td>\n",
       "      <td>1</td>\n",
       "      <td>We are looking for a data scientist/developer ...</td>\n",
       "    </tr>\n",
       "    <tr>\n",
       "      <th>3</th>\n",
       "      <td>3</td>\n",
       "      <td>San+Francisco</td>\n",
       "      <td>Workbridge Associates</td>\n",
       "      <td>$150,000 - $180,000 a year</td>\n",
       "      <td>In this position you will share programming an...</td>\n",
       "      <td>Data Scientist</td>\n",
       "      <td>165000</td>\n",
       "      <td>NaN</td>\n",
       "      <td>NaN</td>\n",
       "      <td>165000</td>\n",
       "      <td>1</td>\n",
       "      <td>4</td>\n",
       "      <td>2</td>\n",
       "      <td>3</td>\n",
       "      <td>3</td>\n",
       "      <td>1</td>\n",
       "      <td>In this position you will share programming an...</td>\n",
       "    </tr>\n",
       "    <tr>\n",
       "      <th>4</th>\n",
       "      <td>4</td>\n",
       "      <td>San+Francisco</td>\n",
       "      <td>Smith Hanley Associates</td>\n",
       "      <td>$140,000 a year</td>\n",
       "      <td>This person will recruit, build and lead a tea...</td>\n",
       "      <td>Data Scientist</td>\n",
       "      <td>140000</td>\n",
       "      <td>NaN</td>\n",
       "      <td>NaN</td>\n",
       "      <td>140000</td>\n",
       "      <td>1</td>\n",
       "      <td>8</td>\n",
       "      <td>3</td>\n",
       "      <td>5</td>\n",
       "      <td>6</td>\n",
       "      <td>1</td>\n",
       "      <td>This person will recruit, build and lead a tea...</td>\n",
       "    </tr>\n",
       "    <tr>\n",
       "      <th>5</th>\n",
       "      <td>5</td>\n",
       "      <td>San+Francisco</td>\n",
       "      <td>HSF Consulting</td>\n",
       "      <td>$300,000 a year</td>\n",
       "      <td>Teams included Data Services(including data en...</td>\n",
       "      <td>VP of Data Services</td>\n",
       "      <td>300000</td>\n",
       "      <td>NaN</td>\n",
       "      <td>NaN</td>\n",
       "      <td>300000</td>\n",
       "      <td>1</td>\n",
       "      <td>9</td>\n",
       "      <td>1</td>\n",
       "      <td>0</td>\n",
       "      <td>1</td>\n",
       "      <td>1</td>\n",
       "      <td>Teams included Data Services(including data en...</td>\n",
       "    </tr>\n",
       "    <tr>\n",
       "      <th>6</th>\n",
       "      <td>6</td>\n",
       "      <td>San+Francisco</td>\n",
       "      <td>All-In Analytics</td>\n",
       "      <td>$100,000 - $150,000 a year</td>\n",
       "      <td>Fraud Data Scientist. Seeking someone with ski...</td>\n",
       "      <td>Fraud Data Scientist</td>\n",
       "      <td>125000</td>\n",
       "      <td>NaN</td>\n",
       "      <td>NaN</td>\n",
       "      <td>125000</td>\n",
       "      <td>1</td>\n",
       "      <td>3</td>\n",
       "      <td>0</td>\n",
       "      <td>1</td>\n",
       "      <td>0</td>\n",
       "      <td>1</td>\n",
       "      <td>Fraud Data Scientist. Seeking someone with ski...</td>\n",
       "    </tr>\n",
       "    <tr>\n",
       "      <th>7</th>\n",
       "      <td>7</td>\n",
       "      <td>San+Francisco</td>\n",
       "      <td>Brilent</td>\n",
       "      <td>$130,000 a year</td>\n",
       "      <td>Perform large-scale data analysis, find intere...</td>\n",
       "      <td>Senior Data Scientist</td>\n",
       "      <td>130000</td>\n",
       "      <td>NaN</td>\n",
       "      <td>NaN</td>\n",
       "      <td>130000</td>\n",
       "      <td>1</td>\n",
       "      <td>4</td>\n",
       "      <td>0</td>\n",
       "      <td>0</td>\n",
       "      <td>1</td>\n",
       "      <td>1</td>\n",
       "      <td>Perform large-scale data analysis, find intere...</td>\n",
       "    </tr>\n",
       "    <tr>\n",
       "      <th>8</th>\n",
       "      <td>8</td>\n",
       "      <td>San+Francisco</td>\n",
       "      <td>HSF Consulting</td>\n",
       "      <td>$160,000 a year</td>\n",
       "      <td>More data- they simply have more data than the...</td>\n",
       "      <td>Senior Data Scientist</td>\n",
       "      <td>160000</td>\n",
       "      <td>NaN</td>\n",
       "      <td>NaN</td>\n",
       "      <td>160000</td>\n",
       "      <td>1</td>\n",
       "      <td>4</td>\n",
       "      <td>0</td>\n",
       "      <td>0</td>\n",
       "      <td>1</td>\n",
       "      <td>1</td>\n",
       "      <td>More data- they simply have more data than the...</td>\n",
       "    </tr>\n",
       "    <tr>\n",
       "      <th>9</th>\n",
       "      <td>9</td>\n",
       "      <td>San+Francisco</td>\n",
       "      <td>All-In Analytics</td>\n",
       "      <td>$100,000 - $150,000 a year</td>\n",
       "      <td>Fraud Data Scientist. Seeking someone with ski...</td>\n",
       "      <td>Fraud Data Scientist</td>\n",
       "      <td>125000</td>\n",
       "      <td>NaN</td>\n",
       "      <td>NaN</td>\n",
       "      <td>125000</td>\n",
       "      <td>1</td>\n",
       "      <td>3</td>\n",
       "      <td>0</td>\n",
       "      <td>1</td>\n",
       "      <td>0</td>\n",
       "      <td>1</td>\n",
       "      <td>Fraud Data Scientist. Seeking someone with ski...</td>\n",
       "    </tr>\n",
       "    <tr>\n",
       "      <th>10</th>\n",
       "      <td>10</td>\n",
       "      <td>San+Francisco</td>\n",
       "      <td>Jobspring Partners</td>\n",
       "      <td>$150,000 - $175,000 a year</td>\n",
       "      <td>Given the high volume of data collected by the...</td>\n",
       "      <td>Python Developer (Machine Learning)</td>\n",
       "      <td>162500</td>\n",
       "      <td>NaN</td>\n",
       "      <td>NaN</td>\n",
       "      <td>162500</td>\n",
       "      <td>1</td>\n",
       "      <td>1</td>\n",
       "      <td>2</td>\n",
       "      <td>1</td>\n",
       "      <td>1</td>\n",
       "      <td>1</td>\n",
       "      <td>Given the high volume of data collected by the...</td>\n",
       "    </tr>\n",
       "    <tr>\n",
       "      <th>11</th>\n",
       "      <td>11</td>\n",
       "      <td>San+Francisco</td>\n",
       "      <td>University of California Berkeley</td>\n",
       "      <td>$3,811 - $3,889 a month</td>\n",
       "      <td>Must be able to work in a greenhouse, manage d...</td>\n",
       "      <td>Staff Research Associate, PMB</td>\n",
       "      <td>3850</td>\n",
       "      <td>NaN</td>\n",
       "      <td>3850</td>\n",
       "      <td>NaN</td>\n",
       "      <td>NaN</td>\n",
       "      <td>3</td>\n",
       "      <td>1</td>\n",
       "      <td>2</td>\n",
       "      <td>2</td>\n",
       "      <td>1</td>\n",
       "      <td>Must be able to work in a greenhouse, manage d...</td>\n",
       "    </tr>\n",
       "    <tr>\n",
       "      <th>12</th>\n",
       "      <td>12</td>\n",
       "      <td>San+Francisco</td>\n",
       "      <td>Workbridge Associates</td>\n",
       "      <td>$100,000 - $200,000 a year</td>\n",
       "      <td>You will collaborate with Product, Data Engine...</td>\n",
       "      <td>Chief Algorithm Developer (Signal Processing) ...</td>\n",
       "      <td>150000</td>\n",
       "      <td>NaN</td>\n",
       "      <td>NaN</td>\n",
       "      <td>150000</td>\n",
       "      <td>1</td>\n",
       "      <td>2</td>\n",
       "      <td>0</td>\n",
       "      <td>0</td>\n",
       "      <td>1</td>\n",
       "      <td>1</td>\n",
       "      <td>You will collaborate with Product, Data Engine...</td>\n",
       "    </tr>\n",
       "    <tr>\n",
       "      <th>13</th>\n",
       "      <td>13</td>\n",
       "      <td>San+Francisco</td>\n",
       "      <td>HSF Consulting</td>\n",
       "      <td>$300,000 a year</td>\n",
       "      <td>Teams included Data Services(including data en...</td>\n",
       "      <td>VP of Data Services</td>\n",
       "      <td>300000</td>\n",
       "      <td>NaN</td>\n",
       "      <td>NaN</td>\n",
       "      <td>300000</td>\n",
       "      <td>1</td>\n",
       "      <td>9</td>\n",
       "      <td>1</td>\n",
       "      <td>0</td>\n",
       "      <td>1</td>\n",
       "      <td>1</td>\n",
       "      <td>Teams included Data Services(including data en...</td>\n",
       "    </tr>\n",
       "    <tr>\n",
       "      <th>14</th>\n",
       "      <td>14</td>\n",
       "      <td>San+Francisco</td>\n",
       "      <td>University of California Berkeley</td>\n",
       "      <td>$43,692 - $51,120 a year</td>\n",
       "      <td>Demonstrated experience with programming for b...</td>\n",
       "      <td>Post-Doctoral Scholar-Employee: Analysis of om...</td>\n",
       "      <td>47406</td>\n",
       "      <td>NaN</td>\n",
       "      <td>NaN</td>\n",
       "      <td>47406</td>\n",
       "      <td>0</td>\n",
       "      <td>3</td>\n",
       "      <td>1</td>\n",
       "      <td>3</td>\n",
       "      <td>1</td>\n",
       "      <td>1</td>\n",
       "      <td>Demonstrated experience with programming for b...</td>\n",
       "    </tr>\n",
       "    <tr>\n",
       "      <th>15</th>\n",
       "      <td>15</td>\n",
       "      <td>San+Francisco</td>\n",
       "      <td>Workbridge Associates</td>\n",
       "      <td>$130,000 - $180,000 a year</td>\n",
       "      <td>This leading company has a job opening for Pri...</td>\n",
       "      <td>Principal Data Scientist</td>\n",
       "      <td>155000</td>\n",
       "      <td>NaN</td>\n",
       "      <td>NaN</td>\n",
       "      <td>155000</td>\n",
       "      <td>1</td>\n",
       "      <td>6</td>\n",
       "      <td>2</td>\n",
       "      <td>5</td>\n",
       "      <td>5</td>\n",
       "      <td>1</td>\n",
       "      <td>This leading company has a job opening for Pri...</td>\n",
       "    </tr>\n",
       "    <tr>\n",
       "      <th>16</th>\n",
       "      <td>16</td>\n",
       "      <td>San+Francisco</td>\n",
       "      <td>Workbridge Associates</td>\n",
       "      <td>$100,000 - $200,000 a year</td>\n",
       "      <td>You will collaborate with Product, Data Engine...</td>\n",
       "      <td>Chief Algorithm Developer (Signal Processing) ...</td>\n",
       "      <td>150000</td>\n",
       "      <td>NaN</td>\n",
       "      <td>NaN</td>\n",
       "      <td>150000</td>\n",
       "      <td>1</td>\n",
       "      <td>2</td>\n",
       "      <td>0</td>\n",
       "      <td>0</td>\n",
       "      <td>1</td>\n",
       "      <td>1</td>\n",
       "      <td>You will collaborate with Product, Data Engine...</td>\n",
       "    </tr>\n",
       "    <tr>\n",
       "      <th>17</th>\n",
       "      <td>17</td>\n",
       "      <td>San+Francisco</td>\n",
       "      <td>Workbridge Associates</td>\n",
       "      <td>$130,000 - $150,000 a year</td>\n",
       "      <td>2+ years of experience in Data Scientist, Quan...</td>\n",
       "      <td>Data Scientist (Econometrics)</td>\n",
       "      <td>140000</td>\n",
       "      <td>NaN</td>\n",
       "      <td>NaN</td>\n",
       "      <td>140000</td>\n",
       "      <td>1</td>\n",
       "      <td>5</td>\n",
       "      <td>0</td>\n",
       "      <td>2</td>\n",
       "      <td>2</td>\n",
       "      <td>1</td>\n",
       "      <td>2+ years of experience in Data Scientist, Quan...</td>\n",
       "    </tr>\n",
       "    <tr>\n",
       "      <th>18</th>\n",
       "      <td>18</td>\n",
       "      <td>San+Francisco</td>\n",
       "      <td>Workbridge Associates</td>\n",
       "      <td>$100,000 - $140,000 a year</td>\n",
       "      <td>Solid experience in data science. Established ...</td>\n",
       "      <td>Data Scientist (Statistics/Economics)</td>\n",
       "      <td>120000</td>\n",
       "      <td>NaN</td>\n",
       "      <td>NaN</td>\n",
       "      <td>120000</td>\n",
       "      <td>0</td>\n",
       "      <td>6</td>\n",
       "      <td>2</td>\n",
       "      <td>4</td>\n",
       "      <td>4</td>\n",
       "      <td>1</td>\n",
       "      <td>Solid experience in data science. Established ...</td>\n",
       "    </tr>\n",
       "    <tr>\n",
       "      <th>19</th>\n",
       "      <td>19</td>\n",
       "      <td>San+Francisco</td>\n",
       "      <td>Corporate Labs Technology</td>\n",
       "      <td>$110,000 - $180,000 a year</td>\n",
       "      <td>Machine Learning Developer Brisbane, CA Sign o...</td>\n",
       "      <td>Data Scientist (Machine Learning)</td>\n",
       "      <td>145000</td>\n",
       "      <td>NaN</td>\n",
       "      <td>NaN</td>\n",
       "      <td>145000</td>\n",
       "      <td>1</td>\n",
       "      <td>3</td>\n",
       "      <td>3</td>\n",
       "      <td>1</td>\n",
       "      <td>1</td>\n",
       "      <td>1</td>\n",
       "      <td>Machine Learning Developer Brisbane, CA Sign o...</td>\n",
       "    </tr>\n",
       "    <tr>\n",
       "      <th>20</th>\n",
       "      <td>20</td>\n",
       "      <td>San+Francisco</td>\n",
       "      <td>Brilent</td>\n",
       "      <td>$150,000 a year</td>\n",
       "      <td>The Brilent team brings together deep experien...</td>\n",
       "      <td>Senior NLP Scientist/Engineer</td>\n",
       "      <td>150000</td>\n",
       "      <td>NaN</td>\n",
       "      <td>NaN</td>\n",
       "      <td>150000</td>\n",
       "      <td>1</td>\n",
       "      <td>2</td>\n",
       "      <td>0</td>\n",
       "      <td>1</td>\n",
       "      <td>2</td>\n",
       "      <td>1</td>\n",
       "      <td>The Brilent team brings together deep experien...</td>\n",
       "    </tr>\n",
       "    <tr>\n",
       "      <th>21</th>\n",
       "      <td>21</td>\n",
       "      <td>San+Francisco</td>\n",
       "      <td>Workbridge Associates</td>\n",
       "      <td>$140,000 - $200,000 a year</td>\n",
       "      <td>The Senior Data Scientist position requires a ...</td>\n",
       "      <td>Senior Data Scientist (Autonomous Vehicle Rese...</td>\n",
       "      <td>170000</td>\n",
       "      <td>NaN</td>\n",
       "      <td>NaN</td>\n",
       "      <td>170000</td>\n",
       "      <td>1</td>\n",
       "      <td>4</td>\n",
       "      <td>1</td>\n",
       "      <td>1</td>\n",
       "      <td>4</td>\n",
       "      <td>1</td>\n",
       "      <td>The Senior Data Scientist position requires a ...</td>\n",
       "    </tr>\n",
       "    <tr>\n",
       "      <th>22</th>\n",
       "      <td>22</td>\n",
       "      <td>San+Francisco</td>\n",
       "      <td>3coast</td>\n",
       "      <td>$80,000 - $200,000 a year</td>\n",
       "      <td>VP - Predictive Modeling / Data Scientist. Han...</td>\n",
       "      <td>VP - Predictive Modeling / Data Scientist</td>\n",
       "      <td>140000</td>\n",
       "      <td>NaN</td>\n",
       "      <td>NaN</td>\n",
       "      <td>140000</td>\n",
       "      <td>1</td>\n",
       "      <td>7</td>\n",
       "      <td>1</td>\n",
       "      <td>2</td>\n",
       "      <td>1</td>\n",
       "      <td>1</td>\n",
       "      <td>VP - Predictive Modeling / Data Scientist. Han...</td>\n",
       "    </tr>\n",
       "    <tr>\n",
       "      <th>23</th>\n",
       "      <td>23</td>\n",
       "      <td>San+Francisco</td>\n",
       "      <td>University of California Berkeley</td>\n",
       "      <td>$67,500 - $81,600 a year</td>\n",
       "      <td>Ensures accuracy and completeness of data in m...</td>\n",
       "      <td>Database Administrator, GSE</td>\n",
       "      <td>74550</td>\n",
       "      <td>NaN</td>\n",
       "      <td>NaN</td>\n",
       "      <td>74550</td>\n",
       "      <td>0</td>\n",
       "      <td>2</td>\n",
       "      <td>0</td>\n",
       "      <td>1</td>\n",
       "      <td>1</td>\n",
       "      <td>1</td>\n",
       "      <td>Ensures accuracy and completeness of data in m...</td>\n",
       "    </tr>\n",
       "    <tr>\n",
       "      <th>24</th>\n",
       "      <td>24</td>\n",
       "      <td>San+Francisco</td>\n",
       "      <td>NextGen Jane, Inc.</td>\n",
       "      <td>$65,000 a year</td>\n",
       "      <td>Scientific Researcher – Next Gen Sequencing Sc...</td>\n",
       "      <td>Scientific Researcher</td>\n",
       "      <td>65000</td>\n",
       "      <td>NaN</td>\n",
       "      <td>NaN</td>\n",
       "      <td>65000</td>\n",
       "      <td>0</td>\n",
       "      <td>0</td>\n",
       "      <td>0</td>\n",
       "      <td>1</td>\n",
       "      <td>0</td>\n",
       "      <td>1</td>\n",
       "      <td>Scientific Researcher – Next Gen Sequencing Sc...</td>\n",
       "    </tr>\n",
       "    <tr>\n",
       "      <th>25</th>\n",
       "      <td>25</td>\n",
       "      <td>San+Francisco</td>\n",
       "      <td>Jobspring Partners</td>\n",
       "      <td>$180,000 - $275,000 a year</td>\n",
       "      <td>This is an opportunity to lead a team of talen...</td>\n",
       "      <td>Vice President Engineering (Big Data/ Machine ...</td>\n",
       "      <td>227500</td>\n",
       "      <td>NaN</td>\n",
       "      <td>NaN</td>\n",
       "      <td>227500</td>\n",
       "      <td>1</td>\n",
       "      <td>4</td>\n",
       "      <td>2</td>\n",
       "      <td>4</td>\n",
       "      <td>4</td>\n",
       "      <td>1</td>\n",
       "      <td>This is an opportunity to lead a team of talen...</td>\n",
       "    </tr>\n",
       "    <tr>\n",
       "      <th>26</th>\n",
       "      <td>26</td>\n",
       "      <td>San+Francisco</td>\n",
       "      <td>Workbridge Associates</td>\n",
       "      <td>$130,000 - $150,000 a year</td>\n",
       "      <td>2+ years of experience in Data Scientist, Quan...</td>\n",
       "      <td>Data Scientist (Econometrics)</td>\n",
       "      <td>140000</td>\n",
       "      <td>NaN</td>\n",
       "      <td>NaN</td>\n",
       "      <td>140000</td>\n",
       "      <td>1</td>\n",
       "      <td>5</td>\n",
       "      <td>0</td>\n",
       "      <td>2</td>\n",
       "      <td>2</td>\n",
       "      <td>1</td>\n",
       "      <td>2+ years of experience in Data Scientist, Quan...</td>\n",
       "    </tr>\n",
       "    <tr>\n",
       "      <th>27</th>\n",
       "      <td>27</td>\n",
       "      <td>San+Francisco</td>\n",
       "      <td>Workbridge Associates</td>\n",
       "      <td>$100,000 - $140,000 a year</td>\n",
       "      <td>Solid experience in data science. Established ...</td>\n",
       "      <td>Data Scientist (Statistics/Economics)</td>\n",
       "      <td>120000</td>\n",
       "      <td>NaN</td>\n",
       "      <td>NaN</td>\n",
       "      <td>120000</td>\n",
       "      <td>0</td>\n",
       "      <td>6</td>\n",
       "      <td>2</td>\n",
       "      <td>4</td>\n",
       "      <td>4</td>\n",
       "      <td>1</td>\n",
       "      <td>Solid experience in data science. Established ...</td>\n",
       "    </tr>\n",
       "    <tr>\n",
       "      <th>28</th>\n",
       "      <td>28</td>\n",
       "      <td>San+Francisco</td>\n",
       "      <td>Workbridge Associates</td>\n",
       "      <td>$140,000 - $200,000 a year</td>\n",
       "      <td>The Senior Data Scientist position requires a ...</td>\n",
       "      <td>Senior Data Scientist (Autonomous Vehicle Rese...</td>\n",
       "      <td>170000</td>\n",
       "      <td>NaN</td>\n",
       "      <td>NaN</td>\n",
       "      <td>170000</td>\n",
       "      <td>1</td>\n",
       "      <td>4</td>\n",
       "      <td>1</td>\n",
       "      <td>1</td>\n",
       "      <td>4</td>\n",
       "      <td>1</td>\n",
       "      <td>The Senior Data Scientist position requires a ...</td>\n",
       "    </tr>\n",
       "    <tr>\n",
       "      <th>29</th>\n",
       "      <td>29</td>\n",
       "      <td>San+Francisco</td>\n",
       "      <td>Talent Compliance Consulting Services</td>\n",
       "      <td>$100,000 a year</td>\n",
       "      <td>Strong data analysis skills including setting ...</td>\n",
       "      <td>Quality Control Scientist</td>\n",
       "      <td>100000</td>\n",
       "      <td>NaN</td>\n",
       "      <td>NaN</td>\n",
       "      <td>100000</td>\n",
       "      <td>0</td>\n",
       "      <td>1</td>\n",
       "      <td>0</td>\n",
       "      <td>1</td>\n",
       "      <td>0</td>\n",
       "      <td>1</td>\n",
       "      <td>Strong data analysis skills including setting ...</td>\n",
       "    </tr>\n",
       "  </tbody>\n",
       "</table>\n",
       "</div>"
      ],
      "text/plain": [
       "    index           city                                company  \\\n",
       "0       0  San+Francisco                            MarkMonitor   \n",
       "1       1  San+Francisco                  Workbridge Associates   \n",
       "2       2  San+Francisco                               Mines.io   \n",
       "3       3  San+Francisco                  Workbridge Associates   \n",
       "4       4  San+Francisco                Smith Hanley Associates   \n",
       "5       5  San+Francisco                         HSF Consulting   \n",
       "6       6  San+Francisco                       All-In Analytics   \n",
       "7       7  San+Francisco                                Brilent   \n",
       "8       8  San+Francisco                         HSF Consulting   \n",
       "9       9  San+Francisco                       All-In Analytics   \n",
       "10     10  San+Francisco                     Jobspring Partners   \n",
       "11     11  San+Francisco      University of California Berkeley   \n",
       "12     12  San+Francisco                  Workbridge Associates   \n",
       "13     13  San+Francisco                         HSF Consulting   \n",
       "14     14  San+Francisco      University of California Berkeley   \n",
       "15     15  San+Francisco                  Workbridge Associates   \n",
       "16     16  San+Francisco                  Workbridge Associates   \n",
       "17     17  San+Francisco                  Workbridge Associates   \n",
       "18     18  San+Francisco                  Workbridge Associates   \n",
       "19     19  San+Francisco              Corporate Labs Technology   \n",
       "20     20  San+Francisco                                Brilent   \n",
       "21     21  San+Francisco                  Workbridge Associates   \n",
       "22     22  San+Francisco                                 3coast   \n",
       "23     23  San+Francisco      University of California Berkeley   \n",
       "24     24  San+Francisco                     NextGen Jane, Inc.   \n",
       "25     25  San+Francisco                     Jobspring Partners   \n",
       "26     26  San+Francisco                  Workbridge Associates   \n",
       "27     27  San+Francisco                  Workbridge Associates   \n",
       "28     28  San+Francisco                  Workbridge Associates   \n",
       "29     29  San+Francisco  Talent Compliance Consulting Services   \n",
       "\n",
       "                        salary  \\\n",
       "0              $180,000 a year   \n",
       "1   $130,000 - $180,000 a year   \n",
       "2    $80,000 - $120,000 a year   \n",
       "3   $150,000 - $180,000 a year   \n",
       "4              $140,000 a year   \n",
       "5              $300,000 a year   \n",
       "6   $100,000 - $150,000 a year   \n",
       "7              $130,000 a year   \n",
       "8              $160,000 a year   \n",
       "9   $100,000 - $150,000 a year   \n",
       "10  $150,000 - $175,000 a year   \n",
       "11     $3,811 - $3,889 a month   \n",
       "12  $100,000 - $200,000 a year   \n",
       "13             $300,000 a year   \n",
       "14    $43,692 - $51,120 a year   \n",
       "15  $130,000 - $180,000 a year   \n",
       "16  $100,000 - $200,000 a year   \n",
       "17  $130,000 - $150,000 a year   \n",
       "18  $100,000 - $140,000 a year   \n",
       "19  $110,000 - $180,000 a year   \n",
       "20             $150,000 a year   \n",
       "21  $140,000 - $200,000 a year   \n",
       "22   $80,000 - $200,000 a year   \n",
       "23    $67,500 - $81,600 a year   \n",
       "24              $65,000 a year   \n",
       "25  $180,000 - $275,000 a year   \n",
       "26  $130,000 - $150,000 a year   \n",
       "27  $100,000 - $140,000 a year   \n",
       "28  $140,000 - $200,000 a year   \n",
       "29             $100,000 a year   \n",
       "\n",
       "                                              summary  \\\n",
       "0   Data skills (SQL, Hive, Pig). Applying machine...   \n",
       "1   3+ years of industry experience in a data scie...   \n",
       "2   We are looking for a data scientist/developer ...   \n",
       "3   In this position you will share programming an...   \n",
       "4   This person will recruit, build and lead a tea...   \n",
       "5   Teams included Data Services(including data en...   \n",
       "6   Fraud Data Scientist. Seeking someone with ski...   \n",
       "7   Perform large-scale data analysis, find intere...   \n",
       "8   More data- they simply have more data than the...   \n",
       "9   Fraud Data Scientist. Seeking someone with ski...   \n",
       "10  Given the high volume of data collected by the...   \n",
       "11  Must be able to work in a greenhouse, manage d...   \n",
       "12  You will collaborate with Product, Data Engine...   \n",
       "13  Teams included Data Services(including data en...   \n",
       "14  Demonstrated experience with programming for b...   \n",
       "15  This leading company has a job opening for Pri...   \n",
       "16  You will collaborate with Product, Data Engine...   \n",
       "17  2+ years of experience in Data Scientist, Quan...   \n",
       "18  Solid experience in data science. Established ...   \n",
       "19  Machine Learning Developer Brisbane, CA Sign o...   \n",
       "20  The Brilent team brings together deep experien...   \n",
       "21  The Senior Data Scientist position requires a ...   \n",
       "22  VP - Predictive Modeling / Data Scientist. Han...   \n",
       "23  Ensures accuracy and completeness of data in m...   \n",
       "24  Scientific Researcher – Next Gen Sequencing Sc...   \n",
       "25  This is an opportunity to lead a team of talen...   \n",
       "26  2+ years of experience in Data Scientist, Quan...   \n",
       "27  Solid experience in data science. Established ...   \n",
       "28  The Senior Data Scientist position requires a ...   \n",
       "29  Strong data analysis skills including setting ...   \n",
       "\n",
       "                                                title  parsed_salary  \\\n",
       "0                                      Data Scientist         180000   \n",
       "1                               Senior Data Scientist         155000   \n",
       "2                           Full-Stack Data Scientist         100000   \n",
       "3                                      Data Scientist         165000   \n",
       "4                                      Data Scientist         140000   \n",
       "5                                 VP of Data Services         300000   \n",
       "6                                Fraud Data Scientist         125000   \n",
       "7                               Senior Data Scientist         130000   \n",
       "8                               Senior Data Scientist         160000   \n",
       "9                                Fraud Data Scientist         125000   \n",
       "10                Python Developer (Machine Learning)         162500   \n",
       "11                      Staff Research Associate, PMB           3850   \n",
       "12  Chief Algorithm Developer (Signal Processing) ...         150000   \n",
       "13                                VP of Data Services         300000   \n",
       "14  Post-Doctoral Scholar-Employee: Analysis of om...          47406   \n",
       "15                           Principal Data Scientist         155000   \n",
       "16  Chief Algorithm Developer (Signal Processing) ...         150000   \n",
       "17                      Data Scientist (Econometrics)         140000   \n",
       "18              Data Scientist (Statistics/Economics)         120000   \n",
       "19                  Data Scientist (Machine Learning)         145000   \n",
       "20                      Senior NLP Scientist/Engineer         150000   \n",
       "21  Senior Data Scientist (Autonomous Vehicle Rese...         170000   \n",
       "22          VP - Predictive Modeling / Data Scientist         140000   \n",
       "23                        Database Administrator, GSE          74550   \n",
       "24                              Scientific Researcher          65000   \n",
       "25  Vice President Engineering (Big Data/ Machine ...         227500   \n",
       "26                      Data Scientist (Econometrics)         140000   \n",
       "27              Data Scientist (Statistics/Economics)         120000   \n",
       "28  Senior Data Scientist (Autonomous Vehicle Rese...         170000   \n",
       "29                          Quality Control Scientist         100000   \n",
       "\n",
       "    hourly_salary  monthly_salary  annual_salary  above_average_salary  \\\n",
       "0             NaN             NaN         180000                     1   \n",
       "1             NaN             NaN         155000                     1   \n",
       "2             NaN             NaN         100000                     0   \n",
       "3             NaN             NaN         165000                     1   \n",
       "4             NaN             NaN         140000                     1   \n",
       "5             NaN             NaN         300000                     1   \n",
       "6             NaN             NaN         125000                     1   \n",
       "7             NaN             NaN         130000                     1   \n",
       "8             NaN             NaN         160000                     1   \n",
       "9             NaN             NaN         125000                     1   \n",
       "10            NaN             NaN         162500                     1   \n",
       "11            NaN            3850            NaN                   NaN   \n",
       "12            NaN             NaN         150000                     1   \n",
       "13            NaN             NaN         300000                     1   \n",
       "14            NaN             NaN          47406                     0   \n",
       "15            NaN             NaN         155000                     1   \n",
       "16            NaN             NaN         150000                     1   \n",
       "17            NaN             NaN         140000                     1   \n",
       "18            NaN             NaN         120000                     0   \n",
       "19            NaN             NaN         145000                     1   \n",
       "20            NaN             NaN         150000                     1   \n",
       "21            NaN             NaN         170000                     1   \n",
       "22            NaN             NaN         140000                     1   \n",
       "23            NaN             NaN          74550                     0   \n",
       "24            NaN             NaN          65000                     0   \n",
       "25            NaN             NaN         227500                     1   \n",
       "26            NaN             NaN         140000                     1   \n",
       "27            NaN             NaN         120000                     0   \n",
       "28            NaN             NaN         170000                     1   \n",
       "29            NaN             NaN         100000                     0   \n",
       "\n",
       "    highval_count  midval_count  lowval_count  senior_count  constant  \\\n",
       "0               4             1             1             1         1   \n",
       "1               8             1             3             5         1   \n",
       "2               4             3             2             2         1   \n",
       "3               4             2             3             3         1   \n",
       "4               8             3             5             6         1   \n",
       "5               9             1             0             1         1   \n",
       "6               3             0             1             0         1   \n",
       "7               4             0             0             1         1   \n",
       "8               4             0             0             1         1   \n",
       "9               3             0             1             0         1   \n",
       "10              1             2             1             1         1   \n",
       "11              3             1             2             2         1   \n",
       "12              2             0             0             1         1   \n",
       "13              9             1             0             1         1   \n",
       "14              3             1             3             1         1   \n",
       "15              6             2             5             5         1   \n",
       "16              2             0             0             1         1   \n",
       "17              5             0             2             2         1   \n",
       "18              6             2             4             4         1   \n",
       "19              3             3             1             1         1   \n",
       "20              2             0             1             2         1   \n",
       "21              4             1             1             4         1   \n",
       "22              7             1             2             1         1   \n",
       "23              2             0             1             1         1   \n",
       "24              0             0             1             0         1   \n",
       "25              4             2             4             4         1   \n",
       "26              5             0             2             2         1   \n",
       "27              6             2             4             4         1   \n",
       "28              4             1             1             4         1   \n",
       "29              1             0             1             0         1   \n",
       "\n",
       "                                          description  \n",
       "0   Data skills (SQL, Hive, Pig). Applying machine...  \n",
       "1   3+ years of industry experience in a data scie...  \n",
       "2   We are looking for a data scientist/developer ...  \n",
       "3   In this position you will share programming an...  \n",
       "4   This person will recruit, build and lead a tea...  \n",
       "5   Teams included Data Services(including data en...  \n",
       "6   Fraud Data Scientist. Seeking someone with ski...  \n",
       "7   Perform large-scale data analysis, find intere...  \n",
       "8   More data- they simply have more data than the...  \n",
       "9   Fraud Data Scientist. Seeking someone with ski...  \n",
       "10  Given the high volume of data collected by the...  \n",
       "11  Must be able to work in a greenhouse, manage d...  \n",
       "12  You will collaborate with Product, Data Engine...  \n",
       "13  Teams included Data Services(including data en...  \n",
       "14  Demonstrated experience with programming for b...  \n",
       "15  This leading company has a job opening for Pri...  \n",
       "16  You will collaborate with Product, Data Engine...  \n",
       "17  2+ years of experience in Data Scientist, Quan...  \n",
       "18  Solid experience in data science. Established ...  \n",
       "19  Machine Learning Developer Brisbane, CA Sign o...  \n",
       "20  The Brilent team brings together deep experien...  \n",
       "21  The Senior Data Scientist position requires a ...  \n",
       "22  VP - Predictive Modeling / Data Scientist. Han...  \n",
       "23  Ensures accuracy and completeness of data in m...  \n",
       "24  Scientific Researcher – Next Gen Sequencing Sc...  \n",
       "25  This is an opportunity to lead a team of talen...  \n",
       "26  2+ years of experience in Data Scientist, Quan...  \n",
       "27  Solid experience in data science. Established ...  \n",
       "28  The Senior Data Scientist position requires a ...  \n",
       "29  Strong data analysis skills including setting ...  "
      ]
     },
     "execution_count": 15,
     "metadata": {},
     "output_type": "execute_result"
    }
   ],
   "source": [
    "# skill_list = ['python', 'r', 'learning', 'SQL', 'visualiz', 'mining', 'mung', 'clean', 'scikit-learn']\n",
    "# big_list = ['big', 'advanced', 'volume', 'hadoop', 'spark', 'engineer', 'large']\n",
    "senior_list = ['senior', 'sr', 'sr.', 'lead', 'principle', 'chief', 'specialist']\n",
    "\n",
    "#modified 7/9 (post-presentation) to update skill-list methodology into tiered skills\n",
    "# 'finance', 'financial' -- dropped from skill_high val\n",
    "skill_highval =['big data', 'hadoop', 'spark', 'hive', 'engineer', 'architect', 'finance', 'financial','learning', 'scikit', 'scikit-learn', 'pipeline', 'julia', 'hive','scala','tensorflow'] \n",
    "skill_midval = ['python', 'r', 'sql', 'matlab', 'sas', 'visualiz', 'java']\n",
    "skill_lowval = ['spreadsheet', 'excel', 'mining', 'analyst', 'clean', 'mung', 'analysis', 'query', 'metric', 'analytic', 'intelligence', 'business']\n",
    "\n",
    "\n",
    "indeeder['highval_count'] = 0\n",
    "indeeder['midval_count'] = 0\n",
    "indeeder['lowval_count'] = 0\n",
    "\n",
    "# indeeder['skill_count'] = 0  \n",
    "indeeder['senior_count'] = 0 \n",
    "# indeeder['big_count'] = 0 \n",
    "indeeder['constant'] = 1\n",
    "indeeder = indeeder.reset_index()\n",
    "indeeder['description'] = indeeder['summary']\n",
    "        \n",
    "#make a list combining description and title?? then run each word from that list through high val skills lists\n",
    "    \n",
    "for z in range(len(indeeder['description'])):\n",
    "    try:\n",
    "        for h in str(indeeder['description'][z]).lower().split():  \n",
    "            if any(h in s for s in skill_highval):\n",
    "                indeeder.ix[z,'highval_count'] += 1\n",
    "        for u in str(indeeder['description'][z]).lower().split():  \n",
    "            if any(u in k for k in senior_list):\n",
    "                indeeder.ix[z,'senior_count'] += 1\n",
    "        for d in str(indeeder['description'][z]).lower().split():\n",
    "            if any(d in q for q in skill_midval):\n",
    "                indeeder.ix[z,'midval_count'] += 1\n",
    "        for o in str(indeeder['description'][z]).lower().split():\n",
    "            if any(o in n for n in skill_lowval):\n",
    "                indeeder.ix[z,'lowval_count'] += 1\n",
    "    except (ValueError, AttributeError):\n",
    "        continue\n",
    "        \n",
    "for y in range(len(indeeder['title'])):\n",
    "    try:\n",
    "        for h1 in str(indeeder['title'][y]).lower().split():  \n",
    "            if any(h1 in s1 for s1 in skill_highval):\n",
    "                indeeder.ix[y,'highval_count'] += 1\n",
    "        for u1 in str(indeeder['title'][y]).lower().split():  \n",
    "            if any(u1 in k1 for k1 in senior_list):\n",
    "                indeeder.ix[y,'senior_count'] += 1\n",
    "        for d1 in str(indeeder['title'][y]).lower().split():\n",
    "            if any(d1 in q1 for q1 in skill_midval):\n",
    "                indeeder.ix[y,'midval_count'] += 1\n",
    "        for o1 in str(indeeder['title'][y]).lower().split():\n",
    "            if any(o1 in n1 for n1 in skill_lowval):\n",
    "                indeeder.ix[y,'lowval_count'] += 1\n",
    "    except (ValueError, AttributeError):\n",
    "        continue    \n",
    "    \n",
    "    \n",
    "    \n",
    "    \n",
    "# for z in range(len(indeeder['description'])):\n",
    "#     try:\n",
    "#         for h in str(indeeder['description'][z]).split():  \n",
    "#             if any(h in s for s in skill_list):\n",
    "#                 indeeder.ix[z,'skill_count'] += 1\n",
    "#         for u in indeeder['description'][z].split():  \n",
    "#             if any(u in k for k in senior_list):\n",
    "#                 indeeder.ix[z,'senior_count'] += 1\n",
    "#         for d in indeeder['description'][z].split():\n",
    "#             if any(d in q for q in big_list):\n",
    "#                 indeeder.ix[z,'big_count'] += 1\n",
    "#     except (ValueError, AttributeError):\n",
    "#         continue\n",
    "            \n",
    "indeeder.head(30)\n",
    "\n",
    "#looks like this starts dropping values around 15th row, also rows 29-39"
   ]
  },
  {
   "cell_type": "code",
   "execution_count": 16,
   "metadata": {
    "collapsed": true
   },
   "outputs": [],
   "source": [
    "#duplicating above with binary\n",
    "\n",
    "# indeeder['skill_binary'] = indeeder['skill_count'].apply(lambda x: 1 if x > 0 else 0)\n",
    "indeeder['senior_binary'] = indeeder['senior_count'].apply(lambda x: 1 if x > 0 else 0)\n",
    "# indeeder['big_binary'] = indeeder['big_count'].apply(lambda x: 1 if x > 0 else 0)\n",
    "\n",
    "indeeder['highval_binary'] = indeeder['highval_count'].apply(lambda x: 1 if x > 0 else 0)\n",
    "indeeder['midval_binary'] = indeeder['midval_count'].apply(lambda x: 1 if x > 0 else 0)\n",
    "indeeder['lowval_binary'] = indeeder['lowval_count'].apply(lambda x: 1 if x > 0 else 0)\n"
   ]
  },
  {
   "cell_type": "code",
   "execution_count": null,
   "metadata": {
    "collapsed": false
   },
   "outputs": [],
   "source": []
  },
  {
   "cell_type": "code",
   "execution_count": 17,
   "metadata": {
    "collapsed": false
   },
   "outputs": [],
   "source": [
    "# before creating subsample with valid y values, checking shape/size\n"
   ]
  },
  {
   "cell_type": "markdown",
   "metadata": {},
   "source": [
    "Baseline accuracy in the model should be 50%, as we're going to compare each opportunity to the mean value found in the dataset, meaning there are only two options: higher or lower. If we cannot create a model that outperforms a coinflip, we have failed miserably. "
   ]
  },
  {
   "cell_type": "code",
   "execution_count": 18,
   "metadata": {
    "collapsed": false
   },
   "outputs": [
    {
     "data": {
      "text/plain": [
       "0    1\n",
       "1    1\n",
       "2    0\n",
       "3    1\n",
       "4    1\n",
       "Name: above_average_salary, dtype: float64"
      ]
     },
     "execution_count": 18,
     "metadata": {},
     "output_type": "execute_result"
    }
   ],
   "source": [
    "import statsmodels.api as sm\n",
    "import pandas as pd\n",
    "import pylab as pl\n",
    "import numpy as np\n",
    "import patsy\n",
    "\n",
    "from sklearn.metrics import classification_report, confusion_matrix, accuracy_score\n",
    "from sklearn.cross_validation import train_test_split, cross_val_score\n",
    "from sklearn.linear_model import LogisticRegression, LogisticRegressionCV\n",
    "from sklearn.grid_search import GridSearchCV\n",
    "from sklearn.metrics import roc_auc_score\n",
    "\n",
    "\n",
    "\n",
    "vals = [0,1]\n",
    "indeeder_subsamp = indeeder.loc[indeeder['above_average_salary'].isin(vals)]\n",
    "y = indeeder_subsamp['above_average_salary']\n",
    "y.head()\n",
    "#only 5 values to train on? Can't figure out where I'm losing all this data\n"
   ]
  },
  {
   "cell_type": "code",
   "execution_count": 19,
   "metadata": {
    "collapsed": true
   },
   "outputs": [],
   "source": [
    "# city_list = ['SF', 'San Francisco', 'Francisco', 'New York', 'York', 'NY', 'NYC']\n",
    "# indeeder['big_city'] = 0\n",
    "\n",
    "# for gindex, gvalue in enumerate(indeeder['location']):\n",
    "#     if any(str(gvalue.split()) in city_list:\n",
    "#         indeeder['big_city'][gindex] = 1\n",
    "\n",
    "\n",
    "# X_lame = pd.get_dummies(indeeder.loc['big_city', 'constant'])"
   ]
  },
  {
   "cell_type": "code",
   "execution_count": 20,
   "metadata": {
    "collapsed": false
   },
   "outputs": [
    {
     "data": {
      "text/html": [
       "<div>\n",
       "<table border=\"1\" class=\"dataframe\">\n",
       "  <thead>\n",
       "    <tr style=\"text-align: right;\">\n",
       "      <th></th>\n",
       "      <th>index</th>\n",
       "      <th>parsed_salary</th>\n",
       "      <th>hourly_salary</th>\n",
       "      <th>monthly_salary</th>\n",
       "      <th>annual_salary</th>\n",
       "      <th>above_average_salary</th>\n",
       "      <th>highval_count</th>\n",
       "      <th>midval_count</th>\n",
       "      <th>lowval_count</th>\n",
       "      <th>senior_count</th>\n",
       "      <th>constant</th>\n",
       "      <th>senior_binary</th>\n",
       "      <th>highval_binary</th>\n",
       "      <th>midval_binary</th>\n",
       "      <th>lowval_binary</th>\n",
       "    </tr>\n",
       "  </thead>\n",
       "  <tbody>\n",
       "    <tr>\n",
       "      <th>count</th>\n",
       "      <td>2437.000000</td>\n",
       "      <td>2437.00000</td>\n",
       "      <td>0</td>\n",
       "      <td>0</td>\n",
       "      <td>2437.00000</td>\n",
       "      <td>2437.000000</td>\n",
       "      <td>2437.000000</td>\n",
       "      <td>2437.000000</td>\n",
       "      <td>2437.000000</td>\n",
       "      <td>2437.000000</td>\n",
       "      <td>2437</td>\n",
       "      <td>2437.000000</td>\n",
       "      <td>2437.000000</td>\n",
       "      <td>2437.000000</td>\n",
       "      <td>2437.000000</td>\n",
       "    </tr>\n",
       "    <tr>\n",
       "      <th>mean</th>\n",
       "      <td>2564.780878</td>\n",
       "      <td>124497.42778</td>\n",
       "      <td>NaN</td>\n",
       "      <td>NaN</td>\n",
       "      <td>124497.42778</td>\n",
       "      <td>0.632745</td>\n",
       "      <td>3.078785</td>\n",
       "      <td>1.286828</td>\n",
       "      <td>1.387772</td>\n",
       "      <td>1.631514</td>\n",
       "      <td>1</td>\n",
       "      <td>0.656545</td>\n",
       "      <td>0.997538</td>\n",
       "      <td>0.648338</td>\n",
       "      <td>0.525646</td>\n",
       "    </tr>\n",
       "    <tr>\n",
       "      <th>std</th>\n",
       "      <td>1754.781229</td>\n",
       "      <td>34748.64662</td>\n",
       "      <td>NaN</td>\n",
       "      <td>NaN</td>\n",
       "      <td>34748.64662</td>\n",
       "      <td>0.482156</td>\n",
       "      <td>1.483194</td>\n",
       "      <td>1.354992</td>\n",
       "      <td>1.609260</td>\n",
       "      <td>2.005237</td>\n",
       "      <td>0</td>\n",
       "      <td>0.474959</td>\n",
       "      <td>0.049568</td>\n",
       "      <td>0.477587</td>\n",
       "      <td>0.499444</td>\n",
       "    </tr>\n",
       "    <tr>\n",
       "      <th>min</th>\n",
       "      <td>0.000000</td>\n",
       "      <td>35000.00000</td>\n",
       "      <td>NaN</td>\n",
       "      <td>NaN</td>\n",
       "      <td>35000.00000</td>\n",
       "      <td>0.000000</td>\n",
       "      <td>0.000000</td>\n",
       "      <td>0.000000</td>\n",
       "      <td>0.000000</td>\n",
       "      <td>0.000000</td>\n",
       "      <td>1</td>\n",
       "      <td>0.000000</td>\n",
       "      <td>0.000000</td>\n",
       "      <td>0.000000</td>\n",
       "      <td>0.000000</td>\n",
       "    </tr>\n",
       "    <tr>\n",
       "      <th>25%</th>\n",
       "      <td>614.000000</td>\n",
       "      <td>85000.00000</td>\n",
       "      <td>NaN</td>\n",
       "      <td>NaN</td>\n",
       "      <td>85000.00000</td>\n",
       "      <td>0.000000</td>\n",
       "      <td>2.000000</td>\n",
       "      <td>0.000000</td>\n",
       "      <td>0.000000</td>\n",
       "      <td>0.000000</td>\n",
       "      <td>1</td>\n",
       "      <td>0.000000</td>\n",
       "      <td>1.000000</td>\n",
       "      <td>0.000000</td>\n",
       "      <td>0.000000</td>\n",
       "    </tr>\n",
       "    <tr>\n",
       "      <th>50%</th>\n",
       "      <td>3383.000000</td>\n",
       "      <td>130000.00000</td>\n",
       "      <td>NaN</td>\n",
       "      <td>NaN</td>\n",
       "      <td>130000.00000</td>\n",
       "      <td>1.000000</td>\n",
       "      <td>3.000000</td>\n",
       "      <td>1.000000</td>\n",
       "      <td>1.000000</td>\n",
       "      <td>1.000000</td>\n",
       "      <td>1</td>\n",
       "      <td>1.000000</td>\n",
       "      <td>1.000000</td>\n",
       "      <td>1.000000</td>\n",
       "      <td>1.000000</td>\n",
       "    </tr>\n",
       "    <tr>\n",
       "      <th>75%</th>\n",
       "      <td>4181.000000</td>\n",
       "      <td>150000.00000</td>\n",
       "      <td>NaN</td>\n",
       "      <td>NaN</td>\n",
       "      <td>150000.00000</td>\n",
       "      <td>1.000000</td>\n",
       "      <td>3.000000</td>\n",
       "      <td>2.000000</td>\n",
       "      <td>3.000000</td>\n",
       "      <td>2.000000</td>\n",
       "      <td>1</td>\n",
       "      <td>1.000000</td>\n",
       "      <td>1.000000</td>\n",
       "      <td>1.000000</td>\n",
       "      <td>1.000000</td>\n",
       "    </tr>\n",
       "    <tr>\n",
       "      <th>max</th>\n",
       "      <td>4790.000000</td>\n",
       "      <td>300000.00000</td>\n",
       "      <td>NaN</td>\n",
       "      <td>NaN</td>\n",
       "      <td>300000.00000</td>\n",
       "      <td>1.000000</td>\n",
       "      <td>9.000000</td>\n",
       "      <td>4.000000</td>\n",
       "      <td>8.000000</td>\n",
       "      <td>8.000000</td>\n",
       "      <td>1</td>\n",
       "      <td>1.000000</td>\n",
       "      <td>1.000000</td>\n",
       "      <td>1.000000</td>\n",
       "      <td>1.000000</td>\n",
       "    </tr>\n",
       "  </tbody>\n",
       "</table>\n",
       "</div>"
      ],
      "text/plain": [
       "             index  parsed_salary  hourly_salary  monthly_salary  \\\n",
       "count  2437.000000     2437.00000              0               0   \n",
       "mean   2564.780878   124497.42778            NaN             NaN   \n",
       "std    1754.781229    34748.64662            NaN             NaN   \n",
       "min       0.000000    35000.00000            NaN             NaN   \n",
       "25%     614.000000    85000.00000            NaN             NaN   \n",
       "50%    3383.000000   130000.00000            NaN             NaN   \n",
       "75%    4181.000000   150000.00000            NaN             NaN   \n",
       "max    4790.000000   300000.00000            NaN             NaN   \n",
       "\n",
       "       annual_salary  above_average_salary  highval_count  midval_count  \\\n",
       "count     2437.00000           2437.000000    2437.000000   2437.000000   \n",
       "mean    124497.42778              0.632745       3.078785      1.286828   \n",
       "std      34748.64662              0.482156       1.483194      1.354992   \n",
       "min      35000.00000              0.000000       0.000000      0.000000   \n",
       "25%      85000.00000              0.000000       2.000000      0.000000   \n",
       "50%     130000.00000              1.000000       3.000000      1.000000   \n",
       "75%     150000.00000              1.000000       3.000000      2.000000   \n",
       "max     300000.00000              1.000000       9.000000      4.000000   \n",
       "\n",
       "       lowval_count  senior_count  constant  senior_binary  highval_binary  \\\n",
       "count   2437.000000   2437.000000      2437    2437.000000     2437.000000   \n",
       "mean       1.387772      1.631514         1       0.656545        0.997538   \n",
       "std        1.609260      2.005237         0       0.474959        0.049568   \n",
       "min        0.000000      0.000000         1       0.000000        0.000000   \n",
       "25%        0.000000      0.000000         1       0.000000        1.000000   \n",
       "50%        1.000000      1.000000         1       1.000000        1.000000   \n",
       "75%        3.000000      2.000000         1       1.000000        1.000000   \n",
       "max        8.000000      8.000000         1       1.000000        1.000000   \n",
       "\n",
       "       midval_binary  lowval_binary  \n",
       "count    2437.000000    2437.000000  \n",
       "mean        0.648338       0.525646  \n",
       "std         0.477587       0.499444  \n",
       "min         0.000000       0.000000  \n",
       "25%         0.000000       0.000000  \n",
       "50%         1.000000       1.000000  \n",
       "75%         1.000000       1.000000  \n",
       "max         1.000000       1.000000  "
      ]
     },
     "execution_count": 20,
     "metadata": {},
     "output_type": "execute_result"
    }
   ],
   "source": [
    "#most basic logistic regression\n",
    "indeeder_subsamp.describe()"
   ]
  },
  {
   "cell_type": "code",
   "execution_count": 21,
   "metadata": {
    "collapsed": false
   },
   "outputs": [
    {
     "data": {
      "image/png": "[encoded data removed]",
      "text/plain": [
       "<matplotlib.figure.Figure at 0x11abc8a50>"
      ]
     },
     "metadata": {},
     "output_type": "display_data"
    }
   ],
   "source": [
    "import seaborn as sns\n",
    "%matplotlib inline\n",
    "\n",
    "sns_plot = sns.distplot(indeeder_subsamp['annual_salary'])\n",
    "# sns_plot.savefig(\"annual_salary_hist.jpg\")\n",
    "\n",
    "\n",
    "# sns_transsize_volsold = sns.jointplot(q1_X['avg_trans_size'],q1_X['avg_vol_sold_L'])\n",
    "# sns_transsize_volsold.savefig(\"sns_transsize_volsold.png\")\n"
   ]
  },
  {
   "cell_type": "code",
   "execution_count": 22,
   "metadata": {
    "collapsed": false
   },
   "outputs": [
    {
     "data": {
      "text/plain": [
       "0       1\n",
       "1       3\n",
       "2       2\n",
       "3       3\n",
       "4       5\n",
       "5       0\n",
       "6       1\n",
       "7       0\n",
       "8       0\n",
       "9       1\n",
       "10      1\n",
       "11      2\n",
       "12      0\n",
       "13      0\n",
       "14      3\n",
       "15      5\n",
       "16      0\n",
       "17      2\n",
       "18      4\n",
       "19      1\n",
       "20      1\n",
       "21      1\n",
       "22      2\n",
       "23      1\n",
       "24      1\n",
       "25      4\n",
       "26      2\n",
       "27      4\n",
       "28      1\n",
       "29      1\n",
       "       ..\n",
       "4761    1\n",
       "4762    3\n",
       "4763    0\n",
       "4764    3\n",
       "4765    0\n",
       "4766    1\n",
       "4767    3\n",
       "4768    0\n",
       "4769    1\n",
       "4770    3\n",
       "4771    0\n",
       "4772    1\n",
       "4773    1\n",
       "4774    3\n",
       "4775    0\n",
       "4776    1\n",
       "4777    3\n",
       "4778    0\n",
       "4779    3\n",
       "4780    0\n",
       "4781    3\n",
       "4782    0\n",
       "4783    1\n",
       "4784    3\n",
       "4785    0\n",
       "4786    1\n",
       "4787    3\n",
       "4788    0\n",
       "4789    3\n",
       "4790    0\n",
       "Name: lowval_count, dtype: int64"
      ]
     },
     "execution_count": 22,
     "metadata": {},
     "output_type": "execute_result"
    }
   ],
   "source": [
    "features = indeeder_subsamp.loc[:,['senior_count', 'highval_count', 'midval_count','lowval_count', 'constant']]#will add 'big_city' later\n",
    "binary_features = indeeder_subsamp.loc[:,['senior_binary', 'highval_binary', 'midval_binary', 'lowval_count', 'constant']]\n",
    "\n",
    "indeeder['highval_count'] = 0\n",
    "indeeder['midval_count'] = 0\n",
    "indeeder['lowval_count']\n",
    "\n",
    "# .loc[['a', 'b', 'd'], :]"
   ]
  },
  {
   "cell_type": "code",
   "execution_count": null,
   "metadata": {
    "collapsed": false
   },
   "outputs": [],
   "source": []
  },
  {
   "cell_type": "code",
   "execution_count": 23,
   "metadata": {
    "collapsed": false
   },
   "outputs": [
    {
     "data": {
      "text/html": [
       "<div>\n",
       "<table border=\"1\" class=\"dataframe\">\n",
       "  <thead>\n",
       "    <tr style=\"text-align: right;\">\n",
       "      <th></th>\n",
       "      <th>senior_count</th>\n",
       "      <th>highval_count</th>\n",
       "      <th>midval_count</th>\n",
       "      <th>lowval_count</th>\n",
       "      <th>constant</th>\n",
       "    </tr>\n",
       "  </thead>\n",
       "  <tbody>\n",
       "    <tr>\n",
       "      <th>0</th>\n",
       "      <td>1</td>\n",
       "      <td>4</td>\n",
       "      <td>1</td>\n",
       "      <td>1</td>\n",
       "      <td>1</td>\n",
       "    </tr>\n",
       "    <tr>\n",
       "      <th>1</th>\n",
       "      <td>5</td>\n",
       "      <td>8</td>\n",
       "      <td>1</td>\n",
       "      <td>3</td>\n",
       "      <td>1</td>\n",
       "    </tr>\n",
       "    <tr>\n",
       "      <th>2</th>\n",
       "      <td>2</td>\n",
       "      <td>4</td>\n",
       "      <td>3</td>\n",
       "      <td>2</td>\n",
       "      <td>1</td>\n",
       "    </tr>\n",
       "    <tr>\n",
       "      <th>3</th>\n",
       "      <td>3</td>\n",
       "      <td>4</td>\n",
       "      <td>2</td>\n",
       "      <td>3</td>\n",
       "      <td>1</td>\n",
       "    </tr>\n",
       "    <tr>\n",
       "      <th>4</th>\n",
       "      <td>6</td>\n",
       "      <td>8</td>\n",
       "      <td>3</td>\n",
       "      <td>5</td>\n",
       "      <td>1</td>\n",
       "    </tr>\n",
       "  </tbody>\n",
       "</table>\n",
       "</div>"
      ],
      "text/plain": [
       "   senior_count  highval_count  midval_count  lowval_count  constant\n",
       "0             1              4             1             1         1\n",
       "1             5              8             1             3         1\n",
       "2             2              4             3             2         1\n",
       "3             3              4             2             3         1\n",
       "4             6              8             3             5         1"
      ]
     },
     "execution_count": 23,
     "metadata": {},
     "output_type": "execute_result"
    }
   ],
   "source": [
    "X = features\n",
    "X1 = binary_features\n",
    "X.head()"
   ]
  },
  {
   "cell_type": "code",
   "execution_count": 24,
   "metadata": {
    "collapsed": false
   },
   "outputs": [],
   "source": [
    "X_train, X_test, y_train, y_test = train_test_split(X, y, test_size=0.33, random_state=50)\n",
    "X1_train, X1_test, y1_train, y1_test = train_test_split(X1, y, test_size=0.33, random_state=50)\n"
   ]
  },
  {
   "cell_type": "code",
   "execution_count": 25,
   "metadata": {
    "collapsed": false
   },
   "outputs": [
    {
     "name": "stdout",
     "output_type": "stream",
     "text": [
      "     0    1\n",
      "0  259   24\n",
      "1   15  507\n"
     ]
    }
   ],
   "source": [
    "#regression using counts\n",
    "\n",
    "lr_basic = LogisticRegression(solver='liblinear') #can i take away penalty? make sure this is statsmodels\n",
    "lr_basic_model = lr_basic.fit(X_train, y_train)\n",
    "lr_basic_ypred = lr_basic_model.predict(X_test)\n",
    "\n",
    "lr_basic_cm = confusion_matrix(y_test, lr_basic_ypred, labels=lr_basic.classes_)\n",
    "lr_basic_cm_df = pd.DataFrame(lr_basic_cm, columns=lr_basic.classes_, index=lr_basic.classes_) #lr_l1_SF is instance of model\n",
    "print(lr_basic_cm_df)"
   ]
  },
  {
   "cell_type": "code",
   "execution_count": 26,
   "metadata": {
    "collapsed": false
   },
   "outputs": [
    {
     "name": "stdout",
     "output_type": "stream",
     "text": [
      "             precision    recall  f1-score   support\n",
      "\n",
      "        0.0       0.95      0.92      0.93       283\n",
      "        1.0       0.95      0.97      0.96       522\n",
      "\n",
      "avg / total       0.95      0.95      0.95       805\n",
      "\n"
     ]
    }
   ],
   "source": [
    "% matplotlib inline\n",
    "print(classification_report(y_test, lr_basic_ypred, labels=lr_basic.classes_))"
   ]
  },
  {
   "cell_type": "code",
   "execution_count": 27,
   "metadata": {
    "collapsed": false
   },
   "outputs": [
    {
     "data": {
      "text/plain": [
       "0.95580600060303422"
      ]
     },
     "execution_count": 27,
     "metadata": {},
     "output_type": "execute_result"
    }
   ],
   "source": [
    "cross_val_score(lr_basic, X, y, cv=10).mean()"
   ]
  },
  {
   "cell_type": "code",
   "execution_count": null,
   "metadata": {
    "collapsed": true
   },
   "outputs": [],
   "source": []
  },
  {
   "cell_type": "code",
   "execution_count": 28,
   "metadata": {
    "collapsed": false
   },
   "outputs": [
    {
     "name": "stdout",
     "output_type": "stream",
     "text": [
      "     0    1\n",
      "0   16  267\n",
      "1  137  385\n"
     ]
    }
   ],
   "source": [
    "#regression using binary\n",
    "\n",
    "lr_bin = LogisticRegression(solver='liblinear') #can i take away penalty? make sure this is statsmodels\n",
    "lr_bin_model = lr_bin.fit(X1_train, y1_train)\n",
    "lr_bin_ypred = lr_bin_model.predict(X1_test)\n",
    "\n",
    "lr_bin_cm = confusion_matrix(y1_test, lr_bin_ypred, labels=lr_bin.classes_)\n",
    "lr_bin_cm_df = pd.DataFrame(lr_bin_cm, columns=lr_bin.classes_, index=lr_bin.classes_) #lr_l1_SF is instance of model\n",
    "print(lr_bin_cm_df)"
   ]
  },
  {
   "cell_type": "code",
   "execution_count": 29,
   "metadata": {
    "collapsed": false
   },
   "outputs": [
    {
     "name": "stdout",
     "output_type": "stream",
     "text": [
      "             precision    recall  f1-score   support\n",
      "\n",
      "        0.0       0.10      0.06      0.07       283\n",
      "        1.0       0.59      0.74      0.66       522\n",
      "\n",
      "avg / total       0.42      0.50      0.45       805\n",
      "\n"
     ]
    }
   ],
   "source": [
    "print(classification_report(y1_test, lr_bin_ypred, labels=lr_bin.classes_))"
   ]
  },
  {
   "cell_type": "code",
   "execution_count": 30,
   "metadata": {
    "collapsed": false
   },
   "outputs": [
    {
     "data": {
      "text/plain": [
       "0.36448507352748838"
      ]
     },
     "execution_count": 30,
     "metadata": {},
     "output_type": "execute_result"
    }
   ],
   "source": [
    "cross_val_score(lr_bin, X1, y, cv=10).mean()"
   ]
  },
  {
   "cell_type": "code",
   "execution_count": 31,
   "metadata": {
    "collapsed": true
   },
   "outputs": [],
   "source": [
    "# generic curve plotting function\n",
    "import matplotlib.pyplot as plt\n",
    "from sklearn import metrics\n",
    "def auc_plotting_function(rate1, rate2, rate1_name, rate2_name, curve_name):\n",
    "    AUC = metrics.auc(rate1, rate2)\n",
    "    # Plot of a ROC curve for class 1 (has_cancer)\n",
    "    plt.figure(figsize=[11,9])\n",
    "    plt.plot(rate1, rate2, label=curve_name + ' (area = %0.2f)' % AUC, linewidth=4)\n",
    "    plt.plot([0, 1], [0, 1], 'k--', linewidth=4)\n",
    "    plt.xlim([0.0, 1.0])\n",
    "    plt.ylim([0.0, 1.05])\n",
    "    plt.xlabel(rate1_name, fontsize=18)\n",
    "    plt.ylabel(rate2_name, fontsize=18)\n",
    "    plt.title(curve_name + ' for salary > ~100,000', fontsize=18)\n",
    "    plt.legend(loc=\"lower right\")\n",
    "    plt.show()\n",
    "\n",
    "# plot receiving operator characteristic curve\n",
    "def plot_roc(y_true, y_score):\n",
    "    fpr, tpr, _ = metrics.roc_curve(y_true, y_score)\n",
    "    auc_plotting_function(fpr, tpr, 'False Positive Rate', 'True Positive Rate', 'ROC')"
   ]
  },
  {
   "cell_type": "code",
   "execution_count": 32,
   "metadata": {
    "collapsed": false
   },
   "outputs": [
    {
     "data": {
      "image/png": "[encoded data removed]",
      "text/plain": [
       "<matplotlib.figure.Figure at 0x11d60c050>"
      ]
     },
     "metadata": {},
     "output_type": "display_data"
    }
   ],
   "source": [
    "\n",
    "y_score_basic = lr_basic.decision_function(X_test)\n",
    "plot_roc(y_test, y_score_basic)\n"
   ]
  },
  {
   "cell_type": "code",
   "execution_count": 33,
   "metadata": {
    "collapsed": false
   },
   "outputs": [
    {
     "data": {
      "image/png": "[encoded data removed]",
      "text/plain": [
       "<matplotlib.figure.Figure at 0x11d688410>"
      ]
     },
     "metadata": {},
     "output_type": "display_data"
    }
   ],
   "source": [
    "y_score_bin = lr_bin.decision_function(X1_test)\n",
    "plot_roc(y1_test, y_score_bin)"
   ]
  },
  {
   "cell_type": "code",
   "execution_count": 34,
   "metadata": {
    "collapsed": false
   },
   "outputs": [
    {
     "name": "stdout",
     "output_type": "stream",
     "text": [
      "             precision    recall  f1-score   support\n",
      "\n",
      "        0.0       0.95      0.92      0.93       283\n",
      "        1.0       0.95      0.97      0.96       522\n",
      "\n",
      "avg / total       0.95      0.95      0.95       805\n",
      "\n"
     ]
    }
   ],
   "source": [
    "print(classification_report(y_test, lr_basic_ypred, labels=lr_basic.classes_))"
   ]
  },
  {
   "cell_type": "code",
   "execution_count": 35,
   "metadata": {
    "collapsed": false
   },
   "outputs": [
    {
     "data": {
      "text/plain": [
       "<matplotlib.axes._subplots.AxesSubplot at 0x11d881250>"
      ]
     },
     "execution_count": 35,
     "metadata": {},
     "output_type": "execute_result"
    },
    {
     "data": {
      "image/png": "[encoded data removed]",
      "text/plain": [
       "<matplotlib.figure.Figure at 0x11d01e610>"
      ]
     },
     "metadata": {},
     "output_type": "display_data"
    }
   ],
   "source": [
    "import seaborn as sns\n",
    "\n",
    "sns.heatmap(lr_bin_cm_df, vmin=None, vmax=None, cmap='plasma', center=None, robust=False, annot=None, fmt='.2g', annot_kws=None, linewidths=0, linecolor='white', cbar=True, cbar_kws=None, cbar_ax=None, square=False, ax=None, xticklabels=(\"Below Avg Sal (Predicted)\",\"Above Avg Sal (Predicted)\"), yticklabels=(\"Below Avg Sal (Observed)\",\"Above Avg Sal (Observed)\"), mask=None)"
   ]
  },
  {
   "cell_type": "code",
   "execution_count": 36,
   "metadata": {
    "collapsed": false
   },
   "outputs": [
    {
     "data": {
      "text/plain": [
       "array([[ 1.96568361,  0.23383012,  0.40361068, -0.46239142, -0.25609481]])"
      ]
     },
     "execution_count": 36,
     "metadata": {},
     "output_type": "execute_result"
    }
   ],
   "source": [
    "lr_bin_model.coef_"
   ]
  },
  {
   "cell_type": "code",
   "execution_count": 37,
   "metadata": {
    "collapsed": false
   },
   "outputs": [
    {
     "data": {
      "text/plain": [
       "array([[ 4.76960742,  0.44250455, -2.5588592 , -3.29871347,  0.11653423]])"
      ]
     },
     "execution_count": 37,
     "metadata": {},
     "output_type": "execute_result"
    }
   ],
   "source": [
    "lr_basic_model.coef_\n",
    "# ['senior_count', 'highval_count', 'midval_count','lowval_count', 'constant']"
   ]
  },
  {
   "cell_type": "code",
   "execution_count": 38,
   "metadata": {
    "collapsed": false
   },
   "outputs": [
    {
     "data": {
      "text/html": [
       "<div>\n",
       "<table border=\"1\" class=\"dataframe\">\n",
       "  <thead>\n",
       "    <tr style=\"text-align: right;\">\n",
       "      <th></th>\n",
       "      <th>0.0</th>\n",
       "      <th>1.0</th>\n",
       "    </tr>\n",
       "  </thead>\n",
       "  <tbody>\n",
       "    <tr>\n",
       "      <th>0</th>\n",
       "      <td>259</td>\n",
       "      <td>24</td>\n",
       "    </tr>\n",
       "    <tr>\n",
       "      <th>1</th>\n",
       "      <td>15</td>\n",
       "      <td>507</td>\n",
       "    </tr>\n",
       "  </tbody>\n",
       "</table>\n",
       "</div>"
      ],
      "text/plain": [
       "     0    1\n",
       "0  259   24\n",
       "1   15  507"
      ]
     },
     "execution_count": 38,
     "metadata": {},
     "output_type": "execute_result"
    }
   ],
   "source": [
    "#Lasso\n",
    "lr_l1 = LogisticRegression(penalty='l1', solver='liblinear') #can i take away penalty? make sure this is statsmodels\n",
    "lr_l1_model = lr_l1.fit(X_train, y_train)\n",
    "lr_l1_ypred = lr_l1_model.predict(X_test)\n",
    "\n",
    "lr_l1_cm = confusion_matrix(y_test, lr_l1_ypred, labels=lr_l1.classes_)\n",
    "lr_l1_cm_df = pd.DataFrame(lr_l1_cm, columns=lr_basic.classes_, index=lr_l1.classes_) #lr_l1_SF is instance of model\n",
    "lr_l1_cm_df"
   ]
  },
  {
   "cell_type": "code",
   "execution_count": 39,
   "metadata": {
    "collapsed": false
   },
   "outputs": [
    {
     "data": {
      "text/plain": [
       "<matplotlib.axes._subplots.AxesSubplot at 0x11d96c450>"
      ]
     },
     "execution_count": 39,
     "metadata": {},
     "output_type": "execute_result"
    },
    {
     "data": {
      "image/png": "[encoded data removed]",
      "text/plain": [
       "<matplotlib.figure.Figure at 0x11d974310>"
      ]
     },
     "metadata": {},
     "output_type": "display_data"
    }
   ],
   "source": [
    "sns.heatmap(lr_l1_cm_df, vmin=None, vmax=None, cmap='plasma', center=None, robust=False, annot=None, fmt='.2g', annot_kws=None, linewidths=0, linecolor='white', cbar=True, cbar_kws=None, cbar_ax=None, square=False, ax=None, xticklabels=(\"Below Avg Sal (Predicted)\",\"Above Avg Sal (Predicted)\"), yticklabels=(\"Below Avg Sal (Observed)\",\"Above Avg Sal (Observed)\"), mask=None)"
   ]
  },
  {
   "cell_type": "code",
   "execution_count": 40,
   "metadata": {
    "collapsed": false
   },
   "outputs": [
    {
     "name": "stdout",
     "output_type": "stream",
     "text": [
      "             precision    recall  f1-score   support\n",
      "\n",
      "        0.0       0.95      0.92      0.93       283\n",
      "        1.0       0.95      0.97      0.96       522\n",
      "\n",
      "avg / total       0.95      0.95      0.95       805\n",
      "\n"
     ]
    }
   ],
   "source": [
    "print(classification_report(y_test, lr_l1_ypred, labels=lr_l1.classes_))"
   ]
  },
  {
   "cell_type": "code",
   "execution_count": 41,
   "metadata": {
    "collapsed": false
   },
   "outputs": [
    {
     "data": {
      "text/plain": [
       "0.95580600060303422"
      ]
     },
     "execution_count": 41,
     "metadata": {},
     "output_type": "execute_result"
    }
   ],
   "source": [
    "cross_val_score(lr_l1, X, y, cv=10).mean()"
   ]
  },
  {
   "cell_type": "code",
   "execution_count": 42,
   "metadata": {
    "collapsed": false
   },
   "outputs": [
    {
     "data": {
      "text/plain": [
       "array([[ 5.10267582,  0.46024404, -2.77328128, -3.505323  ,  0.25194981]])"
      ]
     },
     "execution_count": 42,
     "metadata": {},
     "output_type": "execute_result"
    }
   ],
   "source": [
    "lr_l1_model.coef_"
   ]
  },
  {
   "cell_type": "code",
   "execution_count": 43,
   "metadata": {
    "collapsed": false
   },
   "outputs": [],
   "source": [
    "# import statsmodels as sm\n",
    "# from statsmodels import stats\n",
    "\n",
    "# VIF_X = stats.outliers_influence.variance_inflation_factor(X)\n",
    "# VIF_X1 = stats.outliers_influence.variance_inflation_factor(X1)\n",
    "# print(VIF_X, VIF_X1)"
   ]
  },
  {
   "cell_type": "code",
   "execution_count": 44,
   "metadata": {
    "collapsed": true
   },
   "outputs": [],
   "source": [
    "#re-run lasso using only the senior list & skill count(should still be negative)\n",
    "\n",
    "slim_features = indeeder_subsamp.loc[:,['senior_count', 'highval_count', 'constant']]#will add 'big_city' later\n",
    "slim_bin_features = indeeder_subsamp.loc[:,['senior_binary', 'highval_binary', 'constant']]\n",
    "senior_count_feat = indeeder_subsamp.loc[:,['senior_binary', 'constant']]\n",
    "\n",
    "\n",
    "X_slim_train, X_slim_test, y_slim_train, yslim__test = train_test_split(slim_features, y, test_size=0.33, random_state=50)\n",
    "X_sbin_train, X_sbin_test, y_sbin_train, ysbin__test = train_test_split(slim_bin_features, y, test_size=0.33, random_state=50)\n",
    "X_sen_train, X_sen_test, y_sen_train, y_sen__test = train_test_split(senior_count_feat, y, test_size=0.33, random_state=50)\n"
   ]
  },
  {
   "cell_type": "code",
   "execution_count": 45,
   "metadata": {
    "collapsed": false
   },
   "outputs": [
    {
     "data": {
      "image/png": "[encoded data removed]",
      "text/plain": [
       "<matplotlib.figure.Figure at 0x11dc5a290>"
      ]
     },
     "metadata": {},
     "output_type": "display_data"
    }
   ],
   "source": [
    "Y_score_l1 = lr_l1.decision_function(X_test)\n",
    "plot_roc(y_test, Y_score_l1)"
   ]
  },
  {
   "cell_type": "code",
   "execution_count": 46,
   "metadata": {
    "collapsed": false
   },
   "outputs": [
    {
     "data": {
      "text/html": [
       "<div>\n",
       "<table border=\"1\" class=\"dataframe\">\n",
       "  <thead>\n",
       "    <tr style=\"text-align: right;\">\n",
       "      <th></th>\n",
       "      <th>0.0</th>\n",
       "      <th>1.0</th>\n",
       "    </tr>\n",
       "  </thead>\n",
       "  <tbody>\n",
       "    <tr>\n",
       "      <th>0</th>\n",
       "      <td>259</td>\n",
       "      <td>24</td>\n",
       "    </tr>\n",
       "    <tr>\n",
       "      <th>1</th>\n",
       "      <td>15</td>\n",
       "      <td>507</td>\n",
       "    </tr>\n",
       "  </tbody>\n",
       "</table>\n",
       "</div>"
      ],
      "text/plain": [
       "     0    1\n",
       "0  259   24\n",
       "1   15  507"
      ]
     },
     "execution_count": 46,
     "metadata": {},
     "output_type": "execute_result"
    }
   ],
   "source": [
    "#Ridge\n",
    "lr_l2 = LogisticRegression(penalty='l2', solver='liblinear') #can i take away penalty? make sure this is statsmodels\n",
    "lr_l2_model = lr_l2.fit(X_train, y_train)\n",
    "lr_l2_ypred = lr_l2_model.predict(X_test)\n",
    "\n",
    "lr_l2_cm = confusion_matrix(y_test, lr_l2_ypred, labels=lr_l2.classes_)\n",
    "lr_l2_cm_df = pd.DataFrame(lr_l2_cm, columns=lr_l2.classes_, index=lr_l2.classes_) #lr_l1_SF is instance of model\n",
    "lr_l2_cm_df"
   ]
  },
  {
   "cell_type": "code",
   "execution_count": 47,
   "metadata": {
    "collapsed": false
   },
   "outputs": [
    {
     "name": "stdout",
     "output_type": "stream",
     "text": [
      "             precision    recall  f1-score   support\n",
      "\n",
      "        0.0       0.95      0.92      0.93       283\n",
      "        1.0       0.95      0.97      0.96       522\n",
      "\n",
      "avg / total       0.95      0.95      0.95       805\n",
      "\n"
     ]
    }
   ],
   "source": [
    "print(classification_report(y_test, lr_l2_ypred, labels=lr_l2.classes_))"
   ]
  },
  {
   "cell_type": "code",
   "execution_count": 48,
   "metadata": {
    "collapsed": false
   },
   "outputs": [
    {
     "data": {
      "text/plain": [
       "0.95580600060303422"
      ]
     },
     "execution_count": 48,
     "metadata": {},
     "output_type": "execute_result"
    }
   ],
   "source": [
    "cross_val_score(lr_l2, X, y, cv=10).mean()"
   ]
  },
  {
   "cell_type": "code",
   "execution_count": 49,
   "metadata": {
    "collapsed": false
   },
   "outputs": [
    {
     "data": {
      "image/png": "[encoded data removed]",
      "text/plain": [
       "<matplotlib.figure.Figure at 0x11d92aa50>"
      ]
     },
     "metadata": {},
     "output_type": "display_data"
    }
   ],
   "source": [
    "Y_score_l2 = lr_l1.decision_function(X_test)\n",
    "plot_roc(y_test, Y_score_l2)"
   ]
  },
  {
   "cell_type": "code",
   "execution_count": 50,
   "metadata": {
    "collapsed": false
   },
   "outputs": [
    {
     "data": {
      "text/plain": [
       "GridSearchCV(cv=15, error_score='raise',\n",
       "       estimator=LogisticRegression(C=1.0, class_weight=None, dual=False, fit_intercept=True,\n",
       "          intercept_scaling=1, max_iter=100, multi_class='ovr', n_jobs=1,\n",
       "          penalty='l2', random_state=None, solver='liblinear', tol=0.0001,\n",
       "          verbose=0, warm_start=False),\n",
       "       fit_params={}, iid=True, n_jobs=1,\n",
       "       param_grid={'penalty': ['l1', 'l2'], 'C': [0.0001, 0.001, 0.01, 0.1, 0.15, 0.25, 0.275, 0.33, 0.5, 0.66, 0.75, 1.0, 2.5, 5.0, 10.0, 100.0, 1000.0]},\n",
       "       pre_dispatch='2*n_jobs', refit=True, scoring=None, verbose=False)"
      ]
     },
     "execution_count": 50,
     "metadata": {},
     "output_type": "execute_result"
    }
   ],
   "source": [
    "#grid search optimization\n",
    "logreg = LogisticRegression(solver='liblinear')\n",
    "C_vals = [0.0001, 0.001, 0.01, 0.1, .15, .25, .275, .33, 0.5, .66, 0.75, 1.0, 2.5, 5.0, 10.0, 100.0, 1000.0]\n",
    "penalties = ['l1','l2']\n",
    "\n",
    "gs = GridSearchCV(logreg, {'penalty': penalties, 'C': C_vals}, verbose=False, cv=15)\n",
    "gs.fit(X, y)"
   ]
  },
  {
   "cell_type": "code",
   "execution_count": 51,
   "metadata": {
    "collapsed": false
   },
   "outputs": [
    {
     "data": {
      "text/plain": [
       "{'C': 0.1, 'penalty': 'l1'}"
      ]
     },
     "execution_count": 51,
     "metadata": {},
     "output_type": "execute_result"
    }
   ],
   "source": [
    "gs.best_params_"
   ]
  },
  {
   "cell_type": "code",
   "execution_count": 52,
   "metadata": {
    "collapsed": true
   },
   "outputs": [],
   "source": [
    "logreg = LogisticRegression(C=gs.best_params_['C'], penalty=gs.best_params_['penalty'])\n",
    "cv_model = logreg.fit(X_train, y_train)"
   ]
  },
  {
   "cell_type": "code",
   "execution_count": 53,
   "metadata": {
    "collapsed": false
   },
   "outputs": [
    {
     "data": {
      "text/plain": [
       "array([[ 4.07350805,  0.42572399, -2.01390991, -2.87936899,  0.        ]])"
      ]
     },
     "execution_count": 53,
     "metadata": {},
     "output_type": "execute_result"
    }
   ],
   "source": [
    "cv_model.coef_"
   ]
  },
  {
   "cell_type": "code",
   "execution_count": 54,
   "metadata": {
    "collapsed": true
   },
   "outputs": [],
   "source": [
    "cv_pred = cv_model.predict(X_test)"
   ]
  },
  {
   "cell_type": "code",
   "execution_count": 55,
   "metadata": {
    "collapsed": false
   },
   "outputs": [],
   "source": [
    "cm3 = confusion_matrix(y_test, cv_pred, labels=logreg.classes_)\n",
    "cm3 = pd.DataFrame(cm3, columns=logreg.classes_, index=logreg.classes_)"
   ]
  },
  {
   "cell_type": "code",
   "execution_count": 56,
   "metadata": {
    "collapsed": false
   },
   "outputs": [
    {
     "data": {
      "text/html": [
       "<div>\n",
       "<table border=\"1\" class=\"dataframe\">\n",
       "  <thead>\n",
       "    <tr style=\"text-align: right;\">\n",
       "      <th></th>\n",
       "      <th>0.0</th>\n",
       "      <th>1.0</th>\n",
       "    </tr>\n",
       "  </thead>\n",
       "  <tbody>\n",
       "    <tr>\n",
       "      <th>0</th>\n",
       "      <td>259</td>\n",
       "      <td>24</td>\n",
       "    </tr>\n",
       "    <tr>\n",
       "      <th>1</th>\n",
       "      <td>12</td>\n",
       "      <td>510</td>\n",
       "    </tr>\n",
       "  </tbody>\n",
       "</table>\n",
       "</div>"
      ],
      "text/plain": [
       "     0    1\n",
       "0  259   24\n",
       "1   12  510"
      ]
     },
     "execution_count": 56,
     "metadata": {},
     "output_type": "execute_result"
    }
   ],
   "source": [
    "cm3"
   ]
  },
  {
   "cell_type": "code",
   "execution_count": 57,
   "metadata": {
    "collapsed": false
   },
   "outputs": [
    {
     "name": "stdout",
     "output_type": "stream",
     "text": [
      "             precision    recall  f1-score   support\n",
      "\n",
      "        0.0       0.96      0.92      0.94       283\n",
      "        1.0       0.96      0.98      0.97       522\n",
      "\n",
      "avg / total       0.96      0.96      0.96       805\n",
      "\n"
     ]
    }
   ],
   "source": [
    "print(classification_report(y_test, cv_pred, labels=logreg.classes_))"
   ]
  },
  {
   "cell_type": "code",
   "execution_count": 58,
   "metadata": {
    "collapsed": false
   },
   "outputs": [
    {
     "data": {
      "text/plain": [
       "0.95662901833471703"
      ]
     },
     "execution_count": 58,
     "metadata": {},
     "output_type": "execute_result"
    }
   ],
   "source": [
    "cross_val_score(cv_model, X, y, cv=10).mean()\n"
   ]
  },
  {
   "cell_type": "code",
   "execution_count": 59,
   "metadata": {
    "collapsed": false
   },
   "outputs": [
    {
     "data": {
      "text/plain": [
       "<matplotlib.axes._subplots.AxesSubplot at 0x11e1902d0>"
      ]
     },
     "execution_count": 59,
     "metadata": {},
     "output_type": "execute_result"
    },
    {
     "data": {
      "image/png": "[encoded data removed]",
      "text/plain": [
       "<matplotlib.figure.Figure at 0x11e1a47d0>"
      ]
     },
     "metadata": {},
     "output_type": "display_data"
    }
   ],
   "source": [
    "sns.heatmap(cm3, vmin=None, vmax=None, cmap='plasma', center=None, robust=False, annot=None, fmt='.2g', annot_kws=None, linewidths=0, linecolor='white', cbar=True, cbar_kws=None, cbar_ax=None, square=False, ax=None, xticklabels=(\"Below Avg Sal (Predicted)\",\"Above Avg Sal (Predicted)\"), yticklabels=(\"Below Avg Sal (Observed)\",\"Above Avg Sal (Observed)\"), mask=None)"
   ]
  },
  {
   "cell_type": "code",
   "execution_count": 60,
   "metadata": {
    "collapsed": false
   },
   "outputs": [
    {
     "name": "stdout",
     "output_type": "stream",
     "text": [
      "             precision    recall  f1-score   support\n",
      "\n",
      "        0.0       0.96      0.92      0.94       283\n",
      "        1.0       0.96      0.98      0.97       522\n",
      "\n",
      "avg / total       0.96      0.96      0.96       805\n",
      "\n"
     ]
    }
   ],
   "source": [
    "print(classification_report(y_test, cv_pred, labels=logreg.classes_))"
   ]
  },
  {
   "cell_type": "code",
   "execution_count": null,
   "metadata": {
    "collapsed": true
   },
   "outputs": [],
   "source": []
  },
  {
   "cell_type": "code",
   "execution_count": 61,
   "metadata": {
    "collapsed": false
   },
   "outputs": [
    {
     "data": {
      "image/png": "[encoded data removed]",
      "text/plain": [
       "<matplotlib.figure.Figure at 0x11db67b50>"
      ]
     },
     "metadata": {},
     "output_type": "display_data"
    }
   ],
   "source": [
    "Y_score_gs = logreg.decision_function(X_test)\n",
    "plot_roc(y_test, Y_score_gs)"
   ]
  },
  {
   "cell_type": "code",
   "execution_count": 62,
   "metadata": {
    "collapsed": true
   },
   "outputs": [],
   "source": [
    "#binary gridsearch regression"
   ]
  },
  {
   "cell_type": "code",
   "execution_count": 63,
   "metadata": {
    "collapsed": true
   },
   "outputs": [],
   "source": [
    "logreg_bin = LogisticRegression(C=gs.best_params_['C'], penalty=gs.best_params_['penalty'])\n",
    "cv_bin_model = logreg_bin.fit(X1_train, y1_train)\n",
    "cv_bin_pred = cv_bin_model.predict(X1_test)\n",
    "cm4 = confusion_matrix(y1_test, cv_bin_pred, labels=logreg_bin.classes_)\n",
    "cm4 = pd.DataFrame(cm4, columns=logreg_bin.classes_, index=logreg_bin.classes_)\n"
   ]
  },
  {
   "cell_type": "code",
   "execution_count": 64,
   "metadata": {
    "collapsed": false
   },
   "outputs": [
    {
     "data": {
      "text/html": [
       "<div>\n",
       "<table border=\"1\" class=\"dataframe\">\n",
       "  <thead>\n",
       "    <tr style=\"text-align: right;\">\n",
       "      <th></th>\n",
       "      <th>0.0</th>\n",
       "      <th>1.0</th>\n",
       "    </tr>\n",
       "  </thead>\n",
       "  <tbody>\n",
       "    <tr>\n",
       "      <th>0</th>\n",
       "      <td>16</td>\n",
       "      <td>267</td>\n",
       "    </tr>\n",
       "    <tr>\n",
       "      <th>1</th>\n",
       "      <td>137</td>\n",
       "      <td>385</td>\n",
       "    </tr>\n",
       "  </tbody>\n",
       "</table>\n",
       "</div>"
      ],
      "text/plain": [
       "     0    1\n",
       "0   16  267\n",
       "1  137  385"
      ]
     },
     "execution_count": 64,
     "metadata": {},
     "output_type": "execute_result"
    }
   ],
   "source": [
    "cm4"
   ]
  },
  {
   "cell_type": "code",
   "execution_count": 65,
   "metadata": {
    "collapsed": false
   },
   "outputs": [
    {
     "name": "stdout",
     "output_type": "stream",
     "text": [
      "             precision    recall  f1-score   support\n",
      "\n",
      "        0.0       0.10      0.06      0.07       283\n",
      "        1.0       0.59      0.74      0.66       522\n",
      "\n",
      "avg / total       0.42      0.50      0.45       805\n",
      "\n"
     ]
    }
   ],
   "source": [
    "print(classification_report(y1_test, cv_bin_pred, labels=logreg_bin.classes_))"
   ]
  },
  {
   "cell_type": "code",
   "execution_count": 66,
   "metadata": {
    "collapsed": false
   },
   "outputs": [
    {
     "data": {
      "image/png": "[encoded data removed]",
      "text/plain": [
       "<matplotlib.figure.Figure at 0x11d917c50>"
      ]
     },
     "metadata": {},
     "output_type": "display_data"
    }
   ],
   "source": [
    "Y_score_bin_gs = logreg_bin.decision_function(X1_test)\n",
    "plot_roc(y1_test, Y_score_bin_gs)"
   ]
  },
  {
   "cell_type": "markdown",
   "metadata": {
    "collapsed": true
   },
   "source": [
    "###Creating Visualizations\n",
    "\n"
   ]
  },
  {
   "cell_type": "code",
   "execution_count": 67,
   "metadata": {
    "collapsed": false
   },
   "outputs": [
    {
     "data": {
      "image/png": "[encoded data removed]",
      "text/plain": [
       "<matplotlib.figure.Figure at 0x11d628f50>"
      ]
     },
     "metadata": {},
     "output_type": "display_data"
    }
   ],
   "source": [
    "import seaborn as sns\n",
    "\n",
    "pairplot_X = sns.pairplot(X)\n",
    "pairplot_X.savefig(\"sns_pairplotX.png\")"
   ]
  },
  {
   "cell_type": "code",
   "execution_count": 68,
   "metadata": {
    "collapsed": false
   },
   "outputs": [
    {
     "data": {
      "image/png": "[encoded data removed]",
      "text/plain": [
       "<matplotlib.figure.Figure at 0x121456150>"
      ]
     },
     "metadata": {},
     "output_type": "display_data"
    }
   ],
   "source": [
    "pairplotX1 = sns.pairplot(X1)\n",
    "pairplotX1.savefig(\"sns_pairplotX1.png\")"
   ]
  },
  {
   "cell_type": "code",
   "execution_count": 69,
   "metadata": {
    "collapsed": false
   },
   "outputs": [
    {
     "data": {
      "text/plain": [
       "(      senior_binary  constant\n",
       " 513               1         1\n",
       " 2213              0         1\n",
       " 808               1         1\n",
       " 3998              1         1\n",
       " 396               1         1\n",
       " 26                1         1\n",
       " 3629              0         1\n",
       " 981               0         1\n",
       " 324               1         1\n",
       " 319               1         1\n",
       " 713               1         1\n",
       " 2026              0         1\n",
       " 637               1         1\n",
       " 3377              0         1\n",
       " 252               1         1\n",
       " 4068              1         1\n",
       " 2402              0         1\n",
       " 677               1         1\n",
       " 4638              0         1\n",
       " 359               1         1\n",
       " 4735              1         1\n",
       " 3991              1         1\n",
       " 431               1         1\n",
       " 75                1         1\n",
       " 4443              1         1\n",
       " 245               1         1\n",
       " 2022              0         1\n",
       " 760               1         1\n",
       " 3985              1         1\n",
       " 40                1         1\n",
       " ...             ...       ...\n",
       " 840               1         1\n",
       " 1895              0         1\n",
       " 374               1         1\n",
       " 4428              0         1\n",
       " 3877              1         1\n",
       " 3797              1         1\n",
       " 417               1         1\n",
       " 82                1         1\n",
       " 523               1         1\n",
       " 512               1         1\n",
       " 2078              0         1\n",
       " 4722              1         1\n",
       " 4743              1         1\n",
       " 3939              0         1\n",
       " 221               1         1\n",
       " 4556              1         1\n",
       " 608               1         1\n",
       " 3830              0         1\n",
       " 370               1         1\n",
       " 4473              0         1\n",
       " 4497              0         1\n",
       " 73                1         1\n",
       " 4631              1         1\n",
       " 4472              1         1\n",
       " 135               1         1\n",
       " 4368              0         1\n",
       " 4511              1         1\n",
       " 4285              1         1\n",
       " 3858              0         1\n",
       " 4066              1         1\n",
       " \n",
       " [1632 rows x 2 columns],       senior_binary  constant\n",
       " 58                1         1\n",
       " 3675              1         1\n",
       " 1848              0         1\n",
       " 4402              1         1\n",
       " 4736              1         1\n",
       " 4621              0         1\n",
       " 669               1         1\n",
       " 3761              1         1\n",
       " 3940              1         1\n",
       " 278               1         1\n",
       " 2591              0         1\n",
       " 4462              1         1\n",
       " 4191              1         1\n",
       " 484               1         1\n",
       " 166               1         1\n",
       " 4320              1         1\n",
       " 4279              1         1\n",
       " 4084              0         1\n",
       " 3816              1         1\n",
       " 4286              0         1\n",
       " 3941              1         1\n",
       " 1146              0         1\n",
       " 458               0         1\n",
       " 3                 1         1\n",
       " 361               1         1\n",
       " 4421              0         1\n",
       " 4667              1         1\n",
       " 312               1         1\n",
       " 4662              1         1\n",
       " 4223              1         1\n",
       " ...             ...       ...\n",
       " 4396              1         1\n",
       " 108               1         1\n",
       " 2858              0         1\n",
       " 4404              1         1\n",
       " 620               1         1\n",
       " 551               1         1\n",
       " 652               1         1\n",
       " 664               1         1\n",
       " 450               1         1\n",
       " 820               1         1\n",
       " 228               1         1\n",
       " 57                1         1\n",
       " 781               1         1\n",
       " 630               1         1\n",
       " 4504              1         1\n",
       " 697               1         1\n",
       " 426               1         1\n",
       " 4110              1         1\n",
       " 4077              0         1\n",
       " 1588              0         1\n",
       " 4528              1         1\n",
       " 38                1         1\n",
       " 4303              0         1\n",
       " 50                1         1\n",
       " 4491              0         1\n",
       " 4230              1         1\n",
       " 4786              1         1\n",
       " 722               1         1\n",
       " 4661              1         1\n",
       " 4539              1         1\n",
       " \n",
       " [805 rows x 2 columns], 513     1\n",
       " 2213    0\n",
       " 808     1\n",
       " 3998    1\n",
       " 396     1\n",
       " 26      1\n",
       " 3629    0\n",
       " 981     0\n",
       " 324     1\n",
       " 319     1\n",
       " 713     1\n",
       " 2026    0\n",
       " 637     1\n",
       " 3377    0\n",
       " 252     1\n",
       " 4068    1\n",
       " 2402    0\n",
       " 677     1\n",
       " 4638    1\n",
       " 359     1\n",
       " 4735    1\n",
       " 3991    1\n",
       " 431     1\n",
       " 75      1\n",
       " 4443    1\n",
       " 245     1\n",
       " 2022    0\n",
       " 760     1\n",
       " 3985    0\n",
       " 40      1\n",
       "        ..\n",
       " 840     1\n",
       " 1895    0\n",
       " 374     1\n",
       " 4428    1\n",
       " 3877    0\n",
       " 3797    0\n",
       " 417     0\n",
       " 82      1\n",
       " 523     1\n",
       " 512     1\n",
       " 2078    0\n",
       " 4722    0\n",
       " 4743    1\n",
       " 3939    1\n",
       " 221     1\n",
       " 4556    0\n",
       " 608     1\n",
       " 3830    1\n",
       " 370     1\n",
       " 4473    1\n",
       " 4497    1\n",
       " 73      1\n",
       " 4631    1\n",
       " 4472    0\n",
       " 135     1\n",
       " 4368    1\n",
       " 4511    0\n",
       " 4285    0\n",
       " 3858    1\n",
       " 4066    0\n",
       " Name: above_average_salary, dtype: float64, 58      1\n",
       " 3675    1\n",
       " 1848    0\n",
       " 4402    0\n",
       " 4736    0\n",
       " 4621    1\n",
       " 669     1\n",
       " 3761    0\n",
       " 3940    1\n",
       " 278     1\n",
       " 2591    0\n",
       " 4462    1\n",
       " 4191    1\n",
       " 484     0\n",
       " 166     1\n",
       " 4320    1\n",
       " 4279    1\n",
       " 4084    1\n",
       " 3816    0\n",
       " 4286    1\n",
       " 3941    1\n",
       " 1146    0\n",
       " 458     0\n",
       " 3       1\n",
       " 361     1\n",
       " 4421    1\n",
       " 4667    0\n",
       " 312     1\n",
       " 4662    1\n",
       " 4223    1\n",
       "        ..\n",
       " 4396    0\n",
       " 108     1\n",
       " 2858    0\n",
       " 4404    0\n",
       " 620     1\n",
       " 551     1\n",
       " 652     1\n",
       " 664     1\n",
       " 450     0\n",
       " 820     1\n",
       " 228     1\n",
       " 57      1\n",
       " 781     1\n",
       " 630     1\n",
       " 4504    1\n",
       " 697     1\n",
       " 426     1\n",
       " 4110    0\n",
       " 4077    1\n",
       " 1588    0\n",
       " 4528    1\n",
       " 38      1\n",
       " 4303    1\n",
       " 50      1\n",
       " 4491    1\n",
       " 4230    1\n",
       " 4786    1\n",
       " 722     1\n",
       " 4661    1\n",
       " 4539    0\n",
       " Name: above_average_salary, dtype: float64)"
      ]
     },
     "execution_count": 69,
     "metadata": {},
     "output_type": "execute_result"
    }
   ],
   "source": [
    "# X_slim_train, X_slim_test, y_slim_train, yslim__test \n",
    "# X_sbin_train, X_sbin_test, y_sbin_train, ysbin__test \n",
    "X_sen_train, X_sen_test, y_sen_train, y_sen__test"
   ]
  },
  {
   "cell_type": "code",
   "execution_count": 70,
   "metadata": {
    "collapsed": false
   },
   "outputs": [
    {
     "data": {
      "text/html": [
       "<div>\n",
       "<table border=\"1\" class=\"dataframe\">\n",
       "  <thead>\n",
       "    <tr style=\"text-align: right;\">\n",
       "      <th></th>\n",
       "      <th>Below Avg Sal (Observed)</th>\n",
       "      <th>Above Avg Sal (Observed)</th>\n",
       "    </tr>\n",
       "  </thead>\n",
       "  <tbody>\n",
       "    <tr>\n",
       "      <th>Below Avg Sal (Predicted)</th>\n",
       "      <td>123</td>\n",
       "      <td>160</td>\n",
       "    </tr>\n",
       "    <tr>\n",
       "      <th>Above Avg Sal (Predicted)</th>\n",
       "      <td>138</td>\n",
       "      <td>384</td>\n",
       "    </tr>\n",
       "  </tbody>\n",
       "</table>\n",
       "</div>"
      ],
      "text/plain": [
       "                           Below Avg Sal (Observed)  Above Avg Sal (Observed)\n",
       "Below Avg Sal (Predicted)                       123                       160\n",
       "Above Avg Sal (Predicted)                       138                       384"
      ]
     },
     "execution_count": 70,
     "metadata": {},
     "output_type": "execute_result"
    }
   ],
   "source": [
    "#using only senior and skills as features\n",
    "logreg_slim = LogisticRegression(C=gs.best_params_['C'], penalty=gs.best_params_['penalty'])\n",
    "slim_model = logreg_slim.fit(X_slim_train, y_slim_train)\n",
    "slim_pred = slim_model.predict(X_slim_test)\n",
    "cm5 = confusion_matrix(yslim__test, slim_pred, labels=logreg_slim.classes_)\n",
    "cm5 = pd.DataFrame(cm5, columns=(\"Below Avg Sal (Observed)\",\"Above Avg Sal (Observed)\"), index=(\"Below Avg Sal (Predicted)\",\"Above Avg Sal (Predicted)\"))\n",
    "cm5\n",
    "\n"
   ]
  },
  {
   "cell_type": "code",
   "execution_count": 71,
   "metadata": {
    "collapsed": false
   },
   "outputs": [
    {
     "data": {
      "text/plain": [
       "0.95662901833471703"
      ]
     },
     "execution_count": 71,
     "metadata": {},
     "output_type": "execute_result"
    }
   ],
   "source": [
    "cross_val_score(slim_model, X, y, cv=10).mean()\n"
   ]
  },
  {
   "cell_type": "code",
   "execution_count": 72,
   "metadata": {
    "collapsed": false
   },
   "outputs": [
    {
     "name": "stdout",
     "output_type": "stream",
     "text": [
      "             precision    recall  f1-score   support\n",
      "\n",
      "        0.0       0.47      0.43      0.45       283\n",
      "        1.0       0.71      0.74      0.72       522\n",
      "\n",
      "avg / total       0.62      0.63      0.63       805\n",
      "\n"
     ]
    }
   ],
   "source": [
    "print(classification_report(y_test, slim_pred, labels=logreg_bin.classes_))"
   ]
  },
  {
   "cell_type": "code",
   "execution_count": 73,
   "metadata": {
    "collapsed": false
   },
   "outputs": [
    {
     "data": {
      "text/plain": [
       "<matplotlib.axes._subplots.AxesSubplot at 0x124a23150>"
      ]
     },
     "execution_count": 73,
     "metadata": {},
     "output_type": "execute_result"
    },
    {
     "data": {
      "image/png": "[encoded data removed]",
      "text/plain": [
       "<matplotlib.figure.Figure at 0x1240aa390>"
      ]
     },
     "metadata": {},
     "output_type": "display_data"
    }
   ],
   "source": [
    "sns.heatmap(cm5, vmin=None, vmax=None, cmap='plasma', center=None, robust=False, annot=None, fmt='.2g', annot_kws=None, linewidths=0, linecolor='white', cbar=True, cbar_kws=None, cbar_ax=None, square=False, ax=None, xticklabels=(\"Below Avg Sal (Predicted)\",\"Above Avg Sal (Predicted)\"), yticklabels=(\"Below Avg Sal (Observed)\",\"Above Avg Sal (Observed)\"), mask=None)"
   ]
  },
  {
   "cell_type": "code",
   "execution_count": 74,
   "metadata": {
    "collapsed": false
   },
   "outputs": [
    {
     "name": "stdout",
     "output_type": "stream",
     "text": [
      "             precision    recall  f1-score   support\n",
      "\n",
      "        0.0       0.47      0.43      0.45       283\n",
      "        1.0       0.71      0.74      0.72       522\n",
      "\n",
      "avg / total       0.62      0.63      0.63       805\n",
      "\n"
     ]
    }
   ],
   "source": [
    "print(classification_report(yslim__test, slim_pred, labels=logreg_slim.classes_))"
   ]
  },
  {
   "cell_type": "code",
   "execution_count": 76,
   "metadata": {
    "collapsed": false
   },
   "outputs": [
    {
     "ename": "AttributeError",
     "evalue": "'LogisticRegression' object has no attribute 'summary'",
     "output_type": "error",
     "traceback": [
      "\u001b[0;31m---------------------------------------------------------------------------\u001b[0m",
      "\u001b[0;31mAttributeError\u001b[0m                            Traceback (most recent call last)",
      "\u001b[0;32m<ipython-input-76-6b3e8e854c88>\u001b[0m in \u001b[0;36m<module>\u001b[0;34m()\u001b[0m\n\u001b[0;32m----> 1\u001b[0;31m \u001b[0mslim_model\u001b[0m\u001b[0;34m.\u001b[0m\u001b[0msummary\u001b[0m\u001b[0;34m(\u001b[0m\u001b[0;34m)\u001b[0m\u001b[0;34m\u001b[0m\u001b[0m\n\u001b[0m",
      "\u001b[0;31mAttributeError\u001b[0m: 'LogisticRegression' object has no attribute 'summary'"
     ]
    }
   ],
   "source": []
  },
  {
   "cell_type": "code",
   "execution_count": 77,
   "metadata": {
    "collapsed": false
   },
   "outputs": [
    {
     "data": {
      "image/png": "[encoded data removed]",
      "text/plain": [
       "<matplotlib.figure.Figure at 0x12543ce50>"
      ]
     },
     "metadata": {},
     "output_type": "display_data"
    }
   ],
   "source": [
    "Y_score_slim_gs = logreg_slim.decision_function(X_slim_test)\n",
    "plot_roc(yslim__test, Y_score_slim_gs)"
   ]
  },
  {
   "cell_type": "code",
   "execution_count": 78,
   "metadata": {
    "collapsed": false
   },
   "outputs": [
    {
     "data": {
      "text/html": [
       "<div>\n",
       "<table border=\"1\" class=\"dataframe\">\n",
       "  <thead>\n",
       "    <tr style=\"text-align: right;\">\n",
       "      <th></th>\n",
       "      <th>0.0</th>\n",
       "      <th>1.0</th>\n",
       "    </tr>\n",
       "  </thead>\n",
       "  <tbody>\n",
       "    <tr>\n",
       "      <th>0</th>\n",
       "      <td>122</td>\n",
       "      <td>161</td>\n",
       "    </tr>\n",
       "    <tr>\n",
       "      <th>1</th>\n",
       "      <td>132</td>\n",
       "      <td>390</td>\n",
       "    </tr>\n",
       "  </tbody>\n",
       "</table>\n",
       "</div>"
      ],
      "text/plain": [
       "     0    1\n",
       "0  122  161\n",
       "1  132  390"
      ]
     },
     "execution_count": 78,
     "metadata": {},
     "output_type": "execute_result"
    }
   ],
   "source": [
    "#using only senior and skills as features\n",
    "\n",
    "# X_sbin_train, X_sbin_test, y_sbin_train, ysbin__test \n",
    "\n",
    "logreg_sbin = LogisticRegression(C=gs.best_params_['C'], penalty=gs.best_params_['penalty'])\n",
    "sbin_model = logreg_sbin.fit(X_sbin_train, y_sbin_train)\n",
    "sbin_pred = sbin_model.predict(X_sbin_test)\n",
    "cm6 = confusion_matrix(ysbin__test, sbin_pred, labels=logreg_sbin.classes_)\n",
    "cm6 = pd.DataFrame(cm6, columns=logreg_sbin.classes_, index=logreg_sbin.classes_)\n",
    "cm6\n",
    "\n"
   ]
  },
  {
   "cell_type": "code",
   "execution_count": 79,
   "metadata": {
    "collapsed": false
   },
   "outputs": [
    {
     "data": {
      "text/plain": [
       "array([[ 0.84593631,  0.        ,  0.        ]])"
      ]
     },
     "execution_count": 79,
     "metadata": {},
     "output_type": "execute_result"
    }
   ],
   "source": [
    "sbin_model.coef_"
   ]
  },
  {
   "cell_type": "code",
   "execution_count": 80,
   "metadata": {
    "collapsed": false
   },
   "outputs": [
    {
     "name": "stdout",
     "output_type": "stream",
     "text": [
      "             precision    recall  f1-score   support\n",
      "\n",
      "        0.0       0.48      0.43      0.45       283\n",
      "        1.0       0.71      0.75      0.73       522\n",
      "\n",
      "avg / total       0.63      0.64      0.63       805\n",
      "\n"
     ]
    }
   ],
   "source": [
    "print(classification_report(ysbin__test, sbin_pred, labels=logreg_sbin.classes_))"
   ]
  },
  {
   "cell_type": "code",
   "execution_count": 81,
   "metadata": {
    "collapsed": false
   },
   "outputs": [
    {
     "data": {
      "image/png": "[encoded data removed]",
      "text/plain": [
       "<matplotlib.figure.Figure at 0x124792a10>"
      ]
     },
     "metadata": {},
     "output_type": "display_data"
    }
   ],
   "source": [
    "Y_score_sbin_gs = logreg_sbin.decision_function(X_sbin_test)\n",
    "plot_roc(ysbin__test, Y_score_sbin_gs)"
   ]
  },
  {
   "cell_type": "code",
   "execution_count": 82,
   "metadata": {
    "collapsed": false
   },
   "outputs": [
    {
     "data": {
      "text/html": [
       "<div>\n",
       "<table border=\"1\" class=\"dataframe\">\n",
       "  <thead>\n",
       "    <tr style=\"text-align: right;\">\n",
       "      <th></th>\n",
       "      <th>0.0</th>\n",
       "      <th>1.0</th>\n",
       "    </tr>\n",
       "  </thead>\n",
       "  <tbody>\n",
       "    <tr>\n",
       "      <th>0</th>\n",
       "      <td>122</td>\n",
       "      <td>161</td>\n",
       "    </tr>\n",
       "    <tr>\n",
       "      <th>1</th>\n",
       "      <td>132</td>\n",
       "      <td>390</td>\n",
       "    </tr>\n",
       "  </tbody>\n",
       "</table>\n",
       "</div>"
      ],
      "text/plain": [
       "     0    1\n",
       "0  122  161\n",
       "1  132  390"
      ]
     },
     "execution_count": 82,
     "metadata": {},
     "output_type": "execute_result"
    }
   ],
   "source": [
    "# X_sen_train, X_sen_test, y_sen_train, y_sen__test\n",
    "\n",
    "logreg_sen = LogisticRegression(C=gs.best_params_['C'], penalty=gs.best_params_['penalty'])\n",
    "sen_model = logreg_sen.fit(X_sen_train, y_sen_train)\n",
    "sen_pred = sen_model.predict(X_sen_test)\n",
    "cm7 = confusion_matrix(y_sen__test, sen_pred, labels=logreg_sen.classes_)\n",
    "cm7 = pd.DataFrame(cm7, columns=logreg_sen.classes_, index=logreg_sen.classes_)\n",
    "cm7\n"
   ]
  },
  {
   "cell_type": "code",
   "execution_count": 83,
   "metadata": {
    "collapsed": false
   },
   "outputs": [
    {
     "name": "stdout",
     "output_type": "stream",
     "text": [
      "             precision    recall  f1-score   support\n",
      "\n",
      "        0.0       0.48      0.43      0.45       283\n",
      "        1.0       0.71      0.75      0.73       522\n",
      "\n",
      "avg / total       0.63      0.64      0.63       805\n",
      "\n"
     ]
    }
   ],
   "source": [
    "print(classification_report(y_sen__test, sen_pred, labels=logreg_sen.classes_))"
   ]
  },
  {
   "cell_type": "code",
   "execution_count": 84,
   "metadata": {
    "collapsed": false
   },
   "outputs": [
    {
     "data": {
      "text/plain": [
       "<matplotlib.axes._subplots.AxesSubplot at 0x124b97710>"
      ]
     },
     "execution_count": 84,
     "metadata": {},
     "output_type": "execute_result"
    },
    {
     "data": {
      "image/png": "[encoded data removed]",
      "text/plain": [
       "<matplotlib.figure.Figure at 0x1257c2750>"
      ]
     },
     "metadata": {},
     "output_type": "display_data"
    }
   ],
   "source": [
    "sns.heatmap(cm7, vmin=None, vmax=None, cmap='plasma', center=None, robust=False, annot=None, fmt='.2g', annot_kws=None, linewidths=0, linecolor='white', cbar=True, cbar_kws=None, cbar_ax=None, square=False, ax=None, xticklabels=(\"Below Avg Sal (Predicted)\",\"Above Avg Sal (Predicted)\"), yticklabels=(\"Below Avg Sal (Observed)\",\"Above Avg Sal (Observed)\"), mask=None)"
   ]
  },
  {
   "cell_type": "code",
   "execution_count": 85,
   "metadata": {
    "collapsed": false
   },
   "outputs": [
    {
     "data": {
      "image/png": "[encoded data removed]",
      "text/plain": [
       "<matplotlib.figure.Figure at 0x1257ec5d0>"
      ]
     },
     "metadata": {},
     "output_type": "display_data"
    }
   ],
   "source": [
    "Y_score_sen_gs = logreg_sen.decision_function(X_sen_test)\n",
    "plot_roc(y_sen__test, Y_score_sen_gs)"
   ]
  },
  {
   "cell_type": "code",
   "execution_count": null,
   "metadata": {
    "collapsed": false
   },
   "outputs": [],
   "source": [
    "sen_model.coef_"
   ]
  },
  {
   "cell_type": "code",
   "execution_count": null,
   "metadata": {
    "collapsed": false
   },
   "outputs": [],
   "source": [
    "sns.distplot(indeeder_subsamp['parsed_salary'])"
   ]
  },
  {
   "cell_type": "code",
   "execution_count": null,
   "metadata": {
    "collapsed": false
   },
   "outputs": [],
   "source": [
    "sns.distplot(indeeder_subsamp['annual_salary'].dropna())"
   ]
  },
  {
   "cell_type": "code",
   "execution_count": null,
   "metadata": {
    "collapsed": false
   },
   "outputs": [],
   "source": []
  },
  {
   "cell_type": "code",
   "execution_count": 106,
   "metadata": {
    "collapsed": false
   },
   "outputs": [
    {
     "name": "stdout",
     "output_type": "stream",
     "text": [
      "Computing t-SNE embedding\n"
     ]
    },
    {
     "data": {
      "image/png": "[encoded data removed]",
      "text/plain": [
       "<matplotlib.figure.Figure at 0x123c85690>"
      ]
     },
     "metadata": {},
     "output_type": "display_data"
    }
   ],
   "source": [
    "import numpy as np\n",
    "import matplotlib.pyplot as plt\n",
    "from matplotlib import offsetbox\n",
    "from sklearn import (manifold, datasets, decomposition, ensemble,\n",
    "                     discriminant_analysis, random_projection)\n",
    "from time import time\n",
    "\n",
    "%matplotlib inline\n",
    "\n",
    "\n",
    "def plot_embedding(X, y, title=None):\n",
    "    x_min, x_max = np.min(X, 0), np.max(X, 0)\n",
    "    X = (X - x_min) / (x_max - x_min)\n",
    "\n",
    "    fig = plt.figure(figsize=(15,8))\n",
    "    ax = plt.subplot(111)\n",
    "\n",
    "    plt.xticks([]), plt.yticks([])\n",
    "    if title is not None:\n",
    "        plt.title(title)\n",
    "\n",
    "\n",
    "print(\"Computing t-SNE embedding\")\n",
    "tsne = manifold.TSNE(n_components=2, init='pca', random_state=0)\n",
    "t0 = time()\n",
    "X_tsne = tsne.fit_transform(X)\n",
    "\n",
    "plot_embedding(X_tsne, y)\n",
    "\n",
    "plt.show()"
   ]
  },
  {
   "cell_type": "code",
   "execution_count": 103,
   "metadata": {
    "collapsed": false
   },
   "outputs": [
    {
     "ename": "ImportError",
     "evalue": "cannot import name tsne",
     "output_type": "error",
     "traceback": [
      "\u001b[0;31m---------------------------------------------------------------------------\u001b[0m",
      "\u001b[0;31mImportError\u001b[0m                               Traceback (most recent call last)",
      "\u001b[0;32m<ipython-input-103-69443a6413f2>\u001b[0m in \u001b[0;36m<module>\u001b[0;34m()\u001b[0m\n\u001b[0;32m----> 1\u001b[0;31m \u001b[0;32mfrom\u001b[0m \u001b[0msklearn\u001b[0m \u001b[0;32mimport\u001b[0m \u001b[0mtsne\u001b[0m\u001b[0;34m\u001b[0m\u001b[0m\n\u001b[0m\u001b[1;32m      2\u001b[0m \u001b[0;32mfrom\u001b[0m \u001b[0mtsne\u001b[0m \u001b[0;32mimport\u001b[0m \u001b[0mbh_sne\u001b[0m\u001b[0;34m\u001b[0m\u001b[0m\n\u001b[1;32m      3\u001b[0m \u001b[0;32mimport\u001b[0m \u001b[0mnumpy\u001b[0m \u001b[0;32mas\u001b[0m \u001b[0mnp\u001b[0m\u001b[0;34m\u001b[0m\u001b[0m\n\u001b[1;32m      4\u001b[0m \u001b[0;32mfrom\u001b[0m \u001b[0mskimage\u001b[0m\u001b[0;34m.\u001b[0m\u001b[0mtransform\u001b[0m \u001b[0;32mimport\u001b[0m \u001b[0mresize\u001b[0m\u001b[0;34m\u001b[0m\u001b[0m\n\u001b[1;32m      5\u001b[0m \u001b[0;34m\u001b[0m\u001b[0m\n",
      "\u001b[0;31mImportError\u001b[0m: cannot import name tsne"
     ]
    }
   ],
   "source": [
    "from sklearn import tsne\n",
    "from tsne import bh_sne\n",
    "import numpy as np\n",
    "from skimage.transform import resize\n",
    "\n",
    "from matplotlib import pyplot as plt\n",
    "\n",
    "def gray_to_color(img):\n",
    "    if len(img.shape) == 2:\n",
    "        img = np.dstack((img, img, img))\n",
    "    return img\n",
    "\n",
    "def min_resize(img, size):\n",
    "    \"\"\"\n",
    "    Resize an image so that it is size along the minimum spatial dimension.\n",
    "    \"\"\"\n",
    "    w, h = map(float, img.shape[:2])\n",
    "    if min([w, h]) != size:\n",
    "        if w <= h:\n",
    "            img = resize(img, (int(round((h/w)*size)), int(size)))\n",
    "        else:\n",
    "            img = resize(img, (int(size), int(round((w/h)*size))))\n",
    "    return img\n",
    "\n",
    "def image_scatter(features, images, img_res, res=4000, cval=1.):\n",
    "    \"\"\"\n",
    "    Embeds images via tsne into a scatter plot.\n",
    "    Parameters\n",
    "    ---------\n",
    "    features: numpy array\n",
    "        Features to visualize\n",
    "    images: list or numpy array\n",
    "        Corresponding images to features. Expects float images from (0,1).\n",
    "    img_res: float or int\n",
    "        Resolution to embed images at\n",
    "    res: float or int\n",
    "        Size of embedding image in pixels\n",
    "    cval: float or numpy array\n",
    "        Background color value\n",
    "    Returns\n",
    "    ------\n",
    "    canvas: numpy array\n",
    "        Image of visualization\n",
    "    \"\"\"\n",
    "    features = np.copy(features).astype('float64')\n",
    "    images = [gray_to_color(image) for image in images]\n",
    "    images = [min_resize(image, img_res) for image in images]\n",
    "    max_width = max([image.shape[0] for image in images])\n",
    "    max_height = max([image.shape[1] for image in images])\n",
    "\n",
    "    f2d = bh_sne(features)\n",
    "\n",
    "    xx = f2d[:, 0]\n",
    "    yy = f2d[:, 1]\n",
    "    x_min, x_max = xx.min(), xx.max()\n",
    "    y_min, y_max = yy.min(), yy.max()\n",
    "    # Fix the ratios\n",
    "    sx = (x_max-x_min)\n",
    "    sy = (y_max-y_min)\n",
    "    if sx > sy:\n",
    "        res_x = sx/float(sy)*res\n",
    "        res_y = res\n",
    "    else:\n",
    "        res_x = res\n",
    "        res_y = sy/float(sx)*res\n",
    "\n",
    "    canvas = np.ones((res_x+max_width, res_y+max_height, 3))*cval\n",
    "    x_coords = np.linspace(x_min, x_max, res_x)\n",
    "    y_coords = np.linspace(y_min, y_max, res_y)\n",
    "    for x, y, image in zip(xx, yy, images):\n",
    "        w, h = image.shape[:2]\n",
    "        x_idx = np.argmin((x - x_coords)**2)\n",
    "        y_idx = np.argmin((y - y_coords)**2)\n",
    "        canvas[x_idx:x_idx+w, y_idx:y_idx+h] = image\n",
    "    return canvas\n",
    "\n",
    "\n",
    "image_scatter(X, 0, 0, res=4000, cval=1.)\n",
    "\n",
    "\n"
   ]
  },
  {
   "cell_type": "code",
   "execution_count": null,
   "metadata": {
    "collapsed": true
   },
   "outputs": [],
   "source": []
  }
 ],
 "metadata": {
  "kernelspec": {
   "display_name": "Python 2",
   "language": "python",
   "name": "python2"
  },
  "language_info": {
   "codemirror_mode": {
    "name": "ipython",
    "version": 2
   },
   "file_extension": ".py",
   "mimetype": "text/x-python",
   "name": "python",
   "nbconvert_exporter": "python",
   "pygments_lexer": "ipython2",
   "version": "2.7.12"
  }
 },
 "nbformat": 4,
 "nbformat_minor": 0
}
