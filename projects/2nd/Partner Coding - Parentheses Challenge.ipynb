{
 "cells": [
  {
   "cell_type": "code",
   "execution_count": 1,
   "metadata": {
    "collapsed": true
   },
   "outputs": [],
   "source": [
    "import pandas as pd\n",
    "import numpy as np\n",
    "import matplotlib.pyplot as plt\n",
    "import seaborn as sns\n",
    "import os \n",
    "import random\n",
    "\n",
    "%matplotlib inline\n",
    "\n"
   ]
  },
  {
   "cell_type": "code",
   "execution_count": 32,
   "metadata": {
    "collapsed": true
   },
   "outputs": [],
   "source": [
    "list = [\"(()()()())\", \"((((((())\", \"(()()))(()\"] #True False False\n",
    "list2 =[\"((((((())\", \"(()()))(()\"]"
   ]
  },
  {
   "cell_type": "code",
   "execution_count": 18,
   "metadata": {
    "collapsed": false
   },
   "outputs": [
    {
     "name": "stdout",
     "output_type": "stream",
     "text": [
      "[False, True, False, True, False, True]\n",
      "None\n"
     ]
    }
   ],
   "source": [
    "def paran(values):\n",
    "    output = []\n",
    "    for i in values:\n",
    "        try:\n",
    "            if len(values)%2!=0:\n",
    "                output.append(False)\n",
    "            elif type(i) == str:\n",
    "                if i[0]==')':\n",
    "                    output.append(False)\n",
    "                #elif i[0]=='(':\n",
    "                   # output.append(True)\n",
    "        except SyntaxError:\n",
    "            output.append(False)\n",
    "        else:\n",
    "            output.append(True) \n",
    "    print(output)\n",
    "    \n",
    "print(paran(list))\n",
    "        "
   ]
  },
  {
   "cell_type": "code",
   "execution_count": 33,
   "metadata": {
    "collapsed": false
   },
   "outputs": [
    {
     "name": "stdout",
     "output_type": "stream",
     "text": [
      "None\n"
     ]
    }
   ],
   "source": [
    "def isBalanced(list):\n",
    "    out = []\n",
    "    for expr in list:\n",
    "        if len(expr)%2!=0:\n",
    "            return out.append(False)\n",
    "    opening=set('(')\n",
    "    match=set([ ('(',')')])\n",
    "    stack=[]\n",
    "    \n",
    "    for item in list:\n",
    "        for char in item:\n",
    "        #iterate through each character in single string input\n",
    "            if char in opening:\n",
    "            #if given character opens \n",
    "                stack.append(char)\n",
    "            else:\n",
    "                if len(stack)==0:\n",
    "                    out.append(False)\n",
    "                lastOpen=stack.pop()\n",
    "                if (lastOpen, char) not in match:\n",
    "                    out.append(False)\n",
    "        if len(stack)==0:\n",
    "            out.append(True)\n",
    "            \n",
    "\n",
    "\n",
    "print(isBalanced(list))\n",
    "\n",
    "\n"
   ]
  },
  {
   "cell_type": "code",
   "execution_count": 35,
   "metadata": {
    "collapsed": false
   },
   "outputs": [
    {
     "name": "stdout",
     "output_type": "stream",
     "text": [
      "False\n"
     ]
    }
   ],
   "source": [
    "def isBalanced_basic(expr):\n",
    "    if len(expr)%2!=0:\n",
    "        return False\n",
    "    opening=set('(')\n",
    "    match=set([ ('(',')')])\n",
    "    stack=[]\n",
    "    for char in expr:\n",
    "        if char in opening:\n",
    "            stack.append(char)\n",
    "        else:\n",
    "            if len(stack)==0:\n",
    "                return False\n",
    "            lastOpen=stack.pop()\n",
    "            if (lastOpen, char) not in match:\n",
    "                return False\n",
    "    return len(stack)==0\n",
    "\n",
    "\n",
    "print(isBalanced_basic(\"((((((())\"))"
   ]
  },
  {
   "cell_type": "code",
   "execution_count": null,
   "metadata": {
    "collapsed": true
   },
   "outputs": [],
   "source": []
  }
 ],
 "metadata": {
  "kernelspec": {
   "display_name": "Python 2",
   "language": "python",
   "name": "python2"
  },
  "language_info": {
   "codemirror_mode": {
    "name": "ipython",
    "version": 2
   },
   "file_extension": ".py",
   "mimetype": "text/x-python",
   "name": "python",
   "nbconvert_exporter": "python",
   "pygments_lexer": "ipython2",
   "version": "2.7.11"
  }
 },
 "nbformat": 4,
 "nbformat_minor": 0
}
