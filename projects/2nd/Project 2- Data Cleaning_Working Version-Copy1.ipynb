{
 "cells": [
  {
   "cell_type": "code",
   "execution_count": 1,
   "metadata": {
    "collapsed": false
   },
   "outputs": [
    {
     "data": {
      "text/plain": [
       "pandas.core.frame.DataFrame"
      ]
     },
     "execution_count": 1,
     "metadata": {},
     "output_type": "execute_result"
    }
   ],
   "source": [
    "import pandas as pd\n",
    "import numpy as np\n",
    "import matplotlib.pyplot as plt\n",
    "import seaborn as sns\n",
    "import os \n",
    "import random\n",
    "\n",
    "%matplotlib inline\n",
    "\n",
    "os.getcwd()\n",
    "dis = pd.read_csv(\"/Users/HudsonCavanagh/dsi-projects/projects/2nd/billboard.csv\")\n",
    "bb = pd.DataFrame(dis)\n",
    "type(bb)\n",
    "\n"
   ]
  },
  {
   "cell_type": "code",
   "execution_count": null,
   "metadata": {
    "collapsed": false
   },
   "outputs": [],
   "source": [
    "#THIS CELL IS A REMINDER THAT DATA TYPES MATTER\n",
    "\n",
    "\n",
    "# bb.iloc[1:,7:83] = bb.iloc[1:,7:83].apply(pd.to_numeric(errors='coerce'))\n",
    "# bb['x2nd.week']\n",
    "\n",
    "# def inter(vals):\n",
    "#         try:\n",
    "#             if val[0] != 'x':\n",
    "#                 pd.to_numeric(s)\n",
    "#             else: \n",
    "#                 continue\n",
    "#         except ValueError:\n",
    "#             continue\n",
    "            \n",
    "# def inter2(vals):\n",
    "#     for i in vals:\n",
    "#         try:\n",
    "#             if i[0]!= 'x':\n",
    "#                 int(i)\n",
    "#             else: \n",
    "#                 continue\n",
    "#         except ValueError:\n",
    "#             continue\n",
    "            \n",
    "#inter(bb.iloc[1:,7:83])\n",
    "#pd.to_numeric(bb['x2nd.week'], errors='coerce')\n",
    "\n",
    "#bb = bb_str.iloc[1:,7:83].apply(pd.to_numeric(errors='coerce')) --- this says to_numeric requires at least 1 arguement\n",
    "\n",
    "#have not been successful in converting this data type, many of the attempts above\n",
    "#bb = pd.to_numeric(bb_str.iloc[1:,7:83], errors='coerce')\n",
    "\n",
    "#this interator function doesn't work:\n",
    "#    \n",
    "            \n",
    "#this WORKS, but deletes all other columns:\n",
    "# bb_foo = bb_str.iloc[1:,7:83].convert_objects(convert_numeric=True)\n",
    "# bb.iloc[1:,7:83] = bb_foo\n",
    "\n",
    "\n",
    "\n",
    "#THIS DOESNT WORK\n",
    "#bb['x2nd.week'] = pd.to_numeric(bb['x2nd.week'], errors='ignore')\n",
    "\n",
    "#THIS WORKS\n",
    "#bb['x2nd.week'] = bb['x2nd.week'].convert_objects(convert_numeric=True)\n",
    "#THIS DOESNT SAVE, need to set bb = (except that overwrites everthing)\n",
    "# pd.to_numeric(bb.iloc[7:83], errors='ignore') \n",
    "\n",
    "\n",
    "\n",
    "# def interator():\n",
    "#     for i, j in enumerate(bb.columns):\n",
    "#         if str(j)[0] == 'x':\n",
    "#             bb[i] = bb[i].convert_objects(convert_numeric=True)\n",
    "#         else:\n",
    "#             continue\n",
    "        \n",
    "            \n",
    "# interator() \n",
    "\n",
    "# bb.head()\n",
    "\n",
    "\n",
    "# bb = pd.to_numeric(bb_str.iloc[1:,7:83], errors='ignore')\n",
    "#bb.iloc[7:83] = bb.iloc[7:83].convert_objects(convert_numeric=True)\n",
    "#bb.head()\n",
    "\n",
    "#bb[7:83].apply(pd.convert_objects(convert_numeric=True))\n",
    "\n",
    "# bb.iloc[7:83] = bb.iloc[7:83].convert_objects(convert_numeric=True)\n",
    "\n",
    "# print(type(bb['x2nd.week'][3]))"
   ]
  },
  {
   "cell_type": "code",
   "execution_count": null,
   "metadata": {
    "collapsed": false
   },
   "outputs": [],
   "source": []
  },
  {
   "cell_type": "code",
   "execution_count": 2,
   "metadata": {
    "collapsed": false
   },
   "outputs": [],
   "source": [
    "def empty_replace(value):\n",
    "    if value == '*':\n",
    "        return np.nan\n",
    "    else:\n",
    "        return value      \n",
    "    \n",
    "def time_clean1(val):\n",
    "    return val[0:7].replace(',', ':')\n",
    "\n",
    "\n",
    "# bb_str.iloc[1:,7:83].apply(pd.convert_objects(convert_numeric=True))\n",
    "# #print(type(bb['x2nd.week'][2]))\n",
    "\n",
    "bb['time_on_bb100'] = bb.iloc[:,7:83].count(axis=1)\n",
    "\n",
    "bb.head()\n",
    "genres = bb[\"genre\"].value_counts() #genres works\n",
    "bb[\"peak_date\"] = pd.to_datetime(bb[\"date.peaked\"])\n",
    "bb[\"entered_date\"] = pd.to_datetime(bb[\"date.entered\"])\n",
    "bb[\"time\"] = (bb[\"time\"]).apply(time_clean1)\n",
    "bb[\"track_length\"] = pd.to_timedelta(bb[\"time\"])\n",
    "bb = bb.applymap(empty_replace)\n",
    "bb.iloc[:,7:83] = bb.iloc[:,7:83].applymap(lambda x: float(x))\n",
    "\n",
    "#this threw an error if emptys werent replaced, needed to be indexed with .iloc[:,7:83], \n",
    "#and use float applied element-wise wit applymap, and finally needed to be set equal to itself to save inplace\n",
    "\n",
    "# check if the above worked, if float, then yes! -- print(type(bb['x3rd.week'][3]))\n",
    "\n",
    "# #data is clean!\n",
    "#bb.head()"
   ]
  },
  {
   "cell_type": "code",
   "execution_count": 3,
   "metadata": {
    "collapsed": false
   },
   "outputs": [
    {
     "data": {
      "text/html": [
       "<div>\n",
       "<table border=\"1\" class=\"dataframe\">\n",
       "  <thead>\n",
       "    <tr style=\"text-align: right;\">\n",
       "      <th></th>\n",
       "      <th>year</th>\n",
       "      <th>artist</th>\n",
       "      <th>track</th>\n",
       "      <th>genre</th>\n",
       "      <th>time_on_bb100</th>\n",
       "      <th>peak_date</th>\n",
       "      <th>entered_date</th>\n",
       "      <th>track_length</th>\n",
       "      <th>weeks_on_bb100</th>\n",
       "      <th>avg_on_bb100</th>\n",
       "      <th>peak_rank</th>\n",
       "      <th>worst_rank</th>\n",
       "      <th>bb_ratio</th>\n",
       "    </tr>\n",
       "  </thead>\n",
       "  <tbody>\n",
       "    <tr>\n",
       "      <th>0</th>\n",
       "      <td>2000</td>\n",
       "      <td>Destiny's Child</td>\n",
       "      <td>Independent Women Part I</td>\n",
       "      <td>Rock</td>\n",
       "      <td>76</td>\n",
       "      <td>2000-11-18</td>\n",
       "      <td>2000-09-23</td>\n",
       "      <td>03:38:00</td>\n",
       "      <td>28</td>\n",
       "      <td>14.821429</td>\n",
       "      <td>1</td>\n",
       "      <td>78</td>\n",
       "      <td>5.127711</td>\n",
       "    </tr>\n",
       "    <tr>\n",
       "      <th>1</th>\n",
       "      <td>2000</td>\n",
       "      <td>Santana</td>\n",
       "      <td>Maria, Maria</td>\n",
       "      <td>Rock</td>\n",
       "      <td>75</td>\n",
       "      <td>2000-04-08</td>\n",
       "      <td>2000-02-12</td>\n",
       "      <td>04:18:00</td>\n",
       "      <td>26</td>\n",
       "      <td>10.500000</td>\n",
       "      <td>1</td>\n",
       "      <td>48</td>\n",
       "      <td>7.142857</td>\n",
       "    </tr>\n",
       "    <tr>\n",
       "      <th>2</th>\n",
       "      <td>2000</td>\n",
       "      <td>Savage Garden</td>\n",
       "      <td>I Knew I Loved You</td>\n",
       "      <td>Rock</td>\n",
       "      <td>76</td>\n",
       "      <td>2000-01-29</td>\n",
       "      <td>1999-10-23</td>\n",
       "      <td>04:07:00</td>\n",
       "      <td>33</td>\n",
       "      <td>17.363636</td>\n",
       "      <td>1</td>\n",
       "      <td>71</td>\n",
       "      <td>4.376963</td>\n",
       "    </tr>\n",
       "    <tr>\n",
       "      <th>3</th>\n",
       "      <td>2000</td>\n",
       "      <td>Madonna</td>\n",
       "      <td>Music</td>\n",
       "      <td>Rock</td>\n",
       "      <td>73</td>\n",
       "      <td>2000-09-16</td>\n",
       "      <td>2000-08-12</td>\n",
       "      <td>03:45:00</td>\n",
       "      <td>24</td>\n",
       "      <td>13.458333</td>\n",
       "      <td>1</td>\n",
       "      <td>44</td>\n",
       "      <td>5.424149</td>\n",
       "    </tr>\n",
       "    <tr>\n",
       "      <th>4</th>\n",
       "      <td>2000</td>\n",
       "      <td>Aguilera, Christina</td>\n",
       "      <td>Come On Over Baby (All I Want Is You)</td>\n",
       "      <td>Rock</td>\n",
       "      <td>73</td>\n",
       "      <td>2000-10-14</td>\n",
       "      <td>2000-08-05</td>\n",
       "      <td>03:38:00</td>\n",
       "      <td>21</td>\n",
       "      <td>19.952381</td>\n",
       "      <td>1</td>\n",
       "      <td>57</td>\n",
       "      <td>3.658711</td>\n",
       "    </tr>\n",
       "  </tbody>\n",
       "</table>\n",
       "</div>"
      ],
      "text/plain": [
       "   year               artist                                  track genre  \\\n",
       "0  2000      Destiny's Child               Independent Women Part I  Rock   \n",
       "1  2000              Santana                           Maria, Maria  Rock   \n",
       "2  2000        Savage Garden                     I Knew I Loved You  Rock   \n",
       "3  2000              Madonna                                  Music  Rock   \n",
       "4  2000  Aguilera, Christina  Come On Over Baby (All I Want Is You)  Rock   \n",
       "\n",
       "   time_on_bb100  peak_date entered_date  track_length  weeks_on_bb100  \\\n",
       "0             76 2000-11-18   2000-09-23      03:38:00              28   \n",
       "1             75 2000-04-08   2000-02-12      04:18:00              26   \n",
       "2             76 2000-01-29   1999-10-23      04:07:00              33   \n",
       "3             73 2000-09-16   2000-08-12      03:45:00              24   \n",
       "4             73 2000-10-14   2000-08-05      03:38:00              21   \n",
       "\n",
       "   avg_on_bb100  peak_rank  worst_rank  bb_ratio  \n",
       "0     14.821429          1          78  5.127711  \n",
       "1     10.500000          1          48  7.142857  \n",
       "2     17.363636          1          71  4.376963  \n",
       "3     13.458333          1          44  5.424149  \n",
       "4     19.952381          1          57  3.658711  "
      ]
     },
     "execution_count": 3,
     "metadata": {},
     "output_type": "execute_result"
    }
   ],
   "source": [
    "bb['genre'].replace(\"Rock'n'roll\", \"Rock\", inplace=True)  \n",
    "bb.groupby(['artist.inverted','genre', 'track'])\n",
    "bb['weeks_on_bb100'] = bb.iloc[:,7:83].count(axis=1)\n",
    "bb['avg_on_bb100'] = bb.iloc[:,7:83].mean(axis=1)\n",
    "bb['peak_rank'] = bb.iloc[:,7:83].apply(np.min,axis=1) #had previously used max, this is returning weirdly  idxmax\n",
    "bb['worst_rank'] = bb.iloc[:,7:83].max(axis=1) #had previously used max\n",
    "bb['bb_ratio'] = bb['time_on_bb100']/ (bb['avg_on_bb100'])\n",
    "#create column that combined avg_on_bb100, and time to convert to $\n",
    "#can use dollars to evaluate track length, or time on x axis(peak date) to see if things are 'getting better'\n",
    "bb.drop(bb.columns[7:83], axis=1, inplace=True)\n",
    "bb.drop(bb.columns[5], axis=1, inplace=True)\n",
    "bb.drop(bb.columns[3], axis=1, inplace=True)\n",
    "bb.drop(bb.columns[4], axis=1, inplace=True)\n",
    "bb.rename(columns={'artist.inverted': 'artist'}, inplace=1) \n",
    "bb.head()\n"
   ]
  },
  {
   "cell_type": "code",
   "execution_count": null,
   "metadata": {
    "collapsed": false
   },
   "outputs": [],
   "source": [
    "#before i do this, need to convert all this stuff to ints with iteration\n",
    "\n",
    "\n",
    "#correct peak for Madonna Music should be 1"
   ]
  },
  {
   "cell_type": "code",
   "execution_count": null,
   "metadata": {
    "collapsed": false
   },
   "outputs": [],
   "source": []
  },
  {
   "cell_type": "code",
   "execution_count": null,
   "metadata": {
    "collapsed": true
   },
   "outputs": [],
   "source": [
    "\n"
   ]
  },
  {
   "cell_type": "code",
   "execution_count": null,
   "metadata": {
    "collapsed": false
   },
   "outputs": [],
   "source": [
    "bb.head(10)"
   ]
  },
  {
   "cell_type": "code",
   "execution_count": 4,
   "metadata": {
    "collapsed": false
   },
   "outputs": [
    {
     "name": "stdout",
     "output_type": "stream",
     "text": [
      "                                                                                bb_ratio  \\\n",
      "genre       artist                       track                                             \n",
      "Rock        Santana                      Maria, Maria                           7.142857   \n",
      "            Madonna                      Music                                  5.424149   \n",
      "            Destiny's Child              Independent Women Part I               5.127711   \n",
      "            N'Sync                       Bye Bye Bye                            5.118902   \n",
      "Rap         Elliott, Missy \"Misdemeanor\" Hot Boyz                               5.093023   \n",
      "Latin       Iglesias, Enrique            Be With You                            4.605678   \n",
      "Rock        Aaliyah                      Try Again                              4.562852   \n",
      "            Savage Garden                I Knew I Loved You                     4.376963   \n",
      "            Houston, Whitney             My Love Is Your Love                   4.256000   \n",
      "            Pink                         There U Go                             4.080537   \n",
      "            matchbox twenty              Bent                                   4.077029   \n",
      "            Sisqo                        Thong Song                             3.962756   \n",
      "            Mya                          Case Of The Ex (Whatcha Gonna Do)      3.870968   \n",
      "            N'Sync                       This I Promise You                     3.823529   \n",
      "            Aguilera, Christina          What A Girl Wants                      3.784017   \n",
      "            Ruff Endz                    No More                                3.764479   \n",
      "            Janet                        Doesn't Really Matter                  3.759657   \n",
      "            Aguilera, Christina          Come On Over Baby (All I Want Is You)  3.658711   \n",
      "            Destiny's Child              Say My Name                            3.640719   \n",
      "            Braxton, Toni                He Wasn't Man Enough                   3.619048   \n",
      "            Joe                          I Wanna Know                           3.584137   \n",
      "            Vertical Horizon             Everything You Want                    3.544937   \n",
      "Pop         Blaque                       Bring It All To Me                     3.520767   \n",
      "Rock        Gray, Macy                   I Try                                  3.507692   \n",
      "            Pink                         Most Girls                             3.489796   \n",
      "            Sonique                      It Feels So Good                       3.435028   \n",
      "            N'Sync                       It's Gonna Be Me                       3.413284   \n",
      "            Destiny's Child              Jumpin' Jumpin'                        3.313351   \n",
      "Rap         Hill, Faith                  Breathe                                3.301639   \n",
      "Latin       Anthony, Marc                You Sang To Me                         3.238349   \n",
      "...                                                                                  ...   \n",
      "Rock        Moore, Chante                Straight Up                            0.792521   \n",
      "Electronica Madison Avenue               Don't Call Me Baby                     0.787911   \n",
      "Rock        Limp Bizkit                  Re-Arranged                            0.787298   \n",
      "Rap         Juvenile                     U Understand                           0.783542   \n",
      "            Funkmaster Flex              Do You                                 0.780153   \n",
      "Rock        Tamar                        If You Don't Wanna Love Me             0.779359   \n",
      "            Spencer, Tracie              Still In My Heart                      0.779359   \n",
      "R & B       Levert, Gerald               Baby U Are                             0.778252   \n",
      "            Nu Flavor                    3 Little Words                         0.772941   \n",
      "Pop         Anastacia                    I'm Outta Love                         0.771127   \n",
      "Rock        En Vogue                     Riddle                                 0.766404   \n",
      "            Price, Kelly                 Love Sets You Free                     0.766404   \n",
      "Country     Diffie, Joe                  The Quittin' Kind                      0.761739   \n",
      "Rap         Trina                        Pull Over                              0.756477   \n",
      "Country     Herndon, Ty                  No Mercy                               0.755498   \n",
      "Pop         A*Teens                      Dancing Queen                          0.752577   \n",
      "Country     Hart, Beth                   L.A. Song                              0.751286   \n",
      "Rap         De La Soul                   All Good?                              0.750000   \n",
      "            Sheist, Shade                Where I Wanna Be                       0.746421   \n",
      "Rock        Tuesday                      I Know                                 0.744898   \n",
      "R & B       Larrieux, Amel               Get Up                                 0.744898   \n",
      "Rap         Master P                     Souljas                                0.744898   \n",
      "R & B       Ghostface Killah             Cherchez LaGhost                       0.744898   \n",
      "Rock        Braxton, Toni                Spanish Guitar                         0.744898   \n",
      "Rap         Lil' Mo                      Ta Da                                  0.743814   \n",
      "            LL Cool J                    Imagine That                           0.741117   \n",
      "R & B       Fragma                       Toca's Miracle                         0.737374   \n",
      "Rap         Eastsidaz, The               Got Beef                               0.737374   \n",
      "            Smith, Will                  Freakin' It                            0.737374   \n",
      "Rock        Zombie Nation                Kernkraft 400                          0.737374   \n",
      "\n",
      "                                                                                peak_rank  \n",
      "genre       artist                       track                                             \n",
      "Rock        Santana                      Maria, Maria                                   1  \n",
      "            Madonna                      Music                                          1  \n",
      "            Destiny's Child              Independent Women Part I                       1  \n",
      "            N'Sync                       Bye Bye Bye                                    4  \n",
      "Rap         Elliott, Missy \"Misdemeanor\" Hot Boyz                                       5  \n",
      "Latin       Iglesias, Enrique            Be With You                                    1  \n",
      "Rock        Aaliyah                      Try Again                                      1  \n",
      "            Savage Garden                I Knew I Loved You                             1  \n",
      "            Houston, Whitney             My Love Is Your Love                           4  \n",
      "            Pink                         There U Go                                     7  \n",
      "            matchbox twenty              Bent                                           1  \n",
      "            Sisqo                        Thong Song                                     3  \n",
      "            Mya                          Case Of The Ex (Whatcha Gonna Do)              2  \n",
      "            N'Sync                       This I Promise You                             5  \n",
      "            Aguilera, Christina          What A Girl Wants                              1  \n",
      "            Ruff Endz                    No More                                        5  \n",
      "            Janet                        Doesn't Really Matter                          1  \n",
      "            Aguilera, Christina          Come On Over Baby (All I Want Is You)          1  \n",
      "            Destiny's Child              Say My Name                                    1  \n",
      "            Braxton, Toni                He Wasn't Man Enough                           2  \n",
      "            Joe                          I Wanna Know                                   4  \n",
      "            Vertical Horizon             Everything You Want                            1  \n",
      "Pop         Blaque                       Bring It All To Me                             5  \n",
      "Rock        Gray, Macy                   I Try                                          5  \n",
      "            Pink                         Most Girls                                     4  \n",
      "            Sonique                      It Feels So Good                               8  \n",
      "            N'Sync                       It's Gonna Be Me                               1  \n",
      "            Destiny's Child              Jumpin' Jumpin'                                3  \n",
      "Rap         Hill, Faith                  Breathe                                        2  \n",
      "Latin       Anthony, Marc                You Sang To Me                                 2  \n",
      "...                                                                                   ...  \n",
      "Rock        Moore, Chante                Straight Up                                   83  \n",
      "Electronica Madison Avenue               Don't Call Me Baby                            88  \n",
      "Rock        Limp Bizkit                  Re-Arranged                                   88  \n",
      "Rap         Juvenile                     U Understand                                  83  \n",
      "            Funkmaster Flex              Do You                                        91  \n",
      "Rock        Tamar                        If You Don't Wanna Love Me                    89  \n",
      "            Spencer, Tracie              Still In My Heart                             88  \n",
      "R & B       Levert, Gerald               Baby U Are                                    89  \n",
      "            Nu Flavor                    3 Little Words                                89  \n",
      "Pop         Anastacia                    I'm Outta Love                                92  \n",
      "Rock        En Vogue                     Riddle                                        92  \n",
      "            Price, Kelly                 Love Sets You Free                            91  \n",
      "Country     Diffie, Joe                  The Quittin' Kind                             90  \n",
      "Rap         Trina                        Pull Over                                     93  \n",
      "Country     Herndon, Ty                  No Mercy                                      92  \n",
      "Pop         A*Teens                      Dancing Queen                                 95  \n",
      "Country     Hart, Beth                   L.A. Song                                     90  \n",
      "Rap         De La Soul                   All Good?                                     96  \n",
      "            Sheist, Shade                Where I Wanna Be                              95  \n",
      "Rock        Tuesday                      I Know                                        98  \n",
      "R & B       Larrieux, Amel               Get Up                                        97  \n",
      "Rap         Master P                     Souljas                                       98  \n",
      "R & B       Ghostface Killah             Cherchez LaGhost                              98  \n",
      "Rock        Braxton, Toni                Spanish Guitar                                98  \n",
      "Rap         Lil' Mo                      Ta Da                                         95  \n",
      "            LL Cool J                    Imagine That                                  98  \n",
      "R & B       Fragma                       Toca's Miracle                                99  \n",
      "Rap         Eastsidaz, The               Got Beef                                      99  \n",
      "            Smith, Will                  Freakin' It                                   99  \n",
      "Rock        Zombie Nation                Kernkraft 400                                 99  \n",
      "\n",
      "[318 rows x 2 columns]\n"
     ]
    }
   ],
   "source": [
    "#pivot_table by artist so we can see their total time on the chart and rank them by that valuye\n",
    "#run scatter of song length to how long it was 'big'\n",
    "art_track_view = pd.pivot_table(bb, index=['genre','artist','track'], values=['peak_rank', 'bb_ratio'], aggfunc=(np.mean), margins=1).sort_values(by=\"bb_ratio\", ascending=0)\n",
    "print(art_track_view)\n",
    "\n",
    "\n",
    "#pd.pivot_table(df,index=[\"Manager\",\"Rep\"],values=[\"Price\"],aggfunc=[np.mean,len])"
   ]
  },
  {
   "cell_type": "code",
   "execution_count": null,
   "metadata": {
    "collapsed": false
   },
   "outputs": [],
   "source": [
    "track_view = pd.pivot_table(bb, index=['track'], values=['peak_rank', 'bb_ratio'], aggfunc=(np.mean), margins=1).sort_values(by=['peak_rank'], ascending=1)\n",
    "print(track_view)\n",
    "#works! at least for bb_score"
   ]
  },
  {
   "cell_type": "code",
   "execution_count": null,
   "metadata": {
    "collapsed": false
   },
   "outputs": [],
   "source": [
    "artist_view = pd.pivot_table(bb, index=['artist'], values=['peak_rank', 'bb_ratio'], aggfunc=(np.mean), margins=1).sort_values(by=['bb_ratio'], ascending=0)\n",
    "print(artist_view)\n",
    "#works! at least for bb_score"
   ]
  },
  {
   "cell_type": "code",
   "execution_count": null,
   "metadata": {
    "collapsed": false
   },
   "outputs": [],
   "source": [
    "artist_view_peak = pd.pivot_table(bb, index=['artist'], values=['peak_rank'], aggfunc=[max],margins=1).sort_values(by='peak_rank', ascending=0)\n",
    "print(artist_view_peak)\n",
    "#this doesn't work yet, getting a key error for peak_rank??\n",
    "\n",
    "\n",
    "#aggfunc={\"Quantity\":len,\"Price\":[np.sum,np.mean]}"
   ]
  },
  {
   "cell_type": "code",
   "execution_count": null,
   "metadata": {
    "collapsed": false
   },
   "outputs": [],
   "source": [
    "#could also use length of time on bb pivot"
   ]
  },
  {
   "cell_type": "code",
   "execution_count": null,
   "metadata": {
    "collapsed": false
   },
   "outputs": [],
   "source": [
    "      \n",
    "artist_view2 = pd.pivot_table(bb, index=['artist'], values=['peak_rank'], aggfunc=(max), margins=1).sort_values(by=['peak_rank'], ascending=1)\n",
    "print(artist_view2)"
   ]
  },
  {
   "cell_type": "code",
   "execution_count": null,
   "metadata": {
    "collapsed": false,
    "scrolled": true
   },
   "outputs": [],
   "source": []
  },
  {
   "cell_type": "code",
   "execution_count": null,
   "metadata": {
    "collapsed": false
   },
   "outputs": [],
   "source": [
    "bb.head(100)"
   ]
  },
  {
   "cell_type": "code",
   "execution_count": null,
   "metadata": {
    "collapsed": false
   },
   "outputs": [],
   "source": []
  },
  {
   "cell_type": "code",
   "execution_count": null,
   "metadata": {
    "collapsed": false
   },
   "outputs": [],
   "source": [
    "\n",
    "bb.head()"
   ]
  },
  {
   "cell_type": "code",
   "execution_count": null,
   "metadata": {
    "collapsed": true
   },
   "outputs": [],
   "source": [
    "#yet to do:\n",
    "#- highest chart position\n",
    "#time column to song length\n",
    "#chart of success v. song track title\n",
    "#calculate the date each song fell off the charts (date entered + weeks on charts)\n",
    "#pivot of genre & length/ height on charts\n",
    "#scatter of time on bb v. avg ranking on bb\n",
    "#avg ranking v. week 1 (or any other week)\n",
    "\n",
    "\n",
    "\n",
    "More brainstorming ideas:\n",
    "    - ttest of \n"
   ]
  }
 ],
 "metadata": {
  "kernelspec": {
   "display_name": "Python 2",
   "language": "python",
   "name": "python2"
  },
  "language_info": {
   "codemirror_mode": {
    "name": "ipython",
    "version": 2
   },
   "file_extension": ".py",
   "mimetype": "text/x-python",
   "name": "python",
   "nbconvert_exporter": "python",
   "pygments_lexer": "ipython2",
   "version": "2.7.11"
  }
 },
 "nbformat": 4,
 "nbformat_minor": 0
}
