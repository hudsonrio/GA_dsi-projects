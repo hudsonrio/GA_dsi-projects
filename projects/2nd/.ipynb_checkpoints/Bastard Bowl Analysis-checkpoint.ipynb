{
 "cells": [
  {
   "cell_type": "code",
   "execution_count": 3,
   "metadata": {
    "collapsed": false
   },
   "outputs": [
    {
     "data": {
      "text/html": [
       "<div>\n",
       "<table border=\"1\" class=\"dataframe\">\n",
       "  <thead>\n",
       "    <tr style=\"text-align: right;\">\n",
       "      <th></th>\n",
       "      <th>Timestamp</th>\n",
       "      <th>NBA</th>\n",
       "      <th>*jon killed by*</th>\n",
       "      <th>*ramsay killed by*</th>\n",
       "      <th>*pick any three*</th>\n",
       "      <th>who scores most?</th>\n",
       "      <th>What's ur name?</th>\n",
       "    </tr>\n",
       "  </thead>\n",
       "  <tbody>\n",
       "    <tr>\n",
       "      <th>0</th>\n",
       "      <td>6/19/2016 20:07:37</td>\n",
       "      <td>Cavs (+4.5)</td>\n",
       "      <td>no one</td>\n",
       "      <td>Littlefinger</td>\n",
       "      <td>Littlefinger shows up, Rickon gets killed, Dav...</td>\n",
       "      <td>kevin love</td>\n",
       "      <td>Abby</td>\n",
       "    </tr>\n",
       "    <tr>\n",
       "      <th>1</th>\n",
       "      <td>6/19/2016 20:13:52</td>\n",
       "      <td>Cavs (+4.5)</td>\n",
       "      <td>Jaime</td>\n",
       "      <td>His dogs</td>\n",
       "      <td>sansa kills Littlefinger, A dragon kills someo...</td>\n",
       "      <td>kevin love</td>\n",
       "      <td>Lebo</td>\n",
       "    </tr>\n",
       "    <tr>\n",
       "      <th>2</th>\n",
       "      <td>6/19/2016 20:15:22</td>\n",
       "      <td>Cavs (+4.5)</td>\n",
       "      <td>no one</td>\n",
       "      <td>Giant</td>\n",
       "      <td>Littlefinger shows up, Bran visits the battle ...</td>\n",
       "      <td>richard jefferson</td>\n",
       "      <td>Ashdaddy</td>\n",
       "    </tr>\n",
       "    <tr>\n",
       "      <th>3</th>\n",
       "      <td>6/19/2016 20:17:02</td>\n",
       "      <td>Warriors(-4.5)</td>\n",
       "      <td>no one</td>\n",
       "      <td>Brienne</td>\n",
       "      <td>Jamie saves the stark army, A dragon kills som...</td>\n",
       "      <td>leandro barbosa + anderson varejao</td>\n",
       "      <td>Nathan</td>\n",
       "    </tr>\n",
       "    <tr>\n",
       "      <th>4</th>\n",
       "      <td>6/19/2016 20:18:21</td>\n",
       "      <td>Cavs (+4.5)</td>\n",
       "      <td>no one</td>\n",
       "      <td>Sansa</td>\n",
       "      <td>Brienne dies, A dragon kills someone, We find ...</td>\n",
       "      <td>kevin love</td>\n",
       "      <td>Paulie</td>\n",
       "    </tr>\n",
       "  </tbody>\n",
       "</table>\n",
       "</div>"
      ],
      "text/plain": [
       "            Timestamp             NBA *jon killed by* *ramsay killed by*  \\\n",
       "0  6/19/2016 20:07:37     Cavs (+4.5)          no one       Littlefinger   \n",
       "1  6/19/2016 20:13:52     Cavs (+4.5)           Jaime           His dogs   \n",
       "2  6/19/2016 20:15:22     Cavs (+4.5)          no one              Giant   \n",
       "3  6/19/2016 20:17:02  Warriors(-4.5)          no one            Brienne   \n",
       "4  6/19/2016 20:18:21     Cavs (+4.5)          no one              Sansa   \n",
       "\n",
       "                                    *pick any three*  \\\n",
       "0  Littlefinger shows up, Rickon gets killed, Dav...   \n",
       "1  sansa kills Littlefinger, A dragon kills someo...   \n",
       "2  Littlefinger shows up, Bran visits the battle ...   \n",
       "3  Jamie saves the stark army, A dragon kills som...   \n",
       "4  Brienne dies, A dragon kills someone, We find ...   \n",
       "\n",
       "                     who scores most? What's ur name?  \n",
       "0                          kevin love            Abby  \n",
       "1                          kevin love            Lebo  \n",
       "2                   richard jefferson        Ashdaddy  \n",
       "3  leandro barbosa + anderson varejao          Nathan  \n",
       "4                          kevin love          Paulie  "
      ]
     },
     "execution_count": 3,
     "metadata": {},
     "output_type": "execute_result"
    }
   ],
   "source": [
    "import pandas as pd\n",
    "import numpy as np\n",
    "import matplotlib.pyplot as plt\n",
    "import seaborn as sns\n",
    "import os \n",
    "import random\n",
    "\n",
    "%matplotlib inline\n",
    "\n",
    "os.getcwd()\n",
    "dat = pd.read_csv(\"/Users/HudsonCavanagh/dsi-projects/side_projects/bastard_bowl-analysis.csv\")\n",
    "bb = pd.DataFrame(dat)\n",
    "bb.head()"
   ]
  },
  {
   "cell_type": "code",
   "execution_count": null,
   "metadata": {
    "collapsed": true
   },
   "outputs": [],
   "source": [
    "solutions = {'NBA':'Cavs (+4.5)', '*jon killed by*': 'no one', '*ramsay killed by*': 'His dogs', 'who scores most?'}\n",
    "any_three = {'True': ['Littlefinger shows up', ], \\\n",
    "             'False': ['A walker shows up', 'Jamie saves the stark army', 'Brienne dies', 'sansa kills Littlefinger'...]}"
   ]
  }
 ],
 "metadata": {
  "kernelspec": {
   "display_name": "Python 2",
   "language": "python",
   "name": "python2"
  },
  "language_info": {
   "codemirror_mode": {
    "name": "ipython",
    "version": 2
   },
   "file_extension": ".py",
   "mimetype": "text/x-python",
   "name": "python",
   "nbconvert_exporter": "python",
   "pygments_lexer": "ipython2",
   "version": "2.7.11"
  }
 },
 "nbformat": 4,
 "nbformat_minor": 0
}
