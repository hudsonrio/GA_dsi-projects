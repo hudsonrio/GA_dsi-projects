{
 "cells": [
  {
   "cell_type": "code",
   "execution_count": null,
   "metadata": {
    "collapsed": true
   },
   "outputs": [],
   "source": [
    "from urllib2 import Request, urlopen, URLError\n",
    "\n",
    "request = Request('http://placekitten.com/')\n",
    "\n",
    "try:\n",
    "    response = urlopen(request)\n",
    "    kittens = response.read()\n",
    "    \n"
   ]
  },
  {
   "cell_type": "code",
   "execution_count": null,
   "metadata": {
    "collapsed": true
   },
   "outputs": [],
   "source": [
    "import urllib2\n",
    "import requests\n",
    "import json\n",
    "\n",
    "imdb = Imdb()\n",
    "top_250 = imdb.top_250()\n",
    "top_250 = pd.DataFrame(top_250)\n",
    "url = 'http://www.omdbapi.com/?i=tt0111161&plot=full&r=json'\n",
    "\n",
    "keys = (json.load(urllib2.urlopen(url)).keys())\n",
    "\n",
    "api_base_url = 'http://www.omdbapi.com/?i={}&plot=full&r=json'\n",
    "\n",
    "value_list = []\n",
    "for id_example in set(top_250['tconst'].values):\n",
    "    value_list.append((json.load(urllib2.urlopen(api_base_url.format(id_example)))).values())\n",
    "    \n",
    "df = pd.DataFrame(value_list, columns=keys) #pandas takes each list within list and stacks it into a dataframe\n"
   ]
  },
  {
   "cell_type": "code",
   "execution_count": null,
   "metadata": {
    "collapsed": true
   },
   "outputs": [],
   "source": [
    "    \n",
    "api_base_url = 'https://sheetsu.com/apis/v1.0/cc9420722ae4'\n",
    "api_response = requests.get(api_base_url)\n",
    "\n",
    "#with json package\n",
    "response = json.loads(api_response.text)\n",
    "\n",
    "\n",
    "#with pandas\n",
    "wine_df = pd.read_json(api_response.text)\n",
    "wine_df.tail(2)"
   ]
  },
  {
   "cell_type": "code",
   "execution_count": null,
   "metadata": {
    "collapsed": true
   },
   "outputs": [],
   "source": [
    "def get_entry(entry):\n",
    "    res = requests.get('http://www.omdbapi.com/?i='+entry)\n",
    "    if res.status_code != 200:\n",
    "        print entry, res.status_code\n",
    "    else:\n",
    "        print '.',\n",
    "    try:\n",
    "        j = json.loads(res.text)\n",
    "    except ValueError:\n",
    "        j = None\n",
    "    return j\n",
    "\n",
    "\n"
   ]
  },
  {
   "cell_type": "code",
   "execution_count": null,
   "metadata": {
    "collapsed": true
   },
   "outputs": [],
   "source": [
    "from urllib2 import urlopen\n",
    "\n",
    "kittens = urlopen('http://placekitten.com/200/300')\n",
    "\n",
    "f = open('kittens.jpg', 'wb')\n",
    "f.write(kittens.read())\n",
    "f.close()"
   ]
  }
 ],
 "metadata": {
  "kernelspec": {
   "display_name": "Python 2 New",
   "language": "python",
   "name": "stats_mods_py"
  },
  "language_info": {
   "codemirror_mode": {
    "name": "ipython",
    "version": 2
   },
   "file_extension": ".py",
   "mimetype": "text/x-python",
   "name": "python",
   "nbconvert_exporter": "python",
   "pygments_lexer": "ipython2",
   "version": "2.7.12"
  }
 },
 "nbformat": 4,
 "nbformat_minor": 0
}
