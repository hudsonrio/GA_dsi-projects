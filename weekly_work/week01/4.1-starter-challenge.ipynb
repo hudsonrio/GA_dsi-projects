{
 "cells": [
  {
   "cell_type": "code",
   "execution_count": 1,
   "metadata": {
    "collapsed": false
   },
   "outputs": [],
   "source": [
    "import numpy as np \n",
    "import math \n",
    "\n",
    "# create an array\n"
   ]
  },
  {
   "cell_type": "code",
   "execution_count": 2,
   "metadata": {
    "collapsed": false
   },
   "outputs": [
    {
     "name": "stdout",
     "output_type": "stream",
     "text": [
      "28.984375\n",
      "28.984375\n"
     ]
    }
   ],
   "source": [
    "# Write a function that computes the variance\n",
    "# Compare your function results with numpy results\n",
    "\n",
    "import numpy as np \n",
    "import math \n",
    "\n",
    "array = [1,2,3,5,7,11,13,17]\n",
    "\n",
    "def var_able(n):\n",
    "    sq_diff = []\n",
    "    n_mean = np.mean(n)\n",
    "\n",
    "    for n_ in n:\n",
    "      sq_diff.append((n_ - n_mean) ** 2)\n",
    "\n",
    "    sumsq = np.sum(sq_diff)\n",
    "    variance = sumsq / float(len(n))\n",
    "    \n",
    "    return variance\n",
    "\n",
    "print(var_able(array))\n",
    "\n",
    "print(np.var(array))"
   ]
  },
  {
   "cell_type": "code",
   "execution_count": 4,
   "metadata": {
    "collapsed": false
   },
   "outputs": [],
   "source": [
    "# Write a function that computes the standard deviation and \n",
    "# compare your function results with numpy equivalents. "
   ]
  }
 ],
 "metadata": {
  "kernelspec": {
   "display_name": "Python 2",
   "language": "python",
   "name": "python2"
  },
  "language_info": {
   "codemirror_mode": {
    "name": "ipython",
    "version": 2
   },
   "file_extension": ".py",
   "mimetype": "text/x-python",
   "name": "python",
   "nbconvert_exporter": "python",
   "pygments_lexer": "ipython2",
   "version": "2.7.11"
  }
 },
 "nbformat": 4,
 "nbformat_minor": 0
}
