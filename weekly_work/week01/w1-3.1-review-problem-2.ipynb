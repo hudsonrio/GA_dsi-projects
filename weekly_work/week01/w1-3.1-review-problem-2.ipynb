{
 "cells": [
  {
   "cell_type": "markdown",
   "metadata": {},
   "source": [
    "Name: Hudson\n",
    "People you worked with (if any): Tucker"
   ]
  },
  {
   "cell_type": "markdown",
   "metadata": {},
   "source": [
    "### Review Problem 2\n",
    "\n",
    "For this problem, you will be writing a function that operates on a dictionary and **optionally** a list of numbers.\n",
    "\n",
    "Write a function that:\n",
    "\n",
    "- Accepts a dictionary as its first argument. The values of the dictionary should be a list of numbers.\n",
    "- Accepts an optional **keyword argument** that is a list. The default should be an empty list. **The optional keyword list should be called remainder**\n",
    "- **If the list is empty:** append a 2 to the list.\n",
    "- Print the dictionary as well as the optional list.\n",
    "- Iterate though they key:value pairs in the dictionary:\n",
    "    - For each value list of numbers, calculate the **remainder of each number** for **each number in the remainder list**\n",
    "    - Create a dictionary where they keys are the numbers in the value list, and the values are the remainders of that number from the remainder list.\n",
    "    - ex: if value ```list == [10,9]``` and ```remainder == [2,3]```, the new dictionary would be: ```{10:[0, 1], 9:[1, 0]}```\n",
    "    - For the current key in the dictionary entered into the function, change the value to the new remainder dictionary.\n",
    "- Print out the new dictionary.\n",
    "- Return the dictionary.\n",
    "\n",
    "Notes/Hints:\n",
    "\n",
    "- keyword arguments are specified in functions like so: \n",
    "    ```python\n",
    "    def example_function(arg1, kwarg1=default_value):\n",
    "    ```\n",
    "- The operator for finding the remainder of two values is: ```%```\n",
    "    ```python\n",
    "    14 % 5 == 4\n",
    "    ```"
   ]
  },
  {
   "cell_type": "code",
   "execution_count": 30,
   "metadata": {
    "collapsed": false
   },
   "outputs": [],
   "source": [
    "test_dict = {'A':[1,2,3,4,5], 'B':[12.1, 14.2, 20.3, 25.4], 'C':[10, 25.5, 50.9, 101]}\n",
    "optional_remainder = [2,3,4,5]\n",
    "\n",
    "# 1. Run the function with the default keyword argument\n",
    "# 2. Run the function assigning the default keyword argument to the optional list"
   ]
  },
  {
   "cell_type": "code",
   "execution_count": 17,
   "metadata": {
    "collapsed": false
   },
   "outputs": [
    {
     "name": "stdout",
     "output_type": "stream",
     "text": [
      "{'A': [1, 2, 3, 4, 5], 'C': [10, 25.5, 50.9, 101], 'B': [12.1, 14.2, 20.3, 25.4]}\n",
      "{}\n"
     ]
    },
    {
     "data": {
      "text/plain": [
       "{}"
      ]
     },
     "execution_count": 17,
     "metadata": {},
     "output_type": "execute_result"
    }
   ],
   "source": [
    "from __future__ import print_function\n",
    "import string\n",
    "#working\n",
    "\n",
    "def super_dict_changer(target_dict, remainder=[]):\n",
    "    print(target_dict)\n",
    "    newest_dict = {}\n",
    "    if remainder == []:\n",
    "        remainder.extend(2)\n",
    "    for i,j in target_dict.items():\n",
    "            for x in remainder:\n",
    "                try:\n",
    "                    if type(float(j)) == float:\n",
    "                        newest_dict[j] = (j%x)\n",
    "                        #do I need to go another level down to iterate on the whole list?\n",
    "                except TypeError:\n",
    "                    continue\n",
    "    print(newest_dict)\n",
    "    return(newest_dict)      \n",
    "\n",
    "super_dict_changer(test_dict, optional_remainder)"
   ]
  },
  {
   "cell_type": "code",
   "execution_count": 38,
   "metadata": {
    "collapsed": false
   },
   "outputs": [
    {
     "name": "stdout",
     "output_type": "stream",
     "text": [
      "{'A': [1, 2, 3, 4, 5], 'C': [10, 25.5, 50.9, 101], 'B': [12.1, 14.2, 20.3, 25.4]}\n",
      "[2, 3, 4, 5]\n",
      "{25.5: 0.5, 1: 1.0, 2: 2.0, 3: 3.0, 4: 4.0, 5: 0.0, 12.1: 2.0999999999999996, 10: 0.0, 50.9: 0.8999999999999986, 20.3: 0.3000000000000007, 25.4: 0.3999999999999986, 14.2: 4.199999999999999, 101: 1.0}\n"
     ]
    },
    {
     "data": {
      "text/plain": [
       "{1: 1.0,\n",
       " 2: 2.0,\n",
       " 3: 3.0,\n",
       " 4: 4.0,\n",
       " 5: 0.0,\n",
       " 10: 0.0,\n",
       " 12.1: 2.0999999999999996,\n",
       " 14.2: 4.199999999999999,\n",
       " 20.3: 0.3000000000000007,\n",
       " 25.4: 0.3999999999999986,\n",
       " 25.5: 0.5,\n",
       " 50.9: 0.8999999999999986,\n",
       " 101: 1.0}"
      ]
     },
     "execution_count": 38,
     "metadata": {},
     "output_type": "execute_result"
    }
   ],
   "source": [
    "from __future__ import print_function\n",
    "import string\n",
    "#working\n",
    "\n",
    "def super_dict_changer(target_dict, remainder=[]):\n",
    "    print(target_dict)\n",
    "    print(remainder)\n",
    "    newest_dict = {}\n",
    "    if remainder == []:\n",
    "        remainder.extend(2)\n",
    "    for i,j in target_dict.items():\n",
    "        for x in remainder:\n",
    "            for h in j:\n",
    "                newest_dict[h] = (float(h)%float(x))\n",
    "    print(newest_dict)\n",
    "    return(newest_dict)      \n",
    "\n",
    "super_dict_changer(test_dict, optional_remainder)"
   ]
  },
  {
   "cell_type": "code",
   "execution_count": 35,
   "metadata": {
    "collapsed": false
   },
   "outputs": [
    {
     "name": "stdout",
     "output_type": "stream",
     "text": [
      "{'A': [1, 2, 3, 4, 5], 'C': [10, 25.5, 50.9, 101], 'B': [12.1, 14.2, 20.3, 25.4]}\n",
      "[2, 3, 4, 5]\n"
     ]
    },
    {
     "ename": "TypeError",
     "evalue": "float() argument must be a string or a number",
     "output_type": "error",
     "traceback": [
      "\u001b[0;31m---------------------------------------------------------------------------\u001b[0m",
      "\u001b[0;31mTypeError\u001b[0m                                 Traceback (most recent call last)",
      "\u001b[0;32m<ipython-input-35-7e3ab113bc56>\u001b[0m in \u001b[0;36m<module>\u001b[0;34m()\u001b[0m\n\u001b[1;32m     15\u001b[0m     \u001b[0;32mreturn\u001b[0m\u001b[0;34m(\u001b[0m\u001b[0mnewest_dict\u001b[0m\u001b[0;34m)\u001b[0m\u001b[0;34m\u001b[0m\u001b[0m\n\u001b[1;32m     16\u001b[0m \u001b[0;34m\u001b[0m\u001b[0m\n\u001b[0;32m---> 17\u001b[0;31m \u001b[0msuper_dict_changer\u001b[0m\u001b[0;34m(\u001b[0m\u001b[0mtest_dict\u001b[0m\u001b[0;34m,\u001b[0m \u001b[0moptional_remainder\u001b[0m\u001b[0;34m)\u001b[0m\u001b[0;34m\u001b[0m\u001b[0m\n\u001b[0m",
      "\u001b[0;32m<ipython-input-35-7e3ab113bc56>\u001b[0m in \u001b[0;36msuper_dict_changer\u001b[0;34m(target_dict, remainder)\u001b[0m\n\u001b[1;32m     11\u001b[0m     \u001b[0;32mfor\u001b[0m \u001b[0mi\u001b[0m\u001b[0;34m,\u001b[0m\u001b[0mj\u001b[0m \u001b[0;32min\u001b[0m \u001b[0mtarget_dict\u001b[0m\u001b[0;34m.\u001b[0m\u001b[0mitems\u001b[0m\u001b[0;34m(\u001b[0m\u001b[0;34m)\u001b[0m\u001b[0;34m:\u001b[0m\u001b[0;34m\u001b[0m\u001b[0m\n\u001b[1;32m     12\u001b[0m         \u001b[0;32mfor\u001b[0m \u001b[0mx\u001b[0m \u001b[0;32min\u001b[0m \u001b[0mremainder\u001b[0m\u001b[0;34m:\u001b[0m\u001b[0;34m\u001b[0m\u001b[0m\n\u001b[0;32m---> 13\u001b[0;31m             \u001b[0mnewest_dict\u001b[0m\u001b[0;34m[\u001b[0m\u001b[0mj\u001b[0m\u001b[0;34m]\u001b[0m \u001b[0;34m=\u001b[0m \u001b[0;34m(\u001b[0m\u001b[0mfloat\u001b[0m\u001b[0;34m(\u001b[0m\u001b[0mj\u001b[0m\u001b[0;34m)\u001b[0m\u001b[0;34m%\u001b[0m\u001b[0mfloat\u001b[0m\u001b[0;34m(\u001b[0m\u001b[0mx\u001b[0m\u001b[0;34m)\u001b[0m\u001b[0;34m)\u001b[0m\u001b[0;34m\u001b[0m\u001b[0m\n\u001b[0m\u001b[1;32m     14\u001b[0m     \u001b[0;32mprint\u001b[0m\u001b[0;34m(\u001b[0m\u001b[0mnewest_dict\u001b[0m\u001b[0;34m)\u001b[0m\u001b[0;34m\u001b[0m\u001b[0m\n\u001b[1;32m     15\u001b[0m     \u001b[0;32mreturn\u001b[0m\u001b[0;34m(\u001b[0m\u001b[0mnewest_dict\u001b[0m\u001b[0;34m)\u001b[0m\u001b[0;34m\u001b[0m\u001b[0m\n",
      "\u001b[0;31mTypeError\u001b[0m: float() argument must be a string or a number"
     ]
    }
   ],
   "source": [
    "from __future__ import print_function\n",
    "import string\n",
    "#working\n",
    "\n",
    "def super_dict_changer(target_dict, remainder=[]):\n",
    "    print(target_dict)\n",
    "    print(remainder)\n",
    "    newest_dict = {}\n",
    "    if remainder == []:\n",
    "        remainder.extend(2)\n",
    "    for i,j in target_dict.items():\n",
    "        for x in remainder:\n",
    "            newest_dict[i] = (float(j)%float(x))\n",
    "    print(newest_dict)\n",
    "    return(newest_dict)      \n",
    "\n",
    "super_dict_changer(test_dict, optional_remainder)"
   ]
  },
  {
   "cell_type": "code",
   "execution_count": 1,
   "metadata": {
    "collapsed": false
   },
   "outputs": [
    {
     "name": "stdout",
     "output_type": "stream",
     "text": [
      "{'A': [1, 2, 3, 4, 5], 'C': [10, 25.5, 50.9, 101], 'B': [12.1, 14.2, 20.3, 25.4]}\n",
      "[2, 3, 4, 5]\n",
      "{25.5: 0.5, 1: 1.0, 2: 2.0, 3: 3.0, 4: 4.0, 5: 0.0, 12.1: 2.0999999999999996, 10: 0.0, 50.9: 0.8999999999999986, 20.3: 0.3000000000000007, 25.4: 0.3999999999999986, 14.2: 4.199999999999999, 101: 1.0}\n"
     ]
    },
    {
     "data": {
      "text/plain": [
       "{1: 1.0,\n",
       " 2: 2.0,\n",
       " 3: 3.0,\n",
       " 4: 4.0,\n",
       " 5: 0.0,\n",
       " 10: 0.0,\n",
       " 12.1: 2.0999999999999996,\n",
       " 14.2: 4.199999999999999,\n",
       " 20.3: 0.3000000000000007,\n",
       " 25.4: 0.3999999999999986,\n",
       " 25.5: 0.5,\n",
       " 50.9: 0.8999999999999986,\n",
       " 101: 1.0}"
      ]
     },
     "execution_count": 1,
     "metadata": {},
     "output_type": "execute_result"
    }
   ],
   "source": [
    "from __future__ import print_function\n",
    "import string\n",
    "#final version as of 4:50pm 6/8\n",
    "\n",
    "test_dict = {'A':[1,2,3,4,5], 'B':[12.1, 14.2, 20.3, 25.4], 'C':[10, 25.5, 50.9, 101]}\n",
    "optional_remainder = [2,3,4,5]\n",
    "\n",
    "# 1. Run the function with the default keyword argument\n",
    "# 2. Run the function assigning the default keyword argument to the optional list\n",
    "\n",
    "\n",
    "def super_dict_changer(target_dict, remainder=[]):\n",
    "    print(target_dict)\n",
    "    print(remainder)\n",
    "    newest_dict = {}\n",
    "    if remainder == []:\n",
    "        remainder.append(2)\n",
    "    for i,j in target_dict.items():\n",
    "        for x in remainder:\n",
    "            for h in j:\n",
    "                newest_dict[h] = (float(h)%float(x))\n",
    "                #not sure why this isn't iterating 4 times, and appending \n",
    "    print(newest_dict)\n",
    "    return(newest_dict)      \n",
    "\n",
    "super_dict_changer(test_dict, optional_remainder)"
   ]
  },
  {
   "cell_type": "code",
   "execution_count": 2,
   "metadata": {
    "collapsed": false
   },
   "outputs": [
    {
     "name": "stdout",
     "output_type": "stream",
     "text": [
      "{'A': [1, 2, 3, 4, 5], 'C': [10, 25.5, 50.9, 101], 'B': [12.1, 14.2, 20.3, 25.4]}\n",
      "[2, 3, 4, 5]\n",
      "{'A': {25.5: [1.5, 1.5, 1.5, 0.5], 1: [1.0, 1.0, 1.0, 1.0], 2: [0.0, 2.0, 2.0, 2.0], 3: [1.0, 0.0, 3.0, 3.0], 4: [0.0, 1.0, 0.0, 4.0], 5: [1.0, 2.0, 1.0, 0.0], 12.1: [0.09999999999999964, 0.09999999999999964, 0.09999999999999964, 2.0999999999999996], 10: [0.0, 1.0, 2.0, 0.0], 50.9: [0.8999999999999986, 2.8999999999999986, 2.8999999999999986, 0.8999999999999986], 20.3: [0.3000000000000007, 2.3000000000000007, 0.3000000000000007, 0.3000000000000007], 25.4: [1.3999999999999986, 1.3999999999999986, 1.3999999999999986, 0.3999999999999986], 14.2: [0.1999999999999993, 2.1999999999999993, 2.1999999999999993, 4.199999999999999], 101: [1.0, 2.0, 1.0, 1.0]}, 'C': {25.5: [1.5, 1.5, 1.5, 0.5], 1: [1.0, 1.0, 1.0, 1.0], 2: [0.0, 2.0, 2.0, 2.0], 3: [1.0, 0.0, 3.0, 3.0], 4: [0.0, 1.0, 0.0, 4.0], 5: [1.0, 2.0, 1.0, 0.0], 12.1: [0.09999999999999964, 0.09999999999999964, 0.09999999999999964, 2.0999999999999996], 10: [0.0, 1.0, 2.0, 0.0], 50.9: [0.8999999999999986, 2.8999999999999986, 2.8999999999999986, 0.8999999999999986], 20.3: [0.3000000000000007, 2.3000000000000007, 0.3000000000000007, 0.3000000000000007], 25.4: [1.3999999999999986, 1.3999999999999986, 1.3999999999999986, 0.3999999999999986], 14.2: [0.1999999999999993, 2.1999999999999993, 2.1999999999999993, 4.199999999999999], 101: [1.0, 2.0, 1.0, 1.0]}, 'B': {25.5: [1.5, 1.5, 1.5, 0.5], 1: [1.0, 1.0, 1.0, 1.0], 2: [0.0, 2.0, 2.0, 2.0], 3: [1.0, 0.0, 3.0, 3.0], 4: [0.0, 1.0, 0.0, 4.0], 5: [1.0, 2.0, 1.0, 0.0], 12.1: [0.09999999999999964, 0.09999999999999964, 0.09999999999999964, 2.0999999999999996], 10: [0.0, 1.0, 2.0, 0.0], 50.9: [0.8999999999999986, 2.8999999999999986, 2.8999999999999986, 0.8999999999999986], 20.3: [0.3000000000000007, 2.3000000000000007, 0.3000000000000007, 0.3000000000000007], 25.4: [1.3999999999999986, 1.3999999999999986, 1.3999999999999986, 0.3999999999999986], 14.2: [0.1999999999999993, 2.1999999999999993, 2.1999999999999993, 4.199999999999999], 101: [1.0, 2.0, 1.0, 1.0]}}\n"
     ]
    },
    {
     "data": {
      "text/plain": [
       "{'A': {1: [1.0, 1.0, 1.0, 1.0],\n",
       "  2: [0.0, 2.0, 2.0, 2.0],\n",
       "  3: [1.0, 0.0, 3.0, 3.0],\n",
       "  4: [0.0, 1.0, 0.0, 4.0],\n",
       "  5: [1.0, 2.0, 1.0, 0.0],\n",
       "  10: [0.0, 1.0, 2.0, 0.0],\n",
       "  12.1: [0.09999999999999964,\n",
       "   0.09999999999999964,\n",
       "   0.09999999999999964,\n",
       "   2.0999999999999996],\n",
       "  14.2: [0.1999999999999993,\n",
       "   2.1999999999999993,\n",
       "   2.1999999999999993,\n",
       "   4.199999999999999],\n",
       "  20.3: [0.3000000000000007,\n",
       "   2.3000000000000007,\n",
       "   0.3000000000000007,\n",
       "   0.3000000000000007],\n",
       "  25.4: [1.3999999999999986,\n",
       "   1.3999999999999986,\n",
       "   1.3999999999999986,\n",
       "   0.3999999999999986],\n",
       "  25.5: [1.5, 1.5, 1.5, 0.5],\n",
       "  50.9: [0.8999999999999986,\n",
       "   2.8999999999999986,\n",
       "   2.8999999999999986,\n",
       "   0.8999999999999986],\n",
       "  101: [1.0, 2.0, 1.0, 1.0]},\n",
       " 'B': {1: [1.0, 1.0, 1.0, 1.0],\n",
       "  2: [0.0, 2.0, 2.0, 2.0],\n",
       "  3: [1.0, 0.0, 3.0, 3.0],\n",
       "  4: [0.0, 1.0, 0.0, 4.0],\n",
       "  5: [1.0, 2.0, 1.0, 0.0],\n",
       "  10: [0.0, 1.0, 2.0, 0.0],\n",
       "  12.1: [0.09999999999999964,\n",
       "   0.09999999999999964,\n",
       "   0.09999999999999964,\n",
       "   2.0999999999999996],\n",
       "  14.2: [0.1999999999999993,\n",
       "   2.1999999999999993,\n",
       "   2.1999999999999993,\n",
       "   4.199999999999999],\n",
       "  20.3: [0.3000000000000007,\n",
       "   2.3000000000000007,\n",
       "   0.3000000000000007,\n",
       "   0.3000000000000007],\n",
       "  25.4: [1.3999999999999986,\n",
       "   1.3999999999999986,\n",
       "   1.3999999999999986,\n",
       "   0.3999999999999986],\n",
       "  25.5: [1.5, 1.5, 1.5, 0.5],\n",
       "  50.9: [0.8999999999999986,\n",
       "   2.8999999999999986,\n",
       "   2.8999999999999986,\n",
       "   0.8999999999999986],\n",
       "  101: [1.0, 2.0, 1.0, 1.0]},\n",
       " 'C': {1: [1.0, 1.0, 1.0, 1.0],\n",
       "  2: [0.0, 2.0, 2.0, 2.0],\n",
       "  3: [1.0, 0.0, 3.0, 3.0],\n",
       "  4: [0.0, 1.0, 0.0, 4.0],\n",
       "  5: [1.0, 2.0, 1.0, 0.0],\n",
       "  10: [0.0, 1.0, 2.0, 0.0],\n",
       "  12.1: [0.09999999999999964,\n",
       "   0.09999999999999964,\n",
       "   0.09999999999999964,\n",
       "   2.0999999999999996],\n",
       "  14.2: [0.1999999999999993,\n",
       "   2.1999999999999993,\n",
       "   2.1999999999999993,\n",
       "   4.199999999999999],\n",
       "  20.3: [0.3000000000000007,\n",
       "   2.3000000000000007,\n",
       "   0.3000000000000007,\n",
       "   0.3000000000000007],\n",
       "  25.4: [1.3999999999999986,\n",
       "   1.3999999999999986,\n",
       "   1.3999999999999986,\n",
       "   0.3999999999999986],\n",
       "  25.5: [1.5, 1.5, 1.5, 0.5],\n",
       "  50.9: [0.8999999999999986,\n",
       "   2.8999999999999986,\n",
       "   2.8999999999999986,\n",
       "   0.8999999999999986],\n",
       "  101: [1.0, 2.0, 1.0, 1.0]}}"
      ]
     },
     "execution_count": 2,
     "metadata": {},
     "output_type": "execute_result"
    }
   ],
   "source": [
    "from __future__ import print_function\n",
    "import string\n",
    "#updated in class 6/9 AM; works.\n",
    "\n",
    "test_dict = {'A':[1,2,3,4,5], 'B':[12.1, 14.2, 20.3, 25.4], 'C':[10, 25.5, 50.9, 101]}\n",
    "optional_remainder = [2,3,4,5]\n",
    "\n",
    "# 1. Run the function with the default keyword argument\n",
    "# 2. Run the function assigning the default keyword argument to the optional list\n",
    "\n",
    "\n",
    "def super_dict_changer(target_dict, remainder=[]):\n",
    "    print(target_dict)\n",
    "    print(remainder)\n",
    "    newest_dict = {}\n",
    "    if remainder == []:\n",
    "        remainder.append(2)\n",
    "    for i,j in target_dict.items():\n",
    "        for h in j:\n",
    "            current_remainder = []\n",
    "            for x in remainder:\n",
    "                current_remainder.append(float(h)%float(x))\n",
    "            newest_dict[h] = current_remainder\n",
    "                #not sure why this isn't iterating 4 times, and appending\n",
    "        target_dict[i] = newest_dict\n",
    "        \n",
    "    print(target_dict)\n",
    "    return(target_dict)      \n",
    "\n",
    "super_dict_changer(test_dict, optional_remainder)"
   ]
  },
  {
   "cell_type": "code",
   "execution_count": null,
   "metadata": {
    "collapsed": true
   },
   "outputs": [],
   "source": []
  }
 ],
 "metadata": {
  "kernelspec": {
   "display_name": "Python 2",
   "language": "python",
   "name": "python2"
  },
  "language_info": {
   "codemirror_mode": {
    "name": "ipython",
    "version": 2
   },
   "file_extension": ".py",
   "mimetype": "text/x-python",
   "name": "python",
   "nbconvert_exporter": "python",
   "pygments_lexer": "ipython2",
   "version": "2.7.11"
  }
 },
 "nbformat": 4,
 "nbformat_minor": 0
}
