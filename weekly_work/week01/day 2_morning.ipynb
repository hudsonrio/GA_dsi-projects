{
 "cells": [
  {
   "cell_type": "code",
   "execution_count": 1,
   "metadata": {
    "collapsed": false
   },
   "outputs": [
    {
     "name": "stdout",
     "output_type": "stream",
     "text": [
      "How many pounds does your suitcase weigh? 45\n"
     ]
    }
   ],
   "source": [
    "weight = float(input(\"How many pounds does your suitcase weigh? \"))"
   ]
  },
  {
   "cell_type": "code",
   "execution_count": 2,
   "metadata": {
    "collapsed": false
   },
   "outputs": [
    {
     "name": "stdout",
     "output_type": "stream",
     "text": [
      "Thank you for your business.\n"
     ]
    }
   ],
   "source": [
    "if weight > 50:\n",
    "        print(\"There is a $25 charge for luggage that heavy.\")\n",
    "print(\"Thank you for your business.\")"
   ]
  },
  {
   "cell_type": "code",
   "execution_count": 3,
   "metadata": {
    "collapsed": false
   },
   "outputs": [
    {
     "name": "stdout",
     "output_type": "stream",
     "text": [
      "What is the temperature? 76\n"
     ]
    }
   ],
   "source": [
    "temperature = float(input('What is the temperature? '))"
   ]
  },
  {
   "cell_type": "code",
   "execution_count": 4,
   "metadata": {
    "collapsed": false
   },
   "outputs": [
    {
     "name": "stdout",
     "output_type": "stream",
     "text": [
      "Wear shorts.\n",
      "Get some exercise outside.\n"
     ]
    }
   ],
   "source": [
    "if temperature > 70:\n",
    "    print('Wear shorts.')\n",
    "else:\n",
    "    print('Wear long pants.')\n",
    "print('Get some exercise outside.')"
   ]
  },
  {
   "cell_type": "code",
   "execution_count": 12,
   "metadata": {
    "collapsed": false
   },
   "outputs": [
    {
     "name": "stdout",
     "output_type": "stream",
     "text": [
      "Please enter an integer: \n",
      "1.0\n"
     ]
    }
   ],
   "source": [
    "x = int(float(raw_input(\"Please enter an integer: \\n\")))"
   ]
  },
  {
   "cell_type": "code",
   "execution_count": 14,
   "metadata": {
    "collapsed": false
   },
   "outputs": [
    {
     "name": "stdout",
     "output_type": "stream",
     "text": [
      "single\n"
     ]
    }
   ],
   "source": [
    "if x <0:\n",
    "    x = 0\n",
    "    print 'changed to 0'\n",
    "elif x == 0:\n",
    "    print 'zero'\n",
    "elif x == 1:\n",
    "    print 'single'\n",
    "else:\n",
    "    print 'more'"
   ]
  },
  {
   "cell_type": "code",
   "execution_count": 22,
   "metadata": {
    "collapsed": false
   },
   "outputs": [],
   "source": [
    "words = ['cat', 'window', '1,000,000', 'defenestrate']\n",
    "while 2==3:\n",
    "    for w in words:\n",
    "        print w, len(w)\n",
    "        continue"
   ]
  },
  {
   "cell_type": "code",
   "execution_count": 23,
   "metadata": {
    "collapsed": true
   },
   "outputs": [],
   "source": [
    "def display_me(valid_string):\n",
    "    print valid_string\n",
    "    return"
   ]
  },
  {
   "cell_type": "code",
   "execution_count": 44,
   "metadata": {
    "collapsed": false
   },
   "outputs": [
    {
     "name": "stdout",
     "output_type": "stream",
     "text": [
      "DSI RULES d\n",
      "DSI RULES c\n",
      "DSI RULES b\n",
      "DSI RULES a\n"
     ]
    }
   ],
   "source": [
    "def data_celebrate():\n",
    "    my_list = ['a', 'b', 'c', 'd']\n",
    "    my_reverse_list = my_list[::-1]\n",
    "    for x in my_reverse_list:\n",
    "        print \"DSI RULES {}\".format(x)\n",
    "        continue\n",
    "    \n",
    "data_celebrate()\n",
    "        "
   ]
  },
  {
   "cell_type": "code",
   "execution_count": 56,
   "metadata": {
    "collapsed": false
   },
   "outputs": [
    {
     "name": "stdout",
     "output_type": "stream",
     "text": [
      "What is the length of one side of the square (in inches)?\n",
      "4\n",
      "the square has an area of 16.0 cubic inches\n"
     ]
    }
   ],
   "source": [
    "# write a function with one argument. Find the area of a square. \n",
    "def areaSquare():\n",
    "'''calculates area of square with user input of a single side'''\n",
    "    side = raw_input(\"What is the length of one side of the square (in inches)?\\n\")\n",
    "    #take the string entry and turn into float, then back into string\n",
    "    print(\"the square has an area of {} cubic inches\".format(str(float(side)*float(side))))\n",
    "                 \n",
    "areaSquare()"
   ]
  },
  {
   "cell_type": "code",
   "execution_count": 58,
   "metadata": {
    "collapsed": false
   },
   "outputs": [
    {
     "name": "stdout",
     "output_type": "stream",
     "text": [
      "the rectangle has an area of 12.0 cubic inches\n"
     ]
    }
   ],
   "source": [
    "# write a function with two arguments. Find the area of a rectangle. \n",
    "def areaRect(length,breadth):\n",
    "    '''calculates area of a rectangle given the length and breadth '''\n",
    "    print(\"the rectangle has an area of {} cubic inches\".format(str(float(length)*float(breadth))))\n",
    "    \n",
    "areaRect(4,3)"
   ]
  },
  {
   "cell_type": "code",
   "execution_count": 60,
   "metadata": {
    "collapsed": false
   },
   "outputs": [
    {
     "name": "stdout",
     "output_type": "stream",
     "text": [
      "the cube has an surface area of 64.0 cubic inches\n"
     ]
    }
   ],
   "source": [
    "# write a function with three arguments. Find the surface area of cuboid.\n",
    "def surfaceAreaCuboid(length,breadth,height): \n",
    "    '''calculates area of a Cube given the 3 dimensions '''\n",
    "    area=2*(length*breadth+breadth*height+length*height)\n",
    "    print(\"the cube has an surface area of {} cubic inches\".format(str(float(area))))\n",
    "    \n",
    "surfaceAreaCuboid(4,2,4)"
   ]
  },
  {
   "cell_type": "code",
   "execution_count": 64,
   "metadata": {
    "collapsed": false
   },
   "outputs": [
    {
     "name": "stdout",
     "output_type": "stream",
     "text": [
      "factorial has been called with n = 5\n",
      "factorial has been called with n = 4\n",
      "factorial has been called with n = 3\n",
      "factorial has been called with n = 2\n",
      "factorial has been called with n = 1\n",
      "('intermediate result for 2 * factorial(1):', 2)\n",
      "('intermediate result for 3 * factorial(2):', 6)\n",
      "('intermediate result for 4 * factorial(3):', 24)\n",
      "('intermediate result for 5 * factorial(4):', 120)\n",
      "120\n"
     ]
    }
   ],
   "source": [
    "def factorial(n):\n",
    "    print(\"factorial has been called with n = \" + str(n))\n",
    "    if n == 1:\n",
    "        return 1\n",
    "    else:\n",
    "        res = n * factorial(n-1)\n",
    "        print(\"intermediate result for \"+ str(n) +\" * factorial(\"+str(n-1)+\"):\",res)\n",
    "        return res\t\n",
    "\n",
    "print(factorial(5))"
   ]
  },
  {
   "cell_type": "code",
   "execution_count": null,
   "metadata": {
    "collapsed": false
   },
   "outputs": [
    {
     "name": "stdout",
     "output_type": "stream",
     "text": [
      "Please guess a whole number that is 5 or less. If you are bored and want to stop, say 'stop'3\n",
      "too low\n",
      "Please guess a whole number that is 5 or less. If you are bored and want to stop, say 'stop'2\n",
      "too low\n",
      "Please guess a whole number that is 5 or less. If you are bored and want to stop, say 'stop'1\n",
      "too low\n",
      "Please guess a whole number that is 5 or less. If you are bored and want to stop, say 'stop'1\n",
      "too low\n",
      "Please guess a whole number that is 5 or less. If you are bored and want to stop, say 'stop'2\n",
      "too low\n",
      "Please guess a whole number that is 5 or less. If you are bored and want to stop, say 'stop'5\n",
      "too high\n",
      "Please guess a whole number that is 5 or less. If you are bored and want to stop, say 'stop'4\n",
      "You're the winner. Let's play again!\n"
     ]
    }
   ],
   "source": [
    "from random import randint\n",
    "\n",
    "def guess_number(answer):\n",
    "    '''\n",
    "    Generate random number\n",
    "    Ask for user input\n",
    "    Compare user input with generated number\n",
    "    Check winning conditions\n",
    "    Output response \"too high\", \"too low\", or \"You're the winner\"\n",
    "    Repeat until user wins\n",
    "    '''\n",
    "\n",
    "    answer = randint(1,5)\n",
    "    \n",
    "    try:\n",
    "        response = int(raw_input(\"Please guess a whole number that is 5 or less. If you are bored and want to stop, say 'stop'\"))\n",
    "        if response > answer:\n",
    "            print (\"too high\")\n",
    "            guess_number(answer)\n",
    "        elif response < answer:\n",
    "            print (\"too low\")\n",
    "            guess_number(answer)\n",
    "        elif response == answer:\n",
    "            print (\"You're the winner. Let's play again!\")\n",
    "            guess_number(answer)\n",
    "        elif response == 'stop':\n",
    "            exit() \n",
    "    except ValueError:\n",
    "        print(\"I did not understand that. Please guess a number from 1 through 5. \\n You may not spell out your number\")\n",
    "        guess_number(answer)\n",
    "        \n",
    "guess_number(answer)\n",
    "\n",
    "    "
   ]
  },
  {
   "cell_type": "code",
   "execution_count": 86,
   "metadata": {
    "collapsed": false
   },
   "outputs": [
    {
     "name": "stdout",
     "output_type": "stream",
     "text": [
      "5\n"
     ]
    }
   ],
   "source": [
    "from random import randint\n",
    "\n",
    "answer1 = randint(1,5)\n",
    "print str(answer)"
   ]
  },
  {
   "cell_type": "code",
   "execution_count": null,
   "metadata": {
    "collapsed": true
   },
   "outputs": [],
   "source": []
  }
 ],
 "metadata": {
  "kernelspec": {
   "display_name": "Python 2",
   "language": "python",
   "name": "python2"
  }
 },
 "nbformat": 4,
 "nbformat_minor": 0
}
