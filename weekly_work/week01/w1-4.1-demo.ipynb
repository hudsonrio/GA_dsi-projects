{
 "cells": [
  {
   "cell_type": "markdown",
   "metadata": {
    "collapsed": false
   },
   "source": [
    "### Measures of Central Tendency"
   ]
  },
  {
   "cell_type": "markdown",
   "metadata": {
    "collapsed": true
   },
   "source": [
    "##### Mean\n",
    "\n",
    "Find the mean of the following list using base python (no numpy or scipy!)"
   ]
  },
  {
   "cell_type": "code",
   "execution_count": 9,
   "metadata": {
    "collapsed": false
   },
   "outputs": [],
   "source": [
    "n = [1,2,3,4,5]"
   ]
  },
  {
   "cell_type": "code",
   "execution_count": 15,
   "metadata": {
    "collapsed": false
   },
   "outputs": [
    {
     "data": {
      "text/plain": [
       "3.0"
      ]
     },
     "execution_count": 15,
     "metadata": {},
     "output_type": "execute_result"
    }
   ],
   "source": [
    "# Your mean code here\n",
    "n = [1,2,3,4,5]\n",
    "\n",
    "def meaner(nice_list):\n",
    "    \n",
    "    count = 0\n",
    "    denom = len(nice_list)\n",
    "\n",
    "    for i in n:\n",
    "        count = count + i\n",
    "        mean = float(count/denom)\n",
    "    \n",
    "    return(mean)\n",
    "\n",
    "meaner(n)"
   ]
  },
  {
   "cell_type": "markdown",
   "metadata": {},
   "source": [
    "##### Median\n",
    "\n",
    "Find the median of either or both of the following lists using base python."
   ]
  },
  {
   "cell_type": "code",
   "execution_count": 18,
   "metadata": {
    "collapsed": false
   },
   "outputs": [],
   "source": []
  },
  {
   "cell_type": "code",
   "execution_count": 28,
   "metadata": {
    "collapsed": false
   },
   "outputs": [
    {
     "ename": "SyntaxError",
     "evalue": "invalid syntax (<ipython-input-28-adc4a82845f9>, line 11)",
     "output_type": "error",
     "traceback": [
      "\u001b[0;36m  File \u001b[0;32m\"<ipython-input-28-adc4a82845f9>\"\u001b[0;36m, line \u001b[0;32m11\u001b[0m\n\u001b[0;31m    if len(working_list) == 2:\u001b[0m\n\u001b[0m                             ^\u001b[0m\n\u001b[0;31mSyntaxError\u001b[0m\u001b[0;31m:\u001b[0m invalid syntax\n"
     ]
    }
   ],
   "source": [
    "# Your median code here\n",
    "\n",
    "n_odd = [1,5,9,2,8,3,10,15,7]\n",
    "n_even = [8,2,3,1,0,-1,-5,20]\n",
    "\n",
    "def median_er(lista, listb=[]):\n",
    "    working_list = (lista + listb).sort()\n",
    "    for i in working_list:\n",
    "        while len(working_list) > 2:\n",
    "            del ((max(working_list)) and (min(working_list)) \n",
    "                 \n",
    "    if len(working_list) == 2:\n",
    "        median = sum(working_list[0:1])/2\n",
    "    elif len(working_list) == 1:\n",
    "        median = working_list\n",
    "            \n",
    "median_er(n_odd, n_even)"
   ]
  },
  {
   "cell_type": "markdown",
   "metadata": {
    "collapsed": false
   },
   "source": [
    "##### Mode\n",
    "\n",
    "Find the mode of the following list using scipy.stats.mode()"
   ]
  },
  {
   "cell_type": "code",
   "execution_count": 29,
   "metadata": {
    "collapsed": true
   },
   "outputs": [],
   "source": [
    "from scipy.stats import mode\n",
    "\n",
    "n = [0,1,1,2,2,2,2,3,3,4,4,4,5]"
   ]
  },
  {
   "cell_type": "code",
   "execution_count": 30,
   "metadata": {
    "collapsed": false
   },
   "outputs": [
    {
     "data": {
      "text/plain": [
       "ModeResult(mode=array([2]), count=array([4]))"
      ]
     },
     "execution_count": 30,
     "metadata": {},
     "output_type": "execute_result"
    }
   ],
   "source": [
    "# Your mode code here\n",
    "mode(n)\n",
    "# What do the two values returned in the object mean?\n"
   ]
  },
  {
   "cell_type": "markdown",
   "metadata": {
    "collapsed": false
   },
   "source": [
    "##### numpy convenience functions\n",
    "\n",
    "Use numpy's np.median() and np.mean() functions to easily calculate the median and the mean."
   ]
  },
  {
   "cell_type": "code",
   "execution_count": 32,
   "metadata": {
    "collapsed": false
   },
   "outputs": [],
   "source": [
    "import numpy as np\n",
    "\n",
    "n = [3, 75, 98, 2, 10, 3, 14, 99, 44, 25, 31, 100, 356, 4, 23, 55, 327, 64, 6, 20]"
   ]
  },
  {
   "cell_type": "code",
   "execution_count": 39,
   "metadata": {
    "collapsed": false
   },
   "outputs": [
    {
     "name": "stdout",
     "output_type": "stream",
     "text": [
      "67.95\n",
      "28.0\n"
     ]
    }
   ],
   "source": [
    "# Your median and mean code here\n",
    "print(np.mean(n))\n",
    "print(np.median(n))"
   ]
  },
  {
   "cell_type": "markdown",
   "metadata": {},
   "source": [
    "### Skewness\n",
    "\n",
    "Is the distribution specified by the list of numbers below skewed? If not, why? If so, describe the skew and explain why."
   ]
  },
  {
   "cell_type": "code",
   "execution_count": 41,
   "metadata": {
    "collapsed": true
   },
   "outputs": [],
   "source": [
    "n = [11, 12, 13, 14, 15, 16, 17, 18, 19, 20, 21, 22, 23, 24, 25, 18, 19, 20, 21, 22, 23, 24,\n",
    "     22, 11, 12, 13, 14, 15, 16, 17, 18, 19, 20, 21, 22, 23, 24, 25, 18, 19, 20, 21, 22, 23,\n",
    "     24, 20, 21, 22, 23, 24, 22, 16, 17, 18, 19, 20, 21, 22, 23, 24, 0, 1, 2, 3, 4, 5, 6, 7,\n",
    "     8, 9, 10, 11, 12, 13, 14, 15, 16, 17, 18, 19, 20, 21, 22, 23, 24, 25, 26, 27, 0, 1, 2,\n",
    "     3, 4, 5, 6, 7, 8, 9, 10, 11, 12, 13, 14, 15, 16, 17, 18, 19, 20, 21, 22, 23, 24, 25, 26, 27]"
   ]
  },
  {
   "cell_type": "code",
   "execution_count": 46,
   "metadata": {
    "collapsed": false
   },
   "outputs": [
    {
     "name": "stdout",
     "output_type": "stream",
     "text": [
      "DescribeResult(nobs=116, minmax=(0, 27), mean=16.586206896551722, variance=47.966416791604196, skewness=-0.7578148956010772, kurtosis=-0.35405628897834074)\n",
      "18.0\n"
     ]
    }
   ],
   "source": [
    "# Skew answer here\n",
    "import scipy.stats as sci\n",
    "\n",
    "def skewer(data):\n",
    "    data = n\n",
    "    #define more_or_less and pos_or_neg\n",
    "    print(sci.describe(n))\n",
    "    print(\"Because the median of the data is {}, which is {} the mean of {}, the skew is {}\".format(np.median(n), more_or_less, np.mean(n) pos_or_neg, )"
   ]
  },
  {
   "cell_type": "markdown",
   "metadata": {},
   "source": [
    "### Measures of Variability"
   ]
  },
  {
   "cell_type": "markdown",
   "metadata": {},
   "source": [
    "##### Range\n",
    "\n",
    "Calculate the range of the list of numbers below."
   ]
  },
  {
   "cell_type": "code",
   "execution_count": 19,
   "metadata": {
    "collapsed": true
   },
   "outputs": [],
   "source": [
    "n = [3, 75, 98, 2, 10, 3, 14, 99, 44, 25, 31, 100, 356, 4, 23, 55, 327, 64, 6, 20]\n"
   ]
  },
  {
   "cell_type": "code",
   "execution_count": 20,
   "metadata": {
    "collapsed": true
   },
   "outputs": [],
   "source": [
    "# Range code here\n"
   ]
  },
  {
   "cell_type": "markdown",
   "metadata": {},
   "source": [
    "##### Variance\n",
    "\n",
    "Calculate the variance of the list as well."
   ]
  },
  {
   "cell_type": "code",
   "execution_count": 50,
   "metadata": {
    "collapsed": true
   },
   "outputs": [],
   "source": [
    "# Variance code here\n",
    "\n",
    "def var_able(n):\n",
    "    variance = []\n",
    "    n_mean = np.mean(n)\n",
    "\n",
    "    for n_ in n:\n",
    "      variance.append((n_ - n_mean) ** 2)\n",
    "\n",
    "    variance = np.sum(variance)\n",
    "    variance = variance / len(n)\n",
    "    \n",
    "    return variance"
   ]
  },
  {
   "cell_type": "markdown",
   "metadata": {},
   "source": [
    "##### Standard deviation\n",
    "\n",
    "Calculate the standard deviation of the list."
   ]
  },
  {
   "cell_type": "code",
   "execution_count": 22,
   "metadata": {
    "collapsed": true
   },
   "outputs": [],
   "source": [
    "# Standard deviation code here\n",
    "std = np.std(data)\n"
   ]
  },
  {
   "cell_type": "code",
   "execution_count": 52,
   "metadata": {
    "collapsed": false
   },
   "outputs": [
    {
     "name": "stdout",
     "output_type": "stream",
     "text": [
      "1444.64\n",
      "1024.44\n"
     ]
    }
   ],
   "source": [
    "t = [3, 75, 98, 2, 10, 3, -14, -16, -22, -3]\n",
    "r = []\n",
    "for i in t:\n",
    "    r.append(abs(i))\n",
    "\n",
    "print(var_able(t))\n",
    "print(var_able(r))\n",
    "\n",
    "\n",
    "\n",
    "\n"
   ]
  },
  {
   "cell_type": "code",
   "execution_count": null,
   "metadata": {
    "collapsed": true
   },
   "outputs": [],
   "source": []
  }
 ],
 "metadata": {
  "kernelspec": {
   "display_name": "Python 2",
   "language": "python",
   "name": "python2"
  },
  "language_info": {
   "codemirror_mode": {
    "name": "ipython",
    "version": 2
   },
   "file_extension": ".py",
   "mimetype": "text/x-python",
   "name": "python",
   "nbconvert_exporter": "python",
   "pygments_lexer": "ipython2",
   "version": "2.7.11"
  }
 },
 "nbformat": 4,
 "nbformat_minor": 0
}
