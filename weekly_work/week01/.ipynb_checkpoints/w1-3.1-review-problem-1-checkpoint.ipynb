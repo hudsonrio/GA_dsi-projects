{
 "cells": [
  {
   "cell_type": "markdown",
   "metadata": {},
   "source": [
    "\n",
    "Name:Hudson\n",
    "People you worked with (if any):Tucker\n"
   ]
  },
  {
   "cell_type": "markdown",
   "metadata": {},
   "source": [
    "### Review Problem 1\n",
    "\n",
    "For this problem you will be writing a function that accepts a dictionary and operates on it.\n",
    "\n",
    "Define a function:\n",
    "\n",
    "- Accept 1 argument, which is a dictionary.\n",
    "- Print the dictionary.\n",
    "- Iterate through the key:value pairs of the dictionary.\n",
    "    - For pairs where the key starts with a lowercase vowel, change the value to \"vowel\".\n",
    "    - For pairs where the key starts with a lowercase consonant, change the value to \"consonant\".\n",
    "    - Remove all other pairs from the dictionary.\n",
    "- Print the modified dictionary.\n",
    "- Return the modified dictionary.\n",
    "\n",
    "Notes/Hints:\n",
    " \n",
    "- ```string.ascii_lowercase``` is a string of all the lowercase letters in the alphabet. to use it you need to **import string** at the beginning of your script.\n",
    "- You can check if a character is in a string with **in**. \n",
    "    - ex: \n",
    "        ```python\n",
    "        if ch in st:\n",
    "        ```\n",
    "- You can create a new dictionary to store the modified return values or operate on the input dictionary.\n",
    "- You will likely need to check types in this using the ```type()``` python function:\n",
    "    ```python\n",
    "    type(1) == int\n",
    "    type(1.2) == float\n",
    "    type('ab') == str\n",
    "    type((1,2)) == tuple\n",
    "    type([3,2]) == list\n",
    "    type({'a':'b'}) == dict\n",
    "    ```"
   ]
  },
  {
   "cell_type": "code",
   "execution_count": 22,
   "metadata": {
    "collapsed": false
   },
   "outputs": [],
   "source": [
    "input_dict = {'list':[1,2,3,4], 'tuple':('cat', 'dog'), 'integer':1, \n",
    "              'float':99.99, 1:'integer', 2:'integer_2', 'Uppercase_string':'ABCD',\n",
    "              'CHARACTER':'C'}"
   ]
  },
  {
   "cell_type": "code",
   "execution_count": 31,
   "metadata": {
    "collapsed": false
   },
   "outputs": [
    {
     "name": "stdout",
     "output_type": "stream",
     "text": [
      "{'tuple': 'consonant', 'integer': 'consonant', 'float': 'consonant', 'list': 'consonant'}\n",
      "{'tuple': 'consonant', 'integer': 'vowel', 'float': 'consonant', 'list': 'consonant'}\n"
     ]
    },
    {
     "data": {
      "text/plain": [
       "{'float': 'consonant',\n",
       " 'integer': 'vowel',\n",
       " 'list': 'consonant',\n",
       " 'tuple': 'consonant'}"
      ]
     },
     "execution_count": 31,
     "metadata": {},
     "output_type": "execute_result"
    }
   ],
   "source": [
    "from __future__ import print_function\n",
    "import string\n",
    "\n",
    "\n",
    "def dict_changer(target_dict):\n",
    "    '''this sets a new_dict equal to the target_dict and deletes the data we no longer want. I do this the inverse way \n",
    "    (only copy over relevant info) below'''\n",
    "    print(target_dict)\n",
    "    new_dict = target_dict\n",
    "    for i,j in new_dict.items():\n",
    "            if type(i) != str:\n",
    "                del new_dict[i]\n",
    "            elif i[0] not in string.ascii_lowercase:\n",
    "                del new_dict[i]\n",
    "            elif i[0] in ('aeiou'):   \n",
    "                new_dict[i] = \"vowel\"\n",
    "            else:\n",
    "                new_dict[i] = \"consonant\"\n",
    "    print(new_dict)\n",
    "    return(new_dict)      \n",
    "\n",
    "dict_changer(input_dict)"
   ]
  },
  {
   "cell_type": "code",
   "execution_count": 8,
   "metadata": {
    "collapsed": false
   },
   "outputs": [
    {
     "name": "stdout",
     "output_type": "stream",
     "text": [
      "{'Uppercase_string': 'ABCD', 1: 'integer', 2: 'integer_2', 'tuple': ('cat', 'dog'), 'integer': 1, 'CHARACTER': 'C', 'float': 99.99, 'list': [1, 2, 3, 4]}\n"
     ]
    }
   ],
   "source": [
    "print (input_dict)"
   ]
  },
  {
   "cell_type": "code",
   "execution_count": 32,
   "metadata": {
    "collapsed": false
   },
   "outputs": [
    {
     "name": "stdout",
     "output_type": "stream",
     "text": [
      "{'tuple': 'consonant', 'integer': 'vowel', 'float': 'consonant', 'list': 'consonant'}\n",
      "{'integer': 'vowel', 'float': 'consonant', 'list': 'consonant', 'tuple': 'consonant'}\n"
     ]
    },
    {
     "data": {
      "text/plain": [
       "{'float': 'consonant',\n",
       " 'integer': 'vowel',\n",
       " 'list': 'consonant',\n",
       " 'tuple': 'consonant'}"
      ]
     },
     "execution_count": 32,
     "metadata": {},
     "output_type": "execute_result"
    }
   ],
   "source": [
    "from __future__ import print_function\n",
    "import string\n",
    "#this creates a blank dict\n",
    "\n",
    "def new_dict_changer(target_dict):\n",
    "    '''this function creates a blank dict and then ports over the relevant data based on conditions. It accomplishes same as dict_changer\n",
    "    but in another way'''\n",
    "    print(target_dict)\n",
    "    newer_dict = {}\n",
    "    for i,j in target_dict.items():\n",
    "            if type(i) == str:\n",
    "                if i[0] in string.ascii_lowercase:\n",
    "                    if i[0] in ('aeiou'):   \n",
    "                        newer_dict[i] = \"vowel\"\n",
    "                    else:\n",
    "                        newer_dict[i] = \"consonant\"\n",
    "                else:\n",
    "                    continue\n",
    "            else:\n",
    "                continue\n",
    "    print(newer_dict)\n",
    "    return(newer_dict)      \n",
    "\n",
    "new_dict_changer(input_dict)"
   ]
  },
  {
   "cell_type": "code",
   "execution_count": null,
   "metadata": {
    "collapsed": true
   },
   "outputs": [],
   "source": []
  }
 ],
 "metadata": {
  "kernelspec": {
   "display_name": "Python 2",
   "language": "python",
   "name": "python2"
  },
  "language_info": {
   "codemirror_mode": {
    "name": "ipython",
    "version": 2
   },
   "file_extension": ".py",
   "mimetype": "text/x-python",
   "name": "python",
   "nbconvert_exporter": "python",
   "pygments_lexer": "ipython2",
   "version": "2.7.11"
  }
 },
 "nbformat": 4,
 "nbformat_minor": 0
}
