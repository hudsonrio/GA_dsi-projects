{
 "cells": [
  {
   "cell_type": "markdown",
   "metadata": {},
   "source": [
    "### List comprehension independent practice\n",
    "\n",
    "Each problem should be completed with a single list (or dictionary) comprehension!"
   ]
  },
  {
   "cell_type": "code",
   "execution_count": 8,
   "metadata": {
    "collapsed": true
   },
   "outputs": [],
   "source": [
    "import pandas as pd\n",
    "import numpy as np\n",
    "import string"
   ]
  },
  {
   "cell_type": "markdown",
   "metadata": {},
   "source": [
    "#### Easy problems"
   ]
  },
  {
   "cell_type": "markdown",
   "metadata": {},
   "source": [
    "##### 1. convert each string from lowercase to uppercase\n",
    "\n",
    "[Hint: python strings can be turned to uppercase by appending: .upper(), e.g 'hello'.upper()]"
   ]
  },
  {
   "cell_type": "code",
   "execution_count": 39,
   "metadata": {
    "collapsed": false
   },
   "outputs": [
    {
     "name": "stdout",
     "output_type": "stream",
     "text": [
      "[<built-in method upper of str object at 0x1063a90f0>, <built-in method upper of str object at 0x105416330>, <built-in method upper of str object at 0x1064392b0>, <built-in method upper of str object at 0x105c2d540>, <built-in method upper of str object at 0x105c2d600>]\n"
     ]
    }
   ],
   "source": [
    "strings = ['black','Yellow','ReD','GreeN','BLUe']\n",
    "big_string = [n.upper for n in strings]\n",
    "print big_string"
   ]
  },
  {
   "cell_type": "code",
   "execution_count": 34,
   "metadata": {
    "collapsed": false
   },
   "outputs": [
    {
     "ename": "SyntaxError",
     "evalue": "invalid syntax (<ipython-input-34-ac3719c22d79>, line 3)",
     "output_type": "error",
     "traceback": [
      "\u001b[0;36m  File \u001b[0;32m\"<ipython-input-34-ac3719c22d79>\"\u001b[0;36m, line \u001b[0;32m3\u001b[0m\n\u001b[0;31m    first_names.append([ex[1].upper() for exin names.split(' ')[0])\u001b[0m\n\u001b[0m                                                   ^\u001b[0m\n\u001b[0;31mSyntaxError\u001b[0m\u001b[0;31m:\u001b[0m invalid syntax\n"
     ]
    }
   ],
   "source": [
    "names = ['Dan Yawitz', 'Alex Combs', 'Winston Lastname']\n",
    "first_names = []\n",
    "first_names.append([ex[1].upper() for exin names.split(' ')[0])\n",
    "                   \n",
    "#frost = [foo.split(' ')[0] for foo in names]                  \n",
    "                   \n",
    "#print(frost)\n",
    "print(first_names)"
   ]
  },
  {
   "cell_type": "code",
   "execution_count": 29,
   "metadata": {
    "collapsed": false
   },
   "outputs": [
    {
     "data": {
      "text/plain": [
       "[(2, 2), (3, 3), (4, 4)]"
      ]
     },
     "execution_count": 29,
     "metadata": {},
     "output_type": "execute_result"
    }
   ],
   "source": [
    "matrix = [[1,1],[2,2], [3,3]]\n",
    "\n",
    "new_matrix = [(h +1, c+1) for h,c in matrix]\n",
    "\n",
    "new_matrix"
   ]
  },
  {
   "cell_type": "markdown",
   "metadata": {},
   "source": [
    "##### 2. take the numbers in the list and keep only the even numbers\n",
    "\n",
    "[Hint: the modulo operator **%** can be used to calculate the remainder, e.g. 5 % 2 == 1]"
   ]
  },
  {
   "cell_type": "code",
   "execution_count": 56,
   "metadata": {
    "collapsed": false
   },
   "outputs": [
    {
     "ename": "SyntaxError",
     "evalue": "invalid syntax (<ipython-input-56-672cb52ee1d6>, line 2)",
     "output_type": "error",
     "traceback": [
      "\u001b[0;36m  File \u001b[0;32m\"<ipython-input-56-672cb52ee1d6>\"\u001b[0;36m, line \u001b[0;32m2\u001b[0m\n\u001b[0;31m    newnums = [t if t%2 == 0 for t in numbers if t%2==0]\u001b[0m\n\u001b[0m                               ^\u001b[0m\n\u001b[0;31mSyntaxError\u001b[0m\u001b[0;31m:\u001b[0m invalid syntax\n"
     ]
    }
   ],
   "source": [
    "numbers = [1,2,3,4,5,6,7,8,9,10]\n",
    "newnums = [t if t%2 == 0 for t in numbers]#this won't work because the 'else' portion of the if needs to be in the front\n",
    "#see the example at the bottom \n",
    "\n",
    "print(newnums)\n",
    "\n",
    "'''\n",
    "numbers = [1,2,3,4,5,6,7,8,9,10]\n",
    "newnums = [t if t%2 == 0 else 'none' for t in numbers if t%2==0]\n",
    "\n",
    "print(newnums)\n",
    "'''\n",
    "#*****************\n",
    "\n",
    "numbers = [1,2,3,4,5,6,7,8,9,10]\n",
    "newnums = [t for t in numbers if t%2==0]\n",
    "\n",
    "print(newnums)"
   ]
  },
  {
   "cell_type": "code",
   "execution_count": 49,
   "metadata": {
    "collapsed": false
   },
   "outputs": [
    {
     "name": "stdout",
     "output_type": "stream",
     "text": [
      "([0, 0, 0, 1, 0, 0, 1, 0, 1, 0, 1, 1, 0, 0, 0], [1, 2, 7, 21, 3, 1, 62, 3, 34, 12, 73, 44, 12, 11, 9])\n"
     ]
    }
   ],
   "source": [
    "import numpy as np\n",
    "n = [1, 2, 7, 21, 3, 1, 62, 3, 34, 12, 73, 44, 12, 11, 9]\n",
    "n_mean = np.mean(n)\n",
    "n_bin = [1 if x >= n_mean else 0 for x in n]\n",
    "\n",
    "print(n_bin,n)"
   ]
  },
  {
   "cell_type": "markdown",
   "metadata": {},
   "source": [
    "##### 3. convert to 'v' if a character is a vowel and 'c' if a consonant, otherwise convert to '?'"
   ]
  },
  {
   "cell_type": "code",
   "execution_count": null,
   "metadata": {
    "collapsed": false
   },
   "outputs": [],
   "source": [
    "characters = ['a','f',None,'k','l','1',12,'e','e',-1,'i','b','p']\n",
    "alphabet = list(string.ascii_lowercase)\n",
    "vowels = ['a','e','i','o','u']\n"
   ]
  },
  {
   "cell_type": "markdown",
   "metadata": {},
   "source": [
    "#### Medium problems"
   ]
  },
  {
   "cell_type": "markdown",
   "metadata": {},
   "source": [
    "##### 4. calculate the means of the numbers in each list that lie between 0 and 100 (inclusive)"
   ]
  },
  {
   "cell_type": "code",
   "execution_count": null,
   "metadata": {
    "collapsed": false
   },
   "outputs": [],
   "source": [
    "number_sets = [[1,50,-40,20,90], [1004,1002,101,-90,40,34], [-1,-2,34,55,77,109]]\n"
   ]
  },
  {
   "cell_type": "markdown",
   "metadata": {},
   "source": [
    "##### 5. for each string in each list, if the index of the strings is even, join them like: 'item1 item2'. Otherwise join them like: 'item2 item1'."
   ]
  },
  {
   "cell_type": "code",
   "execution_count": null,
   "metadata": {
    "collapsed": false
   },
   "outputs": [],
   "source": [
    "strings1 = ['alpha','bravo','charlie','delta']\n",
    "strings2 = ['echo','foxtrot','golf','hotel']\n"
   ]
  },
  {
   "cell_type": "markdown",
   "metadata": {},
   "source": [
    "##### 6. create a pandas dataframe from the columns and associated values where each column is the first five multiples of the values:"
   ]
  },
  {
   "cell_type": "code",
   "execution_count": null,
   "metadata": {
    "collapsed": false
   },
   "outputs": [],
   "source": [
    "columns = ['five','seven','twelve']\n",
    "values = [5, 7, 12]\n",
    "multiples = [1, 2, 3, 4, 5]\n"
   ]
  },
  {
   "cell_type": "markdown",
   "metadata": {},
   "source": [
    "#### Hard problems"
   ]
  },
  {
   "cell_type": "markdown",
   "metadata": {},
   "source": [
    "##### 7. manually calculate the median of the first n numbers (from list \"N\") in list \"X\""
   ]
  },
  {
   "cell_type": "code",
   "execution_count": null,
   "metadata": {
    "collapsed": false
   },
   "outputs": [],
   "source": [
    "N = [12, 5, 6, 8, 10]\n",
    "X = [1, 2, 3, 4, 5, 6, 7, 8, 9, 10, 11, 12, 13, 14, 15]\n"
   ]
  },
  {
   "cell_type": "markdown",
   "metadata": {},
   "source": [
    "##### 8. combine into a flat list: \n",
    "\n",
    "1. iterate the elements of one list \n",
    "2. iteratively multiply by them by the elements in the second list\n",
    "3. then iteratively subtract the elements in a third list\n",
    "\n",
    "e.g:\n",
    "\n",
    "    a = [1,2]\n",
    "    b = [0,1]\n",
    "    c = [1,2]\n",
    "    output = [0,0,0,-1,0,0,1,0]"
   ]
  },
  {
   "cell_type": "code",
   "execution_count": null,
   "metadata": {
    "collapsed": false
   },
   "outputs": [],
   "source": [
    "a = [9,7,5]\n",
    "b = [10,5,1]\n",
    "c = [1,2,3]\n"
   ]
  }
 ],
 "metadata": {
  "kernelspec": {
   "display_name": "Python 2",
   "language": "python",
   "name": "python2"
  },
  "language_info": {
   "codemirror_mode": {
    "name": "ipython",
    "version": 2
   },
   "file_extension": ".py",
   "mimetype": "text/x-python",
   "name": "python",
   "nbconvert_exporter": "python",
   "pygments_lexer": "ipython2",
   "version": "2.7.11"
  }
 },
 "nbformat": 4,
 "nbformat_minor": 0
}
