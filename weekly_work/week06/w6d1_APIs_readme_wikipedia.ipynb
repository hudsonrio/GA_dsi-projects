{
 "cells": [
  {
   "cell_type": "markdown",
   "metadata": {
    "slideshow": {
     "slide_type": "skip"
    }
   },
   "source": [
    "---\n",
    "title: Servers, JSON, & APIs\n",
    "duration: \"1:25\"\n",
    "creator:\n",
    "    name: Francesco Mosconi\n",
    "    city: SF\n",
    "---"
   ]
  },
  {
   "cell_type": "markdown",
   "metadata": {
    "slideshow": {
     "slide_type": "slide"
    }
   },
   "source": [
    "# ![](https://ga-dash.s3.amazonaws.com/production/assets/logo-9f88ae6c9c3871690e33280fcf557f33.png) Servers, JSON, & APIs\n",
    "Week 6| Lesson 1.3"
   ]
  },
  {
   "cell_type": "markdown",
   "metadata": {
    "slideshow": {
     "slide_type": "slide"
    }
   },
   "source": [
    "### LEARNING OBJECTIVES\n",
    "*After this lesson, you will be able to:*\n",
    "- Identify HTTP verbs & their uses.\n",
    "- Describe APIs and how to make calls and consume API data.\n",
    "- Access public APIs and get information back.\n",
    "- Read and write data in JSON format"
   ]
  },
  {
   "cell_type": "markdown",
   "metadata": {
    "slideshow": {
     "slide_type": "skip"
    }
   },
   "source": [
    "### STUDENT PRE-WORK\n",
    "*Before this lesson, you should already be able to:*\n",
    "- use a web browser\n",
    "- know what a web server is"
   ]
  },
  {
   "cell_type": "markdown",
   "metadata": {
    "slideshow": {
     "slide_type": "slide"
    }
   },
   "source": [
    "### LESSON GUIDE\n",
    "\n",
    "| TIMING  | TYPE  | TOPIC  |\n",
    "|:-:|---|---|\n",
    "| 5 min | [Opening](#opening) | Opening |\n",
    "| 15 min | [Introduction](#introduction) | Introduction |\n",
    "| 15 min | [Demo](#demo) | Demo: HTTP |\n",
    "| 10 min | [Introduction](#introduction_2) | JSON |\n",
    "| 10 min | [Ind-practice](#ind-practice_1) | Independent Practice: Validate JSON |\n",
    "| 15 min | [Guided-practice/](#guided-practice/) | Guided Practice: Pulling data from API |\n",
    "| 10 min | [Ind-practice](#ind-practice_2/) | Independent Practice: Python APIs |\n",
    "| 5 min | [Conclusion](#conclusion) | Conclusion |"
   ]
  },
  {
   "cell_type": "markdown",
   "metadata": {
    "slideshow": {
     "slide_type": "slide"
    }
   },
   "source": [
    "<a name=\"opening\"></a>\n",
    "## Opening (5 min)\n",
    "An API (application program interface) is a set of routines, protocols, and tools for building software applications. It specifies how software components should interact.\n",
    "\n",
    "In the context of data science, APIs are a very important method for interacting with data hosted by third parties -- it's our way into someone else's database."
   ]
  },
  {
   "cell_type": "markdown",
   "metadata": {
    "slideshow": {
     "slide_type": "slide"
    }
   },
   "source": [
    "## An API request!\n",
    "\n",
    "https://maps.googleapis.com/maps/api/geocode/json?address=10+E+21ST+New+York+NY\n",
    "\n",
    "> Check: what do you think is happening here? What's the input pattern? What's the output?"
   ]
  },
  {
   "cell_type": "code",
   "execution_count": 1,
   "metadata": {
    "collapsed": false,
    "slideshow": {
     "slide_type": "fragment"
    }
   },
   "outputs": [],
   "source": [
    "import requests\n",
    "url = 'https://maps.googleapis.com/maps/api/geocode/json?address='\n",
    "address = '10+E+21st+New+York+NY'\n",
    "response = requests.post(url+address)\n",
    "# response.text"
   ]
  },
  {
   "cell_type": "markdown",
   "metadata": {
    "slideshow": {
     "slide_type": "slide"
    }
   },
   "source": [
    "<a name=\"introduction\"></a>\n",
    "## Introduction (15 min)\n",
    "\n",
    "API calls are, in practice, a term for making _HTTP requests_ to a server and sending/receiving structured data from that endpoint. We are still communicating with URLs, however instead of receiving markup, like we do with HTML pages, we receive data.\n",
    "\n",
    "[Representational state transfer (REST)](https://en.wikipedia.org/wiki/Representational_state_transfer) is the most common architecture style for passing information to and from these API endpoints.\n",
    "\n",
    "Before we start consuming these services however, it's important to understand the fundamentals of the underlying communication layer: HTTP.\n",
    "\n",
    "\n"
   ]
  },
  {
   "cell_type": "markdown",
   "metadata": {
    "slideshow": {
     "slide_type": "slide"
    }
   },
   "source": [
    "### HTTP: Recap\n",
    "\n",
    "HTTP is a protocol - a system of rules - that determines how web pages (see:'hypertext') get sent (see:'transferred') from one place to another. Among other things, it defines the format of the messages passed between HTTP clients and HTTP servers.\n",
    "\n",
    "![Web Architecture](./assets/images/webserver_to_rails_setup.jpeg \"Web Architecture\")\n",
    "\n",
    "Since the web is a service, it works through a combination of clients which _make_ requests and servers (which _receive_ requests).\n",
    "\n"
   ]
  },
  {
   "cell_type": "markdown",
   "metadata": {
    "slideshow": {
     "slide_type": "slide"
    }
   },
   "source": [
    "#### HTTP Client\n",
    "\n",
    "HTTP Clients make or generate HTTP Requests. Some types of clients are:\n",
    "\n",
    "* Browsers - Chrome, Firefox and Safari.\n",
    "* Command Line programs - [curl](http://curl.haxx.se/docs/) and [wget](http://www.gnu.org/software/wget/manual/wget.html).\n",
    "\n",
    "HTTP Clients respond to HTTP Responses from a Web Server. They process the data being returned frrm a web server, aka HTTP Server.\n",
    "\n"
   ]
  },
  {
   "cell_type": "markdown",
   "metadata": {
    "slideshow": {
     "slide_type": "slide"
    }
   },
   "source": [
    "#### HTTP/Web Server\n",
    "\n",
    "All _Web Servers_ receive _HTTP Requests_ and generate _HTTP Responses_. Often Web Servers are just the middleman, passing HTTP Request and Responses between the client and web application. Two of the most popular _HTTP or Web servers_ are [Apache](http://httpd.apache.org/) and [Nginx](http://nginx.com/), But there are lots different [web servers](http://en.wikipedia.org/wiki/Comparison_of_web_server_software) out there.\n",
    "\n",
    "\n"
   ]
  },
  {
   "cell_type": "markdown",
   "metadata": {
    "slideshow": {
     "slide_type": "slide"
    }
   },
   "source": [
    "### Web Applications\n",
    "\n",
    "Web Applications are programs that run on a web server, process the HTTP requests that the server receives, and generate HTTP Responses.\n",
    "\n",
    "![HTTP Request and Response](./assets/images/http_req_resp.gif)"
   ]
  },
  {
   "cell_type": "markdown",
   "metadata": {
    "slideshow": {
     "slide_type": "slide"
    }
   },
   "source": [
    "1. A client sends a HTTP Request to a HTTP Server running on a remote machine.  \n",
    "  * The _hostname_, given in the URL, indicates which server will receive the request.  \n",
    "2. The HTTP server processes the HTTP Request. This may entail passing the request to some Web Application, which creates a HTTP Response.\n",
    "3. The response gets sent back to the client.\n",
    "4. The client processes the response.\n",
    "\n"
   ]
  },
  {
   "cell_type": "markdown",
   "metadata": {
    "slideshow": {
     "slide_type": "slide"
    }
   },
   "source": [
    "How does the server know what the request is asking for? This is specified by the URL, a special kind of path that specifies where a resource can be found on the web.\n",
    "\n",
    "![URL](./assets/images/http1-url-structure.png)\n"
   ]
  },
  {
   "cell_type": "markdown",
   "metadata": {
    "slideshow": {
     "slide_type": "slide"
    }
   },
   "source": [
    "<a name=\"demo\"></a>\n",
    "## Demo: HTTP (15 min)\n",
    "\n",
    "Lets explore HTTP resources. We'll start by looking at HTTP requests and responses using the Chrome Inspector.\n",
    "\n",
    "![HTTP Request and Response](./assets/images/http_request_response.jpeg \"HTTP Request and Response\")\n",
    "\n",
    "* In Chrome, open up Chrome Inspector (*command + option + 'i', or ctrl + click and select 'inspect element'*).\n"
   ]
  },
  {
   "cell_type": "markdown",
   "metadata": {
    "slideshow": {
     "slide_type": "slide"
    }
   },
   "source": [
    "* Select the Network tab. It should look something like this:\n",
    "\n",
    "![Chrome Inspector](./assets/images/chrome_inspector.png)\n",
    "\n"
   ]
  },
  {
   "cell_type": "markdown",
   "metadata": {
    "slideshow": {
     "slide_type": "slide"
    }
   },
   "source": [
    "* Next, go to the URL https://generalassemb.ly/\n",
    "\n",
    "  You should be able to see a few HTTP Requests and Responses in the Network tab; for each request you'll see a **Path**, **Method**, **Status**, **Type**, and **Size** ('Content-Length'), along with info about how long it took to get each of these resources.\n",
    "  *Most of this information comes from the HTTP Request and Response.*\n",
    "\n",
    "  * Some HTTP requests are for CSS, JavaScript and images that are referenced by the HTML.\n",
    "  * Select `generalassemb.ly` in the Path column on the far left.\n",
    "  * Select the Headers tab. **Headers** are meta-data properties of an HTTP request or response, separate from the body of the message.\n",
    "\n"
   ]
  },
  {
   "cell_type": "markdown",
   "metadata": {
    "slideshow": {
     "slide_type": "slide"
    }
   },
   "source": [
    "### HTTP Request\n",
    "\n",
    "_GET_ is an **HTTP Request Method**.\n",
    "\n",
    "![HTTP Request](./assets/images/http_request.jpeg \"HTTP Request\")\n",
    "\n",
    "**HTTP Request Methods:**   \n",
    "\n",
    "* **GET** => Retrieve a resource.  \n",
    "* **POST** => Create a resource.  \n",
    "* **PATCH** (_or **PUT**, but **PATCH** is recommended_) => Update an existing resource.  \n",
    "* **DELETE** => Delete a resource.  \n",
    "* **HEAD** => Retrieve the headers for a resource.\n",
    "\n",
    "Of these, **GET** and **POST** are the most widely used.\n",
    "\n"
   ]
  },
  {
   "cell_type": "markdown",
   "metadata": {
    "slideshow": {
     "slide_type": "slide"
    }
   },
   "source": [
    "**HTTP Request Structure:**\n",
    "\n",
    "```\n",
    "[http request method] [URL] [http version]  \n",
    "[list of headers]\n",
    "(blank line)\n",
    "[request body]\n",
    "```\n"
   ]
  },
  {
   "cell_type": "markdown",
   "metadata": {
    "slideshow": {
     "slide_type": "slide"
    }
   },
   "source": [
    "**HTTP Request Method Example (No Body)**\n",
    "\n",
    "    GET http://vermonster.com HTTP/1.1  \n",
    "    Accept:text/html,application/xhtml+xml,application/xml;q=0.9,image/webp,*/*;q=0.8  \n",
    "    Accept-Encoding:gzip,deflate,sdch\n",
    "    Accept-Language:en-US,en;q=0.8  \n",
    "    Connection:keep-alive  \n",
    "    Host:vermonster.com  \n",
    "    User-Agent:Mozilla/5.0 (Macintosh; Intel Mac OS X 10_8_5)  \n",
    "    AppleWebKit/537.36 (KHTML, like Gecko) Chrome/32.0.1659.2 Safari/537.36\n",
    "    \n",
    "Understanding this structure can help troubleshoot web scraping, among other work. For instance you may want to manually spoof user-agent identities. (As long as you're not violating Terms of Service.)\n"
   ]
  },
  {
   "cell_type": "markdown",
   "metadata": {
    "slideshow": {
     "slide_type": "slide"
    }
   },
   "source": [
    "### HTTP Response\n",
    "\n",
    "![HTTP Response](./assets/images/http_response.jpeg \"HTTP Response\")\n",
    "\n",
    "When a client sends a request, the server sends back a response; the standard format for this response is:\n",
    "\n",
    "```\n",
    "[http version] [status] [reason]  \n",
    "[list of headers]\n",
    "\n",
    "[response body] # typically HTML, JSON, ...  \n",
    "```\n",
    "[Here's the list of possible status codes.](http://en.wikipedia.org/wiki/List_of_HTTP_status_codes) \n",
    "\n",
    "**Check:** what is a request?\n"
   ]
  },
  {
   "cell_type": "markdown",
   "metadata": {
    "slideshow": {
     "slide_type": "slide"
    }
   },
   "source": [
    "<a name=\"introduction_2\"></a>\n",
    "## JSON (10 min)  \n",
    "\n",
    "JSON is short for _JavaScript Object Notation_. It is a standardized data schema that is common, compact, relatively easy to parse and (sort of) human-readable.\n",
    "\n",
    "JSON is built on two structures:\n",
    "\n",
    "* Objects, which are collections of key:value pairs. The syntax is {string: value, ...}.\n",
    "* Arrays, which are ordered collections of values. Their syntax is [value, value, ...].\n",
    "\n",
    "\"These are universal data structures. Virtually all modern programming languages support them in one form or another. It makes sense that a data format that is interchangeable with programming languages also be based on these structures.\" (http://json.org/)\n"
   ]
  },
  {
   "cell_type": "markdown",
   "metadata": {
    "slideshow": {
     "slide_type": "slide"
    }
   },
   "source": [
    "<a name=\"ind-practice_1\"></a>\n",
    "## Independent Practice: Validate JSON (10 min)\n",
    "JSON is very simple to use if correctly structured. One of the resources to validate JSON and check if the syntax is correct is [JSON Viewer](http://codebeautify.org/jsonviewer).\n",
    "\n",
    "For this exercise, copy the example JSON data from the [starter-code](./code/starter-code/test.json) folder and insert it in the web app above, click \"Validate\". \n",
    "\n",
    "If you see \"Valid JSON\", click \"Beautify\" and you will see a more readable way of JSON. If you do not see the message \"Valid JSON\", it means that there is a syntax error.\n",
    "\n"
   ]
  },
  {
   "cell_type": "markdown",
   "metadata": {
    "slideshow": {
     "slide_type": "slide"
    }
   },
   "source": [
    "* First, correct errors if there are any.\n",
    "* Then, work **in pairs** to identify the structure of the JSON:\n",
    "\n",
    "    - does whitespace matter?\n",
    "    - what is a root element?\n",
    "    - are there any arrays?\n",
    "    - how many objects are there?\n",
    "    - what are the attributes of an object?\n"
   ]
  },
  {
   "cell_type": "markdown",
   "metadata": {
    "slideshow": {
     "slide_type": "slide"
    }
   },
   "source": [
    "<a name=\"guided-practice/\"></a>\n",
    "## Guided Practice: Pulling data from API (15 min)\n",
    "\n",
    "APIs are methods and data formats to tell people how to \"talk\" to a system. A couple of examples will clarify:\n",
    "\n",
    "### Example 1: Movies\n",
    "The internet movie database is a large collection of data about movies. It can be browsed at the address: http://www.imdb.com/.\n",
    "\n",
    "What if we wanted to programatically access the data in the database? Unless we are employees of IMDB.com, we probably don't have direct access to their internal database, so we cannot perform SQL queries on their data.\n",
    "\n",
    "We could use scraping to retrieve data from the web page, and in some cases we will have to do exactly that.\n",
    "Note: check the \"Terms of Service\" before you scrape a website, you could be infringing their terms.\n",
    "\n",
    "In other cases, the website offers a way to programatically access data from their database. That's an API.\n",
    "\n",
    "In the case of movies, this is offered by http://www.omdbapi.com/\n",
    "\n",
    "\n",
    "1. Let's try for example to retrieve the data about the \"Avengers\" movie in 2015:\n",
    "\n",
    "In a browser paste:\n",
    "    http://www.omdbapi.com/?t=avengers&y=2015&plot=short&r=json\n",
    "    \n",
    "you should see something like:\n",
    "\n",
    "    {\n",
    "    Title: \"Avengers: Age of Ultron\",\n",
    "    Year: \"2015\",\n",
    "    Rated: \"PG-13\",\n",
    "    Released: \"01 May 2015\",\n",
    "    Runtime: \"141 min\",\n",
    "    Genre: \"Action, Adventure, Sci-Fi\",\n",
    "    Director: \"Joss Whedon\",\n",
    "    Writer: \"Joss Whedon, Stan Lee (Marvel comics), Jack Kirby (Marvel comics)\",\n",
    "    Actors: \"Robert Downey Jr., Chris Hemsworth, Mark Ruffalo, Chris Evans\",\n",
    "    Plot: \"When Tony Stark and Bruce Banner try to jump-start a dormant peacekeeping program called Ultron, things go horribly wrong and it's up to Earth's Mightiest Heroes to stop the villainous Ultron from enacting his terrible plans.\",\n",
    "    Language: \"English\",\n",
    "    Country: \"USA\",\n",
    "    Awards: \"2 wins & 37 nominations.\",\n",
    "    Poster: \"http://ia.media-imdb.com/images/M/MV5BMTM4OGJmNWMtOTM4Ni00NTE3LTg3MDItZmQxYjc4N2JhNmUxXkEyXkFqcGdeQXVyNTgzMDMzMTg@._V1_SX300.jpg\",\n",
    "    Metascore: \"66\",\n",
    "    imdbRating: \"7.5\",\n",
    "    imdbVotes: \"420,714\",\n",
    "    imdbID: \"tt2395427\",\n",
    "    Type: \"movie\",\n",
    "    Response: \"True\"\n",
    "    }\n",
    "\n",
    "Notice what happened: we interrogated a url and we received json as an answer.\n",
    "\n",
    "2. Try submitting a couple more queries to familiarize with the API.\n",
    "- You can also query an API from the command line using the app `curl`. Try typing:\n",
    "\n",
    "    curl http://www.omdbapi.com/?t=whiplash&plot=short&r=json\n",
    "    \n",
    "you should see something like:\n",
    "    \n",
    "    {\"Title\":\"Whiplash\",\"Year\":\"2014\",\"Rated\":\"R\",\"Released\":\"15 Oct 2014\",\"Runtime\":\"107 min\",\"Genre\":\"Drama, Music\",\"Director\":\"Damien Chazelle\",\"Writer\":\"Damien Chazelle\",\"Actors\":\"Miles Teller, J.K. Simmons, Paul Reiser, Melissa Benoist\",\"Plot\":\"A promising young drummer enrolls at a cut-throat music conservatory where his dreams of greatness are mentored by an instructor who will stop at nothing to realize a student's potential.\",\"Language\":\"English\",\"Country\":\"USA\",\"Awards\":\"Won 3 Oscars. Another 84 wins & 125 nominations.\",\"Poster\":\"http://ia.media-imdb.com/images/M/MV5BMTU4OTQ3MDUyMV5BMl5BanBnXkFtZTgwOTA2MjU0MjE@._V1_SX300.jpg\",\"Metascore\":\"88\",\"imdbRating\":\"8.5\",\"imdbVotes\":\"368,942\",\"imdbID\":\"tt2582802\",\"Type\":\"movie\",\"Response\":\"True\"}\n",
    "    \n",
    "\n",
    "### Example 2: Google Geocode API\n",
    "\n",
    "Google offers a freely accessible API to query their GEO databases.\n",
    "\n",
    "Try pasting the following line in your browser:\n",
    "\n",
    "    https://maps.googleapis.com/maps/api/geocode/json?address=033+BELDEN+PL+San+Francisco+CA\n",
    "    \n",
    "you should see something like:\n",
    "\n",
    "    {\n",
    "    results: [\n",
    "    {\n",
    "    address_components: [\n",
    "    {\n",
    "    long_name: \"33\",\n",
    "    short_name: \"33\",\n",
    "    types: [\n",
    "    \"street_number\"\n",
    "    ]\n",
    "    },\n",
    "    {\n",
    "    long_name: \"Belden Place\",\n",
    "    short_name: \"Belden Pl\",\n",
    "    types: [\n",
    "    \"route\"\n",
    "    ]\n",
    "    },\n",
    "    {\n",
    "    long_name: \"Financial District\",\n",
    "    short_name: \"Financial District\",\n",
    "    types: [\n",
    "    \"neighborhood\",\n",
    "    \"political\"\n",
    "    ]\n",
    "    },\n",
    "    {\n",
    "    long_name: \"San Francisco\",\n",
    "    short_name: \"SF\",\n",
    "    types: [\n",
    "    \"locality\",\n",
    "    \"political\"\n",
    "    ]\n",
    "    },\n",
    "    {\n",
    "    long_name: \"San Francisco County\",\n",
    "    short_name: \"San Francisco County\",\n",
    "    types: [\n",
    "    \"administrative_area_level_2\",\n",
    "    \"political\"\n",
    "    ]\n",
    "    },\n",
    "    {\n",
    "    long_name: \"California\",\n",
    "    short_name: \"CA\",\n",
    "    types: [\n",
    "    \"administrative_area_level_1\",\n",
    "    \"political\"\n",
    "    ]\n",
    "    },\n",
    "    {\n",
    "    long_name: \"United States\",\n",
    "    short_name: \"US\",\n",
    "    types: [\n",
    "    \"country\",\n",
    "    \"political\"\n",
    "    ]\n",
    "    },\n",
    "    {\n",
    "    long_name: \"94104\",\n",
    "    short_name: \"94104\",\n",
    "    types: [\n",
    "    \"postal_code\"\n",
    "    ]\n",
    "    }\n",
    "    ],\n",
    "    formatted_address: \"33 Belden Pl, San Francisco, CA 94104, USA\",\n",
    "    geometry: {\n",
    "    bounds: {\n",
    "    northeast: {\n",
    "    lat: 37.7913528,\n",
    "    lng: -122.4038195\n",
    "    },\n",
    "    southwest: {\n",
    "    lat: 37.7913502,\n",
    "    lng: -122.4038379\n",
    "    }\n",
    "    },\n",
    "    location: {\n",
    "    lat: 37.7913502,\n",
    "    lng: -122.4038379\n",
    "    },\n",
    "    location_type: \"RANGE_INTERPOLATED\",\n",
    "    viewport: {\n",
    "    northeast: {\n",
    "    lat: 37.7927004802915,\n",
    "    lng: -122.4024797197085\n",
    "    },\n",
    "    southwest: {\n",
    "    lat: 37.7900025197085,\n",
    "    lng: -122.4051776802915\n",
    "    }\n",
    "    }\n",
    "    },\n",
    "    place_id: \"EiozMyBCZWxkZW4gUGwsIFNhbiBGcmFuY2lzY28sIENBIDk0MTA0LCBVU0E\",\n",
    "    types: [\n",
    "    \"street_address\"\n",
    "    ]\n",
    "    }\n",
    "    ],\n",
    "    status: \"OK\"\n",
    "    }\n",
    "\n",
    "We queried an address and got back a lot of JSON data stored in Google's databases for that address.\n",
    "\n",
    "\n",
    "### OAUTH\n",
    "\n",
    "Many APIs are not free to access. You first need to register as a developer and obtain an authorization key. In most cases, this is also accompanied by a temporary token that needs to be renewed after some time. This is a way to prevent abuse on the server's resources.\n",
    "\n",
    "You can read more about it here: http://oauth.net/2/\n"
   ]
  },
  {
   "cell_type": "markdown",
   "metadata": {
    "slideshow": {
     "slide_type": "slide"
    }
   },
   "source": [
    "<a name=\"ind-practice_2/\"></a>\n",
    "## Independent Practice: Python APIs (10 min)\n",
    "\n",
    "### Python APIs\n",
    "\n",
    "1. form pairs and do the following\n",
    "- go to http://www.pythonforbeginners.com/api/list-of-python-apis\n",
    "- choose 1 API: what data you can get?\n",
    "- install python module, try to extract data\n",
    "- discuss: how could you leverage that api? how could you use the data?"
   ]
  },
  {
   "cell_type": "code",
   "execution_count": 2,
   "metadata": {
    "collapsed": false
   },
   "outputs": [
    {
     "name": "stdout",
     "output_type": "stream",
     "text": [
      "Wikipedia, (/ˌwɪkᵻˈpiːdiə/ or /ˌwɪkiˈpiːdiə/ WIK-i-PEE-dee-ə) owned by the nonprofit organization Wikimedia Foundation, is a free Internet encyclopedia that allows its users to edit almost any article accessible. Wikipedia is the largest and most popular general reference work on the Internet and is ranked among the ten most popular websites.\n",
      "Wikipedia was launched on January 15, 2001 by Jimmy Wales and Larry Sanger. Sanger coined its name, a portmanteau of wiki and encyclopedia. It was only in the English language initially, but it quickly developed similar versions in other languages which differ in content and in editing practices. With 5,195,156 articles, English Wikipedia is the largest out of more than 290 versions of encyclopedias on Wikipedia. Overall, Wikipedia consists of more than 38 million articles in more than 250 different languages and as of February 2014, it had 18 billion page views and nearly 500 million unique visitors each month.\n",
      "In 2005, Nature published a peer review comparing 42 science articles from Encyclopædia Britannica and Wikipedia, and found that Wikipedia's level of accuracy approached Encyclopedia Britannica's. Criticism of Wikipedia includes claims that it exhibits systemic bias, presents a mixture of \"truths, half truths, and some falsehoods\", and that in controversial topics, it is subject to manipulation and spin.\n"
     ]
    }
   ],
   "source": [
    "import wikipedia\n",
    "print wikipedia.summary(\"Wikipedia\")\n",
    "\n",
    "\n",
    "#https://en.wikipedia.org/w/api.php?action=query&titles=Julian_calendar%7CGregorian_calendar%7CLunar_calendar&prop=revisions&rvprop=content&format=json"
   ]
  },
  {
   "cell_type": "code",
   "execution_count": 4,
   "metadata": {
    "collapsed": false
   },
   "outputs": [
    {
     "name": "stdout",
     "output_type": "stream",
     "text": [
      "('Summary:', 0, u'Latvian Evangelical Lutheran Church in America', u\"The Latvian Evangelical Lutheran Church in America (Latvian: Latvie\\u0161u evangeliski luteriska Baznica Amerika; LELBA) is a Lutheran denomination, formed in 1957 as a federation, and reorganized in 1975 as a formal denomination. In 1978 Lauma Lagzdins Zusevics was ordained as the first woman to serve as a full-time minister for the LELBA. In 2014 she became the first female Lutheran bishop in Latvian history, as the Church of Latvia proper does not currently recognize women's ordination.\\nAs of 2007, 12,000 congregants and 68 congregations of the church were present in the United States. It is headquartered in Milwaukee, Wisconsin.\\n\\n\")\n",
      "('Summary:', 1, u'Pavant', u'Pavant is a commune in the Aisne department in Picardy in northern France.')\n",
      "('Summary:', 2, u'Radovan Brenkus', u'Radovan Brenkus (born 30 January 1974, Bardejov) is a Slovak writer, translator and critic.')\n",
      "('Summary:', 3, u'1000 km Buenos Aires', u'The 1000 km Buenos Aires was an endurance sports car event held in Buenos Aires, Argentina. The race mostly run on the Aut\\xf3dromo Oscar Alfredo G\\xe1lvez, although it would run the Costanera circuit in 1957. Besides a single race in Caracas, Venezuela, it was the only annual South American race in the history of the World Sportscar Championship.')\n",
      "('Summary:', 4, u'Evangelistria Monastery, Skiathos', u\"The Monastery of the Annunciation (Greek: \\u0399\\u03b5\\u03c1\\u03ac \\u039c\\u03bf\\u03bd\\u03ae \\u0395\\u03c5\\u03b1\\u03b3\\u03b3\\u03b5\\u03bb\\u03b9\\u03c3\\u03bc\\u03bf\\u03cd \\u03c4\\u03b7\\u03c2 \\u0398\\u03b5\\u03bf\\u03c4\\u03cc\\u03ba\\u03bf\\u03c5), commonly known as the Evangelistria Monastery (Greek: \\u0399\\u03b5\\u03c1\\u03ac \\u039c\\u03bf\\u03bd\\u03ae \\u0395\\u03c5\\u03b1\\u03b3\\u03b3\\u03b5\\u03bb\\u03af\\u03c3\\u03c4\\u03c1\\u03b9\\u03b1\\u03c2), is a monastery dedicated to the Annunciation of the Virgin Mary which sits on a hillside some 4 km north of Skiathos town on the Greek island of Skiathos. Although some buildings are ruined, the church and accommodation buildings have been restored.\\nThe monastery was founded in 1794 by a group of Kollyvades monks, who had left the monastery of Mount Athos after disagreements about matters of Christian ritual. They were led by an ordained monk, Niphon of Chios, and included Gregorios Hatzistamatis, a local monk who had inherited land on Skiathos from his father.\\nIn 1807, a group of Greek freedom fighters met at the monastery and swore the Oath of Freedom on a newly designed Greek flag, a white cross on a sky-blue background, which was woven on a loom at the site. The fighters included Theodoros Kolokotronis, Andreas Vokos Miaoulis, Thymios Vlachavas, Nikotsaras and others.\\nThe Catholicon of the monastery is a Byzantine-style cross-in-square three-aisled church, with three domes, and stands at the centre of the complex. The iconostasis is wood carved and bears icons dating from the 17th and 18th centuries.\\n\\nThe museum houses ecclesiastical artefacts and presents information on the history of the Monastery such as priests' vestments, rare books and manuscripts from the 17th century, gospels from the 18th century, silver and wooden crosses and Byzantine icons. The loom on which the first Greek flag was created can be seen. There is also a photographic record of the subsequent Greek War of Independence, which lasted from 1821 until 1829.\\nVineyards have been created for the production of Alypiakos, a red Muscat which was first produced on the island in the 5th century BC. The wine is named after Father Alypos, the fourth abbot of the monastery. Output has increased year on year, some of which is used within the Monastery on religious occasions.\\nToday, the monastery is served by only four resident monks; three others associated with the monastery reside elsewhere. On 15 August each year the ceremony of the Annunciation of the Virgin Mary takes place.\\nAccess is by foot from Skiathos town up a steep metalled road or by public minibus from Skiathos town bus terminus. Entrance to the monastery itself is usually free.\")\n",
      "('Summary:', 5, u'Kilkenny City by-election, 1875', u'The Kilkenny City by-election of 1875 was fought on 28 April 1875. This arose due to the death of the incumbent Home Rule MP, John Gray.\\nIt was contested by three candidates: Gray\\'s son Edmund Dwyer Gray, Edward Marum, and Benjamin Whitworth, former MP for Drogheda. Gray told the electors that his programme did not differ substantially from that of Whitworth: he was in favour of \"Home Rule, denominational education, fixity of tenure at fair rents, and reform of the Grand Jury Laws.\"\\nWhitworth was elected, with 307 votes; Gray received 125 and Marum 112. The Times saw this as a blow to the Home Rule League - who had condemned Whitworth\\'s programme as vague and inadequate - and anticipated that he would act independently of the Home Ruler movement, although \"he will probably be often found acting in harmony with the Home Rule Members\\'.\\nThe reason for the success of Whitworth, who was seen as having the support of the Protestant voters although he was also proposed by the Roman Catholic vicar-general of the diocese, was considered to be the \"promises of material aid which he made to Kilkenny\". His nomination was seconded by the prominent brewer John Francis Smithwick who would later succeed him as MP for the city.\\nMarum went on to be elected MP for County Kilkenny and Gray for County Tipperary.')\n",
      "('Summary:', 6, u'Lypothora', u'Lypothora is a genus of moths belonging to the family Tortricidae.')\n",
      "('Summary:', 7, u'Niels Fredborg', u\"Niels Christian Fredborg (born 28 October 1946) is a retired Danish track cyclist. He competed at the 1964, 1968, 1972 and 1976 Summer Olympics in the sprint and 1 km time trial events, winning a silver, a gold and a bronze medal in the time trial in 1968, 1972 and 1976, respectively. In 1972 he was Denmark's only Olympic medalist.\\nAt the Track Cycling World Championships, Fredborg won the 1 km time trial in 1967, 1968 and 1970.\")\n",
      "('Summary:', 8, u'Transition metal carbene complex', u'A transition metal carbene complex is an organometallic compound featuring a divalent organic ligand. The divalent organic ligand coordinated to the metal center is called a carbene. Carbene complexes for almost all transition metals have been reported. Many methods for synthesizing them and reactions utilizing them have been reported. The term carbene ligand is a formalism since many are not derived from carbenes and almost none exhibit the reactivity characteristic of carbenes. Described often as M=CR2, they represent a class of organic ligands intermediate between alkyls (\\u2212CR3) and carbynes (\\u2261CR). They feature in some catalytic reactions, especially alkene metathesis, and are of value in the preparation of some fine chemicals.')\n",
      "('Summary:', 9, u'Anne Zagr\\xe9', u'Anne Zagr\\xe9 (born 13 March 1990) is a Belgian sprint athlete. In 2009, she became European youth champion in the 100m hurdles. Just like \\xc9lodie Ou\\xe9draogo, Zagr\\xe9 has her roots in Burkina Faso.')\n",
      "('Summary:', 10, u'Nanette Makes Everything', u\"Nanette Makes Everything (German:Nanette macht alles) is a 1926 German silent film directed by Carl Boese and starring Mady Christians, Georg Alexander and Vivian Gibson.\\nThe film's sets were designed by the art director Oscar Werndorff.\")\n",
      "('Summary:', 11, u'Ottawa municipal election, 1966', u'The city of Ottawa, Canada held municipal elections on December 5, 1966.\\nMayor Don Reid is easily re-elected.')\n",
      "('Summary:', 12, u'Parastilbe', u'Parastilbe is a genus of parasitic sea snails, marine gastropod mollusks in the family Eulimidae.')\n",
      "('Summary:', 13, u'Ellerman (crater)', u'Ellerman is a lunar crater on the far side of the Moon. It lies within the outer blanket of ejecta that surrounds the Mare Orientale impact basin, and is located to the west of the Montes Cordillera mountain range. To the northwest of Ellerman is the larger crater Gerasimovich.\\nProbably due to its location amidst rugged surroundings, the otherwise circular rim of this crater is somewhat irregular and polygonal in shape. The loose material along the inner walls has slid down to form a ring of talus around the base, leaving walls that slope straight down with no terraces. There is a small crater along the northern rim top.')\n",
      "('Summary:', 14, u'Daniele Ragatzu', u'Daniele Ragatzu (born 21 September 1991 in Cagliari) is an Italian footballer who plays as a striker for Serie B club Virtus Lanciano on loan from Verona.')\n"
     ]
    }
   ],
   "source": [
    "def wiki_lister(num_entries):\n",
    "    wik_list = wikipedia.random(pages=num_entries)\n",
    "    for i, v in enumerate(wik_list):\n",
    "        try:\n",
    "            print(\"Summary:\",i, v, wikipedia.summary(v))\n",
    "        except wikipedia.exceptions.DisambiguationError:\n",
    "            print(\"Disambig options:\", DisambiguationError.options)\n",
    "\n",
    "wiki_lister(15)\n"
   ]
  },
  {
   "cell_type": "code",
   "execution_count": 5,
   "metadata": {
    "collapsed": false
   },
   "outputs": [
    {
     "data": {
      "text/plain": [
       "u'The Defenestrations of Prague (Czech: Pra\\u017esk\\xe1 defenestrace, German: Prager Fenstersturz, Latin: Defenestratio Pragensis) were two incidents in the history of Bohemia in which multiple people were defenestrated (i.e., thrown out a window). The first occurred in 1419, and the second in 1618, although the term \"Defenestration of Prague\" more commonly refers to the second. Each helped to trigger prolonged conflict, within Bohemia and beyond.'"
      ]
     },
     "execution_count": 5,
     "metadata": {},
     "output_type": "execute_result"
    }
   ],
   "source": [
    "wikipedia.summary(\"Defenestrations_of_Prague\")"
   ]
  },
  {
   "cell_type": "code",
   "execution_count": 5,
   "metadata": {
    "collapsed": true
   },
   "outputs": [],
   "source": [
    "try:\n",
    "    mercury = wikipedia.summary(\"Defenestration_of_Prague\")\n",
    "except wikipedia.exceptions.DisambiguationError as e:\n",
    "    print e.options"
   ]
  },
  {
   "cell_type": "markdown",
   "metadata": {
    "slideshow": {
     "slide_type": "slide"
    }
   },
   "source": [
    "<a name=\"conclusion\"></a>\n",
    "## Conclusion (5 min)\n",
    "Today we learned about HTTP, APIs and JSON formats. They are very important for systematically accessing data from the web.\n",
    "\n",
    "**Check:** can you think of a few websites you would like to pull data from? Do they have an API available?"
   ]
  },
  {
   "cell_type": "markdown",
   "metadata": {},
   "source": [
    "### ADDITIONAL RESOURCES\n",
    "\n",
    "- [Blog post on json with pandas](https://www.dataquest.io/blog/using-json-data-in-pandas/)\n",
    "- [API article Wikipedia](https://en.wikipedia.org/wiki/Application_programming_interface)\n",
    "- [Programmable web](http://www.programmableweb.com/)"
   ]
  }
 ],
 "metadata": {
  "celltoolbar": "Slideshow",
  "kernelspec": {
   "display_name": "Python 2",
   "language": "python",
   "name": "python2"
  },
  "language_info": {
   "codemirror_mode": {
    "name": "ipython",
    "version": 2
   },
   "file_extension": ".py",
   "mimetype": "text/x-python",
   "name": "python",
   "nbconvert_exporter": "python",
   "pygments_lexer": "ipython2",
   "version": "2.7.12"
  }
 },
 "nbformat": 4,
 "nbformat_minor": 0
}
