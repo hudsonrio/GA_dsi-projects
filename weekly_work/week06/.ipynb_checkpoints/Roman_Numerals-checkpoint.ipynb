{
 "cells": [
  {
   "cell_type": "code",
   "execution_count": 31,
   "metadata": {
    "collapsed": false
   },
   "outputs": [
    {
     "data": {
      "text/plain": [
       "'XLVI'"
      ]
     },
     "execution_count": 31,
     "metadata": {},
     "output_type": "execute_result"
    }
   ],
   "source": [
    "def to_roman(number):\n",
    "    roman = []\n",
    "    number = int(number)\n",
    "    while number > 0:\n",
    "        if number > 1000:\n",
    "            roman.append(\"M\")\n",
    "            number = number - 1000\n",
    "        elif number > 900:\n",
    "            roman.append(\"CM\")\n",
    "            number = number - 500\n",
    "        elif number > 500:\n",
    "            roman.append(\"D\")\n",
    "            number = number - 500\n",
    "        elif number > 100:\n",
    "            roman.append(\"C\")\n",
    "            number = number - 100\n",
    "        elif number > 90:\n",
    "            roman.append(\"XC\")\n",
    "            number = number - 100\n",
    "        elif number > 50:\n",
    "            roman.append(\"L\")\n",
    "            number = number - 50\n",
    "        elif number > 40:\n",
    "            roman.append(\"XL\")\n",
    "            number = number - 40\n",
    "        elif number > 10:\n",
    "            roman.append(\"X\")\n",
    "            number = number - 10 \n",
    "        elif number > 9:\n",
    "            roman.append(\"IX\")\n",
    "            number = number - 9\n",
    "        elif number > 5:\n",
    "            roman.append(\"V\")\n",
    "            number = number - 5\n",
    "        elif number <=3:\n",
    "            roman.append(\"I\")\n",
    "            number = number -1\n",
    "            number = 0\n",
    "        else:\n",
    "            roman.append(\"IV\")\n",
    "            number = number - 4\n",
    "    str_roman = ''.join(map(str, roman))\n",
    "    return(str_roman)\n",
    "\n",
    "to_roman(46)\n",
    "        "
   ]
  },
  {
   "cell_type": "code",
   "execution_count": 9,
   "metadata": {
    "collapsed": false
   },
   "outputs": [
    {
     "data": {
      "text/plain": [
       "'4'"
      ]
     },
     "execution_count": 9,
     "metadata": {},
     "output_type": "execute_result"
    }
   ],
   "source": [
    "def from_roman(roman):\n",
    "    number = []\n",
    "    letter = roman[-1]\n",
    "    while len(roman) > 0:\n",
    "        \n",
    "        if number > 1000:\n",
    "            roman.append(\"M\")\n",
    "            number = number - 1000\n",
    "        elif number > 900:\n",
    "            roman.append(\"CM\")\n",
    "            number = number - 500\n",
    "        elif number > 500:\n",
    "            roman.append(\"D\")\n",
    "            number = number - 500\n",
    "        elif number > 100:\n",
    "            roman.append(\"C\")\n",
    "            number = number - 100\n",
    "        elif number > 90:\n",
    "            roman.append(\"XC\")\n",
    "            number = number - 100\n",
    "        elif number > 50:\n",
    "            roman.append(\"L\")\n",
    "            number = number - 50\n",
    "        elif number > 40:\n",
    "            roman.append(\"XL\")\n",
    "            number = number - 40\n",
    "        elif number > 10:\n",
    "            roman.append(\"X\")\n",
    "            number = number - 10 \n",
    "        elif number > 9:\n",
    "            roman.append(\"IX\")\n",
    "            number = number - 9\n",
    "        elif number > 5:\n",
    "            roman.append(\"V\")\n",
    "            number = number - 5\n",
    "        elif number <=3:\n",
    "            roman.append(\"I\")\n",
    "            number = number -1\n",
    "            number = 0\n",
    "        else:\n",
    "            roman.append(\"IV\")\n",
    "            number = number - 4\n",
    "    str_roman = ''.join(map(str, roman))\n",
    "    return(str_roman)\n",
    "\n",
    "to_roman(46)\n",
    "        "
   ]
  },
  {
   "cell_type": "code",
   "execution_count": 34,
   "metadata": {
    "collapsed": false
   },
   "outputs": [
    {
     "data": {
      "text/plain": [
       "5"
      ]
     },
     "execution_count": 34,
     "metadata": {},
     "output_type": "execute_result"
    }
   ],
   "source": []
  },
  {
   "cell_type": "code",
   "execution_count": null,
   "metadata": {
    "collapsed": true
   },
   "outputs": [],
   "source": []
  }
 ],
 "metadata": {
  "kernelspec": {
   "display_name": "Python 2",
   "language": "python",
   "name": "python2"
  },
  "language_info": {
   "codemirror_mode": {
    "name": "ipython",
    "version": 2
   },
   "file_extension": ".py",
   "mimetype": "text/x-python",
   "name": "python",
   "nbconvert_exporter": "python",
   "pygments_lexer": "ipython2",
   "version": "2.7.12"
  }
 },
 "nbformat": 4,
 "nbformat_minor": 0
}
