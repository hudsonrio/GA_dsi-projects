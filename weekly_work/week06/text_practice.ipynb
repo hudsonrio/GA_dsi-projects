{
 "cells": [
  {
   "cell_type": "code",
   "execution_count": 1,
   "metadata": {
    "collapsed": false
   },
   "outputs": [],
   "source": [
    "rosewater = \"Hello babies. Welcome to Earth. \\\n",
    "It's hot in the summer and cold in the winter. \\\n",
    "It's round and wet and crowded. On the outside, \\\n",
    "babies, you've got a hundred years here. \\\n",
    "There's only one rule that I know of, babies- \\\n",
    "'God damn it, you've got to be kind.'\""
   ]
  },
  {
   "cell_type": "markdown",
   "metadata": {},
   "source": [
    "Let's break this text up to make it more readable for machine learning. Split the text so it's a list of sentences. \n",
    "\n",
    "Then, remove punctuation from your sentences and make all your strings lowercase. "
   ]
  },
  {
   "cell_type": "code",
   "execution_count": 2,
   "metadata": {
    "collapsed": false
   },
   "outputs": [
    {
     "name": "stdout",
     "output_type": "stream",
     "text": [
      "['Hello babies', ' Welcome to Earth', \" It's hot in the summer and cold in the winter\", \" It's round and wet and crowded\", \" On the outside, babies, you've got a hundred years here\", \" There's only one rule that I know of, babies- 'God damn it, you've got to be kind\", \"'\"]\n"
     ]
    }
   ],
   "source": [
    "rose_list = rosewater.split('.')\n",
    "print(rose_list)"
   ]
  },
  {
   "cell_type": "code",
   "execution_count": 3,
   "metadata": {
    "collapsed": false
   },
   "outputs": [],
   "source": [
    "import re\n",
    "import numpy as np\n",
    "import pandas as pd\n",
    "from pandas import Series\n",
    "\n",
    "# line = re.sub('[!@#$]', '', line)\n",
    "def parser1(string):\n",
    "    string = string.translate(None, \"?.!/;:'-,\")\n",
    "    string = string.replace(\",'-.\", \"\")\n",
    "    string = string.split(\" \")\n",
    "#   re.sub(\",'-.\", \"\", string)\n",
    "    return(string)\n",
    "\n",
    "\n",
    "rose_list = pd.Series(rose_list)\n",
    "\n",
    "rose_list = rose_list.apply(parser1)\n",
    "rose_list = pd.Series(rose_list)"
   ]
  },
  {
   "cell_type": "code",
   "execution_count": 4,
   "metadata": {
    "collapsed": false
   },
   "outputs": [
    {
     "data": {
      "text/plain": [
       "0                                      [Hello, babies]\n",
       "1                               [, Welcome, to, Earth]\n",
       "2    [, Its, hot, in, the, summer, and, cold, in, t...\n",
       "3               [, Its, round, and, wet, and, crowded]\n",
       "4    [, On, the, outside, babies, youve, got, a, hu...\n",
       "5    [, Theres, only, one, rule, that, I, know, of,...\n",
       "6                                                   []\n",
       "dtype: object"
      ]
     },
     "execution_count": 4,
     "metadata": {},
     "output_type": "execute_result"
    }
   ],
   "source": [
    "rose_list"
   ]
  },
  {
   "cell_type": "code",
   "execution_count": null,
   "metadata": {
    "collapsed": true
   },
   "outputs": [],
   "source": []
  },
  {
   "cell_type": "markdown",
   "metadata": {},
   "source": [
    "Now, vectorize each sentence so that each sentence is a list of words. You should now have a list of lists"
   ]
  },
  {
   "cell_type": "code",
   "execution_count": null,
   "metadata": {
    "collapsed": false
   },
   "outputs": [],
   "source": [
    "\n",
    "    "
   ]
  },
  {
   "cell_type": "code",
   "execution_count": null,
   "metadata": {
    "collapsed": false
   },
   "outputs": [],
   "source": []
  },
  {
   "cell_type": "markdown",
   "metadata": {},
   "source": [
    "Finally, create a count vectorizer. Create a list of dictionaries, where each dictionary represents a sentence, and the key:value pairs are the counts of each word"
   ]
  },
  {
   "cell_type": "markdown",
   "metadata": {},
   "source": [
    "If you sentence is ```\"My purpose? I have no purpose. I just cha cha.\"``` , then your outputs would look like this:\n"
   ]
  },
  {
   "cell_type": "code",
   "execution_count": null,
   "metadata": {
    "collapsed": true
   },
   "outputs": [],
   "source": []
  },
  {
   "cell_type": "raw",
   "metadata": {},
   "source": [
    "[['my', 'purpose'],\n",
    " ['i', 'have', 'no', 'purpose'],\n",
    " ['i', 'just', 'cha', 'cha']]"
   ]
  },
  {
   "cell_type": "raw",
   "metadata": {},
   "source": [
    "[{'my': 1, 'purpose': 1},\n",
    " {'have': 1, 'i': 1, 'no': 1, 'purpose': 1},\n",
    " {'cha': 2, 'i': 1, 'just': 1}]"
   ]
  },
  {
   "cell_type": "markdown",
   "metadata": {},
   "source": [
    "Do this for the rosewater text:"
   ]
  },
  {
   "cell_type": "code",
   "execution_count": 5,
   "metadata": {
    "collapsed": false
   },
   "outputs": [
    {
     "name": "stdout",
     "output_type": "stream",
     "text": [
      "Counter({'': 6, 'babies': 3, 'and': 3, 'the': 3, 'in': 2, 'to': 2, 'got': 2, 'youve': 2, 'Its': 2, 'summer': 1, 'be': 1, 'God': 1, 'it': 1, 'years': 1, 'cold': 1, 'winter': 1, 'Welcome': 1, 'hot': 1, 'outside': 1, 'damn': 1, 'wet': 1, 'hundred': 1, 'On': 1, 'only': 1, 'that': 1, 'I': 1, 'kind': 1, 'here': 1, 'know': 1, 'one': 1, 'Hello': 1, 'Theres': 1, 'a': 1, 'crowded': 1, 'of': 1, 'rule': 1, 'round': 1, 'Earth': 1})\n"
     ]
    }
   ],
   "source": [
    "from collections import Counter\n",
    "\n",
    "word_count = Counter()\n",
    "\n",
    "for i in rose_list:\n",
    "    word_count.update(i)\n",
    "\n",
    "print(word_count)\n"
   ]
  },
  {
   "cell_type": "code",
   "execution_count": 7,
   "metadata": {
    "collapsed": false
   },
   "outputs": [],
   "source": [
    "# word_count = pd.DataFrame(word_count)\n",
    "\n",
    "# word_count = pd.DataFrame.from_dict(word_count)\n",
    "word_count = pd.DataFrame(word_count.items())"
   ]
  },
  {
   "cell_type": "markdown",
   "metadata": {},
   "source": [
    "Finally, turn your dictionary into a DataFrame"
   ]
  },
  {
   "cell_type": "code",
   "execution_count": 9,
   "metadata": {
    "collapsed": false
   },
   "outputs": [
    {
     "data": {
      "text/html": [
       "<div>\n",
       "<table border=\"1\" class=\"dataframe\">\n",
       "  <thead>\n",
       "    <tr style=\"text-align: right;\">\n",
       "      <th></th>\n",
       "      <th>0</th>\n",
       "      <th>1</th>\n",
       "    </tr>\n",
       "  </thead>\n",
       "  <tbody>\n",
       "    <tr>\n",
       "      <th>0</th>\n",
       "      <td></td>\n",
       "      <td>6</td>\n",
       "    </tr>\n",
       "    <tr>\n",
       "      <th>1</th>\n",
       "      <td>summer</td>\n",
       "      <td>1</td>\n",
       "    </tr>\n",
       "    <tr>\n",
       "      <th>2</th>\n",
       "      <td>be</td>\n",
       "      <td>1</td>\n",
       "    </tr>\n",
       "    <tr>\n",
       "      <th>3</th>\n",
       "      <td>God</td>\n",
       "      <td>1</td>\n",
       "    </tr>\n",
       "    <tr>\n",
       "      <th>4</th>\n",
       "      <td>it</td>\n",
       "      <td>1</td>\n",
       "    </tr>\n",
       "    <tr>\n",
       "      <th>5</th>\n",
       "      <td>years</td>\n",
       "      <td>1</td>\n",
       "    </tr>\n",
       "    <tr>\n",
       "      <th>6</th>\n",
       "      <td>in</td>\n",
       "      <td>2</td>\n",
       "    </tr>\n",
       "    <tr>\n",
       "      <th>7</th>\n",
       "      <td>cold</td>\n",
       "      <td>1</td>\n",
       "    </tr>\n",
       "    <tr>\n",
       "      <th>8</th>\n",
       "      <td>winter</td>\n",
       "      <td>1</td>\n",
       "    </tr>\n",
       "    <tr>\n",
       "      <th>9</th>\n",
       "      <td>Welcome</td>\n",
       "      <td>1</td>\n",
       "    </tr>\n",
       "  </tbody>\n",
       "</table>\n",
       "</div>"
      ],
      "text/plain": [
       "         0  1\n",
       "0           6\n",
       "1   summer  1\n",
       "2       be  1\n",
       "3      God  1\n",
       "4       it  1\n",
       "5    years  1\n",
       "6       in  2\n",
       "7     cold  1\n",
       "8   winter  1\n",
       "9  Welcome  1"
      ]
     },
     "execution_count": 9,
     "metadata": {},
     "output_type": "execute_result"
    }
   ],
   "source": [
    "word_count.head(10)"
   ]
  },
  {
   "cell_type": "code",
   "execution_count": null,
   "metadata": {
    "collapsed": true
   },
   "outputs": [],
   "source": []
  }
 ],
 "metadata": {
  "kernelspec": {
   "display_name": "Python 2",
   "language": "python",
   "name": "python2"
  },
  "language_info": {
   "codemirror_mode": {
    "name": "ipython",
    "version": 2
   },
   "file_extension": ".py",
   "mimetype": "text/x-python",
   "name": "python",
   "nbconvert_exporter": "python",
   "pygments_lexer": "ipython2",
   "version": "2.7.12"
  }
 },
 "nbformat": 4,
 "nbformat_minor": 0
}
