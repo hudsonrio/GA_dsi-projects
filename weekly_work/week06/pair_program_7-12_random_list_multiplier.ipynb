{
 "cells": [
  {
   "cell_type": "code",
   "execution_count": 58,
   "metadata": {
    "collapsed": false
   },
   "outputs": [
    {
     "name": "stdout",
     "output_type": "stream",
     "text": [
      "<type 'NoneType'>\n",
      "1000 loops, best of 3: 704 µs per loop\n"
     ]
    },
    {
     "data": {
      "text/plain": [
       "(25000, 120)"
      ]
     },
     "execution_count": 58,
     "metadata": {},
     "output_type": "execute_result"
    }
   ],
   "source": [
    "import operator\n",
    "import random\n",
    "from random import shuffle\n",
    "import numpy as np\n",
    "\n",
    "\n",
    "\n",
    "lista = [2,7,8,-5, -4, 7, 12, -3,4,-6,11,-14, -12,10,4,5]\n",
    "listb = [8,-5, 12,-13]\n",
    "listc = [2,7,8,-3]\n",
    "\n",
    "example = np.random.shuffle(lista)\n",
    "print(type(example))\n",
    "\n",
    "def prod(factors):\n",
    "    return reduce(operator.mul, factors, 1)\n",
    "\n",
    "\n",
    "\n",
    "\n",
    "\n",
    "# def bigger(list_ex):\n",
    "#     list_sorted = list_ex.sort()\n",
    "#     pos_list = []\n",
    "#     neg_list = []\n",
    "#     for i in list_sorted[0:2]:\n",
    "#         pos_list.append(i)\n",
    "#     for h in list_ex:\n",
    "#         if h < 0:\n",
    "#             neg_list.append(h)\n",
    "#             neg_sort = neg_list.sort()\n",
    "#     if prod(pos_list) \n",
    "\n",
    "    \n",
    "def factorial(n):\n",
    "    if n == 0:\n",
    "        return 1\n",
    "    else:\n",
    "        return n * factorial(n-1)\n",
    "\n",
    "def rand_prodder(lista, ):\n",
    "    max_score = 0\n",
    "    score_list = []\n",
    "    for a in range(factorial(len(lista)^2)): \n",
    "        np.random.shuffle(lista)\n",
    "        b = []\n",
    "        b.append(lista[0])\n",
    "        b.append(lista[1])\n",
    "        b.append(lista[2])\n",
    "        c = np.product([b])\n",
    "        score_list.append(c)\n",
    "        if c > max_score:\n",
    "            max_score = c\n",
    "        else:\n",
    "            continue\n",
    "    return(max_score, len(score_list))\n",
    "\n",
    "test = [1,2,-5,-2, -10, 50, -50]\n",
    "        \n",
    "%timeit rand_prodder(test)       \n",
    "# %timeit rand_prodder(listb)         \n",
    "rand_prodder(test) #645000 microseconds\n",
    "    \n",
    "\n",
    "            \n",
    "    "
   ]
  },
  {
   "cell_type": "code",
   "execution_count": 40,
   "metadata": {
    "collapsed": false
   },
   "outputs": [
    {
     "data": {
      "text/plain": [
       "(96, 720)"
      ]
     },
     "execution_count": 40,
     "metadata": {},
     "output_type": "execute_result"
    }
   ],
   "source": [
    "def rand_prodder3(lista):\n",
    "    max_score = 0\n",
    "    score_list = []\n",
    "    for a in range(10):\n",
    "        np.random.shuffle(lista)\n",
    "        b = []\n",
    "        b.append(lista[0:2])\n",
    "        return(b)\n",
    "#     return(max_score, len(score_list))\n",
    "\n",
    "\n",
    "        \n",
    "rand_prodder(listb)       \n",
    "        "
   ]
  },
  {
   "cell_type": "code",
   "execution_count": null,
   "metadata": {
    "collapsed": true
   },
   "outputs": [],
   "source": [
    "\n",
    "# rand_prodder(lista)\n",
    "\n",
    "# np.random.shuffle(arr)\n",
    "\n",
    "\n",
    "# def rand_prodder2(lista):\n",
    "#     max_score = 0  \n",
    "#     for a in range(10):\n",
    "#         c = random.sample(lista, len(lista)   \n",
    "#         print(c)\n",
    "                          \n",
    "\n",
    "\n",
    "\n",
    "# a = range(5)\n",
    "# b = random.sample(a, len(a))\n",
    "# print a, b, \"two list same:\", a == b\n",
    "# # print: [0, 1, 2, 3, 4] [2, 1, 3, 4, 0] two list same: False\n",
    "\n",
    "# # The function sample allows no duplicates.\n",
    "# # Result can be smaller but not larger than the input.\n",
    "# a = range(555)\n",
    "# b = random.sample(a, len(a))\n",
    "# print \"no duplicates:\", a == list(set(b))\n",
    "\n",
    "# try:\n",
    "#     random.sample(a, len(a) + 1)\n",
    "# except ValueError as e:\n",
    "#     print \"Nope!\", e\n",
    "    "
   ]
  }
 ],
 "metadata": {
  "kernelspec": {
   "display_name": "Python 2",
   "language": "python",
   "name": "python2"
  },
  "language_info": {
   "codemirror_mode": {
    "name": "ipython",
    "version": 2
   },
   "file_extension": ".py",
   "mimetype": "text/x-python",
   "name": "python",
   "nbconvert_exporter": "python",
   "pygments_lexer": "ipython2",
   "version": "2.7.12"
  }
 },
 "nbformat": 4,
 "nbformat_minor": 0
}
