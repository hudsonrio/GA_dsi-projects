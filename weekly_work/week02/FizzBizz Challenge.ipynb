{
 "cells": [
  {
   "cell_type": "code",
   "execution_count": 7,
   "metadata": {
    "collapsed": false
   },
   "outputs": [],
   "source": [
    "import pandas as pd\n",
    "import seaborn as sns\n",
    "import matplotlib.pyplot as plt\n",
    "import numpy as np\n",
    "\n",
    "\n",
    "list = range(1,101)\n"
   ]
  },
  {
   "cell_type": "code",
   "execution_count": null,
   "metadata": {
    "collapsed": true
   },
   "outputs": [],
   "source": [
    "def fizzbuzz():\n",
    "\tnumber = int(raw_input(\"What's the highest number you want to iterate through? \"))\n",
    "\tnumberslist = range(1, number+1)\n",
    "\tfor item in numberslist:\n",
    "\t\tif item % 3 == 0 and item % 5 == 0:\n",
    "\t\t\tprint \"FizzBuzz\"\n",
    "\t\telif item % 3 == 0:\n",
    "\t\t\tprint \"Fizz\"\n",
    "\t\telif item % 5 == 0:\n",
    "\t\t\tprint \"Buzz\"\n",
    "\t\telse:\n",
    "\t\t\tprint item\n",
    "\n",
    "fizzbuzz()"
   ]
  },
  {
   "cell_type": "code",
   "execution_count": 51,
   "metadata": {
    "collapsed": false
   },
   "outputs": [],
   "source": [
    "def fizzbuzz2(item):\n",
    "\tif int(item) % 3 == 0 and int(item) % 5 == 0:\n",
    "\t\treturn \"FizzBuzz\"\n",
    "\telif int(item) % 3 == 0:\n",
    "\t\treturn \"Fizz\"\n",
    "\telif int(item) % 5 == 0:\n",
    "\t\treturn \"Buzz\"\n",
    "\telse:\n",
    "\t\treturn int(item)\n"
   ]
  },
  {
   "cell_type": "code",
   "execution_count": null,
   "metadata": {
    "collapsed": true
   },
   "outputs": [],
   "source": [
    "def fizzbuzz3(item):\n",
    "\tif int(item) % 3 == 0 and int(item) % 5 == 0:\n",
    "\t\treturn \"FizzBuzz\"\n",
    "\telif int(item) % 3 == 0:\n",
    "\t\treturn \"Fizz\"\n",
    "\telif int(item) % 5 == 0:\n",
    "\t\treturn \"Buzz\"\n",
    "\telse:\n",
    "\t\treturn int(item)\n"
   ]
  },
  {
   "cell_type": "code",
   "execution_count": 52,
   "metadata": {
    "collapsed": false
   },
   "outputs": [],
   "source": [
    "df = pd.DataFrame(list)\n",
    "df.columns = ['nums'] \n",
    "df['fizzbuzz'] = df['nums'].apply(fizzbuzz2)\n"
   ]
  },
  {
   "cell_type": "code",
   "execution_count": 53,
   "metadata": {
    "collapsed": false
   },
   "outputs": [
    {
     "data": {
      "text/html": [
       "<div>\n",
       "<table border=\"1\" class=\"dataframe\">\n",
       "  <thead>\n",
       "    <tr style=\"text-align: right;\">\n",
       "      <th></th>\n",
       "      <th>nums</th>\n",
       "      <th>fizzbuzz</th>\n",
       "    </tr>\n",
       "  </thead>\n",
       "  <tbody>\n",
       "    <tr>\n",
       "      <th>0</th>\n",
       "      <td>1</td>\n",
       "      <td>1</td>\n",
       "    </tr>\n",
       "    <tr>\n",
       "      <th>1</th>\n",
       "      <td>2</td>\n",
       "      <td>2</td>\n",
       "    </tr>\n",
       "    <tr>\n",
       "      <th>2</th>\n",
       "      <td>3</td>\n",
       "      <td>Fizz</td>\n",
       "    </tr>\n",
       "    <tr>\n",
       "      <th>3</th>\n",
       "      <td>4</td>\n",
       "      <td>4</td>\n",
       "    </tr>\n",
       "    <tr>\n",
       "      <th>4</th>\n",
       "      <td>5</td>\n",
       "      <td>Buzz</td>\n",
       "    </tr>\n",
       "  </tbody>\n",
       "</table>\n",
       "</div>"
      ],
      "text/plain": [
       "   nums fizzbuzz\n",
       "0     1        1\n",
       "1     2        2\n",
       "2     3     Fizz\n",
       "3     4        4\n",
       "4     5     Buzz"
      ]
     },
     "execution_count": 53,
     "metadata": {},
     "output_type": "execute_result"
    }
   ],
   "source": [
    "df.head()"
   ]
  },
  {
   "cell_type": "code",
   "execution_count": 54,
   "metadata": {
    "collapsed": true
   },
   "outputs": [],
   "source": [
    "df2 = pd.DataFrame(list)\n",
    "df2.columns = ['nums'] \n",
    "df2['fizzbuzz'] = df2.applymap(fizzbuzz2)"
   ]
  },
  {
   "cell_type": "code",
   "execution_count": 56,
   "metadata": {
    "collapsed": false
   },
   "outputs": [
    {
     "data": {
      "text/html": [
       "<div>\n",
       "<table border=\"1\" class=\"dataframe\">\n",
       "  <thead>\n",
       "    <tr style=\"text-align: right;\">\n",
       "      <th></th>\n",
       "      <th>nums</th>\n",
       "      <th>fizzbuzz</th>\n",
       "    </tr>\n",
       "  </thead>\n",
       "  <tbody>\n",
       "    <tr>\n",
       "      <th>0</th>\n",
       "      <td>1</td>\n",
       "      <td>1</td>\n",
       "    </tr>\n",
       "    <tr>\n",
       "      <th>1</th>\n",
       "      <td>2</td>\n",
       "      <td>2</td>\n",
       "    </tr>\n",
       "    <tr>\n",
       "      <th>2</th>\n",
       "      <td>3</td>\n",
       "      <td>Fizz</td>\n",
       "    </tr>\n",
       "    <tr>\n",
       "      <th>3</th>\n",
       "      <td>4</td>\n",
       "      <td>4</td>\n",
       "    </tr>\n",
       "    <tr>\n",
       "      <th>4</th>\n",
       "      <td>5</td>\n",
       "      <td>Buzz</td>\n",
       "    </tr>\n",
       "    <tr>\n",
       "      <th>5</th>\n",
       "      <td>6</td>\n",
       "      <td>Fizz</td>\n",
       "    </tr>\n",
       "    <tr>\n",
       "      <th>6</th>\n",
       "      <td>7</td>\n",
       "      <td>7</td>\n",
       "    </tr>\n",
       "    <tr>\n",
       "      <th>7</th>\n",
       "      <td>8</td>\n",
       "      <td>8</td>\n",
       "    </tr>\n",
       "    <tr>\n",
       "      <th>8</th>\n",
       "      <td>9</td>\n",
       "      <td>Fizz</td>\n",
       "    </tr>\n",
       "    <tr>\n",
       "      <th>9</th>\n",
       "      <td>10</td>\n",
       "      <td>Buzz</td>\n",
       "    </tr>\n",
       "    <tr>\n",
       "      <th>10</th>\n",
       "      <td>11</td>\n",
       "      <td>11</td>\n",
       "    </tr>\n",
       "    <tr>\n",
       "      <th>11</th>\n",
       "      <td>12</td>\n",
       "      <td>Fizz</td>\n",
       "    </tr>\n",
       "    <tr>\n",
       "      <th>12</th>\n",
       "      <td>13</td>\n",
       "      <td>13</td>\n",
       "    </tr>\n",
       "    <tr>\n",
       "      <th>13</th>\n",
       "      <td>14</td>\n",
       "      <td>14</td>\n",
       "    </tr>\n",
       "    <tr>\n",
       "      <th>14</th>\n",
       "      <td>15</td>\n",
       "      <td>FizzBuzz</td>\n",
       "    </tr>\n",
       "    <tr>\n",
       "      <th>15</th>\n",
       "      <td>16</td>\n",
       "      <td>16</td>\n",
       "    </tr>\n",
       "  </tbody>\n",
       "</table>\n",
       "</div>"
      ],
      "text/plain": [
       "    nums  fizzbuzz\n",
       "0      1         1\n",
       "1      2         2\n",
       "2      3      Fizz\n",
       "3      4         4\n",
       "4      5      Buzz\n",
       "5      6      Fizz\n",
       "6      7         7\n",
       "7      8         8\n",
       "8      9      Fizz\n",
       "9     10      Buzz\n",
       "10    11        11\n",
       "11    12      Fizz\n",
       "12    13        13\n",
       "13    14        14\n",
       "14    15  FizzBuzz\n",
       "15    16        16"
      ]
     },
     "execution_count": 56,
     "metadata": {},
     "output_type": "execute_result"
    }
   ],
   "source": [
    "df2.head(16)"
   ]
  },
  {
   "cell_type": "code",
   "execution_count": null,
   "metadata": {
    "collapsed": false
   },
   "outputs": [],
   "source": [
    "def fibonacci():\n",
    "    t=1\n",
    "    fibo = [1]\n",
    "    while n < 4000000:\n",
    "        n = t*2\n",
    "        fibo.append(n)\n",
    "    print(fibo)\n",
    "        \n",
    "#fibonacci\n",
    "\n",
    "\n",
    "def F1(n):\n",
    "    k = []\n",
    "    while k == [] or k[-1]< 4000000:\n",
    "        p = n\n",
    "        if p == 0: \n",
    "            k.append(0)\n",
    "            n = 1\n",
    "        elif p == 1: \n",
    "            k.append(1)\n",
    "            n = k[-1]\n",
    "        else: \n",
    "            return k.append(F(p-1)+F(p-2))\n",
    "            n = k[-2] + k[-1]\n",
    "    \n",
    "print(F1(1))\n",
    "    \n",
    "# fibo=[0,1]\n",
    "#for i in range (50):\n",
    "#fibo.append(fibo[-1]+fibo[-2])\n"
   ]
  },
  {
   "cell_type": "code",
   "execution_count": null,
   "metadata": {
    "collapsed": false
   },
   "outputs": [],
   "source": [
    "k = []\n",
    "\n",
    "def F(n):\n",
    "    while k == [] or k[-1]< 400:\n",
    "        if n == 0: \n",
    "            k.append(0)\n",
    "            n = 1\n",
    "        elif n == 1: \n",
    "            k.append(1)\n",
    "            n = k[-1]\n",
    "        else: \n",
    "            return k.append(F(n-1)+F(n-2))\n",
    "            n = k[-2] + k[-1]\n",
    "    return k\n",
    "    \n",
    "print(F(1))"
   ]
  },
  {
   "cell_type": "code",
   "execution_count": null,
   "metadata": {
    "collapsed": true
   },
   "outputs": [],
   "source": [
    "#answer with recursion on internet:\n",
    "\n",
    "def fibR(n):\n",
    "    if n==1 or n==2:\n",
    "        return 1\n",
    "    return fib(n-1)+fib(n-2)\n",
    "        print fibR(5)\n",
    "    \n",
    "fibR(1)"
   ]
  },
  {
   "cell_type": "code",
   "execution_count": null,
   "metadata": {
    "collapsed": true
   },
   "outputs": [],
   "source": []
  }
 ],
 "metadata": {
  "kernelspec": {
   "display_name": "Python 2",
   "language": "python",
   "name": "python2"
  },
  "language_info": {
   "codemirror_mode": {
    "name": "ipython",
    "version": 2
   },
   "file_extension": ".py",
   "mimetype": "text/x-python",
   "name": "python",
   "nbconvert_exporter": "python",
   "pygments_lexer": "ipython2",
   "version": "2.7.11"
  }
 },
 "nbformat": 4,
 "nbformat_minor": 0
}
