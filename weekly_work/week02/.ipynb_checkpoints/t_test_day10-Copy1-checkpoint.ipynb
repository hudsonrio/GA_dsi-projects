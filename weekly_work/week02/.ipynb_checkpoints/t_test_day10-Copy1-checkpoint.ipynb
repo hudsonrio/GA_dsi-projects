{
 "cells": [
  {
   "cell_type": "code",
   "execution_count": 55,
   "metadata": {
    "collapsed": false
   },
   "outputs": [
    {
     "data": {
      "text/plain": [
       "'/Users/HudsonCavanagh/dsi-projects/week02'"
      ]
     },
     "execution_count": 55,
     "metadata": {},
     "output_type": "execute_result"
    }
   ],
   "source": [
    "#precision v accuracy\n",
    "\n",
    "\n",
    "import numpy as np\n",
    "import scipy as sp\n",
    "import pandas as pd\n",
    "import os\n",
    "from scipy import stats\n",
    "\n",
    "os.getcwd()"
   ]
  },
  {
   "cell_type": "code",
   "execution_count": 7,
   "metadata": {
    "collapsed": false
   },
   "outputs": [
    {
     "name": "stdout",
     "output_type": "stream",
     "text": [
      "the t-statistic is 2.296 and the p-value is 0.047\n"
     ]
    }
   ],
   "source": [
    "\n",
    "one_sample_data = [177.3, 182.7, 169.6, 176.3, 180.3, 179.4, 178.5, 177.2, 181.8, 176.5]\n",
    "\n",
    "one_sample = stats.ttest_1samp(one_sample_data, 175.3)\n",
    "print(\"the t-statistic is %.3f and the p-value is %.3f\" %one_sample)\n",
    "#"
   ]
  },
  {
   "cell_type": "code",
   "execution_count": 11,
   "metadata": {
    "collapsed": false
   },
   "outputs": [
    {
     "name": "stdout",
     "output_type": "stream",
     "text": [
      "(177.96000000000001, 3.4762623606396583)\n"
     ]
    }
   ],
   "source": [
    "print(np.mean(one_sample_data), np.std(one_sample_data))"
   ]
  },
  {
   "cell_type": "code",
   "execution_count": 56,
   "metadata": {
    "collapsed": false
   },
   "outputs": [],
   "source": [
    "sat_raw = pd.read_csv('/Users/HudsonCavanagh/dsi-projects/projects/1st/sat_scores.csv')"
   ]
  },
  {
   "cell_type": "code",
   "execution_count": 57,
   "metadata": {
    "collapsed": false
   },
   "outputs": [
    {
     "data": {
      "text/plain": [
       "pandas.core.frame.DataFrame"
      ]
     },
     "execution_count": 57,
     "metadata": {},
     "output_type": "execute_result"
    }
   ],
   "source": [
    "type(sat_raw)"
   ]
  },
  {
   "cell_type": "code",
   "execution_count": 109,
   "metadata": {
    "collapsed": false
   },
   "outputs": [
    {
     "name": "stdout",
     "output_type": "stream",
     "text": [
      "State\n",
      "CA    498\n",
      "CT    509\n",
      "DC    482\n",
      "DE    501\n",
      "FL    498\n",
      "GA    491\n",
      "HI    485\n",
      "MD    508\n",
      "ME    506\n",
      "NC    493\n",
      "NH    520\n",
      "NJ    499\n",
      "NY    495\n",
      "RI    501\n",
      "SC    486\n",
      "MA    511\n",
      "WA    527\n",
      "VT    511\n",
      "Name: Verbal, dtype: int64\n"
     ]
    }
   ],
   "source": [
    "sat_state = sat_raw.groupby(by=['State']).mean().T\n",
    "#print(sat_state)\n",
    "subsamp = ['CA', 'CT', 'DC', 'DE', 'FL', 'GA', 'HI', 'MD', 'ME', 'NC', 'NH', 'NJ', 'NY', 'RI', 'SC', 'MA', 'WA', 'VT']\n",
    "natl = sat_state['All']\n",
    "\n",
    "sat_subsample = sat_state[subsamp]\n",
    "math_subsample = sat_subsample.loc['Math',:]\n",
    "verbal_subsample = sat_subsample.loc['Verbal',:]\n",
    "natl = sat_state['All']\n",
    "math_sample=sat_state.loc['Math',:]\n",
    "\n",
    "rate_subsample = sat_subsample.loc['Math',:]\n",
    "print(verbal_subsample)\n",
    "\n",
    "\n",
    "#df.loc[row_indexer,column_indexer]\n"
   ]
  },
  {
   "cell_type": "code",
   "execution_count": 60,
   "metadata": {
    "collapsed": false
   },
   "outputs": [
    {
     "name": "stdout",
     "output_type": "stream",
     "text": [
      "Rate       45\n",
      "Verbal    506\n",
      "Math      514\n",
      "Name: All, dtype: int64\n"
     ]
    }
   ],
   "source": [
    "print(natl)"
   ]
  },
  {
   "cell_type": "code",
   "execution_count": 70,
   "metadata": {
    "collapsed": false
   },
   "outputs": [
    {
     "name": "stdout",
     "output_type": "stream",
     "text": [
      "Ttest_1sampResult(statistic=-3.1779375213717125, pvalue=0.0055025633901415842)\n"
     ]
    }
   ],
   "source": [
    "coast_test_math = stats.ttest_1samp(math_subsample, natl['Math'])\n",
    "print(coast_test_math)\n"
   ]
  },
  {
   "cell_type": "code",
   "execution_count": 66,
   "metadata": {
    "collapsed": false
   },
   "outputs": [
    {
     "name": "stdout",
     "output_type": "stream",
     "text": [
      "Ttest_1sampResult(statistic=-1.7121668364339591, pvalue=0.10504547309964081)\n"
     ]
    }
   ],
   "source": [
    "coast_test_verb = stats.ttest_1samp(verbal_subsample, natl['Verbal'])\n",
    "print(coast_test_verb)\n"
   ]
  },
  {
   "cell_type": "code",
   "execution_count": 64,
   "metadata": {
    "collapsed": false
   },
   "outputs": [
    {
     "name": "stdout",
     "output_type": "stream",
     "text": [
      "State\n",
      "CA    517\n",
      "CT    510\n",
      "DC    474\n",
      "DE    499\n",
      "FL    499\n",
      "GA    489\n",
      "HI    515\n",
      "MD    510\n",
      "ME    500\n",
      "NC    499\n",
      "NH    516\n",
      "NJ    513\n",
      "NY    505\n",
      "RI    499\n",
      "SC    488\n",
      "MA    515\n",
      "WA    527\n",
      "VT    506\n",
      "Name: Math, dtype: int64\n"
     ]
    }
   ],
   "source": [
    "print(math_subsample)"
   ]
  },
  {
   "cell_type": "code",
   "execution_count": 65,
   "metadata": {
    "collapsed": false
   },
   "outputs": [
    {
     "data": {
      "text/plain": [
       "514"
      ]
     },
     "execution_count": 65,
     "metadata": {},
     "output_type": "execute_result"
    }
   ],
   "source": [
    "natl['Math']"
   ]
  },
  {
   "cell_type": "markdown",
   "metadata": {},
   "source": [
    "##random simulations\n"
   ]
  },
  {
   "cell_type": "code",
   "execution_count": 82,
   "metadata": {
    "collapsed": false
   },
   "outputs": [
    {
     "data": {
      "text/plain": [
       "0.0507"
      ]
     },
     "execution_count": 82,
     "metadata": {},
     "output_type": "execute_result"
    }
   ],
   "source": [
    "m = 0\n",
    "for i in range(10000):\n",
    "    trials = np.random.randint(2, size = 30)\n",
    "    if (trials.sum() >= 20):\n",
    "        m += 1\n",
    "p = m / 10000.0\n",
    "p"
   ]
  },
  {
   "cell_type": "code",
   "execution_count": 98,
   "metadata": {
    "collapsed": false
   },
   "outputs": [
    {
     "name": "stdout",
     "output_type": "stream",
     "text": [
      "probability equals approximately 41.971%\n"
     ]
    }
   ],
   "source": [
    "#coin flip probability\n",
    "\n",
    "m = 0\n",
    "for i in range(100000):\n",
    "    trials = [x for x in np.random.randint(1,7, size = 30)]\n",
    "    if (trials.count(6) >= 10):\n",
    "        m += 1\n",
    "p = m / 100000.0\n",
    "print(\"probability equals approximately {}%\".format(p*100))\n"
   ]
  },
  {
   "cell_type": "code",
   "execution_count": 131,
   "metadata": {
    "collapsed": false
   },
   "outputs": [
    {
     "name": "stdout",
     "output_type": "stream",
     "text": [
      "probability equals approximately 45.744%\n"
     ]
    }
   ],
   "source": [
    "\n",
    "#difference between rand generated and math sample >= .5192\n",
    "m = 0\n",
    "for i in range(10000):\n",
    "    trials = [np.mean(x) for x in np.random.randint(min(math_sample),max(math_sample), size=5)]\n",
    "    if (natl['Math']-x) >= .5192:\n",
    "        m += 1\n",
    "p = m / 10000.0\n",
    "print(\"probability equals approximately {}%\".format(p*100))\n",
    "\n",
    "\n"
   ]
  },
  {
   "cell_type": "code",
   "execution_count": 103,
   "metadata": {
    "collapsed": false
   },
   "outputs": [
    {
     "name": "stdout",
     "output_type": "stream",
     "text": [
      "514\n"
     ]
    }
   ],
   "source": [
    "print(natl['Math'])"
   ]
  },
  {
   "cell_type": "code",
   "execution_count": 108,
   "metadata": {
    "collapsed": false
   },
   "outputs": [
    {
     "name": "stdout",
     "output_type": "stream",
     "text": [
      "510\n"
     ]
    }
   ],
   "source": [
    "print(math_subsample[1])"
   ]
  },
  {
   "cell_type": "code",
   "execution_count": 125,
   "metadata": {
    "collapsed": false
   },
   "outputs": [
    {
     "name": "stdout",
     "output_type": "stream",
     "text": [
      "probability equals approximately 0.0%\n"
     ]
    }
   ],
   "source": [
    "\n",
    "#i believe this functions correctly for solution problem #2\n",
    "m = 0\n",
    "for i in range(10000):\n",
    "    trials = [x for x in math_sample]\n",
    "    if natl['Math']-x >= .5192:\n",
    "        m += 1\n",
    "p = m / 10000.0\n",
    "print(\"probability equals approximately {}%\".format(p*100))\n",
    "\n",
    "\n"
   ]
  },
  {
   "cell_type": "code",
   "execution_count": null,
   "metadata": {
    "collapsed": true
   },
   "outputs": [],
   "source": []
  }
 ],
 "metadata": {
  "kernelspec": {
   "display_name": "Python 2",
   "language": "python",
   "name": "python2"
  },
  "language_info": {
   "codemirror_mode": {
    "name": "ipython",
    "version": 2
   },
   "file_extension": ".py",
   "mimetype": "text/x-python",
   "name": "python",
   "nbconvert_exporter": "python",
   "pygments_lexer": "ipython2",
   "version": "2.7.11"
  }
 },
 "nbformat": 4,
 "nbformat_minor": 0
}
