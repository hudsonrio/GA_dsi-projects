{
 "cells": [
  {
   "cell_type": "code",
   "execution_count": 13,
   "metadata": {
    "collapsed": false
   },
   "outputs": [
    {
     "name": "stdout",
     "output_type": "stream",
     "text": [
      "('thank you for banking with hudson', 'ralph')\n",
      "You cannot withdraw more than is in your account!\n",
      "You deposited $35\n",
      "Your current balance is $435\n"
     ]
    }
   ],
   "source": [
    "class BankAccount():\n",
    "    def __init__(self, balance=0, cust_name='Sir or Madam'):\n",
    "        self.balance = balance\n",
    "        if str(cust_name):\n",
    "            print(\"thank you for banking with hudson\", cust_name)\n",
    "\n",
    "    def withdraw(self, withdraw=0):\n",
    "        pre_with = self.balance \n",
    "        self.withdraw = withdraw\n",
    "        post_with = pre_with - withdraw\n",
    "        if  post_with > 0:\n",
    "            self.balance = post_with\n",
    "            print 'You withdrew ${}'.format(self.withdraw)\n",
    "            print 'Your current balance is ${}'.format(self.balance)\n",
    "        elif post_with < 0:\n",
    "            print('You cannot withdraw more than is in your account!')\n",
    "        \n",
    "        \n",
    "    def deposit(self, deposit=0):\n",
    "        pre_dep = self.balance \n",
    "        self.deposit = deposit\n",
    "        post_dep = pre_dep + deposit\n",
    "        self.balance = post_dep\n",
    "        print 'You deposited ${}'.format(self.deposit)\n",
    "        print 'Your current balance is ${}'.format(self.balance)\n",
    "\n",
    "class MinimumBankAccount(BankAccount):\n",
    "    '''Empty for now'''\n",
    "\n",
    "        \n",
    "mine = BankAccount(400, 'ralph')\n",
    "mine.withdraw(405)\n",
    "mine.deposit(35)\n",
    "\n",
    "        \n",
    "#     def deposit(self):\n",
    "#         self.balance = \n",
    "        \n",
    "    \n",
    "    \n",
    "    \n",
    "#     def int_to_time(self, seconds):\n",
    "#         '''Resets the values for hour, minute and second to a new \n",
    "#         value, given by a number of seconds\n",
    "#         '''\n",
    "#         self.hour, self.minute = divmod(seconds, 3600)\n",
    "#         self.minute, self.second = divmod(self.minute, 60)\n",
    "    \n",
    "#     def is_after(self, other):\n",
    "#         '''Compares two time classes'''\n",
    "#         return self.time_to_int() > other.time_to_int()"
   ]
  },
  {
   "cell_type": "code",
   "execution_count": null,
   "metadata": {
    "collapsed": true
   },
   "outputs": [],
   "source": []
  }
 ],
 "metadata": {
  "kernelspec": {
   "display_name": "Python 2 New",
   "language": "python",
   "name": "stats_mods_py"
  },
  "language_info": {
   "codemirror_mode": {
    "name": "ipython",
    "version": 2
   },
   "file_extension": ".py",
   "mimetype": "text/x-python",
   "name": "python",
   "nbconvert_exporter": "python",
   "pygments_lexer": "ipython2",
   "version": "2.7.12"
  }
 },
 "nbformat": 4,
 "nbformat_minor": 0
}
