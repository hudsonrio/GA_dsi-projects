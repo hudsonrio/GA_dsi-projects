{
 "cells": [
  {
   "cell_type": "code",
   "execution_count": null,
   "metadata": {
    "collapsed": true
   },
   "outputs": [],
   "source": [
    "import pandas as pd\n",
    "import numpy as np\n",
    "import matplotlib.pyplot as plt\n",
    "import seaborn as sns\n",
    "#import os\n",
    "#import random\n",
    "\n",
    "%matplotlib inline\n",
    "\n",
    "#os.getcwd()\n",
    "dat = pd.read_csv(\"/Users/HudsonCavanagh/dsi-projects/side_projects/bastard_bowl-analysis.csv\")\n",
    "bb = pd.DataFrame(dat)\n",
    "\n",
    "solutions = {'NBA':'Cavs (+4.5)', '*jon killed by*': 'no one', '*ramsay killed by*': 'His dogs', 'who scores most?':'harrison barnes'}\n",
    "any_three = {'True': ['Littlefinger shows up', 'The giant dies', 'The giant kills more than 10 people', 'Rickon gets killed','Davos finds out what happened to Shireen', 'A dragon kills someone','The other two dragons show up','Reference to wildfire'],\n",
    "             'False': ['A walker shows up', 'Jamie saves the stark army', 'Brienne dies', 'sansa kills Littlefinger', 'Ramsay feeds someone to the dogs', 'And kills himself', 'The hound joins the fight', 'arya joins the fight ', 'Sam Tarley makes an appearance', 'Littlefinger turns on Sansa', \"We find out Varys' secret mission\", 'A Direwolf appears', 'Bran visits the past', 'Bran visits the future', 'Bran visits the battle itself', 'Tormund dies', 'Brienne dies', 'Lady Mormont does something badass', 'Lady Mormont dies', 'Jorah shows up']}\n",
    "\n",
    "\n",
    "\n",
    "\n",
    "def truther(list):\n",
    "    wins = [] #append names and scores later\n",
    "    for r, h in enumerate(bb[\"What's ur name?\"]):\n",
    "        score = []\n",
    "        sub_score = []\n",
    "        if str(bb['NBA'][r]) == solutions['NBA']:\n",
    "            score.append(1)\n",
    "        if str(bb['*jon killed by*'][r]) == solutions['*jon killed by*']:\n",
    "            score.append(1)\n",
    "        if str(bb['*ramsay killed by*'][r]) == solutions['*ramsay killed by*']:\n",
    "            score.append(1)\n",
    "        if str(bb['who scores most?'][r]) == solutions['who scores most?']:\n",
    "            score.append(1)\n",
    "        magic = [str(bb[\"*pick any three*\"][r]).split(\", \")]\n",
    "        for t in magic: #still not working correctly, need to do so manually\n",
    "            if str(t)[1:7] in any_three[\"True\"]:\n",
    "                sub_score.append(1)\n",
    "\n",
    "\n",
    "        wins.append([h, (np.sum(score) + np.sum(sub_score))])\n",
    "        win = pd.DataFrame(wins)\n",
    "#print(win)\n",
    "        ax = sns.barplot(x = win[0], y = win[1], data = win, palette=\"GnBu_d\")\n",
    "#         ax.set_ylabel(\"Score (out of 7)\")\n",
    "#         ax.set_xlabel(\"Name (kinda)\")\n",
    "#         sns.despine(bottom=True)\n",
    "#         plt.setp(ax, yticks=[0,1,2,3])\n",
    "#         fig = ax.get_figure()\n",
    "#         plt.show()\n",
    "        #fig.savefig('bastard_bowl_winners.jpeg')\n",
    "\n",
    "truther(bb)\n"
   ]
  },
  {
   "cell_type": "code",
   "execution_count": null,
   "metadata": {
    "collapsed": true
   },
   "outputs": [],
   "source": []
  }
 ],
 "metadata": {
  "kernelspec": {
   "display_name": "Python 2",
   "language": "python",
   "name": "python2"
  },
  "language_info": {
   "codemirror_mode": {
    "name": "ipython",
    "version": 2
   },
   "file_extension": ".py",
   "mimetype": "text/x-python",
   "name": "python",
   "nbconvert_exporter": "python",
   "pygments_lexer": "ipython2",
   "version": "2.7.11"
  }
 },
 "nbformat": 4,
 "nbformat_minor": 0
}
