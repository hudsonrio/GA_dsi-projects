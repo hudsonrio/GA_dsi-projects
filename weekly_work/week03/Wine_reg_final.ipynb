{
 "cells": [
  {
   "cell_type": "code",
   "execution_count": 1,
   "metadata": {
    "collapsed": false
   },
   "outputs": [
    {
     "data": {
      "text/plain": [
       "'/Users/HudsonCavanagh/dsi-projects/week03'"
      ]
     },
     "execution_count": 1,
     "metadata": {},
     "output_type": "execute_result"
    }
   ],
   "source": [
    "import pandas as pd\n",
    "import numpy as np\n",
    "import sklearn\n",
    "from sklearn import datasets\n",
    "from sklearn import linear_model\n",
    "import os\n",
    "\n",
    "from sklearn.cross_validation import cross_val_score\n",
    "from sklearn.cross_validation import cross_val_predict\n",
    "from sklearn.metrics import r2_score\n",
    "\n",
    "from IPython.core.display import Image, HTML\n",
    "\n",
    "import matplotlib.pyplot as plt\n",
    "%matplotlib inline\n",
    "\n",
    "os.getcwd()"
   ]
  },
  {
   "cell_type": "code",
   "execution_count": null,
   "metadata": {
    "collapsed": false
   },
   "outputs": [],
   "source": []
  },
  {
   "cell_type": "code",
   "execution_count": 2,
   "metadata": {
    "collapsed": false
   },
   "outputs": [],
   "source": [
    "# wine.value_counts()"
   ]
  },
  {
   "cell_type": "code",
   "execution_count": null,
   "metadata": {
    "collapsed": false
   },
   "outputs": [],
   "source": [
    "\n"
   ]
  },
  {
   "cell_type": "code",
   "execution_count": null,
   "metadata": {
    "collapsed": true
   },
   "outputs": [],
   "source": []
  },
  {
   "cell_type": "code",
   "execution_count": null,
   "metadata": {
    "collapsed": false
   },
   "outputs": [],
   "source": []
  },
  {
   "cell_type": "code",
   "execution_count": null,
   "metadata": {
    "collapsed": false
   },
   "outputs": [],
   "source": []
  },
  {
   "cell_type": "code",
   "execution_count": 3,
   "metadata": {
    "collapsed": false
   },
   "outputs": [
    {
     "ename": "NameError",
     "evalue": "name 'wine' is not defined",
     "output_type": "error",
     "traceback": [
      "\u001b[0;31m---------------------------------------------------------------------------\u001b[0m",
      "\u001b[0;31mNameError\u001b[0m                                 Traceback (most recent call last)",
      "\u001b[0;32m<ipython-input-3-72a00166e99d>\u001b[0m in \u001b[0;36m<module>\u001b[0;34m()\u001b[0m\n\u001b[1;32m      2\u001b[0m \u001b[0;34m\u001b[0m\u001b[0m\n\u001b[1;32m      3\u001b[0m \u001b[0mwhite_list\u001b[0m \u001b[0;34m=\u001b[0m \u001b[0;34m[\u001b[0m\u001b[0;34m]\u001b[0m\u001b[0;34m\u001b[0m\u001b[0m\n\u001b[0;32m----> 4\u001b[0;31m \u001b[0;32mfor\u001b[0m \u001b[0mi\u001b[0m \u001b[0;32min\u001b[0m \u001b[0mwine\u001b[0m\u001b[0;34m[\u001b[0m\u001b[0;34m'type'\u001b[0m\u001b[0;34m]\u001b[0m\u001b[0;34m:\u001b[0m\u001b[0;34m\u001b[0m\u001b[0m\n\u001b[0m\u001b[1;32m      5\u001b[0m     \u001b[0;32mif\u001b[0m \u001b[0mstr\u001b[0m\u001b[0;34m(\u001b[0m\u001b[0mi\u001b[0m\u001b[0;34m)\u001b[0m \u001b[0;34m==\u001b[0m \u001b[0;34m\"white\"\u001b[0m\u001b[0;34m:\u001b[0m\u001b[0;34m\u001b[0m\u001b[0m\n\u001b[1;32m      6\u001b[0m          \u001b[0mwhite_list\u001b[0m\u001b[0;34m.\u001b[0m\u001b[0mappend\u001b[0m\u001b[0;34m(\u001b[0m\u001b[0;36m1\u001b[0m\u001b[0;34m)\u001b[0m\u001b[0;34m\u001b[0m\u001b[0m\n",
      "\u001b[0;31mNameError\u001b[0m: name 'wine' is not defined"
     ]
    }
   ],
   "source": [
    "from sklearn.cross_validation import train_test_split\n",
    "\n",
    "white_list = []\n",
    "for i in wine['type']:\n",
    "    if str(i) == \"white\":\n",
    "         white_list.append(1)\n",
    "    if str(i) == \"red\":\n",
    "        white_list.append(0)\n",
    "white_series = pd.Series(white_list)\n",
    "wine['white_binary'] = white_series\n",
    "\n",
    "wine = wine.drop('type', 1)\n",
    "df_X = pd.DataFrame(wine, columns=wine.columns)\n",
    "df_X = df_X.drop('quality', 1)\n",
    "df_y = wine[\"quality\"]\n",
    "\n",
    "X_train, X_test, y_train, y_test = train_test_split(df_X,df_y, test_size=.4)\n",
    "\n",
    "\n",
    "print \"       X Shape  Y Shape\"\n",
    "print \"Train\", X_train.shape, y_train.shape\n",
    "print \"Test \", X_test.shape, y_test.shape\n",
    "\n",
    "\n",
    "\n",
    "# X = df_X.loc[:, :]\n",
    "# y = df_Y"
   ]
  },
  {
   "cell_type": "code",
   "execution_count": null,
   "metadata": {
    "collapsed": false
   },
   "outputs": [],
   "source": []
  },
  {
   "cell_type": "code",
   "execution_count": null,
   "metadata": {
    "collapsed": false
   },
   "outputs": [],
   "source": [
    "rcv = linear_model.RidgeCV(alphas=\n",
    "                           (.001, .001, .01, .1, .5, 1, 5, 10),\n",
    "                           store_cv_values=True)\n",
    "rcv_model = rcv.fit(X_train, y_train)\n",
    "y_predicted = rcv_model.predict(X_test)\n",
    "rcv_r2 =  r2_score(y_true=y_test, y_pred=y_predicted)\n",
    "rcv_r2\n",
    "\n",
    "plt.scatter(y_test, y_predicted) #compare the hold-out observed y values to the predictions (made with model from test data)\n",
    "plt.xlabel(\"True Values\")\n",
    "plt.ylabel(\"Predictions\")\n",
    "\n",
    "print \"Score:\", rcv_model.score(X_test, y_test)\n"
   ]
  },
  {
   "cell_type": "code",
   "execution_count": null,
   "metadata": {
    "collapsed": false
   },
   "outputs": [],
   "source": [
    "rcv_model.alpha_ #this returns optimal alpha for dataset"
   ]
  },
  {
   "cell_type": "code",
   "execution_count": null,
   "metadata": {
    "collapsed": false
   },
   "outputs": [],
   "source": [
    "abs(rcv_model.coef_).mean()"
   ]
  },
  {
   "cell_type": "code",
   "execution_count": null,
   "metadata": {
    "collapsed": false
   },
   "outputs": [],
   "source": [
    "rcv_model.cv_values_.mean()"
   ]
  },
  {
   "cell_type": "code",
   "execution_count": null,
   "metadata": {
    "collapsed": false
   },
   "outputs": [],
   "source": [
    "cvp_rcv_preds = cross_val_predict(rcv_model, df_X, df_y, cv=10)\n",
    "cvp_rcv_preds.mean()"
   ]
  },
  {
   "cell_type": "code",
   "execution_count": null,
   "metadata": {
    "collapsed": false
   },
   "outputs": [],
   "source": [
    "lcv = linear_model.LassoCV()\n",
    "lcv_model = lcv.fit(X_train, y_train)\n",
    "y_lasso_predicted = lcv_model.predict(X_test)\n",
    "lcv_r2 =  r2_score(y_true=y_test, y_pred=y_predicted)\n",
    "lcv_r2\n",
    "\n",
    "plt.scatter(y_test, y_lasso_predicted) #compare the hold-out observed y values to the predictions (made with model from test data)\n",
    "plt.xlabel(\"True Values\")\n",
    "plt.ylabel(\"Lasso Predictions\")\n",
    "\n",
    "print \"Score:\", lcv_model.score(X_test, y_test)\n"
   ]
  },
  {
   "cell_type": "code",
   "execution_count": null,
   "metadata": {
    "collapsed": false
   },
   "outputs": [],
   "source": [
    "print(lcv_model.alpha_, #this returns optimal alpha for dataset\n",
    "abs(lcv_model.coef_))"
   ]
  },
  {
   "cell_type": "code",
   "execution_count": null,
   "metadata": {
    "collapsed": false
   },
   "outputs": [],
   "source": [
    "print(lcv_model.coef_, wine.head())"
   ]
  },
  {
   "cell_type": "code",
   "execution_count": null,
   "metadata": {
    "collapsed": false
   },
   "outputs": [],
   "source": [
    "wine.head()"
   ]
  },
  {
   "cell_type": "code",
   "execution_count": null,
   "metadata": {
    "collapsed": false
   },
   "outputs": [],
   "source": [
    "\n",
    "# mod_df_X = df_X\n",
    "\n",
    "\n",
    "# mod_df_X = mod_df_X.drop('volatile acidity', 1)\n",
    "# mod_df_X = mod_df_X.drop('citric acid', 1)\n",
    "# mod_df_X = mod_df_X.drop('residual sugar', 1)\n",
    "# mod_df_X = mod_df_X.drop('free sulfur dioxide', 1)\n",
    "# mod_df_X = mod_df_X.drop('sulphates', 1)\n",
    "# mod_df_X = mod_df_X.drop('alcohol', 1)\n",
    "# mod_df_X = mod_df_X.drop('white_binary', 1)\n",
    "\n",
    "\n",
    "# mod_df_y = df_y\n",
    "\n",
    "# X_train2, X_test2, y_train2, y_test2 = train_test_split(mod_df_X,mod_df_y, test_size=.4)\n",
    "\n",
    "\n",
    "# lm = linear_model.LinearRegression()\n",
    "# lm_model = lcv.fit(X_train2, y_train2)\n",
    "# y_mod_predicted2 = lm_model.predict(X_test2)\n",
    "# lm_r2_other =  r2_score(y_true=y_test2, y_pred=y_mod_predicted)\n",
    "# lm_r2"
   ]
  },
  {
   "cell_type": "code",
   "execution_count": null,
   "metadata": {
    "collapsed": true
   },
   "outputs": [],
   "source": [
    "mod1_df_X = df_X\n",
    "original_cols = mod1_df_X.columns\n"
   ]
  },
  {
   "cell_type": "code",
   "execution_count": null,
   "metadata": {
    "collapsed": false
   },
   "outputs": [],
   "source": [
    "\n",
    "\n",
    "\n",
    "mod1_df_X = mod1_df_X.drop('Unnamed: 0', 1) #0.016\n",
    "mod1_df_X = mod1_df_X.drop('fixed acidity', 1) #0.016\n",
    "mod1_df_X = mod1_df_X.drop('volatile acidity', 1) #0.010942553036192071\n",
    "mod1_df_X = mod1_df_X.drop('citric acid', 1) #0.00040354091383287827\n",
    "mod1_df_X = mod1_df_X.drop('chlorides', 1) #0.015463068699226645\n",
    "mod1_df_X = mod1_df_X.drop('density', 1) #0.012960654108241321\n",
    "mod1_df_X = mod1_df_X.drop('pH', 1) #0.016015850592016045\n",
    "mod1_df_X = mod1_df_X.drop('sulphates', 1) # 0.0093347231927186636\n",
    "mod1_df_X = mod1_df_X.drop('white_binary', 1) # 0.0093347231927186636\n",
    "\n",
    "# with all: \n",
    "mod1_df_y = df_y\n",
    "\n",
    "X_train1, X_test1, y_train1, y_test1 = train_test_split(mod1_df_X,mod1_df_y, test_size=.4)\n",
    "\n",
    "\n",
    "lm = linear_model.LinearRegression()\n",
    "lm_model1 = lm.fit(X_train1, y_train1)\n",
    "y_mod1_predicted = lm_model1.predict(X_test1)\n",
    "lm_r2 = r2_score(y_true=y_test1, y_pred=y_mod1_predicted)\n",
    "heads = mod1_df_X.columns\n",
    "coefs = zip(lm_model1.coef_, heads)\n",
    "print(lm_r2)\n",
    "\n",
    "\n"
   ]
  },
  {
   "cell_type": "code",
   "execution_count": null,
   "metadata": {
    "collapsed": false
   },
   "outputs": [],
   "source": [
    "new_cols = mod1_df_X.columns\n",
    "cols_coefs = zip(lm_model1.coef_, new_cols)\n",
    "\n",
    "\n"
   ]
  },
  {
   "cell_type": "code",
   "execution_count": null,
   "metadata": {
    "collapsed": false
   },
   "outputs": [],
   "source": [
    "final_preds = cross_val_predict(lm_model1, mod1_df_X, mod1_df_y, cv=10)\n",
    "final_preds.mean()\n",
    "#with lcv 0.217220524181"
   ]
  },
  {
   "cell_type": "code",
   "execution_count": null,
   "metadata": {
    "collapsed": true
   },
   "outputs": [],
   "source": [
    "# Perform 6-fold cross validation\n"
   ]
  },
  {
   "cell_type": "code",
   "execution_count": null,
   "metadata": {
    "collapsed": false
   },
   "outputs": [],
   "source": [
    "wine_test = pd.read_csv('/Users/HudsonCavanagh/dsi-projects/DSI-NYC-1/curriculum/week-03/4.1-regression-challenge/blinded_test.csv')\n",
    "# wine_test\n",
    "\n",
    "wine_test = wine_test.drop('Unnamed: 0', 1) #0.016\n",
    "wine_test = wine_test.drop('fixed acidity', 1) #0.016\n",
    "wine_test = wine_test.drop('volatile acidity', 1) #0.010942553036192071\n",
    "wine_test = wine_test.drop('citric acid', 1) #0.00040354091383287827\n",
    "wine_test = wine_test.drop('chlorides', 1) #0.015463068699226645\n",
    "wine_test = wine_test.drop('density', 1) #0.012960654108241321\n",
    "wine_test = wine_test.drop('pH', 1) #0.016015850592016045\n",
    "wine_test = wine_test.drop('sulphates', 1) # 0.0093347231927186636\n",
    "wine_test = wine_test.drop('type', 1) # 0.0093347231927186636\n",
    "\n",
    "\n",
    "# X_train, X_test, y_train, y_test = train_test_split(df_X,df_y, test_size=.4)"
   ]
  },
  {
   "cell_type": "code",
   "execution_count": null,
   "metadata": {
    "collapsed": false
   },
   "outputs": [],
   "source": [
    "dfX = pd.DataFrame(wine_test, columns=wine_test.columns)\n",
    "dy = y_test1\n",
    "dy"
   ]
  },
  {
   "cell_type": "code",
   "execution_count": null,
   "metadata": {
    "collapsed": false
   },
   "outputs": [],
   "source": [
    "final_preds = cross_val_predict(lm_model1, dfX, cv=10)"
   ]
  },
  {
   "cell_type": "code",
   "execution_count": null,
   "metadata": {
    "collapsed": false
   },
   "outputs": [],
   "source": [
    "# scores = cross_val_score(lm_model1, dfX, mod1_df_y, cv=10)\n",
    "# print \"Cross-validated scores mean:\", scores.mean()\n",
    "\n",
    "# Make cross validated predictions\n",
    "final_preds = cross_val_predict(lm_model1, dfX, cv=10)\n",
    "#Downside to increasing folds: \n",
    "plt.scatter(mod1_df_y, final_preds)\n",
    "r2_final = r2_score(mod1_df_y, final_preds)\n",
    "mse_final = sklearn.metrics.mean_squared_error(mod1_df_y, final_preds)\n",
    "print(\"Cross-Predicted R^2:\", r2_final, \"Mean squared error:\", mse_final)"
   ]
  },
  {
   "cell_type": "code",
   "execution_count": null,
   "metadata": {
    "collapsed": false
   },
   "outputs": [],
   "source": [
    "dfX.shape"
   ]
  },
  {
   "cell_type": "code",
   "execution_count": null,
   "metadata": {
    "collapsed": true
   },
   "outputs": [],
   "source": [
    "save_to_csv(final_preds)"
   ]
  }
 ],
 "metadata": {
  "kernelspec": {
   "display_name": "Python 2",
   "language": "python",
   "name": "python2"
  },
  "language_info": {
   "codemirror_mode": {
    "name": "ipython",
    "version": 2
   },
   "file_extension": ".py",
   "mimetype": "text/x-python",
   "name": "python",
   "nbconvert_exporter": "python",
   "pygments_lexer": "ipython2",
   "version": "2.7.11"
  }
 },
 "nbformat": 4,
 "nbformat_minor": 0
}
