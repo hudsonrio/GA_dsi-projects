{
 "cells": [
  {
   "cell_type": "code",
   "execution_count": 1,
   "metadata": {
    "collapsed": false
   },
   "outputs": [
    {
     "data": {
      "text/plain": [
       "'/Users/HudsonCavanagh/dsi-projects/week03'"
      ]
     },
     "execution_count": 1,
     "metadata": {},
     "output_type": "execute_result"
    }
   ],
   "source": [
    "import pandas as pd\n",
    "import numpy as np\n",
    "import sklearn\n",
    "from sklearn import datasets\n",
    "from sklearn import linear_model\n",
    "import os\n",
    "\n",
    "from sklearn.cross_validation import cross_val_score\n",
    "from sklearn.cross_validation import cross_val_predict\n",
    "from sklearn.metrics import r2_score\n",
    "\n",
    "from IPython.core.display import Image, HTML\n",
    "\n",
    "import matplotlib.pyplot as plt\n",
    "%matplotlib inline\n",
    "\n",
    "os.getcwd()"
   ]
  },
  {
   "cell_type": "code",
   "execution_count": 2,
   "metadata": {
    "collapsed": false
   },
   "outputs": [
    {
     "data": {
      "text/plain": [
       "Index([u'Unnamed: 0', u'fixed acidity', u'volatile acidity', u'citric acid',\n",
       "       u'residual sugar', u'chlorides', u'free sulfur dioxide',\n",
       "       u'total sulfur dioxide', u'density', u'pH', u'sulphates', u'alcohol',\n",
       "       u'quality', u'type'],\n",
       "      dtype='object')"
      ]
     },
     "execution_count": 2,
     "metadata": {},
     "output_type": "execute_result"
    }
   ],
   "source": [
    "wine = pd.read_csv('/Users/HudsonCavanagh/dsi-projects/DSI-NYC-1/curriculum/week-03/4.1-regression-challenge/class_wine_data.csv')\n",
    "\n",
    "wine_list = wine.columns\n",
    "wine_list"
   ]
  },
  {
   "cell_type": "code",
   "execution_count": 3,
   "metadata": {
    "collapsed": false
   },
   "outputs": [],
   "source": [
    "# wine.value_counts()"
   ]
  },
  {
   "cell_type": "code",
   "execution_count": null,
   "metadata": {
    "collapsed": false
   },
   "outputs": [],
   "source": [
    "\n"
   ]
  },
  {
   "cell_type": "code",
   "execution_count": null,
   "metadata": {
    "collapsed": true
   },
   "outputs": [],
   "source": []
  },
  {
   "cell_type": "code",
   "execution_count": null,
   "metadata": {
    "collapsed": false
   },
   "outputs": [],
   "source": []
  },
  {
   "cell_type": "code",
   "execution_count": null,
   "metadata": {
    "collapsed": false
   },
   "outputs": [],
   "source": []
  },
  {
   "cell_type": "code",
   "execution_count": 4,
   "metadata": {
    "collapsed": false
   },
   "outputs": [
    {
     "name": "stdout",
     "output_type": "stream",
     "text": [
      "       X Shape  Y Shape\n",
      "Train (2896, 13) (2896,)\n",
      "Test  (1931, 13) (1931,)\n"
     ]
    }
   ],
   "source": [
    "from sklearn.cross_validation import train_test_split\n",
    "\n",
    "white_list = []\n",
    "for i in wine['type']:\n",
    "    if str(i) == \"white\":\n",
    "         white_list.append(1)\n",
    "    if str(i) == \"red\":\n",
    "        white_list.append(0)\n",
    "white_series = pd.Series(white_list)\n",
    "wine['white_binary'] = white_series\n",
    "\n",
    "wine = wine.drop('type', 1)\n",
    "df_X = pd.DataFrame(wine, columns=wine.columns)\n",
    "df_X = df_X.drop('quality', 1)\n",
    "df_y = wine[\"quality\"]\n",
    "\n",
    "X_train, X_test, y_train, y_test = train_test_split(df_X,df_y, test_size=.4)\n",
    "\n",
    "\n",
    "print \"       X Shape  Y Shape\"\n",
    "print \"Train\", X_train.shape, y_train.shape\n",
    "print \"Test \", X_test.shape, y_test.shape\n",
    "\n",
    "\n",
    "\n",
    "# X = df_X.loc[:, :]\n",
    "# y = df_Y"
   ]
  },
  {
   "cell_type": "code",
   "execution_count": null,
   "metadata": {
    "collapsed": false
   },
   "outputs": [],
   "source": []
  },
  {
   "cell_type": "code",
   "execution_count": 5,
   "metadata": {
    "collapsed": false
   },
   "outputs": [
    {
     "name": "stdout",
     "output_type": "stream",
     "text": [
      "Score: 0.284632225626\n"
     ]
    },
    {
     "data": {
      "image/png": "[encoded data removed]",
      "text/plain": [
       "<matplotlib.figure.Figure at 0x104953290>"
      ]
     },
     "metadata": {},
     "output_type": "display_data"
    }
   ],
   "source": [
    "rcv = linear_model.RidgeCV(alphas=\n",
    "                           (.001, .001, .01, .1, .5, 1, 5, 10),\n",
    "                           store_cv_values=True)\n",
    "rcv_model = rcv.fit(X_train, y_train)\n",
    "y_predicted = rcv_model.predict(X_test)\n",
    "rcv_r2 =  r2_score(y_true=y_test, y_pred=y_predicted)\n",
    "rcv_r2\n",
    "\n",
    "plt.scatter(y_test, y_predicted) #compare the hold-out observed y values to the predictions (made with model from test data)\n",
    "plt.xlabel(\"True Values\")\n",
    "plt.ylabel(\"Predictions\")\n",
    "\n",
    "print \"Score:\", rcv_model.score(X_test, y_test)\n"
   ]
  },
  {
   "cell_type": "code",
   "execution_count": 6,
   "metadata": {
    "collapsed": false
   },
   "outputs": [
    {
     "data": {
      "text/plain": [
       "0.001"
      ]
     },
     "execution_count": 6,
     "metadata": {},
     "output_type": "execute_result"
    }
   ],
   "source": [
    "rcv_model.alpha_ #this returns optimal alpha for dataset"
   ]
  },
  {
   "cell_type": "code",
   "execution_count": 7,
   "metadata": {
    "collapsed": false
   },
   "outputs": [
    {
     "data": {
      "text/plain": [
       "4.2125295414309969"
      ]
     },
     "execution_count": 7,
     "metadata": {},
     "output_type": "execute_result"
    }
   ],
   "source": [
    "abs(rcv_model.coef_).mean()"
   ]
  },
  {
   "cell_type": "code",
   "execution_count": 8,
   "metadata": {
    "collapsed": false
   },
   "outputs": [
    {
     "data": {
      "text/plain": [
       "0.55532739716932755"
      ]
     },
     "execution_count": 8,
     "metadata": {},
     "output_type": "execute_result"
    }
   ],
   "source": [
    "rcv_model.cv_values_.mean()"
   ]
  },
  {
   "cell_type": "code",
   "execution_count": 9,
   "metadata": {
    "collapsed": false
   },
   "outputs": [
    {
     "data": {
      "text/plain": [
       "5.8234193860325005"
      ]
     },
     "execution_count": 9,
     "metadata": {},
     "output_type": "execute_result"
    }
   ],
   "source": [
    "cvp_rcv_preds = cross_val_predict(rcv_model, df_X, df_y, cv=10)\n",
    "cvp_rcv_preds.mean()"
   ]
  },
  {
   "cell_type": "code",
   "execution_count": 10,
   "metadata": {
    "collapsed": false
   },
   "outputs": [
    {
     "name": "stdout",
     "output_type": "stream",
     "text": [
      "Score: 0.224467663162\n"
     ]
    },
    {
     "data": {
      "image/png": "[encoded data removed]",
      "text/plain": [
       "<matplotlib.figure.Figure at 0x1162bbcd0>"
      ]
     },
     "metadata": {},
     "output_type": "display_data"
    }
   ],
   "source": [
    "lcv = linear_model.LassoCV()\n",
    "lcv_model = lcv.fit(X_train, y_train)\n",
    "y_lasso_predicted = lcv_model.predict(X_test)\n",
    "lcv_r2 =  r2_score(y_true=y_test, y_pred=y_predicted)\n",
    "lcv_r2\n",
    "\n",
    "plt.scatter(y_test, y_lasso_predicted) #compare the hold-out observed y values to the predictions (made with model from test data)\n",
    "plt.xlabel(\"True Values\")\n",
    "plt.ylabel(\"Lasso Predictions\")\n",
    "\n",
    "print \"Score:\", lcv_model.score(X_test, y_test)\n"
   ]
  },
  {
   "cell_type": "code",
   "execution_count": 11,
   "metadata": {
    "collapsed": false
   },
   "outputs": [
    {
     "name": "stdout",
     "output_type": "stream",
     "text": [
      "(0.08491490835139337, array([  8.51341806e-05,   0.00000000e+00,   0.00000000e+00,\n",
      "         0.00000000e+00,   1.24599511e-02,   0.00000000e+00,\n",
      "         7.81679908e-03,   2.39273014e-03,   0.00000000e+00,\n",
      "         0.00000000e+00,   0.00000000e+00,   2.75852022e-01,\n",
      "         0.00000000e+00]))\n"
     ]
    }
   ],
   "source": [
    "print(lcv_model.alpha_, #this returns optimal alpha for dataset\n",
    "abs(lcv_model.coef_))"
   ]
  },
  {
   "cell_type": "code",
   "execution_count": 12,
   "metadata": {
    "collapsed": false
   },
   "outputs": [
    {
     "name": "stdout",
     "output_type": "stream",
     "text": [
      "(array([ -8.51341806e-05,   0.00000000e+00,  -0.00000000e+00,\n",
      "         0.00000000e+00,   1.24599511e-02,  -0.00000000e+00,\n",
      "         7.81679908e-03,  -2.39273014e-03,  -0.00000000e+00,\n",
      "        -0.00000000e+00,   0.00000000e+00,   2.75852022e-01,\n",
      "         0.00000000e+00]),    Unnamed: 0  fixed acidity  volatile acidity  citric acid  residual sugar  \\\n",
      "0           0            6.3              0.30         0.34             1.6   \n",
      "1           1            7.2              0.23         0.32             8.5   \n",
      "2           2            7.2              0.23         0.32             8.5   \n",
      "3           3            8.1              0.28         0.40             6.9   \n",
      "4           4            6.2              0.32         0.16             7.0   \n",
      "\n",
      "   chlorides  free sulfur dioxide  total sulfur dioxide  density    pH  \\\n",
      "0      0.049                   14                   132   0.9940  3.30   \n",
      "1      0.058                   47                   186   0.9956  3.19   \n",
      "2      0.058                   47                   186   0.9956  3.19   \n",
      "3      0.050                   30                    97   0.9951  3.26   \n",
      "4      0.045                   30                   136   0.9949  3.18   \n",
      "\n",
      "   sulphates  alcohol  quality  white_binary  \n",
      "0       0.49      9.5        6             1  \n",
      "1       0.40      9.9        6             1  \n",
      "2       0.40      9.9        6             1  \n",
      "3       0.44     10.1        6             1  \n",
      "4       0.47      9.6        6             1  )\n"
     ]
    }
   ],
   "source": [
    "print(lcv_model.coef_, wine.head())"
   ]
  },
  {
   "cell_type": "code",
   "execution_count": 13,
   "metadata": {
    "collapsed": false
   },
   "outputs": [
    {
     "data": {
      "text/html": [
       "<div>\n",
       "<table border=\"1\" class=\"dataframe\">\n",
       "  <thead>\n",
       "    <tr style=\"text-align: right;\">\n",
       "      <th></th>\n",
       "      <th>Unnamed: 0</th>\n",
       "      <th>fixed acidity</th>\n",
       "      <th>volatile acidity</th>\n",
       "      <th>citric acid</th>\n",
       "      <th>residual sugar</th>\n",
       "      <th>chlorides</th>\n",
       "      <th>free sulfur dioxide</th>\n",
       "      <th>total sulfur dioxide</th>\n",
       "      <th>density</th>\n",
       "      <th>pH</th>\n",
       "      <th>sulphates</th>\n",
       "      <th>alcohol</th>\n",
       "      <th>quality</th>\n",
       "      <th>white_binary</th>\n",
       "    </tr>\n",
       "  </thead>\n",
       "  <tbody>\n",
       "    <tr>\n",
       "      <th>0</th>\n",
       "      <td>0</td>\n",
       "      <td>6.3</td>\n",
       "      <td>0.30</td>\n",
       "      <td>0.34</td>\n",
       "      <td>1.6</td>\n",
       "      <td>0.049</td>\n",
       "      <td>14</td>\n",
       "      <td>132</td>\n",
       "      <td>0.9940</td>\n",
       "      <td>3.30</td>\n",
       "      <td>0.49</td>\n",
       "      <td>9.5</td>\n",
       "      <td>6</td>\n",
       "      <td>1</td>\n",
       "    </tr>\n",
       "    <tr>\n",
       "      <th>1</th>\n",
       "      <td>1</td>\n",
       "      <td>7.2</td>\n",
       "      <td>0.23</td>\n",
       "      <td>0.32</td>\n",
       "      <td>8.5</td>\n",
       "      <td>0.058</td>\n",
       "      <td>47</td>\n",
       "      <td>186</td>\n",
       "      <td>0.9956</td>\n",
       "      <td>3.19</td>\n",
       "      <td>0.40</td>\n",
       "      <td>9.9</td>\n",
       "      <td>6</td>\n",
       "      <td>1</td>\n",
       "    </tr>\n",
       "    <tr>\n",
       "      <th>2</th>\n",
       "      <td>2</td>\n",
       "      <td>7.2</td>\n",
       "      <td>0.23</td>\n",
       "      <td>0.32</td>\n",
       "      <td>8.5</td>\n",
       "      <td>0.058</td>\n",
       "      <td>47</td>\n",
       "      <td>186</td>\n",
       "      <td>0.9956</td>\n",
       "      <td>3.19</td>\n",
       "      <td>0.40</td>\n",
       "      <td>9.9</td>\n",
       "      <td>6</td>\n",
       "      <td>1</td>\n",
       "    </tr>\n",
       "    <tr>\n",
       "      <th>3</th>\n",
       "      <td>3</td>\n",
       "      <td>8.1</td>\n",
       "      <td>0.28</td>\n",
       "      <td>0.40</td>\n",
       "      <td>6.9</td>\n",
       "      <td>0.050</td>\n",
       "      <td>30</td>\n",
       "      <td>97</td>\n",
       "      <td>0.9951</td>\n",
       "      <td>3.26</td>\n",
       "      <td>0.44</td>\n",
       "      <td>10.1</td>\n",
       "      <td>6</td>\n",
       "      <td>1</td>\n",
       "    </tr>\n",
       "    <tr>\n",
       "      <th>4</th>\n",
       "      <td>4</td>\n",
       "      <td>6.2</td>\n",
       "      <td>0.32</td>\n",
       "      <td>0.16</td>\n",
       "      <td>7.0</td>\n",
       "      <td>0.045</td>\n",
       "      <td>30</td>\n",
       "      <td>136</td>\n",
       "      <td>0.9949</td>\n",
       "      <td>3.18</td>\n",
       "      <td>0.47</td>\n",
       "      <td>9.6</td>\n",
       "      <td>6</td>\n",
       "      <td>1</td>\n",
       "    </tr>\n",
       "  </tbody>\n",
       "</table>\n",
       "</div>"
      ],
      "text/plain": [
       "   Unnamed: 0  fixed acidity  volatile acidity  citric acid  residual sugar  \\\n",
       "0           0            6.3              0.30         0.34             1.6   \n",
       "1           1            7.2              0.23         0.32             8.5   \n",
       "2           2            7.2              0.23         0.32             8.5   \n",
       "3           3            8.1              0.28         0.40             6.9   \n",
       "4           4            6.2              0.32         0.16             7.0   \n",
       "\n",
       "   chlorides  free sulfur dioxide  total sulfur dioxide  density    pH  \\\n",
       "0      0.049                   14                   132   0.9940  3.30   \n",
       "1      0.058                   47                   186   0.9956  3.19   \n",
       "2      0.058                   47                   186   0.9956  3.19   \n",
       "3      0.050                   30                    97   0.9951  3.26   \n",
       "4      0.045                   30                   136   0.9949  3.18   \n",
       "\n",
       "   sulphates  alcohol  quality  white_binary  \n",
       "0       0.49      9.5        6             1  \n",
       "1       0.40      9.9        6             1  \n",
       "2       0.40      9.9        6             1  \n",
       "3       0.44     10.1        6             1  \n",
       "4       0.47      9.6        6             1  "
      ]
     },
     "execution_count": 13,
     "metadata": {},
     "output_type": "execute_result"
    }
   ],
   "source": [
    "wine.head()"
   ]
  },
  {
   "cell_type": "code",
   "execution_count": 14,
   "metadata": {
    "collapsed": false
   },
   "outputs": [],
   "source": [
    "\n",
    "# mod_df_X = df_X\n",
    "\n",
    "\n",
    "# mod_df_X = mod_df_X.drop('volatile acidity', 1)\n",
    "# mod_df_X = mod_df_X.drop('citric acid', 1)\n",
    "# mod_df_X = mod_df_X.drop('residual sugar', 1)\n",
    "# mod_df_X = mod_df_X.drop('free sulfur dioxide', 1)\n",
    "# mod_df_X = mod_df_X.drop('sulphates', 1)\n",
    "# mod_df_X = mod_df_X.drop('alcohol', 1)\n",
    "# mod_df_X = mod_df_X.drop('white_binary', 1)\n",
    "\n",
    "\n",
    "# mod_df_y = df_y\n",
    "\n",
    "# X_train2, X_test2, y_train2, y_test2 = train_test_split(mod_df_X,mod_df_y, test_size=.4)\n",
    "\n",
    "\n",
    "# lm = linear_model.LinearRegression()\n",
    "# lm_model = lcv.fit(X_train2, y_train2)\n",
    "# y_mod_predicted2 = lm_model.predict(X_test2)\n",
    "# lm_r2_other =  r2_score(y_true=y_test2, y_pred=y_mod_predicted)\n",
    "# lm_r2"
   ]
  },
  {
   "cell_type": "code",
   "execution_count": 15,
   "metadata": {
    "collapsed": true
   },
   "outputs": [],
   "source": [
    "mod1_df_X = df_X\n",
    "original_cols = mod1_df_X.columns\n"
   ]
  },
  {
   "cell_type": "code",
   "execution_count": 16,
   "metadata": {
    "collapsed": false
   },
   "outputs": [
    {
     "name": "stdout",
     "output_type": "stream",
     "text": [
      "0.236123684841\n"
     ]
    }
   ],
   "source": [
    "\n",
    "\n",
    "\n",
    "mod1_df_X = mod1_df_X.drop('Unnamed: 0', 1) #0.016\n",
    "mod1_df_X = mod1_df_X.drop('fixed acidity', 1) #0.016\n",
    "mod1_df_X = mod1_df_X.drop('volatile acidity', 1) #0.010942553036192071\n",
    "mod1_df_X = mod1_df_X.drop('citric acid', 1) #0.00040354091383287827\n",
    "mod1_df_X = mod1_df_X.drop('chlorides', 1) #0.015463068699226645\n",
    "mod1_df_X = mod1_df_X.drop('density', 1) #0.012960654108241321\n",
    "mod1_df_X = mod1_df_X.drop('pH', 1) #0.016015850592016045\n",
    "mod1_df_X = mod1_df_X.drop('sulphates', 1) # 0.0093347231927186636\n",
    "mod1_df_X = mod1_df_X.drop('white_binary', 1) # 0.0093347231927186636\n",
    "\n",
    "# with all: \n",
    "mod1_df_y = df_y\n",
    "\n",
    "X_train1, X_test1, y_train1, y_test1 = train_test_split(mod1_df_X,mod1_df_y, test_size=.4)\n",
    "\n",
    "\n",
    "lm = linear_model.LinearRegression()\n",
    "lm_model1 = lm.fit(X_train1, y_train1)\n",
    "y_mod1_predicted = lm_model1.predict(X_test1)\n",
    "lm_r2 = r2_score(y_true=y_test1, y_pred=y_mod1_predicted)\n",
    "heads = mod1_df_X.columns\n",
    "coefs = zip(lm_model1.coef_, heads)\n",
    "print(lm_r2)\n",
    "\n",
    "\n"
   ]
  },
  {
   "cell_type": "code",
   "execution_count": 17,
   "metadata": {
    "collapsed": false
   },
   "outputs": [
    {
     "name": "stdout",
     "output_type": "stream",
     "text": [
      "[(0.01917712947514703, 'residual sugar'), (0.007070251078977071, 'free sulfur dioxide'), (-0.00099730145497034365, 'total sulfur dioxide'), (0.34503963604861082, 'alcohol')]\n"
     ]
    }
   ],
   "source": [
    "new_cols = mod1_df_X.columns\n",
    "zipped = zip(lm_model1.coef_, new_cols)\n",
    "print(zipped)\n",
    "\n"
   ]
  },
  {
   "cell_type": "code",
   "execution_count": 18,
   "metadata": {
    "collapsed": false
   },
   "outputs": [
    {
     "data": {
      "text/plain": [
       "5.824690209399277"
      ]
     },
     "execution_count": 18,
     "metadata": {},
     "output_type": "execute_result"
    }
   ],
   "source": [
    "final_preds = cross_val_predict(lm_model1, mod1_df_X, mod1_df_y, cv=10)\n",
    "final_preds.mean()\n",
    "#with lcv 0.217220524181"
   ]
  },
  {
   "cell_type": "code",
   "execution_count": 19,
   "metadata": {
    "collapsed": true
   },
   "outputs": [],
   "source": [
    "# Perform 6-fold cross validation\n"
   ]
  },
  {
   "cell_type": "code",
   "execution_count": 20,
   "metadata": {
    "collapsed": false
   },
   "outputs": [],
   "source": [
    "wine_test = pd.read_csv('/Users/HudsonCavanagh/dsi-projects/DSI-NYC-1/curriculum/week-03/4.1-regression-challenge/blinded_test.csv')\n",
    "# wine_test\n",
    "\n",
    "wine_test = wine_test.drop('Unnamed: 0', 1) #0.016\n",
    "wine_test = wine_test.drop('fixed acidity', 1) #0.016\n",
    "wine_test = wine_test.drop('volatile acidity', 1) #0.010942553036192071\n",
    "wine_test = wine_test.drop('citric acid', 1) #0.00040354091383287827\n",
    "wine_test = wine_test.drop('chlorides', 1) #0.015463068699226645\n",
    "wine_test = wine_test.drop('density', 1) #0.012960654108241321\n",
    "wine_test = wine_test.drop('pH', 1) #0.016015850592016045\n",
    "wine_test = wine_test.drop('sulphates', 1) # 0.0093347231927186636\n",
    "wine_test = wine_test.drop('type', 1) # 0.0093347231927186636\n",
    "\n",
    "\n",
    "# X_train, X_test, y_train, y_test = train_test_split(df_X,df_y, test_size=.4)"
   ]
  },
  {
   "cell_type": "code",
   "execution_count": 25,
   "metadata": {
    "collapsed": false
   },
   "outputs": [
    {
     "data": {
      "text/plain": [
       "1148    6\n",
       "1718    5\n",
       "1877    5\n",
       "1844    6\n",
       "2306    6\n",
       "528     6\n",
       "2830    5\n",
       "3698    4\n",
       "2194    6\n",
       "4030    7\n",
       "1974    5\n",
       "190     6\n",
       "2369    7\n",
       "2774    6\n",
       "1639    5\n",
       "3019    7\n",
       "744     5\n",
       "4149    5\n",
       "4304    6\n",
       "472     4\n",
       "2129    7\n",
       "2271    8\n",
       "92      6\n",
       "3521    6\n",
       "4221    6\n",
       "3876    7\n",
       "4748    6\n",
       "2406    6\n",
       "3582    6\n",
       "2858    6\n",
       "       ..\n",
       "1453    6\n",
       "231     5\n",
       "924     5\n",
       "1979    6\n",
       "3529    6\n",
       "734     6\n",
       "956     7\n",
       "2399    7\n",
       "3491    6\n",
       "3335    6\n",
       "1950    7\n",
       "1465    8\n",
       "208     5\n",
       "4791    6\n",
       "2254    6\n",
       "1348    7\n",
       "3831    6\n",
       "324     6\n",
       "1040    7\n",
       "2670    6\n",
       "3722    5\n",
       "3205    7\n",
       "1440    4\n",
       "2744    7\n",
       "2274    4\n",
       "1973    6\n",
       "2791    6\n",
       "1138    6\n",
       "2888    6\n",
       "2613    6\n",
       "Name: quality, dtype: int64"
      ]
     },
     "execution_count": 25,
     "metadata": {},
     "output_type": "execute_result"
    }
   ],
   "source": [
    "dfX = pd.DataFrame(wine_test, columns=wine_test.columns)\n",
    "dy = y_test1\n",
    "dy"
   ]
  },
  {
   "cell_type": "code",
   "execution_count": 31,
   "metadata": {
    "collapsed": false
   },
   "outputs": [
    {
     "name": "stdout",
     "output_type": "stream",
     "text": [
      "Cross-validated scores mean: 0.189537102261\n",
      "('Cross-Predicted R^2:', 0.20958050174267073, 'Mean squared error:', 0.60296917901871194)\n"
     ]
    },
    {
     "data": {
      "image/png": "[encoded data removed]",
      "text/plain": [
       "<matplotlib.figure.Figure at 0x1043ca250>"
      ]
     },
     "metadata": {},
     "output_type": "display_data"
    }
   ],
   "source": [
    "scores = cross_val_score(lm_model1, mod1_df_X, mod1_df_y, cv=10)\n",
    "print \"Cross-validated scores mean:\", scores.mean()\n",
    "\n",
    "# Make cross validated predictions\n",
    "final_preds = cross_val_predict(lm_model1, mod1_df_X, mod1_df_y, cv=10)\n",
    "#Downside to increasing folds: \n",
    "plt.scatter(mod1_df_y, final_preds)\n",
    "r2_final = r2_score(mod1_df_y, final_preds)\n",
    "mse_final = sklearn.metrics.mean_squared_error(mod1_df_y, final_preds)\n",
    "print(\"Cross-Predicted R^2:\", r2_final, \"Mean squared error:\", mse_final)"
   ]
  },
  {
   "cell_type": "code",
   "execution_count": null,
   "metadata": {
    "collapsed": true
   },
   "outputs": [],
   "source": []
  }
 ],
 "metadata": {
  "kernelspec": {
   "display_name": "Python 2",
   "language": "python",
   "name": "python2"
  },
  "language_info": {
   "codemirror_mode": {
    "name": "ipython",
    "version": 2
   },
   "file_extension": ".py",
   "mimetype": "text/x-python",
   "name": "python",
   "nbconvert_exporter": "python",
   "pygments_lexer": "ipython2",
   "version": "2.7.11"
  }
 },
 "nbformat": 4,
 "nbformat_minor": 0
}
