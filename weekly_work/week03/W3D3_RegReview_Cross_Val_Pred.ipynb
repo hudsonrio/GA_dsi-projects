{
 "cells": [
  {
   "cell_type": "code",
   "execution_count": 1,
   "metadata": {
    "collapsed": false,
    "slideshow": {
     "slide_type": "skip"
    }
   },
   "outputs": [],
   "source": [
    "import pandas as pd\n",
    "import numpy as np\n",
    "import sklearn\n",
    "from sklearn import datasets\n",
    "from sklearn import linear_model\n",
    "\n",
    "from sklearn.cross_validation import cross_val_score\n",
    "from sklearn.cross_validation import cross_val_predict\n",
    "from sklearn.metrics import r2_score\n",
    "\n",
    "from IPython.core.display import Image, HTML\n",
    "\n",
    "import matplotlib.pyplot as plt\n",
    "%matplotlib inline\n",
    "\n",
    "PATH = './assets/images/'"
   ]
  },
  {
   "cell_type": "markdown",
   "metadata": {
    "slideshow": {
     "slide_type": "slide"
    }
   },
   "source": [
    "# Regularization Implementation & <br>Cross Validation Strategies In Scikit-Learn"
   ]
  },
  {
   "cell_type": "markdown",
   "metadata": {
    "slideshow": {
     "slide_type": "slide"
    }
   },
   "source": [
    "## In this notebook, we will: \n",
    "1. Load the Boston Housing Data\n",
    "2. Fit a linear regression\n",
    "3. Get the r-squared for the regression\n",
    "4. Examine the mean abs. val of the coefficients\n",
    "5. Perform the the same regression using a lasso (L1) penalized version\n",
    "6. Get the r-squared for the lasso\n",
    "7. Get the mean abs. val of the coefficients\n",
    "8. Use cross_val_score\n",
    "9. Use RidgeCV\n",
    "10. Discuss train_test_split and holdout"
   ]
  },
  {
   "cell_type": "markdown",
   "metadata": {
    "slideshow": {
     "slide_type": "slide"
    }
   },
   "source": [
    "## 1. Load the data"
   ]
  },
  {
   "cell_type": "code",
   "execution_count": 2,
   "metadata": {
    "collapsed": false,
    "hidePrompt": true,
    "slideshow": {
     "slide_type": "-"
    }
   },
   "outputs": [],
   "source": [
    "boston = datasets.load_boston()\n"
   ]
  },
  {
   "cell_type": "code",
   "execution_count": 3,
   "metadata": {
    "collapsed": false,
    "hidePrompt": true,
    "slideshow": {
     "slide_type": "-"
    }
   },
   "outputs": [
    {
     "data": {
      "text/plain": [
       "['data', 'feature_names', 'DESCR', 'target']"
      ]
     },
     "execution_count": 3,
     "metadata": {},
     "output_type": "execute_result"
    }
   ],
   "source": [
    "boston.keys()"
   ]
  },
  {
   "cell_type": "code",
   "execution_count": 4,
   "metadata": {
    "collapsed": false,
    "hidePrompt": true,
    "slideshow": {
     "slide_type": "slide"
    }
   },
   "outputs": [
    {
     "data": {
      "text/plain": [
       "(506, 13)"
      ]
     },
     "execution_count": 4,
     "metadata": {},
     "output_type": "execute_result"
    }
   ],
   "source": [
    "boston.data.shape"
   ]
  },
  {
   "cell_type": "code",
   "execution_count": 5,
   "metadata": {
    "collapsed": false,
    "hidePrompt": true,
    "slideshow": {
     "slide_type": "-"
    }
   },
   "outputs": [
    {
     "data": {
      "text/plain": [
       "array(['CRIM', 'ZN', 'INDUS', 'CHAS', 'NOX', 'RM', 'AGE', 'DIS', 'RAD',\n",
       "       'TAX', 'PTRATIO', 'B', 'LSTAT'], \n",
       "      dtype='|S7')"
      ]
     },
     "execution_count": 5,
     "metadata": {},
     "output_type": "execute_result"
    }
   ],
   "source": [
    "boston.feature_names"
   ]
  },
  {
   "cell_type": "markdown",
   "metadata": {
    "slideshow": {
     "slide_type": "slide"
    }
   },
   "source": [
    "## Load it into a DataFrame"
   ]
  },
  {
   "cell_type": "code",
   "execution_count": 6,
   "metadata": {
    "collapsed": false,
    "hidePrompt": true,
    "slideshow": {
     "slide_type": "-"
    }
   },
   "outputs": [],
   "source": [
    "df_X = pd.DataFrame(boston.data, columns=boston.feature_names)\n",
    "df_Y = boston.target"
   ]
  },
  {
   "cell_type": "markdown",
   "metadata": {
    "slideshow": {
     "slide_type": "slide"
    }
   },
   "source": [
    "## Set X matrix (independent variables) and y (dependent variable)"
   ]
  },
  {
   "cell_type": "code",
   "execution_count": 7,
   "metadata": {
    "collapsed": false,
    "hidePrompt": true,
    "slideshow": {
     "slide_type": "-"
    }
   },
   "outputs": [],
   "source": [
    "X = df_X.loc[:, :]\n",
    "y = df_Y"
   ]
  },
  {
   "cell_type": "code",
   "execution_count": 8,
   "metadata": {
    "collapsed": false,
    "hidePrompt": true,
    "slideshow": {
     "slide_type": "-"
    }
   },
   "outputs": [
    {
     "data": {
      "text/plain": [
       "(506, 13)"
      ]
     },
     "execution_count": 8,
     "metadata": {},
     "output_type": "execute_result"
    }
   ],
   "source": [
    "X.shape"
   ]
  },
  {
   "cell_type": "code",
   "execution_count": 9,
   "metadata": {
    "collapsed": false,
    "hidePrompt": true,
    "slideshow": {
     "slide_type": "-"
    }
   },
   "outputs": [
    {
     "data": {
      "text/plain": [
       "(506,)"
      ]
     },
     "execution_count": 9,
     "metadata": {},
     "output_type": "execute_result"
    }
   ],
   "source": [
    "y.shape"
   ]
  },
  {
   "cell_type": "markdown",
   "metadata": {
    "slideshow": {
     "slide_type": "slide"
    }
   },
   "source": [
    "# 2. Fit a standard linear regression"
   ]
  },
  {
   "cell_type": "code",
   "execution_count": 10,
   "metadata": {
    "collapsed": true,
    "hidePrompt": true,
    "slideshow": {
     "slide_type": "-"
    }
   },
   "outputs": [],
   "source": [
    "lr = linear_model.LinearRegression()"
   ]
  },
  {
   "cell_type": "code",
   "execution_count": 11,
   "metadata": {
    "collapsed": false,
    "hidePrompt": true,
    "slideshow": {
     "slide_type": "-"
    }
   },
   "outputs": [
    {
     "data": {
      "text/plain": [
       "0.7406077428649428"
      ]
     },
     "execution_count": 11,
     "metadata": {},
     "output_type": "execute_result"
    }
   ],
   "source": [
    "lr = linear_model.LinearRegression()\n",
    "lr_model = lr.fit(X, y)\n",
    "lr_r2 =  r2_score(y_true=y, y_pred=lr_model.predict(X))\n",
    "lr_r2"
   ]
  },
  {
   "cell_type": "markdown",
   "metadata": {
    "slideshow": {
     "slide_type": "slide"
    }
   },
   "source": [
    "## Get the R<sup>2</sup>"
   ]
  },
  {
   "cell_type": "code",
   "execution_count": 12,
   "metadata": {
    "collapsed": false,
    "hidePrompt": true,
    "slideshow": {
     "slide_type": "-"
    }
   },
   "outputs": [],
   "source": [
    "lr_r2 =  r2_score(y_true=y, y_pred=lr_model.predict(X))"
   ]
  },
  {
   "cell_type": "code",
   "execution_count": 13,
   "metadata": {
    "collapsed": false,
    "hidePrompt": true,
    "slideshow": {
     "slide_type": "-"
    }
   },
   "outputs": [
    {
     "data": {
      "text/plain": [
       "0.7406077428649428"
      ]
     },
     "execution_count": 13,
     "metadata": {},
     "output_type": "execute_result"
    }
   ],
   "source": [
    "lr_r2"
   ]
  },
  {
   "cell_type": "markdown",
   "metadata": {
    "slideshow": {
     "slide_type": "slide"
    }
   },
   "source": [
    "## Get the Coefficients (Betas)"
   ]
  },
  {
   "cell_type": "code",
   "execution_count": 14,
   "metadata": {
    "collapsed": false,
    "hidePrompt": true,
    "slideshow": {
     "slide_type": "-"
    }
   },
   "outputs": [
    {
     "data": {
      "text/plain": [
       "13"
      ]
     },
     "execution_count": 14,
     "metadata": {},
     "output_type": "execute_result"
    }
   ],
   "source": [
    "len(lr_model.coef_)"
   ]
  },
  {
   "cell_type": "code",
   "execution_count": 15,
   "metadata": {
    "collapsed": false,
    "hidePrompt": true,
    "slideshow": {
     "slide_type": "-"
    }
   },
   "outputs": [
    {
     "data": {
      "text/plain": [
       "array([ -1.07170557e-01,   4.63952195e-02,   2.08602395e-02,\n",
       "         2.68856140e+00,  -1.77957587e+01,   3.80475246e+00,\n",
       "         7.51061703e-04,  -1.47575880e+00,   3.05655038e-01,\n",
       "        -1.23293463e-02,  -9.53463555e-01,   9.39251272e-03,\n",
       "        -5.25466633e-01])"
      ]
     },
     "execution_count": 15,
     "metadata": {},
     "output_type": "execute_result"
    }
   ],
   "source": [
    "lr_model.coef_"
   ]
  },
  {
   "cell_type": "markdown",
   "metadata": {
    "slideshow": {
     "slide_type": "slide"
    }
   },
   "source": [
    "## Mean abs. value of the coefficients"
   ]
  },
  {
   "cell_type": "code",
   "execution_count": 16,
   "metadata": {
    "collapsed": false,
    "hidePrompt": true,
    "slideshow": {
     "slide_type": "-"
    }
   },
   "outputs": [
    {
     "data": {
      "text/plain": [
       "2.13433195989909"
      ]
     },
     "execution_count": 16,
     "metadata": {},
     "output_type": "execute_result"
    }
   ],
   "source": [
    "abs(lr_model.coef_).mean()"
   ]
  },
  {
   "cell_type": "code",
   "execution_count": 17,
   "metadata": {
    "collapsed": false,
    "hidePrompt": true,
    "slideshow": {
     "slide_type": "-"
    }
   },
   "outputs": [
    {
     "data": {
      "text/plain": [
       "3.8047524602579896"
      ]
     },
     "execution_count": 17,
     "metadata": {},
     "output_type": "execute_result"
    }
   ],
   "source": [
    "lr_model.coef_.max()"
   ]
  },
  {
   "cell_type": "markdown",
   "metadata": {
    "slideshow": {
     "slide_type": "slide"
    }
   },
   "source": [
    "# 3. Let's Re-model it using Regularization"
   ]
  },
  {
   "cell_type": "markdown",
   "metadata": {
    "slideshow": {
     "slide_type": "-"
    }
   },
   "source": [
    "## <ul>Load Lasso Regression"
   ]
  },
  {
   "cell_type": "code",
   "execution_count": 18,
   "metadata": {
    "collapsed": true,
    "hidePrompt": true,
    "slideshow": {
     "slide_type": "-"
    }
   },
   "outputs": [],
   "source": [
    "lasso = linear_model.Lasso(alpha=1)"
   ]
  },
  {
   "cell_type": "code",
   "execution_count": 19,
   "metadata": {
    "collapsed": false,
    "hidePrompt": true,
    "slideshow": {
     "slide_type": "-"
    }
   },
   "outputs": [],
   "source": [
    "lasso_model = lasso.fit(X, y)"
   ]
  },
  {
   "cell_type": "markdown",
   "metadata": {
    "slideshow": {
     "slide_type": "slide"
    }
   },
   "source": [
    "## Get the R<sup>2</sup>"
   ]
  },
  {
   "cell_type": "code",
   "execution_count": 20,
   "metadata": {
    "collapsed": false,
    "hidePrompt": true,
    "slideshow": {
     "slide_type": "-"
    }
   },
   "outputs": [],
   "source": [
    "lasso_r2 =  r2_score(y_true=y, y_pred=lasso_model.predict(X))"
   ]
  },
  {
   "cell_type": "code",
   "execution_count": 21,
   "metadata": {
    "collapsed": false,
    "hidePrompt": true,
    "slideshow": {
     "slide_type": "-"
    }
   },
   "outputs": [
    {
     "data": {
      "text/plain": [
       "0.682549461750665"
      ]
     },
     "execution_count": 21,
     "metadata": {},
     "output_type": "execute_result"
    }
   ],
   "source": [
    "lasso_r2"
   ]
  },
  {
   "cell_type": "markdown",
   "metadata": {
    "slideshow": {
     "slide_type": "slide"
    }
   },
   "source": [
    "## Get the Coefficients (Betas)"
   ]
  },
  {
   "cell_type": "code",
   "execution_count": 22,
   "metadata": {
    "collapsed": false,
    "hidePrompt": true,
    "slideshow": {
     "slide_type": "-"
    }
   },
   "outputs": [
    {
     "data": {
      "text/plain": [
       "13"
      ]
     },
     "execution_count": 22,
     "metadata": {},
     "output_type": "execute_result"
    }
   ],
   "source": [
    "len(lasso_model.coef_)"
   ]
  },
  {
   "cell_type": "code",
   "execution_count": 23,
   "metadata": {
    "collapsed": false,
    "hidePrompt": true,
    "slideshow": {
     "slide_type": "-"
    }
   },
   "outputs": [
    {
     "data": {
      "text/plain": [
       "array([ -1.07170557e-01,   4.63952195e-02,   2.08602395e-02,\n",
       "         2.68856140e+00,  -1.77957587e+01,   3.80475246e+00,\n",
       "         7.51061703e-04,  -1.47575880e+00,   3.05655038e-01,\n",
       "        -1.23293463e-02,  -9.53463555e-01,   9.39251272e-03,\n",
       "        -5.25466633e-01])"
      ]
     },
     "execution_count": 23,
     "metadata": {},
     "output_type": "execute_result"
    }
   ],
   "source": [
    "lr_model.coef_"
   ]
  },
  {
   "cell_type": "markdown",
   "metadata": {
    "slideshow": {
     "slide_type": "slide"
    }
   },
   "source": [
    "## Mean of absolute value of the coefficients"
   ]
  },
  {
   "cell_type": "code",
   "execution_count": 24,
   "metadata": {
    "collapsed": false,
    "hidePrompt": true,
    "slideshow": {
     "slide_type": "-"
    }
   },
   "outputs": [
    {
     "data": {
      "text/plain": [
       "0.27089386015469102"
      ]
     },
     "execution_count": 24,
     "metadata": {},
     "output_type": "execute_result"
    }
   ],
   "source": [
    "abs(lasso_model.coef_).mean()"
   ]
  },
  {
   "cell_type": "code",
   "execution_count": 25,
   "metadata": {
    "collapsed": false,
    "hidePrompt": true,
    "slideshow": {
     "slide_type": "-"
    }
   },
   "outputs": [
    {
     "data": {
      "text/plain": [
       "0.94678566695975275"
      ]
     },
     "execution_count": 25,
     "metadata": {},
     "output_type": "execute_result"
    }
   ],
   "source": [
    "lasso_model.coef_.max()"
   ]
  },
  {
   "cell_type": "markdown",
   "metadata": {
    "slideshow": {
     "slide_type": "slide"
    }
   },
   "source": [
    "# What did we just see?\n",
    "- We fit a standard linear regression and a regularized linear regression (Lasso - L1)\n",
    "- We saw that the mean of the absolute value of the coefficients fell\n",
    "- We saw that the R<sup>2</sup> also fell in the penalized/regularized regression"
   ]
  },
  {
   "cell_type": "markdown",
   "metadata": {
    "slideshow": {
     "slide_type": "slide"
    }
   },
   "source": [
    "## Check: Will the coefficents always fall<br> if alpha > 0?"
   ]
  },
  {
   "cell_type": "markdown",
   "metadata": {
    "slideshow": {
     "slide_type": "slide"
    }
   },
   "source": [
    "# Cross Validation"
   ]
  },
  {
   "cell_type": "markdown",
   "metadata": {
    "slideshow": {
     "slide_type": "slide"
    }
   },
   "source": [
    "## Holdout set"
   ]
  },
  {
   "cell_type": "code",
   "execution_count": 26,
   "metadata": {
    "collapsed": false,
    "hideCode": true,
    "hidePrompt": true,
    "slideshow": {
     "slide_type": "-"
    }
   },
   "outputs": [
    {
     "data": {
      "image/png": "[encoded data removed]",
      "text/plain": [
       "<IPython.core.display.Image object>"
      ]
     },
     "execution_count": 26,
     "metadata": {},
     "output_type": "execute_result"
    }
   ],
   "source": [
    "Image(PATH + 'holdout.png')"
   ]
  },
  {
   "cell_type": "markdown",
   "metadata": {
    "slideshow": {
     "slide_type": "slide"
    }
   },
   "source": [
    "## K-fold Procedure"
   ]
  },
  {
   "cell_type": "code",
   "execution_count": 27,
   "metadata": {
    "collapsed": false,
    "hideCode": true,
    "hidePrompt": true,
    "slideshow": {
     "slide_type": "-"
    }
   },
   "outputs": [
    {
     "data": {
      "image/png": "[encoded data removed]",
      "text/plain": [
       "<IPython.core.display.Image object>"
      ]
     },
     "execution_count": 27,
     "metadata": {},
     "output_type": "execute_result"
    }
   ],
   "source": [
    "from IPython.core.display import Image\n",
    "Image(PATH + 'kfold.png')"
   ]
  },
  {
   "cell_type": "markdown",
   "metadata": {
    "slideshow": {
     "slide_type": "slide"
    }
   },
   "source": [
    "## K-fold"
   ]
  },
  {
   "cell_type": "code",
   "execution_count": 28,
   "metadata": {
    "collapsed": false,
    "hideCode": true,
    "hidePrompt": true,
    "slideshow": {
     "slide_type": "-"
    }
   },
   "outputs": [
    {
     "data": {
      "image/png": "[encoded data removed]",
      "text/plain": [
       "<IPython.core.display.Image object>"
      ]
     },
     "execution_count": 28,
     "metadata": {},
     "output_type": "execute_result"
    }
   ],
   "source": [
    "Image(PATH + 'k_fold.png')\n",
    "\n",
    "#set aside training set on which to run .fit(X,y)\n",
    "#5 folds mean you train on 4, and you test on 1\n"
   ]
  },
  {
   "cell_type": "markdown",
   "metadata": {
    "slideshow": {
     "slide_type": "slide"
    }
   },
   "source": [
    "## Check: Is 2-fold the same as a 50:50 train test split?"
   ]
  },
  {
   "cell_type": "markdown",
   "metadata": {
    "slideshow": {
     "slide_type": "slide"
    }
   },
   "source": [
    "## Check: Will two different 50:50 (or x:y) splits produce the same model score?"
   ]
  },
  {
   "cell_type": "markdown",
   "metadata": {
    "slideshow": {
     "slide_type": "slide"
    }
   },
   "source": [
    "# Now we will run cross validation on the two models \n",
    "1. our standard linear model: lr\n",
    "2. our regularizied model: lasso"
   ]
  },
  {
   "cell_type": "markdown",
   "metadata": {
    "slideshow": {
     "slide_type": "slide"
    }
   },
   "source": [
    "## Get Cross Val Score - Using 5 folds"
   ]
  },
  {
   "cell_type": "code",
   "execution_count": 29,
   "metadata": {
    "collapsed": false,
    "hidePrompt": true,
    "slideshow": {
     "slide_type": "-"
    }
   },
   "outputs": [
    {
     "data": {
      "text/plain": [
       "array([ 0.63861069,  0.71334432,  0.58645134,  0.07842495, -0.26312455])"
      ]
     },
     "execution_count": 29,
     "metadata": {},
     "output_type": "execute_result"
    }
   ],
   "source": [
    "cross_val_score(lr, X, y, n_jobs=1, cv=5)"
   ]
  },
  {
   "cell_type": "code",
   "execution_count": 30,
   "metadata": {
    "collapsed": false,
    "hidePrompt": true,
    "slideshow": {
     "slide_type": "-"
    }
   },
   "outputs": [
    {
     "data": {
      "text/plain": [
       "array([ 0.56129809,  0.63387223,  0.33465716,  0.35466072,  0.27435636])"
      ]
     },
     "execution_count": 30,
     "metadata": {},
     "output_type": "execute_result"
    }
   ],
   "source": [
    "cross_val_score(lasso, X, y, n_jobs=1, cv=5)"
   ]
  },
  {
   "cell_type": "markdown",
   "metadata": {
    "slideshow": {
     "slide_type": "slide"
    }
   },
   "source": [
    "## Get the mean of the 5 runs"
   ]
  },
  {
   "cell_type": "code",
   "execution_count": 31,
   "metadata": {
    "collapsed": false,
    "hidePrompt": true
   },
   "outputs": [
    {
     "data": {
      "text/plain": [
       "0.35074135093253123"
      ]
     },
     "execution_count": 31,
     "metadata": {},
     "output_type": "execute_result"
    }
   ],
   "source": [
    "cross_val_score(lr, X, y, n_jobs=1, cv=5).mean()"
   ]
  },
  {
   "cell_type": "code",
   "execution_count": 32,
   "metadata": {
    "collapsed": false,
    "hidePrompt": true
   },
   "outputs": [
    {
     "name": "stdout",
     "output_type": "stream",
     "text": [
      "0.431768911923\n"
     ]
    }
   ],
   "source": [
    "for i in range(1000):\n",
    "    cross_val_list = []\n",
    "    n = cross_val_score(lasso, X, y, n_jobs=1, cv=5).mean()\n",
    "    cross_val_list.append(n)\n",
    "print(np.mean(cross_val_list))"
   ]
  },
  {
   "cell_type": "code",
   "execution_count": 33,
   "metadata": {
    "collapsed": false
   },
   "outputs": [
    {
     "name": "stdout",
     "output_type": "stream",
     "text": [
      "0.431768911923\n"
     ]
    }
   ],
   "source": [
    "for i in range(1000):\n",
    "    cross_val_list = []\n",
    "    n = cross_val_score(lasso, X, y, n_jobs=1, cv=5).mean()\n",
    "    cross_val_list.append(n)\n",
    "print(np.mean(cross_val_list))"
   ]
  },
  {
   "cell_type": "markdown",
   "metadata": {
    "slideshow": {
     "slide_type": "slide"
    }
   },
   "source": [
    "## Change cross val scoring metric -  MSE"
   ]
  },
  {
   "cell_type": "code",
   "execution_count": 34,
   "metadata": {
    "collapsed": false,
    "hidePrompt": true
   },
   "outputs": [
    {
     "data": {
      "text/plain": [
       "array([-12.48065021, -26.09620267, -33.11995587, -80.83305378, -33.58435565])"
      ]
     },
     "execution_count": 34,
     "metadata": {},
     "output_type": "execute_result"
    }
   ],
   "source": [
    "cross_val_score(lr, X, y, n_jobs=1, cv=5,\n",
    "                scoring='mean_squared_error')"
   ]
  },
  {
   "cell_type": "code",
   "execution_count": 35,
   "metadata": {
    "collapsed": false,
    "hidePrompt": true
   },
   "outputs": [
    {
     "data": {
      "text/plain": [
       "-37.222843637138205"
      ]
     },
     "execution_count": 35,
     "metadata": {},
     "output_type": "execute_result"
    }
   ],
   "source": [
    "cross_val_score(lr, X, y, n_jobs=1, cv=5,\n",
    "                scoring='mean_squared_error').mean()"
   ]
  },
  {
   "cell_type": "code",
   "execution_count": 36,
   "metadata": {
    "collapsed": false,
    "hidePrompt": true
   },
   "outputs": [
    {
     "data": {
      "text/plain": [
       "array([-15.1506561 , -33.33108327, -53.28544689, -56.60390369, -19.29364303])"
      ]
     },
     "execution_count": 36,
     "metadata": {},
     "output_type": "execute_result"
    }
   ],
   "source": [
    "cross_val_score(lasso, X, y, n_jobs=1, cv=5,\n",
    "                scoring='mean_squared_error')"
   ]
  },
  {
   "cell_type": "code",
   "execution_count": 37,
   "metadata": {
    "collapsed": false,
    "hidePrompt": true
   },
   "outputs": [
    {
     "data": {
      "text/plain": [
       "-35.53294659598334"
      ]
     },
     "execution_count": 37,
     "metadata": {},
     "output_type": "execute_result"
    }
   ],
   "source": [
    "cross_val_score(lasso, X, y, n_jobs=1, cv=5,\n",
    "                scoring='mean_squared_error').mean()"
   ]
  },
  {
   "cell_type": "markdown",
   "metadata": {
    "slideshow": {
     "slide_type": "slide"
    }
   },
   "source": [
    "# Use RidgeCV"
   ]
  },
  {
   "cell_type": "markdown",
   "metadata": {
    "slideshow": {
     "slide_type": "-"
    }
   },
   "source": [
    "## Takes a list of alphas to test and returns the best"
   ]
  },
  {
   "cell_type": "code",
   "execution_count": 38,
   "metadata": {
    "collapsed": false,
    "hidePrompt": true,
    "slideshow": {
     "slide_type": "-"
    }
   },
   "outputs": [],
   "source": [
    "rcv = linear_model.RidgeCV(alphas=\n",
    "                           (.001, .001, .01, .1, .5, 1, 5, 10),\n",
    "                           store_cv_values=True)\n",
    "\n",
    "#this is a REGULARIZED model compared to ridge regression"
   ]
  },
  {
   "cell_type": "markdown",
   "metadata": {
    "slideshow": {
     "slide_type": "slide"
    }
   },
   "source": [
    "## Fit RidgeCV model"
   ]
  },
  {
   "cell_type": "code",
   "execution_count": 39,
   "metadata": {
    "collapsed": false,
    "hidePrompt": true,
    "slideshow": {
     "slide_type": "slide"
    }
   },
   "outputs": [],
   "source": [
    "rcv_model = rcv.fit(X, y)"
   ]
  },
  {
   "cell_type": "markdown",
   "metadata": {
    "slideshow": {
     "slide_type": "slide"
    }
   },
   "source": [
    "## Get R<sup>2</sup>"
   ]
  },
  {
   "cell_type": "code",
   "execution_count": 40,
   "metadata": {
    "collapsed": false,
    "hidePrompt": true
   },
   "outputs": [],
   "source": [
    "rcv_r2 =  r2_score(y_true=y, y_pred=rcv_model.predict(X))"
   ]
  },
  {
   "cell_type": "code",
   "execution_count": 41,
   "metadata": {
    "collapsed": false,
    "hidePrompt": true
   },
   "outputs": [
    {
     "data": {
      "text/plain": [
       "0.7406072669872874"
      ]
     },
     "execution_count": 41,
     "metadata": {},
     "output_type": "execute_result"
    }
   ],
   "source": [
    "rcv_r2"
   ]
  },
  {
   "cell_type": "markdown",
   "metadata": {
    "slideshow": {
     "slide_type": "slide"
    }
   },
   "source": [
    "## Retrieve the best alpha"
   ]
  },
  {
   "cell_type": "code",
   "execution_count": 42,
   "metadata": {
    "collapsed": false,
    "hidePrompt": true
   },
   "outputs": [
    {
     "data": {
      "text/plain": [
       "0.01"
      ]
     },
     "execution_count": 42,
     "metadata": {},
     "output_type": "execute_result"
    }
   ],
   "source": [
    "rcv_model.alpha_ #this returns optimal alpha for dataset"
   ]
  },
  {
   "cell_type": "code",
   "execution_count": 43,
   "metadata": {
    "collapsed": false,
    "hidePrompt": true
   },
   "outputs": [
    {
     "data": {
      "text/plain": [
       "13"
      ]
     },
     "execution_count": 43,
     "metadata": {},
     "output_type": "execute_result"
    }
   ],
   "source": [
    "len(rcv_model.coef_)"
   ]
  },
  {
   "cell_type": "code",
   "execution_count": 44,
   "metadata": {
    "collapsed": false,
    "hidePrompt": false
   },
   "outputs": [
    {
     "data": {
      "text/plain": [
       "2.1251605690135738"
      ]
     },
     "execution_count": 44,
     "metadata": {},
     "output_type": "execute_result"
    }
   ],
   "source": [
    "abs(rcv_model.coef_).mean()"
   ]
  },
  {
   "cell_type": "markdown",
   "metadata": {
    "slideshow": {
     "slide_type": "slide"
    }
   },
   "source": [
    "## Get CV fold scores"
   ]
  },
  {
   "cell_type": "markdown",
   "metadata": {},
   "source": [
    "### <ul> Gives us the MSE for each alpha for all samples"
   ]
  },
  {
   "cell_type": "code",
   "execution_count": 45,
   "metadata": {
    "collapsed": false,
    "hidePrompt": true,
    "slideshow": {
     "slide_type": "-"
    }
   },
   "outputs": [
    {
     "data": {
      "text/plain": [
       "array([[  37.2069956 ,   37.2069956 ,   37.25123425, ...,   40.33478398,\n",
       "          43.93730514,   45.55029807],\n",
       "       [  11.97906601,   11.97906601,   11.9558498 , ...,   10.48559944,\n",
       "           9.35803757,    9.26216933],\n",
       "       [  17.39618698,   17.39618698,   17.40031242, ...,   17.68975847,\n",
       "          18.08816768,   18.37796753],\n",
       "       ..., \n",
       "       [  14.59756708,   14.59756708,   14.6321396 , ...,   17.02679483,\n",
       "          19.42675134,   19.99676382],\n",
       "       [  17.80627531,   17.80627531,   17.84631602, ...,   20.62439056,\n",
       "          23.48557525,   24.27957201],\n",
       "       [ 113.34718614,  113.34718614,  113.4508636 , ...,  120.62318298,\n",
       "         128.79754195,  132.34438399]])"
      ]
     },
     "execution_count": 45,
     "metadata": {},
     "output_type": "execute_result"
    }
   ],
   "source": [
    "rcv_model.cv_values_"
   ]
  },
  {
   "cell_type": "code",
   "execution_count": 46,
   "metadata": {
    "collapsed": false,
    "hidePrompt": true,
    "slideshow": {
     "slide_type": "-"
    }
   },
   "outputs": [
    {
     "data": {
      "text/plain": [
       "array([[  37.2069956 ,   37.2069956 ,   37.25123425, ...,   40.33478398,\n",
       "          43.93730514,   45.55029807],\n",
       "       [  11.97906601,   11.97906601,   11.9558498 , ...,   10.48559944,\n",
       "           9.35803757,    9.26216933],\n",
       "       [  17.39618698,   17.39618698,   17.40031242, ...,   17.68975847,\n",
       "          18.08816768,   18.37796753],\n",
       "       ..., \n",
       "       [  14.59756708,   14.59756708,   14.6321396 , ...,   17.02679483,\n",
       "          19.42675134,   19.99676382],\n",
       "       [  17.80627531,   17.80627531,   17.84631602, ...,   20.62439056,\n",
       "          23.48557525,   24.27957201],\n",
       "       [ 113.34718614,  113.34718614,  113.4508636 , ...,  120.62318298,\n",
       "         128.79754195,  132.34438399]])"
      ]
     },
     "execution_count": 46,
     "metadata": {},
     "output_type": "execute_result"
    }
   ],
   "source": [
    "rcv_model.cv_values_"
   ]
  },
  {
   "cell_type": "markdown",
   "metadata": {
    "slideshow": {
     "slide_type": "slide"
    }
   },
   "source": [
    "## Use cross_val_predict"
   ]
  },
  {
   "cell_type": "markdown",
   "metadata": {
    "slideshow": {
     "slide_type": "-"
    }
   },
   "source": [
    "#### <ul> Gives us a prediction for each y when it is in the test set"
   ]
  },
  {
   "cell_type": "markdown",
   "metadata": {
    "slideshow": {
     "slide_type": "slide"
    }
   },
   "source": [
    "## On the standard linear model"
   ]
  },
  {
   "cell_type": "code",
   "execution_count": 47,
   "metadata": {
    "collapsed": false,
    "hidePrompt": true,
    "slideshow": {
     "slide_type": "-"
    }
   },
   "outputs": [],
   "source": [
    "cvp_lr_preds = cross_val_predict(lr, X, y, cv=5)\n",
    "#nobody really uses this function, see below for more commonly used syntax"
   ]
  },
  {
   "cell_type": "code",
   "execution_count": 48,
   "metadata": {
    "collapsed": false,
    "hidePrompt": true,
    "slideshow": {
     "slide_type": "-"
    }
   },
   "outputs": [
    {
     "data": {
      "text/plain": [
       "(506,)"
      ]
     },
     "execution_count": 48,
     "metadata": {},
     "output_type": "execute_result"
    }
   ],
   "source": [
    "cvp_lr_preds.shape"
   ]
  },
  {
   "cell_type": "code",
   "execution_count": 49,
   "metadata": {
    "collapsed": false,
    "hidePrompt": true,
    "slideshow": {
     "slide_type": "-"
    }
   },
   "outputs": [
    {
     "data": {
      "text/plain": [
       "array([ 30.20794248,  24.7901165 ,  30.29428088,  28.06157495,\n",
       "        27.1395873 ,  24.82752587,  22.89300756,  18.69499781,\n",
       "        10.30379035,  18.14402998,  17.8621001 ,  21.15134445,\n",
       "        20.84606868,  19.36941609,  18.86739286,  19.25348271,\n",
       "        20.66896872,  16.37723062,  16.4590944 ,  18.4073863 ,\n",
       "        11.91366517,  17.23569651,  15.02091168,  13.03110847,\n",
       "        14.98418929,  12.87695016,  14.84791174,  13.89606305,\n",
       "        18.72314507,  20.10057962,  10.56486596,  17.50738567,\n",
       "         7.62548764,  13.77078995,  12.85841115,  24.14385492,\n",
       "        22.64965799,  23.49363851,  23.24045668,  32.3608368 ,\n",
       "        35.14739895,  28.06554   ,  25.50266825,  24.79397688,\n",
       "        22.9180235 ,  22.46398424,  20.51180353,  17.29347959,\n",
       "         7.92072828,  16.84010937,  21.07722458,  23.8291293 ,\n",
       "        27.73941521,  24.23109756,  15.26990486,  31.06318419,\n",
       "        24.82392951,  33.6162122 ,  21.4565709 ,  20.92802281,\n",
       "        17.41136828,  17.84166083,  23.49473697,  21.62935954,\n",
       "        21.80447585,  31.49178669,  26.55221004,  21.2995907 ,\n",
       "        17.40251443,  20.87094502,  25.60566089,  22.16122501,\n",
       "        25.2162625 ,  24.49562043,  26.31004791,  24.37406774,\n",
       "        23.1738468 ,  23.8881734 ,  21.30841905,  23.09263764,\n",
       "        28.63044358,  26.98711564,  26.4168669 ,  25.39679514,\n",
       "        24.68669191,  27.80013505,  22.20995099,  26.27520697,\n",
       "        30.54215285,  30.76407968,  27.31740651,  27.61418409,\n",
       "        29.92322559,  30.42137375,  27.8874943 ,  28.86621633,\n",
       "        24.89756395,  35.2885158 ,  34.98541786,  32.06718849,\n",
       "        24.4723972 ,  25.57534559,  20.35453239,  20.4614174 ,\n",
       "        21.64408957,  18.88099882,  17.39796532,  20.90476266,\n",
       "        22.60581221,  19.76084854,  20.59502388,  26.287658  ,\n",
       "        21.05135497,  20.78118109,  25.39473515,  20.7696073 ,\n",
       "        23.50079295,  24.09744624,  20.67867382,  21.21483303,\n",
       "        17.8936942 ,  18.42498206,  16.41490327,  11.98098746,\n",
       "        16.5298493 ,  18.44432291,  10.38237191,  13.08387304,\n",
       "        16.25061247,  11.92656982,  17.45334066,  16.94672523,\n",
       "        17.63442494,  13.62247218,  11.28952868,  14.56914946,\n",
       "        13.56632586,  16.69350171,  11.3730393 ,  13.86653474,\n",
       "        10.67312793,   1.66547449,  12.39977906,   9.15978856,\n",
       "         6.12159096,   8.73686381,  13.56342736,   5.86949622,\n",
       "         6.9357598 ,  11.99986198,  17.89908789,  16.14258162,\n",
       "        19.07053083,  14.83150587,  20.18565474,  18.20638057,\n",
       "        11.81181986,  31.24795881,  27.77868434,  22.63030446,\n",
       "        32.06075836,  34.33965678,  38.57198506,  39.23011368,\n",
       "        23.32133488,  24.03709371,  34.28572225,  21.78575394,\n",
       "        24.72661585,  24.82123999,  21.11619572,  22.88628644,\n",
       "        24.11545577,  29.68727361,  27.54847362,  31.12412454,\n",
       "        26.31624006,  29.9000668 ,  31.68786889,  32.79791445,\n",
       "        33.8732466 ,  28.22850993,  33.79756912,  31.41794525,\n",
       "        23.58980141,  25.05031246,  34.9592712 ,  34.07674149,\n",
       "        33.30191934,  34.80261101,  31.13231986,  30.90857167,\n",
       "        33.19593181,  31.79658471,  31.53300799,  39.99277357,\n",
       "        35.96111597,  32.52271743,  34.45021332,  30.20306604,\n",
       "        30.62305743,  29.94223213,  36.47206065,  40.56662079,\n",
       "        41.43385517,  22.38998239,  23.1493891 ,  18.23283985,\n",
       "        26.63378328,  21.64176992,  26.14105517,  21.32025044,\n",
       "        26.14013517,  24.3335418 ,  10.32272825,  24.14502591,\n",
       "        29.71573742,  27.58618145,  28.31857653,  32.78194419,\n",
       "        35.43124002,  26.74943399,  34.31240331,  29.29392594,\n",
       "        35.12931871,  35.79822631,  34.97127778,  31.06966614,\n",
       "        32.1707064 ,  30.09527705,  24.74398876,  31.52252241,\n",
       "        34.68536642,  33.82286527,  34.12184671,  25.24793767,\n",
       "        32.73905104,  30.95818854,  28.11801435,  28.25898525,\n",
       "        26.55329522,  24.58796381,  24.37603009,  27.14757625,\n",
       "        18.23899382,  14.76917846,  20.41781784,  20.81894145,\n",
       "        21.35491088,  23.21196206,  23.70860094,  24.73051086,\n",
       "        23.63819879,  26.31397872,  25.57838076,  23.31174677,\n",
       "        36.94688773,  38.74440162,  34.49563368,  33.9408591 ,\n",
       "        32.60091499,  34.67416147,  37.0311901 ,  32.13609068,\n",
       "        33.89686905,  28.61303808,  29.08949142,  36.94418392,\n",
       "        36.93153852,  29.5522341 ,  22.66250901,  26.78986878,\n",
       "        28.26005334,  36.38391755,  38.97738338,  33.41767074,\n",
       "        37.71146884,  37.46416959,  30.1810862 ,  34.34771901,\n",
       "        36.68863795,  33.21517457,  41.63941756,  46.24993495,\n",
       "        31.16894374,  27.81919132,  21.06303737,  27.86852112,\n",
       "        28.08123988,  26.82050549,  33.54031597,  33.9684997 ,\n",
       "        32.18731403,  25.53419391,  24.68387574,  27.56030083,\n",
       "        26.99944131,  20.14270998,  30.02798125,  31.38584636,\n",
       "        31.13367874,  28.68226808,  28.45801614,  31.71218101,\n",
       "        34.552595  ,  29.85728158,  35.94638296,  31.57952958,\n",
       "        27.28356327,  22.05612931,  16.05328595,  25.43678312,\n",
       "        21.91052135,  24.03750094,  25.38697387,  18.71312966,\n",
       "        18.67509363,  18.65321199,  24.77845474,  22.16929914,\n",
       "        24.80583738,  24.41672797,  21.79037862,  17.58377203,\n",
       "        25.18078032,  25.56950011,  23.98191005,  20.5685569 ,\n",
       "        21.49482936,  25.56772378,  22.31103432,  19.97750613,\n",
       "        22.86131467,  21.9699435 ,  21.72180309,  20.42382666,\n",
       "        19.39788346,  18.36967609,  21.90874491,  20.83641998,\n",
       "        20.24662522,  32.26264591,  23.6775766 ,  26.84958967,\n",
       "        28.66071751,  17.110827  ,  15.4314904 ,  24.16787626,\n",
       "        26.63086882,  23.99460212,  20.41649888,  20.0505316 ,\n",
       "        15.65816383,  23.88297145,  11.51594498,  13.9202354 ,\n",
       "        17.55661965,  19.5807959 ,  18.03760409,  17.14496571,\n",
       "        19.5253401 ,  17.16763345,  11.89335109,  15.35206989,\n",
       "        39.57158995,   0.70376117,   8.78871977,  -0.59425997,\n",
       "        13.01498474,  26.3356219 ,  29.30768945,  21.0632849 ,\n",
       "        19.25273419,   7.15880604,   1.10471024,  28.15113925,\n",
       "        21.29366275,  22.93566667,  19.61467815,  18.58536498,\n",
       "        25.27546341,  20.94653616,  12.64558785,  12.42436704,\n",
       "         1.88671768,   9.82952616,   5.61359477,   7.86673863,\n",
       "         6.32605121,  11.90738782,  14.67049716,  16.88179662,\n",
       "         8.54332797,  18.98620771,  16.49962911,  20.42408098,\n",
       "        19.80703407,  14.8236193 ,  11.13078298,  14.09899879,\n",
       "        15.49912435,  19.18193556,  19.22068057,  12.08659792,\n",
       "        11.69974889,   4.24625596,   6.74942796,  21.35665166,\n",
       "        15.43872083,  23.75473818,  16.9916483 ,  22.37053454,\n",
       "         4.77337382,  12.51793438,  -4.07621534,  14.7535076 ,\n",
       "        19.56247114,   9.12166371,   6.23506274,  20.54723556,\n",
       "        22.21280099,  20.67887201,  20.34325654,  19.12994293,\n",
       "        19.84124888,  15.03499028,  21.256405  ,  17.48688033,\n",
       "        19.35424853,  18.58216317,  23.25315636,  24.14705041,\n",
       "        26.74680213,  22.69123679,  20.68130375,  18.61847269,\n",
       "        20.2935557 ,  14.382611  ,   9.57761023,  14.17151575,\n",
       "        12.96999777,  19.31147438,  20.83289033,  20.1150022 ,\n",
       "        14.35078399,  19.79751319,  20.72752146,  19.99144123,\n",
       "        19.20298221,  20.33217367,  23.53184691,  22.37784236,\n",
       "        20.8874362 ,  25.702576  ,  21.97826356,  22.20880187,\n",
       "        19.04695712,  19.00621027,  20.62633585,  20.39237386,\n",
       "        23.297141  ,  22.64657505,  21.89620039,  24.89569012,\n",
       "        22.08358699,  20.32460847,  20.55026623,  19.29381263,\n",
       "        17.88927369,  19.16432753,  22.01010165,  24.83624193,\n",
       "        24.63548119,  28.43217857,  17.63397671,  18.69434915,\n",
       "        22.61302214,  12.08519559,  20.71077943,  22.99168199,\n",
       "        25.18839229,  29.37961601,  31.14192558,  22.72588044,\n",
       "        21.55565389,  24.50917763,  21.47925964,  22.97903826,\n",
       "        10.34077493,   7.21399859,   2.61370414,  12.8283783 ,\n",
       "        14.96652658,  19.97313471,  20.12545401,  16.22411724,\n",
       "        13.09570916,  18.63677084,  20.95613915,  17.70277662,\n",
       "        20.16952874,  23.75351157,  22.0762696 ,  28.17086932,\n",
       "        26.56339975,  22.01296959])"
      ]
     },
     "execution_count": 49,
     "metadata": {},
     "output_type": "execute_result"
    }
   ],
   "source": [
    "cvp_lr_preds"
   ]
  },
  {
   "cell_type": "markdown",
   "metadata": {
    "slideshow": {
     "slide_type": "slide"
    }
   },
   "source": [
    "## On the regularized model"
   ]
  },
  {
   "cell_type": "code",
   "execution_count": 50,
   "metadata": {
    "collapsed": true,
    "hidePrompt": true,
    "slideshow": {
     "slide_type": "-"
    }
   },
   "outputs": [],
   "source": [
    "cvp_rcv_preds = cross_val_predict(rcv_model, X, y, cv=5)\n",
    "#people would especially not run cross_val_pred on a RCV model, because its double-regularizing"
   ]
  },
  {
   "cell_type": "code",
   "execution_count": 51,
   "metadata": {
    "collapsed": false,
    "hidePrompt": true
   },
   "outputs": [
    {
     "data": {
      "text/plain": [
       "(506,)"
      ]
     },
     "execution_count": 51,
     "metadata": {},
     "output_type": "execute_result"
    }
   ],
   "source": [
    "cvp_rcv_preds.shape"
   ]
  },
  {
   "cell_type": "code",
   "execution_count": 52,
   "metadata": {
    "collapsed": false,
    "hidePrompt": true
   },
   "outputs": [
    {
     "data": {
      "text/plain": [
       "array([ 30.2127806 ,  24.78484524,  30.29326693,  28.06824415,\n",
       "        27.1448799 ,  24.83138672,  22.8903897 ,  18.68824052,\n",
       "        10.29373468,  18.1400781 ,  17.85634285,  21.14790649,\n",
       "        20.84576894,  19.38016468,  18.8744312 ,  19.26426171,\n",
       "        20.68367006,  16.38314473,  16.46910382,  18.41430281,\n",
       "        11.91463684,  17.24035333,  15.02438122,  13.03309674,\n",
       "        14.98845351,  12.8814055 ,  14.85332418,  13.90053388,\n",
       "        18.72891857,  20.10716161,  10.56696841,  17.51128735,\n",
       "         7.62702593,  13.77275987,  12.85951671,  24.14250492,\n",
       "        22.6485901 ,  23.49692667,  23.24480514,  32.36511833,\n",
       "        35.15346939,  28.06952958,  25.50523701,  24.79631819,\n",
       "        22.91550805,  22.46037493,  20.50751881,  17.28315973,\n",
       "         7.90617678,  16.83363268,  21.07298538,  23.82378472,\n",
       "        27.74072106,  24.23104614,  15.27117925,  31.07187247,\n",
       "        24.8305374 ,  33.61690505,  21.46475429,  20.93135559,\n",
       "        17.41184305,  17.83777704,  23.49730461,  21.63631623,\n",
       "        21.80980375,  31.48803487,  26.54495755,  21.29649641,\n",
       "        17.39606217,  20.86626808,  25.60071718,  22.15363305,\n",
       "        25.21104544,  24.49030654,  26.30255253,  24.3616978 ,\n",
       "        23.15611652,  23.87439115,  21.29523482,  23.08085378,\n",
       "        28.63020258,  26.98170006,  26.41595425,  25.39369477,\n",
       "        24.68448771,  27.79715048,  22.20619702,  26.26966611,\n",
       "        30.53946281,  30.76431234,  27.31507344,  27.61100287,\n",
       "        29.91323741,  30.41462532,  27.87367911,  28.86026382,\n",
       "        24.88874091,  35.28282011,  34.98442134,  32.06194208,\n",
       "        24.47287049,  25.57751021,  20.34397049,  20.4490881 ,\n",
       "        21.62992835,  18.86304294,  17.38126924,  20.89004493,\n",
       "        22.58992376,  19.74640589,  20.59102452,  26.28074082,\n",
       "        21.03925757,  20.76920948,  25.38526807,  20.75937965,\n",
       "        23.49611661,  24.09076305,  20.67225828,  21.21188221,\n",
       "        17.91589014,  18.44342912,  16.43004494,  11.9931526 ,\n",
       "        16.54398762,  18.46065981,  10.39376523,  13.09710994,\n",
       "        16.26344107,  11.94090182,  17.46810554,  16.96270143,\n",
       "        17.6507682 ,  13.63947024,  11.30522109,  14.58331055,\n",
       "        13.58105371,  16.70675499,  11.38438608,  13.87843259,\n",
       "        10.68474281,   1.67327534,  12.47699615,   9.23720287,\n",
       "         6.19866231,   8.81426337,  13.64341476,   5.94753172,\n",
       "         7.01482561,  12.07986388,  17.97997131,  16.2230617 ,\n",
       "        19.15463736,  14.91226037,  20.26777942,  18.29261066,\n",
       "        11.89472033,  31.25471395,  27.78414908,  22.71236076,\n",
       "        32.06875155,  34.34884815,  38.58001023,  39.23932913,\n",
       "        23.33104691,  24.04662035,  34.2935884 ,  21.7988068 ,\n",
       "        24.73401103,  24.82949924,  21.12486805,  22.8945644 ,\n",
       "        24.09970052,  29.67365074,  27.53886035,  31.12578624,\n",
       "        26.31574638,  29.89273387,  31.67815772,  32.79202515,\n",
       "        33.86028727,  28.21999737,  33.78291356,  31.40313702,\n",
       "        23.5757875 ,  25.04278971,  34.95622066,  34.0554338 ,\n",
       "        33.28767685,  34.78566257,  31.12881324,  30.90290745,\n",
       "        33.19158517,  31.79461749,  31.52909544,  39.98608026,\n",
       "        35.95495786,  32.51528283,  34.44259287,  30.20155003,\n",
       "        30.62189348,  29.93340051,  36.46916082,  40.56104857,\n",
       "        41.42921323,  22.38857391,  23.14512369,  18.22160854,\n",
       "        26.60684228,  21.60323896,  26.10719845,  21.28284627,\n",
       "        26.1118063 ,  24.3321347 ,  10.31428512,  24.14165614,\n",
       "        29.69068425,  27.57973402,  28.2858278 ,  32.75399666,\n",
       "        35.40329789,  26.71546662,  34.28675366,  29.2874337 ,\n",
       "        35.1267835 ,  35.79584425,  34.96800751,  31.06408511,\n",
       "        32.1773172 ,  30.09867228,  24.73662442,  31.51937307,\n",
       "        34.68692589,  33.82365892,  34.09873147,  25.24259921,\n",
       "        32.71494807,  30.95761193,  28.11384785,  28.25112396,\n",
       "        26.54318458,  24.5739883 ,  24.36622115,  27.14699995,\n",
       "        18.22909101,  14.75831048,  20.41713105,  20.81117229,\n",
       "        21.35201084,  23.21585465,  23.71201328,  24.73509029,\n",
       "        23.64755078,  26.32623136,  25.57580998,  23.30969842,\n",
       "        36.94069641,  38.7613034 ,  34.50651186,  33.95123951,\n",
       "        32.614199  ,  34.68785111,  37.04736839,  32.14706745,\n",
       "        33.90874958,  28.62489654,  29.10003008,  36.95016669,\n",
       "        36.94034769,  29.52396322,  22.65773256,  26.79232971,\n",
       "        28.25514907,  36.36472277,  38.95473724,  33.41366052,\n",
       "        37.6880234 ,  37.44388038,  30.17610015,  34.33975424,\n",
       "        36.67953334,  33.2092145 ,  41.61409655,  46.22623274,\n",
       "        31.16614229,  27.8107034 ,  21.06168298,  27.85993159,\n",
       "        28.07052006,  26.8129551 ,  33.53899431,  33.96779704,\n",
       "        32.1856639 ,  25.52027156,  24.66533173,  27.54747436,\n",
       "        26.98279065,  20.120996  ,  30.02219902,  31.38335578,\n",
       "        31.12471575,  28.67100333,  28.45012001,  31.70694901,\n",
       "        34.55496143,  29.85600543,  35.94405074,  31.57717376,\n",
       "        27.28552604,  22.0565542 ,  16.05467647,  25.43933843,\n",
       "        21.90864916,  24.03832288,  25.38789981,  18.71499754,\n",
       "        18.6747785 ,  18.65465018,  24.7806719 ,  22.17270699,\n",
       "        24.80964747,  24.42044361,  21.79465174,  17.58472862,\n",
       "        25.18638407,  25.57920772,  23.99010516,  20.5736571 ,\n",
       "        21.49479019,  25.56913718,  22.31212606,  19.97805771,\n",
       "        22.86329618,  21.98481276,  21.73634949,  20.43730988,\n",
       "        19.40806143,  18.37936891,  21.91909198,  20.84572708,\n",
       "        20.25489721,  32.26498252,  23.68406369,  26.85352561,\n",
       "        28.6694903 ,  17.11634108,  15.43590508,  24.17569217,\n",
       "        26.63894132,  24.00701242,  20.42801749,  20.06178193,\n",
       "        15.67043019,  23.89737218,  11.53409696,  13.9392371 ,\n",
       "        17.57016643,  19.59673988,  18.05529388,  17.1612041 ,\n",
       "        19.54221823,  17.18174305,  11.9077531 ,  15.3660258 ,\n",
       "        39.58289727,   0.7121122 ,   8.79506025,  -0.60024506,\n",
       "        13.01294832,  26.33479648,  29.30689683,  21.05959334,\n",
       "        19.25476314,   7.15295673,   1.09833353,  28.1527188 ,\n",
       "        21.29243232,  22.93445198,  19.61401045,  18.58441895,\n",
       "        25.28156448,  20.94610078,  12.64731081,  12.42563999,\n",
       "         1.88664139,   9.82963843,   5.61474567,   7.86787452,\n",
       "         6.32599337,  11.91019042,  14.67486243,  16.88735642,\n",
       "         8.54530659,  18.99054829,  16.503736  ,  20.427206  ,\n",
       "        19.80953238,  14.82561643,  11.13163956,  14.09956632,\n",
       "        15.50037635,  19.18416026,  19.22256434,  12.090218  ,\n",
       "        11.70265323,   4.26695915,   6.67537582,  21.29051466,\n",
       "        15.26815895,  23.55204798,  16.75180526,  22.10781585,\n",
       "         4.47785008,  12.32823127,  -4.21452436,  14.58248459,\n",
       "        19.40027474,   8.99986301,   6.1079201 ,  20.46294708,\n",
       "        22.22323262,  20.68809534,  20.22551463,  18.88594043,\n",
       "        19.58297407,  14.86433145,  21.02239137,  17.36879328,\n",
       "        19.23664692,  18.43238192,  23.01542126,  23.90204333,\n",
       "        26.53616198,  22.62236375,  20.61020707,  18.57094102,\n",
       "        20.2221804 ,  14.28124352,   9.4955189 ,  14.22647569,\n",
       "        13.03622528,  19.37350869,  20.89579496,  20.17498429,\n",
       "        14.34476108,  19.71164211,  20.76348223,  20.06128691,\n",
       "        19.23835635,  20.32830715,  23.4198088 ,  22.39968337,\n",
       "        20.92567912,  25.74133564,  21.86984598,  22.12062847,\n",
       "        18.9387553 ,  18.91127502,  20.63787167,  20.45198801,\n",
       "        23.29309826,  22.6975574 ,  21.95998561,  24.95927701,\n",
       "        22.09797708,  20.32492571,  20.3851862 ,  19.143187  ,\n",
       "        17.7894988 ,  19.09045442,  21.90770077,  24.67434644,\n",
       "        24.54243808,  28.38341988,  17.49304154,  18.52214899,\n",
       "        22.52977375,  11.96602559,  20.61864018,  22.9168171 ,\n",
       "        25.0621851 ,  29.2485241 ,  31.01413216,  22.6278946 ,\n",
       "        21.49982572,  24.46324283,  21.39389044,  22.91494287,\n",
       "        10.23306879,   7.06990799,   2.44965785,  12.71691318,\n",
       "        14.88398006,  20.0287276 ,  20.19100102,  16.30016087,\n",
       "        13.12323169,  18.68186721,  21.00185449,  17.73356723,\n",
       "        20.2005669 ,  23.83534992,  22.14753441,  28.23738982,\n",
       "        26.63129151,  22.08513164])"
      ]
     },
     "execution_count": 52,
     "metadata": {},
     "output_type": "execute_result"
    }
   ],
   "source": [
    "cvp_rcv_preds"
   ]
  },
  {
   "cell_type": "markdown",
   "metadata": {
    "slideshow": {
     "slide_type": "slide"
    }
   },
   "source": [
    "## Get R<sup>2</sup>"
   ]
  },
  {
   "cell_type": "code",
   "execution_count": 53,
   "metadata": {
    "collapsed": false,
    "hidePrompt": true,
    "slideshow": {
     "slide_type": "-"
    }
   },
   "outputs": [
    {
     "data": {
      "text/plain": [
       "0.55965243464551162"
      ]
     },
     "execution_count": 53,
     "metadata": {},
     "output_type": "execute_result"
    }
   ],
   "source": [
    "cvp_lr_r2 =  r2_score(y_true=y, y_pred=cvp_lr_preds)\n",
    "cvp_lr_r2"
   ]
  },
  {
   "cell_type": "code",
   "execution_count": 54,
   "metadata": {
    "collapsed": false,
    "hidePrompt": true,
    "slideshow": {
     "slide_type": "-"
    }
   },
   "outputs": [
    {
     "data": {
      "text/plain": [
       "0.56115296963807637"
      ]
     },
     "execution_count": 54,
     "metadata": {},
     "output_type": "execute_result"
    }
   ],
   "source": [
    "cvp_rcv_r2 =  r2_score(y_true=y, y_pred=cvp_rcv_preds)\n",
    "cvp_rcv_r2"
   ]
  },
  {
   "cell_type": "markdown",
   "metadata": {
    "slideshow": {
     "slide_type": "slide"
    }
   },
   "source": [
    "## Plot the two"
   ]
  },
  {
   "cell_type": "code",
   "execution_count": 55,
   "metadata": {
    "collapsed": false,
    "hideCode": true,
    "hidePrompt": true,
    "slideshow": {
     "slide_type": "-"
    }
   },
   "outputs": [
    {
     "data": {
      "text/plain": [
       "<matplotlib.text.Text at 0x11bfb7e90>"
      ]
     },
     "execution_count": 55,
     "metadata": {},
     "output_type": "execute_result"
    },
    {
     "data": {
      "image/png": "[encoded data removed]",
      "text/plain": [
       "<matplotlib.figure.Figure at 0x116be4950>"
      ]
     },
     "metadata": {},
     "output_type": "display_data"
    }
   ],
   "source": [
    "fig, axes = plt.subplots(1,2, figsize=(16,8))\n",
    "axes[0].scatter(y, cvp_lr_preds, c='red')\n",
    "axes[1].scatter(y, cvp_rcv_preds, c='k')\n",
    "axes[0].plot([y.min(), y.max()], [y.min(), y.max()], 'k--', lw=3)\n",
    "axes[1].plot([y.min(), y.max()], [y.min(), y.max()], 'k--', lw=3)\n",
    "axes[0].set_xlabel('Measured')\n",
    "axes[0].set_ylabel('Predicted')\n",
    "axes[1].set_xlabel('Measured')\n",
    "axes[1].set_ylabel('Predicted')"
   ]
  },
  {
   "cell_type": "markdown",
   "metadata": {
    "slideshow": {
     "slide_type": "slide"
    }
   },
   "source": [
    "# Train Test Split"
   ]
  },
  {
   "cell_type": "markdown",
   "metadata": {
    "slideshow": {
     "slide_type": "-"
    }
   },
   "source": [
    "## Load the diabetes data"
   ]
  },
  {
   "cell_type": "code",
   "execution_count": 56,
   "metadata": {
    "collapsed": false,
    "hidePrompt": true,
    "slideshow": {
     "slide_type": "-"
    }
   },
   "outputs": [
    {
     "data": {
      "text/html": [
       "<div>\n",
       "<table border=\"1\" class=\"dataframe\">\n",
       "  <thead>\n",
       "    <tr style=\"text-align: right;\">\n",
       "      <th></th>\n",
       "      <th>age</th>\n",
       "      <th>sex</th>\n",
       "      <th>bmi</th>\n",
       "      <th>map</th>\n",
       "      <th>tc</th>\n",
       "      <th>ldl</th>\n",
       "      <th>hdl</th>\n",
       "      <th>tch</th>\n",
       "      <th>ltg</th>\n",
       "      <th>glu</th>\n",
       "    </tr>\n",
       "  </thead>\n",
       "  <tbody>\n",
       "    <tr>\n",
       "      <th>0</th>\n",
       "      <td>0.038076</td>\n",
       "      <td>0.050680</td>\n",
       "      <td>0.061696</td>\n",
       "      <td>0.021872</td>\n",
       "      <td>-0.044223</td>\n",
       "      <td>-0.034821</td>\n",
       "      <td>-0.043401</td>\n",
       "      <td>-0.002592</td>\n",
       "      <td>0.019908</td>\n",
       "      <td>-0.017646</td>\n",
       "    </tr>\n",
       "    <tr>\n",
       "      <th>1</th>\n",
       "      <td>-0.001882</td>\n",
       "      <td>-0.044642</td>\n",
       "      <td>-0.051474</td>\n",
       "      <td>-0.026328</td>\n",
       "      <td>-0.008449</td>\n",
       "      <td>-0.019163</td>\n",
       "      <td>0.074412</td>\n",
       "      <td>-0.039493</td>\n",
       "      <td>-0.068330</td>\n",
       "      <td>-0.092204</td>\n",
       "    </tr>\n",
       "    <tr>\n",
       "      <th>2</th>\n",
       "      <td>0.085299</td>\n",
       "      <td>0.050680</td>\n",
       "      <td>0.044451</td>\n",
       "      <td>-0.005671</td>\n",
       "      <td>-0.045599</td>\n",
       "      <td>-0.034194</td>\n",
       "      <td>-0.032356</td>\n",
       "      <td>-0.002592</td>\n",
       "      <td>0.002864</td>\n",
       "      <td>-0.025930</td>\n",
       "    </tr>\n",
       "    <tr>\n",
       "      <th>3</th>\n",
       "      <td>-0.089063</td>\n",
       "      <td>-0.044642</td>\n",
       "      <td>-0.011595</td>\n",
       "      <td>-0.036656</td>\n",
       "      <td>0.012191</td>\n",
       "      <td>0.024991</td>\n",
       "      <td>-0.036038</td>\n",
       "      <td>0.034309</td>\n",
       "      <td>0.022692</td>\n",
       "      <td>-0.009362</td>\n",
       "    </tr>\n",
       "    <tr>\n",
       "      <th>4</th>\n",
       "      <td>0.005383</td>\n",
       "      <td>-0.044642</td>\n",
       "      <td>-0.036385</td>\n",
       "      <td>0.021872</td>\n",
       "      <td>0.003935</td>\n",
       "      <td>0.015596</td>\n",
       "      <td>0.008142</td>\n",
       "      <td>-0.002592</td>\n",
       "      <td>-0.031991</td>\n",
       "      <td>-0.046641</td>\n",
       "    </tr>\n",
       "  </tbody>\n",
       "</table>\n",
       "</div>"
      ],
      "text/plain": [
       "        age       sex       bmi       map        tc       ldl       hdl  \\\n",
       "0  0.038076  0.050680  0.061696  0.021872 -0.044223 -0.034821 -0.043401   \n",
       "1 -0.001882 -0.044642 -0.051474 -0.026328 -0.008449 -0.019163  0.074412   \n",
       "2  0.085299  0.050680  0.044451 -0.005671 -0.045599 -0.034194 -0.032356   \n",
       "3 -0.089063 -0.044642 -0.011595 -0.036656  0.012191  0.024991 -0.036038   \n",
       "4  0.005383 -0.044642 -0.036385  0.021872  0.003935  0.015596  0.008142   \n",
       "\n",
       "        tch       ltg       glu  \n",
       "0 -0.002592  0.019908 -0.017646  \n",
       "1 -0.039493 -0.068330 -0.092204  \n",
       "2 -0.002592  0.002864 -0.025930  \n",
       "3  0.034309  0.022692 -0.009362  \n",
       "4 -0.002592 -0.031991 -0.046641  "
      ]
     },
     "execution_count": 56,
     "metadata": {},
     "output_type": "execute_result"
    }
   ],
   "source": [
    "columns = \"age sex bmi map tc ldl hdl tch ltg glu\".split()\n",
    "diabetes = datasets.load_diabetes()\n",
    "dd = pd.DataFrame(diabetes.data, columns=columns)\n",
    "dy = diabetes.target\n",
    "# Take a look at the data again\n",
    "dd.head()"
   ]
  },
  {
   "cell_type": "markdown",
   "metadata": {
    "slideshow": {
     "slide_type": "slide"
    }
   },
   "source": [
    "## Use train_test_split to randomly partition data into a train and test set"
   ]
  },
  {
   "cell_type": "code",
   "execution_count": 57,
   "metadata": {
    "collapsed": false,
    "hidePrompt": true,
    "slideshow": {
     "slide_type": "-"
    }
   },
   "outputs": [
    {
     "name": "stdout",
     "output_type": "stream",
     "text": [
      "       X Shape  Y Shape\n",
      "Train (176, 10) (176,)\n",
      "Test  (266, 10) (266,)\n"
     ]
    }
   ],
   "source": [
    "from sklearn.cross_validation import train_test_split\n",
    "\n",
    "X_train, X_test, y_train, y_test = \\\n",
    "train_test_split(dd, dy, test_size=0.6) #this is SUPER IMPORTANT\n",
    "\n",
    "print \"       X Shape  Y Shape\"\n",
    "print \"Train\", X_train.shape, y_train.shape\n",
    "print \"Test \", X_test.shape, y_test.shape"
   ]
  },
  {
   "cell_type": "markdown",
   "metadata": {
    "slideshow": {
     "slide_type": "slide"
    }
   },
   "source": [
    "## Now we fit a model on the training data and test on the testing data."
   ]
  },
  {
   "cell_type": "code",
   "execution_count": 58,
   "metadata": {
    "collapsed": false,
    "hideCode": false,
    "hidePrompt": true,
    "slideshow": {
     "slide_type": "-"
    }
   },
   "outputs": [
    {
     "name": "stdout",
     "output_type": "stream",
     "text": [
      "Score: 0.428327957708\n"
     ]
    },
    {
     "data": {
      "image/png": "[encoded data removed]",
      "text/plain": [
       "<matplotlib.figure.Figure at 0x116abced0>"
      ]
     },
     "metadata": {},
     "output_type": "display_data"
    }
   ],
   "source": [
    "lm = linear_model.LinearRegression()\n",
    "\n",
    "model = lm.fit(X_train, y_train) #fit the model to the training data\n",
    "predictions = lm.predict(X_test) #create model for TEST data\n",
    "\n",
    "## The line / model\n",
    "plt.scatter(y_test, predictions) #compare the hold-out observed y values to the predictions (made with model from test data)\n",
    "plt.xlabel(\"True Values\")\n",
    "plt.ylabel(\"Predictions\")\n",
    "\n",
    "print \"Score:\", model.score(X_test, y_test) #this returns r2"
   ]
  },
  {
   "cell_type": "markdown",
   "metadata": {
    "slideshow": {
     "slide_type": "slide"
    }
   },
   "source": [
    "## Check: Did I use a holdout set or k-fold?"
   ]
  },
  {
   "cell_type": "markdown",
   "metadata": {
    "slideshow": {
     "slide_type": "slide"
    }
   },
   "source": [
    "## Use 6-fold cross validation"
   ]
  },
  {
   "cell_type": "code",
   "execution_count": 59,
   "metadata": {
    "collapsed": false,
    "hideCode": false,
    "hidePrompt": true,
    "slideshow": {
     "slide_type": "-"
    }
   },
   "outputs": [
    {
     "ename": "SyntaxError",
     "evalue": "invalid syntax (<ipython-input-59-37892679c901>, line 12)",
     "output_type": "error",
     "traceback": [
      "\u001b[0;36m  File \u001b[0;32m\"<ipython-input-59-37892679c901>\"\u001b[0;36m, line \u001b[0;32m12\u001b[0m\n\u001b[0;31m    print(\"Cross-Predicted R^2:\", r2_s, \"Mean squared error:\", mse_final)\u001b[0m\n\u001b[0m        ^\u001b[0m\n\u001b[0;31mSyntaxError\u001b[0m\u001b[0;31m:\u001b[0m invalid syntax\n"
     ]
    }
   ],
   "source": [
    "# Perform 6-fold cross validation\n",
    "scores = cross_val_score(model, dd, dy, cv=6)\n",
    "print \"Cross-validated scores:\", scores\n",
    "\n",
    "# Make cross validated predictions\n",
    "predictions = cross_val_predict(model, dd, dy, cv=6)\n",
    "#Downside to increasing folds: \n",
    "plt.scatter(dy, predictions)\n",
    "r2_s = r2_score(dy, predictions)\n",
    "\n",
    "mean_squared_error(dy, y_pred,\n",
    "print(\"Cross-Predicted R^2:\", r2_s, \"Mean squared error:\", mse_final)"
   ]
  },
  {
   "cell_type": "markdown",
   "metadata": {
    "slideshow": {
     "slide_type": "slide"
    }
   },
   "source": [
    "# Guided practice"
   ]
  },
  {
   "cell_type": "markdown",
   "metadata": {
    "slideshow": {
     "slide_type": "-"
    }
   },
   "source": [
    "Use what you've learned to train and test models on the Boston housing data set. If you need a few hints take a look at this example but try your best to make it happen first. \n",
    "\n",
    "Complete the following tasks:\n",
    "1. Fit a linear model to the Boston Housing data using all the available variables. \n",
    "2. Perform test training splits of 50:50, 70:30, and 90:10, comparing the scores on test data.\n",
    "3. For the same setup, perform a k-fold cross validation with k=5 slices (with cross-validated predictions)"
   ]
  },
  {
   "cell_type": "code",
   "execution_count": null,
   "metadata": {
    "collapsed": false
   },
   "outputs": [],
   "source": [
    "\n",
    "from sklearn.cross_validation import train_test_split\n",
    "\n",
    "lcv = sklearn.linear_model.LassoCV()\n",
    "\n",
    "X_train, X_test, y_train, y_test = train_test_split(dd, dy, test_size=.4)\n",
    "\n",
    "lcv_model = lcv.fit(X_train, y_train)\n",
    "lcv_pred = lcv.predict(X_test)\n",
    "lasso_r2 =  r2_score(y_true=y_test, y_pred=lcv_pred)\n",
    "print(\"R sq for Lasso Reg is:\", lasso_r2)\n",
    "\n",
    "print(\"cross validated r^2:\", np.mean(cross_val_score(lcv_model, X_test, y_test, scoring='r2', cv=5)))\n",
    "print(\"r^2 w/o cross-validation\", (lcv_model.score(X_test,y_test)))\n",
    "print(\"cross validated MSE (sign flipped):\", -np.mean(cross_val_score(lcv_model, X_test, y_test, scoring='mean_squared_error', cv=5)))\n",
    "print(\"MSE w/o cross-validation\", (lcv_model.score(X_test,y_test)))\n",
    "\n",
    "# mse\n",
    "# bar\n",
    "# bias\n",
    "\n",
    "\n",
    "fig, ax = plt.subplots()\n",
    "ax.scatter(y_test, lcv_pred, c='blue')\n",
    "#ax.scatter(y, normal_pred, c='orange')\n",
    "#ax.plot([y.min(), y.max()], [y.min(), y.max()], 'k--', lw=4)\n",
    "ax.set_xlabel('Measured')\n",
    "ax.set_ylabel('Predicted')\n",
    "plt.show()\n",
    "\n",
    "\n",
    "# #np.mean(cross_val_score(RidgeCV(), x, y, scoring='mean_squared_error')) \n",
    "\n",
    "\n",
    "print(\"r^2 w/o cross-validation\", (lcv_model.score(test_X,test_y)))\n",
    "\n",
    "# print(\"cross validated r^2:\", cross_val_score(model, x, y, scoring='r2', cv=3)) #this does not randomly distribute \n",
    "# # the data amongst the folds above, \n",
    "# print(\"cross validated mse:\", np.mean(cross_val_score(model, x, y, scoring='mean_squared_error', cv=10)))\n",
    "\n"
   ]
  },
  {
   "cell_type": "markdown",
   "metadata": {
    "slideshow": {
     "slide_type": "slide"
    }
   },
   "source": [
    "# Independent Practice"
   ]
  },
  {
   "cell_type": "markdown",
   "metadata": {
    "slideshow": {
     "slide_type": "-"
    }
   },
   "source": [
    "Ultimately we use a test-training split to compare multiple models on the same dataset. This could be comparisons of two linear models, or of completely different models on the same data.\n",
    "\n",
    "For your independent practice, fit three different models on the Boston housing data. For example, you could pick three different subsets of variables, one or more polynomial models, or any other model that you like. \n",
    "\n",
    "Then:\n",
    "1. Fix a testing/training split of the data\n",
    "2. Train each of your models on the training data\n",
    "3. Evaluate each of the models on the test data\n",
    "4. Rank the models by how well they score on the testing data set.\n",
    "\n",
    "Bonus tasks:\n",
    "1. Try a few different splits of the data for the same models. Does your ranking change?\n",
    "2. Perform a k-fold cross validation and use the cross-validation scores to compare your models. Did this change your rankings?"
   ]
  }
 ],
 "metadata": {
  "celltoolbar": "Slideshow",
  "kernelspec": {
   "display_name": "Python 2",
   "language": "python",
   "name": "python2"
  },
  "language_info": {
   "codemirror_mode": {
    "name": "ipython",
    "version": 2
   },
   "file_extension": ".py",
   "mimetype": "text/x-python",
   "name": "python",
   "nbconvert_exporter": "python",
   "pygments_lexer": "ipython2",
   "version": "2.7.11"
  }
 },
 "nbformat": 4,
 "nbformat_minor": 0
}
