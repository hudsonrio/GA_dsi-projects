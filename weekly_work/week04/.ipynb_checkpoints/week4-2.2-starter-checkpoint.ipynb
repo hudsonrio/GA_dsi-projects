{
 "cells": [
  {
   "cell_type": "markdown",
   "metadata": {},
   "source": [
    "Inform Python we will use the StatsModels Library"
   ]
  },
  {
   "cell_type": "code",
   "execution_count": 1,
   "metadata": {
    "collapsed": true
   },
   "outputs": [],
   "source": [
    "import statsmodels.api as st"
   ]
  },
  {
   "cell_type": "markdown",
   "metadata": {},
   "source": [
    "Use IRIS Dataset"
   ]
  },
  {
   "cell_type": "code",
   "execution_count": 2,
   "metadata": {
    "collapsed": false
   },
   "outputs": [],
   "source": [
    "# import the dataset, declare target and features\n",
    "iris = st.datasets.get_rdataset('iris','datasets')\n",
    "X = iris.data.ix[:, 0:4]\n",
    "X['constant']=1\n",
    "y = iris.data.Species \n",
    "# y=[]\n",
    "# for h in iris.data.Species:\n",
    "#     if h == 'setosa':\n",
    "#         y.append(1)\n",
    "#     elif h == 'virginica':\n",
    "#         y.append(3)\n",
    "#     elif h == 'versicolor':\n",
    "#         y.append(2)\n",
    "        \n",
    "\n",
    "\n",
    "# print(len(y), len(X))"
   ]
  },
  {
   "cell_type": "code",
   "execution_count": null,
   "metadata": {
    "collapsed": false
   },
   "outputs": [],
   "source": []
  },
  {
   "cell_type": "markdown",
   "metadata": {},
   "source": [
    "Setup the Logistic Regression "
   ]
  },
  {
   "cell_type": "code",
   "execution_count": 3,
   "metadata": {
    "collapsed": false
   },
   "outputs": [
    {
     "name": "stdout",
     "output_type": "stream",
     "text": [
      "Warning: Maximum number of iterations has been exceeded.\n",
      "         Current function value: 0.057112\n",
      "         Iterations: 35\n",
      "         Function evaluations: 37\n",
      "         Gradient evaluations: 37\n"
     ]
    },
    {
     "name": "stderr",
     "output_type": "stream",
     "text": [
      "/Users/HudsonCavanagh/anaconda/lib/python2.7/site-packages/statsmodels/base/model.py:466: ConvergenceWarning: Maximum Likelihood optimization failed to converge. Check mle_retvals\n",
      "  \"Check mle_retvals\", ConvergenceWarning)\n"
     ]
    }
   ],
   "source": [
    "# add column of ones for our y-intercept (http://blog.yhat.com/posts/logistic-regression-and-python.html)\n",
    "\n",
    "#declare our model\n",
    "\n",
    "model = st.MNLogit(y,X) #may want to remove multivariete later\n",
    "cancer_model = model.fit(method ='bfgs')\n",
    "\n",
    "\n"
   ]
  },
  {
   "cell_type": "markdown",
   "metadata": {},
   "source": [
    "Perform the Regression using the Fit Method"
   ]
  },
  {
   "cell_type": "code",
   "execution_count": null,
   "metadata": {
    "collapsed": false
   },
   "outputs": [],
   "source": []
  },
  {
   "cell_type": "markdown",
   "metadata": {},
   "source": [
    "Print a summary of the results"
   ]
  },
  {
   "cell_type": "code",
   "execution_count": 4,
   "metadata": {
    "collapsed": false
   },
   "outputs": [
    {
     "data": {
      "text/html": [
       "<table class=\"simpletable\">\n",
       "<caption>MNLogit Regression Results</caption>\n",
       "<tr>\n",
       "  <th>Dep. Variable:</th>      <td>Species</td>     <th>  No. Observations:  </th>  <td>   150</td>  \n",
       "</tr>\n",
       "<tr>\n",
       "  <th>Model:</th>              <td>MNLogit</td>     <th>  Df Residuals:      </th>  <td>   140</td>  \n",
       "</tr>\n",
       "<tr>\n",
       "  <th>Method:</th>               <td>MLE</td>       <th>  Df Model:          </th>  <td>     8</td>  \n",
       "</tr>\n",
       "<tr>\n",
       "  <th>Date:</th>          <td>Tue, 28 Jun 2016</td> <th>  Pseudo R-squ.:     </th>  <td>0.9480</td>  \n",
       "</tr>\n",
       "<tr>\n",
       "  <th>Time:</th>              <td>11:52:43</td>     <th>  Log-Likelihood:    </th> <td> -8.5668</td> \n",
       "</tr>\n",
       "<tr>\n",
       "  <th>converged:</th>           <td>False</td>      <th>  LL-Null:           </th> <td> -164.79</td> \n",
       "</tr>\n",
       "<tr>\n",
       "  <th> </th>                      <td> </td>        <th>  LLR p-value:       </th> <td>9.200e-63</td>\n",
       "</tr>\n",
       "</table>\n",
       "<table class=\"simpletable\">\n",
       "<tr>\n",
       "  <th>Species=versicolor</th>    <th>coef</th>     <th>std err</th>      <th>z</th>      <th>P>|z|</th> <th>[95.0% Conf. Int.]</th> \n",
       "</tr>\n",
       "<tr>\n",
       "  <th>Sepal.Length</th>       <td>   -1.4959</td> <td>  444.817</td> <td>   -0.003</td> <td> 0.997</td> <td> -873.321   870.330</td>\n",
       "</tr>\n",
       "<tr>\n",
       "  <th>Sepal.Width</th>        <td>   -8.0560</td> <td>  282.766</td> <td>   -0.028</td> <td> 0.977</td> <td> -562.267   546.155</td>\n",
       "</tr>\n",
       "<tr>\n",
       "  <th>Petal.Length</th>       <td>   11.9301</td> <td>  374.116</td> <td>    0.032</td> <td> 0.975</td> <td> -721.323   745.184</td>\n",
       "</tr>\n",
       "<tr>\n",
       "  <th>Petal.Width</th>        <td>    1.7039</td> <td>  759.366</td> <td>    0.002</td> <td> 0.998</td> <td>-1486.627  1490.035</td>\n",
       "</tr>\n",
       "<tr>\n",
       "  <th>constant</th>           <td>    1.6444</td> <td> 1550.515</td> <td>    0.001</td> <td> 0.999</td> <td>-3037.309  3040.597</td>\n",
       "</tr>\n",
       "<tr>\n",
       "  <th>Species=virginica</th>    <th>coef</th>     <th>std err</th>      <th>z</th>      <th>P>|z|</th> <th>[95.0% Conf. Int.]</th> \n",
       "</tr>\n",
       "<tr>\n",
       "  <th>Sepal.Length</th>      <td>   -8.0348</td> <td>  444.835</td> <td>   -0.018</td> <td> 0.986</td> <td> -879.896   863.827</td>\n",
       "</tr>\n",
       "<tr>\n",
       "  <th>Sepal.Width</th>       <td>  -15.8195</td> <td>  282.793</td> <td>   -0.056</td> <td> 0.955</td> <td> -570.083   538.444</td>\n",
       "</tr>\n",
       "<tr>\n",
       "  <th>Petal.Length</th>      <td>   22.1797</td> <td>  374.155</td> <td>    0.059</td> <td> 0.953</td> <td> -711.152   755.511</td>\n",
       "</tr>\n",
       "<tr>\n",
       "  <th>Petal.Width</th>       <td>   14.0603</td> <td>  759.384</td> <td>    0.019</td> <td> 0.985</td> <td>-1474.304  1502.425</td>\n",
       "</tr>\n",
       "<tr>\n",
       "  <th>constant</th>          <td>   -6.5053</td> <td> 1550.533</td> <td>   -0.004</td> <td> 0.997</td> <td>-3045.493  3032.483</td>\n",
       "</tr>\n",
       "</table>"
      ],
      "text/plain": [
       "<class 'statsmodels.iolib.summary.Summary'>\n",
       "\"\"\"\n",
       "                          MNLogit Regression Results                          \n",
       "==============================================================================\n",
       "Dep. Variable:                Species   No. Observations:                  150\n",
       "Model:                        MNLogit   Df Residuals:                      140\n",
       "Method:                           MLE   Df Model:                            8\n",
       "Date:                Tue, 28 Jun 2016   Pseudo R-squ.:                  0.9480\n",
       "Time:                        11:52:43   Log-Likelihood:                -8.5668\n",
       "converged:                      False   LL-Null:                       -164.79\n",
       "                                        LLR p-value:                 9.200e-63\n",
       "=====================================================================================\n",
       "Species=versicolor       coef    std err          z      P>|z|      [95.0% Conf. Int.]\n",
       "--------------------------------------------------------------------------------------\n",
       "Sepal.Length          -1.4959    444.817     -0.003      0.997      -873.321   870.330\n",
       "Sepal.Width           -8.0560    282.766     -0.028      0.977      -562.267   546.155\n",
       "Petal.Length          11.9301    374.116      0.032      0.975      -721.323   745.184\n",
       "Petal.Width            1.7039    759.366      0.002      0.998     -1486.627  1490.035\n",
       "constant               1.6444   1550.515      0.001      0.999     -3037.309  3040.597\n",
       "--------------------------------------------------------------------------------------\n",
       "Species=virginica       coef    std err          z      P>|z|      [95.0% Conf. Int.]\n",
       "-------------------------------------------------------------------------------------\n",
       "Sepal.Length         -8.0348    444.835     -0.018      0.986      -879.896   863.827\n",
       "Sepal.Width         -15.8195    282.793     -0.056      0.955      -570.083   538.444\n",
       "Petal.Length         22.1797    374.155      0.059      0.953      -711.152   755.511\n",
       "Petal.Width          14.0603    759.384      0.019      0.985     -1474.304  1502.425\n",
       "constant             -6.5053   1550.533     -0.004      0.997     -3045.493  3032.483\n",
       "=====================================================================================\n",
       "\"\"\""
      ]
     },
     "execution_count": 4,
     "metadata": {},
     "output_type": "execute_result"
    }
   ],
   "source": [
    "cancer_model.summary()"
   ]
  },
  {
   "cell_type": "code",
   "execution_count": 5,
   "metadata": {
    "collapsed": true
   },
   "outputs": [],
   "source": [
    "mdl_margeff = cancer_model.get_margeff()"
   ]
  },
  {
   "cell_type": "code",
   "execution_count": 6,
   "metadata": {
    "collapsed": false
   },
   "outputs": [
    {
     "name": "stdout",
     "output_type": "stream",
     "text": [
      "<statsmodels.discrete.discrete_margins.DiscreteMargins object at 0x115b27b90>\n"
     ]
    }
   ],
   "source": [
    "print(mdl_margeff)"
   ]
  },
  {
   "cell_type": "code",
   "execution_count": 7,
   "metadata": {
    "collapsed": false
   },
   "outputs": [
    {
     "name": "stdout",
     "output_type": "stream",
     "text": [
      "(37.133652789614302, 67.240005730576854)\n"
     ]
    }
   ],
   "source": [
    "print(cancer_model.aic, cancer_model.bic)"
   ]
  },
  {
   "cell_type": "code",
   "execution_count": null,
   "metadata": {
    "collapsed": true
   },
   "outputs": [],
   "source": []
  }
 ],
 "metadata": {
  "kernelspec": {
   "display_name": "Python 2",
   "language": "python",
   "name": "python2"
  },
  "language_info": {
   "codemirror_mode": {
    "name": "ipython",
    "version": 2
   },
   "file_extension": ".py",
   "mimetype": "text/x-python",
   "name": "python",
   "nbconvert_exporter": "python",
   "pygments_lexer": "ipython2",
   "version": "2.7.11"
  }
 },
 "nbformat": 4,
 "nbformat_minor": 0
}
