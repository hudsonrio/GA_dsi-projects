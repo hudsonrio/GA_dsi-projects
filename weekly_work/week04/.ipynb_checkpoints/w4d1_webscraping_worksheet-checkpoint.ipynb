{
 "cells": [
  {
   "cell_type": "code",
   "execution_count": 1,
   "metadata": {
    "collapsed": true
   },
   "outputs": [],
   "source": [
    "from __future__ import division, print_function\n",
    "\n",
    "import requests\n",
    "\n",
    "import pandas as pd\n",
    "import numpy as np\n",
    "\n",
    "from IPython.core.display import HTML, Image"
   ]
  },
  {
   "cell_type": "code",
   "execution_count": 2,
   "metadata": {
    "collapsed": false
   },
   "outputs": [],
   "source": [
    "PATH = './assets/images/'"
   ]
  },
  {
   "cell_type": "markdown",
   "metadata": {},
   "source": [
    "# Webscraping"
   ]
  },
  {
   "cell_type": "markdown",
   "metadata": {},
   "source": [
    "In data science work, it is often necessary to retrieve data from websites. Occassionally, sites will provide an API that allows their data to be easily accessed, but often this isn't the case. When an API is not available, the only real option is to build a webscraper. A webscraper retrieves the webpage in the same way your browser retrieves the page, but because we're doing it with code, we are able to parse the resulting site's webpage. \n",
    "\n",
    "To understand how to retrieve and parse a webpage, we need to know about two things:\n",
    "HTTP and the DOM."
   ]
  },
  {
   "cell_type": "markdown",
   "metadata": {},
   "source": [
    "## HTTP"
   ]
  },
  {
   "cell_type": "markdown",
   "metadata": {},
   "source": [
    "Hypertext Transfer Protocol, or HTTP, is a text-based standard that allows clients and servers to communicate over TCP/IP. YOu can think of HTTP as the language computers communicate with and TCP/IP as the channel over which it is done. HTTP is based on a client-server model. A client makes a request for some resource, and the server responds with the status of that request and the resource if available."
   ]
  },
  {
   "cell_type": "markdown",
   "metadata": {},
   "source": [
    "## HTTP Requests"
   ]
  },
  {
   "cell_type": "markdown",
   "metadata": {},
   "source": [
    "There are two common types of HTTP requests: GET and POST"
   ]
  },
  {
   "cell_type": "markdown",
   "metadata": {},
   "source": [
    "### GET"
   ]
  },
  {
   "cell_type": "markdown",
   "metadata": {},
   "source": [
    "GET requests are by far the most common, they simply ask the server to retrieve some resource, typically a webpage, and to return it."
   ]
  },
  {
   "cell_type": "code",
   "execution_count": 3,
   "metadata": {
    "collapsed": false
   },
   "outputs": [
    {
     "data": {
      "image/png": "[encoded data removed]",
      "text/plain": [
       "<IPython.core.display.Image object>"
      ]
     },
     "execution_count": 3,
     "metadata": {},
     "output_type": "execute_result"
    }
   ],
   "source": [
    "Image(PATH + 'get_header.png')"
   ]
  },
  {
   "cell_type": "markdown",
   "metadata": {},
   "source": [
    "### POST"
   ]
  },
  {
   "cell_type": "markdown",
   "metadata": {},
   "source": [
    "A POST request is nearly identical to a GET request, but includes a payload of some sort in the request body. "
   ]
  },
  {
   "cell_type": "code",
   "execution_count": 4,
   "metadata": {
    "collapsed": false
   },
   "outputs": [
    {
     "data": {
      "image/png": "[encoded data removed]",
      "text/plain": [
       "<IPython.core.display.Image object>"
      ]
     },
     "execution_count": 4,
     "metadata": {},
     "output_type": "execute_result"
    }
   ],
   "source": [
    "Image(PATH + 'post_header.png')"
   ]
  },
  {
   "cell_type": "markdown",
   "metadata": {},
   "source": [
    "## Typical Use Cases"
   ]
  },
  {
   "cell_type": "markdown",
   "metadata": {},
   "source": [
    "GET requests are the standard way to request a webpage (as your browser would do). Some simple forms will use get as well. More sophisticaed forms will utilize a POST request. GET requests pass parameters in the URL, while POST requests do not. This tends to make POST request more secure. \n",
    "\n",
    "N.B. Do not rely on POST alone as a security measure!"
   ]
  },
  {
   "cell_type": "markdown",
   "metadata": {},
   "source": [
    "## HTTP Response"
   ]
  },
  {
   "cell_type": "markdown",
   "metadata": {},
   "source": [
    "Once a request is made, the server will respond, and the first thing they will respond with is a response code."
   ]
  },
  {
   "cell_type": "markdown",
   "metadata": {},
   "source": [
    "### Response codes"
   ]
  },
  {
   "cell_type": "markdown",
   "metadata": {},
   "source": [
    "- 1XX - Informational\n",
    "- 2XX - Success\n",
    "- 3XX - Redirection\n",
    "- 4XX - Client Error\n",
    "- 5XX - Server Error"
   ]
  },
  {
   "cell_type": "markdown",
   "metadata": {},
   "source": [
    "### Greatest Hits"
   ]
  },
  {
   "cell_type": "markdown",
   "metadata": {},
   "source": [
    "- **200 - OK** - The requested action was successfully executed\n",
    "- **301 - Moved Permanently** - The resource has been relocated (and will not be back, so please stop asking me)\n",
    "- **400 - Bad Request** - The the client request is malformed in some way\n",
    "- **403 - Forbidden** - The requesting client (i.e. you) does not have permission to view the resource\n",
    "- **404 - Not Found** - The resource can't be found at the moment (may be in the future, so check back later)\n",
    "- **405 - Method Not Allowed** - Used GET when only POST was applicable for example\n",
    "- **418 - I'm a teapot** - For when the server is a teapot\n",
    "- **420 - NOT an HTTP code** - you're thinking of something else\n",
    "- **429 - Too Many Requests** - They're on to you and if you keep it up, they'll block you permenantly\n",
    "- **500 - Internal Server Error** -Some non-specific bad happened on their end\n",
    "- **502 - Bad Gateway** - The server was waiting on another resource and it ended badly\n",
    "- **503 - Service Unavailable** - The server is overloaded or down at the moment"
   ]
  },
  {
   "cell_type": "markdown",
   "metadata": {},
   "source": [
    "## DEMO: Using Python Requests library to retrieve web pages"
   ]
  },
  {
   "cell_type": "code",
   "execution_count": 5,
   "metadata": {
    "collapsed": true
   },
   "outputs": [],
   "source": [
    "import requests"
   ]
  },
  {
   "cell_type": "markdown",
   "metadata": {},
   "source": [
    "## First, we make a request to retrieve a website"
   ]
  },
  {
   "cell_type": "code",
   "execution_count": 6,
   "metadata": {
    "collapsed": true
   },
   "outputs": [],
   "source": [
    "r = requests.get('http://news.ycombinator.com')"
   ]
  },
  {
   "cell_type": "markdown",
   "metadata": {},
   "source": [
    "### We can check the response code"
   ]
  },
  {
   "cell_type": "code",
   "execution_count": 7,
   "metadata": {
    "collapsed": false
   },
   "outputs": [
    {
     "data": {
      "text/plain": [
       "<Response [200]>"
      ]
     },
     "execution_count": 7,
     "metadata": {},
     "output_type": "execute_result"
    }
   ],
   "source": [
    "r"
   ]
  },
  {
   "cell_type": "markdown",
   "metadata": {},
   "source": [
    "### Let's see the headers we sent"
   ]
  },
  {
   "cell_type": "code",
   "execution_count": 8,
   "metadata": {
    "collapsed": false
   },
   "outputs": [
    {
     "data": {
      "text/plain": [
       "{'Connection': 'keep-alive', 'Cookie': '__cfduid=d9c594aa8ec082f3ede0ea013db801e4a1467051001', 'Accept-Encoding': 'gzip, deflate', 'Accept': '*/*', 'User-Agent': 'python-requests/2.9.1'}"
      ]
     },
     "execution_count": 8,
     "metadata": {},
     "output_type": "execute_result"
    }
   ],
   "source": [
    "r.request.headers"
   ]
  },
  {
   "cell_type": "code",
   "execution_count": 9,
   "metadata": {
    "collapsed": false
   },
   "outputs": [
    {
     "name": "stdout",
     "output_type": "stream",
     "text": [
      "Connection: keep-alive\n",
      "Cookie: __cfduid=d9c594aa8ec082f3ede0ea013db801e4a1467051001\n",
      "Accept-Encoding: gzip, deflate\n",
      "Accept: */*\n",
      "User-Agent: python-requests/2.9.1\n"
     ]
    }
   ],
   "source": [
    "for k, v in r.request.headers.items(): #this is structured like a dictionary\n",
    "    print(k + ':', v)"
   ]
  },
  {
   "cell_type": "markdown",
   "metadata": {},
   "source": [
    "## We can also see the response headers"
   ]
  },
  {
   "cell_type": "code",
   "execution_count": 10,
   "metadata": {
    "collapsed": false
   },
   "outputs": [
    {
     "data": {
      "text/plain": [
       "{'Content-Encoding': 'gzip', 'Transfer-Encoding': 'chunked', 'Strict-Transport-Security': 'max-age=31556900; includeSubDomains', 'Vary': 'Accept-Encoding', 'Server': 'cloudflare-nginx', 'Connection': 'keep-alive', 'Cache-Control': 'private, max-age=0', 'Date': 'Mon, 27 Jun 2016 18:10:01 GMT', 'X-Frame-Options': 'DENY', 'Content-Type': 'text/html; charset=utf-8', 'CF-RAY': '2b9ada7539400eeb-EWR'}"
      ]
     },
     "execution_count": 10,
     "metadata": {},
     "output_type": "execute_result"
    }
   ],
   "source": [
    "r.headers"
   ]
  },
  {
   "cell_type": "code",
   "execution_count": 11,
   "metadata": {
    "collapsed": false
   },
   "outputs": [
    {
     "name": "stdout",
     "output_type": "stream",
     "text": [
      "Content-Encoding: gzip\n",
      "Transfer-Encoding: chunked\n",
      "Strict-Transport-Security: max-age=31556900; includeSubDomains\n",
      "Vary: Accept-Encoding\n",
      "Server: cloudflare-nginx\n",
      "Connection: keep-alive\n",
      "Cache-Control: private, max-age=0\n",
      "Date: Mon, 27 Jun 2016 18:10:01 GMT\n",
      "X-Frame-Options: DENY\n",
      "Content-Type: text/html; charset=utf-8\n",
      "CF-RAY: 2b9ada7539400eeb-EWR\n"
     ]
    }
   ],
   "source": [
    "for k, v in r.headers.items():\n",
    "    print(k + ':', v)"
   ]
  },
  {
   "cell_type": "markdown",
   "metadata": {},
   "source": [
    "## Let's see what content came back"
   ]
  },
  {
   "cell_type": "code",
   "execution_count": 12,
   "metadata": {
    "collapsed": false
   },
   "outputs": [
    {
     "data": {
      "text/plain": [
       "'<html op=\"news\"><head><meta name=\"referrer\" content=\"origin\"><meta name=\"viewport\" content=\"width=device-width, initial-scale=1.0\"><link rel=\"stylesheet\" type=\"text/css\" href=\"news.css?vPYhKXHRXSuc4TqypFgD\">\\n        <link rel=\"shortcut icon\" href=\"favicon.ico\">\\n          <link rel=\"alternate\" type=\"application/rss+xml\" title=\"RSS\" href=\"rss\">\\n        <script type=\"text/javascript\">\\nfunction hide(id) {\\n  var el = document.getElementById(id);\\n  if (el) { el.style.visibility = \\'hidden\\'; }\\n}\\nfunction vote(node) {\\n  var v = node.id.split(/_/);\\n  var item = v[1];\\n  hide(\\'up_\\'   + item);\\n  hide(\\'down_\\' + item);\\n  var ping = new Image();\\n  ping.src = node.href;\\n  return false;\\n  }\\n    </script><title>Hacker News</title></head><body><center><table id=\"hnmain\" border=\"0\" cellpadding=\"0\" cellspacing=\"0\" width=\"85%\" bgcolor=\"#f6f6ef\">\\n        <tr><td bgcolor=\"#ff6600\"><table border=\"0\" cellpadding=\"0\" cellspacing=\"0\" width=\"100%\" style=\"padding:2px\"><tr><td style=\"width:18px;padding-right:4px\"><a href=\"http://www.ycombinator.com\"><img src=\"y18.gif\" width=\"18\" height=\"18\" style=\"border:1px white solid;\"></a></td>\\n                  <td style=\"line-height:12pt; height:10px;\"><span class=\"pagetop\"><b class=\"hnname\"><a href=\"news\">Hacker News</a></b>\\n              <a href=\"newest\">new</a> | <a href=\"newcomments\">comments</a> | <a href=\"show\">show</a> | <a href=\"ask\">ask</a> | <a href=\"jobs\">jobs</a> | <a href=\"submit\">submit</a>            </span></td><td style=\"text-align:right;padding-right:4px;\"><span class=\"pagetop\">\\n                              <a href=\"login?goto=news\">login</a>\\n                          </span></td>\\n              </tr></table></td></tr>\\n<tr style=\"height:10px\"></tr><tr><td><table border=\"0\" cellpadding=\"0\" cellspacing=\"0\" class=\"itemlist\">\\n              <tr class=\\'athing\\'>\\n      <td align=\"right\" valign=\"top\" class=\"title\"><span class=\"rank\">1.</span></td>      <td valign=\"top\" class=\"votelinks\"><center><a id=\\'up_11987032\\' href=\\'vote?id=11987032&amp;how=up&amp;goto=news\\'><div class=\\'votearrow\\' title=\\'upvote\\'></div></a></center></td><td class=\"title\"><a href=\"http://blog.ycombinator.com/new-cities\" class=\"storylink\">New Cities</a><span class=\"sitebit comhead\"> (<a href=\"from?site=ycombinator.com\"><span class=\"sitestr\">ycombinator.com</span></a>)</span></td></tr><tr><td colspan=\"2\"></td><td class=\"subtext\">\\n        <span class=\"score\" id=\"score_11987032\">264 points</span> by <a href=\"user?id=dwaxe\" class=\"hnuser\">dwaxe</a> <span class=\"age\"><a href=\"item?id=11987032\">2 hours ago</a></span> <span id=\"unv_11987032\"></span> | <a href=\"item?id=11987032\">204 comments</a>              </td></tr>\\n      <tr class=\"spacer\" style=\"height:5px\"></tr>\\n                <tr class=\\'athing\\'>\\n      <td align=\"right\" valign=\"top\" class=\"title\"><span class=\"rank\">2.</span></td>      <td valign=\"top\" class=\"votelinks\"><center><a id=\\'up_11986705\\' href=\\'vote?id=11986705&amp;how=up&amp;goto=news\\'><div class=\\'votearrow\\' title=\\'upvote\\'></div></a></center></td><td class=\"title\"><a href=\"https://blogs.msdn.microsoft.com/dotnet/2016/06/27/announcing-net-core-1-0/\" class=\"storylink\">Announcing .NET Core 1.0</a><span class=\"sitebit comhead\"> (<a href=\"from?site=microsoft.com\"><span class=\"sitestr\">microsoft.com</span></a>)</span></td></tr><tr><td colspan=\"2\"></td><td class=\"subtext\">\\n        <span class=\"score\" id=\"score_11986705\">299 points</span> by <a href=\"user?id=runesoerensen\" class=\"hnuser\">runesoerensen</a> <span class=\"age\"><a href=\"item?id=11986705\">2 hours ago</a></span> <span id=\"unv_11986705\"></span> | <a href=\"item?id=11986705\">116 comments</a>              </td></tr>\\n      <tr class=\"spacer\" style=\"height:5px\"></tr>\\n                <tr class=\\'athing\\'>\\n      <td align=\"right\" valign=\"top\" class=\"title\"><span class=\"rank\">3.</span></td>      <td valign=\"top\" class=\"votelinks\"><center><a id=\\'up_11987415\\' href=\\'vote?id=11987415&amp;how=up&amp;goto=news\\'><div class=\\'votearrow\\' title=\\'upvote\\'></div></a></center></td><td class=\"title\"><a href=\"https://www.youtube.com/watch?v=mPn2AdMH7UQ\" class=\"storylink\">Donald Knuth: Surreal Numbers [video]</a><span class=\"sitebit comhead\"> (<a href=\"from?site=youtube.com\"><span class=\"sitestr\">youtube.com</span></a>)</span></td></tr><tr><td colspan=\"2\"></td><td class=\"subtext\">\\n        <span class=\"score\" id=\"score_11987415\">35 points</span> by <a href=\"user?id=Jerry2\" class=\"hnuser\">Jerry2</a> <span class=\"age\"><a href=\"item?id=11987415\">1 hour ago</a></span> <span id=\"unv_11987415\"></span> | <a href=\"item?id=11987415\">10 comments</a>              </td></tr>\\n      <tr class=\"spacer\" style=\"height:5px\"></tr>\\n                <tr class=\\'athing\\'>\\n      <td align=\"right\" valign=\"top\" class=\"title\"><span class=\"rank\">4.</span></td>      <td valign=\"top\" class=\"votelinks\"><center><a id=\\'up_11987414\\' href=\\'vote?id=11987414&amp;how=up&amp;goto=news\\'><div class=\\'votearrow\\' title=\\'upvote\\'></div></a></center></td><td class=\"title\"><a href=\"https://medium.com/@dannypage/stop-using-google-trends-a5014dd32588\" class=\"storylink\">Stop Using Google Trends</a><span class=\"sitebit comhead\"> (<a href=\"from?site=medium.com\"><span class=\"sitestr\">medium.com</span></a>)</span></td></tr><tr><td colspan=\"2\"></td><td class=\"subtext\">\\n        <span class=\"score\" id=\"score_11987414\">52 points</span> by <a href=\"user?id=prostoalex\" class=\"hnuser\">prostoalex</a> <span class=\"age\"><a href=\"item?id=11987414\">1 hour ago</a></span> <span id=\"unv_11987414\"></span> | <a href=\"item?id=11987414\">6 comments</a>              </td></tr>\\n      <tr class=\"spacer\" style=\"height:5px\"></tr>\\n                <tr class=\\'athing\\'>\\n      <td align=\"right\" valign=\"top\" class=\"title\"><span class=\"rank\">5.</span></td>      <td valign=\"top\" class=\"votelinks\"><center><a id=\\'up_11986480\\' href=\\'vote?id=11986480&amp;how=up&amp;goto=news\\'><div class=\\'votearrow\\' title=\\'upvote\\'></div></a></center></td><td class=\"title\"><a href=\"http://anime-js.com/\" class=\"storylink\">Show HN: Anime.js \\xe2\\x80\\x93 Polyvalent JavaScript Animation Engine</a><span class=\"sitebit comhead\"> (<a href=\"from?site=anime-js.com\"><span class=\"sitestr\">anime-js.com</span></a>)</span></td></tr><tr><td colspan=\"2\"></td><td class=\"subtext\">\\n        <span class=\"score\" id=\"score_11986480\">140 points</span> by <a href=\"user?id=JulianGarnier\" class=\"hnuser\">JulianGarnier</a> <span class=\"age\"><a href=\"item?id=11986480\">3 hours ago</a></span> <span id=\"unv_11986480\"></span> | <a href=\"item?id=11986480\">34 comments</a>              </td></tr>\\n      <tr class=\"spacer\" style=\"height:5px\"></tr>\\n                <tr class=\\'athing\\'>\\n      <td align=\"right\" valign=\"top\" class=\"title\"><span class=\"rank\">6.</span></td>      <td valign=\"top\" class=\"votelinks\"><center><a id=\\'up_11987324\\' href=\\'vote?id=11987324&amp;how=up&amp;goto=news\\'><div class=\\'votearrow\\' title=\\'upvote\\'></div></a></center></td><td class=\"title\"><a href=\"http://www.righto.com/2016/06/hello-world-in-bcpl-language-on-xerox.html\" class=\"storylink\">\\xe2\\x80\\x9cHello world\\xe2\\x80\\x9d in the BCPL language on the Xerox Alto simulator</a><span class=\"sitebit comhead\"> (<a href=\"from?site=righto.com\"><span class=\"sitestr\">righto.com</span></a>)</span></td></tr><tr><td colspan=\"2\"></td><td class=\"subtext\">\\n        <span class=\"score\" id=\"score_11987324\">21 points</span> by <a href=\"user?id=tonyg\" class=\"hnuser\">tonyg</a> <span class=\"age\"><a href=\"item?id=11987324\">1 hour ago</a></span> <span id=\"unv_11987324\"></span> | <a href=\"item?id=11987324\">2 comments</a>              </td></tr>\\n      <tr class=\"spacer\" style=\"height:5px\"></tr>\\n                <tr class=\\'athing\\'>\\n      <td align=\"right\" valign=\"top\" class=\"title\"><span class=\"rank\">7.</span></td>      <td valign=\"top\" class=\"votelinks\"><center><a id=\\'up_11985261\\' href=\\'vote?id=11985261&amp;how=up&amp;goto=news\\'><div class=\\'votearrow\\' title=\\'upvote\\'></div></a></center></td><td class=\"title\"><a href=\"https://blog.benjojo.co.uk/post/cheap-hdmi-capture-for-linux\" class=\"storylink\">Cheap HDMI capture for Linux</a><span class=\"sitebit comhead\"> (<a href=\"from?site=benjojo.co.uk\"><span class=\"sitestr\">benjojo.co.uk</span></a>)</span></td></tr><tr><td colspan=\"2\"></td><td class=\"subtext\">\\n        <span class=\"score\" id=\"score_11985261\">300 points</span> by <a href=\"user?id=benjojo12\" class=\"hnuser\">benjojo12</a> <span class=\"age\"><a href=\"item?id=11985261\">7 hours ago</a></span> <span id=\"unv_11985261\"></span> | <a href=\"item?id=11985261\">46 comments</a>              </td></tr>\\n      <tr class=\"spacer\" style=\"height:5px\"></tr>\\n                <tr class=\\'athing\\'>\\n      <td align=\"right\" valign=\"top\" class=\"title\"><span class=\"rank\">8.</span></td>      <td valign=\"top\" class=\"votelinks\"><center><a id=\\'up_11986789\\' href=\\'vote?id=11986789&amp;how=up&amp;goto=news\\'><div class=\\'votearrow\\' title=\\'upvote\\'></div></a></center></td><td class=\"title\"><a href=\"http://themacro.com/articles/2016/06/the-real-product-market-fit/\" class=\"storylink\">The Real Product Market Fit</a><span class=\"sitebit comhead\"> (<a href=\"from?site=themacro.com\"><span class=\"sitestr\">themacro.com</span></a>)</span></td></tr><tr><td colspan=\"2\"></td><td class=\"subtext\">\\n        <span class=\"score\" id=\"score_11986789\">44 points</span> by <a href=\"user?id=craigcannon\" class=\"hnuser\">craigcannon</a> <span class=\"age\"><a href=\"item?id=11986789\">2 hours ago</a></span> <span id=\"unv_11986789\"></span> | <a href=\"item?id=11986789\">24 comments</a>              </td></tr>\\n      <tr class=\"spacer\" style=\"height:5px\"></tr>\\n                <tr class=\\'athing\\'>\\n      <td align=\"right\" valign=\"top\" class=\"title\"><span class=\"rank\">9.</span></td>      <td valign=\"top\" class=\"votelinks\"><center><a id=\\'up_11985368\\' href=\\'vote?id=11985368&amp;how=up&amp;goto=news\\'><div class=\\'votearrow\\' title=\\'upvote\\'></div></a></center></td><td class=\"title\"><a href=\"http://avc.com/2016/06/best-seed-pitch-ever/?utm_source=feedburner&amp;utm_medium=feed&amp;utm_campaign=Feed%3A+AVc+%28A+VC%29\" class=\"storylink\">Best Seed Pitch</a><span class=\"sitebit comhead\"> (<a href=\"from?site=avc.com\"><span class=\"sitestr\">avc.com</span></a>)</span></td></tr><tr><td colspan=\"2\"></td><td class=\"subtext\">\\n        <span class=\"score\" id=\"score_11985368\">200 points</span> by <a href=\"user?id=mathattack\" class=\"hnuser\">mathattack</a> <span class=\"age\"><a href=\"item?id=11985368\">7 hours ago</a></span> <span id=\"unv_11985368\"></span> | <a href=\"item?id=11985368\">53 comments</a>              </td></tr>\\n      <tr class=\"spacer\" style=\"height:5px\"></tr>\\n                <tr class=\\'athing\\'>\\n      <td align=\"right\" valign=\"top\" class=\"title\"><span class=\"rank\">10.</span></td>      <td valign=\"top\" class=\"votelinks\"><center><a id=\\'up_11987114\\' href=\\'vote?id=11987114&amp;how=up&amp;goto=news\\'><div class=\\'votearrow\\' title=\\'upvote\\'></div></a></center></td><td class=\"title\"><a href=\"https://docs.microsoft.com/teamblog/introducing-net-core-docs/\" class=\"storylink\">Introducing .NET Core Docs</a><span class=\"sitebit comhead\"> (<a href=\"from?site=microsoft.com\"><span class=\"sitestr\">microsoft.com</span></a>)</span></td></tr><tr><td colspan=\"2\"></td><td class=\"subtext\">\\n        <span class=\"score\" id=\"score_11987114\">57 points</span> by <a href=\"user?id=dend\" class=\"hnuser\">dend</a> <span class=\"age\"><a href=\"item?id=11987114\">1 hour ago</a></span> <span id=\"unv_11987114\"></span> | <a href=\"item?id=11987114\">8 comments</a>              </td></tr>\\n      <tr class=\"spacer\" style=\"height:5px\"></tr>\\n                <tr class=\\'athing\\'>\\n      <td align=\"right\" valign=\"top\" class=\"title\"><span class=\"rank\">11.</span></td>      <td valign=\"top\" class=\"votelinks\"><center><a id=\\'up_11987058\\' href=\\'vote?id=11987058&amp;how=up&amp;goto=news\\'><div class=\\'votearrow\\' title=\\'upvote\\'></div></a></center></td><td class=\"title\"><a href=\"http://www.bls.gov/opub/mlr/2016/article/the-life-of-american-workers-in-1915.htm\" class=\"storylink\">The life of American workers in 1915</a><span class=\"sitebit comhead\"> (<a href=\"from?site=bls.gov\"><span class=\"sitestr\">bls.gov</span></a>)</span></td></tr><tr><td colspan=\"2\"></td><td class=\"subtext\">\\n        <span class=\"score\" id=\"score_11987058\">27 points</span> by <a href=\"user?id=sinak\" class=\"hnuser\">sinak</a> <span class=\"age\"><a href=\"item?id=11987058\">2 hours ago</a></span> <span id=\"unv_11987058\"></span> | <a href=\"item?id=11987058\">9 comments</a>              </td></tr>\\n      <tr class=\"spacer\" style=\"height:5px\"></tr>\\n                <tr class=\\'athing\\'>\\n      <td align=\"right\" valign=\"top\" class=\"title\"><span class=\"rank\">12.</span></td>      <td valign=\"top\" class=\"votelinks\"><center><a id=\\'up_11987702\\' href=\\'vote?id=11987702&amp;how=up&amp;goto=news\\'><div class=\\'votearrow\\' title=\\'upvote\\'></div></a></center></td><td class=\"title\"><a href=\"https://coreos.com/blog/prometheus-and-kubernetes-up-and-running.html\" class=\"storylink\">Prometheus and Kubernetes up and running</a><span class=\"sitebit comhead\"> (<a href=\"from?site=coreos.com\"><span class=\"sitestr\">coreos.com</span></a>)</span></td></tr><tr><td colspan=\"2\"></td><td class=\"subtext\">\\n        <span class=\"score\" id=\"score_11987702\">27 points</span> by <a href=\"user?id=philips\" class=\"hnuser\">philips</a> <span class=\"age\"><a href=\"item?id=11987702\">44 minutes ago</a></span> <span id=\"unv_11987702\"></span> | <a href=\"item?id=11987702\">discuss</a>              </td></tr>\\n      <tr class=\"spacer\" style=\"height:5px\"></tr>\\n                <tr class=\\'athing\\'>\\n      <td align=\"right\" valign=\"top\" class=\"title\"><span class=\"rank\">13.</span></td>      <td valign=\"top\" class=\"votelinks\"><center><a id=\\'up_11985904\\' href=\\'vote?id=11985904&amp;how=up&amp;goto=news\\'><div class=\\'votearrow\\' title=\\'upvote\\'></div></a></center></td><td class=\"title\"><a href=\"http://www.extremetech.com/computing/230794-woman-wins-10000-judgment-against-microsoft-for-forced-windows-10-upgrade\" class=\"storylink\">Woman wins $10,000 judgment against Microsoft for forced Windows 10 upgrade</a><span class=\"sitebit comhead\"> (<a href=\"from?site=extremetech.com\"><span class=\"sitestr\">extremetech.com</span></a>)</span></td></tr><tr><td colspan=\"2\"></td><td class=\"subtext\">\\n        <span class=\"score\" id=\"score_11985904\">322 points</span> by <a href=\"user?id=be5invis\" class=\"hnuser\">be5invis</a> <span class=\"age\"><a href=\"item?id=11985904\">4 hours ago</a></span> <span id=\"unv_11985904\"></span> | <a href=\"item?id=11985904\">222 comments</a>              </td></tr>\\n      <tr class=\"spacer\" style=\"height:5px\"></tr>\\n                <tr class=\\'athing\\'>\\n      <td align=\"right\" valign=\"top\" class=\"title\"><span class=\"rank\">14.</span></td>      <td valign=\"top\" class=\"votelinks\"><center><a id=\\'up_11986977\\' href=\\'vote?id=11986977&amp;how=up&amp;goto=news\\'><div class=\\'votearrow\\' title=\\'upvote\\'></div></a></center></td><td class=\"title\"><a href=\"http://www.pyret.org/pyret-code/\" class=\"storylink\">A Case for the Pyret Programming Language</a><span class=\"sitebit comhead\"> (<a href=\"from?site=pyret.org\"><span class=\"sitestr\">pyret.org</span></a>)</span></td></tr><tr><td colspan=\"2\"></td><td class=\"subtext\">\\n        <span class=\"score\" id=\"score_11986977\">24 points</span> by <a href=\"user?id=spdegabrielle\" class=\"hnuser\">spdegabrielle</a> <span class=\"age\"><a href=\"item?id=11986977\">2 hours ago</a></span> <span id=\"unv_11986977\"></span> | <a href=\"item?id=11986977\">12 comments</a>              </td></tr>\\n      <tr class=\"spacer\" style=\"height:5px\"></tr>\\n                <tr class=\\'athing\\'>\\n      <td align=\"right\" valign=\"top\" class=\"title\"><span class=\"rank\">15.</span></td>      <td valign=\"top\" class=\"votelinks\"><center><a id=\\'up_11984485\\' href=\\'vote?id=11984485&amp;how=up&amp;goto=news\\'><div class=\\'votearrow\\' title=\\'upvote\\'></div></a></center></td><td class=\"title\"><a href=\"http://www.businessinsider.com/sergey-brin-on-starting-a-company-in-silicon-valley-2016-6\" class=\"storylink\">Sergey Brin says you shouldn\\'t start a company in Silicon Valley</a><span class=\"sitebit comhead\"> (<a href=\"from?site=businessinsider.com\"><span class=\"sitestr\">businessinsider.com</span></a>)</span></td></tr><tr><td colspan=\"2\"></td><td class=\"subtext\">\\n        <span class=\"score\" id=\"score_11984485\">230 points</span> by <a href=\"user?id=prostoalex\" class=\"hnuser\">prostoalex</a> <span class=\"age\"><a href=\"item?id=11984485\">11 hours ago</a></span> <span id=\"unv_11984485\"></span> | <a href=\"item?id=11984485\">115 comments</a>              </td></tr>\\n      <tr class=\"spacer\" style=\"height:5px\"></tr>\\n                <tr class=\\'athing\\'>\\n      <td align=\"right\" valign=\"top\" class=\"title\"><span class=\"rank\">16.</span></td>      <td valign=\"top\" class=\"votelinks\"><center><a id=\\'up_11985709\\' href=\\'vote?id=11985709&amp;how=up&amp;goto=news\\'><div class=\\'votearrow\\' title=\\'upvote\\'></div></a></center></td><td class=\"title\"><a href=\"http://ofir.io/How-to-Start-Learning-Deep-Learning/\" class=\"storylink\">How to Start Learning Deep Learning</a><span class=\"sitebit comhead\"> (<a href=\"from?site=ofir.io\"><span class=\"sitestr\">ofir.io</span></a>)</span></td></tr><tr><td colspan=\"2\"></td><td class=\"subtext\">\\n        <span class=\"score\" id=\"score_11985709\">161 points</span> by <a href=\"user?id=ofirpress\" class=\"hnuser\">ofirpress</a> <span class=\"age\"><a href=\"item?id=11985709\">5 hours ago</a></span> <span id=\"unv_11985709\"></span> | <a href=\"item?id=11985709\">24 comments</a>              </td></tr>\\n      <tr class=\"spacer\" style=\"height:5px\"></tr>\\n                <tr class=\\'athing\\'>\\n      <td align=\"right\" valign=\"top\" class=\"title\"><span class=\"rank\">17.</span></td>      <td valign=\"top\" class=\"votelinks\"><center><a id=\\'up_11986332\\' href=\\'vote?id=11986332&amp;how=up&amp;goto=news\\'><div class=\\'votearrow\\' title=\\'upvote\\'></div></a></center></td><td class=\"title\"><a href=\"http://referaat.cs.utwente.nl/conference/25/paper/7574/browser-compatibility-the-state-of-the-art-from-a-historical-perspective.pdf\" class=\"storylink\" rel=\"nofollow\">Browser Compatibility: the State of the Art from a Historical Perspective [pdf]</a><span class=\"sitebit comhead\"> (<a href=\"from?site=utwente.nl\"><span class=\"sitestr\">utwente.nl</span></a>)</span></td></tr><tr><td colspan=\"2\"></td><td class=\"subtext\">\\n        <span class=\"score\" id=\"score_11986332\">7 points</span> by <a href=\"user?id=jroeleveld\" class=\"hnuser\">jroeleveld</a> <span class=\"age\"><a href=\"item?id=11986332\">2 hours ago</a></span> <span id=\"unv_11986332\"></span> | <a href=\"item?id=11986332\">discuss</a>              </td></tr>\\n      <tr class=\"spacer\" style=\"height:5px\"></tr>\\n                <tr class=\\'athing\\'>\\n      <td align=\"right\" valign=\"top\" class=\"title\"><span class=\"rank\">18.</span></td>      <td valign=\"top\" class=\"votelinks\"><center><a id=\\'up_11986214\\' href=\\'vote?id=11986214&amp;how=up&amp;goto=news\\'><div class=\\'votearrow\\' title=\\'upvote\\'></div></a></center></td><td class=\"title\"><a href=\"http://arxiv.org/abs/1606.07772\" class=\"storylink\">The emotional arcs of stories are dominated by six basic shapes</a><span class=\"sitebit comhead\"> (<a href=\"from?site=arxiv.org\"><span class=\"sitestr\">arxiv.org</span></a>)</span></td></tr><tr><td colspan=\"2\"></td><td class=\"subtext\">\\n        <span class=\"score\" id=\"score_11986214\">19 points</span> by <a href=\"user?id=ehudla\" class=\"hnuser\">ehudla</a> <span class=\"age\"><a href=\"item?id=11986214\">3 hours ago</a></span> <span id=\"unv_11986214\"></span> | <a href=\"item?id=11986214\">1 comment</a>              </td></tr>\\n      <tr class=\"spacer\" style=\"height:5px\"></tr>\\n                <tr class=\\'athing\\'>\\n      <td align=\"right\" valign=\"top\" class=\"title\"><span class=\"rank\">19.</span></td>      <td></td><td class=\"title\"><a href=\"https://www.hackerrank.com/tests/527036edb11ff/0ca5532381fbebad9fffaa28dc90475f\" class=\"storylink\" rel=\"nofollow\">Drchrono (YC W11) is looking for Python/Django developers</a><span class=\"sitebit comhead\"> (<a href=\"from?site=hackerrank.com\"><span class=\"sitestr\">hackerrank.com</span></a>)</span></td></tr><tr><td colspan=\"2\"></td><td class=\"subtext\">\\n        <span class=\"age\"><a href=\"item?id=11986904\">2 hours ago</a></span>      </td></tr>\\n      <tr class=\"spacer\" style=\"height:5px\"></tr>\\n                <tr class=\\'athing\\'>\\n      <td align=\"right\" valign=\"top\" class=\"title\"><span class=\"rank\">20.</span></td>      <td valign=\"top\" class=\"votelinks\"><center><a id=\\'up_11984525\\' href=\\'vote?id=11984525&amp;how=up&amp;goto=news\\'><div class=\\'votearrow\\' title=\\'upvote\\'></div></a></center></td><td class=\"title\"><a href=\"http://www2.cmp.uea.ac.uk/~jrwg/Sisal/00.Contents.html\" class=\"storylink\">Sisal: a functional parallel programming language</a><span class=\"sitebit comhead\"> (<a href=\"from?site=uea.ac.uk\"><span class=\"sitestr\">uea.ac.uk</span></a>)</span></td></tr><tr><td colspan=\"2\"></td><td class=\"subtext\">\\n        <span class=\"score\" id=\"score_11984525\">99 points</span> by <a href=\"user?id=panic\" class=\"hnuser\">panic</a> <span class=\"age\"><a href=\"item?id=11984525\">11 hours ago</a></span> <span id=\"unv_11984525\"></span> | <a href=\"item?id=11984525\">31 comments</a>              </td></tr>\\n      <tr class=\"spacer\" style=\"height:5px\"></tr>\\n                <tr class=\\'athing\\'>\\n      <td align=\"right\" valign=\"top\" class=\"title\"><span class=\"rank\">21.</span></td>      <td valign=\"top\" class=\"votelinks\"><center><a id=\\'up_11986551\\' href=\\'vote?id=11986551&amp;how=up&amp;goto=news\\'><div class=\\'votearrow\\' title=\\'upvote\\'></div></a></center></td><td class=\"title\"><a href=\"https://groups.google.com/forum/#!msg/fa.laser-lovers/H3us4h8S3Kk/-vGRDirzDV0J\" class=\"storylink\" rel=\"nofollow\">Early History of PostScript (1985)</a><span class=\"sitebit comhead\"> (<a href=\"from?site=groups.google.com\"><span class=\"sitestr\">groups.google.com</span></a>)</span></td></tr><tr><td colspan=\"2\"></td><td class=\"subtext\">\\n        <span class=\"score\" id=\"score_11986551\">4 points</span> by <a href=\"user?id=_acme\" class=\"hnuser\">_acme</a> <span class=\"age\"><a href=\"item?id=11986551\">1 hour ago</a></span> <span id=\"unv_11986551\"></span> | <a href=\"item?id=11986551\">discuss</a>              </td></tr>\\n      <tr class=\"spacer\" style=\"height:5px\"></tr>\\n                <tr class=\\'athing\\'>\\n      <td align=\"right\" valign=\"top\" class=\"title\"><span class=\"rank\">22.</span></td>      <td valign=\"top\" class=\"votelinks\"><center><a id=\\'up_11984408\\' href=\\'vote?id=11984408&amp;how=up&amp;goto=news\\'><div class=\\'votearrow\\' title=\\'upvote\\'></div></a></center></td><td class=\"title\"><a href=\"http://kodi.tv/the-piracy-box-sellers-and-youtube-promoters-are-killing-kodi/\" class=\"storylink\">The Piracy Box Sellers and YouTube Promoters Are Killing Kodi</a><span class=\"sitebit comhead\"> (<a href=\"from?site=kodi.tv\"><span class=\"sitestr\">kodi.tv</span></a>)</span></td></tr><tr><td colspan=\"2\"></td><td class=\"subtext\">\\n        <span class=\"score\" id=\"score_11984408\">98 points</span> by <a href=\"user?id=ftclausen\" class=\"hnuser\">ftclausen</a> <span class=\"age\"><a href=\"item?id=11984408\">12 hours ago</a></span> <span id=\"unv_11984408\"></span> | <a href=\"item?id=11984408\">25 comments</a>              </td></tr>\\n      <tr class=\"spacer\" style=\"height:5px\"></tr>\\n                <tr class=\\'athing\\'>\\n      <td align=\"right\" valign=\"top\" class=\"title\"><span class=\"rank\">23.</span></td>      <td valign=\"top\" class=\"votelinks\"><center><a id=\\'up_11984643\\' href=\\'vote?id=11984643&amp;how=up&amp;goto=news\\'><div class=\\'votearrow\\' title=\\'upvote\\'></div></a></center></td><td class=\"title\"><a href=\"http://www.havingatinker.uk/aws-elasticsearch-service-woes.html\" class=\"storylink\">AWS Elasticsearch Service Woes</a><span class=\"sitebit comhead\"> (<a href=\"from?site=havingatinker.uk\"><span class=\"sitestr\">havingatinker.uk</span></a>)</span></td></tr><tr><td colspan=\"2\"></td><td class=\"subtext\">\\n        <span class=\"score\" id=\"score_11984643\">63 points</span> by <a href=\"user?id=kiyanwang\" class=\"hnuser\">kiyanwang</a> <span class=\"age\"><a href=\"item?id=11984643\">10 hours ago</a></span> <span id=\"unv_11984643\"></span> | <a href=\"item?id=11984643\">23 comments</a>              </td></tr>\\n      <tr class=\"spacer\" style=\"height:5px\"></tr>\\n                <tr class=\\'athing\\'>\\n      <td align=\"right\" valign=\"top\" class=\"title\"><span class=\"rank\">24.</span></td>      <td valign=\"top\" class=\"votelinks\"><center><a id=\\'up_11986488\\' href=\\'vote?id=11986488&amp;how=up&amp;goto=news\\'><div class=\\'votearrow\\' title=\\'upvote\\'></div></a></center></td><td class=\"title\"><a href=\"http://www.zdnet.com/article/it-runs-on-the-cloud-and-the-cloud-runs-on-linux-any-questions/\" class=\"storylink\">IT runs on the cloud, and the cloud runs on Linux</a><span class=\"sitebit comhead\"> (<a href=\"from?site=zdnet.com\"><span class=\"sitestr\">zdnet.com</span></a>)</span></td></tr><tr><td colspan=\"2\"></td><td class=\"subtext\">\\n        <span class=\"score\" id=\"score_11986488\">48 points</span> by <a href=\"user?id=alxsanchez\" class=\"hnuser\">alxsanchez</a> <span class=\"age\"><a href=\"item?id=11986488\">3 hours ago</a></span> <span id=\"unv_11986488\"></span> | <a href=\"item?id=11986488\">39 comments</a>              </td></tr>\\n      <tr class=\"spacer\" style=\"height:5px\"></tr>\\n                <tr class=\\'athing\\'>\\n      <td align=\"right\" valign=\"top\" class=\"title\"><span class=\"rank\">25.</span></td>      <td valign=\"top\" class=\"votelinks\"><center><a id=\\'up_11986873\\' href=\\'vote?id=11986873&amp;how=up&amp;goto=news\\'><div class=\\'votearrow\\' title=\\'upvote\\'></div></a></center></td><td class=\"title\"><a href=\"http://littleatoms.com/london-independence\" class=\"storylink\">I set up the petition for London\\'s independence. Here\\'s how it would work</a><span class=\"sitebit comhead\"> (<a href=\"from?site=littleatoms.com\"><span class=\"sitestr\">littleatoms.com</span></a>)</span></td></tr><tr><td colspan=\"2\"></td><td class=\"subtext\">\\n        <span class=\"score\" id=\"score_11986873\">57 points</span> by <a href=\"user?id=sirteno\" class=\"hnuser\">sirteno</a> <span class=\"age\"><a href=\"item?id=11986873\">2 hours ago</a></span> <span id=\"unv_11986873\"></span> | <a href=\"item?id=11986873\">49 comments</a>              </td></tr>\\n      <tr class=\"spacer\" style=\"height:5px\"></tr>\\n                <tr class=\\'athing\\'>\\n      <td align=\"right\" valign=\"top\" class=\"title\"><span class=\"rank\">26.</span></td>      <td valign=\"top\" class=\"votelinks\"><center><a id=\\'up_11984994\\' href=\\'vote?id=11984994&amp;how=up&amp;goto=news\\'><div class=\\'votearrow\\' title=\\'upvote\\'></div></a></center></td><td class=\"title\"><a href=\"https://blog.budacode.com/2016/06/27/angular-2-best-practises/?utm_source=hackernews&amp;utm_medium=social&amp;utm_campaign=angular2-best-practises\" class=\"storylink\">Angular 2 \\xe2\\x80\\x93 Best Practises to Level Up</a><span class=\"sitebit comhead\"> (<a href=\"from?site=budacode.com\"><span class=\"sitestr\">budacode.com</span></a>)</span></td></tr><tr><td colspan=\"2\"></td><td class=\"subtext\">\\n        <span class=\"score\" id=\"score_11984994\">118 points</span> by <a href=\"user?id=budacode\" class=\"hnuser\">budacode</a> <span class=\"age\"><a href=\"item?id=11984994\">8 hours ago</a></span> <span id=\"unv_11984994\"></span> | <a href=\"item?id=11984994\">77 comments</a>              </td></tr>\\n      <tr class=\"spacer\" style=\"height:5px\"></tr>\\n                <tr class=\\'athing\\'>\\n      <td align=\"right\" valign=\"top\" class=\"title\"><span class=\"rank\">27.</span></td>      <td valign=\"top\" class=\"votelinks\"><center><a id=\\'up_11986217\\' href=\\'vote?id=11986217&amp;how=up&amp;goto=news\\'><div class=\\'votearrow\\' title=\\'upvote\\'></div></a></center></td><td class=\"title\"><a href=\"http://www.geektime.com/2016/06/27/berlin-is-now-in-a-position-to-usurp-london-as-the-startup-capital-of-europe/\" class=\"storylink\">Berlin is now in a position to usurp London as the startup capital of Europe</a><span class=\"sitebit comhead\"> (<a href=\"from?site=geektime.com\"><span class=\"sitestr\">geektime.com</span></a>)</span></td></tr><tr><td colspan=\"2\"></td><td class=\"subtext\">\\n        <span class=\"score\" id=\"score_11986217\">137 points</span> by <a href=\"user?id=scarletknight\" class=\"hnuser\">scarletknight</a> <span class=\"age\"><a href=\"item?id=11986217\">3 hours ago</a></span> <span id=\"unv_11986217\"></span> | <a href=\"item?id=11986217\">100 comments</a>              </td></tr>\\n      <tr class=\"spacer\" style=\"height:5px\"></tr>\\n                <tr class=\\'athing\\'>\\n      <td align=\"right\" valign=\"top\" class=\"title\"><span class=\"rank\">28.</span></td>      <td valign=\"top\" class=\"votelinks\"><center><a id=\\'up_11984609\\' href=\\'vote?id=11984609&amp;how=up&amp;goto=news\\'><div class=\\'votearrow\\' title=\\'upvote\\'></div></a></center></td><td class=\"title\"><a href=\"http://www.theverge.com/2016/6/24/12026364/us-customs-border-patrol-online-account-twitter-facebook-instagram\" class=\"storylink\">US Customs wants to collect social media account names at the border</a><span class=\"sitebit comhead\"> (<a href=\"from?site=theverge.com\"><span class=\"sitestr\">theverge.com</span></a>)</span></td></tr><tr><td colspan=\"2\"></td><td class=\"subtext\">\\n        <span class=\"score\" id=\"score_11984609\">199 points</span> by <a href=\"user?id=jacquesm\" class=\"hnuser\">jacquesm</a> <span class=\"age\"><a href=\"item?id=11984609\">10 hours ago</a></span> <span id=\"unv_11984609\"></span> | <a href=\"item?id=11984609\">126 comments</a>              </td></tr>\\n      <tr class=\"spacer\" style=\"height:5px\"></tr>\\n                <tr class=\\'athing\\'>\\n      <td align=\"right\" valign=\"top\" class=\"title\"><span class=\"rank\">29.</span></td>      <td valign=\"top\" class=\"votelinks\"><center><a id=\\'up_11983716\\' href=\\'vote?id=11983716&amp;how=up&amp;goto=news\\'><div class=\\'votearrow\\' title=\\'upvote\\'></div></a></center></td><td class=\"title\"><a href=\"http://www.latimes.com/local/education/la-me-caltech-glassblower-20160613-snap-story.html\" class=\"storylink\">Caltech glassblower\\'s retirement has scientists sighing</a><span class=\"sitebit comhead\"> (<a href=\"from?site=latimes.com\"><span class=\"sitestr\">latimes.com</span></a>)</span></td></tr><tr><td colspan=\"2\"></td><td class=\"subtext\">\\n        <span class=\"score\" id=\"score_11983716\">261 points</span> by <a href=\"user?id=wallflower\" class=\"hnuser\">wallflower</a> <span class=\"age\"><a href=\"item?id=11983716\">15 hours ago</a></span> <span id=\"unv_11983716\"></span> | <a href=\"item?id=11983716\">140 comments</a>              </td></tr>\\n      <tr class=\"spacer\" style=\"height:5px\"></tr>\\n                <tr class=\\'athing\\'>\\n      <td align=\"right\" valign=\"top\" class=\"title\"><span class=\"rank\">30.</span></td>      <td valign=\"top\" class=\"votelinks\"><center><a id=\\'up_11985143\\' href=\\'vote?id=11985143&amp;how=up&amp;goto=news\\'><div class=\\'votearrow\\' title=\\'upvote\\'></div></a></center></td><td class=\"title\"><a href=\"item?id=11985143\" class=\"storylink\">Ask HN: Good software for interactive exploration of quantum/particle physics?</a></td></tr><tr><td colspan=\"2\"></td><td class=\"subtext\">\\n        <span class=\"score\" id=\"score_11985143\">73 points</span> by <a href=\"user?id=Fr0styMatt88\" class=\"hnuser\">Fr0styMatt88</a> <span class=\"age\"><a href=\"item?id=11985143\">8 hours ago</a></span> <span id=\"unv_11985143\"></span> | <a href=\"item?id=11985143\">22 comments</a>              </td></tr>\\n      <tr class=\"spacer\" style=\"height:5px\"></tr>\\n            <tr class=\"morespace\" style=\"height:10px\"></tr><tr><td colspan=\"2\"></td><td class=\"title\"><a href=\"news?p=2\" class=\"morelink\" rel=\"nofollow\">More</a></td></tr>\\n  </table></td></tr>\\n<tr><td><img src=\"s.gif\" height=\"10\" width=\"0\"><table width=\"100%\" cellspacing=\"0\" cellpadding=\"1\"><tr><td bgcolor=\"#ff6600\"></td></tr></table><br><center><span class=\"yclinks\"><a href=\"newsguidelines.html\">Guidelines</a>\\n        | <a href=\"newsfaq.html\">FAQ</a>\\n        | <a href=\"mailto:hn@ycombinator.com\">Support</a>\\n        | <a href=\"https://github.com/HackerNews/API\">API</a>\\n        | <a href=\"security.html\">Security</a>\\n        | <a href=\"lists\">Lists</a>\\n        | <a href=\"bookmarklet.html\">Bookmarklet</a>\\n        | <a href=\"dmca.html\">DMCA</a>\\n        | <a href=\"http://www.ycombinator.com/apply/\">Apply to YC</a>\\n        | <a href=\"mailto:hn@ycombinator.com\">Contact</a></span><br><br><form method=\"get\" action=\"//hn.algolia.com/\">Search:\\n          <input type=\"text\" name=\"q\" value=\"\" size=\"17\" autocorrect=\"off\" spellcheck=\"false\" autocapitalize=\"off\" autocomplete=\"false\"></form>\\n            </center></td></tr>      </table></center></body>\\n  </html>\\n'"
      ]
     },
     "execution_count": 12,
     "metadata": {},
     "output_type": "execute_result"
    }
   ],
   "source": [
    "r.content"
   ]
  },
  {
   "cell_type": "code",
   "execution_count": 13,
   "metadata": {
    "collapsed": false,
    "scrolled": true
   },
   "outputs": [
    {
     "data": {
      "text/html": [
       "<html op=\"news\"><head><meta name=\"referrer\" content=\"origin\"><meta name=\"viewport\" content=\"width=device-width, initial-scale=1.0\"><link rel=\"stylesheet\" type=\"text/css\" href=\"news.css?vPYhKXHRXSuc4TqypFgD\">\n",
       "        <link rel=\"shortcut icon\" href=\"favicon.ico\">\n",
       "          <link rel=\"alternate\" type=\"application/rss+xml\" title=\"RSS\" href=\"rss\">\n",
       "        <script type=\"text/javascript\">\n",
       "function hide(id) {\n",
       "  var el = document.getElementById(id);\n",
       "  if (el) { el.style.visibility = 'hidden'; }\n",
       "}\n",
       "function vote(node) {\n",
       "  var v = node.id.split(/_/);\n",
       "  var item = v[1];\n",
       "  hide('up_'   + item);\n",
       "  hide('down_' + item);\n",
       "  var ping = new Image();\n",
       "  ping.src = node.href;\n",
       "  return false;\n",
       "  }\n",
       "    </script><title>Hacker News</title></head><body><center><table id=\"hnmain\" border=\"0\" cellpadding=\"0\" cellspacing=\"0\" width=\"85%\" bgcolor=\"#f6f6ef\">\n",
       "        <tr><td bgcolor=\"#ff6600\"><table border=\"0\" cellpadding=\"0\" cellspacing=\"0\" width=\"100%\" style=\"padding:2px\"><tr><td style=\"width:18px;padding-right:4px\"><a href=\"http://www.ycombinator.com\"><img src=\"y18.gif\" width=\"18\" height=\"18\" style=\"border:1px white solid;\"></a></td>\n",
       "                  <td style=\"line-height:12pt; height:10px;\"><span class=\"pagetop\"><b class=\"hnname\"><a href=\"news\">Hacker News</a></b>\n",
       "              <a href=\"newest\">new</a> | <a href=\"newcomments\">comments</a> | <a href=\"show\">show</a> | <a href=\"ask\">ask</a> | <a href=\"jobs\">jobs</a> | <a href=\"submit\">submit</a>            </span></td><td style=\"text-align:right;padding-right:4px;\"><span class=\"pagetop\">\n",
       "                              <a href=\"login?goto=news\">login</a>\n",
       "                          </span></td>\n",
       "              </tr></table></td></tr>\n",
       "<tr style=\"height:10px\"></tr><tr><td><table border=\"0\" cellpadding=\"0\" cellspacing=\"0\" class=\"itemlist\">\n",
       "              <tr class='athing'>\n",
       "      <td align=\"right\" valign=\"top\" class=\"title\"><span class=\"rank\">1.</span></td>      <td valign=\"top\" class=\"votelinks\"><center><a id='up_11987032' href='vote?id=11987032&amp;how=up&amp;goto=news'><div class='votearrow' title='upvote'></div></a></center></td><td class=\"title\"><a href=\"http://blog.ycombinator.com/new-cities\" class=\"storylink\">New Cities</a><span class=\"sitebit comhead\"> (<a href=\"from?site=ycombinator.com\"><span class=\"sitestr\">ycombinator.com</span></a>)</span></td></tr><tr><td colspan=\"2\"></td><td class=\"subtext\">\n",
       "        <span class=\"score\" id=\"score_11987032\">264 points</span> by <a href=\"user?id=dwaxe\" class=\"hnuser\">dwaxe</a> <span class=\"age\"><a href=\"item?id=11987032\">2 hours ago</a></span> <span id=\"unv_11987032\"></span> | <a href=\"item?id=11987032\">204 comments</a>              </td></tr>\n",
       "      <tr class=\"spacer\" style=\"height:5px\"></tr>\n",
       "                <tr class='athing'>\n",
       "      <td align=\"right\" valign=\"top\" class=\"title\"><span class=\"rank\">2.</span></td>      <td valign=\"top\" class=\"votelinks\"><center><a id='up_11986705' href='vote?id=11986705&amp;how=up&amp;goto=news'><div class='votearrow' title='upvote'></div></a></center></td><td class=\"title\"><a href=\"https://blogs.msdn.microsoft.com/dotnet/2016/06/27/announcing-net-core-1-0/\" class=\"storylink\">Announcing .NET Core 1.0</a><span class=\"sitebit comhead\"> (<a href=\"from?site=microsoft.com\"><span class=\"sitestr\">microsoft.com</span></a>)</span></td></tr><tr><td colspan=\"2\"></td><td class=\"subtext\">\n",
       "        <span class=\"score\" id=\"score_11986705\">299 points</span> by <a href=\"user?id=runesoerensen\" class=\"hnuser\">runesoerensen</a> <span class=\"age\"><a href=\"item?id=11986705\">2 hours ago</a></span> <span id=\"unv_11986705\"></span> | <a href=\"item?id=11986705\">116 comments</a>              </td></tr>\n",
       "      <tr class=\"spacer\" style=\"height:5px\"></tr>\n",
       "                <tr class='athing'>\n",
       "      <td align=\"right\" valign=\"top\" class=\"title\"><span class=\"rank\">3.</span></td>      <td valign=\"top\" class=\"votelinks\"><center><a id='up_11987415' href='vote?id=11987415&amp;how=up&amp;goto=news'><div class='votearrow' title='upvote'></div></a></center></td><td class=\"title\"><a href=\"https://www.youtube.com/watch?v=mPn2AdMH7UQ\" class=\"storylink\">Donald Knuth: Surreal Numbers [video]</a><span class=\"sitebit comhead\"> (<a href=\"from?site=youtube.com\"><span class=\"sitestr\">youtube.com</span></a>)</span></td></tr><tr><td colspan=\"2\"></td><td class=\"subtext\">\n",
       "        <span class=\"score\" id=\"score_11987415\">35 points</span> by <a href=\"user?id=Jerry2\" class=\"hnuser\">Jerry2</a> <span class=\"age\"><a href=\"item?id=11987415\">1 hour ago</a></span> <span id=\"unv_11987415\"></span> | <a href=\"item?id=11987415\">10 comments</a>              </td></tr>\n",
       "      <tr class=\"spacer\" style=\"height:5px\"></tr>\n",
       "                <tr class='athing'>\n",
       "      <td align=\"right\" valign=\"top\" class=\"title\"><span class=\"rank\">4.</span></td>      <td valign=\"top\" class=\"votelinks\"><center><a id='up_11987414' href='vote?id=11987414&amp;how=up&amp;goto=news'><div class='votearrow' title='upvote'></div></a></center></td><td class=\"title\"><a href=\"https://medium.com/@dannypage/stop-using-google-trends-a5014dd32588\" class=\"storylink\">Stop Using Google Trends</a><span class=\"sitebit comhead\"> (<a href=\"from?site=medium.com\"><span class=\"sitestr\">medium.com</span></a>)</span></td></tr><tr><td colspan=\"2\"></td><td class=\"subtext\">\n",
       "        <span class=\"score\" id=\"score_11987414\">52 points</span> by <a href=\"user?id=prostoalex\" class=\"hnuser\">prostoalex</a> <span class=\"age\"><a href=\"item?id=11987414\">1 hour ago</a></span> <span id=\"unv_11987414\"></span> | <a href=\"item?id=11987414\">6 comments</a>              </td></tr>\n",
       "      <tr class=\"spacer\" style=\"height:5px\"></tr>\n",
       "                <tr class='athing'>\n",
       "      <td align=\"right\" valign=\"top\" class=\"title\"><span class=\"rank\">5.</span></td>      <td valign=\"top\" class=\"votelinks\"><center><a id='up_11986480' href='vote?id=11986480&amp;how=up&amp;goto=news'><div class='votearrow' title='upvote'></div></a></center></td><td class=\"title\"><a href=\"http://anime-js.com/\" class=\"storylink\">Show HN: Anime.js – Polyvalent JavaScript Animation Engine</a><span class=\"sitebit comhead\"> (<a href=\"from?site=anime-js.com\"><span class=\"sitestr\">anime-js.com</span></a>)</span></td></tr><tr><td colspan=\"2\"></td><td class=\"subtext\">\n",
       "        <span class=\"score\" id=\"score_11986480\">140 points</span> by <a href=\"user?id=JulianGarnier\" class=\"hnuser\">JulianGarnier</a> <span class=\"age\"><a href=\"item?id=11986480\">3 hours ago</a></span> <span id=\"unv_11986480\"></span> | <a href=\"item?id=11986480\">34 comments</a>              </td></tr>\n",
       "      <tr class=\"spacer\" style=\"height:5px\"></tr>\n",
       "                <tr class='athing'>\n",
       "      <td align=\"right\" valign=\"top\" class=\"title\"><span class=\"rank\">6.</span></td>      <td valign=\"top\" class=\"votelinks\"><center><a id='up_11987324' href='vote?id=11987324&amp;how=up&amp;goto=news'><div class='votearrow' title='upvote'></div></a></center></td><td class=\"title\"><a href=\"http://www.righto.com/2016/06/hello-world-in-bcpl-language-on-xerox.html\" class=\"storylink\">“Hello world” in the BCPL language on the Xerox Alto simulator</a><span class=\"sitebit comhead\"> (<a href=\"from?site=righto.com\"><span class=\"sitestr\">righto.com</span></a>)</span></td></tr><tr><td colspan=\"2\"></td><td class=\"subtext\">\n",
       "        <span class=\"score\" id=\"score_11987324\">21 points</span> by <a href=\"user?id=tonyg\" class=\"hnuser\">tonyg</a> <span class=\"age\"><a href=\"item?id=11987324\">1 hour ago</a></span> <span id=\"unv_11987324\"></span> | <a href=\"item?id=11987324\">2 comments</a>              </td></tr>\n",
       "      <tr class=\"spacer\" style=\"height:5px\"></tr>\n",
       "                <tr class='athing'>\n",
       "      <td align=\"right\" valign=\"top\" class=\"title\"><span class=\"rank\">7.</span></td>      <td valign=\"top\" class=\"votelinks\"><center><a id='up_11985261' href='vote?id=11985261&amp;how=up&amp;goto=news'><div class='votearrow' title='upvote'></div></a></center></td><td class=\"title\"><a href=\"https://blog.benjojo.co.uk/post/cheap-hdmi-capture-for-linux\" class=\"storylink\">Cheap HDMI capture for Linux</a><span class=\"sitebit comhead\"> (<a href=\"from?site=benjojo.co.uk\"><span class=\"sitestr\">benjojo.co.uk</span></a>)</span></td></tr><tr><td colspan=\"2\"></td><td class=\"subtext\">\n",
       "        <span class=\"score\" id=\"score_11985261\">300 points</span> by <a href=\"user?id=benjojo12\" class=\"hnuser\">benjojo12</a> <span class=\"age\"><a href=\"item?id=11985261\">7 hours ago</a></span> <span id=\"unv_11985261\"></span> | <a href=\"item?id=11985261\">46 comments</a>              </td></tr>\n",
       "      <tr class=\"spacer\" style=\"height:5px\"></tr>\n",
       "                <tr class='athing'>\n",
       "      <td align=\"right\" valign=\"top\" class=\"title\"><span class=\"rank\">8.</span></td>      <td valign=\"top\" class=\"votelinks\"><center><a id='up_11986789' href='vote?id=11986789&amp;how=up&amp;goto=news'><div class='votearrow' title='upvote'></div></a></center></td><td class=\"title\"><a href=\"http://themacro.com/articles/2016/06/the-real-product-market-fit/\" class=\"storylink\">The Real Product Market Fit</a><span class=\"sitebit comhead\"> (<a href=\"from?site=themacro.com\"><span class=\"sitestr\">themacro.com</span></a>)</span></td></tr><tr><td colspan=\"2\"></td><td class=\"subtext\">\n",
       "        <span class=\"score\" id=\"score_11986789\">44 points</span> by <a href=\"user?id=craigcannon\" class=\"hnuser\">craigcannon</a> <span class=\"age\"><a href=\"item?id=11986789\">2 hours ago</a></span> <span id=\"unv_11986789\"></span> | <a href=\"item?id=11986789\">24 comments</a>              </td></tr>\n",
       "      <tr class=\"spacer\" style=\"height:5px\"></tr>\n",
       "                <tr class='athing'>\n",
       "      <td align=\"right\" valign=\"top\" class=\"title\"><span class=\"rank\">9.</span></td>      <td valign=\"top\" class=\"votelinks\"><center><a id='up_11985368' href='vote?id=11985368&amp;how=up&amp;goto=news'><div class='votearrow' title='upvote'></div></a></center></td><td class=\"title\"><a href=\"http://avc.com/2016/06/best-seed-pitch-ever/?utm_source=feedburner&amp;utm_medium=feed&amp;utm_campaign=Feed%3A+AVc+%28A+VC%29\" class=\"storylink\">Best Seed Pitch</a><span class=\"sitebit comhead\"> (<a href=\"from?site=avc.com\"><span class=\"sitestr\">avc.com</span></a>)</span></td></tr><tr><td colspan=\"2\"></td><td class=\"subtext\">\n",
       "        <span class=\"score\" id=\"score_11985368\">200 points</span> by <a href=\"user?id=mathattack\" class=\"hnuser\">mathattack</a> <span class=\"age\"><a href=\"item?id=11985368\">7 hours ago</a></span> <span id=\"unv_11985368\"></span> | <a href=\"item?id=11985368\">53 comments</a>              </td></tr>\n",
       "      <tr class=\"spacer\" style=\"height:5px\"></tr>\n",
       "                <tr class='athing'>\n",
       "      <td align=\"right\" valign=\"top\" class=\"title\"><span class=\"rank\">10.</span></td>      <td valign=\"top\" class=\"votelinks\"><center><a id='up_11987114' href='vote?id=11987114&amp;how=up&amp;goto=news'><div class='votearrow' title='upvote'></div></a></center></td><td class=\"title\"><a href=\"https://docs.microsoft.com/teamblog/introducing-net-core-docs/\" class=\"storylink\">Introducing .NET Core Docs</a><span class=\"sitebit comhead\"> (<a href=\"from?site=microsoft.com\"><span class=\"sitestr\">microsoft.com</span></a>)</span></td></tr><tr><td colspan=\"2\"></td><td class=\"subtext\">\n",
       "        <span class=\"score\" id=\"score_11987114\">57 points</span> by <a href=\"user?id=dend\" class=\"hnuser\">dend</a> <span class=\"age\"><a href=\"item?id=11987114\">1 hour ago</a></span> <span id=\"unv_11987114\"></span> | <a href=\"item?id=11987114\">8 comments</a>              </td></tr>\n",
       "      <tr class=\"spacer\" style=\"height:5px\"></tr>\n",
       "                <tr class='athing'>\n",
       "      <td align=\"right\" valign=\"top\" class=\"title\"><span class=\"rank\">11.</span></td>      <td valign=\"top\" class=\"votelinks\"><center><a id='up_11987058' href='vote?id=11987058&amp;how=up&amp;goto=news'><div class='votearrow' title='upvote'></div></a></center></td><td class=\"title\"><a href=\"http://www.bls.gov/opub/mlr/2016/article/the-life-of-american-workers-in-1915.htm\" class=\"storylink\">The life of American workers in 1915</a><span class=\"sitebit comhead\"> (<a href=\"from?site=bls.gov\"><span class=\"sitestr\">bls.gov</span></a>)</span></td></tr><tr><td colspan=\"2\"></td><td class=\"subtext\">\n",
       "        <span class=\"score\" id=\"score_11987058\">27 points</span> by <a href=\"user?id=sinak\" class=\"hnuser\">sinak</a> <span class=\"age\"><a href=\"item?id=11987058\">2 hours ago</a></span> <span id=\"unv_11987058\"></span> | <a href=\"item?id=11987058\">9 comments</a>              </td></tr>\n",
       "      <tr class=\"spacer\" style=\"height:5px\"></tr>\n",
       "                <tr class='athing'>\n",
       "      <td align=\"right\" valign=\"top\" class=\"title\"><span class=\"rank\">12.</span></td>      <td valign=\"top\" class=\"votelinks\"><center><a id='up_11987702' href='vote?id=11987702&amp;how=up&amp;goto=news'><div class='votearrow' title='upvote'></div></a></center></td><td class=\"title\"><a href=\"https://coreos.com/blog/prometheus-and-kubernetes-up-and-running.html\" class=\"storylink\">Prometheus and Kubernetes up and running</a><span class=\"sitebit comhead\"> (<a href=\"from?site=coreos.com\"><span class=\"sitestr\">coreos.com</span></a>)</span></td></tr><tr><td colspan=\"2\"></td><td class=\"subtext\">\n",
       "        <span class=\"score\" id=\"score_11987702\">27 points</span> by <a href=\"user?id=philips\" class=\"hnuser\">philips</a> <span class=\"age\"><a href=\"item?id=11987702\">44 minutes ago</a></span> <span id=\"unv_11987702\"></span> | <a href=\"item?id=11987702\">discuss</a>              </td></tr>\n",
       "      <tr class=\"spacer\" style=\"height:5px\"></tr>\n",
       "                <tr class='athing'>\n",
       "      <td align=\"right\" valign=\"top\" class=\"title\"><span class=\"rank\">13.</span></td>      <td valign=\"top\" class=\"votelinks\"><center><a id='up_11985904' href='vote?id=11985904&amp;how=up&amp;goto=news'><div class='votearrow' title='upvote'></div></a></center></td><td class=\"title\"><a href=\"http://www.extremetech.com/computing/230794-woman-wins-10000-judgment-against-microsoft-for-forced-windows-10-upgrade\" class=\"storylink\">Woman wins $10,000 judgment against Microsoft for forced Windows 10 upgrade</a><span class=\"sitebit comhead\"> (<a href=\"from?site=extremetech.com\"><span class=\"sitestr\">extremetech.com</span></a>)</span></td></tr><tr><td colspan=\"2\"></td><td class=\"subtext\">\n",
       "        <span class=\"score\" id=\"score_11985904\">322 points</span> by <a href=\"user?id=be5invis\" class=\"hnuser\">be5invis</a> <span class=\"age\"><a href=\"item?id=11985904\">4 hours ago</a></span> <span id=\"unv_11985904\"></span> | <a href=\"item?id=11985904\">222 comments</a>              </td></tr>\n",
       "      <tr class=\"spacer\" style=\"height:5px\"></tr>\n",
       "                <tr class='athing'>\n",
       "      <td align=\"right\" valign=\"top\" class=\"title\"><span class=\"rank\">14.</span></td>      <td valign=\"top\" class=\"votelinks\"><center><a id='up_11986977' href='vote?id=11986977&amp;how=up&amp;goto=news'><div class='votearrow' title='upvote'></div></a></center></td><td class=\"title\"><a href=\"http://www.pyret.org/pyret-code/\" class=\"storylink\">A Case for the Pyret Programming Language</a><span class=\"sitebit comhead\"> (<a href=\"from?site=pyret.org\"><span class=\"sitestr\">pyret.org</span></a>)</span></td></tr><tr><td colspan=\"2\"></td><td class=\"subtext\">\n",
       "        <span class=\"score\" id=\"score_11986977\">24 points</span> by <a href=\"user?id=spdegabrielle\" class=\"hnuser\">spdegabrielle</a> <span class=\"age\"><a href=\"item?id=11986977\">2 hours ago</a></span> <span id=\"unv_11986977\"></span> | <a href=\"item?id=11986977\">12 comments</a>              </td></tr>\n",
       "      <tr class=\"spacer\" style=\"height:5px\"></tr>\n",
       "                <tr class='athing'>\n",
       "      <td align=\"right\" valign=\"top\" class=\"title\"><span class=\"rank\">15.</span></td>      <td valign=\"top\" class=\"votelinks\"><center><a id='up_11984485' href='vote?id=11984485&amp;how=up&amp;goto=news'><div class='votearrow' title='upvote'></div></a></center></td><td class=\"title\"><a href=\"http://www.businessinsider.com/sergey-brin-on-starting-a-company-in-silicon-valley-2016-6\" class=\"storylink\">Sergey Brin says you shouldn't start a company in Silicon Valley</a><span class=\"sitebit comhead\"> (<a href=\"from?site=businessinsider.com\"><span class=\"sitestr\">businessinsider.com</span></a>)</span></td></tr><tr><td colspan=\"2\"></td><td class=\"subtext\">\n",
       "        <span class=\"score\" id=\"score_11984485\">230 points</span> by <a href=\"user?id=prostoalex\" class=\"hnuser\">prostoalex</a> <span class=\"age\"><a href=\"item?id=11984485\">11 hours ago</a></span> <span id=\"unv_11984485\"></span> | <a href=\"item?id=11984485\">115 comments</a>              </td></tr>\n",
       "      <tr class=\"spacer\" style=\"height:5px\"></tr>\n",
       "                <tr class='athing'>\n",
       "      <td align=\"right\" valign=\"top\" class=\"title\"><span class=\"rank\">16.</span></td>      <td valign=\"top\" class=\"votelinks\"><center><a id='up_11985709' href='vote?id=11985709&amp;how=up&amp;goto=news'><div class='votearrow' title='upvote'></div></a></center></td><td class=\"title\"><a href=\"http://ofir.io/How-to-Start-Learning-Deep-Learning/\" class=\"storylink\">How to Start Learning Deep Learning</a><span class=\"sitebit comhead\"> (<a href=\"from?site=ofir.io\"><span class=\"sitestr\">ofir.io</span></a>)</span></td></tr><tr><td colspan=\"2\"></td><td class=\"subtext\">\n",
       "        <span class=\"score\" id=\"score_11985709\">161 points</span> by <a href=\"user?id=ofirpress\" class=\"hnuser\">ofirpress</a> <span class=\"age\"><a href=\"item?id=11985709\">5 hours ago</a></span> <span id=\"unv_11985709\"></span> | <a href=\"item?id=11985709\">24 comments</a>              </td></tr>\n",
       "      <tr class=\"spacer\" style=\"height:5px\"></tr>\n",
       "                <tr class='athing'>\n",
       "      <td align=\"right\" valign=\"top\" class=\"title\"><span class=\"rank\">17.</span></td>      <td valign=\"top\" class=\"votelinks\"><center><a id='up_11986332' href='vote?id=11986332&amp;how=up&amp;goto=news'><div class='votearrow' title='upvote'></div></a></center></td><td class=\"title\"><a href=\"http://referaat.cs.utwente.nl/conference/25/paper/7574/browser-compatibility-the-state-of-the-art-from-a-historical-perspective.pdf\" class=\"storylink\" rel=\"nofollow\">Browser Compatibility: the State of the Art from a Historical Perspective [pdf]</a><span class=\"sitebit comhead\"> (<a href=\"from?site=utwente.nl\"><span class=\"sitestr\">utwente.nl</span></a>)</span></td></tr><tr><td colspan=\"2\"></td><td class=\"subtext\">\n",
       "        <span class=\"score\" id=\"score_11986332\">7 points</span> by <a href=\"user?id=jroeleveld\" class=\"hnuser\">jroeleveld</a> <span class=\"age\"><a href=\"item?id=11986332\">2 hours ago</a></span> <span id=\"unv_11986332\"></span> | <a href=\"item?id=11986332\">discuss</a>              </td></tr>\n",
       "      <tr class=\"spacer\" style=\"height:5px\"></tr>\n",
       "                <tr class='athing'>\n",
       "      <td align=\"right\" valign=\"top\" class=\"title\"><span class=\"rank\">18.</span></td>      <td valign=\"top\" class=\"votelinks\"><center><a id='up_11986214' href='vote?id=11986214&amp;how=up&amp;goto=news'><div class='votearrow' title='upvote'></div></a></center></td><td class=\"title\"><a href=\"http://arxiv.org/abs/1606.07772\" class=\"storylink\">The emotional arcs of stories are dominated by six basic shapes</a><span class=\"sitebit comhead\"> (<a href=\"from?site=arxiv.org\"><span class=\"sitestr\">arxiv.org</span></a>)</span></td></tr><tr><td colspan=\"2\"></td><td class=\"subtext\">\n",
       "        <span class=\"score\" id=\"score_11986214\">19 points</span> by <a href=\"user?id=ehudla\" class=\"hnuser\">ehudla</a> <span class=\"age\"><a href=\"item?id=11986214\">3 hours ago</a></span> <span id=\"unv_11986214\"></span> | <a href=\"item?id=11986214\">1 comment</a>              </td></tr>\n",
       "      <tr class=\"spacer\" style=\"height:5px\"></tr>\n",
       "                <tr class='athing'>\n",
       "      <td align=\"right\" valign=\"top\" class=\"title\"><span class=\"rank\">19.</span></td>      <td></td><td class=\"title\"><a href=\"https://www.hackerrank.com/tests/527036edb11ff/0ca5532381fbebad9fffaa28dc90475f\" class=\"storylink\" rel=\"nofollow\">Drchrono (YC W11) is looking for Python/Django developers</a><span class=\"sitebit comhead\"> (<a href=\"from?site=hackerrank.com\"><span class=\"sitestr\">hackerrank.com</span></a>)</span></td></tr><tr><td colspan=\"2\"></td><td class=\"subtext\">\n",
       "        <span class=\"age\"><a href=\"item?id=11986904\">2 hours ago</a></span>      </td></tr>\n",
       "      <tr class=\"spacer\" style=\"height:5px\"></tr>\n",
       "                <tr class='athing'>\n",
       "      <td align=\"right\" valign=\"top\" class=\"title\"><span class=\"rank\">20.</span></td>      <td valign=\"top\" class=\"votelinks\"><center><a id='up_11984525' href='vote?id=11984525&amp;how=up&amp;goto=news'><div class='votearrow' title='upvote'></div></a></center></td><td class=\"title\"><a href=\"http://www2.cmp.uea.ac.uk/~jrwg/Sisal/00.Contents.html\" class=\"storylink\">Sisal: a functional parallel programming language</a><span class=\"sitebit comhead\"> (<a href=\"from?site=uea.ac.uk\"><span class=\"sitestr\">uea.ac.uk</span></a>)</span></td></tr><tr><td colspan=\"2\"></td><td class=\"subtext\">\n",
       "        <span class=\"score\" id=\"score_11984525\">99 points</span> by <a href=\"user?id=panic\" class=\"hnuser\">panic</a> <span class=\"age\"><a href=\"item?id=11984525\">11 hours ago</a></span> <span id=\"unv_11984525\"></span> | <a href=\"item?id=11984525\">31 comments</a>              </td></tr>\n",
       "      <tr class=\"spacer\" style=\"height:5px\"></tr>\n",
       "                <tr class='athing'>\n",
       "      <td align=\"right\" valign=\"top\" class=\"title\"><span class=\"rank\">21.</span></td>      <td valign=\"top\" class=\"votelinks\"><center><a id='up_11986551' href='vote?id=11986551&amp;how=up&amp;goto=news'><div class='votearrow' title='upvote'></div></a></center></td><td class=\"title\"><a href=\"https://groups.google.com/forum/#!msg/fa.laser-lovers/H3us4h8S3Kk/-vGRDirzDV0J\" class=\"storylink\" rel=\"nofollow\">Early History of PostScript (1985)</a><span class=\"sitebit comhead\"> (<a href=\"from?site=groups.google.com\"><span class=\"sitestr\">groups.google.com</span></a>)</span></td></tr><tr><td colspan=\"2\"></td><td class=\"subtext\">\n",
       "        <span class=\"score\" id=\"score_11986551\">4 points</span> by <a href=\"user?id=_acme\" class=\"hnuser\">_acme</a> <span class=\"age\"><a href=\"item?id=11986551\">1 hour ago</a></span> <span id=\"unv_11986551\"></span> | <a href=\"item?id=11986551\">discuss</a>              </td></tr>\n",
       "      <tr class=\"spacer\" style=\"height:5px\"></tr>\n",
       "                <tr class='athing'>\n",
       "      <td align=\"right\" valign=\"top\" class=\"title\"><span class=\"rank\">22.</span></td>      <td valign=\"top\" class=\"votelinks\"><center><a id='up_11984408' href='vote?id=11984408&amp;how=up&amp;goto=news'><div class='votearrow' title='upvote'></div></a></center></td><td class=\"title\"><a href=\"http://kodi.tv/the-piracy-box-sellers-and-youtube-promoters-are-killing-kodi/\" class=\"storylink\">The Piracy Box Sellers and YouTube Promoters Are Killing Kodi</a><span class=\"sitebit comhead\"> (<a href=\"from?site=kodi.tv\"><span class=\"sitestr\">kodi.tv</span></a>)</span></td></tr><tr><td colspan=\"2\"></td><td class=\"subtext\">\n",
       "        <span class=\"score\" id=\"score_11984408\">98 points</span> by <a href=\"user?id=ftclausen\" class=\"hnuser\">ftclausen</a> <span class=\"age\"><a href=\"item?id=11984408\">12 hours ago</a></span> <span id=\"unv_11984408\"></span> | <a href=\"item?id=11984408\">25 comments</a>              </td></tr>\n",
       "      <tr class=\"spacer\" style=\"height:5px\"></tr>\n",
       "                <tr class='athing'>\n",
       "      <td align=\"right\" valign=\"top\" class=\"title\"><span class=\"rank\">23.</span></td>      <td valign=\"top\" class=\"votelinks\"><center><a id='up_11984643' href='vote?id=11984643&amp;how=up&amp;goto=news'><div class='votearrow' title='upvote'></div></a></center></td><td class=\"title\"><a href=\"http://www.havingatinker.uk/aws-elasticsearch-service-woes.html\" class=\"storylink\">AWS Elasticsearch Service Woes</a><span class=\"sitebit comhead\"> (<a href=\"from?site=havingatinker.uk\"><span class=\"sitestr\">havingatinker.uk</span></a>)</span></td></tr><tr><td colspan=\"2\"></td><td class=\"subtext\">\n",
       "        <span class=\"score\" id=\"score_11984643\">63 points</span> by <a href=\"user?id=kiyanwang\" class=\"hnuser\">kiyanwang</a> <span class=\"age\"><a href=\"item?id=11984643\">10 hours ago</a></span> <span id=\"unv_11984643\"></span> | <a href=\"item?id=11984643\">23 comments</a>              </td></tr>\n",
       "      <tr class=\"spacer\" style=\"height:5px\"></tr>\n",
       "                <tr class='athing'>\n",
       "      <td align=\"right\" valign=\"top\" class=\"title\"><span class=\"rank\">24.</span></td>      <td valign=\"top\" class=\"votelinks\"><center><a id='up_11986488' href='vote?id=11986488&amp;how=up&amp;goto=news'><div class='votearrow' title='upvote'></div></a></center></td><td class=\"title\"><a href=\"http://www.zdnet.com/article/it-runs-on-the-cloud-and-the-cloud-runs-on-linux-any-questions/\" class=\"storylink\">IT runs on the cloud, and the cloud runs on Linux</a><span class=\"sitebit comhead\"> (<a href=\"from?site=zdnet.com\"><span class=\"sitestr\">zdnet.com</span></a>)</span></td></tr><tr><td colspan=\"2\"></td><td class=\"subtext\">\n",
       "        <span class=\"score\" id=\"score_11986488\">48 points</span> by <a href=\"user?id=alxsanchez\" class=\"hnuser\">alxsanchez</a> <span class=\"age\"><a href=\"item?id=11986488\">3 hours ago</a></span> <span id=\"unv_11986488\"></span> | <a href=\"item?id=11986488\">39 comments</a>              </td></tr>\n",
       "      <tr class=\"spacer\" style=\"height:5px\"></tr>\n",
       "                <tr class='athing'>\n",
       "      <td align=\"right\" valign=\"top\" class=\"title\"><span class=\"rank\">25.</span></td>      <td valign=\"top\" class=\"votelinks\"><center><a id='up_11986873' href='vote?id=11986873&amp;how=up&amp;goto=news'><div class='votearrow' title='upvote'></div></a></center></td><td class=\"title\"><a href=\"http://littleatoms.com/london-independence\" class=\"storylink\">I set up the petition for London's independence. Here's how it would work</a><span class=\"sitebit comhead\"> (<a href=\"from?site=littleatoms.com\"><span class=\"sitestr\">littleatoms.com</span></a>)</span></td></tr><tr><td colspan=\"2\"></td><td class=\"subtext\">\n",
       "        <span class=\"score\" id=\"score_11986873\">57 points</span> by <a href=\"user?id=sirteno\" class=\"hnuser\">sirteno</a> <span class=\"age\"><a href=\"item?id=11986873\">2 hours ago</a></span> <span id=\"unv_11986873\"></span> | <a href=\"item?id=11986873\">49 comments</a>              </td></tr>\n",
       "      <tr class=\"spacer\" style=\"height:5px\"></tr>\n",
       "                <tr class='athing'>\n",
       "      <td align=\"right\" valign=\"top\" class=\"title\"><span class=\"rank\">26.</span></td>      <td valign=\"top\" class=\"votelinks\"><center><a id='up_11984994' href='vote?id=11984994&amp;how=up&amp;goto=news'><div class='votearrow' title='upvote'></div></a></center></td><td class=\"title\"><a href=\"https://blog.budacode.com/2016/06/27/angular-2-best-practises/?utm_source=hackernews&amp;utm_medium=social&amp;utm_campaign=angular2-best-practises\" class=\"storylink\">Angular 2 – Best Practises to Level Up</a><span class=\"sitebit comhead\"> (<a href=\"from?site=budacode.com\"><span class=\"sitestr\">budacode.com</span></a>)</span></td></tr><tr><td colspan=\"2\"></td><td class=\"subtext\">\n",
       "        <span class=\"score\" id=\"score_11984994\">118 points</span> by <a href=\"user?id=budacode\" class=\"hnuser\">budacode</a> <span class=\"age\"><a href=\"item?id=11984994\">8 hours ago</a></span> <span id=\"unv_11984994\"></span> | <a href=\"item?id=11984994\">77 comments</a>              </td></tr>\n",
       "      <tr class=\"spacer\" style=\"height:5px\"></tr>\n",
       "                <tr class='athing'>\n",
       "      <td align=\"right\" valign=\"top\" class=\"title\"><span class=\"rank\">27.</span></td>      <td valign=\"top\" class=\"votelinks\"><center><a id='up_11986217' href='vote?id=11986217&amp;how=up&amp;goto=news'><div class='votearrow' title='upvote'></div></a></center></td><td class=\"title\"><a href=\"http://www.geektime.com/2016/06/27/berlin-is-now-in-a-position-to-usurp-london-as-the-startup-capital-of-europe/\" class=\"storylink\">Berlin is now in a position to usurp London as the startup capital of Europe</a><span class=\"sitebit comhead\"> (<a href=\"from?site=geektime.com\"><span class=\"sitestr\">geektime.com</span></a>)</span></td></tr><tr><td colspan=\"2\"></td><td class=\"subtext\">\n",
       "        <span class=\"score\" id=\"score_11986217\">137 points</span> by <a href=\"user?id=scarletknight\" class=\"hnuser\">scarletknight</a> <span class=\"age\"><a href=\"item?id=11986217\">3 hours ago</a></span> <span id=\"unv_11986217\"></span> | <a href=\"item?id=11986217\">100 comments</a>              </td></tr>\n",
       "      <tr class=\"spacer\" style=\"height:5px\"></tr>\n",
       "                <tr class='athing'>\n",
       "      <td align=\"right\" valign=\"top\" class=\"title\"><span class=\"rank\">28.</span></td>      <td valign=\"top\" class=\"votelinks\"><center><a id='up_11984609' href='vote?id=11984609&amp;how=up&amp;goto=news'><div class='votearrow' title='upvote'></div></a></center></td><td class=\"title\"><a href=\"http://www.theverge.com/2016/6/24/12026364/us-customs-border-patrol-online-account-twitter-facebook-instagram\" class=\"storylink\">US Customs wants to collect social media account names at the border</a><span class=\"sitebit comhead\"> (<a href=\"from?site=theverge.com\"><span class=\"sitestr\">theverge.com</span></a>)</span></td></tr><tr><td colspan=\"2\"></td><td class=\"subtext\">\n",
       "        <span class=\"score\" id=\"score_11984609\">199 points</span> by <a href=\"user?id=jacquesm\" class=\"hnuser\">jacquesm</a> <span class=\"age\"><a href=\"item?id=11984609\">10 hours ago</a></span> <span id=\"unv_11984609\"></span> | <a href=\"item?id=11984609\">126 comments</a>              </td></tr>\n",
       "      <tr class=\"spacer\" style=\"height:5px\"></tr>\n",
       "                <tr class='athing'>\n",
       "      <td align=\"right\" valign=\"top\" class=\"title\"><span class=\"rank\">29.</span></td>      <td valign=\"top\" class=\"votelinks\"><center><a id='up_11983716' href='vote?id=11983716&amp;how=up&amp;goto=news'><div class='votearrow' title='upvote'></div></a></center></td><td class=\"title\"><a href=\"http://www.latimes.com/local/education/la-me-caltech-glassblower-20160613-snap-story.html\" class=\"storylink\">Caltech glassblower's retirement has scientists sighing</a><span class=\"sitebit comhead\"> (<a href=\"from?site=latimes.com\"><span class=\"sitestr\">latimes.com</span></a>)</span></td></tr><tr><td colspan=\"2\"></td><td class=\"subtext\">\n",
       "        <span class=\"score\" id=\"score_11983716\">261 points</span> by <a href=\"user?id=wallflower\" class=\"hnuser\">wallflower</a> <span class=\"age\"><a href=\"item?id=11983716\">15 hours ago</a></span> <span id=\"unv_11983716\"></span> | <a href=\"item?id=11983716\">140 comments</a>              </td></tr>\n",
       "      <tr class=\"spacer\" style=\"height:5px\"></tr>\n",
       "                <tr class='athing'>\n",
       "      <td align=\"right\" valign=\"top\" class=\"title\"><span class=\"rank\">30.</span></td>      <td valign=\"top\" class=\"votelinks\"><center><a id='up_11985143' href='vote?id=11985143&amp;how=up&amp;goto=news'><div class='votearrow' title='upvote'></div></a></center></td><td class=\"title\"><a href=\"item?id=11985143\" class=\"storylink\">Ask HN: Good software for interactive exploration of quantum/particle physics?</a></td></tr><tr><td colspan=\"2\"></td><td class=\"subtext\">\n",
       "        <span class=\"score\" id=\"score_11985143\">73 points</span> by <a href=\"user?id=Fr0styMatt88\" class=\"hnuser\">Fr0styMatt88</a> <span class=\"age\"><a href=\"item?id=11985143\">8 hours ago</a></span> <span id=\"unv_11985143\"></span> | <a href=\"item?id=11985143\">22 comments</a>              </td></tr>\n",
       "      <tr class=\"spacer\" style=\"height:5px\"></tr>\n",
       "            <tr class=\"morespace\" style=\"height:10px\"></tr><tr><td colspan=\"2\"></td><td class=\"title\"><a href=\"news?p=2\" class=\"morelink\" rel=\"nofollow\">More</a></td></tr>\n",
       "  </table></td></tr>\n",
       "<tr><td><img src=\"s.gif\" height=\"10\" width=\"0\"><table width=\"100%\" cellspacing=\"0\" cellpadding=\"1\"><tr><td bgcolor=\"#ff6600\"></td></tr></table><br><center><span class=\"yclinks\"><a href=\"newsguidelines.html\">Guidelines</a>\n",
       "        | <a href=\"newsfaq.html\">FAQ</a>\n",
       "        | <a href=\"mailto:hn@ycombinator.com\">Support</a>\n",
       "        | <a href=\"https://github.com/HackerNews/API\">API</a>\n",
       "        | <a href=\"security.html\">Security</a>\n",
       "        | <a href=\"lists\">Lists</a>\n",
       "        | <a href=\"bookmarklet.html\">Bookmarklet</a>\n",
       "        | <a href=\"dmca.html\">DMCA</a>\n",
       "        | <a href=\"http://www.ycombinator.com/apply/\">Apply to YC</a>\n",
       "        | <a href=\"mailto:hn@ycombinator.com\">Contact</a></span><br><br><form method=\"get\" action=\"//hn.algolia.com/\">Search:\n",
       "          <input type=\"text\" name=\"q\" value=\"\" size=\"17\" autocorrect=\"off\" spellcheck=\"false\" autocapitalize=\"off\" autocomplete=\"false\"></form>\n",
       "            </center></td></tr>      </table></center></body>\n",
       "  </html>\n"
      ],
      "text/plain": [
       "<IPython.core.display.HTML object>"
      ]
     },
     "execution_count": 13,
     "metadata": {},
     "output_type": "execute_result"
    }
   ],
   "source": [
    "HTML(r.content.decode('utf-8'))"
   ]
  },
  {
   "cell_type": "markdown",
   "metadata": {},
   "source": [
    "## E1. \n",
    "Using the requests library, retrieve a wepage of your choosing with a GET request. Examine the response code, the headers, and the content. Use IPython.core.display HTML() to display the page in your IPython notebook. Compare the results with the actual page you requested."
   ]
  },
  {
   "cell_type": "code",
   "execution_count": 14,
   "metadata": {
    "collapsed": false
   },
   "outputs": [
    {
     "data": {
      "text/html": [
       "<html><head><link rel=\"stylesheet\" type=\"text/css\" href=\"news.css\">\n",
       "<link rel=\"shortcut icon\" href=\"http://www.iconj.com/ico/d/x/dxo02ap56v.ico\">\n",
       "<script>\n",
       "function byId(id) {\n",
       "  return document.getElementById(id);\n",
       "}\n",
       "\n",
       "function vote(node) {\n",
       "  var v = node.id.split(/_/);   // {'up', '123'}\n",
       "  var item = v[1]; \n",
       "\n",
       "  // adjust score\n",
       "  var score = byId('score_' + item);\n",
       "  var newscore = parseInt(score.innerHTML) + (v[0] == 'up' ? 1 : -1);\n",
       "  score.innerHTML = newscore + (newscore == 1 ? ' point' : ' points');\n",
       "\n",
       "  // hide arrows\n",
       "  byId('up_'   + item).style.visibility = 'hidden';\n",
       "  byId('down_' + item).style.visibility = 'hidden';\n",
       "\n",
       "  // ping server\n",
       "  var ping = new Image();\n",
       "  ping.src = node.href;\n",
       "\n",
       "  return false; // cancel browser nav\n",
       "} </script><script>\n",
       "\n",
       "  (function(i,s,o,g,r,a,m){i['GoogleAnalyticsObject']=r;i[r]=i[r]||function(){\n",
       "  (i[r].q=i[r].q||[]).push(arguments)},i[r].l=1*new Date();a=s.createElement(o),\n",
       "  m=s.getElementsByTagName(o)[0];a.async=1;a.src=g;m.parentNode.insertBefore(a,m)\n",
       "  })(window,document,'script','//www.google-analytics.com/analytics.js','ga');\n",
       "\n",
       "  ga('create', 'UA-46326769-1', 'datatau.com');\n",
       "  ga('send', 'pageview');\n",
       "\n",
       "</script><title>DataTau</title></head><body><center><table border=0 cellpadding=0 cellspacing=0 width=\"85%\" bgcolor=#f6f6ef><tr><td bgcolor=#00b4b4><table border=0 cellpadding=0 cellspacing=0 width=\"100%\" style=\"padding:2px\"><tr><td style=\"width:18px;padding-right:4px\"><a href=\"http://www.datatau.com\"><img src=\"arc.png\" width=18 height=18 style=\"border:1px #b4b400 solid;\"></img></a></td><td style=\"line-height:12pt; height:10px;\"><span class=\"pagetop\"><b><a href=\"news\">DataTau</a></b><img src=\"s.gif\" height=1 width=10><a href=\"newest\">new</a> | <a href=\"newcomments\">comments</a> | <a href=\"leaders\">leaders</a> | <a href=\"submit\">submit</a></span></td><td style=\"text-align:right;padding-right:4px;\"><span class=\"pagetop\"><a href=\"/x?fnid=KIbRllm6s3\">login</a></span></td></tr></table></td></tr><tr style=\"height:10px\"></tr><tr><td><table border=0 cellpadding=0 cellspacing=0><tr><td align=right valign=top class=\"title\">1.</td><td><center><a id=nil href=\"vote?for=13239&dir=up&whence=%6e%65%77%73\"><img src=\"grayarrow.gif\" border=0 vspace=3 hspace=2></a><span id=down_13239></span></center></td><td class=\"title\"><a href=\"http://tech.marksblogg.com/billion-nyc-taxi-rides-nvidia-tesla-mapd.html\">1.1 Billion Taxi Rides with MapD & 8 Nvidia K80s</a><span class=\"comhead\"> (marksblogg.com) </span></td></tr><tr><td colspan=2></td><td class=\"subtext\"><span id=score_13239>8 points</span> by <a href=\"user?id=marklit\">marklit</a> 11 hours ago  | <a href=\"item?id=13239\">discuss</a></td></tr><tr style=\"height:5px\"></tr><tr><td align=right valign=top class=\"title\">2.</td><td><center><a id=nil href=\"vote?for=13245&dir=up&whence=%6e%65%77%73\"><img src=\"grayarrow.gif\" border=0 vspace=3 hspace=2></a><span id=down_13245></span></center></td><td class=\"title\"><a href=\"http://conf.startup.ml/blog/aml\" rel=\"nofollow\">Detecting Money Laundering with ML</a><span class=\"comhead\"> (startup.ml) </span></td></tr><tr><td colspan=2></td><td class=\"subtext\"><span id=score_13245>2 points</span> by <a href=\"user?id=nickhould\">nickhould</a> 4 hours ago  | <a href=\"item?id=13245\">discuss</a></td></tr><tr style=\"height:5px\"></tr><tr><td align=right valign=top class=\"title\">3.</td><td><center><a id=nil href=\"vote?for=13238&dir=up&whence=%6e%65%77%73\"><img src=\"grayarrow.gif\" border=0 vspace=3 hspace=2></a><span id=down_13238></span></center></td><td class=\"title\"><a href=\"https://www.programmingalgorithms.com/algorithm/floyd%E2%80%93warshall-algorithm\" rel=\"nofollow\">Floyd–Warshall Algorithm</a><span class=\"comhead\"> (programmingalgorithms.com) </span></td></tr><tr><td colspan=2></td><td class=\"subtext\"><span id=score_13238>3 points</span> by <a href=\"user?id=X_Coder\">X_Coder</a> 13 hours ago  | <a href=\"item?id=13238\">discuss</a></td></tr><tr style=\"height:5px\"></tr><tr><td align=right valign=top class=\"title\">4.</td><td><center><a id=nil href=\"vote?for=13231&dir=up&whence=%6e%65%77%73\"><img src=\"grayarrow.gif\" border=0 vspace=3 hspace=2></a><span id=down_13231></span></center></td><td class=\"title\"><a href=\"http://adilmoujahid.com/posts/2016/06/introduction-deep-learning-python-caffe/\" rel=\"nofollow\">A Practical Introduction to Deep Learning with Caffe and Python</a><span class=\"comhead\"> (adilmoujahid.com) </span></td></tr><tr><td colspan=2></td><td class=\"subtext\"><span id=score_13231>5 points</span> by <a href=\"user?id=adilmoujahid\">adilmoujahid</a> 1 day ago  | <a href=\"item?id=13231\">discuss</a></td></tr><tr style=\"height:5px\"></tr><tr><td align=right valign=top class=\"title\">5.</td><td><center><a id=nil href=\"vote?for=13164&dir=up&whence=%6e%65%77%73\"><img src=\"grayarrow.gif\" border=0 vspace=3 hspace=2></a><span id=down_13164></span></center></td><td class=\"title\"><a href=\"http://varianceexplained.org/r/year_data_scientist/\">One year as a Data Scientist at Stack Overflow</a><span class=\"comhead\"> (varianceexplained.org) </span></td></tr><tr><td colspan=2></td><td class=\"subtext\"><span id=score_13164>18 points</span> by <a href=\"user?id=nickhould\">nickhould</a> 6 days ago  | <a href=\"item?id=13164\">1 comment</a></td></tr><tr style=\"height:5px\"></tr><tr><td align=right valign=top class=\"title\">6.</td><td><center><a id=nil href=\"vote?for=13178&dir=up&whence=%6e%65%77%73\"><img src=\"grayarrow.gif\" border=0 vspace=3 hspace=2></a><span id=down_13178></span></center></td><td class=\"title\"><a href=\"http://www.jeannicholashould.com/which-tool-to-use-for-your-data-pipelines.html\">Which Tool To Use For Your Data Pipelines?</a><span class=\"comhead\"> (jeannicholashould.com) </span></td></tr><tr><td colspan=2></td><td class=\"subtext\"><span id=score_13178>11 points</span> by <a href=\"user?id=nickhould\">nickhould</a> 5 days ago  | <a href=\"item?id=13178\">7 comments</a></td></tr><tr style=\"height:5px\"></tr><tr><td align=right valign=top class=\"title\">7.</td><td><center><a id=nil href=\"vote?for=13151&dir=up&whence=%6e%65%77%73\"><img src=\"grayarrow.gif\" border=0 vspace=3 hspace=2></a><span id=down_13151></span></center></td><td class=\"title\"><a href=\"https://www.oreilly.com/learning/hello-tensorflow\">Hello, TensorFlow</a><span class=\"comhead\"> (oreilly.com) </span></td></tr><tr><td colspan=2></td><td class=\"subtext\"><span id=score_13151>20 points</span> by <a href=\"user?id=ebellm\">ebellm</a> 7 days ago  | <a href=\"item?id=13151\">1 comment</a></td></tr><tr style=\"height:5px\"></tr><tr><td align=right valign=top class=\"title\">8.</td><td><center><a id=nil href=\"vote?for=13155&dir=up&whence=%6e%65%77%73\"><img src=\"grayarrow.gif\" border=0 vspace=3 hspace=2></a><span id=down_13155></span></center></td><td class=\"title\"><a href=\"http://www.mlyearning.org/\">Free draft of Andrew Ng's upcoming book \"Machine Learning Yearning\"</a><span class=\"comhead\"> (mlyearning.org) </span></td></tr><tr><td colspan=2></td><td class=\"subtext\"><span id=score_13155>18 points</span> by <a href=\"user?id=mariocpinto\">mariocpinto</a> 7 days ago  | <a href=\"item?id=13155\">discuss</a></td></tr><tr style=\"height:5px\"></tr><tr><td align=right valign=top class=\"title\">9.</td><td><center><a id=nil href=\"vote?for=13223&dir=up&whence=%6e%65%77%73\"><img src=\"grayarrow.gif\" border=0 vspace=3 hspace=2></a><span id=down_13223></span></center></td><td class=\"title\"><a href=\"item?id=13223\">Ask DT: How to play in an organisation where data is 3rd?</a></td></tr><tr><td colspan=2></td><td class=\"subtext\"><span id=score_13223>4 points</span> by <a href=\"user?id=Nadav\">Nadav</a> 2 days ago  | <a href=\"item?id=13223\">2 comments</a></td></tr><tr style=\"height:5px\"></tr><tr><td align=right valign=top class=\"title\">10.</td><td><center><a id=nil href=\"vote?for=13180&dir=up&whence=%6e%65%77%73\"><img src=\"grayarrow.gif\" border=0 vspace=3 hspace=2></a><span id=down_13180></span></center></td><td class=\"title\"><a href=\"http://tech.marksblogg.com/billion-nyc-taxi-rides-rds-postgres.html\">1.2 Billion Taxi Rides on AWS RDS running PostgreSQL</a><span class=\"comhead\"> (marksblogg.com) </span></td></tr><tr><td colspan=2></td><td class=\"subtext\"><span id=score_13180>6 points</span> by <a href=\"user?id=marklit\">marklit</a> 5 days ago  | <a href=\"item?id=13180\">discuss</a></td></tr><tr style=\"height:5px\"></tr><tr><td align=right valign=top class=\"title\">11.</td><td><center><a id=nil href=\"vote?for=13156&dir=up&whence=%6e%65%77%73\"><img src=\"grayarrow.gif\" border=0 vspace=3 hspace=2></a><span id=down_13156></span></center></td><td class=\"title\"><a href=\"https://www.edx.org/xseries/data-science-engineering-apache-spark\">Learn Spark with this edX XSeries</a><span class=\"comhead\"> (edx.org) </span></td></tr><tr><td colspan=2></td><td class=\"subtext\"><span id=score_13156>11 points</span> by <a href=\"user?id=mariocpinto\">mariocpinto</a> 7 days ago  | <a href=\"item?id=13156\">discuss</a></td></tr><tr style=\"height:5px\"></tr><tr><td align=right valign=top class=\"title\">12.</td><td><center><a id=nil href=\"vote?for=13204&dir=up&whence=%6e%65%77%73\"><img src=\"grayarrow.gif\" border=0 vspace=3 hspace=2></a><span id=down_13204></span></center></td><td class=\"title\"><a href=\"http://insighthealthdata.com/blog/health-consulting/\" rel=\"nofollow\">Delivering Cutting-Edge Data Science To Startup and Non-profit Partners</a><span class=\"comhead\"> (insighthealthdata.com) </span></td></tr><tr><td colspan=2></td><td class=\"subtext\"><span id=score_13204>3 points</span> by <a href=\"user?id=megandias\">megandias</a> 3 days ago  | <a href=\"item?id=13204\">discuss</a></td></tr><tr style=\"height:5px\"></tr><tr><td align=right valign=top class=\"title\">13.</td><td><center><a id=nil href=\"vote?for=13167&dir=up&whence=%6e%65%77%73\"><img src=\"grayarrow.gif\" border=0 vspace=3 hspace=2></a><span id=down_13167></span></center></td><td class=\"title\"><a href=\"http://weeverything.com/10-yoga-poses-tone-whole-body/\">10 Yoga Poses to Tone Your Whole Body</a><span class=\"comhead\"> (weeverything.com) </span></td></tr><tr><td colspan=2></td><td class=\"subtext\"><span id=score_13167>7 points</span> by <a href=\"user?id=weeverything\">weeverything</a> 6 days ago  | <a href=\"item?id=13167\">7 comments</a></td></tr><tr style=\"height:5px\"></tr><tr><td align=right valign=top class=\"title\">14.</td><td><center><a id=nil href=\"vote?for=13217&dir=up&whence=%6e%65%77%73\"><img src=\"grayarrow.gif\" border=0 vspace=3 hspace=2></a><span id=down_13217></span></center></td><td class=\"title\"><a href=\"http://insightdataengineering.com/blog/wwcode/\" rel=\"nofollow\">Insight Partners with Women Who Code</a><span class=\"comhead\"> (insightdataengineering.com) </span></td></tr><tr><td colspan=2></td><td class=\"subtext\"><span id=score_13217>2 points</span> by <a href=\"user?id=megandias\">megandias</a> 2 days ago  | <a href=\"item?id=13217\">discuss</a></td></tr><tr style=\"height:5px\"></tr><tr><td align=right valign=top class=\"title\">15.</td><td><center><a id=nil href=\"vote?for=13172&dir=up&whence=%6e%65%77%73\"><img src=\"grayarrow.gif\" border=0 vspace=3 hspace=2></a><span id=down_13172></span></center></td><td class=\"title\"><a href=\"https://dataverse.harvard.edu/dataset.xhtml?persistentId=doi:10.7910/DVN/23612\" rel=\"nofollow\">Human Trafficking Indicators Data Set</a><span class=\"comhead\"> (harvard.edu) </span></td></tr><tr><td colspan=2></td><td class=\"subtext\"><span id=score_13172>5 points</span> by <a href=\"user?id=westonplatter\">westonplatter</a> 5 days ago  | <a href=\"item?id=13172\">discuss</a></td></tr><tr style=\"height:5px\"></tr><tr><td align=right valign=top class=\"title\">16.</td><td><center><a id=nil href=\"vote?for=13133&dir=up&whence=%6e%65%77%73\"><img src=\"grayarrow.gif\" border=0 vspace=3 hspace=2></a><span id=down_13133></span></center></td><td class=\"title\"><a href=\"https://blog.unnati.xyz/building-data-pipelines-with-luigi-bd34d0538787#.uldzrrywa\">Full stack data science with luigi</a><span class=\"comhead\"> (unnati.xyz) </span></td></tr><tr><td colspan=2></td><td class=\"subtext\"><span id=score_13133>12 points</span> by <a href=\"user?id=raghothams\">raghothams</a> 9 days ago  | <a href=\"item?id=13133\">discuss</a></td></tr><tr style=\"height:5px\"></tr><tr><td align=right valign=top class=\"title\">17.</td><td><center><a id=nil href=\"vote?for=13144&dir=up&whence=%6e%65%77%73\"><img src=\"grayarrow.gif\" border=0 vspace=3 hspace=2></a><span id=down_13144></span></center></td><td class=\"title\"><a href=\"https://yanirseroussi.com/2016/06/19/making-bayesian-ab-testing-more-accessible/\">Making Bayesian A/B testing more accessible</a><span class=\"comhead\"> (yanirseroussi.com) </span></td></tr><tr><td colspan=2></td><td class=\"subtext\"><span id=score_13144>8 points</span> by <a href=\"user?id=yanirs\">yanirs</a> 7 days ago  | <a href=\"item?id=13144\">discuss</a></td></tr><tr style=\"height:5px\"></tr><tr><td align=right valign=top class=\"title\">18.</td><td><center><a id=nil href=\"vote?for=13160&dir=up&whence=%6e%65%77%73\"><img src=\"grayarrow.gif\" border=0 vspace=3 hspace=2></a><span id=down_13160></span></center></td><td class=\"title\"><a href=\"http://philferriere.blogspot.com/2016/06/sentiment-analysis-and-topic-detection.html\" rel=\"nofollow\">Sentiment Analysis and Topic Detection in R using Microsoft Cognitive Services</a><span class=\"comhead\"> (philferriere.blogspot.com) </span></td></tr><tr><td colspan=2></td><td class=\"subtext\"><span id=score_13160>5 points</span> by <a href=\"user?id=pferriere\">pferriere</a> 6 days ago  | <a href=\"item?id=13160\">discuss</a></td></tr><tr style=\"height:5px\"></tr><tr><td align=right valign=top class=\"title\">19.</td><td><center><a id=nil href=\"vote?for=13147&dir=up&whence=%6e%65%77%73\"><img src=\"grayarrow.gif\" border=0 vspace=3 hspace=2></a><span id=down_13147></span></center></td><td class=\"title\"><a href=\"https://github.com/tmadl/highdimensional-decision-boundary-plot\" rel=\"nofollow\">Visualization of high-dimensional decision boundaries for sklearn classifiers</a><span class=\"comhead\"> (github.com) </span></td></tr><tr><td colspan=2></td><td class=\"subtext\"><span id=score_13147>5 points</span> by <a href=\"user?id=ororm\">ororm</a> 7 days ago  | <a href=\"item?id=13147\">discuss</a></td></tr><tr style=\"height:5px\"></tr><tr><td align=right valign=top class=\"title\">20.</td><td><center><a id=nil href=\"vote?for=13096&dir=up&whence=%6e%65%77%73\"><img src=\"grayarrow.gif\" border=0 vspace=3 hspace=2></a><span id=down_13096></span></center></td><td class=\"title\"><a href=\"https://hackerlists.com/free-machine-learning-books/\">Free Machine Learning Books - [Repost from HN]</a><span class=\"comhead\"> (hackerlists.com) </span></td></tr><tr><td colspan=2></td><td class=\"subtext\"><span id=score_13096>12 points</span> by <a href=\"user?id=nav3en\">nav3en</a> 11 days ago  | <a href=\"item?id=13096\">discuss</a></td></tr><tr style=\"height:5px\"></tr><tr><td align=right valign=top class=\"title\">21.</td><td><center><a id=nil href=\"vote?for=13063&dir=up&whence=%6e%65%77%73\"><img src=\"grayarrow.gif\" border=0 vspace=3 hspace=2></a><span id=down_13063></span></center></td><td class=\"title\"><a href=\"https://www.youtube.com/watch?v=L5GVOFAYi8k\">Statistics for Hackers</a><span class=\"comhead\"> (youtube.com) </span></td></tr><tr><td colspan=2></td><td class=\"subtext\"><span id=score_13063>15 points</span> by <a href=\"user?id=nickhould\">nickhould</a> 13 days ago  | <a href=\"item?id=13063\">discuss</a></td></tr><tr style=\"height:5px\"></tr><tr><td align=right valign=top class=\"title\">22.</td><td><center><a id=nil href=\"vote?for=13078&dir=up&whence=%6e%65%77%73\"><img src=\"grayarrow.gif\" border=0 vspace=3 hspace=2></a><span id=down_13078></span></center></td><td class=\"title\"><a href=\"http://blog.yhat.com/posts/rodeo-2.0-release.html\">Rodeo 2.0 Released for Mac & Linux!</a><span class=\"comhead\"> (yhat.com) </span></td></tr><tr><td colspan=2></td><td class=\"subtext\"><span id=score_13078>13 points</span> by <a href=\"user?id=elisebreda\">elisebreda</a> 12 days ago  | <a href=\"item?id=13078\">2 comments</a></td></tr><tr style=\"height:5px\"></tr><tr><td align=right valign=top class=\"title\">23.</td><td><center><a id=nil href=\"vote?for=13115&dir=up&whence=%6e%65%77%73\"><img src=\"grayarrow.gif\" border=0 vspace=3 hspace=2></a><span id=down_13115></span></center></td><td class=\"title\"><a href=\"https://blog.dominodatalab.com/luigi-pipelines-domino/\">Easily building sophisticated data pipelines with Luigi and Domino</a><span class=\"comhead\"> (dominodatalab.com) </span></td></tr><tr><td colspan=2></td><td class=\"subtext\"><span id=score_13115>9 points</span> by <a href=\"user?id=danielchalef\">danielchalef</a> 11 days ago  | <a href=\"item?id=13115\">discuss</a></td></tr><tr style=\"height:5px\"></tr><tr><td align=right valign=top class=\"title\">24.</td><td><center><a id=nil href=\"vote?for=13029&dir=up&whence=%6e%65%77%73\"><img src=\"grayarrow.gif\" border=0 vspace=3 hspace=2></a><span id=down_13029></span></center></td><td class=\"title\"><a href=\"https://github.com/rasbt/python-machine-learning-book\">Python Machine Learning Book Jupyter</a><span class=\"comhead\"> (github.com) </span></td></tr><tr><td colspan=2></td><td class=\"subtext\"><span id=score_13029>20 points</span> by <a href=\"user?id=eleijonmarck\">eleijonmarck</a> 17 days ago  | <a href=\"item?id=13029\">discuss</a></td></tr><tr style=\"height:5px\"></tr><tr><td align=right valign=top class=\"title\">25.</td><td><center><a id=nil href=\"vote?for=13067&dir=up&whence=%6e%65%77%73\"><img src=\"grayarrow.gif\" border=0 vspace=3 hspace=2></a><span id=down_13067></span></center></td><td class=\"title\"><a href=\"http://stackoverflow.com/questions/21435339/data-table-vs-dplyr-can-one-do-something-well-the-other-cant-or-does-poorly/27840349#27840349\">Hadley Wickham on dplyr vs data.table</a><span class=\"comhead\"> (stackoverflow.com) </span></td></tr><tr><td colspan=2></td><td class=\"subtext\"><span id=score_13067>11 points</span> by <a href=\"user?id=pmigdal\">pmigdal</a> 13 days ago  | <a href=\"item?id=13067\">discuss</a></td></tr><tr style=\"height:5px\"></tr><tr><td align=right valign=top class=\"title\">26.</td><td><center><a id=nil href=\"vote?for=13188&dir=up&whence=%6e%65%77%73\"><img src=\"grayarrow.gif\" border=0 vspace=3 hspace=2></a><span id=down_13188></span></center></td><td class=\"title\"><a href=\"https://www.youtube.com/watch?v=C9NozZ9LsVM\" rel=\"nofollow\">Panama Papers – Interview of Data Journalist Mar Cabra on Graphs+OSS (Video)</a><span class=\"comhead\"> (youtube.com) </span></td></tr><tr><td colspan=2></td><td class=\"subtext\"><span id=score_13188>2 points</span> by <a href=\"user?id=Johnymontana\">Johnymontana</a> 4 days ago  | <a href=\"item?id=13188\">discuss</a></td></tr><tr style=\"height:5px\"></tr><tr><td align=right valign=top class=\"title\">27.</td><td><center><a id=nil href=\"vote?for=13186&dir=up&whence=%6e%65%77%73\"><img src=\"grayarrow.gif\" border=0 vspace=3 hspace=2></a><span id=down_13186></span></center></td><td class=\"title\"><a href=\"http://blog.yhat.com/posts/rpy2-combing-the-power-of-r-and-python.html\" rel=\"nofollow\">RPy2: Combining the Power of R + Python </a><span class=\"comhead\"> (yhat.com) </span></td></tr><tr><td colspan=2></td><td class=\"subtext\"><span id=score_13186>2 points</span> by <a href=\"user?id=elisebreda\">elisebreda</a> 4 days ago  | <a href=\"item?id=13186\">discuss</a></td></tr><tr style=\"height:5px\"></tr><tr><td align=right valign=top class=\"title\">28.</td><td><center><a id=nil href=\"vote?for=12987&dir=up&whence=%6e%65%77%73\"><img src=\"grayarrow.gif\" border=0 vspace=3 hspace=2></a><span id=down_12987></span></center></td><td class=\"title\"><a href=\"http://www.wise.io/tech/paratext\">CSV parsing at 2.5 GB per second</a><span class=\"comhead\"> (wise.io) </span></td></tr><tr><td colspan=2></td><td class=\"subtext\"><span id=score_12987>21 points</span> by <a href=\"user?id=spektom\">spektom</a> 19 days ago  | <a href=\"item?id=12987\">2 comments</a></td></tr><tr style=\"height:5px\"></tr><tr><td align=right valign=top class=\"title\">29.</td><td><center><a id=nil href=\"vote?for=13134&dir=up&whence=%6e%65%77%73\"><img src=\"grayarrow.gif\" border=0 vspace=3 hspace=2></a><span id=down_13134></span></center></td><td class=\"title\"><a href=\"https://medium.com/learning-machine-learning/getting-started-with-machine-learning-with-u-washington-ml-specialization-in-coursera-dde397470a6c\" rel=\"nofollow\">Getting Started with Machine Learning by UWashington ML specialization(Coursera)</a><span class=\"comhead\"> (medium.com) </span></td></tr><tr><td colspan=2></td><td class=\"subtext\"><span id=score_13134>5 points</span> by <a href=\"user?id=Mayeesha\">Mayeesha</a> 9 days ago  | <a href=\"item?id=13134\">1 comment</a></td></tr><tr style=\"height:5px\"></tr><tr><td align=right valign=top class=\"title\">30.</td><td><center><a id=nil href=\"vote?for=13159&dir=up&whence=%6e%65%77%73\"><img src=\"grayarrow.gif\" border=0 vspace=3 hspace=2></a><span id=down_13159></span></center></td><td class=\"title\"><a href=\"http://growthmarketingconf.com/content-analytics-the-formula-for-creating-a-successful-blog/\" rel=\"nofollow\">Using Scripted Analytics to Formulate Successful Blog Strategy</a><span class=\"comhead\"> (growthmarketingconf.com) </span></td></tr><tr><td colspan=2></td><td class=\"subtext\"><span id=score_13159>3 points</span> by <a href=\"user?id=borisva\">borisva</a> 6 days ago  | <a href=\"item?id=13159\">discuss</a></td></tr><tr style=\"height:5px\"></tr><tr style=\"height:10px\"></tr><tr><td colspan=2></td><td class=\"title\"><a href=\"/x?fnid=8nzdX5WWXU\" rel=\"nofollow\">More</a></td></tr></table></td></tr><tr><td><img src=\"s.gif\" height=10 width=0><table width=\"100%\" cellspacing=0 cellpadding=1><tr><td bgcolor=#00b4b4></td></tr></table><br>\n",
       "<center></center></td></tr></table></center><center><a href=\"http://www.datatau.com/rss\">RSS\n",
       "</a><a href=\"http://www.datatau.com/item?id=1\">| Announcements\n",
       "</a></center></body></html>"
      ],
      "text/plain": [
       "<IPython.core.display.HTML object>"
      ]
     },
     "execution_count": 14,
     "metadata": {},
     "output_type": "execute_result"
    }
   ],
   "source": [
    "import requests\n",
    "\n",
    "\n",
    "m = requests.get('http://www.datatau.com/')\n",
    "HTML(m.content.decode('utf-8'))"
   ]
  },
  {
   "cell_type": "code",
   "execution_count": null,
   "metadata": {
    "collapsed": false
   },
   "outputs": [],
   "source": []
  },
  {
   "cell_type": "markdown",
   "metadata": {},
   "source": [
    "## Webscraping - The Struggle is real"
   ]
  },
  {
   "cell_type": "markdown",
   "metadata": {},
   "source": [
    "- Robots.txt\n",
    "- User Agent\n",
    "- Ajax"
   ]
  },
  {
   "cell_type": "markdown",
   "metadata": {},
   "source": [
    "## Ajax - The enemy of the webscraper"
   ]
  },
  {
   "cell_type": "code",
   "execution_count": 15,
   "metadata": {
    "collapsed": true
   },
   "outputs": [],
   "source": [
    "r2 = requests.get('http://www.google.com')"
   ]
  },
  {
   "cell_type": "code",
   "execution_count": 16,
   "metadata": {
    "collapsed": false
   },
   "outputs": [
    {
     "data": {
      "text/plain": [
       "<Response [200]>"
      ]
     },
     "execution_count": 16,
     "metadata": {},
     "output_type": "execute_result"
    }
   ],
   "source": [
    "r2"
   ]
  },
  {
   "cell_type": "code",
   "execution_count": 17,
   "metadata": {
    "collapsed": false
   },
   "outputs": [
    {
     "data": {
      "text/html": [
       "<!doctype html><html itemscope=\"\" itemtype=\"http://schema.org/WebPage\" lang=\"en\"><head><meta content=\"Search the world's information, including webpages, images, videos and more. Google has many special features to help you find exactly what you're looking for.\" name=\"description\"><meta content=\"noodp\" name=\"robots\"><meta content=\"text/html; charset=UTF-8\" http-equiv=\"Content-Type\"><meta content=\"/images/branding/googleg/1x/googleg_standard_color_128dp.png\" itemprop=\"image\"><title>Google</title><script>(function(){window.google={kEI:'-mtxV7DRHYbe-QG8yaXoCQ',kEXPI:'1350756,3700325,3700389,4028875,4029815,4031109,4032677,4036509,4036527,4038012,4039268,4041303,4043492,4045342,4045841,4048347,4052304,4053261,4056034,4057739,4059688,4061155,4061923,4062186,4062333,4062706,4062972,4063879,4063929,4064096,4064133,4064462,4064930,4065121,4065787,4065794,4066102,4066654,4066657,4066965,4066973,4067274,4067518,4067675,4067867,4067967,4068002,4068022,4068144,4068198,4068550,4068595,4068797,4068864,4069404,4069776,4069834,4069839,4069841,4069916,4069962,4070111,4070137,4070273,4070316,4070327,4070337,4070422,4070596,8300095,8300273,8300365,8502095,8502184,8503585,8504907,8505158,8505164,8505166,8505440,8505510,8505517,10200083,10200095,10201288,13500015,16200027',authuser:0,kscs:'c9c918f0_24'};google.kHL='en';})();(function(){google.lc=[];google.li=0;google.getEI=function(a){for(var b;a&&(!a.getAttribute||!(b=a.getAttribute(\"eid\")));)a=a.parentNode;return b||google.kEI};google.getLEI=function(a){for(var b=null;a&&(!a.getAttribute||!(b=a.getAttribute(\"leid\")));)a=a.parentNode;return b};google.https=function(){return\"https:\"==window.location.protocol};google.ml=function(){return null};google.wl=function(a,b){try{google.ml(Error(a),!1,b)}catch(c){}};google.time=function(){return(new Date).getTime()};google.log=function(a,b,c,e,g){a=google.logUrl(a,b,c,e,g);if(\"\"!=a){b=new Image;var d=google.lc,f=google.li;d[f]=b;b.onerror=b.onload=b.onabort=function(){delete d[f]};window.google&&window.google.vel&&window.google.vel.lu&&window.google.vel.lu(a);b.src=a;google.li=f+1}};google.logUrl=function(a,b,c,e,g){var d=\"\",f=google.ls||\"\";if(!c&&-1==b.search(\"&ei=\")){var h=google.getEI(e),d=\"&ei=\"+h;-1==b.search(\"&lei=\")&&((e=google.getLEI(e))?d+=\"&lei=\"+e:h!=google.kEI&&(d+=\"&lei=\"+google.kEI))}a=c||\"/\"+(g||\"gen_204\")+\"?atyp=i&ct=\"+a+\"&cad=\"+b+d+f+\"&zx=\"+google.time();/^http:/i.test(a)&&google.https()&&(google.ml(Error(\"a\"),!1,{src:a,glmm:1}),a=\"\");return a};google.y={};google.x=function(a,b){google.y[a.id]=[a,b];return!1};google.load=function(a,b,c){google.x({id:a+k++},function(){google.load(a,b,c)})};var k=0;})();var _gjwl=location;function _gjuc(){var a=_gjwl.href.indexOf(\"#\");if(0<=a&&(a=_gjwl.href.substring(a),0<a.indexOf(\"&q=\")||0<=a.indexOf(\"#q=\"))&&(a=a.substring(1),-1==a.indexOf(\"#\"))){for(var d=0;d<a.length;){var b=d;\"&\"==a.charAt(b)&&++b;var c=a.indexOf(\"&\",b);-1==c&&(c=a.length);b=a.substring(b,c);if(0==b.indexOf(\"fp=\"))a=a.substring(0,d)+a.substring(c,a.length),c=d;else if(\"cad=h\"==b)return 0;d=c}_gjwl.href=\"/search?\"+a+\"&cad=h\";return 1}return 0}\n",
       "function _gjh(){!_gjuc()&&window.google&&google.x&&google.x({id:\"GJH\"},function(){google.nav&&google.nav.gjh&&google.nav.gjh()})};window._gjh&&_gjh();</script><style>#gbar,#guser{font-size:13px;padding-top:1px !important;}#gbar{height:22px}#guser{padding-bottom:7px !important;text-align:right}.gbh,.gbd{border-top:1px solid #c9d7f1;font-size:1px}.gbh{height:0;position:absolute;top:24px;width:100%}@media all{.gb1{height:22px;margin-right:.5em;vertical-align:top}#gbar{float:left}}a.gb1,a.gb4{text-decoration:underline !important}a.gb1,a.gb4{color:#00c !important}.gbi .gb4{color:#dd8e27 !important}.gbf .gb4{color:#900 !important}\n",
       "</style><style>body,td,a,p,.h{font-family:arial,sans-serif}body{margin:0;overflow-y:scroll}#gog{padding:3px 8px 0}td{line-height:.8em}.gac_m td{line-height:17px}form{margin-bottom:20px}.h{color:#36c}.q{color:#00c}.ts td{padding:0}.ts{border-collapse:collapse}em{font-weight:bold;font-style:normal}.lst{height:25px;width:496px}.gsfi,.lst{font:18px arial,sans-serif}.gsfs{font:17px arial,sans-serif}.ds{display:inline-box;display:inline-block;margin:3px 0 4px;margin-left:4px}input{font-family:inherit}a.gb1,a.gb2,a.gb3,a.gb4{color:#11c !important}body{background:#fff;color:black}a{color:#11c;text-decoration:none}a:hover,a:active{text-decoration:underline}.fl a{color:#36c}a:visited{color:#551a8b}a.gb1,a.gb4{text-decoration:underline}a.gb3:hover{text-decoration:none}#ghead a.gb2:hover{color:#fff !important}.sblc{padding-top:5px}.sblc a{display:block;margin:2px 0;margin-left:13px;font-size:11px}.lsbb{background:#eee;border:solid 1px;border-color:#ccc #999 #999 #ccc;height:30px}.lsbb{display:block}.ftl,#fll a{display:inline-block;margin:0 12px}.lsb{background:url(/images/nav_logo229.png) 0 -261px repeat-x;border:none;color:#000;cursor:pointer;height:30px;margin:0;outline:0;font:15px arial,sans-serif;vertical-align:top}.lsb:active{background:#ccc}.lst:focus{outline:none}</style><script></script><link href=\"/images/branding/product/ico/googleg_lodp.ico\" rel=\"shortcut icon\"></head><body bgcolor=\"#fff\"><script>(function(){var src='/images/nav_logo229.png';var iesg=false;document.body.onload = function(){window.n && window.n();if (document.images){new Image().src=src;}\n",
       "if (!iesg){document.f&&document.f.q.focus();document.gbqf&&document.gbqf.q.focus();}\n",
       "}\n",
       "})();</script><div id=\"mngb\">    <div id=gbar><nobr><b class=gb1>Search</b> <a class=gb1 href=\"http://www.google.com/imghp?hl=en&tab=wi\">Images</a> <a class=gb1 href=\"http://maps.google.com/maps?hl=en&tab=wl\">Maps</a> <a class=gb1 href=\"https://play.google.com/?hl=en&tab=w8\">Play</a> <a class=gb1 href=\"http://www.youtube.com/?tab=w1\">YouTube</a> <a class=gb1 href=\"http://news.google.com/nwshp?hl=en&tab=wn\">News</a> <a class=gb1 href=\"https://mail.google.com/mail/?tab=wm\">Gmail</a> <a class=gb1 href=\"https://drive.google.com/?tab=wo\">Drive</a> <a class=gb1 style=\"text-decoration:none\" href=\"https://www.google.com/intl/en/options/\"><u>More</u> &raquo;</a></nobr></div><div id=guser width=100%><nobr><span id=gbn class=gbi></span><span id=gbf class=gbf></span><span id=gbe></span><a href=\"http://www.google.com/history/optout?hl=en\" class=gb4>Web History</a> | <a  href=\"/preferences?hl=en\" class=gb4>Settings</a> | <a target=_top id=gb_70 href=\"https://accounts.google.com/ServiceLogin?hl=en&passive=true&continue=http://www.google.com/\" class=gb4>Sign in</a></nobr></div><div class=gbh style=left:0></div><div class=gbh style=right:0></div>    </div><center><br clear=\"all\" id=\"lgpd\"><div id=\"lga\"><img alt=\"Google\" height=\"92\" src=\"/images/branding/googlelogo/1x/googlelogo_white_background_color_272x92dp.png\" style=\"padding:28px 0 14px\" width=\"272\" id=\"hplogo\" onload=\"window.lol&&lol()\"><br><br></div><form action=\"/search\" name=\"f\"><table cellpadding=\"0\" cellspacing=\"0\"><tr valign=\"top\"><td width=\"25%\">&nbsp;</td><td align=\"center\" nowrap=\"\"><input name=\"ie\" value=\"ISO-8859-1\" type=\"hidden\"><input value=\"en\" name=\"hl\" type=\"hidden\"><input name=\"source\" type=\"hidden\" value=\"hp\"><input name=\"biw\" type=\"hidden\"><input name=\"bih\" type=\"hidden\"><div class=\"ds\" style=\"height:32px;margin:4px 0\"><input style=\"color:#000;margin:0;padding:5px 8px 0 6px;vertical-align:top\" autocomplete=\"off\" class=\"lst\" value=\"\" title=\"Google Search\" maxlength=\"2048\" name=\"q\" size=\"57\"></div><br style=\"line-height:0\"><span class=\"ds\"><span class=\"lsbb\"><input class=\"lsb\" value=\"Google Search\" name=\"btnG\" type=\"submit\"></span></span><span class=\"ds\"><span class=\"lsbb\"><input class=\"lsb\" value=\"I'm Feeling Lucky\" name=\"btnI\" onclick=\"if(this.form.q.value)this.checked=1; else top.location='/doodles/'\" type=\"submit\"></span></span></td><td class=\"fl sblc\" align=\"left\" nowrap=\"\" width=\"25%\"><a href=\"/advanced_search?hl=en&amp;authuser=0\">Advanced search</a><a href=\"/language_tools?hl=en&amp;authuser=0\">Language tools</a></td></tr></table><input id=\"gbv\" name=\"gbv\" type=\"hidden\" value=\"1\"></form><div id=\"gac_scont\"></div><div style=\"font-size:83%;min-height:3.5em\"><br></div><span id=\"footer\"><div style=\"font-size:10pt\"><div style=\"margin:19px auto;text-align:center\" id=\"fll\"><a href=\"/intl/en/ads/\">Advertising Programs</a><a href=\"/services/\">Business Solutions</a><a href=\"https://plus.google.com/116899029375914044550\" rel=\"publisher\">+Google</a><a href=\"/intl/en/about.html\">About Google</a></div></div><p style=\"color:#767676;font-size:8pt\">&copy; 2016 - <a href=\"/intl/en/policies/privacy/\">Privacy</a> - <a href=\"/intl/en/policies/terms/\">Terms</a></p></span></center><script>(function(){window.google.cdo={height:0,width:0};(function(){var a=window.innerWidth,b=window.innerHeight;if(!a||!b)var c=window.document,d=\"CSS1Compat\"==c.compatMode?c.documentElement:c.body,a=d.clientWidth,b=d.clientHeight;a&&b&&(a!=google.cdo.width||b!=google.cdo.height)&&google.log(\"\",\"\",\"/client_204?&atyp=i&biw=\"+a+\"&bih=\"+b+\"&ei=\"+google.kEI);})();})();</script><div id=\"xjsd\"></div><div id=\"xjsi\"><script>(function(){function c(b){window.setTimeout(function(){var a=document.createElement(\"script\");a.src=b;document.getElementById(\"xjsd\").appendChild(a)},0)}google.dljp=function(b,a){google.xjsu=b;c(a)};google.dlj=c;})();(function(){window.google.xjsrm=[];})();if(google.y)google.y.first=[];if(!google.xjs){window._=window._||{};window._._DumpException=function(e){throw e};if(google.timers&&google.timers.load.t){google.timers.load.t.xjsls=new Date().getTime();}google.dljp('/xjs/_/js/k\\x3dxjs.hp.en_US.bH0rRsuijVE.O/m\\x3dsb_he,d/rt\\x3dj/d\\x3d1/t\\x3dzcms/rs\\x3dACT90oGMxBYto6SRy7UewxcBqCdKhrWw7A','/xjs/_/js/k\\x3dxjs.hp.en_US.bH0rRsuijVE.O/m\\x3dsb_he,d/rt\\x3dj/d\\x3d1/t\\x3dzcms/rs\\x3dACT90oGMxBYto6SRy7UewxcBqCdKhrWw7A');google.xjs=1;}google.pmc={\"sb_he\":{\"agen\":true,\"cgen\":true,\"client\":\"heirloom-hp\",\"dh\":true,\"dhqt\":true,\"ds\":\"\",\"fl\":true,\"host\":\"google.com\",\"isbh\":28,\"jam\":0,\"jsonp\":true,\"msgs\":{\"cibl\":\"Clear Search\",\"dym\":\"Did you mean:\",\"lcky\":\"I\\u0026#39;m Feeling Lucky\",\"lml\":\"Learn more\",\"oskt\":\"Input tools\",\"psrc\":\"This search was removed from your \\u003Ca href=\\\"/history\\\"\\u003EWeb History\\u003C/a\\u003E\",\"psrl\":\"Remove\",\"sbit\":\"Search by image\",\"srch\":\"Google Search\"},\"nds\":true,\"ovr\":{},\"pq\":\"\",\"refpd\":true,\"rfs\":[],\"scd\":10,\"sce\":5,\"stok\":\"0CCGWsA5lLHL4J_y2AhX5IR-pY0\"},\"d\":{}};google.y.first.push(function(){if(google.med){google.med('init');google.initHistory();google.med('history');}});if(google.j&&google.j.en&&google.j.xi){window.setTimeout(google.j.xi,0);}\n",
       "</script></div></body></html>"
      ],
      "text/plain": [
       "<IPython.core.display.HTML object>"
      ]
     },
     "execution_count": 17,
     "metadata": {},
     "output_type": "execute_result"
    }
   ],
   "source": [
    "HTML(r2.content.decode('latin-1'))"
   ]
  },
  {
   "cell_type": "markdown",
   "metadata": {},
   "source": [
    "## How do you handle Ajax?"
   ]
  },
  {
   "cell_type": "markdown",
   "metadata": {},
   "source": [
    "If a site uses ajax on content you need to scrape, you will have to use a browser object to retrieve it. The difference between a library like requests and an actual browser object is that requests just sends and receives text. The browser object \"renders\" the webpage just like Firefox or Chrome does. Fortunately, there are things called \"headless browsers\" that have no UI component. This makes them lightweight and able to be manipulated easily with code. "
   ]
  },
  {
   "cell_type": "markdown",
   "metadata": {},
   "source": [
    "## DEMO: Using Selenium with PhantomJS"
   ]
  },
  {
   "cell_type": "markdown",
   "metadata": {},
   "source": [
    "## Selenium with PhantomJS"
   ]
  },
  {
   "cell_type": "markdown",
   "metadata": {},
   "source": [
    "You'll need to pip install Selenium and Download and extract PhantomJS"
   ]
  },
  {
   "cell_type": "code",
   "execution_count": 18,
   "metadata": {
    "collapsed": false,
    "scrolled": true
   },
   "outputs": [],
   "source": [
    "from selenium import webdriver\n",
    "\n",
    "driver = webdriver.PhantomJS(executable_path='/Users/HudsonCavanagh/Documents/phantomjs-2.1.1-macosx/bin/phantomjs')\n",
    "driver.set_window_size(1024, 768) \n",
    "driver.get('https://www.google.com/#q=data+science')"
   ]
  },
  {
   "cell_type": "code",
   "execution_count": 19,
   "metadata": {
    "collapsed": false
   },
   "outputs": [
    {
     "data": {
      "text/plain": [
       "'/Users/HudsonCavanagh/dsi-projects/week04'"
      ]
     },
     "execution_count": 19,
     "metadata": {},
     "output_type": "execute_result"
    }
   ],
   "source": [
    "import os\n",
    "\n",
    "os.getcwd()"
   ]
  },
  {
   "cell_type": "code",
   "execution_count": 20,
   "metadata": {
    "collapsed": false
   },
   "outputs": [
    {
     "name": "stdout",
     "output_type": "stream",
     "text": [
      "Requirement already satisfied (use --upgrade to upgrade): selenium in /Users/HudsonCavanagh/anaconda/lib/python2.7/site-packages\r\n"
     ]
    }
   ],
   "source": [
    "!pip install selenium"
   ]
  },
  {
   "cell_type": "code",
   "execution_count": 21,
   "metadata": {
    "collapsed": false
   },
   "outputs": [
    {
     "data": {
      "text/html": [
       "<!DOCTYPE html><html itemscope=\"\" itemtype=\"http://schema.org/SearchResultsPage\" lang=\"en\"><head><meta content=\"text/html; charset=UTF-8\" http-equiv=\"Content-Type\"><meta content=\"/images/branding/googleg/1x/googleg_standard_color_128dp.png\" itemprop=\"image\"><link href=\"/images/branding/product/ico/googleg_lodp.ico\" rel=\"shortcut icon\"><noscript>&lt;meta content=\"0;url=/search?q=data+science&amp;amp;gbv=1&amp;amp;sei=-2txV-W_L4av-AGewJrACA\" http-equiv=\"refresh\"&gt;&lt;style&gt;table,div,span,p{display:none}&lt;/style&gt;&lt;div style=\"display:block\"&gt;Please click &lt;a href=\"/search?q=data+science&amp;amp;gbv=1&amp;amp;sei=-2txV-W_L4av-AGewJrACA\"&gt;here&lt;/a&gt; if you are not redirected within a few seconds.&lt;/div&gt;</noscript><title>data science - Google Search</title><style>#gb{font:13px/27px Arial,sans-serif;height:30px}#gbz,#gbg{position:absolute;white-space:nowrap;top:0;height:30px;z-index:1000}#gbz{left:0;padding-left:4px}#gbg{right:0;padding-right:5px}#gbs{background:transparent;position:absolute;top:-999px;visibility:hidden;z-index:998;right:0}.gbto #gbs{background:#fff}#gbx3,#gbx4{background-color:#2d2d2d;background-image:none;_background-image:none;background-position:0 -138px;background-repeat:repeat-x;border-bottom:1px solid #000;font-size:24px;height:29px;_height:30px;opacity:1;filter:alpha(opacity=100);position:absolute;top:0;width:100%;z-index:990}#gbx3{left:0}#gbx4{right:0}#gbb{position:relative}#gbbw{left:0;position:absolute;top:30px;width:100%}.gbtcb{position:absolute;visibility:hidden}#gbz .gbtcb{right:0}#gbg .gbtcb{left:0}.gbxx{display:none !important}.gbxo{opacity:0 !important;filter:alpha(opacity=0) !important}.gbm{position:absolute;z-index:999;top:-999px;visibility:hidden;text-align:left;border:1px solid #bebebe;background:#fff;-moz-box-shadow:-1px 1px 1px rgba(0,0,0,.2);-webkit-box-shadow:0 2px 4px rgba(0,0,0,.2);box-shadow:0 2px 4px rgba(0,0,0,.2)}.gbrtl .gbm{-moz-box-shadow:1px 1px 1px rgba(0,0,0,.2)}.gbto .gbm,.gbto #gbs{top:29px;visibility:visible}#gbz .gbm{left:0}#gbg .gbm{right:0}.gbxms{background-color:#ccc;display:block;position:absolute;z-index:1;top:-1px;left:-2px;right:-2px;bottom:-2px;opacity:.4;-moz-border-radius:3px;filter:progid:DXImageTransform.Microsoft.Blur(pixelradius=5);*opacity:1;*top:-2px;*left:-5px;*right:5px;*bottom:4px;-ms-filter:\"progid:DXImageTransform.Microsoft.Blur(pixelradius=5)\";opacity:1\\0/;top:-4px\\0/;left:-6px\\0/;right:5px\\0/;bottom:4px\\0/}.gbma{position:relative;top:-1px;border-style:solid dashed dashed;border-color:transparent;border-top-color:#c0c0c0;display:-moz-inline-box;display:inline-block;font-size:0;height:0;line-height:0;width:0;border-width:3px 3px 0;padding-top:1px;left:4px}#gbztms1,#gbi4m1,#gbi4s,#gbi4t{zoom:1}.gbtc,.gbmc,.gbmcc{display:block;list-style:none;margin:0;padding:0}.gbmc{background:#fff;padding:10px 0;position:relative;z-index:2;zoom:1}.gbt{position:relative;display:-moz-inline-box;display:inline-block;line-height:27px;padding:0;vertical-align:top}.gbt{*display:inline}.gbto{box-shadow:0 2px 4px rgba(0,0,0,.2);-moz-box-shadow:0 2px 4px rgba(0,0,0,.2);-webkit-box-shadow:0 2px 4px rgba(0,0,0,.2)}.gbzt,.gbgt{cursor:pointer;display:block;text-decoration:none !important}span#gbg6,span#gbg4{cursor:default}.gbts{border-left:1px solid transparent;border-right:1px solid transparent;display:block;*display:inline-block;padding:0 5px;position:relative;z-index:1000}.gbts{*display:inline}.gbzt .gbts{display:inline;zoom:1}.gbto .gbts{background:#fff;border-color:#bebebe;color:#36c;padding-bottom:1px;padding-top:2px}.gbz0l .gbts{color:#fff;font-weight:bold}.gbtsa{padding-right:9px}#gbz .gbzt,#gbz .gbgt,#gbg .gbgt{color:#ccc!important}.gbtb2{display:block;border-top:2px solid transparent}.gbto .gbzt .gbtb2,.gbto .gbgt .gbtb2{border-top-width:0}.gbtb .gbts{background:url(//ssl.gstatic.com/gb/images/b_8d5afc09.png);_background:url(//ssl.gstatic.com/gb/images/b8_3615d64d.png);background-position:-27px -22px;border:0;font-size:0;padding:29px 0 0;*padding:27px 0 0;width:1px}.gbzt:hover,.gbzt:focus,.gbgt-hvr,.gbgt:focus{background-color:#4c4c4c;background-image:none;_background-image:none;background-position:0 -102px;background-repeat:repeat-x;outline:none;text-decoration:none !important}.gbpdjs .gbto .gbm{min-width:99%}.gbz0l .gbtb2{border-top-color:#dd4b39!important}#gbi4s,#gbi4s1{font-weight:bold}#gbg6.gbgt-hvr,#gbg6.gbgt:focus{background-color:transparent;background-image:none}.gbg4a{font-size:0;line-height:0}.gbg4a .gbts{padding:27px 5px 0;*padding:25px 5px 0}.gbto .gbg4a .gbts{padding:29px 5px 1px;*padding:27px 5px 1px}#gbi4i,#gbi4id{left:5px;border:0;height:24px;position:absolute;top:1px;width:24px}.gbto #gbi4i,.gbto #gbi4id{top:3px}.gbi4p{display:block;width:24px}#gbi4id{background-position:-44px -101px}#gbmpid{background-position:0 0}#gbmpi,#gbmpid{border:none;display:inline-block;height:48px;width:48px}#gbmpiw{display:inline-block;line-height:9px;padding-left:20px;margin-top:10px;position:relative}#gbmpi,#gbmpid,#gbmpiw{*display:inline}#gbg5{font-size:0}#gbgs5{padding:5px !important}.gbto #gbgs5{padding:7px 5px 6px !important}#gbi5{background:url(//ssl.gstatic.com/gb/images/b_8d5afc09.png);_background:url(//ssl.gstatic.com/gb/images/b8_3615d64d.png);background-position:0 0;display:block;font-size:0;height:17px;width:16px}.gbto #gbi5{background-position:-6px -22px}.gbn .gbmt,.gbn .gbmt:visited,.gbnd .gbmt,.gbnd .gbmt:visited{color:#dd8e27 !important}.gbf .gbmt,.gbf .gbmt:visited{color:#900 !important}.gbmt,.gbml1,.gbmlb,.gbmt:visited,.gbml1:visited,.gbmlb:visited{color:#36c !important;text-decoration:none !important}.gbmt,.gbmt:visited{display:block}.gbml1,.gbmlb,.gbml1:visited,.gbmlb:visited{display:inline-block;margin:0 10px}.gbml1,.gbmlb,.gbml1:visited,.gbmlb:visited{*display:inline}.gbml1,.gbml1:visited{padding:0 10px}.gbml1-hvr,.gbml1:focus{outline:none;text-decoration:underline !important}#gbpm .gbml1{display:inline;margin:0;padding:0;white-space:nowrap}.gbmlb,.gbmlb:visited{line-height:27px}.gbmlb-hvr,.gbmlb:focus{outline:none;text-decoration:underline !important}.gbmlbw{color:#ccc;margin:0 10px}.gbmt{padding:0 20px}.gbmt:hover,.gbmt:focus{background:#eee;cursor:pointer;outline:0 solid black;text-decoration:none !important}.gbm0l,.gbm0l:visited{color:#000 !important;font-weight:bold}.gbmh{border-top:1px solid #bebebe;font-size:0;margin:10px 0}#gbd4 .gbmc{background:#f5f5f5;padding-top:0}#gbd4 .gbsbic::-webkit-scrollbar-track:vertical{background-color:#f5f5f5;margin-top:2px}#gbmpdv{background:#fff;border-bottom:1px solid #bebebe;-moz-box-shadow:0 2px 4px rgba(0,0,0,.12);-o-box-shadow:0 2px 4px rgba(0,0,0,.12);-webkit-box-shadow:0 2px 4px rgba(0,0,0,.12);box-shadow:0 2px 4px rgba(0,0,0,.12);position:relative;z-index:1}#gbd4 .gbmh{margin:0}.gbmtc{padding:0;margin:0;line-height:27px}.GBMCC:last-child:after,#GBMPAL:last-child:after{content:'\\0A\\0A';white-space:pre;position:absolute}#gbmps{*zoom:1}#gbd4 .gbpc,#gbmpas .gbmt{line-height:17px}#gbd4 .gbpgs .gbmtc{line-height:27px}#gbd4 .gbmtc{border-bottom:1px solid #bebebe}#gbd4 .gbpc{display:inline-block;margin:16px 0 10px;padding-right:50px;vertical-align:top}#gbd4 .gbpc{*display:inline}.gbpc .gbps,.gbpc .gbps2{display:block;margin:0 20px}#gbmplp.gbps{margin:0 10px}.gbpc .gbps{color:#000;font-weight:bold}.gbpc .gbpd{margin-bottom:5px}.gbpd .gbmt,.gbpd .gbps{color:#666 !important}.gbpd .gbmt{opacity:.4;filter:alpha(opacity=40)}.gbps2{color:#666;display:block}.gbp0{display:none}.gbp0 .gbps2{font-weight:bold}#gbd4 .gbmcc{margin-top:5px}.gbpmc{background:#fef9db}.gbpmc .gbpmtc{padding:10px 20px}#gbpm{border:0;*border-collapse:collapse;border-spacing:0;margin:0;white-space:normal}#gbpm .gbpmtc{border-top:none;color:#000 !important;font:11px Arial,sans-serif}#gbpms{*white-space:nowrap}.gbpms2{font-weight:bold;white-space:nowrap}#gbmpal{*border-collapse:collapse;border-spacing:0;border:0;margin:0;white-space:nowrap;width:100%}.gbmpala,.gbmpalb{font:13px Arial,sans-serif;line-height:27px;padding:10px 20px 0;white-space:nowrap}.gbmpala{padding-left:0;text-align:left}.gbmpalb{padding-right:0;text-align:right}#gbmpasb .gbps{color:#000}#gbmpal .gbqfbb{margin:0 20px}.gbp0 .gbps{*display:inline}a.gbiba{margin:8px 20px 10px}.gbmpiaw{display:inline-block;padding-right:10px;margin-bottom:6px;margin-top:10px}.gbxv{visibility:hidden}.gbmpiaa{display:block;margin-top:10px}.gbmpia{border:none;display:block;height:48px;width:48px}.gbmpnw{display:inline-block;height:auto;margin:10px 0;vertical-align:top} .gbqfb,.gbqfba,.gbqfbb{-moz-border-radius:2px;-webkit-border-radius:2px;border-radius:2px;cursor:default !important;display:inline-block;font-weight:bold;height:29px;line-height:29px;min-width:54px;*min-width:70px;padding:0 8px;text-align:center;text-decoration:none !important;-moz-user-select:none;-webkit-user-select:none}.gbqfb:focus,.gbqfba:focus,.gbqfbb:focus{border:1px solid #4d90fe;-moz-box-shadow:inset 0 0 0 1px rgba(255, 255, 255, 0.5);-webkit-box-shadow:inset 0 0 0 1px rgba(255, 255, 255, 0.5);box-shadow:inset 0 0 0 1px rgba(255, 255, 255, 0.5);outline:none}.gbqfb-hvr:focus,.gbqfba-hvr:focus,.gbqfbb-hvr:focus{-webkit-box-shadow:inset 0 0 0 1px #fff,0 1px 1px rgba(0,0,0,.1);-moz-box-shadow:inset 0 0 0 1px #fff,0 1px 1px rgba(0,0,0,.1);box-shadow:inset 0 0 0 1px #fff,0 1px 1px rgba(0,0,0,.1)}.gbqfb-no-focus:focus{border:1px solid #3079ed;-moz-box-shadow:none;-webkit-box-shadow:none;box-shadow:none}.gbqfb-hvr,.gbqfba-hvr,.gbqfbb-hvr{-webkit-box-shadow:0 1px 1px rgba(0,0,0,.1);-moz-box-shadow:0 1px 1px rgba(0,0,0,.1);box-shadow:0 1px 1px rgba(0,0,0,.1)}.gbqfb::-moz-focus-inner,.gbqfba::-moz-focus-inner,.gbqfbb::-moz-focus-inner{border:0}.gbqfba,.gbqfbb{border:1px solid #dcdcdc;border-color:rgba(0,0,0,.1);color:#444 !important;font-size:11px}.gbqfb{background-color:#4d90fe;background-image:-webkit-gradient(linear,left top,left bottom,from(#4d90fe),to(#4787ed));background-image:-webkit-linear-gradient(top,#4d90fe,#4787ed);background-image:-moz-linear-gradient(top,#4d90fe,#4787ed);background-image:-ms-linear-gradient(top,#4d90fe,#4787ed);background-image:-o-linear-gradient(top,#4d90fe,#4787ed);background-image:linear-gradient(top,#4d90fe,#4787ed);filter:progid:DXImageTransform.Microsoft.gradient(startColorStr='#4d90fe',EndColorStr='#4787ed');border:1px solid #3079ed;color:#fff!important;margin:0 0}.gbqfb-hvr{border-color:#2f5bb7}.gbqfb-hvr:focus{border-color:#2f5bb7}.gbqfb-hvr,.gbqfb-hvr:focus{background-color:#357ae8;background-image:-webkit-gradient(linear,left top,left bottom,from(#4d90fe),to(#357ae8));background-image:-webkit-linear-gradient(top,#4d90fe,#357ae8);background-image:-moz-linear-gradient(top,#4d90fe,#357ae8);background-image:-ms-linear-gradient(top,#4d90fe,#357ae8);background-image:-o-linear-gradient(top,#4d90fe,#357ae8);background-image:linear-gradient(top,#4d90fe,#357ae8)}.gbqfb:active{background-color:inherit;-webkit-box-shadow:inset 0 1px 2px rgba(0, 0, 0, 0.3);-moz-box-shadow:inset 0 1px 2px rgba(0, 0, 0, 0.3);box-shadow:inset 0 1px 2px rgba(0, 0, 0, 0.3)}.gbqfba{background-color:#f5f5f5;background-image:-webkit-gradient(linear,left top,left bottom,from(#f5f5f5),to(#f1f1f1));background-image:-webkit-linear-gradient(top,#f5f5f5,#f1f1f1);background-image:-moz-linear-gradient(top,#f5f5f5,#f1f1f1);background-image:-ms-linear-gradient(top,#f5f5f5,#f1f1f1);background-image:-o-linear-gradient(top,#f5f5f5,#f1f1f1);background-image:linear-gradient(top,#f5f5f5,#f1f1f1);filter:progid:DXImageTransform.Microsoft.gradient(startColorStr='#f5f5f5',EndColorStr='#f1f1f1')}.gbqfba-hvr,.gbqfba-hvr:active{background-color:#f8f8f8;background-image:-webkit-gradient(linear,left top,left bottom,from(#f8f8f8),to(#f1f1f1));background-image:-webkit-linear-gradient(top,#f8f8f8,#f1f1f1);background-image:-moz-linear-gradient(top,#f8f8f8,#f1f1f1);background-image:-ms-linear-gradient(top,#f8f8f8,#f1f1f1);background-image:-o-linear-gradient(top,#f8f8f8,#f1f1f1);background-image:linear-gradient(top,#f8f8f8,#f1f1f1);filter:progid:DXImageTransform.Microsoft.gradient(startColorStr='#f8f8f8',EndColorStr='#f1f1f1')}.gbqfbb{background-color:#fff;background-image:-webkit-gradient(linear,left top,left bottom,from(#fff),to(#fbfbfb));background-image:-webkit-linear-gradient(top,#fff,#fbfbfb);background-image:-moz-linear-gradient(top,#fff,#fbfbfb);background-image:-ms-linear-gradient(top,#fff,#fbfbfb);background-image:-o-linear-gradient(top,#fff,#fbfbfb);background-image:linear-gradient(top,#fff,#fbfbfb);filter:progid:DXImageTransform.Microsoft.gradient(startColorStr='#ffffff',EndColorStr='#fbfbfb')}.gbqfbb-hvr,.gbqfbb-hvr:active{background-color:#fff;background-image:-webkit-gradient(linear,left top,left bottom,from(#fff),to(#f8f8f8));background-image:-webkit-linear-gradient(top,#fff,#f8f8f8);background-image:-moz-linear-gradient(top,#fff,#f8f8f8);background-image:-ms-linear-gradient(top,#fff,#f8f8f8);background-image:-o-linear-gradient(top,#fff,#f8f8f8);background-image:linear-gradient(top,#fff,#f8f8f8);filter:progid:DXImageTransform.Microsoft.gradient(startColorStr='#ffffff',EndColorStr='#f8f8f8')}.gbqfba-hvr,.gbqfba-hvr:active,.gbqfbb-hvr,.gbqfbb-hvr:active{border-color:#c6c6c6;-webkit-box-shadow:0 1px 1px rgba(0,0,0,.1);-moz-box-shadow:0 1px 1px rgba(0,0,0,.1);box-shadow:0 1px 1px rgba(0,0,0,.1);color:#222 !important}.gbqfba:active,.gbqfbb:active{-webkit-box-shadow:inset 0 1px 2px rgba(0,0,0,.1);-moz-box-shadow:inset 0 1px 2px rgba(0,0,0,.1);box-shadow:inset 0 1px 2px rgba(0,0,0,.1)} .gbprcd{padding:0;width:258px;white-space:normal}.gbprcb{display:inline-block;height:27px;padding:0 15px;text-decoration:none}#gbprc .gbprcbc{background-color:;background-image:none;border-color:;color:!important}#gbprc .gbprcbc:hover{color:!important}#gbprc .gbprcbc:active,#gbprc .gbprcbc:focus{color:!important}.gbprct{color:#666;line-height:17px;margin:0;margin-bottom:20px}.gbprci{color:#333;font-size:16px;line-height:20px;margin:0;margin-bottom:16px}#gbprc .gbmc{padding:26px;padding-bottom:22px;border:1px solid #bebebe}#gbprc .gbm{border:0}#gbprc .gbprcx,#gbprc .gbprcx.gbgt-hvr,#gbprc .gbprcx:focus,#gbprc .gbprcx:active{right:12px;background:url(//ssl.gstatic.com/s2/oz/images/stars/x.png);display:block;height:9px;opacity:.8;filter:alpha(opacity=80);position:absolute;top:12px;width:9px}#gbprc .gbprcx.gbgt-hvr,#gbprc .gbprcx:focus,#gbprc .gbprcx:active{opacity:1;filter:alpha(opacity=100)}.gbgs .gbmab,.gbgs .gbmab{left:10px;margin:40px 0 0}.gbgs .gbmac,.gbgs .gbmac{left:10px;margin:41px 0 0}.gbemi .gbgs .gbmab,.gbem .gbgs .gbmab{left:10px;margin:40px 0 0}.gbemi .gbgs .gbmac,.gbem .gbgs .gbmac{left:10px;margin:41px 0 0}.gbesi .gbgs .gbmab,.gbes .gbgs .gbmab{left:10px;margin:40px 0 0}.gbesi .gbgs .gbmac,.gbes .gbgs .gbmac{left:10px;margin:41px 0 0}#gbprca .gbmab{z-index:999}#gbprca .gbmac{border-bottom-color:#fff;z-index:999}#gbprcs{position:absolute;background:transparent;top:-999px;z-index:-1;visibility:hidden;margin-top:1px;margin-left:1px} #gb #gbprc{right:-28px;top:15px;z-index:997}#gbprca{left:-63px;position:relative;top:-22px}.gbmab,.gbmac{left:5px;border-style:dashed dashed solid;border-color:transparent;border-bottom-color:#bebebe;border-width:0 10px 10px;display:-moz-inline-box;display:inline-block;font-size:0;height:0;line-height:0;position:absolute;top:0;width:0;z-index:1000}.gbmab,.gbmac{visibility:hidden}.gbmac{border-bottom-color:#fff}.gbto .gbmab,.gbto .gbmac{visibility:visible}#gbqfqw,#gbqfb{vertical-align:top}#gbqfbw{right:0;margin:0 15px;position:absolute;top:0}.gbqfb{background-color:#4d90fe;background-image:-webkit-gradient(linear,left top,left bottom,from(#4d90fe),to(#4787ed));background-image:-webkit-linear-gradient(top,#4d90fe,#4787ed);background-image:-moz-linear-gradient(top,#4d90fe,#4787ed);background-image:-ms-linear-gradient(top,#4d90fe,#4787ed);background-image:-o-linear-gradient(top,#4d90fe,#4787ed);background-image:linear-gradient(top,#4d90fe,#4787ed);filter:progid:DXImageTransform.Microsoft.gradient(startColorStr='#4d90fe',EndColorStr='#4787ed');border:1px solid #3079ed;-moz-border-radius:2px;-webkit-border-radius:2px;border-radius:2px;-moz-user-select:none;-webkit-user-select:none;color:#fff;cursor:default;font-size:11px;font-weight:bold;height:29px;min-width:54px;*min-width:70px;text-align:center;padding:0 8px}.gbqfb-hvr{border:1px solid #2f5bb7;background-color:#357ae8;background-image:-webkit-gradient(linear,left top,left bottom,from(#4d90fe),to(#357ae8));background-image:-webkit-linear-gradient(top,#4d90fe,#357ae8);background-image:-moz-linear-gradient(top,#4d90fe,#357ae8);background-image:-ms-linear-gradient(top,#4d90fe,#357ae8);background-image:-o-linear-gradient(top,#4d90fe,#357ae8);background-image:linear-gradient(top,#4d90fe,#357ae8);-webkit-box-shadow:0 1px 1px rgba(0,0,0,.1);-moz-box-shadow:0 1px 1px rgba(0,0,0,.1);box-shadow:0 1px 1px rgba(0,0,0,.1)}.gbqfb:focus{-moz-box-shadow:inset 0 0 0 1px #fff;-webkit-box-shadow:inset 0 0 0 1px #fff;box-shadow:inset 0 0 0 1px #fff;outline:none}.gbqfb::-moz-focus-inner{border:0}.gbqfb-hvr:focus{-moz-box-shadow:inset 0 0 0 1px #fff,0 1px 1px rgba(0,0,0,.1);-webkit-box-shadow:inset 0 0 0 1px #fff,0 1px 1px rgba(0,0,0,.1);box-shadow:inset 0 0 0 1px #fff,0 1px 1px rgba(0,0,0,.1)}.gbqfb:active{-moz-box-shadow:inset 0 1px 2px rgba(0,0,0,.3);-webkit-box-shadow:inset 0 1px 2px rgba(0,0,0,.3);box-shadow:inset 0 1px 2px rgba(0,0,0,.3)} #gbmpas{max-height:220px}#gbmm{max-height:530px}.gbsb{-webkit-box-sizing:border-box;display:block;position:relative;*zoom:1}.gbsbic{overflow:auto}.gbsbis .gbsbt,.gbsbis .gbsbb{-webkit-mask-box-image:-webkit-gradient(linear,left top,right top,color-stop(0,rgba(0,0,0,.1)),color-stop(.5,rgba(0,0,0,.8)),color-stop(1,rgba(0,0,0,.1)));left:0;margin-right:0;opacity:0;position:absolute;width:100%}.gbsb .gbsbt:after,.gbsb .gbsbb:after{content:\"\";display:block;height:0;left:0;position:absolute;width:100%}.gbsbis .gbsbt{background:-webkit-gradient(linear,left top,left bottom,from(rgba(0,0,0,.2)),to(rgba(0,0,0,0)));background-image:-webkit-linear-gradient(top,rgba(0,0,0,.2),rgba(0,0,0,0));background-image:-moz-linear-gradient(top,rgba(0,0,0,.2),rgba(0,0,0,0));background-image:-ms-linear-gradient(top,rgba(0,0,0,.2),rgba(0,0,0,0));background-image:-o-linear-gradient(top,rgba(0,0,0,.2),rgba(0,0,0,0));background-image:linear-gradient(top,rgba(0,0,0,.2),rgba(0,0,0,0));height:6px;top:0}.gbsb .gbsbt:after{border-top:1px solid #ebebeb;border-color:rgba(0,0,0,.3);top:0}.gbsb .gbsbb{-webkit-mask-box-image:-webkit-gradient(linear,left top,right top,color-stop(0,rgba(0,0,0,.1)),color-stop(.5,rgba(0,0,0,.8)),color-stop(1,rgba(0,0,0,.1)));background:-webkit-gradient(linear,left bottom,left top,from(rgba(0,0,0,.2)),to(rgba(0,0,0,0)));background-image:-webkit-linear-gradient(bottom,rgba(0,0,0,.2),rgba(0,0,0,0));background-image:-moz-linear-gradient(bottom,rgba(0,0,0,.2),rgba(0,0,0,0));background-image:-ms-linear-gradient(bottom,rgba(0,0,0,.2),rgba(0,0,0,0));background-image:-o-linear-gradient(bottom,rgba(0,0,0,.2),rgba(0,0,0,0));background-image:linear-gradient(bottom,rgba(0,0,0,.2),rgba(0,0,0,0));bottom:0;height:4px}.gbsb .gbsbb:after{border-bottom:1px solid #ebebeb;border-color:rgba(0,0,0,.3);bottom:0} .gbsbic::-webkit-scrollbar{height:16px;width:16px}.gbsbic::-webkit-scrollbar-button{height:0;width:0}.gbsbic::-webkit-scrollbar-button:start:decrement,.gbsbic::-webkit-scrollbar-button:end:increment{display:block}.gbsbic::-webkit-scrollbar-button:vertical:start:increment,.gbsbic::-webkit-scrollbar-button:vertical:end:decrement{display:none}.gbsbic::-webkit-scrollbar-track:vertical,.gbsbic::-webkit-scrollbar-track:horizontal,.gbsbic::-webkit-scrollbar-thumb:vertical,.gbsbic::-webkit-scrollbar-thumb:horizontal,.gbsbis .gbsbic::-webkit-scrollbar-track:vertical,.gbsbis .gbsbic::-webkit-scrollbar-track:horizontal,.gbsbis .gbsbic::-webkit-scrollbar-thumb:vertical,.gbsbis .gbsbic::-webkit-scrollbar-thumb:horizontal{border-style:solid;border-color:transparent}.gbsbic::-webkit-scrollbar-track:vertical{background-clip:padding-box;background-color:#fff;border-left-width:5px;border-right-width:0}.gbsbic::-webkit-scrollbar-track:horizontal{background-clip:padding-box;background-color:#fff;border-bottom-width:0;border-top-width:5px}.gbsbic::-webkit-scrollbar-thumb{-webkit-box-shadow:inset 1px 1px 0 rgba(0,0,0,.1),inset 0 -1px 0 rgba(0,0,0,.07);background-clip:padding-box;background-color:rgba(0,0,0,.2);min-height:28px;padding-top:100px}.gbsbic::-webkit-scrollbar-thumb:hover{-webkit-box-shadow:inset 1px 1px 1px rgba(0,0,0,.25);background-color:rgba(0,0,0,.4)}.gbsbic::-webkit-scrollbar-thumb:active{-webkit-box-shadow:inset 1px 1px 3px rgba(0,0,0,.35);background-color:rgba(0,0,0,.5)}.gbsbic::-webkit-scrollbar-thumb:vertical{border-width:0;border-left-width:5px}.gbsbic::-webkit-scrollbar-thumb:horizontal{border-width:0;border-top-width:5px}.gbsbis .gbsbic::-webkit-scrollbar-track:vertical{border-left-width:6px;border-right-width:1px}.gbsbis .gbsbic::-webkit-scrollbar-track:horizontal{border-bottom:1px;border-top:6px}.gbsbis .gbsbic::-webkit-scrollbar-thumb:vertical{border-width:0;border-left-width:6px;border-right-width:1px}.gbsbis .gbsbic::-webkit-scrollbar-thumb:horizontal{border-width:0;border-bottom:1px;border-top:6px}.gbsbic::-webkit-scrollbar-track:hover{-webkit-box-shadow:inset 1px 0 0 rgba(0,0,0,.1);background-color:rgba(0,0,0,.05)}.gbsbic::-webkit-scrollbar-track:active{-webkit-box-shadow:inset 1px 0 0 rgba(0,0,0,.14),inset -1px -1px 0 rgba(0,0,0,.07);background-color:rgba(0,0,0,.05)} </style><style>.star{float:left;margin-top:1px;overflow:hidden}._yhd{font-size:11px}.j{width:34em}body,td,div,.p,a{font-family:arial,sans-serif;-webkit-tap-highlight-color:rgba(255,255,255,0)}body{margin:0}a img{border:0}#gbar{float:left;height:22px;padding-left:2px;font-size:13px}.gsfi,.gsfs{font-size:17px}.w,.q:active,.q:visited,.tbotu{color:#11c}a.gl{text-decoration:none}._Umd a:link{color:#0E1CB3}#foot{padding:0 8px}#foot a{white-space:nowrap}h3{font-size:16px;font-weight:normal;margin:0;padding:0}#res h3{display:inline}.hd{height:1px;position:absolute;top:-1000em}.g,body,html,table,.std{font-size:13px}.g{margin-bottom:23px;margin-top:0;zoom:1}ol li,ul li{list-style:none}h1,ol,ul,li{margin:0;padding:0}#mbEnd h2{font-weight:normal}.e{margin:2px 0 0.75em}#leftnav a{text-decoration:none}#leftnav h2{color:#767676;font-weight:normal;margin:0}#nav{border-collapse:collapse;margin-top:17px;text-align:left}#nav td{text-align:center}.nobr{white-space:nowrap}.ts{border-collapse:collapse}.s br{display:none}.csb{display:block;height:40px}.images_table td{line-height:17px;padding-bottom:16px}.images_table img{border:1px solid #ccc;padding:1px}#tbd,#abd{display:block;min-height:1px}#abd{padding-top:3px}#tbd li{display:inline}._ITd,._JTd{margin-bottom:8px}#tbd .tbt li{display:block;font-size:13px;line-height:1.2;padding-bottom:3px;padding-left:8px;text-indent:-8px}.tbos,.b{font-weight:bold}em{font-weight:bold;font-style:normal}.mime{color:#1a0dab;font-weight:bold;font-size:x-small}._lwd{right:-2px !important;overflow:hidden}.soc a{text-decoration:none}.soc{color:#808080}._AC a{text-decoration:none}._AC{color:#808080}._kgd{color:#e7711b}#_vBb{border:1px solid #e0e0e0;margin-left:-8px;margin-right:-8px;padding:15px 20px 5px}._m3b{font-size:32px}._eGc{color:#777;font-size:16px;margin-top:5px}._H0d{color:#777;font-size:14px;margin-top:5px}._HLh{border:1px solid #e0e0e0;padding-left:20px}._Tki{border:1px solid #e0e0e0;padding:5px 20px}#vob{border:1px solid #e0e0e0;padding:15px 15px}#_Nyc{font-size:22px;line-height:22px;padding-bottom:5px}#vob_st{line-height:1.24}._Tsb{border-width:1px;border-style:solid;border-color:#eee;background-color:#fff;position:relative;margin-bottom:26px}._Peb,._Qeb,._Usb{font-family:Arial;font-weight:lighter}._Peb{margin-bottom:5px}._Peb{font-size:xx-large}._Qeb{font-size:medium}._Usb{font-size:small}._Tsb{margin-left:-8px;margin-right:-15px;padding:20px 20px 24px}._rOc{border-spacing:0px 2px}._sOc{max-width:380px;text-overflow:ellipsis;white-space:nowrap;overflow:hidden;padding-left:0px}._v9b{padding-left:15px;white-space:nowrap;color:#666}._pOc{padding-left:0px}._rkc{color:#212121}._HOb{color:#878787}._lMf{color:#093}._jMf{color:#c00}._kMf{padding:1px}._CKg{color:#dd4b39}.gssb_a{padding:0 10px !important}.gssb_c{left:132px !important;right:295px !important;top:78px !important;width:572px !important}.gssb_c table{font-size:16px !important}.gssb_e{border:1px solid #ccc !important;border-top-color:#d9d9d9 !important}.gssb_i{background:#eee !important}#res{padding:0 8px}#rhs_block{padding-top:43px}#_FQd{padding:0 8px}#subform_ctrl{font-size:11px;height:17px;margin:5px 3px 0 17px}.taf{padding-bottom:3px}._chd{padding:20px 0 3px}._bhd{padding:20px 0 3px}#topstuff .e{padding-bottom:6px}.slk .sld{width:250px}.slk{margin-bottom:-3px}.slk ._z3b{padding-bottom:5px;width:250px}._QPd{margin-top:1px;margin-bottom:-11px}._zuc{color:#545454}._Auc{padding-top:2px;padding-bottom:1px}._Buc{padding-top:1px;margin-bottom:14px}.ac,.st{line-height:1.24}.mfr,#ofr{font-size:16px;margin:1em 0;padding:0 8px}._tLi{padding-bottom:25px}.s{color:#545454}.ac,._JEe{color:#545454}a.fl,._cD a,.osl a{color:#1a0dab;text-decoration:none}a:link{color:#1a0dab;cursor:pointer}#tads a:link{color:#1a0dab}#tads .soc a:link{color:#808080}#tads ._AC a:link{color:#808080}._AC a:link{color:#808080}._AC a:visited{color:#808080}._AC a:hover{color:#808080;text-decoration:underline}a:visited{color:#61C}.blg a{text-decoration:none}cite,cite a:link{color:#006621;font-style:normal}#tads cite{color:#006621}.kv{font-size:15px}.kvs{margin-top:1px}.kv,.kvs,.slp{display:block;margin-bottom:1px}.kt{border-spacing:2px 0;margin-top:1px}#mbEnd li{margin:20px 8px 0 0}.f{color:#808080}._pJb{color:#093}h4.r{display:inline;font-size:small;font-weight:normal}.g{line-height:1.2}._sPb{display:inline-block;vertical-align:top;overflow:hidden;position:relative}._Gnc{margin:0 0 2em 1.3em}._Gnc li{list-style-type:disc}.osl{color:#777;margin-top:4px}.r{font-size:16px;margin:0}.spell{font-size:16px}.spell_orig{font-size:13px}.spell_orig a{text-decoration:none}.spell_orig b i{font-style:normal;font-weight:normal}.th{border:1px solid #ebebeb}.ts td{padding:0}.videobox{padding-bottom:3px}.slk a{text-decoration:none}#leftnav a:hover,#leftnav .tbou a:hover,.slk h3 a,a:hover{text-decoration:underline}#mn{table-layout:fixed;width:100%}#leftnav a{color:#222;font-size:13px}#leftnav{padding:43px 4px 4px 0}.tbos{color:#dd4b39}._AEd{border-top:1px solid #efefef;font-size:13px;margin:10px 0 14px 10px;padding:0}.tbt{margin-bottom:28px}#tbd{padding:0 0 0 16px}.tbou a{color:#222}#center_col{border:0;padding:0 8px 0 0}#topstuff .e{padding-top:3px}#topstuff .sp_cnt{padding-top:6px}#ab_name{color:#dd4b39;font:20px \"Arial\";margin-left:15px}._fld{border-bottom:1px solid #dedede;height:56px;padding-top:1px}#resultStats{color:#999;font-size:13px;overflow:hidden;white-space:nowrap}.mslg>td{padding-right:1px;padding-top:2px}.slk .sld{margin-top:2px;padding:5px 0 5px 5px}._Mvd,.fmp{padding-top:3px}.close_btn{overflow:hidden}#fll a,#bfl a{color:#1a0dab !important;margin:0 12px;text-decoration:none !important}.ng{color:#dd4b39}#mss{margin:.33em 0 0;padding:0;display:table}._mY{display:inline-block;float:left;white-space:nowrap;padding-right:16px}#mss p{margin:0;padding-top:5px}.tn{border-bottom:1px solid #ebebeb;display:block;float:left;height:59px;line-height:54px;min-width:980px;padding:0;position:relative;white-space:nowrap}._UXb,a._UXb{color:#777;cursor:pointer;display:inline-block;font-family:arial,sans-serif;font-size:small;height:54px;line-height:54px;margin:0 8px;padding:0 8px;text-decoration:none;white-space:nowrap}._Ihd{border-bottom:3px solid #dd4b39;color:#dd4b39;font-weight:bold;margin:2px 8px 0}a._Jhd:hover{color:black;text-decoration:none;white-space:nowrap}body{margin:0;padding:0}._sxc{display:inline-block;float:left;margin-top:2px}._Hhd,a._Hhd{margin-left:1px}.sd{line-height:43px;padding:0 8px 0 9px}a:active,.osl a:active,.tbou a:active,#leftnav a:active{color:#dd4b39}#_Xud a:active,#bfl a:active{color:#dd4b39 !important}.csb{background:url(/images/nav_logo229.png) no-repeat;overflow:hidden}.close_btn{background:url(/images/nav_logo229.png) no-repeat -138px -84px;height:14px;width:14px;display:block}.star{background:url(/images/nav_logo229.png) no-repeat -94px -245px;height:13px;width:65px;display:block}.star div,.star span{background:url(/images/nav_logo229.png) no-repeat 0 -245px;height:13px;width:65px;display:block}._nBb{display:inline;margin:0 3px;outline-color:transparent;overflow:hidden;position:relative}._nBb>div{outline-color:transparent}._O0{border-color:transparent;border-style:solid dashed dashed;border-top-color:green;border-width:4px 4px 0 4px;cursor:pointer;display:inline-block;font-size:0;height:0;left:4px;line-height:0;outline-color:transparent;position:relative;top:-3px;width:0}._O0{margin-top:-4px}.am-dropdown-menu{display:block;background:#fff;border:1px solid #dcdcdc;font-size:13px;left:0;padding:0;position:absolute;right:auto;white-space:nowrap;z-index:3}._Ykb{list-style:none;white-space:nowrap}._Ykb:hover{background-color:#eee}a._Zkb{color:#333;cursor:pointer;display:block;padding:7px 18px;text-decoration:none}#tads a._Zkb{color:#333}.sfbgg{background:#f1f1f1;border-bottom:1px solid #e5e5e5;height:71px}#logocont{z-index:1;padding-left:4px;padding-top:4px}#logo{display:block;height:49px;margin-top:12px;margin-left:12px;overflow:hidden;position:relative;width:137px}#logo img{left:0;position:absolute;top:-41px}.lst-a{background:white;border:1px solid #d9d9d9;border-top-color:silver;width:570px}.lst-a:hover{border:1px solid #b9b9b9;border-top:1px solid #a0a0a0;box-shadow:inset 0 1px 2px rgba(0,0,0,0.1);-webkit-box-shadow:inset 0 1px 2px rgba(0,0,0,0.1);-moz-box-shadow:inset 0 1px 2px rgba(0,0,0,0.1)}.lst-td{border:none;padding:0}.tia input{border-right:none;padding-right:0}.tia{padding-right:0}.lst{background:none;border:none;color:#000;font:16px arial,sans-serif;float:left;height:22px;margin:0;padding:3px 6px 2px 9px;vertical-align:top;width:100%;word-break:break-all}.lst:focus{outline:none}.lst-b{background:none;border:none;height:26px;padding:0 6px 0 12px}.ds{border-right:1px solid #e7e7e7;position:relative;height:29px;margin-left:17px;z-index:100}.lsbb{background-image:-moz-linear-gradient(top,#4d90fe,#4787ed);background-image:-ms-linear-gradient(top,#4d90fe,#4787ed);background-image:-o-linear-gradient(top,#4d90fe,#4787ed);background-image:-webkit-gradient(linear,left top,left bottom,from(#4d90fe),to(#4787ed));background-image:-webkit-linear-gradient(top,#4d90fe,#4787ed);background-image:linear-gradient(top,#4d90fe,#4787ed);border:1px solid #3079ed;border-radius:2px;background-color:#4d90fe;height:27px;width:68px}.lsbb:hover{background-image:-moz-linear-gradient(top,#4d90fe,#357ae8);background-image:-ms-linear-gradient(top,#4d90fe,#357ae8);background-image:-o-linear-gradient(top,#4d90fe,#357ae8);background-image:-webkit-gradient(linear,left top,left bottom,from(#4d90fe),to(#357ae8));background-image:-webkit-linear-gradient(top,#4d90fe,#357ae8);background-color:#357ae8;background-image:linear-gradient(top,#4d90fe,#357ae8);border:1px solid #2f5bb7}.lsb{background:transparent;background-position:0 -343px;background-repeat:repeat-x;border:none;color:#000;cursor:default;font:15px arial,sans-serif;height:29px;margin:0;vertical-align:top;width:100%}.lsb:active{-moz-box-shadow:inset 0 1px 2px rgba(0,0,0,0.3);-webkit-box-shadow:inset 0 1px 2px rgba(0,0,0,0.3);box-shadow:inset 0 1px 2px rgba(0,0,0,0.3);background:transparent;color:transparent;overflow:hidden;position:relative;width:100%}.sbico{color:transparent;display:inline-block;height:15px;margin:0 auto;margin-top:2px;width:15px;overflow:hidden}</style><script>(function(){window.google={kEI:'-2txV-W_L4av-AGewJrACA',kEXPI:'1350756,3700277,3700389,4029815,4031109,4032678,4036211,4036509,4036527,4038012,4039268,4043492,4045841,4048347,4052304,4054551,4055233,4056034,4057739,4059688,4061155,4062185,4062333,4062972,4063180,4063879,4063929,4064096,4064133,4064930,4065406,4065787,4065793,4065919,4066102,4066237,4066654,4066655,4066965,4066973,4067274,4067518,4067658,4067675,4067848,4067860,4067868,4067870,4067968,4068002,4068022,4068144,4068196,4068550,4068560,4068832,4068866,4068872,4069404,4069595,4069776,4069834,4069839,4069841,4069917,4069962,4070077,4070273,4070337,4070598,4070790,8300096,8300272,8300366,8502184,8503210,8503585,8503799,8504026,8504907,8505158,8505164,8505166,8505440,8505517,10200083,10200095',authuser:0,kscs:'c9c918f0_24'};google.kHL='en';})();(function(){google.lc=[];google.li=0;google.getEI=function(a){for(var b;a&&(!a.getAttribute||!(b=a.getAttribute(\"eid\")));)a=a.parentNode;return b||google.kEI};google.getLEI=function(a){for(var b=null;a&&(!a.getAttribute||!(b=a.getAttribute(\"leid\")));)a=a.parentNode;return b};google.https=function(){return\"https:\"==window.location.protocol};google.ml=function(){return null};google.wl=function(a,b){try{google.ml(Error(a),!1,b)}catch(c){}};google.time=function(){return(new Date).getTime()};google.log=function(a,b,c,e,g){a=google.logUrl(a,b,c,e,g);if(\"\"!=a){b=new Image;var d=google.lc,f=google.li;d[f]=b;b.onerror=b.onload=b.onabort=function(){delete d[f]};window.google&&window.google.vel&&window.google.vel.lu&&window.google.vel.lu(a);b.src=a;google.li=f+1}};google.logUrl=function(a,b,c,e,g){var d=\"\",f=google.ls||\"\";if(!c&&-1==b.search(\"&ei=\")){var h=google.getEI(e),d=\"&ei=\"+h;-1==b.search(\"&lei=\")&&((e=google.getLEI(e))?d+=\"&lei=\"+e:h!=google.kEI&&(d+=\"&lei=\"+google.kEI))}a=c||\"/\"+(g||\"gen_204\")+\"?atyp=i&ct=\"+a+\"&cad=\"+b+d+f+\"&zx=\"+google.time();/^http:/i.test(a)&&google.https()&&(google.ml(Error(\"a\"),!1,{src:a,glmm:1}),a=\"\");return a};google.y={};google.x=function(a,b){google.y[a.id]=[a,b];return!1};google.load=function(a,b,c){google.x({id:a+k++},function(){google.load(a,b,c)})};var k=0;})();(function(){var b=[function(){google.c&&google.tick(\"load\",\"dcl\")}];google.dcl=!1;google.dclc=function(a){google.dcl?a():b.push(a)};function c(){if(!google.dcl){google.dcl=!0;for(var a;a=b.shift();)a()}}window.addEventListener?(document.addEventListener(\"DOMContentLoaded\",c,!1),window.addEventListener(\"load\",c,!1)):window.attachEvent&&window.attachEvent(\"onload\",c);})();</script><script type=\"text/javascript\">(function(){try{var e=this;var aa=function(a,b,c,d){d=d||{};d._sn=[\"cfg\",b,c].join(\".\");window.gbar.logger.ml(a,d)};var h=window.gbar=window.gbar||{},k=window.gbar.i=window.gbar.i||{},ba;function _tvn(a,b){var c=parseInt(a,10);return isNaN(c)?b:c}function _tvf(a,b){var c=parseFloat(a);return isNaN(c)?b:c}function _tvv(a){return!!a}function p(a,b,c){(c||h)[a]=b}h.bv={n:_tvn(\"2\",0),r:\"\",f:\".66.41.\",e:\"1300102,3700277,3700389\",m:_tvn(\"1\",1)}; function ca(a,b,c){var d=\"on\"+b;if(a.addEventListener)a.addEventListener(b,c,!1);else if(a.attachEvent)a.attachEvent(d,c);else{var f=a[d];a[d]=function(){var a=f.apply(this,arguments),b=c.apply(this,arguments);return void 0==a?b:void 0==b?a:b&&a}}}var da=function(a){return function(){return h.bv.m==a}},ea=da(1),fa=da(2);p(\"sb\",ea);p(\"kn\",fa);k.a=_tvv;k.b=_tvf;k.c=_tvn;k.i=aa;var q=window.gbar.i.i;var t=function(){},u=function(){},ia=function(a){var b=new Image,c=ga;b.onerror=b.onload=b.onabort=function(){try{delete ha[c]}catch(a){}};ha[c]=b;b.src=a;ga=c+1},ha=[],ga=0;p(\"logger\",{il:u,ml:t,log:ia});var v=window.gbar.logger;var y={},ja={},A=[],ka=k.b(\"0.1\",.1),la=k.a(\"1\",!0),ma=function(a,b){A.push([a,b])},na=function(a,b){y[a]=b},oa=function(a){return a in y},B={},C=function(a,b){B[a]||(B[a]=[]);B[a].push(b)},D=function(a){C(\"m\",a)},pa=function(a,b){var c=document.createElement(\"script\");c.src=a;c.async=la;Math.random()<ka&&(c.onerror=function(){c.onerror=null;t(Error(\"Bundle load failed: name=\"+(b||\"UNK\")+\" url=\"+a))});(document.getElementById(\"xjsc\")||document.getElementsByTagName(\"body\")[0]|| document.getElementsByTagName(\"head\")[0]).appendChild(c)},F=function(a){for(var b=0,c;(c=A[b])&&c[0]!=a;++b);!c||c[1].l||c[1].s||(c[1].s=!0,qa(2,a),c[1].url&&pa(c[1].url,a),c[1].libs&&E&&E(c[1].libs))},ra=function(a){C(\"gc\",a)},sa=null,ta=function(a){sa=a},qa=function(a,b,c){if(sa){a={t:a,b:b};if(c)for(var d in c)a[d]=c[d];try{sa(a)}catch(f){}}};p(\"mdc\",y);p(\"mdi\",ja);p(\"bnc\",A);p(\"qGC\",ra);p(\"qm\",D);p(\"qd\",B);p(\"lb\",F);p(\"mcf\",na);p(\"bcf\",ma);p(\"aq\",C);p(\"mdd\",\"\"); p(\"has\",oa);p(\"trh\",ta);p(\"tev\",qa);if(k.a(\"1\")){var ua=k.a(\"1\"),va=k.a(\"\"),wa=k.a(\"\"),xa=window.gapi={},ya=function(a,b){var c=function(){h.dgl(a,b)};ua?D(c):(C(\"gl\",c),F(\"gl\"))},za={},Aa=function(a){a=a.split(\":\");for(var b;(b=a.pop())&&za[b];);return!b},E=function(a){function b(){for(var b=a.split(\":\"),d=0,f;f=b[d];++d)za[f]=1;for(b=0;d=A[b];++b)d=d[1],(f=d.libs)&&!d.l&&d.i&&Aa(f)&&d.i()}h.dgl(a,b)},H=window.___jsl={};H.h=\"m;/_/scs/abc-static/_/js/k=gapi.gapi.en.ckPzMbN3RN4.O/m=__features__/rt=j/d=1/rs=AHpOoo9AZwc3TNbR8rhHRH61rbtaUDZxJw\";H.ms=\"https://apis.google.com\"; H.m=\"\";H.l=[];ua||A.push([\"gl\",{url:\"//ssl.gstatic.com/gb/js/abc/glm_e7bb39a7e1a24581ff4f8d199678b1b9.js\"}]);var Ba={pu:va,sh:\"\",si:wa,hl:\"en\"};y.gl=Ba;p(\"load\",ya,xa);p(\"dgl\",ya);p(\"agl\",Aa);k.o=ua};var Ca=k.b(\"0.1\",.001),Da=0; function _mlToken(a,b){try{if(1>Da){Da++;var c,d=a,f=b||{},g=encodeURIComponent,l=[\"//www.google.com/gen_204?atyp=i&zx=\",(new Date).getTime(),\"&jexpid=\",g(\"28834\"),\"&srcpg=\",g(\"prop=1\"),\"&jsr=\",Math.round(1/Ca),\"&ogev=\",g(\"-2txV-KlMYvq-AH0xZjYAQ\"),\"&ogf=\",h.bv.f,\"&ogrp=\",g(\"1\"),\"&ogv=\",g(\"1466735698.0\"),\"&oggv=\"+g(\"es_plusone_gc_20160615.0_p0\"),\"&ogd=\",g(\"com\"),\"&ogc=\",g(\"USA\"),\"&ogl=\",g(\"en\")];f._sn&&(f._sn= \"og.\"+f._sn);for(var n in f)l.push(\"&\"),l.push(g(n)),l.push(\"=\"),l.push(g(f[n]));l.push(\"&emsg=\");l.push(g(d.name+\":\"+d.message));var m=l.join(\"\");Ea(m)&&(m=m.substr(0,2E3));c=m;var r=window.gbar.logger._aem(a,c);ia(r)}}catch(z){}}var Ea=function(a){return 2E3<=a.length},Fa=function(a,b){return b};function Ga(a){t=a;p(\"_itl\",Ea,v);p(\"_aem\",Fa,v);p(\"ml\",t,v);a={};y.er=a}k.a(\"\")?Ga(function(a){throw a;}):k.a(\"1\")&&Math.random()<Ca&&Ga(_mlToken);var _E=\"left\",Ha=k.a(\"\"),J=function(a,b){var c=a.className;I(a,b)||(a.className+=(\"\"!=c?\" \":\"\")+b)},K=function(a,b){var c=a.className,d=new RegExp(\"\\\\s?\\\\b\"+b+\"\\\\b\");c&&c.match(d)&&(a.className=c.replace(d,\"\"))},I=function(a,b){var c=new RegExp(\"\\\\b\"+b+\"\\\\b\"),d=a.className;return!(!d||!d.match(c))},Ia=function(a,b){I(a,b)?K(a,b):J(a,b)},Ja=function(a,b){a[b]=function(c){var d=arguments;h.qm(function(){a[b].apply(this,d)})}},Ka=function(a){a=[\"//www.gstatic.com\", \"/og/_/js/d=1/k=\",\"og.og2.en_US.MogkFHv5l9s.O\",\"/rt=j/m=\",a,\"/rs=\",\"AA2YrTvk_BpsZ765ZVMg_nK3lFJv7uzp4g\"];Ha&&a.push(\"?host=www.gstatic.com&bust=og.og2.en_US.Wy1oIWcxSf0.DU\");a=a.join(\"\");pa(a)};p(\"ca\",J);p(\"cr\",K);p(\"cc\",I);k.k=J;k.l=K;k.m=I;k.n=Ia;k.p=Ka;k.q=Ja;var La=[\"gb_71\",\"gb_155\"],Ma;function Na(a){Ma=a}function Oa(a){var b=Ma&&!a.href.match(/.*\\/accounts\\/ClearSID[?]/)&&encodeURIComponent(Ma());b&&(a.href=a.href.replace(/([?&]continue=)[^&]*/,\"$1\"+b))}function Pa(a){window.gApplication&&(a.href=window.gApplication.getTabUrl(a.href))}function Qa(a){try{var b=(document.forms[0].q||\"\").value;b&&(a.href=a.href.replace(/([?&])q=[^&]*|$/,function(a,d){return(d||\"&\")+\"q=\"+encodeURIComponent(b)}))}catch(c){q(c,\"sb\",\"pq\")}} var Ra=function(){for(var a=[],b=0,c;c=La[b];++b)(c=document.getElementById(c))&&a.push(c);return a},Sa=function(){var a=Ra();return 0<a.length?a[0]:null},Ta=function(){return document.getElementById(\"gb_70\")},L={},M={},Ua={},N={},O=void 0,Za=function(a,b){try{var c=document.getElementById(\"gb\");J(c,\"gbpdjs\");P();Va(document.getElementById(\"gb\"))&&J(c,\"gbrtl\");if(b&&b.getAttribute){var d=b.getAttribute(\"aria-owns\");if(d.length){var f=document.getElementById(d);if(f){var g=b.parentNode;if(O==d)O=void 0, K(g,\"gbto\");else{if(O){var l=document.getElementById(O);if(l&&l.getAttribute){var n=l.getAttribute(\"aria-owner\");if(n.length){var m=document.getElementById(n);m&&m.parentNode&&K(m.parentNode,\"gbto\")}}}Wa(f)&&Xa(f);O=d;J(g,\"gbto\")}}}}D(function(){h.tg(a,b,!0)});Ya(a)}catch(r){q(r,\"sb\",\"tg\")}},$a=function(a){D(function(){h.close(a)})},ab=function(a){D(function(){h.rdd(a)})},Va=function(a){var b,c=document.defaultView;c&&c.getComputedStyle?(a=c.getComputedStyle(a,\"\"))&&(b=a.direction):b=a.currentStyle? a.currentStyle.direction:a.style.direction;return\"rtl\"==b},cb=function(a,b,c){if(a)try{var d=document.getElementById(\"gbd5\");if(d){var f=d.firstChild,g=f.firstChild,l=document.createElement(\"li\");l.className=b+\" gbmtc\";l.id=c;a.className=\"gbmt\";l.appendChild(a);if(g.hasChildNodes()){c=[[\"gbkc\"],[\"gbf\",\"gbe\",\"gbn\"],[\"gbkp\"],[\"gbnd\"]];for(var d=0,n=g.childNodes.length,f=!1,m=-1,r=0,z;z=c[r];r++){for(var T=0,G;G=z[T];T++){for(;d<n&&I(g.childNodes[d],G);)d++;if(G==b){g.insertBefore(l,g.childNodes[d]|| null);f=!0;break}}if(f){if(d+1<g.childNodes.length){var U=g.childNodes[d+1];I(U.firstChild,\"gbmh\")||bb(U,z)||(m=d+1)}else if(0<=d-1){var V=g.childNodes[d-1];I(V.firstChild,\"gbmh\")||bb(V,z)||(m=d)}break}0<d&&d+1<n&&d++}if(0<=m){var w=document.createElement(\"li\"),x=document.createElement(\"div\");w.className=\"gbmtc\";x.className=\"gbmt gbmh\";w.appendChild(x);g.insertBefore(w,g.childNodes[m])}h.addHover&&h.addHover(a)}else g.appendChild(l)}}catch(Ab){q(Ab,\"sb\",\"al\")}},bb=function(a,b){for(var c=b.length, d=0;d<c;d++)if(I(a,b[d]))return!0;return!1},db=function(a,b,c){cb(a,b,c)},eb=function(a,b){cb(a,\"gbe\",b)},fb=function(){D(function(){h.pcm&&h.pcm()})},gb=function(){D(function(){h.pca&&h.pca()})},hb=function(a,b,c,d,f,g,l,n,m,r){D(function(){h.paa&&h.paa(a,b,c,d,f,g,l,n,m,r)})},ib=function(a,b){L[a]||(L[a]=[]);L[a].push(b)},jb=function(a,b){M[a]||(M[a]=[]);M[a].push(b)},kb=function(a,b){Ua[a]=b},lb=function(a,b){N[a]||(N[a]=[]);N[a].push(b)},Ya=function(a){a.preventDefault&&a.preventDefault();a.returnValue= !1;a.cancelBubble=!0},mb=null,Xa=function(a,b){P();if(a){nb(a,\"Opening&hellip;\");Q(a,!0);var c=\"undefined\"!=typeof b?b:1E4,d=function(){ob(a)};mb=window.setTimeout(d,c)}},pb=function(a){P();a&&(Q(a,!1),nb(a,\"\"))},ob=function(a){try{P();var b=a||document.getElementById(O);b&&(nb(b,\"This service is currently unavailable.%1$sPlease try again later.\",\"%1$s\"),Q(b,!0))}catch(c){q(c,\"sb\",\"sdhe\")}},nb=function(a,b,c){if(a&&b){var d=Wa(a);if(d){if(c){d.innerHTML=\"\";b=b.split(c);c=0;for(var f;f=b[c];c++){var g=document.createElement(\"div\"); g.innerHTML=f;d.appendChild(g)}}else d.innerHTML=b;Q(a,!0)}}},Q=function(a,b){var c=void 0!==b?b:!0;c?J(a,\"gbmsgo\"):K(a,\"gbmsgo\")},Wa=function(a){for(var b=0,c;c=a.childNodes[b];b++)if(I(c,\"gbmsg\"))return c},P=function(){mb&&window.clearTimeout(mb)},qb=function(a){var b=\"inner\"+a;a=\"offset\"+a;return window[b]?window[b]:document.documentElement&&document.documentElement[a]?document.documentElement[a]:0},rb=function(){return!1},sb=function(){return!!O};p(\"so\",Sa);p(\"sos\",Ra);p(\"si\",Ta);p(\"tg\",Za); p(\"close\",$a);p(\"rdd\",ab);p(\"addLink\",db);p(\"addExtraLink\",eb);p(\"pcm\",fb);p(\"pca\",gb);p(\"paa\",hb);p(\"ddld\",Xa);p(\"ddrd\",pb);p(\"dderr\",ob);p(\"rtl\",Va);p(\"op\",sb);p(\"bh\",L);p(\"abh\",ib);p(\"dh\",M);p(\"adh\",jb);p(\"ch\",N);p(\"ach\",lb);p(\"eh\",Ua);p(\"aeh\",kb);ba=k.a(\"\")?Pa:Qa;p(\"qs\",ba);p(\"setContinueCb\",Na);p(\"pc\",Oa);p(\"bsy\",rb);k.d=Ya;k.j=qb;var tb={};y.base=tb;A.push([\"m\",{url:\"//ssl.gstatic.com/gb/js/sem_2cdedec798bb2d12c70bfd09529725cd.js\"}]);h.sg={c:\"1\"};p(\"wg\",{rg:{}});var ub={tiw:k.c(\"15000\",0),tie:k.c(\"30000\",0)};y.wg=ub;var vb={thi:k.c(\"10000\",0),thp:k.c(\"180000\",0),tho:k.c(\"5000\",0),tet:k.b(\"0.5\",0)};y.wm=vb;if(k.a(\"1\")){var wb=k.a(\"\");A.push([\"gc\",{auto:wb,url:\"//ssl.gstatic.com/gb/js/abc/gci_91f30755d6a6b787dcc2a4062e6e9824.js\",libs:\"googleapis.client:plusone:gapi.iframes\"}]);var xb={version:\"gci_91f30755d6a6b787dcc2a4062e6e9824.js\",index:\"\",lang:\"en\"};y.gc=xb;var yb=function(a){window.googleapis&&window.iframes?a&&a():(a&&ra(a),F(\"gc\"))};p(\"lGC\",yb);k.a(\"1\")&&p(\"lPWF\",yb)};window.__PVT=\"\";if(k.a(\"1\")&&k.a(\"1\")){var zb=function(a){yb(function(){C(\"pw\",a);F(\"pw\")})};p(\"lPW\",zb);A.push([\"pw\",{url:\"//ssl.gstatic.com/gb/js/abc/pwm_45f73e4df07a0e388b0fa1f3d30e7280.js\"}]);var Bb=[],Cb=function(a){Bb[0]=a},Db=function(a,b){var c=b||{};c._sn=\"pw\";t(a,c)},Eb={signed:Bb,elog:Db,base:\"https://plusone.google.com/u/0\",loadTime:(new Date).getTime()};y.pw=Eb;var Fb=function(a,b){for(var c=b.split(\".\"),d=function(){var b=arguments;a(function(){for(var a=h,d=0,f=c.length-1;d<f;++d)a=a[c[d]];a[c[d]].apply(a,b)})},f=h,g=0,l=c.length-1;g< l;++g)f=f[c[g]]=f[c[g]]||{};return f[c[g]]=d};Fb(zb,\"pw.clk\");Fb(zb,\"pw.hvr\");p(\"su\",Cb,h.pw)};var Gb=[1,2,3,4,5,6,9,10,11,13,14,28,29,30,34,35,37,38,39,40,41,42,43,48,49,500];var Hb=k.b(\"0.001\",1E-4),Ib=k.b(\"1\",1),Jb=!1,Kb=!1;if(k.a(\"1\")){var Lb=Math.random();Lb<Hb&&(Jb=!0);Lb<Ib&&(Kb=!0)}var R=null; function Mb(a,b){var c=Hb,d=Jb,f;f=a;if(!R){R={};for(var g=0;g<Gb.length;g++){var l=Gb[g];R[l]=!0}}if(f=!!R[f])c=Ib,d=Kb;if(d){var d=encodeURIComponent,n=\"es_plusone_gc_20160615.0_p0\",m;h.rp?(m=h.rp(),m=\"-1\"!=m?m:\"1\"):m=\"1\";f=(new Date).getTime();var g=d(\"28834\"),l=d(\"-2txV-KlMYvq-AH0xZjYAQ\"),r=h.bv.f,z=d(\"1\");m=d(m);var c=Math.round(1/c),T=d(\"1466735698.0\"),n=n?\"&oggv=\"+d(n):\"\",G=d(\"com\"),U=d(\"en\"), V=d(\"USA\"),w;w=0;k.a(\"\")&&(w|=1);k.a(\"\")&&(w|=2);k.a(\"\")&&(w|=4);f=[\"//www.google.com/gen_204?atyp=i&zx=\",f,\"&oge=\",a,\"&ogex=\",g,\"&ogev=\",l,\"&ogf=\",r,\"&ogp=\",z,\"&ogrp=\",m,\"&ogsr=\",c,\"&ogv=\",T,n,\"&ogd=\",G,\"&ogl=\",U,\"&ogc=\",V,\"&ogus=\",w];if(b){\"ogw\"in b&&(f.push(\"&ogw=\"+b.ogw),delete b.ogw);var x,g=b,l=[];for(x in g)0!=l.length&&l.push(\",\"),l.push(Nb(x)),l.push(\".\"),l.push(Nb(g[x]));x=l.join(\"\");\"\"!=x&&(f.push(\"&ogad=\"),f.push(d(x)))}ia(f.join(\"\"))}} function Nb(a){\"number\"==typeof a&&(a+=\"\");return\"string\"==typeof a?a.replace(\".\",\"%2E\").replace(\",\",\"%2C\"):a}u=Mb;p(\"il\",u,v);var Ob={};y.il=Ob;var Pb=function(a,b,c,d,f,g,l,n,m,r){D(function(){h.paa(a,b,c,d,f,g,l,n,m,r)})},Qb=function(){D(function(){h.prm()})},Rb=function(a){D(function(){h.spn(a)})},Sb=function(a){D(function(){h.sps(a)})},Tb=function(a){D(function(){h.spp(a)})},Ub={\"27\":\"//ssl.gstatic.com/gb/images/silhouette_24.png\",\"27\":\"//ssl.gstatic.com/gb/images/silhouette_24.png\",\"27\":\"//ssl.gstatic.com/gb/images/silhouette_24.png\"},Vb=function(a){return(a=Ub[a])||\"//ssl.gstatic.com/gb/images/silhouette_24.png\"}, Wb=function(){D(function(){h.spd()})};p(\"spn\",Rb);p(\"spp\",Tb);p(\"sps\",Sb);p(\"spd\",Wb);p(\"paa\",Pb);p(\"prm\",Qb);ib(\"gbd4\",Qb); if(k.a(\"\")){var Xb={d:k.a(\"\"),e:\"\",sanw:k.a(\"\"),p:\"//ssl.gstatic.com/gb/images/silhouette_96.png\",cp:\"1\",xp:k.a(\"1\"),mg:\"%1$s (delegated)\",md:\"%1$s (default)\",mh:\"220\",s:\"1\",pp:Vb,ppl:k.a(\"\"),ppa:k.a(\"\"), ppm:\"Google+ page\"};y.prf=Xb};var S,Yb,W,Zb,X=0,$b=function(a,b,c){if(a.indexOf)return a.indexOf(b,c);if(Array.indexOf)return Array.indexOf(a,b,c);for(c=null==c?0:0>c?Math.max(0,a.length+c):c;c<a.length;c++)if(c in a&&a[c]===b)return c;return-1},Y=function(a,b){return-1==$b(a,X)?(q(Error(X+\"_\"+b),\"up\",\"caa\"),!1):!0},bc=function(a,b){Y([1,2],\"r\")&&(S[a]=S[a]||[],S[a].push(b),2==X&&window.setTimeout(function(){b(ac(a))},0))},cc=function(a,b,c){if(Y([1],\"nap\")&&c){for(var d=0;d<c.length;d++)Yb[c[d]]=!0;h.up.spl(a,b,\"nap\",c)}},dc= function(a,b,c){if(Y([1],\"aop\")&&c){if(W)for(var d in W)W[d]=W[d]&&-1!=$b(c,d);else for(W={},d=0;d<c.length;d++)W[c[d]]=!0;h.up.spl(a,b,\"aop\",c)}},ec=function(){try{if(X=2,!Zb){Zb=!0;for(var a in S)for(var b=S[a],c=0;c<b.length;c++)try{b[c](ac(a))}catch(d){q(d,\"up\",\"tp\")}}}catch(d){q(d,\"up\",\"mtp\")}},ac=function(a){if(Y([2],\"ssp\")){var b=!Yb[a];W&&(b=b&&!!W[a]);return b}};Zb=!1;S={};Yb={};W=null; var X=1,fc=function(a){var b=!1;try{b=a.cookie&&a.cookie.match(\"PREF\")}catch(c){}return!b},gc=function(){try{return!!e.localStorage&&\"object\"==typeof e.localStorage}catch(a){return!1}},hc=function(a){return a&&a.style&&a.style.behavior&&\"undefined\"!=typeof a.load},ic=function(a,b,c,d){try{fc(document)||(d||(b=\"og-up-\"+b),gc()?e.localStorage.setItem(b,c):hc(a)&&(a.setAttribute(b,c),a.save(a.id)))}catch(f){f.code!=DOMException.QUOTA_EXCEEDED_ERR&&q(f,\"up\",\"spd\")}},jc=function(a,b,c){try{if(fc(document))return\"\"; c||(b=\"og-up-\"+b);if(gc())return e.localStorage.getItem(b);if(hc(a))return a.load(a.id),a.getAttribute(b)}catch(d){d.code!=DOMException.QUOTA_EXCEEDED_ERR&&q(d,\"up\",\"gpd\")}return\"\"},kc=function(a,b,c){a.addEventListener?a.addEventListener(b,c,!1):a.attachEvent&&a.attachEvent(\"on\"+b,c)},lc=function(a){for(var b=0,c;c=a[b];b++){var d=h.up;c=c in d&&d[c];if(!c)return!1}return!0},mc=function(a,b){try{if(fc(a))return-1;var c=a.cookie.match(/OGPC=([^;]*)/);if(c&&c[1]){var d=c[1].match(new RegExp(\"\\\\b\"+ b+\"-([0-9]+):\"));if(d&&d[1])return parseInt(d[1],10)}}catch(f){f.code!=DOMException.QUOTA_EXCEEDED_ERR&&q(f,\"up\",\"gcc\")}return-1};p(\"up\",{r:bc,nap:cc,aop:dc,tp:ec,ssp:ac,spd:ic,gpd:jc,aeh:kc,aal:lc,gcc:mc});var Z=function(a,b){a[b]=function(c){var d=arguments;h.qm(function(){a[b].apply(this,d)})}};Z(h.up,\"sl\");Z(h.up,\"si\");Z(h.up,\"spl\");Z(h.up,\"dpc\");Z(h.up,\"iic\");h.mcf(\"up\",{sp:k.b(\"0.01\",1),tld:\"com\",prid:\"1\"});function nc(){function a(){for(var b;(b=g[l++])&&\"m\"!=b[0]&&!b[1].auto;);b&&(qa(2,b[0]),b[1].url&&pa(b[1].url,b[0]),b[1].libs&&E&&E(b[1].libs));l<g.length&&setTimeout(a,0)}function b(){0<f--?setTimeout(b,0):a()}var c=k.a(\"1\"),d=k.a(\"\"),f=3,g=A,l=0,n=window.gbarOnReady;if(n)try{n()}catch(m){q(m,\"ml\",\"or\")}d?p(\"ldb\",a):c?ca(window,\"load\",b):b()}p(\"rdl\",nc);}catch(e){window.gbar&&gbar.logger&&gbar.logger.ml(e,{\"_sn\":\"cfg.init\"});}})(); (function(){try{var b=window.gbar;var d=function(a,c){b[a]=function(){return window.navigator&&window.navigator.userAgent?c(window.navigator.userAgent):!1}},e=function(a){return!(/AppleWebKit\\/.+(?:Version\\/[35]\\.|Chrome\\/[01]\\.)/.test(a)||-1!=a.indexOf(\"Firefox/3.5.\"))};d(\"bs_w\",e);}catch(e){window.gbar&&gbar.logger&&gbar.logger.ml(e,{\"_sn\":\"cfg.init\"});}})(); (function(){try{var a=window.gbar;a.mcf(\"pm\",{p:\"19000096,8QJ,7,,\"});}catch(e){window.gbar&&gbar.logger&&gbar.logger.ml(e,{\"_sn\":\"cfg.init\"});}})(); (function(){try{var a=window.gbar;a.mcf(\"mm\",{s:\"1\"});}catch(e){window.gbar&&gbar.logger&&gbar.logger.ml(e,{\"_sn\":\"cfg.init\"});}})(); (function(){try{var d=window.gbar.i.i;var e=window.gbar;var f=e.i;var g=f.c(\"1\",0),h=/\\bgbmt\\b/,k=function(a){try{var b=document.getElementById(\"gb_\"+g),c=document.getElementById(\"gb_\"+a);b&&f.l(b,h.test(b.className)?\"gbm0l\":\"gbz0l\");c&&f.k(c,h.test(c.className)?\"gbm0l\":\"gbz0l\")}catch(l){d(l,\"sj\",\"ssp\")}g=a},m=e.qs,n=function(a){var b;b=a.href;var c=window.location.href.match(/.*?:\\/\\/[^\\/]*/)[0],c=new RegExp(\"^\"+c+\"/search\\\\?\");(b=c.test(b))&&!/(^|\\\\?|&)ei=/.test(a.href)&&(b=window.google)&&b.kEXPI&&(a.href+=\"&ei=\"+b.kEI)},p=function(a){m(a); n(a)},q=function(){if(window.google&&window.google.sn){var a=/.*hp$/;return a.test(window.google.sn)?\"\":\"1\"}return\"-1\"};e.rp=q;e.slp=k;e.qs=p;e.qsi=n;}catch(e){window.gbar&&gbar.logger&&gbar.logger.ml(e,{\"_sn\":\"cfg.init\"});}})(); (function(){try{var a=this;var b=window.gbar;var c=b.i;var d=c.a,e=c.c,f={cty:\"USA\",cv:\"1466735698\",dbg:d(\"\"),ecv:\"0\",ei:e(\"-2txV-KlMYvq-AH0xZjYAQ\"),ele:d(\"1\"),esr:e(\"0.1\"),evts:[\"mousedown\",\"touchstart\",\"touchmove\",\"wheel\",\"keydown\"],gbl:\"es_plusone_gc_20160615.0_p0\",hd:\"com\",hl:\"en\",irp:d(\"1\"),pid:e(\"1\"), snid:e(\"28834\"),to:e(\"300000\"),u:e(\"\"),vf:\".66.41.\"},g=f,h=[\"bndcfg\"],k=a;h[0]in k||!k.execScript||k.execScript(\"var \"+h[0]);for(var l;h.length&&(l=h.shift());)h.length||void 0===g?k=k[l]?k[l]:k[l]={}:k[l]=g;}catch(e){window.gbar&&gbar.logger&&gbar.logger.ml(e,{\"_sn\":\"cfg.init\"});}})(); (function(){try{window.gbar.rdl();}catch(e){window.gbar&&gbar.logger&&gbar.logger.ml(e,{\"_sn\":\"cfg.init\"});}})(); </script><script>(function(){var a=function(f){for(var g=f.parentElement,d=null,e=0;e<g.childNodes.length;e++){var h=g.childNodes[e];-1<(\" \"+h.className+\" \").indexOf(\" am-dropdown-menu \")&&(d=h)}\"none\"==d.style.display?(d.style.display=\"\",google.log(\"hpam\",\"&ved=\"+f.getAttribute(\"data-ved\"))):d.style.display=\"none\"},b=[\"google\",\"sham\"],c=this;b[0]in c||!c.execScript||c.execScript(\"var \"+b[0]);for(var k;b.length&&(k=b.shift());)b.length||void 0===a?c[k]?c=c[k]:c=c[k]={}:c[k]=a;}).call(window);</script><style type=\"text/css\">.gsib_a{width:100%;padding:4px 6px 0}.gsib_a,.gsib_b{vertical-align:top}.gssb_c{border:0;position:absolute;z-index:989}.gssb_e{border:1px solid #ccc;border-top-color:#d9d9d9;box-shadow:0 2px 4px rgba(0,0,0,0.2);-webkit-box-shadow:0 2px 4px rgba(0,0,0,0.2);cursor:default}.gssb_f{visibility:hidden;white-space:nowrap}.gssb_k{border:0;display:block;position:absolute;top:0;z-index:988}.gsdd_a{border:none!important}.gsmq_a{padding:0}a.gspqs_a{padding:0 3px 0 8px}.gspqs_b{color:#666;line-height:22px}.gsls_a{color:red}.gsn_a{padding-top:4px;padding-bottom:1px}.gsn_b{display:block;line-height:16px}.gsn_c{color:green;font-size:13px}.gsq_a{padding:0}.gssb_a{padding:0 7px}.gssb_a,.gssb_a td{white-space:nowrap;overflow:hidden;line-height:22px}#gssb_b{font-size:11px;color:#36c;text-decoration:none}#gssb_b:hover{font-size:11px;color:#36c;text-decoration:underline}.gssb_g{text-align:center;padding:8px 0 7px;position:relative}.gssb_h{font-size:15px;height:28px;margin:0.2em;-webkit-appearance:button}.gssb_i{background:#eee}.gss_ifl{visibility:hidden;padding-left:5px}.gssb_i .gss_ifl{visibility:visible}a.gssb_j{font-size:13px;color:#36c;text-decoration:none;line-height:100%}a.gssb_j:hover{text-decoration:underline}.gssb_l{height:1px;background-color:#e5e5e5}.gssb_m{color:#000;background:#fff}a.gspqs_a{padding-left:0}.gssb_e{border-top:1px solid #a2bff0;border-right:1px solid #558be3;border-bottom:1px solid #558be3;border-left:1px solid #a2bff0;}.gssb_i{background:#d5e2ff}</style></head><body class=\"hsrp\" bgcolor=\"#ffffff\" marginheight=\"0\" marginwidth=\"0\" topmargin=\"0\"><div id=\"gb\"><script>window.gbar&&gbar.eli&&gbar.eli()</script><div id=\"gbw\"><div id=\"gbz\"><span class=\"gbtcb\"></span><ol id=\"gbzc\" class=\"gbtc\"><li class=\"gbt\"><a onclick=\"gbar.logger.il(1,{t:119});\" class=\"gbzt\" id=\"gb_119\" href=\"https://plus.google.com/?gpsrc=ogpy0&amp;tab=wX\"><span class=\"gbtb2\"></span><span class=\"gbts\">Google+</span></a></li><li class=\"gbt\"><a onclick=\"gbar.logger.il(1,{t:1});\" class=\"gbzt gbz0l gbp1\" id=\"gb_1\" href=\"https://www.google.com/webhp?tab=ww\"><span class=\"gbtb2\"></span><span class=\"gbts\">Search</span></a></li><li class=\"gbt\"><a onclick=\"gbar.logger.il(1,{t:2});\" class=\"gbzt\" id=\"gb_2\" href=\"https://www.google.com/search?hl=en&amp;tbm=isch&amp;source=og&amp;tab=wi\"><span class=\"gbtb2\"></span><span class=\"gbts\">Images</span></a></li><li class=\"gbt\"><a onclick=\"gbar.logger.il(1,{t:8});\" class=\"gbzt\" id=\"gb_8\" href=\"https://maps.google.com/maps?hl=en&amp;tab=wl\"><span class=\"gbtb2\"></span><span class=\"gbts\">Maps</span></a></li><li class=\"gbt\"><a onclick=\"gbar.logger.il(1,{t:78});\" class=\"gbzt\" id=\"gb_78\" href=\"https://play.google.com/?hl=en&amp;tab=w8\"><span class=\"gbtb2\"></span><span class=\"gbts\">Play</span></a></li><li class=\"gbt\"><a onclick=\"gbar.logger.il(1,{t:36});\" class=\"gbzt\" id=\"gb_36\" href=\"https://www.youtube.com/results?tab=w1\"><span class=\"gbtb2\"></span><span class=\"gbts\">YouTube</span></a></li><li class=\"gbt\"><a onclick=\"gbar.logger.il(1,{t:5});\" class=\"gbzt\" id=\"gb_5\" href=\"https://news.google.com/nwshp?hl=en&amp;tab=wn\"><span class=\"gbtb2\"></span><span class=\"gbts\">News</span></a></li><li class=\"gbt\"><a onclick=\"gbar.logger.il(1,{t:23});\" class=\"gbzt\" id=\"gb_23\" href=\"https://mail.google.com/mail/?tab=wm\"><span class=\"gbtb2\"></span><span class=\"gbts\">Gmail</span></a></li><li class=\"gbt\"><a class=\"gbgt\" id=\"gbztm\" href=\"https://www.google.com/intl/en/options/\" onclick=\"gbar.tg(event,this)\" aria-haspopup=\"true\" aria-owns=\"gbd\"><span class=\"gbtb2\"></span><span id=\"gbztms\" class=\"gbts gbtsa\"><span id=\"gbztms1\">More</span><span class=\"gbma\"></span></span></a><div class=\"gbm\" id=\"gbd\" aria-owner=\"gbztm\"><div id=\"gbmmb\" class=\"gbmc gbsb gbsbis\"><ol id=\"gbmm\" class=\"gbmcc gbsbic\"><li class=\"gbmtc\"><a onclick=\"gbar.logger.il(1,{t:49});\" class=\"gbmt\" id=\"gb_49\" href=\"https://drive.google.com/?tab=wo\">Drive</a></li><li class=\"gbmtc\"><a onclick=\"gbar.logger.il(1,{t:24});\" class=\"gbmt\" id=\"gb_24\" href=\"https://www.google.com/calendar?tab=wc\">Calendar</a></li><li class=\"gbmtc\"><a onclick=\"gbar.logger.il(1,{t:51});\" class=\"gbmt\" id=\"gb_51\" href=\"https://translate.google.com/?hl=en&amp;tab=wT\">Translate</a></li><li class=\"gbmtc\"><a onclick=\"gbar.logger.il(1,{t:17});\" class=\"gbmt\" id=\"gb_17\" href=\"http://www.google.com/mobile/?hl=en&amp;tab=wD\">Mobile</a></li><li class=\"gbmtc\"><a onclick=\"gbar.logger.il(1,{t:10});\" class=\"gbmt\" id=\"gb_10\" href=\"https://www.google.com/search?hl=en&amp;tbo=u&amp;tbm=bks&amp;source=og&amp;tab=wp\">Books</a></li><li class=\"gbmtc\"><a onclick=\"gbar.logger.il(1,{t:212});\" class=\"gbmt\" id=\"gb_212\" href=\"https://wallet.google.com/manage/?tab=wa\">Wallet</a></li><li class=\"gbmtc\"><a onclick=\"gbar.logger.il(1,{t:6});\" class=\"gbmt\" id=\"gb_6\" href=\"https://www.google.com/search?hl=en&amp;tbo=u&amp;tbm=shop&amp;source=og&amp;tab=wf\">Shopping</a></li><li class=\"gbmtc\"><a onclick=\"gbar.logger.il(1,{t:30});\" class=\"gbmt\" id=\"gb_30\" href=\"https://www.blogger.com/?tab=wj\">Blogger</a></li><li class=\"gbmtc\"><a onclick=\"gbar.logger.il(1,{t:27});\" class=\"gbmt\" id=\"gb_27\" href=\"https://www.google.com/finance?tab=we\">Finance</a></li><li class=\"gbmtc\"><a onclick=\"gbar.logger.il(1,{t:31});\" class=\"gbmt\" id=\"gb_31\" href=\"https://photos.google.com/?tab=wq\">Photos</a></li><li class=\"gbmtc\"><a onclick=\"gbar.logger.il(1,{t:12});\" class=\"gbmt\" id=\"gb_12\" href=\"https://www.google.com/search?hl=en&amp;tbo=u&amp;tbm=vid&amp;source=og&amp;tab=wv\">Videos</a></li><li class=\"gbmtc\"><a onclick=\"gbar.logger.il(1,{t:25});\" class=\"gbmt\" id=\"gb_25\" href=\"https://docs.google.com/document/?usp=docs_alc\">Docs</a></li><li class=\"gbmtc\"><div class=\"gbmt gbmh\"></div></li><li class=\"gbmtc\"><a onclick=\"gbar.logger.il(1,{t:66});\" href=\"https://www.google.com/intl/en/options/\" class=\"gbmt\">Even more »</a></li></ol><div class=\"gbsbt\" style=\"opacity: 0;\"></div><div class=\"gbsbb\" style=\"opacity: 0;\"></div></div></div></li></ol></div><div id=\"gbg\"><h2 class=\"gbxx\">Account Options</h2><span class=\"gbtcb\"></span><ol class=\"gbtc\"><li class=\"gbt\"><a target=\"_top\" href=\"https://accounts.google.com/ServiceLogin?hl=en&amp;passive=true&amp;continue=https://www.google.com/search%3Fq%3Ddata%2Bscience\" onclick=\"gbar.logger.il(9,{l:'i'})\" id=\"gb_70\" class=\"gbgt\"><span class=\"gbtb2\"></span><span id=\"gbgs4\" class=\"gbts\"><span id=\"gbi4s1\">Sign in</span></span></a></li><li class=\"gbt gbtb\"><span class=\"gbts\"></span></li><li class=\"gbt\"><a class=\"gbgt\" id=\"gbg5\" href=\"http://www.google.com/preferences?hl=en\" title=\"Options\" onclick=\"gbar.tg(event,this)\" aria-haspopup=\"true\" aria-owns=\"gbd5\"><span class=\"gbtb2\"></span><span id=\"gbgs5\" class=\"gbts\"><span id=\"gbi5\"></span></span></a><div class=\"gbm\" id=\"gbd5\" aria-owner=\"gbg5\"><div class=\"gbmc\"><ol id=\"gbom\" class=\"gbmcc\"><li class=\"gbkc gbmtc\"><a class=\"gbmt\" href=\"/preferences?hl=en\">Search settings</a></li><li class=\"gbmtc\"><div class=\"gbmt gbmh\"></div></li><li class=\"gbkp gbmtc\"><a class=\"gbmt\" href=\"http://www.google.com/history/optout?hl=en\">Web History</a></li></ol></div></div></li></ol></div></div><div id=\"gbx3\"></div><div id=\"gbx4\"></div><script>window.gbar&&gbar.elp&&gbar.elp()</script></div><table id=\"mn\" border=\"0\" cellpadding=\"0\" cellspacing=\"0\" style=\"position:relative\"><tbody><tr><th width=\"132\"></th><th width=\"573\"></th><th width=\"278\"></th><th></th></tr><tr><td class=\"sfbgg\" valign=\"top\"><div id=\"logocont\"><h1><a href=\"/webhp?hl=en\" style=\"background:url(/images/nav_logo229.png) no-repeat 0 -41px;height:37px;width:95px;display:block\" id=\"logo\" title=\"Go to Google Home\"></a></h1></div></td><td class=\"sfbgg\" colspan=\"2\" valign=\"top\" style=\"padding-left:0px\"><form style=\"display:block;margin:0;background:none\" action=\"/search\" id=\"tsf\" method=\"GET\" name=\"gs\"><table border=\"0\" cellpadding=\"0\" cellspacing=\"0\" style=\"margin-top:20px;position:relative\"><tbody><tr><td><div class=\"lst-a\"><table cellpadding=\"0\" cellspacing=\"0\"><tbody><tr><td class=\"lst-td\" width=\"555\" valign=\"bottom\"><div style=\"position:relative;zoom:1\"><input class=\"lst\" value=\"data science\" title=\"Search\" autocomplete=\"off\" id=\"sbhost\" maxlength=\"2048\" name=\"q\" type=\"text\" dir=\"ltr\" spellcheck=\"false\" style=\"outline: none;\"></div></td></tr></tbody></table></div></td><td><div class=\"ds\"><div class=\"lsbb\"><button class=\"lsb\" value=\"Search\" name=\"btnG\" type=\"submit\"><span class=\"sbico\" style=\"background:url(/images/nav_logo229.png) no-repeat -36px -111px;height:14px;width:13px;display:block\"></span></button></div></div></td></tr></tbody></table><input type=\"hidden\" name=\"oq\"><input type=\"hidden\" name=\"gs_l\"></form></td><td class=\"sfbgg\">&nbsp;</td></tr><tr style=\"position:relative\"><td><div style=\"border-bottom:1px solid #ebebeb;height:59px\"></div></td><td colspan=\"2\"><div class=\"tn\"><div class=\"_UXb _Ihd _sxc _Hhd\">All</div><div class=\"_sxc\"><a class=\"_UXb _Jhd\" href=\"/search?q=data+science&amp;prmd=ivnsb&amp;source=lnms&amp;tbm=isch&amp;sa=X&amp;ved=0ahUKEwilqcrv5sjNAhWGFz4KHR6gBogQ_AUIBQ\">Images</a></div><div class=\"_sxc\"><a class=\"_UXb _Jhd\" href=\"/search?q=data+science&amp;prmd=ivnsb&amp;source=lnms&amp;tbm=vid&amp;sa=X&amp;ved=0ahUKEwilqcrv5sjNAhWGFz4KHR6gBogQ_AUIBg\">Videos</a></div><div class=\"_sxc\"><a class=\"_UXb _Jhd\" href=\"/search?q=data+science&amp;prmd=ivnsb&amp;source=lnms&amp;tbm=nws&amp;sa=X&amp;ved=0ahUKEwilqcrv5sjNAhWGFz4KHR6gBogQ_AUIBw\">News</a></div><div class=\"_sxc\"><a class=\"_UXb _Jhd\" href=\"/search?q=data+science&amp;prmd=ivnsb&amp;source=lnms&amp;tbm=shop&amp;sa=X&amp;ved=0ahUKEwilqcrv5sjNAhWGFz4KHR6gBogQ_AUICA\">Shopping</a></div><div class=\"_sxc\"><a class=\"_UXb _Jhd\" href=\"/search?q=data+science&amp;prmd=ivnsb&amp;source=lnms&amp;tbm=bks&amp;sa=X&amp;ved=0ahUKEwilqcrv5sjNAhWGFz4KHR6gBogQ_AUICQ\">Books</a></div><div class=\"_sxc\"><a class=\"_UXb _Jhd\" href=\"https://maps.google.com/maps?q=data+science&amp;um=1&amp;ie=UTF-8&amp;sa=X&amp;ved=0ahUKEwilqcrv5sjNAhWGFz4KHR6gBogQ_AUICg\">Maps</a></div></div><div style=\"border-bottom:1px solid #ebebeb;height:59px\"></div></td><td><div style=\"border-bottom:1px solid #ebebeb;height:59px\"></div></td></tr></tbody><tbody data-jibp=\"h\" data-jiis=\"uc\" id=\"desktop-search\"><style>._Bu,._Bu a:link,._Bu a:visited,a._Bu:link,a._Bu:visited{color:#808080}._kBb{color:#61C}.ellip{overflow:hidden;text-overflow:ellipsis;white-space:nowrap}._hM{margin:0;font-weight:normal;font-size:0;line-height:0}#_Ltg ._Dtg,#_Ktg ._Dtg{float:right}#_Ltg ._hM,#_Ktg ._hM{position:relative;top:3px;right:4px}._kug{margin-bottom:23px}#_Ltg{padding:0 8px 11px}#_Ktg{margin:-10px 0 11px;padding-left:8px;padding-right:8px}#_Ltg{margin-bottom:6px}#_Ktg{padding-bottom:12px;padding-top:9px}#_Stg{padding:0 8px 18px 10px;white-space:nowrap}#_Stg ._hM{padding-bottom:13px}#_Stg ._hM{padding-top:1px}#_Stg ._Dtg{position:relative;top:2px;left:3px}.ads-ad{color:#545454}.ads-ad a{text-decoration:none}.ads-ad a:hover,.ads-ad h3 a{text-decoration:underline}.ads-visurl{font-size:15px;margin-bottom:2px}._WGk{display:inline-block;max-width:505px;overflow:hidden;text-overflow:ellipsis;vertical-align:bottom;white-space:nowrap}.ads-visurl ._mB{margin-right:7px}._Tkg{overflow:hidden;max-height:38px}._xyk{overflow:hidden;max-height:32px}.ads-ad{color:#545454;line-height:1.24}._mB{background-color:#59946B;border-radius:2px;color:#fff;display:inline-block;font-size:12px;padding:0 2px;line-height:14px;vertical-align:baseline}._MEc{margin-top:3px}</style><tr><td id=\"leftnav\" valign=\"top\"><div><h2 class=\"hd\">Search Options</h2><ul class=\"med\" id=\"tbd\"><li><ul class=\"tbt\"><li class=\"tbos\" id=\"qdr_\">Any time</li><li class=\"tbou\" id=\"qdr_h\"><a class=\"q\" href=\"/search?q=data+science&amp;prmd=ivnsb&amp;source=lnt&amp;tbs=qdr:h&amp;sa=X&amp;ved=0ahUKEwilqcrv5sjNAhWGFz4KHR6gBogQpwUIDw\">Past hour</a></li><li class=\"tbou\" id=\"qdr_d\"><a class=\"q\" href=\"/search?q=data+science&amp;prmd=ivnsb&amp;source=lnt&amp;tbs=qdr:d&amp;sa=X&amp;ved=0ahUKEwilqcrv5sjNAhWGFz4KHR6gBogQpwUIDw\">Past 24 hours</a></li><li class=\"tbou\" id=\"qdr_w\"><a class=\"q\" href=\"/search?q=data+science&amp;prmd=ivnsb&amp;source=lnt&amp;tbs=qdr:w&amp;sa=X&amp;ved=0ahUKEwilqcrv5sjNAhWGFz4KHR6gBogQpwUIDw\">Past week</a></li><li class=\"tbou\" id=\"qdr_m\"><a class=\"q\" href=\"/search?q=data+science&amp;prmd=ivnsb&amp;source=lnt&amp;tbs=qdr:m&amp;sa=X&amp;ved=0ahUKEwilqcrv5sjNAhWGFz4KHR6gBogQpwUIDw\">Past month</a></li><li class=\"tbou\" id=\"qdr_y\"><a class=\"q\" href=\"/search?q=data+science&amp;prmd=ivnsb&amp;source=lnt&amp;tbs=qdr:y&amp;sa=X&amp;ved=0ahUKEwilqcrv5sjNAhWGFz4KHR6gBogQpwUIDw\">Past year</a></li></ul></li><li><ul class=\"tbt\"><li class=\"tbos\" id=\"li_\">All results</li><li class=\"tbou\" id=\"li_1\"><a class=\"q\" href=\"/search?q=data+science&amp;prmd=ivnsb&amp;source=lnt&amp;tbs=li:1&amp;sa=X&amp;ved=0ahUKEwilqcrv5sjNAhWGFz4KHR6gBogQpwUIDw\">Verbatim</a></li></ul></li></ul></div></td><td valign=\"top\"><div id=\"center_col\"><div class=\"sd\" id=\"resultStats\">About 47,900,000 results</div><div class=\"_Ak\" id=\"_Ltg\"><h2 class=\"_hM\"></h2><ol><li class=\"ads-ad _kug\"><h3 class=\"ellip\"><a href=\"http://www.google.com/aclk?sa=L&amp;ai=CMr1b-2txV-eEM4b1hASQlKqgDIjV0P1EwuaJwfECjfetqwkIABABKARgycapi8Ck2A_IAQGqBCFP0NMHlaujU6MOriU1v3u8Kexu70aHULriNt-TtcJ6vgOAB5rP4UmQBwOoB6a-G9gHAQ&amp;sig=AOD64_3Z442pbJrHa2Ikij8M40Xz8BsGmw&amp;clui=0&amp;ved=0ahUKEwilqcrv5sjNAhWGFz4KHR6gBogQ0QwIEg&amp;adurl=http://6219.xg4ken.com/trk/v1%3Fprof%3D525%26camp%3D25535%26affcode%3Dkw806%26kct%3Dgoogle%26kchid%3D1202402257%26cid%3D99031734802%26networkType%3Dsearch%26kdv%3Dc%26criteriaid%3Dkwd-2506849165%26adgroupid%3D29855953522%26campaignid%3D387626002%26locphy%3D9004065%26adpos%3D1t1%26url%3Dhttp://www.ibm.com/analytics/us/en/events/apache-spark/%3FS_PKG%3D%26S_TACT%3DM1610RFW%26campaign%3DUnbranded%7CSearch%7CApache%2520Spark%2520Maker%2520Community%2520Event%7CNA%7CN/A%7C%26group%3DData_Science-EV%2520(Exact)%26mkwid%3D_kenshoo_clickid_%7C525%7C2506849165%26ct%3DM1610RFW%26iio%3DBANAL%26cmp%3DM1610%26ck%3Ddata%2520science%26cs%3De%26ccy%3DUS%26cr%3Dgoogle%26cm%3Dk%26cn%3DData_Science-EV%2520(Exact)\">IBM <b>Data Science</b> Offering - First of a Kind <b>Data Science</b> - ibm.com</a></h3><div class=\"ads-visurl\"><span class=\"_mB\">Ad</span><cite class=\"_WGk\">www.ibm.com/MakerCommunityEvent</cite>‎<div class=\"_nBb\"><div style=\"display:inline\" onclick=\"google.sham(this);\" aria-expanded=\"false\" aria-haspopup=\"true\" tabindex=\"0\" data-ved=\"0ahUKEwilqcrv5sjNAhWGFz4KHR6gBogQ7B0IEw\"><span class=\"_O0\"></span></div><div style=\"display:none\" class=\"am-dropdown-menu\" role=\"menu\" tabindex=\"-1\"><ul><li class=\"_Ykb\" style=\"margin:0\"><a class=\"_Zkb\" href=\"/url?q=/settings/ads/preferences%3Fhl%3Den&amp;sa=U&amp;ved=0ahUKEwilqcrv5sjNAhWGFz4KHR6gBogQgRMIFQ&amp;usg=AFQjCNEAXNOZ62ka46D3FTH_48RcIwnQgw\" target=\"_blank\">Why this ad?</a></li></ul></div></div></div><div class=\"ads-creative ellip\">Experience. Learn More Today!</div><div class=\"ellip\"><a href=\"http://www.google.com/aclk?sa=L&amp;ai=C_AHh-2txV-eEM4b1hASQlKqgDIjV0P1EwuaJwfECjfetqwkIABABKARgycapi8Ck2A_IAQGqBCFP0NMHlaujU6MOriU1v3u8Kexu70aHULriNt-TtcJ6vgPSBgUoh63iBIAHms_hSZAHA6gHpr4b2AcB&amp;sig=AOD64_1Xuo9bCZp4Sb1M5zDG3ZcXljHYRQ&amp;ctype=42&amp;clui=1&amp;ved=0ahUKEwilqcrv5sjNAhWGFz4KHR6gBogQgDwIFg&amp;adurl=http://www.ibm.com/developerworks/cloud/library/cl-ipy-docker-softlayer-trs/\">Use notebooks in the cloud for great data science</a></div></li><li class=\"ads-ad _kug\"><h3 class=\"ellip\"><a href=\"http://www.google.com/aclk?sa=l&amp;ai=Cs9Ch-2txV-eEM4b1hASQlKqgDKKU3fREu5y83qUDtcOUst8BCAAQAigEYMnGqYvApNgPoAGmv6m6A8gBAaoEKE_Qsw-hr6NQqw5eJgdX6f8q1vMc4u-2zlAzU2n-pIOHSauuCkl9BN6AB9OV-TiQBwOoB6a-G9gHAQ&amp;sig=AOD64_1g0xBcj0seGL9sLnEudUYQ667BqQ&amp;clui=2&amp;ved=0ahUKEwilqcrv5sjNAhWGFz4KHR6gBogQ0QwIGA&amp;adurl=https://www.coursera.org/specializations/jhu-data-science%3Futm_source%3Dgg%26utm_medium%3Dsem%26utm_campaign%3Ddata_science_search_us%26campaignid%3D313639147%26device%3Dc%26keyword%3Ddata%2520scientist%2520online%2520course%26matchtype%3Db%26network%3Dg%26devicemodel%3D%26adpostion%3D1t2%26hide_mobile_promo\"><b>data scientist</b> online course - coursera.org</a></h3><div class=\"ads-visurl\"><span class=\"_mB\">Ad</span><cite class=\"_WGk\">www.coursera.org/<b>datascience</b></cite>‎<div class=\"_nBb\"><div style=\"display:inline\" onclick=\"google.sham(this);\" aria-expanded=\"false\" aria-haspopup=\"true\" tabindex=\"0\" data-ved=\"0ahUKEwilqcrv5sjNAhWGFz4KHR6gBogQ7B0IGQ\"><span class=\"_O0\"></span></div><div style=\"display:none\" class=\"am-dropdown-menu\" role=\"menu\" tabindex=\"-1\"><ul><li class=\"_Ykb\" style=\"margin:0\"><a class=\"_Zkb\" href=\"/url?q=/settings/ads/preferences%3Fhl%3Den&amp;sa=U&amp;ved=0ahUKEwilqcrv5sjNAhWGFz4KHR6gBogQgRMIGw&amp;usg=AFQjCNEAXNOZ62ka46D3FTH_48RcIwnQgw\" target=\"_blank\">Why this ad?</a></li></ul></div></div></div><div class=\"ads-creative ellip\">Earn Your <b>Data Science</b> Certificate From Johns Hopkins. Enroll Today.</div><div>Learn 24/7 On Any Device&nbsp;·&nbsp;Online Certification&nbsp;·&nbsp;Flexible Schedule</div><div>72% of Coursera participants surveyed reported career benefits‎ – <a class=\"_Bu\" href=\"/url?q=https://hbr.org/2015/09/whos-benefiting-from-moocs-and-why&amp;sa=U&amp;ved=0ahUKEwilqcrv5sjNAhWGFz4KHR6gBogQ9xsIHQ&amp;usg=AFQjCNH-njXQcKmAWhPSMoYuKbmdJt511A\">HBR</a></div><div class=\"_MEc\"><a href=\"http://www.google.com/aclk?sa=l&amp;ai=Co8zZ-2txV-eEM4b1hASQlKqgDKKU3fREu5y83qUDtcOUst8BCAAQAigEYMnGqYvApNgPoAGmv6m6A8gBAaoEKE_Qsw-hr6NQqw5eJgdX6f8q1vMc4u-2zlAzU2n-pIOHSauuCkl9BN7SBg0QnOeSDRis1YOtCygBgAfTlfk4kAcDqAemvhvYBwE&amp;sig=AOD64_0HJMvHbEMJxVh2ttiuoJZW5ix2bA&amp;ctype=4&amp;clui=3&amp;ved=0ahUKEwilqcrv5sjNAhWGFz4KHR6gBogQpigIHygA&amp;adurl=https://careers.coursera.org/data-scientist/%3Futm_source%3Dgg%26utm_medium%3Dsem%26campaignid%3D313639147%26adgroupid%3D22130613067%26device%3Dc%26keyword%3Ddata%2520scientist%2520online%2520course%26matchtype%3Db%26network%3Dg%26devicemodel%3D%26adpostion%3D1t2%26hide_mobile_promo\">Become a Data Scientist</a> - <a href=\"http://www.google.com/aclk?sa=l&amp;ai=CcE_7-2txV-eEM4b1hASQlKqgDKKU3fREu5y83qUDtcOUst8BCAAQAigEYMnGqYvApNgPoAGmv6m6A8gBAaoEKE_Qsw-hr6NQqw5eJgdX6f8q1vMc4u-2zlAzU2n-pIOHSauuCkl9BN7SBg0QnOeSDRjo-PDtCCgBgAfTlfk4kAcDqAemvhvYBwE&amp;sig=AOD64_08KAL43SUYxV4oUBgLDNxXINXgnQ&amp;ctype=4&amp;clui=4&amp;ved=0ahUKEwilqcrv5sjNAhWGFz4KHR6gBogQpigIICgB&amp;adurl=https://www.coursera.org/about/%3Futm_source%3Dgg%26utm_medium%3Dsem%26campaignid%3D313639147%26adgroupid%3D22130613067%26device%3Dc%26keyword%3Ddata%2520scientist%2520online%2520course%26matchtype%3Db%26network%3Dg%26devicemodel%3D%26adpostion%3D1t2%26hide_mobile_promo\">How Coursera Works</a> - <a href=\"http://www.google.com/aclk?sa=l&amp;ai=C_JvO-2txV-eEM4b1hASQlKqgDKKU3fREu5y83qUDtcOUst8BCAAQAigEYMnGqYvApNgPoAGmv6m6A8gBAaoEKE_Qsw-hr6NQqw5eJgdX6f8q1vMc4u-2zlAzU2n-pIOHSauuCkl9BN7SBg0QnOeSDRjag4H9BygBgAfTlfk4kAcDqAemvhvYBwE&amp;sig=AOD64_2f7VkX5p2t-eOs8ixnR7HW97FZtw&amp;ctype=4&amp;clui=5&amp;ved=0ahUKEwilqcrv5sjNAhWGFz4KHR6gBogQpigIISgC&amp;adurl=https://www.coursera.org/learn/r-programming%3Futm_source%3Dgg%26utm_medium%3Dsem%26campaignid%3D313639147%26adgroupid%3D22130613067%26device%3Dc%26keyword%3Ddata%2520scientist%2520online%2520course%26matchtype%3Db%26network%3Dg%26devicemodel%3D%26adpostion%3D1t2%26hide_mobile_promo\">R Programming</a></div></li><li class=\"ads-ad _kug\"><h3 class=\"ellip\"><a href=\"http://www.google.com/aclk?sa=l&amp;ai=C7LEr-2txV-eEM4b1hASQlKqgDPuJkIxF-pfg_ugC-4_xqG0IABADKARgycapi8Ck2A-gAa6xg9ADyAEBqgQlT9DjJNmuo1GrD14mB1fp_yqP1UPN77bOUDNTaf6kg4dMC4DUooAHus78L5AHA6gHpr4b2AcB&amp;sig=AOD64_3BIFhjsplQwTDhRRb8vylHRSIE0A&amp;clui=6&amp;ved=0ahUKEwilqcrv5sjNAhWGFz4KHR6gBogQ0QwIIw&amp;adurl=https://servedby.flashtalking.com/click/8/54249%3B1870651%3B369309%3B252%3B0/%3Fft_custom%3DsyT3rUwMC_pcrid_96706851522_pkw_%252Bdata%2520%252Bscience_pmt_b_pdv_c_%26ft_section%3DDSI%2B-%2BDATA%2BSCIENCE%26ft_keyword%3D%252Bdata%2520%252Bscience%26url%3Dhttps://generalassemb.ly/education/data-science-immersive%253F\"><b>Data Science</b> - 12 Weeks - Learn Python, Git, Unix &amp; More</a></h3><div class=\"ads-visurl\"><span class=\"_mB\">Ad</span><cite class=\"_WGk\">www.generalassemb.ly/<b>Data</b>-<b>Science</b></cite>‎<div class=\"_nBb\"><div style=\"display:inline\" onclick=\"google.sham(this);\" aria-expanded=\"false\" aria-haspopup=\"true\" tabindex=\"0\" data-ved=\"0ahUKEwilqcrv5sjNAhWGFz4KHR6gBogQ7B0IJA\"><span class=\"_O0\"></span></div><div style=\"display:none\" class=\"am-dropdown-menu\" role=\"menu\" tabindex=\"-1\"><ul><li class=\"_Ykb\" style=\"margin:0\"><a class=\"_Zkb\" href=\"/url?q=/settings/ads/preferences%3Fhl%3Den&amp;sa=U&amp;ved=0ahUKEwilqcrv5sjNAhWGFz4KHR6gBogQgRMIJg&amp;usg=AFQjCNEAXNOZ62ka46D3FTH_48RcIwnQgw\" target=\"_blank\">Why this ad?</a></li></ul></div></div></div><div class=\"ads-creative ellip\">Join Our Tech Community Today.</div><div>Advance Your Career&nbsp;·&nbsp;Bring Ideas to Life</div><div>2015's most innovative education company in the world‎ – <a class=\"_Bu\" href=\"/url?q=http://www.fastcompany.com/3041645/most-innovative-companies-2015/the-worlds-top-10-most-innovative-companies-of-2015-in-educat&amp;sa=U&amp;ved=0ahUKEwilqcrv5sjNAhWGFz4KHR6gBogQ9xsIKA&amp;usg=AFQjCNGVAf_pHsAUTTfpP4GD5DlQpCwGzg\">Fast Company</a></div><a href=\"http://www.google.com/aclk?sa=l&amp;ai=C-77_-2txV-eEM4b1hASQlKqgDPuJkIxF-pfg_ugC-4_xqG0IABADKARgycapi8Ck2A-gAa6xg9ADyAEBqgQlT9DjJNmuo1GrD14mB1fp_yqP1UPN77bOUDNTaf6kg4dMC4DUotIGDRD_p_gKGM7xwLEDKAeAB7rO_C-QBwOoB6a-G9gHAQ&amp;sig=AOD64_2UpC5E_iUgaPJnWdpZG2UySs-sGA&amp;clui=7&amp;ctype=50&amp;ved=0ahUKEwilqcrv5sjNAhWGFz4KHR6gBogQmxAIKQ&amp;adurl=https://maps.google.com/maps%3Fum%3D1%26ie%3DUTF-8%26daddr%3D902%2BBroadway,%2B4th%2BFloor,%2BNew%2BYork,%2BNY%2B10010%26ll%3D40.739389,-73.989285%26f%3Dd%26saddr%3D%26iwstate1%3Ddir:to%26fb%3D1%26slad%3D0ALHuxZqud0JZ1f7Pch6H2ZCnM-Ex-XTpTACiF3d3cuZ2VuZXJhbGFzc2VtYi5seS9EYXRhLVNjaWVuY2USkAJodHRwczovL3NlcnZlZGJ5LmZsYXNodGFsa2luZy5jb20vY2xpY2svOC81NDI0OTsxODcwNjUxOzM2OTMwOTsyNTI7MC8_ZnRfY3VzdG9tPXN5VDNyVXdNQ19wY3JpZF85NjcwNjg1MTUyMl9wa3dfJTJCZGF0YSUyMCUyQnNjaWVuY2VfcG10X2JfcGR2X2NfJmZ0X3NlY3Rpb249RFNJKy0rREFUQStTQ0lFTkNFJmZ0X2tleXdvcmQ9JTJCZGF0YSUyMCUyQnNjaWVuY2UmdXJsPWh0dHBzOi8vZ2VuZXJhbGFzc2VtYi5seS9lZHVjYXRpb24vZGF0YS1zY2llbmNlLWltbWVyc2l2ZSUzRho4RGF0YSBTY2llbmNlIC0gMTIgV2Vla3MgLSBMZWFybiBQeXRob24sIEdpdCwgVW5peCAmIE1vcmUiHkpvaW4gT3VyIFRlY2ggQ29tbXVuaXR5IFRvZGF5LioA\">902 Broadway, 4th Floor, New York, NY</a>‎ - (917) 722-0237</li><li class=\"ads-ad\"><h3 class=\"ellip\"><a href=\"http://www.google.com/aclk?sa=L&amp;ai=Cz3Us-2txV-eEM4b1hASQlKqgDMzx1u0H3Ijv3NkCjfetqwkIABAEKARgycapi8Ck2A_IAQGqBCNP0PM066mjVqMO5iWGneq7qvkHWLpYShFKmPvH2vDs-5hRDYAH_LedQ5AHA6gHpr4b2AcB&amp;sig=AOD64_1ZlTAOWjF9pgSBlqE_Fh2VCH9fxQ&amp;clui=8&amp;ved=0ahUKEwilqcrv5sjNAhWGFz4KHR6gBogQ0QwILA&amp;adurl=http://www.indeed.com/prime%3Fkw%3Ddata%2Bscience%26sid%3Dxp_googsrchExactttl-data%2Bscience%26matchtype%3De%26network%3Dg%26device%3Dc%26devicemodel%3D%26creative%3D92784229204%26keyword%3Ddata%2520science%26placement%3D%26param1%3D%26param2%3D%26random%3D14726953482339972457%26aceid%3D%26adposition%3D1t4\"><b>Data Science</b> Jobs - indeed.com</a></h3><div class=\"ads-visurl\"><span class=\"_mB\">Ad</span><cite class=\"_WGk\">www.indeed.com/Prime</cite>‎<div class=\"_nBb\"><div style=\"display:inline\" onclick=\"google.sham(this);\" aria-expanded=\"false\" aria-haspopup=\"true\" tabindex=\"0\" data-ved=\"0ahUKEwilqcrv5sjNAhWGFz4KHR6gBogQ7B0ILQ\"><span class=\"_O0\"></span></div><div style=\"display:none\" class=\"am-dropdown-menu\" role=\"menu\" tabindex=\"-1\"><ul><li class=\"_Ykb\" style=\"margin:0\"><a class=\"_Zkb\" href=\"/url?q=/settings/ads/preferences%3Fhl%3Den&amp;sa=U&amp;ved=0ahUKEwilqcrv5sjNAhWGFz4KHR6gBogQgRMILw&amp;usg=AFQjCNEAXNOZ62ka46D3FTH_48RcIwnQgw\" target=\"_blank\">Why this ad?</a></li></ul></div></div></div><div class=\"ads-creative ellip\">The Best Tech Companies Are Hiring On Indeed Prime. Find Your New Job!</div><div class=\"_MEc\"><a href=\"http://www.google.com/aclk?sa=L&amp;ai=C7hC2-2txV-eEM4b1hASQlKqgDMzx1u0H3Ijv3NkCjfetqwkIABAEKARgycapi8Ck2A_IAQGqBCNP0PM066mjVqMO5iWGneq7qvkHWLpYShFKmPvH2vDs-5hRDdIGDRCP2PYPGKPnpJwMKAGAB_y3nUOQBwOoB6a-G9gHAQ&amp;sig=AOD64_2BOOXIK06YWwbvIYv7zif4M_1NRQ&amp;ctype=4&amp;clui=9&amp;ved=0ahUKEwilqcrv5sjNAhWGFz4KHR6gBogQpigIMSgA&amp;adurl=http://www.indeed.com/prime/referral%3Fkw%3Ddata%2Bscience%26sid%3Dxp_googsrchExactttl-data%2Bscience%26matchtype%3De%26network%3Dg%26device%3Dc%26devicemodel%3D%26creative%3D92784229204%26keyword%3Ddata%2520science%26placement%3D%26param1%3D%26param2%3D%7Bparam2)%26random%3D14726953482339972457%26aceid%3D%26adposition%3D1t4\">Referral Bonus</a> - <a href=\"http://www.google.com/aclk?sa=L&amp;ai=CDmK1-2txV-eEM4b1hASQlKqgDMzx1u0H3Ijv3NkCjfetqwkIABAEKARgycapi8Ck2A_IAQGqBCNP0PM066mjVqMO5iWGneq7qvkHWLpYShFKmPvH2vDs-5hRDdIGDRCP2PYPGIiP7ZkMKAGAB_y3nUOQBwOoB6a-G9gHAQ&amp;sig=AOD64_3QpNNs13wA3gXqJpOmbtgSBXfm5w&amp;ctype=4&amp;clui=10&amp;ved=0ahUKEwilqcrv5sjNAhWGFz4KHR6gBogQpigIMigB&amp;adurl=http://www.indeed.com/prime%3Fkw%3Ddata%2Bscience%26sid%3Dxp_googsrchExactttl-data%2Bscience%26matchtype%3De%26network%3Dg%26device%3Dc%26devicemodel%3D%26creative%3D92784229204%26keyword%3Ddata%2520science%26placement%3D%26param1%3D%26param2%3D%7Bparam2)%26random%3D14726953482339972457%26aceid%3D%26adposition%3D1t4\">Free for Candidates</a> - <a href=\"http://www.google.com/aclk?sa=L&amp;ai=Cmxmd-2txV-eEM4b1hASQlKqgDMzx1u0H3Ijv3NkCjfetqwkIABAEKARgycapi8Ck2A_IAQGqBCNP0PM066mjVqMO5iWGneq7qvkHWLpYShFKmPvH2vDs-5hRDdIGDRCP2PYPGMbh7JkMKAGAB_y3nUOQBwOoB6a-G9gHAQ&amp;sig=AOD64_3GWnGbVHO7h5qAZGta7CNEKAKpwQ&amp;ctype=4&amp;clui=11&amp;ved=0ahUKEwilqcrv5sjNAhWGFz4KHR6gBogQpigIMygC&amp;adurl=http://www.indeed.com/prime/employer%3Fkw%3Ddata%2Bscience%26sid%3Dxp_googsrchExactttl-data%2Bscience%26matchtype%3De%26network%3Dg%26device%3Dc%26devicemodel%3D%26creative%3D92784229204%26keyword%3Ddata%2520science%26placement%3D%26param1%3D%26param2%3D%7Bparam2)%26random%3D14726953482339972457%26aceid%3D%26adposition%3D1t4\">For Employers</a></div></li></ol></div><div id=\"res\"><div id=\"topstuff\"></div><div id=\"search\"><div id=\"ires\"><ol><div class=\"g\"><h3 class=\"r\"><a href=\"/url?q=https://en.wikipedia.org/wiki/Data_science&amp;sa=U&amp;ved=0ahUKEwilqcrv5sjNAhWGFz4KHR6gBogQFgg4MAA&amp;usg=AFQjCNFQh0RwboJfKUkxOpkW7aPg9OGy3A\"><b>Data science</b> - Wikipedia, the free encyclopedia</a></h3><div class=\"s\"><div class=\"kv\" style=\"margin-bottom:2px\"><cite>https://en.wikipedia.org/wiki/<b>Data</b>_<b>science</b></cite><div class=\"_nBb\">‎<div style=\"display:inline\" onclick=\"google.sham(this);\" aria-expanded=\"false\" aria-haspopup=\"true\" tabindex=\"0\" data-ved=\"0ahUKEwilqcrv5sjNAhWGFz4KHR6gBogQ7B0IOTAA\"><span class=\"_O0\"></span></div><div style=\"display:none\" class=\"am-dropdown-menu\" role=\"menu\" tabindex=\"-1\"><ul><li class=\"_Ykb\"><a class=\"_Zkb\" href=\"/url?q=http://webcache.googleusercontent.com/search%3Fq%3Dcache:0TLy5dtiWvwJ:https://en.wikipedia.org/wiki/Data_science%252Bdata%2Bscience%26hl%3Den%26ct%3Dclnk&amp;sa=U&amp;ved=0ahUKEwilqcrv5sjNAhWGFz4KHR6gBogQIAg7MAA&amp;usg=AFQjCNGdFs6gNsKnL9wfJf6ckr06__5y3w\">Cached</a></li><li class=\"_Ykb\"><a class=\"_Zkb\" href=\"/search?q=related:https://en.wikipedia.org/wiki/Data_science+data+science&amp;tbo=1&amp;sa=X&amp;ved=0ahUKEwilqcrv5sjNAhWGFz4KHR6gBogQHwg8MAA\">Similar</a></li></ul></div></div></div><span class=\"st\"><b>Data science</b> is an interdisciplinary field about processes and systems to extract <br>\n",
       "knowledge or insights from data in various forms, either structured or&nbsp;...</span><br><div class=\"osl\">‎<a href=\"/url?q=https://en.wikipedia.org/wiki/Data_science%23Overview&amp;sa=U&amp;ved=0ahUKEwilqcrv5sjNAhWGFz4KHR6gBogQ0gIIPigAMAA&amp;usg=AFQjCNGBOuxrghbLoq3gGiAVmkJejPP6bg\">Overview</a> - ‎<a href=\"/url?q=https://en.wikipedia.org/wiki/Data_science%23History&amp;sa=U&amp;ved=0ahUKEwilqcrv5sjNAhWGFz4KHR6gBogQ0gIIPygBMAA&amp;usg=AFQjCNEw6GDVfZimin4kufPbS-r71Ut8fA\">History</a> - ‎<a href=\"/url?q=https://en.wikipedia.org/wiki/Data_science%23Domain_specific_interests&amp;sa=U&amp;ved=0ahUKEwilqcrv5sjNAhWGFz4KHR6gBogQ0gIIQCgCMAA&amp;usg=AFQjCNEdG2Q5HsIzexYo6rS-TfTGpIR1MA\">Domain specific interests</a> - ‎<a href=\"/url?q=https://en.wikipedia.org/wiki/Data_science%23Criticism&amp;sa=U&amp;ved=0ahUKEwilqcrv5sjNAhWGFz4KHR6gBogQ0gIIQSgDMAA&amp;usg=AFQjCNFzbVrvYS0SIwnFMhc9PkQn08JKJA\">Criticism</a></div></div></div><div class=\"g\"><h3 class=\"r\"><a href=\"/url?q=https://www.coursera.org/specializations/jhu-data-science&amp;sa=U&amp;ved=0ahUKEwilqcrv5sjNAhWGFz4KHR6gBogQFghDMAE&amp;usg=AFQjCNEK59LpjiNInQWIC3fivzEiD7zICQ\"><b>Data Science</b> | Coursera</a></h3><div class=\"s\"><div class=\"kv\" style=\"margin-bottom:2px\"><cite>https://www.coursera.org/specializations/jhu-<b>data</b>-<b>science</b></cite><div class=\"_nBb\">‎<div style=\"display:inline\" onclick=\"google.sham(this);\" aria-expanded=\"false\" aria-haspopup=\"true\" tabindex=\"0\" data-ved=\"0ahUKEwilqcrv5sjNAhWGFz4KHR6gBogQ7B0IRDAB\"><span class=\"_O0\"></span></div><div style=\"display:none\" class=\"am-dropdown-menu\" role=\"menu\" tabindex=\"-1\"><ul><li class=\"_Ykb\"><a class=\"_Zkb\" href=\"/url?q=http://webcache.googleusercontent.com/search%3Fq%3Dcache:FLmQQ_RjoisJ:https://www.coursera.org/specializations/jhu-data-science%252Bdata%2Bscience%26hl%3Den%26ct%3Dclnk&amp;sa=U&amp;ved=0ahUKEwilqcrv5sjNAhWGFz4KHR6gBogQIAhGMAE&amp;usg=AFQjCNEHGGPJ2MsspIEqmPjnBIMBUA2yug\">Cached</a></li><li class=\"_Ykb\"><a class=\"_Zkb\" href=\"/search?q=related:https://www.coursera.org/specializations/jhu-data-science+data+science&amp;tbo=1&amp;sa=X&amp;ved=0ahUKEwilqcrv5sjNAhWGFz4KHR6gBogQHwhHMAE\">Similar</a></li></ul></div></div></div><span class=\"st\">Explore <b>Data Science</b> Certificate offered by Johns Hopkins University. Launch <br>\n",
       "Your Career in <b>Data Science</b> - A nine-course introduction to <b>data science</b>,&nbsp;...</span><br></div></div><div class=\"g\"><h3 class=\"r\"><a href=\"/url?q=http://datascience.nyu.edu/&amp;sa=U&amp;ved=0ahUKEwilqcrv5sjNAhWGFz4KHR6gBogQFghJMAI&amp;usg=AFQjCNE6eEHKOE8v9038R-YnfVdcBu9lTw\"><b>Data Science</b> at NYU - New York University</a></h3><div class=\"s\"><div class=\"kv\" style=\"margin-bottom:2px\"><cite><b>datascience</b>.nyu.edu/</cite><div class=\"_nBb\">‎<div style=\"display:inline\" onclick=\"google.sham(this);\" aria-expanded=\"false\" aria-haspopup=\"true\" tabindex=\"0\" data-ved=\"0ahUKEwilqcrv5sjNAhWGFz4KHR6gBogQ7B0ISjAC\"><span class=\"_O0\"></span></div><div style=\"display:none\" class=\"am-dropdown-menu\" role=\"menu\" tabindex=\"-1\"><ul><li class=\"_Ykb\"><a class=\"_Zkb\" href=\"/url?q=http://webcache.googleusercontent.com/search%3Fq%3Dcache:i15V01FkkrEJ:http://datascience.nyu.edu/%252Bdata%2Bscience%26hl%3Den%26ct%3Dclnk&amp;sa=U&amp;ved=0ahUKEwilqcrv5sjNAhWGFz4KHR6gBogQIAhMMAI&amp;usg=AFQjCNHKc91tK22CQcLojo30R53s3vdSoA\">Cached</a></li><li class=\"_Ykb\"><a class=\"_Zkb\" href=\"/search?q=related:datascience.nyu.edu/+data+science&amp;tbo=1&amp;sa=X&amp;ved=0ahUKEwilqcrv5sjNAhWGFz4KHR6gBogQHwhNMAI\">Similar</a></li></ul></div></div></div><span class=\"st\">The <b>data science</b> initiative at NYU is a university-wide effort to establish the <br>\n",
       "country's leading <b>data science</b> training and research facilities at NYU.</span><br></div></div><div class=\"g\"><h3 class=\"r\"><a href=\"/url?q=https://www.udacity.com/course/intro-to-data-science--ud359&amp;sa=U&amp;ved=0ahUKEwilqcrv5sjNAhWGFz4KHR6gBogQFghPMAM&amp;usg=AFQjCNEpEPwQ5H--XzQPkAO7p_DeKEe6PA\">Intro to <b>Data Science</b> Online Course | Udacity</a></h3><div class=\"s\"><div class=\"kv\" style=\"margin-bottom:2px\"><cite>https://www.udacity.com/course/intro-to-<b>data</b>-<b>science</b>--ud359</cite><div class=\"_nBb\">‎<div style=\"display:inline\" onclick=\"google.sham(this);\" aria-expanded=\"false\" aria-haspopup=\"true\" tabindex=\"0\" data-ved=\"0ahUKEwilqcrv5sjNAhWGFz4KHR6gBogQ7B0IUDAD\"><span class=\"_O0\"></span></div><div style=\"display:none\" class=\"am-dropdown-menu\" role=\"menu\" tabindex=\"-1\"><ul><li class=\"_Ykb\"><a class=\"_Zkb\" href=\"/url?q=http://webcache.googleusercontent.com/search%3Fq%3Dcache:n8JCnEjMnysJ:https://www.udacity.com/course/intro-to-data-science--ud359%252Bdata%2Bscience%26hl%3Den%26ct%3Dclnk&amp;sa=U&amp;ved=0ahUKEwilqcrv5sjNAhWGFz4KHR6gBogQIAhSMAM&amp;usg=AFQjCNHbf8p3SEeSfsZMAAODsZto7wWG_w\">Cached</a></li><li class=\"_Ykb\"><a class=\"_Zkb\" href=\"/search?q=related:https://www.udacity.com/course/intro-to-data-science--ud359+data+science&amp;tbo=1&amp;sa=X&amp;ved=0ahUKEwilqcrv5sjNAhWGFz4KHR6gBogQHwhTMAM\">Similar</a></li></ul></div></div></div><span class=\"st\">Intro to <b>Data Science</b> covers the basics of big data through data manipulation, <br>\n",
       "analysis and communication while completing a hands on <b>data science</b> project.</span><br></div></div><div class=\"g\"><h3 class=\"r\"><a href=\"/url?q=https://datascience.berkeley.edu/about/what-is-data-science/&amp;sa=U&amp;ved=0ahUKEwilqcrv5sjNAhWGFz4KHR6gBogQFghVMAQ&amp;usg=AFQjCNEBUaMPfWTilyBMTDJr63KQ3bQ63Q\">What is <b>Data Science</b>? - <b>DataScience</b>@Berkeley</a></h3><div class=\"s\"><div class=\"kv\" style=\"margin-bottom:2px\"><cite>https://<b>datascience</b>.berkeley.edu/about/what-is-<b>data</b>-<b>science</b>/</cite><div class=\"_nBb\">‎<div style=\"display:inline\" onclick=\"google.sham(this);\" aria-expanded=\"false\" aria-haspopup=\"true\" tabindex=\"0\" data-ved=\"0ahUKEwilqcrv5sjNAhWGFz4KHR6gBogQ7B0IVjAE\"><span class=\"_O0\"></span></div><div style=\"display:none\" class=\"am-dropdown-menu\" role=\"menu\" tabindex=\"-1\"><ul><li class=\"_Ykb\"><a class=\"_Zkb\" href=\"/url?q=http://webcache.googleusercontent.com/search%3Fq%3Dcache:EGIx1bXGIvMJ:https://datascience.berkeley.edu/about/what-is-data-science/%252Bdata%2Bscience%26hl%3Den%26ct%3Dclnk&amp;sa=U&amp;ved=0ahUKEwilqcrv5sjNAhWGFz4KHR6gBogQIAhYMAQ&amp;usg=AFQjCNEDKqcZm0XyhSLD6I80JKtWmbgoog\">Cached</a></li><li class=\"_Ykb\"><a class=\"_Zkb\" href=\"/search?q=related:https://datascience.berkeley.edu/about/what-is-data-science/+data+science&amp;tbo=1&amp;sa=X&amp;ved=0ahUKEwilqcrv5sjNAhWGFz4KHR6gBogQHwhZMAQ\">Similar</a></li></ul></div></div></div><span class=\"st\">The supply of professionals who can work effectively with data at scale is limited, <br>\n",
       "and is reflected by rapidly rising salaries for data engineers, <b>data scientists</b>,&nbsp;...</span><br></div></div><div class=\"g\"><h3 class=\"r\"><a href=\"/url?q=http://www.thisismetis.com/data-science&amp;sa=U&amp;ved=0ahUKEwilqcrv5sjNAhWGFz4KHR6gBogQFghbMAU&amp;usg=AFQjCNEctWcHv3fhA-CNQ7xFFoDovJ9SJg\"><b>Data Science</b> Bootcamps - 12 week career prep | New York City and ...</a></h3><div class=\"s\"><div class=\"kv\" style=\"margin-bottom:2px\"><cite>www.thisismetis.com/<b>data</b>-<b>science</b></cite><div class=\"_nBb\">‎<div style=\"display:inline\" onclick=\"google.sham(this);\" aria-expanded=\"false\" aria-haspopup=\"true\" tabindex=\"0\" data-ved=\"0ahUKEwilqcrv5sjNAhWGFz4KHR6gBogQ7B0IXDAF\"><span class=\"_O0\"></span></div><div style=\"display:none\" class=\"am-dropdown-menu\" role=\"menu\" tabindex=\"-1\"><ul><li class=\"_Ykb\"><a class=\"_Zkb\" href=\"/url?q=http://webcache.googleusercontent.com/search%3Fq%3Dcache:SC_vMOXMly8J:http://www.thisismetis.com/data-science%252Bdata%2Bscience%26hl%3Den%26ct%3Dclnk&amp;sa=U&amp;ved=0ahUKEwilqcrv5sjNAhWGFz4KHR6gBogQIAheMAU&amp;usg=AFQjCNHT_SzVrYCA5dxtWRk1nweVzX2Dxw\">Cached</a></li><li class=\"_Ykb\"><a class=\"_Zkb\" href=\"/search?q=related:www.thisismetis.com/data-science+data+science&amp;tbo=1&amp;sa=X&amp;ved=0ahUKEwilqcrv5sjNAhWGFz4KHR6gBogQHwhfMAU\">Similar</a></li></ul></div></div></div><span class=\"st\">Want a job as a <b>data scientist</b> or analyst? Design and present <b>data science</b> <br>\n",
       "projects, learn data visualization, big data tools and architecture at Metis in New <br>\n",
       "York&nbsp;...</span><br></div></div><div class=\"g\"><div><h3 class=\"r\"><a href=\"/search?q=data+science&amp;prmd=ivnsb&amp;source=univ&amp;tbm=nws&amp;tbo=u&amp;sa=X&amp;ved=0ahUKEwilqcrv5sjNAhWGFz4KHR6gBogQqAIIYQ\">News for <b>data science</b></a></h3><table class=\"ts\"><tbody><tr><td valign=\"top\" style=\"font-size:78%;line-height:normal;padding:7px 8px 0 0;text-align:center\"><a href=\"/url?q=http://bgr.com/2016/06/27/dive-into-a-hot-career-in-data-science-with-45-hours-of-training/&amp;sa=U&amp;ved=0ahUKEwilqcrv5sjNAhWGFz4KHR6gBogQpwIIYg&amp;usg=AFQjCNEhD8HmCeguMP4ZPxqUi0GUQNpO0Q\"><img class=\"th\" height=\"100\" src=\"https://encrypted-tbn1.gstatic.com/images?q=tbn:ANd9GcQSDrmM8laR2KZ544CdvQi2Vi7eCy-q0Xs_8ssbMmC-sSL8T2795_4OrUoEb-rUo8XPc7I\" width=\"100\" border=\"1\"><br></a><span class=\"_pJb _yhd\">BGR</span></td><td valign=\"top\"><div style=\"margin-top:5px\"><a href=\"/url?q=http://bgr.com/2016/06/27/dive-into-a-hot-career-in-data-science-with-45-hours-of-training/&amp;sa=U&amp;ved=0ahUKEwilqcrv5sjNAhWGFz4KHR6gBogQqQIIZDAG&amp;usg=AFQjCNEhD8HmCeguMP4ZPxqUi0GUQNpO0Q\">Dive into a hot career in data science with 45 hours of training</a><div style=\"padding-top:2px\"><cite>BGR</cite><span class=\"f\"> - <span class=\"nobr\">7 hours ago</span><span class=\"nobr\"></span></span></div><div class=\"j\" style=\"margin-top:1px;margin-bottom:4px\"><span class=\"st\">No matter what industry you work in, knowing how to analyze <b>data</b> gives you a <br>\n",
       "huge advantage over your competition. Here's your chance: the&nbsp;...</span></div></div><div style=\"margin-top:4px\"><a href=\"/url?q=http://www.forbes.com/sites/bernardmarr/2016/06/27/why-investments-in-big-data-and-analytics-are-not-yet-paying-off/&amp;sa=U&amp;ved=0ahUKEwilqcrv5sjNAhWGFz4KHR6gBogQqQIIZjAH&amp;usg=AFQjCNFzz-zgKsxoSa15GEV0zVOxmB7Ndg\">Why Investments In Big <b>Data</b> And Analytics Are Not Yet Paying Off</a><div style=\"padding-top:2px\"><cite>Forbes</cite><span class=\"f\"> - <span class=\"nobr\">12 hours ago</span><span class=\"nobr\"></span></span></div></div><div style=\"margin-top:4px\"><a href=\"/url?q=http://dataconomy.com/recruiters-hiring-managers-looking-data-scientist/&amp;sa=U&amp;ved=0ahUKEwilqcrv5sjNAhWGFz4KHR6gBogQqQIIaDAI&amp;usg=AFQjCNFw4w-Co5jqmWzzQkeP-lJBQeBenw\">What Recruiters and Hiring Managers Are Looking for in a <b>Data Scientist</b></a><div style=\"padding-top:2px\"><cite>Dataconomy</cite><span class=\"f\"> - <span class=\"nobr\">10 hours ago</span><span class=\"nobr\"></span></span></div></div></td></tr></tbody></table></div></div><div class=\"g\"><h3 class=\"r\"><a href=\"/search?q=data+science&amp;prmd=ivnsb&amp;tbm=isch&amp;tbo=u&amp;source=univ&amp;sa=X&amp;ved=0ahUKEwilqcrv5sjNAhWGFz4KHR6gBogQsAQIag\">Images for <b>data science</b></a></h3><br><div><a href=\"/url?q=http://www.forbes.com/sites/gilpress/2013/05/28/a-very-short-history-of-data-science/&amp;sa=U&amp;ved=0ahUKEwilqcrv5sjNAhWGFz4KHR6gBogQwW4IbDAJ&amp;usg=AFQjCNGBjOXDv-PfX7ZEZXqwf5daU6-DRA\"><img style=\"margin:3px 0;margin-right:6px;padding:0\" height=\"81\" src=\"https://encrypted-tbn3.gstatic.com/images?q=tbn:ANd9GcRZ0_UQvGOq7OmMi_EIGhwEWJ9KhSk3s5YuPiwAA2dTNtB0tc8qfR8sPOI\" title=\"http://www.forbes.com/sites/gilpress/2013/05/28/a-very-short-history-of-data-science/\" width=\"85\" alt=\"Image result for data science\" align=\"middle\"></a><a href=\"/url?q=https://github.com/okulbilisim/awesome-datascience&amp;sa=U&amp;ved=0ahUKEwilqcrv5sjNAhWGFz4KHR6gBogQwW4IbjAK&amp;usg=AFQjCNHc5uOaVcUHcpiivqiafpw2VKvnFA\"><img style=\"margin:3px 0;margin-right:6px;padding:0\" height=\"83\" src=\"https://encrypted-tbn3.gstatic.com/images?q=tbn:ANd9GcRs34Cv74VtkRfRejk7g1KxhgT5wfQOxNpzK6T84E6mGpfLob1LkorgSQ\" title=\"https://github.com/okulbilisim/awesome-datascience\" width=\"102\" alt=\"Image result for data science\" align=\"middle\"></a><a href=\"/url?q=https://gcn.com/articles/2015/05/14/7-steps-data-science-success.aspx&amp;sa=U&amp;ved=0ahUKEwilqcrv5sjNAhWGFz4KHR6gBogQwW4IcDAL&amp;usg=AFQjCNFqD-KmLGHKQvMuaguRZfBe9ZV0bg\"><img style=\"margin:3px 0;margin-right:6px;padding:0\" height=\"54\" src=\"https://encrypted-tbn0.gstatic.com/images?q=tbn:ANd9GcRw-n2JH0Zmj6nn-6FbfaRaj2S4aa4ltbSTjot5ORNUdQOet79cyzxqDqo\" title=\"https://gcn.com/articles/2015/05/14/7-steps-data-science-success.aspx\" width=\"111\" alt=\"Image result for data science\" align=\"middle\"></a><a href=\"/url?q=https://news.cs.washington.edu/2013/11/12/uw-berkeley-nyu-collaborate-on-37-8m-data-science-initiative/&amp;sa=U&amp;ved=0ahUKEwilqcrv5sjNAhWGFz4KHR6gBogQwW4IcjAM&amp;usg=AFQjCNE5mIXc7Ayi8E3SEbAQhuY-MnnRcQ\"><img style=\"margin:3px 0;margin-right:6px;padding:0\" height=\"71\" src=\"https://encrypted-tbn0.gstatic.com/images?q=tbn:ANd9GcRao3zHqziNFG2wLskJFgf4022ThH6mKCW-WlRpwaA3Ago3HFIfQ5bK4g\" title=\"https://news.cs.washington.edu/2013/11/12/uw-berkeley-nyu-collaborate-on-37-8m-data-science-initiative/\" width=\"111\" alt=\"Image result for data science\" align=\"middle\"></a><a href=\"/url?q=http://kamanja.org/team-effort-data-science/&amp;sa=U&amp;ved=0ahUKEwilqcrv5sjNAhWGFz4KHR6gBogQwW4IdDAN&amp;usg=AFQjCNEP3Y5zVNJCOyf4yhJ4hldCnHD6dQ\"><img style=\"margin:3px 0;margin-right:6px;padding:0\" height=\"76\" src=\"https://encrypted-tbn1.gstatic.com/images?q=tbn:ANd9GcRjOHUmnicFxBveUlXZbuXgrPuY5fdZE2ji3slxlXNnR6uXY4seWRQjyck\" title=\"http://kamanja.org/team-effort-data-science/\" width=\"101\" alt=\"Image result for data science\" align=\"middle\"></a></div></div><div class=\"g\"><h3 class=\"r\"><a href=\"/url?q=https://www.edx.org/course/data-science-essentials-microsoft-dat203-1x&amp;sa=U&amp;ved=0ahUKEwilqcrv5sjNAhWGFz4KHR6gBogQFgh2MA4&amp;usg=AFQjCNHr4TQFi9P25om-A5uRecQhnWaNPg\"><b>Data Science</b> Essentials | edX</a></h3><div class=\"s\"><div class=\"kv\" style=\"margin-bottom:2px\"><cite>https://www.edx.org/.../<b>data</b>-<b>science</b>-essentials-microsoft-dat203-1x</cite><div class=\"_nBb\">‎<div style=\"display:inline\" onclick=\"google.sham(this);\" aria-expanded=\"false\" aria-haspopup=\"true\" tabindex=\"0\" data-ved=\"0ahUKEwilqcrv5sjNAhWGFz4KHR6gBogQ7B0IdzAO\"><span class=\"_O0\"></span></div><div style=\"display:none\" class=\"am-dropdown-menu\" role=\"menu\" tabindex=\"-1\"><ul><li class=\"_Ykb\"><a class=\"_Zkb\" href=\"/url?q=http://webcache.googleusercontent.com/search%3Fq%3Dcache:fnrBkPtvg3IJ:https://www.edx.org/course/data-science-essentials-microsoft-dat203-1x%252Bdata%2Bscience%26hl%3Den%26ct%3Dclnk&amp;sa=U&amp;ved=0ahUKEwilqcrv5sjNAhWGFz4KHR6gBogQIAh5MA4&amp;usg=AFQjCNHkGbJs3PuTQskLR-w5DlR840rwpg\">Cached</a></li></ul></div></div></div><span class=\"st\">Demand for <b>data science</b> talent is exploding. Develop your career as a <b>data</b> <br>\n",
       "<b>scientist</b>, as you explore essential skills and principles with experts from MIT and<br>\n",
       "&nbsp;...</span><br></div></div><div class=\"g\"><h3 class=\"r\"><a href=\"/url?q=https://www.edx.org/xseries/data-science-analytics-context&amp;sa=U&amp;ved=0ahUKEwilqcrv5sjNAhWGFz4KHR6gBogQFgh7MA8&amp;usg=AFQjCNFDC4Jfs3BNY5aPg-fHSaOlFYshdQ\"><b>Data Science</b> and Analytics in Context | edX</a></h3><div class=\"s\"><div class=\"kv\" style=\"margin-bottom:2px\"><cite>https://www.edx.org/xseries/<b>data</b>-<b>science</b>-analytics-context</cite><div class=\"_nBb\">‎<div style=\"display:inline\" onclick=\"google.sham(this);\" aria-expanded=\"false\" aria-haspopup=\"true\" tabindex=\"0\" data-ved=\"0ahUKEwilqcrv5sjNAhWGFz4KHR6gBogQ7B0IfDAP\"><span class=\"_O0\"></span></div><div style=\"display:none\" class=\"am-dropdown-menu\" role=\"menu\" tabindex=\"-1\"><ul><li class=\"_Ykb\"><a class=\"_Zkb\" href=\"/url?q=http://webcache.googleusercontent.com/search%3Fq%3Dcache:IpMMa23XhLcJ:https://www.edx.org/xseries/data-science-analytics-context%252Bdata%2Bscience%26hl%3Den%26ct%3Dclnk&amp;sa=U&amp;ved=0ahUKEwilqcrv5sjNAhWGFz4KHR6gBogQIAh-MA8&amp;usg=AFQjCNERLGy96ugsb1r406LLpWo5bhRjOw\">Cached</a></li><li class=\"_Ykb\"><a class=\"_Zkb\" href=\"/search?q=related:https://www.edx.org/xseries/data-science-analytics-context+data+science&amp;tbo=1&amp;sa=X&amp;ved=0ahUKEwilqcrv5sjNAhWGFz4KHR6gBogQHwh_MA8\">Similar</a></li></ul></div></div></div><span class=\"st\">XSeries Program Overview <b>Data science</b> is making us smarter and more <br>\n",
       "innovative in so many ways. How does it all work? In this <b>Data Science</b> and <br>\n",
       "Analytics&nbsp;...</span><br></div></div></ol></div></div></div><div class=\"_Ak\" id=\"_Ktg\"><h2 class=\"_hM\"></h2><ol><li class=\"ads-ad _kug\"><h3 class=\"ellip\"><a href=\"http://www.google.com/aclk?sa=L&amp;ai=CIjyA-2txV-eEM4b1hASQlKqgDM6K_tpE2PPiq4EDruzE2ccBCAMQASgDYMnGqYvApNgPyAEBqgQoT9DDNemuo1erDl4mB1fp_yqNpEbA77bOUDNTaf6kg4dJq64KGQgyvIAHjrTLW5AHA6gHpr4b2AcB&amp;sig=AOD64_1ncVgPtmq6OkiIa9D09or0WAoyGQ&amp;clui=12&amp;ved=0ahUKEwilqcrv5sjNAhWGFz4KHR6gBogQ0QwIggE&amp;adurl=http://www.datascience.com/\">DataScience Consulting - Unlock the value of your <b>data</b></a></h3><div class=\"ads-visurl\"><span class=\"_mB\">Ad</span><cite class=\"_WGk\">www.<b>datascience</b>.com/</cite>‎<div class=\"_nBb\"><div style=\"display:inline\" onclick=\"google.sham(this);\" aria-expanded=\"false\" aria-haspopup=\"true\" tabindex=\"0\" data-ved=\"0ahUKEwilqcrv5sjNAhWGFz4KHR6gBogQ7B0IgwE\"><span class=\"_O0\"></span></div><div style=\"display:none\" class=\"am-dropdown-menu\" role=\"menu\" tabindex=\"-1\"><ul><li class=\"_Ykb\" style=\"margin:0\"><a class=\"_Zkb\" href=\"/url?q=/settings/ads/preferences%3Fhl%3Den&amp;sa=U&amp;ved=0ahUKEwilqcrv5sjNAhWGFz4KHR6gBogQgRMIhQE&amp;usg=AFQjCNEAXNOZ62ka46D3FTH_48RcIwnQgw\" target=\"_blank\">Why this ad?</a></li></ul></div></div></div><div class=\"ads-creative ellip\">Request a free demo today.</div></li><li class=\"ads-ad _kug\"><h3 class=\"ellip\"><a href=\"http://www.google.com/aclk?sa=l&amp;ai=CByXa-2txV-eEM4b1hASQlKqgDPHJtvRE5eOtrvoCx6_vnwsIAxACKANgycapi8Ck2A-gAYPkysYDyAEBqgQlT9DDdbGso1SrD14mB1fp_yrI_Frt77bOUDNTaf6kg4dMVPOYqIAH5Zu1OZAHA6gHpr4b2AcB&amp;sig=AOD64_2bbYcdSDBnMMw9umw7-zJZYSBQjA&amp;clui=13&amp;ved=0ahUKEwilqcrv5sjNAhWGFz4KHR6gBogQ0QwIhwE&amp;adurl=http://nycdatascience.com/JulyGO\">Become A <b>Data Scientist</b> - Join our 12 week intensive bootcamp</a></h3><div class=\"ads-visurl\"><span class=\"_mB\">Ad</span><cite class=\"_WGk\">www.nyc<b>datascience</b>.com/BOOTCAMP</cite>‎<div class=\"_nBb\"><div style=\"display:inline\" onclick=\"google.sham(this);\" aria-expanded=\"false\" aria-haspopup=\"true\" tabindex=\"0\" data-ved=\"0ahUKEwilqcrv5sjNAhWGFz4KHR6gBogQ7B0IiAE\"><span class=\"_O0\"></span></div><div style=\"display:none\" class=\"am-dropdown-menu\" role=\"menu\" tabindex=\"-1\"><ul><li class=\"_Ykb\" style=\"margin:0\"><a class=\"_Zkb\" href=\"/url?q=/settings/ads/preferences%3Fhl%3Den&amp;sa=U&amp;ved=0ahUKEwilqcrv5sjNAhWGFz4KHR6gBogQgRMIigE&amp;usg=AFQjCNEAXNOZ62ka46D3FTH_48RcIwnQgw\" target=\"_blank\">Why this ad?</a></li></ul></div></div></div><div class=\"ads-creative ellip\">R, Python, Spark &amp; Hadoop.</div><div class=\"_MEc\"><a href=\"http://www.google.com/aclk?sa=l&amp;ai=CCutJ-2txV-eEM4b1hASQlKqgDPHJtvRE5eOtrvoCx6_vnwsIAxACKANgycapi8Ck2A-gAYPkysYDyAEBqgQlT9DDdbGso1SrD14mB1fp_yrI_Frt77bOUDNTaf6kg4dMVPOYqNIGDRDosa0OGNvjlY0IKAGAB-WbtTmQBwOoB6a-G9gHAQ&amp;sig=AOD64_1e3YKUnDNmrXZJOoWqTJGP6qbbUA&amp;ctype=4&amp;clui=14&amp;ved=0ahUKEwilqcrv5sjNAhWGFz4KHR6gBogQpigIjAEoAA&amp;adurl=http://nycdatascience.com/NYCDSA-GO-1\">Data Science Bootcamp</a> - <a href=\"http://www.google.com/aclk?sa=l&amp;ai=CNrUe-2txV-eEM4b1hASQlKqgDPHJtvRE5eOtrvoCx6_vnwsIAxACKANgycapi8Ck2A-gAYPkysYDyAEBqgQlT9DDdbGso1SrD14mB1fp_yrI_Frt77bOUDNTaf6kg4dMVPOYqNIGDRDosa0OGIOPlo0IKAGAB-WbtTmQBwOoB6a-G9gHAQ&amp;sig=AOD64_1km4tYKzscJnaprFZIZYM2cE5nFA&amp;ctype=4&amp;clui=15&amp;ved=0ahUKEwilqcrv5sjNAhWGFz4KHR6gBogQpigIjQEoAQ&amp;adurl=http://nycdatascience.com/StudentProjects\">Student Projects</a> - <a href=\"http://www.google.com/aclk?sa=l&amp;ai=CB8Zw-2txV-eEM4b1hASQlKqgDPHJtvRE5eOtrvoCx6_vnwsIAxACKANgycapi8Ck2A-gAYPkysYDyAEBqgQlT9DDdbGso1SrD14mB1fp_yrI_Frt77bOUDNTaf6kg4dMVPOYqNIGDRDosa0OGOni_I0IKAGAB-WbtTmQBwOoB6a-G9gHAQ&amp;sig=AOD64_1SBWHKz2dOAk51jSrMWJ104qEE6g&amp;ctype=4&amp;clui=16&amp;ved=0ahUKEwilqcrv5sjNAhWGFz4KHR6gBogQpigIjgEoAg&amp;adurl=http://nycdatascience.com/ShortCourses\">Short Courses</a> - <a href=\"http://www.google.com/aclk?sa=l&amp;ai=Cfm8N-2txV-eEM4b1hASQlKqgDPHJtvRE5eOtrvoCx6_vnwsIAxACKANgycapi8Ck2A-gAYPkysYDyAEBqgQlT9DDdbGso1SrD14mB1fp_yrI_Frt77bOUDNTaf6kg4dMVPOYqNIGDRDosa0OGN2klo0IKAGAB-WbtTmQBwOoB6a-G9gHAQ&amp;sig=AOD64_3G3bRPZ-Yg-lTb8uabn5HLD-P0-Q&amp;ctype=4&amp;clui=17&amp;ved=0ahUKEwilqcrv5sjNAhWGFz4KHR6gBogQpigIjwEoAw&amp;adurl=http://nycdatascience.com/corporate-offerings/\">Corporate Training</a></div></li><li class=\"ads-ad\"><h3 class=\"ellip\"><a href=\"http://www.google.com/aclk?sa=l&amp;ai=Crcf0-2txV-eEM4b1hASQlKqgDJzljY1F1bSP64QD29G67a8BCAMQAygDYMnGqYvApNgPoAH704e5A8gBAaoEKE_Qky6JrqNVqw5eJgdX6f8q-O9WwO-2zlAzU2n-pIOHSauuCm9ZPaCAB-2r-EaQBwOoB6a-G9gHAQ&amp;sig=AOD64_29xjvTkSagCgH_Dz0_pLM1tznJ6A&amp;clui=18&amp;ved=0ahUKEwilqcrv5sjNAhWGFz4KHR6gBogQ0QwIkQE&amp;adurl=http://info.sollers.edu/datasciencecertificate\"><b>Data Science</b> Certificate</a></h3><div class=\"ads-visurl\"><span class=\"_mB\">Ad</span><cite class=\"_WGk\">www.sollers.edu/</cite>‎<div class=\"_nBb\"><div style=\"display:inline\" onclick=\"google.sham(this);\" aria-expanded=\"false\" aria-haspopup=\"true\" tabindex=\"0\" data-ved=\"0ahUKEwilqcrv5sjNAhWGFz4KHR6gBogQ7B0IkgE\"><span class=\"_O0\"></span></div><div style=\"display:none\" class=\"am-dropdown-menu\" role=\"menu\" tabindex=\"-1\"><ul><li class=\"_Ykb\" style=\"margin:0\"><a class=\"_Zkb\" href=\"/url?q=/settings/ads/preferences%3Fhl%3Den&amp;sa=U&amp;ved=0ahUKEwilqcrv5sjNAhWGFz4KHR6gBogQgRMIlAE&amp;usg=AFQjCNEAXNOZ62ka46D3FTH_48RcIwnQgw\" target=\"_blank\">Why this ad?</a></li></ul></div></div></div><div class=\"ads-creative ellip\">Get Ready For The Emergence Of <b>Data</b> <b>Science</b> in 12 Weeks. Learn More.</div><div>Externship&nbsp;·&nbsp;Accredited &amp; Affordable&nbsp;·&nbsp;Year Round Applications</div></li></ol></div><div style=\"clear:both;margin-bottom:17px;overflow:hidden\"><div style=\"font-size:16px;padding:0 8px 1px\">Searches related to <b>data science</b></div><table border=\"0\" cellpadding=\"0\" cellspacing=\"0\"><tbody><tr><td valign=\"top\"><p class=\"_Bmc\" style=\"margin:3px 8px\"><a href=\"/search?q=data+science+jobs&amp;sa=X&amp;ved=0ahUKEwilqcrv5sjNAhWGFz4KHR6gBogQ1QIImAEoAA\">data science <b>jobs</b></a></p></td><td valign=\"top\" style=\"padding-left:10px\"><p class=\"_Bmc\" style=\"margin:3px 8px\"><a href=\"/search?q=data+science+masters&amp;sa=X&amp;ved=0ahUKEwilqcrv5sjNAhWGFz4KHR6gBogQ1QIImQEoAQ\">data science <b>masters</b></a></p></td></tr><tr><td valign=\"top\"><p class=\"_Bmc\" style=\"margin:3px 8px\"><a href=\"/search?q=data+science+degree&amp;sa=X&amp;ved=0ahUKEwilqcrv5sjNAhWGFz4KHR6gBogQ1QIImgEoAg\">data science <b>degree</b></a></p></td><td valign=\"top\" style=\"padding-left:10px\"><p class=\"_Bmc\" style=\"margin:3px 8px\"><a href=\"/search?q=data+science+definition&amp;sa=X&amp;ved=0ahUKEwilqcrv5sjNAhWGFz4KHR6gBogQ1QIImwEoAw\">data science <b>definition</b></a></p></td></tr><tr><td valign=\"top\"><p class=\"_Bmc\" style=\"margin:3px 8px\"><a href=\"/search?q=data+science+salary&amp;sa=X&amp;ved=0ahUKEwilqcrv5sjNAhWGFz4KHR6gBogQ1QIInAEoBA\">data science <b>salary</b></a></p></td><td valign=\"top\" style=\"padding-left:10px\"><p class=\"_Bmc\" style=\"margin:3px 8px\"><a href=\"/search?q=data+science+books&amp;sa=X&amp;ved=0ahUKEwilqcrv5sjNAhWGFz4KHR6gBogQ1QIInQEoBQ\">data science <b>books</b></a></p></td></tr><tr><td valign=\"top\"><p class=\"_Bmc\" style=\"margin:3px 8px\"><a href=\"/search?q=data+science+course&amp;sa=X&amp;ved=0ahUKEwilqcrv5sjNAhWGFz4KHR6gBogQ1QIIngEoBg\">data science <b>course</b></a></p></td><td valign=\"top\" style=\"padding-left:10px\"><p class=\"_Bmc\" style=\"margin:3px 8px\"><a href=\"/search?q=data+science+pdf&amp;sa=X&amp;ved=0ahUKEwilqcrv5sjNAhWGFz4KHR6gBogQ1QIInwEoBw\">data science <b>pdf</b></a></p></td></tr></tbody></table></div></div><div id=\"foot\"><table align=\"center\" border=\"0\" cellpadding=\"0\" cellspacing=\"0\" id=\"nav\"><tbody><tr valign=\"top\"><td align=\"left\" class=\"b\"><span class=\"csb\" style=\"background-position:-24px 0;width:28px\"></span><b></b></td><td><span class=\"csb\" style=\"background-position:-53px 0;width:20px\"></span><b>1</b></td><td><a class=\"fl\" href=\"/search?q=data+science&amp;prmd=ivnsb&amp;ei=-2txV-W_L4av-AGewJrACA&amp;start=10&amp;sa=N\"><span class=\"csb\" style=\"background-position:-74px 0;width:20px\"></span>2</a></td><td><a class=\"fl\" href=\"/search?q=data+science&amp;prmd=ivnsb&amp;ei=-2txV-W_L4av-AGewJrACA&amp;start=20&amp;sa=N\"><span class=\"csb\" style=\"background-position:-74px 0;width:20px\"></span>3</a></td><td><a class=\"fl\" href=\"/search?q=data+science&amp;prmd=ivnsb&amp;ei=-2txV-W_L4av-AGewJrACA&amp;start=30&amp;sa=N\"><span class=\"csb\" style=\"background-position:-74px 0;width:20px\"></span>4</a></td><td><a class=\"fl\" href=\"/search?q=data+science&amp;prmd=ivnsb&amp;ei=-2txV-W_L4av-AGewJrACA&amp;start=40&amp;sa=N\"><span class=\"csb\" style=\"background-position:-74px 0;width:20px\"></span>5</a></td><td><a class=\"fl\" href=\"/search?q=data+science&amp;prmd=ivnsb&amp;ei=-2txV-W_L4av-AGewJrACA&amp;start=50&amp;sa=N\"><span class=\"csb\" style=\"background-position:-74px 0;width:20px\"></span>6</a></td><td><a class=\"fl\" href=\"/search?q=data+science&amp;prmd=ivnsb&amp;ei=-2txV-W_L4av-AGewJrACA&amp;start=60&amp;sa=N\"><span class=\"csb\" style=\"background-position:-74px 0;width:20px\"></span>7</a></td><td><a class=\"fl\" href=\"/search?q=data+science&amp;prmd=ivnsb&amp;ei=-2txV-W_L4av-AGewJrACA&amp;start=70&amp;sa=N\"><span class=\"csb\" style=\"background-position:-74px 0;width:20px\"></span>8</a></td><td><a class=\"fl\" href=\"/search?q=data+science&amp;prmd=ivnsb&amp;ei=-2txV-W_L4av-AGewJrACA&amp;start=80&amp;sa=N\"><span class=\"csb\" style=\"background-position:-74px 0;width:20px\"></span>9</a></td><td><a class=\"fl\" href=\"/search?q=data+science&amp;prmd=ivnsb&amp;ei=-2txV-W_L4av-AGewJrACA&amp;start=90&amp;sa=N\"><span class=\"csb\" style=\"background-position:-74px 0;width:20px\"></span>10</a></td><td class=\"b\" style=\"text-align:left\"><a class=\"fl\" href=\"/search?q=data+science&amp;prmd=ivnsb&amp;ei=-2txV-W_L4av-AGewJrACA&amp;start=10&amp;sa=N\" style=\"text-align:left\"><span class=\"csb\" style=\"background-position:-96px 0;width:71px\"></span><span style=\"display:block;margin-left:53px\">Next</span></a></td></tr></tbody></table><p class=\"_cD\" id=\"bfl\" style=\"margin:19px 0 0;text-align:center\"><a href=\"/advanced_search?q=data+science&amp;prmd=ivnsb\">Advanced search</a><a href=\"/support/websearch/bin/answer.py?answer=134479&amp;hl=en\">Search Help</a> <a href=\"/tools/feedback/survey/html?productId=196&amp;query=data+science&amp;hl=en\">Send feedback</a></p><div class=\"_cD\" id=\"fll\" style=\"margin:19px auto 19px auto;text-align:center\"><a href=\"/\">Google&nbsp;Home</a> <a href=\"/intl/en/ads\">Advertising&nbsp;Programs</a> <a href=\"/services\">Business Solutions</a> <a href=\"/intl/en/policies/privacy/\">Privacy</a> <a href=\"/intl/en/policies/terms/\">Terms</a> <a href=\"/intl/en/about.html\">About Google</a></div></div></td><td id=\"rhs_block\" valign=\"top\"></td></tr></tbody></table><script type=\"text/javascript\">(function(){var eventid='-2txV-W_L4av-AGewJrACA';google.kEI = eventid;})();</script><script src=\"/xjs/_/js/k=xjs.hp.en_US.bH0rRsuijVE.O/m=sb_he,d/rt=j/d=1/t=zcms/rs=ACT90oGMxBYto6SRy7UewxcBqCdKhrWw7A\"></script><script type=\"text/javascript\">google.ac&&google.ac.c({\"agen\":true,\"cgen\":true,\"client\":\"heirloom-serp\",\"dh\":true,\"dhqt\":true,\"ds\":\"\",\"fl\":true,\"host\":\"google.com\",\"isbh\":28,\"jam\":0,\"jsonp\":true,\"msgs\":{\"cibl\":\"Clear Search\",\"dym\":\"Did you mean:\",\"lcky\":\"I\\u0026#39;m Feeling Lucky\",\"lml\":\"Learn more\",\"oskt\":\"Input tools\",\"psrc\":\"This search was removed from your \\u003Ca href=\\\"/history\\\"\\u003EWeb History\\u003C/a\\u003E\",\"psrl\":\"Remove\",\"sbit\":\"Search by image\",\"srch\":\"Google Search\"},\"nds\":true,\"ovr\":{},\"pq\":\"data science\",\"refpd\":true,\"rfs\":[\"data science jobs\",\"data science degree\",\"data science salary\",\"data science course\",\"data science masters\",\"data science definition\",\"data science books\",\"data science pdf\"],\"scd\":10,\"sce\":5,\"stok\":\"7OHhpjry1tgX1ZZKGA1A1TqdWNA\"})</script><table cellspacing=\"0\" cellpadding=\"0\" class=\"gstl_0 gssb_c\" style=\"width: 570px; display: none; top: 78px; left: 133px; position: absolute;\"><tbody><tr><td class=\"gssb_f\"></td><td class=\"gssb_e\" style=\"width: 100%;\"></td></tr></tbody></table><script>(function(){window.google.cdo={height:0,width:0};(function(){var a=window.innerWidth,b=window.innerHeight;if(!a||!b)var c=window.document,d=\"CSS1Compat\"==c.compatMode?c.documentElement:c.body,a=d.clientWidth,b=d.clientHeight;a&&b&&(a!=google.cdo.width||b!=google.cdo.height)&&google.log(\"\",\"\",\"/client_204?&atyp=i&biw=\"+a+\"&bih=\"+b+\"&ei=\"+google.kEI);})();})();</script><script src=\"//ssl.gstatic.com/gb/js/sem_2cdedec798bb2d12c70bfd09529725cd.js\" async=\"\"></script></body></html>"
      ],
      "text/plain": [
       "<IPython.core.display.HTML object>"
      ]
     },
     "execution_count": 21,
     "metadata": {},
     "output_type": "execute_result"
    }
   ],
   "source": [
    "from selenium import webdriver\n",
    "\n",
    "driver = webdriver.PhantomJS(executable_path='/Users/HudsonCavanagh/Documents/phantomjs-2.1.1-macosx/bin/phantomjs')\n",
    "driver.set_window_size(1024, 768) \n",
    "driver.get('https://www.google.com/#q=data+science')\n",
    "HTML(driver.page_source)"
   ]
  },
  {
   "cell_type": "markdown",
   "metadata": {},
   "source": [
    "## E2. \n",
    "1. Pip install selenium \n",
    "2. Download and unzip phantomJS 2.1.1 from https://bitbucket.org/ariya/phantomjs/downloads\n",
    "3. Use the library to pull down an ajax-based page such as Google search results"
   ]
  },
  {
   "cell_type": "code",
   "execution_count": null,
   "metadata": {
    "collapsed": true
   },
   "outputs": [],
   "source": []
  },
  {
   "cell_type": "code",
   "execution_count": null,
   "metadata": {
    "collapsed": true
   },
   "outputs": [],
   "source": []
  },
  {
   "cell_type": "markdown",
   "metadata": {},
   "source": [
    "# Now How Do We Get the Content Out of the Page?"
   ]
  },
  {
   "cell_type": "markdown",
   "metadata": {},
   "source": [
    "## DOM"
   ]
  },
  {
   "cell_type": "markdown",
   "metadata": {},
   "source": [
    "> The Document Object Model (DOM) is a programming interface for HTML and XML documents. It provides a structured representation of the document and it defines a way that the structure can be accessed from programs so that they can change the document structure, style and content. The DOM provides a representation of the document as a structured group of nodes and objects that have properties and methods. Essentially, it connects web pages to scripts or programming languages."
   ]
  },
  {
   "cell_type": "markdown",
   "metadata": {},
   "source": [
    "## Typical Web Page Structure"
   ]
  },
  {
   "cell_type": "markdown",
   "metadata": {},
   "source": [
    "    <html>\n",
    "        <head>\n",
    "        </head>\n",
    "        <body>\n",
    "            <div id=\"header\" class=\"extraFancy\">I'm a header!</div>\n",
    "            <div id=\"main\">\n",
    "                I'm a div!\n",
    "                <ul>\n",
    "                    I'm an unordered list!\n",
    "                    <li>I'm list item 1</li>\n",
    "                    <li>I'm list item 2</li>\n",
    "                </ul>\n",
    "            </div>\n",
    "            <div id=\"footer\" class=\"extraFancy\">I'm a footer</div>\n",
    "        </body>\n",
    "    </html>"
   ]
  },
  {
   "cell_type": "code",
   "execution_count": 22,
   "metadata": {
    "collapsed": true
   },
   "outputs": [],
   "source": [
    "page_html = \"\"\"\n",
    "    <html>\n",
    "        <head>\n",
    "        <title>Super Cool Website!</title>\n",
    "        </head>\n",
    "        <body>\n",
    "            <div id=\"header\" class=\"extraFancy\">I'm a header!</div>\n",
    "            <div id=\"main\">\n",
    "                I'm a div!\n",
    "                <ul>\n",
    "                    I'm an unordered list!\n",
    "                    <li>I'm list item 1</li>\n",
    "                    <li>I'm list item 2</li>\n",
    "                </ul>\n",
    "            </div>\n",
    "            <div id=\"footer\" class=\"extraFancy\">I'm a footer</div>\n",
    "        </body>\n",
    "    </html>\n",
    "\"\"\""
   ]
  },
  {
   "cell_type": "code",
   "execution_count": 23,
   "metadata": {
    "collapsed": true
   },
   "outputs": [],
   "source": [
    "from bs4 import BeautifulSoup"
   ]
  },
  {
   "cell_type": "markdown",
   "metadata": {},
   "source": [
    "## Pass the HTML into the BS object"
   ]
  },
  {
   "cell_type": "code",
   "execution_count": 40,
   "metadata": {
    "collapsed": false
   },
   "outputs": [],
   "source": [
    "soup = BeautifulSoup(page_html, \"lxml\")"
   ]
  },
  {
   "cell_type": "markdown",
   "metadata": {},
   "source": [
    "## From there it can be searched and parsed"
   ]
  },
  {
   "cell_type": "markdown",
   "metadata": {},
   "source": [
    "## Print the html"
   ]
  },
  {
   "cell_type": "code",
   "execution_count": 41,
   "metadata": {
    "collapsed": false
   },
   "outputs": [
    {
     "name": "stdout",
     "output_type": "stream",
     "text": [
      "<html>\n",
      " <head>\n",
      "  <title>\n",
      "   Super Cool Website!\n",
      "  </title>\n",
      " </head>\n",
      " <body>\n",
      "  <div class=\"extraFancy\" id=\"header\">\n",
      "   I'm a header!\n",
      "  </div>\n",
      "  <div id=\"main\">\n",
      "   I'm a div!\n",
      "   <ul>\n",
      "    I'm an unordered list!\n",
      "    <li>\n",
      "     I'm list item 1\n",
      "    </li>\n",
      "    <li>\n",
      "     I'm list item 2\n",
      "    </li>\n",
      "   </ul>\n",
      "  </div>\n",
      "  <div class=\"extraFancy\" id=\"footer\">\n",
      "   I'm a footer\n",
      "  </div>\n",
      " </body>\n",
      "</html>\n",
      "\n"
     ]
    }
   ],
   "source": [
    "print(soup.prettify())"
   ]
  },
  {
   "cell_type": "markdown",
   "metadata": {},
   "source": [
    "## Get the title"
   ]
  },
  {
   "cell_type": "code",
   "execution_count": 42,
   "metadata": {
    "collapsed": false,
    "scrolled": false
   },
   "outputs": [
    {
     "data": {
      "text/plain": [
       "<title>Super Cool Website!</title>"
      ]
     },
     "execution_count": 42,
     "metadata": {},
     "output_type": "execute_result"
    }
   ],
   "source": [
    "soup.title"
   ]
  },
  {
   "cell_type": "code",
   "execution_count": 43,
   "metadata": {
    "collapsed": false
   },
   "outputs": [
    {
     "data": {
      "text/plain": [
       "u'Super Cool Website!'"
      ]
     },
     "execution_count": 43,
     "metadata": {},
     "output_type": "execute_result"
    }
   ],
   "source": [
    "soup.title.text"
   ]
  },
  {
   "cell_type": "markdown",
   "metadata": {},
   "source": [
    "## Find - get the first result"
   ]
  },
  {
   "cell_type": "code",
   "execution_count": 28,
   "metadata": {
    "collapsed": false
   },
   "outputs": [
    {
     "data": {
      "text/plain": [
       "<div class=\"extraFancy\" id=\"header\">I'm a header!</div>"
      ]
     },
     "execution_count": 28,
     "metadata": {},
     "output_type": "execute_result"
    }
   ],
   "source": [
    "soup.find('div')"
   ]
  },
  {
   "cell_type": "markdown",
   "metadata": {},
   "source": [
    "## FindAll - get all matching results"
   ]
  },
  {
   "cell_type": "code",
   "execution_count": 29,
   "metadata": {
    "collapsed": false
   },
   "outputs": [
    {
     "name": "stdout",
     "output_type": "stream",
     "text": [
      "0 <div class=\"extraFancy\" id=\"header\">I'm a header!</div>\n",
      "\n",
      "\n",
      "1 <div id=\"main\">\n",
      "                I'm a div!\n",
      "                <ul>\n",
      "                    I'm an unordered list!\n",
      "                    <li>I'm list item 1</li>\n",
      "<li>I'm list item 2</li>\n",
      "</ul>\n",
      "</div>\n",
      "\n",
      "\n",
      "2 <div class=\"extraFancy\" id=\"footer\">I'm a footer</div>\n",
      "\n",
      "\n"
     ]
    }
   ],
   "source": [
    "i = 0\n",
    "for d in soup.findAll('div'):\n",
    "    print(i, d)\n",
    "    print('\\n')\n",
    "    i += 1"
   ]
  },
  {
   "cell_type": "code",
   "execution_count": 44,
   "metadata": {
    "collapsed": false
   },
   "outputs": [
    {
     "data": {
      "text/plain": [
       "[<div class=\"extraFancy\" id=\"header\">I'm a header!</div>,\n",
       " <div id=\"main\">\\n                I'm a div!\\n                <ul>\\n                    I'm an unordered list!\\n                    <li>I'm list item 1</li>\\n<li>I'm list item 2</li>\\n</ul>\\n</div>,\n",
       " <div class=\"extraFancy\" id=\"footer\">I'm a footer</div>]"
      ]
     },
     "execution_count": 44,
     "metadata": {},
     "output_type": "execute_result"
    }
   ],
   "source": [
    "soup.findAll('div') #note this is same as above, if slightly less pretty"
   ]
  },
  {
   "cell_type": "markdown",
   "metadata": {},
   "source": [
    "## Get the page's text"
   ]
  },
  {
   "cell_type": "code",
   "execution_count": 30,
   "metadata": {
    "collapsed": false
   },
   "outputs": [
    {
     "name": "stdout",
     "output_type": "stream",
     "text": [
      "\n",
      "\n",
      "Super Cool Website!\n",
      "\n",
      "\n",
      "I'm a header!\n",
      "\n",
      "                I'm a div!\n",
      "                \n",
      "                    I'm an unordered list!\n",
      "                    I'm list item 1\n",
      "I'm list item 2\n",
      "\n",
      "\n",
      "I'm a footer\n",
      "\n",
      "\n",
      "\n"
     ]
    }
   ],
   "source": [
    "print(soup.text)"
   ]
  },
  {
   "cell_type": "markdown",
   "metadata": {},
   "source": [
    "## Get the class of an element"
   ]
  },
  {
   "cell_type": "code",
   "execution_count": 31,
   "metadata": {
    "collapsed": false
   },
   "outputs": [
    {
     "data": {
      "text/plain": [
       "['extraFancy']"
      ]
     },
     "execution_count": 31,
     "metadata": {},
     "output_type": "execute_result"
    }
   ],
   "source": [
    "soup.find('div')['class']"
   ]
  },
  {
   "cell_type": "markdown",
   "metadata": {},
   "source": [
    "## Search by the id of an element"
   ]
  },
  {
   "cell_type": "code",
   "execution_count": 32,
   "metadata": {
    "collapsed": false
   },
   "outputs": [
    {
     "name": "stdout",
     "output_type": "stream",
     "text": [
      "<div id=\"main\">\n",
      "                I'm a div!\n",
      "                <ul>\n",
      "                    I'm an unordered list!\n",
      "                    <li>I'm list item 1</li>\n",
      "<li>I'm list item 2</li>\n",
      "</ul>\n",
      "</div>\n"
     ]
    }
   ],
   "source": [
    "print(soup.find(id='main'))"
   ]
  },
  {
   "cell_type": "markdown",
   "metadata": {},
   "source": [
    "## Search by the class"
   ]
  },
  {
   "cell_type": "code",
   "execution_count": 33,
   "metadata": {
    "collapsed": false
   },
   "outputs": [
    {
     "name": "stdout",
     "output_type": "stream",
     "text": [
      "[<div class=\"extraFancy\" id=\"header\">I'm a header!</div>, <div class=\"extraFancy\" id=\"footer\">I'm a footer</div>]\n"
     ]
    }
   ],
   "source": [
    "print(soup.findAll(class_='extraFancy'))"
   ]
  },
  {
   "cell_type": "markdown",
   "metadata": {},
   "source": [
    "## Get the children of an element"
   ]
  },
  {
   "cell_type": "code",
   "execution_count": 34,
   "metadata": {
    "collapsed": false
   },
   "outputs": [],
   "source": [
    "my_ul = soup.find('ul')"
   ]
  },
  {
   "cell_type": "code",
   "execution_count": 35,
   "metadata": {
    "collapsed": false
   },
   "outputs": [
    {
     "data": {
      "text/plain": [
       "[<li>I'm list item 1</li>, <li>I'm list item 2</li>]"
      ]
     },
     "execution_count": 35,
     "metadata": {},
     "output_type": "execute_result"
    }
   ],
   "source": [
    "my_ul.findChildren()"
   ]
  },
  {
   "cell_type": "markdown",
   "metadata": {},
   "source": [
    "## E3. \n",
    "\n",
    "Using Requests and BeautifulSoup, pull down hacker news and print out the headlines and the story links in your notebook"
   ]
  },
  {
   "cell_type": "code",
   "execution_count": 36,
   "metadata": {
    "collapsed": true
   },
   "outputs": [],
   "source": [
    "hn = requests.get('http://news.ycombinator.com')"
   ]
  },
  {
   "cell_type": "code",
   "execution_count": 37,
   "metadata": {
    "collapsed": false
   },
   "outputs": [
    {
     "data": {
      "text/plain": [
       "'<html op=\"news\"><head><meta name=\"referrer\" content=\"origin\"><meta name=\"viewport\" content=\"width=device-width, initial-scale=1.0\"><link rel=\"stylesheet\" type=\"text/css\" href=\"news.css?vPYhKXHRXSuc4TqypFgD\">\\n        <link rel=\"shortcut icon\" href=\"favicon.ico\">\\n          <link rel=\"alternate\" type=\"application/rss+xml\" title=\"RSS\" href=\"rss\">\\n        <script type=\"text/javascript\">\\nfunction hide(id) {\\n  var el = document.getElementById(id);\\n  if (el) { el.style.visibility = \\'hidden\\'; }\\n}\\nfunction vote(node) {\\n  var v = node.id.split(/_/);\\n  var item = v[1];\\n  hide(\\'up_\\'   + item);\\n  hide(\\'down_\\' + item);\\n  var ping = new Image();\\n  ping.src = node.href;\\n  return false;\\n  }\\n    </script><title>Hacker News</title></head><body><center><table id=\"hnmain\" border=\"0\" cellpadding=\"0\" cellspacing=\"0\" width=\"85%\" bgcolor=\"#f6f6ef\">\\n        <tr><td bgcolor=\"#ff6600\"><table border=\"0\" cellpadding=\"0\" cellspacing=\"0\" width=\"100%\" style=\"padding:2px\"><tr><td style=\"width:18px;padding-right:4px\"><a href=\"http://www.ycombinator.com\"><img src=\"y18.gif\" width=\"18\" height=\"18\" style=\"border:1px white solid;\"></a></td>\\n                  <td style=\"line-height:12pt; height:10px;\"><span class=\"pagetop\"><b class=\"hnname\"><a href=\"news\">Hacker News</a></b>\\n              <a href=\"newest\">new</a> | <a href=\"newcomments\">comments</a> | <a href=\"show\">show</a> | <a href=\"ask\">ask</a> | <a href=\"jobs\">jobs</a> | <a href=\"submit\">submit</a>            </span></td><td style=\"text-align:right;padding-right:4px;\"><span class=\"pagetop\">\\n                              <a href=\"login?goto=news\">login</a>\\n                          </span></td>\\n              </tr></table></td></tr>\\n<tr style=\"height:10px\"></tr><tr><td><table border=\"0\" cellpadding=\"0\" cellspacing=\"0\" class=\"itemlist\">\\n              <tr class=\\'athing\\'>\\n      <td align=\"right\" valign=\"top\" class=\"title\"><span class=\"rank\">1.</span></td>      <td valign=\"top\" class=\"votelinks\"><center><a id=\\'up_11987032\\' href=\\'vote?id=11987032&amp;how=up&amp;goto=news\\'><div class=\\'votearrow\\' title=\\'upvote\\'></div></a></center></td><td class=\"title\"><a href=\"http://blog.ycombinator.com/new-cities\" class=\"storylink\">New Cities</a><span class=\"sitebit comhead\"> (<a href=\"from?site=ycombinator.com\"><span class=\"sitestr\">ycombinator.com</span></a>)</span></td></tr><tr><td colspan=\"2\"></td><td class=\"subtext\">\\n        <span class=\"score\" id=\"score_11987032\">264 points</span> by <a href=\"user?id=dwaxe\" class=\"hnuser\">dwaxe</a> <span class=\"age\"><a href=\"item?id=11987032\">2 hours ago</a></span> <span id=\"unv_11987032\"></span> | <a href=\"item?id=11987032\">204 comments</a>              </td></tr>\\n      <tr class=\"spacer\" style=\"height:5px\"></tr>\\n                <tr class=\\'athing\\'>\\n      <td align=\"right\" valign=\"top\" class=\"title\"><span class=\"rank\">2.</span></td>      <td valign=\"top\" class=\"votelinks\"><center><a id=\\'up_11986705\\' href=\\'vote?id=11986705&amp;how=up&amp;goto=news\\'><div class=\\'votearrow\\' title=\\'upvote\\'></div></a></center></td><td class=\"title\"><a href=\"https://blogs.msdn.microsoft.com/dotnet/2016/06/27/announcing-net-core-1-0/\" class=\"storylink\">Announcing .NET Core 1.0</a><span class=\"sitebit comhead\"> (<a href=\"from?site=microsoft.com\"><span class=\"sitestr\">microsoft.com</span></a>)</span></td></tr><tr><td colspan=\"2\"></td><td class=\"subtext\">\\n        <span class=\"score\" id=\"score_11986705\">299 points</span> by <a href=\"user?id=runesoerensen\" class=\"hnuser\">runesoerensen</a> <span class=\"age\"><a href=\"item?id=11986705\">2 hours ago</a></span> <span id=\"unv_11986705\"></span> | <a href=\"item?id=11986705\">116 comments</a>              </td></tr>\\n      <tr class=\"spacer\" style=\"height:5px\"></tr>\\n                <tr class=\\'athing\\'>\\n      <td align=\"right\" valign=\"top\" class=\"title\"><span class=\"rank\">3.</span></td>      <td valign=\"top\" class=\"votelinks\"><center><a id=\\'up_11987415\\' href=\\'vote?id=11987415&amp;how=up&amp;goto=news\\'><div class=\\'votearrow\\' title=\\'upvote\\'></div></a></center></td><td class=\"title\"><a href=\"https://www.youtube.com/watch?v=mPn2AdMH7UQ\" class=\"storylink\">Donald Knuth: Surreal Numbers [video]</a><span class=\"sitebit comhead\"> (<a href=\"from?site=youtube.com\"><span class=\"sitestr\">youtube.com</span></a>)</span></td></tr><tr><td colspan=\"2\"></td><td class=\"subtext\">\\n        <span class=\"score\" id=\"score_11987415\">35 points</span> by <a href=\"user?id=Jerry2\" class=\"hnuser\">Jerry2</a> <span class=\"age\"><a href=\"item?id=11987415\">1 hour ago</a></span> <span id=\"unv_11987415\"></span> | <a href=\"item?id=11987415\">10 comments</a>              </td></tr>\\n      <tr class=\"spacer\" style=\"height:5px\"></tr>\\n                <tr class=\\'athing\\'>\\n      <td align=\"right\" valign=\"top\" class=\"title\"><span class=\"rank\">4.</span></td>      <td valign=\"top\" class=\"votelinks\"><center><a id=\\'up_11987414\\' href=\\'vote?id=11987414&amp;how=up&amp;goto=news\\'><div class=\\'votearrow\\' title=\\'upvote\\'></div></a></center></td><td class=\"title\"><a href=\"https://medium.com/@dannypage/stop-using-google-trends-a5014dd32588\" class=\"storylink\">Stop Using Google Trends</a><span class=\"sitebit comhead\"> (<a href=\"from?site=medium.com\"><span class=\"sitestr\">medium.com</span></a>)</span></td></tr><tr><td colspan=\"2\"></td><td class=\"subtext\">\\n        <span class=\"score\" id=\"score_11987414\">52 points</span> by <a href=\"user?id=prostoalex\" class=\"hnuser\">prostoalex</a> <span class=\"age\"><a href=\"item?id=11987414\">1 hour ago</a></span> <span id=\"unv_11987414\"></span> | <a href=\"item?id=11987414\">6 comments</a>              </td></tr>\\n      <tr class=\"spacer\" style=\"height:5px\"></tr>\\n                <tr class=\\'athing\\'>\\n      <td align=\"right\" valign=\"top\" class=\"title\"><span class=\"rank\">5.</span></td>      <td valign=\"top\" class=\"votelinks\"><center><a id=\\'up_11986480\\' href=\\'vote?id=11986480&amp;how=up&amp;goto=news\\'><div class=\\'votearrow\\' title=\\'upvote\\'></div></a></center></td><td class=\"title\"><a href=\"http://anime-js.com/\" class=\"storylink\">Show HN: Anime.js \\xe2\\x80\\x93 Polyvalent JavaScript Animation Engine</a><span class=\"sitebit comhead\"> (<a href=\"from?site=anime-js.com\"><span class=\"sitestr\">anime-js.com</span></a>)</span></td></tr><tr><td colspan=\"2\"></td><td class=\"subtext\">\\n        <span class=\"score\" id=\"score_11986480\">140 points</span> by <a href=\"user?id=JulianGarnier\" class=\"hnuser\">JulianGarnier</a> <span class=\"age\"><a href=\"item?id=11986480\">3 hours ago</a></span> <span id=\"unv_11986480\"></span> | <a href=\"item?id=11986480\">34 comments</a>              </td></tr>\\n      <tr class=\"spacer\" style=\"height:5px\"></tr>\\n                <tr class=\\'athing\\'>\\n      <td align=\"right\" valign=\"top\" class=\"title\"><span class=\"rank\">6.</span></td>      <td valign=\"top\" class=\"votelinks\"><center><a id=\\'up_11987324\\' href=\\'vote?id=11987324&amp;how=up&amp;goto=news\\'><div class=\\'votearrow\\' title=\\'upvote\\'></div></a></center></td><td class=\"title\"><a href=\"http://www.righto.com/2016/06/hello-world-in-bcpl-language-on-xerox.html\" class=\"storylink\">\\xe2\\x80\\x9cHello world\\xe2\\x80\\x9d in the BCPL language on the Xerox Alto simulator</a><span class=\"sitebit comhead\"> (<a href=\"from?site=righto.com\"><span class=\"sitestr\">righto.com</span></a>)</span></td></tr><tr><td colspan=\"2\"></td><td class=\"subtext\">\\n        <span class=\"score\" id=\"score_11987324\">21 points</span> by <a href=\"user?id=tonyg\" class=\"hnuser\">tonyg</a> <span class=\"age\"><a href=\"item?id=11987324\">1 hour ago</a></span> <span id=\"unv_11987324\"></span> | <a href=\"item?id=11987324\">2 comments</a>              </td></tr>\\n      <tr class=\"spacer\" style=\"height:5px\"></tr>\\n                <tr class=\\'athing\\'>\\n      <td align=\"right\" valign=\"top\" class=\"title\"><span class=\"rank\">7.</span></td>      <td valign=\"top\" class=\"votelinks\"><center><a id=\\'up_11985261\\' href=\\'vote?id=11985261&amp;how=up&amp;goto=news\\'><div class=\\'votearrow\\' title=\\'upvote\\'></div></a></center></td><td class=\"title\"><a href=\"https://blog.benjojo.co.uk/post/cheap-hdmi-capture-for-linux\" class=\"storylink\">Cheap HDMI capture for Linux</a><span class=\"sitebit comhead\"> (<a href=\"from?site=benjojo.co.uk\"><span class=\"sitestr\">benjojo.co.uk</span></a>)</span></td></tr><tr><td colspan=\"2\"></td><td class=\"subtext\">\\n        <span class=\"score\" id=\"score_11985261\">300 points</span> by <a href=\"user?id=benjojo12\" class=\"hnuser\">benjojo12</a> <span class=\"age\"><a href=\"item?id=11985261\">7 hours ago</a></span> <span id=\"unv_11985261\"></span> | <a href=\"item?id=11985261\">46 comments</a>              </td></tr>\\n      <tr class=\"spacer\" style=\"height:5px\"></tr>\\n                <tr class=\\'athing\\'>\\n      <td align=\"right\" valign=\"top\" class=\"title\"><span class=\"rank\">8.</span></td>      <td valign=\"top\" class=\"votelinks\"><center><a id=\\'up_11986789\\' href=\\'vote?id=11986789&amp;how=up&amp;goto=news\\'><div class=\\'votearrow\\' title=\\'upvote\\'></div></a></center></td><td class=\"title\"><a href=\"http://themacro.com/articles/2016/06/the-real-product-market-fit/\" class=\"storylink\">The Real Product Market Fit</a><span class=\"sitebit comhead\"> (<a href=\"from?site=themacro.com\"><span class=\"sitestr\">themacro.com</span></a>)</span></td></tr><tr><td colspan=\"2\"></td><td class=\"subtext\">\\n        <span class=\"score\" id=\"score_11986789\">44 points</span> by <a href=\"user?id=craigcannon\" class=\"hnuser\">craigcannon</a> <span class=\"age\"><a href=\"item?id=11986789\">2 hours ago</a></span> <span id=\"unv_11986789\"></span> | <a href=\"item?id=11986789\">24 comments</a>              </td></tr>\\n      <tr class=\"spacer\" style=\"height:5px\"></tr>\\n                <tr class=\\'athing\\'>\\n      <td align=\"right\" valign=\"top\" class=\"title\"><span class=\"rank\">9.</span></td>      <td valign=\"top\" class=\"votelinks\"><center><a id=\\'up_11985368\\' href=\\'vote?id=11985368&amp;how=up&amp;goto=news\\'><div class=\\'votearrow\\' title=\\'upvote\\'></div></a></center></td><td class=\"title\"><a href=\"http://avc.com/2016/06/best-seed-pitch-ever/?utm_source=feedburner&amp;utm_medium=feed&amp;utm_campaign=Feed%3A+AVc+%28A+VC%29\" class=\"storylink\">Best Seed Pitch</a><span class=\"sitebit comhead\"> (<a href=\"from?site=avc.com\"><span class=\"sitestr\">avc.com</span></a>)</span></td></tr><tr><td colspan=\"2\"></td><td class=\"subtext\">\\n        <span class=\"score\" id=\"score_11985368\">200 points</span> by <a href=\"user?id=mathattack\" class=\"hnuser\">mathattack</a> <span class=\"age\"><a href=\"item?id=11985368\">7 hours ago</a></span> <span id=\"unv_11985368\"></span> | <a href=\"item?id=11985368\">53 comments</a>              </td></tr>\\n      <tr class=\"spacer\" style=\"height:5px\"></tr>\\n                <tr class=\\'athing\\'>\\n      <td align=\"right\" valign=\"top\" class=\"title\"><span class=\"rank\">10.</span></td>      <td valign=\"top\" class=\"votelinks\"><center><a id=\\'up_11987114\\' href=\\'vote?id=11987114&amp;how=up&amp;goto=news\\'><div class=\\'votearrow\\' title=\\'upvote\\'></div></a></center></td><td class=\"title\"><a href=\"https://docs.microsoft.com/teamblog/introducing-net-core-docs/\" class=\"storylink\">Introducing .NET Core Docs</a><span class=\"sitebit comhead\"> (<a href=\"from?site=microsoft.com\"><span class=\"sitestr\">microsoft.com</span></a>)</span></td></tr><tr><td colspan=\"2\"></td><td class=\"subtext\">\\n        <span class=\"score\" id=\"score_11987114\">57 points</span> by <a href=\"user?id=dend\" class=\"hnuser\">dend</a> <span class=\"age\"><a href=\"item?id=11987114\">1 hour ago</a></span> <span id=\"unv_11987114\"></span> | <a href=\"item?id=11987114\">8 comments</a>              </td></tr>\\n      <tr class=\"spacer\" style=\"height:5px\"></tr>\\n                <tr class=\\'athing\\'>\\n      <td align=\"right\" valign=\"top\" class=\"title\"><span class=\"rank\">11.</span></td>      <td valign=\"top\" class=\"votelinks\"><center><a id=\\'up_11987058\\' href=\\'vote?id=11987058&amp;how=up&amp;goto=news\\'><div class=\\'votearrow\\' title=\\'upvote\\'></div></a></center></td><td class=\"title\"><a href=\"http://www.bls.gov/opub/mlr/2016/article/the-life-of-american-workers-in-1915.htm\" class=\"storylink\">The life of American workers in 1915</a><span class=\"sitebit comhead\"> (<a href=\"from?site=bls.gov\"><span class=\"sitestr\">bls.gov</span></a>)</span></td></tr><tr><td colspan=\"2\"></td><td class=\"subtext\">\\n        <span class=\"score\" id=\"score_11987058\">27 points</span> by <a href=\"user?id=sinak\" class=\"hnuser\">sinak</a> <span class=\"age\"><a href=\"item?id=11987058\">2 hours ago</a></span> <span id=\"unv_11987058\"></span> | <a href=\"item?id=11987058\">9 comments</a>              </td></tr>\\n      <tr class=\"spacer\" style=\"height:5px\"></tr>\\n                <tr class=\\'athing\\'>\\n      <td align=\"right\" valign=\"top\" class=\"title\"><span class=\"rank\">12.</span></td>      <td valign=\"top\" class=\"votelinks\"><center><a id=\\'up_11987702\\' href=\\'vote?id=11987702&amp;how=up&amp;goto=news\\'><div class=\\'votearrow\\' title=\\'upvote\\'></div></a></center></td><td class=\"title\"><a href=\"https://coreos.com/blog/prometheus-and-kubernetes-up-and-running.html\" class=\"storylink\">Prometheus and Kubernetes up and running</a><span class=\"sitebit comhead\"> (<a href=\"from?site=coreos.com\"><span class=\"sitestr\">coreos.com</span></a>)</span></td></tr><tr><td colspan=\"2\"></td><td class=\"subtext\">\\n        <span class=\"score\" id=\"score_11987702\">27 points</span> by <a href=\"user?id=philips\" class=\"hnuser\">philips</a> <span class=\"age\"><a href=\"item?id=11987702\">44 minutes ago</a></span> <span id=\"unv_11987702\"></span> | <a href=\"item?id=11987702\">discuss</a>              </td></tr>\\n      <tr class=\"spacer\" style=\"height:5px\"></tr>\\n                <tr class=\\'athing\\'>\\n      <td align=\"right\" valign=\"top\" class=\"title\"><span class=\"rank\">13.</span></td>      <td valign=\"top\" class=\"votelinks\"><center><a id=\\'up_11985904\\' href=\\'vote?id=11985904&amp;how=up&amp;goto=news\\'><div class=\\'votearrow\\' title=\\'upvote\\'></div></a></center></td><td class=\"title\"><a href=\"http://www.extremetech.com/computing/230794-woman-wins-10000-judgment-against-microsoft-for-forced-windows-10-upgrade\" class=\"storylink\">Woman wins $10,000 judgment against Microsoft for forced Windows 10 upgrade</a><span class=\"sitebit comhead\"> (<a href=\"from?site=extremetech.com\"><span class=\"sitestr\">extremetech.com</span></a>)</span></td></tr><tr><td colspan=\"2\"></td><td class=\"subtext\">\\n        <span class=\"score\" id=\"score_11985904\">322 points</span> by <a href=\"user?id=be5invis\" class=\"hnuser\">be5invis</a> <span class=\"age\"><a href=\"item?id=11985904\">4 hours ago</a></span> <span id=\"unv_11985904\"></span> | <a href=\"item?id=11985904\">222 comments</a>              </td></tr>\\n      <tr class=\"spacer\" style=\"height:5px\"></tr>\\n                <tr class=\\'athing\\'>\\n      <td align=\"right\" valign=\"top\" class=\"title\"><span class=\"rank\">14.</span></td>      <td valign=\"top\" class=\"votelinks\"><center><a id=\\'up_11986977\\' href=\\'vote?id=11986977&amp;how=up&amp;goto=news\\'><div class=\\'votearrow\\' title=\\'upvote\\'></div></a></center></td><td class=\"title\"><a href=\"http://www.pyret.org/pyret-code/\" class=\"storylink\">A Case for the Pyret Programming Language</a><span class=\"sitebit comhead\"> (<a href=\"from?site=pyret.org\"><span class=\"sitestr\">pyret.org</span></a>)</span></td></tr><tr><td colspan=\"2\"></td><td class=\"subtext\">\\n        <span class=\"score\" id=\"score_11986977\">24 points</span> by <a href=\"user?id=spdegabrielle\" class=\"hnuser\">spdegabrielle</a> <span class=\"age\"><a href=\"item?id=11986977\">2 hours ago</a></span> <span id=\"unv_11986977\"></span> | <a href=\"item?id=11986977\">12 comments</a>              </td></tr>\\n      <tr class=\"spacer\" style=\"height:5px\"></tr>\\n                <tr class=\\'athing\\'>\\n      <td align=\"right\" valign=\"top\" class=\"title\"><span class=\"rank\">15.</span></td>      <td valign=\"top\" class=\"votelinks\"><center><a id=\\'up_11984485\\' href=\\'vote?id=11984485&amp;how=up&amp;goto=news\\'><div class=\\'votearrow\\' title=\\'upvote\\'></div></a></center></td><td class=\"title\"><a href=\"http://www.businessinsider.com/sergey-brin-on-starting-a-company-in-silicon-valley-2016-6\" class=\"storylink\">Sergey Brin says you shouldn\\'t start a company in Silicon Valley</a><span class=\"sitebit comhead\"> (<a href=\"from?site=businessinsider.com\"><span class=\"sitestr\">businessinsider.com</span></a>)</span></td></tr><tr><td colspan=\"2\"></td><td class=\"subtext\">\\n        <span class=\"score\" id=\"score_11984485\">230 points</span> by <a href=\"user?id=prostoalex\" class=\"hnuser\">prostoalex</a> <span class=\"age\"><a href=\"item?id=11984485\">11 hours ago</a></span> <span id=\"unv_11984485\"></span> | <a href=\"item?id=11984485\">115 comments</a>              </td></tr>\\n      <tr class=\"spacer\" style=\"height:5px\"></tr>\\n                <tr class=\\'athing\\'>\\n      <td align=\"right\" valign=\"top\" class=\"title\"><span class=\"rank\">16.</span></td>      <td valign=\"top\" class=\"votelinks\"><center><a id=\\'up_11985709\\' href=\\'vote?id=11985709&amp;how=up&amp;goto=news\\'><div class=\\'votearrow\\' title=\\'upvote\\'></div></a></center></td><td class=\"title\"><a href=\"http://ofir.io/How-to-Start-Learning-Deep-Learning/\" class=\"storylink\">How to Start Learning Deep Learning</a><span class=\"sitebit comhead\"> (<a href=\"from?site=ofir.io\"><span class=\"sitestr\">ofir.io</span></a>)</span></td></tr><tr><td colspan=\"2\"></td><td class=\"subtext\">\\n        <span class=\"score\" id=\"score_11985709\">161 points</span> by <a href=\"user?id=ofirpress\" class=\"hnuser\">ofirpress</a> <span class=\"age\"><a href=\"item?id=11985709\">5 hours ago</a></span> <span id=\"unv_11985709\"></span> | <a href=\"item?id=11985709\">24 comments</a>              </td></tr>\\n      <tr class=\"spacer\" style=\"height:5px\"></tr>\\n                <tr class=\\'athing\\'>\\n      <td align=\"right\" valign=\"top\" class=\"title\"><span class=\"rank\">17.</span></td>      <td valign=\"top\" class=\"votelinks\"><center><a id=\\'up_11986332\\' href=\\'vote?id=11986332&amp;how=up&amp;goto=news\\'><div class=\\'votearrow\\' title=\\'upvote\\'></div></a></center></td><td class=\"title\"><a href=\"http://referaat.cs.utwente.nl/conference/25/paper/7574/browser-compatibility-the-state-of-the-art-from-a-historical-perspective.pdf\" class=\"storylink\" rel=\"nofollow\">Browser Compatibility: the State of the Art from a Historical Perspective [pdf]</a><span class=\"sitebit comhead\"> (<a href=\"from?site=utwente.nl\"><span class=\"sitestr\">utwente.nl</span></a>)</span></td></tr><tr><td colspan=\"2\"></td><td class=\"subtext\">\\n        <span class=\"score\" id=\"score_11986332\">7 points</span> by <a href=\"user?id=jroeleveld\" class=\"hnuser\">jroeleveld</a> <span class=\"age\"><a href=\"item?id=11986332\">2 hours ago</a></span> <span id=\"unv_11986332\"></span> | <a href=\"item?id=11986332\">discuss</a>              </td></tr>\\n      <tr class=\"spacer\" style=\"height:5px\"></tr>\\n                <tr class=\\'athing\\'>\\n      <td align=\"right\" valign=\"top\" class=\"title\"><span class=\"rank\">18.</span></td>      <td valign=\"top\" class=\"votelinks\"><center><a id=\\'up_11986214\\' href=\\'vote?id=11986214&amp;how=up&amp;goto=news\\'><div class=\\'votearrow\\' title=\\'upvote\\'></div></a></center></td><td class=\"title\"><a href=\"http://arxiv.org/abs/1606.07772\" class=\"storylink\">The emotional arcs of stories are dominated by six basic shapes</a><span class=\"sitebit comhead\"> (<a href=\"from?site=arxiv.org\"><span class=\"sitestr\">arxiv.org</span></a>)</span></td></tr><tr><td colspan=\"2\"></td><td class=\"subtext\">\\n        <span class=\"score\" id=\"score_11986214\">19 points</span> by <a href=\"user?id=ehudla\" class=\"hnuser\">ehudla</a> <span class=\"age\"><a href=\"item?id=11986214\">3 hours ago</a></span> <span id=\"unv_11986214\"></span> | <a href=\"item?id=11986214\">1 comment</a>              </td></tr>\\n      <tr class=\"spacer\" style=\"height:5px\"></tr>\\n                <tr class=\\'athing\\'>\\n      <td align=\"right\" valign=\"top\" class=\"title\"><span class=\"rank\">19.</span></td>      <td></td><td class=\"title\"><a href=\"https://www.hackerrank.com/tests/527036edb11ff/0ca5532381fbebad9fffaa28dc90475f\" class=\"storylink\" rel=\"nofollow\">Drchrono (YC W11) is looking for Python/Django developers</a><span class=\"sitebit comhead\"> (<a href=\"from?site=hackerrank.com\"><span class=\"sitestr\">hackerrank.com</span></a>)</span></td></tr><tr><td colspan=\"2\"></td><td class=\"subtext\">\\n        <span class=\"age\"><a href=\"item?id=11986904\">2 hours ago</a></span>      </td></tr>\\n      <tr class=\"spacer\" style=\"height:5px\"></tr>\\n                <tr class=\\'athing\\'>\\n      <td align=\"right\" valign=\"top\" class=\"title\"><span class=\"rank\">20.</span></td>      <td valign=\"top\" class=\"votelinks\"><center><a id=\\'up_11984525\\' href=\\'vote?id=11984525&amp;how=up&amp;goto=news\\'><div class=\\'votearrow\\' title=\\'upvote\\'></div></a></center></td><td class=\"title\"><a href=\"http://www2.cmp.uea.ac.uk/~jrwg/Sisal/00.Contents.html\" class=\"storylink\">Sisal: a functional parallel programming language</a><span class=\"sitebit comhead\"> (<a href=\"from?site=uea.ac.uk\"><span class=\"sitestr\">uea.ac.uk</span></a>)</span></td></tr><tr><td colspan=\"2\"></td><td class=\"subtext\">\\n        <span class=\"score\" id=\"score_11984525\">99 points</span> by <a href=\"user?id=panic\" class=\"hnuser\">panic</a> <span class=\"age\"><a href=\"item?id=11984525\">11 hours ago</a></span> <span id=\"unv_11984525\"></span> | <a href=\"item?id=11984525\">31 comments</a>              </td></tr>\\n      <tr class=\"spacer\" style=\"height:5px\"></tr>\\n                <tr class=\\'athing\\'>\\n      <td align=\"right\" valign=\"top\" class=\"title\"><span class=\"rank\">21.</span></td>      <td valign=\"top\" class=\"votelinks\"><center><a id=\\'up_11986551\\' href=\\'vote?id=11986551&amp;how=up&amp;goto=news\\'><div class=\\'votearrow\\' title=\\'upvote\\'></div></a></center></td><td class=\"title\"><a href=\"https://groups.google.com/forum/#!msg/fa.laser-lovers/H3us4h8S3Kk/-vGRDirzDV0J\" class=\"storylink\" rel=\"nofollow\">Early History of PostScript (1985)</a><span class=\"sitebit comhead\"> (<a href=\"from?site=groups.google.com\"><span class=\"sitestr\">groups.google.com</span></a>)</span></td></tr><tr><td colspan=\"2\"></td><td class=\"subtext\">\\n        <span class=\"score\" id=\"score_11986551\">4 points</span> by <a href=\"user?id=_acme\" class=\"hnuser\">_acme</a> <span class=\"age\"><a href=\"item?id=11986551\">1 hour ago</a></span> <span id=\"unv_11986551\"></span> | <a href=\"item?id=11986551\">discuss</a>              </td></tr>\\n      <tr class=\"spacer\" style=\"height:5px\"></tr>\\n                <tr class=\\'athing\\'>\\n      <td align=\"right\" valign=\"top\" class=\"title\"><span class=\"rank\">22.</span></td>      <td valign=\"top\" class=\"votelinks\"><center><a id=\\'up_11984408\\' href=\\'vote?id=11984408&amp;how=up&amp;goto=news\\'><div class=\\'votearrow\\' title=\\'upvote\\'></div></a></center></td><td class=\"title\"><a href=\"http://kodi.tv/the-piracy-box-sellers-and-youtube-promoters-are-killing-kodi/\" class=\"storylink\">The Piracy Box Sellers and YouTube Promoters Are Killing Kodi</a><span class=\"sitebit comhead\"> (<a href=\"from?site=kodi.tv\"><span class=\"sitestr\">kodi.tv</span></a>)</span></td></tr><tr><td colspan=\"2\"></td><td class=\"subtext\">\\n        <span class=\"score\" id=\"score_11984408\">98 points</span> by <a href=\"user?id=ftclausen\" class=\"hnuser\">ftclausen</a> <span class=\"age\"><a href=\"item?id=11984408\">12 hours ago</a></span> <span id=\"unv_11984408\"></span> | <a href=\"item?id=11984408\">25 comments</a>              </td></tr>\\n      <tr class=\"spacer\" style=\"height:5px\"></tr>\\n                <tr class=\\'athing\\'>\\n      <td align=\"right\" valign=\"top\" class=\"title\"><span class=\"rank\">23.</span></td>      <td valign=\"top\" class=\"votelinks\"><center><a id=\\'up_11984643\\' href=\\'vote?id=11984643&amp;how=up&amp;goto=news\\'><div class=\\'votearrow\\' title=\\'upvote\\'></div></a></center></td><td class=\"title\"><a href=\"http://www.havingatinker.uk/aws-elasticsearch-service-woes.html\" class=\"storylink\">AWS Elasticsearch Service Woes</a><span class=\"sitebit comhead\"> (<a href=\"from?site=havingatinker.uk\"><span class=\"sitestr\">havingatinker.uk</span></a>)</span></td></tr><tr><td colspan=\"2\"></td><td class=\"subtext\">\\n        <span class=\"score\" id=\"score_11984643\">63 points</span> by <a href=\"user?id=kiyanwang\" class=\"hnuser\">kiyanwang</a> <span class=\"age\"><a href=\"item?id=11984643\">10 hours ago</a></span> <span id=\"unv_11984643\"></span> | <a href=\"item?id=11984643\">23 comments</a>              </td></tr>\\n      <tr class=\"spacer\" style=\"height:5px\"></tr>\\n                <tr class=\\'athing\\'>\\n      <td align=\"right\" valign=\"top\" class=\"title\"><span class=\"rank\">24.</span></td>      <td valign=\"top\" class=\"votelinks\"><center><a id=\\'up_11986488\\' href=\\'vote?id=11986488&amp;how=up&amp;goto=news\\'><div class=\\'votearrow\\' title=\\'upvote\\'></div></a></center></td><td class=\"title\"><a href=\"http://www.zdnet.com/article/it-runs-on-the-cloud-and-the-cloud-runs-on-linux-any-questions/\" class=\"storylink\">IT runs on the cloud, and the cloud runs on Linux</a><span class=\"sitebit comhead\"> (<a href=\"from?site=zdnet.com\"><span class=\"sitestr\">zdnet.com</span></a>)</span></td></tr><tr><td colspan=\"2\"></td><td class=\"subtext\">\\n        <span class=\"score\" id=\"score_11986488\">48 points</span> by <a href=\"user?id=alxsanchez\" class=\"hnuser\">alxsanchez</a> <span class=\"age\"><a href=\"item?id=11986488\">3 hours ago</a></span> <span id=\"unv_11986488\"></span> | <a href=\"item?id=11986488\">39 comments</a>              </td></tr>\\n      <tr class=\"spacer\" style=\"height:5px\"></tr>\\n                <tr class=\\'athing\\'>\\n      <td align=\"right\" valign=\"top\" class=\"title\"><span class=\"rank\">25.</span></td>      <td valign=\"top\" class=\"votelinks\"><center><a id=\\'up_11986873\\' href=\\'vote?id=11986873&amp;how=up&amp;goto=news\\'><div class=\\'votearrow\\' title=\\'upvote\\'></div></a></center></td><td class=\"title\"><a href=\"http://littleatoms.com/london-independence\" class=\"storylink\">I set up the petition for London\\'s independence. Here\\'s how it would work</a><span class=\"sitebit comhead\"> (<a href=\"from?site=littleatoms.com\"><span class=\"sitestr\">littleatoms.com</span></a>)</span></td></tr><tr><td colspan=\"2\"></td><td class=\"subtext\">\\n        <span class=\"score\" id=\"score_11986873\">57 points</span> by <a href=\"user?id=sirteno\" class=\"hnuser\">sirteno</a> <span class=\"age\"><a href=\"item?id=11986873\">2 hours ago</a></span> <span id=\"unv_11986873\"></span> | <a href=\"item?id=11986873\">49 comments</a>              </td></tr>\\n      <tr class=\"spacer\" style=\"height:5px\"></tr>\\n                <tr class=\\'athing\\'>\\n      <td align=\"right\" valign=\"top\" class=\"title\"><span class=\"rank\">26.</span></td>      <td valign=\"top\" class=\"votelinks\"><center><a id=\\'up_11984994\\' href=\\'vote?id=11984994&amp;how=up&amp;goto=news\\'><div class=\\'votearrow\\' title=\\'upvote\\'></div></a></center></td><td class=\"title\"><a href=\"https://blog.budacode.com/2016/06/27/angular-2-best-practises/?utm_source=hackernews&amp;utm_medium=social&amp;utm_campaign=angular2-best-practises\" class=\"storylink\">Angular 2 \\xe2\\x80\\x93 Best Practises to Level Up</a><span class=\"sitebit comhead\"> (<a href=\"from?site=budacode.com\"><span class=\"sitestr\">budacode.com</span></a>)</span></td></tr><tr><td colspan=\"2\"></td><td class=\"subtext\">\\n        <span class=\"score\" id=\"score_11984994\">118 points</span> by <a href=\"user?id=budacode\" class=\"hnuser\">budacode</a> <span class=\"age\"><a href=\"item?id=11984994\">8 hours ago</a></span> <span id=\"unv_11984994\"></span> | <a href=\"item?id=11984994\">77 comments</a>              </td></tr>\\n      <tr class=\"spacer\" style=\"height:5px\"></tr>\\n                <tr class=\\'athing\\'>\\n      <td align=\"right\" valign=\"top\" class=\"title\"><span class=\"rank\">27.</span></td>      <td valign=\"top\" class=\"votelinks\"><center><a id=\\'up_11986217\\' href=\\'vote?id=11986217&amp;how=up&amp;goto=news\\'><div class=\\'votearrow\\' title=\\'upvote\\'></div></a></center></td><td class=\"title\"><a href=\"http://www.geektime.com/2016/06/27/berlin-is-now-in-a-position-to-usurp-london-as-the-startup-capital-of-europe/\" class=\"storylink\">Berlin is now in a position to usurp London as the startup capital of Europe</a><span class=\"sitebit comhead\"> (<a href=\"from?site=geektime.com\"><span class=\"sitestr\">geektime.com</span></a>)</span></td></tr><tr><td colspan=\"2\"></td><td class=\"subtext\">\\n        <span class=\"score\" id=\"score_11986217\">137 points</span> by <a href=\"user?id=scarletknight\" class=\"hnuser\">scarletknight</a> <span class=\"age\"><a href=\"item?id=11986217\">3 hours ago</a></span> <span id=\"unv_11986217\"></span> | <a href=\"item?id=11986217\">100 comments</a>              </td></tr>\\n      <tr class=\"spacer\" style=\"height:5px\"></tr>\\n                <tr class=\\'athing\\'>\\n      <td align=\"right\" valign=\"top\" class=\"title\"><span class=\"rank\">28.</span></td>      <td valign=\"top\" class=\"votelinks\"><center><a id=\\'up_11984609\\' href=\\'vote?id=11984609&amp;how=up&amp;goto=news\\'><div class=\\'votearrow\\' title=\\'upvote\\'></div></a></center></td><td class=\"title\"><a href=\"http://www.theverge.com/2016/6/24/12026364/us-customs-border-patrol-online-account-twitter-facebook-instagram\" class=\"storylink\">US Customs wants to collect social media account names at the border</a><span class=\"sitebit comhead\"> (<a href=\"from?site=theverge.com\"><span class=\"sitestr\">theverge.com</span></a>)</span></td></tr><tr><td colspan=\"2\"></td><td class=\"subtext\">\\n        <span class=\"score\" id=\"score_11984609\">199 points</span> by <a href=\"user?id=jacquesm\" class=\"hnuser\">jacquesm</a> <span class=\"age\"><a href=\"item?id=11984609\">10 hours ago</a></span> <span id=\"unv_11984609\"></span> | <a href=\"item?id=11984609\">126 comments</a>              </td></tr>\\n      <tr class=\"spacer\" style=\"height:5px\"></tr>\\n                <tr class=\\'athing\\'>\\n      <td align=\"right\" valign=\"top\" class=\"title\"><span class=\"rank\">29.</span></td>      <td valign=\"top\" class=\"votelinks\"><center><a id=\\'up_11983716\\' href=\\'vote?id=11983716&amp;how=up&amp;goto=news\\'><div class=\\'votearrow\\' title=\\'upvote\\'></div></a></center></td><td class=\"title\"><a href=\"http://www.latimes.com/local/education/la-me-caltech-glassblower-20160613-snap-story.html\" class=\"storylink\">Caltech glassblower\\'s retirement has scientists sighing</a><span class=\"sitebit comhead\"> (<a href=\"from?site=latimes.com\"><span class=\"sitestr\">latimes.com</span></a>)</span></td></tr><tr><td colspan=\"2\"></td><td class=\"subtext\">\\n        <span class=\"score\" id=\"score_11983716\">261 points</span> by <a href=\"user?id=wallflower\" class=\"hnuser\">wallflower</a> <span class=\"age\"><a href=\"item?id=11983716\">15 hours ago</a></span> <span id=\"unv_11983716\"></span> | <a href=\"item?id=11983716\">140 comments</a>              </td></tr>\\n      <tr class=\"spacer\" style=\"height:5px\"></tr>\\n                <tr class=\\'athing\\'>\\n      <td align=\"right\" valign=\"top\" class=\"title\"><span class=\"rank\">30.</span></td>      <td valign=\"top\" class=\"votelinks\"><center><a id=\\'up_11985143\\' href=\\'vote?id=11985143&amp;how=up&amp;goto=news\\'><div class=\\'votearrow\\' title=\\'upvote\\'></div></a></center></td><td class=\"title\"><a href=\"item?id=11985143\" class=\"storylink\">Ask HN: Good software for interactive exploration of quantum/particle physics?</a></td></tr><tr><td colspan=\"2\"></td><td class=\"subtext\">\\n        <span class=\"score\" id=\"score_11985143\">73 points</span> by <a href=\"user?id=Fr0styMatt88\" class=\"hnuser\">Fr0styMatt88</a> <span class=\"age\"><a href=\"item?id=11985143\">8 hours ago</a></span> <span id=\"unv_11985143\"></span> | <a href=\"item?id=11985143\">22 comments</a>              </td></tr>\\n      <tr class=\"spacer\" style=\"height:5px\"></tr>\\n            <tr class=\"morespace\" style=\"height:10px\"></tr><tr><td colspan=\"2\"></td><td class=\"title\"><a href=\"news?p=2\" class=\"morelink\" rel=\"nofollow\">More</a></td></tr>\\n  </table></td></tr>\\n<tr><td><img src=\"s.gif\" height=\"10\" width=\"0\"><table width=\"100%\" cellspacing=\"0\" cellpadding=\"1\"><tr><td bgcolor=\"#ff6600\"></td></tr></table><br><center><span class=\"yclinks\"><a href=\"newsguidelines.html\">Guidelines</a>\\n        | <a href=\"newsfaq.html\">FAQ</a>\\n        | <a href=\"mailto:hn@ycombinator.com\">Support</a>\\n        | <a href=\"https://github.com/HackerNews/API\">API</a>\\n        | <a href=\"security.html\">Security</a>\\n        | <a href=\"lists\">Lists</a>\\n        | <a href=\"bookmarklet.html\">Bookmarklet</a>\\n        | <a href=\"dmca.html\">DMCA</a>\\n        | <a href=\"http://www.ycombinator.com/apply/\">Apply to YC</a>\\n        | <a href=\"mailto:hn@ycombinator.com\">Contact</a></span><br><br><form method=\"get\" action=\"//hn.algolia.com/\">Search:\\n          <input type=\"text\" name=\"q\" value=\"\" size=\"17\" autocorrect=\"off\" spellcheck=\"false\" autocapitalize=\"off\" autocomplete=\"false\"></form>\\n            </center></td></tr>      </table></center></body>\\n  </html>\\n'"
      ]
     },
     "execution_count": 37,
     "metadata": {},
     "output_type": "execute_result"
    }
   ],
   "source": [
    "hn.content"
   ]
  },
  {
   "cell_type": "code",
   "execution_count": 45,
   "metadata": {
    "collapsed": false
   },
   "outputs": [],
   "source": [
    "hn_soup = BeautifulSoup(hn.content, \"lxml\")"
   ]
  },
  {
   "cell_type": "code",
   "execution_count": 46,
   "metadata": {
    "collapsed": false,
    "scrolled": true
   },
   "outputs": [
    {
     "name": "stdout",
     "output_type": "stream",
     "text": [
      "New Cities\n",
      "http://blog.ycombinator.com/new-cities\n",
      "\n",
      "\n",
      "Announcing .NET Core 1.0\n",
      "https://blogs.msdn.microsoft.com/dotnet/2016/06/27/announcing-net-core-1-0/\n",
      "\n",
      "\n",
      "Donald Knuth: Surreal Numbers [video]\n",
      "https://www.youtube.com/watch?v=mPn2AdMH7UQ\n",
      "\n",
      "\n",
      "Stop Using Google Trends\n",
      "https://medium.com/@dannypage/stop-using-google-trends-a5014dd32588\n",
      "\n",
      "\n",
      "Show HN: Anime.js – Polyvalent JavaScript Animation Engine\n",
      "http://anime-js.com/\n",
      "\n",
      "\n",
      "“Hello world” in the BCPL language on the Xerox Alto simulator\n",
      "http://www.righto.com/2016/06/hello-world-in-bcpl-language-on-xerox.html\n",
      "\n",
      "\n",
      "Cheap HDMI capture for Linux\n",
      "https://blog.benjojo.co.uk/post/cheap-hdmi-capture-for-linux\n",
      "\n",
      "\n",
      "The Real Product Market Fit\n",
      "http://themacro.com/articles/2016/06/the-real-product-market-fit/\n",
      "\n",
      "\n",
      "Best Seed Pitch\n",
      "http://avc.com/2016/06/best-seed-pitch-ever/?utm_source=feedburner&utm_medium=feed&utm_campaign=Feed%3A+AVc+%28A+VC%29\n",
      "\n",
      "\n",
      "Introducing .NET Core Docs\n",
      "https://docs.microsoft.com/teamblog/introducing-net-core-docs/\n",
      "\n",
      "\n",
      "The life of American workers in 1915\n",
      "http://www.bls.gov/opub/mlr/2016/article/the-life-of-american-workers-in-1915.htm\n",
      "\n",
      "\n",
      "Prometheus and Kubernetes up and running\n",
      "https://coreos.com/blog/prometheus-and-kubernetes-up-and-running.html\n",
      "\n",
      "\n",
      "Woman wins $10,000 judgment against Microsoft for forced Windows 10 upgrade\n",
      "http://www.extremetech.com/computing/230794-woman-wins-10000-judgment-against-microsoft-for-forced-windows-10-upgrade\n",
      "\n",
      "\n",
      "A Case for the Pyret Programming Language\n",
      "http://www.pyret.org/pyret-code/\n",
      "\n",
      "\n",
      "Sergey Brin says you shouldn't start a company in Silicon Valley\n",
      "http://www.businessinsider.com/sergey-brin-on-starting-a-company-in-silicon-valley-2016-6\n",
      "\n",
      "\n",
      "How to Start Learning Deep Learning\n",
      "http://ofir.io/How-to-Start-Learning-Deep-Learning/\n",
      "\n",
      "\n",
      "Browser Compatibility: the State of the Art from a Historical Perspective [pdf]\n",
      "http://referaat.cs.utwente.nl/conference/25/paper/7574/browser-compatibility-the-state-of-the-art-from-a-historical-perspective.pdf\n",
      "\n",
      "\n",
      "The emotional arcs of stories are dominated by six basic shapes\n",
      "http://arxiv.org/abs/1606.07772\n",
      "\n",
      "\n",
      "Drchrono (YC W11) is looking for Python/Django developers\n",
      "https://www.hackerrank.com/tests/527036edb11ff/0ca5532381fbebad9fffaa28dc90475f\n",
      "\n",
      "\n",
      "Sisal: a functional parallel programming language\n",
      "http://www2.cmp.uea.ac.uk/~jrwg/Sisal/00.Contents.html\n",
      "\n",
      "\n",
      "Early History of PostScript (1985)\n",
      "https://groups.google.com/forum/#!msg/fa.laser-lovers/H3us4h8S3Kk/-vGRDirzDV0J\n",
      "\n",
      "\n",
      "The Piracy Box Sellers and YouTube Promoters Are Killing Kodi\n",
      "http://kodi.tv/the-piracy-box-sellers-and-youtube-promoters-are-killing-kodi/\n",
      "\n",
      "\n",
      "AWS Elasticsearch Service Woes\n",
      "http://www.havingatinker.uk/aws-elasticsearch-service-woes.html\n",
      "\n",
      "\n",
      "IT runs on the cloud, and the cloud runs on Linux\n",
      "http://www.zdnet.com/article/it-runs-on-the-cloud-and-the-cloud-runs-on-linux-any-questions/\n",
      "\n",
      "\n",
      "I set up the petition for London's independence. Here's how it would work\n",
      "http://littleatoms.com/london-independence\n",
      "\n",
      "\n",
      "Angular 2 – Best Practises to Level Up\n",
      "https://blog.budacode.com/2016/06/27/angular-2-best-practises/?utm_source=hackernews&utm_medium=social&utm_campaign=angular2-best-practises\n",
      "\n",
      "\n",
      "Berlin is now in a position to usurp London as the startup capital of Europe\n",
      "http://www.geektime.com/2016/06/27/berlin-is-now-in-a-position-to-usurp-london-as-the-startup-capital-of-europe/\n",
      "\n",
      "\n",
      "US Customs wants to collect social media account names at the border\n",
      "http://www.theverge.com/2016/6/24/12026364/us-customs-border-patrol-online-account-twitter-facebook-instagram\n",
      "\n",
      "\n",
      "Caltech glassblower's retirement has scientists sighing\n",
      "http://www.latimes.com/local/education/la-me-caltech-glassblower-20160613-snap-story.html\n",
      "\n",
      "\n",
      "Ask HN: Good software for interactive exploration of quantum/particle physics?\n",
      "item?id=11985143\n",
      "\n",
      "\n"
     ]
    }
   ],
   "source": [
    "for link in hn_soup.findAll('a', class_='storylink'):\n",
    "    print(link.text)\n",
    "    print(link['href'])\n",
    "    print('\\n')"
   ]
  },
  {
   "cell_type": "code",
   "execution_count": 57,
   "metadata": {
    "collapsed": false
   },
   "outputs": [
    {
     "name": "stdout",
     "output_type": "stream",
     "text": [
      "\n",
      "http://www.ycombinator.com\n",
      "\n",
      "\n",
      "Hacker News\n",
      "news\n",
      "\n",
      "\n",
      "new\n",
      "newest\n",
      "\n",
      "\n",
      "comments\n",
      "newcomments\n",
      "\n",
      "\n",
      "show\n",
      "show\n",
      "\n",
      "\n",
      "ask\n",
      "ask\n",
      "\n",
      "\n",
      "jobs\n",
      "jobs\n",
      "\n",
      "\n",
      "submit\n",
      "submit\n",
      "\n",
      "\n",
      "login\n",
      "login?goto=news\n",
      "\n",
      "\n",
      "\n",
      "vote?id=11987032&how=up&goto=news\n",
      "\n",
      "\n",
      "New Cities\n",
      "http://blog.ycombinator.com/new-cities\n",
      "\n",
      "\n",
      "ycombinator.com\n",
      "from?site=ycombinator.com\n",
      "\n",
      "\n",
      "dwaxe\n",
      "user?id=dwaxe\n",
      "\n",
      "\n",
      "2 hours ago\n",
      "item?id=11987032\n",
      "\n",
      "\n",
      "204 comments\n",
      "item?id=11987032\n",
      "\n",
      "\n",
      "\n",
      "vote?id=11986705&how=up&goto=news\n",
      "\n",
      "\n",
      "Announcing .NET Core 1.0\n",
      "https://blogs.msdn.microsoft.com/dotnet/2016/06/27/announcing-net-core-1-0/\n",
      "\n",
      "\n",
      "microsoft.com\n",
      "from?site=microsoft.com\n",
      "\n",
      "\n",
      "runesoerensen\n",
      "user?id=runesoerensen\n",
      "\n",
      "\n",
      "2 hours ago\n",
      "item?id=11986705\n",
      "\n",
      "\n",
      "116 comments\n",
      "item?id=11986705\n",
      "\n",
      "\n",
      "\n",
      "vote?id=11987415&how=up&goto=news\n",
      "\n",
      "\n",
      "Donald Knuth: Surreal Numbers [video]\n",
      "https://www.youtube.com/watch?v=mPn2AdMH7UQ\n",
      "\n",
      "\n",
      "youtube.com\n",
      "from?site=youtube.com\n",
      "\n",
      "\n",
      "Jerry2\n",
      "user?id=Jerry2\n",
      "\n",
      "\n",
      "1 hour ago\n",
      "item?id=11987415\n",
      "\n",
      "\n",
      "10 comments\n",
      "item?id=11987415\n",
      "\n",
      "\n",
      "\n",
      "vote?id=11987414&how=up&goto=news\n",
      "\n",
      "\n",
      "Stop Using Google Trends\n",
      "https://medium.com/@dannypage/stop-using-google-trends-a5014dd32588\n",
      "\n",
      "\n",
      "medium.com\n",
      "from?site=medium.com\n",
      "\n",
      "\n",
      "prostoalex\n",
      "user?id=prostoalex\n",
      "\n",
      "\n",
      "1 hour ago\n",
      "item?id=11987414\n",
      "\n",
      "\n",
      "6 comments\n",
      "item?id=11987414\n",
      "\n",
      "\n",
      "\n",
      "vote?id=11986480&how=up&goto=news\n",
      "\n",
      "\n",
      "Show HN: Anime.js – Polyvalent JavaScript Animation Engine\n",
      "http://anime-js.com/\n",
      "\n",
      "\n",
      "anime-js.com\n",
      "from?site=anime-js.com\n",
      "\n",
      "\n",
      "JulianGarnier\n",
      "user?id=JulianGarnier\n",
      "\n",
      "\n",
      "3 hours ago\n",
      "item?id=11986480\n",
      "\n",
      "\n",
      "34 comments\n",
      "item?id=11986480\n",
      "\n",
      "\n",
      "\n",
      "vote?id=11987324&how=up&goto=news\n",
      "\n",
      "\n",
      "“Hello world” in the BCPL language on the Xerox Alto simulator\n",
      "http://www.righto.com/2016/06/hello-world-in-bcpl-language-on-xerox.html\n",
      "\n",
      "\n",
      "righto.com\n",
      "from?site=righto.com\n",
      "\n",
      "\n",
      "tonyg\n",
      "user?id=tonyg\n",
      "\n",
      "\n",
      "1 hour ago\n",
      "item?id=11987324\n",
      "\n",
      "\n",
      "2 comments\n",
      "item?id=11987324\n",
      "\n",
      "\n",
      "\n",
      "vote?id=11985261&how=up&goto=news\n",
      "\n",
      "\n",
      "Cheap HDMI capture for Linux\n",
      "https://blog.benjojo.co.uk/post/cheap-hdmi-capture-for-linux\n",
      "\n",
      "\n",
      "benjojo.co.uk\n",
      "from?site=benjojo.co.uk\n",
      "\n",
      "\n",
      "benjojo12\n",
      "user?id=benjojo12\n",
      "\n",
      "\n",
      "7 hours ago\n",
      "item?id=11985261\n",
      "\n",
      "\n",
      "46 comments\n",
      "item?id=11985261\n",
      "\n",
      "\n",
      "\n",
      "vote?id=11986789&how=up&goto=news\n",
      "\n",
      "\n",
      "The Real Product Market Fit\n",
      "http://themacro.com/articles/2016/06/the-real-product-market-fit/\n",
      "\n",
      "\n",
      "themacro.com\n",
      "from?site=themacro.com\n",
      "\n",
      "\n",
      "craigcannon\n",
      "user?id=craigcannon\n",
      "\n",
      "\n",
      "2 hours ago\n",
      "item?id=11986789\n",
      "\n",
      "\n",
      "24 comments\n",
      "item?id=11986789\n",
      "\n",
      "\n",
      "\n",
      "vote?id=11985368&how=up&goto=news\n",
      "\n",
      "\n",
      "Best Seed Pitch\n",
      "http://avc.com/2016/06/best-seed-pitch-ever/?utm_source=feedburner&utm_medium=feed&utm_campaign=Feed%3A+AVc+%28A+VC%29\n",
      "\n",
      "\n",
      "avc.com\n",
      "from?site=avc.com\n",
      "\n",
      "\n",
      "mathattack\n",
      "user?id=mathattack\n",
      "\n",
      "\n",
      "7 hours ago\n",
      "item?id=11985368\n",
      "\n",
      "\n",
      "53 comments\n",
      "item?id=11985368\n",
      "\n",
      "\n",
      "\n",
      "vote?id=11987114&how=up&goto=news\n",
      "\n",
      "\n",
      "Introducing .NET Core Docs\n",
      "https://docs.microsoft.com/teamblog/introducing-net-core-docs/\n",
      "\n",
      "\n",
      "microsoft.com\n",
      "from?site=microsoft.com\n",
      "\n",
      "\n",
      "dend\n",
      "user?id=dend\n",
      "\n",
      "\n",
      "1 hour ago\n",
      "item?id=11987114\n",
      "\n",
      "\n",
      "8 comments\n",
      "item?id=11987114\n",
      "\n",
      "\n",
      "\n",
      "vote?id=11987058&how=up&goto=news\n",
      "\n",
      "\n",
      "The life of American workers in 1915\n",
      "http://www.bls.gov/opub/mlr/2016/article/the-life-of-american-workers-in-1915.htm\n",
      "\n",
      "\n",
      "bls.gov\n",
      "from?site=bls.gov\n",
      "\n",
      "\n",
      "sinak\n",
      "user?id=sinak\n",
      "\n",
      "\n",
      "2 hours ago\n",
      "item?id=11987058\n",
      "\n",
      "\n",
      "9 comments\n",
      "item?id=11987058\n",
      "\n",
      "\n",
      "\n",
      "vote?id=11987702&how=up&goto=news\n",
      "\n",
      "\n",
      "Prometheus and Kubernetes up and running\n",
      "https://coreos.com/blog/prometheus-and-kubernetes-up-and-running.html\n",
      "\n",
      "\n",
      "coreos.com\n",
      "from?site=coreos.com\n",
      "\n",
      "\n",
      "philips\n",
      "user?id=philips\n",
      "\n",
      "\n",
      "44 minutes ago\n",
      "item?id=11987702\n",
      "\n",
      "\n",
      "discuss\n",
      "item?id=11987702\n",
      "\n",
      "\n",
      "\n",
      "vote?id=11985904&how=up&goto=news\n",
      "\n",
      "\n",
      "Woman wins $10,000 judgment against Microsoft for forced Windows 10 upgrade\n",
      "http://www.extremetech.com/computing/230794-woman-wins-10000-judgment-against-microsoft-for-forced-windows-10-upgrade\n",
      "\n",
      "\n",
      "extremetech.com\n",
      "from?site=extremetech.com\n",
      "\n",
      "\n",
      "be5invis\n",
      "user?id=be5invis\n",
      "\n",
      "\n",
      "4 hours ago\n",
      "item?id=11985904\n",
      "\n",
      "\n",
      "222 comments\n",
      "item?id=11985904\n",
      "\n",
      "\n",
      "\n",
      "vote?id=11986977&how=up&goto=news\n",
      "\n",
      "\n",
      "A Case for the Pyret Programming Language\n",
      "http://www.pyret.org/pyret-code/\n",
      "\n",
      "\n",
      "pyret.org\n",
      "from?site=pyret.org\n",
      "\n",
      "\n",
      "spdegabrielle\n",
      "user?id=spdegabrielle\n",
      "\n",
      "\n",
      "2 hours ago\n",
      "item?id=11986977\n",
      "\n",
      "\n",
      "12 comments\n",
      "item?id=11986977\n",
      "\n",
      "\n",
      "\n",
      "vote?id=11984485&how=up&goto=news\n",
      "\n",
      "\n",
      "Sergey Brin says you shouldn't start a company in Silicon Valley\n",
      "http://www.businessinsider.com/sergey-brin-on-starting-a-company-in-silicon-valley-2016-6\n",
      "\n",
      "\n",
      "businessinsider.com\n",
      "from?site=businessinsider.com\n",
      "\n",
      "\n",
      "prostoalex\n",
      "user?id=prostoalex\n",
      "\n",
      "\n",
      "11 hours ago\n",
      "item?id=11984485\n",
      "\n",
      "\n",
      "115 comments\n",
      "item?id=11984485\n",
      "\n",
      "\n",
      "\n",
      "vote?id=11985709&how=up&goto=news\n",
      "\n",
      "\n",
      "How to Start Learning Deep Learning\n",
      "http://ofir.io/How-to-Start-Learning-Deep-Learning/\n",
      "\n",
      "\n",
      "ofir.io\n",
      "from?site=ofir.io\n",
      "\n",
      "\n",
      "ofirpress\n",
      "user?id=ofirpress\n",
      "\n",
      "\n",
      "5 hours ago\n",
      "item?id=11985709\n",
      "\n",
      "\n",
      "24 comments\n",
      "item?id=11985709\n",
      "\n",
      "\n",
      "\n",
      "vote?id=11986332&how=up&goto=news\n",
      "\n",
      "\n",
      "Browser Compatibility: the State of the Art from a Historical Perspective [pdf]\n",
      "http://referaat.cs.utwente.nl/conference/25/paper/7574/browser-compatibility-the-state-of-the-art-from-a-historical-perspective.pdf\n",
      "\n",
      "\n",
      "utwente.nl\n",
      "from?site=utwente.nl\n",
      "\n",
      "\n",
      "jroeleveld\n",
      "user?id=jroeleveld\n",
      "\n",
      "\n",
      "2 hours ago\n",
      "item?id=11986332\n",
      "\n",
      "\n",
      "discuss\n",
      "item?id=11986332\n",
      "\n",
      "\n",
      "\n",
      "vote?id=11986214&how=up&goto=news\n",
      "\n",
      "\n",
      "The emotional arcs of stories are dominated by six basic shapes\n",
      "http://arxiv.org/abs/1606.07772\n",
      "\n",
      "\n",
      "arxiv.org\n",
      "from?site=arxiv.org\n",
      "\n",
      "\n",
      "ehudla\n",
      "user?id=ehudla\n",
      "\n",
      "\n",
      "3 hours ago\n",
      "item?id=11986214\n",
      "\n",
      "\n",
      "1 comment\n",
      "item?id=11986214\n",
      "\n",
      "\n",
      "Drchrono (YC W11) is looking for Python/Django developers\n",
      "https://www.hackerrank.com/tests/527036edb11ff/0ca5532381fbebad9fffaa28dc90475f\n",
      "\n",
      "\n",
      "hackerrank.com\n",
      "from?site=hackerrank.com\n",
      "\n",
      "\n",
      "2 hours ago\n",
      "item?id=11986904\n",
      "\n",
      "\n",
      "\n",
      "vote?id=11984525&how=up&goto=news\n",
      "\n",
      "\n",
      "Sisal: a functional parallel programming language\n",
      "http://www2.cmp.uea.ac.uk/~jrwg/Sisal/00.Contents.html\n",
      "\n",
      "\n",
      "uea.ac.uk\n",
      "from?site=uea.ac.uk\n",
      "\n",
      "\n",
      "panic\n",
      "user?id=panic\n",
      "\n",
      "\n",
      "11 hours ago\n",
      "item?id=11984525\n",
      "\n",
      "\n",
      "31 comments\n",
      "item?id=11984525\n",
      "\n",
      "\n",
      "\n",
      "vote?id=11986551&how=up&goto=news\n",
      "\n",
      "\n",
      "Early History of PostScript (1985)\n",
      "https://groups.google.com/forum/#!msg/fa.laser-lovers/H3us4h8S3Kk/-vGRDirzDV0J\n",
      "\n",
      "\n",
      "groups.google.com\n",
      "from?site=groups.google.com\n",
      "\n",
      "\n",
      "_acme\n",
      "user?id=_acme\n",
      "\n",
      "\n",
      "1 hour ago\n",
      "item?id=11986551\n",
      "\n",
      "\n",
      "discuss\n",
      "item?id=11986551\n",
      "\n",
      "\n",
      "\n",
      "vote?id=11984408&how=up&goto=news\n",
      "\n",
      "\n",
      "The Piracy Box Sellers and YouTube Promoters Are Killing Kodi\n",
      "http://kodi.tv/the-piracy-box-sellers-and-youtube-promoters-are-killing-kodi/\n",
      "\n",
      "\n",
      "kodi.tv\n",
      "from?site=kodi.tv\n",
      "\n",
      "\n",
      "ftclausen\n",
      "user?id=ftclausen\n",
      "\n",
      "\n",
      "12 hours ago\n",
      "item?id=11984408\n",
      "\n",
      "\n",
      "25 comments\n",
      "item?id=11984408\n",
      "\n",
      "\n",
      "\n",
      "vote?id=11984643&how=up&goto=news\n",
      "\n",
      "\n",
      "AWS Elasticsearch Service Woes\n",
      "http://www.havingatinker.uk/aws-elasticsearch-service-woes.html\n",
      "\n",
      "\n",
      "havingatinker.uk\n",
      "from?site=havingatinker.uk\n",
      "\n",
      "\n",
      "kiyanwang\n",
      "user?id=kiyanwang\n",
      "\n",
      "\n",
      "10 hours ago\n",
      "item?id=11984643\n",
      "\n",
      "\n",
      "23 comments\n",
      "item?id=11984643\n",
      "\n",
      "\n",
      "\n",
      "vote?id=11986488&how=up&goto=news\n",
      "\n",
      "\n",
      "IT runs on the cloud, and the cloud runs on Linux\n",
      "http://www.zdnet.com/article/it-runs-on-the-cloud-and-the-cloud-runs-on-linux-any-questions/\n",
      "\n",
      "\n",
      "zdnet.com\n",
      "from?site=zdnet.com\n",
      "\n",
      "\n",
      "alxsanchez\n",
      "user?id=alxsanchez\n",
      "\n",
      "\n",
      "3 hours ago\n",
      "item?id=11986488\n",
      "\n",
      "\n",
      "39 comments\n",
      "item?id=11986488\n",
      "\n",
      "\n",
      "\n",
      "vote?id=11986873&how=up&goto=news\n",
      "\n",
      "\n",
      "I set up the petition for London's independence. Here's how it would work\n",
      "http://littleatoms.com/london-independence\n",
      "\n",
      "\n",
      "littleatoms.com\n",
      "from?site=littleatoms.com\n",
      "\n",
      "\n",
      "sirteno\n",
      "user?id=sirteno\n",
      "\n",
      "\n",
      "2 hours ago\n",
      "item?id=11986873\n",
      "\n",
      "\n",
      "49 comments\n",
      "item?id=11986873\n",
      "\n",
      "\n",
      "\n",
      "vote?id=11984994&how=up&goto=news\n",
      "\n",
      "\n",
      "Angular 2 – Best Practises to Level Up\n",
      "https://blog.budacode.com/2016/06/27/angular-2-best-practises/?utm_source=hackernews&utm_medium=social&utm_campaign=angular2-best-practises\n",
      "\n",
      "\n",
      "budacode.com\n",
      "from?site=budacode.com\n",
      "\n",
      "\n",
      "budacode\n",
      "user?id=budacode\n",
      "\n",
      "\n",
      "8 hours ago\n",
      "item?id=11984994\n",
      "\n",
      "\n",
      "77 comments\n",
      "item?id=11984994\n",
      "\n",
      "\n",
      "\n",
      "vote?id=11986217&how=up&goto=news\n",
      "\n",
      "\n",
      "Berlin is now in a position to usurp London as the startup capital of Europe\n",
      "http://www.geektime.com/2016/06/27/berlin-is-now-in-a-position-to-usurp-london-as-the-startup-capital-of-europe/\n",
      "\n",
      "\n",
      "geektime.com\n",
      "from?site=geektime.com\n",
      "\n",
      "\n",
      "scarletknight\n",
      "user?id=scarletknight\n",
      "\n",
      "\n",
      "3 hours ago\n",
      "item?id=11986217\n",
      "\n",
      "\n",
      "100 comments\n",
      "item?id=11986217\n",
      "\n",
      "\n",
      "\n",
      "vote?id=11984609&how=up&goto=news\n",
      "\n",
      "\n",
      "US Customs wants to collect social media account names at the border\n",
      "http://www.theverge.com/2016/6/24/12026364/us-customs-border-patrol-online-account-twitter-facebook-instagram\n",
      "\n",
      "\n",
      "theverge.com\n",
      "from?site=theverge.com\n",
      "\n",
      "\n",
      "jacquesm\n",
      "user?id=jacquesm\n",
      "\n",
      "\n",
      "10 hours ago\n",
      "item?id=11984609\n",
      "\n",
      "\n",
      "126 comments\n",
      "item?id=11984609\n",
      "\n",
      "\n",
      "\n",
      "vote?id=11983716&how=up&goto=news\n",
      "\n",
      "\n",
      "Caltech glassblower's retirement has scientists sighing\n",
      "http://www.latimes.com/local/education/la-me-caltech-glassblower-20160613-snap-story.html\n",
      "\n",
      "\n",
      "latimes.com\n",
      "from?site=latimes.com\n",
      "\n",
      "\n",
      "wallflower\n",
      "user?id=wallflower\n",
      "\n",
      "\n",
      "15 hours ago\n",
      "item?id=11983716\n",
      "\n",
      "\n",
      "140 comments\n",
      "item?id=11983716\n",
      "\n",
      "\n",
      "\n",
      "vote?id=11985143&how=up&goto=news\n",
      "\n",
      "\n",
      "Ask HN: Good software for interactive exploration of quantum/particle physics?\n",
      "item?id=11985143\n",
      "\n",
      "\n",
      "Fr0styMatt88\n",
      "user?id=Fr0styMatt88\n",
      "\n",
      "\n",
      "8 hours ago\n",
      "item?id=11985143\n",
      "\n",
      "\n",
      "22 comments\n",
      "item?id=11985143\n",
      "\n",
      "\n",
      "More\n",
      "news?p=2\n",
      "\n",
      "\n",
      "Guidelines\n",
      "newsguidelines.html\n",
      "\n",
      "\n",
      "FAQ\n",
      "newsfaq.html\n",
      "\n",
      "\n",
      "Support\n",
      "mailto:hn@ycombinator.com\n",
      "\n",
      "\n",
      "API\n",
      "https://github.com/HackerNews/API\n",
      "\n",
      "\n",
      "Security\n",
      "security.html\n",
      "\n",
      "\n",
      "Lists\n",
      "lists\n",
      "\n",
      "\n",
      "Bookmarklet\n",
      "bookmarklet.html\n",
      "\n",
      "\n",
      "DMCA\n",
      "dmca.html\n",
      "\n",
      "\n",
      "Apply to YC\n",
      "http://www.ycombinator.com/apply/\n",
      "\n",
      "\n",
      "Contact\n",
      "mailto:hn@ycombinator.com\n",
      "\n",
      "\n"
     ]
    }
   ],
   "source": [
    "vb = requests.get('http://venturebeat.com/')\n",
    "vb_soup = BeautifulSoup(hn.content, \"lxml\")\n",
    "\n",
    "for link in vb_soup.findAll('a'):\n",
    "    print(link.text)\n",
    "    print(link['href'])\n",
    "    print('\\n')\n"
   ]
  },
  {
   "cell_type": "code",
   "execution_count": null,
   "metadata": {
    "collapsed": true
   },
   "outputs": [],
   "source": [
    "ring = requests.get('http://venturebeat.com/')\n",
    "ring_soup = BeautifulSoup(hn.content, \"lxml\")\n",
    "\n",
    "for link in vb_soup.findAll('a'):\n",
    "    print(link.text)\n",
    "    print(link['href'])\n",
    "    print('\\n')"
   ]
  },
  {
   "cell_type": "markdown",
   "metadata": {},
   "source": [
    "## Now for the Easy Way"
   ]
  },
  {
   "cell_type": "markdown",
   "metadata": {},
   "source": [
    "## Import.io"
   ]
  },
  {
   "cell_type": "markdown",
   "metadata": {},
   "source": [
    "Using the URL, go to \"http://www.zillow.com/new-york-city-ny/apartments/\""
   ]
  },
  {
   "cell_type": "markdown",
   "metadata": {},
   "source": [
    "## Independent Practice"
   ]
  },
  {
   "cell_type": "markdown",
   "metadata": {},
   "source": [
    "Programmatically run a google search for 'Data Science'.\n",
    "\n",
    "Retrieve only the links and their titles - avoid getting the ads in your list\n",
    "\n",
    "Place your results in a DataFrame with the column titles 'title' and 'links'"
   ]
  },
  {
   "cell_type": "code",
   "execution_count": 58,
   "metadata": {
    "collapsed": false
   },
   "outputs": [
    {
     "name": "stdout",
     "output_type": "stream",
     "text": [
      "Skip to content\n",
      "#content\n",
      "\n",
      "\n",
      "\n",
      "https://mighty.com/blog/\n",
      "\n",
      "\n",
      "Mighty Blog\n",
      "https://mighty.com/blog/\n",
      "\n",
      "\n",
      "View thatsmighty’s profile on Facebook\n",
      "https://www.facebook.com/thatsmighty/\n",
      "\n",
      "\n",
      "View thatsmighty’s profile on Twitter\n",
      "https://twitter.com/thatsmighty/\n",
      "\n",
      "\n",
      "Mighty.com\n",
      "https://mighty.com\n",
      "\n",
      "\n",
      "Access to Justice\n",
      "https://mighty.com/blog/category/access-to-justice/\n",
      "\n",
      "\n",
      "Advice\n",
      "https://mighty.com/blog/category/advice/\n",
      "\n",
      "\n",
      "Education\n",
      "https://mighty.com/blog/category/education/\n",
      "\n",
      "\n",
      "Industry News\n",
      "https://mighty.com/blog/category/industry/\n",
      "\n",
      "\n",
      "News\n",
      "https://mighty.com/blog/category/news/\n",
      "\n",
      "\n",
      "Opinion\n",
      "https://mighty.com/blog/category/opinion/\n",
      "\n",
      "\n",
      "Plaintiff Finance\n",
      "https://mighty.com/blog/category/plaintiff-finance/\n",
      "\n",
      "\n",
      "Plaintiff Financing Basics\n",
      "https://mighty.com/blog/category/legal-funding-basics/\n",
      "\n",
      "\n",
      "Post-Settlement Financing\n",
      "https://mighty.com/blog/category/post-settlement-financing/\n",
      "\n",
      "\n",
      "Regulatory News\n",
      "https://mighty.com/blog/category/regulation/\n",
      "\n",
      "\n",
      "Glossary\n",
      "/blog/glossary-2/glossary-a/\n",
      "\n",
      "\n",
      "About Us\n",
      "/blog/about-us/\n",
      "\n",
      "\n",
      "Tips\n",
      "/blog/tips/\n",
      "\n",
      "\n",
      "Write for Us\n",
      "/blog/writeforus/\n",
      "\n",
      "\n",
      "Contact Us\n",
      "/blog/contact/\n",
      "\n",
      "\n",
      "Read more\n",
      "https://mighty.com/blog/google-bans-payday-loans-legal-funding/\n",
      "\n",
      "\n",
      "Education\n",
      "https://mighty.com/blog/category/education/\n",
      "\n",
      "\n",
      "Industry News\n",
      "https://mighty.com/blog/category/industry/\n",
      "\n",
      "\n",
      "Plaintiff Finance\n",
      "https://mighty.com/blog/category/plaintiff-finance/\n",
      "\n",
      "\n",
      "Post-Settlement Financing\n",
      "https://mighty.com/blog/category/post-settlement-financing/\n",
      "\n",
      "\n",
      " 0 Comments\n",
      "https://mighty.com/blog/google-bans-payday-loans-legal-funding/#respond\n",
      "\n",
      "\n",
      "06/23/2016\n",
      "https://mighty.com/blog/google-bans-payday-loans-legal-funding/\n",
      "\n",
      "\n",
      "How Google’s New Policy Could Impact Your Legal Funding Business\n",
      "https://mighty.com/blog/google-bans-payday-loans-legal-funding/\n",
      "\n",
      "\n",
      "read more How Google’s New Policy Could Impact Your Legal Funding Business\n",
      "https://mighty.com/blog/google-bans-payday-loans-legal-funding/\n",
      "\n",
      "\n",
      "Read more\n",
      "https://mighty.com/blog/guide-to-funding-under-indiana-regulation/\n",
      "\n",
      "\n",
      "Plaintiff Finance\n",
      "https://mighty.com/blog/category/plaintiff-finance/\n",
      "\n",
      "\n",
      "Regulatory News\n",
      "https://mighty.com/blog/category/regulation/\n",
      "\n",
      "\n",
      " 0 Comments\n",
      "https://mighty.com/blog/guide-to-funding-under-indiana-regulation/#respond\n",
      "\n",
      "\n",
      "06/17/201606/17/2016\n",
      "https://mighty.com/blog/guide-to-funding-under-indiana-regulation/\n",
      "\n",
      "\n",
      "Your Comprehensive Guide To Funding Under Indiana’s New Regulations\n",
      "https://mighty.com/blog/guide-to-funding-under-indiana-regulation/\n",
      "\n",
      "\n",
      "read more Your Comprehensive Guide To Funding Under Indiana’s New Regulations\n",
      "https://mighty.com/blog/guide-to-funding-under-indiana-regulation/\n",
      "\n",
      "\n",
      "Read more\n",
      "https://mighty.com/blog/is-peter-thiels-foray-into-litigation-finance-good-for-the-industry/\n",
      "\n",
      "\n",
      "Industry News\n",
      "https://mighty.com/blog/category/industry/\n",
      "\n",
      "\n",
      "News\n",
      "https://mighty.com/blog/category/news/\n",
      "\n",
      "\n",
      "Opinion\n",
      "https://mighty.com/blog/category/opinion/\n",
      "\n",
      "\n",
      " 0 Comments\n",
      "https://mighty.com/blog/is-peter-thiels-foray-into-litigation-finance-good-for-the-industry/#respond\n",
      "\n",
      "\n",
      "06/08/201606/09/2016\n",
      "https://mighty.com/blog/is-peter-thiels-foray-into-litigation-finance-good-for-the-industry/\n",
      "\n",
      "\n",
      "Is Peter Thiel’s Foray into Litigation Finance Good for the Industry?\n",
      "https://mighty.com/blog/is-peter-thiels-foray-into-litigation-finance-good-for-the-industry/\n",
      "\n",
      "\n",
      "read more Is Peter Thiel’s Foray into Litigation Finance Good for the Industry?\n",
      "https://mighty.com/blog/is-peter-thiels-foray-into-litigation-finance-good-for-the-industry/\n",
      "\n",
      "\n",
      "Read more\n",
      "https://mighty.com/blog/donald-trump-becomes-a-liability-insurer-and-what-it-means-for-the-rest-of-us/\n",
      "\n",
      "\n",
      "News\n",
      "https://mighty.com/blog/category/news/\n",
      "\n",
      "\n",
      "Opinion\n",
      "https://mighty.com/blog/category/opinion/\n",
      "\n",
      "\n",
      " 0 Comments\n",
      "https://mighty.com/blog/donald-trump-becomes-a-liability-insurer-and-what-it-means-for-the-rest-of-us/#respond\n",
      "\n",
      "\n",
      "06/01/201606/09/2016\n",
      "https://mighty.com/blog/donald-trump-becomes-a-liability-insurer-and-what-it-means-for-the-rest-of-us/\n",
      "\n",
      "\n",
      "A “Yuge” Missed Opportunity: Why Donald Trump Promised to Fund the Wrong Side of a Lawsuit\n",
      "https://mighty.com/blog/donald-trump-becomes-a-liability-insurer-and-what-it-means-for-the-rest-of-us/\n",
      "\n",
      "\n",
      "read more A “Yuge” Missed Opportunity: Why Donald Trump Promised to Fund the Wrong Side of a Lawsuit\n",
      "https://mighty.com/blog/donald-trump-becomes-a-liability-insurer-and-what-it-means-for-the-rest-of-us/\n",
      "\n",
      "\n",
      "Read more\n",
      "https://mighty.com/blog/new/hypocrisy-and-hulkamania-gawkers-misplaced-attack-on-litigation-financing/\n",
      "\n",
      "\n",
      " 0 Comments\n",
      "https://mighty.com/blog/new/hypocrisy-and-hulkamania-gawkers-misplaced-attack-on-litigation-financing/#respond\n",
      "\n",
      "\n",
      "05/24/201605/24/2016\n",
      "https://mighty.com/blog/new/hypocrisy-and-hulkamania-gawkers-misplaced-attack-on-litigation-financing/\n",
      "\n",
      "\n",
      "Hypocrisy and Hulkamania: Gawker’s Misplaced Attack on Litigation Financing\n",
      "https://mighty.com/blog/new/hypocrisy-and-hulkamania-gawkers-misplaced-attack-on-litigation-financing/\n",
      "\n",
      "\n",
      "read more Hypocrisy and Hulkamania: Gawker’s Misplaced Attack on Litigation Financing\n",
      "https://mighty.com/blog/new/hypocrisy-and-hulkamania-gawkers-misplaced-attack-on-litigation-financing/\n",
      "\n",
      "\n",
      "Read more\n",
      "https://mighty.com/blog/taylor-swift-becomes-a-lawsuit-funder%e2%80%8a-%e2%80%8awhat-that-means-for-the-rest-of-us/\n",
      "\n",
      "\n",
      "Access to Justice\n",
      "https://mighty.com/blog/category/access-to-justice/\n",
      "\n",
      "\n",
      "Industry News\n",
      "https://mighty.com/blog/category/industry/\n",
      "\n",
      "\n",
      "  2 Comments\n",
      "https://mighty.com/blog/taylor-swift-becomes-a-lawsuit-funder%e2%80%8a-%e2%80%8awhat-that-means-for-the-rest-of-us/#comments\n",
      "\n",
      "\n",
      "Taylor Swift Becomes a Lawsuit Funder — What That Means for the Rest of Us\n",
      "https://mighty.com/blog/taylor-swift-becomes-a-lawsuit-funder%e2%80%8a-%e2%80%8awhat-that-means-for-the-rest-of-us/\n",
      "\n",
      "\n",
      "read more Taylor Swift Becomes a Lawsuit Funder — What That Means for the Rest of Us\n",
      "https://mighty.com/blog/taylor-swift-becomes-a-lawsuit-funder%e2%80%8a-%e2%80%8awhat-that-means-for-the-rest-of-us/\n",
      "\n",
      "\n",
      "Read more\n",
      "https://mighty.com/blog/why-ignorance-isnt-bliss-litigation-finance-edition/\n",
      "\n",
      "\n",
      "Industry News\n",
      "https://mighty.com/blog/category/industry/\n",
      "\n",
      "\n",
      " 0 Comments\n",
      "https://mighty.com/blog/why-ignorance-isnt-bliss-litigation-finance-edition/#respond\n",
      "\n",
      "\n",
      "02/23/201603/02/2016\n",
      "https://mighty.com/blog/why-ignorance-isnt-bliss-litigation-finance-edition/\n",
      "\n",
      "\n",
      "Why ignorance isn’t bliss: litigation finance edition\n",
      "https://mighty.com/blog/why-ignorance-isnt-bliss-litigation-finance-edition/\n",
      "\n",
      "\n",
      "read more Why ignorance isn’t bliss: litigation finance edition\n",
      "https://mighty.com/blog/why-ignorance-isnt-bliss-litigation-finance-edition/\n",
      "\n",
      "\n",
      "Read more\n",
      "https://mighty.com/blog/new/litigation-finance-doing-well-by-doing-good-or-just-doing-well/\n",
      "\n",
      "\n",
      " 0 Comments\n",
      "https://mighty.com/blog/new/litigation-finance-doing-well-by-doing-good-or-just-doing-well/#respond\n",
      "\n",
      "\n",
      "11/20/201503/02/2016\n",
      "https://mighty.com/blog/new/litigation-finance-doing-well-by-doing-good-or-just-doing-well/\n",
      "\n",
      "\n",
      "Litigation Finance: Doing Well by Doing Good? Or Just Doing Well?\n",
      "https://mighty.com/blog/new/litigation-finance-doing-well-by-doing-good-or-just-doing-well/\n",
      "\n",
      "\n",
      "read more Litigation Finance: Doing Well by Doing Good? Or Just Doing Well?\n",
      "https://mighty.com/blog/new/litigation-finance-doing-well-by-doing-good-or-just-doing-well/\n",
      "\n",
      "\n",
      "Read more\n",
      "https://mighty.com/blog/new/consumers-smarter-think-auto-title-pawns-legal-funding-common/\n",
      "\n",
      "\n",
      "  4 Comments\n",
      "https://mighty.com/blog/new/consumers-smarter-think-auto-title-pawns-legal-funding-common/#comments\n",
      "\n",
      "\n",
      "09/29/201502/22/2016\n",
      "https://mighty.com/blog/new/consumers-smarter-think-auto-title-pawns-legal-funding-common/\n",
      "\n",
      "\n",
      "What Auto Title Pawns and Plaintiff Financing Have in Common\n",
      "https://mighty.com/blog/new/consumers-smarter-think-auto-title-pawns-legal-funding-common/\n",
      "\n",
      "\n",
      "read more What Auto Title Pawns and Plaintiff Financing Have in Common\n",
      "https://mighty.com/blog/new/consumers-smarter-think-auto-title-pawns-legal-funding-common/\n",
      "\n",
      "\n",
      "Read more\n",
      "https://mighty.com/blog/new/power-plaintiff/\n",
      "\n",
      "\n",
      " 0 Comments\n",
      "https://mighty.com/blog/new/power-plaintiff/#respond\n",
      "\n",
      "\n",
      "09/18/201511/02/2015\n",
      "https://mighty.com/blog/new/power-plaintiff/\n",
      "\n",
      "\n",
      "Power to the Plaintiff\n",
      "https://mighty.com/blog/new/power-plaintiff/\n",
      "\n",
      "\n",
      "read more Power to the Plaintiff\n",
      "https://mighty.com/blog/new/power-plaintiff/\n",
      "\n",
      "\n",
      "← Older posts\n",
      "https://mighty.com/blog/page/2/\n",
      "\n",
      "\n"
     ]
    }
   ],
   "source": [
    "mb = requests.get('https://mighty.com/blog/')\n",
    "mb_soup = BeautifulSoup(mb.content, \"lxml\")\n",
    "\n",
    "for link in mb_soup.findAll('a'):\n",
    "    print(link.text)\n",
    "    print(link['href'])\n",
    "    print('\\n')"
   ]
  },
  {
   "cell_type": "code",
   "execution_count": 75,
   "metadata": {
    "collapsed": false
   },
   "outputs": [
    {
     "name": "stdout",
     "output_type": "stream",
     "text": [
      "[0, u'Google+', 'https://plus.google.com/?gpsrc=ogpy0&tab=wX', 1, u'Search', 'https://www.google.com/webhp?tab=ww', 2, u'Images', 'https://www.google.com/search?hl=en&tbm=isch&source=og&tab=wi', 3, u'Maps', 'https://maps.google.com/maps?hl=en&tab=wl', 4, u'Play', 'https://play.google.com/?hl=en&tab=w8', 5, u'YouTube', 'https://www.youtube.com/results?tab=w1', 6, u'News', 'https://news.google.com/nwshp?hl=en&tab=wn', 7, u'Gmail', 'https://mail.google.com/mail/?tab=wm', 8, u'More', 'https://www.google.com/intl/en/options/', 9, u'Drive', 'https://drive.google.com/?tab=wo', 10, u'Calendar', 'https://www.google.com/calendar?tab=wc', 11, u'Translate', 'https://translate.google.com/?hl=en&tab=wT', 12, u'Mobile', 'http://www.google.com/mobile/?hl=en&tab=wD', 13, u'Books', 'https://www.google.com/search?hl=en&tbo=u&tbm=bks&source=og&tab=wp', 14, u'Wallet', 'https://wallet.google.com/manage/?tab=wa', 15, u'Shopping', 'https://www.google.com/search?hl=en&tbo=u&tbm=shop&source=og&tab=wf', 16, u'Blogger', 'https://www.blogger.com/?tab=wj', 17, u'Finance', 'https://www.google.com/finance?tab=we', 18, u'Photos', 'https://photos.google.com/?tab=wq', 19, u'Videos', 'https://www.google.com/search?hl=en&tbo=u&tbm=vid&source=og&tab=wv', 20, u'Docs', 'https://docs.google.com/document/?usp=docs_alc', 21, u'Even more \\xbb', 'https://www.google.com/intl/en/options/', 22, u'Sign in', 'https://accounts.google.com/ServiceLogin?hl=en&passive=true&continue=https://www.google.com/search%3Fq%3DData%2BScience', 23, u'', 'http://www.google.com/preferences?hl=en', 24, u'Search settings', '/preferences?hl=en', 25, u'Web History', 'http://www.google.com/history/optout?hl=en', 26, u'', '/webhp?hl=en', 27, u'Images', '/search?q=Data+Science&prmd=ivnsb&source=lnms&tbm=isch&sa=X&ved=0ahUKEwi90uqB88jNAhWKHD4KHRpaC4IQ_AUIBQ', 28, u'Videos', '/search?q=Data+Science&prmd=ivnsb&source=lnms&tbm=vid&sa=X&ved=0ahUKEwi90uqB88jNAhWKHD4KHRpaC4IQ_AUIBg', 29, u'News', '/search?q=Data+Science&prmd=ivnsb&source=lnms&tbm=nws&sa=X&ved=0ahUKEwi90uqB88jNAhWKHD4KHRpaC4IQ_AUIBw', 30, u'Shopping', '/search?q=Data+Science&prmd=ivnsb&source=lnms&tbm=shop&sa=X&ved=0ahUKEwi90uqB88jNAhWKHD4KHRpaC4IQ_AUICA', 31, u'Books', '/search?q=Data+Science&prmd=ivnsb&source=lnms&tbm=bks&sa=X&ved=0ahUKEwi90uqB88jNAhWKHD4KHRpaC4IQ_AUICQ', 32, u'Maps', 'https://maps.google.com/maps?q=Data+Science&um=1&ie=UTF-8&sa=X&ved=0ahUKEwi90uqB88jNAhWKHD4KHRpaC4IQ_AUICg', 33, u'Past hour', '/search?q=Data+Science&prmd=ivnsb&source=lnt&tbs=qdr:h&sa=X&ved=0ahUKEwi90uqB88jNAhWKHD4KHRpaC4IQpwUIDw', 34, u'Past 24 hours', '/search?q=Data+Science&prmd=ivnsb&source=lnt&tbs=qdr:d&sa=X&ved=0ahUKEwi90uqB88jNAhWKHD4KHRpaC4IQpwUIDw', 35, u'Past week', '/search?q=Data+Science&prmd=ivnsb&source=lnt&tbs=qdr:w&sa=X&ved=0ahUKEwi90uqB88jNAhWKHD4KHRpaC4IQpwUIDw', 36, u'Past month', '/search?q=Data+Science&prmd=ivnsb&source=lnt&tbs=qdr:m&sa=X&ved=0ahUKEwi90uqB88jNAhWKHD4KHRpaC4IQpwUIDw', 37, u'Past year', '/search?q=Data+Science&prmd=ivnsb&source=lnt&tbs=qdr:y&sa=X&ved=0ahUKEwi90uqB88jNAhWKHD4KHRpaC4IQpwUIDw', 38, u'Verbatim', '/search?q=Data+Science&prmd=ivnsb&source=lnt&tbs=li:1&sa=X&ved=0ahUKEwi90uqB88jNAhWKHD4KHRpaC4IQpwUIDw', 39, u'IBM Data Science Offering - First of a Kind Data Science - ibm.com', 'advertisement', 40, u'Why this ad?', '/url?q=/settings/ads/preferences%3Fhl%3Den&sa=U&ved=0ahUKEwi90uqB88jNAhWKHD4KHRpaC4IQgRMIFQ&usg=AFQjCNEAXNOZ62ka46D3FTH_48RcIwnQgw', 41, u'advertiser rating', '/shopping/seller?q=ibm.com&hl=en&sa=X&ved=0ahUKEwi90uqB88jNAhWKHD4KHRpaC4IQwQYIFw', 42, u'Use notebooks in the cloud for great data science', 'advertisement', 43, u'Data Science Jobs - indeed.com', 'advertisement', 44, u'Why this ad?', '/url?q=/settings/ads/preferences%3Fhl%3Den&sa=U&ved=0ahUKEwi90uqB88jNAhWKHD4KHRpaC4IQgRMIHQ&usg=AFQjCNEAXNOZ62ka46D3FTH_48RcIwnQgw', 45, u'Referral Bonus', 'advertisement', 46, u'Free for Candidates', 'advertisement', 47, u'For Employers', 'advertisement', 48, u'Data Science Consulting - Request a free demo today', 'advertisement', 49, u'Why this ad?', '/url?q=/settings/ads/preferences%3Fhl%3Den&sa=U&ved=0ahUKEwi90uqB88jNAhWKHD4KHRpaC4IQgRMIJg&usg=AFQjCNEAXNOZ62ka46D3FTH_48RcIwnQgw', 50, u'Become A Data Scientist - Join our 12 week intensive bootcamp', 'advertisement', 51, u'Why this ad?', '/url?q=/settings/ads/preferences%3Fhl%3Den&sa=U&ved=0ahUKEwi90uqB88jNAhWKHD4KHRpaC4IQgRMIKw&usg=AFQjCNEAXNOZ62ka46D3FTH_48RcIwnQgw', 52, u'Data Science Bootcamp', 'advertisement', 53, u'Short Courses', 'advertisement', 54, u'Student Projects', 'advertisement', 55, u'Corporate Training', 'advertisement', 56, u'Data science - Wikipedia, the free encyclopedia', '/url?q=https://en.wikipedia.org/wiki/Data_science&sa=U&ved=0ahUKEwi90uqB88jNAhWKHD4KHRpaC4IQFgg1MAA&usg=AFQjCNFQh0RwboJfKUkxOpkW7aPg9OGy3A', 57, u'Cached', '/url?q=http://webcache.googleusercontent.com/search%3Fq%3Dcache:0TLy5dtiWvwJ:https://en.wikipedia.org/wiki/Data_science%252BData%2BScience%26hl%3Den%26ct%3Dclnk&sa=U&ved=0ahUKEwi90uqB88jNAhWKHD4KHRpaC4IQIAg4MAA&usg=AFQjCNGdDA8WcVwNyiTnWn5m-aV4EGhamA', 58, u'Similar', '/search?q=related:https://en.wikipedia.org/wiki/Data_science+Data+Science&tbo=1&sa=X&ved=0ahUKEwi90uqB88jNAhWKHD4KHRpaC4IQHwg5MAA', 59, u'Overview', '/url?q=https://en.wikipedia.org/wiki/Data_science%23Overview&sa=U&ved=0ahUKEwi90uqB88jNAhWKHD4KHRpaC4IQ0gIIOygAMAA&usg=AFQjCNGBOuxrghbLoq3gGiAVmkJejPP6bg', 60, u'History', '/url?q=https://en.wikipedia.org/wiki/Data_science%23History&sa=U&ved=0ahUKEwi90uqB88jNAhWKHD4KHRpaC4IQ0gIIPCgBMAA&usg=AFQjCNEw6GDVfZimin4kufPbS-r71Ut8fA', 61, u'Domain specific interests', '/url?q=https://en.wikipedia.org/wiki/Data_science%23Domain_specific_interests&sa=U&ved=0ahUKEwi90uqB88jNAhWKHD4KHRpaC4IQ0gIIPSgCMAA&usg=AFQjCNEdG2Q5HsIzexYo6rS-TfTGpIR1MA', 62, u'Criticism', '/url?q=https://en.wikipedia.org/wiki/Data_science%23Criticism&sa=U&ved=0ahUKEwi90uqB88jNAhWKHD4KHRpaC4IQ0gIIPigDMAA&usg=AFQjCNFzbVrvYS0SIwnFMhc9PkQn08JKJA', 63, u'Data Science | Coursera', '/url?q=https://www.coursera.org/specializations/jhu-data-science&sa=U&ved=0ahUKEwi90uqB88jNAhWKHD4KHRpaC4IQFghAMAE&usg=AFQjCNEK59LpjiNInQWIC3fivzEiD7zICQ', 64, u'Cached', '/url?q=http://webcache.googleusercontent.com/search%3Fq%3Dcache:FLmQQ_RjoisJ:https://www.coursera.org/specializations/jhu-data-science%252BData%2BScience%26hl%3Den%26ct%3Dclnk&sa=U&ved=0ahUKEwi90uqB88jNAhWKHD4KHRpaC4IQIAhDMAE&usg=AFQjCNFiI51Uw6_-4BdyXZjoTbEwE1PPUg', 65, u'Similar', '/search?q=related:https://www.coursera.org/specializations/jhu-data-science+Data+Science&tbo=1&sa=X&ved=0ahUKEwi90uqB88jNAhWKHD4KHRpaC4IQHwhEMAE', 66, u'Data Science at NYU - New York University', '/url?q=http://datascience.nyu.edu/&sa=U&ved=0ahUKEwi90uqB88jNAhWKHD4KHRpaC4IQFghGMAI&usg=AFQjCNE6eEHKOE8v9038R-YnfVdcBu9lTw', 67, u'Cached', '/url?q=http://webcache.googleusercontent.com/search%3Fq%3Dcache:i15V01FkkrEJ:http://datascience.nyu.edu/%252BData%2BScience%26hl%3Den%26ct%3Dclnk&sa=U&ved=0ahUKEwi90uqB88jNAhWKHD4KHRpaC4IQIAhJMAI&usg=AFQjCNGxmXiW3CodITdT6wzMffbxWDRZ7A', 68, u'Similar', '/search?q=related:datascience.nyu.edu/+Data+Science&tbo=1&sa=X&ved=0ahUKEwi90uqB88jNAhWKHD4KHRpaC4IQHwhKMAI', 69, u'Intro to Data Science Online Course | Udacity', '/url?q=https://www.udacity.com/course/intro-to-data-science--ud359&sa=U&ved=0ahUKEwi90uqB88jNAhWKHD4KHRpaC4IQFghMMAM&usg=AFQjCNEpEPwQ5H--XzQPkAO7p_DeKEe6PA', 70, u'Cached', '/url?q=http://webcache.googleusercontent.com/search%3Fq%3Dcache:n8JCnEjMnysJ:https://www.udacity.com/course/intro-to-data-science--ud359%252BData%2BScience%26hl%3Den%26ct%3Dclnk&sa=U&ved=0ahUKEwi90uqB88jNAhWKHD4KHRpaC4IQIAhPMAM&usg=AFQjCNETH5H819adwrql8ZZU80EMf7WY4A', 71, u'Similar', '/search?q=related:https://www.udacity.com/course/intro-to-data-science--ud359+Data+Science&tbo=1&sa=X&ved=0ahUKEwi90uqB88jNAhWKHD4KHRpaC4IQHwhQMAM', 72, u'What is Data Science? - DataScience@Berkeley', '/url?q=https://datascience.berkeley.edu/about/what-is-data-science/&sa=U&ved=0ahUKEwi90uqB88jNAhWKHD4KHRpaC4IQFghSMAQ&usg=AFQjCNEBUaMPfWTilyBMTDJr63KQ3bQ63Q', 73, u'Cached', '/url?q=http://webcache.googleusercontent.com/search%3Fq%3Dcache:EGIx1bXGIvMJ:https://datascience.berkeley.edu/about/what-is-data-science/%252BData%2BScience%26hl%3Den%26ct%3Dclnk&sa=U&ved=0ahUKEwi90uqB88jNAhWKHD4KHRpaC4IQIAhVMAQ&usg=AFQjCNFg9oZLGaBuUujuhFHQr6EUQjVO-g', 74, u'Similar', '/search?q=related:https://datascience.berkeley.edu/about/what-is-data-science/+Data+Science&tbo=1&sa=X&ved=0ahUKEwi90uqB88jNAhWKHD4KHRpaC4IQHwhWMAQ', 75, u'Data Science Bootcamps - 12 week career prep | New York City and ...', '/url?q=http://www.thisismetis.com/data-science&sa=U&ved=0ahUKEwi90uqB88jNAhWKHD4KHRpaC4IQFghYMAU&usg=AFQjCNEctWcHv3fhA-CNQ7xFFoDovJ9SJg', 76, u'Cached', '/url?q=http://webcache.googleusercontent.com/search%3Fq%3Dcache:SC_vMOXMly8J:http://www.thisismetis.com/data-science%252BData%2BScience%26hl%3Den%26ct%3Dclnk&sa=U&ved=0ahUKEwi90uqB88jNAhWKHD4KHRpaC4IQIAhbMAU&usg=AFQjCNFpBC9h0AEN2S7C_x6k20KcOZQMRw', 77, u'Similar', '/search?q=related:www.thisismetis.com/data-science+Data+Science&tbo=1&sa=X&ved=0ahUKEwi90uqB88jNAhWKHD4KHRpaC4IQHwhcMAU', 78, u'News for Data Science', '/search?q=Data+Science&prmd=ivnsb&source=univ&tbm=nws&tbo=u&sa=X&ved=0ahUKEwi90uqB88jNAhWKHD4KHRpaC4IQqAIIXg', 79, u'', '/url?q=http://bgr.com/2016/06/27/dive-into-a-hot-career-in-data-science-with-45-hours-of-training/&sa=U&ved=0ahUKEwi90uqB88jNAhWKHD4KHRpaC4IQpwIIXw&usg=AFQjCNEhD8HmCeguMP4ZPxqUi0GUQNpO0Q', 80, u'Dive into a hot career in data science with 45 hours of training', '/url?q=http://bgr.com/2016/06/27/dive-into-a-hot-career-in-data-science-with-45-hours-of-training/&sa=U&ved=0ahUKEwi90uqB88jNAhWKHD4KHRpaC4IQqQIIYTAG&usg=AFQjCNEhD8HmCeguMP4ZPxqUi0GUQNpO0Q', 81, u'Why Investments In Big Data And Analytics Are Not Yet Paying Off', '/url?q=http://www.forbes.com/sites/bernardmarr/2016/06/27/why-investments-in-big-data-and-analytics-are-not-yet-paying-off/&sa=U&ved=0ahUKEwi90uqB88jNAhWKHD4KHRpaC4IQqQIIYzAH&usg=AFQjCNFzz-zgKsxoSa15GEV0zVOxmB7Ndg', 82, u'What Recruiters and Hiring Managers Are Looking for in a Data Scientist', '/url?q=http://dataconomy.com/recruiters-hiring-managers-looking-data-scientist/&sa=U&ved=0ahUKEwi90uqB88jNAhWKHD4KHRpaC4IQqQIIZTAI&usg=AFQjCNFw4w-Co5jqmWzzQkeP-lJBQeBenw', 83, u'Images for Data Science', '/search?q=Data+Science&prmd=ivnsb&tbm=isch&tbo=u&source=univ&sa=X&ved=0ahUKEwi90uqB88jNAhWKHD4KHRpaC4IQsAQIZw', 84, u'', '/url?q=http://www.forbes.com/sites/gilpress/2013/05/28/a-very-short-history-of-data-science/&sa=U&ved=0ahUKEwi90uqB88jNAhWKHD4KHRpaC4IQwW4IaTAJ&usg=AFQjCNGBjOXDv-PfX7ZEZXqwf5daU6-DRA', 85, u'', '/url?q=https://github.com/okulbilisim/awesome-datascience&sa=U&ved=0ahUKEwi90uqB88jNAhWKHD4KHRpaC4IQwW4IazAK&usg=AFQjCNHc5uOaVcUHcpiivqiafpw2VKvnFA', 86, u'', '/url?q=http://kamanja.org/team-effort-data-science/&sa=U&ved=0ahUKEwi90uqB88jNAhWKHD4KHRpaC4IQwW4IbTAL&usg=AFQjCNEP3Y5zVNJCOyf4yhJ4hldCnHD6dQ', 87, u'', '/url?q=https://news.cs.washington.edu/2013/11/12/uw-berkeley-nyu-collaborate-on-37-8m-data-science-initiative/&sa=U&ved=0ahUKEwi90uqB88jNAhWKHD4KHRpaC4IQwW4IbzAM&usg=AFQjCNE5mIXc7Ayi8E3SEbAQhuY-MnnRcQ', 88, u'', '/url?q=https://gcn.com/articles/2015/05/14/7-steps-data-science-success.aspx&sa=U&ved=0ahUKEwi90uqB88jNAhWKHD4KHRpaC4IQwW4IcTAN&usg=AFQjCNFqD-KmLGHKQvMuaguRZfBe9ZV0bg', 89, u'Data Science Essentials | edX', '/url?q=https://www.edx.org/course/data-science-essentials-microsoft-dat203-1x&sa=U&ved=0ahUKEwi90uqB88jNAhWKHD4KHRpaC4IQFghzMA4&usg=AFQjCNHr4TQFi9P25om-A5uRecQhnWaNPg', 90, u'Cached', '/url?q=http://webcache.googleusercontent.com/search%3Fq%3Dcache:fnrBkPtvg3IJ:https://www.edx.org/course/data-science-essentials-microsoft-dat203-1x%252BData%2BScience%26hl%3Den%26ct%3Dclnk&sa=U&ved=0ahUKEwi90uqB88jNAhWKHD4KHRpaC4IQIAh2MA4&usg=AFQjCNGIGC8yZmpMyG9ELCOZr7o8mht8SQ', 91, u'Data Science and Analytics in Context | edX', '/url?q=https://www.edx.org/xseries/data-science-analytics-context&sa=U&ved=0ahUKEwi90uqB88jNAhWKHD4KHRpaC4IQFgh4MA8&usg=AFQjCNFDC4Jfs3BNY5aPg-fHSaOlFYshdQ', 92, u'Cached', '/url?q=http://webcache.googleusercontent.com/search%3Fq%3Dcache:IpMMa23XhLcJ:https://www.edx.org/xseries/data-science-analytics-context%252BData%2BScience%26hl%3Den%26ct%3Dclnk&sa=U&ved=0ahUKEwi90uqB88jNAhWKHD4KHRpaC4IQIAh7MA8&usg=AFQjCNEtW875xWo6dv2e-DaqJrZ4lXr80g', 93, u'Similar', '/search?q=related:https://www.edx.org/xseries/data-science-analytics-context+Data+Science&tbo=1&sa=X&ved=0ahUKEwi90uqB88jNAhWKHD4KHRpaC4IQHwh8MA8', 94, u'Google Cloud Big Data - Build at the Speed of Google', 'advertisement', 95, u'Why this ad?', '/url?q=/settings/ads/preferences%3Fhl%3Den&sa=U&ved=0ahUKEwi90uqB88jNAhWKHD4KHRpaC4IQgRMIggE&usg=AFQjCNEAXNOZ62ka46D3FTH_48RcIwnQgw', 96, u'Deploy Bitnami Apps', 'advertisement', 97, u'Get Started', 'advertisement', 98, u'Compute Engine', 'advertisement', 99, u'Mobile & Data Solutions', 'advertisement', 100, u'Data Collection Guide', 'advertisement', 101, u'Why this ad?', '/url?q=/settings/ads/preferences%3Fhl%3Den&sa=U&ved=0ahUKEwi90uqB88jNAhWKHD4KHRpaC4IQgRMIjQE&usg=AFQjCNEAXNOZ62ka46D3FTH_48RcIwnQgw', 102, u'Data Science Certificate', 'advertisement', 103, u'Why this ad?', '/url?q=/settings/ads/preferences%3Fhl%3Den&sa=U&ved=0ahUKEwi90uqB88jNAhWKHD4KHRpaC4IQgRMIkgE&usg=AFQjCNEAXNOZ62ka46D3FTH_48RcIwnQgw', 104, u'data science jobs', '/search?q=data+science+jobs&sa=X&ved=0ahUKEwi90uqB88jNAhWKHD4KHRpaC4IQ1QIIlgEoAA', 105, u'data science masters', '/search?q=data+science+masters&sa=X&ved=0ahUKEwi90uqB88jNAhWKHD4KHRpaC4IQ1QIIlwEoAQ', 106, u'data science degree', '/search?q=data+science+degree&sa=X&ved=0ahUKEwi90uqB88jNAhWKHD4KHRpaC4IQ1QIImAEoAg', 107, u'data science definition', '/search?q=data+science+definition&sa=X&ved=0ahUKEwi90uqB88jNAhWKHD4KHRpaC4IQ1QIImQEoAw', 108, u'data science salary', '/search?q=data+science+salary&sa=X&ved=0ahUKEwi90uqB88jNAhWKHD4KHRpaC4IQ1QIImgEoBA', 109, u'data science books', '/search?q=data+science+books&sa=X&ved=0ahUKEwi90uqB88jNAhWKHD4KHRpaC4IQ1QIImwEoBQ', 110, u'data science course', '/search?q=data+science+course&sa=X&ved=0ahUKEwi90uqB88jNAhWKHD4KHRpaC4IQ1QIInAEoBg', 111, u'data science pdf', '/search?q=data+science+pdf&sa=X&ved=0ahUKEwi90uqB88jNAhWKHD4KHRpaC4IQ1QIInQEoBw', 112, u'2', '/search?q=Data+Science&prmd=ivnsb&ei=t3hxV_2aEYq5-AGatK2QCA&start=10&sa=N', 113, u'3', '/search?q=Data+Science&prmd=ivnsb&ei=t3hxV_2aEYq5-AGatK2QCA&start=20&sa=N', 114, u'4', '/search?q=Data+Science&prmd=ivnsb&ei=t3hxV_2aEYq5-AGatK2QCA&start=30&sa=N', 115, u'5', '/search?q=Data+Science&prmd=ivnsb&ei=t3hxV_2aEYq5-AGatK2QCA&start=40&sa=N', 116, u'6', '/search?q=Data+Science&prmd=ivnsb&ei=t3hxV_2aEYq5-AGatK2QCA&start=50&sa=N', 117, u'7', '/search?q=Data+Science&prmd=ivnsb&ei=t3hxV_2aEYq5-AGatK2QCA&start=60&sa=N', 118, u'8', '/search?q=Data+Science&prmd=ivnsb&ei=t3hxV_2aEYq5-AGatK2QCA&start=70&sa=N', 119, u'9', '/search?q=Data+Science&prmd=ivnsb&ei=t3hxV_2aEYq5-AGatK2QCA&start=80&sa=N', 120, u'10', '/search?q=Data+Science&prmd=ivnsb&ei=t3hxV_2aEYq5-AGatK2QCA&start=90&sa=N', 121, u'Next', '/search?q=Data+Science&prmd=ivnsb&ei=t3hxV_2aEYq5-AGatK2QCA&start=10&sa=N', 122, u'Advanced search', '/advanced_search?q=Data+Science&prmd=ivnsb', 123, u'Search Help', '/support/websearch/bin/answer.py?answer=134479&hl=en', 124, u'Send feedback', '/tools/feedback/survey/html?productId=196&query=Data+Science&hl=en', 125, u'Google\\xa0Home', '/', 126, u'Advertising\\xa0Programs', '/intl/en/ads', 127, u'Business Solutions', '/services', 128, u'Privacy', '/intl/en/policies/privacy/', 129, u'Terms', '/intl/en/policies/terms/', 130, u'About Google', '/intl/en/about.html']\n"
     ]
    }
   ],
   "source": [
    "from selenium import webdriver\n",
    "from IPython.core.display import HTML, Image\n",
    "\n",
    "driver = webdriver.PhantomJS(executable_path='/Users/HudsonCavanagh/Documents/phantomjs-2.1.1-macosx/bin/phantomjs')\n",
    "driver.set_window_size(1024, 768) \n",
    "\n",
    "driver.get('https://www.google.com/webhp?sourceid=chrome-instant&ion=1&espv=2&ie=UTF-8#q=Data+Science')\n",
    "driver.page_source\n",
    "# print(driver.page_source)\n",
    "\n",
    "ds_g_soup = BeautifulSoup(driver.page_source, \"lxml\") #would be driver.content if this is \n",
    "\n",
    "def advert(link):\n",
    "    if 'adurl=' in link:\n",
    "        return \"advertisement\"\n",
    "    else:\n",
    "        return link\n",
    "        \n",
    "scraped_list1 = []\n",
    "\n",
    "for rank, link in enumerate(ds_g_soup.findAll('a')):\n",
    "\n",
    "    #this works when i scraped it\n",
    "    \n",
    "#     scraped_list1.append(rank)\n",
    "#     scraped_list1.append(link.text)\n",
    "#     scraped_list1.append(advert(link['href']))\n",
    "\n",
    "# print(scraped_list1)\n",
    "    \n",
    "    \n",
    "# adurl="
   ]
  },
  {
   "cell_type": "code",
   "execution_count": 73,
   "metadata": {
    "collapsed": true
   },
   "outputs": [],
   "source": [
    "#FUNCTIONAL SOLUTION CODE\n",
    "\n",
    "link_list = []\n",
    "title_list = []\n",
    "\n",
    "for t in ds_g_soup.findAll(\"h3\", class_='r'):\n",
    "    full_path = t.find('a')['href']\n",
    "    full_title = t.find('a').text\n",
    "    if 'search' not in full_path:\n",
    "        link_list.append(full_path[7:])\n",
    "        title_list.append(full_title)"
   ]
  },
  {
   "cell_type": "code",
   "execution_count": 74,
   "metadata": {
    "collapsed": false,
    "scrolled": true
   },
   "outputs": [
    {
     "data": {
      "text/html": [
       "<div>\n",
       "<table border=\"1\" class=\"dataframe\">\n",
       "  <thead>\n",
       "    <tr style=\"text-align: right;\">\n",
       "      <th></th>\n",
       "      <th>title</th>\n",
       "      <th>links</th>\n",
       "    </tr>\n",
       "  </thead>\n",
       "  <tbody>\n",
       "    <tr>\n",
       "      <th>0</th>\n",
       "      <td>Data science - Wikipedia, the free encyclopedia</td>\n",
       "      <td>https://en.wikipedia.org/wiki/Data_science&amp;sa=...</td>\n",
       "    </tr>\n",
       "    <tr>\n",
       "      <th>1</th>\n",
       "      <td>Data Science | Coursera</td>\n",
       "      <td>https://www.coursera.org/specializations/jhu-d...</td>\n",
       "    </tr>\n",
       "    <tr>\n",
       "      <th>2</th>\n",
       "      <td>Data Science at NYU - New York University</td>\n",
       "      <td>http://datascience.nyu.edu/&amp;sa=U&amp;ved=0ahUKEwj3...</td>\n",
       "    </tr>\n",
       "    <tr>\n",
       "      <th>3</th>\n",
       "      <td>Intro to Data Science Online Course | Udacity</td>\n",
       "      <td>https://www.udacity.com/course/intro-to-data-s...</td>\n",
       "    </tr>\n",
       "    <tr>\n",
       "      <th>4</th>\n",
       "      <td>What is Data Science? - DataScience@Berkeley</td>\n",
       "      <td>https://datascience.berkeley.edu/about/what-is...</td>\n",
       "    </tr>\n",
       "    <tr>\n",
       "      <th>5</th>\n",
       "      <td>Data Science Bootcamps - 12 week career prep |...</td>\n",
       "      <td>http://www.thisismetis.com/data-science&amp;sa=U&amp;v...</td>\n",
       "    </tr>\n",
       "    <tr>\n",
       "      <th>6</th>\n",
       "      <td>Data Science Essentials | edX</td>\n",
       "      <td>https://www.edx.org/course/data-science-essent...</td>\n",
       "    </tr>\n",
       "    <tr>\n",
       "      <th>7</th>\n",
       "      <td>Data Science and Analytics in Context | edX</td>\n",
       "      <td>https://www.edx.org/xseries/data-science-analy...</td>\n",
       "    </tr>\n",
       "  </tbody>\n",
       "</table>\n",
       "</div>"
      ],
      "text/plain": [
       "                                               title  \\\n",
       "0    Data science - Wikipedia, the free encyclopedia   \n",
       "1                            Data Science | Coursera   \n",
       "2          Data Science at NYU - New York University   \n",
       "3      Intro to Data Science Online Course | Udacity   \n",
       "4       What is Data Science? - DataScience@Berkeley   \n",
       "5  Data Science Bootcamps - 12 week career prep |...   \n",
       "6                      Data Science Essentials | edX   \n",
       "7        Data Science and Analytics in Context | edX   \n",
       "\n",
       "                                               links  \n",
       "0  https://en.wikipedia.org/wiki/Data_science&sa=...  \n",
       "1  https://www.coursera.org/specializations/jhu-d...  \n",
       "2  http://datascience.nyu.edu/&sa=U&ved=0ahUKEwj3...  \n",
       "3  https://www.udacity.com/course/intro-to-data-s...  \n",
       "4  https://datascience.berkeley.edu/about/what-is...  \n",
       "5  http://www.thisismetis.com/data-science&sa=U&v...  \n",
       "6  https://www.edx.org/course/data-science-essent...  \n",
       "7  https://www.edx.org/xseries/data-science-analy...  "
      ]
     },
     "execution_count": 74,
     "metadata": {},
     "output_type": "execute_result"
    }
   ],
   "source": [
    "pd.DataFrame(zip(title_list, link_list), columns=['title', 'links'])"
   ]
  },
  {
   "cell_type": "code",
   "execution_count": null,
   "metadata": {
    "collapsed": false
   },
   "outputs": [],
   "source": []
  },
  {
   "cell_type": "code",
   "execution_count": null,
   "metadata": {
    "collapsed": true
   },
   "outputs": [],
   "source": []
  }
 ],
 "metadata": {
  "kernelspec": {
   "display_name": "Python 2",
   "language": "python",
   "name": "python2"
  },
  "language_info": {
   "codemirror_mode": {
    "name": "ipython",
    "version": 2
   },
   "file_extension": ".py",
   "mimetype": "text/x-python",
   "name": "python",
   "nbconvert_exporter": "python",
   "pygments_lexer": "ipython2",
   "version": "2.7.11"
  }
 },
 "nbformat": 4,
 "nbformat_minor": 0
}
